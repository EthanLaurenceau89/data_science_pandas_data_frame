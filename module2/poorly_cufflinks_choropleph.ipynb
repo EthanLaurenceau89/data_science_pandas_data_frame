{
 "cells": [
  {
   "cell_type": "markdown",
   "metadata": {},
   "source": [
    "# Choropleth Maps Exercise - Solutions\n",
    "\n",
    "Welcome to the Choropleth Maps Exercise! In this exercise we will give you some simple datasets and ask you to create Choropleth Maps from them. Due to the Nature of Plotly we can't show you examples embedded inside the notebook.\n",
    "\n",
    "[Full Documentation Reference](https://plot.ly/python/reference/#choropleth)\n",
    "\n",
    "## Plotly Imports"
   ]
  },
  {
   "cell_type": "code",
   "execution_count": 2,
   "metadata": {},
   "outputs": [],
   "source": [
    "from plotly import __version__"
   ]
  },
  {
   "cell_type": "code",
   "execution_count": 3,
   "metadata": {},
   "outputs": [
    {
     "name": "stdout",
     "output_type": "stream",
     "text": [
      "4.10.0\n"
     ]
    }
   ],
   "source": [
    "print(__version__)"
   ]
  },
  {
   "cell_type": "code",
   "execution_count": 9,
   "metadata": {
    "collapsed": true
   },
   "outputs": [
    {
     "name": "stdout",
     "output_type": "stream",
     "text": [
      "Requirement already satisfied: cufflinks in /Users/dmoussa/opt/anaconda3/lib/python3.7/site-packages (0.17.3)\n",
      "Requirement already satisfied: six>=1.9.0 in /Users/dmoussa/opt/anaconda3/lib/python3.7/site-packages (from cufflinks) (1.12.0)\n",
      "Requirement already satisfied: setuptools>=34.4.1 in /Users/dmoussa/opt/anaconda3/lib/python3.7/site-packages (from cufflinks) (41.4.0)\n",
      "Requirement already satisfied: ipywidgets>=7.0.0 in /Users/dmoussa/opt/anaconda3/lib/python3.7/site-packages (from cufflinks) (7.5.1)\n",
      "Requirement already satisfied: ipython>=5.3.0 in /Users/dmoussa/opt/anaconda3/lib/python3.7/site-packages (from cufflinks) (7.8.0)\n",
      "Requirement already satisfied: numpy>=1.9.2 in /Users/dmoussa/opt/anaconda3/lib/python3.7/site-packages (from cufflinks) (1.17.2)\n",
      "Requirement already satisfied: colorlover>=0.2.1 in /Users/dmoussa/opt/anaconda3/lib/python3.7/site-packages (from cufflinks) (0.3.0)\n",
      "Requirement already satisfied: pandas>=0.19.2 in /Users/dmoussa/opt/anaconda3/lib/python3.7/site-packages (from cufflinks) (1.1.2)\n",
      "Requirement already satisfied: plotly>=4.1.1 in /Users/dmoussa/opt/anaconda3/lib/python3.7/site-packages (from cufflinks) (4.10.0)\n",
      "Requirement already satisfied: widgetsnbextension~=3.5.0 in /Users/dmoussa/opt/anaconda3/lib/python3.7/site-packages (from ipywidgets>=7.0.0->cufflinks) (3.5.1)\n",
      "Requirement already satisfied: ipykernel>=4.5.1 in /Users/dmoussa/opt/anaconda3/lib/python3.7/site-packages (from ipywidgets>=7.0.0->cufflinks) (5.1.2)\n",
      "Requirement already satisfied: nbformat>=4.2.0 in /Users/dmoussa/opt/anaconda3/lib/python3.7/site-packages (from ipywidgets>=7.0.0->cufflinks) (4.4.0)\n",
      "Requirement already satisfied: traitlets>=4.3.1 in /Users/dmoussa/opt/anaconda3/lib/python3.7/site-packages (from ipywidgets>=7.0.0->cufflinks) (4.3.3)\n",
      "Requirement already satisfied: appnope; sys_platform == \"darwin\" in /Users/dmoussa/opt/anaconda3/lib/python3.7/site-packages (from ipython>=5.3.0->cufflinks) (0.1.0)\n",
      "Requirement already satisfied: jedi>=0.10 in /Users/dmoussa/opt/anaconda3/lib/python3.7/site-packages (from ipython>=5.3.0->cufflinks) (0.15.1)\n",
      "Requirement already satisfied: pygments in /Users/dmoussa/opt/anaconda3/lib/python3.7/site-packages (from ipython>=5.3.0->cufflinks) (2.4.2)\n",
      "Requirement already satisfied: pexpect; sys_platform != \"win32\" in /Users/dmoussa/opt/anaconda3/lib/python3.7/site-packages (from ipython>=5.3.0->cufflinks) (4.7.0)\n",
      "Requirement already satisfied: decorator in /Users/dmoussa/opt/anaconda3/lib/python3.7/site-packages (from ipython>=5.3.0->cufflinks) (4.4.0)\n",
      "Requirement already satisfied: pickleshare in /Users/dmoussa/opt/anaconda3/lib/python3.7/site-packages (from ipython>=5.3.0->cufflinks) (0.7.5)\n",
      "Requirement already satisfied: backcall in /Users/dmoussa/opt/anaconda3/lib/python3.7/site-packages (from ipython>=5.3.0->cufflinks) (0.1.0)\n",
      "Requirement already satisfied: prompt-toolkit<2.1.0,>=2.0.0 in /Users/dmoussa/opt/anaconda3/lib/python3.7/site-packages (from ipython>=5.3.0->cufflinks) (2.0.10)\n",
      "Requirement already satisfied: pytz>=2017.2 in /Users/dmoussa/opt/anaconda3/lib/python3.7/site-packages (from pandas>=0.19.2->cufflinks) (2019.3)\n",
      "Requirement already satisfied: python-dateutil>=2.7.3 in /Users/dmoussa/opt/anaconda3/lib/python3.7/site-packages (from pandas>=0.19.2->cufflinks) (2.8.0)\n",
      "Requirement already satisfied: retrying>=1.3.3 in /Users/dmoussa/opt/anaconda3/lib/python3.7/site-packages (from plotly>=4.1.1->cufflinks) (1.3.3)\n",
      "Requirement already satisfied: notebook>=4.4.1 in /Users/dmoussa/opt/anaconda3/lib/python3.7/site-packages (from widgetsnbextension~=3.5.0->ipywidgets>=7.0.0->cufflinks) (6.0.1)\n",
      "Requirement already satisfied: jupyter-client in /Users/dmoussa/opt/anaconda3/lib/python3.7/site-packages (from ipykernel>=4.5.1->ipywidgets>=7.0.0->cufflinks) (5.3.3)\n",
      "Requirement already satisfied: tornado>=4.2 in /Users/dmoussa/opt/anaconda3/lib/python3.7/site-packages (from ipykernel>=4.5.1->ipywidgets>=7.0.0->cufflinks) (6.0.3)\n",
      "Requirement already satisfied: jsonschema!=2.5.0,>=2.4 in /Users/dmoussa/opt/anaconda3/lib/python3.7/site-packages (from nbformat>=4.2.0->ipywidgets>=7.0.0->cufflinks) (3.0.2)\n",
      "Requirement already satisfied: jupyter-core in /Users/dmoussa/opt/anaconda3/lib/python3.7/site-packages (from nbformat>=4.2.0->ipywidgets>=7.0.0->cufflinks) (4.5.0)\n",
      "Requirement already satisfied: ipython-genutils in /Users/dmoussa/opt/anaconda3/lib/python3.7/site-packages (from nbformat>=4.2.0->ipywidgets>=7.0.0->cufflinks) (0.2.0)\n",
      "Requirement already satisfied: parso>=0.5.0 in /Users/dmoussa/opt/anaconda3/lib/python3.7/site-packages (from jedi>=0.10->ipython>=5.3.0->cufflinks) (0.5.1)\n",
      "Requirement already satisfied: ptyprocess>=0.5 in /Users/dmoussa/opt/anaconda3/lib/python3.7/site-packages (from pexpect; sys_platform != \"win32\"->ipython>=5.3.0->cufflinks) (0.6.0)\n",
      "Requirement already satisfied: wcwidth in /Users/dmoussa/opt/anaconda3/lib/python3.7/site-packages (from prompt-toolkit<2.1.0,>=2.0.0->ipython>=5.3.0->cufflinks) (0.1.7)\n",
      "Requirement already satisfied: nbconvert in /Users/dmoussa/opt/anaconda3/lib/python3.7/site-packages (from notebook>=4.4.1->widgetsnbextension~=3.5.0->ipywidgets>=7.0.0->cufflinks) (5.6.0)\n",
      "Requirement already satisfied: terminado>=0.8.1 in /Users/dmoussa/opt/anaconda3/lib/python3.7/site-packages (from notebook>=4.4.1->widgetsnbextension~=3.5.0->ipywidgets>=7.0.0->cufflinks) (0.8.2)\n",
      "Requirement already satisfied: prometheus-client in /Users/dmoussa/opt/anaconda3/lib/python3.7/site-packages (from notebook>=4.4.1->widgetsnbextension~=3.5.0->ipywidgets>=7.0.0->cufflinks) (0.7.1)\n",
      "Requirement already satisfied: Send2Trash in /Users/dmoussa/opt/anaconda3/lib/python3.7/site-packages (from notebook>=4.4.1->widgetsnbextension~=3.5.0->ipywidgets>=7.0.0->cufflinks) (1.5.0)\n",
      "Requirement already satisfied: jinja2 in /Users/dmoussa/opt/anaconda3/lib/python3.7/site-packages (from notebook>=4.4.1->widgetsnbextension~=3.5.0->ipywidgets>=7.0.0->cufflinks) (2.11.2)\n",
      "Requirement already satisfied: pyzmq>=17 in /Users/dmoussa/opt/anaconda3/lib/python3.7/site-packages (from notebook>=4.4.1->widgetsnbextension~=3.5.0->ipywidgets>=7.0.0->cufflinks) (18.1.0)\n",
      "Requirement already satisfied: attrs>=17.4.0 in /Users/dmoussa/opt/anaconda3/lib/python3.7/site-packages (from jsonschema!=2.5.0,>=2.4->nbformat>=4.2.0->ipywidgets>=7.0.0->cufflinks) (20.2.0)\n",
      "Requirement already satisfied: pyrsistent>=0.14.0 in /Users/dmoussa/opt/anaconda3/lib/python3.7/site-packages (from jsonschema!=2.5.0,>=2.4->nbformat>=4.2.0->ipywidgets>=7.0.0->cufflinks) (0.15.4)\n",
      "Requirement already satisfied: testpath in /Users/dmoussa/opt/anaconda3/lib/python3.7/site-packages (from nbconvert->notebook>=4.4.1->widgetsnbextension~=3.5.0->ipywidgets>=7.0.0->cufflinks) (0.4.2)\n",
      "Requirement already satisfied: entrypoints>=0.2.2 in /Users/dmoussa/opt/anaconda3/lib/python3.7/site-packages (from nbconvert->notebook>=4.4.1->widgetsnbextension~=3.5.0->ipywidgets>=7.0.0->cufflinks) (0.3)\n",
      "Requirement already satisfied: pandocfilters>=1.4.1 in /Users/dmoussa/opt/anaconda3/lib/python3.7/site-packages (from nbconvert->notebook>=4.4.1->widgetsnbextension~=3.5.0->ipywidgets>=7.0.0->cufflinks) (1.4.2)\n",
      "Requirement already satisfied: defusedxml in /Users/dmoussa/opt/anaconda3/lib/python3.7/site-packages (from nbconvert->notebook>=4.4.1->widgetsnbextension~=3.5.0->ipywidgets>=7.0.0->cufflinks) (0.6.0)\n",
      "Requirement already satisfied: mistune<2,>=0.8.1 in /Users/dmoussa/opt/anaconda3/lib/python3.7/site-packages (from nbconvert->notebook>=4.4.1->widgetsnbextension~=3.5.0->ipywidgets>=7.0.0->cufflinks) (0.8.4)\n",
      "Requirement already satisfied: bleach in /Users/dmoussa/opt/anaconda3/lib/python3.7/site-packages (from nbconvert->notebook>=4.4.1->widgetsnbextension~=3.5.0->ipywidgets>=7.0.0->cufflinks) (3.1.0)\n",
      "Requirement already satisfied: MarkupSafe>=0.23 in /Users/dmoussa/opt/anaconda3/lib/python3.7/site-packages (from jinja2->notebook>=4.4.1->widgetsnbextension~=3.5.0->ipywidgets>=7.0.0->cufflinks) (1.1.1)\n",
      "Requirement already satisfied: webencodings in /Users/dmoussa/opt/anaconda3/lib/python3.7/site-packages (from bleach->nbconvert->notebook>=4.4.1->widgetsnbextension~=3.5.0->ipywidgets>=7.0.0->cufflinks) (0.5.1)\n"
     ]
    }
   ],
   "source": [
    "#!pip install plotly\n",
    "!pip install cufflinks"
   ]
  },
  {
   "cell_type": "code",
   "execution_count": 12,
   "metadata": {},
   "outputs": [],
   "source": [
    "import numpy as np\n",
    "import pandas as pd\n",
    "import matplotlib.pyplot as plt\n",
    "%matplotlib inline"
   ]
  },
  {
   "cell_type": "code",
   "execution_count": 10,
   "metadata": {},
   "outputs": [],
   "source": [
    "import cufflinks as cf"
   ]
  },
  {
   "cell_type": "code",
   "execution_count": 11,
   "metadata": {},
   "outputs": [
    {
     "data": {
      "text/html": [
       "        <script type=\"text/javascript\">\n",
       "        window.PlotlyConfig = {MathJaxConfig: 'local'};\n",
       "        if (window.MathJax) {MathJax.Hub.Config({SVG: {font: \"STIX-Web\"}});}\n",
       "        if (typeof require !== 'undefined') {\n",
       "        require.undef(\"plotly\");\n",
       "        requirejs.config({\n",
       "            paths: {\n",
       "                'plotly': ['https://cdn.plot.ly/plotly-latest.min']\n",
       "            }\n",
       "        });\n",
       "        require(['plotly'], function(Plotly) {\n",
       "            window._Plotly = Plotly;\n",
       "        });\n",
       "        }\n",
       "        </script>\n",
       "        "
      ]
     },
     "metadata": {},
     "output_type": "display_data"
    }
   ],
   "source": [
    "#Notebook\n",
    "cf.go_offline()"
   ]
  },
  {
   "cell_type": "code",
   "execution_count": 13,
   "metadata": {},
   "outputs": [],
   "source": [
    "#Fake Data\n",
    "fake_df = pd.DataFrame(np.random.randn(100,4), columns ='A B C D'.split())"
   ]
  },
  {
   "cell_type": "code",
   "execution_count": 14,
   "metadata": {},
   "outputs": [
    {
     "data": {
      "text/html": [
       "<div>\n",
       "<style scoped>\n",
       "    .dataframe tbody tr th:only-of-type {\n",
       "        vertical-align: middle;\n",
       "    }\n",
       "\n",
       "    .dataframe tbody tr th {\n",
       "        vertical-align: top;\n",
       "    }\n",
       "\n",
       "    .dataframe thead th {\n",
       "        text-align: right;\n",
       "    }\n",
       "</style>\n",
       "<table border=\"1\" class=\"dataframe\">\n",
       "  <thead>\n",
       "    <tr style=\"text-align: right;\">\n",
       "      <th></th>\n",
       "      <th>A</th>\n",
       "      <th>B</th>\n",
       "      <th>C</th>\n",
       "      <th>D</th>\n",
       "    </tr>\n",
       "  </thead>\n",
       "  <tbody>\n",
       "    <tr>\n",
       "      <th>0</th>\n",
       "      <td>0.517659</td>\n",
       "      <td>-2.062328</td>\n",
       "      <td>-0.487279</td>\n",
       "      <td>0.008653</td>\n",
       "    </tr>\n",
       "    <tr>\n",
       "      <th>1</th>\n",
       "      <td>0.261190</td>\n",
       "      <td>0.878690</td>\n",
       "      <td>-0.528288</td>\n",
       "      <td>-0.794961</td>\n",
       "    </tr>\n",
       "    <tr>\n",
       "      <th>2</th>\n",
       "      <td>-2.077044</td>\n",
       "      <td>1.187425</td>\n",
       "      <td>-0.272096</td>\n",
       "      <td>1.028004</td>\n",
       "    </tr>\n",
       "    <tr>\n",
       "      <th>3</th>\n",
       "      <td>0.437613</td>\n",
       "      <td>0.620422</td>\n",
       "      <td>0.444740</td>\n",
       "      <td>0.816442</td>\n",
       "    </tr>\n",
       "    <tr>\n",
       "      <th>4</th>\n",
       "      <td>-0.797277</td>\n",
       "      <td>1.824666</td>\n",
       "      <td>-1.414718</td>\n",
       "      <td>0.617728</td>\n",
       "    </tr>\n",
       "  </tbody>\n",
       "</table>\n",
       "</div>"
      ],
      "text/plain": [
       "          A         B         C         D\n",
       "0  0.517659 -2.062328 -0.487279  0.008653\n",
       "1  0.261190  0.878690 -0.528288 -0.794961\n",
       "2 -2.077044  1.187425 -0.272096  1.028004\n",
       "3  0.437613  0.620422  0.444740  0.816442\n",
       "4 -0.797277  1.824666 -1.414718  0.617728"
      ]
     },
     "execution_count": 14,
     "metadata": {},
     "output_type": "execute_result"
    }
   ],
   "source": [
    "fake_df.head()"
   ]
  },
  {
   "cell_type": "code",
   "execution_count": 15,
   "metadata": {},
   "outputs": [],
   "source": [
    "df2 = pd.DataFrame({'Category':['A', 'B','C'], 'Values':[32,43,50]})"
   ]
  },
  {
   "cell_type": "markdown",
   "metadata": {},
   "source": [
    "* scatter\n",
    "* bar\n",
    "* box\n",
    "* spread\n",
    "* ratio\n",
    "* heatmap\n",
    "* surface\n",
    "* histogram"
   ]
  },
  {
   "cell_type": "markdown",
   "metadata": {},
   "source": [
    "# Scatter"
   ]
  },
  {
   "cell_type": "code",
   "execution_count": 17,
   "metadata": {},
   "outputs": [
    {
     "data": {
      "application/vnd.plotly.v1+json": {
       "config": {
        "linkText": "Export to plot.ly",
        "plotlyServerURL": "https://plot.ly",
        "showLink": true
       },
       "data": [
        {
         "line": {
          "color": "rgba(255, 153, 51, 1.0)",
          "dash": "solid",
          "shape": "linear",
          "width": 1.3
         },
         "marker": {
          "size": 12,
          "symbol": "circle"
         },
         "mode": "markers",
         "name": "B",
         "text": "",
         "type": "scatter",
         "x": [
          0.5176590531969488,
          0.2611900186917925,
          -2.0770443227929434,
          0.4376128613752404,
          -0.7972765755299147,
          -0.9781925854562078,
          0.021787211156948774,
          -1.8227103978927501,
          1.7661994574612905,
          0.6140684305177554,
          -0.10348408002873685,
          -0.005438269546051754,
          0.14564690286116566,
          -1.6019204582868,
          0.36412650919654904,
          1.8933456811942735,
          0.5580880070310005,
          -1.6721324428771815,
          -0.7640725461546174,
          -0.01743915243591418,
          0.6748540001753083,
          0.7920643030147945,
          -0.8170164432005932,
          -0.40348005188696673,
          0.6539188908047413,
          -0.12400523728931026,
          1.4032160617444647,
          -0.5827443655439306,
          1.1703201043257259,
          -1.3220783976434485,
          0.27017141466012873,
          1.130033689636446,
          -0.19781497959524116,
          0.9146218319990627,
          0.6788744017706305,
          0.7263896841237812,
          -0.4270625982491659,
          1.7771258173188988,
          1.7255189854877893,
          0.10071803173376356,
          0.5584259746959217,
          -0.35980148623036257,
          0.27320206594699464,
          -0.9058148329762855,
          0.6655637328672925,
          0.737591189163516,
          0.42918978634587096,
          -0.667396753774752,
          0.33121038394063146,
          -0.38186248928384686,
          0.4080848294364657,
          1.7446010964370207,
          2.7769588024238145,
          -0.0500309548669025,
          0.1734318857601251,
          -0.560498934672177,
          0.0615027213603778,
          -0.5563384887782385,
          0.6872170531367844,
          1.3085125570269542,
          0.8658386492120068,
          -0.41384192152811716,
          -0.5748894712834556,
          -0.046030262702725415,
          -0.7834661261224901,
          0.33669600457694904,
          0.5649402937564677,
          0.7412011360451405,
          0.03744861967029218,
          -0.31441728987996154,
          0.12757226281435682,
          1.4278042432171743,
          -0.10084618653539616,
          0.44337571123088204,
          0.639743871777665,
          0.05751155640936568,
          0.5562572498216152,
          -0.1992962817147566,
          1.777203558993544,
          0.3884239255669419,
          0.5974152051587482,
          -2.336551059610256,
          0.37178139089325507,
          -0.6083978716388516,
          1.4014589342993968,
          -0.707138581612621,
          -0.15707032363071047,
          -0.599796745012966,
          -0.5280305545087325,
          0.13617931710002912,
          0.20729333459661806,
          0.9195443365275761,
          -1.3027488740641358,
          -0.22063075065637314,
          -0.9410102187865621,
          -0.889314187063548,
          1.0927712482439207,
          0.42244762596411395,
          0.23878587815304225,
          -1.5437470888769478
         ],
         "y": [
          -2.062328018719915,
          0.8786899411904887,
          1.1874249981439793,
          0.620421760886563,
          1.8246664737333786,
          -0.5685579142811606,
          0.3088839923239217,
          -1.0084687897342672,
          2.0771684696654575,
          1.7617473144705262,
          0.5218737819883743,
          1.216892180797244,
          -0.6847447329719094,
          0.826588825933059,
          2.6200333634388415,
          2.027364798276653,
          0.46666153606323296,
          0.6321266035330925,
          0.10354350260081757,
          -1.4589818998144466,
          1.0316131049729904,
          -0.4343505887332764,
          0.15860458063757982,
          0.41074091507419974,
          1.438825016119307,
          0.25298155971555386,
          0.46729325225147283,
          0.2936712849184672,
          -1.2348037110121215,
          -0.10345781303290143,
          -0.012482275553756294,
          -0.4475322156922826,
          -1.1414119122054063,
          1.6628239176950863,
          1.7068757940201402,
          -0.6201760521654056,
          1.4276529258902466,
          1.443110863145192,
          -0.0025796355047607586,
          -0.2837037736078109,
          -0.1487082196497076,
          2.4894492822509338,
          1.852621410994538,
          0.8612759018913871,
          0.8478792360988995,
          0.5229295789614508,
          0.1098334359498861,
          0.2612972220104098,
          -1.792210724907832,
          -0.3742743391106684,
          -1.4474845739003757,
          0.23369699704612115,
          -0.3998708578038428,
          -0.3238301112207704,
          -0.3638097440063624,
          0.7677830069036755,
          -0.9560266895216887,
          -1.2620487398743916,
          -0.03370315564410422,
          0.7163516147304333,
          -0.5732647969071828,
          0.07060724906093349,
          0.4459274755835238,
          0.650618412269321,
          -1.0244672632772345,
          -0.6681332442599868,
          -0.9722001914014322,
          0.45238929472010353,
          -2.8035768324235644,
          0.9014287430239033,
          1.319467095259805,
          0.814749966559747,
          -1.6194588318172127,
          1.810232824196542,
          -0.34028761466536867,
          -1.1591663343929903,
          -0.06465852470255785,
          1.7281846836066086,
          -0.8877610317705266,
          0.28713523914667666,
          0.2274495262561486,
          1.5675547163890926,
          0.01636233235734836,
          -0.46263266260882785,
          1.4710093187284892,
          2.008148901429391,
          -0.07354278241686084,
          0.741500628831564,
          -0.29140165890473285,
          -0.4392997604281096,
          -0.4367500190228618,
          2.0212482820418307,
          0.3225503619977586,
          1.6557249579245188,
          -1.2396003969104676,
          0.9414280160172462,
          1.5208718204530265,
          0.43530949652827217,
          0.9965272851620621,
          -0.3126121992418231
         ]
        }
       ],
       "layout": {
        "legend": {
         "bgcolor": "#F5F6F9",
         "font": {
          "color": "#4D5663"
         }
        },
        "paper_bgcolor": "#F5F6F9",
        "plot_bgcolor": "#F5F6F9",
        "template": {
         "data": {
          "bar": [
           {
            "error_x": {
             "color": "#2a3f5f"
            },
            "error_y": {
             "color": "#2a3f5f"
            },
            "marker": {
             "line": {
              "color": "#E5ECF6",
              "width": 0.5
             }
            },
            "type": "bar"
           }
          ],
          "barpolar": [
           {
            "marker": {
             "line": {
              "color": "#E5ECF6",
              "width": 0.5
             }
            },
            "type": "barpolar"
           }
          ],
          "carpet": [
           {
            "aaxis": {
             "endlinecolor": "#2a3f5f",
             "gridcolor": "white",
             "linecolor": "white",
             "minorgridcolor": "white",
             "startlinecolor": "#2a3f5f"
            },
            "baxis": {
             "endlinecolor": "#2a3f5f",
             "gridcolor": "white",
             "linecolor": "white",
             "minorgridcolor": "white",
             "startlinecolor": "#2a3f5f"
            },
            "type": "carpet"
           }
          ],
          "choropleth": [
           {
            "colorbar": {
             "outlinewidth": 0,
             "ticks": ""
            },
            "type": "choropleth"
           }
          ],
          "contour": [
           {
            "colorbar": {
             "outlinewidth": 0,
             "ticks": ""
            },
            "colorscale": [
             [
              0,
              "#0d0887"
             ],
             [
              0.1111111111111111,
              "#46039f"
             ],
             [
              0.2222222222222222,
              "#7201a8"
             ],
             [
              0.3333333333333333,
              "#9c179e"
             ],
             [
              0.4444444444444444,
              "#bd3786"
             ],
             [
              0.5555555555555556,
              "#d8576b"
             ],
             [
              0.6666666666666666,
              "#ed7953"
             ],
             [
              0.7777777777777778,
              "#fb9f3a"
             ],
             [
              0.8888888888888888,
              "#fdca26"
             ],
             [
              1,
              "#f0f921"
             ]
            ],
            "type": "contour"
           }
          ],
          "contourcarpet": [
           {
            "colorbar": {
             "outlinewidth": 0,
             "ticks": ""
            },
            "type": "contourcarpet"
           }
          ],
          "heatmap": [
           {
            "colorbar": {
             "outlinewidth": 0,
             "ticks": ""
            },
            "colorscale": [
             [
              0,
              "#0d0887"
             ],
             [
              0.1111111111111111,
              "#46039f"
             ],
             [
              0.2222222222222222,
              "#7201a8"
             ],
             [
              0.3333333333333333,
              "#9c179e"
             ],
             [
              0.4444444444444444,
              "#bd3786"
             ],
             [
              0.5555555555555556,
              "#d8576b"
             ],
             [
              0.6666666666666666,
              "#ed7953"
             ],
             [
              0.7777777777777778,
              "#fb9f3a"
             ],
             [
              0.8888888888888888,
              "#fdca26"
             ],
             [
              1,
              "#f0f921"
             ]
            ],
            "type": "heatmap"
           }
          ],
          "heatmapgl": [
           {
            "colorbar": {
             "outlinewidth": 0,
             "ticks": ""
            },
            "colorscale": [
             [
              0,
              "#0d0887"
             ],
             [
              0.1111111111111111,
              "#46039f"
             ],
             [
              0.2222222222222222,
              "#7201a8"
             ],
             [
              0.3333333333333333,
              "#9c179e"
             ],
             [
              0.4444444444444444,
              "#bd3786"
             ],
             [
              0.5555555555555556,
              "#d8576b"
             ],
             [
              0.6666666666666666,
              "#ed7953"
             ],
             [
              0.7777777777777778,
              "#fb9f3a"
             ],
             [
              0.8888888888888888,
              "#fdca26"
             ],
             [
              1,
              "#f0f921"
             ]
            ],
            "type": "heatmapgl"
           }
          ],
          "histogram": [
           {
            "marker": {
             "colorbar": {
              "outlinewidth": 0,
              "ticks": ""
             }
            },
            "type": "histogram"
           }
          ],
          "histogram2d": [
           {
            "colorbar": {
             "outlinewidth": 0,
             "ticks": ""
            },
            "colorscale": [
             [
              0,
              "#0d0887"
             ],
             [
              0.1111111111111111,
              "#46039f"
             ],
             [
              0.2222222222222222,
              "#7201a8"
             ],
             [
              0.3333333333333333,
              "#9c179e"
             ],
             [
              0.4444444444444444,
              "#bd3786"
             ],
             [
              0.5555555555555556,
              "#d8576b"
             ],
             [
              0.6666666666666666,
              "#ed7953"
             ],
             [
              0.7777777777777778,
              "#fb9f3a"
             ],
             [
              0.8888888888888888,
              "#fdca26"
             ],
             [
              1,
              "#f0f921"
             ]
            ],
            "type": "histogram2d"
           }
          ],
          "histogram2dcontour": [
           {
            "colorbar": {
             "outlinewidth": 0,
             "ticks": ""
            },
            "colorscale": [
             [
              0,
              "#0d0887"
             ],
             [
              0.1111111111111111,
              "#46039f"
             ],
             [
              0.2222222222222222,
              "#7201a8"
             ],
             [
              0.3333333333333333,
              "#9c179e"
             ],
             [
              0.4444444444444444,
              "#bd3786"
             ],
             [
              0.5555555555555556,
              "#d8576b"
             ],
             [
              0.6666666666666666,
              "#ed7953"
             ],
             [
              0.7777777777777778,
              "#fb9f3a"
             ],
             [
              0.8888888888888888,
              "#fdca26"
             ],
             [
              1,
              "#f0f921"
             ]
            ],
            "type": "histogram2dcontour"
           }
          ],
          "mesh3d": [
           {
            "colorbar": {
             "outlinewidth": 0,
             "ticks": ""
            },
            "type": "mesh3d"
           }
          ],
          "parcoords": [
           {
            "line": {
             "colorbar": {
              "outlinewidth": 0,
              "ticks": ""
             }
            },
            "type": "parcoords"
           }
          ],
          "pie": [
           {
            "automargin": true,
            "type": "pie"
           }
          ],
          "scatter": [
           {
            "marker": {
             "colorbar": {
              "outlinewidth": 0,
              "ticks": ""
             }
            },
            "type": "scatter"
           }
          ],
          "scatter3d": [
           {
            "line": {
             "colorbar": {
              "outlinewidth": 0,
              "ticks": ""
             }
            },
            "marker": {
             "colorbar": {
              "outlinewidth": 0,
              "ticks": ""
             }
            },
            "type": "scatter3d"
           }
          ],
          "scattercarpet": [
           {
            "marker": {
             "colorbar": {
              "outlinewidth": 0,
              "ticks": ""
             }
            },
            "type": "scattercarpet"
           }
          ],
          "scattergeo": [
           {
            "marker": {
             "colorbar": {
              "outlinewidth": 0,
              "ticks": ""
             }
            },
            "type": "scattergeo"
           }
          ],
          "scattergl": [
           {
            "marker": {
             "colorbar": {
              "outlinewidth": 0,
              "ticks": ""
             }
            },
            "type": "scattergl"
           }
          ],
          "scattermapbox": [
           {
            "marker": {
             "colorbar": {
              "outlinewidth": 0,
              "ticks": ""
             }
            },
            "type": "scattermapbox"
           }
          ],
          "scatterpolar": [
           {
            "marker": {
             "colorbar": {
              "outlinewidth": 0,
              "ticks": ""
             }
            },
            "type": "scatterpolar"
           }
          ],
          "scatterpolargl": [
           {
            "marker": {
             "colorbar": {
              "outlinewidth": 0,
              "ticks": ""
             }
            },
            "type": "scatterpolargl"
           }
          ],
          "scatterternary": [
           {
            "marker": {
             "colorbar": {
              "outlinewidth": 0,
              "ticks": ""
             }
            },
            "type": "scatterternary"
           }
          ],
          "surface": [
           {
            "colorbar": {
             "outlinewidth": 0,
             "ticks": ""
            },
            "colorscale": [
             [
              0,
              "#0d0887"
             ],
             [
              0.1111111111111111,
              "#46039f"
             ],
             [
              0.2222222222222222,
              "#7201a8"
             ],
             [
              0.3333333333333333,
              "#9c179e"
             ],
             [
              0.4444444444444444,
              "#bd3786"
             ],
             [
              0.5555555555555556,
              "#d8576b"
             ],
             [
              0.6666666666666666,
              "#ed7953"
             ],
             [
              0.7777777777777778,
              "#fb9f3a"
             ],
             [
              0.8888888888888888,
              "#fdca26"
             ],
             [
              1,
              "#f0f921"
             ]
            ],
            "type": "surface"
           }
          ],
          "table": [
           {
            "cells": {
             "fill": {
              "color": "#EBF0F8"
             },
             "line": {
              "color": "white"
             }
            },
            "header": {
             "fill": {
              "color": "#C8D4E3"
             },
             "line": {
              "color": "white"
             }
            },
            "type": "table"
           }
          ]
         },
         "layout": {
          "annotationdefaults": {
           "arrowcolor": "#2a3f5f",
           "arrowhead": 0,
           "arrowwidth": 1
          },
          "coloraxis": {
           "colorbar": {
            "outlinewidth": 0,
            "ticks": ""
           }
          },
          "colorscale": {
           "diverging": [
            [
             0,
             "#8e0152"
            ],
            [
             0.1,
             "#c51b7d"
            ],
            [
             0.2,
             "#de77ae"
            ],
            [
             0.3,
             "#f1b6da"
            ],
            [
             0.4,
             "#fde0ef"
            ],
            [
             0.5,
             "#f7f7f7"
            ],
            [
             0.6,
             "#e6f5d0"
            ],
            [
             0.7,
             "#b8e186"
            ],
            [
             0.8,
             "#7fbc41"
            ],
            [
             0.9,
             "#4d9221"
            ],
            [
             1,
             "#276419"
            ]
           ],
           "sequential": [
            [
             0,
             "#0d0887"
            ],
            [
             0.1111111111111111,
             "#46039f"
            ],
            [
             0.2222222222222222,
             "#7201a8"
            ],
            [
             0.3333333333333333,
             "#9c179e"
            ],
            [
             0.4444444444444444,
             "#bd3786"
            ],
            [
             0.5555555555555556,
             "#d8576b"
            ],
            [
             0.6666666666666666,
             "#ed7953"
            ],
            [
             0.7777777777777778,
             "#fb9f3a"
            ],
            [
             0.8888888888888888,
             "#fdca26"
            ],
            [
             1,
             "#f0f921"
            ]
           ],
           "sequentialminus": [
            [
             0,
             "#0d0887"
            ],
            [
             0.1111111111111111,
             "#46039f"
            ],
            [
             0.2222222222222222,
             "#7201a8"
            ],
            [
             0.3333333333333333,
             "#9c179e"
            ],
            [
             0.4444444444444444,
             "#bd3786"
            ],
            [
             0.5555555555555556,
             "#d8576b"
            ],
            [
             0.6666666666666666,
             "#ed7953"
            ],
            [
             0.7777777777777778,
             "#fb9f3a"
            ],
            [
             0.8888888888888888,
             "#fdca26"
            ],
            [
             1,
             "#f0f921"
            ]
           ]
          },
          "colorway": [
           "#636efa",
           "#EF553B",
           "#00cc96",
           "#ab63fa",
           "#FFA15A",
           "#19d3f3",
           "#FF6692",
           "#B6E880",
           "#FF97FF",
           "#FECB52"
          ],
          "font": {
           "color": "#2a3f5f"
          },
          "geo": {
           "bgcolor": "white",
           "lakecolor": "white",
           "landcolor": "#E5ECF6",
           "showlakes": true,
           "showland": true,
           "subunitcolor": "white"
          },
          "hoverlabel": {
           "align": "left"
          },
          "hovermode": "closest",
          "mapbox": {
           "style": "light"
          },
          "paper_bgcolor": "white",
          "plot_bgcolor": "#E5ECF6",
          "polar": {
           "angularaxis": {
            "gridcolor": "white",
            "linecolor": "white",
            "ticks": ""
           },
           "bgcolor": "#E5ECF6",
           "radialaxis": {
            "gridcolor": "white",
            "linecolor": "white",
            "ticks": ""
           }
          },
          "scene": {
           "xaxis": {
            "backgroundcolor": "#E5ECF6",
            "gridcolor": "white",
            "gridwidth": 2,
            "linecolor": "white",
            "showbackground": true,
            "ticks": "",
            "zerolinecolor": "white"
           },
           "yaxis": {
            "backgroundcolor": "#E5ECF6",
            "gridcolor": "white",
            "gridwidth": 2,
            "linecolor": "white",
            "showbackground": true,
            "ticks": "",
            "zerolinecolor": "white"
           },
           "zaxis": {
            "backgroundcolor": "#E5ECF6",
            "gridcolor": "white",
            "gridwidth": 2,
            "linecolor": "white",
            "showbackground": true,
            "ticks": "",
            "zerolinecolor": "white"
           }
          },
          "shapedefaults": {
           "line": {
            "color": "#2a3f5f"
           }
          },
          "ternary": {
           "aaxis": {
            "gridcolor": "white",
            "linecolor": "white",
            "ticks": ""
           },
           "baxis": {
            "gridcolor": "white",
            "linecolor": "white",
            "ticks": ""
           },
           "bgcolor": "#E5ECF6",
           "caxis": {
            "gridcolor": "white",
            "linecolor": "white",
            "ticks": ""
           }
          },
          "title": {
           "x": 0.05
          },
          "xaxis": {
           "automargin": true,
           "gridcolor": "white",
           "linecolor": "white",
           "ticks": "",
           "title": {
            "standoff": 15
           },
           "zerolinecolor": "white",
           "zerolinewidth": 2
          },
          "yaxis": {
           "automargin": true,
           "gridcolor": "white",
           "linecolor": "white",
           "ticks": "",
           "title": {
            "standoff": 15
           },
           "zerolinecolor": "white",
           "zerolinewidth": 2
          }
         }
        },
        "title": {
         "font": {
          "color": "#4D5663"
         }
        },
        "xaxis": {
         "gridcolor": "#E1E5ED",
         "showgrid": true,
         "tickfont": {
          "color": "#4D5663"
         },
         "title": {
          "font": {
           "color": "#4D5663"
          },
          "text": ""
         },
         "zerolinecolor": "#E1E5ED"
        },
        "yaxis": {
         "gridcolor": "#E1E5ED",
         "showgrid": true,
         "tickfont": {
          "color": "#4D5663"
         },
         "title": {
          "font": {
           "color": "#4D5663"
          },
          "text": ""
         },
         "zerolinecolor": "#E1E5ED"
        }
       }
      },
      "text/html": [
       "<div>                            <div id=\"0bdec4f7-b400-4382-9fa3-dab0f51bf5d1\" class=\"plotly-graph-div\" style=\"height:525px; width:100%;\"></div>            <script type=\"text/javascript\">                require([\"plotly\"], function(Plotly) {                    window.PLOTLYENV=window.PLOTLYENV || {};\n",
       "                    window.PLOTLYENV.BASE_URL='https://plot.ly';                                    if (document.getElementById(\"0bdec4f7-b400-4382-9fa3-dab0f51bf5d1\")) {                    Plotly.newPlot(                        \"0bdec4f7-b400-4382-9fa3-dab0f51bf5d1\",                        [{\"line\": {\"color\": \"rgba(255, 153, 51, 1.0)\", \"dash\": \"solid\", \"shape\": \"linear\", \"width\": 1.3}, \"marker\": {\"size\": 12, \"symbol\": \"circle\"}, \"mode\": \"markers\", \"name\": \"B\", \"text\": \"\", \"type\": \"scatter\", \"x\": [0.5176590531969488, 0.2611900186917925, -2.0770443227929434, 0.4376128613752404, -0.7972765755299147, -0.9781925854562078, 0.021787211156948774, -1.8227103978927501, 1.7661994574612905, 0.6140684305177554, -0.10348408002873685, -0.005438269546051754, 0.14564690286116566, -1.6019204582868, 0.36412650919654904, 1.8933456811942735, 0.5580880070310005, -1.6721324428771815, -0.7640725461546174, -0.01743915243591418, 0.6748540001753083, 0.7920643030147945, -0.8170164432005932, -0.40348005188696673, 0.6539188908047413, -0.12400523728931026, 1.4032160617444647, -0.5827443655439306, 1.1703201043257259, -1.3220783976434485, 0.27017141466012873, 1.130033689636446, -0.19781497959524116, 0.9146218319990627, 0.6788744017706305, 0.7263896841237812, -0.4270625982491659, 1.7771258173188988, 1.7255189854877893, 0.10071803173376356, 0.5584259746959217, -0.35980148623036257, 0.27320206594699464, -0.9058148329762855, 0.6655637328672925, 0.737591189163516, 0.42918978634587096, -0.667396753774752, 0.33121038394063146, -0.38186248928384686, 0.4080848294364657, 1.7446010964370207, 2.7769588024238145, -0.0500309548669025, 0.1734318857601251, -0.560498934672177, 0.0615027213603778, -0.5563384887782385, 0.6872170531367844, 1.3085125570269542, 0.8658386492120068, -0.41384192152811716, -0.5748894712834556, -0.046030262702725415, -0.7834661261224901, 0.33669600457694904, 0.5649402937564677, 0.7412011360451405, 0.03744861967029218, -0.31441728987996154, 0.12757226281435682, 1.4278042432171743, -0.10084618653539616, 0.44337571123088204, 0.639743871777665, 0.05751155640936568, 0.5562572498216152, -0.1992962817147566, 1.777203558993544, 0.3884239255669419, 0.5974152051587482, -2.336551059610256, 0.37178139089325507, -0.6083978716388516, 1.4014589342993968, -0.707138581612621, -0.15707032363071047, -0.599796745012966, -0.5280305545087325, 0.13617931710002912, 0.20729333459661806, 0.9195443365275761, -1.3027488740641358, -0.22063075065637314, -0.9410102187865621, -0.889314187063548, 1.0927712482439207, 0.42244762596411395, 0.23878587815304225, -1.5437470888769478], \"y\": [-2.062328018719915, 0.8786899411904887, 1.1874249981439793, 0.620421760886563, 1.8246664737333786, -0.5685579142811606, 0.3088839923239217, -1.0084687897342672, 2.0771684696654575, 1.7617473144705262, 0.5218737819883743, 1.216892180797244, -0.6847447329719094, 0.826588825933059, 2.6200333634388415, 2.027364798276653, 0.46666153606323296, 0.6321266035330925, 0.10354350260081757, -1.4589818998144466, 1.0316131049729904, -0.4343505887332764, 0.15860458063757982, 0.41074091507419974, 1.438825016119307, 0.25298155971555386, 0.46729325225147283, 0.2936712849184672, -1.2348037110121215, -0.10345781303290143, -0.012482275553756294, -0.4475322156922826, -1.1414119122054063, 1.6628239176950863, 1.7068757940201402, -0.6201760521654056, 1.4276529258902466, 1.443110863145192, -0.0025796355047607586, -0.2837037736078109, -0.1487082196497076, 2.4894492822509338, 1.852621410994538, 0.8612759018913871, 0.8478792360988995, 0.5229295789614508, 0.1098334359498861, 0.2612972220104098, -1.792210724907832, -0.3742743391106684, -1.4474845739003757, 0.23369699704612115, -0.3998708578038428, -0.3238301112207704, -0.3638097440063624, 0.7677830069036755, -0.9560266895216887, -1.2620487398743916, -0.03370315564410422, 0.7163516147304333, -0.5732647969071828, 0.07060724906093349, 0.4459274755835238, 0.650618412269321, -1.0244672632772345, -0.6681332442599868, -0.9722001914014322, 0.45238929472010353, -2.8035768324235644, 0.9014287430239033, 1.319467095259805, 0.814749966559747, -1.6194588318172127, 1.810232824196542, -0.34028761466536867, -1.1591663343929903, -0.06465852470255785, 1.7281846836066086, -0.8877610317705266, 0.28713523914667666, 0.2274495262561486, 1.5675547163890926, 0.01636233235734836, -0.46263266260882785, 1.4710093187284892, 2.008148901429391, -0.07354278241686084, 0.741500628831564, -0.29140165890473285, -0.4392997604281096, -0.4367500190228618, 2.0212482820418307, 0.3225503619977586, 1.6557249579245188, -1.2396003969104676, 0.9414280160172462, 1.5208718204530265, 0.43530949652827217, 0.9965272851620621, -0.3126121992418231]}],                        {\"legend\": {\"bgcolor\": \"#F5F6F9\", \"font\": {\"color\": \"#4D5663\"}}, \"paper_bgcolor\": \"#F5F6F9\", \"plot_bgcolor\": \"#F5F6F9\", \"template\": {\"data\": {\"bar\": [{\"error_x\": {\"color\": \"#2a3f5f\"}, \"error_y\": {\"color\": \"#2a3f5f\"}, \"marker\": {\"line\": {\"color\": \"#E5ECF6\", \"width\": 0.5}}, \"type\": \"bar\"}], \"barpolar\": [{\"marker\": {\"line\": {\"color\": \"#E5ECF6\", \"width\": 0.5}}, \"type\": \"barpolar\"}], \"carpet\": [{\"aaxis\": {\"endlinecolor\": \"#2a3f5f\", \"gridcolor\": \"white\", \"linecolor\": \"white\", \"minorgridcolor\": \"white\", \"startlinecolor\": \"#2a3f5f\"}, \"baxis\": {\"endlinecolor\": \"#2a3f5f\", \"gridcolor\": \"white\", \"linecolor\": \"white\", \"minorgridcolor\": \"white\", \"startlinecolor\": \"#2a3f5f\"}, \"type\": \"carpet\"}], \"choropleth\": [{\"colorbar\": {\"outlinewidth\": 0, \"ticks\": \"\"}, \"type\": \"choropleth\"}], \"contour\": [{\"colorbar\": {\"outlinewidth\": 0, \"ticks\": \"\"}, \"colorscale\": [[0.0, \"#0d0887\"], [0.1111111111111111, \"#46039f\"], [0.2222222222222222, \"#7201a8\"], [0.3333333333333333, \"#9c179e\"], [0.4444444444444444, \"#bd3786\"], [0.5555555555555556, \"#d8576b\"], [0.6666666666666666, \"#ed7953\"], [0.7777777777777778, \"#fb9f3a\"], [0.8888888888888888, \"#fdca26\"], [1.0, \"#f0f921\"]], \"type\": \"contour\"}], \"contourcarpet\": [{\"colorbar\": {\"outlinewidth\": 0, \"ticks\": \"\"}, \"type\": \"contourcarpet\"}], \"heatmap\": [{\"colorbar\": {\"outlinewidth\": 0, \"ticks\": \"\"}, \"colorscale\": [[0.0, \"#0d0887\"], [0.1111111111111111, \"#46039f\"], [0.2222222222222222, \"#7201a8\"], [0.3333333333333333, \"#9c179e\"], [0.4444444444444444, \"#bd3786\"], [0.5555555555555556, \"#d8576b\"], [0.6666666666666666, \"#ed7953\"], [0.7777777777777778, \"#fb9f3a\"], [0.8888888888888888, \"#fdca26\"], [1.0, \"#f0f921\"]], \"type\": \"heatmap\"}], \"heatmapgl\": [{\"colorbar\": {\"outlinewidth\": 0, \"ticks\": \"\"}, \"colorscale\": [[0.0, \"#0d0887\"], [0.1111111111111111, \"#46039f\"], [0.2222222222222222, \"#7201a8\"], [0.3333333333333333, \"#9c179e\"], [0.4444444444444444, \"#bd3786\"], [0.5555555555555556, \"#d8576b\"], [0.6666666666666666, \"#ed7953\"], [0.7777777777777778, \"#fb9f3a\"], [0.8888888888888888, \"#fdca26\"], [1.0, \"#f0f921\"]], \"type\": \"heatmapgl\"}], \"histogram\": [{\"marker\": {\"colorbar\": {\"outlinewidth\": 0, \"ticks\": \"\"}}, \"type\": \"histogram\"}], \"histogram2d\": [{\"colorbar\": {\"outlinewidth\": 0, \"ticks\": \"\"}, \"colorscale\": [[0.0, \"#0d0887\"], [0.1111111111111111, \"#46039f\"], [0.2222222222222222, \"#7201a8\"], [0.3333333333333333, \"#9c179e\"], [0.4444444444444444, \"#bd3786\"], [0.5555555555555556, \"#d8576b\"], [0.6666666666666666, \"#ed7953\"], [0.7777777777777778, \"#fb9f3a\"], [0.8888888888888888, \"#fdca26\"], [1.0, \"#f0f921\"]], \"type\": \"histogram2d\"}], \"histogram2dcontour\": [{\"colorbar\": {\"outlinewidth\": 0, \"ticks\": \"\"}, \"colorscale\": [[0.0, \"#0d0887\"], [0.1111111111111111, \"#46039f\"], [0.2222222222222222, \"#7201a8\"], [0.3333333333333333, \"#9c179e\"], [0.4444444444444444, \"#bd3786\"], [0.5555555555555556, \"#d8576b\"], [0.6666666666666666, \"#ed7953\"], [0.7777777777777778, \"#fb9f3a\"], [0.8888888888888888, \"#fdca26\"], [1.0, \"#f0f921\"]], \"type\": \"histogram2dcontour\"}], \"mesh3d\": [{\"colorbar\": {\"outlinewidth\": 0, \"ticks\": \"\"}, \"type\": \"mesh3d\"}], \"parcoords\": [{\"line\": {\"colorbar\": {\"outlinewidth\": 0, \"ticks\": \"\"}}, \"type\": \"parcoords\"}], \"pie\": [{\"automargin\": true, \"type\": \"pie\"}], \"scatter\": [{\"marker\": {\"colorbar\": {\"outlinewidth\": 0, \"ticks\": \"\"}}, \"type\": \"scatter\"}], \"scatter3d\": [{\"line\": {\"colorbar\": {\"outlinewidth\": 0, \"ticks\": \"\"}}, \"marker\": {\"colorbar\": {\"outlinewidth\": 0, \"ticks\": \"\"}}, \"type\": \"scatter3d\"}], \"scattercarpet\": [{\"marker\": {\"colorbar\": {\"outlinewidth\": 0, \"ticks\": \"\"}}, \"type\": \"scattercarpet\"}], \"scattergeo\": [{\"marker\": {\"colorbar\": {\"outlinewidth\": 0, \"ticks\": \"\"}}, \"type\": \"scattergeo\"}], \"scattergl\": [{\"marker\": {\"colorbar\": {\"outlinewidth\": 0, \"ticks\": \"\"}}, \"type\": \"scattergl\"}], \"scattermapbox\": [{\"marker\": {\"colorbar\": {\"outlinewidth\": 0, \"ticks\": \"\"}}, \"type\": \"scattermapbox\"}], \"scatterpolar\": [{\"marker\": {\"colorbar\": {\"outlinewidth\": 0, \"ticks\": \"\"}}, \"type\": \"scatterpolar\"}], \"scatterpolargl\": [{\"marker\": {\"colorbar\": {\"outlinewidth\": 0, \"ticks\": \"\"}}, \"type\": \"scatterpolargl\"}], \"scatterternary\": [{\"marker\": {\"colorbar\": {\"outlinewidth\": 0, \"ticks\": \"\"}}, \"type\": \"scatterternary\"}], \"surface\": [{\"colorbar\": {\"outlinewidth\": 0, \"ticks\": \"\"}, \"colorscale\": [[0.0, \"#0d0887\"], [0.1111111111111111, \"#46039f\"], [0.2222222222222222, \"#7201a8\"], [0.3333333333333333, \"#9c179e\"], [0.4444444444444444, \"#bd3786\"], [0.5555555555555556, \"#d8576b\"], [0.6666666666666666, \"#ed7953\"], [0.7777777777777778, \"#fb9f3a\"], [0.8888888888888888, \"#fdca26\"], [1.0, \"#f0f921\"]], \"type\": \"surface\"}], \"table\": [{\"cells\": {\"fill\": {\"color\": \"#EBF0F8\"}, \"line\": {\"color\": \"white\"}}, \"header\": {\"fill\": {\"color\": \"#C8D4E3\"}, \"line\": {\"color\": \"white\"}}, \"type\": \"table\"}]}, \"layout\": {\"annotationdefaults\": {\"arrowcolor\": \"#2a3f5f\", \"arrowhead\": 0, \"arrowwidth\": 1}, \"coloraxis\": {\"colorbar\": {\"outlinewidth\": 0, \"ticks\": \"\"}}, \"colorscale\": {\"diverging\": [[0, \"#8e0152\"], [0.1, \"#c51b7d\"], [0.2, \"#de77ae\"], [0.3, \"#f1b6da\"], [0.4, \"#fde0ef\"], [0.5, \"#f7f7f7\"], [0.6, \"#e6f5d0\"], [0.7, \"#b8e186\"], [0.8, \"#7fbc41\"], [0.9, \"#4d9221\"], [1, \"#276419\"]], \"sequential\": [[0.0, \"#0d0887\"], [0.1111111111111111, \"#46039f\"], [0.2222222222222222, \"#7201a8\"], [0.3333333333333333, \"#9c179e\"], [0.4444444444444444, \"#bd3786\"], [0.5555555555555556, \"#d8576b\"], [0.6666666666666666, \"#ed7953\"], [0.7777777777777778, \"#fb9f3a\"], [0.8888888888888888, \"#fdca26\"], [1.0, \"#f0f921\"]], \"sequentialminus\": [[0.0, \"#0d0887\"], [0.1111111111111111, \"#46039f\"], [0.2222222222222222, \"#7201a8\"], [0.3333333333333333, \"#9c179e\"], [0.4444444444444444, \"#bd3786\"], [0.5555555555555556, \"#d8576b\"], [0.6666666666666666, \"#ed7953\"], [0.7777777777777778, \"#fb9f3a\"], [0.8888888888888888, \"#fdca26\"], [1.0, \"#f0f921\"]]}, \"colorway\": [\"#636efa\", \"#EF553B\", \"#00cc96\", \"#ab63fa\", \"#FFA15A\", \"#19d3f3\", \"#FF6692\", \"#B6E880\", \"#FF97FF\", \"#FECB52\"], \"font\": {\"color\": \"#2a3f5f\"}, \"geo\": {\"bgcolor\": \"white\", \"lakecolor\": \"white\", \"landcolor\": \"#E5ECF6\", \"showlakes\": true, \"showland\": true, \"subunitcolor\": \"white\"}, \"hoverlabel\": {\"align\": \"left\"}, \"hovermode\": \"closest\", \"mapbox\": {\"style\": \"light\"}, \"paper_bgcolor\": \"white\", \"plot_bgcolor\": \"#E5ECF6\", \"polar\": {\"angularaxis\": {\"gridcolor\": \"white\", \"linecolor\": \"white\", \"ticks\": \"\"}, \"bgcolor\": \"#E5ECF6\", \"radialaxis\": {\"gridcolor\": \"white\", \"linecolor\": \"white\", \"ticks\": \"\"}}, \"scene\": {\"xaxis\": {\"backgroundcolor\": \"#E5ECF6\", \"gridcolor\": \"white\", \"gridwidth\": 2, \"linecolor\": \"white\", \"showbackground\": true, \"ticks\": \"\", \"zerolinecolor\": \"white\"}, \"yaxis\": {\"backgroundcolor\": \"#E5ECF6\", \"gridcolor\": \"white\", \"gridwidth\": 2, \"linecolor\": \"white\", \"showbackground\": true, \"ticks\": \"\", \"zerolinecolor\": \"white\"}, \"zaxis\": {\"backgroundcolor\": \"#E5ECF6\", \"gridcolor\": \"white\", \"gridwidth\": 2, \"linecolor\": \"white\", \"showbackground\": true, \"ticks\": \"\", \"zerolinecolor\": \"white\"}}, \"shapedefaults\": {\"line\": {\"color\": \"#2a3f5f\"}}, \"ternary\": {\"aaxis\": {\"gridcolor\": \"white\", \"linecolor\": \"white\", \"ticks\": \"\"}, \"baxis\": {\"gridcolor\": \"white\", \"linecolor\": \"white\", \"ticks\": \"\"}, \"bgcolor\": \"#E5ECF6\", \"caxis\": {\"gridcolor\": \"white\", \"linecolor\": \"white\", \"ticks\": \"\"}}, \"title\": {\"x\": 0.05}, \"xaxis\": {\"automargin\": true, \"gridcolor\": \"white\", \"linecolor\": \"white\", \"ticks\": \"\", \"title\": {\"standoff\": 15}, \"zerolinecolor\": \"white\", \"zerolinewidth\": 2}, \"yaxis\": {\"automargin\": true, \"gridcolor\": \"white\", \"linecolor\": \"white\", \"ticks\": \"\", \"title\": {\"standoff\": 15}, \"zerolinecolor\": \"white\", \"zerolinewidth\": 2}}}, \"title\": {\"font\": {\"color\": \"#4D5663\"}}, \"xaxis\": {\"gridcolor\": \"#E1E5ED\", \"showgrid\": true, \"tickfont\": {\"color\": \"#4D5663\"}, \"title\": {\"font\": {\"color\": \"#4D5663\"}, \"text\": \"\"}, \"zerolinecolor\": \"#E1E5ED\"}, \"yaxis\": {\"gridcolor\": \"#E1E5ED\", \"showgrid\": true, \"tickfont\": {\"color\": \"#4D5663\"}, \"title\": {\"font\": {\"color\": \"#4D5663\"}, \"text\": \"\"}, \"zerolinecolor\": \"#E1E5ED\"}},                        {\"showLink\": true, \"linkText\": \"Export to plot.ly\", \"plotlyServerURL\": \"https://plot.ly\", \"responsive\": true}                    ).then(function(){\n",
       "                            \n",
       "var gd = document.getElementById('0bdec4f7-b400-4382-9fa3-dab0f51bf5d1');\n",
       "var x = new MutationObserver(function (mutations, observer) {{\n",
       "        var display = window.getComputedStyle(gd).display;\n",
       "        if (!display || display === 'none') {{\n",
       "            console.log([gd, 'removed!']);\n",
       "            Plotly.purge(gd);\n",
       "            observer.disconnect();\n",
       "        }}\n",
       "}});\n",
       "\n",
       "// Listen for the removal of the full notebook cells\n",
       "var notebookContainer = gd.closest('#notebook-container');\n",
       "if (notebookContainer) {{\n",
       "    x.observe(notebookContainer, {childList: true});\n",
       "}}\n",
       "\n",
       "// Listen for the clearing of the current output cell\n",
       "var outputEl = gd.closest('.output');\n",
       "if (outputEl) {{\n",
       "    x.observe(outputEl, {childList: true});\n",
       "}}\n",
       "\n",
       "                        })                };                });            </script>        </div>"
      ]
     },
     "metadata": {},
     "output_type": "display_data"
    }
   ],
   "source": [
    "fake_df.iplot(kind='scatter', x='A', y='B', mode='markers', size=12)"
   ]
  },
  {
   "cell_type": "code",
   "execution_count": 19,
   "metadata": {},
   "outputs": [
    {
     "data": {
      "application/vnd.plotly.v1+json": {
       "config": {
        "linkText": "Export to plot.ly",
        "plotlyServerURL": "https://plot.ly",
        "showLink": true
       },
       "data": [
        {
         "marker": {
          "color": "rgba(255, 153, 51, 0.6)",
          "line": {
           "color": "rgba(255, 153, 51, 1.0)",
           "width": 1
          }
         },
         "name": "Values",
         "orientation": "v",
         "text": "",
         "type": "bar",
         "x": [
          "A",
          "B",
          "C"
         ],
         "y": [
          32,
          43,
          50
         ]
        }
       ],
       "layout": {
        "legend": {
         "bgcolor": "#F5F6F9",
         "font": {
          "color": "#4D5663"
         }
        },
        "paper_bgcolor": "#F5F6F9",
        "plot_bgcolor": "#F5F6F9",
        "template": {
         "data": {
          "bar": [
           {
            "error_x": {
             "color": "#2a3f5f"
            },
            "error_y": {
             "color": "#2a3f5f"
            },
            "marker": {
             "line": {
              "color": "#E5ECF6",
              "width": 0.5
             }
            },
            "type": "bar"
           }
          ],
          "barpolar": [
           {
            "marker": {
             "line": {
              "color": "#E5ECF6",
              "width": 0.5
             }
            },
            "type": "barpolar"
           }
          ],
          "carpet": [
           {
            "aaxis": {
             "endlinecolor": "#2a3f5f",
             "gridcolor": "white",
             "linecolor": "white",
             "minorgridcolor": "white",
             "startlinecolor": "#2a3f5f"
            },
            "baxis": {
             "endlinecolor": "#2a3f5f",
             "gridcolor": "white",
             "linecolor": "white",
             "minorgridcolor": "white",
             "startlinecolor": "#2a3f5f"
            },
            "type": "carpet"
           }
          ],
          "choropleth": [
           {
            "colorbar": {
             "outlinewidth": 0,
             "ticks": ""
            },
            "type": "choropleth"
           }
          ],
          "contour": [
           {
            "colorbar": {
             "outlinewidth": 0,
             "ticks": ""
            },
            "colorscale": [
             [
              0,
              "#0d0887"
             ],
             [
              0.1111111111111111,
              "#46039f"
             ],
             [
              0.2222222222222222,
              "#7201a8"
             ],
             [
              0.3333333333333333,
              "#9c179e"
             ],
             [
              0.4444444444444444,
              "#bd3786"
             ],
             [
              0.5555555555555556,
              "#d8576b"
             ],
             [
              0.6666666666666666,
              "#ed7953"
             ],
             [
              0.7777777777777778,
              "#fb9f3a"
             ],
             [
              0.8888888888888888,
              "#fdca26"
             ],
             [
              1,
              "#f0f921"
             ]
            ],
            "type": "contour"
           }
          ],
          "contourcarpet": [
           {
            "colorbar": {
             "outlinewidth": 0,
             "ticks": ""
            },
            "type": "contourcarpet"
           }
          ],
          "heatmap": [
           {
            "colorbar": {
             "outlinewidth": 0,
             "ticks": ""
            },
            "colorscale": [
             [
              0,
              "#0d0887"
             ],
             [
              0.1111111111111111,
              "#46039f"
             ],
             [
              0.2222222222222222,
              "#7201a8"
             ],
             [
              0.3333333333333333,
              "#9c179e"
             ],
             [
              0.4444444444444444,
              "#bd3786"
             ],
             [
              0.5555555555555556,
              "#d8576b"
             ],
             [
              0.6666666666666666,
              "#ed7953"
             ],
             [
              0.7777777777777778,
              "#fb9f3a"
             ],
             [
              0.8888888888888888,
              "#fdca26"
             ],
             [
              1,
              "#f0f921"
             ]
            ],
            "type": "heatmap"
           }
          ],
          "heatmapgl": [
           {
            "colorbar": {
             "outlinewidth": 0,
             "ticks": ""
            },
            "colorscale": [
             [
              0,
              "#0d0887"
             ],
             [
              0.1111111111111111,
              "#46039f"
             ],
             [
              0.2222222222222222,
              "#7201a8"
             ],
             [
              0.3333333333333333,
              "#9c179e"
             ],
             [
              0.4444444444444444,
              "#bd3786"
             ],
             [
              0.5555555555555556,
              "#d8576b"
             ],
             [
              0.6666666666666666,
              "#ed7953"
             ],
             [
              0.7777777777777778,
              "#fb9f3a"
             ],
             [
              0.8888888888888888,
              "#fdca26"
             ],
             [
              1,
              "#f0f921"
             ]
            ],
            "type": "heatmapgl"
           }
          ],
          "histogram": [
           {
            "marker": {
             "colorbar": {
              "outlinewidth": 0,
              "ticks": ""
             }
            },
            "type": "histogram"
           }
          ],
          "histogram2d": [
           {
            "colorbar": {
             "outlinewidth": 0,
             "ticks": ""
            },
            "colorscale": [
             [
              0,
              "#0d0887"
             ],
             [
              0.1111111111111111,
              "#46039f"
             ],
             [
              0.2222222222222222,
              "#7201a8"
             ],
             [
              0.3333333333333333,
              "#9c179e"
             ],
             [
              0.4444444444444444,
              "#bd3786"
             ],
             [
              0.5555555555555556,
              "#d8576b"
             ],
             [
              0.6666666666666666,
              "#ed7953"
             ],
             [
              0.7777777777777778,
              "#fb9f3a"
             ],
             [
              0.8888888888888888,
              "#fdca26"
             ],
             [
              1,
              "#f0f921"
             ]
            ],
            "type": "histogram2d"
           }
          ],
          "histogram2dcontour": [
           {
            "colorbar": {
             "outlinewidth": 0,
             "ticks": ""
            },
            "colorscale": [
             [
              0,
              "#0d0887"
             ],
             [
              0.1111111111111111,
              "#46039f"
             ],
             [
              0.2222222222222222,
              "#7201a8"
             ],
             [
              0.3333333333333333,
              "#9c179e"
             ],
             [
              0.4444444444444444,
              "#bd3786"
             ],
             [
              0.5555555555555556,
              "#d8576b"
             ],
             [
              0.6666666666666666,
              "#ed7953"
             ],
             [
              0.7777777777777778,
              "#fb9f3a"
             ],
             [
              0.8888888888888888,
              "#fdca26"
             ],
             [
              1,
              "#f0f921"
             ]
            ],
            "type": "histogram2dcontour"
           }
          ],
          "mesh3d": [
           {
            "colorbar": {
             "outlinewidth": 0,
             "ticks": ""
            },
            "type": "mesh3d"
           }
          ],
          "parcoords": [
           {
            "line": {
             "colorbar": {
              "outlinewidth": 0,
              "ticks": ""
             }
            },
            "type": "parcoords"
           }
          ],
          "pie": [
           {
            "automargin": true,
            "type": "pie"
           }
          ],
          "scatter": [
           {
            "marker": {
             "colorbar": {
              "outlinewidth": 0,
              "ticks": ""
             }
            },
            "type": "scatter"
           }
          ],
          "scatter3d": [
           {
            "line": {
             "colorbar": {
              "outlinewidth": 0,
              "ticks": ""
             }
            },
            "marker": {
             "colorbar": {
              "outlinewidth": 0,
              "ticks": ""
             }
            },
            "type": "scatter3d"
           }
          ],
          "scattercarpet": [
           {
            "marker": {
             "colorbar": {
              "outlinewidth": 0,
              "ticks": ""
             }
            },
            "type": "scattercarpet"
           }
          ],
          "scattergeo": [
           {
            "marker": {
             "colorbar": {
              "outlinewidth": 0,
              "ticks": ""
             }
            },
            "type": "scattergeo"
           }
          ],
          "scattergl": [
           {
            "marker": {
             "colorbar": {
              "outlinewidth": 0,
              "ticks": ""
             }
            },
            "type": "scattergl"
           }
          ],
          "scattermapbox": [
           {
            "marker": {
             "colorbar": {
              "outlinewidth": 0,
              "ticks": ""
             }
            },
            "type": "scattermapbox"
           }
          ],
          "scatterpolar": [
           {
            "marker": {
             "colorbar": {
              "outlinewidth": 0,
              "ticks": ""
             }
            },
            "type": "scatterpolar"
           }
          ],
          "scatterpolargl": [
           {
            "marker": {
             "colorbar": {
              "outlinewidth": 0,
              "ticks": ""
             }
            },
            "type": "scatterpolargl"
           }
          ],
          "scatterternary": [
           {
            "marker": {
             "colorbar": {
              "outlinewidth": 0,
              "ticks": ""
             }
            },
            "type": "scatterternary"
           }
          ],
          "surface": [
           {
            "colorbar": {
             "outlinewidth": 0,
             "ticks": ""
            },
            "colorscale": [
             [
              0,
              "#0d0887"
             ],
             [
              0.1111111111111111,
              "#46039f"
             ],
             [
              0.2222222222222222,
              "#7201a8"
             ],
             [
              0.3333333333333333,
              "#9c179e"
             ],
             [
              0.4444444444444444,
              "#bd3786"
             ],
             [
              0.5555555555555556,
              "#d8576b"
             ],
             [
              0.6666666666666666,
              "#ed7953"
             ],
             [
              0.7777777777777778,
              "#fb9f3a"
             ],
             [
              0.8888888888888888,
              "#fdca26"
             ],
             [
              1,
              "#f0f921"
             ]
            ],
            "type": "surface"
           }
          ],
          "table": [
           {
            "cells": {
             "fill": {
              "color": "#EBF0F8"
             },
             "line": {
              "color": "white"
             }
            },
            "header": {
             "fill": {
              "color": "#C8D4E3"
             },
             "line": {
              "color": "white"
             }
            },
            "type": "table"
           }
          ]
         },
         "layout": {
          "annotationdefaults": {
           "arrowcolor": "#2a3f5f",
           "arrowhead": 0,
           "arrowwidth": 1
          },
          "coloraxis": {
           "colorbar": {
            "outlinewidth": 0,
            "ticks": ""
           }
          },
          "colorscale": {
           "diverging": [
            [
             0,
             "#8e0152"
            ],
            [
             0.1,
             "#c51b7d"
            ],
            [
             0.2,
             "#de77ae"
            ],
            [
             0.3,
             "#f1b6da"
            ],
            [
             0.4,
             "#fde0ef"
            ],
            [
             0.5,
             "#f7f7f7"
            ],
            [
             0.6,
             "#e6f5d0"
            ],
            [
             0.7,
             "#b8e186"
            ],
            [
             0.8,
             "#7fbc41"
            ],
            [
             0.9,
             "#4d9221"
            ],
            [
             1,
             "#276419"
            ]
           ],
           "sequential": [
            [
             0,
             "#0d0887"
            ],
            [
             0.1111111111111111,
             "#46039f"
            ],
            [
             0.2222222222222222,
             "#7201a8"
            ],
            [
             0.3333333333333333,
             "#9c179e"
            ],
            [
             0.4444444444444444,
             "#bd3786"
            ],
            [
             0.5555555555555556,
             "#d8576b"
            ],
            [
             0.6666666666666666,
             "#ed7953"
            ],
            [
             0.7777777777777778,
             "#fb9f3a"
            ],
            [
             0.8888888888888888,
             "#fdca26"
            ],
            [
             1,
             "#f0f921"
            ]
           ],
           "sequentialminus": [
            [
             0,
             "#0d0887"
            ],
            [
             0.1111111111111111,
             "#46039f"
            ],
            [
             0.2222222222222222,
             "#7201a8"
            ],
            [
             0.3333333333333333,
             "#9c179e"
            ],
            [
             0.4444444444444444,
             "#bd3786"
            ],
            [
             0.5555555555555556,
             "#d8576b"
            ],
            [
             0.6666666666666666,
             "#ed7953"
            ],
            [
             0.7777777777777778,
             "#fb9f3a"
            ],
            [
             0.8888888888888888,
             "#fdca26"
            ],
            [
             1,
             "#f0f921"
            ]
           ]
          },
          "colorway": [
           "#636efa",
           "#EF553B",
           "#00cc96",
           "#ab63fa",
           "#FFA15A",
           "#19d3f3",
           "#FF6692",
           "#B6E880",
           "#FF97FF",
           "#FECB52"
          ],
          "font": {
           "color": "#2a3f5f"
          },
          "geo": {
           "bgcolor": "white",
           "lakecolor": "white",
           "landcolor": "#E5ECF6",
           "showlakes": true,
           "showland": true,
           "subunitcolor": "white"
          },
          "hoverlabel": {
           "align": "left"
          },
          "hovermode": "closest",
          "mapbox": {
           "style": "light"
          },
          "paper_bgcolor": "white",
          "plot_bgcolor": "#E5ECF6",
          "polar": {
           "angularaxis": {
            "gridcolor": "white",
            "linecolor": "white",
            "ticks": ""
           },
           "bgcolor": "#E5ECF6",
           "radialaxis": {
            "gridcolor": "white",
            "linecolor": "white",
            "ticks": ""
           }
          },
          "scene": {
           "xaxis": {
            "backgroundcolor": "#E5ECF6",
            "gridcolor": "white",
            "gridwidth": 2,
            "linecolor": "white",
            "showbackground": true,
            "ticks": "",
            "zerolinecolor": "white"
           },
           "yaxis": {
            "backgroundcolor": "#E5ECF6",
            "gridcolor": "white",
            "gridwidth": 2,
            "linecolor": "white",
            "showbackground": true,
            "ticks": "",
            "zerolinecolor": "white"
           },
           "zaxis": {
            "backgroundcolor": "#E5ECF6",
            "gridcolor": "white",
            "gridwidth": 2,
            "linecolor": "white",
            "showbackground": true,
            "ticks": "",
            "zerolinecolor": "white"
           }
          },
          "shapedefaults": {
           "line": {
            "color": "#2a3f5f"
           }
          },
          "ternary": {
           "aaxis": {
            "gridcolor": "white",
            "linecolor": "white",
            "ticks": ""
           },
           "baxis": {
            "gridcolor": "white",
            "linecolor": "white",
            "ticks": ""
           },
           "bgcolor": "#E5ECF6",
           "caxis": {
            "gridcolor": "white",
            "linecolor": "white",
            "ticks": ""
           }
          },
          "title": {
           "x": 0.05
          },
          "xaxis": {
           "automargin": true,
           "gridcolor": "white",
           "linecolor": "white",
           "ticks": "",
           "title": {
            "standoff": 15
           },
           "zerolinecolor": "white",
           "zerolinewidth": 2
          },
          "yaxis": {
           "automargin": true,
           "gridcolor": "white",
           "linecolor": "white",
           "ticks": "",
           "title": {
            "standoff": 15
           },
           "zerolinecolor": "white",
           "zerolinewidth": 2
          }
         }
        },
        "title": {
         "font": {
          "color": "#4D5663"
         }
        },
        "xaxis": {
         "gridcolor": "#E1E5ED",
         "showgrid": true,
         "tickfont": {
          "color": "#4D5663"
         },
         "title": {
          "font": {
           "color": "#4D5663"
          },
          "text": ""
         },
         "zerolinecolor": "#E1E5ED"
        },
        "yaxis": {
         "gridcolor": "#E1E5ED",
         "showgrid": true,
         "tickfont": {
          "color": "#4D5663"
         },
         "title": {
          "font": {
           "color": "#4D5663"
          },
          "text": ""
         },
         "zerolinecolor": "#E1E5ED"
        }
       }
      },
      "text/html": [
       "<div>                            <div id=\"abf78cfe-cef8-49f7-84fb-4d56e03a7702\" class=\"plotly-graph-div\" style=\"height:525px; width:100%;\"></div>            <script type=\"text/javascript\">                require([\"plotly\"], function(Plotly) {                    window.PLOTLYENV=window.PLOTLYENV || {};\n",
       "                    window.PLOTLYENV.BASE_URL='https://plot.ly';                                    if (document.getElementById(\"abf78cfe-cef8-49f7-84fb-4d56e03a7702\")) {                    Plotly.newPlot(                        \"abf78cfe-cef8-49f7-84fb-4d56e03a7702\",                        [{\"marker\": {\"color\": \"rgba(255, 153, 51, 0.6)\", \"line\": {\"color\": \"rgba(255, 153, 51, 1.0)\", \"width\": 1}}, \"name\": \"Values\", \"orientation\": \"v\", \"text\": \"\", \"type\": \"bar\", \"x\": [\"A\", \"B\", \"C\"], \"y\": [32, 43, 50]}],                        {\"legend\": {\"bgcolor\": \"#F5F6F9\", \"font\": {\"color\": \"#4D5663\"}}, \"paper_bgcolor\": \"#F5F6F9\", \"plot_bgcolor\": \"#F5F6F9\", \"template\": {\"data\": {\"bar\": [{\"error_x\": {\"color\": \"#2a3f5f\"}, \"error_y\": {\"color\": \"#2a3f5f\"}, \"marker\": {\"line\": {\"color\": \"#E5ECF6\", \"width\": 0.5}}, \"type\": \"bar\"}], \"barpolar\": [{\"marker\": {\"line\": {\"color\": \"#E5ECF6\", \"width\": 0.5}}, \"type\": \"barpolar\"}], \"carpet\": [{\"aaxis\": {\"endlinecolor\": \"#2a3f5f\", \"gridcolor\": \"white\", \"linecolor\": \"white\", \"minorgridcolor\": \"white\", \"startlinecolor\": \"#2a3f5f\"}, \"baxis\": {\"endlinecolor\": \"#2a3f5f\", \"gridcolor\": \"white\", \"linecolor\": \"white\", \"minorgridcolor\": \"white\", \"startlinecolor\": \"#2a3f5f\"}, \"type\": \"carpet\"}], \"choropleth\": [{\"colorbar\": {\"outlinewidth\": 0, \"ticks\": \"\"}, \"type\": \"choropleth\"}], \"contour\": [{\"colorbar\": {\"outlinewidth\": 0, \"ticks\": \"\"}, \"colorscale\": [[0.0, \"#0d0887\"], [0.1111111111111111, \"#46039f\"], [0.2222222222222222, \"#7201a8\"], [0.3333333333333333, \"#9c179e\"], [0.4444444444444444, \"#bd3786\"], [0.5555555555555556, \"#d8576b\"], [0.6666666666666666, \"#ed7953\"], [0.7777777777777778, \"#fb9f3a\"], [0.8888888888888888, \"#fdca26\"], [1.0, \"#f0f921\"]], \"type\": \"contour\"}], \"contourcarpet\": [{\"colorbar\": {\"outlinewidth\": 0, \"ticks\": \"\"}, \"type\": \"contourcarpet\"}], \"heatmap\": [{\"colorbar\": {\"outlinewidth\": 0, \"ticks\": \"\"}, \"colorscale\": [[0.0, \"#0d0887\"], [0.1111111111111111, \"#46039f\"], [0.2222222222222222, \"#7201a8\"], [0.3333333333333333, \"#9c179e\"], [0.4444444444444444, \"#bd3786\"], [0.5555555555555556, \"#d8576b\"], [0.6666666666666666, \"#ed7953\"], [0.7777777777777778, \"#fb9f3a\"], [0.8888888888888888, \"#fdca26\"], [1.0, \"#f0f921\"]], \"type\": \"heatmap\"}], \"heatmapgl\": [{\"colorbar\": {\"outlinewidth\": 0, \"ticks\": \"\"}, \"colorscale\": [[0.0, \"#0d0887\"], [0.1111111111111111, \"#46039f\"], [0.2222222222222222, \"#7201a8\"], [0.3333333333333333, \"#9c179e\"], [0.4444444444444444, \"#bd3786\"], [0.5555555555555556, \"#d8576b\"], [0.6666666666666666, \"#ed7953\"], [0.7777777777777778, \"#fb9f3a\"], [0.8888888888888888, \"#fdca26\"], [1.0, \"#f0f921\"]], \"type\": \"heatmapgl\"}], \"histogram\": [{\"marker\": {\"colorbar\": {\"outlinewidth\": 0, \"ticks\": \"\"}}, \"type\": \"histogram\"}], \"histogram2d\": [{\"colorbar\": {\"outlinewidth\": 0, \"ticks\": \"\"}, \"colorscale\": [[0.0, \"#0d0887\"], [0.1111111111111111, \"#46039f\"], [0.2222222222222222, \"#7201a8\"], [0.3333333333333333, \"#9c179e\"], [0.4444444444444444, \"#bd3786\"], [0.5555555555555556, \"#d8576b\"], [0.6666666666666666, \"#ed7953\"], [0.7777777777777778, \"#fb9f3a\"], [0.8888888888888888, \"#fdca26\"], [1.0, \"#f0f921\"]], \"type\": \"histogram2d\"}], \"histogram2dcontour\": [{\"colorbar\": {\"outlinewidth\": 0, \"ticks\": \"\"}, \"colorscale\": [[0.0, \"#0d0887\"], [0.1111111111111111, \"#46039f\"], [0.2222222222222222, \"#7201a8\"], [0.3333333333333333, \"#9c179e\"], [0.4444444444444444, \"#bd3786\"], [0.5555555555555556, \"#d8576b\"], [0.6666666666666666, \"#ed7953\"], [0.7777777777777778, \"#fb9f3a\"], [0.8888888888888888, \"#fdca26\"], [1.0, \"#f0f921\"]], \"type\": \"histogram2dcontour\"}], \"mesh3d\": [{\"colorbar\": {\"outlinewidth\": 0, \"ticks\": \"\"}, \"type\": \"mesh3d\"}], \"parcoords\": [{\"line\": {\"colorbar\": {\"outlinewidth\": 0, \"ticks\": \"\"}}, \"type\": \"parcoords\"}], \"pie\": [{\"automargin\": true, \"type\": \"pie\"}], \"scatter\": [{\"marker\": {\"colorbar\": {\"outlinewidth\": 0, \"ticks\": \"\"}}, \"type\": \"scatter\"}], \"scatter3d\": [{\"line\": {\"colorbar\": {\"outlinewidth\": 0, \"ticks\": \"\"}}, \"marker\": {\"colorbar\": {\"outlinewidth\": 0, \"ticks\": \"\"}}, \"type\": \"scatter3d\"}], \"scattercarpet\": [{\"marker\": {\"colorbar\": {\"outlinewidth\": 0, \"ticks\": \"\"}}, \"type\": \"scattercarpet\"}], \"scattergeo\": [{\"marker\": {\"colorbar\": {\"outlinewidth\": 0, \"ticks\": \"\"}}, \"type\": \"scattergeo\"}], \"scattergl\": [{\"marker\": {\"colorbar\": {\"outlinewidth\": 0, \"ticks\": \"\"}}, \"type\": \"scattergl\"}], \"scattermapbox\": [{\"marker\": {\"colorbar\": {\"outlinewidth\": 0, \"ticks\": \"\"}}, \"type\": \"scattermapbox\"}], \"scatterpolar\": [{\"marker\": {\"colorbar\": {\"outlinewidth\": 0, \"ticks\": \"\"}}, \"type\": \"scatterpolar\"}], \"scatterpolargl\": [{\"marker\": {\"colorbar\": {\"outlinewidth\": 0, \"ticks\": \"\"}}, \"type\": \"scatterpolargl\"}], \"scatterternary\": [{\"marker\": {\"colorbar\": {\"outlinewidth\": 0, \"ticks\": \"\"}}, \"type\": \"scatterternary\"}], \"surface\": [{\"colorbar\": {\"outlinewidth\": 0, \"ticks\": \"\"}, \"colorscale\": [[0.0, \"#0d0887\"], [0.1111111111111111, \"#46039f\"], [0.2222222222222222, \"#7201a8\"], [0.3333333333333333, \"#9c179e\"], [0.4444444444444444, \"#bd3786\"], [0.5555555555555556, \"#d8576b\"], [0.6666666666666666, \"#ed7953\"], [0.7777777777777778, \"#fb9f3a\"], [0.8888888888888888, \"#fdca26\"], [1.0, \"#f0f921\"]], \"type\": \"surface\"}], \"table\": [{\"cells\": {\"fill\": {\"color\": \"#EBF0F8\"}, \"line\": {\"color\": \"white\"}}, \"header\": {\"fill\": {\"color\": \"#C8D4E3\"}, \"line\": {\"color\": \"white\"}}, \"type\": \"table\"}]}, \"layout\": {\"annotationdefaults\": {\"arrowcolor\": \"#2a3f5f\", \"arrowhead\": 0, \"arrowwidth\": 1}, \"coloraxis\": {\"colorbar\": {\"outlinewidth\": 0, \"ticks\": \"\"}}, \"colorscale\": {\"diverging\": [[0, \"#8e0152\"], [0.1, \"#c51b7d\"], [0.2, \"#de77ae\"], [0.3, \"#f1b6da\"], [0.4, \"#fde0ef\"], [0.5, \"#f7f7f7\"], [0.6, \"#e6f5d0\"], [0.7, \"#b8e186\"], [0.8, \"#7fbc41\"], [0.9, \"#4d9221\"], [1, \"#276419\"]], \"sequential\": [[0.0, \"#0d0887\"], [0.1111111111111111, \"#46039f\"], [0.2222222222222222, \"#7201a8\"], [0.3333333333333333, \"#9c179e\"], [0.4444444444444444, \"#bd3786\"], [0.5555555555555556, \"#d8576b\"], [0.6666666666666666, \"#ed7953\"], [0.7777777777777778, \"#fb9f3a\"], [0.8888888888888888, \"#fdca26\"], [1.0, \"#f0f921\"]], \"sequentialminus\": [[0.0, \"#0d0887\"], [0.1111111111111111, \"#46039f\"], [0.2222222222222222, \"#7201a8\"], [0.3333333333333333, \"#9c179e\"], [0.4444444444444444, \"#bd3786\"], [0.5555555555555556, \"#d8576b\"], [0.6666666666666666, \"#ed7953\"], [0.7777777777777778, \"#fb9f3a\"], [0.8888888888888888, \"#fdca26\"], [1.0, \"#f0f921\"]]}, \"colorway\": [\"#636efa\", \"#EF553B\", \"#00cc96\", \"#ab63fa\", \"#FFA15A\", \"#19d3f3\", \"#FF6692\", \"#B6E880\", \"#FF97FF\", \"#FECB52\"], \"font\": {\"color\": \"#2a3f5f\"}, \"geo\": {\"bgcolor\": \"white\", \"lakecolor\": \"white\", \"landcolor\": \"#E5ECF6\", \"showlakes\": true, \"showland\": true, \"subunitcolor\": \"white\"}, \"hoverlabel\": {\"align\": \"left\"}, \"hovermode\": \"closest\", \"mapbox\": {\"style\": \"light\"}, \"paper_bgcolor\": \"white\", \"plot_bgcolor\": \"#E5ECF6\", \"polar\": {\"angularaxis\": {\"gridcolor\": \"white\", \"linecolor\": \"white\", \"ticks\": \"\"}, \"bgcolor\": \"#E5ECF6\", \"radialaxis\": {\"gridcolor\": \"white\", \"linecolor\": \"white\", \"ticks\": \"\"}}, \"scene\": {\"xaxis\": {\"backgroundcolor\": \"#E5ECF6\", \"gridcolor\": \"white\", \"gridwidth\": 2, \"linecolor\": \"white\", \"showbackground\": true, \"ticks\": \"\", \"zerolinecolor\": \"white\"}, \"yaxis\": {\"backgroundcolor\": \"#E5ECF6\", \"gridcolor\": \"white\", \"gridwidth\": 2, \"linecolor\": \"white\", \"showbackground\": true, \"ticks\": \"\", \"zerolinecolor\": \"white\"}, \"zaxis\": {\"backgroundcolor\": \"#E5ECF6\", \"gridcolor\": \"white\", \"gridwidth\": 2, \"linecolor\": \"white\", \"showbackground\": true, \"ticks\": \"\", \"zerolinecolor\": \"white\"}}, \"shapedefaults\": {\"line\": {\"color\": \"#2a3f5f\"}}, \"ternary\": {\"aaxis\": {\"gridcolor\": \"white\", \"linecolor\": \"white\", \"ticks\": \"\"}, \"baxis\": {\"gridcolor\": \"white\", \"linecolor\": \"white\", \"ticks\": \"\"}, \"bgcolor\": \"#E5ECF6\", \"caxis\": {\"gridcolor\": \"white\", \"linecolor\": \"white\", \"ticks\": \"\"}}, \"title\": {\"x\": 0.05}, \"xaxis\": {\"automargin\": true, \"gridcolor\": \"white\", \"linecolor\": \"white\", \"ticks\": \"\", \"title\": {\"standoff\": 15}, \"zerolinecolor\": \"white\", \"zerolinewidth\": 2}, \"yaxis\": {\"automargin\": true, \"gridcolor\": \"white\", \"linecolor\": \"white\", \"ticks\": \"\", \"title\": {\"standoff\": 15}, \"zerolinecolor\": \"white\", \"zerolinewidth\": 2}}}, \"title\": {\"font\": {\"color\": \"#4D5663\"}}, \"xaxis\": {\"gridcolor\": \"#E1E5ED\", \"showgrid\": true, \"tickfont\": {\"color\": \"#4D5663\"}, \"title\": {\"font\": {\"color\": \"#4D5663\"}, \"text\": \"\"}, \"zerolinecolor\": \"#E1E5ED\"}, \"yaxis\": {\"gridcolor\": \"#E1E5ED\", \"showgrid\": true, \"tickfont\": {\"color\": \"#4D5663\"}, \"title\": {\"font\": {\"color\": \"#4D5663\"}, \"text\": \"\"}, \"zerolinecolor\": \"#E1E5ED\"}},                        {\"showLink\": true, \"linkText\": \"Export to plot.ly\", \"plotlyServerURL\": \"https://plot.ly\", \"responsive\": true}                    ).then(function(){\n",
       "                            \n",
       "var gd = document.getElementById('abf78cfe-cef8-49f7-84fb-4d56e03a7702');\n",
       "var x = new MutationObserver(function (mutations, observer) {{\n",
       "        var display = window.getComputedStyle(gd).display;\n",
       "        if (!display || display === 'none') {{\n",
       "            console.log([gd, 'removed!']);\n",
       "            Plotly.purge(gd);\n",
       "            observer.disconnect();\n",
       "        }}\n",
       "}});\n",
       "\n",
       "// Listen for the removal of the full notebook cells\n",
       "var notebookContainer = gd.closest('#notebook-container');\n",
       "if (notebookContainer) {{\n",
       "    x.observe(notebookContainer, {childList: true});\n",
       "}}\n",
       "\n",
       "// Listen for the clearing of the current output cell\n",
       "var outputEl = gd.closest('.output');\n",
       "if (outputEl) {{\n",
       "    x.observe(outputEl, {childList: true});\n",
       "}}\n",
       "\n",
       "                        })                };                });            </script>        </div>"
      ]
     },
     "metadata": {},
     "output_type": "display_data"
    }
   ],
   "source": [
    "df2.iplot(kind='bar', x='Category', y='Values')"
   ]
  },
  {
   "cell_type": "code",
   "execution_count": 21,
   "metadata": {},
   "outputs": [
    {
     "data": {
      "application/vnd.plotly.v1+json": {
       "config": {
        "linkText": "Export to plot.ly",
        "plotlyServerURL": "https://plot.ly",
        "showLink": true
       },
       "data": [
        {
         "marker": {
          "color": "rgba(255, 153, 51, 0.6)",
          "line": {
           "color": "rgba(255, 153, 51, 1.0)",
           "width": 1
          }
         },
         "name": "None",
         "orientation": "v",
         "text": "",
         "type": "bar",
         "x": [
          "A",
          "B",
          "C",
          "D"
         ],
         "y": [
          100,
          100,
          100,
          100
         ]
        }
       ],
       "layout": {
        "legend": {
         "bgcolor": "#F5F6F9",
         "font": {
          "color": "#4D5663"
         }
        },
        "paper_bgcolor": "#F5F6F9",
        "plot_bgcolor": "#F5F6F9",
        "template": {
         "data": {
          "bar": [
           {
            "error_x": {
             "color": "#2a3f5f"
            },
            "error_y": {
             "color": "#2a3f5f"
            },
            "marker": {
             "line": {
              "color": "#E5ECF6",
              "width": 0.5
             }
            },
            "type": "bar"
           }
          ],
          "barpolar": [
           {
            "marker": {
             "line": {
              "color": "#E5ECF6",
              "width": 0.5
             }
            },
            "type": "barpolar"
           }
          ],
          "carpet": [
           {
            "aaxis": {
             "endlinecolor": "#2a3f5f",
             "gridcolor": "white",
             "linecolor": "white",
             "minorgridcolor": "white",
             "startlinecolor": "#2a3f5f"
            },
            "baxis": {
             "endlinecolor": "#2a3f5f",
             "gridcolor": "white",
             "linecolor": "white",
             "minorgridcolor": "white",
             "startlinecolor": "#2a3f5f"
            },
            "type": "carpet"
           }
          ],
          "choropleth": [
           {
            "colorbar": {
             "outlinewidth": 0,
             "ticks": ""
            },
            "type": "choropleth"
           }
          ],
          "contour": [
           {
            "colorbar": {
             "outlinewidth": 0,
             "ticks": ""
            },
            "colorscale": [
             [
              0,
              "#0d0887"
             ],
             [
              0.1111111111111111,
              "#46039f"
             ],
             [
              0.2222222222222222,
              "#7201a8"
             ],
             [
              0.3333333333333333,
              "#9c179e"
             ],
             [
              0.4444444444444444,
              "#bd3786"
             ],
             [
              0.5555555555555556,
              "#d8576b"
             ],
             [
              0.6666666666666666,
              "#ed7953"
             ],
             [
              0.7777777777777778,
              "#fb9f3a"
             ],
             [
              0.8888888888888888,
              "#fdca26"
             ],
             [
              1,
              "#f0f921"
             ]
            ],
            "type": "contour"
           }
          ],
          "contourcarpet": [
           {
            "colorbar": {
             "outlinewidth": 0,
             "ticks": ""
            },
            "type": "contourcarpet"
           }
          ],
          "heatmap": [
           {
            "colorbar": {
             "outlinewidth": 0,
             "ticks": ""
            },
            "colorscale": [
             [
              0,
              "#0d0887"
             ],
             [
              0.1111111111111111,
              "#46039f"
             ],
             [
              0.2222222222222222,
              "#7201a8"
             ],
             [
              0.3333333333333333,
              "#9c179e"
             ],
             [
              0.4444444444444444,
              "#bd3786"
             ],
             [
              0.5555555555555556,
              "#d8576b"
             ],
             [
              0.6666666666666666,
              "#ed7953"
             ],
             [
              0.7777777777777778,
              "#fb9f3a"
             ],
             [
              0.8888888888888888,
              "#fdca26"
             ],
             [
              1,
              "#f0f921"
             ]
            ],
            "type": "heatmap"
           }
          ],
          "heatmapgl": [
           {
            "colorbar": {
             "outlinewidth": 0,
             "ticks": ""
            },
            "colorscale": [
             [
              0,
              "#0d0887"
             ],
             [
              0.1111111111111111,
              "#46039f"
             ],
             [
              0.2222222222222222,
              "#7201a8"
             ],
             [
              0.3333333333333333,
              "#9c179e"
             ],
             [
              0.4444444444444444,
              "#bd3786"
             ],
             [
              0.5555555555555556,
              "#d8576b"
             ],
             [
              0.6666666666666666,
              "#ed7953"
             ],
             [
              0.7777777777777778,
              "#fb9f3a"
             ],
             [
              0.8888888888888888,
              "#fdca26"
             ],
             [
              1,
              "#f0f921"
             ]
            ],
            "type": "heatmapgl"
           }
          ],
          "histogram": [
           {
            "marker": {
             "colorbar": {
              "outlinewidth": 0,
              "ticks": ""
             }
            },
            "type": "histogram"
           }
          ],
          "histogram2d": [
           {
            "colorbar": {
             "outlinewidth": 0,
             "ticks": ""
            },
            "colorscale": [
             [
              0,
              "#0d0887"
             ],
             [
              0.1111111111111111,
              "#46039f"
             ],
             [
              0.2222222222222222,
              "#7201a8"
             ],
             [
              0.3333333333333333,
              "#9c179e"
             ],
             [
              0.4444444444444444,
              "#bd3786"
             ],
             [
              0.5555555555555556,
              "#d8576b"
             ],
             [
              0.6666666666666666,
              "#ed7953"
             ],
             [
              0.7777777777777778,
              "#fb9f3a"
             ],
             [
              0.8888888888888888,
              "#fdca26"
             ],
             [
              1,
              "#f0f921"
             ]
            ],
            "type": "histogram2d"
           }
          ],
          "histogram2dcontour": [
           {
            "colorbar": {
             "outlinewidth": 0,
             "ticks": ""
            },
            "colorscale": [
             [
              0,
              "#0d0887"
             ],
             [
              0.1111111111111111,
              "#46039f"
             ],
             [
              0.2222222222222222,
              "#7201a8"
             ],
             [
              0.3333333333333333,
              "#9c179e"
             ],
             [
              0.4444444444444444,
              "#bd3786"
             ],
             [
              0.5555555555555556,
              "#d8576b"
             ],
             [
              0.6666666666666666,
              "#ed7953"
             ],
             [
              0.7777777777777778,
              "#fb9f3a"
             ],
             [
              0.8888888888888888,
              "#fdca26"
             ],
             [
              1,
              "#f0f921"
             ]
            ],
            "type": "histogram2dcontour"
           }
          ],
          "mesh3d": [
           {
            "colorbar": {
             "outlinewidth": 0,
             "ticks": ""
            },
            "type": "mesh3d"
           }
          ],
          "parcoords": [
           {
            "line": {
             "colorbar": {
              "outlinewidth": 0,
              "ticks": ""
             }
            },
            "type": "parcoords"
           }
          ],
          "pie": [
           {
            "automargin": true,
            "type": "pie"
           }
          ],
          "scatter": [
           {
            "marker": {
             "colorbar": {
              "outlinewidth": 0,
              "ticks": ""
             }
            },
            "type": "scatter"
           }
          ],
          "scatter3d": [
           {
            "line": {
             "colorbar": {
              "outlinewidth": 0,
              "ticks": ""
             }
            },
            "marker": {
             "colorbar": {
              "outlinewidth": 0,
              "ticks": ""
             }
            },
            "type": "scatter3d"
           }
          ],
          "scattercarpet": [
           {
            "marker": {
             "colorbar": {
              "outlinewidth": 0,
              "ticks": ""
             }
            },
            "type": "scattercarpet"
           }
          ],
          "scattergeo": [
           {
            "marker": {
             "colorbar": {
              "outlinewidth": 0,
              "ticks": ""
             }
            },
            "type": "scattergeo"
           }
          ],
          "scattergl": [
           {
            "marker": {
             "colorbar": {
              "outlinewidth": 0,
              "ticks": ""
             }
            },
            "type": "scattergl"
           }
          ],
          "scattermapbox": [
           {
            "marker": {
             "colorbar": {
              "outlinewidth": 0,
              "ticks": ""
             }
            },
            "type": "scattermapbox"
           }
          ],
          "scatterpolar": [
           {
            "marker": {
             "colorbar": {
              "outlinewidth": 0,
              "ticks": ""
             }
            },
            "type": "scatterpolar"
           }
          ],
          "scatterpolargl": [
           {
            "marker": {
             "colorbar": {
              "outlinewidth": 0,
              "ticks": ""
             }
            },
            "type": "scatterpolargl"
           }
          ],
          "scatterternary": [
           {
            "marker": {
             "colorbar": {
              "outlinewidth": 0,
              "ticks": ""
             }
            },
            "type": "scatterternary"
           }
          ],
          "surface": [
           {
            "colorbar": {
             "outlinewidth": 0,
             "ticks": ""
            },
            "colorscale": [
             [
              0,
              "#0d0887"
             ],
             [
              0.1111111111111111,
              "#46039f"
             ],
             [
              0.2222222222222222,
              "#7201a8"
             ],
             [
              0.3333333333333333,
              "#9c179e"
             ],
             [
              0.4444444444444444,
              "#bd3786"
             ],
             [
              0.5555555555555556,
              "#d8576b"
             ],
             [
              0.6666666666666666,
              "#ed7953"
             ],
             [
              0.7777777777777778,
              "#fb9f3a"
             ],
             [
              0.8888888888888888,
              "#fdca26"
             ],
             [
              1,
              "#f0f921"
             ]
            ],
            "type": "surface"
           }
          ],
          "table": [
           {
            "cells": {
             "fill": {
              "color": "#EBF0F8"
             },
             "line": {
              "color": "white"
             }
            },
            "header": {
             "fill": {
              "color": "#C8D4E3"
             },
             "line": {
              "color": "white"
             }
            },
            "type": "table"
           }
          ]
         },
         "layout": {
          "annotationdefaults": {
           "arrowcolor": "#2a3f5f",
           "arrowhead": 0,
           "arrowwidth": 1
          },
          "coloraxis": {
           "colorbar": {
            "outlinewidth": 0,
            "ticks": ""
           }
          },
          "colorscale": {
           "diverging": [
            [
             0,
             "#8e0152"
            ],
            [
             0.1,
             "#c51b7d"
            ],
            [
             0.2,
             "#de77ae"
            ],
            [
             0.3,
             "#f1b6da"
            ],
            [
             0.4,
             "#fde0ef"
            ],
            [
             0.5,
             "#f7f7f7"
            ],
            [
             0.6,
             "#e6f5d0"
            ],
            [
             0.7,
             "#b8e186"
            ],
            [
             0.8,
             "#7fbc41"
            ],
            [
             0.9,
             "#4d9221"
            ],
            [
             1,
             "#276419"
            ]
           ],
           "sequential": [
            [
             0,
             "#0d0887"
            ],
            [
             0.1111111111111111,
             "#46039f"
            ],
            [
             0.2222222222222222,
             "#7201a8"
            ],
            [
             0.3333333333333333,
             "#9c179e"
            ],
            [
             0.4444444444444444,
             "#bd3786"
            ],
            [
             0.5555555555555556,
             "#d8576b"
            ],
            [
             0.6666666666666666,
             "#ed7953"
            ],
            [
             0.7777777777777778,
             "#fb9f3a"
            ],
            [
             0.8888888888888888,
             "#fdca26"
            ],
            [
             1,
             "#f0f921"
            ]
           ],
           "sequentialminus": [
            [
             0,
             "#0d0887"
            ],
            [
             0.1111111111111111,
             "#46039f"
            ],
            [
             0.2222222222222222,
             "#7201a8"
            ],
            [
             0.3333333333333333,
             "#9c179e"
            ],
            [
             0.4444444444444444,
             "#bd3786"
            ],
            [
             0.5555555555555556,
             "#d8576b"
            ],
            [
             0.6666666666666666,
             "#ed7953"
            ],
            [
             0.7777777777777778,
             "#fb9f3a"
            ],
            [
             0.8888888888888888,
             "#fdca26"
            ],
            [
             1,
             "#f0f921"
            ]
           ]
          },
          "colorway": [
           "#636efa",
           "#EF553B",
           "#00cc96",
           "#ab63fa",
           "#FFA15A",
           "#19d3f3",
           "#FF6692",
           "#B6E880",
           "#FF97FF",
           "#FECB52"
          ],
          "font": {
           "color": "#2a3f5f"
          },
          "geo": {
           "bgcolor": "white",
           "lakecolor": "white",
           "landcolor": "#E5ECF6",
           "showlakes": true,
           "showland": true,
           "subunitcolor": "white"
          },
          "hoverlabel": {
           "align": "left"
          },
          "hovermode": "closest",
          "mapbox": {
           "style": "light"
          },
          "paper_bgcolor": "white",
          "plot_bgcolor": "#E5ECF6",
          "polar": {
           "angularaxis": {
            "gridcolor": "white",
            "linecolor": "white",
            "ticks": ""
           },
           "bgcolor": "#E5ECF6",
           "radialaxis": {
            "gridcolor": "white",
            "linecolor": "white",
            "ticks": ""
           }
          },
          "scene": {
           "xaxis": {
            "backgroundcolor": "#E5ECF6",
            "gridcolor": "white",
            "gridwidth": 2,
            "linecolor": "white",
            "showbackground": true,
            "ticks": "",
            "zerolinecolor": "white"
           },
           "yaxis": {
            "backgroundcolor": "#E5ECF6",
            "gridcolor": "white",
            "gridwidth": 2,
            "linecolor": "white",
            "showbackground": true,
            "ticks": "",
            "zerolinecolor": "white"
           },
           "zaxis": {
            "backgroundcolor": "#E5ECF6",
            "gridcolor": "white",
            "gridwidth": 2,
            "linecolor": "white",
            "showbackground": true,
            "ticks": "",
            "zerolinecolor": "white"
           }
          },
          "shapedefaults": {
           "line": {
            "color": "#2a3f5f"
           }
          },
          "ternary": {
           "aaxis": {
            "gridcolor": "white",
            "linecolor": "white",
            "ticks": ""
           },
           "baxis": {
            "gridcolor": "white",
            "linecolor": "white",
            "ticks": ""
           },
           "bgcolor": "#E5ECF6",
           "caxis": {
            "gridcolor": "white",
            "linecolor": "white",
            "ticks": ""
           }
          },
          "title": {
           "x": 0.05
          },
          "xaxis": {
           "automargin": true,
           "gridcolor": "white",
           "linecolor": "white",
           "ticks": "",
           "title": {
            "standoff": 15
           },
           "zerolinecolor": "white",
           "zerolinewidth": 2
          },
          "yaxis": {
           "automargin": true,
           "gridcolor": "white",
           "linecolor": "white",
           "ticks": "",
           "title": {
            "standoff": 15
           },
           "zerolinecolor": "white",
           "zerolinewidth": 2
          }
         }
        },
        "title": {
         "font": {
          "color": "#4D5663"
         }
        },
        "xaxis": {
         "gridcolor": "#E1E5ED",
         "showgrid": true,
         "tickfont": {
          "color": "#4D5663"
         },
         "title": {
          "font": {
           "color": "#4D5663"
          },
          "text": ""
         },
         "zerolinecolor": "#E1E5ED"
        },
        "yaxis": {
         "gridcolor": "#E1E5ED",
         "showgrid": true,
         "tickfont": {
          "color": "#4D5663"
         },
         "title": {
          "font": {
           "color": "#4D5663"
          },
          "text": ""
         },
         "zerolinecolor": "#E1E5ED"
        }
       }
      },
      "text/html": [
       "<div>                            <div id=\"24d8d531-1ce2-4bda-abcc-0ad1cf44a592\" class=\"plotly-graph-div\" style=\"height:525px; width:100%;\"></div>            <script type=\"text/javascript\">                require([\"plotly\"], function(Plotly) {                    window.PLOTLYENV=window.PLOTLYENV || {};\n",
       "                    window.PLOTLYENV.BASE_URL='https://plot.ly';                                    if (document.getElementById(\"24d8d531-1ce2-4bda-abcc-0ad1cf44a592\")) {                    Plotly.newPlot(                        \"24d8d531-1ce2-4bda-abcc-0ad1cf44a592\",                        [{\"marker\": {\"color\": \"rgba(255, 153, 51, 0.6)\", \"line\": {\"color\": \"rgba(255, 153, 51, 1.0)\", \"width\": 1}}, \"name\": \"None\", \"orientation\": \"v\", \"text\": \"\", \"type\": \"bar\", \"x\": [\"A\", \"B\", \"C\", \"D\"], \"y\": [100, 100, 100, 100]}],                        {\"legend\": {\"bgcolor\": \"#F5F6F9\", \"font\": {\"color\": \"#4D5663\"}}, \"paper_bgcolor\": \"#F5F6F9\", \"plot_bgcolor\": \"#F5F6F9\", \"template\": {\"data\": {\"bar\": [{\"error_x\": {\"color\": \"#2a3f5f\"}, \"error_y\": {\"color\": \"#2a3f5f\"}, \"marker\": {\"line\": {\"color\": \"#E5ECF6\", \"width\": 0.5}}, \"type\": \"bar\"}], \"barpolar\": [{\"marker\": {\"line\": {\"color\": \"#E5ECF6\", \"width\": 0.5}}, \"type\": \"barpolar\"}], \"carpet\": [{\"aaxis\": {\"endlinecolor\": \"#2a3f5f\", \"gridcolor\": \"white\", \"linecolor\": \"white\", \"minorgridcolor\": \"white\", \"startlinecolor\": \"#2a3f5f\"}, \"baxis\": {\"endlinecolor\": \"#2a3f5f\", \"gridcolor\": \"white\", \"linecolor\": \"white\", \"minorgridcolor\": \"white\", \"startlinecolor\": \"#2a3f5f\"}, \"type\": \"carpet\"}], \"choropleth\": [{\"colorbar\": {\"outlinewidth\": 0, \"ticks\": \"\"}, \"type\": \"choropleth\"}], \"contour\": [{\"colorbar\": {\"outlinewidth\": 0, \"ticks\": \"\"}, \"colorscale\": [[0.0, \"#0d0887\"], [0.1111111111111111, \"#46039f\"], [0.2222222222222222, \"#7201a8\"], [0.3333333333333333, \"#9c179e\"], [0.4444444444444444, \"#bd3786\"], [0.5555555555555556, \"#d8576b\"], [0.6666666666666666, \"#ed7953\"], [0.7777777777777778, \"#fb9f3a\"], [0.8888888888888888, \"#fdca26\"], [1.0, \"#f0f921\"]], \"type\": \"contour\"}], \"contourcarpet\": [{\"colorbar\": {\"outlinewidth\": 0, \"ticks\": \"\"}, \"type\": \"contourcarpet\"}], \"heatmap\": [{\"colorbar\": {\"outlinewidth\": 0, \"ticks\": \"\"}, \"colorscale\": [[0.0, \"#0d0887\"], [0.1111111111111111, \"#46039f\"], [0.2222222222222222, \"#7201a8\"], [0.3333333333333333, \"#9c179e\"], [0.4444444444444444, \"#bd3786\"], [0.5555555555555556, \"#d8576b\"], [0.6666666666666666, \"#ed7953\"], [0.7777777777777778, \"#fb9f3a\"], [0.8888888888888888, \"#fdca26\"], [1.0, \"#f0f921\"]], \"type\": \"heatmap\"}], \"heatmapgl\": [{\"colorbar\": {\"outlinewidth\": 0, \"ticks\": \"\"}, \"colorscale\": [[0.0, \"#0d0887\"], [0.1111111111111111, \"#46039f\"], [0.2222222222222222, \"#7201a8\"], [0.3333333333333333, \"#9c179e\"], [0.4444444444444444, \"#bd3786\"], [0.5555555555555556, \"#d8576b\"], [0.6666666666666666, \"#ed7953\"], [0.7777777777777778, \"#fb9f3a\"], [0.8888888888888888, \"#fdca26\"], [1.0, \"#f0f921\"]], \"type\": \"heatmapgl\"}], \"histogram\": [{\"marker\": {\"colorbar\": {\"outlinewidth\": 0, \"ticks\": \"\"}}, \"type\": \"histogram\"}], \"histogram2d\": [{\"colorbar\": {\"outlinewidth\": 0, \"ticks\": \"\"}, \"colorscale\": [[0.0, \"#0d0887\"], [0.1111111111111111, \"#46039f\"], [0.2222222222222222, \"#7201a8\"], [0.3333333333333333, \"#9c179e\"], [0.4444444444444444, \"#bd3786\"], [0.5555555555555556, \"#d8576b\"], [0.6666666666666666, \"#ed7953\"], [0.7777777777777778, \"#fb9f3a\"], [0.8888888888888888, \"#fdca26\"], [1.0, \"#f0f921\"]], \"type\": \"histogram2d\"}], \"histogram2dcontour\": [{\"colorbar\": {\"outlinewidth\": 0, \"ticks\": \"\"}, \"colorscale\": [[0.0, \"#0d0887\"], [0.1111111111111111, \"#46039f\"], [0.2222222222222222, \"#7201a8\"], [0.3333333333333333, \"#9c179e\"], [0.4444444444444444, \"#bd3786\"], [0.5555555555555556, \"#d8576b\"], [0.6666666666666666, \"#ed7953\"], [0.7777777777777778, \"#fb9f3a\"], [0.8888888888888888, \"#fdca26\"], [1.0, \"#f0f921\"]], \"type\": \"histogram2dcontour\"}], \"mesh3d\": [{\"colorbar\": {\"outlinewidth\": 0, \"ticks\": \"\"}, \"type\": \"mesh3d\"}], \"parcoords\": [{\"line\": {\"colorbar\": {\"outlinewidth\": 0, \"ticks\": \"\"}}, \"type\": \"parcoords\"}], \"pie\": [{\"automargin\": true, \"type\": \"pie\"}], \"scatter\": [{\"marker\": {\"colorbar\": {\"outlinewidth\": 0, \"ticks\": \"\"}}, \"type\": \"scatter\"}], \"scatter3d\": [{\"line\": {\"colorbar\": {\"outlinewidth\": 0, \"ticks\": \"\"}}, \"marker\": {\"colorbar\": {\"outlinewidth\": 0, \"ticks\": \"\"}}, \"type\": \"scatter3d\"}], \"scattercarpet\": [{\"marker\": {\"colorbar\": {\"outlinewidth\": 0, \"ticks\": \"\"}}, \"type\": \"scattercarpet\"}], \"scattergeo\": [{\"marker\": {\"colorbar\": {\"outlinewidth\": 0, \"ticks\": \"\"}}, \"type\": \"scattergeo\"}], \"scattergl\": [{\"marker\": {\"colorbar\": {\"outlinewidth\": 0, \"ticks\": \"\"}}, \"type\": \"scattergl\"}], \"scattermapbox\": [{\"marker\": {\"colorbar\": {\"outlinewidth\": 0, \"ticks\": \"\"}}, \"type\": \"scattermapbox\"}], \"scatterpolar\": [{\"marker\": {\"colorbar\": {\"outlinewidth\": 0, \"ticks\": \"\"}}, \"type\": \"scatterpolar\"}], \"scatterpolargl\": [{\"marker\": {\"colorbar\": {\"outlinewidth\": 0, \"ticks\": \"\"}}, \"type\": \"scatterpolargl\"}], \"scatterternary\": [{\"marker\": {\"colorbar\": {\"outlinewidth\": 0, \"ticks\": \"\"}}, \"type\": \"scatterternary\"}], \"surface\": [{\"colorbar\": {\"outlinewidth\": 0, \"ticks\": \"\"}, \"colorscale\": [[0.0, \"#0d0887\"], [0.1111111111111111, \"#46039f\"], [0.2222222222222222, \"#7201a8\"], [0.3333333333333333, \"#9c179e\"], [0.4444444444444444, \"#bd3786\"], [0.5555555555555556, \"#d8576b\"], [0.6666666666666666, \"#ed7953\"], [0.7777777777777778, \"#fb9f3a\"], [0.8888888888888888, \"#fdca26\"], [1.0, \"#f0f921\"]], \"type\": \"surface\"}], \"table\": [{\"cells\": {\"fill\": {\"color\": \"#EBF0F8\"}, \"line\": {\"color\": \"white\"}}, \"header\": {\"fill\": {\"color\": \"#C8D4E3\"}, \"line\": {\"color\": \"white\"}}, \"type\": \"table\"}]}, \"layout\": {\"annotationdefaults\": {\"arrowcolor\": \"#2a3f5f\", \"arrowhead\": 0, \"arrowwidth\": 1}, \"coloraxis\": {\"colorbar\": {\"outlinewidth\": 0, \"ticks\": \"\"}}, \"colorscale\": {\"diverging\": [[0, \"#8e0152\"], [0.1, \"#c51b7d\"], [0.2, \"#de77ae\"], [0.3, \"#f1b6da\"], [0.4, \"#fde0ef\"], [0.5, \"#f7f7f7\"], [0.6, \"#e6f5d0\"], [0.7, \"#b8e186\"], [0.8, \"#7fbc41\"], [0.9, \"#4d9221\"], [1, \"#276419\"]], \"sequential\": [[0.0, \"#0d0887\"], [0.1111111111111111, \"#46039f\"], [0.2222222222222222, \"#7201a8\"], [0.3333333333333333, \"#9c179e\"], [0.4444444444444444, \"#bd3786\"], [0.5555555555555556, \"#d8576b\"], [0.6666666666666666, \"#ed7953\"], [0.7777777777777778, \"#fb9f3a\"], [0.8888888888888888, \"#fdca26\"], [1.0, \"#f0f921\"]], \"sequentialminus\": [[0.0, \"#0d0887\"], [0.1111111111111111, \"#46039f\"], [0.2222222222222222, \"#7201a8\"], [0.3333333333333333, \"#9c179e\"], [0.4444444444444444, \"#bd3786\"], [0.5555555555555556, \"#d8576b\"], [0.6666666666666666, \"#ed7953\"], [0.7777777777777778, \"#fb9f3a\"], [0.8888888888888888, \"#fdca26\"], [1.0, \"#f0f921\"]]}, \"colorway\": [\"#636efa\", \"#EF553B\", \"#00cc96\", \"#ab63fa\", \"#FFA15A\", \"#19d3f3\", \"#FF6692\", \"#B6E880\", \"#FF97FF\", \"#FECB52\"], \"font\": {\"color\": \"#2a3f5f\"}, \"geo\": {\"bgcolor\": \"white\", \"lakecolor\": \"white\", \"landcolor\": \"#E5ECF6\", \"showlakes\": true, \"showland\": true, \"subunitcolor\": \"white\"}, \"hoverlabel\": {\"align\": \"left\"}, \"hovermode\": \"closest\", \"mapbox\": {\"style\": \"light\"}, \"paper_bgcolor\": \"white\", \"plot_bgcolor\": \"#E5ECF6\", \"polar\": {\"angularaxis\": {\"gridcolor\": \"white\", \"linecolor\": \"white\", \"ticks\": \"\"}, \"bgcolor\": \"#E5ECF6\", \"radialaxis\": {\"gridcolor\": \"white\", \"linecolor\": \"white\", \"ticks\": \"\"}}, \"scene\": {\"xaxis\": {\"backgroundcolor\": \"#E5ECF6\", \"gridcolor\": \"white\", \"gridwidth\": 2, \"linecolor\": \"white\", \"showbackground\": true, \"ticks\": \"\", \"zerolinecolor\": \"white\"}, \"yaxis\": {\"backgroundcolor\": \"#E5ECF6\", \"gridcolor\": \"white\", \"gridwidth\": 2, \"linecolor\": \"white\", \"showbackground\": true, \"ticks\": \"\", \"zerolinecolor\": \"white\"}, \"zaxis\": {\"backgroundcolor\": \"#E5ECF6\", \"gridcolor\": \"white\", \"gridwidth\": 2, \"linecolor\": \"white\", \"showbackground\": true, \"ticks\": \"\", \"zerolinecolor\": \"white\"}}, \"shapedefaults\": {\"line\": {\"color\": \"#2a3f5f\"}}, \"ternary\": {\"aaxis\": {\"gridcolor\": \"white\", \"linecolor\": \"white\", \"ticks\": \"\"}, \"baxis\": {\"gridcolor\": \"white\", \"linecolor\": \"white\", \"ticks\": \"\"}, \"bgcolor\": \"#E5ECF6\", \"caxis\": {\"gridcolor\": \"white\", \"linecolor\": \"white\", \"ticks\": \"\"}}, \"title\": {\"x\": 0.05}, \"xaxis\": {\"automargin\": true, \"gridcolor\": \"white\", \"linecolor\": \"white\", \"ticks\": \"\", \"title\": {\"standoff\": 15}, \"zerolinecolor\": \"white\", \"zerolinewidth\": 2}, \"yaxis\": {\"automargin\": true, \"gridcolor\": \"white\", \"linecolor\": \"white\", \"ticks\": \"\", \"title\": {\"standoff\": 15}, \"zerolinecolor\": \"white\", \"zerolinewidth\": 2}}}, \"title\": {\"font\": {\"color\": \"#4D5663\"}}, \"xaxis\": {\"gridcolor\": \"#E1E5ED\", \"showgrid\": true, \"tickfont\": {\"color\": \"#4D5663\"}, \"title\": {\"font\": {\"color\": \"#4D5663\"}, \"text\": \"\"}, \"zerolinecolor\": \"#E1E5ED\"}, \"yaxis\": {\"gridcolor\": \"#E1E5ED\", \"showgrid\": true, \"tickfont\": {\"color\": \"#4D5663\"}, \"title\": {\"font\": {\"color\": \"#4D5663\"}, \"text\": \"\"}, \"zerolinecolor\": \"#E1E5ED\"}},                        {\"showLink\": true, \"linkText\": \"Export to plot.ly\", \"plotlyServerURL\": \"https://plot.ly\", \"responsive\": true}                    ).then(function(){\n",
       "                            \n",
       "var gd = document.getElementById('24d8d531-1ce2-4bda-abcc-0ad1cf44a592');\n",
       "var x = new MutationObserver(function (mutations, observer) {{\n",
       "        var display = window.getComputedStyle(gd).display;\n",
       "        if (!display || display === 'none') {{\n",
       "            console.log([gd, 'removed!']);\n",
       "            Plotly.purge(gd);\n",
       "            observer.disconnect();\n",
       "        }}\n",
       "}});\n",
       "\n",
       "// Listen for the removal of the full notebook cells\n",
       "var notebookContainer = gd.closest('#notebook-container');\n",
       "if (notebookContainer) {{\n",
       "    x.observe(notebookContainer, {childList: true});\n",
       "}}\n",
       "\n",
       "// Listen for the clearing of the current output cell\n",
       "var outputEl = gd.closest('.output');\n",
       "if (outputEl) {{\n",
       "    x.observe(outputEl, {childList: true});\n",
       "}}\n",
       "\n",
       "                        })                };                });            </script>        </div>"
      ]
     },
     "metadata": {},
     "output_type": "display_data"
    }
   ],
   "source": [
    "fake_df.count().iplot(kind='bar')"
   ]
  },
  {
   "cell_type": "code",
   "execution_count": 22,
   "metadata": {},
   "outputs": [
    {
     "data": {
      "application/vnd.plotly.v1+json": {
       "config": {
        "linkText": "Export to plot.ly",
        "plotlyServerURL": "https://plot.ly",
        "showLink": true
       },
       "data": [
        {
         "boxpoints": false,
         "line": {
          "width": 1.3
         },
         "marker": {
          "color": "rgba(255, 153, 51, 1.0)"
         },
         "name": "A",
         "orientation": "v",
         "type": "box",
         "y": [
          0.5176590531969488,
          0.2611900186917925,
          -2.0770443227929434,
          0.4376128613752404,
          -0.7972765755299147,
          -0.9781925854562078,
          0.021787211156948774,
          -1.8227103978927501,
          1.7661994574612905,
          0.6140684305177554,
          -0.10348408002873685,
          -0.005438269546051754,
          0.14564690286116566,
          -1.6019204582868,
          0.36412650919654904,
          1.8933456811942735,
          0.5580880070310005,
          -1.6721324428771815,
          -0.7640725461546174,
          -0.01743915243591418,
          0.6748540001753083,
          0.7920643030147945,
          -0.8170164432005932,
          -0.40348005188696673,
          0.6539188908047413,
          -0.12400523728931026,
          1.4032160617444647,
          -0.5827443655439306,
          1.1703201043257259,
          -1.3220783976434485,
          0.27017141466012873,
          1.130033689636446,
          -0.19781497959524116,
          0.9146218319990627,
          0.6788744017706305,
          0.7263896841237812,
          -0.4270625982491659,
          1.7771258173188988,
          1.7255189854877893,
          0.10071803173376356,
          0.5584259746959217,
          -0.35980148623036257,
          0.27320206594699464,
          -0.9058148329762855,
          0.6655637328672925,
          0.737591189163516,
          0.42918978634587096,
          -0.667396753774752,
          0.33121038394063146,
          -0.38186248928384686,
          0.4080848294364657,
          1.7446010964370207,
          2.7769588024238145,
          -0.0500309548669025,
          0.1734318857601251,
          -0.560498934672177,
          0.0615027213603778,
          -0.5563384887782385,
          0.6872170531367844,
          1.3085125570269542,
          0.8658386492120068,
          -0.41384192152811716,
          -0.5748894712834556,
          -0.046030262702725415,
          -0.7834661261224901,
          0.33669600457694904,
          0.5649402937564677,
          0.7412011360451405,
          0.03744861967029218,
          -0.31441728987996154,
          0.12757226281435682,
          1.4278042432171743,
          -0.10084618653539616,
          0.44337571123088204,
          0.639743871777665,
          0.05751155640936568,
          0.5562572498216152,
          -0.1992962817147566,
          1.777203558993544,
          0.3884239255669419,
          0.5974152051587482,
          -2.336551059610256,
          0.37178139089325507,
          -0.6083978716388516,
          1.4014589342993968,
          -0.707138581612621,
          -0.15707032363071047,
          -0.599796745012966,
          -0.5280305545087325,
          0.13617931710002912,
          0.20729333459661806,
          0.9195443365275761,
          -1.3027488740641358,
          -0.22063075065637314,
          -0.9410102187865621,
          -0.889314187063548,
          1.0927712482439207,
          0.42244762596411395,
          0.23878587815304225,
          -1.5437470888769478
         ]
        },
        {
         "boxpoints": false,
         "line": {
          "width": 1.3
         },
         "marker": {
          "color": "rgba(55, 128, 191, 1.0)"
         },
         "name": "B",
         "orientation": "v",
         "type": "box",
         "y": [
          -2.062328018719915,
          0.8786899411904887,
          1.1874249981439793,
          0.620421760886563,
          1.8246664737333786,
          -0.5685579142811606,
          0.3088839923239217,
          -1.0084687897342672,
          2.0771684696654575,
          1.7617473144705262,
          0.5218737819883743,
          1.216892180797244,
          -0.6847447329719094,
          0.826588825933059,
          2.6200333634388415,
          2.027364798276653,
          0.46666153606323296,
          0.6321266035330925,
          0.10354350260081757,
          -1.4589818998144466,
          1.0316131049729904,
          -0.4343505887332764,
          0.15860458063757982,
          0.41074091507419974,
          1.438825016119307,
          0.25298155971555386,
          0.46729325225147283,
          0.2936712849184672,
          -1.2348037110121215,
          -0.10345781303290143,
          -0.012482275553756294,
          -0.4475322156922826,
          -1.1414119122054063,
          1.6628239176950863,
          1.7068757940201402,
          -0.6201760521654056,
          1.4276529258902466,
          1.443110863145192,
          -0.0025796355047607586,
          -0.2837037736078109,
          -0.1487082196497076,
          2.4894492822509338,
          1.852621410994538,
          0.8612759018913871,
          0.8478792360988995,
          0.5229295789614508,
          0.1098334359498861,
          0.2612972220104098,
          -1.792210724907832,
          -0.3742743391106684,
          -1.4474845739003757,
          0.23369699704612115,
          -0.3998708578038428,
          -0.3238301112207704,
          -0.3638097440063624,
          0.7677830069036755,
          -0.9560266895216887,
          -1.2620487398743916,
          -0.03370315564410422,
          0.7163516147304333,
          -0.5732647969071828,
          0.07060724906093349,
          0.4459274755835238,
          0.650618412269321,
          -1.0244672632772345,
          -0.6681332442599868,
          -0.9722001914014322,
          0.45238929472010353,
          -2.8035768324235644,
          0.9014287430239033,
          1.319467095259805,
          0.814749966559747,
          -1.6194588318172127,
          1.810232824196542,
          -0.34028761466536867,
          -1.1591663343929903,
          -0.06465852470255785,
          1.7281846836066086,
          -0.8877610317705266,
          0.28713523914667666,
          0.2274495262561486,
          1.5675547163890926,
          0.01636233235734836,
          -0.46263266260882785,
          1.4710093187284892,
          2.008148901429391,
          -0.07354278241686084,
          0.741500628831564,
          -0.29140165890473285,
          -0.4392997604281096,
          -0.4367500190228618,
          2.0212482820418307,
          0.3225503619977586,
          1.6557249579245188,
          -1.2396003969104676,
          0.9414280160172462,
          1.5208718204530265,
          0.43530949652827217,
          0.9965272851620621,
          -0.3126121992418231
         ]
        },
        {
         "boxpoints": false,
         "line": {
          "width": 1.3
         },
         "marker": {
          "color": "rgba(50, 171, 96, 1.0)"
         },
         "name": "C",
         "orientation": "v",
         "type": "box",
         "y": [
          -0.48727860918233845,
          -0.5282876554663558,
          -0.27209616600687514,
          0.4447395054648122,
          -1.4147182032605394,
          -2.001545536032162,
          -0.8139050768749961,
          -0.08415540958256855,
          0.16335269253475443,
          0.22192531594078874,
          -0.7465145927699801,
          1.2382381928715527,
          0.399710364052061,
          -0.5556296232435419,
          0.10523112078869563,
          1.1075848231005008,
          -1.0158005159433114,
          -0.7596710471859048,
          -1.452844043355656,
          -1.3915239186957886,
          -0.8097881708806685,
          -1.0178370496865219,
          -0.44637160508025686,
          1.6132859180573627,
          0.17565726818527774,
          -0.33876503846131806,
          0.022724720511940365,
          1.6098888151291977,
          -0.5402897665187559,
          -0.3554593958944142,
          2.3165434218398167,
          -0.41160881523191234,
          0.166116246324514,
          1.459866207392856,
          -0.6317076246014489,
          0.19800936578443315,
          1.378637346836652,
          0.10374326247746794,
          -0.6413361770585316,
          0.11458583231732682,
          0.9599041243565135,
          -1.5723371667133335,
          -0.4664639112913684,
          -1.6394106572834544,
          0.1467652757537728,
          0.8728649133790104,
          1.7307337730148245,
          0.368431840278857,
          -0.5755407970147597,
          -0.31202607964170215,
          0.8709887287203207,
          1.8961004612187617,
          0.3728939052783495,
          -0.9531482486755148,
          -0.11332309514039031,
          0.6422017191643308,
          -0.5197642814954431,
          1.147175223621175,
          0.5733264065122081,
          1.65480807517257,
          -0.6849922967207143,
          0.18479013520102885,
          -0.6447413089856846,
          0.22400894574406588,
          0.16538156131413714,
          0.16441194950459131,
          0.21669332906532554,
          0.4813508678379441,
          0.9699696772792914,
          -1.1665459251264292,
          1.2076075393271433,
          0.29368548555331,
          1.4642308467104312,
          -0.7069728908570257,
          0.4013650329273782,
          -0.18230132007368946,
          -0.2885258866502022,
          -0.39336355208417584,
          -0.23959986433443717,
          -1.2923231501205141,
          2.2994227658303097,
          -0.9263893110196699,
          0.15646208823728108,
          -0.15706175886400028,
          0.7763084460606078,
          -1.2724470509423125,
          -0.26750777327402353,
          1.3719350763740965,
          -0.7472787619207025,
          0.22924825934807877,
          -0.7087814295431368,
          0.036516810427891414,
          0.17659439595002455,
          0.6481653101242475,
          -1.3438934309126367,
          1.73178952168849,
          -0.5693855683705377,
          0.7592866846464033,
          -0.0932190500533003,
          0.2806141883330818
         ]
        },
        {
         "boxpoints": false,
         "line": {
          "width": 1.3
         },
         "marker": {
          "color": "rgba(128, 0, 128, 1.0)"
         },
         "name": "D",
         "orientation": "v",
         "type": "box",
         "y": [
          0.008652614534942028,
          -0.7949614463548819,
          1.0280042026477036,
          0.8164424740301507,
          0.617727507928314,
          0.15222624393647677,
          1.2859841750205485,
          0.409151171250876,
          -0.6648903490713879,
          0.188280991573493,
          1.7361962451553843,
          0.1292603721639433,
          -1.0746782055634203,
          0.6679863781746483,
          0.2986849379544349,
          -1.2972181834227539,
          0.7234912586140759,
          -1.9871127363581325,
          1.4820943021722468,
          -1.6201531167299896,
          0.667857279595324,
          -1.382531979907316,
          1.1859347449849038,
          -0.42387907178714945,
          0.12645368517089497,
          0.09773820388292274,
          0.6400915462748148,
          0.5104472462638728,
          -0.6806357061741313,
          -0.5150359137758567,
          0.2994526122925929,
          1.5384351485364862,
          -0.3202795354719194,
          -0.19414487250516232,
          -0.21125034780522955,
          1.8555070729023406,
          -0.09338720531514051,
          0.11637535712167411,
          1.49784256052569,
          0.06007444341741698,
          -0.2476782556349282,
          -0.012592927738989842,
          -0.8491035964374101,
          -0.26595759374177486,
          1.1697726986691868,
          0.20333218176749726,
          -0.14393716301640563,
          2.319931703106863,
          0.9738955651766313,
          -0.50053166966656,
          -0.8319540887003886,
          1.26595252565857,
          -0.23641298872202157,
          0.5086954674046928,
          -0.2483971567913297,
          1.5100730208969315,
          0.5002961203486755,
          -0.25574688195411244,
          -0.7467671094006217,
          -0.4189497570766799,
          0.5730461597508703,
          -1.431726732049285,
          -0.9259418636873402,
          0.6274563842867187,
          2.0458204822291437,
          1.2316742901491164,
          -0.43220019448124075,
          0.7077020854027325,
          -1.5853859789697726,
          0.4807179359635406,
          -1.3024623926698402,
          1.6896361218890077,
          2.4627513735028703,
          -0.1677764434855635,
          -0.03935738533338876,
          -1.053561193566943,
          1.3906932780856869,
          0.5695467751425498,
          0.22699250074578836,
          0.9967394933539656,
          0.9245994498217607,
          -0.7341404619357271,
          0.709895521454746,
          0.7712935319432523,
          0.10577149268713595,
          0.7011702661369695,
          -0.7437745832610808,
          0.40193837133621413,
          -0.03408182487082432,
          0.4684774592219555,
          0.4818913373936253,
          2.094699024132364,
          0.3382887195118553,
          0.08293502643049379,
          1.2015167791109795,
          -0.27836722809734166,
          1.0153666305994116,
          1.4738945865609736,
          -2.968119177361254,
          -0.5513376320465491
         ]
        }
       ],
       "layout": {
        "legend": {
         "bgcolor": "#F5F6F9",
         "font": {
          "color": "#4D5663"
         }
        },
        "paper_bgcolor": "#F5F6F9",
        "plot_bgcolor": "#F5F6F9",
        "template": {
         "data": {
          "bar": [
           {
            "error_x": {
             "color": "#2a3f5f"
            },
            "error_y": {
             "color": "#2a3f5f"
            },
            "marker": {
             "line": {
              "color": "#E5ECF6",
              "width": 0.5
             }
            },
            "type": "bar"
           }
          ],
          "barpolar": [
           {
            "marker": {
             "line": {
              "color": "#E5ECF6",
              "width": 0.5
             }
            },
            "type": "barpolar"
           }
          ],
          "carpet": [
           {
            "aaxis": {
             "endlinecolor": "#2a3f5f",
             "gridcolor": "white",
             "linecolor": "white",
             "minorgridcolor": "white",
             "startlinecolor": "#2a3f5f"
            },
            "baxis": {
             "endlinecolor": "#2a3f5f",
             "gridcolor": "white",
             "linecolor": "white",
             "minorgridcolor": "white",
             "startlinecolor": "#2a3f5f"
            },
            "type": "carpet"
           }
          ],
          "choropleth": [
           {
            "colorbar": {
             "outlinewidth": 0,
             "ticks": ""
            },
            "type": "choropleth"
           }
          ],
          "contour": [
           {
            "colorbar": {
             "outlinewidth": 0,
             "ticks": ""
            },
            "colorscale": [
             [
              0,
              "#0d0887"
             ],
             [
              0.1111111111111111,
              "#46039f"
             ],
             [
              0.2222222222222222,
              "#7201a8"
             ],
             [
              0.3333333333333333,
              "#9c179e"
             ],
             [
              0.4444444444444444,
              "#bd3786"
             ],
             [
              0.5555555555555556,
              "#d8576b"
             ],
             [
              0.6666666666666666,
              "#ed7953"
             ],
             [
              0.7777777777777778,
              "#fb9f3a"
             ],
             [
              0.8888888888888888,
              "#fdca26"
             ],
             [
              1,
              "#f0f921"
             ]
            ],
            "type": "contour"
           }
          ],
          "contourcarpet": [
           {
            "colorbar": {
             "outlinewidth": 0,
             "ticks": ""
            },
            "type": "contourcarpet"
           }
          ],
          "heatmap": [
           {
            "colorbar": {
             "outlinewidth": 0,
             "ticks": ""
            },
            "colorscale": [
             [
              0,
              "#0d0887"
             ],
             [
              0.1111111111111111,
              "#46039f"
             ],
             [
              0.2222222222222222,
              "#7201a8"
             ],
             [
              0.3333333333333333,
              "#9c179e"
             ],
             [
              0.4444444444444444,
              "#bd3786"
             ],
             [
              0.5555555555555556,
              "#d8576b"
             ],
             [
              0.6666666666666666,
              "#ed7953"
             ],
             [
              0.7777777777777778,
              "#fb9f3a"
             ],
             [
              0.8888888888888888,
              "#fdca26"
             ],
             [
              1,
              "#f0f921"
             ]
            ],
            "type": "heatmap"
           }
          ],
          "heatmapgl": [
           {
            "colorbar": {
             "outlinewidth": 0,
             "ticks": ""
            },
            "colorscale": [
             [
              0,
              "#0d0887"
             ],
             [
              0.1111111111111111,
              "#46039f"
             ],
             [
              0.2222222222222222,
              "#7201a8"
             ],
             [
              0.3333333333333333,
              "#9c179e"
             ],
             [
              0.4444444444444444,
              "#bd3786"
             ],
             [
              0.5555555555555556,
              "#d8576b"
             ],
             [
              0.6666666666666666,
              "#ed7953"
             ],
             [
              0.7777777777777778,
              "#fb9f3a"
             ],
             [
              0.8888888888888888,
              "#fdca26"
             ],
             [
              1,
              "#f0f921"
             ]
            ],
            "type": "heatmapgl"
           }
          ],
          "histogram": [
           {
            "marker": {
             "colorbar": {
              "outlinewidth": 0,
              "ticks": ""
             }
            },
            "type": "histogram"
           }
          ],
          "histogram2d": [
           {
            "colorbar": {
             "outlinewidth": 0,
             "ticks": ""
            },
            "colorscale": [
             [
              0,
              "#0d0887"
             ],
             [
              0.1111111111111111,
              "#46039f"
             ],
             [
              0.2222222222222222,
              "#7201a8"
             ],
             [
              0.3333333333333333,
              "#9c179e"
             ],
             [
              0.4444444444444444,
              "#bd3786"
             ],
             [
              0.5555555555555556,
              "#d8576b"
             ],
             [
              0.6666666666666666,
              "#ed7953"
             ],
             [
              0.7777777777777778,
              "#fb9f3a"
             ],
             [
              0.8888888888888888,
              "#fdca26"
             ],
             [
              1,
              "#f0f921"
             ]
            ],
            "type": "histogram2d"
           }
          ],
          "histogram2dcontour": [
           {
            "colorbar": {
             "outlinewidth": 0,
             "ticks": ""
            },
            "colorscale": [
             [
              0,
              "#0d0887"
             ],
             [
              0.1111111111111111,
              "#46039f"
             ],
             [
              0.2222222222222222,
              "#7201a8"
             ],
             [
              0.3333333333333333,
              "#9c179e"
             ],
             [
              0.4444444444444444,
              "#bd3786"
             ],
             [
              0.5555555555555556,
              "#d8576b"
             ],
             [
              0.6666666666666666,
              "#ed7953"
             ],
             [
              0.7777777777777778,
              "#fb9f3a"
             ],
             [
              0.8888888888888888,
              "#fdca26"
             ],
             [
              1,
              "#f0f921"
             ]
            ],
            "type": "histogram2dcontour"
           }
          ],
          "mesh3d": [
           {
            "colorbar": {
             "outlinewidth": 0,
             "ticks": ""
            },
            "type": "mesh3d"
           }
          ],
          "parcoords": [
           {
            "line": {
             "colorbar": {
              "outlinewidth": 0,
              "ticks": ""
             }
            },
            "type": "parcoords"
           }
          ],
          "pie": [
           {
            "automargin": true,
            "type": "pie"
           }
          ],
          "scatter": [
           {
            "marker": {
             "colorbar": {
              "outlinewidth": 0,
              "ticks": ""
             }
            },
            "type": "scatter"
           }
          ],
          "scatter3d": [
           {
            "line": {
             "colorbar": {
              "outlinewidth": 0,
              "ticks": ""
             }
            },
            "marker": {
             "colorbar": {
              "outlinewidth": 0,
              "ticks": ""
             }
            },
            "type": "scatter3d"
           }
          ],
          "scattercarpet": [
           {
            "marker": {
             "colorbar": {
              "outlinewidth": 0,
              "ticks": ""
             }
            },
            "type": "scattercarpet"
           }
          ],
          "scattergeo": [
           {
            "marker": {
             "colorbar": {
              "outlinewidth": 0,
              "ticks": ""
             }
            },
            "type": "scattergeo"
           }
          ],
          "scattergl": [
           {
            "marker": {
             "colorbar": {
              "outlinewidth": 0,
              "ticks": ""
             }
            },
            "type": "scattergl"
           }
          ],
          "scattermapbox": [
           {
            "marker": {
             "colorbar": {
              "outlinewidth": 0,
              "ticks": ""
             }
            },
            "type": "scattermapbox"
           }
          ],
          "scatterpolar": [
           {
            "marker": {
             "colorbar": {
              "outlinewidth": 0,
              "ticks": ""
             }
            },
            "type": "scatterpolar"
           }
          ],
          "scatterpolargl": [
           {
            "marker": {
             "colorbar": {
              "outlinewidth": 0,
              "ticks": ""
             }
            },
            "type": "scatterpolargl"
           }
          ],
          "scatterternary": [
           {
            "marker": {
             "colorbar": {
              "outlinewidth": 0,
              "ticks": ""
             }
            },
            "type": "scatterternary"
           }
          ],
          "surface": [
           {
            "colorbar": {
             "outlinewidth": 0,
             "ticks": ""
            },
            "colorscale": [
             [
              0,
              "#0d0887"
             ],
             [
              0.1111111111111111,
              "#46039f"
             ],
             [
              0.2222222222222222,
              "#7201a8"
             ],
             [
              0.3333333333333333,
              "#9c179e"
             ],
             [
              0.4444444444444444,
              "#bd3786"
             ],
             [
              0.5555555555555556,
              "#d8576b"
             ],
             [
              0.6666666666666666,
              "#ed7953"
             ],
             [
              0.7777777777777778,
              "#fb9f3a"
             ],
             [
              0.8888888888888888,
              "#fdca26"
             ],
             [
              1,
              "#f0f921"
             ]
            ],
            "type": "surface"
           }
          ],
          "table": [
           {
            "cells": {
             "fill": {
              "color": "#EBF0F8"
             },
             "line": {
              "color": "white"
             }
            },
            "header": {
             "fill": {
              "color": "#C8D4E3"
             },
             "line": {
              "color": "white"
             }
            },
            "type": "table"
           }
          ]
         },
         "layout": {
          "annotationdefaults": {
           "arrowcolor": "#2a3f5f",
           "arrowhead": 0,
           "arrowwidth": 1
          },
          "coloraxis": {
           "colorbar": {
            "outlinewidth": 0,
            "ticks": ""
           }
          },
          "colorscale": {
           "diverging": [
            [
             0,
             "#8e0152"
            ],
            [
             0.1,
             "#c51b7d"
            ],
            [
             0.2,
             "#de77ae"
            ],
            [
             0.3,
             "#f1b6da"
            ],
            [
             0.4,
             "#fde0ef"
            ],
            [
             0.5,
             "#f7f7f7"
            ],
            [
             0.6,
             "#e6f5d0"
            ],
            [
             0.7,
             "#b8e186"
            ],
            [
             0.8,
             "#7fbc41"
            ],
            [
             0.9,
             "#4d9221"
            ],
            [
             1,
             "#276419"
            ]
           ],
           "sequential": [
            [
             0,
             "#0d0887"
            ],
            [
             0.1111111111111111,
             "#46039f"
            ],
            [
             0.2222222222222222,
             "#7201a8"
            ],
            [
             0.3333333333333333,
             "#9c179e"
            ],
            [
             0.4444444444444444,
             "#bd3786"
            ],
            [
             0.5555555555555556,
             "#d8576b"
            ],
            [
             0.6666666666666666,
             "#ed7953"
            ],
            [
             0.7777777777777778,
             "#fb9f3a"
            ],
            [
             0.8888888888888888,
             "#fdca26"
            ],
            [
             1,
             "#f0f921"
            ]
           ],
           "sequentialminus": [
            [
             0,
             "#0d0887"
            ],
            [
             0.1111111111111111,
             "#46039f"
            ],
            [
             0.2222222222222222,
             "#7201a8"
            ],
            [
             0.3333333333333333,
             "#9c179e"
            ],
            [
             0.4444444444444444,
             "#bd3786"
            ],
            [
             0.5555555555555556,
             "#d8576b"
            ],
            [
             0.6666666666666666,
             "#ed7953"
            ],
            [
             0.7777777777777778,
             "#fb9f3a"
            ],
            [
             0.8888888888888888,
             "#fdca26"
            ],
            [
             1,
             "#f0f921"
            ]
           ]
          },
          "colorway": [
           "#636efa",
           "#EF553B",
           "#00cc96",
           "#ab63fa",
           "#FFA15A",
           "#19d3f3",
           "#FF6692",
           "#B6E880",
           "#FF97FF",
           "#FECB52"
          ],
          "font": {
           "color": "#2a3f5f"
          },
          "geo": {
           "bgcolor": "white",
           "lakecolor": "white",
           "landcolor": "#E5ECF6",
           "showlakes": true,
           "showland": true,
           "subunitcolor": "white"
          },
          "hoverlabel": {
           "align": "left"
          },
          "hovermode": "closest",
          "mapbox": {
           "style": "light"
          },
          "paper_bgcolor": "white",
          "plot_bgcolor": "#E5ECF6",
          "polar": {
           "angularaxis": {
            "gridcolor": "white",
            "linecolor": "white",
            "ticks": ""
           },
           "bgcolor": "#E5ECF6",
           "radialaxis": {
            "gridcolor": "white",
            "linecolor": "white",
            "ticks": ""
           }
          },
          "scene": {
           "xaxis": {
            "backgroundcolor": "#E5ECF6",
            "gridcolor": "white",
            "gridwidth": 2,
            "linecolor": "white",
            "showbackground": true,
            "ticks": "",
            "zerolinecolor": "white"
           },
           "yaxis": {
            "backgroundcolor": "#E5ECF6",
            "gridcolor": "white",
            "gridwidth": 2,
            "linecolor": "white",
            "showbackground": true,
            "ticks": "",
            "zerolinecolor": "white"
           },
           "zaxis": {
            "backgroundcolor": "#E5ECF6",
            "gridcolor": "white",
            "gridwidth": 2,
            "linecolor": "white",
            "showbackground": true,
            "ticks": "",
            "zerolinecolor": "white"
           }
          },
          "shapedefaults": {
           "line": {
            "color": "#2a3f5f"
           }
          },
          "ternary": {
           "aaxis": {
            "gridcolor": "white",
            "linecolor": "white",
            "ticks": ""
           },
           "baxis": {
            "gridcolor": "white",
            "linecolor": "white",
            "ticks": ""
           },
           "bgcolor": "#E5ECF6",
           "caxis": {
            "gridcolor": "white",
            "linecolor": "white",
            "ticks": ""
           }
          },
          "title": {
           "x": 0.05
          },
          "xaxis": {
           "automargin": true,
           "gridcolor": "white",
           "linecolor": "white",
           "ticks": "",
           "title": {
            "standoff": 15
           },
           "zerolinecolor": "white",
           "zerolinewidth": 2
          },
          "yaxis": {
           "automargin": true,
           "gridcolor": "white",
           "linecolor": "white",
           "ticks": "",
           "title": {
            "standoff": 15
           },
           "zerolinecolor": "white",
           "zerolinewidth": 2
          }
         }
        },
        "title": {
         "font": {
          "color": "#4D5663"
         }
        },
        "xaxis": {
         "gridcolor": "#E1E5ED",
         "showgrid": true,
         "tickfont": {
          "color": "#4D5663"
         },
         "title": {
          "font": {
           "color": "#4D5663"
          },
          "text": ""
         },
         "zerolinecolor": "#E1E5ED"
        },
        "yaxis": {
         "gridcolor": "#E1E5ED",
         "showgrid": true,
         "tickfont": {
          "color": "#4D5663"
         },
         "title": {
          "font": {
           "color": "#4D5663"
          },
          "text": ""
         },
         "zerolinecolor": "#E1E5ED"
        }
       }
      },
      "text/html": [
       "<div>                            <div id=\"2f32e914-98e5-45ee-87bd-fc6e549bf964\" class=\"plotly-graph-div\" style=\"height:525px; width:100%;\"></div>            <script type=\"text/javascript\">                require([\"plotly\"], function(Plotly) {                    window.PLOTLYENV=window.PLOTLYENV || {};\n",
       "                    window.PLOTLYENV.BASE_URL='https://plot.ly';                                    if (document.getElementById(\"2f32e914-98e5-45ee-87bd-fc6e549bf964\")) {                    Plotly.newPlot(                        \"2f32e914-98e5-45ee-87bd-fc6e549bf964\",                        [{\"boxpoints\": false, \"line\": {\"width\": 1.3}, \"marker\": {\"color\": \"rgba(255, 153, 51, 1.0)\"}, \"name\": \"A\", \"orientation\": \"v\", \"type\": \"box\", \"y\": [0.5176590531969488, 0.2611900186917925, -2.0770443227929434, 0.4376128613752404, -0.7972765755299147, -0.9781925854562078, 0.021787211156948774, -1.8227103978927501, 1.7661994574612905, 0.6140684305177554, -0.10348408002873685, -0.005438269546051754, 0.14564690286116566, -1.6019204582868, 0.36412650919654904, 1.8933456811942735, 0.5580880070310005, -1.6721324428771815, -0.7640725461546174, -0.01743915243591418, 0.6748540001753083, 0.7920643030147945, -0.8170164432005932, -0.40348005188696673, 0.6539188908047413, -0.12400523728931026, 1.4032160617444647, -0.5827443655439306, 1.1703201043257259, -1.3220783976434485, 0.27017141466012873, 1.130033689636446, -0.19781497959524116, 0.9146218319990627, 0.6788744017706305, 0.7263896841237812, -0.4270625982491659, 1.7771258173188988, 1.7255189854877893, 0.10071803173376356, 0.5584259746959217, -0.35980148623036257, 0.27320206594699464, -0.9058148329762855, 0.6655637328672925, 0.737591189163516, 0.42918978634587096, -0.667396753774752, 0.33121038394063146, -0.38186248928384686, 0.4080848294364657, 1.7446010964370207, 2.7769588024238145, -0.0500309548669025, 0.1734318857601251, -0.560498934672177, 0.0615027213603778, -0.5563384887782385, 0.6872170531367844, 1.3085125570269542, 0.8658386492120068, -0.41384192152811716, -0.5748894712834556, -0.046030262702725415, -0.7834661261224901, 0.33669600457694904, 0.5649402937564677, 0.7412011360451405, 0.03744861967029218, -0.31441728987996154, 0.12757226281435682, 1.4278042432171743, -0.10084618653539616, 0.44337571123088204, 0.639743871777665, 0.05751155640936568, 0.5562572498216152, -0.1992962817147566, 1.777203558993544, 0.3884239255669419, 0.5974152051587482, -2.336551059610256, 0.37178139089325507, -0.6083978716388516, 1.4014589342993968, -0.707138581612621, -0.15707032363071047, -0.599796745012966, -0.5280305545087325, 0.13617931710002912, 0.20729333459661806, 0.9195443365275761, -1.3027488740641358, -0.22063075065637314, -0.9410102187865621, -0.889314187063548, 1.0927712482439207, 0.42244762596411395, 0.23878587815304225, -1.5437470888769478]}, {\"boxpoints\": false, \"line\": {\"width\": 1.3}, \"marker\": {\"color\": \"rgba(55, 128, 191, 1.0)\"}, \"name\": \"B\", \"orientation\": \"v\", \"type\": \"box\", \"y\": [-2.062328018719915, 0.8786899411904887, 1.1874249981439793, 0.620421760886563, 1.8246664737333786, -0.5685579142811606, 0.3088839923239217, -1.0084687897342672, 2.0771684696654575, 1.7617473144705262, 0.5218737819883743, 1.216892180797244, -0.6847447329719094, 0.826588825933059, 2.6200333634388415, 2.027364798276653, 0.46666153606323296, 0.6321266035330925, 0.10354350260081757, -1.4589818998144466, 1.0316131049729904, -0.4343505887332764, 0.15860458063757982, 0.41074091507419974, 1.438825016119307, 0.25298155971555386, 0.46729325225147283, 0.2936712849184672, -1.2348037110121215, -0.10345781303290143, -0.012482275553756294, -0.4475322156922826, -1.1414119122054063, 1.6628239176950863, 1.7068757940201402, -0.6201760521654056, 1.4276529258902466, 1.443110863145192, -0.0025796355047607586, -0.2837037736078109, -0.1487082196497076, 2.4894492822509338, 1.852621410994538, 0.8612759018913871, 0.8478792360988995, 0.5229295789614508, 0.1098334359498861, 0.2612972220104098, -1.792210724907832, -0.3742743391106684, -1.4474845739003757, 0.23369699704612115, -0.3998708578038428, -0.3238301112207704, -0.3638097440063624, 0.7677830069036755, -0.9560266895216887, -1.2620487398743916, -0.03370315564410422, 0.7163516147304333, -0.5732647969071828, 0.07060724906093349, 0.4459274755835238, 0.650618412269321, -1.0244672632772345, -0.6681332442599868, -0.9722001914014322, 0.45238929472010353, -2.8035768324235644, 0.9014287430239033, 1.319467095259805, 0.814749966559747, -1.6194588318172127, 1.810232824196542, -0.34028761466536867, -1.1591663343929903, -0.06465852470255785, 1.7281846836066086, -0.8877610317705266, 0.28713523914667666, 0.2274495262561486, 1.5675547163890926, 0.01636233235734836, -0.46263266260882785, 1.4710093187284892, 2.008148901429391, -0.07354278241686084, 0.741500628831564, -0.29140165890473285, -0.4392997604281096, -0.4367500190228618, 2.0212482820418307, 0.3225503619977586, 1.6557249579245188, -1.2396003969104676, 0.9414280160172462, 1.5208718204530265, 0.43530949652827217, 0.9965272851620621, -0.3126121992418231]}, {\"boxpoints\": false, \"line\": {\"width\": 1.3}, \"marker\": {\"color\": \"rgba(50, 171, 96, 1.0)\"}, \"name\": \"C\", \"orientation\": \"v\", \"type\": \"box\", \"y\": [-0.48727860918233845, -0.5282876554663558, -0.27209616600687514, 0.4447395054648122, -1.4147182032605394, -2.001545536032162, -0.8139050768749961, -0.08415540958256855, 0.16335269253475443, 0.22192531594078874, -0.7465145927699801, 1.2382381928715527, 0.399710364052061, -0.5556296232435419, 0.10523112078869563, 1.1075848231005008, -1.0158005159433114, -0.7596710471859048, -1.452844043355656, -1.3915239186957886, -0.8097881708806685, -1.0178370496865219, -0.44637160508025686, 1.6132859180573627, 0.17565726818527774, -0.33876503846131806, 0.022724720511940365, 1.6098888151291977, -0.5402897665187559, -0.3554593958944142, 2.3165434218398167, -0.41160881523191234, 0.166116246324514, 1.459866207392856, -0.6317076246014489, 0.19800936578443315, 1.378637346836652, 0.10374326247746794, -0.6413361770585316, 0.11458583231732682, 0.9599041243565135, -1.5723371667133335, -0.4664639112913684, -1.6394106572834544, 0.1467652757537728, 0.8728649133790104, 1.7307337730148245, 0.368431840278857, -0.5755407970147597, -0.31202607964170215, 0.8709887287203207, 1.8961004612187617, 0.3728939052783495, -0.9531482486755148, -0.11332309514039031, 0.6422017191643308, -0.5197642814954431, 1.147175223621175, 0.5733264065122081, 1.65480807517257, -0.6849922967207143, 0.18479013520102885, -0.6447413089856846, 0.22400894574406588, 0.16538156131413714, 0.16441194950459131, 0.21669332906532554, 0.4813508678379441, 0.9699696772792914, -1.1665459251264292, 1.2076075393271433, 0.29368548555331, 1.4642308467104312, -0.7069728908570257, 0.4013650329273782, -0.18230132007368946, -0.2885258866502022, -0.39336355208417584, -0.23959986433443717, -1.2923231501205141, 2.2994227658303097, -0.9263893110196699, 0.15646208823728108, -0.15706175886400028, 0.7763084460606078, -1.2724470509423125, -0.26750777327402353, 1.3719350763740965, -0.7472787619207025, 0.22924825934807877, -0.7087814295431368, 0.036516810427891414, 0.17659439595002455, 0.6481653101242475, -1.3438934309126367, 1.73178952168849, -0.5693855683705377, 0.7592866846464033, -0.0932190500533003, 0.2806141883330818]}, {\"boxpoints\": false, \"line\": {\"width\": 1.3}, \"marker\": {\"color\": \"rgba(128, 0, 128, 1.0)\"}, \"name\": \"D\", \"orientation\": \"v\", \"type\": \"box\", \"y\": [0.008652614534942028, -0.7949614463548819, 1.0280042026477036, 0.8164424740301507, 0.617727507928314, 0.15222624393647677, 1.2859841750205485, 0.409151171250876, -0.6648903490713879, 0.188280991573493, 1.7361962451553843, 0.1292603721639433, -1.0746782055634203, 0.6679863781746483, 0.2986849379544349, -1.2972181834227539, 0.7234912586140759, -1.9871127363581325, 1.4820943021722468, -1.6201531167299896, 0.667857279595324, -1.382531979907316, 1.1859347449849038, -0.42387907178714945, 0.12645368517089497, 0.09773820388292274, 0.6400915462748148, 0.5104472462638728, -0.6806357061741313, -0.5150359137758567, 0.2994526122925929, 1.5384351485364862, -0.3202795354719194, -0.19414487250516232, -0.21125034780522955, 1.8555070729023406, -0.09338720531514051, 0.11637535712167411, 1.49784256052569, 0.06007444341741698, -0.2476782556349282, -0.012592927738989842, -0.8491035964374101, -0.26595759374177486, 1.1697726986691868, 0.20333218176749726, -0.14393716301640563, 2.319931703106863, 0.9738955651766313, -0.50053166966656, -0.8319540887003886, 1.26595252565857, -0.23641298872202157, 0.5086954674046928, -0.2483971567913297, 1.5100730208969315, 0.5002961203486755, -0.25574688195411244, -0.7467671094006217, -0.4189497570766799, 0.5730461597508703, -1.431726732049285, -0.9259418636873402, 0.6274563842867187, 2.0458204822291437, 1.2316742901491164, -0.43220019448124075, 0.7077020854027325, -1.5853859789697726, 0.4807179359635406, -1.3024623926698402, 1.6896361218890077, 2.4627513735028703, -0.1677764434855635, -0.03935738533338876, -1.053561193566943, 1.3906932780856869, 0.5695467751425498, 0.22699250074578836, 0.9967394933539656, 0.9245994498217607, -0.7341404619357271, 0.709895521454746, 0.7712935319432523, 0.10577149268713595, 0.7011702661369695, -0.7437745832610808, 0.40193837133621413, -0.03408182487082432, 0.4684774592219555, 0.4818913373936253, 2.094699024132364, 0.3382887195118553, 0.08293502643049379, 1.2015167791109795, -0.27836722809734166, 1.0153666305994116, 1.4738945865609736, -2.968119177361254, -0.5513376320465491]}],                        {\"legend\": {\"bgcolor\": \"#F5F6F9\", \"font\": {\"color\": \"#4D5663\"}}, \"paper_bgcolor\": \"#F5F6F9\", \"plot_bgcolor\": \"#F5F6F9\", \"template\": {\"data\": {\"bar\": [{\"error_x\": {\"color\": \"#2a3f5f\"}, \"error_y\": {\"color\": \"#2a3f5f\"}, \"marker\": {\"line\": {\"color\": \"#E5ECF6\", \"width\": 0.5}}, \"type\": \"bar\"}], \"barpolar\": [{\"marker\": {\"line\": {\"color\": \"#E5ECF6\", \"width\": 0.5}}, \"type\": \"barpolar\"}], \"carpet\": [{\"aaxis\": {\"endlinecolor\": \"#2a3f5f\", \"gridcolor\": \"white\", \"linecolor\": \"white\", \"minorgridcolor\": \"white\", \"startlinecolor\": \"#2a3f5f\"}, \"baxis\": {\"endlinecolor\": \"#2a3f5f\", \"gridcolor\": \"white\", \"linecolor\": \"white\", \"minorgridcolor\": \"white\", \"startlinecolor\": \"#2a3f5f\"}, \"type\": \"carpet\"}], \"choropleth\": [{\"colorbar\": {\"outlinewidth\": 0, \"ticks\": \"\"}, \"type\": \"choropleth\"}], \"contour\": [{\"colorbar\": {\"outlinewidth\": 0, \"ticks\": \"\"}, \"colorscale\": [[0.0, \"#0d0887\"], [0.1111111111111111, \"#46039f\"], [0.2222222222222222, \"#7201a8\"], [0.3333333333333333, \"#9c179e\"], [0.4444444444444444, \"#bd3786\"], [0.5555555555555556, \"#d8576b\"], [0.6666666666666666, \"#ed7953\"], [0.7777777777777778, \"#fb9f3a\"], [0.8888888888888888, \"#fdca26\"], [1.0, \"#f0f921\"]], \"type\": \"contour\"}], \"contourcarpet\": [{\"colorbar\": {\"outlinewidth\": 0, \"ticks\": \"\"}, \"type\": \"contourcarpet\"}], \"heatmap\": [{\"colorbar\": {\"outlinewidth\": 0, \"ticks\": \"\"}, \"colorscale\": [[0.0, \"#0d0887\"], [0.1111111111111111, \"#46039f\"], [0.2222222222222222, \"#7201a8\"], [0.3333333333333333, \"#9c179e\"], [0.4444444444444444, \"#bd3786\"], [0.5555555555555556, \"#d8576b\"], [0.6666666666666666, \"#ed7953\"], [0.7777777777777778, \"#fb9f3a\"], [0.8888888888888888, \"#fdca26\"], [1.0, \"#f0f921\"]], \"type\": \"heatmap\"}], \"heatmapgl\": [{\"colorbar\": {\"outlinewidth\": 0, \"ticks\": \"\"}, \"colorscale\": [[0.0, \"#0d0887\"], [0.1111111111111111, \"#46039f\"], [0.2222222222222222, \"#7201a8\"], [0.3333333333333333, \"#9c179e\"], [0.4444444444444444, \"#bd3786\"], [0.5555555555555556, \"#d8576b\"], [0.6666666666666666, \"#ed7953\"], [0.7777777777777778, \"#fb9f3a\"], [0.8888888888888888, \"#fdca26\"], [1.0, \"#f0f921\"]], \"type\": \"heatmapgl\"}], \"histogram\": [{\"marker\": {\"colorbar\": {\"outlinewidth\": 0, \"ticks\": \"\"}}, \"type\": \"histogram\"}], \"histogram2d\": [{\"colorbar\": {\"outlinewidth\": 0, \"ticks\": \"\"}, \"colorscale\": [[0.0, \"#0d0887\"], [0.1111111111111111, \"#46039f\"], [0.2222222222222222, \"#7201a8\"], [0.3333333333333333, \"#9c179e\"], [0.4444444444444444, \"#bd3786\"], [0.5555555555555556, \"#d8576b\"], [0.6666666666666666, \"#ed7953\"], [0.7777777777777778, \"#fb9f3a\"], [0.8888888888888888, \"#fdca26\"], [1.0, \"#f0f921\"]], \"type\": \"histogram2d\"}], \"histogram2dcontour\": [{\"colorbar\": {\"outlinewidth\": 0, \"ticks\": \"\"}, \"colorscale\": [[0.0, \"#0d0887\"], [0.1111111111111111, \"#46039f\"], [0.2222222222222222, \"#7201a8\"], [0.3333333333333333, \"#9c179e\"], [0.4444444444444444, \"#bd3786\"], [0.5555555555555556, \"#d8576b\"], [0.6666666666666666, \"#ed7953\"], [0.7777777777777778, \"#fb9f3a\"], [0.8888888888888888, \"#fdca26\"], [1.0, \"#f0f921\"]], \"type\": \"histogram2dcontour\"}], \"mesh3d\": [{\"colorbar\": {\"outlinewidth\": 0, \"ticks\": \"\"}, \"type\": \"mesh3d\"}], \"parcoords\": [{\"line\": {\"colorbar\": {\"outlinewidth\": 0, \"ticks\": \"\"}}, \"type\": \"parcoords\"}], \"pie\": [{\"automargin\": true, \"type\": \"pie\"}], \"scatter\": [{\"marker\": {\"colorbar\": {\"outlinewidth\": 0, \"ticks\": \"\"}}, \"type\": \"scatter\"}], \"scatter3d\": [{\"line\": {\"colorbar\": {\"outlinewidth\": 0, \"ticks\": \"\"}}, \"marker\": {\"colorbar\": {\"outlinewidth\": 0, \"ticks\": \"\"}}, \"type\": \"scatter3d\"}], \"scattercarpet\": [{\"marker\": {\"colorbar\": {\"outlinewidth\": 0, \"ticks\": \"\"}}, \"type\": \"scattercarpet\"}], \"scattergeo\": [{\"marker\": {\"colorbar\": {\"outlinewidth\": 0, \"ticks\": \"\"}}, \"type\": \"scattergeo\"}], \"scattergl\": [{\"marker\": {\"colorbar\": {\"outlinewidth\": 0, \"ticks\": \"\"}}, \"type\": \"scattergl\"}], \"scattermapbox\": [{\"marker\": {\"colorbar\": {\"outlinewidth\": 0, \"ticks\": \"\"}}, \"type\": \"scattermapbox\"}], \"scatterpolar\": [{\"marker\": {\"colorbar\": {\"outlinewidth\": 0, \"ticks\": \"\"}}, \"type\": \"scatterpolar\"}], \"scatterpolargl\": [{\"marker\": {\"colorbar\": {\"outlinewidth\": 0, \"ticks\": \"\"}}, \"type\": \"scatterpolargl\"}], \"scatterternary\": [{\"marker\": {\"colorbar\": {\"outlinewidth\": 0, \"ticks\": \"\"}}, \"type\": \"scatterternary\"}], \"surface\": [{\"colorbar\": {\"outlinewidth\": 0, \"ticks\": \"\"}, \"colorscale\": [[0.0, \"#0d0887\"], [0.1111111111111111, \"#46039f\"], [0.2222222222222222, \"#7201a8\"], [0.3333333333333333, \"#9c179e\"], [0.4444444444444444, \"#bd3786\"], [0.5555555555555556, \"#d8576b\"], [0.6666666666666666, \"#ed7953\"], [0.7777777777777778, \"#fb9f3a\"], [0.8888888888888888, \"#fdca26\"], [1.0, \"#f0f921\"]], \"type\": \"surface\"}], \"table\": [{\"cells\": {\"fill\": {\"color\": \"#EBF0F8\"}, \"line\": {\"color\": \"white\"}}, \"header\": {\"fill\": {\"color\": \"#C8D4E3\"}, \"line\": {\"color\": \"white\"}}, \"type\": \"table\"}]}, \"layout\": {\"annotationdefaults\": {\"arrowcolor\": \"#2a3f5f\", \"arrowhead\": 0, \"arrowwidth\": 1}, \"coloraxis\": {\"colorbar\": {\"outlinewidth\": 0, \"ticks\": \"\"}}, \"colorscale\": {\"diverging\": [[0, \"#8e0152\"], [0.1, \"#c51b7d\"], [0.2, \"#de77ae\"], [0.3, \"#f1b6da\"], [0.4, \"#fde0ef\"], [0.5, \"#f7f7f7\"], [0.6, \"#e6f5d0\"], [0.7, \"#b8e186\"], [0.8, \"#7fbc41\"], [0.9, \"#4d9221\"], [1, \"#276419\"]], \"sequential\": [[0.0, \"#0d0887\"], [0.1111111111111111, \"#46039f\"], [0.2222222222222222, \"#7201a8\"], [0.3333333333333333, \"#9c179e\"], [0.4444444444444444, \"#bd3786\"], [0.5555555555555556, \"#d8576b\"], [0.6666666666666666, \"#ed7953\"], [0.7777777777777778, \"#fb9f3a\"], [0.8888888888888888, \"#fdca26\"], [1.0, \"#f0f921\"]], \"sequentialminus\": [[0.0, \"#0d0887\"], [0.1111111111111111, \"#46039f\"], [0.2222222222222222, \"#7201a8\"], [0.3333333333333333, \"#9c179e\"], [0.4444444444444444, \"#bd3786\"], [0.5555555555555556, \"#d8576b\"], [0.6666666666666666, \"#ed7953\"], [0.7777777777777778, \"#fb9f3a\"], [0.8888888888888888, \"#fdca26\"], [1.0, \"#f0f921\"]]}, \"colorway\": [\"#636efa\", \"#EF553B\", \"#00cc96\", \"#ab63fa\", \"#FFA15A\", \"#19d3f3\", \"#FF6692\", \"#B6E880\", \"#FF97FF\", \"#FECB52\"], \"font\": {\"color\": \"#2a3f5f\"}, \"geo\": {\"bgcolor\": \"white\", \"lakecolor\": \"white\", \"landcolor\": \"#E5ECF6\", \"showlakes\": true, \"showland\": true, \"subunitcolor\": \"white\"}, \"hoverlabel\": {\"align\": \"left\"}, \"hovermode\": \"closest\", \"mapbox\": {\"style\": \"light\"}, \"paper_bgcolor\": \"white\", \"plot_bgcolor\": \"#E5ECF6\", \"polar\": {\"angularaxis\": {\"gridcolor\": \"white\", \"linecolor\": \"white\", \"ticks\": \"\"}, \"bgcolor\": \"#E5ECF6\", \"radialaxis\": {\"gridcolor\": \"white\", \"linecolor\": \"white\", \"ticks\": \"\"}}, \"scene\": {\"xaxis\": {\"backgroundcolor\": \"#E5ECF6\", \"gridcolor\": \"white\", \"gridwidth\": 2, \"linecolor\": \"white\", \"showbackground\": true, \"ticks\": \"\", \"zerolinecolor\": \"white\"}, \"yaxis\": {\"backgroundcolor\": \"#E5ECF6\", \"gridcolor\": \"white\", \"gridwidth\": 2, \"linecolor\": \"white\", \"showbackground\": true, \"ticks\": \"\", \"zerolinecolor\": \"white\"}, \"zaxis\": {\"backgroundcolor\": \"#E5ECF6\", \"gridcolor\": \"white\", \"gridwidth\": 2, \"linecolor\": \"white\", \"showbackground\": true, \"ticks\": \"\", \"zerolinecolor\": \"white\"}}, \"shapedefaults\": {\"line\": {\"color\": \"#2a3f5f\"}}, \"ternary\": {\"aaxis\": {\"gridcolor\": \"white\", \"linecolor\": \"white\", \"ticks\": \"\"}, \"baxis\": {\"gridcolor\": \"white\", \"linecolor\": \"white\", \"ticks\": \"\"}, \"bgcolor\": \"#E5ECF6\", \"caxis\": {\"gridcolor\": \"white\", \"linecolor\": \"white\", \"ticks\": \"\"}}, \"title\": {\"x\": 0.05}, \"xaxis\": {\"automargin\": true, \"gridcolor\": \"white\", \"linecolor\": \"white\", \"ticks\": \"\", \"title\": {\"standoff\": 15}, \"zerolinecolor\": \"white\", \"zerolinewidth\": 2}, \"yaxis\": {\"automargin\": true, \"gridcolor\": \"white\", \"linecolor\": \"white\", \"ticks\": \"\", \"title\": {\"standoff\": 15}, \"zerolinecolor\": \"white\", \"zerolinewidth\": 2}}}, \"title\": {\"font\": {\"color\": \"#4D5663\"}}, \"xaxis\": {\"gridcolor\": \"#E1E5ED\", \"showgrid\": true, \"tickfont\": {\"color\": \"#4D5663\"}, \"title\": {\"font\": {\"color\": \"#4D5663\"}, \"text\": \"\"}, \"zerolinecolor\": \"#E1E5ED\"}, \"yaxis\": {\"gridcolor\": \"#E1E5ED\", \"showgrid\": true, \"tickfont\": {\"color\": \"#4D5663\"}, \"title\": {\"font\": {\"color\": \"#4D5663\"}, \"text\": \"\"}, \"zerolinecolor\": \"#E1E5ED\"}},                        {\"showLink\": true, \"linkText\": \"Export to plot.ly\", \"plotlyServerURL\": \"https://plot.ly\", \"responsive\": true}                    ).then(function(){\n",
       "                            \n",
       "var gd = document.getElementById('2f32e914-98e5-45ee-87bd-fc6e549bf964');\n",
       "var x = new MutationObserver(function (mutations, observer) {{\n",
       "        var display = window.getComputedStyle(gd).display;\n",
       "        if (!display || display === 'none') {{\n",
       "            console.log([gd, 'removed!']);\n",
       "            Plotly.purge(gd);\n",
       "            observer.disconnect();\n",
       "        }}\n",
       "}});\n",
       "\n",
       "// Listen for the removal of the full notebook cells\n",
       "var notebookContainer = gd.closest('#notebook-container');\n",
       "if (notebookContainer) {{\n",
       "    x.observe(notebookContainer, {childList: true});\n",
       "}}\n",
       "\n",
       "// Listen for the clearing of the current output cell\n",
       "var outputEl = gd.closest('.output');\n",
       "if (outputEl) {{\n",
       "    x.observe(outputEl, {childList: true});\n",
       "}}\n",
       "\n",
       "                        })                };                });            </script>        </div>"
      ]
     },
     "metadata": {},
     "output_type": "display_data"
    }
   ],
   "source": [
    "fake_df.iplot(kind='box')"
   ]
  },
  {
   "cell_type": "markdown",
   "metadata": {},
   "source": [
    "# 3D Surface"
   ]
  },
  {
   "cell_type": "code",
   "execution_count": 24,
   "metadata": {
    "scrolled": true
   },
   "outputs": [
    {
     "data": {
      "application/vnd.plotly.v1+json": {
       "config": {
        "linkText": "Export to plot.ly",
        "plotlyServerURL": "https://plot.ly",
        "showLink": true
       },
       "data": [
        {
         "colorscale": [
          [
           0,
           "rgb(165,0,38)"
          ],
          [
           0.1,
           "rgb(215,48,39)"
          ],
          [
           0.2,
           "rgb(244,109,67)"
          ],
          [
           0.3,
           "rgb(253,174,97)"
          ],
          [
           0.4,
           "rgb(254,224,144)"
          ],
          [
           0.5,
           "rgb(255,255,191)"
          ],
          [
           0.6,
           "rgb(224,243,248)"
          ],
          [
           0.7,
           "rgb(171,217,233)"
          ],
          [
           0.8,
           "rgb(116,173,209)"
          ],
          [
           0.9,
           "rgb(69,117,180)"
          ],
          [
           1,
           "rgb(49,54,149)"
          ]
         ],
         "type": "surface",
         "x": [
          0,
          1,
          2,
          3,
          4
         ],
         "y": [
          "x",
          "y",
          "z"
         ],
         "z": [
          [
           1,
           2,
           3,
           4,
           5
          ],
          [
           10,
           20,
           30,
           20,
           10
          ],
          [
           5,
           4,
           3,
           2,
           1
          ]
         ]
        }
       ],
       "layout": {
        "legend": {
         "bgcolor": "#F5F6F9",
         "font": {
          "color": "#4D5663"
         }
        },
        "paper_bgcolor": "#F5F6F9",
        "plot_bgcolor": "#F5F6F9",
        "template": {
         "data": {
          "bar": [
           {
            "error_x": {
             "color": "#2a3f5f"
            },
            "error_y": {
             "color": "#2a3f5f"
            },
            "marker": {
             "line": {
              "color": "#E5ECF6",
              "width": 0.5
             }
            },
            "type": "bar"
           }
          ],
          "barpolar": [
           {
            "marker": {
             "line": {
              "color": "#E5ECF6",
              "width": 0.5
             }
            },
            "type": "barpolar"
           }
          ],
          "carpet": [
           {
            "aaxis": {
             "endlinecolor": "#2a3f5f",
             "gridcolor": "white",
             "linecolor": "white",
             "minorgridcolor": "white",
             "startlinecolor": "#2a3f5f"
            },
            "baxis": {
             "endlinecolor": "#2a3f5f",
             "gridcolor": "white",
             "linecolor": "white",
             "minorgridcolor": "white",
             "startlinecolor": "#2a3f5f"
            },
            "type": "carpet"
           }
          ],
          "choropleth": [
           {
            "colorbar": {
             "outlinewidth": 0,
             "ticks": ""
            },
            "type": "choropleth"
           }
          ],
          "contour": [
           {
            "colorbar": {
             "outlinewidth": 0,
             "ticks": ""
            },
            "colorscale": [
             [
              0,
              "#0d0887"
             ],
             [
              0.1111111111111111,
              "#46039f"
             ],
             [
              0.2222222222222222,
              "#7201a8"
             ],
             [
              0.3333333333333333,
              "#9c179e"
             ],
             [
              0.4444444444444444,
              "#bd3786"
             ],
             [
              0.5555555555555556,
              "#d8576b"
             ],
             [
              0.6666666666666666,
              "#ed7953"
             ],
             [
              0.7777777777777778,
              "#fb9f3a"
             ],
             [
              0.8888888888888888,
              "#fdca26"
             ],
             [
              1,
              "#f0f921"
             ]
            ],
            "type": "contour"
           }
          ],
          "contourcarpet": [
           {
            "colorbar": {
             "outlinewidth": 0,
             "ticks": ""
            },
            "type": "contourcarpet"
           }
          ],
          "heatmap": [
           {
            "colorbar": {
             "outlinewidth": 0,
             "ticks": ""
            },
            "colorscale": [
             [
              0,
              "#0d0887"
             ],
             [
              0.1111111111111111,
              "#46039f"
             ],
             [
              0.2222222222222222,
              "#7201a8"
             ],
             [
              0.3333333333333333,
              "#9c179e"
             ],
             [
              0.4444444444444444,
              "#bd3786"
             ],
             [
              0.5555555555555556,
              "#d8576b"
             ],
             [
              0.6666666666666666,
              "#ed7953"
             ],
             [
              0.7777777777777778,
              "#fb9f3a"
             ],
             [
              0.8888888888888888,
              "#fdca26"
             ],
             [
              1,
              "#f0f921"
             ]
            ],
            "type": "heatmap"
           }
          ],
          "heatmapgl": [
           {
            "colorbar": {
             "outlinewidth": 0,
             "ticks": ""
            },
            "colorscale": [
             [
              0,
              "#0d0887"
             ],
             [
              0.1111111111111111,
              "#46039f"
             ],
             [
              0.2222222222222222,
              "#7201a8"
             ],
             [
              0.3333333333333333,
              "#9c179e"
             ],
             [
              0.4444444444444444,
              "#bd3786"
             ],
             [
              0.5555555555555556,
              "#d8576b"
             ],
             [
              0.6666666666666666,
              "#ed7953"
             ],
             [
              0.7777777777777778,
              "#fb9f3a"
             ],
             [
              0.8888888888888888,
              "#fdca26"
             ],
             [
              1,
              "#f0f921"
             ]
            ],
            "type": "heatmapgl"
           }
          ],
          "histogram": [
           {
            "marker": {
             "colorbar": {
              "outlinewidth": 0,
              "ticks": ""
             }
            },
            "type": "histogram"
           }
          ],
          "histogram2d": [
           {
            "colorbar": {
             "outlinewidth": 0,
             "ticks": ""
            },
            "colorscale": [
             [
              0,
              "#0d0887"
             ],
             [
              0.1111111111111111,
              "#46039f"
             ],
             [
              0.2222222222222222,
              "#7201a8"
             ],
             [
              0.3333333333333333,
              "#9c179e"
             ],
             [
              0.4444444444444444,
              "#bd3786"
             ],
             [
              0.5555555555555556,
              "#d8576b"
             ],
             [
              0.6666666666666666,
              "#ed7953"
             ],
             [
              0.7777777777777778,
              "#fb9f3a"
             ],
             [
              0.8888888888888888,
              "#fdca26"
             ],
             [
              1,
              "#f0f921"
             ]
            ],
            "type": "histogram2d"
           }
          ],
          "histogram2dcontour": [
           {
            "colorbar": {
             "outlinewidth": 0,
             "ticks": ""
            },
            "colorscale": [
             [
              0,
              "#0d0887"
             ],
             [
              0.1111111111111111,
              "#46039f"
             ],
             [
              0.2222222222222222,
              "#7201a8"
             ],
             [
              0.3333333333333333,
              "#9c179e"
             ],
             [
              0.4444444444444444,
              "#bd3786"
             ],
             [
              0.5555555555555556,
              "#d8576b"
             ],
             [
              0.6666666666666666,
              "#ed7953"
             ],
             [
              0.7777777777777778,
              "#fb9f3a"
             ],
             [
              0.8888888888888888,
              "#fdca26"
             ],
             [
              1,
              "#f0f921"
             ]
            ],
            "type": "histogram2dcontour"
           }
          ],
          "mesh3d": [
           {
            "colorbar": {
             "outlinewidth": 0,
             "ticks": ""
            },
            "type": "mesh3d"
           }
          ],
          "parcoords": [
           {
            "line": {
             "colorbar": {
              "outlinewidth": 0,
              "ticks": ""
             }
            },
            "type": "parcoords"
           }
          ],
          "pie": [
           {
            "automargin": true,
            "type": "pie"
           }
          ],
          "scatter": [
           {
            "marker": {
             "colorbar": {
              "outlinewidth": 0,
              "ticks": ""
             }
            },
            "type": "scatter"
           }
          ],
          "scatter3d": [
           {
            "line": {
             "colorbar": {
              "outlinewidth": 0,
              "ticks": ""
             }
            },
            "marker": {
             "colorbar": {
              "outlinewidth": 0,
              "ticks": ""
             }
            },
            "type": "scatter3d"
           }
          ],
          "scattercarpet": [
           {
            "marker": {
             "colorbar": {
              "outlinewidth": 0,
              "ticks": ""
             }
            },
            "type": "scattercarpet"
           }
          ],
          "scattergeo": [
           {
            "marker": {
             "colorbar": {
              "outlinewidth": 0,
              "ticks": ""
             }
            },
            "type": "scattergeo"
           }
          ],
          "scattergl": [
           {
            "marker": {
             "colorbar": {
              "outlinewidth": 0,
              "ticks": ""
             }
            },
            "type": "scattergl"
           }
          ],
          "scattermapbox": [
           {
            "marker": {
             "colorbar": {
              "outlinewidth": 0,
              "ticks": ""
             }
            },
            "type": "scattermapbox"
           }
          ],
          "scatterpolar": [
           {
            "marker": {
             "colorbar": {
              "outlinewidth": 0,
              "ticks": ""
             }
            },
            "type": "scatterpolar"
           }
          ],
          "scatterpolargl": [
           {
            "marker": {
             "colorbar": {
              "outlinewidth": 0,
              "ticks": ""
             }
            },
            "type": "scatterpolargl"
           }
          ],
          "scatterternary": [
           {
            "marker": {
             "colorbar": {
              "outlinewidth": 0,
              "ticks": ""
             }
            },
            "type": "scatterternary"
           }
          ],
          "surface": [
           {
            "colorbar": {
             "outlinewidth": 0,
             "ticks": ""
            },
            "colorscale": [
             [
              0,
              "#0d0887"
             ],
             [
              0.1111111111111111,
              "#46039f"
             ],
             [
              0.2222222222222222,
              "#7201a8"
             ],
             [
              0.3333333333333333,
              "#9c179e"
             ],
             [
              0.4444444444444444,
              "#bd3786"
             ],
             [
              0.5555555555555556,
              "#d8576b"
             ],
             [
              0.6666666666666666,
              "#ed7953"
             ],
             [
              0.7777777777777778,
              "#fb9f3a"
             ],
             [
              0.8888888888888888,
              "#fdca26"
             ],
             [
              1,
              "#f0f921"
             ]
            ],
            "type": "surface"
           }
          ],
          "table": [
           {
            "cells": {
             "fill": {
              "color": "#EBF0F8"
             },
             "line": {
              "color": "white"
             }
            },
            "header": {
             "fill": {
              "color": "#C8D4E3"
             },
             "line": {
              "color": "white"
             }
            },
            "type": "table"
           }
          ]
         },
         "layout": {
          "annotationdefaults": {
           "arrowcolor": "#2a3f5f",
           "arrowhead": 0,
           "arrowwidth": 1
          },
          "coloraxis": {
           "colorbar": {
            "outlinewidth": 0,
            "ticks": ""
           }
          },
          "colorscale": {
           "diverging": [
            [
             0,
             "#8e0152"
            ],
            [
             0.1,
             "#c51b7d"
            ],
            [
             0.2,
             "#de77ae"
            ],
            [
             0.3,
             "#f1b6da"
            ],
            [
             0.4,
             "#fde0ef"
            ],
            [
             0.5,
             "#f7f7f7"
            ],
            [
             0.6,
             "#e6f5d0"
            ],
            [
             0.7,
             "#b8e186"
            ],
            [
             0.8,
             "#7fbc41"
            ],
            [
             0.9,
             "#4d9221"
            ],
            [
             1,
             "#276419"
            ]
           ],
           "sequential": [
            [
             0,
             "#0d0887"
            ],
            [
             0.1111111111111111,
             "#46039f"
            ],
            [
             0.2222222222222222,
             "#7201a8"
            ],
            [
             0.3333333333333333,
             "#9c179e"
            ],
            [
             0.4444444444444444,
             "#bd3786"
            ],
            [
             0.5555555555555556,
             "#d8576b"
            ],
            [
             0.6666666666666666,
             "#ed7953"
            ],
            [
             0.7777777777777778,
             "#fb9f3a"
            ],
            [
             0.8888888888888888,
             "#fdca26"
            ],
            [
             1,
             "#f0f921"
            ]
           ],
           "sequentialminus": [
            [
             0,
             "#0d0887"
            ],
            [
             0.1111111111111111,
             "#46039f"
            ],
            [
             0.2222222222222222,
             "#7201a8"
            ],
            [
             0.3333333333333333,
             "#9c179e"
            ],
            [
             0.4444444444444444,
             "#bd3786"
            ],
            [
             0.5555555555555556,
             "#d8576b"
            ],
            [
             0.6666666666666666,
             "#ed7953"
            ],
            [
             0.7777777777777778,
             "#fb9f3a"
            ],
            [
             0.8888888888888888,
             "#fdca26"
            ],
            [
             1,
             "#f0f921"
            ]
           ]
          },
          "colorway": [
           "#636efa",
           "#EF553B",
           "#00cc96",
           "#ab63fa",
           "#FFA15A",
           "#19d3f3",
           "#FF6692",
           "#B6E880",
           "#FF97FF",
           "#FECB52"
          ],
          "font": {
           "color": "#2a3f5f"
          },
          "geo": {
           "bgcolor": "white",
           "lakecolor": "white",
           "landcolor": "#E5ECF6",
           "showlakes": true,
           "showland": true,
           "subunitcolor": "white"
          },
          "hoverlabel": {
           "align": "left"
          },
          "hovermode": "closest",
          "mapbox": {
           "style": "light"
          },
          "paper_bgcolor": "white",
          "plot_bgcolor": "#E5ECF6",
          "polar": {
           "angularaxis": {
            "gridcolor": "white",
            "linecolor": "white",
            "ticks": ""
           },
           "bgcolor": "#E5ECF6",
           "radialaxis": {
            "gridcolor": "white",
            "linecolor": "white",
            "ticks": ""
           }
          },
          "scene": {
           "xaxis": {
            "backgroundcolor": "#E5ECF6",
            "gridcolor": "white",
            "gridwidth": 2,
            "linecolor": "white",
            "showbackground": true,
            "ticks": "",
            "zerolinecolor": "white"
           },
           "yaxis": {
            "backgroundcolor": "#E5ECF6",
            "gridcolor": "white",
            "gridwidth": 2,
            "linecolor": "white",
            "showbackground": true,
            "ticks": "",
            "zerolinecolor": "white"
           },
           "zaxis": {
            "backgroundcolor": "#E5ECF6",
            "gridcolor": "white",
            "gridwidth": 2,
            "linecolor": "white",
            "showbackground": true,
            "ticks": "",
            "zerolinecolor": "white"
           }
          },
          "shapedefaults": {
           "line": {
            "color": "#2a3f5f"
           }
          },
          "ternary": {
           "aaxis": {
            "gridcolor": "white",
            "linecolor": "white",
            "ticks": ""
           },
           "baxis": {
            "gridcolor": "white",
            "linecolor": "white",
            "ticks": ""
           },
           "bgcolor": "#E5ECF6",
           "caxis": {
            "gridcolor": "white",
            "linecolor": "white",
            "ticks": ""
           }
          },
          "title": {
           "x": 0.05
          },
          "xaxis": {
           "automargin": true,
           "gridcolor": "white",
           "linecolor": "white",
           "ticks": "",
           "title": {
            "standoff": 15
           },
           "zerolinecolor": "white",
           "zerolinewidth": 2
          },
          "yaxis": {
           "automargin": true,
           "gridcolor": "white",
           "linecolor": "white",
           "ticks": "",
           "title": {
            "standoff": 15
           },
           "zerolinecolor": "white",
           "zerolinewidth": 2
          }
         }
        },
        "title": {
         "font": {
          "color": "#4D5663"
         }
        },
        "xaxis": {
         "gridcolor": "#E1E5ED",
         "showgrid": true,
         "tickfont": {
          "color": "#4D5663"
         },
         "title": {
          "font": {
           "color": "#4D5663"
          },
          "text": ""
         },
         "zerolinecolor": "#E1E5ED"
        },
        "yaxis": {
         "gridcolor": "#E1E5ED",
         "showgrid": true,
         "tickfont": {
          "color": "#4D5663"
         },
         "title": {
          "font": {
           "color": "#4D5663"
          },
          "text": ""
         },
         "zerolinecolor": "#E1E5ED"
        }
       }
      },
      "text/html": [
       "<div>                            <div id=\"0d6c3f78-0cd7-4a9a-b3ca-f39c2b8237a0\" class=\"plotly-graph-div\" style=\"height:525px; width:100%;\"></div>            <script type=\"text/javascript\">                require([\"plotly\"], function(Plotly) {                    window.PLOTLYENV=window.PLOTLYENV || {};\n",
       "                    window.PLOTLYENV.BASE_URL='https://plot.ly';                                    if (document.getElementById(\"0d6c3f78-0cd7-4a9a-b3ca-f39c2b8237a0\")) {                    Plotly.newPlot(                        \"0d6c3f78-0cd7-4a9a-b3ca-f39c2b8237a0\",                        [{\"colorscale\": [[0.0, \"rgb(165,0,38)\"], [0.1, \"rgb(215,48,39)\"], [0.2, \"rgb(244,109,67)\"], [0.3, \"rgb(253,174,97)\"], [0.4, \"rgb(254,224,144)\"], [0.5, \"rgb(255,255,191)\"], [0.6, \"rgb(224,243,248)\"], [0.7, \"rgb(171,217,233)\"], [0.8, \"rgb(116,173,209)\"], [0.9, \"rgb(69,117,180)\"], [1.0, \"rgb(49,54,149)\"]], \"type\": \"surface\", \"x\": [0, 1, 2, 3, 4], \"y\": [\"x\", \"y\", \"z\"], \"z\": [[1, 2, 3, 4, 5], [10, 20, 30, 20, 10], [5, 4, 3, 2, 1]]}],                        {\"legend\": {\"bgcolor\": \"#F5F6F9\", \"font\": {\"color\": \"#4D5663\"}}, \"paper_bgcolor\": \"#F5F6F9\", \"plot_bgcolor\": \"#F5F6F9\", \"template\": {\"data\": {\"bar\": [{\"error_x\": {\"color\": \"#2a3f5f\"}, \"error_y\": {\"color\": \"#2a3f5f\"}, \"marker\": {\"line\": {\"color\": \"#E5ECF6\", \"width\": 0.5}}, \"type\": \"bar\"}], \"barpolar\": [{\"marker\": {\"line\": {\"color\": \"#E5ECF6\", \"width\": 0.5}}, \"type\": \"barpolar\"}], \"carpet\": [{\"aaxis\": {\"endlinecolor\": \"#2a3f5f\", \"gridcolor\": \"white\", \"linecolor\": \"white\", \"minorgridcolor\": \"white\", \"startlinecolor\": \"#2a3f5f\"}, \"baxis\": {\"endlinecolor\": \"#2a3f5f\", \"gridcolor\": \"white\", \"linecolor\": \"white\", \"minorgridcolor\": \"white\", \"startlinecolor\": \"#2a3f5f\"}, \"type\": \"carpet\"}], \"choropleth\": [{\"colorbar\": {\"outlinewidth\": 0, \"ticks\": \"\"}, \"type\": \"choropleth\"}], \"contour\": [{\"colorbar\": {\"outlinewidth\": 0, \"ticks\": \"\"}, \"colorscale\": [[0.0, \"#0d0887\"], [0.1111111111111111, \"#46039f\"], [0.2222222222222222, \"#7201a8\"], [0.3333333333333333, \"#9c179e\"], [0.4444444444444444, \"#bd3786\"], [0.5555555555555556, \"#d8576b\"], [0.6666666666666666, \"#ed7953\"], [0.7777777777777778, \"#fb9f3a\"], [0.8888888888888888, \"#fdca26\"], [1.0, \"#f0f921\"]], \"type\": \"contour\"}], \"contourcarpet\": [{\"colorbar\": {\"outlinewidth\": 0, \"ticks\": \"\"}, \"type\": \"contourcarpet\"}], \"heatmap\": [{\"colorbar\": {\"outlinewidth\": 0, \"ticks\": \"\"}, \"colorscale\": [[0.0, \"#0d0887\"], [0.1111111111111111, \"#46039f\"], [0.2222222222222222, \"#7201a8\"], [0.3333333333333333, \"#9c179e\"], [0.4444444444444444, \"#bd3786\"], [0.5555555555555556, \"#d8576b\"], [0.6666666666666666, \"#ed7953\"], [0.7777777777777778, \"#fb9f3a\"], [0.8888888888888888, \"#fdca26\"], [1.0, \"#f0f921\"]], \"type\": \"heatmap\"}], \"heatmapgl\": [{\"colorbar\": {\"outlinewidth\": 0, \"ticks\": \"\"}, \"colorscale\": [[0.0, \"#0d0887\"], [0.1111111111111111, \"#46039f\"], [0.2222222222222222, \"#7201a8\"], [0.3333333333333333, \"#9c179e\"], [0.4444444444444444, \"#bd3786\"], [0.5555555555555556, \"#d8576b\"], [0.6666666666666666, \"#ed7953\"], [0.7777777777777778, \"#fb9f3a\"], [0.8888888888888888, \"#fdca26\"], [1.0, \"#f0f921\"]], \"type\": \"heatmapgl\"}], \"histogram\": [{\"marker\": {\"colorbar\": {\"outlinewidth\": 0, \"ticks\": \"\"}}, \"type\": \"histogram\"}], \"histogram2d\": [{\"colorbar\": {\"outlinewidth\": 0, \"ticks\": \"\"}, \"colorscale\": [[0.0, \"#0d0887\"], [0.1111111111111111, \"#46039f\"], [0.2222222222222222, \"#7201a8\"], [0.3333333333333333, \"#9c179e\"], [0.4444444444444444, \"#bd3786\"], [0.5555555555555556, \"#d8576b\"], [0.6666666666666666, \"#ed7953\"], [0.7777777777777778, \"#fb9f3a\"], [0.8888888888888888, \"#fdca26\"], [1.0, \"#f0f921\"]], \"type\": \"histogram2d\"}], \"histogram2dcontour\": [{\"colorbar\": {\"outlinewidth\": 0, \"ticks\": \"\"}, \"colorscale\": [[0.0, \"#0d0887\"], [0.1111111111111111, \"#46039f\"], [0.2222222222222222, \"#7201a8\"], [0.3333333333333333, \"#9c179e\"], [0.4444444444444444, \"#bd3786\"], [0.5555555555555556, \"#d8576b\"], [0.6666666666666666, \"#ed7953\"], [0.7777777777777778, \"#fb9f3a\"], [0.8888888888888888, \"#fdca26\"], [1.0, \"#f0f921\"]], \"type\": \"histogram2dcontour\"}], \"mesh3d\": [{\"colorbar\": {\"outlinewidth\": 0, \"ticks\": \"\"}, \"type\": \"mesh3d\"}], \"parcoords\": [{\"line\": {\"colorbar\": {\"outlinewidth\": 0, \"ticks\": \"\"}}, \"type\": \"parcoords\"}], \"pie\": [{\"automargin\": true, \"type\": \"pie\"}], \"scatter\": [{\"marker\": {\"colorbar\": {\"outlinewidth\": 0, \"ticks\": \"\"}}, \"type\": \"scatter\"}], \"scatter3d\": [{\"line\": {\"colorbar\": {\"outlinewidth\": 0, \"ticks\": \"\"}}, \"marker\": {\"colorbar\": {\"outlinewidth\": 0, \"ticks\": \"\"}}, \"type\": \"scatter3d\"}], \"scattercarpet\": [{\"marker\": {\"colorbar\": {\"outlinewidth\": 0, \"ticks\": \"\"}}, \"type\": \"scattercarpet\"}], \"scattergeo\": [{\"marker\": {\"colorbar\": {\"outlinewidth\": 0, \"ticks\": \"\"}}, \"type\": \"scattergeo\"}], \"scattergl\": [{\"marker\": {\"colorbar\": {\"outlinewidth\": 0, \"ticks\": \"\"}}, \"type\": \"scattergl\"}], \"scattermapbox\": [{\"marker\": {\"colorbar\": {\"outlinewidth\": 0, \"ticks\": \"\"}}, \"type\": \"scattermapbox\"}], \"scatterpolar\": [{\"marker\": {\"colorbar\": {\"outlinewidth\": 0, \"ticks\": \"\"}}, \"type\": \"scatterpolar\"}], \"scatterpolargl\": [{\"marker\": {\"colorbar\": {\"outlinewidth\": 0, \"ticks\": \"\"}}, \"type\": \"scatterpolargl\"}], \"scatterternary\": [{\"marker\": {\"colorbar\": {\"outlinewidth\": 0, \"ticks\": \"\"}}, \"type\": \"scatterternary\"}], \"surface\": [{\"colorbar\": {\"outlinewidth\": 0, \"ticks\": \"\"}, \"colorscale\": [[0.0, \"#0d0887\"], [0.1111111111111111, \"#46039f\"], [0.2222222222222222, \"#7201a8\"], [0.3333333333333333, \"#9c179e\"], [0.4444444444444444, \"#bd3786\"], [0.5555555555555556, \"#d8576b\"], [0.6666666666666666, \"#ed7953\"], [0.7777777777777778, \"#fb9f3a\"], [0.8888888888888888, \"#fdca26\"], [1.0, \"#f0f921\"]], \"type\": \"surface\"}], \"table\": [{\"cells\": {\"fill\": {\"color\": \"#EBF0F8\"}, \"line\": {\"color\": \"white\"}}, \"header\": {\"fill\": {\"color\": \"#C8D4E3\"}, \"line\": {\"color\": \"white\"}}, \"type\": \"table\"}]}, \"layout\": {\"annotationdefaults\": {\"arrowcolor\": \"#2a3f5f\", \"arrowhead\": 0, \"arrowwidth\": 1}, \"coloraxis\": {\"colorbar\": {\"outlinewidth\": 0, \"ticks\": \"\"}}, \"colorscale\": {\"diverging\": [[0, \"#8e0152\"], [0.1, \"#c51b7d\"], [0.2, \"#de77ae\"], [0.3, \"#f1b6da\"], [0.4, \"#fde0ef\"], [0.5, \"#f7f7f7\"], [0.6, \"#e6f5d0\"], [0.7, \"#b8e186\"], [0.8, \"#7fbc41\"], [0.9, \"#4d9221\"], [1, \"#276419\"]], \"sequential\": [[0.0, \"#0d0887\"], [0.1111111111111111, \"#46039f\"], [0.2222222222222222, \"#7201a8\"], [0.3333333333333333, \"#9c179e\"], [0.4444444444444444, \"#bd3786\"], [0.5555555555555556, \"#d8576b\"], [0.6666666666666666, \"#ed7953\"], [0.7777777777777778, \"#fb9f3a\"], [0.8888888888888888, \"#fdca26\"], [1.0, \"#f0f921\"]], \"sequentialminus\": [[0.0, \"#0d0887\"], [0.1111111111111111, \"#46039f\"], [0.2222222222222222, \"#7201a8\"], [0.3333333333333333, \"#9c179e\"], [0.4444444444444444, \"#bd3786\"], [0.5555555555555556, \"#d8576b\"], [0.6666666666666666, \"#ed7953\"], [0.7777777777777778, \"#fb9f3a\"], [0.8888888888888888, \"#fdca26\"], [1.0, \"#f0f921\"]]}, \"colorway\": [\"#636efa\", \"#EF553B\", \"#00cc96\", \"#ab63fa\", \"#FFA15A\", \"#19d3f3\", \"#FF6692\", \"#B6E880\", \"#FF97FF\", \"#FECB52\"], \"font\": {\"color\": \"#2a3f5f\"}, \"geo\": {\"bgcolor\": \"white\", \"lakecolor\": \"white\", \"landcolor\": \"#E5ECF6\", \"showlakes\": true, \"showland\": true, \"subunitcolor\": \"white\"}, \"hoverlabel\": {\"align\": \"left\"}, \"hovermode\": \"closest\", \"mapbox\": {\"style\": \"light\"}, \"paper_bgcolor\": \"white\", \"plot_bgcolor\": \"#E5ECF6\", \"polar\": {\"angularaxis\": {\"gridcolor\": \"white\", \"linecolor\": \"white\", \"ticks\": \"\"}, \"bgcolor\": \"#E5ECF6\", \"radialaxis\": {\"gridcolor\": \"white\", \"linecolor\": \"white\", \"ticks\": \"\"}}, \"scene\": {\"xaxis\": {\"backgroundcolor\": \"#E5ECF6\", \"gridcolor\": \"white\", \"gridwidth\": 2, \"linecolor\": \"white\", \"showbackground\": true, \"ticks\": \"\", \"zerolinecolor\": \"white\"}, \"yaxis\": {\"backgroundcolor\": \"#E5ECF6\", \"gridcolor\": \"white\", \"gridwidth\": 2, \"linecolor\": \"white\", \"showbackground\": true, \"ticks\": \"\", \"zerolinecolor\": \"white\"}, \"zaxis\": {\"backgroundcolor\": \"#E5ECF6\", \"gridcolor\": \"white\", \"gridwidth\": 2, \"linecolor\": \"white\", \"showbackground\": true, \"ticks\": \"\", \"zerolinecolor\": \"white\"}}, \"shapedefaults\": {\"line\": {\"color\": \"#2a3f5f\"}}, \"ternary\": {\"aaxis\": {\"gridcolor\": \"white\", \"linecolor\": \"white\", \"ticks\": \"\"}, \"baxis\": {\"gridcolor\": \"white\", \"linecolor\": \"white\", \"ticks\": \"\"}, \"bgcolor\": \"#E5ECF6\", \"caxis\": {\"gridcolor\": \"white\", \"linecolor\": \"white\", \"ticks\": \"\"}}, \"title\": {\"x\": 0.05}, \"xaxis\": {\"automargin\": true, \"gridcolor\": \"white\", \"linecolor\": \"white\", \"ticks\": \"\", \"title\": {\"standoff\": 15}, \"zerolinecolor\": \"white\", \"zerolinewidth\": 2}, \"yaxis\": {\"automargin\": true, \"gridcolor\": \"white\", \"linecolor\": \"white\", \"ticks\": \"\", \"title\": {\"standoff\": 15}, \"zerolinecolor\": \"white\", \"zerolinewidth\": 2}}}, \"title\": {\"font\": {\"color\": \"#4D5663\"}}, \"xaxis\": {\"gridcolor\": \"#E1E5ED\", \"showgrid\": true, \"tickfont\": {\"color\": \"#4D5663\"}, \"title\": {\"font\": {\"color\": \"#4D5663\"}, \"text\": \"\"}, \"zerolinecolor\": \"#E1E5ED\"}, \"yaxis\": {\"gridcolor\": \"#E1E5ED\", \"showgrid\": true, \"tickfont\": {\"color\": \"#4D5663\"}, \"title\": {\"font\": {\"color\": \"#4D5663\"}, \"text\": \"\"}, \"zerolinecolor\": \"#E1E5ED\"}},                        {\"showLink\": true, \"linkText\": \"Export to plot.ly\", \"plotlyServerURL\": \"https://plot.ly\", \"responsive\": true}                    ).then(function(){\n",
       "                            \n",
       "var gd = document.getElementById('0d6c3f78-0cd7-4a9a-b3ca-f39c2b8237a0');\n",
       "var x = new MutationObserver(function (mutations, observer) {{\n",
       "        var display = window.getComputedStyle(gd).display;\n",
       "        if (!display || display === 'none') {{\n",
       "            console.log([gd, 'removed!']);\n",
       "            Plotly.purge(gd);\n",
       "            observer.disconnect();\n",
       "        }}\n",
       "}});\n",
       "\n",
       "// Listen for the removal of the full notebook cells\n",
       "var notebookContainer = gd.closest('#notebook-container');\n",
       "if (notebookContainer) {{\n",
       "    x.observe(notebookContainer, {childList: true});\n",
       "}}\n",
       "\n",
       "// Listen for the clearing of the current output cell\n",
       "var outputEl = gd.closest('.output');\n",
       "if (outputEl) {{\n",
       "    x.observe(outputEl, {childList: true});\n",
       "}}\n",
       "\n",
       "                        })                };                });            </script>        </div>"
      ]
     },
     "metadata": {},
     "output_type": "display_data"
    }
   ],
   "source": [
    "df3 = pd.DataFrame({'x':[1,2,3,4,5], 'y':[10,20,30,20,10],'z':[5,4,3,2,1]} )\n",
    "df3.iplot(kind='surface', colorscale='rdylbu')"
   ]
  },
  {
   "cell_type": "code",
   "execution_count": 26,
   "metadata": {
    "scrolled": true
   },
   "outputs": [
    {
     "name": "stderr",
     "output_type": "stream",
     "text": [
      "/Users/dmoussa/opt/anaconda3/lib/python3.7/site-packages/cufflinks/plotlytools.py:849: FutureWarning:\n",
      "\n",
      "The pandas.np module is deprecated and will be removed from pandas in a future version. Import numpy directly instead\n",
      "\n",
      "/Users/dmoussa/opt/anaconda3/lib/python3.7/site-packages/cufflinks/plotlytools.py:850: FutureWarning:\n",
      "\n",
      "The pandas.np module is deprecated and will be removed from pandas in a future version. Import numpy directly instead\n",
      "\n"
     ]
    },
    {
     "data": {
      "application/vnd.plotly.v1+json": {
       "config": {
        "linkText": "Export to plot.ly",
        "plotlyServerURL": "https://plot.ly",
        "showLink": true
       },
       "data": [
        {
         "line": {
          "color": "rgba(255, 153, 51, 1.0)",
          "dash": "solid",
          "shape": "linear",
          "width": 1.3
         },
         "mode": "lines",
         "name": "A",
         "text": "",
         "type": "scatter",
         "x": [
          0,
          1,
          2,
          3,
          4,
          5,
          6,
          7,
          8,
          9,
          10,
          11,
          12,
          13,
          14,
          15,
          16,
          17,
          18,
          19,
          20,
          21,
          22,
          23,
          24,
          25,
          26,
          27,
          28,
          29,
          30,
          31,
          32,
          33,
          34,
          35,
          36,
          37,
          38,
          39,
          40,
          41,
          42,
          43,
          44,
          45,
          46,
          47,
          48,
          49,
          50,
          51,
          52,
          53,
          54,
          55,
          56,
          57,
          58,
          59,
          60,
          61,
          62,
          63,
          64,
          65,
          66,
          67,
          68,
          69,
          70,
          71,
          72,
          73,
          74,
          75,
          76,
          77,
          78,
          79,
          80,
          81,
          82,
          83,
          84,
          85,
          86,
          87,
          88,
          89,
          90,
          91,
          92,
          93,
          94,
          95,
          96,
          97,
          98,
          99
         ],
         "y": [
          0.5176590531969488,
          0.2611900186917925,
          -2.0770443227929434,
          0.4376128613752404,
          -0.7972765755299147,
          -0.9781925854562078,
          0.021787211156948774,
          -1.8227103978927501,
          1.7661994574612905,
          0.6140684305177554,
          -0.10348408002873685,
          -0.005438269546051754,
          0.14564690286116566,
          -1.6019204582868,
          0.36412650919654904,
          1.8933456811942735,
          0.5580880070310005,
          -1.6721324428771815,
          -0.7640725461546174,
          -0.01743915243591418,
          0.6748540001753083,
          0.7920643030147945,
          -0.8170164432005932,
          -0.40348005188696673,
          0.6539188908047413,
          -0.12400523728931026,
          1.4032160617444647,
          -0.5827443655439306,
          1.1703201043257259,
          -1.3220783976434485,
          0.27017141466012873,
          1.130033689636446,
          -0.19781497959524116,
          0.9146218319990627,
          0.6788744017706305,
          0.7263896841237812,
          -0.4270625982491659,
          1.7771258173188988,
          1.7255189854877893,
          0.10071803173376356,
          0.5584259746959217,
          -0.35980148623036257,
          0.27320206594699464,
          -0.9058148329762855,
          0.6655637328672925,
          0.737591189163516,
          0.42918978634587096,
          -0.667396753774752,
          0.33121038394063146,
          -0.38186248928384686,
          0.4080848294364657,
          1.7446010964370207,
          2.7769588024238145,
          -0.0500309548669025,
          0.1734318857601251,
          -0.560498934672177,
          0.0615027213603778,
          -0.5563384887782385,
          0.6872170531367844,
          1.3085125570269542,
          0.8658386492120068,
          -0.41384192152811716,
          -0.5748894712834556,
          -0.046030262702725415,
          -0.7834661261224901,
          0.33669600457694904,
          0.5649402937564677,
          0.7412011360451405,
          0.03744861967029218,
          -0.31441728987996154,
          0.12757226281435682,
          1.4278042432171743,
          -0.10084618653539616,
          0.44337571123088204,
          0.639743871777665,
          0.05751155640936568,
          0.5562572498216152,
          -0.1992962817147566,
          1.777203558993544,
          0.3884239255669419,
          0.5974152051587482,
          -2.336551059610256,
          0.37178139089325507,
          -0.6083978716388516,
          1.4014589342993968,
          -0.707138581612621,
          -0.15707032363071047,
          -0.599796745012966,
          -0.5280305545087325,
          0.13617931710002912,
          0.20729333459661806,
          0.9195443365275761,
          -1.3027488740641358,
          -0.22063075065637314,
          -0.9410102187865621,
          -0.889314187063548,
          1.0927712482439207,
          0.42244762596411395,
          0.23878587815304225,
          -1.5437470888769478
         ]
        },
        {
         "line": {
          "color": "rgba(55, 128, 191, 1.0)",
          "dash": "solid",
          "shape": "linear",
          "width": 1.3
         },
         "mode": "lines",
         "name": "B",
         "text": "",
         "type": "scatter",
         "x": [
          0,
          1,
          2,
          3,
          4,
          5,
          6,
          7,
          8,
          9,
          10,
          11,
          12,
          13,
          14,
          15,
          16,
          17,
          18,
          19,
          20,
          21,
          22,
          23,
          24,
          25,
          26,
          27,
          28,
          29,
          30,
          31,
          32,
          33,
          34,
          35,
          36,
          37,
          38,
          39,
          40,
          41,
          42,
          43,
          44,
          45,
          46,
          47,
          48,
          49,
          50,
          51,
          52,
          53,
          54,
          55,
          56,
          57,
          58,
          59,
          60,
          61,
          62,
          63,
          64,
          65,
          66,
          67,
          68,
          69,
          70,
          71,
          72,
          73,
          74,
          75,
          76,
          77,
          78,
          79,
          80,
          81,
          82,
          83,
          84,
          85,
          86,
          87,
          88,
          89,
          90,
          91,
          92,
          93,
          94,
          95,
          96,
          97,
          98,
          99
         ],
         "y": [
          -2.062328018719915,
          0.8786899411904887,
          1.1874249981439793,
          0.620421760886563,
          1.8246664737333786,
          -0.5685579142811606,
          0.3088839923239217,
          -1.0084687897342672,
          2.0771684696654575,
          1.7617473144705262,
          0.5218737819883743,
          1.216892180797244,
          -0.6847447329719094,
          0.826588825933059,
          2.6200333634388415,
          2.027364798276653,
          0.46666153606323296,
          0.6321266035330925,
          0.10354350260081757,
          -1.4589818998144466,
          1.0316131049729904,
          -0.4343505887332764,
          0.15860458063757982,
          0.41074091507419974,
          1.438825016119307,
          0.25298155971555386,
          0.46729325225147283,
          0.2936712849184672,
          -1.2348037110121215,
          -0.10345781303290143,
          -0.012482275553756294,
          -0.4475322156922826,
          -1.1414119122054063,
          1.6628239176950863,
          1.7068757940201402,
          -0.6201760521654056,
          1.4276529258902466,
          1.443110863145192,
          -0.0025796355047607586,
          -0.2837037736078109,
          -0.1487082196497076,
          2.4894492822509338,
          1.852621410994538,
          0.8612759018913871,
          0.8478792360988995,
          0.5229295789614508,
          0.1098334359498861,
          0.2612972220104098,
          -1.792210724907832,
          -0.3742743391106684,
          -1.4474845739003757,
          0.23369699704612115,
          -0.3998708578038428,
          -0.3238301112207704,
          -0.3638097440063624,
          0.7677830069036755,
          -0.9560266895216887,
          -1.2620487398743916,
          -0.03370315564410422,
          0.7163516147304333,
          -0.5732647969071828,
          0.07060724906093349,
          0.4459274755835238,
          0.650618412269321,
          -1.0244672632772345,
          -0.6681332442599868,
          -0.9722001914014322,
          0.45238929472010353,
          -2.8035768324235644,
          0.9014287430239033,
          1.319467095259805,
          0.814749966559747,
          -1.6194588318172127,
          1.810232824196542,
          -0.34028761466536867,
          -1.1591663343929903,
          -0.06465852470255785,
          1.7281846836066086,
          -0.8877610317705266,
          0.28713523914667666,
          0.2274495262561486,
          1.5675547163890926,
          0.01636233235734836,
          -0.46263266260882785,
          1.4710093187284892,
          2.008148901429391,
          -0.07354278241686084,
          0.741500628831564,
          -0.29140165890473285,
          -0.4392997604281096,
          -0.4367500190228618,
          2.0212482820418307,
          0.3225503619977586,
          1.6557249579245188,
          -1.2396003969104676,
          0.9414280160172462,
          1.5208718204530265,
          0.43530949652827217,
          0.9965272851620621,
          -0.3126121992418231
         ]
        },
        {
         "connectgaps": false,
         "fill": "tozeroy",
         "line": {
          "color": "green",
          "dash": "solid",
          "shape": "linear",
          "width": 0.5
         },
         "mode": "lines",
         "name": "Spread",
         "showlegend": false,
         "type": "scatter",
         "x": [
          0,
          1,
          2,
          3,
          4,
          5,
          6,
          7,
          8,
          9,
          10,
          11,
          12,
          13,
          14,
          15,
          16,
          17,
          18,
          19,
          20,
          21,
          22,
          23,
          24,
          25,
          26,
          27,
          28,
          29,
          30,
          31,
          32,
          33,
          34,
          35,
          36,
          37,
          38,
          39,
          40,
          41,
          42,
          43,
          44,
          45,
          46,
          47,
          48,
          49,
          50,
          51,
          52,
          53,
          54,
          55,
          56,
          57,
          58,
          59,
          60,
          61,
          62,
          63,
          64,
          65,
          66,
          67,
          68,
          69,
          70,
          71,
          72,
          73,
          74,
          75,
          76,
          77,
          78,
          79,
          80,
          81,
          82,
          83,
          84,
          85,
          86,
          87,
          88,
          89,
          90,
          91,
          92,
          93,
          94,
          95,
          96,
          97,
          98,
          99
         ],
         "xaxis": "x2",
         "y": [
          2.5799870719168636,
          "",
          "",
          "",
          "",
          "",
          "",
          "",
          "",
          "",
          "",
          "",
          0.8303916358330751,
          "",
          "",
          "",
          0.09142647096776751,
          "",
          "",
          1.4415427473785325,
          "",
          1.2264148917480708,
          "",
          "",
          "",
          "",
          0.9359228094929919,
          "",
          2.4051238153378476,
          "",
          0.28265369021388503,
          1.5775659053287285,
          0.9435969326101651,
          "",
          "",
          1.346565736289187,
          "",
          0.33401495417370675,
          1.72809862099255,
          0.38442180534157444,
          0.7071341943456293,
          "",
          "",
          "",
          "",
          0.2146616102020652,
          0.31935635039598487,
          "",
          2.1234211088484636,
          "",
          1.8555694033368413,
          1.5109040993908995,
          3.176829660227657,
          0.27379915635386787,
          0.5372416297664875,
          "",
          1.0175294108820665,
          0.705710251096153,
          0.7209202087808886,
          0.5921609422965209,
          1.4391034461191896,
          "",
          "",
          "",
          0.24100113715474436,
          1.004829248836936,
          1.5371404851579,
          0.28881184132503696,
          2.8410254520938567,
          "",
          "",
          0.6130542766574273,
          1.5186126452818165,
          "",
          0.9800314864430337,
          1.216677890802356,
          0.620915774524173,
          "",
          2.6649645907640704,
          0.10128868642026523,
          0.3699656789025997,
          "",
          0.3554190585359067,
          "",
          "",
          "",
          "",
          "",
          "",
          0.5754790775281386,
          0.6440433536194798,
          "",
          "",
          "",
          0.29859017812390554,
          "",
          "",
          "",
          "",
          ""
         ],
         "yaxis": "y2"
        },
        {
         "connectgaps": false,
         "fill": "tozeroy",
         "line": {
          "color": "red",
          "dash": "solid",
          "shape": "linear",
          "width": 0.5
         },
         "mode": "lines",
         "name": "Spread",
         "showlegend": false,
         "type": "scatter",
         "x": [
          0,
          1,
          2,
          3,
          4,
          5,
          6,
          7,
          8,
          9,
          10,
          11,
          12,
          13,
          14,
          15,
          16,
          17,
          18,
          19,
          20,
          21,
          22,
          23,
          24,
          25,
          26,
          27,
          28,
          29,
          30,
          31,
          32,
          33,
          34,
          35,
          36,
          37,
          38,
          39,
          40,
          41,
          42,
          43,
          44,
          45,
          46,
          47,
          48,
          49,
          50,
          51,
          52,
          53,
          54,
          55,
          56,
          57,
          58,
          59,
          60,
          61,
          62,
          63,
          64,
          65,
          66,
          67,
          68,
          69,
          70,
          71,
          72,
          73,
          74,
          75,
          76,
          77,
          78,
          79,
          80,
          81,
          82,
          83,
          84,
          85,
          86,
          87,
          88,
          89,
          90,
          91,
          92,
          93,
          94,
          95,
          96,
          97,
          98,
          99
         ],
         "xaxis": "x2",
         "y": [
          "",
          -0.6174999224986962,
          -3.2644693209369224,
          -0.18280889951132256,
          -2.6219430492632934,
          -0.40963467117504715,
          -0.28709678116697296,
          -0.8142416081584829,
          -0.31096901220416706,
          -1.147678883952771,
          -0.6253578620171112,
          -1.2223304503432957,
          "",
          -2.4285092842198592,
          -2.2559068542422924,
          -0.13401911708237968,
          "",
          -2.304259046410274,
          -0.867616048755435,
          "",
          -0.35675910479768214,
          "",
          -0.9756210238381731,
          -0.8142209669611664,
          -0.7849061253145657,
          -0.37698679700486415,
          "",
          -0.8764156504623979,
          "",
          -1.2186205846105471,
          "",
          "",
          "",
          -0.7482020856960236,
          -1.0280013922495097,
          "",
          -1.8547155241394124,
          "",
          "",
          "",
          "",
          -2.8492507684812964,
          -1.5794193450475433,
          -1.7670907348676725,
          -0.18231550323160695,
          "",
          "",
          -0.9286939757851618,
          "",
          -0.007588150173178487,
          "",
          "",
          "",
          "",
          "",
          -1.3282819415758524,
          "",
          "",
          "",
          "",
          "",
          -0.4844491705890507,
          -1.0208169468669794,
          -0.6966486749720464,
          "",
          "",
          "",
          "",
          "",
          -1.215846032903865,
          -1.1918948324454484,
          "",
          "",
          -1.36685711296566,
          "",
          "",
          "",
          -1.9274809653213651,
          "",
          "",
          "",
          -3.9041057759993487,
          "",
          -0.14576520903002377,
          -0.06955038442909234,
          -2.7152874830420117,
          -0.08352754121384963,
          -1.34129737384453,
          -0.23662889560399963,
          "",
          "",
          -1.1017039455142545,
          -1.6252992360618943,
          -1.876355708580892,
          "",
          -1.8307422030807943,
          -0.4281005722091058,
          -0.012861870564158218,
          -0.7577414070090198,
          -1.2311348896351246
         ],
         "yaxis": "y2"
        }
       ],
       "layout": {
        "hovermode": "x",
        "legend": {
         "bgcolor": "#F5F6F9",
         "font": {
          "color": "#4D5663"
         }
        },
        "paper_bgcolor": "#F5F6F9",
        "plot_bgcolor": "#F5F6F9",
        "template": {
         "data": {
          "bar": [
           {
            "error_x": {
             "color": "#2a3f5f"
            },
            "error_y": {
             "color": "#2a3f5f"
            },
            "marker": {
             "line": {
              "color": "#E5ECF6",
              "width": 0.5
             }
            },
            "type": "bar"
           }
          ],
          "barpolar": [
           {
            "marker": {
             "line": {
              "color": "#E5ECF6",
              "width": 0.5
             }
            },
            "type": "barpolar"
           }
          ],
          "carpet": [
           {
            "aaxis": {
             "endlinecolor": "#2a3f5f",
             "gridcolor": "white",
             "linecolor": "white",
             "minorgridcolor": "white",
             "startlinecolor": "#2a3f5f"
            },
            "baxis": {
             "endlinecolor": "#2a3f5f",
             "gridcolor": "white",
             "linecolor": "white",
             "minorgridcolor": "white",
             "startlinecolor": "#2a3f5f"
            },
            "type": "carpet"
           }
          ],
          "choropleth": [
           {
            "colorbar": {
             "outlinewidth": 0,
             "ticks": ""
            },
            "type": "choropleth"
           }
          ],
          "contour": [
           {
            "colorbar": {
             "outlinewidth": 0,
             "ticks": ""
            },
            "colorscale": [
             [
              0,
              "#0d0887"
             ],
             [
              0.1111111111111111,
              "#46039f"
             ],
             [
              0.2222222222222222,
              "#7201a8"
             ],
             [
              0.3333333333333333,
              "#9c179e"
             ],
             [
              0.4444444444444444,
              "#bd3786"
             ],
             [
              0.5555555555555556,
              "#d8576b"
             ],
             [
              0.6666666666666666,
              "#ed7953"
             ],
             [
              0.7777777777777778,
              "#fb9f3a"
             ],
             [
              0.8888888888888888,
              "#fdca26"
             ],
             [
              1,
              "#f0f921"
             ]
            ],
            "type": "contour"
           }
          ],
          "contourcarpet": [
           {
            "colorbar": {
             "outlinewidth": 0,
             "ticks": ""
            },
            "type": "contourcarpet"
           }
          ],
          "heatmap": [
           {
            "colorbar": {
             "outlinewidth": 0,
             "ticks": ""
            },
            "colorscale": [
             [
              0,
              "#0d0887"
             ],
             [
              0.1111111111111111,
              "#46039f"
             ],
             [
              0.2222222222222222,
              "#7201a8"
             ],
             [
              0.3333333333333333,
              "#9c179e"
             ],
             [
              0.4444444444444444,
              "#bd3786"
             ],
             [
              0.5555555555555556,
              "#d8576b"
             ],
             [
              0.6666666666666666,
              "#ed7953"
             ],
             [
              0.7777777777777778,
              "#fb9f3a"
             ],
             [
              0.8888888888888888,
              "#fdca26"
             ],
             [
              1,
              "#f0f921"
             ]
            ],
            "type": "heatmap"
           }
          ],
          "heatmapgl": [
           {
            "colorbar": {
             "outlinewidth": 0,
             "ticks": ""
            },
            "colorscale": [
             [
              0,
              "#0d0887"
             ],
             [
              0.1111111111111111,
              "#46039f"
             ],
             [
              0.2222222222222222,
              "#7201a8"
             ],
             [
              0.3333333333333333,
              "#9c179e"
             ],
             [
              0.4444444444444444,
              "#bd3786"
             ],
             [
              0.5555555555555556,
              "#d8576b"
             ],
             [
              0.6666666666666666,
              "#ed7953"
             ],
             [
              0.7777777777777778,
              "#fb9f3a"
             ],
             [
              0.8888888888888888,
              "#fdca26"
             ],
             [
              1,
              "#f0f921"
             ]
            ],
            "type": "heatmapgl"
           }
          ],
          "histogram": [
           {
            "marker": {
             "colorbar": {
              "outlinewidth": 0,
              "ticks": ""
             }
            },
            "type": "histogram"
           }
          ],
          "histogram2d": [
           {
            "colorbar": {
             "outlinewidth": 0,
             "ticks": ""
            },
            "colorscale": [
             [
              0,
              "#0d0887"
             ],
             [
              0.1111111111111111,
              "#46039f"
             ],
             [
              0.2222222222222222,
              "#7201a8"
             ],
             [
              0.3333333333333333,
              "#9c179e"
             ],
             [
              0.4444444444444444,
              "#bd3786"
             ],
             [
              0.5555555555555556,
              "#d8576b"
             ],
             [
              0.6666666666666666,
              "#ed7953"
             ],
             [
              0.7777777777777778,
              "#fb9f3a"
             ],
             [
              0.8888888888888888,
              "#fdca26"
             ],
             [
              1,
              "#f0f921"
             ]
            ],
            "type": "histogram2d"
           }
          ],
          "histogram2dcontour": [
           {
            "colorbar": {
             "outlinewidth": 0,
             "ticks": ""
            },
            "colorscale": [
             [
              0,
              "#0d0887"
             ],
             [
              0.1111111111111111,
              "#46039f"
             ],
             [
              0.2222222222222222,
              "#7201a8"
             ],
             [
              0.3333333333333333,
              "#9c179e"
             ],
             [
              0.4444444444444444,
              "#bd3786"
             ],
             [
              0.5555555555555556,
              "#d8576b"
             ],
             [
              0.6666666666666666,
              "#ed7953"
             ],
             [
              0.7777777777777778,
              "#fb9f3a"
             ],
             [
              0.8888888888888888,
              "#fdca26"
             ],
             [
              1,
              "#f0f921"
             ]
            ],
            "type": "histogram2dcontour"
           }
          ],
          "mesh3d": [
           {
            "colorbar": {
             "outlinewidth": 0,
             "ticks": ""
            },
            "type": "mesh3d"
           }
          ],
          "parcoords": [
           {
            "line": {
             "colorbar": {
              "outlinewidth": 0,
              "ticks": ""
             }
            },
            "type": "parcoords"
           }
          ],
          "pie": [
           {
            "automargin": true,
            "type": "pie"
           }
          ],
          "scatter": [
           {
            "marker": {
             "colorbar": {
              "outlinewidth": 0,
              "ticks": ""
             }
            },
            "type": "scatter"
           }
          ],
          "scatter3d": [
           {
            "line": {
             "colorbar": {
              "outlinewidth": 0,
              "ticks": ""
             }
            },
            "marker": {
             "colorbar": {
              "outlinewidth": 0,
              "ticks": ""
             }
            },
            "type": "scatter3d"
           }
          ],
          "scattercarpet": [
           {
            "marker": {
             "colorbar": {
              "outlinewidth": 0,
              "ticks": ""
             }
            },
            "type": "scattercarpet"
           }
          ],
          "scattergeo": [
           {
            "marker": {
             "colorbar": {
              "outlinewidth": 0,
              "ticks": ""
             }
            },
            "type": "scattergeo"
           }
          ],
          "scattergl": [
           {
            "marker": {
             "colorbar": {
              "outlinewidth": 0,
              "ticks": ""
             }
            },
            "type": "scattergl"
           }
          ],
          "scattermapbox": [
           {
            "marker": {
             "colorbar": {
              "outlinewidth": 0,
              "ticks": ""
             }
            },
            "type": "scattermapbox"
           }
          ],
          "scatterpolar": [
           {
            "marker": {
             "colorbar": {
              "outlinewidth": 0,
              "ticks": ""
             }
            },
            "type": "scatterpolar"
           }
          ],
          "scatterpolargl": [
           {
            "marker": {
             "colorbar": {
              "outlinewidth": 0,
              "ticks": ""
             }
            },
            "type": "scatterpolargl"
           }
          ],
          "scatterternary": [
           {
            "marker": {
             "colorbar": {
              "outlinewidth": 0,
              "ticks": ""
             }
            },
            "type": "scatterternary"
           }
          ],
          "surface": [
           {
            "colorbar": {
             "outlinewidth": 0,
             "ticks": ""
            },
            "colorscale": [
             [
              0,
              "#0d0887"
             ],
             [
              0.1111111111111111,
              "#46039f"
             ],
             [
              0.2222222222222222,
              "#7201a8"
             ],
             [
              0.3333333333333333,
              "#9c179e"
             ],
             [
              0.4444444444444444,
              "#bd3786"
             ],
             [
              0.5555555555555556,
              "#d8576b"
             ],
             [
              0.6666666666666666,
              "#ed7953"
             ],
             [
              0.7777777777777778,
              "#fb9f3a"
             ],
             [
              0.8888888888888888,
              "#fdca26"
             ],
             [
              1,
              "#f0f921"
             ]
            ],
            "type": "surface"
           }
          ],
          "table": [
           {
            "cells": {
             "fill": {
              "color": "#EBF0F8"
             },
             "line": {
              "color": "white"
             }
            },
            "header": {
             "fill": {
              "color": "#C8D4E3"
             },
             "line": {
              "color": "white"
             }
            },
            "type": "table"
           }
          ]
         },
         "layout": {
          "annotationdefaults": {
           "arrowcolor": "#2a3f5f",
           "arrowhead": 0,
           "arrowwidth": 1
          },
          "coloraxis": {
           "colorbar": {
            "outlinewidth": 0,
            "ticks": ""
           }
          },
          "colorscale": {
           "diverging": [
            [
             0,
             "#8e0152"
            ],
            [
             0.1,
             "#c51b7d"
            ],
            [
             0.2,
             "#de77ae"
            ],
            [
             0.3,
             "#f1b6da"
            ],
            [
             0.4,
             "#fde0ef"
            ],
            [
             0.5,
             "#f7f7f7"
            ],
            [
             0.6,
             "#e6f5d0"
            ],
            [
             0.7,
             "#b8e186"
            ],
            [
             0.8,
             "#7fbc41"
            ],
            [
             0.9,
             "#4d9221"
            ],
            [
             1,
             "#276419"
            ]
           ],
           "sequential": [
            [
             0,
             "#0d0887"
            ],
            [
             0.1111111111111111,
             "#46039f"
            ],
            [
             0.2222222222222222,
             "#7201a8"
            ],
            [
             0.3333333333333333,
             "#9c179e"
            ],
            [
             0.4444444444444444,
             "#bd3786"
            ],
            [
             0.5555555555555556,
             "#d8576b"
            ],
            [
             0.6666666666666666,
             "#ed7953"
            ],
            [
             0.7777777777777778,
             "#fb9f3a"
            ],
            [
             0.8888888888888888,
             "#fdca26"
            ],
            [
             1,
             "#f0f921"
            ]
           ],
           "sequentialminus": [
            [
             0,
             "#0d0887"
            ],
            [
             0.1111111111111111,
             "#46039f"
            ],
            [
             0.2222222222222222,
             "#7201a8"
            ],
            [
             0.3333333333333333,
             "#9c179e"
            ],
            [
             0.4444444444444444,
             "#bd3786"
            ],
            [
             0.5555555555555556,
             "#d8576b"
            ],
            [
             0.6666666666666666,
             "#ed7953"
            ],
            [
             0.7777777777777778,
             "#fb9f3a"
            ],
            [
             0.8888888888888888,
             "#fdca26"
            ],
            [
             1,
             "#f0f921"
            ]
           ]
          },
          "colorway": [
           "#636efa",
           "#EF553B",
           "#00cc96",
           "#ab63fa",
           "#FFA15A",
           "#19d3f3",
           "#FF6692",
           "#B6E880",
           "#FF97FF",
           "#FECB52"
          ],
          "font": {
           "color": "#2a3f5f"
          },
          "geo": {
           "bgcolor": "white",
           "lakecolor": "white",
           "landcolor": "#E5ECF6",
           "showlakes": true,
           "showland": true,
           "subunitcolor": "white"
          },
          "hoverlabel": {
           "align": "left"
          },
          "hovermode": "closest",
          "mapbox": {
           "style": "light"
          },
          "paper_bgcolor": "white",
          "plot_bgcolor": "#E5ECF6",
          "polar": {
           "angularaxis": {
            "gridcolor": "white",
            "linecolor": "white",
            "ticks": ""
           },
           "bgcolor": "#E5ECF6",
           "radialaxis": {
            "gridcolor": "white",
            "linecolor": "white",
            "ticks": ""
           }
          },
          "scene": {
           "xaxis": {
            "backgroundcolor": "#E5ECF6",
            "gridcolor": "white",
            "gridwidth": 2,
            "linecolor": "white",
            "showbackground": true,
            "ticks": "",
            "zerolinecolor": "white"
           },
           "yaxis": {
            "backgroundcolor": "#E5ECF6",
            "gridcolor": "white",
            "gridwidth": 2,
            "linecolor": "white",
            "showbackground": true,
            "ticks": "",
            "zerolinecolor": "white"
           },
           "zaxis": {
            "backgroundcolor": "#E5ECF6",
            "gridcolor": "white",
            "gridwidth": 2,
            "linecolor": "white",
            "showbackground": true,
            "ticks": "",
            "zerolinecolor": "white"
           }
          },
          "shapedefaults": {
           "line": {
            "color": "#2a3f5f"
           }
          },
          "ternary": {
           "aaxis": {
            "gridcolor": "white",
            "linecolor": "white",
            "ticks": ""
           },
           "baxis": {
            "gridcolor": "white",
            "linecolor": "white",
            "ticks": ""
           },
           "bgcolor": "#E5ECF6",
           "caxis": {
            "gridcolor": "white",
            "linecolor": "white",
            "ticks": ""
           }
          },
          "title": {
           "x": 0.05
          },
          "xaxis": {
           "automargin": true,
           "gridcolor": "white",
           "linecolor": "white",
           "ticks": "",
           "title": {
            "standoff": 15
           },
           "zerolinecolor": "white",
           "zerolinewidth": 2
          },
          "yaxis": {
           "automargin": true,
           "gridcolor": "white",
           "linecolor": "white",
           "ticks": "",
           "title": {
            "standoff": 15
           },
           "zerolinecolor": "white",
           "zerolinewidth": 2
          }
         }
        },
        "title": {
         "font": {
          "color": "#4D5663"
         }
        },
        "xaxis": {
         "gridcolor": "#E1E5ED",
         "showgrid": true,
         "tickfont": {
          "color": "#4D5663"
         },
         "title": {
          "font": {
           "color": "#4D5663"
          },
          "text": ""
         },
         "zerolinecolor": "#E1E5ED"
        },
        "xaxis2": {
         "anchor": "y2",
         "gridcolor": "#E1E5ED",
         "showgrid": true,
         "showticklabels": false,
         "tickfont": {
          "color": "#4D5663"
         },
         "title": {
          "font": {
           "color": "#4D5663"
          },
          "text": ""
         },
         "zerolinecolor": "#E1E5ED"
        },
        "yaxis": {
         "domain": [
          0.3,
          1
         ],
         "gridcolor": "#E1E5ED",
         "showgrid": true,
         "tickfont": {
          "color": "#4D5663"
         },
         "title": {
          "font": {
           "color": "#4D5663"
          },
          "text": ""
         },
         "zerolinecolor": "#E1E5ED"
        },
        "yaxis2": {
         "domain": [
          0,
          0.25
         ],
         "gridcolor": "#E1E5ED",
         "showgrid": true,
         "tickfont": {
          "color": "#4D5663"
         },
         "title": {
          "font": {
           "color": "#4D5663"
          },
          "text": "Spread"
         },
         "zerolinecolor": "#E1E5ED"
        }
       }
      },
      "text/html": [
       "<div>                            <div id=\"acae42be-51f2-4160-9c29-f4f13539070e\" class=\"plotly-graph-div\" style=\"height:525px; width:100%;\"></div>            <script type=\"text/javascript\">                require([\"plotly\"], function(Plotly) {                    window.PLOTLYENV=window.PLOTLYENV || {};\n",
       "                    window.PLOTLYENV.BASE_URL='https://plot.ly';                                    if (document.getElementById(\"acae42be-51f2-4160-9c29-f4f13539070e\")) {                    Plotly.newPlot(                        \"acae42be-51f2-4160-9c29-f4f13539070e\",                        [{\"line\": {\"color\": \"rgba(255, 153, 51, 1.0)\", \"dash\": \"solid\", \"shape\": \"linear\", \"width\": 1.3}, \"mode\": \"lines\", \"name\": \"A\", \"text\": \"\", \"type\": \"scatter\", \"x\": [0, 1, 2, 3, 4, 5, 6, 7, 8, 9, 10, 11, 12, 13, 14, 15, 16, 17, 18, 19, 20, 21, 22, 23, 24, 25, 26, 27, 28, 29, 30, 31, 32, 33, 34, 35, 36, 37, 38, 39, 40, 41, 42, 43, 44, 45, 46, 47, 48, 49, 50, 51, 52, 53, 54, 55, 56, 57, 58, 59, 60, 61, 62, 63, 64, 65, 66, 67, 68, 69, 70, 71, 72, 73, 74, 75, 76, 77, 78, 79, 80, 81, 82, 83, 84, 85, 86, 87, 88, 89, 90, 91, 92, 93, 94, 95, 96, 97, 98, 99], \"y\": [0.5176590531969488, 0.2611900186917925, -2.0770443227929434, 0.4376128613752404, -0.7972765755299147, -0.9781925854562078, 0.021787211156948774, -1.8227103978927501, 1.7661994574612905, 0.6140684305177554, -0.10348408002873685, -0.005438269546051754, 0.14564690286116566, -1.6019204582868, 0.36412650919654904, 1.8933456811942735, 0.5580880070310005, -1.6721324428771815, -0.7640725461546174, -0.01743915243591418, 0.6748540001753083, 0.7920643030147945, -0.8170164432005932, -0.40348005188696673, 0.6539188908047413, -0.12400523728931026, 1.4032160617444647, -0.5827443655439306, 1.1703201043257259, -1.3220783976434485, 0.27017141466012873, 1.130033689636446, -0.19781497959524116, 0.9146218319990627, 0.6788744017706305, 0.7263896841237812, -0.4270625982491659, 1.7771258173188988, 1.7255189854877893, 0.10071803173376356, 0.5584259746959217, -0.35980148623036257, 0.27320206594699464, -0.9058148329762855, 0.6655637328672925, 0.737591189163516, 0.42918978634587096, -0.667396753774752, 0.33121038394063146, -0.38186248928384686, 0.4080848294364657, 1.7446010964370207, 2.7769588024238145, -0.0500309548669025, 0.1734318857601251, -0.560498934672177, 0.0615027213603778, -0.5563384887782385, 0.6872170531367844, 1.3085125570269542, 0.8658386492120068, -0.41384192152811716, -0.5748894712834556, -0.046030262702725415, -0.7834661261224901, 0.33669600457694904, 0.5649402937564677, 0.7412011360451405, 0.03744861967029218, -0.31441728987996154, 0.12757226281435682, 1.4278042432171743, -0.10084618653539616, 0.44337571123088204, 0.639743871777665, 0.05751155640936568, 0.5562572498216152, -0.1992962817147566, 1.777203558993544, 0.3884239255669419, 0.5974152051587482, -2.336551059610256, 0.37178139089325507, -0.6083978716388516, 1.4014589342993968, -0.707138581612621, -0.15707032363071047, -0.599796745012966, -0.5280305545087325, 0.13617931710002912, 0.20729333459661806, 0.9195443365275761, -1.3027488740641358, -0.22063075065637314, -0.9410102187865621, -0.889314187063548, 1.0927712482439207, 0.42244762596411395, 0.23878587815304225, -1.5437470888769478]}, {\"line\": {\"color\": \"rgba(55, 128, 191, 1.0)\", \"dash\": \"solid\", \"shape\": \"linear\", \"width\": 1.3}, \"mode\": \"lines\", \"name\": \"B\", \"text\": \"\", \"type\": \"scatter\", \"x\": [0, 1, 2, 3, 4, 5, 6, 7, 8, 9, 10, 11, 12, 13, 14, 15, 16, 17, 18, 19, 20, 21, 22, 23, 24, 25, 26, 27, 28, 29, 30, 31, 32, 33, 34, 35, 36, 37, 38, 39, 40, 41, 42, 43, 44, 45, 46, 47, 48, 49, 50, 51, 52, 53, 54, 55, 56, 57, 58, 59, 60, 61, 62, 63, 64, 65, 66, 67, 68, 69, 70, 71, 72, 73, 74, 75, 76, 77, 78, 79, 80, 81, 82, 83, 84, 85, 86, 87, 88, 89, 90, 91, 92, 93, 94, 95, 96, 97, 98, 99], \"y\": [-2.062328018719915, 0.8786899411904887, 1.1874249981439793, 0.620421760886563, 1.8246664737333786, -0.5685579142811606, 0.3088839923239217, -1.0084687897342672, 2.0771684696654575, 1.7617473144705262, 0.5218737819883743, 1.216892180797244, -0.6847447329719094, 0.826588825933059, 2.6200333634388415, 2.027364798276653, 0.46666153606323296, 0.6321266035330925, 0.10354350260081757, -1.4589818998144466, 1.0316131049729904, -0.4343505887332764, 0.15860458063757982, 0.41074091507419974, 1.438825016119307, 0.25298155971555386, 0.46729325225147283, 0.2936712849184672, -1.2348037110121215, -0.10345781303290143, -0.012482275553756294, -0.4475322156922826, -1.1414119122054063, 1.6628239176950863, 1.7068757940201402, -0.6201760521654056, 1.4276529258902466, 1.443110863145192, -0.0025796355047607586, -0.2837037736078109, -0.1487082196497076, 2.4894492822509338, 1.852621410994538, 0.8612759018913871, 0.8478792360988995, 0.5229295789614508, 0.1098334359498861, 0.2612972220104098, -1.792210724907832, -0.3742743391106684, -1.4474845739003757, 0.23369699704612115, -0.3998708578038428, -0.3238301112207704, -0.3638097440063624, 0.7677830069036755, -0.9560266895216887, -1.2620487398743916, -0.03370315564410422, 0.7163516147304333, -0.5732647969071828, 0.07060724906093349, 0.4459274755835238, 0.650618412269321, -1.0244672632772345, -0.6681332442599868, -0.9722001914014322, 0.45238929472010353, -2.8035768324235644, 0.9014287430239033, 1.319467095259805, 0.814749966559747, -1.6194588318172127, 1.810232824196542, -0.34028761466536867, -1.1591663343929903, -0.06465852470255785, 1.7281846836066086, -0.8877610317705266, 0.28713523914667666, 0.2274495262561486, 1.5675547163890926, 0.01636233235734836, -0.46263266260882785, 1.4710093187284892, 2.008148901429391, -0.07354278241686084, 0.741500628831564, -0.29140165890473285, -0.4392997604281096, -0.4367500190228618, 2.0212482820418307, 0.3225503619977586, 1.6557249579245188, -1.2396003969104676, 0.9414280160172462, 1.5208718204530265, 0.43530949652827217, 0.9965272851620621, -0.3126121992418231]}, {\"connectgaps\": false, \"fill\": \"tozeroy\", \"line\": {\"color\": \"green\", \"dash\": \"solid\", \"shape\": \"linear\", \"width\": 0.5}, \"mode\": \"lines\", \"name\": \"Spread\", \"showlegend\": false, \"type\": \"scatter\", \"x\": [0, 1, 2, 3, 4, 5, 6, 7, 8, 9, 10, 11, 12, 13, 14, 15, 16, 17, 18, 19, 20, 21, 22, 23, 24, 25, 26, 27, 28, 29, 30, 31, 32, 33, 34, 35, 36, 37, 38, 39, 40, 41, 42, 43, 44, 45, 46, 47, 48, 49, 50, 51, 52, 53, 54, 55, 56, 57, 58, 59, 60, 61, 62, 63, 64, 65, 66, 67, 68, 69, 70, 71, 72, 73, 74, 75, 76, 77, 78, 79, 80, 81, 82, 83, 84, 85, 86, 87, 88, 89, 90, 91, 92, 93, 94, 95, 96, 97, 98, 99], \"xaxis\": \"x2\", \"y\": [2.5799870719168636, \"\", \"\", \"\", \"\", \"\", \"\", \"\", \"\", \"\", \"\", \"\", 0.8303916358330751, \"\", \"\", \"\", 0.09142647096776751, \"\", \"\", 1.4415427473785325, \"\", 1.2264148917480708, \"\", \"\", \"\", \"\", 0.9359228094929919, \"\", 2.4051238153378476, \"\", 0.28265369021388503, 1.5775659053287285, 0.9435969326101651, \"\", \"\", 1.346565736289187, \"\", 0.33401495417370675, 1.72809862099255, 0.38442180534157444, 0.7071341943456293, \"\", \"\", \"\", \"\", 0.2146616102020652, 0.31935635039598487, \"\", 2.1234211088484636, \"\", 1.8555694033368413, 1.5109040993908995, 3.176829660227657, 0.27379915635386787, 0.5372416297664875, \"\", 1.0175294108820665, 0.705710251096153, 0.7209202087808886, 0.5921609422965209, 1.4391034461191896, \"\", \"\", \"\", 0.24100113715474436, 1.004829248836936, 1.5371404851579, 0.28881184132503696, 2.8410254520938567, \"\", \"\", 0.6130542766574273, 1.5186126452818165, \"\", 0.9800314864430337, 1.216677890802356, 0.620915774524173, \"\", 2.6649645907640704, 0.10128868642026523, 0.3699656789025997, \"\", 0.3554190585359067, \"\", \"\", \"\", \"\", \"\", \"\", 0.5754790775281386, 0.6440433536194798, \"\", \"\", \"\", 0.29859017812390554, \"\", \"\", \"\", \"\", \"\"], \"yaxis\": \"y2\"}, {\"connectgaps\": false, \"fill\": \"tozeroy\", \"line\": {\"color\": \"red\", \"dash\": \"solid\", \"shape\": \"linear\", \"width\": 0.5}, \"mode\": \"lines\", \"name\": \"Spread\", \"showlegend\": false, \"type\": \"scatter\", \"x\": [0, 1, 2, 3, 4, 5, 6, 7, 8, 9, 10, 11, 12, 13, 14, 15, 16, 17, 18, 19, 20, 21, 22, 23, 24, 25, 26, 27, 28, 29, 30, 31, 32, 33, 34, 35, 36, 37, 38, 39, 40, 41, 42, 43, 44, 45, 46, 47, 48, 49, 50, 51, 52, 53, 54, 55, 56, 57, 58, 59, 60, 61, 62, 63, 64, 65, 66, 67, 68, 69, 70, 71, 72, 73, 74, 75, 76, 77, 78, 79, 80, 81, 82, 83, 84, 85, 86, 87, 88, 89, 90, 91, 92, 93, 94, 95, 96, 97, 98, 99], \"xaxis\": \"x2\", \"y\": [\"\", -0.6174999224986962, -3.2644693209369224, -0.18280889951132256, -2.6219430492632934, -0.40963467117504715, -0.28709678116697296, -0.8142416081584829, -0.31096901220416706, -1.147678883952771, -0.6253578620171112, -1.2223304503432957, \"\", -2.4285092842198592, -2.2559068542422924, -0.13401911708237968, \"\", -2.304259046410274, -0.867616048755435, \"\", -0.35675910479768214, \"\", -0.9756210238381731, -0.8142209669611664, -0.7849061253145657, -0.37698679700486415, \"\", -0.8764156504623979, \"\", -1.2186205846105471, \"\", \"\", \"\", -0.7482020856960236, -1.0280013922495097, \"\", -1.8547155241394124, \"\", \"\", \"\", \"\", -2.8492507684812964, -1.5794193450475433, -1.7670907348676725, -0.18231550323160695, \"\", \"\", -0.9286939757851618, \"\", -0.007588150173178487, \"\", \"\", \"\", \"\", \"\", -1.3282819415758524, \"\", \"\", \"\", \"\", \"\", -0.4844491705890507, -1.0208169468669794, -0.6966486749720464, \"\", \"\", \"\", \"\", \"\", -1.215846032903865, -1.1918948324454484, \"\", \"\", -1.36685711296566, \"\", \"\", \"\", -1.9274809653213651, \"\", \"\", \"\", -3.9041057759993487, \"\", -0.14576520903002377, -0.06955038442909234, -2.7152874830420117, -0.08352754121384963, -1.34129737384453, -0.23662889560399963, \"\", \"\", -1.1017039455142545, -1.6252992360618943, -1.876355708580892, \"\", -1.8307422030807943, -0.4281005722091058, -0.012861870564158218, -0.7577414070090198, -1.2311348896351246], \"yaxis\": \"y2\"}],                        {\"hovermode\": \"x\", \"legend\": {\"bgcolor\": \"#F5F6F9\", \"font\": {\"color\": \"#4D5663\"}}, \"paper_bgcolor\": \"#F5F6F9\", \"plot_bgcolor\": \"#F5F6F9\", \"template\": {\"data\": {\"bar\": [{\"error_x\": {\"color\": \"#2a3f5f\"}, \"error_y\": {\"color\": \"#2a3f5f\"}, \"marker\": {\"line\": {\"color\": \"#E5ECF6\", \"width\": 0.5}}, \"type\": \"bar\"}], \"barpolar\": [{\"marker\": {\"line\": {\"color\": \"#E5ECF6\", \"width\": 0.5}}, \"type\": \"barpolar\"}], \"carpet\": [{\"aaxis\": {\"endlinecolor\": \"#2a3f5f\", \"gridcolor\": \"white\", \"linecolor\": \"white\", \"minorgridcolor\": \"white\", \"startlinecolor\": \"#2a3f5f\"}, \"baxis\": {\"endlinecolor\": \"#2a3f5f\", \"gridcolor\": \"white\", \"linecolor\": \"white\", \"minorgridcolor\": \"white\", \"startlinecolor\": \"#2a3f5f\"}, \"type\": \"carpet\"}], \"choropleth\": [{\"colorbar\": {\"outlinewidth\": 0, \"ticks\": \"\"}, \"type\": \"choropleth\"}], \"contour\": [{\"colorbar\": {\"outlinewidth\": 0, \"ticks\": \"\"}, \"colorscale\": [[0.0, \"#0d0887\"], [0.1111111111111111, \"#46039f\"], [0.2222222222222222, \"#7201a8\"], [0.3333333333333333, \"#9c179e\"], [0.4444444444444444, \"#bd3786\"], [0.5555555555555556, \"#d8576b\"], [0.6666666666666666, \"#ed7953\"], [0.7777777777777778, \"#fb9f3a\"], [0.8888888888888888, \"#fdca26\"], [1.0, \"#f0f921\"]], \"type\": \"contour\"}], \"contourcarpet\": [{\"colorbar\": {\"outlinewidth\": 0, \"ticks\": \"\"}, \"type\": \"contourcarpet\"}], \"heatmap\": [{\"colorbar\": {\"outlinewidth\": 0, \"ticks\": \"\"}, \"colorscale\": [[0.0, \"#0d0887\"], [0.1111111111111111, \"#46039f\"], [0.2222222222222222, \"#7201a8\"], [0.3333333333333333, \"#9c179e\"], [0.4444444444444444, \"#bd3786\"], [0.5555555555555556, \"#d8576b\"], [0.6666666666666666, \"#ed7953\"], [0.7777777777777778, \"#fb9f3a\"], [0.8888888888888888, \"#fdca26\"], [1.0, \"#f0f921\"]], \"type\": \"heatmap\"}], \"heatmapgl\": [{\"colorbar\": {\"outlinewidth\": 0, \"ticks\": \"\"}, \"colorscale\": [[0.0, \"#0d0887\"], [0.1111111111111111, \"#46039f\"], [0.2222222222222222, \"#7201a8\"], [0.3333333333333333, \"#9c179e\"], [0.4444444444444444, \"#bd3786\"], [0.5555555555555556, \"#d8576b\"], [0.6666666666666666, \"#ed7953\"], [0.7777777777777778, \"#fb9f3a\"], [0.8888888888888888, \"#fdca26\"], [1.0, \"#f0f921\"]], \"type\": \"heatmapgl\"}], \"histogram\": [{\"marker\": {\"colorbar\": {\"outlinewidth\": 0, \"ticks\": \"\"}}, \"type\": \"histogram\"}], \"histogram2d\": [{\"colorbar\": {\"outlinewidth\": 0, \"ticks\": \"\"}, \"colorscale\": [[0.0, \"#0d0887\"], [0.1111111111111111, \"#46039f\"], [0.2222222222222222, \"#7201a8\"], [0.3333333333333333, \"#9c179e\"], [0.4444444444444444, \"#bd3786\"], [0.5555555555555556, \"#d8576b\"], [0.6666666666666666, \"#ed7953\"], [0.7777777777777778, \"#fb9f3a\"], [0.8888888888888888, \"#fdca26\"], [1.0, \"#f0f921\"]], \"type\": \"histogram2d\"}], \"histogram2dcontour\": [{\"colorbar\": {\"outlinewidth\": 0, \"ticks\": \"\"}, \"colorscale\": [[0.0, \"#0d0887\"], [0.1111111111111111, \"#46039f\"], [0.2222222222222222, \"#7201a8\"], [0.3333333333333333, \"#9c179e\"], [0.4444444444444444, \"#bd3786\"], [0.5555555555555556, \"#d8576b\"], [0.6666666666666666, \"#ed7953\"], [0.7777777777777778, \"#fb9f3a\"], [0.8888888888888888, \"#fdca26\"], [1.0, \"#f0f921\"]], \"type\": \"histogram2dcontour\"}], \"mesh3d\": [{\"colorbar\": {\"outlinewidth\": 0, \"ticks\": \"\"}, \"type\": \"mesh3d\"}], \"parcoords\": [{\"line\": {\"colorbar\": {\"outlinewidth\": 0, \"ticks\": \"\"}}, \"type\": \"parcoords\"}], \"pie\": [{\"automargin\": true, \"type\": \"pie\"}], \"scatter\": [{\"marker\": {\"colorbar\": {\"outlinewidth\": 0, \"ticks\": \"\"}}, \"type\": \"scatter\"}], \"scatter3d\": [{\"line\": {\"colorbar\": {\"outlinewidth\": 0, \"ticks\": \"\"}}, \"marker\": {\"colorbar\": {\"outlinewidth\": 0, \"ticks\": \"\"}}, \"type\": \"scatter3d\"}], \"scattercarpet\": [{\"marker\": {\"colorbar\": {\"outlinewidth\": 0, \"ticks\": \"\"}}, \"type\": \"scattercarpet\"}], \"scattergeo\": [{\"marker\": {\"colorbar\": {\"outlinewidth\": 0, \"ticks\": \"\"}}, \"type\": \"scattergeo\"}], \"scattergl\": [{\"marker\": {\"colorbar\": {\"outlinewidth\": 0, \"ticks\": \"\"}}, \"type\": \"scattergl\"}], \"scattermapbox\": [{\"marker\": {\"colorbar\": {\"outlinewidth\": 0, \"ticks\": \"\"}}, \"type\": \"scattermapbox\"}], \"scatterpolar\": [{\"marker\": {\"colorbar\": {\"outlinewidth\": 0, \"ticks\": \"\"}}, \"type\": \"scatterpolar\"}], \"scatterpolargl\": [{\"marker\": {\"colorbar\": {\"outlinewidth\": 0, \"ticks\": \"\"}}, \"type\": \"scatterpolargl\"}], \"scatterternary\": [{\"marker\": {\"colorbar\": {\"outlinewidth\": 0, \"ticks\": \"\"}}, \"type\": \"scatterternary\"}], \"surface\": [{\"colorbar\": {\"outlinewidth\": 0, \"ticks\": \"\"}, \"colorscale\": [[0.0, \"#0d0887\"], [0.1111111111111111, \"#46039f\"], [0.2222222222222222, \"#7201a8\"], [0.3333333333333333, \"#9c179e\"], [0.4444444444444444, \"#bd3786\"], [0.5555555555555556, \"#d8576b\"], [0.6666666666666666, \"#ed7953\"], [0.7777777777777778, \"#fb9f3a\"], [0.8888888888888888, \"#fdca26\"], [1.0, \"#f0f921\"]], \"type\": \"surface\"}], \"table\": [{\"cells\": {\"fill\": {\"color\": \"#EBF0F8\"}, \"line\": {\"color\": \"white\"}}, \"header\": {\"fill\": {\"color\": \"#C8D4E3\"}, \"line\": {\"color\": \"white\"}}, \"type\": \"table\"}]}, \"layout\": {\"annotationdefaults\": {\"arrowcolor\": \"#2a3f5f\", \"arrowhead\": 0, \"arrowwidth\": 1}, \"coloraxis\": {\"colorbar\": {\"outlinewidth\": 0, \"ticks\": \"\"}}, \"colorscale\": {\"diverging\": [[0, \"#8e0152\"], [0.1, \"#c51b7d\"], [0.2, \"#de77ae\"], [0.3, \"#f1b6da\"], [0.4, \"#fde0ef\"], [0.5, \"#f7f7f7\"], [0.6, \"#e6f5d0\"], [0.7, \"#b8e186\"], [0.8, \"#7fbc41\"], [0.9, \"#4d9221\"], [1, \"#276419\"]], \"sequential\": [[0.0, \"#0d0887\"], [0.1111111111111111, \"#46039f\"], [0.2222222222222222, \"#7201a8\"], [0.3333333333333333, \"#9c179e\"], [0.4444444444444444, \"#bd3786\"], [0.5555555555555556, \"#d8576b\"], [0.6666666666666666, \"#ed7953\"], [0.7777777777777778, \"#fb9f3a\"], [0.8888888888888888, \"#fdca26\"], [1.0, \"#f0f921\"]], \"sequentialminus\": [[0.0, \"#0d0887\"], [0.1111111111111111, \"#46039f\"], [0.2222222222222222, \"#7201a8\"], [0.3333333333333333, \"#9c179e\"], [0.4444444444444444, \"#bd3786\"], [0.5555555555555556, \"#d8576b\"], [0.6666666666666666, \"#ed7953\"], [0.7777777777777778, \"#fb9f3a\"], [0.8888888888888888, \"#fdca26\"], [1.0, \"#f0f921\"]]}, \"colorway\": [\"#636efa\", \"#EF553B\", \"#00cc96\", \"#ab63fa\", \"#FFA15A\", \"#19d3f3\", \"#FF6692\", \"#B6E880\", \"#FF97FF\", \"#FECB52\"], \"font\": {\"color\": \"#2a3f5f\"}, \"geo\": {\"bgcolor\": \"white\", \"lakecolor\": \"white\", \"landcolor\": \"#E5ECF6\", \"showlakes\": true, \"showland\": true, \"subunitcolor\": \"white\"}, \"hoverlabel\": {\"align\": \"left\"}, \"hovermode\": \"closest\", \"mapbox\": {\"style\": \"light\"}, \"paper_bgcolor\": \"white\", \"plot_bgcolor\": \"#E5ECF6\", \"polar\": {\"angularaxis\": {\"gridcolor\": \"white\", \"linecolor\": \"white\", \"ticks\": \"\"}, \"bgcolor\": \"#E5ECF6\", \"radialaxis\": {\"gridcolor\": \"white\", \"linecolor\": \"white\", \"ticks\": \"\"}}, \"scene\": {\"xaxis\": {\"backgroundcolor\": \"#E5ECF6\", \"gridcolor\": \"white\", \"gridwidth\": 2, \"linecolor\": \"white\", \"showbackground\": true, \"ticks\": \"\", \"zerolinecolor\": \"white\"}, \"yaxis\": {\"backgroundcolor\": \"#E5ECF6\", \"gridcolor\": \"white\", \"gridwidth\": 2, \"linecolor\": \"white\", \"showbackground\": true, \"ticks\": \"\", \"zerolinecolor\": \"white\"}, \"zaxis\": {\"backgroundcolor\": \"#E5ECF6\", \"gridcolor\": \"white\", \"gridwidth\": 2, \"linecolor\": \"white\", \"showbackground\": true, \"ticks\": \"\", \"zerolinecolor\": \"white\"}}, \"shapedefaults\": {\"line\": {\"color\": \"#2a3f5f\"}}, \"ternary\": {\"aaxis\": {\"gridcolor\": \"white\", \"linecolor\": \"white\", \"ticks\": \"\"}, \"baxis\": {\"gridcolor\": \"white\", \"linecolor\": \"white\", \"ticks\": \"\"}, \"bgcolor\": \"#E5ECF6\", \"caxis\": {\"gridcolor\": \"white\", \"linecolor\": \"white\", \"ticks\": \"\"}}, \"title\": {\"x\": 0.05}, \"xaxis\": {\"automargin\": true, \"gridcolor\": \"white\", \"linecolor\": \"white\", \"ticks\": \"\", \"title\": {\"standoff\": 15}, \"zerolinecolor\": \"white\", \"zerolinewidth\": 2}, \"yaxis\": {\"automargin\": true, \"gridcolor\": \"white\", \"linecolor\": \"white\", \"ticks\": \"\", \"title\": {\"standoff\": 15}, \"zerolinecolor\": \"white\", \"zerolinewidth\": 2}}}, \"title\": {\"font\": {\"color\": \"#4D5663\"}}, \"xaxis\": {\"gridcolor\": \"#E1E5ED\", \"showgrid\": true, \"tickfont\": {\"color\": \"#4D5663\"}, \"title\": {\"font\": {\"color\": \"#4D5663\"}, \"text\": \"\"}, \"zerolinecolor\": \"#E1E5ED\"}, \"xaxis2\": {\"anchor\": \"y2\", \"gridcolor\": \"#E1E5ED\", \"showgrid\": true, \"showticklabels\": false, \"tickfont\": {\"color\": \"#4D5663\"}, \"title\": {\"font\": {\"color\": \"#4D5663\"}, \"text\": \"\"}, \"zerolinecolor\": \"#E1E5ED\"}, \"yaxis\": {\"domain\": [0.3, 1], \"gridcolor\": \"#E1E5ED\", \"showgrid\": true, \"tickfont\": {\"color\": \"#4D5663\"}, \"title\": {\"font\": {\"color\": \"#4D5663\"}, \"text\": \"\"}, \"zerolinecolor\": \"#E1E5ED\"}, \"yaxis2\": {\"domain\": [0, 0.25], \"gridcolor\": \"#E1E5ED\", \"showgrid\": true, \"tickfont\": {\"color\": \"#4D5663\"}, \"title\": {\"font\": {\"color\": \"#4D5663\"}, \"text\": \"Spread\"}, \"zerolinecolor\": \"#E1E5ED\"}},                        {\"showLink\": true, \"linkText\": \"Export to plot.ly\", \"plotlyServerURL\": \"https://plot.ly\", \"responsive\": true}                    ).then(function(){\n",
       "                            \n",
       "var gd = document.getElementById('acae42be-51f2-4160-9c29-f4f13539070e');\n",
       "var x = new MutationObserver(function (mutations, observer) {{\n",
       "        var display = window.getComputedStyle(gd).display;\n",
       "        if (!display || display === 'none') {{\n",
       "            console.log([gd, 'removed!']);\n",
       "            Plotly.purge(gd);\n",
       "            observer.disconnect();\n",
       "        }}\n",
       "}});\n",
       "\n",
       "// Listen for the removal of the full notebook cells\n",
       "var notebookContainer = gd.closest('#notebook-container');\n",
       "if (notebookContainer) {{\n",
       "    x.observe(notebookContainer, {childList: true});\n",
       "}}\n",
       "\n",
       "// Listen for the clearing of the current output cell\n",
       "var outputEl = gd.closest('.output');\n",
       "if (outputEl) {{\n",
       "    x.observe(outputEl, {childList: true});\n",
       "}}\n",
       "\n",
       "                        })                };                });            </script>        </div>"
      ]
     },
     "metadata": {},
     "output_type": "display_data"
    }
   ],
   "source": [
    "fake_df[['A','B']].iplot(kind='spread')"
   ]
  },
  {
   "cell_type": "markdown",
   "metadata": {},
   "source": [
    "# Histrogram"
   ]
  },
  {
   "cell_type": "code",
   "execution_count": 28,
   "metadata": {},
   "outputs": [
    {
     "data": {
      "application/vnd.plotly.v1+json": {
       "config": {
        "linkText": "Export to plot.ly",
        "plotlyServerURL": "https://plot.ly",
        "showLink": true
       },
       "data": [
        {
         "histfunc": "count",
         "histnorm": "",
         "marker": {
          "color": "rgba(255, 153, 51, 1.0)",
          "line": {
           "color": "#4D5663",
           "width": 1.3
          }
         },
         "name": "A",
         "nbinsx": 35,
         "opacity": 0.8,
         "orientation": "v",
         "type": "histogram",
         "x": [
          0.5176590531969488,
          0.2611900186917925,
          -2.0770443227929434,
          0.4376128613752404,
          -0.7972765755299147,
          -0.9781925854562078,
          0.021787211156948774,
          -1.8227103978927501,
          1.7661994574612905,
          0.6140684305177554,
          -0.10348408002873685,
          -0.005438269546051754,
          0.14564690286116566,
          -1.6019204582868,
          0.36412650919654904,
          1.8933456811942735,
          0.5580880070310005,
          -1.6721324428771815,
          -0.7640725461546174,
          -0.01743915243591418,
          0.6748540001753083,
          0.7920643030147945,
          -0.8170164432005932,
          -0.40348005188696673,
          0.6539188908047413,
          -0.12400523728931026,
          1.4032160617444647,
          -0.5827443655439306,
          1.1703201043257259,
          -1.3220783976434485,
          0.27017141466012873,
          1.130033689636446,
          -0.19781497959524116,
          0.9146218319990627,
          0.6788744017706305,
          0.7263896841237812,
          -0.4270625982491659,
          1.7771258173188988,
          1.7255189854877893,
          0.10071803173376356,
          0.5584259746959217,
          -0.35980148623036257,
          0.27320206594699464,
          -0.9058148329762855,
          0.6655637328672925,
          0.737591189163516,
          0.42918978634587096,
          -0.667396753774752,
          0.33121038394063146,
          -0.38186248928384686,
          0.4080848294364657,
          1.7446010964370207,
          2.7769588024238145,
          -0.0500309548669025,
          0.1734318857601251,
          -0.560498934672177,
          0.0615027213603778,
          -0.5563384887782385,
          0.6872170531367844,
          1.3085125570269542,
          0.8658386492120068,
          -0.41384192152811716,
          -0.5748894712834556,
          -0.046030262702725415,
          -0.7834661261224901,
          0.33669600457694904,
          0.5649402937564677,
          0.7412011360451405,
          0.03744861967029218,
          -0.31441728987996154,
          0.12757226281435682,
          1.4278042432171743,
          -0.10084618653539616,
          0.44337571123088204,
          0.639743871777665,
          0.05751155640936568,
          0.5562572498216152,
          -0.1992962817147566,
          1.777203558993544,
          0.3884239255669419,
          0.5974152051587482,
          -2.336551059610256,
          0.37178139089325507,
          -0.6083978716388516,
          1.4014589342993968,
          -0.707138581612621,
          -0.15707032363071047,
          -0.599796745012966,
          -0.5280305545087325,
          0.13617931710002912,
          0.20729333459661806,
          0.9195443365275761,
          -1.3027488740641358,
          -0.22063075065637314,
          -0.9410102187865621,
          -0.889314187063548,
          1.0927712482439207,
          0.42244762596411395,
          0.23878587815304225,
          -1.5437470888769478
         ]
        }
       ],
       "layout": {
        "barmode": "overlay",
        "legend": {
         "bgcolor": "#F5F6F9",
         "font": {
          "color": "#4D5663"
         }
        },
        "paper_bgcolor": "#F5F6F9",
        "plot_bgcolor": "#F5F6F9",
        "template": {
         "data": {
          "bar": [
           {
            "error_x": {
             "color": "#2a3f5f"
            },
            "error_y": {
             "color": "#2a3f5f"
            },
            "marker": {
             "line": {
              "color": "#E5ECF6",
              "width": 0.5
             }
            },
            "type": "bar"
           }
          ],
          "barpolar": [
           {
            "marker": {
             "line": {
              "color": "#E5ECF6",
              "width": 0.5
             }
            },
            "type": "barpolar"
           }
          ],
          "carpet": [
           {
            "aaxis": {
             "endlinecolor": "#2a3f5f",
             "gridcolor": "white",
             "linecolor": "white",
             "minorgridcolor": "white",
             "startlinecolor": "#2a3f5f"
            },
            "baxis": {
             "endlinecolor": "#2a3f5f",
             "gridcolor": "white",
             "linecolor": "white",
             "minorgridcolor": "white",
             "startlinecolor": "#2a3f5f"
            },
            "type": "carpet"
           }
          ],
          "choropleth": [
           {
            "colorbar": {
             "outlinewidth": 0,
             "ticks": ""
            },
            "type": "choropleth"
           }
          ],
          "contour": [
           {
            "colorbar": {
             "outlinewidth": 0,
             "ticks": ""
            },
            "colorscale": [
             [
              0,
              "#0d0887"
             ],
             [
              0.1111111111111111,
              "#46039f"
             ],
             [
              0.2222222222222222,
              "#7201a8"
             ],
             [
              0.3333333333333333,
              "#9c179e"
             ],
             [
              0.4444444444444444,
              "#bd3786"
             ],
             [
              0.5555555555555556,
              "#d8576b"
             ],
             [
              0.6666666666666666,
              "#ed7953"
             ],
             [
              0.7777777777777778,
              "#fb9f3a"
             ],
             [
              0.8888888888888888,
              "#fdca26"
             ],
             [
              1,
              "#f0f921"
             ]
            ],
            "type": "contour"
           }
          ],
          "contourcarpet": [
           {
            "colorbar": {
             "outlinewidth": 0,
             "ticks": ""
            },
            "type": "contourcarpet"
           }
          ],
          "heatmap": [
           {
            "colorbar": {
             "outlinewidth": 0,
             "ticks": ""
            },
            "colorscale": [
             [
              0,
              "#0d0887"
             ],
             [
              0.1111111111111111,
              "#46039f"
             ],
             [
              0.2222222222222222,
              "#7201a8"
             ],
             [
              0.3333333333333333,
              "#9c179e"
             ],
             [
              0.4444444444444444,
              "#bd3786"
             ],
             [
              0.5555555555555556,
              "#d8576b"
             ],
             [
              0.6666666666666666,
              "#ed7953"
             ],
             [
              0.7777777777777778,
              "#fb9f3a"
             ],
             [
              0.8888888888888888,
              "#fdca26"
             ],
             [
              1,
              "#f0f921"
             ]
            ],
            "type": "heatmap"
           }
          ],
          "heatmapgl": [
           {
            "colorbar": {
             "outlinewidth": 0,
             "ticks": ""
            },
            "colorscale": [
             [
              0,
              "#0d0887"
             ],
             [
              0.1111111111111111,
              "#46039f"
             ],
             [
              0.2222222222222222,
              "#7201a8"
             ],
             [
              0.3333333333333333,
              "#9c179e"
             ],
             [
              0.4444444444444444,
              "#bd3786"
             ],
             [
              0.5555555555555556,
              "#d8576b"
             ],
             [
              0.6666666666666666,
              "#ed7953"
             ],
             [
              0.7777777777777778,
              "#fb9f3a"
             ],
             [
              0.8888888888888888,
              "#fdca26"
             ],
             [
              1,
              "#f0f921"
             ]
            ],
            "type": "heatmapgl"
           }
          ],
          "histogram": [
           {
            "marker": {
             "colorbar": {
              "outlinewidth": 0,
              "ticks": ""
             }
            },
            "type": "histogram"
           }
          ],
          "histogram2d": [
           {
            "colorbar": {
             "outlinewidth": 0,
             "ticks": ""
            },
            "colorscale": [
             [
              0,
              "#0d0887"
             ],
             [
              0.1111111111111111,
              "#46039f"
             ],
             [
              0.2222222222222222,
              "#7201a8"
             ],
             [
              0.3333333333333333,
              "#9c179e"
             ],
             [
              0.4444444444444444,
              "#bd3786"
             ],
             [
              0.5555555555555556,
              "#d8576b"
             ],
             [
              0.6666666666666666,
              "#ed7953"
             ],
             [
              0.7777777777777778,
              "#fb9f3a"
             ],
             [
              0.8888888888888888,
              "#fdca26"
             ],
             [
              1,
              "#f0f921"
             ]
            ],
            "type": "histogram2d"
           }
          ],
          "histogram2dcontour": [
           {
            "colorbar": {
             "outlinewidth": 0,
             "ticks": ""
            },
            "colorscale": [
             [
              0,
              "#0d0887"
             ],
             [
              0.1111111111111111,
              "#46039f"
             ],
             [
              0.2222222222222222,
              "#7201a8"
             ],
             [
              0.3333333333333333,
              "#9c179e"
             ],
             [
              0.4444444444444444,
              "#bd3786"
             ],
             [
              0.5555555555555556,
              "#d8576b"
             ],
             [
              0.6666666666666666,
              "#ed7953"
             ],
             [
              0.7777777777777778,
              "#fb9f3a"
             ],
             [
              0.8888888888888888,
              "#fdca26"
             ],
             [
              1,
              "#f0f921"
             ]
            ],
            "type": "histogram2dcontour"
           }
          ],
          "mesh3d": [
           {
            "colorbar": {
             "outlinewidth": 0,
             "ticks": ""
            },
            "type": "mesh3d"
           }
          ],
          "parcoords": [
           {
            "line": {
             "colorbar": {
              "outlinewidth": 0,
              "ticks": ""
             }
            },
            "type": "parcoords"
           }
          ],
          "pie": [
           {
            "automargin": true,
            "type": "pie"
           }
          ],
          "scatter": [
           {
            "marker": {
             "colorbar": {
              "outlinewidth": 0,
              "ticks": ""
             }
            },
            "type": "scatter"
           }
          ],
          "scatter3d": [
           {
            "line": {
             "colorbar": {
              "outlinewidth": 0,
              "ticks": ""
             }
            },
            "marker": {
             "colorbar": {
              "outlinewidth": 0,
              "ticks": ""
             }
            },
            "type": "scatter3d"
           }
          ],
          "scattercarpet": [
           {
            "marker": {
             "colorbar": {
              "outlinewidth": 0,
              "ticks": ""
             }
            },
            "type": "scattercarpet"
           }
          ],
          "scattergeo": [
           {
            "marker": {
             "colorbar": {
              "outlinewidth": 0,
              "ticks": ""
             }
            },
            "type": "scattergeo"
           }
          ],
          "scattergl": [
           {
            "marker": {
             "colorbar": {
              "outlinewidth": 0,
              "ticks": ""
             }
            },
            "type": "scattergl"
           }
          ],
          "scattermapbox": [
           {
            "marker": {
             "colorbar": {
              "outlinewidth": 0,
              "ticks": ""
             }
            },
            "type": "scattermapbox"
           }
          ],
          "scatterpolar": [
           {
            "marker": {
             "colorbar": {
              "outlinewidth": 0,
              "ticks": ""
             }
            },
            "type": "scatterpolar"
           }
          ],
          "scatterpolargl": [
           {
            "marker": {
             "colorbar": {
              "outlinewidth": 0,
              "ticks": ""
             }
            },
            "type": "scatterpolargl"
           }
          ],
          "scatterternary": [
           {
            "marker": {
             "colorbar": {
              "outlinewidth": 0,
              "ticks": ""
             }
            },
            "type": "scatterternary"
           }
          ],
          "surface": [
           {
            "colorbar": {
             "outlinewidth": 0,
             "ticks": ""
            },
            "colorscale": [
             [
              0,
              "#0d0887"
             ],
             [
              0.1111111111111111,
              "#46039f"
             ],
             [
              0.2222222222222222,
              "#7201a8"
             ],
             [
              0.3333333333333333,
              "#9c179e"
             ],
             [
              0.4444444444444444,
              "#bd3786"
             ],
             [
              0.5555555555555556,
              "#d8576b"
             ],
             [
              0.6666666666666666,
              "#ed7953"
             ],
             [
              0.7777777777777778,
              "#fb9f3a"
             ],
             [
              0.8888888888888888,
              "#fdca26"
             ],
             [
              1,
              "#f0f921"
             ]
            ],
            "type": "surface"
           }
          ],
          "table": [
           {
            "cells": {
             "fill": {
              "color": "#EBF0F8"
             },
             "line": {
              "color": "white"
             }
            },
            "header": {
             "fill": {
              "color": "#C8D4E3"
             },
             "line": {
              "color": "white"
             }
            },
            "type": "table"
           }
          ]
         },
         "layout": {
          "annotationdefaults": {
           "arrowcolor": "#2a3f5f",
           "arrowhead": 0,
           "arrowwidth": 1
          },
          "coloraxis": {
           "colorbar": {
            "outlinewidth": 0,
            "ticks": ""
           }
          },
          "colorscale": {
           "diverging": [
            [
             0,
             "#8e0152"
            ],
            [
             0.1,
             "#c51b7d"
            ],
            [
             0.2,
             "#de77ae"
            ],
            [
             0.3,
             "#f1b6da"
            ],
            [
             0.4,
             "#fde0ef"
            ],
            [
             0.5,
             "#f7f7f7"
            ],
            [
             0.6,
             "#e6f5d0"
            ],
            [
             0.7,
             "#b8e186"
            ],
            [
             0.8,
             "#7fbc41"
            ],
            [
             0.9,
             "#4d9221"
            ],
            [
             1,
             "#276419"
            ]
           ],
           "sequential": [
            [
             0,
             "#0d0887"
            ],
            [
             0.1111111111111111,
             "#46039f"
            ],
            [
             0.2222222222222222,
             "#7201a8"
            ],
            [
             0.3333333333333333,
             "#9c179e"
            ],
            [
             0.4444444444444444,
             "#bd3786"
            ],
            [
             0.5555555555555556,
             "#d8576b"
            ],
            [
             0.6666666666666666,
             "#ed7953"
            ],
            [
             0.7777777777777778,
             "#fb9f3a"
            ],
            [
             0.8888888888888888,
             "#fdca26"
            ],
            [
             1,
             "#f0f921"
            ]
           ],
           "sequentialminus": [
            [
             0,
             "#0d0887"
            ],
            [
             0.1111111111111111,
             "#46039f"
            ],
            [
             0.2222222222222222,
             "#7201a8"
            ],
            [
             0.3333333333333333,
             "#9c179e"
            ],
            [
             0.4444444444444444,
             "#bd3786"
            ],
            [
             0.5555555555555556,
             "#d8576b"
            ],
            [
             0.6666666666666666,
             "#ed7953"
            ],
            [
             0.7777777777777778,
             "#fb9f3a"
            ],
            [
             0.8888888888888888,
             "#fdca26"
            ],
            [
             1,
             "#f0f921"
            ]
           ]
          },
          "colorway": [
           "#636efa",
           "#EF553B",
           "#00cc96",
           "#ab63fa",
           "#FFA15A",
           "#19d3f3",
           "#FF6692",
           "#B6E880",
           "#FF97FF",
           "#FECB52"
          ],
          "font": {
           "color": "#2a3f5f"
          },
          "geo": {
           "bgcolor": "white",
           "lakecolor": "white",
           "landcolor": "#E5ECF6",
           "showlakes": true,
           "showland": true,
           "subunitcolor": "white"
          },
          "hoverlabel": {
           "align": "left"
          },
          "hovermode": "closest",
          "mapbox": {
           "style": "light"
          },
          "paper_bgcolor": "white",
          "plot_bgcolor": "#E5ECF6",
          "polar": {
           "angularaxis": {
            "gridcolor": "white",
            "linecolor": "white",
            "ticks": ""
           },
           "bgcolor": "#E5ECF6",
           "radialaxis": {
            "gridcolor": "white",
            "linecolor": "white",
            "ticks": ""
           }
          },
          "scene": {
           "xaxis": {
            "backgroundcolor": "#E5ECF6",
            "gridcolor": "white",
            "gridwidth": 2,
            "linecolor": "white",
            "showbackground": true,
            "ticks": "",
            "zerolinecolor": "white"
           },
           "yaxis": {
            "backgroundcolor": "#E5ECF6",
            "gridcolor": "white",
            "gridwidth": 2,
            "linecolor": "white",
            "showbackground": true,
            "ticks": "",
            "zerolinecolor": "white"
           },
           "zaxis": {
            "backgroundcolor": "#E5ECF6",
            "gridcolor": "white",
            "gridwidth": 2,
            "linecolor": "white",
            "showbackground": true,
            "ticks": "",
            "zerolinecolor": "white"
           }
          },
          "shapedefaults": {
           "line": {
            "color": "#2a3f5f"
           }
          },
          "ternary": {
           "aaxis": {
            "gridcolor": "white",
            "linecolor": "white",
            "ticks": ""
           },
           "baxis": {
            "gridcolor": "white",
            "linecolor": "white",
            "ticks": ""
           },
           "bgcolor": "#E5ECF6",
           "caxis": {
            "gridcolor": "white",
            "linecolor": "white",
            "ticks": ""
           }
          },
          "title": {
           "x": 0.05
          },
          "xaxis": {
           "automargin": true,
           "gridcolor": "white",
           "linecolor": "white",
           "ticks": "",
           "title": {
            "standoff": 15
           },
           "zerolinecolor": "white",
           "zerolinewidth": 2
          },
          "yaxis": {
           "automargin": true,
           "gridcolor": "white",
           "linecolor": "white",
           "ticks": "",
           "title": {
            "standoff": 15
           },
           "zerolinecolor": "white",
           "zerolinewidth": 2
          }
         }
        },
        "title": {
         "font": {
          "color": "#4D5663"
         }
        },
        "xaxis": {
         "gridcolor": "#E1E5ED",
         "showgrid": true,
         "tickfont": {
          "color": "#4D5663"
         },
         "title": {
          "font": {
           "color": "#4D5663"
          },
          "text": ""
         },
         "zerolinecolor": "#E1E5ED"
        },
        "yaxis": {
         "gridcolor": "#E1E5ED",
         "showgrid": true,
         "tickfont": {
          "color": "#4D5663"
         },
         "title": {
          "font": {
           "color": "#4D5663"
          },
          "text": ""
         },
         "zerolinecolor": "#E1E5ED"
        }
       }
      },
      "text/html": [
       "<div>                            <div id=\"13971d32-e14a-4a4d-a830-64414bc7c71f\" class=\"plotly-graph-div\" style=\"height:525px; width:100%;\"></div>            <script type=\"text/javascript\">                require([\"plotly\"], function(Plotly) {                    window.PLOTLYENV=window.PLOTLYENV || {};\n",
       "                    window.PLOTLYENV.BASE_URL='https://plot.ly';                                    if (document.getElementById(\"13971d32-e14a-4a4d-a830-64414bc7c71f\")) {                    Plotly.newPlot(                        \"13971d32-e14a-4a4d-a830-64414bc7c71f\",                        [{\"histfunc\": \"count\", \"histnorm\": \"\", \"marker\": {\"color\": \"rgba(255, 153, 51, 1.0)\", \"line\": {\"color\": \"#4D5663\", \"width\": 1.3}}, \"name\": \"A\", \"nbinsx\": 35, \"opacity\": 0.8, \"orientation\": \"v\", \"type\": \"histogram\", \"x\": [0.5176590531969488, 0.2611900186917925, -2.0770443227929434, 0.4376128613752404, -0.7972765755299147, -0.9781925854562078, 0.021787211156948774, -1.8227103978927501, 1.7661994574612905, 0.6140684305177554, -0.10348408002873685, -0.005438269546051754, 0.14564690286116566, -1.6019204582868, 0.36412650919654904, 1.8933456811942735, 0.5580880070310005, -1.6721324428771815, -0.7640725461546174, -0.01743915243591418, 0.6748540001753083, 0.7920643030147945, -0.8170164432005932, -0.40348005188696673, 0.6539188908047413, -0.12400523728931026, 1.4032160617444647, -0.5827443655439306, 1.1703201043257259, -1.3220783976434485, 0.27017141466012873, 1.130033689636446, -0.19781497959524116, 0.9146218319990627, 0.6788744017706305, 0.7263896841237812, -0.4270625982491659, 1.7771258173188988, 1.7255189854877893, 0.10071803173376356, 0.5584259746959217, -0.35980148623036257, 0.27320206594699464, -0.9058148329762855, 0.6655637328672925, 0.737591189163516, 0.42918978634587096, -0.667396753774752, 0.33121038394063146, -0.38186248928384686, 0.4080848294364657, 1.7446010964370207, 2.7769588024238145, -0.0500309548669025, 0.1734318857601251, -0.560498934672177, 0.0615027213603778, -0.5563384887782385, 0.6872170531367844, 1.3085125570269542, 0.8658386492120068, -0.41384192152811716, -0.5748894712834556, -0.046030262702725415, -0.7834661261224901, 0.33669600457694904, 0.5649402937564677, 0.7412011360451405, 0.03744861967029218, -0.31441728987996154, 0.12757226281435682, 1.4278042432171743, -0.10084618653539616, 0.44337571123088204, 0.639743871777665, 0.05751155640936568, 0.5562572498216152, -0.1992962817147566, 1.777203558993544, 0.3884239255669419, 0.5974152051587482, -2.336551059610256, 0.37178139089325507, -0.6083978716388516, 1.4014589342993968, -0.707138581612621, -0.15707032363071047, -0.599796745012966, -0.5280305545087325, 0.13617931710002912, 0.20729333459661806, 0.9195443365275761, -1.3027488740641358, -0.22063075065637314, -0.9410102187865621, -0.889314187063548, 1.0927712482439207, 0.42244762596411395, 0.23878587815304225, -1.5437470888769478]}],                        {\"barmode\": \"overlay\", \"legend\": {\"bgcolor\": \"#F5F6F9\", \"font\": {\"color\": \"#4D5663\"}}, \"paper_bgcolor\": \"#F5F6F9\", \"plot_bgcolor\": \"#F5F6F9\", \"template\": {\"data\": {\"bar\": [{\"error_x\": {\"color\": \"#2a3f5f\"}, \"error_y\": {\"color\": \"#2a3f5f\"}, \"marker\": {\"line\": {\"color\": \"#E5ECF6\", \"width\": 0.5}}, \"type\": \"bar\"}], \"barpolar\": [{\"marker\": {\"line\": {\"color\": \"#E5ECF6\", \"width\": 0.5}}, \"type\": \"barpolar\"}], \"carpet\": [{\"aaxis\": {\"endlinecolor\": \"#2a3f5f\", \"gridcolor\": \"white\", \"linecolor\": \"white\", \"minorgridcolor\": \"white\", \"startlinecolor\": \"#2a3f5f\"}, \"baxis\": {\"endlinecolor\": \"#2a3f5f\", \"gridcolor\": \"white\", \"linecolor\": \"white\", \"minorgridcolor\": \"white\", \"startlinecolor\": \"#2a3f5f\"}, \"type\": \"carpet\"}], \"choropleth\": [{\"colorbar\": {\"outlinewidth\": 0, \"ticks\": \"\"}, \"type\": \"choropleth\"}], \"contour\": [{\"colorbar\": {\"outlinewidth\": 0, \"ticks\": \"\"}, \"colorscale\": [[0.0, \"#0d0887\"], [0.1111111111111111, \"#46039f\"], [0.2222222222222222, \"#7201a8\"], [0.3333333333333333, \"#9c179e\"], [0.4444444444444444, \"#bd3786\"], [0.5555555555555556, \"#d8576b\"], [0.6666666666666666, \"#ed7953\"], [0.7777777777777778, \"#fb9f3a\"], [0.8888888888888888, \"#fdca26\"], [1.0, \"#f0f921\"]], \"type\": \"contour\"}], \"contourcarpet\": [{\"colorbar\": {\"outlinewidth\": 0, \"ticks\": \"\"}, \"type\": \"contourcarpet\"}], \"heatmap\": [{\"colorbar\": {\"outlinewidth\": 0, \"ticks\": \"\"}, \"colorscale\": [[0.0, \"#0d0887\"], [0.1111111111111111, \"#46039f\"], [0.2222222222222222, \"#7201a8\"], [0.3333333333333333, \"#9c179e\"], [0.4444444444444444, \"#bd3786\"], [0.5555555555555556, \"#d8576b\"], [0.6666666666666666, \"#ed7953\"], [0.7777777777777778, \"#fb9f3a\"], [0.8888888888888888, \"#fdca26\"], [1.0, \"#f0f921\"]], \"type\": \"heatmap\"}], \"heatmapgl\": [{\"colorbar\": {\"outlinewidth\": 0, \"ticks\": \"\"}, \"colorscale\": [[0.0, \"#0d0887\"], [0.1111111111111111, \"#46039f\"], [0.2222222222222222, \"#7201a8\"], [0.3333333333333333, \"#9c179e\"], [0.4444444444444444, \"#bd3786\"], [0.5555555555555556, \"#d8576b\"], [0.6666666666666666, \"#ed7953\"], [0.7777777777777778, \"#fb9f3a\"], [0.8888888888888888, \"#fdca26\"], [1.0, \"#f0f921\"]], \"type\": \"heatmapgl\"}], \"histogram\": [{\"marker\": {\"colorbar\": {\"outlinewidth\": 0, \"ticks\": \"\"}}, \"type\": \"histogram\"}], \"histogram2d\": [{\"colorbar\": {\"outlinewidth\": 0, \"ticks\": \"\"}, \"colorscale\": [[0.0, \"#0d0887\"], [0.1111111111111111, \"#46039f\"], [0.2222222222222222, \"#7201a8\"], [0.3333333333333333, \"#9c179e\"], [0.4444444444444444, \"#bd3786\"], [0.5555555555555556, \"#d8576b\"], [0.6666666666666666, \"#ed7953\"], [0.7777777777777778, \"#fb9f3a\"], [0.8888888888888888, \"#fdca26\"], [1.0, \"#f0f921\"]], \"type\": \"histogram2d\"}], \"histogram2dcontour\": [{\"colorbar\": {\"outlinewidth\": 0, \"ticks\": \"\"}, \"colorscale\": [[0.0, \"#0d0887\"], [0.1111111111111111, \"#46039f\"], [0.2222222222222222, \"#7201a8\"], [0.3333333333333333, \"#9c179e\"], [0.4444444444444444, \"#bd3786\"], [0.5555555555555556, \"#d8576b\"], [0.6666666666666666, \"#ed7953\"], [0.7777777777777778, \"#fb9f3a\"], [0.8888888888888888, \"#fdca26\"], [1.0, \"#f0f921\"]], \"type\": \"histogram2dcontour\"}], \"mesh3d\": [{\"colorbar\": {\"outlinewidth\": 0, \"ticks\": \"\"}, \"type\": \"mesh3d\"}], \"parcoords\": [{\"line\": {\"colorbar\": {\"outlinewidth\": 0, \"ticks\": \"\"}}, \"type\": \"parcoords\"}], \"pie\": [{\"automargin\": true, \"type\": \"pie\"}], \"scatter\": [{\"marker\": {\"colorbar\": {\"outlinewidth\": 0, \"ticks\": \"\"}}, \"type\": \"scatter\"}], \"scatter3d\": [{\"line\": {\"colorbar\": {\"outlinewidth\": 0, \"ticks\": \"\"}}, \"marker\": {\"colorbar\": {\"outlinewidth\": 0, \"ticks\": \"\"}}, \"type\": \"scatter3d\"}], \"scattercarpet\": [{\"marker\": {\"colorbar\": {\"outlinewidth\": 0, \"ticks\": \"\"}}, \"type\": \"scattercarpet\"}], \"scattergeo\": [{\"marker\": {\"colorbar\": {\"outlinewidth\": 0, \"ticks\": \"\"}}, \"type\": \"scattergeo\"}], \"scattergl\": [{\"marker\": {\"colorbar\": {\"outlinewidth\": 0, \"ticks\": \"\"}}, \"type\": \"scattergl\"}], \"scattermapbox\": [{\"marker\": {\"colorbar\": {\"outlinewidth\": 0, \"ticks\": \"\"}}, \"type\": \"scattermapbox\"}], \"scatterpolar\": [{\"marker\": {\"colorbar\": {\"outlinewidth\": 0, \"ticks\": \"\"}}, \"type\": \"scatterpolar\"}], \"scatterpolargl\": [{\"marker\": {\"colorbar\": {\"outlinewidth\": 0, \"ticks\": \"\"}}, \"type\": \"scatterpolargl\"}], \"scatterternary\": [{\"marker\": {\"colorbar\": {\"outlinewidth\": 0, \"ticks\": \"\"}}, \"type\": \"scatterternary\"}], \"surface\": [{\"colorbar\": {\"outlinewidth\": 0, \"ticks\": \"\"}, \"colorscale\": [[0.0, \"#0d0887\"], [0.1111111111111111, \"#46039f\"], [0.2222222222222222, \"#7201a8\"], [0.3333333333333333, \"#9c179e\"], [0.4444444444444444, \"#bd3786\"], [0.5555555555555556, \"#d8576b\"], [0.6666666666666666, \"#ed7953\"], [0.7777777777777778, \"#fb9f3a\"], [0.8888888888888888, \"#fdca26\"], [1.0, \"#f0f921\"]], \"type\": \"surface\"}], \"table\": [{\"cells\": {\"fill\": {\"color\": \"#EBF0F8\"}, \"line\": {\"color\": \"white\"}}, \"header\": {\"fill\": {\"color\": \"#C8D4E3\"}, \"line\": {\"color\": \"white\"}}, \"type\": \"table\"}]}, \"layout\": {\"annotationdefaults\": {\"arrowcolor\": \"#2a3f5f\", \"arrowhead\": 0, \"arrowwidth\": 1}, \"coloraxis\": {\"colorbar\": {\"outlinewidth\": 0, \"ticks\": \"\"}}, \"colorscale\": {\"diverging\": [[0, \"#8e0152\"], [0.1, \"#c51b7d\"], [0.2, \"#de77ae\"], [0.3, \"#f1b6da\"], [0.4, \"#fde0ef\"], [0.5, \"#f7f7f7\"], [0.6, \"#e6f5d0\"], [0.7, \"#b8e186\"], [0.8, \"#7fbc41\"], [0.9, \"#4d9221\"], [1, \"#276419\"]], \"sequential\": [[0.0, \"#0d0887\"], [0.1111111111111111, \"#46039f\"], [0.2222222222222222, \"#7201a8\"], [0.3333333333333333, \"#9c179e\"], [0.4444444444444444, \"#bd3786\"], [0.5555555555555556, \"#d8576b\"], [0.6666666666666666, \"#ed7953\"], [0.7777777777777778, \"#fb9f3a\"], [0.8888888888888888, \"#fdca26\"], [1.0, \"#f0f921\"]], \"sequentialminus\": [[0.0, \"#0d0887\"], [0.1111111111111111, \"#46039f\"], [0.2222222222222222, \"#7201a8\"], [0.3333333333333333, \"#9c179e\"], [0.4444444444444444, \"#bd3786\"], [0.5555555555555556, \"#d8576b\"], [0.6666666666666666, \"#ed7953\"], [0.7777777777777778, \"#fb9f3a\"], [0.8888888888888888, \"#fdca26\"], [1.0, \"#f0f921\"]]}, \"colorway\": [\"#636efa\", \"#EF553B\", \"#00cc96\", \"#ab63fa\", \"#FFA15A\", \"#19d3f3\", \"#FF6692\", \"#B6E880\", \"#FF97FF\", \"#FECB52\"], \"font\": {\"color\": \"#2a3f5f\"}, \"geo\": {\"bgcolor\": \"white\", \"lakecolor\": \"white\", \"landcolor\": \"#E5ECF6\", \"showlakes\": true, \"showland\": true, \"subunitcolor\": \"white\"}, \"hoverlabel\": {\"align\": \"left\"}, \"hovermode\": \"closest\", \"mapbox\": {\"style\": \"light\"}, \"paper_bgcolor\": \"white\", \"plot_bgcolor\": \"#E5ECF6\", \"polar\": {\"angularaxis\": {\"gridcolor\": \"white\", \"linecolor\": \"white\", \"ticks\": \"\"}, \"bgcolor\": \"#E5ECF6\", \"radialaxis\": {\"gridcolor\": \"white\", \"linecolor\": \"white\", \"ticks\": \"\"}}, \"scene\": {\"xaxis\": {\"backgroundcolor\": \"#E5ECF6\", \"gridcolor\": \"white\", \"gridwidth\": 2, \"linecolor\": \"white\", \"showbackground\": true, \"ticks\": \"\", \"zerolinecolor\": \"white\"}, \"yaxis\": {\"backgroundcolor\": \"#E5ECF6\", \"gridcolor\": \"white\", \"gridwidth\": 2, \"linecolor\": \"white\", \"showbackground\": true, \"ticks\": \"\", \"zerolinecolor\": \"white\"}, \"zaxis\": {\"backgroundcolor\": \"#E5ECF6\", \"gridcolor\": \"white\", \"gridwidth\": 2, \"linecolor\": \"white\", \"showbackground\": true, \"ticks\": \"\", \"zerolinecolor\": \"white\"}}, \"shapedefaults\": {\"line\": {\"color\": \"#2a3f5f\"}}, \"ternary\": {\"aaxis\": {\"gridcolor\": \"white\", \"linecolor\": \"white\", \"ticks\": \"\"}, \"baxis\": {\"gridcolor\": \"white\", \"linecolor\": \"white\", \"ticks\": \"\"}, \"bgcolor\": \"#E5ECF6\", \"caxis\": {\"gridcolor\": \"white\", \"linecolor\": \"white\", \"ticks\": \"\"}}, \"title\": {\"x\": 0.05}, \"xaxis\": {\"automargin\": true, \"gridcolor\": \"white\", \"linecolor\": \"white\", \"ticks\": \"\", \"title\": {\"standoff\": 15}, \"zerolinecolor\": \"white\", \"zerolinewidth\": 2}, \"yaxis\": {\"automargin\": true, \"gridcolor\": \"white\", \"linecolor\": \"white\", \"ticks\": \"\", \"title\": {\"standoff\": 15}, \"zerolinecolor\": \"white\", \"zerolinewidth\": 2}}}, \"title\": {\"font\": {\"color\": \"#4D5663\"}}, \"xaxis\": {\"gridcolor\": \"#E1E5ED\", \"showgrid\": true, \"tickfont\": {\"color\": \"#4D5663\"}, \"title\": {\"font\": {\"color\": \"#4D5663\"}, \"text\": \"\"}, \"zerolinecolor\": \"#E1E5ED\"}, \"yaxis\": {\"gridcolor\": \"#E1E5ED\", \"showgrid\": true, \"tickfont\": {\"color\": \"#4D5663\"}, \"title\": {\"font\": {\"color\": \"#4D5663\"}, \"text\": \"\"}, \"zerolinecolor\": \"#E1E5ED\"}},                        {\"showLink\": true, \"linkText\": \"Export to plot.ly\", \"plotlyServerURL\": \"https://plot.ly\", \"responsive\": true}                    ).then(function(){\n",
       "                            \n",
       "var gd = document.getElementById('13971d32-e14a-4a4d-a830-64414bc7c71f');\n",
       "var x = new MutationObserver(function (mutations, observer) {{\n",
       "        var display = window.getComputedStyle(gd).display;\n",
       "        if (!display || display === 'none') {{\n",
       "            console.log([gd, 'removed!']);\n",
       "            Plotly.purge(gd);\n",
       "            observer.disconnect();\n",
       "        }}\n",
       "}});\n",
       "\n",
       "// Listen for the removal of the full notebook cells\n",
       "var notebookContainer = gd.closest('#notebook-container');\n",
       "if (notebookContainer) {{\n",
       "    x.observe(notebookContainer, {childList: true});\n",
       "}}\n",
       "\n",
       "// Listen for the clearing of the current output cell\n",
       "var outputEl = gd.closest('.output');\n",
       "if (outputEl) {{\n",
       "    x.observe(outputEl, {childList: true});\n",
       "}}\n",
       "\n",
       "                        })                };                });            </script>        </div>"
      ]
     },
     "metadata": {},
     "output_type": "display_data"
    }
   ],
   "source": [
    "fake_df['A'].iplot(kind='hist', bins=35)"
   ]
  },
  {
   "cell_type": "code",
   "execution_count": 30,
   "metadata": {},
   "outputs": [
    {
     "data": {
      "application/vnd.plotly.v1+json": {
       "config": {
        "linkText": "Export to plot.ly",
        "plotlyServerURL": "https://plot.ly",
        "showLink": true
       },
       "data": [
        {
         "marker": {
          "color": [
           "rgb(255, 153, 51)",
           "rgb(55, 128, 191)",
           "rgb(50, 171, 96)",
           "rgb(128, 0, 128)",
           "rgb(219, 64, 82)",
           "rgb(0, 128, 128)",
           "rgb(255, 255, 51)",
           "rgb(128, 128, 0)",
           "rgb(251, 128, 114)",
           "rgb(128, 177, 211)"
          ],
          "line": {
           "width": 1.3
          },
          "size": [
           47,
           46,
           52,
           68,
           25,
           12,
           39,
           56,
           62,
           63,
           41,
           87,
           67,
           45,
           60,
           84,
           34,
           40,
           24,
           26,
           39,
           34,
           48,
           95,
           62,
           50,
           58,
           95,
           45,
           50,
           112,
           48,
           62,
           92,
           43,
           62,
           90,
           60,
           43,
           61,
           80,
           21,
           47,
           20,
           61,
           78,
           98,
           66,
           45,
           51,
           78,
           102,
           66,
           36,
           55,
           73,
           46,
           84,
           71,
           96,
           42,
           62,
           43,
           63,
           62,
           62,
           63,
           69,
           80,
           31,
           86,
           65,
           92,
           41,
           67,
           54,
           51,
           49,
           52,
           28,
           111,
           36,
           61,
           54,
           76,
           28,
           52,
           90,
           41,
           63,
           41,
           59,
           62,
           73,
           27,
           98,
           45,
           75,
           56,
           64
          ],
          "symbol": "circle"
         },
         "mode": "markers",
         "text": "",
         "type": "scatter",
         "x": [
          0.5176590531969488,
          0.2611900186917925,
          -2.0770443227929434,
          0.4376128613752404,
          -0.7972765755299147,
          -0.9781925854562078,
          0.021787211156948774,
          -1.8227103978927501,
          1.7661994574612905,
          0.6140684305177554,
          -0.10348408002873685,
          -0.005438269546051754,
          0.14564690286116566,
          -1.6019204582868,
          0.36412650919654904,
          1.8933456811942735,
          0.5580880070310005,
          -1.6721324428771815,
          -0.7640725461546174,
          -0.01743915243591418,
          0.6748540001753083,
          0.7920643030147945,
          -0.8170164432005932,
          -0.40348005188696673,
          0.6539188908047413,
          -0.12400523728931026,
          1.4032160617444647,
          -0.5827443655439306,
          1.1703201043257259,
          -1.3220783976434485,
          0.27017141466012873,
          1.130033689636446,
          -0.19781497959524116,
          0.9146218319990627,
          0.6788744017706305,
          0.7263896841237812,
          -0.4270625982491659,
          1.7771258173188988,
          1.7255189854877893,
          0.10071803173376356,
          0.5584259746959217,
          -0.35980148623036257,
          0.27320206594699464,
          -0.9058148329762855,
          0.6655637328672925,
          0.737591189163516,
          0.42918978634587096,
          -0.667396753774752,
          0.33121038394063146,
          -0.38186248928384686,
          0.4080848294364657,
          1.7446010964370207,
          2.7769588024238145,
          -0.0500309548669025,
          0.1734318857601251,
          -0.560498934672177,
          0.0615027213603778,
          -0.5563384887782385,
          0.6872170531367844,
          1.3085125570269542,
          0.8658386492120068,
          -0.41384192152811716,
          -0.5748894712834556,
          -0.046030262702725415,
          -0.7834661261224901,
          0.33669600457694904,
          0.5649402937564677,
          0.7412011360451405,
          0.03744861967029218,
          -0.31441728987996154,
          0.12757226281435682,
          1.4278042432171743,
          -0.10084618653539616,
          0.44337571123088204,
          0.639743871777665,
          0.05751155640936568,
          0.5562572498216152,
          -0.1992962817147566,
          1.777203558993544,
          0.3884239255669419,
          0.5974152051587482,
          -2.336551059610256,
          0.37178139089325507,
          -0.6083978716388516,
          1.4014589342993968,
          -0.707138581612621,
          -0.15707032363071047,
          -0.599796745012966,
          -0.5280305545087325,
          0.13617931710002912,
          0.20729333459661806,
          0.9195443365275761,
          -1.3027488740641358,
          -0.22063075065637314,
          -0.9410102187865621,
          -0.889314187063548,
          1.0927712482439207,
          0.42244762596411395,
          0.23878587815304225,
          -1.5437470888769478
         ],
         "y": [
          -2.062328018719915,
          0.8786899411904887,
          1.1874249981439793,
          0.620421760886563,
          1.8246664737333786,
          -0.5685579142811606,
          0.3088839923239217,
          -1.0084687897342672,
          2.0771684696654575,
          1.7617473144705262,
          0.5218737819883743,
          1.216892180797244,
          -0.6847447329719094,
          0.826588825933059,
          2.6200333634388415,
          2.027364798276653,
          0.46666153606323296,
          0.6321266035330925,
          0.10354350260081757,
          -1.4589818998144466,
          1.0316131049729904,
          -0.4343505887332764,
          0.15860458063757982,
          0.41074091507419974,
          1.438825016119307,
          0.25298155971555386,
          0.46729325225147283,
          0.2936712849184672,
          -1.2348037110121215,
          -0.10345781303290143,
          -0.012482275553756294,
          -0.4475322156922826,
          -1.1414119122054063,
          1.6628239176950863,
          1.7068757940201402,
          -0.6201760521654056,
          1.4276529258902466,
          1.443110863145192,
          -0.0025796355047607586,
          -0.2837037736078109,
          -0.1487082196497076,
          2.4894492822509338,
          1.852621410994538,
          0.8612759018913871,
          0.8478792360988995,
          0.5229295789614508,
          0.1098334359498861,
          0.2612972220104098,
          -1.792210724907832,
          -0.3742743391106684,
          -1.4474845739003757,
          0.23369699704612115,
          -0.3998708578038428,
          -0.3238301112207704,
          -0.3638097440063624,
          0.7677830069036755,
          -0.9560266895216887,
          -1.2620487398743916,
          -0.03370315564410422,
          0.7163516147304333,
          -0.5732647969071828,
          0.07060724906093349,
          0.4459274755835238,
          0.650618412269321,
          -1.0244672632772345,
          -0.6681332442599868,
          -0.9722001914014322,
          0.45238929472010353,
          -2.8035768324235644,
          0.9014287430239033,
          1.319467095259805,
          0.814749966559747,
          -1.6194588318172127,
          1.810232824196542,
          -0.34028761466536867,
          -1.1591663343929903,
          -0.06465852470255785,
          1.7281846836066086,
          -0.8877610317705266,
          0.28713523914667666,
          0.2274495262561486,
          1.5675547163890926,
          0.01636233235734836,
          -0.46263266260882785,
          1.4710093187284892,
          2.008148901429391,
          -0.07354278241686084,
          0.741500628831564,
          -0.29140165890473285,
          -0.4392997604281096,
          -0.4367500190228618,
          2.0212482820418307,
          0.3225503619977586,
          1.6557249579245188,
          -1.2396003969104676,
          0.9414280160172462,
          1.5208718204530265,
          0.43530949652827217,
          0.9965272851620621,
          -0.3126121992418231
         ]
        }
       ],
       "layout": {
        "legend": {
         "bgcolor": "#F5F6F9",
         "font": {
          "color": "#4D5663"
         }
        },
        "paper_bgcolor": "#F5F6F9",
        "plot_bgcolor": "#F5F6F9",
        "template": {
         "data": {
          "bar": [
           {
            "error_x": {
             "color": "#2a3f5f"
            },
            "error_y": {
             "color": "#2a3f5f"
            },
            "marker": {
             "line": {
              "color": "#E5ECF6",
              "width": 0.5
             }
            },
            "type": "bar"
           }
          ],
          "barpolar": [
           {
            "marker": {
             "line": {
              "color": "#E5ECF6",
              "width": 0.5
             }
            },
            "type": "barpolar"
           }
          ],
          "carpet": [
           {
            "aaxis": {
             "endlinecolor": "#2a3f5f",
             "gridcolor": "white",
             "linecolor": "white",
             "minorgridcolor": "white",
             "startlinecolor": "#2a3f5f"
            },
            "baxis": {
             "endlinecolor": "#2a3f5f",
             "gridcolor": "white",
             "linecolor": "white",
             "minorgridcolor": "white",
             "startlinecolor": "#2a3f5f"
            },
            "type": "carpet"
           }
          ],
          "choropleth": [
           {
            "colorbar": {
             "outlinewidth": 0,
             "ticks": ""
            },
            "type": "choropleth"
           }
          ],
          "contour": [
           {
            "colorbar": {
             "outlinewidth": 0,
             "ticks": ""
            },
            "colorscale": [
             [
              0,
              "#0d0887"
             ],
             [
              0.1111111111111111,
              "#46039f"
             ],
             [
              0.2222222222222222,
              "#7201a8"
             ],
             [
              0.3333333333333333,
              "#9c179e"
             ],
             [
              0.4444444444444444,
              "#bd3786"
             ],
             [
              0.5555555555555556,
              "#d8576b"
             ],
             [
              0.6666666666666666,
              "#ed7953"
             ],
             [
              0.7777777777777778,
              "#fb9f3a"
             ],
             [
              0.8888888888888888,
              "#fdca26"
             ],
             [
              1,
              "#f0f921"
             ]
            ],
            "type": "contour"
           }
          ],
          "contourcarpet": [
           {
            "colorbar": {
             "outlinewidth": 0,
             "ticks": ""
            },
            "type": "contourcarpet"
           }
          ],
          "heatmap": [
           {
            "colorbar": {
             "outlinewidth": 0,
             "ticks": ""
            },
            "colorscale": [
             [
              0,
              "#0d0887"
             ],
             [
              0.1111111111111111,
              "#46039f"
             ],
             [
              0.2222222222222222,
              "#7201a8"
             ],
             [
              0.3333333333333333,
              "#9c179e"
             ],
             [
              0.4444444444444444,
              "#bd3786"
             ],
             [
              0.5555555555555556,
              "#d8576b"
             ],
             [
              0.6666666666666666,
              "#ed7953"
             ],
             [
              0.7777777777777778,
              "#fb9f3a"
             ],
             [
              0.8888888888888888,
              "#fdca26"
             ],
             [
              1,
              "#f0f921"
             ]
            ],
            "type": "heatmap"
           }
          ],
          "heatmapgl": [
           {
            "colorbar": {
             "outlinewidth": 0,
             "ticks": ""
            },
            "colorscale": [
             [
              0,
              "#0d0887"
             ],
             [
              0.1111111111111111,
              "#46039f"
             ],
             [
              0.2222222222222222,
              "#7201a8"
             ],
             [
              0.3333333333333333,
              "#9c179e"
             ],
             [
              0.4444444444444444,
              "#bd3786"
             ],
             [
              0.5555555555555556,
              "#d8576b"
             ],
             [
              0.6666666666666666,
              "#ed7953"
             ],
             [
              0.7777777777777778,
              "#fb9f3a"
             ],
             [
              0.8888888888888888,
              "#fdca26"
             ],
             [
              1,
              "#f0f921"
             ]
            ],
            "type": "heatmapgl"
           }
          ],
          "histogram": [
           {
            "marker": {
             "colorbar": {
              "outlinewidth": 0,
              "ticks": ""
             }
            },
            "type": "histogram"
           }
          ],
          "histogram2d": [
           {
            "colorbar": {
             "outlinewidth": 0,
             "ticks": ""
            },
            "colorscale": [
             [
              0,
              "#0d0887"
             ],
             [
              0.1111111111111111,
              "#46039f"
             ],
             [
              0.2222222222222222,
              "#7201a8"
             ],
             [
              0.3333333333333333,
              "#9c179e"
             ],
             [
              0.4444444444444444,
              "#bd3786"
             ],
             [
              0.5555555555555556,
              "#d8576b"
             ],
             [
              0.6666666666666666,
              "#ed7953"
             ],
             [
              0.7777777777777778,
              "#fb9f3a"
             ],
             [
              0.8888888888888888,
              "#fdca26"
             ],
             [
              1,
              "#f0f921"
             ]
            ],
            "type": "histogram2d"
           }
          ],
          "histogram2dcontour": [
           {
            "colorbar": {
             "outlinewidth": 0,
             "ticks": ""
            },
            "colorscale": [
             [
              0,
              "#0d0887"
             ],
             [
              0.1111111111111111,
              "#46039f"
             ],
             [
              0.2222222222222222,
              "#7201a8"
             ],
             [
              0.3333333333333333,
              "#9c179e"
             ],
             [
              0.4444444444444444,
              "#bd3786"
             ],
             [
              0.5555555555555556,
              "#d8576b"
             ],
             [
              0.6666666666666666,
              "#ed7953"
             ],
             [
              0.7777777777777778,
              "#fb9f3a"
             ],
             [
              0.8888888888888888,
              "#fdca26"
             ],
             [
              1,
              "#f0f921"
             ]
            ],
            "type": "histogram2dcontour"
           }
          ],
          "mesh3d": [
           {
            "colorbar": {
             "outlinewidth": 0,
             "ticks": ""
            },
            "type": "mesh3d"
           }
          ],
          "parcoords": [
           {
            "line": {
             "colorbar": {
              "outlinewidth": 0,
              "ticks": ""
             }
            },
            "type": "parcoords"
           }
          ],
          "pie": [
           {
            "automargin": true,
            "type": "pie"
           }
          ],
          "scatter": [
           {
            "marker": {
             "colorbar": {
              "outlinewidth": 0,
              "ticks": ""
             }
            },
            "type": "scatter"
           }
          ],
          "scatter3d": [
           {
            "line": {
             "colorbar": {
              "outlinewidth": 0,
              "ticks": ""
             }
            },
            "marker": {
             "colorbar": {
              "outlinewidth": 0,
              "ticks": ""
             }
            },
            "type": "scatter3d"
           }
          ],
          "scattercarpet": [
           {
            "marker": {
             "colorbar": {
              "outlinewidth": 0,
              "ticks": ""
             }
            },
            "type": "scattercarpet"
           }
          ],
          "scattergeo": [
           {
            "marker": {
             "colorbar": {
              "outlinewidth": 0,
              "ticks": ""
             }
            },
            "type": "scattergeo"
           }
          ],
          "scattergl": [
           {
            "marker": {
             "colorbar": {
              "outlinewidth": 0,
              "ticks": ""
             }
            },
            "type": "scattergl"
           }
          ],
          "scattermapbox": [
           {
            "marker": {
             "colorbar": {
              "outlinewidth": 0,
              "ticks": ""
             }
            },
            "type": "scattermapbox"
           }
          ],
          "scatterpolar": [
           {
            "marker": {
             "colorbar": {
              "outlinewidth": 0,
              "ticks": ""
             }
            },
            "type": "scatterpolar"
           }
          ],
          "scatterpolargl": [
           {
            "marker": {
             "colorbar": {
              "outlinewidth": 0,
              "ticks": ""
             }
            },
            "type": "scatterpolargl"
           }
          ],
          "scatterternary": [
           {
            "marker": {
             "colorbar": {
              "outlinewidth": 0,
              "ticks": ""
             }
            },
            "type": "scatterternary"
           }
          ],
          "surface": [
           {
            "colorbar": {
             "outlinewidth": 0,
             "ticks": ""
            },
            "colorscale": [
             [
              0,
              "#0d0887"
             ],
             [
              0.1111111111111111,
              "#46039f"
             ],
             [
              0.2222222222222222,
              "#7201a8"
             ],
             [
              0.3333333333333333,
              "#9c179e"
             ],
             [
              0.4444444444444444,
              "#bd3786"
             ],
             [
              0.5555555555555556,
              "#d8576b"
             ],
             [
              0.6666666666666666,
              "#ed7953"
             ],
             [
              0.7777777777777778,
              "#fb9f3a"
             ],
             [
              0.8888888888888888,
              "#fdca26"
             ],
             [
              1,
              "#f0f921"
             ]
            ],
            "type": "surface"
           }
          ],
          "table": [
           {
            "cells": {
             "fill": {
              "color": "#EBF0F8"
             },
             "line": {
              "color": "white"
             }
            },
            "header": {
             "fill": {
              "color": "#C8D4E3"
             },
             "line": {
              "color": "white"
             }
            },
            "type": "table"
           }
          ]
         },
         "layout": {
          "annotationdefaults": {
           "arrowcolor": "#2a3f5f",
           "arrowhead": 0,
           "arrowwidth": 1
          },
          "coloraxis": {
           "colorbar": {
            "outlinewidth": 0,
            "ticks": ""
           }
          },
          "colorscale": {
           "diverging": [
            [
             0,
             "#8e0152"
            ],
            [
             0.1,
             "#c51b7d"
            ],
            [
             0.2,
             "#de77ae"
            ],
            [
             0.3,
             "#f1b6da"
            ],
            [
             0.4,
             "#fde0ef"
            ],
            [
             0.5,
             "#f7f7f7"
            ],
            [
             0.6,
             "#e6f5d0"
            ],
            [
             0.7,
             "#b8e186"
            ],
            [
             0.8,
             "#7fbc41"
            ],
            [
             0.9,
             "#4d9221"
            ],
            [
             1,
             "#276419"
            ]
           ],
           "sequential": [
            [
             0,
             "#0d0887"
            ],
            [
             0.1111111111111111,
             "#46039f"
            ],
            [
             0.2222222222222222,
             "#7201a8"
            ],
            [
             0.3333333333333333,
             "#9c179e"
            ],
            [
             0.4444444444444444,
             "#bd3786"
            ],
            [
             0.5555555555555556,
             "#d8576b"
            ],
            [
             0.6666666666666666,
             "#ed7953"
            ],
            [
             0.7777777777777778,
             "#fb9f3a"
            ],
            [
             0.8888888888888888,
             "#fdca26"
            ],
            [
             1,
             "#f0f921"
            ]
           ],
           "sequentialminus": [
            [
             0,
             "#0d0887"
            ],
            [
             0.1111111111111111,
             "#46039f"
            ],
            [
             0.2222222222222222,
             "#7201a8"
            ],
            [
             0.3333333333333333,
             "#9c179e"
            ],
            [
             0.4444444444444444,
             "#bd3786"
            ],
            [
             0.5555555555555556,
             "#d8576b"
            ],
            [
             0.6666666666666666,
             "#ed7953"
            ],
            [
             0.7777777777777778,
             "#fb9f3a"
            ],
            [
             0.8888888888888888,
             "#fdca26"
            ],
            [
             1,
             "#f0f921"
            ]
           ]
          },
          "colorway": [
           "#636efa",
           "#EF553B",
           "#00cc96",
           "#ab63fa",
           "#FFA15A",
           "#19d3f3",
           "#FF6692",
           "#B6E880",
           "#FF97FF",
           "#FECB52"
          ],
          "font": {
           "color": "#2a3f5f"
          },
          "geo": {
           "bgcolor": "white",
           "lakecolor": "white",
           "landcolor": "#E5ECF6",
           "showlakes": true,
           "showland": true,
           "subunitcolor": "white"
          },
          "hoverlabel": {
           "align": "left"
          },
          "hovermode": "closest",
          "mapbox": {
           "style": "light"
          },
          "paper_bgcolor": "white",
          "plot_bgcolor": "#E5ECF6",
          "polar": {
           "angularaxis": {
            "gridcolor": "white",
            "linecolor": "white",
            "ticks": ""
           },
           "bgcolor": "#E5ECF6",
           "radialaxis": {
            "gridcolor": "white",
            "linecolor": "white",
            "ticks": ""
           }
          },
          "scene": {
           "xaxis": {
            "backgroundcolor": "#E5ECF6",
            "gridcolor": "white",
            "gridwidth": 2,
            "linecolor": "white",
            "showbackground": true,
            "ticks": "",
            "zerolinecolor": "white"
           },
           "yaxis": {
            "backgroundcolor": "#E5ECF6",
            "gridcolor": "white",
            "gridwidth": 2,
            "linecolor": "white",
            "showbackground": true,
            "ticks": "",
            "zerolinecolor": "white"
           },
           "zaxis": {
            "backgroundcolor": "#E5ECF6",
            "gridcolor": "white",
            "gridwidth": 2,
            "linecolor": "white",
            "showbackground": true,
            "ticks": "",
            "zerolinecolor": "white"
           }
          },
          "shapedefaults": {
           "line": {
            "color": "#2a3f5f"
           }
          },
          "ternary": {
           "aaxis": {
            "gridcolor": "white",
            "linecolor": "white",
            "ticks": ""
           },
           "baxis": {
            "gridcolor": "white",
            "linecolor": "white",
            "ticks": ""
           },
           "bgcolor": "#E5ECF6",
           "caxis": {
            "gridcolor": "white",
            "linecolor": "white",
            "ticks": ""
           }
          },
          "title": {
           "x": 0.05
          },
          "xaxis": {
           "automargin": true,
           "gridcolor": "white",
           "linecolor": "white",
           "ticks": "",
           "title": {
            "standoff": 15
           },
           "zerolinecolor": "white",
           "zerolinewidth": 2
          },
          "yaxis": {
           "automargin": true,
           "gridcolor": "white",
           "linecolor": "white",
           "ticks": "",
           "title": {
            "standoff": 15
           },
           "zerolinecolor": "white",
           "zerolinewidth": 2
          }
         }
        },
        "title": {
         "font": {
          "color": "#4D5663"
         }
        },
        "xaxis": {
         "gridcolor": "#E1E5ED",
         "showgrid": true,
         "tickfont": {
          "color": "#4D5663"
         },
         "title": {
          "font": {
           "color": "#4D5663"
          },
          "text": ""
         },
         "zerolinecolor": "#E1E5ED"
        },
        "yaxis": {
         "gridcolor": "#E1E5ED",
         "showgrid": true,
         "tickfont": {
          "color": "#4D5663"
         },
         "title": {
          "font": {
           "color": "#4D5663"
          },
          "text": ""
         },
         "zerolinecolor": "#E1E5ED"
        }
       }
      },
      "text/html": [
       "<div>                            <div id=\"2077e7a5-ef88-426a-9acb-13c1e18df582\" class=\"plotly-graph-div\" style=\"height:525px; width:100%;\"></div>            <script type=\"text/javascript\">                require([\"plotly\"], function(Plotly) {                    window.PLOTLYENV=window.PLOTLYENV || {};\n",
       "                    window.PLOTLYENV.BASE_URL='https://plot.ly';                                    if (document.getElementById(\"2077e7a5-ef88-426a-9acb-13c1e18df582\")) {                    Plotly.newPlot(                        \"2077e7a5-ef88-426a-9acb-13c1e18df582\",                        [{\"marker\": {\"color\": [\"rgb(255, 153, 51)\", \"rgb(55, 128, 191)\", \"rgb(50, 171, 96)\", \"rgb(128, 0, 128)\", \"rgb(219, 64, 82)\", \"rgb(0, 128, 128)\", \"rgb(255, 255, 51)\", \"rgb(128, 128, 0)\", \"rgb(251, 128, 114)\", \"rgb(128, 177, 211)\"], \"line\": {\"width\": 1.3}, \"size\": [47, 46, 52, 68, 25, 12, 39, 56, 62, 63, 41, 87, 67, 45, 60, 84, 34, 40, 24, 26, 39, 34, 48, 95, 62, 50, 58, 95, 45, 50, 112, 48, 62, 92, 43, 62, 90, 60, 43, 61, 80, 21, 47, 20, 61, 78, 98, 66, 45, 51, 78, 102, 66, 36, 55, 73, 46, 84, 71, 96, 42, 62, 43, 63, 62, 62, 63, 69, 80, 31, 86, 65, 92, 41, 67, 54, 51, 49, 52, 28, 111, 36, 61, 54, 76, 28, 52, 90, 41, 63, 41, 59, 62, 73, 27, 98, 45, 75, 56, 64], \"symbol\": \"circle\"}, \"mode\": \"markers\", \"text\": \"\", \"type\": \"scatter\", \"x\": [0.5176590531969488, 0.2611900186917925, -2.0770443227929434, 0.4376128613752404, -0.7972765755299147, -0.9781925854562078, 0.021787211156948774, -1.8227103978927501, 1.7661994574612905, 0.6140684305177554, -0.10348408002873685, -0.005438269546051754, 0.14564690286116566, -1.6019204582868, 0.36412650919654904, 1.8933456811942735, 0.5580880070310005, -1.6721324428771815, -0.7640725461546174, -0.01743915243591418, 0.6748540001753083, 0.7920643030147945, -0.8170164432005932, -0.40348005188696673, 0.6539188908047413, -0.12400523728931026, 1.4032160617444647, -0.5827443655439306, 1.1703201043257259, -1.3220783976434485, 0.27017141466012873, 1.130033689636446, -0.19781497959524116, 0.9146218319990627, 0.6788744017706305, 0.7263896841237812, -0.4270625982491659, 1.7771258173188988, 1.7255189854877893, 0.10071803173376356, 0.5584259746959217, -0.35980148623036257, 0.27320206594699464, -0.9058148329762855, 0.6655637328672925, 0.737591189163516, 0.42918978634587096, -0.667396753774752, 0.33121038394063146, -0.38186248928384686, 0.4080848294364657, 1.7446010964370207, 2.7769588024238145, -0.0500309548669025, 0.1734318857601251, -0.560498934672177, 0.0615027213603778, -0.5563384887782385, 0.6872170531367844, 1.3085125570269542, 0.8658386492120068, -0.41384192152811716, -0.5748894712834556, -0.046030262702725415, -0.7834661261224901, 0.33669600457694904, 0.5649402937564677, 0.7412011360451405, 0.03744861967029218, -0.31441728987996154, 0.12757226281435682, 1.4278042432171743, -0.10084618653539616, 0.44337571123088204, 0.639743871777665, 0.05751155640936568, 0.5562572498216152, -0.1992962817147566, 1.777203558993544, 0.3884239255669419, 0.5974152051587482, -2.336551059610256, 0.37178139089325507, -0.6083978716388516, 1.4014589342993968, -0.707138581612621, -0.15707032363071047, -0.599796745012966, -0.5280305545087325, 0.13617931710002912, 0.20729333459661806, 0.9195443365275761, -1.3027488740641358, -0.22063075065637314, -0.9410102187865621, -0.889314187063548, 1.0927712482439207, 0.42244762596411395, 0.23878587815304225, -1.5437470888769478], \"y\": [-2.062328018719915, 0.8786899411904887, 1.1874249981439793, 0.620421760886563, 1.8246664737333786, -0.5685579142811606, 0.3088839923239217, -1.0084687897342672, 2.0771684696654575, 1.7617473144705262, 0.5218737819883743, 1.216892180797244, -0.6847447329719094, 0.826588825933059, 2.6200333634388415, 2.027364798276653, 0.46666153606323296, 0.6321266035330925, 0.10354350260081757, -1.4589818998144466, 1.0316131049729904, -0.4343505887332764, 0.15860458063757982, 0.41074091507419974, 1.438825016119307, 0.25298155971555386, 0.46729325225147283, 0.2936712849184672, -1.2348037110121215, -0.10345781303290143, -0.012482275553756294, -0.4475322156922826, -1.1414119122054063, 1.6628239176950863, 1.7068757940201402, -0.6201760521654056, 1.4276529258902466, 1.443110863145192, -0.0025796355047607586, -0.2837037736078109, -0.1487082196497076, 2.4894492822509338, 1.852621410994538, 0.8612759018913871, 0.8478792360988995, 0.5229295789614508, 0.1098334359498861, 0.2612972220104098, -1.792210724907832, -0.3742743391106684, -1.4474845739003757, 0.23369699704612115, -0.3998708578038428, -0.3238301112207704, -0.3638097440063624, 0.7677830069036755, -0.9560266895216887, -1.2620487398743916, -0.03370315564410422, 0.7163516147304333, -0.5732647969071828, 0.07060724906093349, 0.4459274755835238, 0.650618412269321, -1.0244672632772345, -0.6681332442599868, -0.9722001914014322, 0.45238929472010353, -2.8035768324235644, 0.9014287430239033, 1.319467095259805, 0.814749966559747, -1.6194588318172127, 1.810232824196542, -0.34028761466536867, -1.1591663343929903, -0.06465852470255785, 1.7281846836066086, -0.8877610317705266, 0.28713523914667666, 0.2274495262561486, 1.5675547163890926, 0.01636233235734836, -0.46263266260882785, 1.4710093187284892, 2.008148901429391, -0.07354278241686084, 0.741500628831564, -0.29140165890473285, -0.4392997604281096, -0.4367500190228618, 2.0212482820418307, 0.3225503619977586, 1.6557249579245188, -1.2396003969104676, 0.9414280160172462, 1.5208718204530265, 0.43530949652827217, 0.9965272851620621, -0.3126121992418231]}],                        {\"legend\": {\"bgcolor\": \"#F5F6F9\", \"font\": {\"color\": \"#4D5663\"}}, \"paper_bgcolor\": \"#F5F6F9\", \"plot_bgcolor\": \"#F5F6F9\", \"template\": {\"data\": {\"bar\": [{\"error_x\": {\"color\": \"#2a3f5f\"}, \"error_y\": {\"color\": \"#2a3f5f\"}, \"marker\": {\"line\": {\"color\": \"#E5ECF6\", \"width\": 0.5}}, \"type\": \"bar\"}], \"barpolar\": [{\"marker\": {\"line\": {\"color\": \"#E5ECF6\", \"width\": 0.5}}, \"type\": \"barpolar\"}], \"carpet\": [{\"aaxis\": {\"endlinecolor\": \"#2a3f5f\", \"gridcolor\": \"white\", \"linecolor\": \"white\", \"minorgridcolor\": \"white\", \"startlinecolor\": \"#2a3f5f\"}, \"baxis\": {\"endlinecolor\": \"#2a3f5f\", \"gridcolor\": \"white\", \"linecolor\": \"white\", \"minorgridcolor\": \"white\", \"startlinecolor\": \"#2a3f5f\"}, \"type\": \"carpet\"}], \"choropleth\": [{\"colorbar\": {\"outlinewidth\": 0, \"ticks\": \"\"}, \"type\": \"choropleth\"}], \"contour\": [{\"colorbar\": {\"outlinewidth\": 0, \"ticks\": \"\"}, \"colorscale\": [[0.0, \"#0d0887\"], [0.1111111111111111, \"#46039f\"], [0.2222222222222222, \"#7201a8\"], [0.3333333333333333, \"#9c179e\"], [0.4444444444444444, \"#bd3786\"], [0.5555555555555556, \"#d8576b\"], [0.6666666666666666, \"#ed7953\"], [0.7777777777777778, \"#fb9f3a\"], [0.8888888888888888, \"#fdca26\"], [1.0, \"#f0f921\"]], \"type\": \"contour\"}], \"contourcarpet\": [{\"colorbar\": {\"outlinewidth\": 0, \"ticks\": \"\"}, \"type\": \"contourcarpet\"}], \"heatmap\": [{\"colorbar\": {\"outlinewidth\": 0, \"ticks\": \"\"}, \"colorscale\": [[0.0, \"#0d0887\"], [0.1111111111111111, \"#46039f\"], [0.2222222222222222, \"#7201a8\"], [0.3333333333333333, \"#9c179e\"], [0.4444444444444444, \"#bd3786\"], [0.5555555555555556, \"#d8576b\"], [0.6666666666666666, \"#ed7953\"], [0.7777777777777778, \"#fb9f3a\"], [0.8888888888888888, \"#fdca26\"], [1.0, \"#f0f921\"]], \"type\": \"heatmap\"}], \"heatmapgl\": [{\"colorbar\": {\"outlinewidth\": 0, \"ticks\": \"\"}, \"colorscale\": [[0.0, \"#0d0887\"], [0.1111111111111111, \"#46039f\"], [0.2222222222222222, \"#7201a8\"], [0.3333333333333333, \"#9c179e\"], [0.4444444444444444, \"#bd3786\"], [0.5555555555555556, \"#d8576b\"], [0.6666666666666666, \"#ed7953\"], [0.7777777777777778, \"#fb9f3a\"], [0.8888888888888888, \"#fdca26\"], [1.0, \"#f0f921\"]], \"type\": \"heatmapgl\"}], \"histogram\": [{\"marker\": {\"colorbar\": {\"outlinewidth\": 0, \"ticks\": \"\"}}, \"type\": \"histogram\"}], \"histogram2d\": [{\"colorbar\": {\"outlinewidth\": 0, \"ticks\": \"\"}, \"colorscale\": [[0.0, \"#0d0887\"], [0.1111111111111111, \"#46039f\"], [0.2222222222222222, \"#7201a8\"], [0.3333333333333333, \"#9c179e\"], [0.4444444444444444, \"#bd3786\"], [0.5555555555555556, \"#d8576b\"], [0.6666666666666666, \"#ed7953\"], [0.7777777777777778, \"#fb9f3a\"], [0.8888888888888888, \"#fdca26\"], [1.0, \"#f0f921\"]], \"type\": \"histogram2d\"}], \"histogram2dcontour\": [{\"colorbar\": {\"outlinewidth\": 0, \"ticks\": \"\"}, \"colorscale\": [[0.0, \"#0d0887\"], [0.1111111111111111, \"#46039f\"], [0.2222222222222222, \"#7201a8\"], [0.3333333333333333, \"#9c179e\"], [0.4444444444444444, \"#bd3786\"], [0.5555555555555556, \"#d8576b\"], [0.6666666666666666, \"#ed7953\"], [0.7777777777777778, \"#fb9f3a\"], [0.8888888888888888, \"#fdca26\"], [1.0, \"#f0f921\"]], \"type\": \"histogram2dcontour\"}], \"mesh3d\": [{\"colorbar\": {\"outlinewidth\": 0, \"ticks\": \"\"}, \"type\": \"mesh3d\"}], \"parcoords\": [{\"line\": {\"colorbar\": {\"outlinewidth\": 0, \"ticks\": \"\"}}, \"type\": \"parcoords\"}], \"pie\": [{\"automargin\": true, \"type\": \"pie\"}], \"scatter\": [{\"marker\": {\"colorbar\": {\"outlinewidth\": 0, \"ticks\": \"\"}}, \"type\": \"scatter\"}], \"scatter3d\": [{\"line\": {\"colorbar\": {\"outlinewidth\": 0, \"ticks\": \"\"}}, \"marker\": {\"colorbar\": {\"outlinewidth\": 0, \"ticks\": \"\"}}, \"type\": \"scatter3d\"}], \"scattercarpet\": [{\"marker\": {\"colorbar\": {\"outlinewidth\": 0, \"ticks\": \"\"}}, \"type\": \"scattercarpet\"}], \"scattergeo\": [{\"marker\": {\"colorbar\": {\"outlinewidth\": 0, \"ticks\": \"\"}}, \"type\": \"scattergeo\"}], \"scattergl\": [{\"marker\": {\"colorbar\": {\"outlinewidth\": 0, \"ticks\": \"\"}}, \"type\": \"scattergl\"}], \"scattermapbox\": [{\"marker\": {\"colorbar\": {\"outlinewidth\": 0, \"ticks\": \"\"}}, \"type\": \"scattermapbox\"}], \"scatterpolar\": [{\"marker\": {\"colorbar\": {\"outlinewidth\": 0, \"ticks\": \"\"}}, \"type\": \"scatterpolar\"}], \"scatterpolargl\": [{\"marker\": {\"colorbar\": {\"outlinewidth\": 0, \"ticks\": \"\"}}, \"type\": \"scatterpolargl\"}], \"scatterternary\": [{\"marker\": {\"colorbar\": {\"outlinewidth\": 0, \"ticks\": \"\"}}, \"type\": \"scatterternary\"}], \"surface\": [{\"colorbar\": {\"outlinewidth\": 0, \"ticks\": \"\"}, \"colorscale\": [[0.0, \"#0d0887\"], [0.1111111111111111, \"#46039f\"], [0.2222222222222222, \"#7201a8\"], [0.3333333333333333, \"#9c179e\"], [0.4444444444444444, \"#bd3786\"], [0.5555555555555556, \"#d8576b\"], [0.6666666666666666, \"#ed7953\"], [0.7777777777777778, \"#fb9f3a\"], [0.8888888888888888, \"#fdca26\"], [1.0, \"#f0f921\"]], \"type\": \"surface\"}], \"table\": [{\"cells\": {\"fill\": {\"color\": \"#EBF0F8\"}, \"line\": {\"color\": \"white\"}}, \"header\": {\"fill\": {\"color\": \"#C8D4E3\"}, \"line\": {\"color\": \"white\"}}, \"type\": \"table\"}]}, \"layout\": {\"annotationdefaults\": {\"arrowcolor\": \"#2a3f5f\", \"arrowhead\": 0, \"arrowwidth\": 1}, \"coloraxis\": {\"colorbar\": {\"outlinewidth\": 0, \"ticks\": \"\"}}, \"colorscale\": {\"diverging\": [[0, \"#8e0152\"], [0.1, \"#c51b7d\"], [0.2, \"#de77ae\"], [0.3, \"#f1b6da\"], [0.4, \"#fde0ef\"], [0.5, \"#f7f7f7\"], [0.6, \"#e6f5d0\"], [0.7, \"#b8e186\"], [0.8, \"#7fbc41\"], [0.9, \"#4d9221\"], [1, \"#276419\"]], \"sequential\": [[0.0, \"#0d0887\"], [0.1111111111111111, \"#46039f\"], [0.2222222222222222, \"#7201a8\"], [0.3333333333333333, \"#9c179e\"], [0.4444444444444444, \"#bd3786\"], [0.5555555555555556, \"#d8576b\"], [0.6666666666666666, \"#ed7953\"], [0.7777777777777778, \"#fb9f3a\"], [0.8888888888888888, \"#fdca26\"], [1.0, \"#f0f921\"]], \"sequentialminus\": [[0.0, \"#0d0887\"], [0.1111111111111111, \"#46039f\"], [0.2222222222222222, \"#7201a8\"], [0.3333333333333333, \"#9c179e\"], [0.4444444444444444, \"#bd3786\"], [0.5555555555555556, \"#d8576b\"], [0.6666666666666666, \"#ed7953\"], [0.7777777777777778, \"#fb9f3a\"], [0.8888888888888888, \"#fdca26\"], [1.0, \"#f0f921\"]]}, \"colorway\": [\"#636efa\", \"#EF553B\", \"#00cc96\", \"#ab63fa\", \"#FFA15A\", \"#19d3f3\", \"#FF6692\", \"#B6E880\", \"#FF97FF\", \"#FECB52\"], \"font\": {\"color\": \"#2a3f5f\"}, \"geo\": {\"bgcolor\": \"white\", \"lakecolor\": \"white\", \"landcolor\": \"#E5ECF6\", \"showlakes\": true, \"showland\": true, \"subunitcolor\": \"white\"}, \"hoverlabel\": {\"align\": \"left\"}, \"hovermode\": \"closest\", \"mapbox\": {\"style\": \"light\"}, \"paper_bgcolor\": \"white\", \"plot_bgcolor\": \"#E5ECF6\", \"polar\": {\"angularaxis\": {\"gridcolor\": \"white\", \"linecolor\": \"white\", \"ticks\": \"\"}, \"bgcolor\": \"#E5ECF6\", \"radialaxis\": {\"gridcolor\": \"white\", \"linecolor\": \"white\", \"ticks\": \"\"}}, \"scene\": {\"xaxis\": {\"backgroundcolor\": \"#E5ECF6\", \"gridcolor\": \"white\", \"gridwidth\": 2, \"linecolor\": \"white\", \"showbackground\": true, \"ticks\": \"\", \"zerolinecolor\": \"white\"}, \"yaxis\": {\"backgroundcolor\": \"#E5ECF6\", \"gridcolor\": \"white\", \"gridwidth\": 2, \"linecolor\": \"white\", \"showbackground\": true, \"ticks\": \"\", \"zerolinecolor\": \"white\"}, \"zaxis\": {\"backgroundcolor\": \"#E5ECF6\", \"gridcolor\": \"white\", \"gridwidth\": 2, \"linecolor\": \"white\", \"showbackground\": true, \"ticks\": \"\", \"zerolinecolor\": \"white\"}}, \"shapedefaults\": {\"line\": {\"color\": \"#2a3f5f\"}}, \"ternary\": {\"aaxis\": {\"gridcolor\": \"white\", \"linecolor\": \"white\", \"ticks\": \"\"}, \"baxis\": {\"gridcolor\": \"white\", \"linecolor\": \"white\", \"ticks\": \"\"}, \"bgcolor\": \"#E5ECF6\", \"caxis\": {\"gridcolor\": \"white\", \"linecolor\": \"white\", \"ticks\": \"\"}}, \"title\": {\"x\": 0.05}, \"xaxis\": {\"automargin\": true, \"gridcolor\": \"white\", \"linecolor\": \"white\", \"ticks\": \"\", \"title\": {\"standoff\": 15}, \"zerolinecolor\": \"white\", \"zerolinewidth\": 2}, \"yaxis\": {\"automargin\": true, \"gridcolor\": \"white\", \"linecolor\": \"white\", \"ticks\": \"\", \"title\": {\"standoff\": 15}, \"zerolinecolor\": \"white\", \"zerolinewidth\": 2}}}, \"title\": {\"font\": {\"color\": \"#4D5663\"}}, \"xaxis\": {\"gridcolor\": \"#E1E5ED\", \"showgrid\": true, \"tickfont\": {\"color\": \"#4D5663\"}, \"title\": {\"font\": {\"color\": \"#4D5663\"}, \"text\": \"\"}, \"zerolinecolor\": \"#E1E5ED\"}, \"yaxis\": {\"gridcolor\": \"#E1E5ED\", \"showgrid\": true, \"tickfont\": {\"color\": \"#4D5663\"}, \"title\": {\"font\": {\"color\": \"#4D5663\"}, \"text\": \"\"}, \"zerolinecolor\": \"#E1E5ED\"}},                        {\"showLink\": true, \"linkText\": \"Export to plot.ly\", \"plotlyServerURL\": \"https://plot.ly\", \"responsive\": true}                    ).then(function(){\n",
       "                            \n",
       "var gd = document.getElementById('2077e7a5-ef88-426a-9acb-13c1e18df582');\n",
       "var x = new MutationObserver(function (mutations, observer) {{\n",
       "        var display = window.getComputedStyle(gd).display;\n",
       "        if (!display || display === 'none') {{\n",
       "            console.log([gd, 'removed!']);\n",
       "            Plotly.purge(gd);\n",
       "            observer.disconnect();\n",
       "        }}\n",
       "}});\n",
       "\n",
       "// Listen for the removal of the full notebook cells\n",
       "var notebookContainer = gd.closest('#notebook-container');\n",
       "if (notebookContainer) {{\n",
       "    x.observe(notebookContainer, {childList: true});\n",
       "}}\n",
       "\n",
       "// Listen for the clearing of the current output cell\n",
       "var outputEl = gd.closest('.output');\n",
       "if (outputEl) {{\n",
       "    x.observe(outputEl, {childList: true});\n",
       "}}\n",
       "\n",
       "                        })                };                });            </script>        </div>"
      ]
     },
     "metadata": {},
     "output_type": "display_data"
    }
   ],
   "source": [
    "fake_df.iplot(kind='bubble', x='A', y='B', size='C')"
   ]
  },
  {
   "cell_type": "code",
   "execution_count": 31,
   "metadata": {},
   "outputs": [
    {
     "data": {
      "application/vnd.plotly.v1+json": {
       "config": {
        "linkText": "Export to plot.ly",
        "plotlyServerURL": "https://plot.ly",
        "showLink": true
       },
       "data": [
        {
         "line": {
          "color": "rgba(255, 153, 51, 1.0)",
          "dash": "solid",
          "shape": "linear",
          "width": 1.3
         },
         "mode": "lines",
         "name": "A",
         "text": "",
         "type": "scatter",
         "x": [
          0,
          1,
          2,
          3,
          4,
          5,
          6,
          7,
          8,
          9,
          10,
          11,
          12,
          13,
          14,
          15,
          16,
          17,
          18,
          19,
          20,
          21,
          22,
          23,
          24,
          25,
          26,
          27,
          28,
          29,
          30,
          31,
          32,
          33,
          34,
          35,
          36,
          37,
          38,
          39,
          40,
          41,
          42,
          43,
          44,
          45,
          46,
          47,
          48,
          49,
          50,
          51,
          52,
          53,
          54,
          55,
          56,
          57,
          58,
          59,
          60,
          61,
          62,
          63,
          64,
          65,
          66,
          67,
          68,
          69,
          70,
          71,
          72,
          73,
          74,
          75,
          76,
          77,
          78,
          79,
          80,
          81,
          82,
          83,
          84,
          85,
          86,
          87,
          88,
          89,
          90,
          91,
          92,
          93,
          94,
          95,
          96,
          97,
          98,
          99
         ],
         "y": [
          0.5176590531969488,
          0.2611900186917925,
          -2.0770443227929434,
          0.4376128613752404,
          -0.7972765755299147,
          -0.9781925854562078,
          0.021787211156948774,
          -1.8227103978927501,
          1.7661994574612905,
          0.6140684305177554,
          -0.10348408002873685,
          -0.005438269546051754,
          0.14564690286116566,
          -1.6019204582868,
          0.36412650919654904,
          1.8933456811942735,
          0.5580880070310005,
          -1.6721324428771815,
          -0.7640725461546174,
          -0.01743915243591418,
          0.6748540001753083,
          0.7920643030147945,
          -0.8170164432005932,
          -0.40348005188696673,
          0.6539188908047413,
          -0.12400523728931026,
          1.4032160617444647,
          -0.5827443655439306,
          1.1703201043257259,
          -1.3220783976434485,
          0.27017141466012873,
          1.130033689636446,
          -0.19781497959524116,
          0.9146218319990627,
          0.6788744017706305,
          0.7263896841237812,
          -0.4270625982491659,
          1.7771258173188988,
          1.7255189854877893,
          0.10071803173376356,
          0.5584259746959217,
          -0.35980148623036257,
          0.27320206594699464,
          -0.9058148329762855,
          0.6655637328672925,
          0.737591189163516,
          0.42918978634587096,
          -0.667396753774752,
          0.33121038394063146,
          -0.38186248928384686,
          0.4080848294364657,
          1.7446010964370207,
          2.7769588024238145,
          -0.0500309548669025,
          0.1734318857601251,
          -0.560498934672177,
          0.0615027213603778,
          -0.5563384887782385,
          0.6872170531367844,
          1.3085125570269542,
          0.8658386492120068,
          -0.41384192152811716,
          -0.5748894712834556,
          -0.046030262702725415,
          -0.7834661261224901,
          0.33669600457694904,
          0.5649402937564677,
          0.7412011360451405,
          0.03744861967029218,
          -0.31441728987996154,
          0.12757226281435682,
          1.4278042432171743,
          -0.10084618653539616,
          0.44337571123088204,
          0.639743871777665,
          0.05751155640936568,
          0.5562572498216152,
          -0.1992962817147566,
          1.777203558993544,
          0.3884239255669419,
          0.5974152051587482,
          -2.336551059610256,
          0.37178139089325507,
          -0.6083978716388516,
          1.4014589342993968,
          -0.707138581612621,
          -0.15707032363071047,
          -0.599796745012966,
          -0.5280305545087325,
          0.13617931710002912,
          0.20729333459661806,
          0.9195443365275761,
          -1.3027488740641358,
          -0.22063075065637314,
          -0.9410102187865621,
          -0.889314187063548,
          1.0927712482439207,
          0.42244762596411395,
          0.23878587815304225,
          -1.5437470888769478
         ]
        },
        {
         "line": {
          "color": "rgba(55, 128, 191, 1.0)",
          "dash": "solid",
          "shape": "linear",
          "width": 1.3
         },
         "mode": "lines",
         "name": "B",
         "text": "",
         "type": "scatter",
         "x": [
          0,
          1,
          2,
          3,
          4,
          5,
          6,
          7,
          8,
          9,
          10,
          11,
          12,
          13,
          14,
          15,
          16,
          17,
          18,
          19,
          20,
          21,
          22,
          23,
          24,
          25,
          26,
          27,
          28,
          29,
          30,
          31,
          32,
          33,
          34,
          35,
          36,
          37,
          38,
          39,
          40,
          41,
          42,
          43,
          44,
          45,
          46,
          47,
          48,
          49,
          50,
          51,
          52,
          53,
          54,
          55,
          56,
          57,
          58,
          59,
          60,
          61,
          62,
          63,
          64,
          65,
          66,
          67,
          68,
          69,
          70,
          71,
          72,
          73,
          74,
          75,
          76,
          77,
          78,
          79,
          80,
          81,
          82,
          83,
          84,
          85,
          86,
          87,
          88,
          89,
          90,
          91,
          92,
          93,
          94,
          95,
          96,
          97,
          98,
          99
         ],
         "y": [
          -2.062328018719915,
          0.8786899411904887,
          1.1874249981439793,
          0.620421760886563,
          1.8246664737333786,
          -0.5685579142811606,
          0.3088839923239217,
          -1.0084687897342672,
          2.0771684696654575,
          1.7617473144705262,
          0.5218737819883743,
          1.216892180797244,
          -0.6847447329719094,
          0.826588825933059,
          2.6200333634388415,
          2.027364798276653,
          0.46666153606323296,
          0.6321266035330925,
          0.10354350260081757,
          -1.4589818998144466,
          1.0316131049729904,
          -0.4343505887332764,
          0.15860458063757982,
          0.41074091507419974,
          1.438825016119307,
          0.25298155971555386,
          0.46729325225147283,
          0.2936712849184672,
          -1.2348037110121215,
          -0.10345781303290143,
          -0.012482275553756294,
          -0.4475322156922826,
          -1.1414119122054063,
          1.6628239176950863,
          1.7068757940201402,
          -0.6201760521654056,
          1.4276529258902466,
          1.443110863145192,
          -0.0025796355047607586,
          -0.2837037736078109,
          -0.1487082196497076,
          2.4894492822509338,
          1.852621410994538,
          0.8612759018913871,
          0.8478792360988995,
          0.5229295789614508,
          0.1098334359498861,
          0.2612972220104098,
          -1.792210724907832,
          -0.3742743391106684,
          -1.4474845739003757,
          0.23369699704612115,
          -0.3998708578038428,
          -0.3238301112207704,
          -0.3638097440063624,
          0.7677830069036755,
          -0.9560266895216887,
          -1.2620487398743916,
          -0.03370315564410422,
          0.7163516147304333,
          -0.5732647969071828,
          0.07060724906093349,
          0.4459274755835238,
          0.650618412269321,
          -1.0244672632772345,
          -0.6681332442599868,
          -0.9722001914014322,
          0.45238929472010353,
          -2.8035768324235644,
          0.9014287430239033,
          1.319467095259805,
          0.814749966559747,
          -1.6194588318172127,
          1.810232824196542,
          -0.34028761466536867,
          -1.1591663343929903,
          -0.06465852470255785,
          1.7281846836066086,
          -0.8877610317705266,
          0.28713523914667666,
          0.2274495262561486,
          1.5675547163890926,
          0.01636233235734836,
          -0.46263266260882785,
          1.4710093187284892,
          2.008148901429391,
          -0.07354278241686084,
          0.741500628831564,
          -0.29140165890473285,
          -0.4392997604281096,
          -0.4367500190228618,
          2.0212482820418307,
          0.3225503619977586,
          1.6557249579245188,
          -1.2396003969104676,
          0.9414280160172462,
          1.5208718204530265,
          0.43530949652827217,
          0.9965272851620621,
          -0.3126121992418231
         ]
        },
        {
         "line": {
          "color": "rgba(50, 171, 96, 1.0)",
          "dash": "solid",
          "shape": "linear",
          "width": 1.3
         },
         "mode": "lines",
         "name": "C",
         "text": "",
         "type": "scatter",
         "x": [
          0,
          1,
          2,
          3,
          4,
          5,
          6,
          7,
          8,
          9,
          10,
          11,
          12,
          13,
          14,
          15,
          16,
          17,
          18,
          19,
          20,
          21,
          22,
          23,
          24,
          25,
          26,
          27,
          28,
          29,
          30,
          31,
          32,
          33,
          34,
          35,
          36,
          37,
          38,
          39,
          40,
          41,
          42,
          43,
          44,
          45,
          46,
          47,
          48,
          49,
          50,
          51,
          52,
          53,
          54,
          55,
          56,
          57,
          58,
          59,
          60,
          61,
          62,
          63,
          64,
          65,
          66,
          67,
          68,
          69,
          70,
          71,
          72,
          73,
          74,
          75,
          76,
          77,
          78,
          79,
          80,
          81,
          82,
          83,
          84,
          85,
          86,
          87,
          88,
          89,
          90,
          91,
          92,
          93,
          94,
          95,
          96,
          97,
          98,
          99
         ],
         "y": [
          -0.48727860918233845,
          -0.5282876554663558,
          -0.27209616600687514,
          0.4447395054648122,
          -1.4147182032605394,
          -2.001545536032162,
          -0.8139050768749961,
          -0.08415540958256855,
          0.16335269253475443,
          0.22192531594078874,
          -0.7465145927699801,
          1.2382381928715527,
          0.399710364052061,
          -0.5556296232435419,
          0.10523112078869563,
          1.1075848231005008,
          -1.0158005159433114,
          -0.7596710471859048,
          -1.452844043355656,
          -1.3915239186957886,
          -0.8097881708806685,
          -1.0178370496865219,
          -0.44637160508025686,
          1.6132859180573627,
          0.17565726818527774,
          -0.33876503846131806,
          0.022724720511940365,
          1.6098888151291977,
          -0.5402897665187559,
          -0.3554593958944142,
          2.3165434218398167,
          -0.41160881523191234,
          0.166116246324514,
          1.459866207392856,
          -0.6317076246014489,
          0.19800936578443315,
          1.378637346836652,
          0.10374326247746794,
          -0.6413361770585316,
          0.11458583231732682,
          0.9599041243565135,
          -1.5723371667133335,
          -0.4664639112913684,
          -1.6394106572834544,
          0.1467652757537728,
          0.8728649133790104,
          1.7307337730148245,
          0.368431840278857,
          -0.5755407970147597,
          -0.31202607964170215,
          0.8709887287203207,
          1.8961004612187617,
          0.3728939052783495,
          -0.9531482486755148,
          -0.11332309514039031,
          0.6422017191643308,
          -0.5197642814954431,
          1.147175223621175,
          0.5733264065122081,
          1.65480807517257,
          -0.6849922967207143,
          0.18479013520102885,
          -0.6447413089856846,
          0.22400894574406588,
          0.16538156131413714,
          0.16441194950459131,
          0.21669332906532554,
          0.4813508678379441,
          0.9699696772792914,
          -1.1665459251264292,
          1.2076075393271433,
          0.29368548555331,
          1.4642308467104312,
          -0.7069728908570257,
          0.4013650329273782,
          -0.18230132007368946,
          -0.2885258866502022,
          -0.39336355208417584,
          -0.23959986433443717,
          -1.2923231501205141,
          2.2994227658303097,
          -0.9263893110196699,
          0.15646208823728108,
          -0.15706175886400028,
          0.7763084460606078,
          -1.2724470509423125,
          -0.26750777327402353,
          1.3719350763740965,
          -0.7472787619207025,
          0.22924825934807877,
          -0.7087814295431368,
          0.036516810427891414,
          0.17659439595002455,
          0.6481653101242475,
          -1.3438934309126367,
          1.73178952168849,
          -0.5693855683705377,
          0.7592866846464033,
          -0.0932190500533003,
          0.2806141883330818
         ]
        },
        {
         "line": {
          "color": "rgba(128, 0, 128, 1.0)",
          "dash": "solid",
          "shape": "linear",
          "width": 1.3
         },
         "mode": "lines",
         "name": "D",
         "text": "",
         "type": "scatter",
         "x": [
          0,
          1,
          2,
          3,
          4,
          5,
          6,
          7,
          8,
          9,
          10,
          11,
          12,
          13,
          14,
          15,
          16,
          17,
          18,
          19,
          20,
          21,
          22,
          23,
          24,
          25,
          26,
          27,
          28,
          29,
          30,
          31,
          32,
          33,
          34,
          35,
          36,
          37,
          38,
          39,
          40,
          41,
          42,
          43,
          44,
          45,
          46,
          47,
          48,
          49,
          50,
          51,
          52,
          53,
          54,
          55,
          56,
          57,
          58,
          59,
          60,
          61,
          62,
          63,
          64,
          65,
          66,
          67,
          68,
          69,
          70,
          71,
          72,
          73,
          74,
          75,
          76,
          77,
          78,
          79,
          80,
          81,
          82,
          83,
          84,
          85,
          86,
          87,
          88,
          89,
          90,
          91,
          92,
          93,
          94,
          95,
          96,
          97,
          98,
          99
         ],
         "y": [
          0.008652614534942028,
          -0.7949614463548819,
          1.0280042026477036,
          0.8164424740301507,
          0.617727507928314,
          0.15222624393647677,
          1.2859841750205485,
          0.409151171250876,
          -0.6648903490713879,
          0.188280991573493,
          1.7361962451553843,
          0.1292603721639433,
          -1.0746782055634203,
          0.6679863781746483,
          0.2986849379544349,
          -1.2972181834227539,
          0.7234912586140759,
          -1.9871127363581325,
          1.4820943021722468,
          -1.6201531167299896,
          0.667857279595324,
          -1.382531979907316,
          1.1859347449849038,
          -0.42387907178714945,
          0.12645368517089497,
          0.09773820388292274,
          0.6400915462748148,
          0.5104472462638728,
          -0.6806357061741313,
          -0.5150359137758567,
          0.2994526122925929,
          1.5384351485364862,
          -0.3202795354719194,
          -0.19414487250516232,
          -0.21125034780522955,
          1.8555070729023406,
          -0.09338720531514051,
          0.11637535712167411,
          1.49784256052569,
          0.06007444341741698,
          -0.2476782556349282,
          -0.012592927738989842,
          -0.8491035964374101,
          -0.26595759374177486,
          1.1697726986691868,
          0.20333218176749726,
          -0.14393716301640563,
          2.319931703106863,
          0.9738955651766313,
          -0.50053166966656,
          -0.8319540887003886,
          1.26595252565857,
          -0.23641298872202157,
          0.5086954674046928,
          -0.2483971567913297,
          1.5100730208969315,
          0.5002961203486755,
          -0.25574688195411244,
          -0.7467671094006217,
          -0.4189497570766799,
          0.5730461597508703,
          -1.431726732049285,
          -0.9259418636873402,
          0.6274563842867187,
          2.0458204822291437,
          1.2316742901491164,
          -0.43220019448124075,
          0.7077020854027325,
          -1.5853859789697726,
          0.4807179359635406,
          -1.3024623926698402,
          1.6896361218890077,
          2.4627513735028703,
          -0.1677764434855635,
          -0.03935738533338876,
          -1.053561193566943,
          1.3906932780856869,
          0.5695467751425498,
          0.22699250074578836,
          0.9967394933539656,
          0.9245994498217607,
          -0.7341404619357271,
          0.709895521454746,
          0.7712935319432523,
          0.10577149268713595,
          0.7011702661369695,
          -0.7437745832610808,
          0.40193837133621413,
          -0.03408182487082432,
          0.4684774592219555,
          0.4818913373936253,
          2.094699024132364,
          0.3382887195118553,
          0.08293502643049379,
          1.2015167791109795,
          -0.27836722809734166,
          1.0153666305994116,
          1.4738945865609736,
          -2.968119177361254,
          -0.5513376320465491
         ]
        }
       ],
       "layout": {
        "legend": {
         "bgcolor": "#F5F6F9",
         "font": {
          "color": "#4D5663"
         }
        },
        "paper_bgcolor": "#F5F6F9",
        "plot_bgcolor": "#F5F6F9",
        "template": {
         "data": {
          "bar": [
           {
            "error_x": {
             "color": "#2a3f5f"
            },
            "error_y": {
             "color": "#2a3f5f"
            },
            "marker": {
             "line": {
              "color": "#E5ECF6",
              "width": 0.5
             }
            },
            "type": "bar"
           }
          ],
          "barpolar": [
           {
            "marker": {
             "line": {
              "color": "#E5ECF6",
              "width": 0.5
             }
            },
            "type": "barpolar"
           }
          ],
          "carpet": [
           {
            "aaxis": {
             "endlinecolor": "#2a3f5f",
             "gridcolor": "white",
             "linecolor": "white",
             "minorgridcolor": "white",
             "startlinecolor": "#2a3f5f"
            },
            "baxis": {
             "endlinecolor": "#2a3f5f",
             "gridcolor": "white",
             "linecolor": "white",
             "minorgridcolor": "white",
             "startlinecolor": "#2a3f5f"
            },
            "type": "carpet"
           }
          ],
          "choropleth": [
           {
            "colorbar": {
             "outlinewidth": 0,
             "ticks": ""
            },
            "type": "choropleth"
           }
          ],
          "contour": [
           {
            "colorbar": {
             "outlinewidth": 0,
             "ticks": ""
            },
            "colorscale": [
             [
              0,
              "#0d0887"
             ],
             [
              0.1111111111111111,
              "#46039f"
             ],
             [
              0.2222222222222222,
              "#7201a8"
             ],
             [
              0.3333333333333333,
              "#9c179e"
             ],
             [
              0.4444444444444444,
              "#bd3786"
             ],
             [
              0.5555555555555556,
              "#d8576b"
             ],
             [
              0.6666666666666666,
              "#ed7953"
             ],
             [
              0.7777777777777778,
              "#fb9f3a"
             ],
             [
              0.8888888888888888,
              "#fdca26"
             ],
             [
              1,
              "#f0f921"
             ]
            ],
            "type": "contour"
           }
          ],
          "contourcarpet": [
           {
            "colorbar": {
             "outlinewidth": 0,
             "ticks": ""
            },
            "type": "contourcarpet"
           }
          ],
          "heatmap": [
           {
            "colorbar": {
             "outlinewidth": 0,
             "ticks": ""
            },
            "colorscale": [
             [
              0,
              "#0d0887"
             ],
             [
              0.1111111111111111,
              "#46039f"
             ],
             [
              0.2222222222222222,
              "#7201a8"
             ],
             [
              0.3333333333333333,
              "#9c179e"
             ],
             [
              0.4444444444444444,
              "#bd3786"
             ],
             [
              0.5555555555555556,
              "#d8576b"
             ],
             [
              0.6666666666666666,
              "#ed7953"
             ],
             [
              0.7777777777777778,
              "#fb9f3a"
             ],
             [
              0.8888888888888888,
              "#fdca26"
             ],
             [
              1,
              "#f0f921"
             ]
            ],
            "type": "heatmap"
           }
          ],
          "heatmapgl": [
           {
            "colorbar": {
             "outlinewidth": 0,
             "ticks": ""
            },
            "colorscale": [
             [
              0,
              "#0d0887"
             ],
             [
              0.1111111111111111,
              "#46039f"
             ],
             [
              0.2222222222222222,
              "#7201a8"
             ],
             [
              0.3333333333333333,
              "#9c179e"
             ],
             [
              0.4444444444444444,
              "#bd3786"
             ],
             [
              0.5555555555555556,
              "#d8576b"
             ],
             [
              0.6666666666666666,
              "#ed7953"
             ],
             [
              0.7777777777777778,
              "#fb9f3a"
             ],
             [
              0.8888888888888888,
              "#fdca26"
             ],
             [
              1,
              "#f0f921"
             ]
            ],
            "type": "heatmapgl"
           }
          ],
          "histogram": [
           {
            "marker": {
             "colorbar": {
              "outlinewidth": 0,
              "ticks": ""
             }
            },
            "type": "histogram"
           }
          ],
          "histogram2d": [
           {
            "colorbar": {
             "outlinewidth": 0,
             "ticks": ""
            },
            "colorscale": [
             [
              0,
              "#0d0887"
             ],
             [
              0.1111111111111111,
              "#46039f"
             ],
             [
              0.2222222222222222,
              "#7201a8"
             ],
             [
              0.3333333333333333,
              "#9c179e"
             ],
             [
              0.4444444444444444,
              "#bd3786"
             ],
             [
              0.5555555555555556,
              "#d8576b"
             ],
             [
              0.6666666666666666,
              "#ed7953"
             ],
             [
              0.7777777777777778,
              "#fb9f3a"
             ],
             [
              0.8888888888888888,
              "#fdca26"
             ],
             [
              1,
              "#f0f921"
             ]
            ],
            "type": "histogram2d"
           }
          ],
          "histogram2dcontour": [
           {
            "colorbar": {
             "outlinewidth": 0,
             "ticks": ""
            },
            "colorscale": [
             [
              0,
              "#0d0887"
             ],
             [
              0.1111111111111111,
              "#46039f"
             ],
             [
              0.2222222222222222,
              "#7201a8"
             ],
             [
              0.3333333333333333,
              "#9c179e"
             ],
             [
              0.4444444444444444,
              "#bd3786"
             ],
             [
              0.5555555555555556,
              "#d8576b"
             ],
             [
              0.6666666666666666,
              "#ed7953"
             ],
             [
              0.7777777777777778,
              "#fb9f3a"
             ],
             [
              0.8888888888888888,
              "#fdca26"
             ],
             [
              1,
              "#f0f921"
             ]
            ],
            "type": "histogram2dcontour"
           }
          ],
          "mesh3d": [
           {
            "colorbar": {
             "outlinewidth": 0,
             "ticks": ""
            },
            "type": "mesh3d"
           }
          ],
          "parcoords": [
           {
            "line": {
             "colorbar": {
              "outlinewidth": 0,
              "ticks": ""
             }
            },
            "type": "parcoords"
           }
          ],
          "pie": [
           {
            "automargin": true,
            "type": "pie"
           }
          ],
          "scatter": [
           {
            "marker": {
             "colorbar": {
              "outlinewidth": 0,
              "ticks": ""
             }
            },
            "type": "scatter"
           }
          ],
          "scatter3d": [
           {
            "line": {
             "colorbar": {
              "outlinewidth": 0,
              "ticks": ""
             }
            },
            "marker": {
             "colorbar": {
              "outlinewidth": 0,
              "ticks": ""
             }
            },
            "type": "scatter3d"
           }
          ],
          "scattercarpet": [
           {
            "marker": {
             "colorbar": {
              "outlinewidth": 0,
              "ticks": ""
             }
            },
            "type": "scattercarpet"
           }
          ],
          "scattergeo": [
           {
            "marker": {
             "colorbar": {
              "outlinewidth": 0,
              "ticks": ""
             }
            },
            "type": "scattergeo"
           }
          ],
          "scattergl": [
           {
            "marker": {
             "colorbar": {
              "outlinewidth": 0,
              "ticks": ""
             }
            },
            "type": "scattergl"
           }
          ],
          "scattermapbox": [
           {
            "marker": {
             "colorbar": {
              "outlinewidth": 0,
              "ticks": ""
             }
            },
            "type": "scattermapbox"
           }
          ],
          "scatterpolar": [
           {
            "marker": {
             "colorbar": {
              "outlinewidth": 0,
              "ticks": ""
             }
            },
            "type": "scatterpolar"
           }
          ],
          "scatterpolargl": [
           {
            "marker": {
             "colorbar": {
              "outlinewidth": 0,
              "ticks": ""
             }
            },
            "type": "scatterpolargl"
           }
          ],
          "scatterternary": [
           {
            "marker": {
             "colorbar": {
              "outlinewidth": 0,
              "ticks": ""
             }
            },
            "type": "scatterternary"
           }
          ],
          "surface": [
           {
            "colorbar": {
             "outlinewidth": 0,
             "ticks": ""
            },
            "colorscale": [
             [
              0,
              "#0d0887"
             ],
             [
              0.1111111111111111,
              "#46039f"
             ],
             [
              0.2222222222222222,
              "#7201a8"
             ],
             [
              0.3333333333333333,
              "#9c179e"
             ],
             [
              0.4444444444444444,
              "#bd3786"
             ],
             [
              0.5555555555555556,
              "#d8576b"
             ],
             [
              0.6666666666666666,
              "#ed7953"
             ],
             [
              0.7777777777777778,
              "#fb9f3a"
             ],
             [
              0.8888888888888888,
              "#fdca26"
             ],
             [
              1,
              "#f0f921"
             ]
            ],
            "type": "surface"
           }
          ],
          "table": [
           {
            "cells": {
             "fill": {
              "color": "#EBF0F8"
             },
             "line": {
              "color": "white"
             }
            },
            "header": {
             "fill": {
              "color": "#C8D4E3"
             },
             "line": {
              "color": "white"
             }
            },
            "type": "table"
           }
          ]
         },
         "layout": {
          "annotationdefaults": {
           "arrowcolor": "#2a3f5f",
           "arrowhead": 0,
           "arrowwidth": 1
          },
          "coloraxis": {
           "colorbar": {
            "outlinewidth": 0,
            "ticks": ""
           }
          },
          "colorscale": {
           "diverging": [
            [
             0,
             "#8e0152"
            ],
            [
             0.1,
             "#c51b7d"
            ],
            [
             0.2,
             "#de77ae"
            ],
            [
             0.3,
             "#f1b6da"
            ],
            [
             0.4,
             "#fde0ef"
            ],
            [
             0.5,
             "#f7f7f7"
            ],
            [
             0.6,
             "#e6f5d0"
            ],
            [
             0.7,
             "#b8e186"
            ],
            [
             0.8,
             "#7fbc41"
            ],
            [
             0.9,
             "#4d9221"
            ],
            [
             1,
             "#276419"
            ]
           ],
           "sequential": [
            [
             0,
             "#0d0887"
            ],
            [
             0.1111111111111111,
             "#46039f"
            ],
            [
             0.2222222222222222,
             "#7201a8"
            ],
            [
             0.3333333333333333,
             "#9c179e"
            ],
            [
             0.4444444444444444,
             "#bd3786"
            ],
            [
             0.5555555555555556,
             "#d8576b"
            ],
            [
             0.6666666666666666,
             "#ed7953"
            ],
            [
             0.7777777777777778,
             "#fb9f3a"
            ],
            [
             0.8888888888888888,
             "#fdca26"
            ],
            [
             1,
             "#f0f921"
            ]
           ],
           "sequentialminus": [
            [
             0,
             "#0d0887"
            ],
            [
             0.1111111111111111,
             "#46039f"
            ],
            [
             0.2222222222222222,
             "#7201a8"
            ],
            [
             0.3333333333333333,
             "#9c179e"
            ],
            [
             0.4444444444444444,
             "#bd3786"
            ],
            [
             0.5555555555555556,
             "#d8576b"
            ],
            [
             0.6666666666666666,
             "#ed7953"
            ],
            [
             0.7777777777777778,
             "#fb9f3a"
            ],
            [
             0.8888888888888888,
             "#fdca26"
            ],
            [
             1,
             "#f0f921"
            ]
           ]
          },
          "colorway": [
           "#636efa",
           "#EF553B",
           "#00cc96",
           "#ab63fa",
           "#FFA15A",
           "#19d3f3",
           "#FF6692",
           "#B6E880",
           "#FF97FF",
           "#FECB52"
          ],
          "font": {
           "color": "#2a3f5f"
          },
          "geo": {
           "bgcolor": "white",
           "lakecolor": "white",
           "landcolor": "#E5ECF6",
           "showlakes": true,
           "showland": true,
           "subunitcolor": "white"
          },
          "hoverlabel": {
           "align": "left"
          },
          "hovermode": "closest",
          "mapbox": {
           "style": "light"
          },
          "paper_bgcolor": "white",
          "plot_bgcolor": "#E5ECF6",
          "polar": {
           "angularaxis": {
            "gridcolor": "white",
            "linecolor": "white",
            "ticks": ""
           },
           "bgcolor": "#E5ECF6",
           "radialaxis": {
            "gridcolor": "white",
            "linecolor": "white",
            "ticks": ""
           }
          },
          "scene": {
           "xaxis": {
            "backgroundcolor": "#E5ECF6",
            "gridcolor": "white",
            "gridwidth": 2,
            "linecolor": "white",
            "showbackground": true,
            "ticks": "",
            "zerolinecolor": "white"
           },
           "yaxis": {
            "backgroundcolor": "#E5ECF6",
            "gridcolor": "white",
            "gridwidth": 2,
            "linecolor": "white",
            "showbackground": true,
            "ticks": "",
            "zerolinecolor": "white"
           },
           "zaxis": {
            "backgroundcolor": "#E5ECF6",
            "gridcolor": "white",
            "gridwidth": 2,
            "linecolor": "white",
            "showbackground": true,
            "ticks": "",
            "zerolinecolor": "white"
           }
          },
          "shapedefaults": {
           "line": {
            "color": "#2a3f5f"
           }
          },
          "ternary": {
           "aaxis": {
            "gridcolor": "white",
            "linecolor": "white",
            "ticks": ""
           },
           "baxis": {
            "gridcolor": "white",
            "linecolor": "white",
            "ticks": ""
           },
           "bgcolor": "#E5ECF6",
           "caxis": {
            "gridcolor": "white",
            "linecolor": "white",
            "ticks": ""
           }
          },
          "title": {
           "x": 0.05
          },
          "xaxis": {
           "automargin": true,
           "gridcolor": "white",
           "linecolor": "white",
           "ticks": "",
           "title": {
            "standoff": 15
           },
           "zerolinecolor": "white",
           "zerolinewidth": 2
          },
          "yaxis": {
           "automargin": true,
           "gridcolor": "white",
           "linecolor": "white",
           "ticks": "",
           "title": {
            "standoff": 15
           },
           "zerolinecolor": "white",
           "zerolinewidth": 2
          }
         }
        },
        "title": {
         "font": {
          "color": "#4D5663"
         }
        },
        "xaxis": {
         "gridcolor": "#E1E5ED",
         "showgrid": true,
         "tickfont": {
          "color": "#4D5663"
         },
         "title": {
          "font": {
           "color": "#4D5663"
          },
          "text": ""
         },
         "zerolinecolor": "#E1E5ED"
        },
        "yaxis": {
         "gridcolor": "#E1E5ED",
         "showgrid": true,
         "tickfont": {
          "color": "#4D5663"
         },
         "title": {
          "font": {
           "color": "#4D5663"
          },
          "text": ""
         },
         "zerolinecolor": "#E1E5ED"
        }
       }
      },
      "text/html": [
       "<div>                            <div id=\"c5809c45-5d85-4ede-97a5-866b9d0d68b2\" class=\"plotly-graph-div\" style=\"height:525px; width:100%;\"></div>            <script type=\"text/javascript\">                require([\"plotly\"], function(Plotly) {                    window.PLOTLYENV=window.PLOTLYENV || {};\n",
       "                    window.PLOTLYENV.BASE_URL='https://plot.ly';                                    if (document.getElementById(\"c5809c45-5d85-4ede-97a5-866b9d0d68b2\")) {                    Plotly.newPlot(                        \"c5809c45-5d85-4ede-97a5-866b9d0d68b2\",                        [{\"line\": {\"color\": \"rgba(255, 153, 51, 1.0)\", \"dash\": \"solid\", \"shape\": \"linear\", \"width\": 1.3}, \"mode\": \"lines\", \"name\": \"A\", \"text\": \"\", \"type\": \"scatter\", \"x\": [0, 1, 2, 3, 4, 5, 6, 7, 8, 9, 10, 11, 12, 13, 14, 15, 16, 17, 18, 19, 20, 21, 22, 23, 24, 25, 26, 27, 28, 29, 30, 31, 32, 33, 34, 35, 36, 37, 38, 39, 40, 41, 42, 43, 44, 45, 46, 47, 48, 49, 50, 51, 52, 53, 54, 55, 56, 57, 58, 59, 60, 61, 62, 63, 64, 65, 66, 67, 68, 69, 70, 71, 72, 73, 74, 75, 76, 77, 78, 79, 80, 81, 82, 83, 84, 85, 86, 87, 88, 89, 90, 91, 92, 93, 94, 95, 96, 97, 98, 99], \"y\": [0.5176590531969488, 0.2611900186917925, -2.0770443227929434, 0.4376128613752404, -0.7972765755299147, -0.9781925854562078, 0.021787211156948774, -1.8227103978927501, 1.7661994574612905, 0.6140684305177554, -0.10348408002873685, -0.005438269546051754, 0.14564690286116566, -1.6019204582868, 0.36412650919654904, 1.8933456811942735, 0.5580880070310005, -1.6721324428771815, -0.7640725461546174, -0.01743915243591418, 0.6748540001753083, 0.7920643030147945, -0.8170164432005932, -0.40348005188696673, 0.6539188908047413, -0.12400523728931026, 1.4032160617444647, -0.5827443655439306, 1.1703201043257259, -1.3220783976434485, 0.27017141466012873, 1.130033689636446, -0.19781497959524116, 0.9146218319990627, 0.6788744017706305, 0.7263896841237812, -0.4270625982491659, 1.7771258173188988, 1.7255189854877893, 0.10071803173376356, 0.5584259746959217, -0.35980148623036257, 0.27320206594699464, -0.9058148329762855, 0.6655637328672925, 0.737591189163516, 0.42918978634587096, -0.667396753774752, 0.33121038394063146, -0.38186248928384686, 0.4080848294364657, 1.7446010964370207, 2.7769588024238145, -0.0500309548669025, 0.1734318857601251, -0.560498934672177, 0.0615027213603778, -0.5563384887782385, 0.6872170531367844, 1.3085125570269542, 0.8658386492120068, -0.41384192152811716, -0.5748894712834556, -0.046030262702725415, -0.7834661261224901, 0.33669600457694904, 0.5649402937564677, 0.7412011360451405, 0.03744861967029218, -0.31441728987996154, 0.12757226281435682, 1.4278042432171743, -0.10084618653539616, 0.44337571123088204, 0.639743871777665, 0.05751155640936568, 0.5562572498216152, -0.1992962817147566, 1.777203558993544, 0.3884239255669419, 0.5974152051587482, -2.336551059610256, 0.37178139089325507, -0.6083978716388516, 1.4014589342993968, -0.707138581612621, -0.15707032363071047, -0.599796745012966, -0.5280305545087325, 0.13617931710002912, 0.20729333459661806, 0.9195443365275761, -1.3027488740641358, -0.22063075065637314, -0.9410102187865621, -0.889314187063548, 1.0927712482439207, 0.42244762596411395, 0.23878587815304225, -1.5437470888769478]}, {\"line\": {\"color\": \"rgba(55, 128, 191, 1.0)\", \"dash\": \"solid\", \"shape\": \"linear\", \"width\": 1.3}, \"mode\": \"lines\", \"name\": \"B\", \"text\": \"\", \"type\": \"scatter\", \"x\": [0, 1, 2, 3, 4, 5, 6, 7, 8, 9, 10, 11, 12, 13, 14, 15, 16, 17, 18, 19, 20, 21, 22, 23, 24, 25, 26, 27, 28, 29, 30, 31, 32, 33, 34, 35, 36, 37, 38, 39, 40, 41, 42, 43, 44, 45, 46, 47, 48, 49, 50, 51, 52, 53, 54, 55, 56, 57, 58, 59, 60, 61, 62, 63, 64, 65, 66, 67, 68, 69, 70, 71, 72, 73, 74, 75, 76, 77, 78, 79, 80, 81, 82, 83, 84, 85, 86, 87, 88, 89, 90, 91, 92, 93, 94, 95, 96, 97, 98, 99], \"y\": [-2.062328018719915, 0.8786899411904887, 1.1874249981439793, 0.620421760886563, 1.8246664737333786, -0.5685579142811606, 0.3088839923239217, -1.0084687897342672, 2.0771684696654575, 1.7617473144705262, 0.5218737819883743, 1.216892180797244, -0.6847447329719094, 0.826588825933059, 2.6200333634388415, 2.027364798276653, 0.46666153606323296, 0.6321266035330925, 0.10354350260081757, -1.4589818998144466, 1.0316131049729904, -0.4343505887332764, 0.15860458063757982, 0.41074091507419974, 1.438825016119307, 0.25298155971555386, 0.46729325225147283, 0.2936712849184672, -1.2348037110121215, -0.10345781303290143, -0.012482275553756294, -0.4475322156922826, -1.1414119122054063, 1.6628239176950863, 1.7068757940201402, -0.6201760521654056, 1.4276529258902466, 1.443110863145192, -0.0025796355047607586, -0.2837037736078109, -0.1487082196497076, 2.4894492822509338, 1.852621410994538, 0.8612759018913871, 0.8478792360988995, 0.5229295789614508, 0.1098334359498861, 0.2612972220104098, -1.792210724907832, -0.3742743391106684, -1.4474845739003757, 0.23369699704612115, -0.3998708578038428, -0.3238301112207704, -0.3638097440063624, 0.7677830069036755, -0.9560266895216887, -1.2620487398743916, -0.03370315564410422, 0.7163516147304333, -0.5732647969071828, 0.07060724906093349, 0.4459274755835238, 0.650618412269321, -1.0244672632772345, -0.6681332442599868, -0.9722001914014322, 0.45238929472010353, -2.8035768324235644, 0.9014287430239033, 1.319467095259805, 0.814749966559747, -1.6194588318172127, 1.810232824196542, -0.34028761466536867, -1.1591663343929903, -0.06465852470255785, 1.7281846836066086, -0.8877610317705266, 0.28713523914667666, 0.2274495262561486, 1.5675547163890926, 0.01636233235734836, -0.46263266260882785, 1.4710093187284892, 2.008148901429391, -0.07354278241686084, 0.741500628831564, -0.29140165890473285, -0.4392997604281096, -0.4367500190228618, 2.0212482820418307, 0.3225503619977586, 1.6557249579245188, -1.2396003969104676, 0.9414280160172462, 1.5208718204530265, 0.43530949652827217, 0.9965272851620621, -0.3126121992418231]}, {\"line\": {\"color\": \"rgba(50, 171, 96, 1.0)\", \"dash\": \"solid\", \"shape\": \"linear\", \"width\": 1.3}, \"mode\": \"lines\", \"name\": \"C\", \"text\": \"\", \"type\": \"scatter\", \"x\": [0, 1, 2, 3, 4, 5, 6, 7, 8, 9, 10, 11, 12, 13, 14, 15, 16, 17, 18, 19, 20, 21, 22, 23, 24, 25, 26, 27, 28, 29, 30, 31, 32, 33, 34, 35, 36, 37, 38, 39, 40, 41, 42, 43, 44, 45, 46, 47, 48, 49, 50, 51, 52, 53, 54, 55, 56, 57, 58, 59, 60, 61, 62, 63, 64, 65, 66, 67, 68, 69, 70, 71, 72, 73, 74, 75, 76, 77, 78, 79, 80, 81, 82, 83, 84, 85, 86, 87, 88, 89, 90, 91, 92, 93, 94, 95, 96, 97, 98, 99], \"y\": [-0.48727860918233845, -0.5282876554663558, -0.27209616600687514, 0.4447395054648122, -1.4147182032605394, -2.001545536032162, -0.8139050768749961, -0.08415540958256855, 0.16335269253475443, 0.22192531594078874, -0.7465145927699801, 1.2382381928715527, 0.399710364052061, -0.5556296232435419, 0.10523112078869563, 1.1075848231005008, -1.0158005159433114, -0.7596710471859048, -1.452844043355656, -1.3915239186957886, -0.8097881708806685, -1.0178370496865219, -0.44637160508025686, 1.6132859180573627, 0.17565726818527774, -0.33876503846131806, 0.022724720511940365, 1.6098888151291977, -0.5402897665187559, -0.3554593958944142, 2.3165434218398167, -0.41160881523191234, 0.166116246324514, 1.459866207392856, -0.6317076246014489, 0.19800936578443315, 1.378637346836652, 0.10374326247746794, -0.6413361770585316, 0.11458583231732682, 0.9599041243565135, -1.5723371667133335, -0.4664639112913684, -1.6394106572834544, 0.1467652757537728, 0.8728649133790104, 1.7307337730148245, 0.368431840278857, -0.5755407970147597, -0.31202607964170215, 0.8709887287203207, 1.8961004612187617, 0.3728939052783495, -0.9531482486755148, -0.11332309514039031, 0.6422017191643308, -0.5197642814954431, 1.147175223621175, 0.5733264065122081, 1.65480807517257, -0.6849922967207143, 0.18479013520102885, -0.6447413089856846, 0.22400894574406588, 0.16538156131413714, 0.16441194950459131, 0.21669332906532554, 0.4813508678379441, 0.9699696772792914, -1.1665459251264292, 1.2076075393271433, 0.29368548555331, 1.4642308467104312, -0.7069728908570257, 0.4013650329273782, -0.18230132007368946, -0.2885258866502022, -0.39336355208417584, -0.23959986433443717, -1.2923231501205141, 2.2994227658303097, -0.9263893110196699, 0.15646208823728108, -0.15706175886400028, 0.7763084460606078, -1.2724470509423125, -0.26750777327402353, 1.3719350763740965, -0.7472787619207025, 0.22924825934807877, -0.7087814295431368, 0.036516810427891414, 0.17659439595002455, 0.6481653101242475, -1.3438934309126367, 1.73178952168849, -0.5693855683705377, 0.7592866846464033, -0.0932190500533003, 0.2806141883330818]}, {\"line\": {\"color\": \"rgba(128, 0, 128, 1.0)\", \"dash\": \"solid\", \"shape\": \"linear\", \"width\": 1.3}, \"mode\": \"lines\", \"name\": \"D\", \"text\": \"\", \"type\": \"scatter\", \"x\": [0, 1, 2, 3, 4, 5, 6, 7, 8, 9, 10, 11, 12, 13, 14, 15, 16, 17, 18, 19, 20, 21, 22, 23, 24, 25, 26, 27, 28, 29, 30, 31, 32, 33, 34, 35, 36, 37, 38, 39, 40, 41, 42, 43, 44, 45, 46, 47, 48, 49, 50, 51, 52, 53, 54, 55, 56, 57, 58, 59, 60, 61, 62, 63, 64, 65, 66, 67, 68, 69, 70, 71, 72, 73, 74, 75, 76, 77, 78, 79, 80, 81, 82, 83, 84, 85, 86, 87, 88, 89, 90, 91, 92, 93, 94, 95, 96, 97, 98, 99], \"y\": [0.008652614534942028, -0.7949614463548819, 1.0280042026477036, 0.8164424740301507, 0.617727507928314, 0.15222624393647677, 1.2859841750205485, 0.409151171250876, -0.6648903490713879, 0.188280991573493, 1.7361962451553843, 0.1292603721639433, -1.0746782055634203, 0.6679863781746483, 0.2986849379544349, -1.2972181834227539, 0.7234912586140759, -1.9871127363581325, 1.4820943021722468, -1.6201531167299896, 0.667857279595324, -1.382531979907316, 1.1859347449849038, -0.42387907178714945, 0.12645368517089497, 0.09773820388292274, 0.6400915462748148, 0.5104472462638728, -0.6806357061741313, -0.5150359137758567, 0.2994526122925929, 1.5384351485364862, -0.3202795354719194, -0.19414487250516232, -0.21125034780522955, 1.8555070729023406, -0.09338720531514051, 0.11637535712167411, 1.49784256052569, 0.06007444341741698, -0.2476782556349282, -0.012592927738989842, -0.8491035964374101, -0.26595759374177486, 1.1697726986691868, 0.20333218176749726, -0.14393716301640563, 2.319931703106863, 0.9738955651766313, -0.50053166966656, -0.8319540887003886, 1.26595252565857, -0.23641298872202157, 0.5086954674046928, -0.2483971567913297, 1.5100730208969315, 0.5002961203486755, -0.25574688195411244, -0.7467671094006217, -0.4189497570766799, 0.5730461597508703, -1.431726732049285, -0.9259418636873402, 0.6274563842867187, 2.0458204822291437, 1.2316742901491164, -0.43220019448124075, 0.7077020854027325, -1.5853859789697726, 0.4807179359635406, -1.3024623926698402, 1.6896361218890077, 2.4627513735028703, -0.1677764434855635, -0.03935738533338876, -1.053561193566943, 1.3906932780856869, 0.5695467751425498, 0.22699250074578836, 0.9967394933539656, 0.9245994498217607, -0.7341404619357271, 0.709895521454746, 0.7712935319432523, 0.10577149268713595, 0.7011702661369695, -0.7437745832610808, 0.40193837133621413, -0.03408182487082432, 0.4684774592219555, 0.4818913373936253, 2.094699024132364, 0.3382887195118553, 0.08293502643049379, 1.2015167791109795, -0.27836722809734166, 1.0153666305994116, 1.4738945865609736, -2.968119177361254, -0.5513376320465491]}],                        {\"legend\": {\"bgcolor\": \"#F5F6F9\", \"font\": {\"color\": \"#4D5663\"}}, \"paper_bgcolor\": \"#F5F6F9\", \"plot_bgcolor\": \"#F5F6F9\", \"template\": {\"data\": {\"bar\": [{\"error_x\": {\"color\": \"#2a3f5f\"}, \"error_y\": {\"color\": \"#2a3f5f\"}, \"marker\": {\"line\": {\"color\": \"#E5ECF6\", \"width\": 0.5}}, \"type\": \"bar\"}], \"barpolar\": [{\"marker\": {\"line\": {\"color\": \"#E5ECF6\", \"width\": 0.5}}, \"type\": \"barpolar\"}], \"carpet\": [{\"aaxis\": {\"endlinecolor\": \"#2a3f5f\", \"gridcolor\": \"white\", \"linecolor\": \"white\", \"minorgridcolor\": \"white\", \"startlinecolor\": \"#2a3f5f\"}, \"baxis\": {\"endlinecolor\": \"#2a3f5f\", \"gridcolor\": \"white\", \"linecolor\": \"white\", \"minorgridcolor\": \"white\", \"startlinecolor\": \"#2a3f5f\"}, \"type\": \"carpet\"}], \"choropleth\": [{\"colorbar\": {\"outlinewidth\": 0, \"ticks\": \"\"}, \"type\": \"choropleth\"}], \"contour\": [{\"colorbar\": {\"outlinewidth\": 0, \"ticks\": \"\"}, \"colorscale\": [[0.0, \"#0d0887\"], [0.1111111111111111, \"#46039f\"], [0.2222222222222222, \"#7201a8\"], [0.3333333333333333, \"#9c179e\"], [0.4444444444444444, \"#bd3786\"], [0.5555555555555556, \"#d8576b\"], [0.6666666666666666, \"#ed7953\"], [0.7777777777777778, \"#fb9f3a\"], [0.8888888888888888, \"#fdca26\"], [1.0, \"#f0f921\"]], \"type\": \"contour\"}], \"contourcarpet\": [{\"colorbar\": {\"outlinewidth\": 0, \"ticks\": \"\"}, \"type\": \"contourcarpet\"}], \"heatmap\": [{\"colorbar\": {\"outlinewidth\": 0, \"ticks\": \"\"}, \"colorscale\": [[0.0, \"#0d0887\"], [0.1111111111111111, \"#46039f\"], [0.2222222222222222, \"#7201a8\"], [0.3333333333333333, \"#9c179e\"], [0.4444444444444444, \"#bd3786\"], [0.5555555555555556, \"#d8576b\"], [0.6666666666666666, \"#ed7953\"], [0.7777777777777778, \"#fb9f3a\"], [0.8888888888888888, \"#fdca26\"], [1.0, \"#f0f921\"]], \"type\": \"heatmap\"}], \"heatmapgl\": [{\"colorbar\": {\"outlinewidth\": 0, \"ticks\": \"\"}, \"colorscale\": [[0.0, \"#0d0887\"], [0.1111111111111111, \"#46039f\"], [0.2222222222222222, \"#7201a8\"], [0.3333333333333333, \"#9c179e\"], [0.4444444444444444, \"#bd3786\"], [0.5555555555555556, \"#d8576b\"], [0.6666666666666666, \"#ed7953\"], [0.7777777777777778, \"#fb9f3a\"], [0.8888888888888888, \"#fdca26\"], [1.0, \"#f0f921\"]], \"type\": \"heatmapgl\"}], \"histogram\": [{\"marker\": {\"colorbar\": {\"outlinewidth\": 0, \"ticks\": \"\"}}, \"type\": \"histogram\"}], \"histogram2d\": [{\"colorbar\": {\"outlinewidth\": 0, \"ticks\": \"\"}, \"colorscale\": [[0.0, \"#0d0887\"], [0.1111111111111111, \"#46039f\"], [0.2222222222222222, \"#7201a8\"], [0.3333333333333333, \"#9c179e\"], [0.4444444444444444, \"#bd3786\"], [0.5555555555555556, \"#d8576b\"], [0.6666666666666666, \"#ed7953\"], [0.7777777777777778, \"#fb9f3a\"], [0.8888888888888888, \"#fdca26\"], [1.0, \"#f0f921\"]], \"type\": \"histogram2d\"}], \"histogram2dcontour\": [{\"colorbar\": {\"outlinewidth\": 0, \"ticks\": \"\"}, \"colorscale\": [[0.0, \"#0d0887\"], [0.1111111111111111, \"#46039f\"], [0.2222222222222222, \"#7201a8\"], [0.3333333333333333, \"#9c179e\"], [0.4444444444444444, \"#bd3786\"], [0.5555555555555556, \"#d8576b\"], [0.6666666666666666, \"#ed7953\"], [0.7777777777777778, \"#fb9f3a\"], [0.8888888888888888, \"#fdca26\"], [1.0, \"#f0f921\"]], \"type\": \"histogram2dcontour\"}], \"mesh3d\": [{\"colorbar\": {\"outlinewidth\": 0, \"ticks\": \"\"}, \"type\": \"mesh3d\"}], \"parcoords\": [{\"line\": {\"colorbar\": {\"outlinewidth\": 0, \"ticks\": \"\"}}, \"type\": \"parcoords\"}], \"pie\": [{\"automargin\": true, \"type\": \"pie\"}], \"scatter\": [{\"marker\": {\"colorbar\": {\"outlinewidth\": 0, \"ticks\": \"\"}}, \"type\": \"scatter\"}], \"scatter3d\": [{\"line\": {\"colorbar\": {\"outlinewidth\": 0, \"ticks\": \"\"}}, \"marker\": {\"colorbar\": {\"outlinewidth\": 0, \"ticks\": \"\"}}, \"type\": \"scatter3d\"}], \"scattercarpet\": [{\"marker\": {\"colorbar\": {\"outlinewidth\": 0, \"ticks\": \"\"}}, \"type\": \"scattercarpet\"}], \"scattergeo\": [{\"marker\": {\"colorbar\": {\"outlinewidth\": 0, \"ticks\": \"\"}}, \"type\": \"scattergeo\"}], \"scattergl\": [{\"marker\": {\"colorbar\": {\"outlinewidth\": 0, \"ticks\": \"\"}}, \"type\": \"scattergl\"}], \"scattermapbox\": [{\"marker\": {\"colorbar\": {\"outlinewidth\": 0, \"ticks\": \"\"}}, \"type\": \"scattermapbox\"}], \"scatterpolar\": [{\"marker\": {\"colorbar\": {\"outlinewidth\": 0, \"ticks\": \"\"}}, \"type\": \"scatterpolar\"}], \"scatterpolargl\": [{\"marker\": {\"colorbar\": {\"outlinewidth\": 0, \"ticks\": \"\"}}, \"type\": \"scatterpolargl\"}], \"scatterternary\": [{\"marker\": {\"colorbar\": {\"outlinewidth\": 0, \"ticks\": \"\"}}, \"type\": \"scatterternary\"}], \"surface\": [{\"colorbar\": {\"outlinewidth\": 0, \"ticks\": \"\"}, \"colorscale\": [[0.0, \"#0d0887\"], [0.1111111111111111, \"#46039f\"], [0.2222222222222222, \"#7201a8\"], [0.3333333333333333, \"#9c179e\"], [0.4444444444444444, \"#bd3786\"], [0.5555555555555556, \"#d8576b\"], [0.6666666666666666, \"#ed7953\"], [0.7777777777777778, \"#fb9f3a\"], [0.8888888888888888, \"#fdca26\"], [1.0, \"#f0f921\"]], \"type\": \"surface\"}], \"table\": [{\"cells\": {\"fill\": {\"color\": \"#EBF0F8\"}, \"line\": {\"color\": \"white\"}}, \"header\": {\"fill\": {\"color\": \"#C8D4E3\"}, \"line\": {\"color\": \"white\"}}, \"type\": \"table\"}]}, \"layout\": {\"annotationdefaults\": {\"arrowcolor\": \"#2a3f5f\", \"arrowhead\": 0, \"arrowwidth\": 1}, \"coloraxis\": {\"colorbar\": {\"outlinewidth\": 0, \"ticks\": \"\"}}, \"colorscale\": {\"diverging\": [[0, \"#8e0152\"], [0.1, \"#c51b7d\"], [0.2, \"#de77ae\"], [0.3, \"#f1b6da\"], [0.4, \"#fde0ef\"], [0.5, \"#f7f7f7\"], [0.6, \"#e6f5d0\"], [0.7, \"#b8e186\"], [0.8, \"#7fbc41\"], [0.9, \"#4d9221\"], [1, \"#276419\"]], \"sequential\": [[0.0, \"#0d0887\"], [0.1111111111111111, \"#46039f\"], [0.2222222222222222, \"#7201a8\"], [0.3333333333333333, \"#9c179e\"], [0.4444444444444444, \"#bd3786\"], [0.5555555555555556, \"#d8576b\"], [0.6666666666666666, \"#ed7953\"], [0.7777777777777778, \"#fb9f3a\"], [0.8888888888888888, \"#fdca26\"], [1.0, \"#f0f921\"]], \"sequentialminus\": [[0.0, \"#0d0887\"], [0.1111111111111111, \"#46039f\"], [0.2222222222222222, \"#7201a8\"], [0.3333333333333333, \"#9c179e\"], [0.4444444444444444, \"#bd3786\"], [0.5555555555555556, \"#d8576b\"], [0.6666666666666666, \"#ed7953\"], [0.7777777777777778, \"#fb9f3a\"], [0.8888888888888888, \"#fdca26\"], [1.0, \"#f0f921\"]]}, \"colorway\": [\"#636efa\", \"#EF553B\", \"#00cc96\", \"#ab63fa\", \"#FFA15A\", \"#19d3f3\", \"#FF6692\", \"#B6E880\", \"#FF97FF\", \"#FECB52\"], \"font\": {\"color\": \"#2a3f5f\"}, \"geo\": {\"bgcolor\": \"white\", \"lakecolor\": \"white\", \"landcolor\": \"#E5ECF6\", \"showlakes\": true, \"showland\": true, \"subunitcolor\": \"white\"}, \"hoverlabel\": {\"align\": \"left\"}, \"hovermode\": \"closest\", \"mapbox\": {\"style\": \"light\"}, \"paper_bgcolor\": \"white\", \"plot_bgcolor\": \"#E5ECF6\", \"polar\": {\"angularaxis\": {\"gridcolor\": \"white\", \"linecolor\": \"white\", \"ticks\": \"\"}, \"bgcolor\": \"#E5ECF6\", \"radialaxis\": {\"gridcolor\": \"white\", \"linecolor\": \"white\", \"ticks\": \"\"}}, \"scene\": {\"xaxis\": {\"backgroundcolor\": \"#E5ECF6\", \"gridcolor\": \"white\", \"gridwidth\": 2, \"linecolor\": \"white\", \"showbackground\": true, \"ticks\": \"\", \"zerolinecolor\": \"white\"}, \"yaxis\": {\"backgroundcolor\": \"#E5ECF6\", \"gridcolor\": \"white\", \"gridwidth\": 2, \"linecolor\": \"white\", \"showbackground\": true, \"ticks\": \"\", \"zerolinecolor\": \"white\"}, \"zaxis\": {\"backgroundcolor\": \"#E5ECF6\", \"gridcolor\": \"white\", \"gridwidth\": 2, \"linecolor\": \"white\", \"showbackground\": true, \"ticks\": \"\", \"zerolinecolor\": \"white\"}}, \"shapedefaults\": {\"line\": {\"color\": \"#2a3f5f\"}}, \"ternary\": {\"aaxis\": {\"gridcolor\": \"white\", \"linecolor\": \"white\", \"ticks\": \"\"}, \"baxis\": {\"gridcolor\": \"white\", \"linecolor\": \"white\", \"ticks\": \"\"}, \"bgcolor\": \"#E5ECF6\", \"caxis\": {\"gridcolor\": \"white\", \"linecolor\": \"white\", \"ticks\": \"\"}}, \"title\": {\"x\": 0.05}, \"xaxis\": {\"automargin\": true, \"gridcolor\": \"white\", \"linecolor\": \"white\", \"ticks\": \"\", \"title\": {\"standoff\": 15}, \"zerolinecolor\": \"white\", \"zerolinewidth\": 2}, \"yaxis\": {\"automargin\": true, \"gridcolor\": \"white\", \"linecolor\": \"white\", \"ticks\": \"\", \"title\": {\"standoff\": 15}, \"zerolinecolor\": \"white\", \"zerolinewidth\": 2}}}, \"title\": {\"font\": {\"color\": \"#4D5663\"}}, \"xaxis\": {\"gridcolor\": \"#E1E5ED\", \"showgrid\": true, \"tickfont\": {\"color\": \"#4D5663\"}, \"title\": {\"font\": {\"color\": \"#4D5663\"}, \"text\": \"\"}, \"zerolinecolor\": \"#E1E5ED\"}, \"yaxis\": {\"gridcolor\": \"#E1E5ED\", \"showgrid\": true, \"tickfont\": {\"color\": \"#4D5663\"}, \"title\": {\"font\": {\"color\": \"#4D5663\"}, \"text\": \"\"}, \"zerolinecolor\": \"#E1E5ED\"}},                        {\"showLink\": true, \"linkText\": \"Export to plot.ly\", \"plotlyServerURL\": \"https://plot.ly\", \"responsive\": true}                    ).then(function(){\n",
       "                            \n",
       "var gd = document.getElementById('c5809c45-5d85-4ede-97a5-866b9d0d68b2');\n",
       "var x = new MutationObserver(function (mutations, observer) {{\n",
       "        var display = window.getComputedStyle(gd).display;\n",
       "        if (!display || display === 'none') {{\n",
       "            console.log([gd, 'removed!']);\n",
       "            Plotly.purge(gd);\n",
       "            observer.disconnect();\n",
       "        }}\n",
       "}});\n",
       "\n",
       "// Listen for the removal of the full notebook cells\n",
       "var notebookContainer = gd.closest('#notebook-container');\n",
       "if (notebookContainer) {{\n",
       "    x.observe(notebookContainer, {childList: true});\n",
       "}}\n",
       "\n",
       "// Listen for the clearing of the current output cell\n",
       "var outputEl = gd.closest('.output');\n",
       "if (outputEl) {{\n",
       "    x.observe(outputEl, {childList: true});\n",
       "}}\n",
       "\n",
       "                        })                };                });            </script>        </div>"
      ]
     },
     "metadata": {},
     "output_type": "display_data"
    }
   ],
   "source": [
    "fake_df.iplot(kind='scatter')"
   ]
  },
  {
   "cell_type": "markdown",
   "metadata": {},
   "source": [
    "# Scatter_Matrix"
   ]
  },
  {
   "cell_type": "code",
   "execution_count": 32,
   "metadata": {},
   "outputs": [
    {
     "data": {
      "application/vnd.plotly.v1+json": {
       "config": {
        "linkText": "Export to plot.ly",
        "plotlyServerURL": "https://plot.ly",
        "showLink": true
       },
       "data": [
        {
         "histfunc": "count",
         "histnorm": "",
         "marker": {
          "color": "rgba(255, 153, 51, 1.0)",
          "line": {
           "color": "#4D5663",
           "width": 1.3
          }
         },
         "name": "A",
         "nbinsx": 10,
         "opacity": 0.8,
         "orientation": "v",
         "type": "histogram",
         "x": [
          0.5176590531969488,
          0.2611900186917925,
          -2.0770443227929434,
          0.4376128613752404,
          -0.7972765755299147,
          -0.9781925854562078,
          0.021787211156948774,
          -1.8227103978927501,
          1.7661994574612905,
          0.6140684305177554,
          -0.10348408002873685,
          -0.005438269546051754,
          0.14564690286116566,
          -1.6019204582868,
          0.36412650919654904,
          1.8933456811942735,
          0.5580880070310005,
          -1.6721324428771815,
          -0.7640725461546174,
          -0.01743915243591418,
          0.6748540001753083,
          0.7920643030147945,
          -0.8170164432005932,
          -0.40348005188696673,
          0.6539188908047413,
          -0.12400523728931026,
          1.4032160617444647,
          -0.5827443655439306,
          1.1703201043257259,
          -1.3220783976434485,
          0.27017141466012873,
          1.130033689636446,
          -0.19781497959524116,
          0.9146218319990627,
          0.6788744017706305,
          0.7263896841237812,
          -0.4270625982491659,
          1.7771258173188988,
          1.7255189854877893,
          0.10071803173376356,
          0.5584259746959217,
          -0.35980148623036257,
          0.27320206594699464,
          -0.9058148329762855,
          0.6655637328672925,
          0.737591189163516,
          0.42918978634587096,
          -0.667396753774752,
          0.33121038394063146,
          -0.38186248928384686,
          0.4080848294364657,
          1.7446010964370207,
          2.7769588024238145,
          -0.0500309548669025,
          0.1734318857601251,
          -0.560498934672177,
          0.0615027213603778,
          -0.5563384887782385,
          0.6872170531367844,
          1.3085125570269542,
          0.8658386492120068,
          -0.41384192152811716,
          -0.5748894712834556,
          -0.046030262702725415,
          -0.7834661261224901,
          0.33669600457694904,
          0.5649402937564677,
          0.7412011360451405,
          0.03744861967029218,
          -0.31441728987996154,
          0.12757226281435682,
          1.4278042432171743,
          -0.10084618653539616,
          0.44337571123088204,
          0.639743871777665,
          0.05751155640936568,
          0.5562572498216152,
          -0.1992962817147566,
          1.777203558993544,
          0.3884239255669419,
          0.5974152051587482,
          -2.336551059610256,
          0.37178139089325507,
          -0.6083978716388516,
          1.4014589342993968,
          -0.707138581612621,
          -0.15707032363071047,
          -0.599796745012966,
          -0.5280305545087325,
          0.13617931710002912,
          0.20729333459661806,
          0.9195443365275761,
          -1.3027488740641358,
          -0.22063075065637314,
          -0.9410102187865621,
          -0.889314187063548,
          1.0927712482439207,
          0.42244762596411395,
          0.23878587815304225,
          -1.5437470888769478
         ],
         "xaxis": "x",
         "yaxis": "y"
        },
        {
         "line": {
          "color": "rgba(128, 128, 128, 1.0)",
          "dash": "solid",
          "shape": "linear",
          "width": 1.3
         },
         "marker": {
          "size": 2,
          "symbol": "circle"
         },
         "mode": "markers",
         "name": "A",
         "text": "",
         "type": "scatter",
         "x": [
          -2.062328018719915,
          0.8786899411904887,
          1.1874249981439793,
          0.620421760886563,
          1.8246664737333786,
          -0.5685579142811606,
          0.3088839923239217,
          -1.0084687897342672,
          2.0771684696654575,
          1.7617473144705262,
          0.5218737819883743,
          1.216892180797244,
          -0.6847447329719094,
          0.826588825933059,
          2.6200333634388415,
          2.027364798276653,
          0.46666153606323296,
          0.6321266035330925,
          0.10354350260081757,
          -1.4589818998144466,
          1.0316131049729904,
          -0.4343505887332764,
          0.15860458063757982,
          0.41074091507419974,
          1.438825016119307,
          0.25298155971555386,
          0.46729325225147283,
          0.2936712849184672,
          -1.2348037110121215,
          -0.10345781303290143,
          -0.012482275553756294,
          -0.4475322156922826,
          -1.1414119122054063,
          1.6628239176950863,
          1.7068757940201402,
          -0.6201760521654056,
          1.4276529258902466,
          1.443110863145192,
          -0.0025796355047607586,
          -0.2837037736078109,
          -0.1487082196497076,
          2.4894492822509338,
          1.852621410994538,
          0.8612759018913871,
          0.8478792360988995,
          0.5229295789614508,
          0.1098334359498861,
          0.2612972220104098,
          -1.792210724907832,
          -0.3742743391106684,
          -1.4474845739003757,
          0.23369699704612115,
          -0.3998708578038428,
          -0.3238301112207704,
          -0.3638097440063624,
          0.7677830069036755,
          -0.9560266895216887,
          -1.2620487398743916,
          -0.03370315564410422,
          0.7163516147304333,
          -0.5732647969071828,
          0.07060724906093349,
          0.4459274755835238,
          0.650618412269321,
          -1.0244672632772345,
          -0.6681332442599868,
          -0.9722001914014322,
          0.45238929472010353,
          -2.8035768324235644,
          0.9014287430239033,
          1.319467095259805,
          0.814749966559747,
          -1.6194588318172127,
          1.810232824196542,
          -0.34028761466536867,
          -1.1591663343929903,
          -0.06465852470255785,
          1.7281846836066086,
          -0.8877610317705266,
          0.28713523914667666,
          0.2274495262561486,
          1.5675547163890926,
          0.01636233235734836,
          -0.46263266260882785,
          1.4710093187284892,
          2.008148901429391,
          -0.07354278241686084,
          0.741500628831564,
          -0.29140165890473285,
          -0.4392997604281096,
          -0.4367500190228618,
          2.0212482820418307,
          0.3225503619977586,
          1.6557249579245188,
          -1.2396003969104676,
          0.9414280160172462,
          1.5208718204530265,
          0.43530949652827217,
          0.9965272851620621,
          -0.3126121992418231
         ],
         "xaxis": "x2",
         "y": [
          0.5176590531969488,
          0.2611900186917925,
          -2.0770443227929434,
          0.4376128613752404,
          -0.7972765755299147,
          -0.9781925854562078,
          0.021787211156948774,
          -1.8227103978927501,
          1.7661994574612905,
          0.6140684305177554,
          -0.10348408002873685,
          -0.005438269546051754,
          0.14564690286116566,
          -1.6019204582868,
          0.36412650919654904,
          1.8933456811942735,
          0.5580880070310005,
          -1.6721324428771815,
          -0.7640725461546174,
          -0.01743915243591418,
          0.6748540001753083,
          0.7920643030147945,
          -0.8170164432005932,
          -0.40348005188696673,
          0.6539188908047413,
          -0.12400523728931026,
          1.4032160617444647,
          -0.5827443655439306,
          1.1703201043257259,
          -1.3220783976434485,
          0.27017141466012873,
          1.130033689636446,
          -0.19781497959524116,
          0.9146218319990627,
          0.6788744017706305,
          0.7263896841237812,
          -0.4270625982491659,
          1.7771258173188988,
          1.7255189854877893,
          0.10071803173376356,
          0.5584259746959217,
          -0.35980148623036257,
          0.27320206594699464,
          -0.9058148329762855,
          0.6655637328672925,
          0.737591189163516,
          0.42918978634587096,
          -0.667396753774752,
          0.33121038394063146,
          -0.38186248928384686,
          0.4080848294364657,
          1.7446010964370207,
          2.7769588024238145,
          -0.0500309548669025,
          0.1734318857601251,
          -0.560498934672177,
          0.0615027213603778,
          -0.5563384887782385,
          0.6872170531367844,
          1.3085125570269542,
          0.8658386492120068,
          -0.41384192152811716,
          -0.5748894712834556,
          -0.046030262702725415,
          -0.7834661261224901,
          0.33669600457694904,
          0.5649402937564677,
          0.7412011360451405,
          0.03744861967029218,
          -0.31441728987996154,
          0.12757226281435682,
          1.4278042432171743,
          -0.10084618653539616,
          0.44337571123088204,
          0.639743871777665,
          0.05751155640936568,
          0.5562572498216152,
          -0.1992962817147566,
          1.777203558993544,
          0.3884239255669419,
          0.5974152051587482,
          -2.336551059610256,
          0.37178139089325507,
          -0.6083978716388516,
          1.4014589342993968,
          -0.707138581612621,
          -0.15707032363071047,
          -0.599796745012966,
          -0.5280305545087325,
          0.13617931710002912,
          0.20729333459661806,
          0.9195443365275761,
          -1.3027488740641358,
          -0.22063075065637314,
          -0.9410102187865621,
          -0.889314187063548,
          1.0927712482439207,
          0.42244762596411395,
          0.23878587815304225,
          -1.5437470888769478
         ],
         "yaxis": "y2"
        },
        {
         "line": {
          "color": "rgba(128, 128, 128, 1.0)",
          "dash": "solid",
          "shape": "linear",
          "width": 1.3
         },
         "marker": {
          "size": 2,
          "symbol": "circle"
         },
         "mode": "markers",
         "name": "A",
         "text": "",
         "type": "scatter",
         "x": [
          -0.48727860918233845,
          -0.5282876554663558,
          -0.27209616600687514,
          0.4447395054648122,
          -1.4147182032605394,
          -2.001545536032162,
          -0.8139050768749961,
          -0.08415540958256855,
          0.16335269253475443,
          0.22192531594078874,
          -0.7465145927699801,
          1.2382381928715527,
          0.399710364052061,
          -0.5556296232435419,
          0.10523112078869563,
          1.1075848231005008,
          -1.0158005159433114,
          -0.7596710471859048,
          -1.452844043355656,
          -1.3915239186957886,
          -0.8097881708806685,
          -1.0178370496865219,
          -0.44637160508025686,
          1.6132859180573627,
          0.17565726818527774,
          -0.33876503846131806,
          0.022724720511940365,
          1.6098888151291977,
          -0.5402897665187559,
          -0.3554593958944142,
          2.3165434218398167,
          -0.41160881523191234,
          0.166116246324514,
          1.459866207392856,
          -0.6317076246014489,
          0.19800936578443315,
          1.378637346836652,
          0.10374326247746794,
          -0.6413361770585316,
          0.11458583231732682,
          0.9599041243565135,
          -1.5723371667133335,
          -0.4664639112913684,
          -1.6394106572834544,
          0.1467652757537728,
          0.8728649133790104,
          1.7307337730148245,
          0.368431840278857,
          -0.5755407970147597,
          -0.31202607964170215,
          0.8709887287203207,
          1.8961004612187617,
          0.3728939052783495,
          -0.9531482486755148,
          -0.11332309514039031,
          0.6422017191643308,
          -0.5197642814954431,
          1.147175223621175,
          0.5733264065122081,
          1.65480807517257,
          -0.6849922967207143,
          0.18479013520102885,
          -0.6447413089856846,
          0.22400894574406588,
          0.16538156131413714,
          0.16441194950459131,
          0.21669332906532554,
          0.4813508678379441,
          0.9699696772792914,
          -1.1665459251264292,
          1.2076075393271433,
          0.29368548555331,
          1.4642308467104312,
          -0.7069728908570257,
          0.4013650329273782,
          -0.18230132007368946,
          -0.2885258866502022,
          -0.39336355208417584,
          -0.23959986433443717,
          -1.2923231501205141,
          2.2994227658303097,
          -0.9263893110196699,
          0.15646208823728108,
          -0.15706175886400028,
          0.7763084460606078,
          -1.2724470509423125,
          -0.26750777327402353,
          1.3719350763740965,
          -0.7472787619207025,
          0.22924825934807877,
          -0.7087814295431368,
          0.036516810427891414,
          0.17659439595002455,
          0.6481653101242475,
          -1.3438934309126367,
          1.73178952168849,
          -0.5693855683705377,
          0.7592866846464033,
          -0.0932190500533003,
          0.2806141883330818
         ],
         "xaxis": "x3",
         "y": [
          0.5176590531969488,
          0.2611900186917925,
          -2.0770443227929434,
          0.4376128613752404,
          -0.7972765755299147,
          -0.9781925854562078,
          0.021787211156948774,
          -1.8227103978927501,
          1.7661994574612905,
          0.6140684305177554,
          -0.10348408002873685,
          -0.005438269546051754,
          0.14564690286116566,
          -1.6019204582868,
          0.36412650919654904,
          1.8933456811942735,
          0.5580880070310005,
          -1.6721324428771815,
          -0.7640725461546174,
          -0.01743915243591418,
          0.6748540001753083,
          0.7920643030147945,
          -0.8170164432005932,
          -0.40348005188696673,
          0.6539188908047413,
          -0.12400523728931026,
          1.4032160617444647,
          -0.5827443655439306,
          1.1703201043257259,
          -1.3220783976434485,
          0.27017141466012873,
          1.130033689636446,
          -0.19781497959524116,
          0.9146218319990627,
          0.6788744017706305,
          0.7263896841237812,
          -0.4270625982491659,
          1.7771258173188988,
          1.7255189854877893,
          0.10071803173376356,
          0.5584259746959217,
          -0.35980148623036257,
          0.27320206594699464,
          -0.9058148329762855,
          0.6655637328672925,
          0.737591189163516,
          0.42918978634587096,
          -0.667396753774752,
          0.33121038394063146,
          -0.38186248928384686,
          0.4080848294364657,
          1.7446010964370207,
          2.7769588024238145,
          -0.0500309548669025,
          0.1734318857601251,
          -0.560498934672177,
          0.0615027213603778,
          -0.5563384887782385,
          0.6872170531367844,
          1.3085125570269542,
          0.8658386492120068,
          -0.41384192152811716,
          -0.5748894712834556,
          -0.046030262702725415,
          -0.7834661261224901,
          0.33669600457694904,
          0.5649402937564677,
          0.7412011360451405,
          0.03744861967029218,
          -0.31441728987996154,
          0.12757226281435682,
          1.4278042432171743,
          -0.10084618653539616,
          0.44337571123088204,
          0.639743871777665,
          0.05751155640936568,
          0.5562572498216152,
          -0.1992962817147566,
          1.777203558993544,
          0.3884239255669419,
          0.5974152051587482,
          -2.336551059610256,
          0.37178139089325507,
          -0.6083978716388516,
          1.4014589342993968,
          -0.707138581612621,
          -0.15707032363071047,
          -0.599796745012966,
          -0.5280305545087325,
          0.13617931710002912,
          0.20729333459661806,
          0.9195443365275761,
          -1.3027488740641358,
          -0.22063075065637314,
          -0.9410102187865621,
          -0.889314187063548,
          1.0927712482439207,
          0.42244762596411395,
          0.23878587815304225,
          -1.5437470888769478
         ],
         "yaxis": "y3"
        },
        {
         "line": {
          "color": "rgba(128, 128, 128, 1.0)",
          "dash": "solid",
          "shape": "linear",
          "width": 1.3
         },
         "marker": {
          "size": 2,
          "symbol": "circle"
         },
         "mode": "markers",
         "name": "A",
         "text": "",
         "type": "scatter",
         "x": [
          0.008652614534942028,
          -0.7949614463548819,
          1.0280042026477036,
          0.8164424740301507,
          0.617727507928314,
          0.15222624393647677,
          1.2859841750205485,
          0.409151171250876,
          -0.6648903490713879,
          0.188280991573493,
          1.7361962451553843,
          0.1292603721639433,
          -1.0746782055634203,
          0.6679863781746483,
          0.2986849379544349,
          -1.2972181834227539,
          0.7234912586140759,
          -1.9871127363581325,
          1.4820943021722468,
          -1.6201531167299896,
          0.667857279595324,
          -1.382531979907316,
          1.1859347449849038,
          -0.42387907178714945,
          0.12645368517089497,
          0.09773820388292274,
          0.6400915462748148,
          0.5104472462638728,
          -0.6806357061741313,
          -0.5150359137758567,
          0.2994526122925929,
          1.5384351485364862,
          -0.3202795354719194,
          -0.19414487250516232,
          -0.21125034780522955,
          1.8555070729023406,
          -0.09338720531514051,
          0.11637535712167411,
          1.49784256052569,
          0.06007444341741698,
          -0.2476782556349282,
          -0.012592927738989842,
          -0.8491035964374101,
          -0.26595759374177486,
          1.1697726986691868,
          0.20333218176749726,
          -0.14393716301640563,
          2.319931703106863,
          0.9738955651766313,
          -0.50053166966656,
          -0.8319540887003886,
          1.26595252565857,
          -0.23641298872202157,
          0.5086954674046928,
          -0.2483971567913297,
          1.5100730208969315,
          0.5002961203486755,
          -0.25574688195411244,
          -0.7467671094006217,
          -0.4189497570766799,
          0.5730461597508703,
          -1.431726732049285,
          -0.9259418636873402,
          0.6274563842867187,
          2.0458204822291437,
          1.2316742901491164,
          -0.43220019448124075,
          0.7077020854027325,
          -1.5853859789697726,
          0.4807179359635406,
          -1.3024623926698402,
          1.6896361218890077,
          2.4627513735028703,
          -0.1677764434855635,
          -0.03935738533338876,
          -1.053561193566943,
          1.3906932780856869,
          0.5695467751425498,
          0.22699250074578836,
          0.9967394933539656,
          0.9245994498217607,
          -0.7341404619357271,
          0.709895521454746,
          0.7712935319432523,
          0.10577149268713595,
          0.7011702661369695,
          -0.7437745832610808,
          0.40193837133621413,
          -0.03408182487082432,
          0.4684774592219555,
          0.4818913373936253,
          2.094699024132364,
          0.3382887195118553,
          0.08293502643049379,
          1.2015167791109795,
          -0.27836722809734166,
          1.0153666305994116,
          1.4738945865609736,
          -2.968119177361254,
          -0.5513376320465491
         ],
         "xaxis": "x4",
         "y": [
          0.5176590531969488,
          0.2611900186917925,
          -2.0770443227929434,
          0.4376128613752404,
          -0.7972765755299147,
          -0.9781925854562078,
          0.021787211156948774,
          -1.8227103978927501,
          1.7661994574612905,
          0.6140684305177554,
          -0.10348408002873685,
          -0.005438269546051754,
          0.14564690286116566,
          -1.6019204582868,
          0.36412650919654904,
          1.8933456811942735,
          0.5580880070310005,
          -1.6721324428771815,
          -0.7640725461546174,
          -0.01743915243591418,
          0.6748540001753083,
          0.7920643030147945,
          -0.8170164432005932,
          -0.40348005188696673,
          0.6539188908047413,
          -0.12400523728931026,
          1.4032160617444647,
          -0.5827443655439306,
          1.1703201043257259,
          -1.3220783976434485,
          0.27017141466012873,
          1.130033689636446,
          -0.19781497959524116,
          0.9146218319990627,
          0.6788744017706305,
          0.7263896841237812,
          -0.4270625982491659,
          1.7771258173188988,
          1.7255189854877893,
          0.10071803173376356,
          0.5584259746959217,
          -0.35980148623036257,
          0.27320206594699464,
          -0.9058148329762855,
          0.6655637328672925,
          0.737591189163516,
          0.42918978634587096,
          -0.667396753774752,
          0.33121038394063146,
          -0.38186248928384686,
          0.4080848294364657,
          1.7446010964370207,
          2.7769588024238145,
          -0.0500309548669025,
          0.1734318857601251,
          -0.560498934672177,
          0.0615027213603778,
          -0.5563384887782385,
          0.6872170531367844,
          1.3085125570269542,
          0.8658386492120068,
          -0.41384192152811716,
          -0.5748894712834556,
          -0.046030262702725415,
          -0.7834661261224901,
          0.33669600457694904,
          0.5649402937564677,
          0.7412011360451405,
          0.03744861967029218,
          -0.31441728987996154,
          0.12757226281435682,
          1.4278042432171743,
          -0.10084618653539616,
          0.44337571123088204,
          0.639743871777665,
          0.05751155640936568,
          0.5562572498216152,
          -0.1992962817147566,
          1.777203558993544,
          0.3884239255669419,
          0.5974152051587482,
          -2.336551059610256,
          0.37178139089325507,
          -0.6083978716388516,
          1.4014589342993968,
          -0.707138581612621,
          -0.15707032363071047,
          -0.599796745012966,
          -0.5280305545087325,
          0.13617931710002912,
          0.20729333459661806,
          0.9195443365275761,
          -1.3027488740641358,
          -0.22063075065637314,
          -0.9410102187865621,
          -0.889314187063548,
          1.0927712482439207,
          0.42244762596411395,
          0.23878587815304225,
          -1.5437470888769478
         ],
         "yaxis": "y4"
        },
        {
         "line": {
          "color": "rgba(128, 128, 128, 1.0)",
          "dash": "solid",
          "shape": "linear",
          "width": 1.3
         },
         "marker": {
          "size": 2,
          "symbol": "circle"
         },
         "mode": "markers",
         "name": "B",
         "text": "",
         "type": "scatter",
         "x": [
          0.5176590531969488,
          0.2611900186917925,
          -2.0770443227929434,
          0.4376128613752404,
          -0.7972765755299147,
          -0.9781925854562078,
          0.021787211156948774,
          -1.8227103978927501,
          1.7661994574612905,
          0.6140684305177554,
          -0.10348408002873685,
          -0.005438269546051754,
          0.14564690286116566,
          -1.6019204582868,
          0.36412650919654904,
          1.8933456811942735,
          0.5580880070310005,
          -1.6721324428771815,
          -0.7640725461546174,
          -0.01743915243591418,
          0.6748540001753083,
          0.7920643030147945,
          -0.8170164432005932,
          -0.40348005188696673,
          0.6539188908047413,
          -0.12400523728931026,
          1.4032160617444647,
          -0.5827443655439306,
          1.1703201043257259,
          -1.3220783976434485,
          0.27017141466012873,
          1.130033689636446,
          -0.19781497959524116,
          0.9146218319990627,
          0.6788744017706305,
          0.7263896841237812,
          -0.4270625982491659,
          1.7771258173188988,
          1.7255189854877893,
          0.10071803173376356,
          0.5584259746959217,
          -0.35980148623036257,
          0.27320206594699464,
          -0.9058148329762855,
          0.6655637328672925,
          0.737591189163516,
          0.42918978634587096,
          -0.667396753774752,
          0.33121038394063146,
          -0.38186248928384686,
          0.4080848294364657,
          1.7446010964370207,
          2.7769588024238145,
          -0.0500309548669025,
          0.1734318857601251,
          -0.560498934672177,
          0.0615027213603778,
          -0.5563384887782385,
          0.6872170531367844,
          1.3085125570269542,
          0.8658386492120068,
          -0.41384192152811716,
          -0.5748894712834556,
          -0.046030262702725415,
          -0.7834661261224901,
          0.33669600457694904,
          0.5649402937564677,
          0.7412011360451405,
          0.03744861967029218,
          -0.31441728987996154,
          0.12757226281435682,
          1.4278042432171743,
          -0.10084618653539616,
          0.44337571123088204,
          0.639743871777665,
          0.05751155640936568,
          0.5562572498216152,
          -0.1992962817147566,
          1.777203558993544,
          0.3884239255669419,
          0.5974152051587482,
          -2.336551059610256,
          0.37178139089325507,
          -0.6083978716388516,
          1.4014589342993968,
          -0.707138581612621,
          -0.15707032363071047,
          -0.599796745012966,
          -0.5280305545087325,
          0.13617931710002912,
          0.20729333459661806,
          0.9195443365275761,
          -1.3027488740641358,
          -0.22063075065637314,
          -0.9410102187865621,
          -0.889314187063548,
          1.0927712482439207,
          0.42244762596411395,
          0.23878587815304225,
          -1.5437470888769478
         ],
         "xaxis": "x5",
         "y": [
          -2.062328018719915,
          0.8786899411904887,
          1.1874249981439793,
          0.620421760886563,
          1.8246664737333786,
          -0.5685579142811606,
          0.3088839923239217,
          -1.0084687897342672,
          2.0771684696654575,
          1.7617473144705262,
          0.5218737819883743,
          1.216892180797244,
          -0.6847447329719094,
          0.826588825933059,
          2.6200333634388415,
          2.027364798276653,
          0.46666153606323296,
          0.6321266035330925,
          0.10354350260081757,
          -1.4589818998144466,
          1.0316131049729904,
          -0.4343505887332764,
          0.15860458063757982,
          0.41074091507419974,
          1.438825016119307,
          0.25298155971555386,
          0.46729325225147283,
          0.2936712849184672,
          -1.2348037110121215,
          -0.10345781303290143,
          -0.012482275553756294,
          -0.4475322156922826,
          -1.1414119122054063,
          1.6628239176950863,
          1.7068757940201402,
          -0.6201760521654056,
          1.4276529258902466,
          1.443110863145192,
          -0.0025796355047607586,
          -0.2837037736078109,
          -0.1487082196497076,
          2.4894492822509338,
          1.852621410994538,
          0.8612759018913871,
          0.8478792360988995,
          0.5229295789614508,
          0.1098334359498861,
          0.2612972220104098,
          -1.792210724907832,
          -0.3742743391106684,
          -1.4474845739003757,
          0.23369699704612115,
          -0.3998708578038428,
          -0.3238301112207704,
          -0.3638097440063624,
          0.7677830069036755,
          -0.9560266895216887,
          -1.2620487398743916,
          -0.03370315564410422,
          0.7163516147304333,
          -0.5732647969071828,
          0.07060724906093349,
          0.4459274755835238,
          0.650618412269321,
          -1.0244672632772345,
          -0.6681332442599868,
          -0.9722001914014322,
          0.45238929472010353,
          -2.8035768324235644,
          0.9014287430239033,
          1.319467095259805,
          0.814749966559747,
          -1.6194588318172127,
          1.810232824196542,
          -0.34028761466536867,
          -1.1591663343929903,
          -0.06465852470255785,
          1.7281846836066086,
          -0.8877610317705266,
          0.28713523914667666,
          0.2274495262561486,
          1.5675547163890926,
          0.01636233235734836,
          -0.46263266260882785,
          1.4710093187284892,
          2.008148901429391,
          -0.07354278241686084,
          0.741500628831564,
          -0.29140165890473285,
          -0.4392997604281096,
          -0.4367500190228618,
          2.0212482820418307,
          0.3225503619977586,
          1.6557249579245188,
          -1.2396003969104676,
          0.9414280160172462,
          1.5208718204530265,
          0.43530949652827217,
          0.9965272851620621,
          -0.3126121992418231
         ],
         "yaxis": "y5"
        },
        {
         "histfunc": "count",
         "histnorm": "",
         "marker": {
          "color": "rgba(55, 128, 191, 1.0)",
          "line": {
           "color": "#4D5663",
           "width": 1.3
          }
         },
         "name": "B",
         "nbinsx": 10,
         "opacity": 0.8,
         "orientation": "v",
         "type": "histogram",
         "x": [
          -2.062328018719915,
          0.8786899411904887,
          1.1874249981439793,
          0.620421760886563,
          1.8246664737333786,
          -0.5685579142811606,
          0.3088839923239217,
          -1.0084687897342672,
          2.0771684696654575,
          1.7617473144705262,
          0.5218737819883743,
          1.216892180797244,
          -0.6847447329719094,
          0.826588825933059,
          2.6200333634388415,
          2.027364798276653,
          0.46666153606323296,
          0.6321266035330925,
          0.10354350260081757,
          -1.4589818998144466,
          1.0316131049729904,
          -0.4343505887332764,
          0.15860458063757982,
          0.41074091507419974,
          1.438825016119307,
          0.25298155971555386,
          0.46729325225147283,
          0.2936712849184672,
          -1.2348037110121215,
          -0.10345781303290143,
          -0.012482275553756294,
          -0.4475322156922826,
          -1.1414119122054063,
          1.6628239176950863,
          1.7068757940201402,
          -0.6201760521654056,
          1.4276529258902466,
          1.443110863145192,
          -0.0025796355047607586,
          -0.2837037736078109,
          -0.1487082196497076,
          2.4894492822509338,
          1.852621410994538,
          0.8612759018913871,
          0.8478792360988995,
          0.5229295789614508,
          0.1098334359498861,
          0.2612972220104098,
          -1.792210724907832,
          -0.3742743391106684,
          -1.4474845739003757,
          0.23369699704612115,
          -0.3998708578038428,
          -0.3238301112207704,
          -0.3638097440063624,
          0.7677830069036755,
          -0.9560266895216887,
          -1.2620487398743916,
          -0.03370315564410422,
          0.7163516147304333,
          -0.5732647969071828,
          0.07060724906093349,
          0.4459274755835238,
          0.650618412269321,
          -1.0244672632772345,
          -0.6681332442599868,
          -0.9722001914014322,
          0.45238929472010353,
          -2.8035768324235644,
          0.9014287430239033,
          1.319467095259805,
          0.814749966559747,
          -1.6194588318172127,
          1.810232824196542,
          -0.34028761466536867,
          -1.1591663343929903,
          -0.06465852470255785,
          1.7281846836066086,
          -0.8877610317705266,
          0.28713523914667666,
          0.2274495262561486,
          1.5675547163890926,
          0.01636233235734836,
          -0.46263266260882785,
          1.4710093187284892,
          2.008148901429391,
          -0.07354278241686084,
          0.741500628831564,
          -0.29140165890473285,
          -0.4392997604281096,
          -0.4367500190228618,
          2.0212482820418307,
          0.3225503619977586,
          1.6557249579245188,
          -1.2396003969104676,
          0.9414280160172462,
          1.5208718204530265,
          0.43530949652827217,
          0.9965272851620621,
          -0.3126121992418231
         ],
         "xaxis": "x6",
         "yaxis": "y6"
        },
        {
         "line": {
          "color": "rgba(128, 128, 128, 1.0)",
          "dash": "solid",
          "shape": "linear",
          "width": 1.3
         },
         "marker": {
          "size": 2,
          "symbol": "circle"
         },
         "mode": "markers",
         "name": "B",
         "text": "",
         "type": "scatter",
         "x": [
          -0.48727860918233845,
          -0.5282876554663558,
          -0.27209616600687514,
          0.4447395054648122,
          -1.4147182032605394,
          -2.001545536032162,
          -0.8139050768749961,
          -0.08415540958256855,
          0.16335269253475443,
          0.22192531594078874,
          -0.7465145927699801,
          1.2382381928715527,
          0.399710364052061,
          -0.5556296232435419,
          0.10523112078869563,
          1.1075848231005008,
          -1.0158005159433114,
          -0.7596710471859048,
          -1.452844043355656,
          -1.3915239186957886,
          -0.8097881708806685,
          -1.0178370496865219,
          -0.44637160508025686,
          1.6132859180573627,
          0.17565726818527774,
          -0.33876503846131806,
          0.022724720511940365,
          1.6098888151291977,
          -0.5402897665187559,
          -0.3554593958944142,
          2.3165434218398167,
          -0.41160881523191234,
          0.166116246324514,
          1.459866207392856,
          -0.6317076246014489,
          0.19800936578443315,
          1.378637346836652,
          0.10374326247746794,
          -0.6413361770585316,
          0.11458583231732682,
          0.9599041243565135,
          -1.5723371667133335,
          -0.4664639112913684,
          -1.6394106572834544,
          0.1467652757537728,
          0.8728649133790104,
          1.7307337730148245,
          0.368431840278857,
          -0.5755407970147597,
          -0.31202607964170215,
          0.8709887287203207,
          1.8961004612187617,
          0.3728939052783495,
          -0.9531482486755148,
          -0.11332309514039031,
          0.6422017191643308,
          -0.5197642814954431,
          1.147175223621175,
          0.5733264065122081,
          1.65480807517257,
          -0.6849922967207143,
          0.18479013520102885,
          -0.6447413089856846,
          0.22400894574406588,
          0.16538156131413714,
          0.16441194950459131,
          0.21669332906532554,
          0.4813508678379441,
          0.9699696772792914,
          -1.1665459251264292,
          1.2076075393271433,
          0.29368548555331,
          1.4642308467104312,
          -0.7069728908570257,
          0.4013650329273782,
          -0.18230132007368946,
          -0.2885258866502022,
          -0.39336355208417584,
          -0.23959986433443717,
          -1.2923231501205141,
          2.2994227658303097,
          -0.9263893110196699,
          0.15646208823728108,
          -0.15706175886400028,
          0.7763084460606078,
          -1.2724470509423125,
          -0.26750777327402353,
          1.3719350763740965,
          -0.7472787619207025,
          0.22924825934807877,
          -0.7087814295431368,
          0.036516810427891414,
          0.17659439595002455,
          0.6481653101242475,
          -1.3438934309126367,
          1.73178952168849,
          -0.5693855683705377,
          0.7592866846464033,
          -0.0932190500533003,
          0.2806141883330818
         ],
         "xaxis": "x7",
         "y": [
          -2.062328018719915,
          0.8786899411904887,
          1.1874249981439793,
          0.620421760886563,
          1.8246664737333786,
          -0.5685579142811606,
          0.3088839923239217,
          -1.0084687897342672,
          2.0771684696654575,
          1.7617473144705262,
          0.5218737819883743,
          1.216892180797244,
          -0.6847447329719094,
          0.826588825933059,
          2.6200333634388415,
          2.027364798276653,
          0.46666153606323296,
          0.6321266035330925,
          0.10354350260081757,
          -1.4589818998144466,
          1.0316131049729904,
          -0.4343505887332764,
          0.15860458063757982,
          0.41074091507419974,
          1.438825016119307,
          0.25298155971555386,
          0.46729325225147283,
          0.2936712849184672,
          -1.2348037110121215,
          -0.10345781303290143,
          -0.012482275553756294,
          -0.4475322156922826,
          -1.1414119122054063,
          1.6628239176950863,
          1.7068757940201402,
          -0.6201760521654056,
          1.4276529258902466,
          1.443110863145192,
          -0.0025796355047607586,
          -0.2837037736078109,
          -0.1487082196497076,
          2.4894492822509338,
          1.852621410994538,
          0.8612759018913871,
          0.8478792360988995,
          0.5229295789614508,
          0.1098334359498861,
          0.2612972220104098,
          -1.792210724907832,
          -0.3742743391106684,
          -1.4474845739003757,
          0.23369699704612115,
          -0.3998708578038428,
          -0.3238301112207704,
          -0.3638097440063624,
          0.7677830069036755,
          -0.9560266895216887,
          -1.2620487398743916,
          -0.03370315564410422,
          0.7163516147304333,
          -0.5732647969071828,
          0.07060724906093349,
          0.4459274755835238,
          0.650618412269321,
          -1.0244672632772345,
          -0.6681332442599868,
          -0.9722001914014322,
          0.45238929472010353,
          -2.8035768324235644,
          0.9014287430239033,
          1.319467095259805,
          0.814749966559747,
          -1.6194588318172127,
          1.810232824196542,
          -0.34028761466536867,
          -1.1591663343929903,
          -0.06465852470255785,
          1.7281846836066086,
          -0.8877610317705266,
          0.28713523914667666,
          0.2274495262561486,
          1.5675547163890926,
          0.01636233235734836,
          -0.46263266260882785,
          1.4710093187284892,
          2.008148901429391,
          -0.07354278241686084,
          0.741500628831564,
          -0.29140165890473285,
          -0.4392997604281096,
          -0.4367500190228618,
          2.0212482820418307,
          0.3225503619977586,
          1.6557249579245188,
          -1.2396003969104676,
          0.9414280160172462,
          1.5208718204530265,
          0.43530949652827217,
          0.9965272851620621,
          -0.3126121992418231
         ],
         "yaxis": "y7"
        },
        {
         "line": {
          "color": "rgba(128, 128, 128, 1.0)",
          "dash": "solid",
          "shape": "linear",
          "width": 1.3
         },
         "marker": {
          "size": 2,
          "symbol": "circle"
         },
         "mode": "markers",
         "name": "B",
         "text": "",
         "type": "scatter",
         "x": [
          0.008652614534942028,
          -0.7949614463548819,
          1.0280042026477036,
          0.8164424740301507,
          0.617727507928314,
          0.15222624393647677,
          1.2859841750205485,
          0.409151171250876,
          -0.6648903490713879,
          0.188280991573493,
          1.7361962451553843,
          0.1292603721639433,
          -1.0746782055634203,
          0.6679863781746483,
          0.2986849379544349,
          -1.2972181834227539,
          0.7234912586140759,
          -1.9871127363581325,
          1.4820943021722468,
          -1.6201531167299896,
          0.667857279595324,
          -1.382531979907316,
          1.1859347449849038,
          -0.42387907178714945,
          0.12645368517089497,
          0.09773820388292274,
          0.6400915462748148,
          0.5104472462638728,
          -0.6806357061741313,
          -0.5150359137758567,
          0.2994526122925929,
          1.5384351485364862,
          -0.3202795354719194,
          -0.19414487250516232,
          -0.21125034780522955,
          1.8555070729023406,
          -0.09338720531514051,
          0.11637535712167411,
          1.49784256052569,
          0.06007444341741698,
          -0.2476782556349282,
          -0.012592927738989842,
          -0.8491035964374101,
          -0.26595759374177486,
          1.1697726986691868,
          0.20333218176749726,
          -0.14393716301640563,
          2.319931703106863,
          0.9738955651766313,
          -0.50053166966656,
          -0.8319540887003886,
          1.26595252565857,
          -0.23641298872202157,
          0.5086954674046928,
          -0.2483971567913297,
          1.5100730208969315,
          0.5002961203486755,
          -0.25574688195411244,
          -0.7467671094006217,
          -0.4189497570766799,
          0.5730461597508703,
          -1.431726732049285,
          -0.9259418636873402,
          0.6274563842867187,
          2.0458204822291437,
          1.2316742901491164,
          -0.43220019448124075,
          0.7077020854027325,
          -1.5853859789697726,
          0.4807179359635406,
          -1.3024623926698402,
          1.6896361218890077,
          2.4627513735028703,
          -0.1677764434855635,
          -0.03935738533338876,
          -1.053561193566943,
          1.3906932780856869,
          0.5695467751425498,
          0.22699250074578836,
          0.9967394933539656,
          0.9245994498217607,
          -0.7341404619357271,
          0.709895521454746,
          0.7712935319432523,
          0.10577149268713595,
          0.7011702661369695,
          -0.7437745832610808,
          0.40193837133621413,
          -0.03408182487082432,
          0.4684774592219555,
          0.4818913373936253,
          2.094699024132364,
          0.3382887195118553,
          0.08293502643049379,
          1.2015167791109795,
          -0.27836722809734166,
          1.0153666305994116,
          1.4738945865609736,
          -2.968119177361254,
          -0.5513376320465491
         ],
         "xaxis": "x8",
         "y": [
          -2.062328018719915,
          0.8786899411904887,
          1.1874249981439793,
          0.620421760886563,
          1.8246664737333786,
          -0.5685579142811606,
          0.3088839923239217,
          -1.0084687897342672,
          2.0771684696654575,
          1.7617473144705262,
          0.5218737819883743,
          1.216892180797244,
          -0.6847447329719094,
          0.826588825933059,
          2.6200333634388415,
          2.027364798276653,
          0.46666153606323296,
          0.6321266035330925,
          0.10354350260081757,
          -1.4589818998144466,
          1.0316131049729904,
          -0.4343505887332764,
          0.15860458063757982,
          0.41074091507419974,
          1.438825016119307,
          0.25298155971555386,
          0.46729325225147283,
          0.2936712849184672,
          -1.2348037110121215,
          -0.10345781303290143,
          -0.012482275553756294,
          -0.4475322156922826,
          -1.1414119122054063,
          1.6628239176950863,
          1.7068757940201402,
          -0.6201760521654056,
          1.4276529258902466,
          1.443110863145192,
          -0.0025796355047607586,
          -0.2837037736078109,
          -0.1487082196497076,
          2.4894492822509338,
          1.852621410994538,
          0.8612759018913871,
          0.8478792360988995,
          0.5229295789614508,
          0.1098334359498861,
          0.2612972220104098,
          -1.792210724907832,
          -0.3742743391106684,
          -1.4474845739003757,
          0.23369699704612115,
          -0.3998708578038428,
          -0.3238301112207704,
          -0.3638097440063624,
          0.7677830069036755,
          -0.9560266895216887,
          -1.2620487398743916,
          -0.03370315564410422,
          0.7163516147304333,
          -0.5732647969071828,
          0.07060724906093349,
          0.4459274755835238,
          0.650618412269321,
          -1.0244672632772345,
          -0.6681332442599868,
          -0.9722001914014322,
          0.45238929472010353,
          -2.8035768324235644,
          0.9014287430239033,
          1.319467095259805,
          0.814749966559747,
          -1.6194588318172127,
          1.810232824196542,
          -0.34028761466536867,
          -1.1591663343929903,
          -0.06465852470255785,
          1.7281846836066086,
          -0.8877610317705266,
          0.28713523914667666,
          0.2274495262561486,
          1.5675547163890926,
          0.01636233235734836,
          -0.46263266260882785,
          1.4710093187284892,
          2.008148901429391,
          -0.07354278241686084,
          0.741500628831564,
          -0.29140165890473285,
          -0.4392997604281096,
          -0.4367500190228618,
          2.0212482820418307,
          0.3225503619977586,
          1.6557249579245188,
          -1.2396003969104676,
          0.9414280160172462,
          1.5208718204530265,
          0.43530949652827217,
          0.9965272851620621,
          -0.3126121992418231
         ],
         "yaxis": "y8"
        },
        {
         "line": {
          "color": "rgba(128, 128, 128, 1.0)",
          "dash": "solid",
          "shape": "linear",
          "width": 1.3
         },
         "marker": {
          "size": 2,
          "symbol": "circle"
         },
         "mode": "markers",
         "name": "C",
         "text": "",
         "type": "scatter",
         "x": [
          0.5176590531969488,
          0.2611900186917925,
          -2.0770443227929434,
          0.4376128613752404,
          -0.7972765755299147,
          -0.9781925854562078,
          0.021787211156948774,
          -1.8227103978927501,
          1.7661994574612905,
          0.6140684305177554,
          -0.10348408002873685,
          -0.005438269546051754,
          0.14564690286116566,
          -1.6019204582868,
          0.36412650919654904,
          1.8933456811942735,
          0.5580880070310005,
          -1.6721324428771815,
          -0.7640725461546174,
          -0.01743915243591418,
          0.6748540001753083,
          0.7920643030147945,
          -0.8170164432005932,
          -0.40348005188696673,
          0.6539188908047413,
          -0.12400523728931026,
          1.4032160617444647,
          -0.5827443655439306,
          1.1703201043257259,
          -1.3220783976434485,
          0.27017141466012873,
          1.130033689636446,
          -0.19781497959524116,
          0.9146218319990627,
          0.6788744017706305,
          0.7263896841237812,
          -0.4270625982491659,
          1.7771258173188988,
          1.7255189854877893,
          0.10071803173376356,
          0.5584259746959217,
          -0.35980148623036257,
          0.27320206594699464,
          -0.9058148329762855,
          0.6655637328672925,
          0.737591189163516,
          0.42918978634587096,
          -0.667396753774752,
          0.33121038394063146,
          -0.38186248928384686,
          0.4080848294364657,
          1.7446010964370207,
          2.7769588024238145,
          -0.0500309548669025,
          0.1734318857601251,
          -0.560498934672177,
          0.0615027213603778,
          -0.5563384887782385,
          0.6872170531367844,
          1.3085125570269542,
          0.8658386492120068,
          -0.41384192152811716,
          -0.5748894712834556,
          -0.046030262702725415,
          -0.7834661261224901,
          0.33669600457694904,
          0.5649402937564677,
          0.7412011360451405,
          0.03744861967029218,
          -0.31441728987996154,
          0.12757226281435682,
          1.4278042432171743,
          -0.10084618653539616,
          0.44337571123088204,
          0.639743871777665,
          0.05751155640936568,
          0.5562572498216152,
          -0.1992962817147566,
          1.777203558993544,
          0.3884239255669419,
          0.5974152051587482,
          -2.336551059610256,
          0.37178139089325507,
          -0.6083978716388516,
          1.4014589342993968,
          -0.707138581612621,
          -0.15707032363071047,
          -0.599796745012966,
          -0.5280305545087325,
          0.13617931710002912,
          0.20729333459661806,
          0.9195443365275761,
          -1.3027488740641358,
          -0.22063075065637314,
          -0.9410102187865621,
          -0.889314187063548,
          1.0927712482439207,
          0.42244762596411395,
          0.23878587815304225,
          -1.5437470888769478
         ],
         "xaxis": "x9",
         "y": [
          -0.48727860918233845,
          -0.5282876554663558,
          -0.27209616600687514,
          0.4447395054648122,
          -1.4147182032605394,
          -2.001545536032162,
          -0.8139050768749961,
          -0.08415540958256855,
          0.16335269253475443,
          0.22192531594078874,
          -0.7465145927699801,
          1.2382381928715527,
          0.399710364052061,
          -0.5556296232435419,
          0.10523112078869563,
          1.1075848231005008,
          -1.0158005159433114,
          -0.7596710471859048,
          -1.452844043355656,
          -1.3915239186957886,
          -0.8097881708806685,
          -1.0178370496865219,
          -0.44637160508025686,
          1.6132859180573627,
          0.17565726818527774,
          -0.33876503846131806,
          0.022724720511940365,
          1.6098888151291977,
          -0.5402897665187559,
          -0.3554593958944142,
          2.3165434218398167,
          -0.41160881523191234,
          0.166116246324514,
          1.459866207392856,
          -0.6317076246014489,
          0.19800936578443315,
          1.378637346836652,
          0.10374326247746794,
          -0.6413361770585316,
          0.11458583231732682,
          0.9599041243565135,
          -1.5723371667133335,
          -0.4664639112913684,
          -1.6394106572834544,
          0.1467652757537728,
          0.8728649133790104,
          1.7307337730148245,
          0.368431840278857,
          -0.5755407970147597,
          -0.31202607964170215,
          0.8709887287203207,
          1.8961004612187617,
          0.3728939052783495,
          -0.9531482486755148,
          -0.11332309514039031,
          0.6422017191643308,
          -0.5197642814954431,
          1.147175223621175,
          0.5733264065122081,
          1.65480807517257,
          -0.6849922967207143,
          0.18479013520102885,
          -0.6447413089856846,
          0.22400894574406588,
          0.16538156131413714,
          0.16441194950459131,
          0.21669332906532554,
          0.4813508678379441,
          0.9699696772792914,
          -1.1665459251264292,
          1.2076075393271433,
          0.29368548555331,
          1.4642308467104312,
          -0.7069728908570257,
          0.4013650329273782,
          -0.18230132007368946,
          -0.2885258866502022,
          -0.39336355208417584,
          -0.23959986433443717,
          -1.2923231501205141,
          2.2994227658303097,
          -0.9263893110196699,
          0.15646208823728108,
          -0.15706175886400028,
          0.7763084460606078,
          -1.2724470509423125,
          -0.26750777327402353,
          1.3719350763740965,
          -0.7472787619207025,
          0.22924825934807877,
          -0.7087814295431368,
          0.036516810427891414,
          0.17659439595002455,
          0.6481653101242475,
          -1.3438934309126367,
          1.73178952168849,
          -0.5693855683705377,
          0.7592866846464033,
          -0.0932190500533003,
          0.2806141883330818
         ],
         "yaxis": "y9"
        },
        {
         "line": {
          "color": "rgba(128, 128, 128, 1.0)",
          "dash": "solid",
          "shape": "linear",
          "width": 1.3
         },
         "marker": {
          "size": 2,
          "symbol": "circle"
         },
         "mode": "markers",
         "name": "C",
         "text": "",
         "type": "scatter",
         "x": [
          -2.062328018719915,
          0.8786899411904887,
          1.1874249981439793,
          0.620421760886563,
          1.8246664737333786,
          -0.5685579142811606,
          0.3088839923239217,
          -1.0084687897342672,
          2.0771684696654575,
          1.7617473144705262,
          0.5218737819883743,
          1.216892180797244,
          -0.6847447329719094,
          0.826588825933059,
          2.6200333634388415,
          2.027364798276653,
          0.46666153606323296,
          0.6321266035330925,
          0.10354350260081757,
          -1.4589818998144466,
          1.0316131049729904,
          -0.4343505887332764,
          0.15860458063757982,
          0.41074091507419974,
          1.438825016119307,
          0.25298155971555386,
          0.46729325225147283,
          0.2936712849184672,
          -1.2348037110121215,
          -0.10345781303290143,
          -0.012482275553756294,
          -0.4475322156922826,
          -1.1414119122054063,
          1.6628239176950863,
          1.7068757940201402,
          -0.6201760521654056,
          1.4276529258902466,
          1.443110863145192,
          -0.0025796355047607586,
          -0.2837037736078109,
          -0.1487082196497076,
          2.4894492822509338,
          1.852621410994538,
          0.8612759018913871,
          0.8478792360988995,
          0.5229295789614508,
          0.1098334359498861,
          0.2612972220104098,
          -1.792210724907832,
          -0.3742743391106684,
          -1.4474845739003757,
          0.23369699704612115,
          -0.3998708578038428,
          -0.3238301112207704,
          -0.3638097440063624,
          0.7677830069036755,
          -0.9560266895216887,
          -1.2620487398743916,
          -0.03370315564410422,
          0.7163516147304333,
          -0.5732647969071828,
          0.07060724906093349,
          0.4459274755835238,
          0.650618412269321,
          -1.0244672632772345,
          -0.6681332442599868,
          -0.9722001914014322,
          0.45238929472010353,
          -2.8035768324235644,
          0.9014287430239033,
          1.319467095259805,
          0.814749966559747,
          -1.6194588318172127,
          1.810232824196542,
          -0.34028761466536867,
          -1.1591663343929903,
          -0.06465852470255785,
          1.7281846836066086,
          -0.8877610317705266,
          0.28713523914667666,
          0.2274495262561486,
          1.5675547163890926,
          0.01636233235734836,
          -0.46263266260882785,
          1.4710093187284892,
          2.008148901429391,
          -0.07354278241686084,
          0.741500628831564,
          -0.29140165890473285,
          -0.4392997604281096,
          -0.4367500190228618,
          2.0212482820418307,
          0.3225503619977586,
          1.6557249579245188,
          -1.2396003969104676,
          0.9414280160172462,
          1.5208718204530265,
          0.43530949652827217,
          0.9965272851620621,
          -0.3126121992418231
         ],
         "xaxis": "x10",
         "y": [
          -0.48727860918233845,
          -0.5282876554663558,
          -0.27209616600687514,
          0.4447395054648122,
          -1.4147182032605394,
          -2.001545536032162,
          -0.8139050768749961,
          -0.08415540958256855,
          0.16335269253475443,
          0.22192531594078874,
          -0.7465145927699801,
          1.2382381928715527,
          0.399710364052061,
          -0.5556296232435419,
          0.10523112078869563,
          1.1075848231005008,
          -1.0158005159433114,
          -0.7596710471859048,
          -1.452844043355656,
          -1.3915239186957886,
          -0.8097881708806685,
          -1.0178370496865219,
          -0.44637160508025686,
          1.6132859180573627,
          0.17565726818527774,
          -0.33876503846131806,
          0.022724720511940365,
          1.6098888151291977,
          -0.5402897665187559,
          -0.3554593958944142,
          2.3165434218398167,
          -0.41160881523191234,
          0.166116246324514,
          1.459866207392856,
          -0.6317076246014489,
          0.19800936578443315,
          1.378637346836652,
          0.10374326247746794,
          -0.6413361770585316,
          0.11458583231732682,
          0.9599041243565135,
          -1.5723371667133335,
          -0.4664639112913684,
          -1.6394106572834544,
          0.1467652757537728,
          0.8728649133790104,
          1.7307337730148245,
          0.368431840278857,
          -0.5755407970147597,
          -0.31202607964170215,
          0.8709887287203207,
          1.8961004612187617,
          0.3728939052783495,
          -0.9531482486755148,
          -0.11332309514039031,
          0.6422017191643308,
          -0.5197642814954431,
          1.147175223621175,
          0.5733264065122081,
          1.65480807517257,
          -0.6849922967207143,
          0.18479013520102885,
          -0.6447413089856846,
          0.22400894574406588,
          0.16538156131413714,
          0.16441194950459131,
          0.21669332906532554,
          0.4813508678379441,
          0.9699696772792914,
          -1.1665459251264292,
          1.2076075393271433,
          0.29368548555331,
          1.4642308467104312,
          -0.7069728908570257,
          0.4013650329273782,
          -0.18230132007368946,
          -0.2885258866502022,
          -0.39336355208417584,
          -0.23959986433443717,
          -1.2923231501205141,
          2.2994227658303097,
          -0.9263893110196699,
          0.15646208823728108,
          -0.15706175886400028,
          0.7763084460606078,
          -1.2724470509423125,
          -0.26750777327402353,
          1.3719350763740965,
          -0.7472787619207025,
          0.22924825934807877,
          -0.7087814295431368,
          0.036516810427891414,
          0.17659439595002455,
          0.6481653101242475,
          -1.3438934309126367,
          1.73178952168849,
          -0.5693855683705377,
          0.7592866846464033,
          -0.0932190500533003,
          0.2806141883330818
         ],
         "yaxis": "y10"
        },
        {
         "histfunc": "count",
         "histnorm": "",
         "marker": {
          "color": "rgba(50, 171, 96, 1.0)",
          "line": {
           "color": "#4D5663",
           "width": 1.3
          }
         },
         "name": "C",
         "nbinsx": 10,
         "opacity": 0.8,
         "orientation": "v",
         "type": "histogram",
         "x": [
          -0.48727860918233845,
          -0.5282876554663558,
          -0.27209616600687514,
          0.4447395054648122,
          -1.4147182032605394,
          -2.001545536032162,
          -0.8139050768749961,
          -0.08415540958256855,
          0.16335269253475443,
          0.22192531594078874,
          -0.7465145927699801,
          1.2382381928715527,
          0.399710364052061,
          -0.5556296232435419,
          0.10523112078869563,
          1.1075848231005008,
          -1.0158005159433114,
          -0.7596710471859048,
          -1.452844043355656,
          -1.3915239186957886,
          -0.8097881708806685,
          -1.0178370496865219,
          -0.44637160508025686,
          1.6132859180573627,
          0.17565726818527774,
          -0.33876503846131806,
          0.022724720511940365,
          1.6098888151291977,
          -0.5402897665187559,
          -0.3554593958944142,
          2.3165434218398167,
          -0.41160881523191234,
          0.166116246324514,
          1.459866207392856,
          -0.6317076246014489,
          0.19800936578443315,
          1.378637346836652,
          0.10374326247746794,
          -0.6413361770585316,
          0.11458583231732682,
          0.9599041243565135,
          -1.5723371667133335,
          -0.4664639112913684,
          -1.6394106572834544,
          0.1467652757537728,
          0.8728649133790104,
          1.7307337730148245,
          0.368431840278857,
          -0.5755407970147597,
          -0.31202607964170215,
          0.8709887287203207,
          1.8961004612187617,
          0.3728939052783495,
          -0.9531482486755148,
          -0.11332309514039031,
          0.6422017191643308,
          -0.5197642814954431,
          1.147175223621175,
          0.5733264065122081,
          1.65480807517257,
          -0.6849922967207143,
          0.18479013520102885,
          -0.6447413089856846,
          0.22400894574406588,
          0.16538156131413714,
          0.16441194950459131,
          0.21669332906532554,
          0.4813508678379441,
          0.9699696772792914,
          -1.1665459251264292,
          1.2076075393271433,
          0.29368548555331,
          1.4642308467104312,
          -0.7069728908570257,
          0.4013650329273782,
          -0.18230132007368946,
          -0.2885258866502022,
          -0.39336355208417584,
          -0.23959986433443717,
          -1.2923231501205141,
          2.2994227658303097,
          -0.9263893110196699,
          0.15646208823728108,
          -0.15706175886400028,
          0.7763084460606078,
          -1.2724470509423125,
          -0.26750777327402353,
          1.3719350763740965,
          -0.7472787619207025,
          0.22924825934807877,
          -0.7087814295431368,
          0.036516810427891414,
          0.17659439595002455,
          0.6481653101242475,
          -1.3438934309126367,
          1.73178952168849,
          -0.5693855683705377,
          0.7592866846464033,
          -0.0932190500533003,
          0.2806141883330818
         ],
         "xaxis": "x11",
         "yaxis": "y11"
        },
        {
         "line": {
          "color": "rgba(128, 128, 128, 1.0)",
          "dash": "solid",
          "shape": "linear",
          "width": 1.3
         },
         "marker": {
          "size": 2,
          "symbol": "circle"
         },
         "mode": "markers",
         "name": "C",
         "text": "",
         "type": "scatter",
         "x": [
          0.008652614534942028,
          -0.7949614463548819,
          1.0280042026477036,
          0.8164424740301507,
          0.617727507928314,
          0.15222624393647677,
          1.2859841750205485,
          0.409151171250876,
          -0.6648903490713879,
          0.188280991573493,
          1.7361962451553843,
          0.1292603721639433,
          -1.0746782055634203,
          0.6679863781746483,
          0.2986849379544349,
          -1.2972181834227539,
          0.7234912586140759,
          -1.9871127363581325,
          1.4820943021722468,
          -1.6201531167299896,
          0.667857279595324,
          -1.382531979907316,
          1.1859347449849038,
          -0.42387907178714945,
          0.12645368517089497,
          0.09773820388292274,
          0.6400915462748148,
          0.5104472462638728,
          -0.6806357061741313,
          -0.5150359137758567,
          0.2994526122925929,
          1.5384351485364862,
          -0.3202795354719194,
          -0.19414487250516232,
          -0.21125034780522955,
          1.8555070729023406,
          -0.09338720531514051,
          0.11637535712167411,
          1.49784256052569,
          0.06007444341741698,
          -0.2476782556349282,
          -0.012592927738989842,
          -0.8491035964374101,
          -0.26595759374177486,
          1.1697726986691868,
          0.20333218176749726,
          -0.14393716301640563,
          2.319931703106863,
          0.9738955651766313,
          -0.50053166966656,
          -0.8319540887003886,
          1.26595252565857,
          -0.23641298872202157,
          0.5086954674046928,
          -0.2483971567913297,
          1.5100730208969315,
          0.5002961203486755,
          -0.25574688195411244,
          -0.7467671094006217,
          -0.4189497570766799,
          0.5730461597508703,
          -1.431726732049285,
          -0.9259418636873402,
          0.6274563842867187,
          2.0458204822291437,
          1.2316742901491164,
          -0.43220019448124075,
          0.7077020854027325,
          -1.5853859789697726,
          0.4807179359635406,
          -1.3024623926698402,
          1.6896361218890077,
          2.4627513735028703,
          -0.1677764434855635,
          -0.03935738533338876,
          -1.053561193566943,
          1.3906932780856869,
          0.5695467751425498,
          0.22699250074578836,
          0.9967394933539656,
          0.9245994498217607,
          -0.7341404619357271,
          0.709895521454746,
          0.7712935319432523,
          0.10577149268713595,
          0.7011702661369695,
          -0.7437745832610808,
          0.40193837133621413,
          -0.03408182487082432,
          0.4684774592219555,
          0.4818913373936253,
          2.094699024132364,
          0.3382887195118553,
          0.08293502643049379,
          1.2015167791109795,
          -0.27836722809734166,
          1.0153666305994116,
          1.4738945865609736,
          -2.968119177361254,
          -0.5513376320465491
         ],
         "xaxis": "x12",
         "y": [
          -0.48727860918233845,
          -0.5282876554663558,
          -0.27209616600687514,
          0.4447395054648122,
          -1.4147182032605394,
          -2.001545536032162,
          -0.8139050768749961,
          -0.08415540958256855,
          0.16335269253475443,
          0.22192531594078874,
          -0.7465145927699801,
          1.2382381928715527,
          0.399710364052061,
          -0.5556296232435419,
          0.10523112078869563,
          1.1075848231005008,
          -1.0158005159433114,
          -0.7596710471859048,
          -1.452844043355656,
          -1.3915239186957886,
          -0.8097881708806685,
          -1.0178370496865219,
          -0.44637160508025686,
          1.6132859180573627,
          0.17565726818527774,
          -0.33876503846131806,
          0.022724720511940365,
          1.6098888151291977,
          -0.5402897665187559,
          -0.3554593958944142,
          2.3165434218398167,
          -0.41160881523191234,
          0.166116246324514,
          1.459866207392856,
          -0.6317076246014489,
          0.19800936578443315,
          1.378637346836652,
          0.10374326247746794,
          -0.6413361770585316,
          0.11458583231732682,
          0.9599041243565135,
          -1.5723371667133335,
          -0.4664639112913684,
          -1.6394106572834544,
          0.1467652757537728,
          0.8728649133790104,
          1.7307337730148245,
          0.368431840278857,
          -0.5755407970147597,
          -0.31202607964170215,
          0.8709887287203207,
          1.8961004612187617,
          0.3728939052783495,
          -0.9531482486755148,
          -0.11332309514039031,
          0.6422017191643308,
          -0.5197642814954431,
          1.147175223621175,
          0.5733264065122081,
          1.65480807517257,
          -0.6849922967207143,
          0.18479013520102885,
          -0.6447413089856846,
          0.22400894574406588,
          0.16538156131413714,
          0.16441194950459131,
          0.21669332906532554,
          0.4813508678379441,
          0.9699696772792914,
          -1.1665459251264292,
          1.2076075393271433,
          0.29368548555331,
          1.4642308467104312,
          -0.7069728908570257,
          0.4013650329273782,
          -0.18230132007368946,
          -0.2885258866502022,
          -0.39336355208417584,
          -0.23959986433443717,
          -1.2923231501205141,
          2.2994227658303097,
          -0.9263893110196699,
          0.15646208823728108,
          -0.15706175886400028,
          0.7763084460606078,
          -1.2724470509423125,
          -0.26750777327402353,
          1.3719350763740965,
          -0.7472787619207025,
          0.22924825934807877,
          -0.7087814295431368,
          0.036516810427891414,
          0.17659439595002455,
          0.6481653101242475,
          -1.3438934309126367,
          1.73178952168849,
          -0.5693855683705377,
          0.7592866846464033,
          -0.0932190500533003,
          0.2806141883330818
         ],
         "yaxis": "y12"
        },
        {
         "line": {
          "color": "rgba(128, 128, 128, 1.0)",
          "dash": "solid",
          "shape": "linear",
          "width": 1.3
         },
         "marker": {
          "size": 2,
          "symbol": "circle"
         },
         "mode": "markers",
         "name": "D",
         "text": "",
         "type": "scatter",
         "x": [
          0.5176590531969488,
          0.2611900186917925,
          -2.0770443227929434,
          0.4376128613752404,
          -0.7972765755299147,
          -0.9781925854562078,
          0.021787211156948774,
          -1.8227103978927501,
          1.7661994574612905,
          0.6140684305177554,
          -0.10348408002873685,
          -0.005438269546051754,
          0.14564690286116566,
          -1.6019204582868,
          0.36412650919654904,
          1.8933456811942735,
          0.5580880070310005,
          -1.6721324428771815,
          -0.7640725461546174,
          -0.01743915243591418,
          0.6748540001753083,
          0.7920643030147945,
          -0.8170164432005932,
          -0.40348005188696673,
          0.6539188908047413,
          -0.12400523728931026,
          1.4032160617444647,
          -0.5827443655439306,
          1.1703201043257259,
          -1.3220783976434485,
          0.27017141466012873,
          1.130033689636446,
          -0.19781497959524116,
          0.9146218319990627,
          0.6788744017706305,
          0.7263896841237812,
          -0.4270625982491659,
          1.7771258173188988,
          1.7255189854877893,
          0.10071803173376356,
          0.5584259746959217,
          -0.35980148623036257,
          0.27320206594699464,
          -0.9058148329762855,
          0.6655637328672925,
          0.737591189163516,
          0.42918978634587096,
          -0.667396753774752,
          0.33121038394063146,
          -0.38186248928384686,
          0.4080848294364657,
          1.7446010964370207,
          2.7769588024238145,
          -0.0500309548669025,
          0.1734318857601251,
          -0.560498934672177,
          0.0615027213603778,
          -0.5563384887782385,
          0.6872170531367844,
          1.3085125570269542,
          0.8658386492120068,
          -0.41384192152811716,
          -0.5748894712834556,
          -0.046030262702725415,
          -0.7834661261224901,
          0.33669600457694904,
          0.5649402937564677,
          0.7412011360451405,
          0.03744861967029218,
          -0.31441728987996154,
          0.12757226281435682,
          1.4278042432171743,
          -0.10084618653539616,
          0.44337571123088204,
          0.639743871777665,
          0.05751155640936568,
          0.5562572498216152,
          -0.1992962817147566,
          1.777203558993544,
          0.3884239255669419,
          0.5974152051587482,
          -2.336551059610256,
          0.37178139089325507,
          -0.6083978716388516,
          1.4014589342993968,
          -0.707138581612621,
          -0.15707032363071047,
          -0.599796745012966,
          -0.5280305545087325,
          0.13617931710002912,
          0.20729333459661806,
          0.9195443365275761,
          -1.3027488740641358,
          -0.22063075065637314,
          -0.9410102187865621,
          -0.889314187063548,
          1.0927712482439207,
          0.42244762596411395,
          0.23878587815304225,
          -1.5437470888769478
         ],
         "xaxis": "x13",
         "y": [
          0.008652614534942028,
          -0.7949614463548819,
          1.0280042026477036,
          0.8164424740301507,
          0.617727507928314,
          0.15222624393647677,
          1.2859841750205485,
          0.409151171250876,
          -0.6648903490713879,
          0.188280991573493,
          1.7361962451553843,
          0.1292603721639433,
          -1.0746782055634203,
          0.6679863781746483,
          0.2986849379544349,
          -1.2972181834227539,
          0.7234912586140759,
          -1.9871127363581325,
          1.4820943021722468,
          -1.6201531167299896,
          0.667857279595324,
          -1.382531979907316,
          1.1859347449849038,
          -0.42387907178714945,
          0.12645368517089497,
          0.09773820388292274,
          0.6400915462748148,
          0.5104472462638728,
          -0.6806357061741313,
          -0.5150359137758567,
          0.2994526122925929,
          1.5384351485364862,
          -0.3202795354719194,
          -0.19414487250516232,
          -0.21125034780522955,
          1.8555070729023406,
          -0.09338720531514051,
          0.11637535712167411,
          1.49784256052569,
          0.06007444341741698,
          -0.2476782556349282,
          -0.012592927738989842,
          -0.8491035964374101,
          -0.26595759374177486,
          1.1697726986691868,
          0.20333218176749726,
          -0.14393716301640563,
          2.319931703106863,
          0.9738955651766313,
          -0.50053166966656,
          -0.8319540887003886,
          1.26595252565857,
          -0.23641298872202157,
          0.5086954674046928,
          -0.2483971567913297,
          1.5100730208969315,
          0.5002961203486755,
          -0.25574688195411244,
          -0.7467671094006217,
          -0.4189497570766799,
          0.5730461597508703,
          -1.431726732049285,
          -0.9259418636873402,
          0.6274563842867187,
          2.0458204822291437,
          1.2316742901491164,
          -0.43220019448124075,
          0.7077020854027325,
          -1.5853859789697726,
          0.4807179359635406,
          -1.3024623926698402,
          1.6896361218890077,
          2.4627513735028703,
          -0.1677764434855635,
          -0.03935738533338876,
          -1.053561193566943,
          1.3906932780856869,
          0.5695467751425498,
          0.22699250074578836,
          0.9967394933539656,
          0.9245994498217607,
          -0.7341404619357271,
          0.709895521454746,
          0.7712935319432523,
          0.10577149268713595,
          0.7011702661369695,
          -0.7437745832610808,
          0.40193837133621413,
          -0.03408182487082432,
          0.4684774592219555,
          0.4818913373936253,
          2.094699024132364,
          0.3382887195118553,
          0.08293502643049379,
          1.2015167791109795,
          -0.27836722809734166,
          1.0153666305994116,
          1.4738945865609736,
          -2.968119177361254,
          -0.5513376320465491
         ],
         "yaxis": "y13"
        },
        {
         "line": {
          "color": "rgba(128, 128, 128, 1.0)",
          "dash": "solid",
          "shape": "linear",
          "width": 1.3
         },
         "marker": {
          "size": 2,
          "symbol": "circle"
         },
         "mode": "markers",
         "name": "D",
         "text": "",
         "type": "scatter",
         "x": [
          -2.062328018719915,
          0.8786899411904887,
          1.1874249981439793,
          0.620421760886563,
          1.8246664737333786,
          -0.5685579142811606,
          0.3088839923239217,
          -1.0084687897342672,
          2.0771684696654575,
          1.7617473144705262,
          0.5218737819883743,
          1.216892180797244,
          -0.6847447329719094,
          0.826588825933059,
          2.6200333634388415,
          2.027364798276653,
          0.46666153606323296,
          0.6321266035330925,
          0.10354350260081757,
          -1.4589818998144466,
          1.0316131049729904,
          -0.4343505887332764,
          0.15860458063757982,
          0.41074091507419974,
          1.438825016119307,
          0.25298155971555386,
          0.46729325225147283,
          0.2936712849184672,
          -1.2348037110121215,
          -0.10345781303290143,
          -0.012482275553756294,
          -0.4475322156922826,
          -1.1414119122054063,
          1.6628239176950863,
          1.7068757940201402,
          -0.6201760521654056,
          1.4276529258902466,
          1.443110863145192,
          -0.0025796355047607586,
          -0.2837037736078109,
          -0.1487082196497076,
          2.4894492822509338,
          1.852621410994538,
          0.8612759018913871,
          0.8478792360988995,
          0.5229295789614508,
          0.1098334359498861,
          0.2612972220104098,
          -1.792210724907832,
          -0.3742743391106684,
          -1.4474845739003757,
          0.23369699704612115,
          -0.3998708578038428,
          -0.3238301112207704,
          -0.3638097440063624,
          0.7677830069036755,
          -0.9560266895216887,
          -1.2620487398743916,
          -0.03370315564410422,
          0.7163516147304333,
          -0.5732647969071828,
          0.07060724906093349,
          0.4459274755835238,
          0.650618412269321,
          -1.0244672632772345,
          -0.6681332442599868,
          -0.9722001914014322,
          0.45238929472010353,
          -2.8035768324235644,
          0.9014287430239033,
          1.319467095259805,
          0.814749966559747,
          -1.6194588318172127,
          1.810232824196542,
          -0.34028761466536867,
          -1.1591663343929903,
          -0.06465852470255785,
          1.7281846836066086,
          -0.8877610317705266,
          0.28713523914667666,
          0.2274495262561486,
          1.5675547163890926,
          0.01636233235734836,
          -0.46263266260882785,
          1.4710093187284892,
          2.008148901429391,
          -0.07354278241686084,
          0.741500628831564,
          -0.29140165890473285,
          -0.4392997604281096,
          -0.4367500190228618,
          2.0212482820418307,
          0.3225503619977586,
          1.6557249579245188,
          -1.2396003969104676,
          0.9414280160172462,
          1.5208718204530265,
          0.43530949652827217,
          0.9965272851620621,
          -0.3126121992418231
         ],
         "xaxis": "x14",
         "y": [
          0.008652614534942028,
          -0.7949614463548819,
          1.0280042026477036,
          0.8164424740301507,
          0.617727507928314,
          0.15222624393647677,
          1.2859841750205485,
          0.409151171250876,
          -0.6648903490713879,
          0.188280991573493,
          1.7361962451553843,
          0.1292603721639433,
          -1.0746782055634203,
          0.6679863781746483,
          0.2986849379544349,
          -1.2972181834227539,
          0.7234912586140759,
          -1.9871127363581325,
          1.4820943021722468,
          -1.6201531167299896,
          0.667857279595324,
          -1.382531979907316,
          1.1859347449849038,
          -0.42387907178714945,
          0.12645368517089497,
          0.09773820388292274,
          0.6400915462748148,
          0.5104472462638728,
          -0.6806357061741313,
          -0.5150359137758567,
          0.2994526122925929,
          1.5384351485364862,
          -0.3202795354719194,
          -0.19414487250516232,
          -0.21125034780522955,
          1.8555070729023406,
          -0.09338720531514051,
          0.11637535712167411,
          1.49784256052569,
          0.06007444341741698,
          -0.2476782556349282,
          -0.012592927738989842,
          -0.8491035964374101,
          -0.26595759374177486,
          1.1697726986691868,
          0.20333218176749726,
          -0.14393716301640563,
          2.319931703106863,
          0.9738955651766313,
          -0.50053166966656,
          -0.8319540887003886,
          1.26595252565857,
          -0.23641298872202157,
          0.5086954674046928,
          -0.2483971567913297,
          1.5100730208969315,
          0.5002961203486755,
          -0.25574688195411244,
          -0.7467671094006217,
          -0.4189497570766799,
          0.5730461597508703,
          -1.431726732049285,
          -0.9259418636873402,
          0.6274563842867187,
          2.0458204822291437,
          1.2316742901491164,
          -0.43220019448124075,
          0.7077020854027325,
          -1.5853859789697726,
          0.4807179359635406,
          -1.3024623926698402,
          1.6896361218890077,
          2.4627513735028703,
          -0.1677764434855635,
          -0.03935738533338876,
          -1.053561193566943,
          1.3906932780856869,
          0.5695467751425498,
          0.22699250074578836,
          0.9967394933539656,
          0.9245994498217607,
          -0.7341404619357271,
          0.709895521454746,
          0.7712935319432523,
          0.10577149268713595,
          0.7011702661369695,
          -0.7437745832610808,
          0.40193837133621413,
          -0.03408182487082432,
          0.4684774592219555,
          0.4818913373936253,
          2.094699024132364,
          0.3382887195118553,
          0.08293502643049379,
          1.2015167791109795,
          -0.27836722809734166,
          1.0153666305994116,
          1.4738945865609736,
          -2.968119177361254,
          -0.5513376320465491
         ],
         "yaxis": "y14"
        },
        {
         "line": {
          "color": "rgba(128, 128, 128, 1.0)",
          "dash": "solid",
          "shape": "linear",
          "width": 1.3
         },
         "marker": {
          "size": 2,
          "symbol": "circle"
         },
         "mode": "markers",
         "name": "D",
         "text": "",
         "type": "scatter",
         "x": [
          -0.48727860918233845,
          -0.5282876554663558,
          -0.27209616600687514,
          0.4447395054648122,
          -1.4147182032605394,
          -2.001545536032162,
          -0.8139050768749961,
          -0.08415540958256855,
          0.16335269253475443,
          0.22192531594078874,
          -0.7465145927699801,
          1.2382381928715527,
          0.399710364052061,
          -0.5556296232435419,
          0.10523112078869563,
          1.1075848231005008,
          -1.0158005159433114,
          -0.7596710471859048,
          -1.452844043355656,
          -1.3915239186957886,
          -0.8097881708806685,
          -1.0178370496865219,
          -0.44637160508025686,
          1.6132859180573627,
          0.17565726818527774,
          -0.33876503846131806,
          0.022724720511940365,
          1.6098888151291977,
          -0.5402897665187559,
          -0.3554593958944142,
          2.3165434218398167,
          -0.41160881523191234,
          0.166116246324514,
          1.459866207392856,
          -0.6317076246014489,
          0.19800936578443315,
          1.378637346836652,
          0.10374326247746794,
          -0.6413361770585316,
          0.11458583231732682,
          0.9599041243565135,
          -1.5723371667133335,
          -0.4664639112913684,
          -1.6394106572834544,
          0.1467652757537728,
          0.8728649133790104,
          1.7307337730148245,
          0.368431840278857,
          -0.5755407970147597,
          -0.31202607964170215,
          0.8709887287203207,
          1.8961004612187617,
          0.3728939052783495,
          -0.9531482486755148,
          -0.11332309514039031,
          0.6422017191643308,
          -0.5197642814954431,
          1.147175223621175,
          0.5733264065122081,
          1.65480807517257,
          -0.6849922967207143,
          0.18479013520102885,
          -0.6447413089856846,
          0.22400894574406588,
          0.16538156131413714,
          0.16441194950459131,
          0.21669332906532554,
          0.4813508678379441,
          0.9699696772792914,
          -1.1665459251264292,
          1.2076075393271433,
          0.29368548555331,
          1.4642308467104312,
          -0.7069728908570257,
          0.4013650329273782,
          -0.18230132007368946,
          -0.2885258866502022,
          -0.39336355208417584,
          -0.23959986433443717,
          -1.2923231501205141,
          2.2994227658303097,
          -0.9263893110196699,
          0.15646208823728108,
          -0.15706175886400028,
          0.7763084460606078,
          -1.2724470509423125,
          -0.26750777327402353,
          1.3719350763740965,
          -0.7472787619207025,
          0.22924825934807877,
          -0.7087814295431368,
          0.036516810427891414,
          0.17659439595002455,
          0.6481653101242475,
          -1.3438934309126367,
          1.73178952168849,
          -0.5693855683705377,
          0.7592866846464033,
          -0.0932190500533003,
          0.2806141883330818
         ],
         "xaxis": "x15",
         "y": [
          0.008652614534942028,
          -0.7949614463548819,
          1.0280042026477036,
          0.8164424740301507,
          0.617727507928314,
          0.15222624393647677,
          1.2859841750205485,
          0.409151171250876,
          -0.6648903490713879,
          0.188280991573493,
          1.7361962451553843,
          0.1292603721639433,
          -1.0746782055634203,
          0.6679863781746483,
          0.2986849379544349,
          -1.2972181834227539,
          0.7234912586140759,
          -1.9871127363581325,
          1.4820943021722468,
          -1.6201531167299896,
          0.667857279595324,
          -1.382531979907316,
          1.1859347449849038,
          -0.42387907178714945,
          0.12645368517089497,
          0.09773820388292274,
          0.6400915462748148,
          0.5104472462638728,
          -0.6806357061741313,
          -0.5150359137758567,
          0.2994526122925929,
          1.5384351485364862,
          -0.3202795354719194,
          -0.19414487250516232,
          -0.21125034780522955,
          1.8555070729023406,
          -0.09338720531514051,
          0.11637535712167411,
          1.49784256052569,
          0.06007444341741698,
          -0.2476782556349282,
          -0.012592927738989842,
          -0.8491035964374101,
          -0.26595759374177486,
          1.1697726986691868,
          0.20333218176749726,
          -0.14393716301640563,
          2.319931703106863,
          0.9738955651766313,
          -0.50053166966656,
          -0.8319540887003886,
          1.26595252565857,
          -0.23641298872202157,
          0.5086954674046928,
          -0.2483971567913297,
          1.5100730208969315,
          0.5002961203486755,
          -0.25574688195411244,
          -0.7467671094006217,
          -0.4189497570766799,
          0.5730461597508703,
          -1.431726732049285,
          -0.9259418636873402,
          0.6274563842867187,
          2.0458204822291437,
          1.2316742901491164,
          -0.43220019448124075,
          0.7077020854027325,
          -1.5853859789697726,
          0.4807179359635406,
          -1.3024623926698402,
          1.6896361218890077,
          2.4627513735028703,
          -0.1677764434855635,
          -0.03935738533338876,
          -1.053561193566943,
          1.3906932780856869,
          0.5695467751425498,
          0.22699250074578836,
          0.9967394933539656,
          0.9245994498217607,
          -0.7341404619357271,
          0.709895521454746,
          0.7712935319432523,
          0.10577149268713595,
          0.7011702661369695,
          -0.7437745832610808,
          0.40193837133621413,
          -0.03408182487082432,
          0.4684774592219555,
          0.4818913373936253,
          2.094699024132364,
          0.3382887195118553,
          0.08293502643049379,
          1.2015167791109795,
          -0.27836722809734166,
          1.0153666305994116,
          1.4738945865609736,
          -2.968119177361254,
          -0.5513376320465491
         ],
         "yaxis": "y15"
        },
        {
         "histfunc": "count",
         "histnorm": "",
         "marker": {
          "color": "rgba(128, 0, 128, 1.0)",
          "line": {
           "color": "#4D5663",
           "width": 1.3
          }
         },
         "name": "D",
         "nbinsx": 10,
         "opacity": 0.8,
         "orientation": "v",
         "type": "histogram",
         "x": [
          0.008652614534942028,
          -0.7949614463548819,
          1.0280042026477036,
          0.8164424740301507,
          0.617727507928314,
          0.15222624393647677,
          1.2859841750205485,
          0.409151171250876,
          -0.6648903490713879,
          0.188280991573493,
          1.7361962451553843,
          0.1292603721639433,
          -1.0746782055634203,
          0.6679863781746483,
          0.2986849379544349,
          -1.2972181834227539,
          0.7234912586140759,
          -1.9871127363581325,
          1.4820943021722468,
          -1.6201531167299896,
          0.667857279595324,
          -1.382531979907316,
          1.1859347449849038,
          -0.42387907178714945,
          0.12645368517089497,
          0.09773820388292274,
          0.6400915462748148,
          0.5104472462638728,
          -0.6806357061741313,
          -0.5150359137758567,
          0.2994526122925929,
          1.5384351485364862,
          -0.3202795354719194,
          -0.19414487250516232,
          -0.21125034780522955,
          1.8555070729023406,
          -0.09338720531514051,
          0.11637535712167411,
          1.49784256052569,
          0.06007444341741698,
          -0.2476782556349282,
          -0.012592927738989842,
          -0.8491035964374101,
          -0.26595759374177486,
          1.1697726986691868,
          0.20333218176749726,
          -0.14393716301640563,
          2.319931703106863,
          0.9738955651766313,
          -0.50053166966656,
          -0.8319540887003886,
          1.26595252565857,
          -0.23641298872202157,
          0.5086954674046928,
          -0.2483971567913297,
          1.5100730208969315,
          0.5002961203486755,
          -0.25574688195411244,
          -0.7467671094006217,
          -0.4189497570766799,
          0.5730461597508703,
          -1.431726732049285,
          -0.9259418636873402,
          0.6274563842867187,
          2.0458204822291437,
          1.2316742901491164,
          -0.43220019448124075,
          0.7077020854027325,
          -1.5853859789697726,
          0.4807179359635406,
          -1.3024623926698402,
          1.6896361218890077,
          2.4627513735028703,
          -0.1677764434855635,
          -0.03935738533338876,
          -1.053561193566943,
          1.3906932780856869,
          0.5695467751425498,
          0.22699250074578836,
          0.9967394933539656,
          0.9245994498217607,
          -0.7341404619357271,
          0.709895521454746,
          0.7712935319432523,
          0.10577149268713595,
          0.7011702661369695,
          -0.7437745832610808,
          0.40193837133621413,
          -0.03408182487082432,
          0.4684774592219555,
          0.4818913373936253,
          2.094699024132364,
          0.3382887195118553,
          0.08293502643049379,
          1.2015167791109795,
          -0.27836722809734166,
          1.0153666305994116,
          1.4738945865609736,
          -2.968119177361254,
          -0.5513376320465491
         ],
         "xaxis": "x16",
         "yaxis": "y16"
        }
       ],
       "layout": {
        "bargap": 0.02,
        "legend": {
         "bgcolor": "#F5F6F9",
         "font": {
          "color": "#4D5663"
         }
        },
        "paper_bgcolor": "#F5F6F9",
        "plot_bgcolor": "#F5F6F9",
        "showlegend": false,
        "template": {
         "data": {
          "bar": [
           {
            "error_x": {
             "color": "#2a3f5f"
            },
            "error_y": {
             "color": "#2a3f5f"
            },
            "marker": {
             "line": {
              "color": "#E5ECF6",
              "width": 0.5
             }
            },
            "type": "bar"
           }
          ],
          "barpolar": [
           {
            "marker": {
             "line": {
              "color": "#E5ECF6",
              "width": 0.5
             }
            },
            "type": "barpolar"
           }
          ],
          "carpet": [
           {
            "aaxis": {
             "endlinecolor": "#2a3f5f",
             "gridcolor": "white",
             "linecolor": "white",
             "minorgridcolor": "white",
             "startlinecolor": "#2a3f5f"
            },
            "baxis": {
             "endlinecolor": "#2a3f5f",
             "gridcolor": "white",
             "linecolor": "white",
             "minorgridcolor": "white",
             "startlinecolor": "#2a3f5f"
            },
            "type": "carpet"
           }
          ],
          "choropleth": [
           {
            "colorbar": {
             "outlinewidth": 0,
             "ticks": ""
            },
            "type": "choropleth"
           }
          ],
          "contour": [
           {
            "colorbar": {
             "outlinewidth": 0,
             "ticks": ""
            },
            "colorscale": [
             [
              0,
              "#0d0887"
             ],
             [
              0.1111111111111111,
              "#46039f"
             ],
             [
              0.2222222222222222,
              "#7201a8"
             ],
             [
              0.3333333333333333,
              "#9c179e"
             ],
             [
              0.4444444444444444,
              "#bd3786"
             ],
             [
              0.5555555555555556,
              "#d8576b"
             ],
             [
              0.6666666666666666,
              "#ed7953"
             ],
             [
              0.7777777777777778,
              "#fb9f3a"
             ],
             [
              0.8888888888888888,
              "#fdca26"
             ],
             [
              1,
              "#f0f921"
             ]
            ],
            "type": "contour"
           }
          ],
          "contourcarpet": [
           {
            "colorbar": {
             "outlinewidth": 0,
             "ticks": ""
            },
            "type": "contourcarpet"
           }
          ],
          "heatmap": [
           {
            "colorbar": {
             "outlinewidth": 0,
             "ticks": ""
            },
            "colorscale": [
             [
              0,
              "#0d0887"
             ],
             [
              0.1111111111111111,
              "#46039f"
             ],
             [
              0.2222222222222222,
              "#7201a8"
             ],
             [
              0.3333333333333333,
              "#9c179e"
             ],
             [
              0.4444444444444444,
              "#bd3786"
             ],
             [
              0.5555555555555556,
              "#d8576b"
             ],
             [
              0.6666666666666666,
              "#ed7953"
             ],
             [
              0.7777777777777778,
              "#fb9f3a"
             ],
             [
              0.8888888888888888,
              "#fdca26"
             ],
             [
              1,
              "#f0f921"
             ]
            ],
            "type": "heatmap"
           }
          ],
          "heatmapgl": [
           {
            "colorbar": {
             "outlinewidth": 0,
             "ticks": ""
            },
            "colorscale": [
             [
              0,
              "#0d0887"
             ],
             [
              0.1111111111111111,
              "#46039f"
             ],
             [
              0.2222222222222222,
              "#7201a8"
             ],
             [
              0.3333333333333333,
              "#9c179e"
             ],
             [
              0.4444444444444444,
              "#bd3786"
             ],
             [
              0.5555555555555556,
              "#d8576b"
             ],
             [
              0.6666666666666666,
              "#ed7953"
             ],
             [
              0.7777777777777778,
              "#fb9f3a"
             ],
             [
              0.8888888888888888,
              "#fdca26"
             ],
             [
              1,
              "#f0f921"
             ]
            ],
            "type": "heatmapgl"
           }
          ],
          "histogram": [
           {
            "marker": {
             "colorbar": {
              "outlinewidth": 0,
              "ticks": ""
             }
            },
            "type": "histogram"
           }
          ],
          "histogram2d": [
           {
            "colorbar": {
             "outlinewidth": 0,
             "ticks": ""
            },
            "colorscale": [
             [
              0,
              "#0d0887"
             ],
             [
              0.1111111111111111,
              "#46039f"
             ],
             [
              0.2222222222222222,
              "#7201a8"
             ],
             [
              0.3333333333333333,
              "#9c179e"
             ],
             [
              0.4444444444444444,
              "#bd3786"
             ],
             [
              0.5555555555555556,
              "#d8576b"
             ],
             [
              0.6666666666666666,
              "#ed7953"
             ],
             [
              0.7777777777777778,
              "#fb9f3a"
             ],
             [
              0.8888888888888888,
              "#fdca26"
             ],
             [
              1,
              "#f0f921"
             ]
            ],
            "type": "histogram2d"
           }
          ],
          "histogram2dcontour": [
           {
            "colorbar": {
             "outlinewidth": 0,
             "ticks": ""
            },
            "colorscale": [
             [
              0,
              "#0d0887"
             ],
             [
              0.1111111111111111,
              "#46039f"
             ],
             [
              0.2222222222222222,
              "#7201a8"
             ],
             [
              0.3333333333333333,
              "#9c179e"
             ],
             [
              0.4444444444444444,
              "#bd3786"
             ],
             [
              0.5555555555555556,
              "#d8576b"
             ],
             [
              0.6666666666666666,
              "#ed7953"
             ],
             [
              0.7777777777777778,
              "#fb9f3a"
             ],
             [
              0.8888888888888888,
              "#fdca26"
             ],
             [
              1,
              "#f0f921"
             ]
            ],
            "type": "histogram2dcontour"
           }
          ],
          "mesh3d": [
           {
            "colorbar": {
             "outlinewidth": 0,
             "ticks": ""
            },
            "type": "mesh3d"
           }
          ],
          "parcoords": [
           {
            "line": {
             "colorbar": {
              "outlinewidth": 0,
              "ticks": ""
             }
            },
            "type": "parcoords"
           }
          ],
          "pie": [
           {
            "automargin": true,
            "type": "pie"
           }
          ],
          "scatter": [
           {
            "marker": {
             "colorbar": {
              "outlinewidth": 0,
              "ticks": ""
             }
            },
            "type": "scatter"
           }
          ],
          "scatter3d": [
           {
            "line": {
             "colorbar": {
              "outlinewidth": 0,
              "ticks": ""
             }
            },
            "marker": {
             "colorbar": {
              "outlinewidth": 0,
              "ticks": ""
             }
            },
            "type": "scatter3d"
           }
          ],
          "scattercarpet": [
           {
            "marker": {
             "colorbar": {
              "outlinewidth": 0,
              "ticks": ""
             }
            },
            "type": "scattercarpet"
           }
          ],
          "scattergeo": [
           {
            "marker": {
             "colorbar": {
              "outlinewidth": 0,
              "ticks": ""
             }
            },
            "type": "scattergeo"
           }
          ],
          "scattergl": [
           {
            "marker": {
             "colorbar": {
              "outlinewidth": 0,
              "ticks": ""
             }
            },
            "type": "scattergl"
           }
          ],
          "scattermapbox": [
           {
            "marker": {
             "colorbar": {
              "outlinewidth": 0,
              "ticks": ""
             }
            },
            "type": "scattermapbox"
           }
          ],
          "scatterpolar": [
           {
            "marker": {
             "colorbar": {
              "outlinewidth": 0,
              "ticks": ""
             }
            },
            "type": "scatterpolar"
           }
          ],
          "scatterpolargl": [
           {
            "marker": {
             "colorbar": {
              "outlinewidth": 0,
              "ticks": ""
             }
            },
            "type": "scatterpolargl"
           }
          ],
          "scatterternary": [
           {
            "marker": {
             "colorbar": {
              "outlinewidth": 0,
              "ticks": ""
             }
            },
            "type": "scatterternary"
           }
          ],
          "surface": [
           {
            "colorbar": {
             "outlinewidth": 0,
             "ticks": ""
            },
            "colorscale": [
             [
              0,
              "#0d0887"
             ],
             [
              0.1111111111111111,
              "#46039f"
             ],
             [
              0.2222222222222222,
              "#7201a8"
             ],
             [
              0.3333333333333333,
              "#9c179e"
             ],
             [
              0.4444444444444444,
              "#bd3786"
             ],
             [
              0.5555555555555556,
              "#d8576b"
             ],
             [
              0.6666666666666666,
              "#ed7953"
             ],
             [
              0.7777777777777778,
              "#fb9f3a"
             ],
             [
              0.8888888888888888,
              "#fdca26"
             ],
             [
              1,
              "#f0f921"
             ]
            ],
            "type": "surface"
           }
          ],
          "table": [
           {
            "cells": {
             "fill": {
              "color": "#EBF0F8"
             },
             "line": {
              "color": "white"
             }
            },
            "header": {
             "fill": {
              "color": "#C8D4E3"
             },
             "line": {
              "color": "white"
             }
            },
            "type": "table"
           }
          ]
         },
         "layout": {
          "annotationdefaults": {
           "arrowcolor": "#2a3f5f",
           "arrowhead": 0,
           "arrowwidth": 1
          },
          "coloraxis": {
           "colorbar": {
            "outlinewidth": 0,
            "ticks": ""
           }
          },
          "colorscale": {
           "diverging": [
            [
             0,
             "#8e0152"
            ],
            [
             0.1,
             "#c51b7d"
            ],
            [
             0.2,
             "#de77ae"
            ],
            [
             0.3,
             "#f1b6da"
            ],
            [
             0.4,
             "#fde0ef"
            ],
            [
             0.5,
             "#f7f7f7"
            ],
            [
             0.6,
             "#e6f5d0"
            ],
            [
             0.7,
             "#b8e186"
            ],
            [
             0.8,
             "#7fbc41"
            ],
            [
             0.9,
             "#4d9221"
            ],
            [
             1,
             "#276419"
            ]
           ],
           "sequential": [
            [
             0,
             "#0d0887"
            ],
            [
             0.1111111111111111,
             "#46039f"
            ],
            [
             0.2222222222222222,
             "#7201a8"
            ],
            [
             0.3333333333333333,
             "#9c179e"
            ],
            [
             0.4444444444444444,
             "#bd3786"
            ],
            [
             0.5555555555555556,
             "#d8576b"
            ],
            [
             0.6666666666666666,
             "#ed7953"
            ],
            [
             0.7777777777777778,
             "#fb9f3a"
            ],
            [
             0.8888888888888888,
             "#fdca26"
            ],
            [
             1,
             "#f0f921"
            ]
           ],
           "sequentialminus": [
            [
             0,
             "#0d0887"
            ],
            [
             0.1111111111111111,
             "#46039f"
            ],
            [
             0.2222222222222222,
             "#7201a8"
            ],
            [
             0.3333333333333333,
             "#9c179e"
            ],
            [
             0.4444444444444444,
             "#bd3786"
            ],
            [
             0.5555555555555556,
             "#d8576b"
            ],
            [
             0.6666666666666666,
             "#ed7953"
            ],
            [
             0.7777777777777778,
             "#fb9f3a"
            ],
            [
             0.8888888888888888,
             "#fdca26"
            ],
            [
             1,
             "#f0f921"
            ]
           ]
          },
          "colorway": [
           "#636efa",
           "#EF553B",
           "#00cc96",
           "#ab63fa",
           "#FFA15A",
           "#19d3f3",
           "#FF6692",
           "#B6E880",
           "#FF97FF",
           "#FECB52"
          ],
          "font": {
           "color": "#2a3f5f"
          },
          "geo": {
           "bgcolor": "white",
           "lakecolor": "white",
           "landcolor": "#E5ECF6",
           "showlakes": true,
           "showland": true,
           "subunitcolor": "white"
          },
          "hoverlabel": {
           "align": "left"
          },
          "hovermode": "closest",
          "mapbox": {
           "style": "light"
          },
          "paper_bgcolor": "white",
          "plot_bgcolor": "#E5ECF6",
          "polar": {
           "angularaxis": {
            "gridcolor": "white",
            "linecolor": "white",
            "ticks": ""
           },
           "bgcolor": "#E5ECF6",
           "radialaxis": {
            "gridcolor": "white",
            "linecolor": "white",
            "ticks": ""
           }
          },
          "scene": {
           "xaxis": {
            "backgroundcolor": "#E5ECF6",
            "gridcolor": "white",
            "gridwidth": 2,
            "linecolor": "white",
            "showbackground": true,
            "ticks": "",
            "zerolinecolor": "white"
           },
           "yaxis": {
            "backgroundcolor": "#E5ECF6",
            "gridcolor": "white",
            "gridwidth": 2,
            "linecolor": "white",
            "showbackground": true,
            "ticks": "",
            "zerolinecolor": "white"
           },
           "zaxis": {
            "backgroundcolor": "#E5ECF6",
            "gridcolor": "white",
            "gridwidth": 2,
            "linecolor": "white",
            "showbackground": true,
            "ticks": "",
            "zerolinecolor": "white"
           }
          },
          "shapedefaults": {
           "line": {
            "color": "#2a3f5f"
           }
          },
          "ternary": {
           "aaxis": {
            "gridcolor": "white",
            "linecolor": "white",
            "ticks": ""
           },
           "baxis": {
            "gridcolor": "white",
            "linecolor": "white",
            "ticks": ""
           },
           "bgcolor": "#E5ECF6",
           "caxis": {
            "gridcolor": "white",
            "linecolor": "white",
            "ticks": ""
           }
          },
          "title": {
           "x": 0.05
          },
          "xaxis": {
           "automargin": true,
           "gridcolor": "white",
           "linecolor": "white",
           "ticks": "",
           "title": {
            "standoff": 15
           },
           "zerolinecolor": "white",
           "zerolinewidth": 2
          },
          "yaxis": {
           "automargin": true,
           "gridcolor": "white",
           "linecolor": "white",
           "ticks": "",
           "title": {
            "standoff": 15
           },
           "zerolinecolor": "white",
           "zerolinewidth": 2
          }
         }
        },
        "title": {
         "font": {
          "color": "#4D5663"
         }
        },
        "xaxis": {
         "anchor": "y",
         "domain": [
          0,
          0.2125
         ],
         "gridcolor": "#E1E5ED",
         "showgrid": false,
         "tickfont": {
          "color": "#4D5663"
         },
         "title": {
          "font": {
           "color": "#4D5663"
          },
          "text": ""
         },
         "zerolinecolor": "#E1E5ED"
        },
        "xaxis10": {
         "anchor": "y10",
         "domain": [
          0.2625,
          0.475
         ],
         "gridcolor": "#E1E5ED",
         "showgrid": false,
         "tickfont": {
          "color": "#4D5663"
         },
         "title": {
          "font": {
           "color": "#4D5663"
          },
          "text": ""
         },
         "zerolinecolor": "#E1E5ED"
        },
        "xaxis11": {
         "anchor": "y11",
         "domain": [
          0.525,
          0.7375
         ],
         "gridcolor": "#E1E5ED",
         "showgrid": false,
         "tickfont": {
          "color": "#4D5663"
         },
         "title": {
          "font": {
           "color": "#4D5663"
          },
          "text": ""
         },
         "zerolinecolor": "#E1E5ED"
        },
        "xaxis12": {
         "anchor": "y12",
         "domain": [
          0.7875,
          1
         ],
         "gridcolor": "#E1E5ED",
         "showgrid": false,
         "tickfont": {
          "color": "#4D5663"
         },
         "title": {
          "font": {
           "color": "#4D5663"
          },
          "text": ""
         },
         "zerolinecolor": "#E1E5ED"
        },
        "xaxis13": {
         "anchor": "y13",
         "domain": [
          0,
          0.2125
         ],
         "gridcolor": "#E1E5ED",
         "showgrid": false,
         "tickfont": {
          "color": "#4D5663"
         },
         "title": {
          "font": {
           "color": "#4D5663"
          },
          "text": ""
         },
         "zerolinecolor": "#E1E5ED"
        },
        "xaxis14": {
         "anchor": "y14",
         "domain": [
          0.2625,
          0.475
         ],
         "gridcolor": "#E1E5ED",
         "showgrid": false,
         "tickfont": {
          "color": "#4D5663"
         },
         "title": {
          "font": {
           "color": "#4D5663"
          },
          "text": ""
         },
         "zerolinecolor": "#E1E5ED"
        },
        "xaxis15": {
         "anchor": "y15",
         "domain": [
          0.525,
          0.7375
         ],
         "gridcolor": "#E1E5ED",
         "showgrid": false,
         "tickfont": {
          "color": "#4D5663"
         },
         "title": {
          "font": {
           "color": "#4D5663"
          },
          "text": ""
         },
         "zerolinecolor": "#E1E5ED"
        },
        "xaxis16": {
         "anchor": "y16",
         "domain": [
          0.7875,
          1
         ],
         "gridcolor": "#E1E5ED",
         "showgrid": false,
         "tickfont": {
          "color": "#4D5663"
         },
         "title": {
          "font": {
           "color": "#4D5663"
          },
          "text": ""
         },
         "zerolinecolor": "#E1E5ED"
        },
        "xaxis2": {
         "anchor": "y2",
         "domain": [
          0.2625,
          0.475
         ],
         "gridcolor": "#E1E5ED",
         "showgrid": false,
         "tickfont": {
          "color": "#4D5663"
         },
         "title": {
          "font": {
           "color": "#4D5663"
          },
          "text": ""
         },
         "zerolinecolor": "#E1E5ED"
        },
        "xaxis3": {
         "anchor": "y3",
         "domain": [
          0.525,
          0.7375
         ],
         "gridcolor": "#E1E5ED",
         "showgrid": false,
         "tickfont": {
          "color": "#4D5663"
         },
         "title": {
          "font": {
           "color": "#4D5663"
          },
          "text": ""
         },
         "zerolinecolor": "#E1E5ED"
        },
        "xaxis4": {
         "anchor": "y4",
         "domain": [
          0.7875,
          1
         ],
         "gridcolor": "#E1E5ED",
         "showgrid": false,
         "tickfont": {
          "color": "#4D5663"
         },
         "title": {
          "font": {
           "color": "#4D5663"
          },
          "text": ""
         },
         "zerolinecolor": "#E1E5ED"
        },
        "xaxis5": {
         "anchor": "y5",
         "domain": [
          0,
          0.2125
         ],
         "gridcolor": "#E1E5ED",
         "showgrid": false,
         "tickfont": {
          "color": "#4D5663"
         },
         "title": {
          "font": {
           "color": "#4D5663"
          },
          "text": ""
         },
         "zerolinecolor": "#E1E5ED"
        },
        "xaxis6": {
         "anchor": "y6",
         "domain": [
          0.2625,
          0.475
         ],
         "gridcolor": "#E1E5ED",
         "showgrid": false,
         "tickfont": {
          "color": "#4D5663"
         },
         "title": {
          "font": {
           "color": "#4D5663"
          },
          "text": ""
         },
         "zerolinecolor": "#E1E5ED"
        },
        "xaxis7": {
         "anchor": "y7",
         "domain": [
          0.525,
          0.7375
         ],
         "gridcolor": "#E1E5ED",
         "showgrid": false,
         "tickfont": {
          "color": "#4D5663"
         },
         "title": {
          "font": {
           "color": "#4D5663"
          },
          "text": ""
         },
         "zerolinecolor": "#E1E5ED"
        },
        "xaxis8": {
         "anchor": "y8",
         "domain": [
          0.7875,
          1
         ],
         "gridcolor": "#E1E5ED",
         "showgrid": false,
         "tickfont": {
          "color": "#4D5663"
         },
         "title": {
          "font": {
           "color": "#4D5663"
          },
          "text": ""
         },
         "zerolinecolor": "#E1E5ED"
        },
        "xaxis9": {
         "anchor": "y9",
         "domain": [
          0,
          0.2125
         ],
         "gridcolor": "#E1E5ED",
         "showgrid": false,
         "tickfont": {
          "color": "#4D5663"
         },
         "title": {
          "font": {
           "color": "#4D5663"
          },
          "text": ""
         },
         "zerolinecolor": "#E1E5ED"
        },
        "yaxis": {
         "anchor": "x",
         "domain": [
          0.8025,
          1
         ],
         "gridcolor": "#E1E5ED",
         "showgrid": false,
         "tickfont": {
          "color": "#4D5663"
         },
         "title": {
          "font": {
           "color": "#4D5663"
          },
          "text": ""
         },
         "zerolinecolor": "#E1E5ED"
        },
        "yaxis10": {
         "anchor": "x10",
         "domain": [
          0.2675,
          0.465
         ],
         "gridcolor": "#E1E5ED",
         "showgrid": false,
         "tickfont": {
          "color": "#4D5663"
         },
         "title": {
          "font": {
           "color": "#4D5663"
          },
          "text": ""
         },
         "zerolinecolor": "#E1E5ED"
        },
        "yaxis11": {
         "anchor": "x11",
         "domain": [
          0.2675,
          0.465
         ],
         "gridcolor": "#E1E5ED",
         "showgrid": false,
         "tickfont": {
          "color": "#4D5663"
         },
         "title": {
          "font": {
           "color": "#4D5663"
          },
          "text": ""
         },
         "zerolinecolor": "#E1E5ED"
        },
        "yaxis12": {
         "anchor": "x12",
         "domain": [
          0.2675,
          0.465
         ],
         "gridcolor": "#E1E5ED",
         "showgrid": false,
         "tickfont": {
          "color": "#4D5663"
         },
         "title": {
          "font": {
           "color": "#4D5663"
          },
          "text": ""
         },
         "zerolinecolor": "#E1E5ED"
        },
        "yaxis13": {
         "anchor": "x13",
         "domain": [
          0,
          0.1975
         ],
         "gridcolor": "#E1E5ED",
         "showgrid": false,
         "tickfont": {
          "color": "#4D5663"
         },
         "title": {
          "font": {
           "color": "#4D5663"
          },
          "text": ""
         },
         "zerolinecolor": "#E1E5ED"
        },
        "yaxis14": {
         "anchor": "x14",
         "domain": [
          0,
          0.1975
         ],
         "gridcolor": "#E1E5ED",
         "showgrid": false,
         "tickfont": {
          "color": "#4D5663"
         },
         "title": {
          "font": {
           "color": "#4D5663"
          },
          "text": ""
         },
         "zerolinecolor": "#E1E5ED"
        },
        "yaxis15": {
         "anchor": "x15",
         "domain": [
          0,
          0.1975
         ],
         "gridcolor": "#E1E5ED",
         "showgrid": false,
         "tickfont": {
          "color": "#4D5663"
         },
         "title": {
          "font": {
           "color": "#4D5663"
          },
          "text": ""
         },
         "zerolinecolor": "#E1E5ED"
        },
        "yaxis16": {
         "anchor": "x16",
         "domain": [
          0,
          0.1975
         ],
         "gridcolor": "#E1E5ED",
         "showgrid": false,
         "tickfont": {
          "color": "#4D5663"
         },
         "title": {
          "font": {
           "color": "#4D5663"
          },
          "text": ""
         },
         "zerolinecolor": "#E1E5ED"
        },
        "yaxis2": {
         "anchor": "x2",
         "domain": [
          0.8025,
          1
         ],
         "gridcolor": "#E1E5ED",
         "showgrid": false,
         "tickfont": {
          "color": "#4D5663"
         },
         "title": {
          "font": {
           "color": "#4D5663"
          },
          "text": ""
         },
         "zerolinecolor": "#E1E5ED"
        },
        "yaxis3": {
         "anchor": "x3",
         "domain": [
          0.8025,
          1
         ],
         "gridcolor": "#E1E5ED",
         "showgrid": false,
         "tickfont": {
          "color": "#4D5663"
         },
         "title": {
          "font": {
           "color": "#4D5663"
          },
          "text": ""
         },
         "zerolinecolor": "#E1E5ED"
        },
        "yaxis4": {
         "anchor": "x4",
         "domain": [
          0.8025,
          1
         ],
         "gridcolor": "#E1E5ED",
         "showgrid": false,
         "tickfont": {
          "color": "#4D5663"
         },
         "title": {
          "font": {
           "color": "#4D5663"
          },
          "text": ""
         },
         "zerolinecolor": "#E1E5ED"
        },
        "yaxis5": {
         "anchor": "x5",
         "domain": [
          0.535,
          0.7325
         ],
         "gridcolor": "#E1E5ED",
         "showgrid": false,
         "tickfont": {
          "color": "#4D5663"
         },
         "title": {
          "font": {
           "color": "#4D5663"
          },
          "text": ""
         },
         "zerolinecolor": "#E1E5ED"
        },
        "yaxis6": {
         "anchor": "x6",
         "domain": [
          0.535,
          0.7325
         ],
         "gridcolor": "#E1E5ED",
         "showgrid": false,
         "tickfont": {
          "color": "#4D5663"
         },
         "title": {
          "font": {
           "color": "#4D5663"
          },
          "text": ""
         },
         "zerolinecolor": "#E1E5ED"
        },
        "yaxis7": {
         "anchor": "x7",
         "domain": [
          0.535,
          0.7325
         ],
         "gridcolor": "#E1E5ED",
         "showgrid": false,
         "tickfont": {
          "color": "#4D5663"
         },
         "title": {
          "font": {
           "color": "#4D5663"
          },
          "text": ""
         },
         "zerolinecolor": "#E1E5ED"
        },
        "yaxis8": {
         "anchor": "x8",
         "domain": [
          0.535,
          0.7325
         ],
         "gridcolor": "#E1E5ED",
         "showgrid": false,
         "tickfont": {
          "color": "#4D5663"
         },
         "title": {
          "font": {
           "color": "#4D5663"
          },
          "text": ""
         },
         "zerolinecolor": "#E1E5ED"
        },
        "yaxis9": {
         "anchor": "x9",
         "domain": [
          0.2675,
          0.465
         ],
         "gridcolor": "#E1E5ED",
         "showgrid": false,
         "tickfont": {
          "color": "#4D5663"
         },
         "title": {
          "font": {
           "color": "#4D5663"
          },
          "text": ""
         },
         "zerolinecolor": "#E1E5ED"
        }
       }
      },
      "text/html": [
       "<div>                            <div id=\"d0f420d3-adc6-4e61-b10c-94b7f711179e\" class=\"plotly-graph-div\" style=\"height:525px; width:100%;\"></div>            <script type=\"text/javascript\">                require([\"plotly\"], function(Plotly) {                    window.PLOTLYENV=window.PLOTLYENV || {};\n",
       "                    window.PLOTLYENV.BASE_URL='https://plot.ly';                                    if (document.getElementById(\"d0f420d3-adc6-4e61-b10c-94b7f711179e\")) {                    Plotly.newPlot(                        \"d0f420d3-adc6-4e61-b10c-94b7f711179e\",                        [{\"histfunc\": \"count\", \"histnorm\": \"\", \"marker\": {\"color\": \"rgba(255, 153, 51, 1.0)\", \"line\": {\"color\": \"#4D5663\", \"width\": 1.3}}, \"name\": \"A\", \"nbinsx\": 10, \"opacity\": 0.8, \"orientation\": \"v\", \"type\": \"histogram\", \"x\": [0.5176590531969488, 0.2611900186917925, -2.0770443227929434, 0.4376128613752404, -0.7972765755299147, -0.9781925854562078, 0.021787211156948774, -1.8227103978927501, 1.7661994574612905, 0.6140684305177554, -0.10348408002873685, -0.005438269546051754, 0.14564690286116566, -1.6019204582868, 0.36412650919654904, 1.8933456811942735, 0.5580880070310005, -1.6721324428771815, -0.7640725461546174, -0.01743915243591418, 0.6748540001753083, 0.7920643030147945, -0.8170164432005932, -0.40348005188696673, 0.6539188908047413, -0.12400523728931026, 1.4032160617444647, -0.5827443655439306, 1.1703201043257259, -1.3220783976434485, 0.27017141466012873, 1.130033689636446, -0.19781497959524116, 0.9146218319990627, 0.6788744017706305, 0.7263896841237812, -0.4270625982491659, 1.7771258173188988, 1.7255189854877893, 0.10071803173376356, 0.5584259746959217, -0.35980148623036257, 0.27320206594699464, -0.9058148329762855, 0.6655637328672925, 0.737591189163516, 0.42918978634587096, -0.667396753774752, 0.33121038394063146, -0.38186248928384686, 0.4080848294364657, 1.7446010964370207, 2.7769588024238145, -0.0500309548669025, 0.1734318857601251, -0.560498934672177, 0.0615027213603778, -0.5563384887782385, 0.6872170531367844, 1.3085125570269542, 0.8658386492120068, -0.41384192152811716, -0.5748894712834556, -0.046030262702725415, -0.7834661261224901, 0.33669600457694904, 0.5649402937564677, 0.7412011360451405, 0.03744861967029218, -0.31441728987996154, 0.12757226281435682, 1.4278042432171743, -0.10084618653539616, 0.44337571123088204, 0.639743871777665, 0.05751155640936568, 0.5562572498216152, -0.1992962817147566, 1.777203558993544, 0.3884239255669419, 0.5974152051587482, -2.336551059610256, 0.37178139089325507, -0.6083978716388516, 1.4014589342993968, -0.707138581612621, -0.15707032363071047, -0.599796745012966, -0.5280305545087325, 0.13617931710002912, 0.20729333459661806, 0.9195443365275761, -1.3027488740641358, -0.22063075065637314, -0.9410102187865621, -0.889314187063548, 1.0927712482439207, 0.42244762596411395, 0.23878587815304225, -1.5437470888769478], \"xaxis\": \"x\", \"yaxis\": \"y\"}, {\"line\": {\"color\": \"rgba(128, 128, 128, 1.0)\", \"dash\": \"solid\", \"shape\": \"linear\", \"width\": 1.3}, \"marker\": {\"size\": 2, \"symbol\": \"circle\"}, \"mode\": \"markers\", \"name\": \"A\", \"text\": \"\", \"type\": \"scatter\", \"x\": [-2.062328018719915, 0.8786899411904887, 1.1874249981439793, 0.620421760886563, 1.8246664737333786, -0.5685579142811606, 0.3088839923239217, -1.0084687897342672, 2.0771684696654575, 1.7617473144705262, 0.5218737819883743, 1.216892180797244, -0.6847447329719094, 0.826588825933059, 2.6200333634388415, 2.027364798276653, 0.46666153606323296, 0.6321266035330925, 0.10354350260081757, -1.4589818998144466, 1.0316131049729904, -0.4343505887332764, 0.15860458063757982, 0.41074091507419974, 1.438825016119307, 0.25298155971555386, 0.46729325225147283, 0.2936712849184672, -1.2348037110121215, -0.10345781303290143, -0.012482275553756294, -0.4475322156922826, -1.1414119122054063, 1.6628239176950863, 1.7068757940201402, -0.6201760521654056, 1.4276529258902466, 1.443110863145192, -0.0025796355047607586, -0.2837037736078109, -0.1487082196497076, 2.4894492822509338, 1.852621410994538, 0.8612759018913871, 0.8478792360988995, 0.5229295789614508, 0.1098334359498861, 0.2612972220104098, -1.792210724907832, -0.3742743391106684, -1.4474845739003757, 0.23369699704612115, -0.3998708578038428, -0.3238301112207704, -0.3638097440063624, 0.7677830069036755, -0.9560266895216887, -1.2620487398743916, -0.03370315564410422, 0.7163516147304333, -0.5732647969071828, 0.07060724906093349, 0.4459274755835238, 0.650618412269321, -1.0244672632772345, -0.6681332442599868, -0.9722001914014322, 0.45238929472010353, -2.8035768324235644, 0.9014287430239033, 1.319467095259805, 0.814749966559747, -1.6194588318172127, 1.810232824196542, -0.34028761466536867, -1.1591663343929903, -0.06465852470255785, 1.7281846836066086, -0.8877610317705266, 0.28713523914667666, 0.2274495262561486, 1.5675547163890926, 0.01636233235734836, -0.46263266260882785, 1.4710093187284892, 2.008148901429391, -0.07354278241686084, 0.741500628831564, -0.29140165890473285, -0.4392997604281096, -0.4367500190228618, 2.0212482820418307, 0.3225503619977586, 1.6557249579245188, -1.2396003969104676, 0.9414280160172462, 1.5208718204530265, 0.43530949652827217, 0.9965272851620621, -0.3126121992418231], \"xaxis\": \"x2\", \"y\": [0.5176590531969488, 0.2611900186917925, -2.0770443227929434, 0.4376128613752404, -0.7972765755299147, -0.9781925854562078, 0.021787211156948774, -1.8227103978927501, 1.7661994574612905, 0.6140684305177554, -0.10348408002873685, -0.005438269546051754, 0.14564690286116566, -1.6019204582868, 0.36412650919654904, 1.8933456811942735, 0.5580880070310005, -1.6721324428771815, -0.7640725461546174, -0.01743915243591418, 0.6748540001753083, 0.7920643030147945, -0.8170164432005932, -0.40348005188696673, 0.6539188908047413, -0.12400523728931026, 1.4032160617444647, -0.5827443655439306, 1.1703201043257259, -1.3220783976434485, 0.27017141466012873, 1.130033689636446, -0.19781497959524116, 0.9146218319990627, 0.6788744017706305, 0.7263896841237812, -0.4270625982491659, 1.7771258173188988, 1.7255189854877893, 0.10071803173376356, 0.5584259746959217, -0.35980148623036257, 0.27320206594699464, -0.9058148329762855, 0.6655637328672925, 0.737591189163516, 0.42918978634587096, -0.667396753774752, 0.33121038394063146, -0.38186248928384686, 0.4080848294364657, 1.7446010964370207, 2.7769588024238145, -0.0500309548669025, 0.1734318857601251, -0.560498934672177, 0.0615027213603778, -0.5563384887782385, 0.6872170531367844, 1.3085125570269542, 0.8658386492120068, -0.41384192152811716, -0.5748894712834556, -0.046030262702725415, -0.7834661261224901, 0.33669600457694904, 0.5649402937564677, 0.7412011360451405, 0.03744861967029218, -0.31441728987996154, 0.12757226281435682, 1.4278042432171743, -0.10084618653539616, 0.44337571123088204, 0.639743871777665, 0.05751155640936568, 0.5562572498216152, -0.1992962817147566, 1.777203558993544, 0.3884239255669419, 0.5974152051587482, -2.336551059610256, 0.37178139089325507, -0.6083978716388516, 1.4014589342993968, -0.707138581612621, -0.15707032363071047, -0.599796745012966, -0.5280305545087325, 0.13617931710002912, 0.20729333459661806, 0.9195443365275761, -1.3027488740641358, -0.22063075065637314, -0.9410102187865621, -0.889314187063548, 1.0927712482439207, 0.42244762596411395, 0.23878587815304225, -1.5437470888769478], \"yaxis\": \"y2\"}, {\"line\": {\"color\": \"rgba(128, 128, 128, 1.0)\", \"dash\": \"solid\", \"shape\": \"linear\", \"width\": 1.3}, \"marker\": {\"size\": 2, \"symbol\": \"circle\"}, \"mode\": \"markers\", \"name\": \"A\", \"text\": \"\", \"type\": \"scatter\", \"x\": [-0.48727860918233845, -0.5282876554663558, -0.27209616600687514, 0.4447395054648122, -1.4147182032605394, -2.001545536032162, -0.8139050768749961, -0.08415540958256855, 0.16335269253475443, 0.22192531594078874, -0.7465145927699801, 1.2382381928715527, 0.399710364052061, -0.5556296232435419, 0.10523112078869563, 1.1075848231005008, -1.0158005159433114, -0.7596710471859048, -1.452844043355656, -1.3915239186957886, -0.8097881708806685, -1.0178370496865219, -0.44637160508025686, 1.6132859180573627, 0.17565726818527774, -0.33876503846131806, 0.022724720511940365, 1.6098888151291977, -0.5402897665187559, -0.3554593958944142, 2.3165434218398167, -0.41160881523191234, 0.166116246324514, 1.459866207392856, -0.6317076246014489, 0.19800936578443315, 1.378637346836652, 0.10374326247746794, -0.6413361770585316, 0.11458583231732682, 0.9599041243565135, -1.5723371667133335, -0.4664639112913684, -1.6394106572834544, 0.1467652757537728, 0.8728649133790104, 1.7307337730148245, 0.368431840278857, -0.5755407970147597, -0.31202607964170215, 0.8709887287203207, 1.8961004612187617, 0.3728939052783495, -0.9531482486755148, -0.11332309514039031, 0.6422017191643308, -0.5197642814954431, 1.147175223621175, 0.5733264065122081, 1.65480807517257, -0.6849922967207143, 0.18479013520102885, -0.6447413089856846, 0.22400894574406588, 0.16538156131413714, 0.16441194950459131, 0.21669332906532554, 0.4813508678379441, 0.9699696772792914, -1.1665459251264292, 1.2076075393271433, 0.29368548555331, 1.4642308467104312, -0.7069728908570257, 0.4013650329273782, -0.18230132007368946, -0.2885258866502022, -0.39336355208417584, -0.23959986433443717, -1.2923231501205141, 2.2994227658303097, -0.9263893110196699, 0.15646208823728108, -0.15706175886400028, 0.7763084460606078, -1.2724470509423125, -0.26750777327402353, 1.3719350763740965, -0.7472787619207025, 0.22924825934807877, -0.7087814295431368, 0.036516810427891414, 0.17659439595002455, 0.6481653101242475, -1.3438934309126367, 1.73178952168849, -0.5693855683705377, 0.7592866846464033, -0.0932190500533003, 0.2806141883330818], \"xaxis\": \"x3\", \"y\": [0.5176590531969488, 0.2611900186917925, -2.0770443227929434, 0.4376128613752404, -0.7972765755299147, -0.9781925854562078, 0.021787211156948774, -1.8227103978927501, 1.7661994574612905, 0.6140684305177554, -0.10348408002873685, -0.005438269546051754, 0.14564690286116566, -1.6019204582868, 0.36412650919654904, 1.8933456811942735, 0.5580880070310005, -1.6721324428771815, -0.7640725461546174, -0.01743915243591418, 0.6748540001753083, 0.7920643030147945, -0.8170164432005932, -0.40348005188696673, 0.6539188908047413, -0.12400523728931026, 1.4032160617444647, -0.5827443655439306, 1.1703201043257259, -1.3220783976434485, 0.27017141466012873, 1.130033689636446, -0.19781497959524116, 0.9146218319990627, 0.6788744017706305, 0.7263896841237812, -0.4270625982491659, 1.7771258173188988, 1.7255189854877893, 0.10071803173376356, 0.5584259746959217, -0.35980148623036257, 0.27320206594699464, -0.9058148329762855, 0.6655637328672925, 0.737591189163516, 0.42918978634587096, -0.667396753774752, 0.33121038394063146, -0.38186248928384686, 0.4080848294364657, 1.7446010964370207, 2.7769588024238145, -0.0500309548669025, 0.1734318857601251, -0.560498934672177, 0.0615027213603778, -0.5563384887782385, 0.6872170531367844, 1.3085125570269542, 0.8658386492120068, -0.41384192152811716, -0.5748894712834556, -0.046030262702725415, -0.7834661261224901, 0.33669600457694904, 0.5649402937564677, 0.7412011360451405, 0.03744861967029218, -0.31441728987996154, 0.12757226281435682, 1.4278042432171743, -0.10084618653539616, 0.44337571123088204, 0.639743871777665, 0.05751155640936568, 0.5562572498216152, -0.1992962817147566, 1.777203558993544, 0.3884239255669419, 0.5974152051587482, -2.336551059610256, 0.37178139089325507, -0.6083978716388516, 1.4014589342993968, -0.707138581612621, -0.15707032363071047, -0.599796745012966, -0.5280305545087325, 0.13617931710002912, 0.20729333459661806, 0.9195443365275761, -1.3027488740641358, -0.22063075065637314, -0.9410102187865621, -0.889314187063548, 1.0927712482439207, 0.42244762596411395, 0.23878587815304225, -1.5437470888769478], \"yaxis\": \"y3\"}, {\"line\": {\"color\": \"rgba(128, 128, 128, 1.0)\", \"dash\": \"solid\", \"shape\": \"linear\", \"width\": 1.3}, \"marker\": {\"size\": 2, \"symbol\": \"circle\"}, \"mode\": \"markers\", \"name\": \"A\", \"text\": \"\", \"type\": \"scatter\", \"x\": [0.008652614534942028, -0.7949614463548819, 1.0280042026477036, 0.8164424740301507, 0.617727507928314, 0.15222624393647677, 1.2859841750205485, 0.409151171250876, -0.6648903490713879, 0.188280991573493, 1.7361962451553843, 0.1292603721639433, -1.0746782055634203, 0.6679863781746483, 0.2986849379544349, -1.2972181834227539, 0.7234912586140759, -1.9871127363581325, 1.4820943021722468, -1.6201531167299896, 0.667857279595324, -1.382531979907316, 1.1859347449849038, -0.42387907178714945, 0.12645368517089497, 0.09773820388292274, 0.6400915462748148, 0.5104472462638728, -0.6806357061741313, -0.5150359137758567, 0.2994526122925929, 1.5384351485364862, -0.3202795354719194, -0.19414487250516232, -0.21125034780522955, 1.8555070729023406, -0.09338720531514051, 0.11637535712167411, 1.49784256052569, 0.06007444341741698, -0.2476782556349282, -0.012592927738989842, -0.8491035964374101, -0.26595759374177486, 1.1697726986691868, 0.20333218176749726, -0.14393716301640563, 2.319931703106863, 0.9738955651766313, -0.50053166966656, -0.8319540887003886, 1.26595252565857, -0.23641298872202157, 0.5086954674046928, -0.2483971567913297, 1.5100730208969315, 0.5002961203486755, -0.25574688195411244, -0.7467671094006217, -0.4189497570766799, 0.5730461597508703, -1.431726732049285, -0.9259418636873402, 0.6274563842867187, 2.0458204822291437, 1.2316742901491164, -0.43220019448124075, 0.7077020854027325, -1.5853859789697726, 0.4807179359635406, -1.3024623926698402, 1.6896361218890077, 2.4627513735028703, -0.1677764434855635, -0.03935738533338876, -1.053561193566943, 1.3906932780856869, 0.5695467751425498, 0.22699250074578836, 0.9967394933539656, 0.9245994498217607, -0.7341404619357271, 0.709895521454746, 0.7712935319432523, 0.10577149268713595, 0.7011702661369695, -0.7437745832610808, 0.40193837133621413, -0.03408182487082432, 0.4684774592219555, 0.4818913373936253, 2.094699024132364, 0.3382887195118553, 0.08293502643049379, 1.2015167791109795, -0.27836722809734166, 1.0153666305994116, 1.4738945865609736, -2.968119177361254, -0.5513376320465491], \"xaxis\": \"x4\", \"y\": [0.5176590531969488, 0.2611900186917925, -2.0770443227929434, 0.4376128613752404, -0.7972765755299147, -0.9781925854562078, 0.021787211156948774, -1.8227103978927501, 1.7661994574612905, 0.6140684305177554, -0.10348408002873685, -0.005438269546051754, 0.14564690286116566, -1.6019204582868, 0.36412650919654904, 1.8933456811942735, 0.5580880070310005, -1.6721324428771815, -0.7640725461546174, -0.01743915243591418, 0.6748540001753083, 0.7920643030147945, -0.8170164432005932, -0.40348005188696673, 0.6539188908047413, -0.12400523728931026, 1.4032160617444647, -0.5827443655439306, 1.1703201043257259, -1.3220783976434485, 0.27017141466012873, 1.130033689636446, -0.19781497959524116, 0.9146218319990627, 0.6788744017706305, 0.7263896841237812, -0.4270625982491659, 1.7771258173188988, 1.7255189854877893, 0.10071803173376356, 0.5584259746959217, -0.35980148623036257, 0.27320206594699464, -0.9058148329762855, 0.6655637328672925, 0.737591189163516, 0.42918978634587096, -0.667396753774752, 0.33121038394063146, -0.38186248928384686, 0.4080848294364657, 1.7446010964370207, 2.7769588024238145, -0.0500309548669025, 0.1734318857601251, -0.560498934672177, 0.0615027213603778, -0.5563384887782385, 0.6872170531367844, 1.3085125570269542, 0.8658386492120068, -0.41384192152811716, -0.5748894712834556, -0.046030262702725415, -0.7834661261224901, 0.33669600457694904, 0.5649402937564677, 0.7412011360451405, 0.03744861967029218, -0.31441728987996154, 0.12757226281435682, 1.4278042432171743, -0.10084618653539616, 0.44337571123088204, 0.639743871777665, 0.05751155640936568, 0.5562572498216152, -0.1992962817147566, 1.777203558993544, 0.3884239255669419, 0.5974152051587482, -2.336551059610256, 0.37178139089325507, -0.6083978716388516, 1.4014589342993968, -0.707138581612621, -0.15707032363071047, -0.599796745012966, -0.5280305545087325, 0.13617931710002912, 0.20729333459661806, 0.9195443365275761, -1.3027488740641358, -0.22063075065637314, -0.9410102187865621, -0.889314187063548, 1.0927712482439207, 0.42244762596411395, 0.23878587815304225, -1.5437470888769478], \"yaxis\": \"y4\"}, {\"line\": {\"color\": \"rgba(128, 128, 128, 1.0)\", \"dash\": \"solid\", \"shape\": \"linear\", \"width\": 1.3}, \"marker\": {\"size\": 2, \"symbol\": \"circle\"}, \"mode\": \"markers\", \"name\": \"B\", \"text\": \"\", \"type\": \"scatter\", \"x\": [0.5176590531969488, 0.2611900186917925, -2.0770443227929434, 0.4376128613752404, -0.7972765755299147, -0.9781925854562078, 0.021787211156948774, -1.8227103978927501, 1.7661994574612905, 0.6140684305177554, -0.10348408002873685, -0.005438269546051754, 0.14564690286116566, -1.6019204582868, 0.36412650919654904, 1.8933456811942735, 0.5580880070310005, -1.6721324428771815, -0.7640725461546174, -0.01743915243591418, 0.6748540001753083, 0.7920643030147945, -0.8170164432005932, -0.40348005188696673, 0.6539188908047413, -0.12400523728931026, 1.4032160617444647, -0.5827443655439306, 1.1703201043257259, -1.3220783976434485, 0.27017141466012873, 1.130033689636446, -0.19781497959524116, 0.9146218319990627, 0.6788744017706305, 0.7263896841237812, -0.4270625982491659, 1.7771258173188988, 1.7255189854877893, 0.10071803173376356, 0.5584259746959217, -0.35980148623036257, 0.27320206594699464, -0.9058148329762855, 0.6655637328672925, 0.737591189163516, 0.42918978634587096, -0.667396753774752, 0.33121038394063146, -0.38186248928384686, 0.4080848294364657, 1.7446010964370207, 2.7769588024238145, -0.0500309548669025, 0.1734318857601251, -0.560498934672177, 0.0615027213603778, -0.5563384887782385, 0.6872170531367844, 1.3085125570269542, 0.8658386492120068, -0.41384192152811716, -0.5748894712834556, -0.046030262702725415, -0.7834661261224901, 0.33669600457694904, 0.5649402937564677, 0.7412011360451405, 0.03744861967029218, -0.31441728987996154, 0.12757226281435682, 1.4278042432171743, -0.10084618653539616, 0.44337571123088204, 0.639743871777665, 0.05751155640936568, 0.5562572498216152, -0.1992962817147566, 1.777203558993544, 0.3884239255669419, 0.5974152051587482, -2.336551059610256, 0.37178139089325507, -0.6083978716388516, 1.4014589342993968, -0.707138581612621, -0.15707032363071047, -0.599796745012966, -0.5280305545087325, 0.13617931710002912, 0.20729333459661806, 0.9195443365275761, -1.3027488740641358, -0.22063075065637314, -0.9410102187865621, -0.889314187063548, 1.0927712482439207, 0.42244762596411395, 0.23878587815304225, -1.5437470888769478], \"xaxis\": \"x5\", \"y\": [-2.062328018719915, 0.8786899411904887, 1.1874249981439793, 0.620421760886563, 1.8246664737333786, -0.5685579142811606, 0.3088839923239217, -1.0084687897342672, 2.0771684696654575, 1.7617473144705262, 0.5218737819883743, 1.216892180797244, -0.6847447329719094, 0.826588825933059, 2.6200333634388415, 2.027364798276653, 0.46666153606323296, 0.6321266035330925, 0.10354350260081757, -1.4589818998144466, 1.0316131049729904, -0.4343505887332764, 0.15860458063757982, 0.41074091507419974, 1.438825016119307, 0.25298155971555386, 0.46729325225147283, 0.2936712849184672, -1.2348037110121215, -0.10345781303290143, -0.012482275553756294, -0.4475322156922826, -1.1414119122054063, 1.6628239176950863, 1.7068757940201402, -0.6201760521654056, 1.4276529258902466, 1.443110863145192, -0.0025796355047607586, -0.2837037736078109, -0.1487082196497076, 2.4894492822509338, 1.852621410994538, 0.8612759018913871, 0.8478792360988995, 0.5229295789614508, 0.1098334359498861, 0.2612972220104098, -1.792210724907832, -0.3742743391106684, -1.4474845739003757, 0.23369699704612115, -0.3998708578038428, -0.3238301112207704, -0.3638097440063624, 0.7677830069036755, -0.9560266895216887, -1.2620487398743916, -0.03370315564410422, 0.7163516147304333, -0.5732647969071828, 0.07060724906093349, 0.4459274755835238, 0.650618412269321, -1.0244672632772345, -0.6681332442599868, -0.9722001914014322, 0.45238929472010353, -2.8035768324235644, 0.9014287430239033, 1.319467095259805, 0.814749966559747, -1.6194588318172127, 1.810232824196542, -0.34028761466536867, -1.1591663343929903, -0.06465852470255785, 1.7281846836066086, -0.8877610317705266, 0.28713523914667666, 0.2274495262561486, 1.5675547163890926, 0.01636233235734836, -0.46263266260882785, 1.4710093187284892, 2.008148901429391, -0.07354278241686084, 0.741500628831564, -0.29140165890473285, -0.4392997604281096, -0.4367500190228618, 2.0212482820418307, 0.3225503619977586, 1.6557249579245188, -1.2396003969104676, 0.9414280160172462, 1.5208718204530265, 0.43530949652827217, 0.9965272851620621, -0.3126121992418231], \"yaxis\": \"y5\"}, {\"histfunc\": \"count\", \"histnorm\": \"\", \"marker\": {\"color\": \"rgba(55, 128, 191, 1.0)\", \"line\": {\"color\": \"#4D5663\", \"width\": 1.3}}, \"name\": \"B\", \"nbinsx\": 10, \"opacity\": 0.8, \"orientation\": \"v\", \"type\": \"histogram\", \"x\": [-2.062328018719915, 0.8786899411904887, 1.1874249981439793, 0.620421760886563, 1.8246664737333786, -0.5685579142811606, 0.3088839923239217, -1.0084687897342672, 2.0771684696654575, 1.7617473144705262, 0.5218737819883743, 1.216892180797244, -0.6847447329719094, 0.826588825933059, 2.6200333634388415, 2.027364798276653, 0.46666153606323296, 0.6321266035330925, 0.10354350260081757, -1.4589818998144466, 1.0316131049729904, -0.4343505887332764, 0.15860458063757982, 0.41074091507419974, 1.438825016119307, 0.25298155971555386, 0.46729325225147283, 0.2936712849184672, -1.2348037110121215, -0.10345781303290143, -0.012482275553756294, -0.4475322156922826, -1.1414119122054063, 1.6628239176950863, 1.7068757940201402, -0.6201760521654056, 1.4276529258902466, 1.443110863145192, -0.0025796355047607586, -0.2837037736078109, -0.1487082196497076, 2.4894492822509338, 1.852621410994538, 0.8612759018913871, 0.8478792360988995, 0.5229295789614508, 0.1098334359498861, 0.2612972220104098, -1.792210724907832, -0.3742743391106684, -1.4474845739003757, 0.23369699704612115, -0.3998708578038428, -0.3238301112207704, -0.3638097440063624, 0.7677830069036755, -0.9560266895216887, -1.2620487398743916, -0.03370315564410422, 0.7163516147304333, -0.5732647969071828, 0.07060724906093349, 0.4459274755835238, 0.650618412269321, -1.0244672632772345, -0.6681332442599868, -0.9722001914014322, 0.45238929472010353, -2.8035768324235644, 0.9014287430239033, 1.319467095259805, 0.814749966559747, -1.6194588318172127, 1.810232824196542, -0.34028761466536867, -1.1591663343929903, -0.06465852470255785, 1.7281846836066086, -0.8877610317705266, 0.28713523914667666, 0.2274495262561486, 1.5675547163890926, 0.01636233235734836, -0.46263266260882785, 1.4710093187284892, 2.008148901429391, -0.07354278241686084, 0.741500628831564, -0.29140165890473285, -0.4392997604281096, -0.4367500190228618, 2.0212482820418307, 0.3225503619977586, 1.6557249579245188, -1.2396003969104676, 0.9414280160172462, 1.5208718204530265, 0.43530949652827217, 0.9965272851620621, -0.3126121992418231], \"xaxis\": \"x6\", \"yaxis\": \"y6\"}, {\"line\": {\"color\": \"rgba(128, 128, 128, 1.0)\", \"dash\": \"solid\", \"shape\": \"linear\", \"width\": 1.3}, \"marker\": {\"size\": 2, \"symbol\": \"circle\"}, \"mode\": \"markers\", \"name\": \"B\", \"text\": \"\", \"type\": \"scatter\", \"x\": [-0.48727860918233845, -0.5282876554663558, -0.27209616600687514, 0.4447395054648122, -1.4147182032605394, -2.001545536032162, -0.8139050768749961, -0.08415540958256855, 0.16335269253475443, 0.22192531594078874, -0.7465145927699801, 1.2382381928715527, 0.399710364052061, -0.5556296232435419, 0.10523112078869563, 1.1075848231005008, -1.0158005159433114, -0.7596710471859048, -1.452844043355656, -1.3915239186957886, -0.8097881708806685, -1.0178370496865219, -0.44637160508025686, 1.6132859180573627, 0.17565726818527774, -0.33876503846131806, 0.022724720511940365, 1.6098888151291977, -0.5402897665187559, -0.3554593958944142, 2.3165434218398167, -0.41160881523191234, 0.166116246324514, 1.459866207392856, -0.6317076246014489, 0.19800936578443315, 1.378637346836652, 0.10374326247746794, -0.6413361770585316, 0.11458583231732682, 0.9599041243565135, -1.5723371667133335, -0.4664639112913684, -1.6394106572834544, 0.1467652757537728, 0.8728649133790104, 1.7307337730148245, 0.368431840278857, -0.5755407970147597, -0.31202607964170215, 0.8709887287203207, 1.8961004612187617, 0.3728939052783495, -0.9531482486755148, -0.11332309514039031, 0.6422017191643308, -0.5197642814954431, 1.147175223621175, 0.5733264065122081, 1.65480807517257, -0.6849922967207143, 0.18479013520102885, -0.6447413089856846, 0.22400894574406588, 0.16538156131413714, 0.16441194950459131, 0.21669332906532554, 0.4813508678379441, 0.9699696772792914, -1.1665459251264292, 1.2076075393271433, 0.29368548555331, 1.4642308467104312, -0.7069728908570257, 0.4013650329273782, -0.18230132007368946, -0.2885258866502022, -0.39336355208417584, -0.23959986433443717, -1.2923231501205141, 2.2994227658303097, -0.9263893110196699, 0.15646208823728108, -0.15706175886400028, 0.7763084460606078, -1.2724470509423125, -0.26750777327402353, 1.3719350763740965, -0.7472787619207025, 0.22924825934807877, -0.7087814295431368, 0.036516810427891414, 0.17659439595002455, 0.6481653101242475, -1.3438934309126367, 1.73178952168849, -0.5693855683705377, 0.7592866846464033, -0.0932190500533003, 0.2806141883330818], \"xaxis\": \"x7\", \"y\": [-2.062328018719915, 0.8786899411904887, 1.1874249981439793, 0.620421760886563, 1.8246664737333786, -0.5685579142811606, 0.3088839923239217, -1.0084687897342672, 2.0771684696654575, 1.7617473144705262, 0.5218737819883743, 1.216892180797244, -0.6847447329719094, 0.826588825933059, 2.6200333634388415, 2.027364798276653, 0.46666153606323296, 0.6321266035330925, 0.10354350260081757, -1.4589818998144466, 1.0316131049729904, -0.4343505887332764, 0.15860458063757982, 0.41074091507419974, 1.438825016119307, 0.25298155971555386, 0.46729325225147283, 0.2936712849184672, -1.2348037110121215, -0.10345781303290143, -0.012482275553756294, -0.4475322156922826, -1.1414119122054063, 1.6628239176950863, 1.7068757940201402, -0.6201760521654056, 1.4276529258902466, 1.443110863145192, -0.0025796355047607586, -0.2837037736078109, -0.1487082196497076, 2.4894492822509338, 1.852621410994538, 0.8612759018913871, 0.8478792360988995, 0.5229295789614508, 0.1098334359498861, 0.2612972220104098, -1.792210724907832, -0.3742743391106684, -1.4474845739003757, 0.23369699704612115, -0.3998708578038428, -0.3238301112207704, -0.3638097440063624, 0.7677830069036755, -0.9560266895216887, -1.2620487398743916, -0.03370315564410422, 0.7163516147304333, -0.5732647969071828, 0.07060724906093349, 0.4459274755835238, 0.650618412269321, -1.0244672632772345, -0.6681332442599868, -0.9722001914014322, 0.45238929472010353, -2.8035768324235644, 0.9014287430239033, 1.319467095259805, 0.814749966559747, -1.6194588318172127, 1.810232824196542, -0.34028761466536867, -1.1591663343929903, -0.06465852470255785, 1.7281846836066086, -0.8877610317705266, 0.28713523914667666, 0.2274495262561486, 1.5675547163890926, 0.01636233235734836, -0.46263266260882785, 1.4710093187284892, 2.008148901429391, -0.07354278241686084, 0.741500628831564, -0.29140165890473285, -0.4392997604281096, -0.4367500190228618, 2.0212482820418307, 0.3225503619977586, 1.6557249579245188, -1.2396003969104676, 0.9414280160172462, 1.5208718204530265, 0.43530949652827217, 0.9965272851620621, -0.3126121992418231], \"yaxis\": \"y7\"}, {\"line\": {\"color\": \"rgba(128, 128, 128, 1.0)\", \"dash\": \"solid\", \"shape\": \"linear\", \"width\": 1.3}, \"marker\": {\"size\": 2, \"symbol\": \"circle\"}, \"mode\": \"markers\", \"name\": \"B\", \"text\": \"\", \"type\": \"scatter\", \"x\": [0.008652614534942028, -0.7949614463548819, 1.0280042026477036, 0.8164424740301507, 0.617727507928314, 0.15222624393647677, 1.2859841750205485, 0.409151171250876, -0.6648903490713879, 0.188280991573493, 1.7361962451553843, 0.1292603721639433, -1.0746782055634203, 0.6679863781746483, 0.2986849379544349, -1.2972181834227539, 0.7234912586140759, -1.9871127363581325, 1.4820943021722468, -1.6201531167299896, 0.667857279595324, -1.382531979907316, 1.1859347449849038, -0.42387907178714945, 0.12645368517089497, 0.09773820388292274, 0.6400915462748148, 0.5104472462638728, -0.6806357061741313, -0.5150359137758567, 0.2994526122925929, 1.5384351485364862, -0.3202795354719194, -0.19414487250516232, -0.21125034780522955, 1.8555070729023406, -0.09338720531514051, 0.11637535712167411, 1.49784256052569, 0.06007444341741698, -0.2476782556349282, -0.012592927738989842, -0.8491035964374101, -0.26595759374177486, 1.1697726986691868, 0.20333218176749726, -0.14393716301640563, 2.319931703106863, 0.9738955651766313, -0.50053166966656, -0.8319540887003886, 1.26595252565857, -0.23641298872202157, 0.5086954674046928, -0.2483971567913297, 1.5100730208969315, 0.5002961203486755, -0.25574688195411244, -0.7467671094006217, -0.4189497570766799, 0.5730461597508703, -1.431726732049285, -0.9259418636873402, 0.6274563842867187, 2.0458204822291437, 1.2316742901491164, -0.43220019448124075, 0.7077020854027325, -1.5853859789697726, 0.4807179359635406, -1.3024623926698402, 1.6896361218890077, 2.4627513735028703, -0.1677764434855635, -0.03935738533338876, -1.053561193566943, 1.3906932780856869, 0.5695467751425498, 0.22699250074578836, 0.9967394933539656, 0.9245994498217607, -0.7341404619357271, 0.709895521454746, 0.7712935319432523, 0.10577149268713595, 0.7011702661369695, -0.7437745832610808, 0.40193837133621413, -0.03408182487082432, 0.4684774592219555, 0.4818913373936253, 2.094699024132364, 0.3382887195118553, 0.08293502643049379, 1.2015167791109795, -0.27836722809734166, 1.0153666305994116, 1.4738945865609736, -2.968119177361254, -0.5513376320465491], \"xaxis\": \"x8\", \"y\": [-2.062328018719915, 0.8786899411904887, 1.1874249981439793, 0.620421760886563, 1.8246664737333786, -0.5685579142811606, 0.3088839923239217, -1.0084687897342672, 2.0771684696654575, 1.7617473144705262, 0.5218737819883743, 1.216892180797244, -0.6847447329719094, 0.826588825933059, 2.6200333634388415, 2.027364798276653, 0.46666153606323296, 0.6321266035330925, 0.10354350260081757, -1.4589818998144466, 1.0316131049729904, -0.4343505887332764, 0.15860458063757982, 0.41074091507419974, 1.438825016119307, 0.25298155971555386, 0.46729325225147283, 0.2936712849184672, -1.2348037110121215, -0.10345781303290143, -0.012482275553756294, -0.4475322156922826, -1.1414119122054063, 1.6628239176950863, 1.7068757940201402, -0.6201760521654056, 1.4276529258902466, 1.443110863145192, -0.0025796355047607586, -0.2837037736078109, -0.1487082196497076, 2.4894492822509338, 1.852621410994538, 0.8612759018913871, 0.8478792360988995, 0.5229295789614508, 0.1098334359498861, 0.2612972220104098, -1.792210724907832, -0.3742743391106684, -1.4474845739003757, 0.23369699704612115, -0.3998708578038428, -0.3238301112207704, -0.3638097440063624, 0.7677830069036755, -0.9560266895216887, -1.2620487398743916, -0.03370315564410422, 0.7163516147304333, -0.5732647969071828, 0.07060724906093349, 0.4459274755835238, 0.650618412269321, -1.0244672632772345, -0.6681332442599868, -0.9722001914014322, 0.45238929472010353, -2.8035768324235644, 0.9014287430239033, 1.319467095259805, 0.814749966559747, -1.6194588318172127, 1.810232824196542, -0.34028761466536867, -1.1591663343929903, -0.06465852470255785, 1.7281846836066086, -0.8877610317705266, 0.28713523914667666, 0.2274495262561486, 1.5675547163890926, 0.01636233235734836, -0.46263266260882785, 1.4710093187284892, 2.008148901429391, -0.07354278241686084, 0.741500628831564, -0.29140165890473285, -0.4392997604281096, -0.4367500190228618, 2.0212482820418307, 0.3225503619977586, 1.6557249579245188, -1.2396003969104676, 0.9414280160172462, 1.5208718204530265, 0.43530949652827217, 0.9965272851620621, -0.3126121992418231], \"yaxis\": \"y8\"}, {\"line\": {\"color\": \"rgba(128, 128, 128, 1.0)\", \"dash\": \"solid\", \"shape\": \"linear\", \"width\": 1.3}, \"marker\": {\"size\": 2, \"symbol\": \"circle\"}, \"mode\": \"markers\", \"name\": \"C\", \"text\": \"\", \"type\": \"scatter\", \"x\": [0.5176590531969488, 0.2611900186917925, -2.0770443227929434, 0.4376128613752404, -0.7972765755299147, -0.9781925854562078, 0.021787211156948774, -1.8227103978927501, 1.7661994574612905, 0.6140684305177554, -0.10348408002873685, -0.005438269546051754, 0.14564690286116566, -1.6019204582868, 0.36412650919654904, 1.8933456811942735, 0.5580880070310005, -1.6721324428771815, -0.7640725461546174, -0.01743915243591418, 0.6748540001753083, 0.7920643030147945, -0.8170164432005932, -0.40348005188696673, 0.6539188908047413, -0.12400523728931026, 1.4032160617444647, -0.5827443655439306, 1.1703201043257259, -1.3220783976434485, 0.27017141466012873, 1.130033689636446, -0.19781497959524116, 0.9146218319990627, 0.6788744017706305, 0.7263896841237812, -0.4270625982491659, 1.7771258173188988, 1.7255189854877893, 0.10071803173376356, 0.5584259746959217, -0.35980148623036257, 0.27320206594699464, -0.9058148329762855, 0.6655637328672925, 0.737591189163516, 0.42918978634587096, -0.667396753774752, 0.33121038394063146, -0.38186248928384686, 0.4080848294364657, 1.7446010964370207, 2.7769588024238145, -0.0500309548669025, 0.1734318857601251, -0.560498934672177, 0.0615027213603778, -0.5563384887782385, 0.6872170531367844, 1.3085125570269542, 0.8658386492120068, -0.41384192152811716, -0.5748894712834556, -0.046030262702725415, -0.7834661261224901, 0.33669600457694904, 0.5649402937564677, 0.7412011360451405, 0.03744861967029218, -0.31441728987996154, 0.12757226281435682, 1.4278042432171743, -0.10084618653539616, 0.44337571123088204, 0.639743871777665, 0.05751155640936568, 0.5562572498216152, -0.1992962817147566, 1.777203558993544, 0.3884239255669419, 0.5974152051587482, -2.336551059610256, 0.37178139089325507, -0.6083978716388516, 1.4014589342993968, -0.707138581612621, -0.15707032363071047, -0.599796745012966, -0.5280305545087325, 0.13617931710002912, 0.20729333459661806, 0.9195443365275761, -1.3027488740641358, -0.22063075065637314, -0.9410102187865621, -0.889314187063548, 1.0927712482439207, 0.42244762596411395, 0.23878587815304225, -1.5437470888769478], \"xaxis\": \"x9\", \"y\": [-0.48727860918233845, -0.5282876554663558, -0.27209616600687514, 0.4447395054648122, -1.4147182032605394, -2.001545536032162, -0.8139050768749961, -0.08415540958256855, 0.16335269253475443, 0.22192531594078874, -0.7465145927699801, 1.2382381928715527, 0.399710364052061, -0.5556296232435419, 0.10523112078869563, 1.1075848231005008, -1.0158005159433114, -0.7596710471859048, -1.452844043355656, -1.3915239186957886, -0.8097881708806685, -1.0178370496865219, -0.44637160508025686, 1.6132859180573627, 0.17565726818527774, -0.33876503846131806, 0.022724720511940365, 1.6098888151291977, -0.5402897665187559, -0.3554593958944142, 2.3165434218398167, -0.41160881523191234, 0.166116246324514, 1.459866207392856, -0.6317076246014489, 0.19800936578443315, 1.378637346836652, 0.10374326247746794, -0.6413361770585316, 0.11458583231732682, 0.9599041243565135, -1.5723371667133335, -0.4664639112913684, -1.6394106572834544, 0.1467652757537728, 0.8728649133790104, 1.7307337730148245, 0.368431840278857, -0.5755407970147597, -0.31202607964170215, 0.8709887287203207, 1.8961004612187617, 0.3728939052783495, -0.9531482486755148, -0.11332309514039031, 0.6422017191643308, -0.5197642814954431, 1.147175223621175, 0.5733264065122081, 1.65480807517257, -0.6849922967207143, 0.18479013520102885, -0.6447413089856846, 0.22400894574406588, 0.16538156131413714, 0.16441194950459131, 0.21669332906532554, 0.4813508678379441, 0.9699696772792914, -1.1665459251264292, 1.2076075393271433, 0.29368548555331, 1.4642308467104312, -0.7069728908570257, 0.4013650329273782, -0.18230132007368946, -0.2885258866502022, -0.39336355208417584, -0.23959986433443717, -1.2923231501205141, 2.2994227658303097, -0.9263893110196699, 0.15646208823728108, -0.15706175886400028, 0.7763084460606078, -1.2724470509423125, -0.26750777327402353, 1.3719350763740965, -0.7472787619207025, 0.22924825934807877, -0.7087814295431368, 0.036516810427891414, 0.17659439595002455, 0.6481653101242475, -1.3438934309126367, 1.73178952168849, -0.5693855683705377, 0.7592866846464033, -0.0932190500533003, 0.2806141883330818], \"yaxis\": \"y9\"}, {\"line\": {\"color\": \"rgba(128, 128, 128, 1.0)\", \"dash\": \"solid\", \"shape\": \"linear\", \"width\": 1.3}, \"marker\": {\"size\": 2, \"symbol\": \"circle\"}, \"mode\": \"markers\", \"name\": \"C\", \"text\": \"\", \"type\": \"scatter\", \"x\": [-2.062328018719915, 0.8786899411904887, 1.1874249981439793, 0.620421760886563, 1.8246664737333786, -0.5685579142811606, 0.3088839923239217, -1.0084687897342672, 2.0771684696654575, 1.7617473144705262, 0.5218737819883743, 1.216892180797244, -0.6847447329719094, 0.826588825933059, 2.6200333634388415, 2.027364798276653, 0.46666153606323296, 0.6321266035330925, 0.10354350260081757, -1.4589818998144466, 1.0316131049729904, -0.4343505887332764, 0.15860458063757982, 0.41074091507419974, 1.438825016119307, 0.25298155971555386, 0.46729325225147283, 0.2936712849184672, -1.2348037110121215, -0.10345781303290143, -0.012482275553756294, -0.4475322156922826, -1.1414119122054063, 1.6628239176950863, 1.7068757940201402, -0.6201760521654056, 1.4276529258902466, 1.443110863145192, -0.0025796355047607586, -0.2837037736078109, -0.1487082196497076, 2.4894492822509338, 1.852621410994538, 0.8612759018913871, 0.8478792360988995, 0.5229295789614508, 0.1098334359498861, 0.2612972220104098, -1.792210724907832, -0.3742743391106684, -1.4474845739003757, 0.23369699704612115, -0.3998708578038428, -0.3238301112207704, -0.3638097440063624, 0.7677830069036755, -0.9560266895216887, -1.2620487398743916, -0.03370315564410422, 0.7163516147304333, -0.5732647969071828, 0.07060724906093349, 0.4459274755835238, 0.650618412269321, -1.0244672632772345, -0.6681332442599868, -0.9722001914014322, 0.45238929472010353, -2.8035768324235644, 0.9014287430239033, 1.319467095259805, 0.814749966559747, -1.6194588318172127, 1.810232824196542, -0.34028761466536867, -1.1591663343929903, -0.06465852470255785, 1.7281846836066086, -0.8877610317705266, 0.28713523914667666, 0.2274495262561486, 1.5675547163890926, 0.01636233235734836, -0.46263266260882785, 1.4710093187284892, 2.008148901429391, -0.07354278241686084, 0.741500628831564, -0.29140165890473285, -0.4392997604281096, -0.4367500190228618, 2.0212482820418307, 0.3225503619977586, 1.6557249579245188, -1.2396003969104676, 0.9414280160172462, 1.5208718204530265, 0.43530949652827217, 0.9965272851620621, -0.3126121992418231], \"xaxis\": \"x10\", \"y\": [-0.48727860918233845, -0.5282876554663558, -0.27209616600687514, 0.4447395054648122, -1.4147182032605394, -2.001545536032162, -0.8139050768749961, -0.08415540958256855, 0.16335269253475443, 0.22192531594078874, -0.7465145927699801, 1.2382381928715527, 0.399710364052061, -0.5556296232435419, 0.10523112078869563, 1.1075848231005008, -1.0158005159433114, -0.7596710471859048, -1.452844043355656, -1.3915239186957886, -0.8097881708806685, -1.0178370496865219, -0.44637160508025686, 1.6132859180573627, 0.17565726818527774, -0.33876503846131806, 0.022724720511940365, 1.6098888151291977, -0.5402897665187559, -0.3554593958944142, 2.3165434218398167, -0.41160881523191234, 0.166116246324514, 1.459866207392856, -0.6317076246014489, 0.19800936578443315, 1.378637346836652, 0.10374326247746794, -0.6413361770585316, 0.11458583231732682, 0.9599041243565135, -1.5723371667133335, -0.4664639112913684, -1.6394106572834544, 0.1467652757537728, 0.8728649133790104, 1.7307337730148245, 0.368431840278857, -0.5755407970147597, -0.31202607964170215, 0.8709887287203207, 1.8961004612187617, 0.3728939052783495, -0.9531482486755148, -0.11332309514039031, 0.6422017191643308, -0.5197642814954431, 1.147175223621175, 0.5733264065122081, 1.65480807517257, -0.6849922967207143, 0.18479013520102885, -0.6447413089856846, 0.22400894574406588, 0.16538156131413714, 0.16441194950459131, 0.21669332906532554, 0.4813508678379441, 0.9699696772792914, -1.1665459251264292, 1.2076075393271433, 0.29368548555331, 1.4642308467104312, -0.7069728908570257, 0.4013650329273782, -0.18230132007368946, -0.2885258866502022, -0.39336355208417584, -0.23959986433443717, -1.2923231501205141, 2.2994227658303097, -0.9263893110196699, 0.15646208823728108, -0.15706175886400028, 0.7763084460606078, -1.2724470509423125, -0.26750777327402353, 1.3719350763740965, -0.7472787619207025, 0.22924825934807877, -0.7087814295431368, 0.036516810427891414, 0.17659439595002455, 0.6481653101242475, -1.3438934309126367, 1.73178952168849, -0.5693855683705377, 0.7592866846464033, -0.0932190500533003, 0.2806141883330818], \"yaxis\": \"y10\"}, {\"histfunc\": \"count\", \"histnorm\": \"\", \"marker\": {\"color\": \"rgba(50, 171, 96, 1.0)\", \"line\": {\"color\": \"#4D5663\", \"width\": 1.3}}, \"name\": \"C\", \"nbinsx\": 10, \"opacity\": 0.8, \"orientation\": \"v\", \"type\": \"histogram\", \"x\": [-0.48727860918233845, -0.5282876554663558, -0.27209616600687514, 0.4447395054648122, -1.4147182032605394, -2.001545536032162, -0.8139050768749961, -0.08415540958256855, 0.16335269253475443, 0.22192531594078874, -0.7465145927699801, 1.2382381928715527, 0.399710364052061, -0.5556296232435419, 0.10523112078869563, 1.1075848231005008, -1.0158005159433114, -0.7596710471859048, -1.452844043355656, -1.3915239186957886, -0.8097881708806685, -1.0178370496865219, -0.44637160508025686, 1.6132859180573627, 0.17565726818527774, -0.33876503846131806, 0.022724720511940365, 1.6098888151291977, -0.5402897665187559, -0.3554593958944142, 2.3165434218398167, -0.41160881523191234, 0.166116246324514, 1.459866207392856, -0.6317076246014489, 0.19800936578443315, 1.378637346836652, 0.10374326247746794, -0.6413361770585316, 0.11458583231732682, 0.9599041243565135, -1.5723371667133335, -0.4664639112913684, -1.6394106572834544, 0.1467652757537728, 0.8728649133790104, 1.7307337730148245, 0.368431840278857, -0.5755407970147597, -0.31202607964170215, 0.8709887287203207, 1.8961004612187617, 0.3728939052783495, -0.9531482486755148, -0.11332309514039031, 0.6422017191643308, -0.5197642814954431, 1.147175223621175, 0.5733264065122081, 1.65480807517257, -0.6849922967207143, 0.18479013520102885, -0.6447413089856846, 0.22400894574406588, 0.16538156131413714, 0.16441194950459131, 0.21669332906532554, 0.4813508678379441, 0.9699696772792914, -1.1665459251264292, 1.2076075393271433, 0.29368548555331, 1.4642308467104312, -0.7069728908570257, 0.4013650329273782, -0.18230132007368946, -0.2885258866502022, -0.39336355208417584, -0.23959986433443717, -1.2923231501205141, 2.2994227658303097, -0.9263893110196699, 0.15646208823728108, -0.15706175886400028, 0.7763084460606078, -1.2724470509423125, -0.26750777327402353, 1.3719350763740965, -0.7472787619207025, 0.22924825934807877, -0.7087814295431368, 0.036516810427891414, 0.17659439595002455, 0.6481653101242475, -1.3438934309126367, 1.73178952168849, -0.5693855683705377, 0.7592866846464033, -0.0932190500533003, 0.2806141883330818], \"xaxis\": \"x11\", \"yaxis\": \"y11\"}, {\"line\": {\"color\": \"rgba(128, 128, 128, 1.0)\", \"dash\": \"solid\", \"shape\": \"linear\", \"width\": 1.3}, \"marker\": {\"size\": 2, \"symbol\": \"circle\"}, \"mode\": \"markers\", \"name\": \"C\", \"text\": \"\", \"type\": \"scatter\", \"x\": [0.008652614534942028, -0.7949614463548819, 1.0280042026477036, 0.8164424740301507, 0.617727507928314, 0.15222624393647677, 1.2859841750205485, 0.409151171250876, -0.6648903490713879, 0.188280991573493, 1.7361962451553843, 0.1292603721639433, -1.0746782055634203, 0.6679863781746483, 0.2986849379544349, -1.2972181834227539, 0.7234912586140759, -1.9871127363581325, 1.4820943021722468, -1.6201531167299896, 0.667857279595324, -1.382531979907316, 1.1859347449849038, -0.42387907178714945, 0.12645368517089497, 0.09773820388292274, 0.6400915462748148, 0.5104472462638728, -0.6806357061741313, -0.5150359137758567, 0.2994526122925929, 1.5384351485364862, -0.3202795354719194, -0.19414487250516232, -0.21125034780522955, 1.8555070729023406, -0.09338720531514051, 0.11637535712167411, 1.49784256052569, 0.06007444341741698, -0.2476782556349282, -0.012592927738989842, -0.8491035964374101, -0.26595759374177486, 1.1697726986691868, 0.20333218176749726, -0.14393716301640563, 2.319931703106863, 0.9738955651766313, -0.50053166966656, -0.8319540887003886, 1.26595252565857, -0.23641298872202157, 0.5086954674046928, -0.2483971567913297, 1.5100730208969315, 0.5002961203486755, -0.25574688195411244, -0.7467671094006217, -0.4189497570766799, 0.5730461597508703, -1.431726732049285, -0.9259418636873402, 0.6274563842867187, 2.0458204822291437, 1.2316742901491164, -0.43220019448124075, 0.7077020854027325, -1.5853859789697726, 0.4807179359635406, -1.3024623926698402, 1.6896361218890077, 2.4627513735028703, -0.1677764434855635, -0.03935738533338876, -1.053561193566943, 1.3906932780856869, 0.5695467751425498, 0.22699250074578836, 0.9967394933539656, 0.9245994498217607, -0.7341404619357271, 0.709895521454746, 0.7712935319432523, 0.10577149268713595, 0.7011702661369695, -0.7437745832610808, 0.40193837133621413, -0.03408182487082432, 0.4684774592219555, 0.4818913373936253, 2.094699024132364, 0.3382887195118553, 0.08293502643049379, 1.2015167791109795, -0.27836722809734166, 1.0153666305994116, 1.4738945865609736, -2.968119177361254, -0.5513376320465491], \"xaxis\": \"x12\", \"y\": [-0.48727860918233845, -0.5282876554663558, -0.27209616600687514, 0.4447395054648122, -1.4147182032605394, -2.001545536032162, -0.8139050768749961, -0.08415540958256855, 0.16335269253475443, 0.22192531594078874, -0.7465145927699801, 1.2382381928715527, 0.399710364052061, -0.5556296232435419, 0.10523112078869563, 1.1075848231005008, -1.0158005159433114, -0.7596710471859048, -1.452844043355656, -1.3915239186957886, -0.8097881708806685, -1.0178370496865219, -0.44637160508025686, 1.6132859180573627, 0.17565726818527774, -0.33876503846131806, 0.022724720511940365, 1.6098888151291977, -0.5402897665187559, -0.3554593958944142, 2.3165434218398167, -0.41160881523191234, 0.166116246324514, 1.459866207392856, -0.6317076246014489, 0.19800936578443315, 1.378637346836652, 0.10374326247746794, -0.6413361770585316, 0.11458583231732682, 0.9599041243565135, -1.5723371667133335, -0.4664639112913684, -1.6394106572834544, 0.1467652757537728, 0.8728649133790104, 1.7307337730148245, 0.368431840278857, -0.5755407970147597, -0.31202607964170215, 0.8709887287203207, 1.8961004612187617, 0.3728939052783495, -0.9531482486755148, -0.11332309514039031, 0.6422017191643308, -0.5197642814954431, 1.147175223621175, 0.5733264065122081, 1.65480807517257, -0.6849922967207143, 0.18479013520102885, -0.6447413089856846, 0.22400894574406588, 0.16538156131413714, 0.16441194950459131, 0.21669332906532554, 0.4813508678379441, 0.9699696772792914, -1.1665459251264292, 1.2076075393271433, 0.29368548555331, 1.4642308467104312, -0.7069728908570257, 0.4013650329273782, -0.18230132007368946, -0.2885258866502022, -0.39336355208417584, -0.23959986433443717, -1.2923231501205141, 2.2994227658303097, -0.9263893110196699, 0.15646208823728108, -0.15706175886400028, 0.7763084460606078, -1.2724470509423125, -0.26750777327402353, 1.3719350763740965, -0.7472787619207025, 0.22924825934807877, -0.7087814295431368, 0.036516810427891414, 0.17659439595002455, 0.6481653101242475, -1.3438934309126367, 1.73178952168849, -0.5693855683705377, 0.7592866846464033, -0.0932190500533003, 0.2806141883330818], \"yaxis\": \"y12\"}, {\"line\": {\"color\": \"rgba(128, 128, 128, 1.0)\", \"dash\": \"solid\", \"shape\": \"linear\", \"width\": 1.3}, \"marker\": {\"size\": 2, \"symbol\": \"circle\"}, \"mode\": \"markers\", \"name\": \"D\", \"text\": \"\", \"type\": \"scatter\", \"x\": [0.5176590531969488, 0.2611900186917925, -2.0770443227929434, 0.4376128613752404, -0.7972765755299147, -0.9781925854562078, 0.021787211156948774, -1.8227103978927501, 1.7661994574612905, 0.6140684305177554, -0.10348408002873685, -0.005438269546051754, 0.14564690286116566, -1.6019204582868, 0.36412650919654904, 1.8933456811942735, 0.5580880070310005, -1.6721324428771815, -0.7640725461546174, -0.01743915243591418, 0.6748540001753083, 0.7920643030147945, -0.8170164432005932, -0.40348005188696673, 0.6539188908047413, -0.12400523728931026, 1.4032160617444647, -0.5827443655439306, 1.1703201043257259, -1.3220783976434485, 0.27017141466012873, 1.130033689636446, -0.19781497959524116, 0.9146218319990627, 0.6788744017706305, 0.7263896841237812, -0.4270625982491659, 1.7771258173188988, 1.7255189854877893, 0.10071803173376356, 0.5584259746959217, -0.35980148623036257, 0.27320206594699464, -0.9058148329762855, 0.6655637328672925, 0.737591189163516, 0.42918978634587096, -0.667396753774752, 0.33121038394063146, -0.38186248928384686, 0.4080848294364657, 1.7446010964370207, 2.7769588024238145, -0.0500309548669025, 0.1734318857601251, -0.560498934672177, 0.0615027213603778, -0.5563384887782385, 0.6872170531367844, 1.3085125570269542, 0.8658386492120068, -0.41384192152811716, -0.5748894712834556, -0.046030262702725415, -0.7834661261224901, 0.33669600457694904, 0.5649402937564677, 0.7412011360451405, 0.03744861967029218, -0.31441728987996154, 0.12757226281435682, 1.4278042432171743, -0.10084618653539616, 0.44337571123088204, 0.639743871777665, 0.05751155640936568, 0.5562572498216152, -0.1992962817147566, 1.777203558993544, 0.3884239255669419, 0.5974152051587482, -2.336551059610256, 0.37178139089325507, -0.6083978716388516, 1.4014589342993968, -0.707138581612621, -0.15707032363071047, -0.599796745012966, -0.5280305545087325, 0.13617931710002912, 0.20729333459661806, 0.9195443365275761, -1.3027488740641358, -0.22063075065637314, -0.9410102187865621, -0.889314187063548, 1.0927712482439207, 0.42244762596411395, 0.23878587815304225, -1.5437470888769478], \"xaxis\": \"x13\", \"y\": [0.008652614534942028, -0.7949614463548819, 1.0280042026477036, 0.8164424740301507, 0.617727507928314, 0.15222624393647677, 1.2859841750205485, 0.409151171250876, -0.6648903490713879, 0.188280991573493, 1.7361962451553843, 0.1292603721639433, -1.0746782055634203, 0.6679863781746483, 0.2986849379544349, -1.2972181834227539, 0.7234912586140759, -1.9871127363581325, 1.4820943021722468, -1.6201531167299896, 0.667857279595324, -1.382531979907316, 1.1859347449849038, -0.42387907178714945, 0.12645368517089497, 0.09773820388292274, 0.6400915462748148, 0.5104472462638728, -0.6806357061741313, -0.5150359137758567, 0.2994526122925929, 1.5384351485364862, -0.3202795354719194, -0.19414487250516232, -0.21125034780522955, 1.8555070729023406, -0.09338720531514051, 0.11637535712167411, 1.49784256052569, 0.06007444341741698, -0.2476782556349282, -0.012592927738989842, -0.8491035964374101, -0.26595759374177486, 1.1697726986691868, 0.20333218176749726, -0.14393716301640563, 2.319931703106863, 0.9738955651766313, -0.50053166966656, -0.8319540887003886, 1.26595252565857, -0.23641298872202157, 0.5086954674046928, -0.2483971567913297, 1.5100730208969315, 0.5002961203486755, -0.25574688195411244, -0.7467671094006217, -0.4189497570766799, 0.5730461597508703, -1.431726732049285, -0.9259418636873402, 0.6274563842867187, 2.0458204822291437, 1.2316742901491164, -0.43220019448124075, 0.7077020854027325, -1.5853859789697726, 0.4807179359635406, -1.3024623926698402, 1.6896361218890077, 2.4627513735028703, -0.1677764434855635, -0.03935738533338876, -1.053561193566943, 1.3906932780856869, 0.5695467751425498, 0.22699250074578836, 0.9967394933539656, 0.9245994498217607, -0.7341404619357271, 0.709895521454746, 0.7712935319432523, 0.10577149268713595, 0.7011702661369695, -0.7437745832610808, 0.40193837133621413, -0.03408182487082432, 0.4684774592219555, 0.4818913373936253, 2.094699024132364, 0.3382887195118553, 0.08293502643049379, 1.2015167791109795, -0.27836722809734166, 1.0153666305994116, 1.4738945865609736, -2.968119177361254, -0.5513376320465491], \"yaxis\": \"y13\"}, {\"line\": {\"color\": \"rgba(128, 128, 128, 1.0)\", \"dash\": \"solid\", \"shape\": \"linear\", \"width\": 1.3}, \"marker\": {\"size\": 2, \"symbol\": \"circle\"}, \"mode\": \"markers\", \"name\": \"D\", \"text\": \"\", \"type\": \"scatter\", \"x\": [-2.062328018719915, 0.8786899411904887, 1.1874249981439793, 0.620421760886563, 1.8246664737333786, -0.5685579142811606, 0.3088839923239217, -1.0084687897342672, 2.0771684696654575, 1.7617473144705262, 0.5218737819883743, 1.216892180797244, -0.6847447329719094, 0.826588825933059, 2.6200333634388415, 2.027364798276653, 0.46666153606323296, 0.6321266035330925, 0.10354350260081757, -1.4589818998144466, 1.0316131049729904, -0.4343505887332764, 0.15860458063757982, 0.41074091507419974, 1.438825016119307, 0.25298155971555386, 0.46729325225147283, 0.2936712849184672, -1.2348037110121215, -0.10345781303290143, -0.012482275553756294, -0.4475322156922826, -1.1414119122054063, 1.6628239176950863, 1.7068757940201402, -0.6201760521654056, 1.4276529258902466, 1.443110863145192, -0.0025796355047607586, -0.2837037736078109, -0.1487082196497076, 2.4894492822509338, 1.852621410994538, 0.8612759018913871, 0.8478792360988995, 0.5229295789614508, 0.1098334359498861, 0.2612972220104098, -1.792210724907832, -0.3742743391106684, -1.4474845739003757, 0.23369699704612115, -0.3998708578038428, -0.3238301112207704, -0.3638097440063624, 0.7677830069036755, -0.9560266895216887, -1.2620487398743916, -0.03370315564410422, 0.7163516147304333, -0.5732647969071828, 0.07060724906093349, 0.4459274755835238, 0.650618412269321, -1.0244672632772345, -0.6681332442599868, -0.9722001914014322, 0.45238929472010353, -2.8035768324235644, 0.9014287430239033, 1.319467095259805, 0.814749966559747, -1.6194588318172127, 1.810232824196542, -0.34028761466536867, -1.1591663343929903, -0.06465852470255785, 1.7281846836066086, -0.8877610317705266, 0.28713523914667666, 0.2274495262561486, 1.5675547163890926, 0.01636233235734836, -0.46263266260882785, 1.4710093187284892, 2.008148901429391, -0.07354278241686084, 0.741500628831564, -0.29140165890473285, -0.4392997604281096, -0.4367500190228618, 2.0212482820418307, 0.3225503619977586, 1.6557249579245188, -1.2396003969104676, 0.9414280160172462, 1.5208718204530265, 0.43530949652827217, 0.9965272851620621, -0.3126121992418231], \"xaxis\": \"x14\", \"y\": [0.008652614534942028, -0.7949614463548819, 1.0280042026477036, 0.8164424740301507, 0.617727507928314, 0.15222624393647677, 1.2859841750205485, 0.409151171250876, -0.6648903490713879, 0.188280991573493, 1.7361962451553843, 0.1292603721639433, -1.0746782055634203, 0.6679863781746483, 0.2986849379544349, -1.2972181834227539, 0.7234912586140759, -1.9871127363581325, 1.4820943021722468, -1.6201531167299896, 0.667857279595324, -1.382531979907316, 1.1859347449849038, -0.42387907178714945, 0.12645368517089497, 0.09773820388292274, 0.6400915462748148, 0.5104472462638728, -0.6806357061741313, -0.5150359137758567, 0.2994526122925929, 1.5384351485364862, -0.3202795354719194, -0.19414487250516232, -0.21125034780522955, 1.8555070729023406, -0.09338720531514051, 0.11637535712167411, 1.49784256052569, 0.06007444341741698, -0.2476782556349282, -0.012592927738989842, -0.8491035964374101, -0.26595759374177486, 1.1697726986691868, 0.20333218176749726, -0.14393716301640563, 2.319931703106863, 0.9738955651766313, -0.50053166966656, -0.8319540887003886, 1.26595252565857, -0.23641298872202157, 0.5086954674046928, -0.2483971567913297, 1.5100730208969315, 0.5002961203486755, -0.25574688195411244, -0.7467671094006217, -0.4189497570766799, 0.5730461597508703, -1.431726732049285, -0.9259418636873402, 0.6274563842867187, 2.0458204822291437, 1.2316742901491164, -0.43220019448124075, 0.7077020854027325, -1.5853859789697726, 0.4807179359635406, -1.3024623926698402, 1.6896361218890077, 2.4627513735028703, -0.1677764434855635, -0.03935738533338876, -1.053561193566943, 1.3906932780856869, 0.5695467751425498, 0.22699250074578836, 0.9967394933539656, 0.9245994498217607, -0.7341404619357271, 0.709895521454746, 0.7712935319432523, 0.10577149268713595, 0.7011702661369695, -0.7437745832610808, 0.40193837133621413, -0.03408182487082432, 0.4684774592219555, 0.4818913373936253, 2.094699024132364, 0.3382887195118553, 0.08293502643049379, 1.2015167791109795, -0.27836722809734166, 1.0153666305994116, 1.4738945865609736, -2.968119177361254, -0.5513376320465491], \"yaxis\": \"y14\"}, {\"line\": {\"color\": \"rgba(128, 128, 128, 1.0)\", \"dash\": \"solid\", \"shape\": \"linear\", \"width\": 1.3}, \"marker\": {\"size\": 2, \"symbol\": \"circle\"}, \"mode\": \"markers\", \"name\": \"D\", \"text\": \"\", \"type\": \"scatter\", \"x\": [-0.48727860918233845, -0.5282876554663558, -0.27209616600687514, 0.4447395054648122, -1.4147182032605394, -2.001545536032162, -0.8139050768749961, -0.08415540958256855, 0.16335269253475443, 0.22192531594078874, -0.7465145927699801, 1.2382381928715527, 0.399710364052061, -0.5556296232435419, 0.10523112078869563, 1.1075848231005008, -1.0158005159433114, -0.7596710471859048, -1.452844043355656, -1.3915239186957886, -0.8097881708806685, -1.0178370496865219, -0.44637160508025686, 1.6132859180573627, 0.17565726818527774, -0.33876503846131806, 0.022724720511940365, 1.6098888151291977, -0.5402897665187559, -0.3554593958944142, 2.3165434218398167, -0.41160881523191234, 0.166116246324514, 1.459866207392856, -0.6317076246014489, 0.19800936578443315, 1.378637346836652, 0.10374326247746794, -0.6413361770585316, 0.11458583231732682, 0.9599041243565135, -1.5723371667133335, -0.4664639112913684, -1.6394106572834544, 0.1467652757537728, 0.8728649133790104, 1.7307337730148245, 0.368431840278857, -0.5755407970147597, -0.31202607964170215, 0.8709887287203207, 1.8961004612187617, 0.3728939052783495, -0.9531482486755148, -0.11332309514039031, 0.6422017191643308, -0.5197642814954431, 1.147175223621175, 0.5733264065122081, 1.65480807517257, -0.6849922967207143, 0.18479013520102885, -0.6447413089856846, 0.22400894574406588, 0.16538156131413714, 0.16441194950459131, 0.21669332906532554, 0.4813508678379441, 0.9699696772792914, -1.1665459251264292, 1.2076075393271433, 0.29368548555331, 1.4642308467104312, -0.7069728908570257, 0.4013650329273782, -0.18230132007368946, -0.2885258866502022, -0.39336355208417584, -0.23959986433443717, -1.2923231501205141, 2.2994227658303097, -0.9263893110196699, 0.15646208823728108, -0.15706175886400028, 0.7763084460606078, -1.2724470509423125, -0.26750777327402353, 1.3719350763740965, -0.7472787619207025, 0.22924825934807877, -0.7087814295431368, 0.036516810427891414, 0.17659439595002455, 0.6481653101242475, -1.3438934309126367, 1.73178952168849, -0.5693855683705377, 0.7592866846464033, -0.0932190500533003, 0.2806141883330818], \"xaxis\": \"x15\", \"y\": [0.008652614534942028, -0.7949614463548819, 1.0280042026477036, 0.8164424740301507, 0.617727507928314, 0.15222624393647677, 1.2859841750205485, 0.409151171250876, -0.6648903490713879, 0.188280991573493, 1.7361962451553843, 0.1292603721639433, -1.0746782055634203, 0.6679863781746483, 0.2986849379544349, -1.2972181834227539, 0.7234912586140759, -1.9871127363581325, 1.4820943021722468, -1.6201531167299896, 0.667857279595324, -1.382531979907316, 1.1859347449849038, -0.42387907178714945, 0.12645368517089497, 0.09773820388292274, 0.6400915462748148, 0.5104472462638728, -0.6806357061741313, -0.5150359137758567, 0.2994526122925929, 1.5384351485364862, -0.3202795354719194, -0.19414487250516232, -0.21125034780522955, 1.8555070729023406, -0.09338720531514051, 0.11637535712167411, 1.49784256052569, 0.06007444341741698, -0.2476782556349282, -0.012592927738989842, -0.8491035964374101, -0.26595759374177486, 1.1697726986691868, 0.20333218176749726, -0.14393716301640563, 2.319931703106863, 0.9738955651766313, -0.50053166966656, -0.8319540887003886, 1.26595252565857, -0.23641298872202157, 0.5086954674046928, -0.2483971567913297, 1.5100730208969315, 0.5002961203486755, -0.25574688195411244, -0.7467671094006217, -0.4189497570766799, 0.5730461597508703, -1.431726732049285, -0.9259418636873402, 0.6274563842867187, 2.0458204822291437, 1.2316742901491164, -0.43220019448124075, 0.7077020854027325, -1.5853859789697726, 0.4807179359635406, -1.3024623926698402, 1.6896361218890077, 2.4627513735028703, -0.1677764434855635, -0.03935738533338876, -1.053561193566943, 1.3906932780856869, 0.5695467751425498, 0.22699250074578836, 0.9967394933539656, 0.9245994498217607, -0.7341404619357271, 0.709895521454746, 0.7712935319432523, 0.10577149268713595, 0.7011702661369695, -0.7437745832610808, 0.40193837133621413, -0.03408182487082432, 0.4684774592219555, 0.4818913373936253, 2.094699024132364, 0.3382887195118553, 0.08293502643049379, 1.2015167791109795, -0.27836722809734166, 1.0153666305994116, 1.4738945865609736, -2.968119177361254, -0.5513376320465491], \"yaxis\": \"y15\"}, {\"histfunc\": \"count\", \"histnorm\": \"\", \"marker\": {\"color\": \"rgba(128, 0, 128, 1.0)\", \"line\": {\"color\": \"#4D5663\", \"width\": 1.3}}, \"name\": \"D\", \"nbinsx\": 10, \"opacity\": 0.8, \"orientation\": \"v\", \"type\": \"histogram\", \"x\": [0.008652614534942028, -0.7949614463548819, 1.0280042026477036, 0.8164424740301507, 0.617727507928314, 0.15222624393647677, 1.2859841750205485, 0.409151171250876, -0.6648903490713879, 0.188280991573493, 1.7361962451553843, 0.1292603721639433, -1.0746782055634203, 0.6679863781746483, 0.2986849379544349, -1.2972181834227539, 0.7234912586140759, -1.9871127363581325, 1.4820943021722468, -1.6201531167299896, 0.667857279595324, -1.382531979907316, 1.1859347449849038, -0.42387907178714945, 0.12645368517089497, 0.09773820388292274, 0.6400915462748148, 0.5104472462638728, -0.6806357061741313, -0.5150359137758567, 0.2994526122925929, 1.5384351485364862, -0.3202795354719194, -0.19414487250516232, -0.21125034780522955, 1.8555070729023406, -0.09338720531514051, 0.11637535712167411, 1.49784256052569, 0.06007444341741698, -0.2476782556349282, -0.012592927738989842, -0.8491035964374101, -0.26595759374177486, 1.1697726986691868, 0.20333218176749726, -0.14393716301640563, 2.319931703106863, 0.9738955651766313, -0.50053166966656, -0.8319540887003886, 1.26595252565857, -0.23641298872202157, 0.5086954674046928, -0.2483971567913297, 1.5100730208969315, 0.5002961203486755, -0.25574688195411244, -0.7467671094006217, -0.4189497570766799, 0.5730461597508703, -1.431726732049285, -0.9259418636873402, 0.6274563842867187, 2.0458204822291437, 1.2316742901491164, -0.43220019448124075, 0.7077020854027325, -1.5853859789697726, 0.4807179359635406, -1.3024623926698402, 1.6896361218890077, 2.4627513735028703, -0.1677764434855635, -0.03935738533338876, -1.053561193566943, 1.3906932780856869, 0.5695467751425498, 0.22699250074578836, 0.9967394933539656, 0.9245994498217607, -0.7341404619357271, 0.709895521454746, 0.7712935319432523, 0.10577149268713595, 0.7011702661369695, -0.7437745832610808, 0.40193837133621413, -0.03408182487082432, 0.4684774592219555, 0.4818913373936253, 2.094699024132364, 0.3382887195118553, 0.08293502643049379, 1.2015167791109795, -0.27836722809734166, 1.0153666305994116, 1.4738945865609736, -2.968119177361254, -0.5513376320465491], \"xaxis\": \"x16\", \"yaxis\": \"y16\"}],                        {\"bargap\": 0.02, \"legend\": {\"bgcolor\": \"#F5F6F9\", \"font\": {\"color\": \"#4D5663\"}}, \"paper_bgcolor\": \"#F5F6F9\", \"plot_bgcolor\": \"#F5F6F9\", \"showlegend\": false, \"template\": {\"data\": {\"bar\": [{\"error_x\": {\"color\": \"#2a3f5f\"}, \"error_y\": {\"color\": \"#2a3f5f\"}, \"marker\": {\"line\": {\"color\": \"#E5ECF6\", \"width\": 0.5}}, \"type\": \"bar\"}], \"barpolar\": [{\"marker\": {\"line\": {\"color\": \"#E5ECF6\", \"width\": 0.5}}, \"type\": \"barpolar\"}], \"carpet\": [{\"aaxis\": {\"endlinecolor\": \"#2a3f5f\", \"gridcolor\": \"white\", \"linecolor\": \"white\", \"minorgridcolor\": \"white\", \"startlinecolor\": \"#2a3f5f\"}, \"baxis\": {\"endlinecolor\": \"#2a3f5f\", \"gridcolor\": \"white\", \"linecolor\": \"white\", \"minorgridcolor\": \"white\", \"startlinecolor\": \"#2a3f5f\"}, \"type\": \"carpet\"}], \"choropleth\": [{\"colorbar\": {\"outlinewidth\": 0, \"ticks\": \"\"}, \"type\": \"choropleth\"}], \"contour\": [{\"colorbar\": {\"outlinewidth\": 0, \"ticks\": \"\"}, \"colorscale\": [[0.0, \"#0d0887\"], [0.1111111111111111, \"#46039f\"], [0.2222222222222222, \"#7201a8\"], [0.3333333333333333, \"#9c179e\"], [0.4444444444444444, \"#bd3786\"], [0.5555555555555556, \"#d8576b\"], [0.6666666666666666, \"#ed7953\"], [0.7777777777777778, \"#fb9f3a\"], [0.8888888888888888, \"#fdca26\"], [1.0, \"#f0f921\"]], \"type\": \"contour\"}], \"contourcarpet\": [{\"colorbar\": {\"outlinewidth\": 0, \"ticks\": \"\"}, \"type\": \"contourcarpet\"}], \"heatmap\": [{\"colorbar\": {\"outlinewidth\": 0, \"ticks\": \"\"}, \"colorscale\": [[0.0, \"#0d0887\"], [0.1111111111111111, \"#46039f\"], [0.2222222222222222, \"#7201a8\"], [0.3333333333333333, \"#9c179e\"], [0.4444444444444444, \"#bd3786\"], [0.5555555555555556, \"#d8576b\"], [0.6666666666666666, \"#ed7953\"], [0.7777777777777778, \"#fb9f3a\"], [0.8888888888888888, \"#fdca26\"], [1.0, \"#f0f921\"]], \"type\": \"heatmap\"}], \"heatmapgl\": [{\"colorbar\": {\"outlinewidth\": 0, \"ticks\": \"\"}, \"colorscale\": [[0.0, \"#0d0887\"], [0.1111111111111111, \"#46039f\"], [0.2222222222222222, \"#7201a8\"], [0.3333333333333333, \"#9c179e\"], [0.4444444444444444, \"#bd3786\"], [0.5555555555555556, \"#d8576b\"], [0.6666666666666666, \"#ed7953\"], [0.7777777777777778, \"#fb9f3a\"], [0.8888888888888888, \"#fdca26\"], [1.0, \"#f0f921\"]], \"type\": \"heatmapgl\"}], \"histogram\": [{\"marker\": {\"colorbar\": {\"outlinewidth\": 0, \"ticks\": \"\"}}, \"type\": \"histogram\"}], \"histogram2d\": [{\"colorbar\": {\"outlinewidth\": 0, \"ticks\": \"\"}, \"colorscale\": [[0.0, \"#0d0887\"], [0.1111111111111111, \"#46039f\"], [0.2222222222222222, \"#7201a8\"], [0.3333333333333333, \"#9c179e\"], [0.4444444444444444, \"#bd3786\"], [0.5555555555555556, \"#d8576b\"], [0.6666666666666666, \"#ed7953\"], [0.7777777777777778, \"#fb9f3a\"], [0.8888888888888888, \"#fdca26\"], [1.0, \"#f0f921\"]], \"type\": \"histogram2d\"}], \"histogram2dcontour\": [{\"colorbar\": {\"outlinewidth\": 0, \"ticks\": \"\"}, \"colorscale\": [[0.0, \"#0d0887\"], [0.1111111111111111, \"#46039f\"], [0.2222222222222222, \"#7201a8\"], [0.3333333333333333, \"#9c179e\"], [0.4444444444444444, \"#bd3786\"], [0.5555555555555556, \"#d8576b\"], [0.6666666666666666, \"#ed7953\"], [0.7777777777777778, \"#fb9f3a\"], [0.8888888888888888, \"#fdca26\"], [1.0, \"#f0f921\"]], \"type\": \"histogram2dcontour\"}], \"mesh3d\": [{\"colorbar\": {\"outlinewidth\": 0, \"ticks\": \"\"}, \"type\": \"mesh3d\"}], \"parcoords\": [{\"line\": {\"colorbar\": {\"outlinewidth\": 0, \"ticks\": \"\"}}, \"type\": \"parcoords\"}], \"pie\": [{\"automargin\": true, \"type\": \"pie\"}], \"scatter\": [{\"marker\": {\"colorbar\": {\"outlinewidth\": 0, \"ticks\": \"\"}}, \"type\": \"scatter\"}], \"scatter3d\": [{\"line\": {\"colorbar\": {\"outlinewidth\": 0, \"ticks\": \"\"}}, \"marker\": {\"colorbar\": {\"outlinewidth\": 0, \"ticks\": \"\"}}, \"type\": \"scatter3d\"}], \"scattercarpet\": [{\"marker\": {\"colorbar\": {\"outlinewidth\": 0, \"ticks\": \"\"}}, \"type\": \"scattercarpet\"}], \"scattergeo\": [{\"marker\": {\"colorbar\": {\"outlinewidth\": 0, \"ticks\": \"\"}}, \"type\": \"scattergeo\"}], \"scattergl\": [{\"marker\": {\"colorbar\": {\"outlinewidth\": 0, \"ticks\": \"\"}}, \"type\": \"scattergl\"}], \"scattermapbox\": [{\"marker\": {\"colorbar\": {\"outlinewidth\": 0, \"ticks\": \"\"}}, \"type\": \"scattermapbox\"}], \"scatterpolar\": [{\"marker\": {\"colorbar\": {\"outlinewidth\": 0, \"ticks\": \"\"}}, \"type\": \"scatterpolar\"}], \"scatterpolargl\": [{\"marker\": {\"colorbar\": {\"outlinewidth\": 0, \"ticks\": \"\"}}, \"type\": \"scatterpolargl\"}], \"scatterternary\": [{\"marker\": {\"colorbar\": {\"outlinewidth\": 0, \"ticks\": \"\"}}, \"type\": \"scatterternary\"}], \"surface\": [{\"colorbar\": {\"outlinewidth\": 0, \"ticks\": \"\"}, \"colorscale\": [[0.0, \"#0d0887\"], [0.1111111111111111, \"#46039f\"], [0.2222222222222222, \"#7201a8\"], [0.3333333333333333, \"#9c179e\"], [0.4444444444444444, \"#bd3786\"], [0.5555555555555556, \"#d8576b\"], [0.6666666666666666, \"#ed7953\"], [0.7777777777777778, \"#fb9f3a\"], [0.8888888888888888, \"#fdca26\"], [1.0, \"#f0f921\"]], \"type\": \"surface\"}], \"table\": [{\"cells\": {\"fill\": {\"color\": \"#EBF0F8\"}, \"line\": {\"color\": \"white\"}}, \"header\": {\"fill\": {\"color\": \"#C8D4E3\"}, \"line\": {\"color\": \"white\"}}, \"type\": \"table\"}]}, \"layout\": {\"annotationdefaults\": {\"arrowcolor\": \"#2a3f5f\", \"arrowhead\": 0, \"arrowwidth\": 1}, \"coloraxis\": {\"colorbar\": {\"outlinewidth\": 0, \"ticks\": \"\"}}, \"colorscale\": {\"diverging\": [[0, \"#8e0152\"], [0.1, \"#c51b7d\"], [0.2, \"#de77ae\"], [0.3, \"#f1b6da\"], [0.4, \"#fde0ef\"], [0.5, \"#f7f7f7\"], [0.6, \"#e6f5d0\"], [0.7, \"#b8e186\"], [0.8, \"#7fbc41\"], [0.9, \"#4d9221\"], [1, \"#276419\"]], \"sequential\": [[0.0, \"#0d0887\"], [0.1111111111111111, \"#46039f\"], [0.2222222222222222, \"#7201a8\"], [0.3333333333333333, \"#9c179e\"], [0.4444444444444444, \"#bd3786\"], [0.5555555555555556, \"#d8576b\"], [0.6666666666666666, \"#ed7953\"], [0.7777777777777778, \"#fb9f3a\"], [0.8888888888888888, \"#fdca26\"], [1.0, \"#f0f921\"]], \"sequentialminus\": [[0.0, \"#0d0887\"], [0.1111111111111111, \"#46039f\"], [0.2222222222222222, \"#7201a8\"], [0.3333333333333333, \"#9c179e\"], [0.4444444444444444, \"#bd3786\"], [0.5555555555555556, \"#d8576b\"], [0.6666666666666666, \"#ed7953\"], [0.7777777777777778, \"#fb9f3a\"], [0.8888888888888888, \"#fdca26\"], [1.0, \"#f0f921\"]]}, \"colorway\": [\"#636efa\", \"#EF553B\", \"#00cc96\", \"#ab63fa\", \"#FFA15A\", \"#19d3f3\", \"#FF6692\", \"#B6E880\", \"#FF97FF\", \"#FECB52\"], \"font\": {\"color\": \"#2a3f5f\"}, \"geo\": {\"bgcolor\": \"white\", \"lakecolor\": \"white\", \"landcolor\": \"#E5ECF6\", \"showlakes\": true, \"showland\": true, \"subunitcolor\": \"white\"}, \"hoverlabel\": {\"align\": \"left\"}, \"hovermode\": \"closest\", \"mapbox\": {\"style\": \"light\"}, \"paper_bgcolor\": \"white\", \"plot_bgcolor\": \"#E5ECF6\", \"polar\": {\"angularaxis\": {\"gridcolor\": \"white\", \"linecolor\": \"white\", \"ticks\": \"\"}, \"bgcolor\": \"#E5ECF6\", \"radialaxis\": {\"gridcolor\": \"white\", \"linecolor\": \"white\", \"ticks\": \"\"}}, \"scene\": {\"xaxis\": {\"backgroundcolor\": \"#E5ECF6\", \"gridcolor\": \"white\", \"gridwidth\": 2, \"linecolor\": \"white\", \"showbackground\": true, \"ticks\": \"\", \"zerolinecolor\": \"white\"}, \"yaxis\": {\"backgroundcolor\": \"#E5ECF6\", \"gridcolor\": \"white\", \"gridwidth\": 2, \"linecolor\": \"white\", \"showbackground\": true, \"ticks\": \"\", \"zerolinecolor\": \"white\"}, \"zaxis\": {\"backgroundcolor\": \"#E5ECF6\", \"gridcolor\": \"white\", \"gridwidth\": 2, \"linecolor\": \"white\", \"showbackground\": true, \"ticks\": \"\", \"zerolinecolor\": \"white\"}}, \"shapedefaults\": {\"line\": {\"color\": \"#2a3f5f\"}}, \"ternary\": {\"aaxis\": {\"gridcolor\": \"white\", \"linecolor\": \"white\", \"ticks\": \"\"}, \"baxis\": {\"gridcolor\": \"white\", \"linecolor\": \"white\", \"ticks\": \"\"}, \"bgcolor\": \"#E5ECF6\", \"caxis\": {\"gridcolor\": \"white\", \"linecolor\": \"white\", \"ticks\": \"\"}}, \"title\": {\"x\": 0.05}, \"xaxis\": {\"automargin\": true, \"gridcolor\": \"white\", \"linecolor\": \"white\", \"ticks\": \"\", \"title\": {\"standoff\": 15}, \"zerolinecolor\": \"white\", \"zerolinewidth\": 2}, \"yaxis\": {\"automargin\": true, \"gridcolor\": \"white\", \"linecolor\": \"white\", \"ticks\": \"\", \"title\": {\"standoff\": 15}, \"zerolinecolor\": \"white\", \"zerolinewidth\": 2}}}, \"title\": {\"font\": {\"color\": \"#4D5663\"}}, \"xaxis\": {\"anchor\": \"y\", \"domain\": [0.0, 0.2125], \"gridcolor\": \"#E1E5ED\", \"showgrid\": false, \"tickfont\": {\"color\": \"#4D5663\"}, \"title\": {\"font\": {\"color\": \"#4D5663\"}, \"text\": \"\"}, \"zerolinecolor\": \"#E1E5ED\"}, \"xaxis10\": {\"anchor\": \"y10\", \"domain\": [0.2625, 0.475], \"gridcolor\": \"#E1E5ED\", \"showgrid\": false, \"tickfont\": {\"color\": \"#4D5663\"}, \"title\": {\"font\": {\"color\": \"#4D5663\"}, \"text\": \"\"}, \"zerolinecolor\": \"#E1E5ED\"}, \"xaxis11\": {\"anchor\": \"y11\", \"domain\": [0.525, 0.7375], \"gridcolor\": \"#E1E5ED\", \"showgrid\": false, \"tickfont\": {\"color\": \"#4D5663\"}, \"title\": {\"font\": {\"color\": \"#4D5663\"}, \"text\": \"\"}, \"zerolinecolor\": \"#E1E5ED\"}, \"xaxis12\": {\"anchor\": \"y12\", \"domain\": [0.7875, 1.0], \"gridcolor\": \"#E1E5ED\", \"showgrid\": false, \"tickfont\": {\"color\": \"#4D5663\"}, \"title\": {\"font\": {\"color\": \"#4D5663\"}, \"text\": \"\"}, \"zerolinecolor\": \"#E1E5ED\"}, \"xaxis13\": {\"anchor\": \"y13\", \"domain\": [0.0, 0.2125], \"gridcolor\": \"#E1E5ED\", \"showgrid\": false, \"tickfont\": {\"color\": \"#4D5663\"}, \"title\": {\"font\": {\"color\": \"#4D5663\"}, \"text\": \"\"}, \"zerolinecolor\": \"#E1E5ED\"}, \"xaxis14\": {\"anchor\": \"y14\", \"domain\": [0.2625, 0.475], \"gridcolor\": \"#E1E5ED\", \"showgrid\": false, \"tickfont\": {\"color\": \"#4D5663\"}, \"title\": {\"font\": {\"color\": \"#4D5663\"}, \"text\": \"\"}, \"zerolinecolor\": \"#E1E5ED\"}, \"xaxis15\": {\"anchor\": \"y15\", \"domain\": [0.525, 0.7375], \"gridcolor\": \"#E1E5ED\", \"showgrid\": false, \"tickfont\": {\"color\": \"#4D5663\"}, \"title\": {\"font\": {\"color\": \"#4D5663\"}, \"text\": \"\"}, \"zerolinecolor\": \"#E1E5ED\"}, \"xaxis16\": {\"anchor\": \"y16\", \"domain\": [0.7875, 1.0], \"gridcolor\": \"#E1E5ED\", \"showgrid\": false, \"tickfont\": {\"color\": \"#4D5663\"}, \"title\": {\"font\": {\"color\": \"#4D5663\"}, \"text\": \"\"}, \"zerolinecolor\": \"#E1E5ED\"}, \"xaxis2\": {\"anchor\": \"y2\", \"domain\": [0.2625, 0.475], \"gridcolor\": \"#E1E5ED\", \"showgrid\": false, \"tickfont\": {\"color\": \"#4D5663\"}, \"title\": {\"font\": {\"color\": \"#4D5663\"}, \"text\": \"\"}, \"zerolinecolor\": \"#E1E5ED\"}, \"xaxis3\": {\"anchor\": \"y3\", \"domain\": [0.525, 0.7375], \"gridcolor\": \"#E1E5ED\", \"showgrid\": false, \"tickfont\": {\"color\": \"#4D5663\"}, \"title\": {\"font\": {\"color\": \"#4D5663\"}, \"text\": \"\"}, \"zerolinecolor\": \"#E1E5ED\"}, \"xaxis4\": {\"anchor\": \"y4\", \"domain\": [0.7875, 1.0], \"gridcolor\": \"#E1E5ED\", \"showgrid\": false, \"tickfont\": {\"color\": \"#4D5663\"}, \"title\": {\"font\": {\"color\": \"#4D5663\"}, \"text\": \"\"}, \"zerolinecolor\": \"#E1E5ED\"}, \"xaxis5\": {\"anchor\": \"y5\", \"domain\": [0.0, 0.2125], \"gridcolor\": \"#E1E5ED\", \"showgrid\": false, \"tickfont\": {\"color\": \"#4D5663\"}, \"title\": {\"font\": {\"color\": \"#4D5663\"}, \"text\": \"\"}, \"zerolinecolor\": \"#E1E5ED\"}, \"xaxis6\": {\"anchor\": \"y6\", \"domain\": [0.2625, 0.475], \"gridcolor\": \"#E1E5ED\", \"showgrid\": false, \"tickfont\": {\"color\": \"#4D5663\"}, \"title\": {\"font\": {\"color\": \"#4D5663\"}, \"text\": \"\"}, \"zerolinecolor\": \"#E1E5ED\"}, \"xaxis7\": {\"anchor\": \"y7\", \"domain\": [0.525, 0.7375], \"gridcolor\": \"#E1E5ED\", \"showgrid\": false, \"tickfont\": {\"color\": \"#4D5663\"}, \"title\": {\"font\": {\"color\": \"#4D5663\"}, \"text\": \"\"}, \"zerolinecolor\": \"#E1E5ED\"}, \"xaxis8\": {\"anchor\": \"y8\", \"domain\": [0.7875, 1.0], \"gridcolor\": \"#E1E5ED\", \"showgrid\": false, \"tickfont\": {\"color\": \"#4D5663\"}, \"title\": {\"font\": {\"color\": \"#4D5663\"}, \"text\": \"\"}, \"zerolinecolor\": \"#E1E5ED\"}, \"xaxis9\": {\"anchor\": \"y9\", \"domain\": [0.0, 0.2125], \"gridcolor\": \"#E1E5ED\", \"showgrid\": false, \"tickfont\": {\"color\": \"#4D5663\"}, \"title\": {\"font\": {\"color\": \"#4D5663\"}, \"text\": \"\"}, \"zerolinecolor\": \"#E1E5ED\"}, \"yaxis\": {\"anchor\": \"x\", \"domain\": [0.8025, 1.0], \"gridcolor\": \"#E1E5ED\", \"showgrid\": false, \"tickfont\": {\"color\": \"#4D5663\"}, \"title\": {\"font\": {\"color\": \"#4D5663\"}, \"text\": \"\"}, \"zerolinecolor\": \"#E1E5ED\"}, \"yaxis10\": {\"anchor\": \"x10\", \"domain\": [0.2675, 0.465], \"gridcolor\": \"#E1E5ED\", \"showgrid\": false, \"tickfont\": {\"color\": \"#4D5663\"}, \"title\": {\"font\": {\"color\": \"#4D5663\"}, \"text\": \"\"}, \"zerolinecolor\": \"#E1E5ED\"}, \"yaxis11\": {\"anchor\": \"x11\", \"domain\": [0.2675, 0.465], \"gridcolor\": \"#E1E5ED\", \"showgrid\": false, \"tickfont\": {\"color\": \"#4D5663\"}, \"title\": {\"font\": {\"color\": \"#4D5663\"}, \"text\": \"\"}, \"zerolinecolor\": \"#E1E5ED\"}, \"yaxis12\": {\"anchor\": \"x12\", \"domain\": [0.2675, 0.465], \"gridcolor\": \"#E1E5ED\", \"showgrid\": false, \"tickfont\": {\"color\": \"#4D5663\"}, \"title\": {\"font\": {\"color\": \"#4D5663\"}, \"text\": \"\"}, \"zerolinecolor\": \"#E1E5ED\"}, \"yaxis13\": {\"anchor\": \"x13\", \"domain\": [0.0, 0.1975], \"gridcolor\": \"#E1E5ED\", \"showgrid\": false, \"tickfont\": {\"color\": \"#4D5663\"}, \"title\": {\"font\": {\"color\": \"#4D5663\"}, \"text\": \"\"}, \"zerolinecolor\": \"#E1E5ED\"}, \"yaxis14\": {\"anchor\": \"x14\", \"domain\": [0.0, 0.1975], \"gridcolor\": \"#E1E5ED\", \"showgrid\": false, \"tickfont\": {\"color\": \"#4D5663\"}, \"title\": {\"font\": {\"color\": \"#4D5663\"}, \"text\": \"\"}, \"zerolinecolor\": \"#E1E5ED\"}, \"yaxis15\": {\"anchor\": \"x15\", \"domain\": [0.0, 0.1975], \"gridcolor\": \"#E1E5ED\", \"showgrid\": false, \"tickfont\": {\"color\": \"#4D5663\"}, \"title\": {\"font\": {\"color\": \"#4D5663\"}, \"text\": \"\"}, \"zerolinecolor\": \"#E1E5ED\"}, \"yaxis16\": {\"anchor\": \"x16\", \"domain\": [0.0, 0.1975], \"gridcolor\": \"#E1E5ED\", \"showgrid\": false, \"tickfont\": {\"color\": \"#4D5663\"}, \"title\": {\"font\": {\"color\": \"#4D5663\"}, \"text\": \"\"}, \"zerolinecolor\": \"#E1E5ED\"}, \"yaxis2\": {\"anchor\": \"x2\", \"domain\": [0.8025, 1.0], \"gridcolor\": \"#E1E5ED\", \"showgrid\": false, \"tickfont\": {\"color\": \"#4D5663\"}, \"title\": {\"font\": {\"color\": \"#4D5663\"}, \"text\": \"\"}, \"zerolinecolor\": \"#E1E5ED\"}, \"yaxis3\": {\"anchor\": \"x3\", \"domain\": [0.8025, 1.0], \"gridcolor\": \"#E1E5ED\", \"showgrid\": false, \"tickfont\": {\"color\": \"#4D5663\"}, \"title\": {\"font\": {\"color\": \"#4D5663\"}, \"text\": \"\"}, \"zerolinecolor\": \"#E1E5ED\"}, \"yaxis4\": {\"anchor\": \"x4\", \"domain\": [0.8025, 1.0], \"gridcolor\": \"#E1E5ED\", \"showgrid\": false, \"tickfont\": {\"color\": \"#4D5663\"}, \"title\": {\"font\": {\"color\": \"#4D5663\"}, \"text\": \"\"}, \"zerolinecolor\": \"#E1E5ED\"}, \"yaxis5\": {\"anchor\": \"x5\", \"domain\": [0.535, 0.7325], \"gridcolor\": \"#E1E5ED\", \"showgrid\": false, \"tickfont\": {\"color\": \"#4D5663\"}, \"title\": {\"font\": {\"color\": \"#4D5663\"}, \"text\": \"\"}, \"zerolinecolor\": \"#E1E5ED\"}, \"yaxis6\": {\"anchor\": \"x6\", \"domain\": [0.535, 0.7325], \"gridcolor\": \"#E1E5ED\", \"showgrid\": false, \"tickfont\": {\"color\": \"#4D5663\"}, \"title\": {\"font\": {\"color\": \"#4D5663\"}, \"text\": \"\"}, \"zerolinecolor\": \"#E1E5ED\"}, \"yaxis7\": {\"anchor\": \"x7\", \"domain\": [0.535, 0.7325], \"gridcolor\": \"#E1E5ED\", \"showgrid\": false, \"tickfont\": {\"color\": \"#4D5663\"}, \"title\": {\"font\": {\"color\": \"#4D5663\"}, \"text\": \"\"}, \"zerolinecolor\": \"#E1E5ED\"}, \"yaxis8\": {\"anchor\": \"x8\", \"domain\": [0.535, 0.7325], \"gridcolor\": \"#E1E5ED\", \"showgrid\": false, \"tickfont\": {\"color\": \"#4D5663\"}, \"title\": {\"font\": {\"color\": \"#4D5663\"}, \"text\": \"\"}, \"zerolinecolor\": \"#E1E5ED\"}, \"yaxis9\": {\"anchor\": \"x9\", \"domain\": [0.2675, 0.465], \"gridcolor\": \"#E1E5ED\", \"showgrid\": false, \"tickfont\": {\"color\": \"#4D5663\"}, \"title\": {\"font\": {\"color\": \"#4D5663\"}, \"text\": \"\"}, \"zerolinecolor\": \"#E1E5ED\"}},                        {\"showLink\": true, \"linkText\": \"Export to plot.ly\", \"plotlyServerURL\": \"https://plot.ly\", \"responsive\": true}                    ).then(function(){\n",
       "                            \n",
       "var gd = document.getElementById('d0f420d3-adc6-4e61-b10c-94b7f711179e');\n",
       "var x = new MutationObserver(function (mutations, observer) {{\n",
       "        var display = window.getComputedStyle(gd).display;\n",
       "        if (!display || display === 'none') {{\n",
       "            console.log([gd, 'removed!']);\n",
       "            Plotly.purge(gd);\n",
       "            observer.disconnect();\n",
       "        }}\n",
       "}});\n",
       "\n",
       "// Listen for the removal of the full notebook cells\n",
       "var notebookContainer = gd.closest('#notebook-container');\n",
       "if (notebookContainer) {{\n",
       "    x.observe(notebookContainer, {childList: true});\n",
       "}}\n",
       "\n",
       "// Listen for the clearing of the current output cell\n",
       "var outputEl = gd.closest('.output');\n",
       "if (outputEl) {{\n",
       "    x.observe(outputEl, {childList: true});\n",
       "}}\n",
       "\n",
       "                        })                };                });            </script>        </div>"
      ]
     },
     "metadata": {},
     "output_type": "display_data"
    }
   ],
   "source": [
    "fake_df.scatter_matrix()"
   ]
  },
  {
   "cell_type": "markdown",
   "metadata": {},
   "source": [
    "# Excellent Job!"
   ]
  },
  {
   "cell_type": "code",
   "execution_count": 36,
   "metadata": {},
   "outputs": [],
   "source": [
    "import plotly.graph_objs as go\n",
    "from plotly.offline import download_plotlyjs, init_notebook_mode, plot, iplot"
   ]
  },
  {
   "cell_type": "markdown",
   "metadata": {},
   "source": [
    "Now set up everything so that the figures show up in the notebok"
   ]
  },
  {
   "cell_type": "code",
   "execution_count": 38,
   "metadata": {},
   "outputs": [
    {
     "data": {
      "text/html": [
       "        <script type=\"text/javascript\">\n",
       "        window.PlotlyConfig = {MathJaxConfig: 'local'};\n",
       "        if (window.MathJax) {MathJax.Hub.Config({SVG: {font: \"STIX-Web\"}});}\n",
       "        if (typeof require !== 'undefined') {\n",
       "        require.undef(\"plotly\");\n",
       "        requirejs.config({\n",
       "            paths: {\n",
       "                'plotly': ['https://cdn.plot.ly/plotly-latest.min']\n",
       "            }\n",
       "        });\n",
       "        require(['plotly'], function(Plotly) {\n",
       "            window._Plotly = Plotly;\n",
       "        });\n",
       "        }\n",
       "        </script>\n",
       "        "
      ]
     },
     "metadata": {},
     "output_type": "display_data"
    }
   ],
   "source": [
    "init_notebook_mode(connected=True)"
   ]
  },
  {
   "cell_type": "code",
   "execution_count": 44,
   "metadata": {},
   "outputs": [],
   "source": [
    "data = dict(type='choropleth',\n",
    "           locations = ['AZ', 'CA', 'NY'],\n",
    "           locationmode = 'USA-states',\n",
    "           colorscale= 'Portland',\n",
    "           text=['text1', 'text2', 'text3'],\n",
    "           z=[1.0, 2.0,3.0],\n",
    "           colorbar = {'title':'Colorbar Title'})"
   ]
  },
  {
   "cell_type": "code",
   "execution_count": 45,
   "metadata": {},
   "outputs": [],
   "source": [
    "layout = dict(geo={'scope':'usa'})"
   ]
  },
  {
   "cell_type": "code",
   "execution_count": 46,
   "metadata": {},
   "outputs": [],
   "source": [
    "choromap = go.Figure(data = data, layout = layout)"
   ]
  },
  {
   "cell_type": "code",
   "execution_count": 47,
   "metadata": {},
   "outputs": [
    {
     "data": {
      "application/vnd.plotly.v1+json": {
       "config": {
        "linkText": "Export to plot.ly",
        "plotlyServerURL": "https://plot.ly",
        "showLink": false
       },
       "data": [
        {
         "colorbar": {
          "title": {
           "text": "Colorbar Title"
          }
         },
         "colorscale": [
          [
           0,
           "rgb(12,51,131)"
          ],
          [
           0.25,
           "rgb(10,136,186)"
          ],
          [
           0.5,
           "rgb(242,211,56)"
          ],
          [
           0.75,
           "rgb(242,143,56)"
          ],
          [
           1,
           "rgb(217,30,30)"
          ]
         ],
         "locationmode": "USA-states",
         "locations": [
          "AZ",
          "CA",
          "NY"
         ],
         "text": [
          "text1",
          "text2",
          "text3"
         ],
         "type": "choropleth",
         "z": [
          1,
          2,
          3
         ]
        }
       ],
       "layout": {
        "geo": {
         "scope": "usa"
        },
        "template": {
         "data": {
          "bar": [
           {
            "error_x": {
             "color": "#2a3f5f"
            },
            "error_y": {
             "color": "#2a3f5f"
            },
            "marker": {
             "line": {
              "color": "#E5ECF6",
              "width": 0.5
             }
            },
            "type": "bar"
           }
          ],
          "barpolar": [
           {
            "marker": {
             "line": {
              "color": "#E5ECF6",
              "width": 0.5
             }
            },
            "type": "barpolar"
           }
          ],
          "carpet": [
           {
            "aaxis": {
             "endlinecolor": "#2a3f5f",
             "gridcolor": "white",
             "linecolor": "white",
             "minorgridcolor": "white",
             "startlinecolor": "#2a3f5f"
            },
            "baxis": {
             "endlinecolor": "#2a3f5f",
             "gridcolor": "white",
             "linecolor": "white",
             "minorgridcolor": "white",
             "startlinecolor": "#2a3f5f"
            },
            "type": "carpet"
           }
          ],
          "choropleth": [
           {
            "colorbar": {
             "outlinewidth": 0,
             "ticks": ""
            },
            "type": "choropleth"
           }
          ],
          "contour": [
           {
            "colorbar": {
             "outlinewidth": 0,
             "ticks": ""
            },
            "colorscale": [
             [
              0,
              "#0d0887"
             ],
             [
              0.1111111111111111,
              "#46039f"
             ],
             [
              0.2222222222222222,
              "#7201a8"
             ],
             [
              0.3333333333333333,
              "#9c179e"
             ],
             [
              0.4444444444444444,
              "#bd3786"
             ],
             [
              0.5555555555555556,
              "#d8576b"
             ],
             [
              0.6666666666666666,
              "#ed7953"
             ],
             [
              0.7777777777777778,
              "#fb9f3a"
             ],
             [
              0.8888888888888888,
              "#fdca26"
             ],
             [
              1,
              "#f0f921"
             ]
            ],
            "type": "contour"
           }
          ],
          "contourcarpet": [
           {
            "colorbar": {
             "outlinewidth": 0,
             "ticks": ""
            },
            "type": "contourcarpet"
           }
          ],
          "heatmap": [
           {
            "colorbar": {
             "outlinewidth": 0,
             "ticks": ""
            },
            "colorscale": [
             [
              0,
              "#0d0887"
             ],
             [
              0.1111111111111111,
              "#46039f"
             ],
             [
              0.2222222222222222,
              "#7201a8"
             ],
             [
              0.3333333333333333,
              "#9c179e"
             ],
             [
              0.4444444444444444,
              "#bd3786"
             ],
             [
              0.5555555555555556,
              "#d8576b"
             ],
             [
              0.6666666666666666,
              "#ed7953"
             ],
             [
              0.7777777777777778,
              "#fb9f3a"
             ],
             [
              0.8888888888888888,
              "#fdca26"
             ],
             [
              1,
              "#f0f921"
             ]
            ],
            "type": "heatmap"
           }
          ],
          "heatmapgl": [
           {
            "colorbar": {
             "outlinewidth": 0,
             "ticks": ""
            },
            "colorscale": [
             [
              0,
              "#0d0887"
             ],
             [
              0.1111111111111111,
              "#46039f"
             ],
             [
              0.2222222222222222,
              "#7201a8"
             ],
             [
              0.3333333333333333,
              "#9c179e"
             ],
             [
              0.4444444444444444,
              "#bd3786"
             ],
             [
              0.5555555555555556,
              "#d8576b"
             ],
             [
              0.6666666666666666,
              "#ed7953"
             ],
             [
              0.7777777777777778,
              "#fb9f3a"
             ],
             [
              0.8888888888888888,
              "#fdca26"
             ],
             [
              1,
              "#f0f921"
             ]
            ],
            "type": "heatmapgl"
           }
          ],
          "histogram": [
           {
            "marker": {
             "colorbar": {
              "outlinewidth": 0,
              "ticks": ""
             }
            },
            "type": "histogram"
           }
          ],
          "histogram2d": [
           {
            "colorbar": {
             "outlinewidth": 0,
             "ticks": ""
            },
            "colorscale": [
             [
              0,
              "#0d0887"
             ],
             [
              0.1111111111111111,
              "#46039f"
             ],
             [
              0.2222222222222222,
              "#7201a8"
             ],
             [
              0.3333333333333333,
              "#9c179e"
             ],
             [
              0.4444444444444444,
              "#bd3786"
             ],
             [
              0.5555555555555556,
              "#d8576b"
             ],
             [
              0.6666666666666666,
              "#ed7953"
             ],
             [
              0.7777777777777778,
              "#fb9f3a"
             ],
             [
              0.8888888888888888,
              "#fdca26"
             ],
             [
              1,
              "#f0f921"
             ]
            ],
            "type": "histogram2d"
           }
          ],
          "histogram2dcontour": [
           {
            "colorbar": {
             "outlinewidth": 0,
             "ticks": ""
            },
            "colorscale": [
             [
              0,
              "#0d0887"
             ],
             [
              0.1111111111111111,
              "#46039f"
             ],
             [
              0.2222222222222222,
              "#7201a8"
             ],
             [
              0.3333333333333333,
              "#9c179e"
             ],
             [
              0.4444444444444444,
              "#bd3786"
             ],
             [
              0.5555555555555556,
              "#d8576b"
             ],
             [
              0.6666666666666666,
              "#ed7953"
             ],
             [
              0.7777777777777778,
              "#fb9f3a"
             ],
             [
              0.8888888888888888,
              "#fdca26"
             ],
             [
              1,
              "#f0f921"
             ]
            ],
            "type": "histogram2dcontour"
           }
          ],
          "mesh3d": [
           {
            "colorbar": {
             "outlinewidth": 0,
             "ticks": ""
            },
            "type": "mesh3d"
           }
          ],
          "parcoords": [
           {
            "line": {
             "colorbar": {
              "outlinewidth": 0,
              "ticks": ""
             }
            },
            "type": "parcoords"
           }
          ],
          "pie": [
           {
            "automargin": true,
            "type": "pie"
           }
          ],
          "scatter": [
           {
            "marker": {
             "colorbar": {
              "outlinewidth": 0,
              "ticks": ""
             }
            },
            "type": "scatter"
           }
          ],
          "scatter3d": [
           {
            "line": {
             "colorbar": {
              "outlinewidth": 0,
              "ticks": ""
             }
            },
            "marker": {
             "colorbar": {
              "outlinewidth": 0,
              "ticks": ""
             }
            },
            "type": "scatter3d"
           }
          ],
          "scattercarpet": [
           {
            "marker": {
             "colorbar": {
              "outlinewidth": 0,
              "ticks": ""
             }
            },
            "type": "scattercarpet"
           }
          ],
          "scattergeo": [
           {
            "marker": {
             "colorbar": {
              "outlinewidth": 0,
              "ticks": ""
             }
            },
            "type": "scattergeo"
           }
          ],
          "scattergl": [
           {
            "marker": {
             "colorbar": {
              "outlinewidth": 0,
              "ticks": ""
             }
            },
            "type": "scattergl"
           }
          ],
          "scattermapbox": [
           {
            "marker": {
             "colorbar": {
              "outlinewidth": 0,
              "ticks": ""
             }
            },
            "type": "scattermapbox"
           }
          ],
          "scatterpolar": [
           {
            "marker": {
             "colorbar": {
              "outlinewidth": 0,
              "ticks": ""
             }
            },
            "type": "scatterpolar"
           }
          ],
          "scatterpolargl": [
           {
            "marker": {
             "colorbar": {
              "outlinewidth": 0,
              "ticks": ""
             }
            },
            "type": "scatterpolargl"
           }
          ],
          "scatterternary": [
           {
            "marker": {
             "colorbar": {
              "outlinewidth": 0,
              "ticks": ""
             }
            },
            "type": "scatterternary"
           }
          ],
          "surface": [
           {
            "colorbar": {
             "outlinewidth": 0,
             "ticks": ""
            },
            "colorscale": [
             [
              0,
              "#0d0887"
             ],
             [
              0.1111111111111111,
              "#46039f"
             ],
             [
              0.2222222222222222,
              "#7201a8"
             ],
             [
              0.3333333333333333,
              "#9c179e"
             ],
             [
              0.4444444444444444,
              "#bd3786"
             ],
             [
              0.5555555555555556,
              "#d8576b"
             ],
             [
              0.6666666666666666,
              "#ed7953"
             ],
             [
              0.7777777777777778,
              "#fb9f3a"
             ],
             [
              0.8888888888888888,
              "#fdca26"
             ],
             [
              1,
              "#f0f921"
             ]
            ],
            "type": "surface"
           }
          ],
          "table": [
           {
            "cells": {
             "fill": {
              "color": "#EBF0F8"
             },
             "line": {
              "color": "white"
             }
            },
            "header": {
             "fill": {
              "color": "#C8D4E3"
             },
             "line": {
              "color": "white"
             }
            },
            "type": "table"
           }
          ]
         },
         "layout": {
          "annotationdefaults": {
           "arrowcolor": "#2a3f5f",
           "arrowhead": 0,
           "arrowwidth": 1
          },
          "coloraxis": {
           "colorbar": {
            "outlinewidth": 0,
            "ticks": ""
           }
          },
          "colorscale": {
           "diverging": [
            [
             0,
             "#8e0152"
            ],
            [
             0.1,
             "#c51b7d"
            ],
            [
             0.2,
             "#de77ae"
            ],
            [
             0.3,
             "#f1b6da"
            ],
            [
             0.4,
             "#fde0ef"
            ],
            [
             0.5,
             "#f7f7f7"
            ],
            [
             0.6,
             "#e6f5d0"
            ],
            [
             0.7,
             "#b8e186"
            ],
            [
             0.8,
             "#7fbc41"
            ],
            [
             0.9,
             "#4d9221"
            ],
            [
             1,
             "#276419"
            ]
           ],
           "sequential": [
            [
             0,
             "#0d0887"
            ],
            [
             0.1111111111111111,
             "#46039f"
            ],
            [
             0.2222222222222222,
             "#7201a8"
            ],
            [
             0.3333333333333333,
             "#9c179e"
            ],
            [
             0.4444444444444444,
             "#bd3786"
            ],
            [
             0.5555555555555556,
             "#d8576b"
            ],
            [
             0.6666666666666666,
             "#ed7953"
            ],
            [
             0.7777777777777778,
             "#fb9f3a"
            ],
            [
             0.8888888888888888,
             "#fdca26"
            ],
            [
             1,
             "#f0f921"
            ]
           ],
           "sequentialminus": [
            [
             0,
             "#0d0887"
            ],
            [
             0.1111111111111111,
             "#46039f"
            ],
            [
             0.2222222222222222,
             "#7201a8"
            ],
            [
             0.3333333333333333,
             "#9c179e"
            ],
            [
             0.4444444444444444,
             "#bd3786"
            ],
            [
             0.5555555555555556,
             "#d8576b"
            ],
            [
             0.6666666666666666,
             "#ed7953"
            ],
            [
             0.7777777777777778,
             "#fb9f3a"
            ],
            [
             0.8888888888888888,
             "#fdca26"
            ],
            [
             1,
             "#f0f921"
            ]
           ]
          },
          "colorway": [
           "#636efa",
           "#EF553B",
           "#00cc96",
           "#ab63fa",
           "#FFA15A",
           "#19d3f3",
           "#FF6692",
           "#B6E880",
           "#FF97FF",
           "#FECB52"
          ],
          "font": {
           "color": "#2a3f5f"
          },
          "geo": {
           "bgcolor": "white",
           "lakecolor": "white",
           "landcolor": "#E5ECF6",
           "showlakes": true,
           "showland": true,
           "subunitcolor": "white"
          },
          "hoverlabel": {
           "align": "left"
          },
          "hovermode": "closest",
          "mapbox": {
           "style": "light"
          },
          "paper_bgcolor": "white",
          "plot_bgcolor": "#E5ECF6",
          "polar": {
           "angularaxis": {
            "gridcolor": "white",
            "linecolor": "white",
            "ticks": ""
           },
           "bgcolor": "#E5ECF6",
           "radialaxis": {
            "gridcolor": "white",
            "linecolor": "white",
            "ticks": ""
           }
          },
          "scene": {
           "xaxis": {
            "backgroundcolor": "#E5ECF6",
            "gridcolor": "white",
            "gridwidth": 2,
            "linecolor": "white",
            "showbackground": true,
            "ticks": "",
            "zerolinecolor": "white"
           },
           "yaxis": {
            "backgroundcolor": "#E5ECF6",
            "gridcolor": "white",
            "gridwidth": 2,
            "linecolor": "white",
            "showbackground": true,
            "ticks": "",
            "zerolinecolor": "white"
           },
           "zaxis": {
            "backgroundcolor": "#E5ECF6",
            "gridcolor": "white",
            "gridwidth": 2,
            "linecolor": "white",
            "showbackground": true,
            "ticks": "",
            "zerolinecolor": "white"
           }
          },
          "shapedefaults": {
           "line": {
            "color": "#2a3f5f"
           }
          },
          "ternary": {
           "aaxis": {
            "gridcolor": "white",
            "linecolor": "white",
            "ticks": ""
           },
           "baxis": {
            "gridcolor": "white",
            "linecolor": "white",
            "ticks": ""
           },
           "bgcolor": "#E5ECF6",
           "caxis": {
            "gridcolor": "white",
            "linecolor": "white",
            "ticks": ""
           }
          },
          "title": {
           "x": 0.05
          },
          "xaxis": {
           "automargin": true,
           "gridcolor": "white",
           "linecolor": "white",
           "ticks": "",
           "title": {
            "standoff": 15
           },
           "zerolinecolor": "white",
           "zerolinewidth": 2
          },
          "yaxis": {
           "automargin": true,
           "gridcolor": "white",
           "linecolor": "white",
           "ticks": "",
           "title": {
            "standoff": 15
           },
           "zerolinecolor": "white",
           "zerolinewidth": 2
          }
         }
        }
       }
      },
      "text/html": [
       "<div>                            <div id=\"ccef80f8-48c6-4708-9406-263c5b81d482\" class=\"plotly-graph-div\" style=\"height:525px; width:100%;\"></div>            <script type=\"text/javascript\">                require([\"plotly\"], function(Plotly) {                    window.PLOTLYENV=window.PLOTLYENV || {};                                    if (document.getElementById(\"ccef80f8-48c6-4708-9406-263c5b81d482\")) {                    Plotly.newPlot(                        \"ccef80f8-48c6-4708-9406-263c5b81d482\",                        [{\"colorbar\": {\"title\": {\"text\": \"Colorbar Title\"}}, \"colorscale\": [[0.0, \"rgb(12,51,131)\"], [0.25, \"rgb(10,136,186)\"], [0.5, \"rgb(242,211,56)\"], [0.75, \"rgb(242,143,56)\"], [1.0, \"rgb(217,30,30)\"]], \"locationmode\": \"USA-states\", \"locations\": [\"AZ\", \"CA\", \"NY\"], \"text\": [\"text1\", \"text2\", \"text3\"], \"type\": \"choropleth\", \"z\": [1.0, 2.0, 3.0]}],                        {\"geo\": {\"scope\": \"usa\"}, \"template\": {\"data\": {\"bar\": [{\"error_x\": {\"color\": \"#2a3f5f\"}, \"error_y\": {\"color\": \"#2a3f5f\"}, \"marker\": {\"line\": {\"color\": \"#E5ECF6\", \"width\": 0.5}}, \"type\": \"bar\"}], \"barpolar\": [{\"marker\": {\"line\": {\"color\": \"#E5ECF6\", \"width\": 0.5}}, \"type\": \"barpolar\"}], \"carpet\": [{\"aaxis\": {\"endlinecolor\": \"#2a3f5f\", \"gridcolor\": \"white\", \"linecolor\": \"white\", \"minorgridcolor\": \"white\", \"startlinecolor\": \"#2a3f5f\"}, \"baxis\": {\"endlinecolor\": \"#2a3f5f\", \"gridcolor\": \"white\", \"linecolor\": \"white\", \"minorgridcolor\": \"white\", \"startlinecolor\": \"#2a3f5f\"}, \"type\": \"carpet\"}], \"choropleth\": [{\"colorbar\": {\"outlinewidth\": 0, \"ticks\": \"\"}, \"type\": \"choropleth\"}], \"contour\": [{\"colorbar\": {\"outlinewidth\": 0, \"ticks\": \"\"}, \"colorscale\": [[0.0, \"#0d0887\"], [0.1111111111111111, \"#46039f\"], [0.2222222222222222, \"#7201a8\"], [0.3333333333333333, \"#9c179e\"], [0.4444444444444444, \"#bd3786\"], [0.5555555555555556, \"#d8576b\"], [0.6666666666666666, \"#ed7953\"], [0.7777777777777778, \"#fb9f3a\"], [0.8888888888888888, \"#fdca26\"], [1.0, \"#f0f921\"]], \"type\": \"contour\"}], \"contourcarpet\": [{\"colorbar\": {\"outlinewidth\": 0, \"ticks\": \"\"}, \"type\": \"contourcarpet\"}], \"heatmap\": [{\"colorbar\": {\"outlinewidth\": 0, \"ticks\": \"\"}, \"colorscale\": [[0.0, \"#0d0887\"], [0.1111111111111111, \"#46039f\"], [0.2222222222222222, \"#7201a8\"], [0.3333333333333333, \"#9c179e\"], [0.4444444444444444, \"#bd3786\"], [0.5555555555555556, \"#d8576b\"], [0.6666666666666666, \"#ed7953\"], [0.7777777777777778, \"#fb9f3a\"], [0.8888888888888888, \"#fdca26\"], [1.0, \"#f0f921\"]], \"type\": \"heatmap\"}], \"heatmapgl\": [{\"colorbar\": {\"outlinewidth\": 0, \"ticks\": \"\"}, \"colorscale\": [[0.0, \"#0d0887\"], [0.1111111111111111, \"#46039f\"], [0.2222222222222222, \"#7201a8\"], [0.3333333333333333, \"#9c179e\"], [0.4444444444444444, \"#bd3786\"], [0.5555555555555556, \"#d8576b\"], [0.6666666666666666, \"#ed7953\"], [0.7777777777777778, \"#fb9f3a\"], [0.8888888888888888, \"#fdca26\"], [1.0, \"#f0f921\"]], \"type\": \"heatmapgl\"}], \"histogram\": [{\"marker\": {\"colorbar\": {\"outlinewidth\": 0, \"ticks\": \"\"}}, \"type\": \"histogram\"}], \"histogram2d\": [{\"colorbar\": {\"outlinewidth\": 0, \"ticks\": \"\"}, \"colorscale\": [[0.0, \"#0d0887\"], [0.1111111111111111, \"#46039f\"], [0.2222222222222222, \"#7201a8\"], [0.3333333333333333, \"#9c179e\"], [0.4444444444444444, \"#bd3786\"], [0.5555555555555556, \"#d8576b\"], [0.6666666666666666, \"#ed7953\"], [0.7777777777777778, \"#fb9f3a\"], [0.8888888888888888, \"#fdca26\"], [1.0, \"#f0f921\"]], \"type\": \"histogram2d\"}], \"histogram2dcontour\": [{\"colorbar\": {\"outlinewidth\": 0, \"ticks\": \"\"}, \"colorscale\": [[0.0, \"#0d0887\"], [0.1111111111111111, \"#46039f\"], [0.2222222222222222, \"#7201a8\"], [0.3333333333333333, \"#9c179e\"], [0.4444444444444444, \"#bd3786\"], [0.5555555555555556, \"#d8576b\"], [0.6666666666666666, \"#ed7953\"], [0.7777777777777778, \"#fb9f3a\"], [0.8888888888888888, \"#fdca26\"], [1.0, \"#f0f921\"]], \"type\": \"histogram2dcontour\"}], \"mesh3d\": [{\"colorbar\": {\"outlinewidth\": 0, \"ticks\": \"\"}, \"type\": \"mesh3d\"}], \"parcoords\": [{\"line\": {\"colorbar\": {\"outlinewidth\": 0, \"ticks\": \"\"}}, \"type\": \"parcoords\"}], \"pie\": [{\"automargin\": true, \"type\": \"pie\"}], \"scatter\": [{\"marker\": {\"colorbar\": {\"outlinewidth\": 0, \"ticks\": \"\"}}, \"type\": \"scatter\"}], \"scatter3d\": [{\"line\": {\"colorbar\": {\"outlinewidth\": 0, \"ticks\": \"\"}}, \"marker\": {\"colorbar\": {\"outlinewidth\": 0, \"ticks\": \"\"}}, \"type\": \"scatter3d\"}], \"scattercarpet\": [{\"marker\": {\"colorbar\": {\"outlinewidth\": 0, \"ticks\": \"\"}}, \"type\": \"scattercarpet\"}], \"scattergeo\": [{\"marker\": {\"colorbar\": {\"outlinewidth\": 0, \"ticks\": \"\"}}, \"type\": \"scattergeo\"}], \"scattergl\": [{\"marker\": {\"colorbar\": {\"outlinewidth\": 0, \"ticks\": \"\"}}, \"type\": \"scattergl\"}], \"scattermapbox\": [{\"marker\": {\"colorbar\": {\"outlinewidth\": 0, \"ticks\": \"\"}}, \"type\": \"scattermapbox\"}], \"scatterpolar\": [{\"marker\": {\"colorbar\": {\"outlinewidth\": 0, \"ticks\": \"\"}}, \"type\": \"scatterpolar\"}], \"scatterpolargl\": [{\"marker\": {\"colorbar\": {\"outlinewidth\": 0, \"ticks\": \"\"}}, \"type\": \"scatterpolargl\"}], \"scatterternary\": [{\"marker\": {\"colorbar\": {\"outlinewidth\": 0, \"ticks\": \"\"}}, \"type\": \"scatterternary\"}], \"surface\": [{\"colorbar\": {\"outlinewidth\": 0, \"ticks\": \"\"}, \"colorscale\": [[0.0, \"#0d0887\"], [0.1111111111111111, \"#46039f\"], [0.2222222222222222, \"#7201a8\"], [0.3333333333333333, \"#9c179e\"], [0.4444444444444444, \"#bd3786\"], [0.5555555555555556, \"#d8576b\"], [0.6666666666666666, \"#ed7953\"], [0.7777777777777778, \"#fb9f3a\"], [0.8888888888888888, \"#fdca26\"], [1.0, \"#f0f921\"]], \"type\": \"surface\"}], \"table\": [{\"cells\": {\"fill\": {\"color\": \"#EBF0F8\"}, \"line\": {\"color\": \"white\"}}, \"header\": {\"fill\": {\"color\": \"#C8D4E3\"}, \"line\": {\"color\": \"white\"}}, \"type\": \"table\"}]}, \"layout\": {\"annotationdefaults\": {\"arrowcolor\": \"#2a3f5f\", \"arrowhead\": 0, \"arrowwidth\": 1}, \"coloraxis\": {\"colorbar\": {\"outlinewidth\": 0, \"ticks\": \"\"}}, \"colorscale\": {\"diverging\": [[0, \"#8e0152\"], [0.1, \"#c51b7d\"], [0.2, \"#de77ae\"], [0.3, \"#f1b6da\"], [0.4, \"#fde0ef\"], [0.5, \"#f7f7f7\"], [0.6, \"#e6f5d0\"], [0.7, \"#b8e186\"], [0.8, \"#7fbc41\"], [0.9, \"#4d9221\"], [1, \"#276419\"]], \"sequential\": [[0.0, \"#0d0887\"], [0.1111111111111111, \"#46039f\"], [0.2222222222222222, \"#7201a8\"], [0.3333333333333333, \"#9c179e\"], [0.4444444444444444, \"#bd3786\"], [0.5555555555555556, \"#d8576b\"], [0.6666666666666666, \"#ed7953\"], [0.7777777777777778, \"#fb9f3a\"], [0.8888888888888888, \"#fdca26\"], [1.0, \"#f0f921\"]], \"sequentialminus\": [[0.0, \"#0d0887\"], [0.1111111111111111, \"#46039f\"], [0.2222222222222222, \"#7201a8\"], [0.3333333333333333, \"#9c179e\"], [0.4444444444444444, \"#bd3786\"], [0.5555555555555556, \"#d8576b\"], [0.6666666666666666, \"#ed7953\"], [0.7777777777777778, \"#fb9f3a\"], [0.8888888888888888, \"#fdca26\"], [1.0, \"#f0f921\"]]}, \"colorway\": [\"#636efa\", \"#EF553B\", \"#00cc96\", \"#ab63fa\", \"#FFA15A\", \"#19d3f3\", \"#FF6692\", \"#B6E880\", \"#FF97FF\", \"#FECB52\"], \"font\": {\"color\": \"#2a3f5f\"}, \"geo\": {\"bgcolor\": \"white\", \"lakecolor\": \"white\", \"landcolor\": \"#E5ECF6\", \"showlakes\": true, \"showland\": true, \"subunitcolor\": \"white\"}, \"hoverlabel\": {\"align\": \"left\"}, \"hovermode\": \"closest\", \"mapbox\": {\"style\": \"light\"}, \"paper_bgcolor\": \"white\", \"plot_bgcolor\": \"#E5ECF6\", \"polar\": {\"angularaxis\": {\"gridcolor\": \"white\", \"linecolor\": \"white\", \"ticks\": \"\"}, \"bgcolor\": \"#E5ECF6\", \"radialaxis\": {\"gridcolor\": \"white\", \"linecolor\": \"white\", \"ticks\": \"\"}}, \"scene\": {\"xaxis\": {\"backgroundcolor\": \"#E5ECF6\", \"gridcolor\": \"white\", \"gridwidth\": 2, \"linecolor\": \"white\", \"showbackground\": true, \"ticks\": \"\", \"zerolinecolor\": \"white\"}, \"yaxis\": {\"backgroundcolor\": \"#E5ECF6\", \"gridcolor\": \"white\", \"gridwidth\": 2, \"linecolor\": \"white\", \"showbackground\": true, \"ticks\": \"\", \"zerolinecolor\": \"white\"}, \"zaxis\": {\"backgroundcolor\": \"#E5ECF6\", \"gridcolor\": \"white\", \"gridwidth\": 2, \"linecolor\": \"white\", \"showbackground\": true, \"ticks\": \"\", \"zerolinecolor\": \"white\"}}, \"shapedefaults\": {\"line\": {\"color\": \"#2a3f5f\"}}, \"ternary\": {\"aaxis\": {\"gridcolor\": \"white\", \"linecolor\": \"white\", \"ticks\": \"\"}, \"baxis\": {\"gridcolor\": \"white\", \"linecolor\": \"white\", \"ticks\": \"\"}, \"bgcolor\": \"#E5ECF6\", \"caxis\": {\"gridcolor\": \"white\", \"linecolor\": \"white\", \"ticks\": \"\"}}, \"title\": {\"x\": 0.05}, \"xaxis\": {\"automargin\": true, \"gridcolor\": \"white\", \"linecolor\": \"white\", \"ticks\": \"\", \"title\": {\"standoff\": 15}, \"zerolinecolor\": \"white\", \"zerolinewidth\": 2}, \"yaxis\": {\"automargin\": true, \"gridcolor\": \"white\", \"linecolor\": \"white\", \"ticks\": \"\", \"title\": {\"standoff\": 15}, \"zerolinecolor\": \"white\", \"zerolinewidth\": 2}}}},                        {\"responsive\": true}                    ).then(function(){\n",
       "                            \n",
       "var gd = document.getElementById('ccef80f8-48c6-4708-9406-263c5b81d482');\n",
       "var x = new MutationObserver(function (mutations, observer) {{\n",
       "        var display = window.getComputedStyle(gd).display;\n",
       "        if (!display || display === 'none') {{\n",
       "            console.log([gd, 'removed!']);\n",
       "            Plotly.purge(gd);\n",
       "            observer.disconnect();\n",
       "        }}\n",
       "}});\n",
       "\n",
       "// Listen for the removal of the full notebook cells\n",
       "var notebookContainer = gd.closest('#notebook-container');\n",
       "if (notebookContainer) {{\n",
       "    x.observe(notebookContainer, {childList: true});\n",
       "}}\n",
       "\n",
       "// Listen for the clearing of the current output cell\n",
       "var outputEl = gd.closest('.output');\n",
       "if (outputEl) {{\n",
       "    x.observe(outputEl, {childList: true});\n",
       "}}\n",
       "\n",
       "                        })                };                });            </script>        </div>"
      ]
     },
     "metadata": {},
     "output_type": "display_data"
    }
   ],
   "source": [
    "iplot(choromap)"
   ]
  },
  {
   "cell_type": "markdown",
   "metadata": {},
   "source": [
    "# Real Data US Map Choropleth"
   ]
  },
  {
   "cell_type": "code",
   "execution_count": 49,
   "metadata": {},
   "outputs": [],
   "source": [
    "w_df = pd.read_csv('2014_world_GDP')"
   ]
  },
  {
   "cell_type": "code",
   "execution_count": 50,
   "metadata": {},
   "outputs": [
    {
     "data": {
      "text/html": [
       "<div>\n",
       "<style scoped>\n",
       "    .dataframe tbody tr th:only-of-type {\n",
       "        vertical-align: middle;\n",
       "    }\n",
       "\n",
       "    .dataframe tbody tr th {\n",
       "        vertical-align: top;\n",
       "    }\n",
       "\n",
       "    .dataframe thead th {\n",
       "        text-align: right;\n",
       "    }\n",
       "</style>\n",
       "<table border=\"1\" class=\"dataframe\">\n",
       "  <thead>\n",
       "    <tr style=\"text-align: right;\">\n",
       "      <th></th>\n",
       "      <th>COUNTRY</th>\n",
       "      <th>GDP (BILLIONS)</th>\n",
       "      <th>CODE</th>\n",
       "    </tr>\n",
       "  </thead>\n",
       "  <tbody>\n",
       "    <tr>\n",
       "      <th>0</th>\n",
       "      <td>Afghanistan</td>\n",
       "      <td>21.71</td>\n",
       "      <td>AFG</td>\n",
       "    </tr>\n",
       "    <tr>\n",
       "      <th>1</th>\n",
       "      <td>Albania</td>\n",
       "      <td>13.40</td>\n",
       "      <td>ALB</td>\n",
       "    </tr>\n",
       "    <tr>\n",
       "      <th>2</th>\n",
       "      <td>Algeria</td>\n",
       "      <td>227.80</td>\n",
       "      <td>DZA</td>\n",
       "    </tr>\n",
       "    <tr>\n",
       "      <th>3</th>\n",
       "      <td>American Samoa</td>\n",
       "      <td>0.75</td>\n",
       "      <td>ASM</td>\n",
       "    </tr>\n",
       "    <tr>\n",
       "      <th>4</th>\n",
       "      <td>Andorra</td>\n",
       "      <td>4.80</td>\n",
       "      <td>AND</td>\n",
       "    </tr>\n",
       "  </tbody>\n",
       "</table>\n",
       "</div>"
      ],
      "text/plain": [
       "          COUNTRY  GDP (BILLIONS) CODE\n",
       "0     Afghanistan           21.71  AFG\n",
       "1         Albania           13.40  ALB\n",
       "2         Algeria          227.80  DZA\n",
       "3  American Samoa            0.75  ASM\n",
       "4         Andorra            4.80  AND"
      ]
     },
     "execution_count": 50,
     "metadata": {},
     "output_type": "execute_result"
    }
   ],
   "source": [
    "w_df.head()"
   ]
  },
  {
   "cell_type": "code",
   "execution_count": 65,
   "metadata": {},
   "outputs": [],
   "source": [
    "data =dict(\n",
    "type='choropleth',\n",
    "lacations = w_df['CODE'],\n",
    "z= w_df['GDP (BILLIONS)'],\n",
    "text = w_df['COUNTRY'],\n",
    "colorbar = {'title':'GDP Billions US'})"
   ]
  },
  {
   "cell_type": "code",
   "execution_count": 66,
   "metadata": {},
   "outputs": [],
   "source": [
    "layout = dict(\n",
    "title ='2014 Global GDP',\n",
    "geo =dict(\n",
    "showframe = False,\n",
    "projection = {'type':'Mercator'}))"
   ]
  },
  {
   "cell_type": "code",
   "execution_count": 67,
   "metadata": {},
   "outputs": [
    {
     "data": {
      "text/plain": [
       "'choropleth'"
      ]
     },
     "execution_count": 67,
     "metadata": {},
     "output_type": "execute_result"
    }
   ],
   "source": [
    "data['type']"
   ]
  },
  {
   "cell_type": "code",
   "execution_count": 68,
   "metadata": {},
   "outputs": [
    {
     "ename": "ValueError",
     "evalue": "Invalid property specified for object of type plotly.graph_objs.Choropleth: 'lacations'\n\n    Valid properties:\n        autocolorscale\n            Determines whether the colorscale is a default palette\n            (`autocolorscale: true`) or the palette determined by\n            `colorscale`. In case `colorscale` is unspecified or\n            `autocolorscale` is true, the default  palette will be\n            chosen according to whether numbers in the `color`\n            array are all positive, all negative or mixed.\n        coloraxis\n            Sets a reference to a shared color axis. References to\n            these shared color axes are \"coloraxis\", \"coloraxis2\",\n            \"coloraxis3\", etc. Settings for these shared color axes\n            are set in the layout, under `layout.coloraxis`,\n            `layout.coloraxis2`, etc. Note that multiple color\n            scales can be linked to the same color axis.\n        colorbar\n            :class:`plotly.graph_objects.choropleth.ColorBar`\n            instance or dict with compatible properties\n        colorscale\n            Sets the colorscale. The colorscale must be an array\n            containing arrays mapping a normalized value to an rgb,\n            rgba, hex, hsl, hsv, or named color string. At minimum,\n            a mapping for the lowest (0) and highest (1) values are\n            required. For example, `[[0, 'rgb(0,0,255)'], [1,\n            'rgb(255,0,0)']]`. To control the bounds of the\n            colorscale in color space, use`zmin` and `zmax`.\n            Alternatively, `colorscale` may be a palette name\n            string of the following list: Greys,YlGnBu,Greens,YlOrR\n            d,Bluered,RdBu,Reds,Blues,Picnic,Rainbow,Portland,Jet,H\n            ot,Blackbody,Earth,Electric,Viridis,Cividis.\n        customdata\n            Assigns extra data each datum. This may be useful when\n            listening to hover, click and selection events. Note\n            that, \"scatter\" traces also appends customdata items in\n            the markers DOM elements\n        customdatasrc\n            Sets the source reference on Chart Studio Cloud for\n            customdata .\n        featureidkey\n            Sets the key in GeoJSON features which is used as id to\n            match the items included in the `locations` array. Only\n            has an effect when `geojson` is set. Support nested\n            property, for example \"properties.name\".\n        geo\n            Sets a reference between this trace's geospatial\n            coordinates and a geographic map. If \"geo\" (the default\n            value), the geospatial coordinates refer to\n            `layout.geo`. If \"geo2\", the geospatial coordinates\n            refer to `layout.geo2`, and so on.\n        geojson\n            Sets optional GeoJSON data associated with this trace.\n            If not given, the features on the base map are used. It\n            can be set as a valid GeoJSON object or as a URL\n            string. Note that we only accept GeoJSONs of type\n            \"FeatureCollection\" or \"Feature\" with geometries of\n            type \"Polygon\" or \"MultiPolygon\".\n        hoverinfo\n            Determines which trace information appear on hover. If\n            `none` or `skip` are set, no information is displayed\n            upon hovering. But, if `none` is set, click and hover\n            events are still fired.\n        hoverinfosrc\n            Sets the source reference on Chart Studio Cloud for\n            hoverinfo .\n        hoverlabel\n            :class:`plotly.graph_objects.choropleth.Hoverlabel`\n            instance or dict with compatible properties\n        hovertemplate\n            Template string used for rendering the information that\n            appear on hover box. Note that this will override\n            `hoverinfo`. Variables are inserted using %{variable},\n            for example \"y: %{y}\". Numbers are formatted using\n            d3-format's syntax %{variable:d3-format}, for example\n            \"Price: %{y:$.2f}\". https://github.com/d3/d3-3.x-api-\n            reference/blob/master/Formatting.md#d3_format for\n            details on the formatting syntax. Dates are formatted\n            using d3-time-format's syntax %{variable|d3-time-\n            format}, for example \"Day: %{2019-01-01|%A}\".\n            https://github.com/d3/d3-time-format#locale_format for\n            details on the date formatting syntax. The variables\n            available in `hovertemplate` are the ones emitted as\n            event data described at this link\n            https://plotly.com/javascript/plotlyjs-events/#event-\n            data. Additionally, every attributes that can be\n            specified per-point (the ones that are `arrayOk: true`)\n            are available.  Anything contained in tag `<extra>` is\n            displayed in the secondary box, for example\n            \"<extra>{fullData.name}</extra>\". To hide the secondary\n            box completely, use an empty tag `<extra></extra>`.\n        hovertemplatesrc\n            Sets the source reference on Chart Studio Cloud for\n            hovertemplate .\n        hovertext\n            Same as `text`.\n        hovertextsrc\n            Sets the source reference on Chart Studio Cloud for\n            hovertext .\n        ids\n            Assigns id labels to each datum. These ids for object\n            constancy of data points during animation. Should be an\n            array of strings, not numbers or any other type.\n        idssrc\n            Sets the source reference on Chart Studio Cloud for\n            ids .\n        legendgroup\n            Sets the legend group for this trace. Traces part of\n            the same legend group hide/show at the same time when\n            toggling legend items.\n        locationmode\n            Determines the set of locations used to match entries\n            in `locations` to regions on the map. Values \"ISO-3\",\n            \"USA-states\", *country names* correspond to features on\n            the base map and value \"geojson-id\" corresponds to\n            features from a custom GeoJSON linked to the `geojson`\n            attribute.\n        locations\n            Sets the coordinates via location IDs or names. See\n            `locationmode` for more info.\n        locationssrc\n            Sets the source reference on Chart Studio Cloud for\n            locations .\n        marker\n            :class:`plotly.graph_objects.choropleth.Marker`\n            instance or dict with compatible properties\n        meta\n            Assigns extra meta information associated with this\n            trace that can be used in various text attributes.\n            Attributes such as trace `name`, graph, axis and\n            colorbar `title.text`, annotation `text`\n            `rangeselector`, `updatemenues` and `sliders` `label`\n            text all support `meta`. To access the trace `meta`\n            values in an attribute in the same trace, simply use\n            `%{meta[i]}` where `i` is the index or key of the\n            `meta` item in question. To access trace `meta` in\n            layout attributes, use `%{data[n[.meta[i]}` where `i`\n            is the index or key of the `meta` and `n` is the trace\n            index.\n        metasrc\n            Sets the source reference on Chart Studio Cloud for\n            meta .\n        name\n            Sets the trace name. The trace name appear as the\n            legend item and on hover.\n        reversescale\n            Reverses the color mapping if true. If true, `zmin`\n            will correspond to the last color in the array and\n            `zmax` will correspond to the first color.\n        selected\n            :class:`plotly.graph_objects.choropleth.Selected`\n            instance or dict with compatible properties\n        selectedpoints\n            Array containing integer indices of selected points.\n            Has an effect only for traces that support selections.\n            Note that an empty array means an empty selection where\n            the `unselected` are turned on for all points, whereas,\n            any other non-array values means no selection all where\n            the `selected` and `unselected` styles have no effect.\n        showlegend\n            Determines whether or not an item corresponding to this\n            trace is shown in the legend.\n        showscale\n            Determines whether or not a colorbar is displayed for\n            this trace.\n        stream\n            :class:`plotly.graph_objects.choropleth.Stream`\n            instance or dict with compatible properties\n        text\n            Sets the text elements associated with each location.\n        textsrc\n            Sets the source reference on Chart Studio Cloud for\n            text .\n        uid\n            Assign an id to this trace, Use this to provide object\n            constancy between traces during animations and\n            transitions.\n        uirevision\n            Controls persistence of some user-driven changes to the\n            trace: `constraintrange` in `parcoords` traces, as well\n            as some `editable: true` modifications such as `name`\n            and `colorbar.title`. Defaults to `layout.uirevision`.\n            Note that other user-driven trace attribute changes are\n            controlled by `layout` attributes: `trace.visible` is\n            controlled by `layout.legend.uirevision`,\n            `selectedpoints` is controlled by\n            `layout.selectionrevision`, and `colorbar.(x|y)`\n            (accessible with `config: {editable: true}`) is\n            controlled by `layout.editrevision`. Trace changes are\n            tracked by `uid`, which only falls back on trace index\n            if no `uid` is provided. So if your app can add/remove\n            traces before the end of the `data` array, such that\n            the same trace has a different index, you can still\n            preserve user-driven changes if you give each trace a\n            `uid` that stays with it as it moves.\n        unselected\n            :class:`plotly.graph_objects.choropleth.Unselected`\n            instance or dict with compatible properties\n        visible\n            Determines whether or not this trace is visible. If\n            \"legendonly\", the trace is not drawn, but can appear as\n            a legend item (provided that the legend itself is\n            visible).\n        z\n            Sets the color values.\n        zauto\n            Determines whether or not the color domain is computed\n            with respect to the input data (here in `z`) or the\n            bounds set in `zmin` and `zmax`  Defaults to `false`\n            when `zmin` and `zmax` are set by the user.\n        zmax\n            Sets the upper bound of the color domain. Value should\n            have the same units as in `z` and if set, `zmin` must\n            be set as well.\n        zmid\n            Sets the mid-point of the color domain by scaling\n            `zmin` and/or `zmax` to be equidistant to this point.\n            Value should have the same units as in `z`. Has no\n            effect when `zauto` is `false`.\n        zmin\n            Sets the lower bound of the color domain. Value should\n            have the same units as in `z` and if set, `zmax` must\n            be set as well.\n        zsrc\n            Sets the source reference on Chart Studio Cloud for  z\n            .\n        ",
     "output_type": "error",
     "traceback": [
      "\u001b[0;31m---------------------------------------------------------------------------\u001b[0m",
      "\u001b[0;31mValueError\u001b[0m                                Traceback (most recent call last)",
      "\u001b[0;32m<ipython-input-68-2890ff6b9738>\u001b[0m in \u001b[0;36m<module>\u001b[0;34m\u001b[0m\n\u001b[0;32m----> 1\u001b[0;31m \u001b[0mchoromap\u001b[0m \u001b[0;34m=\u001b[0m \u001b[0mgo\u001b[0m\u001b[0;34m.\u001b[0m\u001b[0mFigure\u001b[0m\u001b[0;34m(\u001b[0m\u001b[0mdata\u001b[0m\u001b[0;34m=\u001b[0m\u001b[0mdata\u001b[0m\u001b[0;34m,\u001b[0m \u001b[0mlayout\u001b[0m\u001b[0;34m=\u001b[0m\u001b[0mlayout\u001b[0m\u001b[0;34m)\u001b[0m\u001b[0;34m\u001b[0m\u001b[0;34m\u001b[0m\u001b[0m\n\u001b[0m\u001b[1;32m      2\u001b[0m \u001b[0miplot\u001b[0m\u001b[0;34m(\u001b[0m\u001b[0mchoromap\u001b[0m\u001b[0;34m)\u001b[0m\u001b[0;34m\u001b[0m\u001b[0;34m\u001b[0m\u001b[0m\n",
      "\u001b[0;32m~/opt/anaconda3/lib/python3.7/site-packages/plotly/graph_objs/_figure.py\u001b[0m in \u001b[0;36m__init__\u001b[0;34m(self, data, layout, frames, skip_invalid, **kwargs)\u001b[0m\n\u001b[1;32m    582\u001b[0m             \u001b[0;32mis\u001b[0m \u001b[0minvalid\u001b[0m \u001b[0mAND\u001b[0m \u001b[0mskip_invalid\u001b[0m \u001b[0;32mis\u001b[0m \u001b[0;32mFalse\u001b[0m\u001b[0;34m\u001b[0m\u001b[0;34m\u001b[0m\u001b[0m\n\u001b[1;32m    583\u001b[0m         \"\"\"\n\u001b[0;32m--> 584\u001b[0;31m         \u001b[0msuper\u001b[0m\u001b[0;34m(\u001b[0m\u001b[0mFigure\u001b[0m\u001b[0;34m,\u001b[0m \u001b[0mself\u001b[0m\u001b[0;34m)\u001b[0m\u001b[0;34m.\u001b[0m\u001b[0m__init__\u001b[0m\u001b[0;34m(\u001b[0m\u001b[0mdata\u001b[0m\u001b[0;34m,\u001b[0m \u001b[0mlayout\u001b[0m\u001b[0;34m,\u001b[0m \u001b[0mframes\u001b[0m\u001b[0;34m,\u001b[0m \u001b[0mskip_invalid\u001b[0m\u001b[0;34m,\u001b[0m \u001b[0;34m**\u001b[0m\u001b[0mkwargs\u001b[0m\u001b[0;34m)\u001b[0m\u001b[0;34m\u001b[0m\u001b[0;34m\u001b[0m\u001b[0m\n\u001b[0m\u001b[1;32m    585\u001b[0m \u001b[0;34m\u001b[0m\u001b[0m\n\u001b[1;32m    586\u001b[0m     def add_area(\n",
      "\u001b[0;32m~/opt/anaconda3/lib/python3.7/site-packages/plotly/basedatatypes.py\u001b[0m in \u001b[0;36m__init__\u001b[0;34m(self, data, layout_plotly, frames, skip_invalid, **kwargs)\u001b[0m\n\u001b[1;32m    145\u001b[0m         \u001b[0;31m# ### Import traces ###\u001b[0m\u001b[0;34m\u001b[0m\u001b[0;34m\u001b[0m\u001b[0;34m\u001b[0m\u001b[0m\n\u001b[1;32m    146\u001b[0m         data = self._data_validator.validate_coerce(\n\u001b[0;32m--> 147\u001b[0;31m             \u001b[0mdata\u001b[0m\u001b[0;34m,\u001b[0m \u001b[0mskip_invalid\u001b[0m\u001b[0;34m=\u001b[0m\u001b[0mskip_invalid\u001b[0m\u001b[0;34m,\u001b[0m \u001b[0m_validate\u001b[0m\u001b[0;34m=\u001b[0m\u001b[0mself\u001b[0m\u001b[0;34m.\u001b[0m\u001b[0m_validate\u001b[0m\u001b[0;34m\u001b[0m\u001b[0;34m\u001b[0m\u001b[0m\n\u001b[0m\u001b[1;32m    148\u001b[0m         )\n\u001b[1;32m    149\u001b[0m \u001b[0;34m\u001b[0m\u001b[0m\n",
      "\u001b[0;32m~/opt/anaconda3/lib/python3.7/site-packages/_plotly_utils/basevalidators.py\u001b[0m in \u001b[0;36mvalidate_coerce\u001b[0;34m(self, v, skip_invalid, _validate)\u001b[0m\n\u001b[1;32m   2658\u001b[0m                     \u001b[0;32melse\u001b[0m\u001b[0;34m:\u001b[0m\u001b[0;34m\u001b[0m\u001b[0;34m\u001b[0m\u001b[0m\n\u001b[1;32m   2659\u001b[0m                         trace = self.get_trace_class(trace_type)(\n\u001b[0;32m-> 2660\u001b[0;31m                             \u001b[0mskip_invalid\u001b[0m\u001b[0;34m=\u001b[0m\u001b[0mskip_invalid\u001b[0m\u001b[0;34m,\u001b[0m \u001b[0m_validate\u001b[0m\u001b[0;34m=\u001b[0m\u001b[0m_validate\u001b[0m\u001b[0;34m,\u001b[0m \u001b[0;34m**\u001b[0m\u001b[0mv_copy\u001b[0m\u001b[0;34m\u001b[0m\u001b[0;34m\u001b[0m\u001b[0m\n\u001b[0m\u001b[1;32m   2661\u001b[0m                         )\n\u001b[1;32m   2662\u001b[0m                         \u001b[0mres\u001b[0m\u001b[0;34m.\u001b[0m\u001b[0mappend\u001b[0m\u001b[0;34m(\u001b[0m\u001b[0mtrace\u001b[0m\u001b[0;34m)\u001b[0m\u001b[0;34m\u001b[0m\u001b[0;34m\u001b[0m\u001b[0m\n",
      "\u001b[0;32m~/opt/anaconda3/lib/python3.7/site-packages/plotly/graph_objs/_choropleth.py\u001b[0m in \u001b[0;36m__init__\u001b[0;34m(self, arg, autocolorscale, coloraxis, colorbar, colorscale, customdata, customdatasrc, featureidkey, geo, geojson, hoverinfo, hoverinfosrc, hoverlabel, hovertemplate, hovertemplatesrc, hovertext, hovertextsrc, ids, idssrc, legendgroup, locationmode, locations, locationssrc, marker, meta, metasrc, name, reversescale, selected, selectedpoints, showlegend, showscale, stream, text, textsrc, uid, uirevision, unselected, visible, z, zauto, zmax, zmid, zmin, zsrc, **kwargs)\u001b[0m\n\u001b[1;32m   2119\u001b[0m         \u001b[0;31m# Process unknown kwargs\u001b[0m\u001b[0;34m\u001b[0m\u001b[0;34m\u001b[0m\u001b[0;34m\u001b[0m\u001b[0m\n\u001b[1;32m   2120\u001b[0m         \u001b[0;31m# ----------------------\u001b[0m\u001b[0;34m\u001b[0m\u001b[0;34m\u001b[0m\u001b[0;34m\u001b[0m\u001b[0m\n\u001b[0;32m-> 2121\u001b[0;31m         \u001b[0mself\u001b[0m\u001b[0;34m.\u001b[0m\u001b[0m_process_kwargs\u001b[0m\u001b[0;34m(\u001b[0m\u001b[0;34m**\u001b[0m\u001b[0mdict\u001b[0m\u001b[0;34m(\u001b[0m\u001b[0marg\u001b[0m\u001b[0;34m,\u001b[0m \u001b[0;34m**\u001b[0m\u001b[0mkwargs\u001b[0m\u001b[0;34m)\u001b[0m\u001b[0;34m)\u001b[0m\u001b[0;34m\u001b[0m\u001b[0;34m\u001b[0m\u001b[0m\n\u001b[0m\u001b[1;32m   2122\u001b[0m \u001b[0;34m\u001b[0m\u001b[0m\n\u001b[1;32m   2123\u001b[0m         \u001b[0;31m# Reset skip_invalid\u001b[0m\u001b[0;34m\u001b[0m\u001b[0;34m\u001b[0m\u001b[0;34m\u001b[0m\u001b[0m\n",
      "\u001b[0;32m~/opt/anaconda3/lib/python3.7/site-packages/plotly/basedatatypes.py\u001b[0m in \u001b[0;36m_process_kwargs\u001b[0;34m(self, **kwargs)\u001b[0m\n\u001b[1;32m   3547\u001b[0m \u001b[0;34m\u001b[0m\u001b[0m\n\u001b[1;32m   3548\u001b[0m         \u001b[0;32mif\u001b[0m \u001b[0minvalid_kwargs\u001b[0m \u001b[0;32mand\u001b[0m \u001b[0;32mnot\u001b[0m \u001b[0mself\u001b[0m\u001b[0;34m.\u001b[0m\u001b[0m_skip_invalid\u001b[0m\u001b[0;34m:\u001b[0m\u001b[0;34m\u001b[0m\u001b[0;34m\u001b[0m\u001b[0m\n\u001b[0;32m-> 3549\u001b[0;31m             \u001b[0mself\u001b[0m\u001b[0;34m.\u001b[0m\u001b[0m_raise_on_invalid_property_error\u001b[0m\u001b[0;34m(\u001b[0m\u001b[0;34m*\u001b[0m\u001b[0minvalid_kwargs\u001b[0m\u001b[0;34m.\u001b[0m\u001b[0mkeys\u001b[0m\u001b[0;34m(\u001b[0m\u001b[0;34m)\u001b[0m\u001b[0;34m)\u001b[0m\u001b[0;34m\u001b[0m\u001b[0;34m\u001b[0m\u001b[0m\n\u001b[0m\u001b[1;32m   3550\u001b[0m \u001b[0;34m\u001b[0m\u001b[0m\n\u001b[1;32m   3551\u001b[0m     \u001b[0;34m@\u001b[0m\u001b[0mproperty\u001b[0m\u001b[0;34m\u001b[0m\u001b[0;34m\u001b[0m\u001b[0m\n",
      "\u001b[0;32m~/opt/anaconda3/lib/python3.7/site-packages/plotly/basedatatypes.py\u001b[0m in \u001b[0;36m_raise_on_invalid_property_error\u001b[0;34m(self, *args)\u001b[0m\n\u001b[1;32m   4223\u001b[0m                     \u001b[0mfull_obj_name\u001b[0m\u001b[0;34m=\u001b[0m\u001b[0mfull_obj_name\u001b[0m\u001b[0;34m,\u001b[0m\u001b[0;34m\u001b[0m\u001b[0;34m\u001b[0m\u001b[0m\n\u001b[1;32m   4224\u001b[0m                     \u001b[0minvalid_str\u001b[0m\u001b[0;34m=\u001b[0m\u001b[0minvalid_str\u001b[0m\u001b[0;34m,\u001b[0m\u001b[0;34m\u001b[0m\u001b[0;34m\u001b[0m\u001b[0m\n\u001b[0;32m-> 4225\u001b[0;31m                     \u001b[0mprop_descriptions\u001b[0m\u001b[0;34m=\u001b[0m\u001b[0mself\u001b[0m\u001b[0;34m.\u001b[0m\u001b[0m_prop_descriptions\u001b[0m\u001b[0;34m,\u001b[0m\u001b[0;34m\u001b[0m\u001b[0;34m\u001b[0m\u001b[0m\n\u001b[0m\u001b[1;32m   4226\u001b[0m                 )\n\u001b[1;32m   4227\u001b[0m             )\n",
      "\u001b[0;31mValueError\u001b[0m: Invalid property specified for object of type plotly.graph_objs.Choropleth: 'lacations'\n\n    Valid properties:\n        autocolorscale\n            Determines whether the colorscale is a default palette\n            (`autocolorscale: true`) or the palette determined by\n            `colorscale`. In case `colorscale` is unspecified or\n            `autocolorscale` is true, the default  palette will be\n            chosen according to whether numbers in the `color`\n            array are all positive, all negative or mixed.\n        coloraxis\n            Sets a reference to a shared color axis. References to\n            these shared color axes are \"coloraxis\", \"coloraxis2\",\n            \"coloraxis3\", etc. Settings for these shared color axes\n            are set in the layout, under `layout.coloraxis`,\n            `layout.coloraxis2`, etc. Note that multiple color\n            scales can be linked to the same color axis.\n        colorbar\n            :class:`plotly.graph_objects.choropleth.ColorBar`\n            instance or dict with compatible properties\n        colorscale\n            Sets the colorscale. The colorscale must be an array\n            containing arrays mapping a normalized value to an rgb,\n            rgba, hex, hsl, hsv, or named color string. At minimum,\n            a mapping for the lowest (0) and highest (1) values are\n            required. For example, `[[0, 'rgb(0,0,255)'], [1,\n            'rgb(255,0,0)']]`. To control the bounds of the\n            colorscale in color space, use`zmin` and `zmax`.\n            Alternatively, `colorscale` may be a palette name\n            string of the following list: Greys,YlGnBu,Greens,YlOrR\n            d,Bluered,RdBu,Reds,Blues,Picnic,Rainbow,Portland,Jet,H\n            ot,Blackbody,Earth,Electric,Viridis,Cividis.\n        customdata\n            Assigns extra data each datum. This may be useful when\n            listening to hover, click and selection events. Note\n            that, \"scatter\" traces also appends customdata items in\n            the markers DOM elements\n        customdatasrc\n            Sets the source reference on Chart Studio Cloud for\n            customdata .\n        featureidkey\n            Sets the key in GeoJSON features which is used as id to\n            match the items included in the `locations` array. Only\n            has an effect when `geojson` is set. Support nested\n            property, for example \"properties.name\".\n        geo\n            Sets a reference between this trace's geospatial\n            coordinates and a geographic map. If \"geo\" (the default\n            value), the geospatial coordinates refer to\n            `layout.geo`. If \"geo2\", the geospatial coordinates\n            refer to `layout.geo2`, and so on.\n        geojson\n            Sets optional GeoJSON data associated with this trace.\n            If not given, the features on the base map are used. It\n            can be set as a valid GeoJSON object or as a URL\n            string. Note that we only accept GeoJSONs of type\n            \"FeatureCollection\" or \"Feature\" with geometries of\n            type \"Polygon\" or \"MultiPolygon\".\n        hoverinfo\n            Determines which trace information appear on hover. If\n            `none` or `skip` are set, no information is displayed\n            upon hovering. But, if `none` is set, click and hover\n            events are still fired.\n        hoverinfosrc\n            Sets the source reference on Chart Studio Cloud for\n            hoverinfo .\n        hoverlabel\n            :class:`plotly.graph_objects.choropleth.Hoverlabel`\n            instance or dict with compatible properties\n        hovertemplate\n            Template string used for rendering the information that\n            appear on hover box. Note that this will override\n            `hoverinfo`. Variables are inserted using %{variable},\n            for example \"y: %{y}\". Numbers are formatted using\n            d3-format's syntax %{variable:d3-format}, for example\n            \"Price: %{y:$.2f}\". https://github.com/d3/d3-3.x-api-\n            reference/blob/master/Formatting.md#d3_format for\n            details on the formatting syntax. Dates are formatted\n            using d3-time-format's syntax %{variable|d3-time-\n            format}, for example \"Day: %{2019-01-01|%A}\".\n            https://github.com/d3/d3-time-format#locale_format for\n            details on the date formatting syntax. The variables\n            available in `hovertemplate` are the ones emitted as\n            event data described at this link\n            https://plotly.com/javascript/plotlyjs-events/#event-\n            data. Additionally, every attributes that can be\n            specified per-point (the ones that are `arrayOk: true`)\n            are available.  Anything contained in tag `<extra>` is\n            displayed in the secondary box, for example\n            \"<extra>{fullData.name}</extra>\". To hide the secondary\n            box completely, use an empty tag `<extra></extra>`.\n        hovertemplatesrc\n            Sets the source reference on Chart Studio Cloud for\n            hovertemplate .\n        hovertext\n            Same as `text`.\n        hovertextsrc\n            Sets the source reference on Chart Studio Cloud for\n            hovertext .\n        ids\n            Assigns id labels to each datum. These ids for object\n            constancy of data points during animation. Should be an\n            array of strings, not numbers or any other type.\n        idssrc\n            Sets the source reference on Chart Studio Cloud for\n            ids .\n        legendgroup\n            Sets the legend group for this trace. Traces part of\n            the same legend group hide/show at the same time when\n            toggling legend items.\n        locationmode\n            Determines the set of locations used to match entries\n            in `locations` to regions on the map. Values \"ISO-3\",\n            \"USA-states\", *country names* correspond to features on\n            the base map and value \"geojson-id\" corresponds to\n            features from a custom GeoJSON linked to the `geojson`\n            attribute.\n        locations\n            Sets the coordinates via location IDs or names. See\n            `locationmode` for more info.\n        locationssrc\n            Sets the source reference on Chart Studio Cloud for\n            locations .\n        marker\n            :class:`plotly.graph_objects.choropleth.Marker`\n            instance or dict with compatible properties\n        meta\n            Assigns extra meta information associated with this\n            trace that can be used in various text attributes.\n            Attributes such as trace `name`, graph, axis and\n            colorbar `title.text`, annotation `text`\n            `rangeselector`, `updatemenues` and `sliders` `label`\n            text all support `meta`. To access the trace `meta`\n            values in an attribute in the same trace, simply use\n            `%{meta[i]}` where `i` is the index or key of the\n            `meta` item in question. To access trace `meta` in\n            layout attributes, use `%{data[n[.meta[i]}` where `i`\n            is the index or key of the `meta` and `n` is the trace\n            index.\n        metasrc\n            Sets the source reference on Chart Studio Cloud for\n            meta .\n        name\n            Sets the trace name. The trace name appear as the\n            legend item and on hover.\n        reversescale\n            Reverses the color mapping if true. If true, `zmin`\n            will correspond to the last color in the array and\n            `zmax` will correspond to the first color.\n        selected\n            :class:`plotly.graph_objects.choropleth.Selected`\n            instance or dict with compatible properties\n        selectedpoints\n            Array containing integer indices of selected points.\n            Has an effect only for traces that support selections.\n            Note that an empty array means an empty selection where\n            the `unselected` are turned on for all points, whereas,\n            any other non-array values means no selection all where\n            the `selected` and `unselected` styles have no effect.\n        showlegend\n            Determines whether or not an item corresponding to this\n            trace is shown in the legend.\n        showscale\n            Determines whether or not a colorbar is displayed for\n            this trace.\n        stream\n            :class:`plotly.graph_objects.choropleth.Stream`\n            instance or dict with compatible properties\n        text\n            Sets the text elements associated with each location.\n        textsrc\n            Sets the source reference on Chart Studio Cloud for\n            text .\n        uid\n            Assign an id to this trace, Use this to provide object\n            constancy between traces during animations and\n            transitions.\n        uirevision\n            Controls persistence of some user-driven changes to the\n            trace: `constraintrange` in `parcoords` traces, as well\n            as some `editable: true` modifications such as `name`\n            and `colorbar.title`. Defaults to `layout.uirevision`.\n            Note that other user-driven trace attribute changes are\n            controlled by `layout` attributes: `trace.visible` is\n            controlled by `layout.legend.uirevision`,\n            `selectedpoints` is controlled by\n            `layout.selectionrevision`, and `colorbar.(x|y)`\n            (accessible with `config: {editable: true}`) is\n            controlled by `layout.editrevision`. Trace changes are\n            tracked by `uid`, which only falls back on trace index\n            if no `uid` is provided. So if your app can add/remove\n            traces before the end of the `data` array, such that\n            the same trace has a different index, you can still\n            preserve user-driven changes if you give each trace a\n            `uid` that stays with it as it moves.\n        unselected\n            :class:`plotly.graph_objects.choropleth.Unselected`\n            instance or dict with compatible properties\n        visible\n            Determines whether or not this trace is visible. If\n            \"legendonly\", the trace is not drawn, but can appear as\n            a legend item (provided that the legend itself is\n            visible).\n        z\n            Sets the color values.\n        zauto\n            Determines whether or not the color domain is computed\n            with respect to the input data (here in `z`) or the\n            bounds set in `zmin` and `zmax`  Defaults to `false`\n            when `zmin` and `zmax` are set by the user.\n        zmax\n            Sets the upper bound of the color domain. Value should\n            have the same units as in `z` and if set, `zmin` must\n            be set as well.\n        zmid\n            Sets the mid-point of the color domain by scaling\n            `zmin` and/or `zmax` to be equidistant to this point.\n            Value should have the same units as in `z`. Has no\n            effect when `zauto` is `false`.\n        zmin\n            Sets the lower bound of the color domain. Value should\n            have the same units as in `z` and if set, `zmax` must\n            be set as well.\n        zsrc\n            Sets the source reference on Chart Studio Cloud for  z\n            .\n        "
     ]
    }
   ],
   "source": [
    "choromap = go.Figure(data=data, layout=layout)\n",
    "iplot(choromap)"
   ]
  },
  {
   "cell_type": "code",
   "execution_count": null,
   "metadata": {},
   "outputs": [],
   "source": []
  }
 ],
 "metadata": {
  "kernelspec": {
   "display_name": "Python 3",
   "language": "python",
   "name": "python3"
  },
  "language_info": {
   "codemirror_mode": {
    "name": "ipython",
    "version": 3
   },
   "file_extension": ".py",
   "mimetype": "text/x-python",
   "name": "python",
   "nbconvert_exporter": "python",
   "pygments_lexer": "ipython3",
   "version": "3.7.4"
  }
 },
 "nbformat": 4,
 "nbformat_minor": 2
}
