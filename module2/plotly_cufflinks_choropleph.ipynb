{
 "cells": [
  {
   "cell_type": "markdown",
   "metadata": {},
   "source": [
    "# Choropleth Maps Exercise - Solutions\n",
    "\n",
    "Welcome to the Choropleth Maps Exercise! In this exercise we will give you some simple datasets and ask you to create Choropleth Maps from them. Due to the Nature of Plotly we can't show you examples embedded inside the notebook.\n",
    "\n",
    "[Full Documentation Reference](https://plot.ly/python/reference/#choropleth)\n",
    "\n",
    "## Plotly Imports"
   ]
  },
  {
   "cell_type": "code",
   "execution_count": 1,
   "metadata": {},
   "outputs": [],
   "source": [
    "from plotly import __version__"
   ]
  },
  {
   "cell_type": "code",
   "execution_count": 2,
   "metadata": {},
   "outputs": [
    {
     "name": "stdout",
     "output_type": "stream",
     "text": [
      "4.10.0\n"
     ]
    }
   ],
   "source": [
    "print(__version__)"
   ]
  },
  {
   "cell_type": "code",
   "execution_count": 3,
   "metadata": {
    "collapsed": true
   },
   "outputs": [
    {
     "name": "stdout",
     "output_type": "stream",
     "text": [
      "Requirement already satisfied: cufflinks in /Users/dmoussa/opt/anaconda3/lib/python3.7/site-packages (0.17.3)\n",
      "Requirement already satisfied: numpy>=1.9.2 in /Users/dmoussa/opt/anaconda3/lib/python3.7/site-packages (from cufflinks) (1.17.2)\n",
      "Requirement already satisfied: setuptools>=34.4.1 in /Users/dmoussa/opt/anaconda3/lib/python3.7/site-packages (from cufflinks) (41.4.0)\n",
      "Requirement already satisfied: pandas>=0.19.2 in /Users/dmoussa/opt/anaconda3/lib/python3.7/site-packages (from cufflinks) (1.1.2)\n",
      "Requirement already satisfied: ipywidgets>=7.0.0 in /Users/dmoussa/opt/anaconda3/lib/python3.7/site-packages (from cufflinks) (7.5.1)\n",
      "Requirement already satisfied: plotly>=4.1.1 in /Users/dmoussa/opt/anaconda3/lib/python3.7/site-packages (from cufflinks) (4.10.0)\n",
      "Requirement already satisfied: ipython>=5.3.0 in /Users/dmoussa/opt/anaconda3/lib/python3.7/site-packages (from cufflinks) (7.8.0)\n",
      "Requirement already satisfied: six>=1.9.0 in /Users/dmoussa/opt/anaconda3/lib/python3.7/site-packages (from cufflinks) (1.12.0)\n",
      "Requirement already satisfied: colorlover>=0.2.1 in /Users/dmoussa/opt/anaconda3/lib/python3.7/site-packages (from cufflinks) (0.3.0)\n",
      "Requirement already satisfied: python-dateutil>=2.7.3 in /Users/dmoussa/opt/anaconda3/lib/python3.7/site-packages (from pandas>=0.19.2->cufflinks) (2.8.0)\n",
      "Requirement already satisfied: pytz>=2017.2 in /Users/dmoussa/opt/anaconda3/lib/python3.7/site-packages (from pandas>=0.19.2->cufflinks) (2019.3)\n",
      "Requirement already satisfied: widgetsnbextension~=3.5.0 in /Users/dmoussa/opt/anaconda3/lib/python3.7/site-packages (from ipywidgets>=7.0.0->cufflinks) (3.5.1)\n",
      "Requirement already satisfied: ipykernel>=4.5.1 in /Users/dmoussa/opt/anaconda3/lib/python3.7/site-packages (from ipywidgets>=7.0.0->cufflinks) (5.1.2)\n",
      "Requirement already satisfied: traitlets>=4.3.1 in /Users/dmoussa/opt/anaconda3/lib/python3.7/site-packages (from ipywidgets>=7.0.0->cufflinks) (4.3.3)\n",
      "Requirement already satisfied: nbformat>=4.2.0 in /Users/dmoussa/opt/anaconda3/lib/python3.7/site-packages (from ipywidgets>=7.0.0->cufflinks) (4.4.0)\n",
      "Requirement already satisfied: retrying>=1.3.3 in /Users/dmoussa/opt/anaconda3/lib/python3.7/site-packages (from plotly>=4.1.1->cufflinks) (1.3.3)\n",
      "Requirement already satisfied: pexpect; sys_platform != \"win32\" in /Users/dmoussa/opt/anaconda3/lib/python3.7/site-packages (from ipython>=5.3.0->cufflinks) (4.7.0)\n",
      "Requirement already satisfied: jedi>=0.10 in /Users/dmoussa/opt/anaconda3/lib/python3.7/site-packages (from ipython>=5.3.0->cufflinks) (0.15.1)\n",
      "Requirement already satisfied: decorator in /Users/dmoussa/opt/anaconda3/lib/python3.7/site-packages (from ipython>=5.3.0->cufflinks) (4.4.0)\n",
      "Requirement already satisfied: backcall in /Users/dmoussa/opt/anaconda3/lib/python3.7/site-packages (from ipython>=5.3.0->cufflinks) (0.1.0)\n",
      "Requirement already satisfied: appnope; sys_platform == \"darwin\" in /Users/dmoussa/opt/anaconda3/lib/python3.7/site-packages (from ipython>=5.3.0->cufflinks) (0.1.0)\n",
      "Requirement already satisfied: pickleshare in /Users/dmoussa/opt/anaconda3/lib/python3.7/site-packages (from ipython>=5.3.0->cufflinks) (0.7.5)\n",
      "Requirement already satisfied: prompt-toolkit<2.1.0,>=2.0.0 in /Users/dmoussa/opt/anaconda3/lib/python3.7/site-packages (from ipython>=5.3.0->cufflinks) (2.0.10)\n",
      "Requirement already satisfied: pygments in /Users/dmoussa/opt/anaconda3/lib/python3.7/site-packages (from ipython>=5.3.0->cufflinks) (2.4.2)\n",
      "Requirement already satisfied: notebook>=4.4.1 in /Users/dmoussa/opt/anaconda3/lib/python3.7/site-packages (from widgetsnbextension~=3.5.0->ipywidgets>=7.0.0->cufflinks) (6.0.1)\n",
      "Requirement already satisfied: tornado>=4.2 in /Users/dmoussa/opt/anaconda3/lib/python3.7/site-packages (from ipykernel>=4.5.1->ipywidgets>=7.0.0->cufflinks) (6.0.3)\n",
      "Requirement already satisfied: jupyter-client in /Users/dmoussa/opt/anaconda3/lib/python3.7/site-packages (from ipykernel>=4.5.1->ipywidgets>=7.0.0->cufflinks) (5.3.3)\n",
      "Requirement already satisfied: ipython-genutils in /Users/dmoussa/opt/anaconda3/lib/python3.7/site-packages (from traitlets>=4.3.1->ipywidgets>=7.0.0->cufflinks) (0.2.0)\n",
      "Requirement already satisfied: jupyter-core in /Users/dmoussa/opt/anaconda3/lib/python3.7/site-packages (from nbformat>=4.2.0->ipywidgets>=7.0.0->cufflinks) (4.5.0)\n",
      "Requirement already satisfied: jsonschema!=2.5.0,>=2.4 in /Users/dmoussa/opt/anaconda3/lib/python3.7/site-packages (from nbformat>=4.2.0->ipywidgets>=7.0.0->cufflinks) (3.0.2)\n",
      "Requirement already satisfied: ptyprocess>=0.5 in /Users/dmoussa/opt/anaconda3/lib/python3.7/site-packages (from pexpect; sys_platform != \"win32\"->ipython>=5.3.0->cufflinks) (0.6.0)\n",
      "Requirement already satisfied: parso>=0.5.0 in /Users/dmoussa/opt/anaconda3/lib/python3.7/site-packages (from jedi>=0.10->ipython>=5.3.0->cufflinks) (0.5.1)\n",
      "Requirement already satisfied: wcwidth in /Users/dmoussa/opt/anaconda3/lib/python3.7/site-packages (from prompt-toolkit<2.1.0,>=2.0.0->ipython>=5.3.0->cufflinks) (0.1.7)\n",
      "Requirement already satisfied: jinja2 in /Users/dmoussa/opt/anaconda3/lib/python3.7/site-packages (from notebook>=4.4.1->widgetsnbextension~=3.5.0->ipywidgets>=7.0.0->cufflinks) (2.11.2)\n",
      "Requirement already satisfied: Send2Trash in /Users/dmoussa/opt/anaconda3/lib/python3.7/site-packages (from notebook>=4.4.1->widgetsnbextension~=3.5.0->ipywidgets>=7.0.0->cufflinks) (1.5.0)\n",
      "Requirement already satisfied: nbconvert in /Users/dmoussa/opt/anaconda3/lib/python3.7/site-packages (from notebook>=4.4.1->widgetsnbextension~=3.5.0->ipywidgets>=7.0.0->cufflinks) (5.6.0)\n",
      "Requirement already satisfied: pyzmq>=17 in /Users/dmoussa/opt/anaconda3/lib/python3.7/site-packages (from notebook>=4.4.1->widgetsnbextension~=3.5.0->ipywidgets>=7.0.0->cufflinks) (18.1.0)\n",
      "Requirement already satisfied: terminado>=0.8.1 in /Users/dmoussa/opt/anaconda3/lib/python3.7/site-packages (from notebook>=4.4.1->widgetsnbextension~=3.5.0->ipywidgets>=7.0.0->cufflinks) (0.8.2)\n",
      "Requirement already satisfied: prometheus-client in /Users/dmoussa/opt/anaconda3/lib/python3.7/site-packages (from notebook>=4.4.1->widgetsnbextension~=3.5.0->ipywidgets>=7.0.0->cufflinks) (0.7.1)\n",
      "Requirement already satisfied: pyrsistent>=0.14.0 in /Users/dmoussa/opt/anaconda3/lib/python3.7/site-packages (from jsonschema!=2.5.0,>=2.4->nbformat>=4.2.0->ipywidgets>=7.0.0->cufflinks) (0.15.4)\n",
      "Requirement already satisfied: attrs>=17.4.0 in /Users/dmoussa/opt/anaconda3/lib/python3.7/site-packages (from jsonschema!=2.5.0,>=2.4->nbformat>=4.2.0->ipywidgets>=7.0.0->cufflinks) (20.2.0)\n",
      "Requirement already satisfied: MarkupSafe>=0.23 in /Users/dmoussa/opt/anaconda3/lib/python3.7/site-packages (from jinja2->notebook>=4.4.1->widgetsnbextension~=3.5.0->ipywidgets>=7.0.0->cufflinks) (1.1.1)\n",
      "Requirement already satisfied: mistune<2,>=0.8.1 in /Users/dmoussa/opt/anaconda3/lib/python3.7/site-packages (from nbconvert->notebook>=4.4.1->widgetsnbextension~=3.5.0->ipywidgets>=7.0.0->cufflinks) (0.8.4)\n",
      "Requirement already satisfied: pandocfilters>=1.4.1 in /Users/dmoussa/opt/anaconda3/lib/python3.7/site-packages (from nbconvert->notebook>=4.4.1->widgetsnbextension~=3.5.0->ipywidgets>=7.0.0->cufflinks) (1.4.2)\n",
      "Requirement already satisfied: defusedxml in /Users/dmoussa/opt/anaconda3/lib/python3.7/site-packages (from nbconvert->notebook>=4.4.1->widgetsnbextension~=3.5.0->ipywidgets>=7.0.0->cufflinks) (0.6.0)\n",
      "Requirement already satisfied: bleach in /Users/dmoussa/opt/anaconda3/lib/python3.7/site-packages (from nbconvert->notebook>=4.4.1->widgetsnbextension~=3.5.0->ipywidgets>=7.0.0->cufflinks) (3.1.0)\n",
      "Requirement already satisfied: testpath in /Users/dmoussa/opt/anaconda3/lib/python3.7/site-packages (from nbconvert->notebook>=4.4.1->widgetsnbextension~=3.5.0->ipywidgets>=7.0.0->cufflinks) (0.4.2)\n",
      "Requirement already satisfied: entrypoints>=0.2.2 in /Users/dmoussa/opt/anaconda3/lib/python3.7/site-packages (from nbconvert->notebook>=4.4.1->widgetsnbextension~=3.5.0->ipywidgets>=7.0.0->cufflinks) (0.3)\n",
      "Requirement already satisfied: webencodings in /Users/dmoussa/opt/anaconda3/lib/python3.7/site-packages (from bleach->nbconvert->notebook>=4.4.1->widgetsnbextension~=3.5.0->ipywidgets>=7.0.0->cufflinks) (0.5.1)\n"
     ]
    }
   ],
   "source": [
    "#!pip install plotly\n",
    "#!pip install cufflinks"
   ]
  },
  {
   "cell_type": "code",
   "execution_count": 4,
   "metadata": {},
   "outputs": [],
   "source": [
    "import numpy as np\n",
    "import pandas as pd\n",
    "import matplotlib.pyplot as plt\n",
    "%matplotlib inline"
   ]
  },
  {
   "cell_type": "code",
   "execution_count": 5,
   "metadata": {},
   "outputs": [],
   "source": [
    "import cufflinks as cf\n",
    "from plotly.offline import init_notebook_mode, iplot, plot"
   ]
  },
  {
   "cell_type": "code",
   "execution_count": 6,
   "metadata": {},
   "outputs": [
    {
     "data": {
      "text/html": [
       "        <script type=\"text/javascript\">\n",
       "        window.PlotlyConfig = {MathJaxConfig: 'local'};\n",
       "        if (window.MathJax) {MathJax.Hub.Config({SVG: {font: \"STIX-Web\"}});}\n",
       "        if (typeof require !== 'undefined') {\n",
       "        require.undef(\"plotly\");\n",
       "        requirejs.config({\n",
       "            paths: {\n",
       "                'plotly': ['https://cdn.plot.ly/plotly-latest.min']\n",
       "            }\n",
       "        });\n",
       "        require(['plotly'], function(Plotly) {\n",
       "            window._Plotly = Plotly;\n",
       "        });\n",
       "        }\n",
       "        </script>\n",
       "        "
      ]
     },
     "metadata": {},
     "output_type": "display_data"
    }
   ],
   "source": [
    "#Notebook\n",
    "cf.go_offline()"
   ]
  },
  {
   "cell_type": "code",
   "execution_count": 7,
   "metadata": {},
   "outputs": [],
   "source": [
    "#Fake Data\n",
    "fake_df = pd.DataFrame(np.random.randn(100,4), columns ='A B C D'.split())"
   ]
  },
  {
   "cell_type": "code",
   "execution_count": 8,
   "metadata": {},
   "outputs": [
    {
     "data": {
      "text/html": [
       "<div>\n",
       "<style scoped>\n",
       "    .dataframe tbody tr th:only-of-type {\n",
       "        vertical-align: middle;\n",
       "    }\n",
       "\n",
       "    .dataframe tbody tr th {\n",
       "        vertical-align: top;\n",
       "    }\n",
       "\n",
       "    .dataframe thead th {\n",
       "        text-align: right;\n",
       "    }\n",
       "</style>\n",
       "<table border=\"1\" class=\"dataframe\">\n",
       "  <thead>\n",
       "    <tr style=\"text-align: right;\">\n",
       "      <th></th>\n",
       "      <th>A</th>\n",
       "      <th>B</th>\n",
       "      <th>C</th>\n",
       "      <th>D</th>\n",
       "    </tr>\n",
       "  </thead>\n",
       "  <tbody>\n",
       "    <tr>\n",
       "      <th>0</th>\n",
       "      <td>-0.302020</td>\n",
       "      <td>-0.848867</td>\n",
       "      <td>-0.532500</td>\n",
       "      <td>-0.006680</td>\n",
       "    </tr>\n",
       "    <tr>\n",
       "      <th>1</th>\n",
       "      <td>-0.285646</td>\n",
       "      <td>0.082935</td>\n",
       "      <td>1.210783</td>\n",
       "      <td>0.073312</td>\n",
       "    </tr>\n",
       "    <tr>\n",
       "      <th>2</th>\n",
       "      <td>0.447670</td>\n",
       "      <td>0.502435</td>\n",
       "      <td>-0.125819</td>\n",
       "      <td>1.108388</td>\n",
       "    </tr>\n",
       "    <tr>\n",
       "      <th>3</th>\n",
       "      <td>-0.716232</td>\n",
       "      <td>-1.555223</td>\n",
       "      <td>-1.065685</td>\n",
       "      <td>-1.656563</td>\n",
       "    </tr>\n",
       "    <tr>\n",
       "      <th>4</th>\n",
       "      <td>-1.175208</td>\n",
       "      <td>-1.716110</td>\n",
       "      <td>1.621997</td>\n",
       "      <td>1.995086</td>\n",
       "    </tr>\n",
       "  </tbody>\n",
       "</table>\n",
       "</div>"
      ],
      "text/plain": [
       "          A         B         C         D\n",
       "0 -0.302020 -0.848867 -0.532500 -0.006680\n",
       "1 -0.285646  0.082935  1.210783  0.073312\n",
       "2  0.447670  0.502435 -0.125819  1.108388\n",
       "3 -0.716232 -1.555223 -1.065685 -1.656563\n",
       "4 -1.175208 -1.716110  1.621997  1.995086"
      ]
     },
     "execution_count": 8,
     "metadata": {},
     "output_type": "execute_result"
    }
   ],
   "source": [
    "fake_df.head()"
   ]
  },
  {
   "cell_type": "code",
   "execution_count": 9,
   "metadata": {},
   "outputs": [],
   "source": [
    "df2 = pd.DataFrame({'Category':['A', 'B','C'], 'Values':[32,43,50]})"
   ]
  },
  {
   "cell_type": "markdown",
   "metadata": {},
   "source": [
    "* scatter\n",
    "* bar\n",
    "* box\n",
    "* spread\n",
    "* ratio\n",
    "* heatmap\n",
    "* surface\n",
    "* histogram"
   ]
  },
  {
   "cell_type": "markdown",
   "metadata": {},
   "source": [
    "# Scatter"
   ]
  },
  {
   "cell_type": "code",
   "execution_count": 10,
   "metadata": {},
   "outputs": [
    {
     "data": {
      "application/vnd.plotly.v1+json": {
       "config": {
        "linkText": "Export to plot.ly",
        "plotlyServerURL": "https://plot.ly",
        "showLink": true
       },
       "data": [
        {
         "line": {
          "color": "rgba(255, 153, 51, 1.0)",
          "dash": "solid",
          "shape": "linear",
          "width": 1.3
         },
         "marker": {
          "size": 12,
          "symbol": "circle"
         },
         "mode": "markers",
         "name": "B",
         "text": "",
         "type": "scatter",
         "x": [
          -0.30202016863775033,
          -0.28564555846571377,
          0.4476704948481836,
          -0.7162322499431878,
          -1.1752084454356209,
          0.037922946952660096,
          -0.4784580310902896,
          -0.8127219470868241,
          -0.2015463810609984,
          -1.2477309120841387,
          0.33416595599237875,
          -0.3925825214642993,
          0.8483162327766754,
          1.4017593159498198,
          -0.24447542578970963,
          0.3268425653949366,
          0.7896328968946461,
          0.05003230055379049,
          0.8713596231470593,
          -0.36768247294659173,
          1.456695935256,
          0.09086717022177927,
          0.8308289690395506,
          0.4570302705052343,
          1.641725152630206,
          -0.34337193630447227,
          -0.6899548045806325,
          -1.4989669498743878,
          -0.4990655862049401,
          -1.2763195565688894,
          -0.5841927721605572,
          -0.6531615312082533,
          -1.544688058823571,
          1.241823683012709,
          0.36670402575200034,
          0.36785862000313696,
          -0.4251916229702931,
          -1.1424611416885133,
          0.11744918233688426,
          -0.2943921274727523,
          -0.2630411797495611,
          1.1189450591825083,
          0.6771083217387999,
          -2.1007251081507516,
          -1.469901874723165,
          0.5804195589513341,
          -0.26050512490234284,
          2.2362929227372725,
          0.5190194687909312,
          -0.008163118768048035,
          -0.6611054621616541,
          1.36957273498277,
          0.57208163756899,
          0.12460374641094915,
          0.8356395402758129,
          -0.8335550054425519,
          -0.8946566144284955,
          -0.10099356338826994,
          0.04425297346768268,
          2.217770067273319,
          0.03522119302500431,
          -1.9869202369288799,
          -1.2508613408788938,
          0.09279898228614562,
          0.38692351076168063,
          -0.026236237411354904,
          -1.491069699311706,
          0.8294659536906288,
          0.6136776593807836,
          -0.8154202979633771,
          0.6293335815887414,
          -1.0923772889015413,
          0.7386223240270853,
          -0.68737966371764,
          -0.6422680828562675,
          0.7998127045023482,
          0.9217752449620659,
          0.04459918763480434,
          -0.445947653484942,
          -0.3773323373724564,
          0.4050137890893175,
          0.19591076972454038,
          -0.3532570369973499,
          -0.19817408743935175,
          -0.311181936508081,
          -0.5692973337611296,
          1.2737066010007103,
          0.33310651006183967,
          2.343367044548086,
          -0.4488947193251729,
          0.16005691450387768,
          -0.5608031062151607,
          -0.2592370006186431,
          -0.7117502976304382,
          -0.5122229220026929,
          0.9231576330805437,
          1.108977825338648,
          0.05946369407947916,
          -0.5664014911796487,
          0.5891591881972967
         ],
         "y": [
          -0.8488668044204304,
          0.0829347754880924,
          0.5024352835101774,
          -1.555223408984092,
          -1.7161100299123155,
          0.13905529392350072,
          0.4697605231701461,
          -0.2067026939520887,
          -1.1575550785607536,
          1.0197452265500921,
          1.1202487101150227,
          1.5954620391368428,
          -0.4375092399621281,
          -0.47581549224960684,
          1.1853669230476602,
          -0.7970090865687269,
          -0.217834734307552,
          -0.9266855311136963,
          0.6925149520732994,
          -0.14063441315709707,
          1.3397844385147475,
          -0.1413885447509737,
          -0.3341614782625514,
          -1.0331617312485522,
          0.24434025389131428,
          1.5085738205782122,
          0.10463564901176917,
          -1.0951203549391761,
          -0.27409678695725026,
          0.420532769222361,
          0.44161004868931125,
          1.243251467420042,
          2.014541632056787,
          0.0005947858539945759,
          1.2239989488374874,
          -0.3249945539545311,
          0.11473621845710603,
          1.1583020744108352,
          0.33306800250962726,
          0.6084733116468805,
          0.2736092321470979,
          -1.5679830656702087,
          -0.06928753093902698,
          0.526425209767373,
          -0.01545031249896855,
          -0.2570800949369005,
          -0.4691911947167141,
          0.3670764942533598,
          0.9329487179609518,
          0.2795889554620296,
          -0.7792859324560443,
          1.320870561157038,
          -0.9628173239459669,
          1.0288747348344904,
          -0.31456248623952465,
          1.179250469511076,
          0.03272168521154292,
          -0.07204583648761341,
          1.1921789942533836,
          1.25019068010553,
          -0.03188346728559232,
          -0.1530268360484573,
          0.9831775188487099,
          -0.5267924542187926,
          -0.4053089572688673,
          -0.051938708052279375,
          0.45703909564713263,
          0.2642433727428654,
          0.5251885395153827,
          -0.0744890981195537,
          0.20179472075573884,
          -0.24260442894883943,
          -0.7655468244843483,
          -0.25466269286703574,
          1.3274099884767236,
          -1.8920515553120267,
          0.10540569529487552,
          1.0160601421792685,
          1.0480390651944593,
          -1.2983474014888645,
          -0.5118493322462478,
          -0.6211629820763115,
          -0.7131189561305936,
          -1.5519881153245678,
          0.3588037520991031,
          -0.7401347991919084,
          0.5898932362401884,
          0.6230541842326577,
          0.1469808884715823,
          -1.4909432837564347,
          0.16216809925339512,
          -0.24679042370819276,
          -0.30396064222875,
          1.064430955755844,
          0.3820227711156056,
          -1.9545417907404197,
          -0.8840834393902629,
          -0.8514764988023206,
          0.4516710603713084,
          -0.9713569710562179
         ]
        }
       ],
       "layout": {
        "legend": {
         "bgcolor": "#F5F6F9",
         "font": {
          "color": "#4D5663"
         }
        },
        "paper_bgcolor": "#F5F6F9",
        "plot_bgcolor": "#F5F6F9",
        "template": {
         "data": {
          "bar": [
           {
            "error_x": {
             "color": "#2a3f5f"
            },
            "error_y": {
             "color": "#2a3f5f"
            },
            "marker": {
             "line": {
              "color": "#E5ECF6",
              "width": 0.5
             }
            },
            "type": "bar"
           }
          ],
          "barpolar": [
           {
            "marker": {
             "line": {
              "color": "#E5ECF6",
              "width": 0.5
             }
            },
            "type": "barpolar"
           }
          ],
          "carpet": [
           {
            "aaxis": {
             "endlinecolor": "#2a3f5f",
             "gridcolor": "white",
             "linecolor": "white",
             "minorgridcolor": "white",
             "startlinecolor": "#2a3f5f"
            },
            "baxis": {
             "endlinecolor": "#2a3f5f",
             "gridcolor": "white",
             "linecolor": "white",
             "minorgridcolor": "white",
             "startlinecolor": "#2a3f5f"
            },
            "type": "carpet"
           }
          ],
          "choropleth": [
           {
            "colorbar": {
             "outlinewidth": 0,
             "ticks": ""
            },
            "type": "choropleth"
           }
          ],
          "contour": [
           {
            "colorbar": {
             "outlinewidth": 0,
             "ticks": ""
            },
            "colorscale": [
             [
              0,
              "#0d0887"
             ],
             [
              0.1111111111111111,
              "#46039f"
             ],
             [
              0.2222222222222222,
              "#7201a8"
             ],
             [
              0.3333333333333333,
              "#9c179e"
             ],
             [
              0.4444444444444444,
              "#bd3786"
             ],
             [
              0.5555555555555556,
              "#d8576b"
             ],
             [
              0.6666666666666666,
              "#ed7953"
             ],
             [
              0.7777777777777778,
              "#fb9f3a"
             ],
             [
              0.8888888888888888,
              "#fdca26"
             ],
             [
              1,
              "#f0f921"
             ]
            ],
            "type": "contour"
           }
          ],
          "contourcarpet": [
           {
            "colorbar": {
             "outlinewidth": 0,
             "ticks": ""
            },
            "type": "contourcarpet"
           }
          ],
          "heatmap": [
           {
            "colorbar": {
             "outlinewidth": 0,
             "ticks": ""
            },
            "colorscale": [
             [
              0,
              "#0d0887"
             ],
             [
              0.1111111111111111,
              "#46039f"
             ],
             [
              0.2222222222222222,
              "#7201a8"
             ],
             [
              0.3333333333333333,
              "#9c179e"
             ],
             [
              0.4444444444444444,
              "#bd3786"
             ],
             [
              0.5555555555555556,
              "#d8576b"
             ],
             [
              0.6666666666666666,
              "#ed7953"
             ],
             [
              0.7777777777777778,
              "#fb9f3a"
             ],
             [
              0.8888888888888888,
              "#fdca26"
             ],
             [
              1,
              "#f0f921"
             ]
            ],
            "type": "heatmap"
           }
          ],
          "heatmapgl": [
           {
            "colorbar": {
             "outlinewidth": 0,
             "ticks": ""
            },
            "colorscale": [
             [
              0,
              "#0d0887"
             ],
             [
              0.1111111111111111,
              "#46039f"
             ],
             [
              0.2222222222222222,
              "#7201a8"
             ],
             [
              0.3333333333333333,
              "#9c179e"
             ],
             [
              0.4444444444444444,
              "#bd3786"
             ],
             [
              0.5555555555555556,
              "#d8576b"
             ],
             [
              0.6666666666666666,
              "#ed7953"
             ],
             [
              0.7777777777777778,
              "#fb9f3a"
             ],
             [
              0.8888888888888888,
              "#fdca26"
             ],
             [
              1,
              "#f0f921"
             ]
            ],
            "type": "heatmapgl"
           }
          ],
          "histogram": [
           {
            "marker": {
             "colorbar": {
              "outlinewidth": 0,
              "ticks": ""
             }
            },
            "type": "histogram"
           }
          ],
          "histogram2d": [
           {
            "colorbar": {
             "outlinewidth": 0,
             "ticks": ""
            },
            "colorscale": [
             [
              0,
              "#0d0887"
             ],
             [
              0.1111111111111111,
              "#46039f"
             ],
             [
              0.2222222222222222,
              "#7201a8"
             ],
             [
              0.3333333333333333,
              "#9c179e"
             ],
             [
              0.4444444444444444,
              "#bd3786"
             ],
             [
              0.5555555555555556,
              "#d8576b"
             ],
             [
              0.6666666666666666,
              "#ed7953"
             ],
             [
              0.7777777777777778,
              "#fb9f3a"
             ],
             [
              0.8888888888888888,
              "#fdca26"
             ],
             [
              1,
              "#f0f921"
             ]
            ],
            "type": "histogram2d"
           }
          ],
          "histogram2dcontour": [
           {
            "colorbar": {
             "outlinewidth": 0,
             "ticks": ""
            },
            "colorscale": [
             [
              0,
              "#0d0887"
             ],
             [
              0.1111111111111111,
              "#46039f"
             ],
             [
              0.2222222222222222,
              "#7201a8"
             ],
             [
              0.3333333333333333,
              "#9c179e"
             ],
             [
              0.4444444444444444,
              "#bd3786"
             ],
             [
              0.5555555555555556,
              "#d8576b"
             ],
             [
              0.6666666666666666,
              "#ed7953"
             ],
             [
              0.7777777777777778,
              "#fb9f3a"
             ],
             [
              0.8888888888888888,
              "#fdca26"
             ],
             [
              1,
              "#f0f921"
             ]
            ],
            "type": "histogram2dcontour"
           }
          ],
          "mesh3d": [
           {
            "colorbar": {
             "outlinewidth": 0,
             "ticks": ""
            },
            "type": "mesh3d"
           }
          ],
          "parcoords": [
           {
            "line": {
             "colorbar": {
              "outlinewidth": 0,
              "ticks": ""
             }
            },
            "type": "parcoords"
           }
          ],
          "pie": [
           {
            "automargin": true,
            "type": "pie"
           }
          ],
          "scatter": [
           {
            "marker": {
             "colorbar": {
              "outlinewidth": 0,
              "ticks": ""
             }
            },
            "type": "scatter"
           }
          ],
          "scatter3d": [
           {
            "line": {
             "colorbar": {
              "outlinewidth": 0,
              "ticks": ""
             }
            },
            "marker": {
             "colorbar": {
              "outlinewidth": 0,
              "ticks": ""
             }
            },
            "type": "scatter3d"
           }
          ],
          "scattercarpet": [
           {
            "marker": {
             "colorbar": {
              "outlinewidth": 0,
              "ticks": ""
             }
            },
            "type": "scattercarpet"
           }
          ],
          "scattergeo": [
           {
            "marker": {
             "colorbar": {
              "outlinewidth": 0,
              "ticks": ""
             }
            },
            "type": "scattergeo"
           }
          ],
          "scattergl": [
           {
            "marker": {
             "colorbar": {
              "outlinewidth": 0,
              "ticks": ""
             }
            },
            "type": "scattergl"
           }
          ],
          "scattermapbox": [
           {
            "marker": {
             "colorbar": {
              "outlinewidth": 0,
              "ticks": ""
             }
            },
            "type": "scattermapbox"
           }
          ],
          "scatterpolar": [
           {
            "marker": {
             "colorbar": {
              "outlinewidth": 0,
              "ticks": ""
             }
            },
            "type": "scatterpolar"
           }
          ],
          "scatterpolargl": [
           {
            "marker": {
             "colorbar": {
              "outlinewidth": 0,
              "ticks": ""
             }
            },
            "type": "scatterpolargl"
           }
          ],
          "scatterternary": [
           {
            "marker": {
             "colorbar": {
              "outlinewidth": 0,
              "ticks": ""
             }
            },
            "type": "scatterternary"
           }
          ],
          "surface": [
           {
            "colorbar": {
             "outlinewidth": 0,
             "ticks": ""
            },
            "colorscale": [
             [
              0,
              "#0d0887"
             ],
             [
              0.1111111111111111,
              "#46039f"
             ],
             [
              0.2222222222222222,
              "#7201a8"
             ],
             [
              0.3333333333333333,
              "#9c179e"
             ],
             [
              0.4444444444444444,
              "#bd3786"
             ],
             [
              0.5555555555555556,
              "#d8576b"
             ],
             [
              0.6666666666666666,
              "#ed7953"
             ],
             [
              0.7777777777777778,
              "#fb9f3a"
             ],
             [
              0.8888888888888888,
              "#fdca26"
             ],
             [
              1,
              "#f0f921"
             ]
            ],
            "type": "surface"
           }
          ],
          "table": [
           {
            "cells": {
             "fill": {
              "color": "#EBF0F8"
             },
             "line": {
              "color": "white"
             }
            },
            "header": {
             "fill": {
              "color": "#C8D4E3"
             },
             "line": {
              "color": "white"
             }
            },
            "type": "table"
           }
          ]
         },
         "layout": {
          "annotationdefaults": {
           "arrowcolor": "#2a3f5f",
           "arrowhead": 0,
           "arrowwidth": 1
          },
          "coloraxis": {
           "colorbar": {
            "outlinewidth": 0,
            "ticks": ""
           }
          },
          "colorscale": {
           "diverging": [
            [
             0,
             "#8e0152"
            ],
            [
             0.1,
             "#c51b7d"
            ],
            [
             0.2,
             "#de77ae"
            ],
            [
             0.3,
             "#f1b6da"
            ],
            [
             0.4,
             "#fde0ef"
            ],
            [
             0.5,
             "#f7f7f7"
            ],
            [
             0.6,
             "#e6f5d0"
            ],
            [
             0.7,
             "#b8e186"
            ],
            [
             0.8,
             "#7fbc41"
            ],
            [
             0.9,
             "#4d9221"
            ],
            [
             1,
             "#276419"
            ]
           ],
           "sequential": [
            [
             0,
             "#0d0887"
            ],
            [
             0.1111111111111111,
             "#46039f"
            ],
            [
             0.2222222222222222,
             "#7201a8"
            ],
            [
             0.3333333333333333,
             "#9c179e"
            ],
            [
             0.4444444444444444,
             "#bd3786"
            ],
            [
             0.5555555555555556,
             "#d8576b"
            ],
            [
             0.6666666666666666,
             "#ed7953"
            ],
            [
             0.7777777777777778,
             "#fb9f3a"
            ],
            [
             0.8888888888888888,
             "#fdca26"
            ],
            [
             1,
             "#f0f921"
            ]
           ],
           "sequentialminus": [
            [
             0,
             "#0d0887"
            ],
            [
             0.1111111111111111,
             "#46039f"
            ],
            [
             0.2222222222222222,
             "#7201a8"
            ],
            [
             0.3333333333333333,
             "#9c179e"
            ],
            [
             0.4444444444444444,
             "#bd3786"
            ],
            [
             0.5555555555555556,
             "#d8576b"
            ],
            [
             0.6666666666666666,
             "#ed7953"
            ],
            [
             0.7777777777777778,
             "#fb9f3a"
            ],
            [
             0.8888888888888888,
             "#fdca26"
            ],
            [
             1,
             "#f0f921"
            ]
           ]
          },
          "colorway": [
           "#636efa",
           "#EF553B",
           "#00cc96",
           "#ab63fa",
           "#FFA15A",
           "#19d3f3",
           "#FF6692",
           "#B6E880",
           "#FF97FF",
           "#FECB52"
          ],
          "font": {
           "color": "#2a3f5f"
          },
          "geo": {
           "bgcolor": "white",
           "lakecolor": "white",
           "landcolor": "#E5ECF6",
           "showlakes": true,
           "showland": true,
           "subunitcolor": "white"
          },
          "hoverlabel": {
           "align": "left"
          },
          "hovermode": "closest",
          "mapbox": {
           "style": "light"
          },
          "paper_bgcolor": "white",
          "plot_bgcolor": "#E5ECF6",
          "polar": {
           "angularaxis": {
            "gridcolor": "white",
            "linecolor": "white",
            "ticks": ""
           },
           "bgcolor": "#E5ECF6",
           "radialaxis": {
            "gridcolor": "white",
            "linecolor": "white",
            "ticks": ""
           }
          },
          "scene": {
           "xaxis": {
            "backgroundcolor": "#E5ECF6",
            "gridcolor": "white",
            "gridwidth": 2,
            "linecolor": "white",
            "showbackground": true,
            "ticks": "",
            "zerolinecolor": "white"
           },
           "yaxis": {
            "backgroundcolor": "#E5ECF6",
            "gridcolor": "white",
            "gridwidth": 2,
            "linecolor": "white",
            "showbackground": true,
            "ticks": "",
            "zerolinecolor": "white"
           },
           "zaxis": {
            "backgroundcolor": "#E5ECF6",
            "gridcolor": "white",
            "gridwidth": 2,
            "linecolor": "white",
            "showbackground": true,
            "ticks": "",
            "zerolinecolor": "white"
           }
          },
          "shapedefaults": {
           "line": {
            "color": "#2a3f5f"
           }
          },
          "ternary": {
           "aaxis": {
            "gridcolor": "white",
            "linecolor": "white",
            "ticks": ""
           },
           "baxis": {
            "gridcolor": "white",
            "linecolor": "white",
            "ticks": ""
           },
           "bgcolor": "#E5ECF6",
           "caxis": {
            "gridcolor": "white",
            "linecolor": "white",
            "ticks": ""
           }
          },
          "title": {
           "x": 0.05
          },
          "xaxis": {
           "automargin": true,
           "gridcolor": "white",
           "linecolor": "white",
           "ticks": "",
           "title": {
            "standoff": 15
           },
           "zerolinecolor": "white",
           "zerolinewidth": 2
          },
          "yaxis": {
           "automargin": true,
           "gridcolor": "white",
           "linecolor": "white",
           "ticks": "",
           "title": {
            "standoff": 15
           },
           "zerolinecolor": "white",
           "zerolinewidth": 2
          }
         }
        },
        "title": {
         "font": {
          "color": "#4D5663"
         }
        },
        "xaxis": {
         "gridcolor": "#E1E5ED",
         "showgrid": true,
         "tickfont": {
          "color": "#4D5663"
         },
         "title": {
          "font": {
           "color": "#4D5663"
          },
          "text": ""
         },
         "zerolinecolor": "#E1E5ED"
        },
        "yaxis": {
         "gridcolor": "#E1E5ED",
         "showgrid": true,
         "tickfont": {
          "color": "#4D5663"
         },
         "title": {
          "font": {
           "color": "#4D5663"
          },
          "text": ""
         },
         "zerolinecolor": "#E1E5ED"
        }
       }
      },
      "text/html": [
       "<div>                            <div id=\"c17f6159-8385-45af-8c43-d6154ab4de98\" class=\"plotly-graph-div\" style=\"height:525px; width:100%;\"></div>            <script type=\"text/javascript\">                require([\"plotly\"], function(Plotly) {                    window.PLOTLYENV=window.PLOTLYENV || {};\n",
       "                    window.PLOTLYENV.BASE_URL='https://plot.ly';                                    if (document.getElementById(\"c17f6159-8385-45af-8c43-d6154ab4de98\")) {                    Plotly.newPlot(                        \"c17f6159-8385-45af-8c43-d6154ab4de98\",                        [{\"line\": {\"color\": \"rgba(255, 153, 51, 1.0)\", \"dash\": \"solid\", \"shape\": \"linear\", \"width\": 1.3}, \"marker\": {\"size\": 12, \"symbol\": \"circle\"}, \"mode\": \"markers\", \"name\": \"B\", \"text\": \"\", \"type\": \"scatter\", \"x\": [-0.30202016863775033, -0.28564555846571377, 0.4476704948481836, -0.7162322499431878, -1.1752084454356209, 0.037922946952660096, -0.4784580310902896, -0.8127219470868241, -0.2015463810609984, -1.2477309120841387, 0.33416595599237875, -0.3925825214642993, 0.8483162327766754, 1.4017593159498198, -0.24447542578970963, 0.3268425653949366, 0.7896328968946461, 0.05003230055379049, 0.8713596231470593, -0.36768247294659173, 1.456695935256, 0.09086717022177927, 0.8308289690395506, 0.4570302705052343, 1.641725152630206, -0.34337193630447227, -0.6899548045806325, -1.4989669498743878, -0.4990655862049401, -1.2763195565688894, -0.5841927721605572, -0.6531615312082533, -1.544688058823571, 1.241823683012709, 0.36670402575200034, 0.36785862000313696, -0.4251916229702931, -1.1424611416885133, 0.11744918233688426, -0.2943921274727523, -0.2630411797495611, 1.1189450591825083, 0.6771083217387999, -2.1007251081507516, -1.469901874723165, 0.5804195589513341, -0.26050512490234284, 2.2362929227372725, 0.5190194687909312, -0.008163118768048035, -0.6611054621616541, 1.36957273498277, 0.57208163756899, 0.12460374641094915, 0.8356395402758129, -0.8335550054425519, -0.8946566144284955, -0.10099356338826994, 0.04425297346768268, 2.217770067273319, 0.03522119302500431, -1.9869202369288799, -1.2508613408788938, 0.09279898228614562, 0.38692351076168063, -0.026236237411354904, -1.491069699311706, 0.8294659536906288, 0.6136776593807836, -0.8154202979633771, 0.6293335815887414, -1.0923772889015413, 0.7386223240270853, -0.68737966371764, -0.6422680828562675, 0.7998127045023482, 0.9217752449620659, 0.04459918763480434, -0.445947653484942, -0.3773323373724564, 0.4050137890893175, 0.19591076972454038, -0.3532570369973499, -0.19817408743935175, -0.311181936508081, -0.5692973337611296, 1.2737066010007103, 0.33310651006183967, 2.343367044548086, -0.4488947193251729, 0.16005691450387768, -0.5608031062151607, -0.2592370006186431, -0.7117502976304382, -0.5122229220026929, 0.9231576330805437, 1.108977825338648, 0.05946369407947916, -0.5664014911796487, 0.5891591881972967], \"y\": [-0.8488668044204304, 0.0829347754880924, 0.5024352835101774, -1.555223408984092, -1.7161100299123155, 0.13905529392350072, 0.4697605231701461, -0.2067026939520887, -1.1575550785607536, 1.0197452265500921, 1.1202487101150227, 1.5954620391368428, -0.4375092399621281, -0.47581549224960684, 1.1853669230476602, -0.7970090865687269, -0.217834734307552, -0.9266855311136963, 0.6925149520732994, -0.14063441315709707, 1.3397844385147475, -0.1413885447509737, -0.3341614782625514, -1.0331617312485522, 0.24434025389131428, 1.5085738205782122, 0.10463564901176917, -1.0951203549391761, -0.27409678695725026, 0.420532769222361, 0.44161004868931125, 1.243251467420042, 2.014541632056787, 0.0005947858539945759, 1.2239989488374874, -0.3249945539545311, 0.11473621845710603, 1.1583020744108352, 0.33306800250962726, 0.6084733116468805, 0.2736092321470979, -1.5679830656702087, -0.06928753093902698, 0.526425209767373, -0.01545031249896855, -0.2570800949369005, -0.4691911947167141, 0.3670764942533598, 0.9329487179609518, 0.2795889554620296, -0.7792859324560443, 1.320870561157038, -0.9628173239459669, 1.0288747348344904, -0.31456248623952465, 1.179250469511076, 0.03272168521154292, -0.07204583648761341, 1.1921789942533836, 1.25019068010553, -0.03188346728559232, -0.1530268360484573, 0.9831775188487099, -0.5267924542187926, -0.4053089572688673, -0.051938708052279375, 0.45703909564713263, 0.2642433727428654, 0.5251885395153827, -0.0744890981195537, 0.20179472075573884, -0.24260442894883943, -0.7655468244843483, -0.25466269286703574, 1.3274099884767236, -1.8920515553120267, 0.10540569529487552, 1.0160601421792685, 1.0480390651944593, -1.2983474014888645, -0.5118493322462478, -0.6211629820763115, -0.7131189561305936, -1.5519881153245678, 0.3588037520991031, -0.7401347991919084, 0.5898932362401884, 0.6230541842326577, 0.1469808884715823, -1.4909432837564347, 0.16216809925339512, -0.24679042370819276, -0.30396064222875, 1.064430955755844, 0.3820227711156056, -1.9545417907404197, -0.8840834393902629, -0.8514764988023206, 0.4516710603713084, -0.9713569710562179]}],                        {\"legend\": {\"bgcolor\": \"#F5F6F9\", \"font\": {\"color\": \"#4D5663\"}}, \"paper_bgcolor\": \"#F5F6F9\", \"plot_bgcolor\": \"#F5F6F9\", \"template\": {\"data\": {\"bar\": [{\"error_x\": {\"color\": \"#2a3f5f\"}, \"error_y\": {\"color\": \"#2a3f5f\"}, \"marker\": {\"line\": {\"color\": \"#E5ECF6\", \"width\": 0.5}}, \"type\": \"bar\"}], \"barpolar\": [{\"marker\": {\"line\": {\"color\": \"#E5ECF6\", \"width\": 0.5}}, \"type\": \"barpolar\"}], \"carpet\": [{\"aaxis\": {\"endlinecolor\": \"#2a3f5f\", \"gridcolor\": \"white\", \"linecolor\": \"white\", \"minorgridcolor\": \"white\", \"startlinecolor\": \"#2a3f5f\"}, \"baxis\": {\"endlinecolor\": \"#2a3f5f\", \"gridcolor\": \"white\", \"linecolor\": \"white\", \"minorgridcolor\": \"white\", \"startlinecolor\": \"#2a3f5f\"}, \"type\": \"carpet\"}], \"choropleth\": [{\"colorbar\": {\"outlinewidth\": 0, \"ticks\": \"\"}, \"type\": \"choropleth\"}], \"contour\": [{\"colorbar\": {\"outlinewidth\": 0, \"ticks\": \"\"}, \"colorscale\": [[0.0, \"#0d0887\"], [0.1111111111111111, \"#46039f\"], [0.2222222222222222, \"#7201a8\"], [0.3333333333333333, \"#9c179e\"], [0.4444444444444444, \"#bd3786\"], [0.5555555555555556, \"#d8576b\"], [0.6666666666666666, \"#ed7953\"], [0.7777777777777778, \"#fb9f3a\"], [0.8888888888888888, \"#fdca26\"], [1.0, \"#f0f921\"]], \"type\": \"contour\"}], \"contourcarpet\": [{\"colorbar\": {\"outlinewidth\": 0, \"ticks\": \"\"}, \"type\": \"contourcarpet\"}], \"heatmap\": [{\"colorbar\": {\"outlinewidth\": 0, \"ticks\": \"\"}, \"colorscale\": [[0.0, \"#0d0887\"], [0.1111111111111111, \"#46039f\"], [0.2222222222222222, \"#7201a8\"], [0.3333333333333333, \"#9c179e\"], [0.4444444444444444, \"#bd3786\"], [0.5555555555555556, \"#d8576b\"], [0.6666666666666666, \"#ed7953\"], [0.7777777777777778, \"#fb9f3a\"], [0.8888888888888888, \"#fdca26\"], [1.0, \"#f0f921\"]], \"type\": \"heatmap\"}], \"heatmapgl\": [{\"colorbar\": {\"outlinewidth\": 0, \"ticks\": \"\"}, \"colorscale\": [[0.0, \"#0d0887\"], [0.1111111111111111, \"#46039f\"], [0.2222222222222222, \"#7201a8\"], [0.3333333333333333, \"#9c179e\"], [0.4444444444444444, \"#bd3786\"], [0.5555555555555556, \"#d8576b\"], [0.6666666666666666, \"#ed7953\"], [0.7777777777777778, \"#fb9f3a\"], [0.8888888888888888, \"#fdca26\"], [1.0, \"#f0f921\"]], \"type\": \"heatmapgl\"}], \"histogram\": [{\"marker\": {\"colorbar\": {\"outlinewidth\": 0, \"ticks\": \"\"}}, \"type\": \"histogram\"}], \"histogram2d\": [{\"colorbar\": {\"outlinewidth\": 0, \"ticks\": \"\"}, \"colorscale\": [[0.0, \"#0d0887\"], [0.1111111111111111, \"#46039f\"], [0.2222222222222222, \"#7201a8\"], [0.3333333333333333, \"#9c179e\"], [0.4444444444444444, \"#bd3786\"], [0.5555555555555556, \"#d8576b\"], [0.6666666666666666, \"#ed7953\"], [0.7777777777777778, \"#fb9f3a\"], [0.8888888888888888, \"#fdca26\"], [1.0, \"#f0f921\"]], \"type\": \"histogram2d\"}], \"histogram2dcontour\": [{\"colorbar\": {\"outlinewidth\": 0, \"ticks\": \"\"}, \"colorscale\": [[0.0, \"#0d0887\"], [0.1111111111111111, \"#46039f\"], [0.2222222222222222, \"#7201a8\"], [0.3333333333333333, \"#9c179e\"], [0.4444444444444444, \"#bd3786\"], [0.5555555555555556, \"#d8576b\"], [0.6666666666666666, \"#ed7953\"], [0.7777777777777778, \"#fb9f3a\"], [0.8888888888888888, \"#fdca26\"], [1.0, \"#f0f921\"]], \"type\": \"histogram2dcontour\"}], \"mesh3d\": [{\"colorbar\": {\"outlinewidth\": 0, \"ticks\": \"\"}, \"type\": \"mesh3d\"}], \"parcoords\": [{\"line\": {\"colorbar\": {\"outlinewidth\": 0, \"ticks\": \"\"}}, \"type\": \"parcoords\"}], \"pie\": [{\"automargin\": true, \"type\": \"pie\"}], \"scatter\": [{\"marker\": {\"colorbar\": {\"outlinewidth\": 0, \"ticks\": \"\"}}, \"type\": \"scatter\"}], \"scatter3d\": [{\"line\": {\"colorbar\": {\"outlinewidth\": 0, \"ticks\": \"\"}}, \"marker\": {\"colorbar\": {\"outlinewidth\": 0, \"ticks\": \"\"}}, \"type\": \"scatter3d\"}], \"scattercarpet\": [{\"marker\": {\"colorbar\": {\"outlinewidth\": 0, \"ticks\": \"\"}}, \"type\": \"scattercarpet\"}], \"scattergeo\": [{\"marker\": {\"colorbar\": {\"outlinewidth\": 0, \"ticks\": \"\"}}, \"type\": \"scattergeo\"}], \"scattergl\": [{\"marker\": {\"colorbar\": {\"outlinewidth\": 0, \"ticks\": \"\"}}, \"type\": \"scattergl\"}], \"scattermapbox\": [{\"marker\": {\"colorbar\": {\"outlinewidth\": 0, \"ticks\": \"\"}}, \"type\": \"scattermapbox\"}], \"scatterpolar\": [{\"marker\": {\"colorbar\": {\"outlinewidth\": 0, \"ticks\": \"\"}}, \"type\": \"scatterpolar\"}], \"scatterpolargl\": [{\"marker\": {\"colorbar\": {\"outlinewidth\": 0, \"ticks\": \"\"}}, \"type\": \"scatterpolargl\"}], \"scatterternary\": [{\"marker\": {\"colorbar\": {\"outlinewidth\": 0, \"ticks\": \"\"}}, \"type\": \"scatterternary\"}], \"surface\": [{\"colorbar\": {\"outlinewidth\": 0, \"ticks\": \"\"}, \"colorscale\": [[0.0, \"#0d0887\"], [0.1111111111111111, \"#46039f\"], [0.2222222222222222, \"#7201a8\"], [0.3333333333333333, \"#9c179e\"], [0.4444444444444444, \"#bd3786\"], [0.5555555555555556, \"#d8576b\"], [0.6666666666666666, \"#ed7953\"], [0.7777777777777778, \"#fb9f3a\"], [0.8888888888888888, \"#fdca26\"], [1.0, \"#f0f921\"]], \"type\": \"surface\"}], \"table\": [{\"cells\": {\"fill\": {\"color\": \"#EBF0F8\"}, \"line\": {\"color\": \"white\"}}, \"header\": {\"fill\": {\"color\": \"#C8D4E3\"}, \"line\": {\"color\": \"white\"}}, \"type\": \"table\"}]}, \"layout\": {\"annotationdefaults\": {\"arrowcolor\": \"#2a3f5f\", \"arrowhead\": 0, \"arrowwidth\": 1}, \"coloraxis\": {\"colorbar\": {\"outlinewidth\": 0, \"ticks\": \"\"}}, \"colorscale\": {\"diverging\": [[0, \"#8e0152\"], [0.1, \"#c51b7d\"], [0.2, \"#de77ae\"], [0.3, \"#f1b6da\"], [0.4, \"#fde0ef\"], [0.5, \"#f7f7f7\"], [0.6, \"#e6f5d0\"], [0.7, \"#b8e186\"], [0.8, \"#7fbc41\"], [0.9, \"#4d9221\"], [1, \"#276419\"]], \"sequential\": [[0.0, \"#0d0887\"], [0.1111111111111111, \"#46039f\"], [0.2222222222222222, \"#7201a8\"], [0.3333333333333333, \"#9c179e\"], [0.4444444444444444, \"#bd3786\"], [0.5555555555555556, \"#d8576b\"], [0.6666666666666666, \"#ed7953\"], [0.7777777777777778, \"#fb9f3a\"], [0.8888888888888888, \"#fdca26\"], [1.0, \"#f0f921\"]], \"sequentialminus\": [[0.0, \"#0d0887\"], [0.1111111111111111, \"#46039f\"], [0.2222222222222222, \"#7201a8\"], [0.3333333333333333, \"#9c179e\"], [0.4444444444444444, \"#bd3786\"], [0.5555555555555556, \"#d8576b\"], [0.6666666666666666, \"#ed7953\"], [0.7777777777777778, \"#fb9f3a\"], [0.8888888888888888, \"#fdca26\"], [1.0, \"#f0f921\"]]}, \"colorway\": [\"#636efa\", \"#EF553B\", \"#00cc96\", \"#ab63fa\", \"#FFA15A\", \"#19d3f3\", \"#FF6692\", \"#B6E880\", \"#FF97FF\", \"#FECB52\"], \"font\": {\"color\": \"#2a3f5f\"}, \"geo\": {\"bgcolor\": \"white\", \"lakecolor\": \"white\", \"landcolor\": \"#E5ECF6\", \"showlakes\": true, \"showland\": true, \"subunitcolor\": \"white\"}, \"hoverlabel\": {\"align\": \"left\"}, \"hovermode\": \"closest\", \"mapbox\": {\"style\": \"light\"}, \"paper_bgcolor\": \"white\", \"plot_bgcolor\": \"#E5ECF6\", \"polar\": {\"angularaxis\": {\"gridcolor\": \"white\", \"linecolor\": \"white\", \"ticks\": \"\"}, \"bgcolor\": \"#E5ECF6\", \"radialaxis\": {\"gridcolor\": \"white\", \"linecolor\": \"white\", \"ticks\": \"\"}}, \"scene\": {\"xaxis\": {\"backgroundcolor\": \"#E5ECF6\", \"gridcolor\": \"white\", \"gridwidth\": 2, \"linecolor\": \"white\", \"showbackground\": true, \"ticks\": \"\", \"zerolinecolor\": \"white\"}, \"yaxis\": {\"backgroundcolor\": \"#E5ECF6\", \"gridcolor\": \"white\", \"gridwidth\": 2, \"linecolor\": \"white\", \"showbackground\": true, \"ticks\": \"\", \"zerolinecolor\": \"white\"}, \"zaxis\": {\"backgroundcolor\": \"#E5ECF6\", \"gridcolor\": \"white\", \"gridwidth\": 2, \"linecolor\": \"white\", \"showbackground\": true, \"ticks\": \"\", \"zerolinecolor\": \"white\"}}, \"shapedefaults\": {\"line\": {\"color\": \"#2a3f5f\"}}, \"ternary\": {\"aaxis\": {\"gridcolor\": \"white\", \"linecolor\": \"white\", \"ticks\": \"\"}, \"baxis\": {\"gridcolor\": \"white\", \"linecolor\": \"white\", \"ticks\": \"\"}, \"bgcolor\": \"#E5ECF6\", \"caxis\": {\"gridcolor\": \"white\", \"linecolor\": \"white\", \"ticks\": \"\"}}, \"title\": {\"x\": 0.05}, \"xaxis\": {\"automargin\": true, \"gridcolor\": \"white\", \"linecolor\": \"white\", \"ticks\": \"\", \"title\": {\"standoff\": 15}, \"zerolinecolor\": \"white\", \"zerolinewidth\": 2}, \"yaxis\": {\"automargin\": true, \"gridcolor\": \"white\", \"linecolor\": \"white\", \"ticks\": \"\", \"title\": {\"standoff\": 15}, \"zerolinecolor\": \"white\", \"zerolinewidth\": 2}}}, \"title\": {\"font\": {\"color\": \"#4D5663\"}}, \"xaxis\": {\"gridcolor\": \"#E1E5ED\", \"showgrid\": true, \"tickfont\": {\"color\": \"#4D5663\"}, \"title\": {\"font\": {\"color\": \"#4D5663\"}, \"text\": \"\"}, \"zerolinecolor\": \"#E1E5ED\"}, \"yaxis\": {\"gridcolor\": \"#E1E5ED\", \"showgrid\": true, \"tickfont\": {\"color\": \"#4D5663\"}, \"title\": {\"font\": {\"color\": \"#4D5663\"}, \"text\": \"\"}, \"zerolinecolor\": \"#E1E5ED\"}},                        {\"showLink\": true, \"linkText\": \"Export to plot.ly\", \"plotlyServerURL\": \"https://plot.ly\", \"responsive\": true}                    ).then(function(){\n",
       "                            \n",
       "var gd = document.getElementById('c17f6159-8385-45af-8c43-d6154ab4de98');\n",
       "var x = new MutationObserver(function (mutations, observer) {{\n",
       "        var display = window.getComputedStyle(gd).display;\n",
       "        if (!display || display === 'none') {{\n",
       "            console.log([gd, 'removed!']);\n",
       "            Plotly.purge(gd);\n",
       "            observer.disconnect();\n",
       "        }}\n",
       "}});\n",
       "\n",
       "// Listen for the removal of the full notebook cells\n",
       "var notebookContainer = gd.closest('#notebook-container');\n",
       "if (notebookContainer) {{\n",
       "    x.observe(notebookContainer, {childList: true});\n",
       "}}\n",
       "\n",
       "// Listen for the clearing of the current output cell\n",
       "var outputEl = gd.closest('.output');\n",
       "if (outputEl) {{\n",
       "    x.observe(outputEl, {childList: true});\n",
       "}}\n",
       "\n",
       "                        })                };                });            </script>        </div>"
      ]
     },
     "metadata": {},
     "output_type": "display_data"
    }
   ],
   "source": [
    "fake_df.iplot(kind='scatter', x='A', y='B', mode='markers', size=12)"
   ]
  },
  {
   "cell_type": "code",
   "execution_count": 11,
   "metadata": {},
   "outputs": [
    {
     "data": {
      "application/vnd.plotly.v1+json": {
       "config": {
        "linkText": "Export to plot.ly",
        "plotlyServerURL": "https://plot.ly",
        "showLink": true
       },
       "data": [
        {
         "marker": {
          "color": "rgba(255, 153, 51, 0.6)",
          "line": {
           "color": "rgba(255, 153, 51, 1.0)",
           "width": 1
          }
         },
         "name": "Values",
         "orientation": "v",
         "text": "",
         "type": "bar",
         "x": [
          "A",
          "B",
          "C"
         ],
         "y": [
          32,
          43,
          50
         ]
        }
       ],
       "layout": {
        "legend": {
         "bgcolor": "#F5F6F9",
         "font": {
          "color": "#4D5663"
         }
        },
        "paper_bgcolor": "#F5F6F9",
        "plot_bgcolor": "#F5F6F9",
        "template": {
         "data": {
          "bar": [
           {
            "error_x": {
             "color": "#2a3f5f"
            },
            "error_y": {
             "color": "#2a3f5f"
            },
            "marker": {
             "line": {
              "color": "#E5ECF6",
              "width": 0.5
             }
            },
            "type": "bar"
           }
          ],
          "barpolar": [
           {
            "marker": {
             "line": {
              "color": "#E5ECF6",
              "width": 0.5
             }
            },
            "type": "barpolar"
           }
          ],
          "carpet": [
           {
            "aaxis": {
             "endlinecolor": "#2a3f5f",
             "gridcolor": "white",
             "linecolor": "white",
             "minorgridcolor": "white",
             "startlinecolor": "#2a3f5f"
            },
            "baxis": {
             "endlinecolor": "#2a3f5f",
             "gridcolor": "white",
             "linecolor": "white",
             "minorgridcolor": "white",
             "startlinecolor": "#2a3f5f"
            },
            "type": "carpet"
           }
          ],
          "choropleth": [
           {
            "colorbar": {
             "outlinewidth": 0,
             "ticks": ""
            },
            "type": "choropleth"
           }
          ],
          "contour": [
           {
            "colorbar": {
             "outlinewidth": 0,
             "ticks": ""
            },
            "colorscale": [
             [
              0,
              "#0d0887"
             ],
             [
              0.1111111111111111,
              "#46039f"
             ],
             [
              0.2222222222222222,
              "#7201a8"
             ],
             [
              0.3333333333333333,
              "#9c179e"
             ],
             [
              0.4444444444444444,
              "#bd3786"
             ],
             [
              0.5555555555555556,
              "#d8576b"
             ],
             [
              0.6666666666666666,
              "#ed7953"
             ],
             [
              0.7777777777777778,
              "#fb9f3a"
             ],
             [
              0.8888888888888888,
              "#fdca26"
             ],
             [
              1,
              "#f0f921"
             ]
            ],
            "type": "contour"
           }
          ],
          "contourcarpet": [
           {
            "colorbar": {
             "outlinewidth": 0,
             "ticks": ""
            },
            "type": "contourcarpet"
           }
          ],
          "heatmap": [
           {
            "colorbar": {
             "outlinewidth": 0,
             "ticks": ""
            },
            "colorscale": [
             [
              0,
              "#0d0887"
             ],
             [
              0.1111111111111111,
              "#46039f"
             ],
             [
              0.2222222222222222,
              "#7201a8"
             ],
             [
              0.3333333333333333,
              "#9c179e"
             ],
             [
              0.4444444444444444,
              "#bd3786"
             ],
             [
              0.5555555555555556,
              "#d8576b"
             ],
             [
              0.6666666666666666,
              "#ed7953"
             ],
             [
              0.7777777777777778,
              "#fb9f3a"
             ],
             [
              0.8888888888888888,
              "#fdca26"
             ],
             [
              1,
              "#f0f921"
             ]
            ],
            "type": "heatmap"
           }
          ],
          "heatmapgl": [
           {
            "colorbar": {
             "outlinewidth": 0,
             "ticks": ""
            },
            "colorscale": [
             [
              0,
              "#0d0887"
             ],
             [
              0.1111111111111111,
              "#46039f"
             ],
             [
              0.2222222222222222,
              "#7201a8"
             ],
             [
              0.3333333333333333,
              "#9c179e"
             ],
             [
              0.4444444444444444,
              "#bd3786"
             ],
             [
              0.5555555555555556,
              "#d8576b"
             ],
             [
              0.6666666666666666,
              "#ed7953"
             ],
             [
              0.7777777777777778,
              "#fb9f3a"
             ],
             [
              0.8888888888888888,
              "#fdca26"
             ],
             [
              1,
              "#f0f921"
             ]
            ],
            "type": "heatmapgl"
           }
          ],
          "histogram": [
           {
            "marker": {
             "colorbar": {
              "outlinewidth": 0,
              "ticks": ""
             }
            },
            "type": "histogram"
           }
          ],
          "histogram2d": [
           {
            "colorbar": {
             "outlinewidth": 0,
             "ticks": ""
            },
            "colorscale": [
             [
              0,
              "#0d0887"
             ],
             [
              0.1111111111111111,
              "#46039f"
             ],
             [
              0.2222222222222222,
              "#7201a8"
             ],
             [
              0.3333333333333333,
              "#9c179e"
             ],
             [
              0.4444444444444444,
              "#bd3786"
             ],
             [
              0.5555555555555556,
              "#d8576b"
             ],
             [
              0.6666666666666666,
              "#ed7953"
             ],
             [
              0.7777777777777778,
              "#fb9f3a"
             ],
             [
              0.8888888888888888,
              "#fdca26"
             ],
             [
              1,
              "#f0f921"
             ]
            ],
            "type": "histogram2d"
           }
          ],
          "histogram2dcontour": [
           {
            "colorbar": {
             "outlinewidth": 0,
             "ticks": ""
            },
            "colorscale": [
             [
              0,
              "#0d0887"
             ],
             [
              0.1111111111111111,
              "#46039f"
             ],
             [
              0.2222222222222222,
              "#7201a8"
             ],
             [
              0.3333333333333333,
              "#9c179e"
             ],
             [
              0.4444444444444444,
              "#bd3786"
             ],
             [
              0.5555555555555556,
              "#d8576b"
             ],
             [
              0.6666666666666666,
              "#ed7953"
             ],
             [
              0.7777777777777778,
              "#fb9f3a"
             ],
             [
              0.8888888888888888,
              "#fdca26"
             ],
             [
              1,
              "#f0f921"
             ]
            ],
            "type": "histogram2dcontour"
           }
          ],
          "mesh3d": [
           {
            "colorbar": {
             "outlinewidth": 0,
             "ticks": ""
            },
            "type": "mesh3d"
           }
          ],
          "parcoords": [
           {
            "line": {
             "colorbar": {
              "outlinewidth": 0,
              "ticks": ""
             }
            },
            "type": "parcoords"
           }
          ],
          "pie": [
           {
            "automargin": true,
            "type": "pie"
           }
          ],
          "scatter": [
           {
            "marker": {
             "colorbar": {
              "outlinewidth": 0,
              "ticks": ""
             }
            },
            "type": "scatter"
           }
          ],
          "scatter3d": [
           {
            "line": {
             "colorbar": {
              "outlinewidth": 0,
              "ticks": ""
             }
            },
            "marker": {
             "colorbar": {
              "outlinewidth": 0,
              "ticks": ""
             }
            },
            "type": "scatter3d"
           }
          ],
          "scattercarpet": [
           {
            "marker": {
             "colorbar": {
              "outlinewidth": 0,
              "ticks": ""
             }
            },
            "type": "scattercarpet"
           }
          ],
          "scattergeo": [
           {
            "marker": {
             "colorbar": {
              "outlinewidth": 0,
              "ticks": ""
             }
            },
            "type": "scattergeo"
           }
          ],
          "scattergl": [
           {
            "marker": {
             "colorbar": {
              "outlinewidth": 0,
              "ticks": ""
             }
            },
            "type": "scattergl"
           }
          ],
          "scattermapbox": [
           {
            "marker": {
             "colorbar": {
              "outlinewidth": 0,
              "ticks": ""
             }
            },
            "type": "scattermapbox"
           }
          ],
          "scatterpolar": [
           {
            "marker": {
             "colorbar": {
              "outlinewidth": 0,
              "ticks": ""
             }
            },
            "type": "scatterpolar"
           }
          ],
          "scatterpolargl": [
           {
            "marker": {
             "colorbar": {
              "outlinewidth": 0,
              "ticks": ""
             }
            },
            "type": "scatterpolargl"
           }
          ],
          "scatterternary": [
           {
            "marker": {
             "colorbar": {
              "outlinewidth": 0,
              "ticks": ""
             }
            },
            "type": "scatterternary"
           }
          ],
          "surface": [
           {
            "colorbar": {
             "outlinewidth": 0,
             "ticks": ""
            },
            "colorscale": [
             [
              0,
              "#0d0887"
             ],
             [
              0.1111111111111111,
              "#46039f"
             ],
             [
              0.2222222222222222,
              "#7201a8"
             ],
             [
              0.3333333333333333,
              "#9c179e"
             ],
             [
              0.4444444444444444,
              "#bd3786"
             ],
             [
              0.5555555555555556,
              "#d8576b"
             ],
             [
              0.6666666666666666,
              "#ed7953"
             ],
             [
              0.7777777777777778,
              "#fb9f3a"
             ],
             [
              0.8888888888888888,
              "#fdca26"
             ],
             [
              1,
              "#f0f921"
             ]
            ],
            "type": "surface"
           }
          ],
          "table": [
           {
            "cells": {
             "fill": {
              "color": "#EBF0F8"
             },
             "line": {
              "color": "white"
             }
            },
            "header": {
             "fill": {
              "color": "#C8D4E3"
             },
             "line": {
              "color": "white"
             }
            },
            "type": "table"
           }
          ]
         },
         "layout": {
          "annotationdefaults": {
           "arrowcolor": "#2a3f5f",
           "arrowhead": 0,
           "arrowwidth": 1
          },
          "coloraxis": {
           "colorbar": {
            "outlinewidth": 0,
            "ticks": ""
           }
          },
          "colorscale": {
           "diverging": [
            [
             0,
             "#8e0152"
            ],
            [
             0.1,
             "#c51b7d"
            ],
            [
             0.2,
             "#de77ae"
            ],
            [
             0.3,
             "#f1b6da"
            ],
            [
             0.4,
             "#fde0ef"
            ],
            [
             0.5,
             "#f7f7f7"
            ],
            [
             0.6,
             "#e6f5d0"
            ],
            [
             0.7,
             "#b8e186"
            ],
            [
             0.8,
             "#7fbc41"
            ],
            [
             0.9,
             "#4d9221"
            ],
            [
             1,
             "#276419"
            ]
           ],
           "sequential": [
            [
             0,
             "#0d0887"
            ],
            [
             0.1111111111111111,
             "#46039f"
            ],
            [
             0.2222222222222222,
             "#7201a8"
            ],
            [
             0.3333333333333333,
             "#9c179e"
            ],
            [
             0.4444444444444444,
             "#bd3786"
            ],
            [
             0.5555555555555556,
             "#d8576b"
            ],
            [
             0.6666666666666666,
             "#ed7953"
            ],
            [
             0.7777777777777778,
             "#fb9f3a"
            ],
            [
             0.8888888888888888,
             "#fdca26"
            ],
            [
             1,
             "#f0f921"
            ]
           ],
           "sequentialminus": [
            [
             0,
             "#0d0887"
            ],
            [
             0.1111111111111111,
             "#46039f"
            ],
            [
             0.2222222222222222,
             "#7201a8"
            ],
            [
             0.3333333333333333,
             "#9c179e"
            ],
            [
             0.4444444444444444,
             "#bd3786"
            ],
            [
             0.5555555555555556,
             "#d8576b"
            ],
            [
             0.6666666666666666,
             "#ed7953"
            ],
            [
             0.7777777777777778,
             "#fb9f3a"
            ],
            [
             0.8888888888888888,
             "#fdca26"
            ],
            [
             1,
             "#f0f921"
            ]
           ]
          },
          "colorway": [
           "#636efa",
           "#EF553B",
           "#00cc96",
           "#ab63fa",
           "#FFA15A",
           "#19d3f3",
           "#FF6692",
           "#B6E880",
           "#FF97FF",
           "#FECB52"
          ],
          "font": {
           "color": "#2a3f5f"
          },
          "geo": {
           "bgcolor": "white",
           "lakecolor": "white",
           "landcolor": "#E5ECF6",
           "showlakes": true,
           "showland": true,
           "subunitcolor": "white"
          },
          "hoverlabel": {
           "align": "left"
          },
          "hovermode": "closest",
          "mapbox": {
           "style": "light"
          },
          "paper_bgcolor": "white",
          "plot_bgcolor": "#E5ECF6",
          "polar": {
           "angularaxis": {
            "gridcolor": "white",
            "linecolor": "white",
            "ticks": ""
           },
           "bgcolor": "#E5ECF6",
           "radialaxis": {
            "gridcolor": "white",
            "linecolor": "white",
            "ticks": ""
           }
          },
          "scene": {
           "xaxis": {
            "backgroundcolor": "#E5ECF6",
            "gridcolor": "white",
            "gridwidth": 2,
            "linecolor": "white",
            "showbackground": true,
            "ticks": "",
            "zerolinecolor": "white"
           },
           "yaxis": {
            "backgroundcolor": "#E5ECF6",
            "gridcolor": "white",
            "gridwidth": 2,
            "linecolor": "white",
            "showbackground": true,
            "ticks": "",
            "zerolinecolor": "white"
           },
           "zaxis": {
            "backgroundcolor": "#E5ECF6",
            "gridcolor": "white",
            "gridwidth": 2,
            "linecolor": "white",
            "showbackground": true,
            "ticks": "",
            "zerolinecolor": "white"
           }
          },
          "shapedefaults": {
           "line": {
            "color": "#2a3f5f"
           }
          },
          "ternary": {
           "aaxis": {
            "gridcolor": "white",
            "linecolor": "white",
            "ticks": ""
           },
           "baxis": {
            "gridcolor": "white",
            "linecolor": "white",
            "ticks": ""
           },
           "bgcolor": "#E5ECF6",
           "caxis": {
            "gridcolor": "white",
            "linecolor": "white",
            "ticks": ""
           }
          },
          "title": {
           "x": 0.05
          },
          "xaxis": {
           "automargin": true,
           "gridcolor": "white",
           "linecolor": "white",
           "ticks": "",
           "title": {
            "standoff": 15
           },
           "zerolinecolor": "white",
           "zerolinewidth": 2
          },
          "yaxis": {
           "automargin": true,
           "gridcolor": "white",
           "linecolor": "white",
           "ticks": "",
           "title": {
            "standoff": 15
           },
           "zerolinecolor": "white",
           "zerolinewidth": 2
          }
         }
        },
        "title": {
         "font": {
          "color": "#4D5663"
         }
        },
        "xaxis": {
         "gridcolor": "#E1E5ED",
         "showgrid": true,
         "tickfont": {
          "color": "#4D5663"
         },
         "title": {
          "font": {
           "color": "#4D5663"
          },
          "text": ""
         },
         "zerolinecolor": "#E1E5ED"
        },
        "yaxis": {
         "gridcolor": "#E1E5ED",
         "showgrid": true,
         "tickfont": {
          "color": "#4D5663"
         },
         "title": {
          "font": {
           "color": "#4D5663"
          },
          "text": ""
         },
         "zerolinecolor": "#E1E5ED"
        }
       }
      },
      "text/html": [
       "<div>                            <div id=\"ab2e8bfc-eaf6-4b6f-aeb2-1348a475fd60\" class=\"plotly-graph-div\" style=\"height:525px; width:100%;\"></div>            <script type=\"text/javascript\">                require([\"plotly\"], function(Plotly) {                    window.PLOTLYENV=window.PLOTLYENV || {};\n",
       "                    window.PLOTLYENV.BASE_URL='https://plot.ly';                                    if (document.getElementById(\"ab2e8bfc-eaf6-4b6f-aeb2-1348a475fd60\")) {                    Plotly.newPlot(                        \"ab2e8bfc-eaf6-4b6f-aeb2-1348a475fd60\",                        [{\"marker\": {\"color\": \"rgba(255, 153, 51, 0.6)\", \"line\": {\"color\": \"rgba(255, 153, 51, 1.0)\", \"width\": 1}}, \"name\": \"Values\", \"orientation\": \"v\", \"text\": \"\", \"type\": \"bar\", \"x\": [\"A\", \"B\", \"C\"], \"y\": [32, 43, 50]}],                        {\"legend\": {\"bgcolor\": \"#F5F6F9\", \"font\": {\"color\": \"#4D5663\"}}, \"paper_bgcolor\": \"#F5F6F9\", \"plot_bgcolor\": \"#F5F6F9\", \"template\": {\"data\": {\"bar\": [{\"error_x\": {\"color\": \"#2a3f5f\"}, \"error_y\": {\"color\": \"#2a3f5f\"}, \"marker\": {\"line\": {\"color\": \"#E5ECF6\", \"width\": 0.5}}, \"type\": \"bar\"}], \"barpolar\": [{\"marker\": {\"line\": {\"color\": \"#E5ECF6\", \"width\": 0.5}}, \"type\": \"barpolar\"}], \"carpet\": [{\"aaxis\": {\"endlinecolor\": \"#2a3f5f\", \"gridcolor\": \"white\", \"linecolor\": \"white\", \"minorgridcolor\": \"white\", \"startlinecolor\": \"#2a3f5f\"}, \"baxis\": {\"endlinecolor\": \"#2a3f5f\", \"gridcolor\": \"white\", \"linecolor\": \"white\", \"minorgridcolor\": \"white\", \"startlinecolor\": \"#2a3f5f\"}, \"type\": \"carpet\"}], \"choropleth\": [{\"colorbar\": {\"outlinewidth\": 0, \"ticks\": \"\"}, \"type\": \"choropleth\"}], \"contour\": [{\"colorbar\": {\"outlinewidth\": 0, \"ticks\": \"\"}, \"colorscale\": [[0.0, \"#0d0887\"], [0.1111111111111111, \"#46039f\"], [0.2222222222222222, \"#7201a8\"], [0.3333333333333333, \"#9c179e\"], [0.4444444444444444, \"#bd3786\"], [0.5555555555555556, \"#d8576b\"], [0.6666666666666666, \"#ed7953\"], [0.7777777777777778, \"#fb9f3a\"], [0.8888888888888888, \"#fdca26\"], [1.0, \"#f0f921\"]], \"type\": \"contour\"}], \"contourcarpet\": [{\"colorbar\": {\"outlinewidth\": 0, \"ticks\": \"\"}, \"type\": \"contourcarpet\"}], \"heatmap\": [{\"colorbar\": {\"outlinewidth\": 0, \"ticks\": \"\"}, \"colorscale\": [[0.0, \"#0d0887\"], [0.1111111111111111, \"#46039f\"], [0.2222222222222222, \"#7201a8\"], [0.3333333333333333, \"#9c179e\"], [0.4444444444444444, \"#bd3786\"], [0.5555555555555556, \"#d8576b\"], [0.6666666666666666, \"#ed7953\"], [0.7777777777777778, \"#fb9f3a\"], [0.8888888888888888, \"#fdca26\"], [1.0, \"#f0f921\"]], \"type\": \"heatmap\"}], \"heatmapgl\": [{\"colorbar\": {\"outlinewidth\": 0, \"ticks\": \"\"}, \"colorscale\": [[0.0, \"#0d0887\"], [0.1111111111111111, \"#46039f\"], [0.2222222222222222, \"#7201a8\"], [0.3333333333333333, \"#9c179e\"], [0.4444444444444444, \"#bd3786\"], [0.5555555555555556, \"#d8576b\"], [0.6666666666666666, \"#ed7953\"], [0.7777777777777778, \"#fb9f3a\"], [0.8888888888888888, \"#fdca26\"], [1.0, \"#f0f921\"]], \"type\": \"heatmapgl\"}], \"histogram\": [{\"marker\": {\"colorbar\": {\"outlinewidth\": 0, \"ticks\": \"\"}}, \"type\": \"histogram\"}], \"histogram2d\": [{\"colorbar\": {\"outlinewidth\": 0, \"ticks\": \"\"}, \"colorscale\": [[0.0, \"#0d0887\"], [0.1111111111111111, \"#46039f\"], [0.2222222222222222, \"#7201a8\"], [0.3333333333333333, \"#9c179e\"], [0.4444444444444444, \"#bd3786\"], [0.5555555555555556, \"#d8576b\"], [0.6666666666666666, \"#ed7953\"], [0.7777777777777778, \"#fb9f3a\"], [0.8888888888888888, \"#fdca26\"], [1.0, \"#f0f921\"]], \"type\": \"histogram2d\"}], \"histogram2dcontour\": [{\"colorbar\": {\"outlinewidth\": 0, \"ticks\": \"\"}, \"colorscale\": [[0.0, \"#0d0887\"], [0.1111111111111111, \"#46039f\"], [0.2222222222222222, \"#7201a8\"], [0.3333333333333333, \"#9c179e\"], [0.4444444444444444, \"#bd3786\"], [0.5555555555555556, \"#d8576b\"], [0.6666666666666666, \"#ed7953\"], [0.7777777777777778, \"#fb9f3a\"], [0.8888888888888888, \"#fdca26\"], [1.0, \"#f0f921\"]], \"type\": \"histogram2dcontour\"}], \"mesh3d\": [{\"colorbar\": {\"outlinewidth\": 0, \"ticks\": \"\"}, \"type\": \"mesh3d\"}], \"parcoords\": [{\"line\": {\"colorbar\": {\"outlinewidth\": 0, \"ticks\": \"\"}}, \"type\": \"parcoords\"}], \"pie\": [{\"automargin\": true, \"type\": \"pie\"}], \"scatter\": [{\"marker\": {\"colorbar\": {\"outlinewidth\": 0, \"ticks\": \"\"}}, \"type\": \"scatter\"}], \"scatter3d\": [{\"line\": {\"colorbar\": {\"outlinewidth\": 0, \"ticks\": \"\"}}, \"marker\": {\"colorbar\": {\"outlinewidth\": 0, \"ticks\": \"\"}}, \"type\": \"scatter3d\"}], \"scattercarpet\": [{\"marker\": {\"colorbar\": {\"outlinewidth\": 0, \"ticks\": \"\"}}, \"type\": \"scattercarpet\"}], \"scattergeo\": [{\"marker\": {\"colorbar\": {\"outlinewidth\": 0, \"ticks\": \"\"}}, \"type\": \"scattergeo\"}], \"scattergl\": [{\"marker\": {\"colorbar\": {\"outlinewidth\": 0, \"ticks\": \"\"}}, \"type\": \"scattergl\"}], \"scattermapbox\": [{\"marker\": {\"colorbar\": {\"outlinewidth\": 0, \"ticks\": \"\"}}, \"type\": \"scattermapbox\"}], \"scatterpolar\": [{\"marker\": {\"colorbar\": {\"outlinewidth\": 0, \"ticks\": \"\"}}, \"type\": \"scatterpolar\"}], \"scatterpolargl\": [{\"marker\": {\"colorbar\": {\"outlinewidth\": 0, \"ticks\": \"\"}}, \"type\": \"scatterpolargl\"}], \"scatterternary\": [{\"marker\": {\"colorbar\": {\"outlinewidth\": 0, \"ticks\": \"\"}}, \"type\": \"scatterternary\"}], \"surface\": [{\"colorbar\": {\"outlinewidth\": 0, \"ticks\": \"\"}, \"colorscale\": [[0.0, \"#0d0887\"], [0.1111111111111111, \"#46039f\"], [0.2222222222222222, \"#7201a8\"], [0.3333333333333333, \"#9c179e\"], [0.4444444444444444, \"#bd3786\"], [0.5555555555555556, \"#d8576b\"], [0.6666666666666666, \"#ed7953\"], [0.7777777777777778, \"#fb9f3a\"], [0.8888888888888888, \"#fdca26\"], [1.0, \"#f0f921\"]], \"type\": \"surface\"}], \"table\": [{\"cells\": {\"fill\": {\"color\": \"#EBF0F8\"}, \"line\": {\"color\": \"white\"}}, \"header\": {\"fill\": {\"color\": \"#C8D4E3\"}, \"line\": {\"color\": \"white\"}}, \"type\": \"table\"}]}, \"layout\": {\"annotationdefaults\": {\"arrowcolor\": \"#2a3f5f\", \"arrowhead\": 0, \"arrowwidth\": 1}, \"coloraxis\": {\"colorbar\": {\"outlinewidth\": 0, \"ticks\": \"\"}}, \"colorscale\": {\"diverging\": [[0, \"#8e0152\"], [0.1, \"#c51b7d\"], [0.2, \"#de77ae\"], [0.3, \"#f1b6da\"], [0.4, \"#fde0ef\"], [0.5, \"#f7f7f7\"], [0.6, \"#e6f5d0\"], [0.7, \"#b8e186\"], [0.8, \"#7fbc41\"], [0.9, \"#4d9221\"], [1, \"#276419\"]], \"sequential\": [[0.0, \"#0d0887\"], [0.1111111111111111, \"#46039f\"], [0.2222222222222222, \"#7201a8\"], [0.3333333333333333, \"#9c179e\"], [0.4444444444444444, \"#bd3786\"], [0.5555555555555556, \"#d8576b\"], [0.6666666666666666, \"#ed7953\"], [0.7777777777777778, \"#fb9f3a\"], [0.8888888888888888, \"#fdca26\"], [1.0, \"#f0f921\"]], \"sequentialminus\": [[0.0, \"#0d0887\"], [0.1111111111111111, \"#46039f\"], [0.2222222222222222, \"#7201a8\"], [0.3333333333333333, \"#9c179e\"], [0.4444444444444444, \"#bd3786\"], [0.5555555555555556, \"#d8576b\"], [0.6666666666666666, \"#ed7953\"], [0.7777777777777778, \"#fb9f3a\"], [0.8888888888888888, \"#fdca26\"], [1.0, \"#f0f921\"]]}, \"colorway\": [\"#636efa\", \"#EF553B\", \"#00cc96\", \"#ab63fa\", \"#FFA15A\", \"#19d3f3\", \"#FF6692\", \"#B6E880\", \"#FF97FF\", \"#FECB52\"], \"font\": {\"color\": \"#2a3f5f\"}, \"geo\": {\"bgcolor\": \"white\", \"lakecolor\": \"white\", \"landcolor\": \"#E5ECF6\", \"showlakes\": true, \"showland\": true, \"subunitcolor\": \"white\"}, \"hoverlabel\": {\"align\": \"left\"}, \"hovermode\": \"closest\", \"mapbox\": {\"style\": \"light\"}, \"paper_bgcolor\": \"white\", \"plot_bgcolor\": \"#E5ECF6\", \"polar\": {\"angularaxis\": {\"gridcolor\": \"white\", \"linecolor\": \"white\", \"ticks\": \"\"}, \"bgcolor\": \"#E5ECF6\", \"radialaxis\": {\"gridcolor\": \"white\", \"linecolor\": \"white\", \"ticks\": \"\"}}, \"scene\": {\"xaxis\": {\"backgroundcolor\": \"#E5ECF6\", \"gridcolor\": \"white\", \"gridwidth\": 2, \"linecolor\": \"white\", \"showbackground\": true, \"ticks\": \"\", \"zerolinecolor\": \"white\"}, \"yaxis\": {\"backgroundcolor\": \"#E5ECF6\", \"gridcolor\": \"white\", \"gridwidth\": 2, \"linecolor\": \"white\", \"showbackground\": true, \"ticks\": \"\", \"zerolinecolor\": \"white\"}, \"zaxis\": {\"backgroundcolor\": \"#E5ECF6\", \"gridcolor\": \"white\", \"gridwidth\": 2, \"linecolor\": \"white\", \"showbackground\": true, \"ticks\": \"\", \"zerolinecolor\": \"white\"}}, \"shapedefaults\": {\"line\": {\"color\": \"#2a3f5f\"}}, \"ternary\": {\"aaxis\": {\"gridcolor\": \"white\", \"linecolor\": \"white\", \"ticks\": \"\"}, \"baxis\": {\"gridcolor\": \"white\", \"linecolor\": \"white\", \"ticks\": \"\"}, \"bgcolor\": \"#E5ECF6\", \"caxis\": {\"gridcolor\": \"white\", \"linecolor\": \"white\", \"ticks\": \"\"}}, \"title\": {\"x\": 0.05}, \"xaxis\": {\"automargin\": true, \"gridcolor\": \"white\", \"linecolor\": \"white\", \"ticks\": \"\", \"title\": {\"standoff\": 15}, \"zerolinecolor\": \"white\", \"zerolinewidth\": 2}, \"yaxis\": {\"automargin\": true, \"gridcolor\": \"white\", \"linecolor\": \"white\", \"ticks\": \"\", \"title\": {\"standoff\": 15}, \"zerolinecolor\": \"white\", \"zerolinewidth\": 2}}}, \"title\": {\"font\": {\"color\": \"#4D5663\"}}, \"xaxis\": {\"gridcolor\": \"#E1E5ED\", \"showgrid\": true, \"tickfont\": {\"color\": \"#4D5663\"}, \"title\": {\"font\": {\"color\": \"#4D5663\"}, \"text\": \"\"}, \"zerolinecolor\": \"#E1E5ED\"}, \"yaxis\": {\"gridcolor\": \"#E1E5ED\", \"showgrid\": true, \"tickfont\": {\"color\": \"#4D5663\"}, \"title\": {\"font\": {\"color\": \"#4D5663\"}, \"text\": \"\"}, \"zerolinecolor\": \"#E1E5ED\"}},                        {\"showLink\": true, \"linkText\": \"Export to plot.ly\", \"plotlyServerURL\": \"https://plot.ly\", \"responsive\": true}                    ).then(function(){\n",
       "                            \n",
       "var gd = document.getElementById('ab2e8bfc-eaf6-4b6f-aeb2-1348a475fd60');\n",
       "var x = new MutationObserver(function (mutations, observer) {{\n",
       "        var display = window.getComputedStyle(gd).display;\n",
       "        if (!display || display === 'none') {{\n",
       "            console.log([gd, 'removed!']);\n",
       "            Plotly.purge(gd);\n",
       "            observer.disconnect();\n",
       "        }}\n",
       "}});\n",
       "\n",
       "// Listen for the removal of the full notebook cells\n",
       "var notebookContainer = gd.closest('#notebook-container');\n",
       "if (notebookContainer) {{\n",
       "    x.observe(notebookContainer, {childList: true});\n",
       "}}\n",
       "\n",
       "// Listen for the clearing of the current output cell\n",
       "var outputEl = gd.closest('.output');\n",
       "if (outputEl) {{\n",
       "    x.observe(outputEl, {childList: true});\n",
       "}}\n",
       "\n",
       "                        })                };                });            </script>        </div>"
      ]
     },
     "metadata": {},
     "output_type": "display_data"
    }
   ],
   "source": [
    "df2.iplot(kind='bar', x='Category', y='Values')"
   ]
  },
  {
   "cell_type": "code",
   "execution_count": 12,
   "metadata": {},
   "outputs": [
    {
     "data": {
      "application/vnd.plotly.v1+json": {
       "config": {
        "linkText": "Export to plot.ly",
        "plotlyServerURL": "https://plot.ly",
        "showLink": true
       },
       "data": [
        {
         "marker": {
          "color": "rgba(255, 153, 51, 0.6)",
          "line": {
           "color": "rgba(255, 153, 51, 1.0)",
           "width": 1
          }
         },
         "name": "None",
         "orientation": "v",
         "text": "",
         "type": "bar",
         "x": [
          "A",
          "B",
          "C",
          "D"
         ],
         "y": [
          100,
          100,
          100,
          100
         ]
        }
       ],
       "layout": {
        "legend": {
         "bgcolor": "#F5F6F9",
         "font": {
          "color": "#4D5663"
         }
        },
        "paper_bgcolor": "#F5F6F9",
        "plot_bgcolor": "#F5F6F9",
        "template": {
         "data": {
          "bar": [
           {
            "error_x": {
             "color": "#2a3f5f"
            },
            "error_y": {
             "color": "#2a3f5f"
            },
            "marker": {
             "line": {
              "color": "#E5ECF6",
              "width": 0.5
             }
            },
            "type": "bar"
           }
          ],
          "barpolar": [
           {
            "marker": {
             "line": {
              "color": "#E5ECF6",
              "width": 0.5
             }
            },
            "type": "barpolar"
           }
          ],
          "carpet": [
           {
            "aaxis": {
             "endlinecolor": "#2a3f5f",
             "gridcolor": "white",
             "linecolor": "white",
             "minorgridcolor": "white",
             "startlinecolor": "#2a3f5f"
            },
            "baxis": {
             "endlinecolor": "#2a3f5f",
             "gridcolor": "white",
             "linecolor": "white",
             "minorgridcolor": "white",
             "startlinecolor": "#2a3f5f"
            },
            "type": "carpet"
           }
          ],
          "choropleth": [
           {
            "colorbar": {
             "outlinewidth": 0,
             "ticks": ""
            },
            "type": "choropleth"
           }
          ],
          "contour": [
           {
            "colorbar": {
             "outlinewidth": 0,
             "ticks": ""
            },
            "colorscale": [
             [
              0,
              "#0d0887"
             ],
             [
              0.1111111111111111,
              "#46039f"
             ],
             [
              0.2222222222222222,
              "#7201a8"
             ],
             [
              0.3333333333333333,
              "#9c179e"
             ],
             [
              0.4444444444444444,
              "#bd3786"
             ],
             [
              0.5555555555555556,
              "#d8576b"
             ],
             [
              0.6666666666666666,
              "#ed7953"
             ],
             [
              0.7777777777777778,
              "#fb9f3a"
             ],
             [
              0.8888888888888888,
              "#fdca26"
             ],
             [
              1,
              "#f0f921"
             ]
            ],
            "type": "contour"
           }
          ],
          "contourcarpet": [
           {
            "colorbar": {
             "outlinewidth": 0,
             "ticks": ""
            },
            "type": "contourcarpet"
           }
          ],
          "heatmap": [
           {
            "colorbar": {
             "outlinewidth": 0,
             "ticks": ""
            },
            "colorscale": [
             [
              0,
              "#0d0887"
             ],
             [
              0.1111111111111111,
              "#46039f"
             ],
             [
              0.2222222222222222,
              "#7201a8"
             ],
             [
              0.3333333333333333,
              "#9c179e"
             ],
             [
              0.4444444444444444,
              "#bd3786"
             ],
             [
              0.5555555555555556,
              "#d8576b"
             ],
             [
              0.6666666666666666,
              "#ed7953"
             ],
             [
              0.7777777777777778,
              "#fb9f3a"
             ],
             [
              0.8888888888888888,
              "#fdca26"
             ],
             [
              1,
              "#f0f921"
             ]
            ],
            "type": "heatmap"
           }
          ],
          "heatmapgl": [
           {
            "colorbar": {
             "outlinewidth": 0,
             "ticks": ""
            },
            "colorscale": [
             [
              0,
              "#0d0887"
             ],
             [
              0.1111111111111111,
              "#46039f"
             ],
             [
              0.2222222222222222,
              "#7201a8"
             ],
             [
              0.3333333333333333,
              "#9c179e"
             ],
             [
              0.4444444444444444,
              "#bd3786"
             ],
             [
              0.5555555555555556,
              "#d8576b"
             ],
             [
              0.6666666666666666,
              "#ed7953"
             ],
             [
              0.7777777777777778,
              "#fb9f3a"
             ],
             [
              0.8888888888888888,
              "#fdca26"
             ],
             [
              1,
              "#f0f921"
             ]
            ],
            "type": "heatmapgl"
           }
          ],
          "histogram": [
           {
            "marker": {
             "colorbar": {
              "outlinewidth": 0,
              "ticks": ""
             }
            },
            "type": "histogram"
           }
          ],
          "histogram2d": [
           {
            "colorbar": {
             "outlinewidth": 0,
             "ticks": ""
            },
            "colorscale": [
             [
              0,
              "#0d0887"
             ],
             [
              0.1111111111111111,
              "#46039f"
             ],
             [
              0.2222222222222222,
              "#7201a8"
             ],
             [
              0.3333333333333333,
              "#9c179e"
             ],
             [
              0.4444444444444444,
              "#bd3786"
             ],
             [
              0.5555555555555556,
              "#d8576b"
             ],
             [
              0.6666666666666666,
              "#ed7953"
             ],
             [
              0.7777777777777778,
              "#fb9f3a"
             ],
             [
              0.8888888888888888,
              "#fdca26"
             ],
             [
              1,
              "#f0f921"
             ]
            ],
            "type": "histogram2d"
           }
          ],
          "histogram2dcontour": [
           {
            "colorbar": {
             "outlinewidth": 0,
             "ticks": ""
            },
            "colorscale": [
             [
              0,
              "#0d0887"
             ],
             [
              0.1111111111111111,
              "#46039f"
             ],
             [
              0.2222222222222222,
              "#7201a8"
             ],
             [
              0.3333333333333333,
              "#9c179e"
             ],
             [
              0.4444444444444444,
              "#bd3786"
             ],
             [
              0.5555555555555556,
              "#d8576b"
             ],
             [
              0.6666666666666666,
              "#ed7953"
             ],
             [
              0.7777777777777778,
              "#fb9f3a"
             ],
             [
              0.8888888888888888,
              "#fdca26"
             ],
             [
              1,
              "#f0f921"
             ]
            ],
            "type": "histogram2dcontour"
           }
          ],
          "mesh3d": [
           {
            "colorbar": {
             "outlinewidth": 0,
             "ticks": ""
            },
            "type": "mesh3d"
           }
          ],
          "parcoords": [
           {
            "line": {
             "colorbar": {
              "outlinewidth": 0,
              "ticks": ""
             }
            },
            "type": "parcoords"
           }
          ],
          "pie": [
           {
            "automargin": true,
            "type": "pie"
           }
          ],
          "scatter": [
           {
            "marker": {
             "colorbar": {
              "outlinewidth": 0,
              "ticks": ""
             }
            },
            "type": "scatter"
           }
          ],
          "scatter3d": [
           {
            "line": {
             "colorbar": {
              "outlinewidth": 0,
              "ticks": ""
             }
            },
            "marker": {
             "colorbar": {
              "outlinewidth": 0,
              "ticks": ""
             }
            },
            "type": "scatter3d"
           }
          ],
          "scattercarpet": [
           {
            "marker": {
             "colorbar": {
              "outlinewidth": 0,
              "ticks": ""
             }
            },
            "type": "scattercarpet"
           }
          ],
          "scattergeo": [
           {
            "marker": {
             "colorbar": {
              "outlinewidth": 0,
              "ticks": ""
             }
            },
            "type": "scattergeo"
           }
          ],
          "scattergl": [
           {
            "marker": {
             "colorbar": {
              "outlinewidth": 0,
              "ticks": ""
             }
            },
            "type": "scattergl"
           }
          ],
          "scattermapbox": [
           {
            "marker": {
             "colorbar": {
              "outlinewidth": 0,
              "ticks": ""
             }
            },
            "type": "scattermapbox"
           }
          ],
          "scatterpolar": [
           {
            "marker": {
             "colorbar": {
              "outlinewidth": 0,
              "ticks": ""
             }
            },
            "type": "scatterpolar"
           }
          ],
          "scatterpolargl": [
           {
            "marker": {
             "colorbar": {
              "outlinewidth": 0,
              "ticks": ""
             }
            },
            "type": "scatterpolargl"
           }
          ],
          "scatterternary": [
           {
            "marker": {
             "colorbar": {
              "outlinewidth": 0,
              "ticks": ""
             }
            },
            "type": "scatterternary"
           }
          ],
          "surface": [
           {
            "colorbar": {
             "outlinewidth": 0,
             "ticks": ""
            },
            "colorscale": [
             [
              0,
              "#0d0887"
             ],
             [
              0.1111111111111111,
              "#46039f"
             ],
             [
              0.2222222222222222,
              "#7201a8"
             ],
             [
              0.3333333333333333,
              "#9c179e"
             ],
             [
              0.4444444444444444,
              "#bd3786"
             ],
             [
              0.5555555555555556,
              "#d8576b"
             ],
             [
              0.6666666666666666,
              "#ed7953"
             ],
             [
              0.7777777777777778,
              "#fb9f3a"
             ],
             [
              0.8888888888888888,
              "#fdca26"
             ],
             [
              1,
              "#f0f921"
             ]
            ],
            "type": "surface"
           }
          ],
          "table": [
           {
            "cells": {
             "fill": {
              "color": "#EBF0F8"
             },
             "line": {
              "color": "white"
             }
            },
            "header": {
             "fill": {
              "color": "#C8D4E3"
             },
             "line": {
              "color": "white"
             }
            },
            "type": "table"
           }
          ]
         },
         "layout": {
          "annotationdefaults": {
           "arrowcolor": "#2a3f5f",
           "arrowhead": 0,
           "arrowwidth": 1
          },
          "coloraxis": {
           "colorbar": {
            "outlinewidth": 0,
            "ticks": ""
           }
          },
          "colorscale": {
           "diverging": [
            [
             0,
             "#8e0152"
            ],
            [
             0.1,
             "#c51b7d"
            ],
            [
             0.2,
             "#de77ae"
            ],
            [
             0.3,
             "#f1b6da"
            ],
            [
             0.4,
             "#fde0ef"
            ],
            [
             0.5,
             "#f7f7f7"
            ],
            [
             0.6,
             "#e6f5d0"
            ],
            [
             0.7,
             "#b8e186"
            ],
            [
             0.8,
             "#7fbc41"
            ],
            [
             0.9,
             "#4d9221"
            ],
            [
             1,
             "#276419"
            ]
           ],
           "sequential": [
            [
             0,
             "#0d0887"
            ],
            [
             0.1111111111111111,
             "#46039f"
            ],
            [
             0.2222222222222222,
             "#7201a8"
            ],
            [
             0.3333333333333333,
             "#9c179e"
            ],
            [
             0.4444444444444444,
             "#bd3786"
            ],
            [
             0.5555555555555556,
             "#d8576b"
            ],
            [
             0.6666666666666666,
             "#ed7953"
            ],
            [
             0.7777777777777778,
             "#fb9f3a"
            ],
            [
             0.8888888888888888,
             "#fdca26"
            ],
            [
             1,
             "#f0f921"
            ]
           ],
           "sequentialminus": [
            [
             0,
             "#0d0887"
            ],
            [
             0.1111111111111111,
             "#46039f"
            ],
            [
             0.2222222222222222,
             "#7201a8"
            ],
            [
             0.3333333333333333,
             "#9c179e"
            ],
            [
             0.4444444444444444,
             "#bd3786"
            ],
            [
             0.5555555555555556,
             "#d8576b"
            ],
            [
             0.6666666666666666,
             "#ed7953"
            ],
            [
             0.7777777777777778,
             "#fb9f3a"
            ],
            [
             0.8888888888888888,
             "#fdca26"
            ],
            [
             1,
             "#f0f921"
            ]
           ]
          },
          "colorway": [
           "#636efa",
           "#EF553B",
           "#00cc96",
           "#ab63fa",
           "#FFA15A",
           "#19d3f3",
           "#FF6692",
           "#B6E880",
           "#FF97FF",
           "#FECB52"
          ],
          "font": {
           "color": "#2a3f5f"
          },
          "geo": {
           "bgcolor": "white",
           "lakecolor": "white",
           "landcolor": "#E5ECF6",
           "showlakes": true,
           "showland": true,
           "subunitcolor": "white"
          },
          "hoverlabel": {
           "align": "left"
          },
          "hovermode": "closest",
          "mapbox": {
           "style": "light"
          },
          "paper_bgcolor": "white",
          "plot_bgcolor": "#E5ECF6",
          "polar": {
           "angularaxis": {
            "gridcolor": "white",
            "linecolor": "white",
            "ticks": ""
           },
           "bgcolor": "#E5ECF6",
           "radialaxis": {
            "gridcolor": "white",
            "linecolor": "white",
            "ticks": ""
           }
          },
          "scene": {
           "xaxis": {
            "backgroundcolor": "#E5ECF6",
            "gridcolor": "white",
            "gridwidth": 2,
            "linecolor": "white",
            "showbackground": true,
            "ticks": "",
            "zerolinecolor": "white"
           },
           "yaxis": {
            "backgroundcolor": "#E5ECF6",
            "gridcolor": "white",
            "gridwidth": 2,
            "linecolor": "white",
            "showbackground": true,
            "ticks": "",
            "zerolinecolor": "white"
           },
           "zaxis": {
            "backgroundcolor": "#E5ECF6",
            "gridcolor": "white",
            "gridwidth": 2,
            "linecolor": "white",
            "showbackground": true,
            "ticks": "",
            "zerolinecolor": "white"
           }
          },
          "shapedefaults": {
           "line": {
            "color": "#2a3f5f"
           }
          },
          "ternary": {
           "aaxis": {
            "gridcolor": "white",
            "linecolor": "white",
            "ticks": ""
           },
           "baxis": {
            "gridcolor": "white",
            "linecolor": "white",
            "ticks": ""
           },
           "bgcolor": "#E5ECF6",
           "caxis": {
            "gridcolor": "white",
            "linecolor": "white",
            "ticks": ""
           }
          },
          "title": {
           "x": 0.05
          },
          "xaxis": {
           "automargin": true,
           "gridcolor": "white",
           "linecolor": "white",
           "ticks": "",
           "title": {
            "standoff": 15
           },
           "zerolinecolor": "white",
           "zerolinewidth": 2
          },
          "yaxis": {
           "automargin": true,
           "gridcolor": "white",
           "linecolor": "white",
           "ticks": "",
           "title": {
            "standoff": 15
           },
           "zerolinecolor": "white",
           "zerolinewidth": 2
          }
         }
        },
        "title": {
         "font": {
          "color": "#4D5663"
         }
        },
        "xaxis": {
         "gridcolor": "#E1E5ED",
         "showgrid": true,
         "tickfont": {
          "color": "#4D5663"
         },
         "title": {
          "font": {
           "color": "#4D5663"
          },
          "text": ""
         },
         "zerolinecolor": "#E1E5ED"
        },
        "yaxis": {
         "gridcolor": "#E1E5ED",
         "showgrid": true,
         "tickfont": {
          "color": "#4D5663"
         },
         "title": {
          "font": {
           "color": "#4D5663"
          },
          "text": ""
         },
         "zerolinecolor": "#E1E5ED"
        }
       }
      },
      "text/html": [
       "<div>                            <div id=\"3ec8d999-3f7d-428d-8ff5-54c4b4df5880\" class=\"plotly-graph-div\" style=\"height:525px; width:100%;\"></div>            <script type=\"text/javascript\">                require([\"plotly\"], function(Plotly) {                    window.PLOTLYENV=window.PLOTLYENV || {};\n",
       "                    window.PLOTLYENV.BASE_URL='https://plot.ly';                                    if (document.getElementById(\"3ec8d999-3f7d-428d-8ff5-54c4b4df5880\")) {                    Plotly.newPlot(                        \"3ec8d999-3f7d-428d-8ff5-54c4b4df5880\",                        [{\"marker\": {\"color\": \"rgba(255, 153, 51, 0.6)\", \"line\": {\"color\": \"rgba(255, 153, 51, 1.0)\", \"width\": 1}}, \"name\": \"None\", \"orientation\": \"v\", \"text\": \"\", \"type\": \"bar\", \"x\": [\"A\", \"B\", \"C\", \"D\"], \"y\": [100, 100, 100, 100]}],                        {\"legend\": {\"bgcolor\": \"#F5F6F9\", \"font\": {\"color\": \"#4D5663\"}}, \"paper_bgcolor\": \"#F5F6F9\", \"plot_bgcolor\": \"#F5F6F9\", \"template\": {\"data\": {\"bar\": [{\"error_x\": {\"color\": \"#2a3f5f\"}, \"error_y\": {\"color\": \"#2a3f5f\"}, \"marker\": {\"line\": {\"color\": \"#E5ECF6\", \"width\": 0.5}}, \"type\": \"bar\"}], \"barpolar\": [{\"marker\": {\"line\": {\"color\": \"#E5ECF6\", \"width\": 0.5}}, \"type\": \"barpolar\"}], \"carpet\": [{\"aaxis\": {\"endlinecolor\": \"#2a3f5f\", \"gridcolor\": \"white\", \"linecolor\": \"white\", \"minorgridcolor\": \"white\", \"startlinecolor\": \"#2a3f5f\"}, \"baxis\": {\"endlinecolor\": \"#2a3f5f\", \"gridcolor\": \"white\", \"linecolor\": \"white\", \"minorgridcolor\": \"white\", \"startlinecolor\": \"#2a3f5f\"}, \"type\": \"carpet\"}], \"choropleth\": [{\"colorbar\": {\"outlinewidth\": 0, \"ticks\": \"\"}, \"type\": \"choropleth\"}], \"contour\": [{\"colorbar\": {\"outlinewidth\": 0, \"ticks\": \"\"}, \"colorscale\": [[0.0, \"#0d0887\"], [0.1111111111111111, \"#46039f\"], [0.2222222222222222, \"#7201a8\"], [0.3333333333333333, \"#9c179e\"], [0.4444444444444444, \"#bd3786\"], [0.5555555555555556, \"#d8576b\"], [0.6666666666666666, \"#ed7953\"], [0.7777777777777778, \"#fb9f3a\"], [0.8888888888888888, \"#fdca26\"], [1.0, \"#f0f921\"]], \"type\": \"contour\"}], \"contourcarpet\": [{\"colorbar\": {\"outlinewidth\": 0, \"ticks\": \"\"}, \"type\": \"contourcarpet\"}], \"heatmap\": [{\"colorbar\": {\"outlinewidth\": 0, \"ticks\": \"\"}, \"colorscale\": [[0.0, \"#0d0887\"], [0.1111111111111111, \"#46039f\"], [0.2222222222222222, \"#7201a8\"], [0.3333333333333333, \"#9c179e\"], [0.4444444444444444, \"#bd3786\"], [0.5555555555555556, \"#d8576b\"], [0.6666666666666666, \"#ed7953\"], [0.7777777777777778, \"#fb9f3a\"], [0.8888888888888888, \"#fdca26\"], [1.0, \"#f0f921\"]], \"type\": \"heatmap\"}], \"heatmapgl\": [{\"colorbar\": {\"outlinewidth\": 0, \"ticks\": \"\"}, \"colorscale\": [[0.0, \"#0d0887\"], [0.1111111111111111, \"#46039f\"], [0.2222222222222222, \"#7201a8\"], [0.3333333333333333, \"#9c179e\"], [0.4444444444444444, \"#bd3786\"], [0.5555555555555556, \"#d8576b\"], [0.6666666666666666, \"#ed7953\"], [0.7777777777777778, \"#fb9f3a\"], [0.8888888888888888, \"#fdca26\"], [1.0, \"#f0f921\"]], \"type\": \"heatmapgl\"}], \"histogram\": [{\"marker\": {\"colorbar\": {\"outlinewidth\": 0, \"ticks\": \"\"}}, \"type\": \"histogram\"}], \"histogram2d\": [{\"colorbar\": {\"outlinewidth\": 0, \"ticks\": \"\"}, \"colorscale\": [[0.0, \"#0d0887\"], [0.1111111111111111, \"#46039f\"], [0.2222222222222222, \"#7201a8\"], [0.3333333333333333, \"#9c179e\"], [0.4444444444444444, \"#bd3786\"], [0.5555555555555556, \"#d8576b\"], [0.6666666666666666, \"#ed7953\"], [0.7777777777777778, \"#fb9f3a\"], [0.8888888888888888, \"#fdca26\"], [1.0, \"#f0f921\"]], \"type\": \"histogram2d\"}], \"histogram2dcontour\": [{\"colorbar\": {\"outlinewidth\": 0, \"ticks\": \"\"}, \"colorscale\": [[0.0, \"#0d0887\"], [0.1111111111111111, \"#46039f\"], [0.2222222222222222, \"#7201a8\"], [0.3333333333333333, \"#9c179e\"], [0.4444444444444444, \"#bd3786\"], [0.5555555555555556, \"#d8576b\"], [0.6666666666666666, \"#ed7953\"], [0.7777777777777778, \"#fb9f3a\"], [0.8888888888888888, \"#fdca26\"], [1.0, \"#f0f921\"]], \"type\": \"histogram2dcontour\"}], \"mesh3d\": [{\"colorbar\": {\"outlinewidth\": 0, \"ticks\": \"\"}, \"type\": \"mesh3d\"}], \"parcoords\": [{\"line\": {\"colorbar\": {\"outlinewidth\": 0, \"ticks\": \"\"}}, \"type\": \"parcoords\"}], \"pie\": [{\"automargin\": true, \"type\": \"pie\"}], \"scatter\": [{\"marker\": {\"colorbar\": {\"outlinewidth\": 0, \"ticks\": \"\"}}, \"type\": \"scatter\"}], \"scatter3d\": [{\"line\": {\"colorbar\": {\"outlinewidth\": 0, \"ticks\": \"\"}}, \"marker\": {\"colorbar\": {\"outlinewidth\": 0, \"ticks\": \"\"}}, \"type\": \"scatter3d\"}], \"scattercarpet\": [{\"marker\": {\"colorbar\": {\"outlinewidth\": 0, \"ticks\": \"\"}}, \"type\": \"scattercarpet\"}], \"scattergeo\": [{\"marker\": {\"colorbar\": {\"outlinewidth\": 0, \"ticks\": \"\"}}, \"type\": \"scattergeo\"}], \"scattergl\": [{\"marker\": {\"colorbar\": {\"outlinewidth\": 0, \"ticks\": \"\"}}, \"type\": \"scattergl\"}], \"scattermapbox\": [{\"marker\": {\"colorbar\": {\"outlinewidth\": 0, \"ticks\": \"\"}}, \"type\": \"scattermapbox\"}], \"scatterpolar\": [{\"marker\": {\"colorbar\": {\"outlinewidth\": 0, \"ticks\": \"\"}}, \"type\": \"scatterpolar\"}], \"scatterpolargl\": [{\"marker\": {\"colorbar\": {\"outlinewidth\": 0, \"ticks\": \"\"}}, \"type\": \"scatterpolargl\"}], \"scatterternary\": [{\"marker\": {\"colorbar\": {\"outlinewidth\": 0, \"ticks\": \"\"}}, \"type\": \"scatterternary\"}], \"surface\": [{\"colorbar\": {\"outlinewidth\": 0, \"ticks\": \"\"}, \"colorscale\": [[0.0, \"#0d0887\"], [0.1111111111111111, \"#46039f\"], [0.2222222222222222, \"#7201a8\"], [0.3333333333333333, \"#9c179e\"], [0.4444444444444444, \"#bd3786\"], [0.5555555555555556, \"#d8576b\"], [0.6666666666666666, \"#ed7953\"], [0.7777777777777778, \"#fb9f3a\"], [0.8888888888888888, \"#fdca26\"], [1.0, \"#f0f921\"]], \"type\": \"surface\"}], \"table\": [{\"cells\": {\"fill\": {\"color\": \"#EBF0F8\"}, \"line\": {\"color\": \"white\"}}, \"header\": {\"fill\": {\"color\": \"#C8D4E3\"}, \"line\": {\"color\": \"white\"}}, \"type\": \"table\"}]}, \"layout\": {\"annotationdefaults\": {\"arrowcolor\": \"#2a3f5f\", \"arrowhead\": 0, \"arrowwidth\": 1}, \"coloraxis\": {\"colorbar\": {\"outlinewidth\": 0, \"ticks\": \"\"}}, \"colorscale\": {\"diverging\": [[0, \"#8e0152\"], [0.1, \"#c51b7d\"], [0.2, \"#de77ae\"], [0.3, \"#f1b6da\"], [0.4, \"#fde0ef\"], [0.5, \"#f7f7f7\"], [0.6, \"#e6f5d0\"], [0.7, \"#b8e186\"], [0.8, \"#7fbc41\"], [0.9, \"#4d9221\"], [1, \"#276419\"]], \"sequential\": [[0.0, \"#0d0887\"], [0.1111111111111111, \"#46039f\"], [0.2222222222222222, \"#7201a8\"], [0.3333333333333333, \"#9c179e\"], [0.4444444444444444, \"#bd3786\"], [0.5555555555555556, \"#d8576b\"], [0.6666666666666666, \"#ed7953\"], [0.7777777777777778, \"#fb9f3a\"], [0.8888888888888888, \"#fdca26\"], [1.0, \"#f0f921\"]], \"sequentialminus\": [[0.0, \"#0d0887\"], [0.1111111111111111, \"#46039f\"], [0.2222222222222222, \"#7201a8\"], [0.3333333333333333, \"#9c179e\"], [0.4444444444444444, \"#bd3786\"], [0.5555555555555556, \"#d8576b\"], [0.6666666666666666, \"#ed7953\"], [0.7777777777777778, \"#fb9f3a\"], [0.8888888888888888, \"#fdca26\"], [1.0, \"#f0f921\"]]}, \"colorway\": [\"#636efa\", \"#EF553B\", \"#00cc96\", \"#ab63fa\", \"#FFA15A\", \"#19d3f3\", \"#FF6692\", \"#B6E880\", \"#FF97FF\", \"#FECB52\"], \"font\": {\"color\": \"#2a3f5f\"}, \"geo\": {\"bgcolor\": \"white\", \"lakecolor\": \"white\", \"landcolor\": \"#E5ECF6\", \"showlakes\": true, \"showland\": true, \"subunitcolor\": \"white\"}, \"hoverlabel\": {\"align\": \"left\"}, \"hovermode\": \"closest\", \"mapbox\": {\"style\": \"light\"}, \"paper_bgcolor\": \"white\", \"plot_bgcolor\": \"#E5ECF6\", \"polar\": {\"angularaxis\": {\"gridcolor\": \"white\", \"linecolor\": \"white\", \"ticks\": \"\"}, \"bgcolor\": \"#E5ECF6\", \"radialaxis\": {\"gridcolor\": \"white\", \"linecolor\": \"white\", \"ticks\": \"\"}}, \"scene\": {\"xaxis\": {\"backgroundcolor\": \"#E5ECF6\", \"gridcolor\": \"white\", \"gridwidth\": 2, \"linecolor\": \"white\", \"showbackground\": true, \"ticks\": \"\", \"zerolinecolor\": \"white\"}, \"yaxis\": {\"backgroundcolor\": \"#E5ECF6\", \"gridcolor\": \"white\", \"gridwidth\": 2, \"linecolor\": \"white\", \"showbackground\": true, \"ticks\": \"\", \"zerolinecolor\": \"white\"}, \"zaxis\": {\"backgroundcolor\": \"#E5ECF6\", \"gridcolor\": \"white\", \"gridwidth\": 2, \"linecolor\": \"white\", \"showbackground\": true, \"ticks\": \"\", \"zerolinecolor\": \"white\"}}, \"shapedefaults\": {\"line\": {\"color\": \"#2a3f5f\"}}, \"ternary\": {\"aaxis\": {\"gridcolor\": \"white\", \"linecolor\": \"white\", \"ticks\": \"\"}, \"baxis\": {\"gridcolor\": \"white\", \"linecolor\": \"white\", \"ticks\": \"\"}, \"bgcolor\": \"#E5ECF6\", \"caxis\": {\"gridcolor\": \"white\", \"linecolor\": \"white\", \"ticks\": \"\"}}, \"title\": {\"x\": 0.05}, \"xaxis\": {\"automargin\": true, \"gridcolor\": \"white\", \"linecolor\": \"white\", \"ticks\": \"\", \"title\": {\"standoff\": 15}, \"zerolinecolor\": \"white\", \"zerolinewidth\": 2}, \"yaxis\": {\"automargin\": true, \"gridcolor\": \"white\", \"linecolor\": \"white\", \"ticks\": \"\", \"title\": {\"standoff\": 15}, \"zerolinecolor\": \"white\", \"zerolinewidth\": 2}}}, \"title\": {\"font\": {\"color\": \"#4D5663\"}}, \"xaxis\": {\"gridcolor\": \"#E1E5ED\", \"showgrid\": true, \"tickfont\": {\"color\": \"#4D5663\"}, \"title\": {\"font\": {\"color\": \"#4D5663\"}, \"text\": \"\"}, \"zerolinecolor\": \"#E1E5ED\"}, \"yaxis\": {\"gridcolor\": \"#E1E5ED\", \"showgrid\": true, \"tickfont\": {\"color\": \"#4D5663\"}, \"title\": {\"font\": {\"color\": \"#4D5663\"}, \"text\": \"\"}, \"zerolinecolor\": \"#E1E5ED\"}},                        {\"showLink\": true, \"linkText\": \"Export to plot.ly\", \"plotlyServerURL\": \"https://plot.ly\", \"responsive\": true}                    ).then(function(){\n",
       "                            \n",
       "var gd = document.getElementById('3ec8d999-3f7d-428d-8ff5-54c4b4df5880');\n",
       "var x = new MutationObserver(function (mutations, observer) {{\n",
       "        var display = window.getComputedStyle(gd).display;\n",
       "        if (!display || display === 'none') {{\n",
       "            console.log([gd, 'removed!']);\n",
       "            Plotly.purge(gd);\n",
       "            observer.disconnect();\n",
       "        }}\n",
       "}});\n",
       "\n",
       "// Listen for the removal of the full notebook cells\n",
       "var notebookContainer = gd.closest('#notebook-container');\n",
       "if (notebookContainer) {{\n",
       "    x.observe(notebookContainer, {childList: true});\n",
       "}}\n",
       "\n",
       "// Listen for the clearing of the current output cell\n",
       "var outputEl = gd.closest('.output');\n",
       "if (outputEl) {{\n",
       "    x.observe(outputEl, {childList: true});\n",
       "}}\n",
       "\n",
       "                        })                };                });            </script>        </div>"
      ]
     },
     "metadata": {},
     "output_type": "display_data"
    }
   ],
   "source": [
    "fake_df.count().iplot(kind='bar')"
   ]
  },
  {
   "cell_type": "code",
   "execution_count": 13,
   "metadata": {},
   "outputs": [
    {
     "data": {
      "application/vnd.plotly.v1+json": {
       "config": {
        "linkText": "Export to plot.ly",
        "plotlyServerURL": "https://plot.ly",
        "showLink": true
       },
       "data": [
        {
         "boxpoints": false,
         "line": {
          "width": 1.3
         },
         "marker": {
          "color": "rgba(255, 153, 51, 1.0)"
         },
         "name": "A",
         "orientation": "v",
         "type": "box",
         "y": [
          -0.30202016863775033,
          -0.28564555846571377,
          0.4476704948481836,
          -0.7162322499431878,
          -1.1752084454356209,
          0.037922946952660096,
          -0.4784580310902896,
          -0.8127219470868241,
          -0.2015463810609984,
          -1.2477309120841387,
          0.33416595599237875,
          -0.3925825214642993,
          0.8483162327766754,
          1.4017593159498198,
          -0.24447542578970963,
          0.3268425653949366,
          0.7896328968946461,
          0.05003230055379049,
          0.8713596231470593,
          -0.36768247294659173,
          1.456695935256,
          0.09086717022177927,
          0.8308289690395506,
          0.4570302705052343,
          1.641725152630206,
          -0.34337193630447227,
          -0.6899548045806325,
          -1.4989669498743878,
          -0.4990655862049401,
          -1.2763195565688894,
          -0.5841927721605572,
          -0.6531615312082533,
          -1.544688058823571,
          1.241823683012709,
          0.36670402575200034,
          0.36785862000313696,
          -0.4251916229702931,
          -1.1424611416885133,
          0.11744918233688426,
          -0.2943921274727523,
          -0.2630411797495611,
          1.1189450591825083,
          0.6771083217387999,
          -2.1007251081507516,
          -1.469901874723165,
          0.5804195589513341,
          -0.26050512490234284,
          2.2362929227372725,
          0.5190194687909312,
          -0.008163118768048035,
          -0.6611054621616541,
          1.36957273498277,
          0.57208163756899,
          0.12460374641094915,
          0.8356395402758129,
          -0.8335550054425519,
          -0.8946566144284955,
          -0.10099356338826994,
          0.04425297346768268,
          2.217770067273319,
          0.03522119302500431,
          -1.9869202369288799,
          -1.2508613408788938,
          0.09279898228614562,
          0.38692351076168063,
          -0.026236237411354904,
          -1.491069699311706,
          0.8294659536906288,
          0.6136776593807836,
          -0.8154202979633771,
          0.6293335815887414,
          -1.0923772889015413,
          0.7386223240270853,
          -0.68737966371764,
          -0.6422680828562675,
          0.7998127045023482,
          0.9217752449620659,
          0.04459918763480434,
          -0.445947653484942,
          -0.3773323373724564,
          0.4050137890893175,
          0.19591076972454038,
          -0.3532570369973499,
          -0.19817408743935175,
          -0.311181936508081,
          -0.5692973337611296,
          1.2737066010007103,
          0.33310651006183967,
          2.343367044548086,
          -0.4488947193251729,
          0.16005691450387768,
          -0.5608031062151607,
          -0.2592370006186431,
          -0.7117502976304382,
          -0.5122229220026929,
          0.9231576330805437,
          1.108977825338648,
          0.05946369407947916,
          -0.5664014911796487,
          0.5891591881972967
         ]
        },
        {
         "boxpoints": false,
         "line": {
          "width": 1.3
         },
         "marker": {
          "color": "rgba(55, 128, 191, 1.0)"
         },
         "name": "B",
         "orientation": "v",
         "type": "box",
         "y": [
          -0.8488668044204304,
          0.0829347754880924,
          0.5024352835101774,
          -1.555223408984092,
          -1.7161100299123155,
          0.13905529392350072,
          0.4697605231701461,
          -0.2067026939520887,
          -1.1575550785607536,
          1.0197452265500921,
          1.1202487101150227,
          1.5954620391368428,
          -0.4375092399621281,
          -0.47581549224960684,
          1.1853669230476602,
          -0.7970090865687269,
          -0.217834734307552,
          -0.9266855311136963,
          0.6925149520732994,
          -0.14063441315709707,
          1.3397844385147475,
          -0.1413885447509737,
          -0.3341614782625514,
          -1.0331617312485522,
          0.24434025389131428,
          1.5085738205782122,
          0.10463564901176917,
          -1.0951203549391761,
          -0.27409678695725026,
          0.420532769222361,
          0.44161004868931125,
          1.243251467420042,
          2.014541632056787,
          0.0005947858539945759,
          1.2239989488374874,
          -0.3249945539545311,
          0.11473621845710603,
          1.1583020744108352,
          0.33306800250962726,
          0.6084733116468805,
          0.2736092321470979,
          -1.5679830656702087,
          -0.06928753093902698,
          0.526425209767373,
          -0.01545031249896855,
          -0.2570800949369005,
          -0.4691911947167141,
          0.3670764942533598,
          0.9329487179609518,
          0.2795889554620296,
          -0.7792859324560443,
          1.320870561157038,
          -0.9628173239459669,
          1.0288747348344904,
          -0.31456248623952465,
          1.179250469511076,
          0.03272168521154292,
          -0.07204583648761341,
          1.1921789942533836,
          1.25019068010553,
          -0.03188346728559232,
          -0.1530268360484573,
          0.9831775188487099,
          -0.5267924542187926,
          -0.4053089572688673,
          -0.051938708052279375,
          0.45703909564713263,
          0.2642433727428654,
          0.5251885395153827,
          -0.0744890981195537,
          0.20179472075573884,
          -0.24260442894883943,
          -0.7655468244843483,
          -0.25466269286703574,
          1.3274099884767236,
          -1.8920515553120267,
          0.10540569529487552,
          1.0160601421792685,
          1.0480390651944593,
          -1.2983474014888645,
          -0.5118493322462478,
          -0.6211629820763115,
          -0.7131189561305936,
          -1.5519881153245678,
          0.3588037520991031,
          -0.7401347991919084,
          0.5898932362401884,
          0.6230541842326577,
          0.1469808884715823,
          -1.4909432837564347,
          0.16216809925339512,
          -0.24679042370819276,
          -0.30396064222875,
          1.064430955755844,
          0.3820227711156056,
          -1.9545417907404197,
          -0.8840834393902629,
          -0.8514764988023206,
          0.4516710603713084,
          -0.9713569710562179
         ]
        },
        {
         "boxpoints": false,
         "line": {
          "width": 1.3
         },
         "marker": {
          "color": "rgba(50, 171, 96, 1.0)"
         },
         "name": "C",
         "orientation": "v",
         "type": "box",
         "y": [
          -0.5325002392797077,
          1.2107826144635394,
          -0.12581857596195073,
          -1.065685346460432,
          1.6219974824957573,
          -0.932800678811066,
          -0.21316481203726712,
          0.763681120902737,
          1.098664206498667,
          0.36009215649075343,
          -0.664219816308787,
          0.07577184065638896,
          0.3031687581058567,
          0.6606870603906189,
          -0.5961486242453862,
          0.11231630657312325,
          0.7691043610978897,
          -0.3081123223215197,
          0.19559556136046366,
          1.4374690002280184,
          -0.8153210756978526,
          0.6813563452246516,
          -1.6382804382128886,
          0.08817865962915074,
          0.20261471758722485,
          -1.5184096422482465,
          -1.4305530017112984,
          -0.6953963924991731,
          -0.43994601001709965,
          0.22937454005128888,
          0.1447963167297178,
          1.4358227971455064,
          -0.7190175116891817,
          -0.31304105941454047,
          0.287214494791865,
          -1.3864896792827985,
          0.01238435443261473,
          -0.968968169580906,
          0.6757773935989444,
          0.28438830723664055,
          1.3939662961596828,
          0.848053334072673,
          -0.05146628439166784,
          0.13180154178313105,
          2.756987407554678,
          0.46855564383907744,
          1.0594874292830787,
          0.5036613275770189,
          1.647513334058284,
          -1.443885741626302,
          1.3359587953778,
          -0.5455285003845146,
          -0.461732199765846,
          -1.8435212714640112,
          0.4538100646615445,
          -0.72191357965643,
          -0.24374954965398982,
          -1.0252134615790376,
          -0.5165437210671675,
          -0.33161543392197307,
          -0.7431465286961032,
          -2.210006319910014,
          -0.46724628052367445,
          0.14586509253773433,
          0.14969459570682003,
          0.4191904426785085,
          -1.1344968632281076,
          0.10571054282160242,
          -0.7589371530008178,
          -1.0542016454475767,
          -1.0753202072880828,
          -1.664851074939344,
          -1.6675055030541586,
          -0.2331187171751215,
          2.4126159312201527,
          0.7389659801077011,
          0.3826710404007888,
          0.5817057566608924,
          0.9574718358569249,
          -2.0985324423193594,
          0.31289459728961866,
          2.5381461963041967,
          -1.1164237044150571,
          -0.0457752960357565,
          -1.2102654227507113,
          0.6626735232923587,
          -0.9294259573544665,
          -1.2753086464635068,
          0.19150764250023283,
          0.7682688889700511,
          1.5038416312088143,
          -0.41447058970720374,
          1.0473552330836675,
          1.6884234732045154,
          0.9931508514200323,
          -0.34211968075641724,
          -1.1649591956662277,
          0.8319726133234473,
          -1.343902562095212,
          -0.2943244448144205
         ]
        },
        {
         "boxpoints": false,
         "line": {
          "width": 1.3
         },
         "marker": {
          "color": "rgba(128, 0, 128, 1.0)"
         },
         "name": "D",
         "orientation": "v",
         "type": "box",
         "y": [
          -0.006679552459379296,
          0.07331242355470725,
          1.1083884810155544,
          -1.6565627117319746,
          1.9950862907185352,
          0.6454822575914453,
          -0.5329751906162492,
          0.08565999414797083,
          0.09036665290178467,
          0.7872452416416569,
          -0.11434170196201493,
          -1.121478936932661,
          1.1096696474770031,
          0.6516962960220379,
          0.30660602120926544,
          -0.7168392297450519,
          -0.7439065941431607,
          0.6615739709752352,
          0.6006997037973186,
          -0.6050611084460127,
          -0.5461260559653208,
          0.1424476018858292,
          -1.197176194136547,
          0.7877118711253404,
          -0.9714740266118284,
          0.7826606579329373,
          -1.1031652966404037,
          2.526889128554002,
          0.16190821155043775,
          0.23198501547302153,
          0.5640839786071568,
          -0.05016580642898075,
          -0.839410702329791,
          0.6050009318003485,
          -0.16029812562208612,
          1.406749582890268,
          -1.1054758672020175,
          -1.6119739180168078,
          0.10650295060254338,
          -2.405341139304213,
          -2.0421508646956816,
          -0.17350186796334538,
          0.9550293720956177,
          0.5477902853481688,
          0.5110778167745683,
          0.4722265299045946,
          1.5591630904039082,
          -0.9349337381021855,
          -0.5781747934802014,
          -1.4900496859060852,
          -1.3269327490502971,
          -1.5196913887016652,
          0.7246955385086876,
          0.3215005164422762,
          0.809400883045086,
          0.993649246025548,
          -0.6955478957649657,
          1.0991610580672215,
          0.7345554855186507,
          -0.3571925359950002,
          -1.885546923965419,
          0.36401272919883904,
          -0.16631902212605246,
          0.9779545406612402,
          0.7916705430955936,
          -0.12323039622039979,
          -0.15362030195387819,
          0.44797085347129084,
          0.8600083255740223,
          0.011826753737175896,
          0.809330990870958,
          -0.08388961558555602,
          0.011880834268739489,
          -1.663441440748334,
          -0.7993871903375428,
          1.076778701611559,
          -1.523272232833216,
          -0.10932247028663548,
          -0.5434321979726251,
          1.201096443987189,
          1.3161182808886254,
          0.5866559935034882,
          1.0748730161017475,
          -0.07604231452114252,
          -1.2254109513661653,
          -0.12882814874212412,
          -0.19471729771257273,
          0.6853427202832655,
          0.5741302146848836,
          0.6827993122440889,
          -0.8541546185222085,
          -0.4468302326950383,
          0.08934065712537255,
          1.4300258601533677,
          -0.28710963690331254,
          0.7304348651351046,
          0.9692019063696952,
          -0.6545210429290489,
          -0.5954381851103395,
          -0.3189286182100561
         ]
        }
       ],
       "layout": {
        "legend": {
         "bgcolor": "#F5F6F9",
         "font": {
          "color": "#4D5663"
         }
        },
        "paper_bgcolor": "#F5F6F9",
        "plot_bgcolor": "#F5F6F9",
        "template": {
         "data": {
          "bar": [
           {
            "error_x": {
             "color": "#2a3f5f"
            },
            "error_y": {
             "color": "#2a3f5f"
            },
            "marker": {
             "line": {
              "color": "#E5ECF6",
              "width": 0.5
             }
            },
            "type": "bar"
           }
          ],
          "barpolar": [
           {
            "marker": {
             "line": {
              "color": "#E5ECF6",
              "width": 0.5
             }
            },
            "type": "barpolar"
           }
          ],
          "carpet": [
           {
            "aaxis": {
             "endlinecolor": "#2a3f5f",
             "gridcolor": "white",
             "linecolor": "white",
             "minorgridcolor": "white",
             "startlinecolor": "#2a3f5f"
            },
            "baxis": {
             "endlinecolor": "#2a3f5f",
             "gridcolor": "white",
             "linecolor": "white",
             "minorgridcolor": "white",
             "startlinecolor": "#2a3f5f"
            },
            "type": "carpet"
           }
          ],
          "choropleth": [
           {
            "colorbar": {
             "outlinewidth": 0,
             "ticks": ""
            },
            "type": "choropleth"
           }
          ],
          "contour": [
           {
            "colorbar": {
             "outlinewidth": 0,
             "ticks": ""
            },
            "colorscale": [
             [
              0,
              "#0d0887"
             ],
             [
              0.1111111111111111,
              "#46039f"
             ],
             [
              0.2222222222222222,
              "#7201a8"
             ],
             [
              0.3333333333333333,
              "#9c179e"
             ],
             [
              0.4444444444444444,
              "#bd3786"
             ],
             [
              0.5555555555555556,
              "#d8576b"
             ],
             [
              0.6666666666666666,
              "#ed7953"
             ],
             [
              0.7777777777777778,
              "#fb9f3a"
             ],
             [
              0.8888888888888888,
              "#fdca26"
             ],
             [
              1,
              "#f0f921"
             ]
            ],
            "type": "contour"
           }
          ],
          "contourcarpet": [
           {
            "colorbar": {
             "outlinewidth": 0,
             "ticks": ""
            },
            "type": "contourcarpet"
           }
          ],
          "heatmap": [
           {
            "colorbar": {
             "outlinewidth": 0,
             "ticks": ""
            },
            "colorscale": [
             [
              0,
              "#0d0887"
             ],
             [
              0.1111111111111111,
              "#46039f"
             ],
             [
              0.2222222222222222,
              "#7201a8"
             ],
             [
              0.3333333333333333,
              "#9c179e"
             ],
             [
              0.4444444444444444,
              "#bd3786"
             ],
             [
              0.5555555555555556,
              "#d8576b"
             ],
             [
              0.6666666666666666,
              "#ed7953"
             ],
             [
              0.7777777777777778,
              "#fb9f3a"
             ],
             [
              0.8888888888888888,
              "#fdca26"
             ],
             [
              1,
              "#f0f921"
             ]
            ],
            "type": "heatmap"
           }
          ],
          "heatmapgl": [
           {
            "colorbar": {
             "outlinewidth": 0,
             "ticks": ""
            },
            "colorscale": [
             [
              0,
              "#0d0887"
             ],
             [
              0.1111111111111111,
              "#46039f"
             ],
             [
              0.2222222222222222,
              "#7201a8"
             ],
             [
              0.3333333333333333,
              "#9c179e"
             ],
             [
              0.4444444444444444,
              "#bd3786"
             ],
             [
              0.5555555555555556,
              "#d8576b"
             ],
             [
              0.6666666666666666,
              "#ed7953"
             ],
             [
              0.7777777777777778,
              "#fb9f3a"
             ],
             [
              0.8888888888888888,
              "#fdca26"
             ],
             [
              1,
              "#f0f921"
             ]
            ],
            "type": "heatmapgl"
           }
          ],
          "histogram": [
           {
            "marker": {
             "colorbar": {
              "outlinewidth": 0,
              "ticks": ""
             }
            },
            "type": "histogram"
           }
          ],
          "histogram2d": [
           {
            "colorbar": {
             "outlinewidth": 0,
             "ticks": ""
            },
            "colorscale": [
             [
              0,
              "#0d0887"
             ],
             [
              0.1111111111111111,
              "#46039f"
             ],
             [
              0.2222222222222222,
              "#7201a8"
             ],
             [
              0.3333333333333333,
              "#9c179e"
             ],
             [
              0.4444444444444444,
              "#bd3786"
             ],
             [
              0.5555555555555556,
              "#d8576b"
             ],
             [
              0.6666666666666666,
              "#ed7953"
             ],
             [
              0.7777777777777778,
              "#fb9f3a"
             ],
             [
              0.8888888888888888,
              "#fdca26"
             ],
             [
              1,
              "#f0f921"
             ]
            ],
            "type": "histogram2d"
           }
          ],
          "histogram2dcontour": [
           {
            "colorbar": {
             "outlinewidth": 0,
             "ticks": ""
            },
            "colorscale": [
             [
              0,
              "#0d0887"
             ],
             [
              0.1111111111111111,
              "#46039f"
             ],
             [
              0.2222222222222222,
              "#7201a8"
             ],
             [
              0.3333333333333333,
              "#9c179e"
             ],
             [
              0.4444444444444444,
              "#bd3786"
             ],
             [
              0.5555555555555556,
              "#d8576b"
             ],
             [
              0.6666666666666666,
              "#ed7953"
             ],
             [
              0.7777777777777778,
              "#fb9f3a"
             ],
             [
              0.8888888888888888,
              "#fdca26"
             ],
             [
              1,
              "#f0f921"
             ]
            ],
            "type": "histogram2dcontour"
           }
          ],
          "mesh3d": [
           {
            "colorbar": {
             "outlinewidth": 0,
             "ticks": ""
            },
            "type": "mesh3d"
           }
          ],
          "parcoords": [
           {
            "line": {
             "colorbar": {
              "outlinewidth": 0,
              "ticks": ""
             }
            },
            "type": "parcoords"
           }
          ],
          "pie": [
           {
            "automargin": true,
            "type": "pie"
           }
          ],
          "scatter": [
           {
            "marker": {
             "colorbar": {
              "outlinewidth": 0,
              "ticks": ""
             }
            },
            "type": "scatter"
           }
          ],
          "scatter3d": [
           {
            "line": {
             "colorbar": {
              "outlinewidth": 0,
              "ticks": ""
             }
            },
            "marker": {
             "colorbar": {
              "outlinewidth": 0,
              "ticks": ""
             }
            },
            "type": "scatter3d"
           }
          ],
          "scattercarpet": [
           {
            "marker": {
             "colorbar": {
              "outlinewidth": 0,
              "ticks": ""
             }
            },
            "type": "scattercarpet"
           }
          ],
          "scattergeo": [
           {
            "marker": {
             "colorbar": {
              "outlinewidth": 0,
              "ticks": ""
             }
            },
            "type": "scattergeo"
           }
          ],
          "scattergl": [
           {
            "marker": {
             "colorbar": {
              "outlinewidth": 0,
              "ticks": ""
             }
            },
            "type": "scattergl"
           }
          ],
          "scattermapbox": [
           {
            "marker": {
             "colorbar": {
              "outlinewidth": 0,
              "ticks": ""
             }
            },
            "type": "scattermapbox"
           }
          ],
          "scatterpolar": [
           {
            "marker": {
             "colorbar": {
              "outlinewidth": 0,
              "ticks": ""
             }
            },
            "type": "scatterpolar"
           }
          ],
          "scatterpolargl": [
           {
            "marker": {
             "colorbar": {
              "outlinewidth": 0,
              "ticks": ""
             }
            },
            "type": "scatterpolargl"
           }
          ],
          "scatterternary": [
           {
            "marker": {
             "colorbar": {
              "outlinewidth": 0,
              "ticks": ""
             }
            },
            "type": "scatterternary"
           }
          ],
          "surface": [
           {
            "colorbar": {
             "outlinewidth": 0,
             "ticks": ""
            },
            "colorscale": [
             [
              0,
              "#0d0887"
             ],
             [
              0.1111111111111111,
              "#46039f"
             ],
             [
              0.2222222222222222,
              "#7201a8"
             ],
             [
              0.3333333333333333,
              "#9c179e"
             ],
             [
              0.4444444444444444,
              "#bd3786"
             ],
             [
              0.5555555555555556,
              "#d8576b"
             ],
             [
              0.6666666666666666,
              "#ed7953"
             ],
             [
              0.7777777777777778,
              "#fb9f3a"
             ],
             [
              0.8888888888888888,
              "#fdca26"
             ],
             [
              1,
              "#f0f921"
             ]
            ],
            "type": "surface"
           }
          ],
          "table": [
           {
            "cells": {
             "fill": {
              "color": "#EBF0F8"
             },
             "line": {
              "color": "white"
             }
            },
            "header": {
             "fill": {
              "color": "#C8D4E3"
             },
             "line": {
              "color": "white"
             }
            },
            "type": "table"
           }
          ]
         },
         "layout": {
          "annotationdefaults": {
           "arrowcolor": "#2a3f5f",
           "arrowhead": 0,
           "arrowwidth": 1
          },
          "coloraxis": {
           "colorbar": {
            "outlinewidth": 0,
            "ticks": ""
           }
          },
          "colorscale": {
           "diverging": [
            [
             0,
             "#8e0152"
            ],
            [
             0.1,
             "#c51b7d"
            ],
            [
             0.2,
             "#de77ae"
            ],
            [
             0.3,
             "#f1b6da"
            ],
            [
             0.4,
             "#fde0ef"
            ],
            [
             0.5,
             "#f7f7f7"
            ],
            [
             0.6,
             "#e6f5d0"
            ],
            [
             0.7,
             "#b8e186"
            ],
            [
             0.8,
             "#7fbc41"
            ],
            [
             0.9,
             "#4d9221"
            ],
            [
             1,
             "#276419"
            ]
           ],
           "sequential": [
            [
             0,
             "#0d0887"
            ],
            [
             0.1111111111111111,
             "#46039f"
            ],
            [
             0.2222222222222222,
             "#7201a8"
            ],
            [
             0.3333333333333333,
             "#9c179e"
            ],
            [
             0.4444444444444444,
             "#bd3786"
            ],
            [
             0.5555555555555556,
             "#d8576b"
            ],
            [
             0.6666666666666666,
             "#ed7953"
            ],
            [
             0.7777777777777778,
             "#fb9f3a"
            ],
            [
             0.8888888888888888,
             "#fdca26"
            ],
            [
             1,
             "#f0f921"
            ]
           ],
           "sequentialminus": [
            [
             0,
             "#0d0887"
            ],
            [
             0.1111111111111111,
             "#46039f"
            ],
            [
             0.2222222222222222,
             "#7201a8"
            ],
            [
             0.3333333333333333,
             "#9c179e"
            ],
            [
             0.4444444444444444,
             "#bd3786"
            ],
            [
             0.5555555555555556,
             "#d8576b"
            ],
            [
             0.6666666666666666,
             "#ed7953"
            ],
            [
             0.7777777777777778,
             "#fb9f3a"
            ],
            [
             0.8888888888888888,
             "#fdca26"
            ],
            [
             1,
             "#f0f921"
            ]
           ]
          },
          "colorway": [
           "#636efa",
           "#EF553B",
           "#00cc96",
           "#ab63fa",
           "#FFA15A",
           "#19d3f3",
           "#FF6692",
           "#B6E880",
           "#FF97FF",
           "#FECB52"
          ],
          "font": {
           "color": "#2a3f5f"
          },
          "geo": {
           "bgcolor": "white",
           "lakecolor": "white",
           "landcolor": "#E5ECF6",
           "showlakes": true,
           "showland": true,
           "subunitcolor": "white"
          },
          "hoverlabel": {
           "align": "left"
          },
          "hovermode": "closest",
          "mapbox": {
           "style": "light"
          },
          "paper_bgcolor": "white",
          "plot_bgcolor": "#E5ECF6",
          "polar": {
           "angularaxis": {
            "gridcolor": "white",
            "linecolor": "white",
            "ticks": ""
           },
           "bgcolor": "#E5ECF6",
           "radialaxis": {
            "gridcolor": "white",
            "linecolor": "white",
            "ticks": ""
           }
          },
          "scene": {
           "xaxis": {
            "backgroundcolor": "#E5ECF6",
            "gridcolor": "white",
            "gridwidth": 2,
            "linecolor": "white",
            "showbackground": true,
            "ticks": "",
            "zerolinecolor": "white"
           },
           "yaxis": {
            "backgroundcolor": "#E5ECF6",
            "gridcolor": "white",
            "gridwidth": 2,
            "linecolor": "white",
            "showbackground": true,
            "ticks": "",
            "zerolinecolor": "white"
           },
           "zaxis": {
            "backgroundcolor": "#E5ECF6",
            "gridcolor": "white",
            "gridwidth": 2,
            "linecolor": "white",
            "showbackground": true,
            "ticks": "",
            "zerolinecolor": "white"
           }
          },
          "shapedefaults": {
           "line": {
            "color": "#2a3f5f"
           }
          },
          "ternary": {
           "aaxis": {
            "gridcolor": "white",
            "linecolor": "white",
            "ticks": ""
           },
           "baxis": {
            "gridcolor": "white",
            "linecolor": "white",
            "ticks": ""
           },
           "bgcolor": "#E5ECF6",
           "caxis": {
            "gridcolor": "white",
            "linecolor": "white",
            "ticks": ""
           }
          },
          "title": {
           "x": 0.05
          },
          "xaxis": {
           "automargin": true,
           "gridcolor": "white",
           "linecolor": "white",
           "ticks": "",
           "title": {
            "standoff": 15
           },
           "zerolinecolor": "white",
           "zerolinewidth": 2
          },
          "yaxis": {
           "automargin": true,
           "gridcolor": "white",
           "linecolor": "white",
           "ticks": "",
           "title": {
            "standoff": 15
           },
           "zerolinecolor": "white",
           "zerolinewidth": 2
          }
         }
        },
        "title": {
         "font": {
          "color": "#4D5663"
         }
        },
        "xaxis": {
         "gridcolor": "#E1E5ED",
         "showgrid": true,
         "tickfont": {
          "color": "#4D5663"
         },
         "title": {
          "font": {
           "color": "#4D5663"
          },
          "text": ""
         },
         "zerolinecolor": "#E1E5ED"
        },
        "yaxis": {
         "gridcolor": "#E1E5ED",
         "showgrid": true,
         "tickfont": {
          "color": "#4D5663"
         },
         "title": {
          "font": {
           "color": "#4D5663"
          },
          "text": ""
         },
         "zerolinecolor": "#E1E5ED"
        }
       }
      },
      "text/html": [
       "<div>                            <div id=\"dc0cc58f-adf4-409a-a9b3-ff5f3940b622\" class=\"plotly-graph-div\" style=\"height:525px; width:100%;\"></div>            <script type=\"text/javascript\">                require([\"plotly\"], function(Plotly) {                    window.PLOTLYENV=window.PLOTLYENV || {};\n",
       "                    window.PLOTLYENV.BASE_URL='https://plot.ly';                                    if (document.getElementById(\"dc0cc58f-adf4-409a-a9b3-ff5f3940b622\")) {                    Plotly.newPlot(                        \"dc0cc58f-adf4-409a-a9b3-ff5f3940b622\",                        [{\"boxpoints\": false, \"line\": {\"width\": 1.3}, \"marker\": {\"color\": \"rgba(255, 153, 51, 1.0)\"}, \"name\": \"A\", \"orientation\": \"v\", \"type\": \"box\", \"y\": [-0.30202016863775033, -0.28564555846571377, 0.4476704948481836, -0.7162322499431878, -1.1752084454356209, 0.037922946952660096, -0.4784580310902896, -0.8127219470868241, -0.2015463810609984, -1.2477309120841387, 0.33416595599237875, -0.3925825214642993, 0.8483162327766754, 1.4017593159498198, -0.24447542578970963, 0.3268425653949366, 0.7896328968946461, 0.05003230055379049, 0.8713596231470593, -0.36768247294659173, 1.456695935256, 0.09086717022177927, 0.8308289690395506, 0.4570302705052343, 1.641725152630206, -0.34337193630447227, -0.6899548045806325, -1.4989669498743878, -0.4990655862049401, -1.2763195565688894, -0.5841927721605572, -0.6531615312082533, -1.544688058823571, 1.241823683012709, 0.36670402575200034, 0.36785862000313696, -0.4251916229702931, -1.1424611416885133, 0.11744918233688426, -0.2943921274727523, -0.2630411797495611, 1.1189450591825083, 0.6771083217387999, -2.1007251081507516, -1.469901874723165, 0.5804195589513341, -0.26050512490234284, 2.2362929227372725, 0.5190194687909312, -0.008163118768048035, -0.6611054621616541, 1.36957273498277, 0.57208163756899, 0.12460374641094915, 0.8356395402758129, -0.8335550054425519, -0.8946566144284955, -0.10099356338826994, 0.04425297346768268, 2.217770067273319, 0.03522119302500431, -1.9869202369288799, -1.2508613408788938, 0.09279898228614562, 0.38692351076168063, -0.026236237411354904, -1.491069699311706, 0.8294659536906288, 0.6136776593807836, -0.8154202979633771, 0.6293335815887414, -1.0923772889015413, 0.7386223240270853, -0.68737966371764, -0.6422680828562675, 0.7998127045023482, 0.9217752449620659, 0.04459918763480434, -0.445947653484942, -0.3773323373724564, 0.4050137890893175, 0.19591076972454038, -0.3532570369973499, -0.19817408743935175, -0.311181936508081, -0.5692973337611296, 1.2737066010007103, 0.33310651006183967, 2.343367044548086, -0.4488947193251729, 0.16005691450387768, -0.5608031062151607, -0.2592370006186431, -0.7117502976304382, -0.5122229220026929, 0.9231576330805437, 1.108977825338648, 0.05946369407947916, -0.5664014911796487, 0.5891591881972967]}, {\"boxpoints\": false, \"line\": {\"width\": 1.3}, \"marker\": {\"color\": \"rgba(55, 128, 191, 1.0)\"}, \"name\": \"B\", \"orientation\": \"v\", \"type\": \"box\", \"y\": [-0.8488668044204304, 0.0829347754880924, 0.5024352835101774, -1.555223408984092, -1.7161100299123155, 0.13905529392350072, 0.4697605231701461, -0.2067026939520887, -1.1575550785607536, 1.0197452265500921, 1.1202487101150227, 1.5954620391368428, -0.4375092399621281, -0.47581549224960684, 1.1853669230476602, -0.7970090865687269, -0.217834734307552, -0.9266855311136963, 0.6925149520732994, -0.14063441315709707, 1.3397844385147475, -0.1413885447509737, -0.3341614782625514, -1.0331617312485522, 0.24434025389131428, 1.5085738205782122, 0.10463564901176917, -1.0951203549391761, -0.27409678695725026, 0.420532769222361, 0.44161004868931125, 1.243251467420042, 2.014541632056787, 0.0005947858539945759, 1.2239989488374874, -0.3249945539545311, 0.11473621845710603, 1.1583020744108352, 0.33306800250962726, 0.6084733116468805, 0.2736092321470979, -1.5679830656702087, -0.06928753093902698, 0.526425209767373, -0.01545031249896855, -0.2570800949369005, -0.4691911947167141, 0.3670764942533598, 0.9329487179609518, 0.2795889554620296, -0.7792859324560443, 1.320870561157038, -0.9628173239459669, 1.0288747348344904, -0.31456248623952465, 1.179250469511076, 0.03272168521154292, -0.07204583648761341, 1.1921789942533836, 1.25019068010553, -0.03188346728559232, -0.1530268360484573, 0.9831775188487099, -0.5267924542187926, -0.4053089572688673, -0.051938708052279375, 0.45703909564713263, 0.2642433727428654, 0.5251885395153827, -0.0744890981195537, 0.20179472075573884, -0.24260442894883943, -0.7655468244843483, -0.25466269286703574, 1.3274099884767236, -1.8920515553120267, 0.10540569529487552, 1.0160601421792685, 1.0480390651944593, -1.2983474014888645, -0.5118493322462478, -0.6211629820763115, -0.7131189561305936, -1.5519881153245678, 0.3588037520991031, -0.7401347991919084, 0.5898932362401884, 0.6230541842326577, 0.1469808884715823, -1.4909432837564347, 0.16216809925339512, -0.24679042370819276, -0.30396064222875, 1.064430955755844, 0.3820227711156056, -1.9545417907404197, -0.8840834393902629, -0.8514764988023206, 0.4516710603713084, -0.9713569710562179]}, {\"boxpoints\": false, \"line\": {\"width\": 1.3}, \"marker\": {\"color\": \"rgba(50, 171, 96, 1.0)\"}, \"name\": \"C\", \"orientation\": \"v\", \"type\": \"box\", \"y\": [-0.5325002392797077, 1.2107826144635394, -0.12581857596195073, -1.065685346460432, 1.6219974824957573, -0.932800678811066, -0.21316481203726712, 0.763681120902737, 1.098664206498667, 0.36009215649075343, -0.664219816308787, 0.07577184065638896, 0.3031687581058567, 0.6606870603906189, -0.5961486242453862, 0.11231630657312325, 0.7691043610978897, -0.3081123223215197, 0.19559556136046366, 1.4374690002280184, -0.8153210756978526, 0.6813563452246516, -1.6382804382128886, 0.08817865962915074, 0.20261471758722485, -1.5184096422482465, -1.4305530017112984, -0.6953963924991731, -0.43994601001709965, 0.22937454005128888, 0.1447963167297178, 1.4358227971455064, -0.7190175116891817, -0.31304105941454047, 0.287214494791865, -1.3864896792827985, 0.01238435443261473, -0.968968169580906, 0.6757773935989444, 0.28438830723664055, 1.3939662961596828, 0.848053334072673, -0.05146628439166784, 0.13180154178313105, 2.756987407554678, 0.46855564383907744, 1.0594874292830787, 0.5036613275770189, 1.647513334058284, -1.443885741626302, 1.3359587953778, -0.5455285003845146, -0.461732199765846, -1.8435212714640112, 0.4538100646615445, -0.72191357965643, -0.24374954965398982, -1.0252134615790376, -0.5165437210671675, -0.33161543392197307, -0.7431465286961032, -2.210006319910014, -0.46724628052367445, 0.14586509253773433, 0.14969459570682003, 0.4191904426785085, -1.1344968632281076, 0.10571054282160242, -0.7589371530008178, -1.0542016454475767, -1.0753202072880828, -1.664851074939344, -1.6675055030541586, -0.2331187171751215, 2.4126159312201527, 0.7389659801077011, 0.3826710404007888, 0.5817057566608924, 0.9574718358569249, -2.0985324423193594, 0.31289459728961866, 2.5381461963041967, -1.1164237044150571, -0.0457752960357565, -1.2102654227507113, 0.6626735232923587, -0.9294259573544665, -1.2753086464635068, 0.19150764250023283, 0.7682688889700511, 1.5038416312088143, -0.41447058970720374, 1.0473552330836675, 1.6884234732045154, 0.9931508514200323, -0.34211968075641724, -1.1649591956662277, 0.8319726133234473, -1.343902562095212, -0.2943244448144205]}, {\"boxpoints\": false, \"line\": {\"width\": 1.3}, \"marker\": {\"color\": \"rgba(128, 0, 128, 1.0)\"}, \"name\": \"D\", \"orientation\": \"v\", \"type\": \"box\", \"y\": [-0.006679552459379296, 0.07331242355470725, 1.1083884810155544, -1.6565627117319746, 1.9950862907185352, 0.6454822575914453, -0.5329751906162492, 0.08565999414797083, 0.09036665290178467, 0.7872452416416569, -0.11434170196201493, -1.121478936932661, 1.1096696474770031, 0.6516962960220379, 0.30660602120926544, -0.7168392297450519, -0.7439065941431607, 0.6615739709752352, 0.6006997037973186, -0.6050611084460127, -0.5461260559653208, 0.1424476018858292, -1.197176194136547, 0.7877118711253404, -0.9714740266118284, 0.7826606579329373, -1.1031652966404037, 2.526889128554002, 0.16190821155043775, 0.23198501547302153, 0.5640839786071568, -0.05016580642898075, -0.839410702329791, 0.6050009318003485, -0.16029812562208612, 1.406749582890268, -1.1054758672020175, -1.6119739180168078, 0.10650295060254338, -2.405341139304213, -2.0421508646956816, -0.17350186796334538, 0.9550293720956177, 0.5477902853481688, 0.5110778167745683, 0.4722265299045946, 1.5591630904039082, -0.9349337381021855, -0.5781747934802014, -1.4900496859060852, -1.3269327490502971, -1.5196913887016652, 0.7246955385086876, 0.3215005164422762, 0.809400883045086, 0.993649246025548, -0.6955478957649657, 1.0991610580672215, 0.7345554855186507, -0.3571925359950002, -1.885546923965419, 0.36401272919883904, -0.16631902212605246, 0.9779545406612402, 0.7916705430955936, -0.12323039622039979, -0.15362030195387819, 0.44797085347129084, 0.8600083255740223, 0.011826753737175896, 0.809330990870958, -0.08388961558555602, 0.011880834268739489, -1.663441440748334, -0.7993871903375428, 1.076778701611559, -1.523272232833216, -0.10932247028663548, -0.5434321979726251, 1.201096443987189, 1.3161182808886254, 0.5866559935034882, 1.0748730161017475, -0.07604231452114252, -1.2254109513661653, -0.12882814874212412, -0.19471729771257273, 0.6853427202832655, 0.5741302146848836, 0.6827993122440889, -0.8541546185222085, -0.4468302326950383, 0.08934065712537255, 1.4300258601533677, -0.28710963690331254, 0.7304348651351046, 0.9692019063696952, -0.6545210429290489, -0.5954381851103395, -0.3189286182100561]}],                        {\"legend\": {\"bgcolor\": \"#F5F6F9\", \"font\": {\"color\": \"#4D5663\"}}, \"paper_bgcolor\": \"#F5F6F9\", \"plot_bgcolor\": \"#F5F6F9\", \"template\": {\"data\": {\"bar\": [{\"error_x\": {\"color\": \"#2a3f5f\"}, \"error_y\": {\"color\": \"#2a3f5f\"}, \"marker\": {\"line\": {\"color\": \"#E5ECF6\", \"width\": 0.5}}, \"type\": \"bar\"}], \"barpolar\": [{\"marker\": {\"line\": {\"color\": \"#E5ECF6\", \"width\": 0.5}}, \"type\": \"barpolar\"}], \"carpet\": [{\"aaxis\": {\"endlinecolor\": \"#2a3f5f\", \"gridcolor\": \"white\", \"linecolor\": \"white\", \"minorgridcolor\": \"white\", \"startlinecolor\": \"#2a3f5f\"}, \"baxis\": {\"endlinecolor\": \"#2a3f5f\", \"gridcolor\": \"white\", \"linecolor\": \"white\", \"minorgridcolor\": \"white\", \"startlinecolor\": \"#2a3f5f\"}, \"type\": \"carpet\"}], \"choropleth\": [{\"colorbar\": {\"outlinewidth\": 0, \"ticks\": \"\"}, \"type\": \"choropleth\"}], \"contour\": [{\"colorbar\": {\"outlinewidth\": 0, \"ticks\": \"\"}, \"colorscale\": [[0.0, \"#0d0887\"], [0.1111111111111111, \"#46039f\"], [0.2222222222222222, \"#7201a8\"], [0.3333333333333333, \"#9c179e\"], [0.4444444444444444, \"#bd3786\"], [0.5555555555555556, \"#d8576b\"], [0.6666666666666666, \"#ed7953\"], [0.7777777777777778, \"#fb9f3a\"], [0.8888888888888888, \"#fdca26\"], [1.0, \"#f0f921\"]], \"type\": \"contour\"}], \"contourcarpet\": [{\"colorbar\": {\"outlinewidth\": 0, \"ticks\": \"\"}, \"type\": \"contourcarpet\"}], \"heatmap\": [{\"colorbar\": {\"outlinewidth\": 0, \"ticks\": \"\"}, \"colorscale\": [[0.0, \"#0d0887\"], [0.1111111111111111, \"#46039f\"], [0.2222222222222222, \"#7201a8\"], [0.3333333333333333, \"#9c179e\"], [0.4444444444444444, \"#bd3786\"], [0.5555555555555556, \"#d8576b\"], [0.6666666666666666, \"#ed7953\"], [0.7777777777777778, \"#fb9f3a\"], [0.8888888888888888, \"#fdca26\"], [1.0, \"#f0f921\"]], \"type\": \"heatmap\"}], \"heatmapgl\": [{\"colorbar\": {\"outlinewidth\": 0, \"ticks\": \"\"}, \"colorscale\": [[0.0, \"#0d0887\"], [0.1111111111111111, \"#46039f\"], [0.2222222222222222, \"#7201a8\"], [0.3333333333333333, \"#9c179e\"], [0.4444444444444444, \"#bd3786\"], [0.5555555555555556, \"#d8576b\"], [0.6666666666666666, \"#ed7953\"], [0.7777777777777778, \"#fb9f3a\"], [0.8888888888888888, \"#fdca26\"], [1.0, \"#f0f921\"]], \"type\": \"heatmapgl\"}], \"histogram\": [{\"marker\": {\"colorbar\": {\"outlinewidth\": 0, \"ticks\": \"\"}}, \"type\": \"histogram\"}], \"histogram2d\": [{\"colorbar\": {\"outlinewidth\": 0, \"ticks\": \"\"}, \"colorscale\": [[0.0, \"#0d0887\"], [0.1111111111111111, \"#46039f\"], [0.2222222222222222, \"#7201a8\"], [0.3333333333333333, \"#9c179e\"], [0.4444444444444444, \"#bd3786\"], [0.5555555555555556, \"#d8576b\"], [0.6666666666666666, \"#ed7953\"], [0.7777777777777778, \"#fb9f3a\"], [0.8888888888888888, \"#fdca26\"], [1.0, \"#f0f921\"]], \"type\": \"histogram2d\"}], \"histogram2dcontour\": [{\"colorbar\": {\"outlinewidth\": 0, \"ticks\": \"\"}, \"colorscale\": [[0.0, \"#0d0887\"], [0.1111111111111111, \"#46039f\"], [0.2222222222222222, \"#7201a8\"], [0.3333333333333333, \"#9c179e\"], [0.4444444444444444, \"#bd3786\"], [0.5555555555555556, \"#d8576b\"], [0.6666666666666666, \"#ed7953\"], [0.7777777777777778, \"#fb9f3a\"], [0.8888888888888888, \"#fdca26\"], [1.0, \"#f0f921\"]], \"type\": \"histogram2dcontour\"}], \"mesh3d\": [{\"colorbar\": {\"outlinewidth\": 0, \"ticks\": \"\"}, \"type\": \"mesh3d\"}], \"parcoords\": [{\"line\": {\"colorbar\": {\"outlinewidth\": 0, \"ticks\": \"\"}}, \"type\": \"parcoords\"}], \"pie\": [{\"automargin\": true, \"type\": \"pie\"}], \"scatter\": [{\"marker\": {\"colorbar\": {\"outlinewidth\": 0, \"ticks\": \"\"}}, \"type\": \"scatter\"}], \"scatter3d\": [{\"line\": {\"colorbar\": {\"outlinewidth\": 0, \"ticks\": \"\"}}, \"marker\": {\"colorbar\": {\"outlinewidth\": 0, \"ticks\": \"\"}}, \"type\": \"scatter3d\"}], \"scattercarpet\": [{\"marker\": {\"colorbar\": {\"outlinewidth\": 0, \"ticks\": \"\"}}, \"type\": \"scattercarpet\"}], \"scattergeo\": [{\"marker\": {\"colorbar\": {\"outlinewidth\": 0, \"ticks\": \"\"}}, \"type\": \"scattergeo\"}], \"scattergl\": [{\"marker\": {\"colorbar\": {\"outlinewidth\": 0, \"ticks\": \"\"}}, \"type\": \"scattergl\"}], \"scattermapbox\": [{\"marker\": {\"colorbar\": {\"outlinewidth\": 0, \"ticks\": \"\"}}, \"type\": \"scattermapbox\"}], \"scatterpolar\": [{\"marker\": {\"colorbar\": {\"outlinewidth\": 0, \"ticks\": \"\"}}, \"type\": \"scatterpolar\"}], \"scatterpolargl\": [{\"marker\": {\"colorbar\": {\"outlinewidth\": 0, \"ticks\": \"\"}}, \"type\": \"scatterpolargl\"}], \"scatterternary\": [{\"marker\": {\"colorbar\": {\"outlinewidth\": 0, \"ticks\": \"\"}}, \"type\": \"scatterternary\"}], \"surface\": [{\"colorbar\": {\"outlinewidth\": 0, \"ticks\": \"\"}, \"colorscale\": [[0.0, \"#0d0887\"], [0.1111111111111111, \"#46039f\"], [0.2222222222222222, \"#7201a8\"], [0.3333333333333333, \"#9c179e\"], [0.4444444444444444, \"#bd3786\"], [0.5555555555555556, \"#d8576b\"], [0.6666666666666666, \"#ed7953\"], [0.7777777777777778, \"#fb9f3a\"], [0.8888888888888888, \"#fdca26\"], [1.0, \"#f0f921\"]], \"type\": \"surface\"}], \"table\": [{\"cells\": {\"fill\": {\"color\": \"#EBF0F8\"}, \"line\": {\"color\": \"white\"}}, \"header\": {\"fill\": {\"color\": \"#C8D4E3\"}, \"line\": {\"color\": \"white\"}}, \"type\": \"table\"}]}, \"layout\": {\"annotationdefaults\": {\"arrowcolor\": \"#2a3f5f\", \"arrowhead\": 0, \"arrowwidth\": 1}, \"coloraxis\": {\"colorbar\": {\"outlinewidth\": 0, \"ticks\": \"\"}}, \"colorscale\": {\"diverging\": [[0, \"#8e0152\"], [0.1, \"#c51b7d\"], [0.2, \"#de77ae\"], [0.3, \"#f1b6da\"], [0.4, \"#fde0ef\"], [0.5, \"#f7f7f7\"], [0.6, \"#e6f5d0\"], [0.7, \"#b8e186\"], [0.8, \"#7fbc41\"], [0.9, \"#4d9221\"], [1, \"#276419\"]], \"sequential\": [[0.0, \"#0d0887\"], [0.1111111111111111, \"#46039f\"], [0.2222222222222222, \"#7201a8\"], [0.3333333333333333, \"#9c179e\"], [0.4444444444444444, \"#bd3786\"], [0.5555555555555556, \"#d8576b\"], [0.6666666666666666, \"#ed7953\"], [0.7777777777777778, \"#fb9f3a\"], [0.8888888888888888, \"#fdca26\"], [1.0, \"#f0f921\"]], \"sequentialminus\": [[0.0, \"#0d0887\"], [0.1111111111111111, \"#46039f\"], [0.2222222222222222, \"#7201a8\"], [0.3333333333333333, \"#9c179e\"], [0.4444444444444444, \"#bd3786\"], [0.5555555555555556, \"#d8576b\"], [0.6666666666666666, \"#ed7953\"], [0.7777777777777778, \"#fb9f3a\"], [0.8888888888888888, \"#fdca26\"], [1.0, \"#f0f921\"]]}, \"colorway\": [\"#636efa\", \"#EF553B\", \"#00cc96\", \"#ab63fa\", \"#FFA15A\", \"#19d3f3\", \"#FF6692\", \"#B6E880\", \"#FF97FF\", \"#FECB52\"], \"font\": {\"color\": \"#2a3f5f\"}, \"geo\": {\"bgcolor\": \"white\", \"lakecolor\": \"white\", \"landcolor\": \"#E5ECF6\", \"showlakes\": true, \"showland\": true, \"subunitcolor\": \"white\"}, \"hoverlabel\": {\"align\": \"left\"}, \"hovermode\": \"closest\", \"mapbox\": {\"style\": \"light\"}, \"paper_bgcolor\": \"white\", \"plot_bgcolor\": \"#E5ECF6\", \"polar\": {\"angularaxis\": {\"gridcolor\": \"white\", \"linecolor\": \"white\", \"ticks\": \"\"}, \"bgcolor\": \"#E5ECF6\", \"radialaxis\": {\"gridcolor\": \"white\", \"linecolor\": \"white\", \"ticks\": \"\"}}, \"scene\": {\"xaxis\": {\"backgroundcolor\": \"#E5ECF6\", \"gridcolor\": \"white\", \"gridwidth\": 2, \"linecolor\": \"white\", \"showbackground\": true, \"ticks\": \"\", \"zerolinecolor\": \"white\"}, \"yaxis\": {\"backgroundcolor\": \"#E5ECF6\", \"gridcolor\": \"white\", \"gridwidth\": 2, \"linecolor\": \"white\", \"showbackground\": true, \"ticks\": \"\", \"zerolinecolor\": \"white\"}, \"zaxis\": {\"backgroundcolor\": \"#E5ECF6\", \"gridcolor\": \"white\", \"gridwidth\": 2, \"linecolor\": \"white\", \"showbackground\": true, \"ticks\": \"\", \"zerolinecolor\": \"white\"}}, \"shapedefaults\": {\"line\": {\"color\": \"#2a3f5f\"}}, \"ternary\": {\"aaxis\": {\"gridcolor\": \"white\", \"linecolor\": \"white\", \"ticks\": \"\"}, \"baxis\": {\"gridcolor\": \"white\", \"linecolor\": \"white\", \"ticks\": \"\"}, \"bgcolor\": \"#E5ECF6\", \"caxis\": {\"gridcolor\": \"white\", \"linecolor\": \"white\", \"ticks\": \"\"}}, \"title\": {\"x\": 0.05}, \"xaxis\": {\"automargin\": true, \"gridcolor\": \"white\", \"linecolor\": \"white\", \"ticks\": \"\", \"title\": {\"standoff\": 15}, \"zerolinecolor\": \"white\", \"zerolinewidth\": 2}, \"yaxis\": {\"automargin\": true, \"gridcolor\": \"white\", \"linecolor\": \"white\", \"ticks\": \"\", \"title\": {\"standoff\": 15}, \"zerolinecolor\": \"white\", \"zerolinewidth\": 2}}}, \"title\": {\"font\": {\"color\": \"#4D5663\"}}, \"xaxis\": {\"gridcolor\": \"#E1E5ED\", \"showgrid\": true, \"tickfont\": {\"color\": \"#4D5663\"}, \"title\": {\"font\": {\"color\": \"#4D5663\"}, \"text\": \"\"}, \"zerolinecolor\": \"#E1E5ED\"}, \"yaxis\": {\"gridcolor\": \"#E1E5ED\", \"showgrid\": true, \"tickfont\": {\"color\": \"#4D5663\"}, \"title\": {\"font\": {\"color\": \"#4D5663\"}, \"text\": \"\"}, \"zerolinecolor\": \"#E1E5ED\"}},                        {\"showLink\": true, \"linkText\": \"Export to plot.ly\", \"plotlyServerURL\": \"https://plot.ly\", \"responsive\": true}                    ).then(function(){\n",
       "                            \n",
       "var gd = document.getElementById('dc0cc58f-adf4-409a-a9b3-ff5f3940b622');\n",
       "var x = new MutationObserver(function (mutations, observer) {{\n",
       "        var display = window.getComputedStyle(gd).display;\n",
       "        if (!display || display === 'none') {{\n",
       "            console.log([gd, 'removed!']);\n",
       "            Plotly.purge(gd);\n",
       "            observer.disconnect();\n",
       "        }}\n",
       "}});\n",
       "\n",
       "// Listen for the removal of the full notebook cells\n",
       "var notebookContainer = gd.closest('#notebook-container');\n",
       "if (notebookContainer) {{\n",
       "    x.observe(notebookContainer, {childList: true});\n",
       "}}\n",
       "\n",
       "// Listen for the clearing of the current output cell\n",
       "var outputEl = gd.closest('.output');\n",
       "if (outputEl) {{\n",
       "    x.observe(outputEl, {childList: true});\n",
       "}}\n",
       "\n",
       "                        })                };                });            </script>        </div>"
      ]
     },
     "metadata": {},
     "output_type": "display_data"
    }
   ],
   "source": [
    "fake_df.iplot(kind='box')"
   ]
  },
  {
   "cell_type": "markdown",
   "metadata": {},
   "source": [
    "# 3D Surface"
   ]
  },
  {
   "cell_type": "code",
   "execution_count": 14,
   "metadata": {
    "scrolled": true
   },
   "outputs": [
    {
     "data": {
      "application/vnd.plotly.v1+json": {
       "config": {
        "linkText": "Export to plot.ly",
        "plotlyServerURL": "https://plot.ly",
        "showLink": true
       },
       "data": [
        {
         "colorscale": [
          [
           0,
           "rgb(165,0,38)"
          ],
          [
           0.1,
           "rgb(215,48,39)"
          ],
          [
           0.2,
           "rgb(244,109,67)"
          ],
          [
           0.3,
           "rgb(253,174,97)"
          ],
          [
           0.4,
           "rgb(254,224,144)"
          ],
          [
           0.5,
           "rgb(255,255,191)"
          ],
          [
           0.6,
           "rgb(224,243,248)"
          ],
          [
           0.7,
           "rgb(171,217,233)"
          ],
          [
           0.8,
           "rgb(116,173,209)"
          ],
          [
           0.9,
           "rgb(69,117,180)"
          ],
          [
           1,
           "rgb(49,54,149)"
          ]
         ],
         "type": "surface",
         "x": [
          0,
          1,
          2,
          3,
          4
         ],
         "y": [
          "x",
          "y",
          "z"
         ],
         "z": [
          [
           1,
           2,
           3,
           4,
           5
          ],
          [
           10,
           20,
           30,
           20,
           10
          ],
          [
           5,
           4,
           3,
           2,
           1
          ]
         ]
        }
       ],
       "layout": {
        "legend": {
         "bgcolor": "#F5F6F9",
         "font": {
          "color": "#4D5663"
         }
        },
        "paper_bgcolor": "#F5F6F9",
        "plot_bgcolor": "#F5F6F9",
        "template": {
         "data": {
          "bar": [
           {
            "error_x": {
             "color": "#2a3f5f"
            },
            "error_y": {
             "color": "#2a3f5f"
            },
            "marker": {
             "line": {
              "color": "#E5ECF6",
              "width": 0.5
             }
            },
            "type": "bar"
           }
          ],
          "barpolar": [
           {
            "marker": {
             "line": {
              "color": "#E5ECF6",
              "width": 0.5
             }
            },
            "type": "barpolar"
           }
          ],
          "carpet": [
           {
            "aaxis": {
             "endlinecolor": "#2a3f5f",
             "gridcolor": "white",
             "linecolor": "white",
             "minorgridcolor": "white",
             "startlinecolor": "#2a3f5f"
            },
            "baxis": {
             "endlinecolor": "#2a3f5f",
             "gridcolor": "white",
             "linecolor": "white",
             "minorgridcolor": "white",
             "startlinecolor": "#2a3f5f"
            },
            "type": "carpet"
           }
          ],
          "choropleth": [
           {
            "colorbar": {
             "outlinewidth": 0,
             "ticks": ""
            },
            "type": "choropleth"
           }
          ],
          "contour": [
           {
            "colorbar": {
             "outlinewidth": 0,
             "ticks": ""
            },
            "colorscale": [
             [
              0,
              "#0d0887"
             ],
             [
              0.1111111111111111,
              "#46039f"
             ],
             [
              0.2222222222222222,
              "#7201a8"
             ],
             [
              0.3333333333333333,
              "#9c179e"
             ],
             [
              0.4444444444444444,
              "#bd3786"
             ],
             [
              0.5555555555555556,
              "#d8576b"
             ],
             [
              0.6666666666666666,
              "#ed7953"
             ],
             [
              0.7777777777777778,
              "#fb9f3a"
             ],
             [
              0.8888888888888888,
              "#fdca26"
             ],
             [
              1,
              "#f0f921"
             ]
            ],
            "type": "contour"
           }
          ],
          "contourcarpet": [
           {
            "colorbar": {
             "outlinewidth": 0,
             "ticks": ""
            },
            "type": "contourcarpet"
           }
          ],
          "heatmap": [
           {
            "colorbar": {
             "outlinewidth": 0,
             "ticks": ""
            },
            "colorscale": [
             [
              0,
              "#0d0887"
             ],
             [
              0.1111111111111111,
              "#46039f"
             ],
             [
              0.2222222222222222,
              "#7201a8"
             ],
             [
              0.3333333333333333,
              "#9c179e"
             ],
             [
              0.4444444444444444,
              "#bd3786"
             ],
             [
              0.5555555555555556,
              "#d8576b"
             ],
             [
              0.6666666666666666,
              "#ed7953"
             ],
             [
              0.7777777777777778,
              "#fb9f3a"
             ],
             [
              0.8888888888888888,
              "#fdca26"
             ],
             [
              1,
              "#f0f921"
             ]
            ],
            "type": "heatmap"
           }
          ],
          "heatmapgl": [
           {
            "colorbar": {
             "outlinewidth": 0,
             "ticks": ""
            },
            "colorscale": [
             [
              0,
              "#0d0887"
             ],
             [
              0.1111111111111111,
              "#46039f"
             ],
             [
              0.2222222222222222,
              "#7201a8"
             ],
             [
              0.3333333333333333,
              "#9c179e"
             ],
             [
              0.4444444444444444,
              "#bd3786"
             ],
             [
              0.5555555555555556,
              "#d8576b"
             ],
             [
              0.6666666666666666,
              "#ed7953"
             ],
             [
              0.7777777777777778,
              "#fb9f3a"
             ],
             [
              0.8888888888888888,
              "#fdca26"
             ],
             [
              1,
              "#f0f921"
             ]
            ],
            "type": "heatmapgl"
           }
          ],
          "histogram": [
           {
            "marker": {
             "colorbar": {
              "outlinewidth": 0,
              "ticks": ""
             }
            },
            "type": "histogram"
           }
          ],
          "histogram2d": [
           {
            "colorbar": {
             "outlinewidth": 0,
             "ticks": ""
            },
            "colorscale": [
             [
              0,
              "#0d0887"
             ],
             [
              0.1111111111111111,
              "#46039f"
             ],
             [
              0.2222222222222222,
              "#7201a8"
             ],
             [
              0.3333333333333333,
              "#9c179e"
             ],
             [
              0.4444444444444444,
              "#bd3786"
             ],
             [
              0.5555555555555556,
              "#d8576b"
             ],
             [
              0.6666666666666666,
              "#ed7953"
             ],
             [
              0.7777777777777778,
              "#fb9f3a"
             ],
             [
              0.8888888888888888,
              "#fdca26"
             ],
             [
              1,
              "#f0f921"
             ]
            ],
            "type": "histogram2d"
           }
          ],
          "histogram2dcontour": [
           {
            "colorbar": {
             "outlinewidth": 0,
             "ticks": ""
            },
            "colorscale": [
             [
              0,
              "#0d0887"
             ],
             [
              0.1111111111111111,
              "#46039f"
             ],
             [
              0.2222222222222222,
              "#7201a8"
             ],
             [
              0.3333333333333333,
              "#9c179e"
             ],
             [
              0.4444444444444444,
              "#bd3786"
             ],
             [
              0.5555555555555556,
              "#d8576b"
             ],
             [
              0.6666666666666666,
              "#ed7953"
             ],
             [
              0.7777777777777778,
              "#fb9f3a"
             ],
             [
              0.8888888888888888,
              "#fdca26"
             ],
             [
              1,
              "#f0f921"
             ]
            ],
            "type": "histogram2dcontour"
           }
          ],
          "mesh3d": [
           {
            "colorbar": {
             "outlinewidth": 0,
             "ticks": ""
            },
            "type": "mesh3d"
           }
          ],
          "parcoords": [
           {
            "line": {
             "colorbar": {
              "outlinewidth": 0,
              "ticks": ""
             }
            },
            "type": "parcoords"
           }
          ],
          "pie": [
           {
            "automargin": true,
            "type": "pie"
           }
          ],
          "scatter": [
           {
            "marker": {
             "colorbar": {
              "outlinewidth": 0,
              "ticks": ""
             }
            },
            "type": "scatter"
           }
          ],
          "scatter3d": [
           {
            "line": {
             "colorbar": {
              "outlinewidth": 0,
              "ticks": ""
             }
            },
            "marker": {
             "colorbar": {
              "outlinewidth": 0,
              "ticks": ""
             }
            },
            "type": "scatter3d"
           }
          ],
          "scattercarpet": [
           {
            "marker": {
             "colorbar": {
              "outlinewidth": 0,
              "ticks": ""
             }
            },
            "type": "scattercarpet"
           }
          ],
          "scattergeo": [
           {
            "marker": {
             "colorbar": {
              "outlinewidth": 0,
              "ticks": ""
             }
            },
            "type": "scattergeo"
           }
          ],
          "scattergl": [
           {
            "marker": {
             "colorbar": {
              "outlinewidth": 0,
              "ticks": ""
             }
            },
            "type": "scattergl"
           }
          ],
          "scattermapbox": [
           {
            "marker": {
             "colorbar": {
              "outlinewidth": 0,
              "ticks": ""
             }
            },
            "type": "scattermapbox"
           }
          ],
          "scatterpolar": [
           {
            "marker": {
             "colorbar": {
              "outlinewidth": 0,
              "ticks": ""
             }
            },
            "type": "scatterpolar"
           }
          ],
          "scatterpolargl": [
           {
            "marker": {
             "colorbar": {
              "outlinewidth": 0,
              "ticks": ""
             }
            },
            "type": "scatterpolargl"
           }
          ],
          "scatterternary": [
           {
            "marker": {
             "colorbar": {
              "outlinewidth": 0,
              "ticks": ""
             }
            },
            "type": "scatterternary"
           }
          ],
          "surface": [
           {
            "colorbar": {
             "outlinewidth": 0,
             "ticks": ""
            },
            "colorscale": [
             [
              0,
              "#0d0887"
             ],
             [
              0.1111111111111111,
              "#46039f"
             ],
             [
              0.2222222222222222,
              "#7201a8"
             ],
             [
              0.3333333333333333,
              "#9c179e"
             ],
             [
              0.4444444444444444,
              "#bd3786"
             ],
             [
              0.5555555555555556,
              "#d8576b"
             ],
             [
              0.6666666666666666,
              "#ed7953"
             ],
             [
              0.7777777777777778,
              "#fb9f3a"
             ],
             [
              0.8888888888888888,
              "#fdca26"
             ],
             [
              1,
              "#f0f921"
             ]
            ],
            "type": "surface"
           }
          ],
          "table": [
           {
            "cells": {
             "fill": {
              "color": "#EBF0F8"
             },
             "line": {
              "color": "white"
             }
            },
            "header": {
             "fill": {
              "color": "#C8D4E3"
             },
             "line": {
              "color": "white"
             }
            },
            "type": "table"
           }
          ]
         },
         "layout": {
          "annotationdefaults": {
           "arrowcolor": "#2a3f5f",
           "arrowhead": 0,
           "arrowwidth": 1
          },
          "coloraxis": {
           "colorbar": {
            "outlinewidth": 0,
            "ticks": ""
           }
          },
          "colorscale": {
           "diverging": [
            [
             0,
             "#8e0152"
            ],
            [
             0.1,
             "#c51b7d"
            ],
            [
             0.2,
             "#de77ae"
            ],
            [
             0.3,
             "#f1b6da"
            ],
            [
             0.4,
             "#fde0ef"
            ],
            [
             0.5,
             "#f7f7f7"
            ],
            [
             0.6,
             "#e6f5d0"
            ],
            [
             0.7,
             "#b8e186"
            ],
            [
             0.8,
             "#7fbc41"
            ],
            [
             0.9,
             "#4d9221"
            ],
            [
             1,
             "#276419"
            ]
           ],
           "sequential": [
            [
             0,
             "#0d0887"
            ],
            [
             0.1111111111111111,
             "#46039f"
            ],
            [
             0.2222222222222222,
             "#7201a8"
            ],
            [
             0.3333333333333333,
             "#9c179e"
            ],
            [
             0.4444444444444444,
             "#bd3786"
            ],
            [
             0.5555555555555556,
             "#d8576b"
            ],
            [
             0.6666666666666666,
             "#ed7953"
            ],
            [
             0.7777777777777778,
             "#fb9f3a"
            ],
            [
             0.8888888888888888,
             "#fdca26"
            ],
            [
             1,
             "#f0f921"
            ]
           ],
           "sequentialminus": [
            [
             0,
             "#0d0887"
            ],
            [
             0.1111111111111111,
             "#46039f"
            ],
            [
             0.2222222222222222,
             "#7201a8"
            ],
            [
             0.3333333333333333,
             "#9c179e"
            ],
            [
             0.4444444444444444,
             "#bd3786"
            ],
            [
             0.5555555555555556,
             "#d8576b"
            ],
            [
             0.6666666666666666,
             "#ed7953"
            ],
            [
             0.7777777777777778,
             "#fb9f3a"
            ],
            [
             0.8888888888888888,
             "#fdca26"
            ],
            [
             1,
             "#f0f921"
            ]
           ]
          },
          "colorway": [
           "#636efa",
           "#EF553B",
           "#00cc96",
           "#ab63fa",
           "#FFA15A",
           "#19d3f3",
           "#FF6692",
           "#B6E880",
           "#FF97FF",
           "#FECB52"
          ],
          "font": {
           "color": "#2a3f5f"
          },
          "geo": {
           "bgcolor": "white",
           "lakecolor": "white",
           "landcolor": "#E5ECF6",
           "showlakes": true,
           "showland": true,
           "subunitcolor": "white"
          },
          "hoverlabel": {
           "align": "left"
          },
          "hovermode": "closest",
          "mapbox": {
           "style": "light"
          },
          "paper_bgcolor": "white",
          "plot_bgcolor": "#E5ECF6",
          "polar": {
           "angularaxis": {
            "gridcolor": "white",
            "linecolor": "white",
            "ticks": ""
           },
           "bgcolor": "#E5ECF6",
           "radialaxis": {
            "gridcolor": "white",
            "linecolor": "white",
            "ticks": ""
           }
          },
          "scene": {
           "xaxis": {
            "backgroundcolor": "#E5ECF6",
            "gridcolor": "white",
            "gridwidth": 2,
            "linecolor": "white",
            "showbackground": true,
            "ticks": "",
            "zerolinecolor": "white"
           },
           "yaxis": {
            "backgroundcolor": "#E5ECF6",
            "gridcolor": "white",
            "gridwidth": 2,
            "linecolor": "white",
            "showbackground": true,
            "ticks": "",
            "zerolinecolor": "white"
           },
           "zaxis": {
            "backgroundcolor": "#E5ECF6",
            "gridcolor": "white",
            "gridwidth": 2,
            "linecolor": "white",
            "showbackground": true,
            "ticks": "",
            "zerolinecolor": "white"
           }
          },
          "shapedefaults": {
           "line": {
            "color": "#2a3f5f"
           }
          },
          "ternary": {
           "aaxis": {
            "gridcolor": "white",
            "linecolor": "white",
            "ticks": ""
           },
           "baxis": {
            "gridcolor": "white",
            "linecolor": "white",
            "ticks": ""
           },
           "bgcolor": "#E5ECF6",
           "caxis": {
            "gridcolor": "white",
            "linecolor": "white",
            "ticks": ""
           }
          },
          "title": {
           "x": 0.05
          },
          "xaxis": {
           "automargin": true,
           "gridcolor": "white",
           "linecolor": "white",
           "ticks": "",
           "title": {
            "standoff": 15
           },
           "zerolinecolor": "white",
           "zerolinewidth": 2
          },
          "yaxis": {
           "automargin": true,
           "gridcolor": "white",
           "linecolor": "white",
           "ticks": "",
           "title": {
            "standoff": 15
           },
           "zerolinecolor": "white",
           "zerolinewidth": 2
          }
         }
        },
        "title": {
         "font": {
          "color": "#4D5663"
         }
        },
        "xaxis": {
         "gridcolor": "#E1E5ED",
         "showgrid": true,
         "tickfont": {
          "color": "#4D5663"
         },
         "title": {
          "font": {
           "color": "#4D5663"
          },
          "text": ""
         },
         "zerolinecolor": "#E1E5ED"
        },
        "yaxis": {
         "gridcolor": "#E1E5ED",
         "showgrid": true,
         "tickfont": {
          "color": "#4D5663"
         },
         "title": {
          "font": {
           "color": "#4D5663"
          },
          "text": ""
         },
         "zerolinecolor": "#E1E5ED"
        }
       }
      },
      "text/html": [
       "<div>                            <div id=\"83ef36a1-8d14-4949-b076-042328e24bc9\" class=\"plotly-graph-div\" style=\"height:525px; width:100%;\"></div>            <script type=\"text/javascript\">                require([\"plotly\"], function(Plotly) {                    window.PLOTLYENV=window.PLOTLYENV || {};\n",
       "                    window.PLOTLYENV.BASE_URL='https://plot.ly';                                    if (document.getElementById(\"83ef36a1-8d14-4949-b076-042328e24bc9\")) {                    Plotly.newPlot(                        \"83ef36a1-8d14-4949-b076-042328e24bc9\",                        [{\"colorscale\": [[0.0, \"rgb(165,0,38)\"], [0.1, \"rgb(215,48,39)\"], [0.2, \"rgb(244,109,67)\"], [0.3, \"rgb(253,174,97)\"], [0.4, \"rgb(254,224,144)\"], [0.5, \"rgb(255,255,191)\"], [0.6, \"rgb(224,243,248)\"], [0.7, \"rgb(171,217,233)\"], [0.8, \"rgb(116,173,209)\"], [0.9, \"rgb(69,117,180)\"], [1.0, \"rgb(49,54,149)\"]], \"type\": \"surface\", \"x\": [0, 1, 2, 3, 4], \"y\": [\"x\", \"y\", \"z\"], \"z\": [[1, 2, 3, 4, 5], [10, 20, 30, 20, 10], [5, 4, 3, 2, 1]]}],                        {\"legend\": {\"bgcolor\": \"#F5F6F9\", \"font\": {\"color\": \"#4D5663\"}}, \"paper_bgcolor\": \"#F5F6F9\", \"plot_bgcolor\": \"#F5F6F9\", \"template\": {\"data\": {\"bar\": [{\"error_x\": {\"color\": \"#2a3f5f\"}, \"error_y\": {\"color\": \"#2a3f5f\"}, \"marker\": {\"line\": {\"color\": \"#E5ECF6\", \"width\": 0.5}}, \"type\": \"bar\"}], \"barpolar\": [{\"marker\": {\"line\": {\"color\": \"#E5ECF6\", \"width\": 0.5}}, \"type\": \"barpolar\"}], \"carpet\": [{\"aaxis\": {\"endlinecolor\": \"#2a3f5f\", \"gridcolor\": \"white\", \"linecolor\": \"white\", \"minorgridcolor\": \"white\", \"startlinecolor\": \"#2a3f5f\"}, \"baxis\": {\"endlinecolor\": \"#2a3f5f\", \"gridcolor\": \"white\", \"linecolor\": \"white\", \"minorgridcolor\": \"white\", \"startlinecolor\": \"#2a3f5f\"}, \"type\": \"carpet\"}], \"choropleth\": [{\"colorbar\": {\"outlinewidth\": 0, \"ticks\": \"\"}, \"type\": \"choropleth\"}], \"contour\": [{\"colorbar\": {\"outlinewidth\": 0, \"ticks\": \"\"}, \"colorscale\": [[0.0, \"#0d0887\"], [0.1111111111111111, \"#46039f\"], [0.2222222222222222, \"#7201a8\"], [0.3333333333333333, \"#9c179e\"], [0.4444444444444444, \"#bd3786\"], [0.5555555555555556, \"#d8576b\"], [0.6666666666666666, \"#ed7953\"], [0.7777777777777778, \"#fb9f3a\"], [0.8888888888888888, \"#fdca26\"], [1.0, \"#f0f921\"]], \"type\": \"contour\"}], \"contourcarpet\": [{\"colorbar\": {\"outlinewidth\": 0, \"ticks\": \"\"}, \"type\": \"contourcarpet\"}], \"heatmap\": [{\"colorbar\": {\"outlinewidth\": 0, \"ticks\": \"\"}, \"colorscale\": [[0.0, \"#0d0887\"], [0.1111111111111111, \"#46039f\"], [0.2222222222222222, \"#7201a8\"], [0.3333333333333333, \"#9c179e\"], [0.4444444444444444, \"#bd3786\"], [0.5555555555555556, \"#d8576b\"], [0.6666666666666666, \"#ed7953\"], [0.7777777777777778, \"#fb9f3a\"], [0.8888888888888888, \"#fdca26\"], [1.0, \"#f0f921\"]], \"type\": \"heatmap\"}], \"heatmapgl\": [{\"colorbar\": {\"outlinewidth\": 0, \"ticks\": \"\"}, \"colorscale\": [[0.0, \"#0d0887\"], [0.1111111111111111, \"#46039f\"], [0.2222222222222222, \"#7201a8\"], [0.3333333333333333, \"#9c179e\"], [0.4444444444444444, \"#bd3786\"], [0.5555555555555556, \"#d8576b\"], [0.6666666666666666, \"#ed7953\"], [0.7777777777777778, \"#fb9f3a\"], [0.8888888888888888, \"#fdca26\"], [1.0, \"#f0f921\"]], \"type\": \"heatmapgl\"}], \"histogram\": [{\"marker\": {\"colorbar\": {\"outlinewidth\": 0, \"ticks\": \"\"}}, \"type\": \"histogram\"}], \"histogram2d\": [{\"colorbar\": {\"outlinewidth\": 0, \"ticks\": \"\"}, \"colorscale\": [[0.0, \"#0d0887\"], [0.1111111111111111, \"#46039f\"], [0.2222222222222222, \"#7201a8\"], [0.3333333333333333, \"#9c179e\"], [0.4444444444444444, \"#bd3786\"], [0.5555555555555556, \"#d8576b\"], [0.6666666666666666, \"#ed7953\"], [0.7777777777777778, \"#fb9f3a\"], [0.8888888888888888, \"#fdca26\"], [1.0, \"#f0f921\"]], \"type\": \"histogram2d\"}], \"histogram2dcontour\": [{\"colorbar\": {\"outlinewidth\": 0, \"ticks\": \"\"}, \"colorscale\": [[0.0, \"#0d0887\"], [0.1111111111111111, \"#46039f\"], [0.2222222222222222, \"#7201a8\"], [0.3333333333333333, \"#9c179e\"], [0.4444444444444444, \"#bd3786\"], [0.5555555555555556, \"#d8576b\"], [0.6666666666666666, \"#ed7953\"], [0.7777777777777778, \"#fb9f3a\"], [0.8888888888888888, \"#fdca26\"], [1.0, \"#f0f921\"]], \"type\": \"histogram2dcontour\"}], \"mesh3d\": [{\"colorbar\": {\"outlinewidth\": 0, \"ticks\": \"\"}, \"type\": \"mesh3d\"}], \"parcoords\": [{\"line\": {\"colorbar\": {\"outlinewidth\": 0, \"ticks\": \"\"}}, \"type\": \"parcoords\"}], \"pie\": [{\"automargin\": true, \"type\": \"pie\"}], \"scatter\": [{\"marker\": {\"colorbar\": {\"outlinewidth\": 0, \"ticks\": \"\"}}, \"type\": \"scatter\"}], \"scatter3d\": [{\"line\": {\"colorbar\": {\"outlinewidth\": 0, \"ticks\": \"\"}}, \"marker\": {\"colorbar\": {\"outlinewidth\": 0, \"ticks\": \"\"}}, \"type\": \"scatter3d\"}], \"scattercarpet\": [{\"marker\": {\"colorbar\": {\"outlinewidth\": 0, \"ticks\": \"\"}}, \"type\": \"scattercarpet\"}], \"scattergeo\": [{\"marker\": {\"colorbar\": {\"outlinewidth\": 0, \"ticks\": \"\"}}, \"type\": \"scattergeo\"}], \"scattergl\": [{\"marker\": {\"colorbar\": {\"outlinewidth\": 0, \"ticks\": \"\"}}, \"type\": \"scattergl\"}], \"scattermapbox\": [{\"marker\": {\"colorbar\": {\"outlinewidth\": 0, \"ticks\": \"\"}}, \"type\": \"scattermapbox\"}], \"scatterpolar\": [{\"marker\": {\"colorbar\": {\"outlinewidth\": 0, \"ticks\": \"\"}}, \"type\": \"scatterpolar\"}], \"scatterpolargl\": [{\"marker\": {\"colorbar\": {\"outlinewidth\": 0, \"ticks\": \"\"}}, \"type\": \"scatterpolargl\"}], \"scatterternary\": [{\"marker\": {\"colorbar\": {\"outlinewidth\": 0, \"ticks\": \"\"}}, \"type\": \"scatterternary\"}], \"surface\": [{\"colorbar\": {\"outlinewidth\": 0, \"ticks\": \"\"}, \"colorscale\": [[0.0, \"#0d0887\"], [0.1111111111111111, \"#46039f\"], [0.2222222222222222, \"#7201a8\"], [0.3333333333333333, \"#9c179e\"], [0.4444444444444444, \"#bd3786\"], [0.5555555555555556, \"#d8576b\"], [0.6666666666666666, \"#ed7953\"], [0.7777777777777778, \"#fb9f3a\"], [0.8888888888888888, \"#fdca26\"], [1.0, \"#f0f921\"]], \"type\": \"surface\"}], \"table\": [{\"cells\": {\"fill\": {\"color\": \"#EBF0F8\"}, \"line\": {\"color\": \"white\"}}, \"header\": {\"fill\": {\"color\": \"#C8D4E3\"}, \"line\": {\"color\": \"white\"}}, \"type\": \"table\"}]}, \"layout\": {\"annotationdefaults\": {\"arrowcolor\": \"#2a3f5f\", \"arrowhead\": 0, \"arrowwidth\": 1}, \"coloraxis\": {\"colorbar\": {\"outlinewidth\": 0, \"ticks\": \"\"}}, \"colorscale\": {\"diverging\": [[0, \"#8e0152\"], [0.1, \"#c51b7d\"], [0.2, \"#de77ae\"], [0.3, \"#f1b6da\"], [0.4, \"#fde0ef\"], [0.5, \"#f7f7f7\"], [0.6, \"#e6f5d0\"], [0.7, \"#b8e186\"], [0.8, \"#7fbc41\"], [0.9, \"#4d9221\"], [1, \"#276419\"]], \"sequential\": [[0.0, \"#0d0887\"], [0.1111111111111111, \"#46039f\"], [0.2222222222222222, \"#7201a8\"], [0.3333333333333333, \"#9c179e\"], [0.4444444444444444, \"#bd3786\"], [0.5555555555555556, \"#d8576b\"], [0.6666666666666666, \"#ed7953\"], [0.7777777777777778, \"#fb9f3a\"], [0.8888888888888888, \"#fdca26\"], [1.0, \"#f0f921\"]], \"sequentialminus\": [[0.0, \"#0d0887\"], [0.1111111111111111, \"#46039f\"], [0.2222222222222222, \"#7201a8\"], [0.3333333333333333, \"#9c179e\"], [0.4444444444444444, \"#bd3786\"], [0.5555555555555556, \"#d8576b\"], [0.6666666666666666, \"#ed7953\"], [0.7777777777777778, \"#fb9f3a\"], [0.8888888888888888, \"#fdca26\"], [1.0, \"#f0f921\"]]}, \"colorway\": [\"#636efa\", \"#EF553B\", \"#00cc96\", \"#ab63fa\", \"#FFA15A\", \"#19d3f3\", \"#FF6692\", \"#B6E880\", \"#FF97FF\", \"#FECB52\"], \"font\": {\"color\": \"#2a3f5f\"}, \"geo\": {\"bgcolor\": \"white\", \"lakecolor\": \"white\", \"landcolor\": \"#E5ECF6\", \"showlakes\": true, \"showland\": true, \"subunitcolor\": \"white\"}, \"hoverlabel\": {\"align\": \"left\"}, \"hovermode\": \"closest\", \"mapbox\": {\"style\": \"light\"}, \"paper_bgcolor\": \"white\", \"plot_bgcolor\": \"#E5ECF6\", \"polar\": {\"angularaxis\": {\"gridcolor\": \"white\", \"linecolor\": \"white\", \"ticks\": \"\"}, \"bgcolor\": \"#E5ECF6\", \"radialaxis\": {\"gridcolor\": \"white\", \"linecolor\": \"white\", \"ticks\": \"\"}}, \"scene\": {\"xaxis\": {\"backgroundcolor\": \"#E5ECF6\", \"gridcolor\": \"white\", \"gridwidth\": 2, \"linecolor\": \"white\", \"showbackground\": true, \"ticks\": \"\", \"zerolinecolor\": \"white\"}, \"yaxis\": {\"backgroundcolor\": \"#E5ECF6\", \"gridcolor\": \"white\", \"gridwidth\": 2, \"linecolor\": \"white\", \"showbackground\": true, \"ticks\": \"\", \"zerolinecolor\": \"white\"}, \"zaxis\": {\"backgroundcolor\": \"#E5ECF6\", \"gridcolor\": \"white\", \"gridwidth\": 2, \"linecolor\": \"white\", \"showbackground\": true, \"ticks\": \"\", \"zerolinecolor\": \"white\"}}, \"shapedefaults\": {\"line\": {\"color\": \"#2a3f5f\"}}, \"ternary\": {\"aaxis\": {\"gridcolor\": \"white\", \"linecolor\": \"white\", \"ticks\": \"\"}, \"baxis\": {\"gridcolor\": \"white\", \"linecolor\": \"white\", \"ticks\": \"\"}, \"bgcolor\": \"#E5ECF6\", \"caxis\": {\"gridcolor\": \"white\", \"linecolor\": \"white\", \"ticks\": \"\"}}, \"title\": {\"x\": 0.05}, \"xaxis\": {\"automargin\": true, \"gridcolor\": \"white\", \"linecolor\": \"white\", \"ticks\": \"\", \"title\": {\"standoff\": 15}, \"zerolinecolor\": \"white\", \"zerolinewidth\": 2}, \"yaxis\": {\"automargin\": true, \"gridcolor\": \"white\", \"linecolor\": \"white\", \"ticks\": \"\", \"title\": {\"standoff\": 15}, \"zerolinecolor\": \"white\", \"zerolinewidth\": 2}}}, \"title\": {\"font\": {\"color\": \"#4D5663\"}}, \"xaxis\": {\"gridcolor\": \"#E1E5ED\", \"showgrid\": true, \"tickfont\": {\"color\": \"#4D5663\"}, \"title\": {\"font\": {\"color\": \"#4D5663\"}, \"text\": \"\"}, \"zerolinecolor\": \"#E1E5ED\"}, \"yaxis\": {\"gridcolor\": \"#E1E5ED\", \"showgrid\": true, \"tickfont\": {\"color\": \"#4D5663\"}, \"title\": {\"font\": {\"color\": \"#4D5663\"}, \"text\": \"\"}, \"zerolinecolor\": \"#E1E5ED\"}},                        {\"showLink\": true, \"linkText\": \"Export to plot.ly\", \"plotlyServerURL\": \"https://plot.ly\", \"responsive\": true}                    ).then(function(){\n",
       "                            \n",
       "var gd = document.getElementById('83ef36a1-8d14-4949-b076-042328e24bc9');\n",
       "var x = new MutationObserver(function (mutations, observer) {{\n",
       "        var display = window.getComputedStyle(gd).display;\n",
       "        if (!display || display === 'none') {{\n",
       "            console.log([gd, 'removed!']);\n",
       "            Plotly.purge(gd);\n",
       "            observer.disconnect();\n",
       "        }}\n",
       "}});\n",
       "\n",
       "// Listen for the removal of the full notebook cells\n",
       "var notebookContainer = gd.closest('#notebook-container');\n",
       "if (notebookContainer) {{\n",
       "    x.observe(notebookContainer, {childList: true});\n",
       "}}\n",
       "\n",
       "// Listen for the clearing of the current output cell\n",
       "var outputEl = gd.closest('.output');\n",
       "if (outputEl) {{\n",
       "    x.observe(outputEl, {childList: true});\n",
       "}}\n",
       "\n",
       "                        })                };                });            </script>        </div>"
      ]
     },
     "metadata": {},
     "output_type": "display_data"
    }
   ],
   "source": [
    "df3 = pd.DataFrame({'x':[1,2,3,4,5], 'y':[10,20,30,20,10],'z':[5,4,3,2,1]} )\n",
    "df3.iplot(kind='surface', colorscale='')"
   ]
  },
  {
   "cell_type": "code",
   "execution_count": 15,
   "metadata": {
    "scrolled": true
   },
   "outputs": [
    {
     "name": "stderr",
     "output_type": "stream",
     "text": [
      "/Users/dmoussa/opt/anaconda3/lib/python3.7/site-packages/cufflinks/plotlytools.py:849: FutureWarning:\n",
      "\n",
      "The pandas.np module is deprecated and will be removed from pandas in a future version. Import numpy directly instead\n",
      "\n",
      "/Users/dmoussa/opt/anaconda3/lib/python3.7/site-packages/cufflinks/plotlytools.py:850: FutureWarning:\n",
      "\n",
      "The pandas.np module is deprecated and will be removed from pandas in a future version. Import numpy directly instead\n",
      "\n"
     ]
    },
    {
     "data": {
      "application/vnd.plotly.v1+json": {
       "config": {
        "linkText": "Export to plot.ly",
        "plotlyServerURL": "https://plot.ly",
        "showLink": true
       },
       "data": [
        {
         "line": {
          "color": "rgba(255, 153, 51, 1.0)",
          "dash": "solid",
          "shape": "linear",
          "width": 1.3
         },
         "mode": "lines",
         "name": "A",
         "text": "",
         "type": "scatter",
         "x": [
          0,
          1,
          2,
          3,
          4,
          5,
          6,
          7,
          8,
          9,
          10,
          11,
          12,
          13,
          14,
          15,
          16,
          17,
          18,
          19,
          20,
          21,
          22,
          23,
          24,
          25,
          26,
          27,
          28,
          29,
          30,
          31,
          32,
          33,
          34,
          35,
          36,
          37,
          38,
          39,
          40,
          41,
          42,
          43,
          44,
          45,
          46,
          47,
          48,
          49,
          50,
          51,
          52,
          53,
          54,
          55,
          56,
          57,
          58,
          59,
          60,
          61,
          62,
          63,
          64,
          65,
          66,
          67,
          68,
          69,
          70,
          71,
          72,
          73,
          74,
          75,
          76,
          77,
          78,
          79,
          80,
          81,
          82,
          83,
          84,
          85,
          86,
          87,
          88,
          89,
          90,
          91,
          92,
          93,
          94,
          95,
          96,
          97,
          98,
          99
         ],
         "y": [
          -0.30202016863775033,
          -0.28564555846571377,
          0.4476704948481836,
          -0.7162322499431878,
          -1.1752084454356209,
          0.037922946952660096,
          -0.4784580310902896,
          -0.8127219470868241,
          -0.2015463810609984,
          -1.2477309120841387,
          0.33416595599237875,
          -0.3925825214642993,
          0.8483162327766754,
          1.4017593159498198,
          -0.24447542578970963,
          0.3268425653949366,
          0.7896328968946461,
          0.05003230055379049,
          0.8713596231470593,
          -0.36768247294659173,
          1.456695935256,
          0.09086717022177927,
          0.8308289690395506,
          0.4570302705052343,
          1.641725152630206,
          -0.34337193630447227,
          -0.6899548045806325,
          -1.4989669498743878,
          -0.4990655862049401,
          -1.2763195565688894,
          -0.5841927721605572,
          -0.6531615312082533,
          -1.544688058823571,
          1.241823683012709,
          0.36670402575200034,
          0.36785862000313696,
          -0.4251916229702931,
          -1.1424611416885133,
          0.11744918233688426,
          -0.2943921274727523,
          -0.2630411797495611,
          1.1189450591825083,
          0.6771083217387999,
          -2.1007251081507516,
          -1.469901874723165,
          0.5804195589513341,
          -0.26050512490234284,
          2.2362929227372725,
          0.5190194687909312,
          -0.008163118768048035,
          -0.6611054621616541,
          1.36957273498277,
          0.57208163756899,
          0.12460374641094915,
          0.8356395402758129,
          -0.8335550054425519,
          -0.8946566144284955,
          -0.10099356338826994,
          0.04425297346768268,
          2.217770067273319,
          0.03522119302500431,
          -1.9869202369288799,
          -1.2508613408788938,
          0.09279898228614562,
          0.38692351076168063,
          -0.026236237411354904,
          -1.491069699311706,
          0.8294659536906288,
          0.6136776593807836,
          -0.8154202979633771,
          0.6293335815887414,
          -1.0923772889015413,
          0.7386223240270853,
          -0.68737966371764,
          -0.6422680828562675,
          0.7998127045023482,
          0.9217752449620659,
          0.04459918763480434,
          -0.445947653484942,
          -0.3773323373724564,
          0.4050137890893175,
          0.19591076972454038,
          -0.3532570369973499,
          -0.19817408743935175,
          -0.311181936508081,
          -0.5692973337611296,
          1.2737066010007103,
          0.33310651006183967,
          2.343367044548086,
          -0.4488947193251729,
          0.16005691450387768,
          -0.5608031062151607,
          -0.2592370006186431,
          -0.7117502976304382,
          -0.5122229220026929,
          0.9231576330805437,
          1.108977825338648,
          0.05946369407947916,
          -0.5664014911796487,
          0.5891591881972967
         ]
        },
        {
         "line": {
          "color": "rgba(55, 128, 191, 1.0)",
          "dash": "solid",
          "shape": "linear",
          "width": 1.3
         },
         "mode": "lines",
         "name": "B",
         "text": "",
         "type": "scatter",
         "x": [
          0,
          1,
          2,
          3,
          4,
          5,
          6,
          7,
          8,
          9,
          10,
          11,
          12,
          13,
          14,
          15,
          16,
          17,
          18,
          19,
          20,
          21,
          22,
          23,
          24,
          25,
          26,
          27,
          28,
          29,
          30,
          31,
          32,
          33,
          34,
          35,
          36,
          37,
          38,
          39,
          40,
          41,
          42,
          43,
          44,
          45,
          46,
          47,
          48,
          49,
          50,
          51,
          52,
          53,
          54,
          55,
          56,
          57,
          58,
          59,
          60,
          61,
          62,
          63,
          64,
          65,
          66,
          67,
          68,
          69,
          70,
          71,
          72,
          73,
          74,
          75,
          76,
          77,
          78,
          79,
          80,
          81,
          82,
          83,
          84,
          85,
          86,
          87,
          88,
          89,
          90,
          91,
          92,
          93,
          94,
          95,
          96,
          97,
          98,
          99
         ],
         "y": [
          -0.8488668044204304,
          0.0829347754880924,
          0.5024352835101774,
          -1.555223408984092,
          -1.7161100299123155,
          0.13905529392350072,
          0.4697605231701461,
          -0.2067026939520887,
          -1.1575550785607536,
          1.0197452265500921,
          1.1202487101150227,
          1.5954620391368428,
          -0.4375092399621281,
          -0.47581549224960684,
          1.1853669230476602,
          -0.7970090865687269,
          -0.217834734307552,
          -0.9266855311136963,
          0.6925149520732994,
          -0.14063441315709707,
          1.3397844385147475,
          -0.1413885447509737,
          -0.3341614782625514,
          -1.0331617312485522,
          0.24434025389131428,
          1.5085738205782122,
          0.10463564901176917,
          -1.0951203549391761,
          -0.27409678695725026,
          0.420532769222361,
          0.44161004868931125,
          1.243251467420042,
          2.014541632056787,
          0.0005947858539945759,
          1.2239989488374874,
          -0.3249945539545311,
          0.11473621845710603,
          1.1583020744108352,
          0.33306800250962726,
          0.6084733116468805,
          0.2736092321470979,
          -1.5679830656702087,
          -0.06928753093902698,
          0.526425209767373,
          -0.01545031249896855,
          -0.2570800949369005,
          -0.4691911947167141,
          0.3670764942533598,
          0.9329487179609518,
          0.2795889554620296,
          -0.7792859324560443,
          1.320870561157038,
          -0.9628173239459669,
          1.0288747348344904,
          -0.31456248623952465,
          1.179250469511076,
          0.03272168521154292,
          -0.07204583648761341,
          1.1921789942533836,
          1.25019068010553,
          -0.03188346728559232,
          -0.1530268360484573,
          0.9831775188487099,
          -0.5267924542187926,
          -0.4053089572688673,
          -0.051938708052279375,
          0.45703909564713263,
          0.2642433727428654,
          0.5251885395153827,
          -0.0744890981195537,
          0.20179472075573884,
          -0.24260442894883943,
          -0.7655468244843483,
          -0.25466269286703574,
          1.3274099884767236,
          -1.8920515553120267,
          0.10540569529487552,
          1.0160601421792685,
          1.0480390651944593,
          -1.2983474014888645,
          -0.5118493322462478,
          -0.6211629820763115,
          -0.7131189561305936,
          -1.5519881153245678,
          0.3588037520991031,
          -0.7401347991919084,
          0.5898932362401884,
          0.6230541842326577,
          0.1469808884715823,
          -1.4909432837564347,
          0.16216809925339512,
          -0.24679042370819276,
          -0.30396064222875,
          1.064430955755844,
          0.3820227711156056,
          -1.9545417907404197,
          -0.8840834393902629,
          -0.8514764988023206,
          0.4516710603713084,
          -0.9713569710562179
         ]
        },
        {
         "connectgaps": false,
         "fill": "tozeroy",
         "line": {
          "color": "green",
          "dash": "solid",
          "shape": "linear",
          "width": 0.5
         },
         "mode": "lines",
         "name": "Spread",
         "showlegend": false,
         "type": "scatter",
         "x": [
          0,
          1,
          2,
          3,
          4,
          5,
          6,
          7,
          8,
          9,
          10,
          11,
          12,
          13,
          14,
          15,
          16,
          17,
          18,
          19,
          20,
          21,
          22,
          23,
          24,
          25,
          26,
          27,
          28,
          29,
          30,
          31,
          32,
          33,
          34,
          35,
          36,
          37,
          38,
          39,
          40,
          41,
          42,
          43,
          44,
          45,
          46,
          47,
          48,
          49,
          50,
          51,
          52,
          53,
          54,
          55,
          56,
          57,
          58,
          59,
          60,
          61,
          62,
          63,
          64,
          65,
          66,
          67,
          68,
          69,
          70,
          71,
          72,
          73,
          74,
          75,
          76,
          77,
          78,
          79,
          80,
          81,
          82,
          83,
          84,
          85,
          86,
          87,
          88,
          89,
          90,
          91,
          92,
          93,
          94,
          95,
          96,
          97,
          98,
          99
         ],
         "xaxis": "x2",
         "y": [
          0.54684663578268,
          "",
          "",
          0.8389911590409042,
          0.5409015844766947,
          "",
          "",
          "",
          0.9560086974997551,
          "",
          "",
          "",
          1.2858254727388037,
          1.8775748081994266,
          "",
          1.1238516519636637,
          1.0074676312021982,
          0.9767178316674868,
          0.1788446710737599,
          "",
          0.11691149674125256,
          0.232255714972753,
          1.164990447302102,
          1.4901920017537864,
          1.3973848987388917,
          "",
          "",
          "",
          "",
          "",
          "",
          "",
          "",
          1.2412288971587144,
          "",
          0.692853173957668,
          "",
          "",
          "",
          "",
          "",
          2.686928124852717,
          0.7463958526778268,
          "",
          "",
          0.8374996538882347,
          0.20868606981437127,
          1.8692164284839128,
          "",
          "",
          0.11818047029439016,
          0.048702173825732054,
          1.5348989615149569,
          "",
          1.1502020265153376,
          "",
          "",
          "",
          "",
          0.9675793871677891,
          0.06710466031059663,
          "",
          "",
          0.6195914365049382,
          0.7922324680305479,
          0.02570247064092447,
          "",
          0.5652225809477633,
          0.08848911986540087,
          "",
          0.4275388608330026,
          "",
          1.5041691485114335,
          "",
          "",
          2.691864259814375,
          0.8163695496671903,
          "",
          "",
          0.9210150641164081,
          0.9168631213355654,
          0.8170737518008518,
          0.3598619191332437,
          1.353814027885216,
          "",
          0.17083746543077882,
          0.6838133647605219,
          "",
          2.1963861560765037,
          1.0420485644312618,
          "",
          "",
          0.044723641610106946,
          "",
          "",
          2.8776994238209634,
          1.9930612647289108,
          0.9109401928817997,
          "",
          1.5605161592535146
         ],
         "yaxis": "y2"
        },
        {
         "connectgaps": false,
         "fill": "tozeroy",
         "line": {
          "color": "red",
          "dash": "solid",
          "shape": "linear",
          "width": 0.5
         },
         "mode": "lines",
         "name": "Spread",
         "showlegend": false,
         "type": "scatter",
         "x": [
          0,
          1,
          2,
          3,
          4,
          5,
          6,
          7,
          8,
          9,
          10,
          11,
          12,
          13,
          14,
          15,
          16,
          17,
          18,
          19,
          20,
          21,
          22,
          23,
          24,
          25,
          26,
          27,
          28,
          29,
          30,
          31,
          32,
          33,
          34,
          35,
          36,
          37,
          38,
          39,
          40,
          41,
          42,
          43,
          44,
          45,
          46,
          47,
          48,
          49,
          50,
          51,
          52,
          53,
          54,
          55,
          56,
          57,
          58,
          59,
          60,
          61,
          62,
          63,
          64,
          65,
          66,
          67,
          68,
          69,
          70,
          71,
          72,
          73,
          74,
          75,
          76,
          77,
          78,
          79,
          80,
          81,
          82,
          83,
          84,
          85,
          86,
          87,
          88,
          89,
          90,
          91,
          92,
          93,
          94,
          95,
          96,
          97,
          98,
          99
         ],
         "xaxis": "x2",
         "y": [
          "",
          -0.3685803339538062,
          -0.0547647886619938,
          "",
          "",
          -0.10113234697084061,
          -0.9482185542604358,
          -0.6060192531347354,
          "",
          -2.2674761386342306,
          -0.786082754122644,
          -1.988044560601142,
          "",
          "",
          -1.42984234883737,
          "",
          "",
          "",
          "",
          -0.22704805978949466,
          "",
          "",
          "",
          "",
          "",
          -1.8519457568826845,
          -0.7945904535924017,
          -0.4038465949352117,
          -0.22496879924768987,
          -1.6968523257912504,
          -1.0258028208498684,
          -1.8964129986282952,
          -3.5592296908803576,
          "",
          -0.857294923085487,
          "",
          -0.5399278414273991,
          -2.3007632160993485,
          -0.215618820172743,
          -0.9028654391196327,
          -0.5366504118966591,
          "",
          "",
          -2.6271503179181246,
          -1.4544515622241965,
          "",
          "",
          "",
          -0.4139292491700206,
          -0.28775207423007765,
          "",
          "",
          "",
          -0.9042709884235413,
          "",
          -2.0128054749536277,
          -0.9273782996400385,
          -0.02894772690065653,
          -1.147926020785701,
          "",
          "",
          -1.8338934008804226,
          -2.2340388597276037,
          "",
          "",
          "",
          -1.9481087949588387,
          "",
          "",
          -0.7409311998438234,
          "",
          -0.8497728599527019,
          "",
          -0.4327169708506043,
          -1.969678071332991,
          "",
          "",
          -0.9714609545444642,
          -1.4939867186794014,
          "",
          "",
          "",
          "",
          "",
          -0.6699856886071841,
          "",
          "",
          -0.289947674170818,
          "",
          "",
          -0.0021111847495174363,
          -0.31401268250696796,
          "",
          -1.7761812533862822,
          -0.8942456931182985,
          "",
          "",
          "",
          -1.018072551550957,
          ""
         ],
         "yaxis": "y2"
        }
       ],
       "layout": {
        "hovermode": "x",
        "legend": {
         "bgcolor": "#F5F6F9",
         "font": {
          "color": "#4D5663"
         }
        },
        "paper_bgcolor": "#F5F6F9",
        "plot_bgcolor": "#F5F6F9",
        "template": {
         "data": {
          "bar": [
           {
            "error_x": {
             "color": "#2a3f5f"
            },
            "error_y": {
             "color": "#2a3f5f"
            },
            "marker": {
             "line": {
              "color": "#E5ECF6",
              "width": 0.5
             }
            },
            "type": "bar"
           }
          ],
          "barpolar": [
           {
            "marker": {
             "line": {
              "color": "#E5ECF6",
              "width": 0.5
             }
            },
            "type": "barpolar"
           }
          ],
          "carpet": [
           {
            "aaxis": {
             "endlinecolor": "#2a3f5f",
             "gridcolor": "white",
             "linecolor": "white",
             "minorgridcolor": "white",
             "startlinecolor": "#2a3f5f"
            },
            "baxis": {
             "endlinecolor": "#2a3f5f",
             "gridcolor": "white",
             "linecolor": "white",
             "minorgridcolor": "white",
             "startlinecolor": "#2a3f5f"
            },
            "type": "carpet"
           }
          ],
          "choropleth": [
           {
            "colorbar": {
             "outlinewidth": 0,
             "ticks": ""
            },
            "type": "choropleth"
           }
          ],
          "contour": [
           {
            "colorbar": {
             "outlinewidth": 0,
             "ticks": ""
            },
            "colorscale": [
             [
              0,
              "#0d0887"
             ],
             [
              0.1111111111111111,
              "#46039f"
             ],
             [
              0.2222222222222222,
              "#7201a8"
             ],
             [
              0.3333333333333333,
              "#9c179e"
             ],
             [
              0.4444444444444444,
              "#bd3786"
             ],
             [
              0.5555555555555556,
              "#d8576b"
             ],
             [
              0.6666666666666666,
              "#ed7953"
             ],
             [
              0.7777777777777778,
              "#fb9f3a"
             ],
             [
              0.8888888888888888,
              "#fdca26"
             ],
             [
              1,
              "#f0f921"
             ]
            ],
            "type": "contour"
           }
          ],
          "contourcarpet": [
           {
            "colorbar": {
             "outlinewidth": 0,
             "ticks": ""
            },
            "type": "contourcarpet"
           }
          ],
          "heatmap": [
           {
            "colorbar": {
             "outlinewidth": 0,
             "ticks": ""
            },
            "colorscale": [
             [
              0,
              "#0d0887"
             ],
             [
              0.1111111111111111,
              "#46039f"
             ],
             [
              0.2222222222222222,
              "#7201a8"
             ],
             [
              0.3333333333333333,
              "#9c179e"
             ],
             [
              0.4444444444444444,
              "#bd3786"
             ],
             [
              0.5555555555555556,
              "#d8576b"
             ],
             [
              0.6666666666666666,
              "#ed7953"
             ],
             [
              0.7777777777777778,
              "#fb9f3a"
             ],
             [
              0.8888888888888888,
              "#fdca26"
             ],
             [
              1,
              "#f0f921"
             ]
            ],
            "type": "heatmap"
           }
          ],
          "heatmapgl": [
           {
            "colorbar": {
             "outlinewidth": 0,
             "ticks": ""
            },
            "colorscale": [
             [
              0,
              "#0d0887"
             ],
             [
              0.1111111111111111,
              "#46039f"
             ],
             [
              0.2222222222222222,
              "#7201a8"
             ],
             [
              0.3333333333333333,
              "#9c179e"
             ],
             [
              0.4444444444444444,
              "#bd3786"
             ],
             [
              0.5555555555555556,
              "#d8576b"
             ],
             [
              0.6666666666666666,
              "#ed7953"
             ],
             [
              0.7777777777777778,
              "#fb9f3a"
             ],
             [
              0.8888888888888888,
              "#fdca26"
             ],
             [
              1,
              "#f0f921"
             ]
            ],
            "type": "heatmapgl"
           }
          ],
          "histogram": [
           {
            "marker": {
             "colorbar": {
              "outlinewidth": 0,
              "ticks": ""
             }
            },
            "type": "histogram"
           }
          ],
          "histogram2d": [
           {
            "colorbar": {
             "outlinewidth": 0,
             "ticks": ""
            },
            "colorscale": [
             [
              0,
              "#0d0887"
             ],
             [
              0.1111111111111111,
              "#46039f"
             ],
             [
              0.2222222222222222,
              "#7201a8"
             ],
             [
              0.3333333333333333,
              "#9c179e"
             ],
             [
              0.4444444444444444,
              "#bd3786"
             ],
             [
              0.5555555555555556,
              "#d8576b"
             ],
             [
              0.6666666666666666,
              "#ed7953"
             ],
             [
              0.7777777777777778,
              "#fb9f3a"
             ],
             [
              0.8888888888888888,
              "#fdca26"
             ],
             [
              1,
              "#f0f921"
             ]
            ],
            "type": "histogram2d"
           }
          ],
          "histogram2dcontour": [
           {
            "colorbar": {
             "outlinewidth": 0,
             "ticks": ""
            },
            "colorscale": [
             [
              0,
              "#0d0887"
             ],
             [
              0.1111111111111111,
              "#46039f"
             ],
             [
              0.2222222222222222,
              "#7201a8"
             ],
             [
              0.3333333333333333,
              "#9c179e"
             ],
             [
              0.4444444444444444,
              "#bd3786"
             ],
             [
              0.5555555555555556,
              "#d8576b"
             ],
             [
              0.6666666666666666,
              "#ed7953"
             ],
             [
              0.7777777777777778,
              "#fb9f3a"
             ],
             [
              0.8888888888888888,
              "#fdca26"
             ],
             [
              1,
              "#f0f921"
             ]
            ],
            "type": "histogram2dcontour"
           }
          ],
          "mesh3d": [
           {
            "colorbar": {
             "outlinewidth": 0,
             "ticks": ""
            },
            "type": "mesh3d"
           }
          ],
          "parcoords": [
           {
            "line": {
             "colorbar": {
              "outlinewidth": 0,
              "ticks": ""
             }
            },
            "type": "parcoords"
           }
          ],
          "pie": [
           {
            "automargin": true,
            "type": "pie"
           }
          ],
          "scatter": [
           {
            "marker": {
             "colorbar": {
              "outlinewidth": 0,
              "ticks": ""
             }
            },
            "type": "scatter"
           }
          ],
          "scatter3d": [
           {
            "line": {
             "colorbar": {
              "outlinewidth": 0,
              "ticks": ""
             }
            },
            "marker": {
             "colorbar": {
              "outlinewidth": 0,
              "ticks": ""
             }
            },
            "type": "scatter3d"
           }
          ],
          "scattercarpet": [
           {
            "marker": {
             "colorbar": {
              "outlinewidth": 0,
              "ticks": ""
             }
            },
            "type": "scattercarpet"
           }
          ],
          "scattergeo": [
           {
            "marker": {
             "colorbar": {
              "outlinewidth": 0,
              "ticks": ""
             }
            },
            "type": "scattergeo"
           }
          ],
          "scattergl": [
           {
            "marker": {
             "colorbar": {
              "outlinewidth": 0,
              "ticks": ""
             }
            },
            "type": "scattergl"
           }
          ],
          "scattermapbox": [
           {
            "marker": {
             "colorbar": {
              "outlinewidth": 0,
              "ticks": ""
             }
            },
            "type": "scattermapbox"
           }
          ],
          "scatterpolar": [
           {
            "marker": {
             "colorbar": {
              "outlinewidth": 0,
              "ticks": ""
             }
            },
            "type": "scatterpolar"
           }
          ],
          "scatterpolargl": [
           {
            "marker": {
             "colorbar": {
              "outlinewidth": 0,
              "ticks": ""
             }
            },
            "type": "scatterpolargl"
           }
          ],
          "scatterternary": [
           {
            "marker": {
             "colorbar": {
              "outlinewidth": 0,
              "ticks": ""
             }
            },
            "type": "scatterternary"
           }
          ],
          "surface": [
           {
            "colorbar": {
             "outlinewidth": 0,
             "ticks": ""
            },
            "colorscale": [
             [
              0,
              "#0d0887"
             ],
             [
              0.1111111111111111,
              "#46039f"
             ],
             [
              0.2222222222222222,
              "#7201a8"
             ],
             [
              0.3333333333333333,
              "#9c179e"
             ],
             [
              0.4444444444444444,
              "#bd3786"
             ],
             [
              0.5555555555555556,
              "#d8576b"
             ],
             [
              0.6666666666666666,
              "#ed7953"
             ],
             [
              0.7777777777777778,
              "#fb9f3a"
             ],
             [
              0.8888888888888888,
              "#fdca26"
             ],
             [
              1,
              "#f0f921"
             ]
            ],
            "type": "surface"
           }
          ],
          "table": [
           {
            "cells": {
             "fill": {
              "color": "#EBF0F8"
             },
             "line": {
              "color": "white"
             }
            },
            "header": {
             "fill": {
              "color": "#C8D4E3"
             },
             "line": {
              "color": "white"
             }
            },
            "type": "table"
           }
          ]
         },
         "layout": {
          "annotationdefaults": {
           "arrowcolor": "#2a3f5f",
           "arrowhead": 0,
           "arrowwidth": 1
          },
          "coloraxis": {
           "colorbar": {
            "outlinewidth": 0,
            "ticks": ""
           }
          },
          "colorscale": {
           "diverging": [
            [
             0,
             "#8e0152"
            ],
            [
             0.1,
             "#c51b7d"
            ],
            [
             0.2,
             "#de77ae"
            ],
            [
             0.3,
             "#f1b6da"
            ],
            [
             0.4,
             "#fde0ef"
            ],
            [
             0.5,
             "#f7f7f7"
            ],
            [
             0.6,
             "#e6f5d0"
            ],
            [
             0.7,
             "#b8e186"
            ],
            [
             0.8,
             "#7fbc41"
            ],
            [
             0.9,
             "#4d9221"
            ],
            [
             1,
             "#276419"
            ]
           ],
           "sequential": [
            [
             0,
             "#0d0887"
            ],
            [
             0.1111111111111111,
             "#46039f"
            ],
            [
             0.2222222222222222,
             "#7201a8"
            ],
            [
             0.3333333333333333,
             "#9c179e"
            ],
            [
             0.4444444444444444,
             "#bd3786"
            ],
            [
             0.5555555555555556,
             "#d8576b"
            ],
            [
             0.6666666666666666,
             "#ed7953"
            ],
            [
             0.7777777777777778,
             "#fb9f3a"
            ],
            [
             0.8888888888888888,
             "#fdca26"
            ],
            [
             1,
             "#f0f921"
            ]
           ],
           "sequentialminus": [
            [
             0,
             "#0d0887"
            ],
            [
             0.1111111111111111,
             "#46039f"
            ],
            [
             0.2222222222222222,
             "#7201a8"
            ],
            [
             0.3333333333333333,
             "#9c179e"
            ],
            [
             0.4444444444444444,
             "#bd3786"
            ],
            [
             0.5555555555555556,
             "#d8576b"
            ],
            [
             0.6666666666666666,
             "#ed7953"
            ],
            [
             0.7777777777777778,
             "#fb9f3a"
            ],
            [
             0.8888888888888888,
             "#fdca26"
            ],
            [
             1,
             "#f0f921"
            ]
           ]
          },
          "colorway": [
           "#636efa",
           "#EF553B",
           "#00cc96",
           "#ab63fa",
           "#FFA15A",
           "#19d3f3",
           "#FF6692",
           "#B6E880",
           "#FF97FF",
           "#FECB52"
          ],
          "font": {
           "color": "#2a3f5f"
          },
          "geo": {
           "bgcolor": "white",
           "lakecolor": "white",
           "landcolor": "#E5ECF6",
           "showlakes": true,
           "showland": true,
           "subunitcolor": "white"
          },
          "hoverlabel": {
           "align": "left"
          },
          "hovermode": "closest",
          "mapbox": {
           "style": "light"
          },
          "paper_bgcolor": "white",
          "plot_bgcolor": "#E5ECF6",
          "polar": {
           "angularaxis": {
            "gridcolor": "white",
            "linecolor": "white",
            "ticks": ""
           },
           "bgcolor": "#E5ECF6",
           "radialaxis": {
            "gridcolor": "white",
            "linecolor": "white",
            "ticks": ""
           }
          },
          "scene": {
           "xaxis": {
            "backgroundcolor": "#E5ECF6",
            "gridcolor": "white",
            "gridwidth": 2,
            "linecolor": "white",
            "showbackground": true,
            "ticks": "",
            "zerolinecolor": "white"
           },
           "yaxis": {
            "backgroundcolor": "#E5ECF6",
            "gridcolor": "white",
            "gridwidth": 2,
            "linecolor": "white",
            "showbackground": true,
            "ticks": "",
            "zerolinecolor": "white"
           },
           "zaxis": {
            "backgroundcolor": "#E5ECF6",
            "gridcolor": "white",
            "gridwidth": 2,
            "linecolor": "white",
            "showbackground": true,
            "ticks": "",
            "zerolinecolor": "white"
           }
          },
          "shapedefaults": {
           "line": {
            "color": "#2a3f5f"
           }
          },
          "ternary": {
           "aaxis": {
            "gridcolor": "white",
            "linecolor": "white",
            "ticks": ""
           },
           "baxis": {
            "gridcolor": "white",
            "linecolor": "white",
            "ticks": ""
           },
           "bgcolor": "#E5ECF6",
           "caxis": {
            "gridcolor": "white",
            "linecolor": "white",
            "ticks": ""
           }
          },
          "title": {
           "x": 0.05
          },
          "xaxis": {
           "automargin": true,
           "gridcolor": "white",
           "linecolor": "white",
           "ticks": "",
           "title": {
            "standoff": 15
           },
           "zerolinecolor": "white",
           "zerolinewidth": 2
          },
          "yaxis": {
           "automargin": true,
           "gridcolor": "white",
           "linecolor": "white",
           "ticks": "",
           "title": {
            "standoff": 15
           },
           "zerolinecolor": "white",
           "zerolinewidth": 2
          }
         }
        },
        "title": {
         "font": {
          "color": "#4D5663"
         }
        },
        "xaxis": {
         "gridcolor": "#E1E5ED",
         "showgrid": true,
         "tickfont": {
          "color": "#4D5663"
         },
         "title": {
          "font": {
           "color": "#4D5663"
          },
          "text": ""
         },
         "zerolinecolor": "#E1E5ED"
        },
        "xaxis2": {
         "anchor": "y2",
         "gridcolor": "#E1E5ED",
         "showgrid": true,
         "showticklabels": false,
         "tickfont": {
          "color": "#4D5663"
         },
         "title": {
          "font": {
           "color": "#4D5663"
          },
          "text": ""
         },
         "zerolinecolor": "#E1E5ED"
        },
        "yaxis": {
         "domain": [
          0.3,
          1
         ],
         "gridcolor": "#E1E5ED",
         "showgrid": true,
         "tickfont": {
          "color": "#4D5663"
         },
         "title": {
          "font": {
           "color": "#4D5663"
          },
          "text": ""
         },
         "zerolinecolor": "#E1E5ED"
        },
        "yaxis2": {
         "domain": [
          0,
          0.25
         ],
         "gridcolor": "#E1E5ED",
         "showgrid": true,
         "tickfont": {
          "color": "#4D5663"
         },
         "title": {
          "font": {
           "color": "#4D5663"
          },
          "text": "Spread"
         },
         "zerolinecolor": "#E1E5ED"
        }
       }
      },
      "text/html": [
       "<div>                            <div id=\"827a3530-0ce4-4944-9d4a-dd69458e02bb\" class=\"plotly-graph-div\" style=\"height:525px; width:100%;\"></div>            <script type=\"text/javascript\">                require([\"plotly\"], function(Plotly) {                    window.PLOTLYENV=window.PLOTLYENV || {};\n",
       "                    window.PLOTLYENV.BASE_URL='https://plot.ly';                                    if (document.getElementById(\"827a3530-0ce4-4944-9d4a-dd69458e02bb\")) {                    Plotly.newPlot(                        \"827a3530-0ce4-4944-9d4a-dd69458e02bb\",                        [{\"line\": {\"color\": \"rgba(255, 153, 51, 1.0)\", \"dash\": \"solid\", \"shape\": \"linear\", \"width\": 1.3}, \"mode\": \"lines\", \"name\": \"A\", \"text\": \"\", \"type\": \"scatter\", \"x\": [0, 1, 2, 3, 4, 5, 6, 7, 8, 9, 10, 11, 12, 13, 14, 15, 16, 17, 18, 19, 20, 21, 22, 23, 24, 25, 26, 27, 28, 29, 30, 31, 32, 33, 34, 35, 36, 37, 38, 39, 40, 41, 42, 43, 44, 45, 46, 47, 48, 49, 50, 51, 52, 53, 54, 55, 56, 57, 58, 59, 60, 61, 62, 63, 64, 65, 66, 67, 68, 69, 70, 71, 72, 73, 74, 75, 76, 77, 78, 79, 80, 81, 82, 83, 84, 85, 86, 87, 88, 89, 90, 91, 92, 93, 94, 95, 96, 97, 98, 99], \"y\": [-0.30202016863775033, -0.28564555846571377, 0.4476704948481836, -0.7162322499431878, -1.1752084454356209, 0.037922946952660096, -0.4784580310902896, -0.8127219470868241, -0.2015463810609984, -1.2477309120841387, 0.33416595599237875, -0.3925825214642993, 0.8483162327766754, 1.4017593159498198, -0.24447542578970963, 0.3268425653949366, 0.7896328968946461, 0.05003230055379049, 0.8713596231470593, -0.36768247294659173, 1.456695935256, 0.09086717022177927, 0.8308289690395506, 0.4570302705052343, 1.641725152630206, -0.34337193630447227, -0.6899548045806325, -1.4989669498743878, -0.4990655862049401, -1.2763195565688894, -0.5841927721605572, -0.6531615312082533, -1.544688058823571, 1.241823683012709, 0.36670402575200034, 0.36785862000313696, -0.4251916229702931, -1.1424611416885133, 0.11744918233688426, -0.2943921274727523, -0.2630411797495611, 1.1189450591825083, 0.6771083217387999, -2.1007251081507516, -1.469901874723165, 0.5804195589513341, -0.26050512490234284, 2.2362929227372725, 0.5190194687909312, -0.008163118768048035, -0.6611054621616541, 1.36957273498277, 0.57208163756899, 0.12460374641094915, 0.8356395402758129, -0.8335550054425519, -0.8946566144284955, -0.10099356338826994, 0.04425297346768268, 2.217770067273319, 0.03522119302500431, -1.9869202369288799, -1.2508613408788938, 0.09279898228614562, 0.38692351076168063, -0.026236237411354904, -1.491069699311706, 0.8294659536906288, 0.6136776593807836, -0.8154202979633771, 0.6293335815887414, -1.0923772889015413, 0.7386223240270853, -0.68737966371764, -0.6422680828562675, 0.7998127045023482, 0.9217752449620659, 0.04459918763480434, -0.445947653484942, -0.3773323373724564, 0.4050137890893175, 0.19591076972454038, -0.3532570369973499, -0.19817408743935175, -0.311181936508081, -0.5692973337611296, 1.2737066010007103, 0.33310651006183967, 2.343367044548086, -0.4488947193251729, 0.16005691450387768, -0.5608031062151607, -0.2592370006186431, -0.7117502976304382, -0.5122229220026929, 0.9231576330805437, 1.108977825338648, 0.05946369407947916, -0.5664014911796487, 0.5891591881972967]}, {\"line\": {\"color\": \"rgba(55, 128, 191, 1.0)\", \"dash\": \"solid\", \"shape\": \"linear\", \"width\": 1.3}, \"mode\": \"lines\", \"name\": \"B\", \"text\": \"\", \"type\": \"scatter\", \"x\": [0, 1, 2, 3, 4, 5, 6, 7, 8, 9, 10, 11, 12, 13, 14, 15, 16, 17, 18, 19, 20, 21, 22, 23, 24, 25, 26, 27, 28, 29, 30, 31, 32, 33, 34, 35, 36, 37, 38, 39, 40, 41, 42, 43, 44, 45, 46, 47, 48, 49, 50, 51, 52, 53, 54, 55, 56, 57, 58, 59, 60, 61, 62, 63, 64, 65, 66, 67, 68, 69, 70, 71, 72, 73, 74, 75, 76, 77, 78, 79, 80, 81, 82, 83, 84, 85, 86, 87, 88, 89, 90, 91, 92, 93, 94, 95, 96, 97, 98, 99], \"y\": [-0.8488668044204304, 0.0829347754880924, 0.5024352835101774, -1.555223408984092, -1.7161100299123155, 0.13905529392350072, 0.4697605231701461, -0.2067026939520887, -1.1575550785607536, 1.0197452265500921, 1.1202487101150227, 1.5954620391368428, -0.4375092399621281, -0.47581549224960684, 1.1853669230476602, -0.7970090865687269, -0.217834734307552, -0.9266855311136963, 0.6925149520732994, -0.14063441315709707, 1.3397844385147475, -0.1413885447509737, -0.3341614782625514, -1.0331617312485522, 0.24434025389131428, 1.5085738205782122, 0.10463564901176917, -1.0951203549391761, -0.27409678695725026, 0.420532769222361, 0.44161004868931125, 1.243251467420042, 2.014541632056787, 0.0005947858539945759, 1.2239989488374874, -0.3249945539545311, 0.11473621845710603, 1.1583020744108352, 0.33306800250962726, 0.6084733116468805, 0.2736092321470979, -1.5679830656702087, -0.06928753093902698, 0.526425209767373, -0.01545031249896855, -0.2570800949369005, -0.4691911947167141, 0.3670764942533598, 0.9329487179609518, 0.2795889554620296, -0.7792859324560443, 1.320870561157038, -0.9628173239459669, 1.0288747348344904, -0.31456248623952465, 1.179250469511076, 0.03272168521154292, -0.07204583648761341, 1.1921789942533836, 1.25019068010553, -0.03188346728559232, -0.1530268360484573, 0.9831775188487099, -0.5267924542187926, -0.4053089572688673, -0.051938708052279375, 0.45703909564713263, 0.2642433727428654, 0.5251885395153827, -0.0744890981195537, 0.20179472075573884, -0.24260442894883943, -0.7655468244843483, -0.25466269286703574, 1.3274099884767236, -1.8920515553120267, 0.10540569529487552, 1.0160601421792685, 1.0480390651944593, -1.2983474014888645, -0.5118493322462478, -0.6211629820763115, -0.7131189561305936, -1.5519881153245678, 0.3588037520991031, -0.7401347991919084, 0.5898932362401884, 0.6230541842326577, 0.1469808884715823, -1.4909432837564347, 0.16216809925339512, -0.24679042370819276, -0.30396064222875, 1.064430955755844, 0.3820227711156056, -1.9545417907404197, -0.8840834393902629, -0.8514764988023206, 0.4516710603713084, -0.9713569710562179]}, {\"connectgaps\": false, \"fill\": \"tozeroy\", \"line\": {\"color\": \"green\", \"dash\": \"solid\", \"shape\": \"linear\", \"width\": 0.5}, \"mode\": \"lines\", \"name\": \"Spread\", \"showlegend\": false, \"type\": \"scatter\", \"x\": [0, 1, 2, 3, 4, 5, 6, 7, 8, 9, 10, 11, 12, 13, 14, 15, 16, 17, 18, 19, 20, 21, 22, 23, 24, 25, 26, 27, 28, 29, 30, 31, 32, 33, 34, 35, 36, 37, 38, 39, 40, 41, 42, 43, 44, 45, 46, 47, 48, 49, 50, 51, 52, 53, 54, 55, 56, 57, 58, 59, 60, 61, 62, 63, 64, 65, 66, 67, 68, 69, 70, 71, 72, 73, 74, 75, 76, 77, 78, 79, 80, 81, 82, 83, 84, 85, 86, 87, 88, 89, 90, 91, 92, 93, 94, 95, 96, 97, 98, 99], \"xaxis\": \"x2\", \"y\": [0.54684663578268, \"\", \"\", 0.8389911590409042, 0.5409015844766947, \"\", \"\", \"\", 0.9560086974997551, \"\", \"\", \"\", 1.2858254727388037, 1.8775748081994266, \"\", 1.1238516519636637, 1.0074676312021982, 0.9767178316674868, 0.1788446710737599, \"\", 0.11691149674125256, 0.232255714972753, 1.164990447302102, 1.4901920017537864, 1.3973848987388917, \"\", \"\", \"\", \"\", \"\", \"\", \"\", \"\", 1.2412288971587144, \"\", 0.692853173957668, \"\", \"\", \"\", \"\", \"\", 2.686928124852717, 0.7463958526778268, \"\", \"\", 0.8374996538882347, 0.20868606981437127, 1.8692164284839128, \"\", \"\", 0.11818047029439016, 0.048702173825732054, 1.5348989615149569, \"\", 1.1502020265153376, \"\", \"\", \"\", \"\", 0.9675793871677891, 0.06710466031059663, \"\", \"\", 0.6195914365049382, 0.7922324680305479, 0.02570247064092447, \"\", 0.5652225809477633, 0.08848911986540087, \"\", 0.4275388608330026, \"\", 1.5041691485114335, \"\", \"\", 2.691864259814375, 0.8163695496671903, \"\", \"\", 0.9210150641164081, 0.9168631213355654, 0.8170737518008518, 0.3598619191332437, 1.353814027885216, \"\", 0.17083746543077882, 0.6838133647605219, \"\", 2.1963861560765037, 1.0420485644312618, \"\", \"\", 0.044723641610106946, \"\", \"\", 2.8776994238209634, 1.9930612647289108, 0.9109401928817997, \"\", 1.5605161592535146], \"yaxis\": \"y2\"}, {\"connectgaps\": false, \"fill\": \"tozeroy\", \"line\": {\"color\": \"red\", \"dash\": \"solid\", \"shape\": \"linear\", \"width\": 0.5}, \"mode\": \"lines\", \"name\": \"Spread\", \"showlegend\": false, \"type\": \"scatter\", \"x\": [0, 1, 2, 3, 4, 5, 6, 7, 8, 9, 10, 11, 12, 13, 14, 15, 16, 17, 18, 19, 20, 21, 22, 23, 24, 25, 26, 27, 28, 29, 30, 31, 32, 33, 34, 35, 36, 37, 38, 39, 40, 41, 42, 43, 44, 45, 46, 47, 48, 49, 50, 51, 52, 53, 54, 55, 56, 57, 58, 59, 60, 61, 62, 63, 64, 65, 66, 67, 68, 69, 70, 71, 72, 73, 74, 75, 76, 77, 78, 79, 80, 81, 82, 83, 84, 85, 86, 87, 88, 89, 90, 91, 92, 93, 94, 95, 96, 97, 98, 99], \"xaxis\": \"x2\", \"y\": [\"\", -0.3685803339538062, -0.0547647886619938, \"\", \"\", -0.10113234697084061, -0.9482185542604358, -0.6060192531347354, \"\", -2.2674761386342306, -0.786082754122644, -1.988044560601142, \"\", \"\", -1.42984234883737, \"\", \"\", \"\", \"\", -0.22704805978949466, \"\", \"\", \"\", \"\", \"\", -1.8519457568826845, -0.7945904535924017, -0.4038465949352117, -0.22496879924768987, -1.6968523257912504, -1.0258028208498684, -1.8964129986282952, -3.5592296908803576, \"\", -0.857294923085487, \"\", -0.5399278414273991, -2.3007632160993485, -0.215618820172743, -0.9028654391196327, -0.5366504118966591, \"\", \"\", -2.6271503179181246, -1.4544515622241965, \"\", \"\", \"\", -0.4139292491700206, -0.28775207423007765, \"\", \"\", \"\", -0.9042709884235413, \"\", -2.0128054749536277, -0.9273782996400385, -0.02894772690065653, -1.147926020785701, \"\", \"\", -1.8338934008804226, -2.2340388597276037, \"\", \"\", \"\", -1.9481087949588387, \"\", \"\", -0.7409311998438234, \"\", -0.8497728599527019, \"\", -0.4327169708506043, -1.969678071332991, \"\", \"\", -0.9714609545444642, -1.4939867186794014, \"\", \"\", \"\", \"\", \"\", -0.6699856886071841, \"\", \"\", -0.289947674170818, \"\", \"\", -0.0021111847495174363, -0.31401268250696796, \"\", -1.7761812533862822, -0.8942456931182985, \"\", \"\", \"\", -1.018072551550957, \"\"], \"yaxis\": \"y2\"}],                        {\"hovermode\": \"x\", \"legend\": {\"bgcolor\": \"#F5F6F9\", \"font\": {\"color\": \"#4D5663\"}}, \"paper_bgcolor\": \"#F5F6F9\", \"plot_bgcolor\": \"#F5F6F9\", \"template\": {\"data\": {\"bar\": [{\"error_x\": {\"color\": \"#2a3f5f\"}, \"error_y\": {\"color\": \"#2a3f5f\"}, \"marker\": {\"line\": {\"color\": \"#E5ECF6\", \"width\": 0.5}}, \"type\": \"bar\"}], \"barpolar\": [{\"marker\": {\"line\": {\"color\": \"#E5ECF6\", \"width\": 0.5}}, \"type\": \"barpolar\"}], \"carpet\": [{\"aaxis\": {\"endlinecolor\": \"#2a3f5f\", \"gridcolor\": \"white\", \"linecolor\": \"white\", \"minorgridcolor\": \"white\", \"startlinecolor\": \"#2a3f5f\"}, \"baxis\": {\"endlinecolor\": \"#2a3f5f\", \"gridcolor\": \"white\", \"linecolor\": \"white\", \"minorgridcolor\": \"white\", \"startlinecolor\": \"#2a3f5f\"}, \"type\": \"carpet\"}], \"choropleth\": [{\"colorbar\": {\"outlinewidth\": 0, \"ticks\": \"\"}, \"type\": \"choropleth\"}], \"contour\": [{\"colorbar\": {\"outlinewidth\": 0, \"ticks\": \"\"}, \"colorscale\": [[0.0, \"#0d0887\"], [0.1111111111111111, \"#46039f\"], [0.2222222222222222, \"#7201a8\"], [0.3333333333333333, \"#9c179e\"], [0.4444444444444444, \"#bd3786\"], [0.5555555555555556, \"#d8576b\"], [0.6666666666666666, \"#ed7953\"], [0.7777777777777778, \"#fb9f3a\"], [0.8888888888888888, \"#fdca26\"], [1.0, \"#f0f921\"]], \"type\": \"contour\"}], \"contourcarpet\": [{\"colorbar\": {\"outlinewidth\": 0, \"ticks\": \"\"}, \"type\": \"contourcarpet\"}], \"heatmap\": [{\"colorbar\": {\"outlinewidth\": 0, \"ticks\": \"\"}, \"colorscale\": [[0.0, \"#0d0887\"], [0.1111111111111111, \"#46039f\"], [0.2222222222222222, \"#7201a8\"], [0.3333333333333333, \"#9c179e\"], [0.4444444444444444, \"#bd3786\"], [0.5555555555555556, \"#d8576b\"], [0.6666666666666666, \"#ed7953\"], [0.7777777777777778, \"#fb9f3a\"], [0.8888888888888888, \"#fdca26\"], [1.0, \"#f0f921\"]], \"type\": \"heatmap\"}], \"heatmapgl\": [{\"colorbar\": {\"outlinewidth\": 0, \"ticks\": \"\"}, \"colorscale\": [[0.0, \"#0d0887\"], [0.1111111111111111, \"#46039f\"], [0.2222222222222222, \"#7201a8\"], [0.3333333333333333, \"#9c179e\"], [0.4444444444444444, \"#bd3786\"], [0.5555555555555556, \"#d8576b\"], [0.6666666666666666, \"#ed7953\"], [0.7777777777777778, \"#fb9f3a\"], [0.8888888888888888, \"#fdca26\"], [1.0, \"#f0f921\"]], \"type\": \"heatmapgl\"}], \"histogram\": [{\"marker\": {\"colorbar\": {\"outlinewidth\": 0, \"ticks\": \"\"}}, \"type\": \"histogram\"}], \"histogram2d\": [{\"colorbar\": {\"outlinewidth\": 0, \"ticks\": \"\"}, \"colorscale\": [[0.0, \"#0d0887\"], [0.1111111111111111, \"#46039f\"], [0.2222222222222222, \"#7201a8\"], [0.3333333333333333, \"#9c179e\"], [0.4444444444444444, \"#bd3786\"], [0.5555555555555556, \"#d8576b\"], [0.6666666666666666, \"#ed7953\"], [0.7777777777777778, \"#fb9f3a\"], [0.8888888888888888, \"#fdca26\"], [1.0, \"#f0f921\"]], \"type\": \"histogram2d\"}], \"histogram2dcontour\": [{\"colorbar\": {\"outlinewidth\": 0, \"ticks\": \"\"}, \"colorscale\": [[0.0, \"#0d0887\"], [0.1111111111111111, \"#46039f\"], [0.2222222222222222, \"#7201a8\"], [0.3333333333333333, \"#9c179e\"], [0.4444444444444444, \"#bd3786\"], [0.5555555555555556, \"#d8576b\"], [0.6666666666666666, \"#ed7953\"], [0.7777777777777778, \"#fb9f3a\"], [0.8888888888888888, \"#fdca26\"], [1.0, \"#f0f921\"]], \"type\": \"histogram2dcontour\"}], \"mesh3d\": [{\"colorbar\": {\"outlinewidth\": 0, \"ticks\": \"\"}, \"type\": \"mesh3d\"}], \"parcoords\": [{\"line\": {\"colorbar\": {\"outlinewidth\": 0, \"ticks\": \"\"}}, \"type\": \"parcoords\"}], \"pie\": [{\"automargin\": true, \"type\": \"pie\"}], \"scatter\": [{\"marker\": {\"colorbar\": {\"outlinewidth\": 0, \"ticks\": \"\"}}, \"type\": \"scatter\"}], \"scatter3d\": [{\"line\": {\"colorbar\": {\"outlinewidth\": 0, \"ticks\": \"\"}}, \"marker\": {\"colorbar\": {\"outlinewidth\": 0, \"ticks\": \"\"}}, \"type\": \"scatter3d\"}], \"scattercarpet\": [{\"marker\": {\"colorbar\": {\"outlinewidth\": 0, \"ticks\": \"\"}}, \"type\": \"scattercarpet\"}], \"scattergeo\": [{\"marker\": {\"colorbar\": {\"outlinewidth\": 0, \"ticks\": \"\"}}, \"type\": \"scattergeo\"}], \"scattergl\": [{\"marker\": {\"colorbar\": {\"outlinewidth\": 0, \"ticks\": \"\"}}, \"type\": \"scattergl\"}], \"scattermapbox\": [{\"marker\": {\"colorbar\": {\"outlinewidth\": 0, \"ticks\": \"\"}}, \"type\": \"scattermapbox\"}], \"scatterpolar\": [{\"marker\": {\"colorbar\": {\"outlinewidth\": 0, \"ticks\": \"\"}}, \"type\": \"scatterpolar\"}], \"scatterpolargl\": [{\"marker\": {\"colorbar\": {\"outlinewidth\": 0, \"ticks\": \"\"}}, \"type\": \"scatterpolargl\"}], \"scatterternary\": [{\"marker\": {\"colorbar\": {\"outlinewidth\": 0, \"ticks\": \"\"}}, \"type\": \"scatterternary\"}], \"surface\": [{\"colorbar\": {\"outlinewidth\": 0, \"ticks\": \"\"}, \"colorscale\": [[0.0, \"#0d0887\"], [0.1111111111111111, \"#46039f\"], [0.2222222222222222, \"#7201a8\"], [0.3333333333333333, \"#9c179e\"], [0.4444444444444444, \"#bd3786\"], [0.5555555555555556, \"#d8576b\"], [0.6666666666666666, \"#ed7953\"], [0.7777777777777778, \"#fb9f3a\"], [0.8888888888888888, \"#fdca26\"], [1.0, \"#f0f921\"]], \"type\": \"surface\"}], \"table\": [{\"cells\": {\"fill\": {\"color\": \"#EBF0F8\"}, \"line\": {\"color\": \"white\"}}, \"header\": {\"fill\": {\"color\": \"#C8D4E3\"}, \"line\": {\"color\": \"white\"}}, \"type\": \"table\"}]}, \"layout\": {\"annotationdefaults\": {\"arrowcolor\": \"#2a3f5f\", \"arrowhead\": 0, \"arrowwidth\": 1}, \"coloraxis\": {\"colorbar\": {\"outlinewidth\": 0, \"ticks\": \"\"}}, \"colorscale\": {\"diverging\": [[0, \"#8e0152\"], [0.1, \"#c51b7d\"], [0.2, \"#de77ae\"], [0.3, \"#f1b6da\"], [0.4, \"#fde0ef\"], [0.5, \"#f7f7f7\"], [0.6, \"#e6f5d0\"], [0.7, \"#b8e186\"], [0.8, \"#7fbc41\"], [0.9, \"#4d9221\"], [1, \"#276419\"]], \"sequential\": [[0.0, \"#0d0887\"], [0.1111111111111111, \"#46039f\"], [0.2222222222222222, \"#7201a8\"], [0.3333333333333333, \"#9c179e\"], [0.4444444444444444, \"#bd3786\"], [0.5555555555555556, \"#d8576b\"], [0.6666666666666666, \"#ed7953\"], [0.7777777777777778, \"#fb9f3a\"], [0.8888888888888888, \"#fdca26\"], [1.0, \"#f0f921\"]], \"sequentialminus\": [[0.0, \"#0d0887\"], [0.1111111111111111, \"#46039f\"], [0.2222222222222222, \"#7201a8\"], [0.3333333333333333, \"#9c179e\"], [0.4444444444444444, \"#bd3786\"], [0.5555555555555556, \"#d8576b\"], [0.6666666666666666, \"#ed7953\"], [0.7777777777777778, \"#fb9f3a\"], [0.8888888888888888, \"#fdca26\"], [1.0, \"#f0f921\"]]}, \"colorway\": [\"#636efa\", \"#EF553B\", \"#00cc96\", \"#ab63fa\", \"#FFA15A\", \"#19d3f3\", \"#FF6692\", \"#B6E880\", \"#FF97FF\", \"#FECB52\"], \"font\": {\"color\": \"#2a3f5f\"}, \"geo\": {\"bgcolor\": \"white\", \"lakecolor\": \"white\", \"landcolor\": \"#E5ECF6\", \"showlakes\": true, \"showland\": true, \"subunitcolor\": \"white\"}, \"hoverlabel\": {\"align\": \"left\"}, \"hovermode\": \"closest\", \"mapbox\": {\"style\": \"light\"}, \"paper_bgcolor\": \"white\", \"plot_bgcolor\": \"#E5ECF6\", \"polar\": {\"angularaxis\": {\"gridcolor\": \"white\", \"linecolor\": \"white\", \"ticks\": \"\"}, \"bgcolor\": \"#E5ECF6\", \"radialaxis\": {\"gridcolor\": \"white\", \"linecolor\": \"white\", \"ticks\": \"\"}}, \"scene\": {\"xaxis\": {\"backgroundcolor\": \"#E5ECF6\", \"gridcolor\": \"white\", \"gridwidth\": 2, \"linecolor\": \"white\", \"showbackground\": true, \"ticks\": \"\", \"zerolinecolor\": \"white\"}, \"yaxis\": {\"backgroundcolor\": \"#E5ECF6\", \"gridcolor\": \"white\", \"gridwidth\": 2, \"linecolor\": \"white\", \"showbackground\": true, \"ticks\": \"\", \"zerolinecolor\": \"white\"}, \"zaxis\": {\"backgroundcolor\": \"#E5ECF6\", \"gridcolor\": \"white\", \"gridwidth\": 2, \"linecolor\": \"white\", \"showbackground\": true, \"ticks\": \"\", \"zerolinecolor\": \"white\"}}, \"shapedefaults\": {\"line\": {\"color\": \"#2a3f5f\"}}, \"ternary\": {\"aaxis\": {\"gridcolor\": \"white\", \"linecolor\": \"white\", \"ticks\": \"\"}, \"baxis\": {\"gridcolor\": \"white\", \"linecolor\": \"white\", \"ticks\": \"\"}, \"bgcolor\": \"#E5ECF6\", \"caxis\": {\"gridcolor\": \"white\", \"linecolor\": \"white\", \"ticks\": \"\"}}, \"title\": {\"x\": 0.05}, \"xaxis\": {\"automargin\": true, \"gridcolor\": \"white\", \"linecolor\": \"white\", \"ticks\": \"\", \"title\": {\"standoff\": 15}, \"zerolinecolor\": \"white\", \"zerolinewidth\": 2}, \"yaxis\": {\"automargin\": true, \"gridcolor\": \"white\", \"linecolor\": \"white\", \"ticks\": \"\", \"title\": {\"standoff\": 15}, \"zerolinecolor\": \"white\", \"zerolinewidth\": 2}}}, \"title\": {\"font\": {\"color\": \"#4D5663\"}}, \"xaxis\": {\"gridcolor\": \"#E1E5ED\", \"showgrid\": true, \"tickfont\": {\"color\": \"#4D5663\"}, \"title\": {\"font\": {\"color\": \"#4D5663\"}, \"text\": \"\"}, \"zerolinecolor\": \"#E1E5ED\"}, \"xaxis2\": {\"anchor\": \"y2\", \"gridcolor\": \"#E1E5ED\", \"showgrid\": true, \"showticklabels\": false, \"tickfont\": {\"color\": \"#4D5663\"}, \"title\": {\"font\": {\"color\": \"#4D5663\"}, \"text\": \"\"}, \"zerolinecolor\": \"#E1E5ED\"}, \"yaxis\": {\"domain\": [0.3, 1], \"gridcolor\": \"#E1E5ED\", \"showgrid\": true, \"tickfont\": {\"color\": \"#4D5663\"}, \"title\": {\"font\": {\"color\": \"#4D5663\"}, \"text\": \"\"}, \"zerolinecolor\": \"#E1E5ED\"}, \"yaxis2\": {\"domain\": [0, 0.25], \"gridcolor\": \"#E1E5ED\", \"showgrid\": true, \"tickfont\": {\"color\": \"#4D5663\"}, \"title\": {\"font\": {\"color\": \"#4D5663\"}, \"text\": \"Spread\"}, \"zerolinecolor\": \"#E1E5ED\"}},                        {\"showLink\": true, \"linkText\": \"Export to plot.ly\", \"plotlyServerURL\": \"https://plot.ly\", \"responsive\": true}                    ).then(function(){\n",
       "                            \n",
       "var gd = document.getElementById('827a3530-0ce4-4944-9d4a-dd69458e02bb');\n",
       "var x = new MutationObserver(function (mutations, observer) {{\n",
       "        var display = window.getComputedStyle(gd).display;\n",
       "        if (!display || display === 'none') {{\n",
       "            console.log([gd, 'removed!']);\n",
       "            Plotly.purge(gd);\n",
       "            observer.disconnect();\n",
       "        }}\n",
       "}});\n",
       "\n",
       "// Listen for the removal of the full notebook cells\n",
       "var notebookContainer = gd.closest('#notebook-container');\n",
       "if (notebookContainer) {{\n",
       "    x.observe(notebookContainer, {childList: true});\n",
       "}}\n",
       "\n",
       "// Listen for the clearing of the current output cell\n",
       "var outputEl = gd.closest('.output');\n",
       "if (outputEl) {{\n",
       "    x.observe(outputEl, {childList: true});\n",
       "}}\n",
       "\n",
       "                        })                };                });            </script>        </div>"
      ]
     },
     "metadata": {},
     "output_type": "display_data"
    }
   ],
   "source": [
    "fake_df[['A','B']].iplot(kind='spread')"
   ]
  },
  {
   "cell_type": "markdown",
   "metadata": {},
   "source": [
    "# Histrogram"
   ]
  },
  {
   "cell_type": "code",
   "execution_count": 16,
   "metadata": {},
   "outputs": [
    {
     "data": {
      "application/vnd.plotly.v1+json": {
       "config": {
        "linkText": "Export to plot.ly",
        "plotlyServerURL": "https://plot.ly",
        "showLink": true
       },
       "data": [
        {
         "histfunc": "count",
         "histnorm": "",
         "marker": {
          "color": "rgba(255, 153, 51, 1.0)",
          "line": {
           "color": "#4D5663",
           "width": 1.3
          }
         },
         "name": "A",
         "nbinsx": 35,
         "opacity": 0.8,
         "orientation": "v",
         "type": "histogram",
         "x": [
          -0.30202016863775033,
          -0.28564555846571377,
          0.4476704948481836,
          -0.7162322499431878,
          -1.1752084454356209,
          0.037922946952660096,
          -0.4784580310902896,
          -0.8127219470868241,
          -0.2015463810609984,
          -1.2477309120841387,
          0.33416595599237875,
          -0.3925825214642993,
          0.8483162327766754,
          1.4017593159498198,
          -0.24447542578970963,
          0.3268425653949366,
          0.7896328968946461,
          0.05003230055379049,
          0.8713596231470593,
          -0.36768247294659173,
          1.456695935256,
          0.09086717022177927,
          0.8308289690395506,
          0.4570302705052343,
          1.641725152630206,
          -0.34337193630447227,
          -0.6899548045806325,
          -1.4989669498743878,
          -0.4990655862049401,
          -1.2763195565688894,
          -0.5841927721605572,
          -0.6531615312082533,
          -1.544688058823571,
          1.241823683012709,
          0.36670402575200034,
          0.36785862000313696,
          -0.4251916229702931,
          -1.1424611416885133,
          0.11744918233688426,
          -0.2943921274727523,
          -0.2630411797495611,
          1.1189450591825083,
          0.6771083217387999,
          -2.1007251081507516,
          -1.469901874723165,
          0.5804195589513341,
          -0.26050512490234284,
          2.2362929227372725,
          0.5190194687909312,
          -0.008163118768048035,
          -0.6611054621616541,
          1.36957273498277,
          0.57208163756899,
          0.12460374641094915,
          0.8356395402758129,
          -0.8335550054425519,
          -0.8946566144284955,
          -0.10099356338826994,
          0.04425297346768268,
          2.217770067273319,
          0.03522119302500431,
          -1.9869202369288799,
          -1.2508613408788938,
          0.09279898228614562,
          0.38692351076168063,
          -0.026236237411354904,
          -1.491069699311706,
          0.8294659536906288,
          0.6136776593807836,
          -0.8154202979633771,
          0.6293335815887414,
          -1.0923772889015413,
          0.7386223240270853,
          -0.68737966371764,
          -0.6422680828562675,
          0.7998127045023482,
          0.9217752449620659,
          0.04459918763480434,
          -0.445947653484942,
          -0.3773323373724564,
          0.4050137890893175,
          0.19591076972454038,
          -0.3532570369973499,
          -0.19817408743935175,
          -0.311181936508081,
          -0.5692973337611296,
          1.2737066010007103,
          0.33310651006183967,
          2.343367044548086,
          -0.4488947193251729,
          0.16005691450387768,
          -0.5608031062151607,
          -0.2592370006186431,
          -0.7117502976304382,
          -0.5122229220026929,
          0.9231576330805437,
          1.108977825338648,
          0.05946369407947916,
          -0.5664014911796487,
          0.5891591881972967
         ]
        }
       ],
       "layout": {
        "barmode": "overlay",
        "legend": {
         "bgcolor": "#F5F6F9",
         "font": {
          "color": "#4D5663"
         }
        },
        "paper_bgcolor": "#F5F6F9",
        "plot_bgcolor": "#F5F6F9",
        "template": {
         "data": {
          "bar": [
           {
            "error_x": {
             "color": "#2a3f5f"
            },
            "error_y": {
             "color": "#2a3f5f"
            },
            "marker": {
             "line": {
              "color": "#E5ECF6",
              "width": 0.5
             }
            },
            "type": "bar"
           }
          ],
          "barpolar": [
           {
            "marker": {
             "line": {
              "color": "#E5ECF6",
              "width": 0.5
             }
            },
            "type": "barpolar"
           }
          ],
          "carpet": [
           {
            "aaxis": {
             "endlinecolor": "#2a3f5f",
             "gridcolor": "white",
             "linecolor": "white",
             "minorgridcolor": "white",
             "startlinecolor": "#2a3f5f"
            },
            "baxis": {
             "endlinecolor": "#2a3f5f",
             "gridcolor": "white",
             "linecolor": "white",
             "minorgridcolor": "white",
             "startlinecolor": "#2a3f5f"
            },
            "type": "carpet"
           }
          ],
          "choropleth": [
           {
            "colorbar": {
             "outlinewidth": 0,
             "ticks": ""
            },
            "type": "choropleth"
           }
          ],
          "contour": [
           {
            "colorbar": {
             "outlinewidth": 0,
             "ticks": ""
            },
            "colorscale": [
             [
              0,
              "#0d0887"
             ],
             [
              0.1111111111111111,
              "#46039f"
             ],
             [
              0.2222222222222222,
              "#7201a8"
             ],
             [
              0.3333333333333333,
              "#9c179e"
             ],
             [
              0.4444444444444444,
              "#bd3786"
             ],
             [
              0.5555555555555556,
              "#d8576b"
             ],
             [
              0.6666666666666666,
              "#ed7953"
             ],
             [
              0.7777777777777778,
              "#fb9f3a"
             ],
             [
              0.8888888888888888,
              "#fdca26"
             ],
             [
              1,
              "#f0f921"
             ]
            ],
            "type": "contour"
           }
          ],
          "contourcarpet": [
           {
            "colorbar": {
             "outlinewidth": 0,
             "ticks": ""
            },
            "type": "contourcarpet"
           }
          ],
          "heatmap": [
           {
            "colorbar": {
             "outlinewidth": 0,
             "ticks": ""
            },
            "colorscale": [
             [
              0,
              "#0d0887"
             ],
             [
              0.1111111111111111,
              "#46039f"
             ],
             [
              0.2222222222222222,
              "#7201a8"
             ],
             [
              0.3333333333333333,
              "#9c179e"
             ],
             [
              0.4444444444444444,
              "#bd3786"
             ],
             [
              0.5555555555555556,
              "#d8576b"
             ],
             [
              0.6666666666666666,
              "#ed7953"
             ],
             [
              0.7777777777777778,
              "#fb9f3a"
             ],
             [
              0.8888888888888888,
              "#fdca26"
             ],
             [
              1,
              "#f0f921"
             ]
            ],
            "type": "heatmap"
           }
          ],
          "heatmapgl": [
           {
            "colorbar": {
             "outlinewidth": 0,
             "ticks": ""
            },
            "colorscale": [
             [
              0,
              "#0d0887"
             ],
             [
              0.1111111111111111,
              "#46039f"
             ],
             [
              0.2222222222222222,
              "#7201a8"
             ],
             [
              0.3333333333333333,
              "#9c179e"
             ],
             [
              0.4444444444444444,
              "#bd3786"
             ],
             [
              0.5555555555555556,
              "#d8576b"
             ],
             [
              0.6666666666666666,
              "#ed7953"
             ],
             [
              0.7777777777777778,
              "#fb9f3a"
             ],
             [
              0.8888888888888888,
              "#fdca26"
             ],
             [
              1,
              "#f0f921"
             ]
            ],
            "type": "heatmapgl"
           }
          ],
          "histogram": [
           {
            "marker": {
             "colorbar": {
              "outlinewidth": 0,
              "ticks": ""
             }
            },
            "type": "histogram"
           }
          ],
          "histogram2d": [
           {
            "colorbar": {
             "outlinewidth": 0,
             "ticks": ""
            },
            "colorscale": [
             [
              0,
              "#0d0887"
             ],
             [
              0.1111111111111111,
              "#46039f"
             ],
             [
              0.2222222222222222,
              "#7201a8"
             ],
             [
              0.3333333333333333,
              "#9c179e"
             ],
             [
              0.4444444444444444,
              "#bd3786"
             ],
             [
              0.5555555555555556,
              "#d8576b"
             ],
             [
              0.6666666666666666,
              "#ed7953"
             ],
             [
              0.7777777777777778,
              "#fb9f3a"
             ],
             [
              0.8888888888888888,
              "#fdca26"
             ],
             [
              1,
              "#f0f921"
             ]
            ],
            "type": "histogram2d"
           }
          ],
          "histogram2dcontour": [
           {
            "colorbar": {
             "outlinewidth": 0,
             "ticks": ""
            },
            "colorscale": [
             [
              0,
              "#0d0887"
             ],
             [
              0.1111111111111111,
              "#46039f"
             ],
             [
              0.2222222222222222,
              "#7201a8"
             ],
             [
              0.3333333333333333,
              "#9c179e"
             ],
             [
              0.4444444444444444,
              "#bd3786"
             ],
             [
              0.5555555555555556,
              "#d8576b"
             ],
             [
              0.6666666666666666,
              "#ed7953"
             ],
             [
              0.7777777777777778,
              "#fb9f3a"
             ],
             [
              0.8888888888888888,
              "#fdca26"
             ],
             [
              1,
              "#f0f921"
             ]
            ],
            "type": "histogram2dcontour"
           }
          ],
          "mesh3d": [
           {
            "colorbar": {
             "outlinewidth": 0,
             "ticks": ""
            },
            "type": "mesh3d"
           }
          ],
          "parcoords": [
           {
            "line": {
             "colorbar": {
              "outlinewidth": 0,
              "ticks": ""
             }
            },
            "type": "parcoords"
           }
          ],
          "pie": [
           {
            "automargin": true,
            "type": "pie"
           }
          ],
          "scatter": [
           {
            "marker": {
             "colorbar": {
              "outlinewidth": 0,
              "ticks": ""
             }
            },
            "type": "scatter"
           }
          ],
          "scatter3d": [
           {
            "line": {
             "colorbar": {
              "outlinewidth": 0,
              "ticks": ""
             }
            },
            "marker": {
             "colorbar": {
              "outlinewidth": 0,
              "ticks": ""
             }
            },
            "type": "scatter3d"
           }
          ],
          "scattercarpet": [
           {
            "marker": {
             "colorbar": {
              "outlinewidth": 0,
              "ticks": ""
             }
            },
            "type": "scattercarpet"
           }
          ],
          "scattergeo": [
           {
            "marker": {
             "colorbar": {
              "outlinewidth": 0,
              "ticks": ""
             }
            },
            "type": "scattergeo"
           }
          ],
          "scattergl": [
           {
            "marker": {
             "colorbar": {
              "outlinewidth": 0,
              "ticks": ""
             }
            },
            "type": "scattergl"
           }
          ],
          "scattermapbox": [
           {
            "marker": {
             "colorbar": {
              "outlinewidth": 0,
              "ticks": ""
             }
            },
            "type": "scattermapbox"
           }
          ],
          "scatterpolar": [
           {
            "marker": {
             "colorbar": {
              "outlinewidth": 0,
              "ticks": ""
             }
            },
            "type": "scatterpolar"
           }
          ],
          "scatterpolargl": [
           {
            "marker": {
             "colorbar": {
              "outlinewidth": 0,
              "ticks": ""
             }
            },
            "type": "scatterpolargl"
           }
          ],
          "scatterternary": [
           {
            "marker": {
             "colorbar": {
              "outlinewidth": 0,
              "ticks": ""
             }
            },
            "type": "scatterternary"
           }
          ],
          "surface": [
           {
            "colorbar": {
             "outlinewidth": 0,
             "ticks": ""
            },
            "colorscale": [
             [
              0,
              "#0d0887"
             ],
             [
              0.1111111111111111,
              "#46039f"
             ],
             [
              0.2222222222222222,
              "#7201a8"
             ],
             [
              0.3333333333333333,
              "#9c179e"
             ],
             [
              0.4444444444444444,
              "#bd3786"
             ],
             [
              0.5555555555555556,
              "#d8576b"
             ],
             [
              0.6666666666666666,
              "#ed7953"
             ],
             [
              0.7777777777777778,
              "#fb9f3a"
             ],
             [
              0.8888888888888888,
              "#fdca26"
             ],
             [
              1,
              "#f0f921"
             ]
            ],
            "type": "surface"
           }
          ],
          "table": [
           {
            "cells": {
             "fill": {
              "color": "#EBF0F8"
             },
             "line": {
              "color": "white"
             }
            },
            "header": {
             "fill": {
              "color": "#C8D4E3"
             },
             "line": {
              "color": "white"
             }
            },
            "type": "table"
           }
          ]
         },
         "layout": {
          "annotationdefaults": {
           "arrowcolor": "#2a3f5f",
           "arrowhead": 0,
           "arrowwidth": 1
          },
          "coloraxis": {
           "colorbar": {
            "outlinewidth": 0,
            "ticks": ""
           }
          },
          "colorscale": {
           "diverging": [
            [
             0,
             "#8e0152"
            ],
            [
             0.1,
             "#c51b7d"
            ],
            [
             0.2,
             "#de77ae"
            ],
            [
             0.3,
             "#f1b6da"
            ],
            [
             0.4,
             "#fde0ef"
            ],
            [
             0.5,
             "#f7f7f7"
            ],
            [
             0.6,
             "#e6f5d0"
            ],
            [
             0.7,
             "#b8e186"
            ],
            [
             0.8,
             "#7fbc41"
            ],
            [
             0.9,
             "#4d9221"
            ],
            [
             1,
             "#276419"
            ]
           ],
           "sequential": [
            [
             0,
             "#0d0887"
            ],
            [
             0.1111111111111111,
             "#46039f"
            ],
            [
             0.2222222222222222,
             "#7201a8"
            ],
            [
             0.3333333333333333,
             "#9c179e"
            ],
            [
             0.4444444444444444,
             "#bd3786"
            ],
            [
             0.5555555555555556,
             "#d8576b"
            ],
            [
             0.6666666666666666,
             "#ed7953"
            ],
            [
             0.7777777777777778,
             "#fb9f3a"
            ],
            [
             0.8888888888888888,
             "#fdca26"
            ],
            [
             1,
             "#f0f921"
            ]
           ],
           "sequentialminus": [
            [
             0,
             "#0d0887"
            ],
            [
             0.1111111111111111,
             "#46039f"
            ],
            [
             0.2222222222222222,
             "#7201a8"
            ],
            [
             0.3333333333333333,
             "#9c179e"
            ],
            [
             0.4444444444444444,
             "#bd3786"
            ],
            [
             0.5555555555555556,
             "#d8576b"
            ],
            [
             0.6666666666666666,
             "#ed7953"
            ],
            [
             0.7777777777777778,
             "#fb9f3a"
            ],
            [
             0.8888888888888888,
             "#fdca26"
            ],
            [
             1,
             "#f0f921"
            ]
           ]
          },
          "colorway": [
           "#636efa",
           "#EF553B",
           "#00cc96",
           "#ab63fa",
           "#FFA15A",
           "#19d3f3",
           "#FF6692",
           "#B6E880",
           "#FF97FF",
           "#FECB52"
          ],
          "font": {
           "color": "#2a3f5f"
          },
          "geo": {
           "bgcolor": "white",
           "lakecolor": "white",
           "landcolor": "#E5ECF6",
           "showlakes": true,
           "showland": true,
           "subunitcolor": "white"
          },
          "hoverlabel": {
           "align": "left"
          },
          "hovermode": "closest",
          "mapbox": {
           "style": "light"
          },
          "paper_bgcolor": "white",
          "plot_bgcolor": "#E5ECF6",
          "polar": {
           "angularaxis": {
            "gridcolor": "white",
            "linecolor": "white",
            "ticks": ""
           },
           "bgcolor": "#E5ECF6",
           "radialaxis": {
            "gridcolor": "white",
            "linecolor": "white",
            "ticks": ""
           }
          },
          "scene": {
           "xaxis": {
            "backgroundcolor": "#E5ECF6",
            "gridcolor": "white",
            "gridwidth": 2,
            "linecolor": "white",
            "showbackground": true,
            "ticks": "",
            "zerolinecolor": "white"
           },
           "yaxis": {
            "backgroundcolor": "#E5ECF6",
            "gridcolor": "white",
            "gridwidth": 2,
            "linecolor": "white",
            "showbackground": true,
            "ticks": "",
            "zerolinecolor": "white"
           },
           "zaxis": {
            "backgroundcolor": "#E5ECF6",
            "gridcolor": "white",
            "gridwidth": 2,
            "linecolor": "white",
            "showbackground": true,
            "ticks": "",
            "zerolinecolor": "white"
           }
          },
          "shapedefaults": {
           "line": {
            "color": "#2a3f5f"
           }
          },
          "ternary": {
           "aaxis": {
            "gridcolor": "white",
            "linecolor": "white",
            "ticks": ""
           },
           "baxis": {
            "gridcolor": "white",
            "linecolor": "white",
            "ticks": ""
           },
           "bgcolor": "#E5ECF6",
           "caxis": {
            "gridcolor": "white",
            "linecolor": "white",
            "ticks": ""
           }
          },
          "title": {
           "x": 0.05
          },
          "xaxis": {
           "automargin": true,
           "gridcolor": "white",
           "linecolor": "white",
           "ticks": "",
           "title": {
            "standoff": 15
           },
           "zerolinecolor": "white",
           "zerolinewidth": 2
          },
          "yaxis": {
           "automargin": true,
           "gridcolor": "white",
           "linecolor": "white",
           "ticks": "",
           "title": {
            "standoff": 15
           },
           "zerolinecolor": "white",
           "zerolinewidth": 2
          }
         }
        },
        "title": {
         "font": {
          "color": "#4D5663"
         }
        },
        "xaxis": {
         "gridcolor": "#E1E5ED",
         "showgrid": true,
         "tickfont": {
          "color": "#4D5663"
         },
         "title": {
          "font": {
           "color": "#4D5663"
          },
          "text": ""
         },
         "zerolinecolor": "#E1E5ED"
        },
        "yaxis": {
         "gridcolor": "#E1E5ED",
         "showgrid": true,
         "tickfont": {
          "color": "#4D5663"
         },
         "title": {
          "font": {
           "color": "#4D5663"
          },
          "text": ""
         },
         "zerolinecolor": "#E1E5ED"
        }
       }
      },
      "text/html": [
       "<div>                            <div id=\"56882394-f214-4b5a-96ff-7db71fe210d9\" class=\"plotly-graph-div\" style=\"height:525px; width:100%;\"></div>            <script type=\"text/javascript\">                require([\"plotly\"], function(Plotly) {                    window.PLOTLYENV=window.PLOTLYENV || {};\n",
       "                    window.PLOTLYENV.BASE_URL='https://plot.ly';                                    if (document.getElementById(\"56882394-f214-4b5a-96ff-7db71fe210d9\")) {                    Plotly.newPlot(                        \"56882394-f214-4b5a-96ff-7db71fe210d9\",                        [{\"histfunc\": \"count\", \"histnorm\": \"\", \"marker\": {\"color\": \"rgba(255, 153, 51, 1.0)\", \"line\": {\"color\": \"#4D5663\", \"width\": 1.3}}, \"name\": \"A\", \"nbinsx\": 35, \"opacity\": 0.8, \"orientation\": \"v\", \"type\": \"histogram\", \"x\": [-0.30202016863775033, -0.28564555846571377, 0.4476704948481836, -0.7162322499431878, -1.1752084454356209, 0.037922946952660096, -0.4784580310902896, -0.8127219470868241, -0.2015463810609984, -1.2477309120841387, 0.33416595599237875, -0.3925825214642993, 0.8483162327766754, 1.4017593159498198, -0.24447542578970963, 0.3268425653949366, 0.7896328968946461, 0.05003230055379049, 0.8713596231470593, -0.36768247294659173, 1.456695935256, 0.09086717022177927, 0.8308289690395506, 0.4570302705052343, 1.641725152630206, -0.34337193630447227, -0.6899548045806325, -1.4989669498743878, -0.4990655862049401, -1.2763195565688894, -0.5841927721605572, -0.6531615312082533, -1.544688058823571, 1.241823683012709, 0.36670402575200034, 0.36785862000313696, -0.4251916229702931, -1.1424611416885133, 0.11744918233688426, -0.2943921274727523, -0.2630411797495611, 1.1189450591825083, 0.6771083217387999, -2.1007251081507516, -1.469901874723165, 0.5804195589513341, -0.26050512490234284, 2.2362929227372725, 0.5190194687909312, -0.008163118768048035, -0.6611054621616541, 1.36957273498277, 0.57208163756899, 0.12460374641094915, 0.8356395402758129, -0.8335550054425519, -0.8946566144284955, -0.10099356338826994, 0.04425297346768268, 2.217770067273319, 0.03522119302500431, -1.9869202369288799, -1.2508613408788938, 0.09279898228614562, 0.38692351076168063, -0.026236237411354904, -1.491069699311706, 0.8294659536906288, 0.6136776593807836, -0.8154202979633771, 0.6293335815887414, -1.0923772889015413, 0.7386223240270853, -0.68737966371764, -0.6422680828562675, 0.7998127045023482, 0.9217752449620659, 0.04459918763480434, -0.445947653484942, -0.3773323373724564, 0.4050137890893175, 0.19591076972454038, -0.3532570369973499, -0.19817408743935175, -0.311181936508081, -0.5692973337611296, 1.2737066010007103, 0.33310651006183967, 2.343367044548086, -0.4488947193251729, 0.16005691450387768, -0.5608031062151607, -0.2592370006186431, -0.7117502976304382, -0.5122229220026929, 0.9231576330805437, 1.108977825338648, 0.05946369407947916, -0.5664014911796487, 0.5891591881972967]}],                        {\"barmode\": \"overlay\", \"legend\": {\"bgcolor\": \"#F5F6F9\", \"font\": {\"color\": \"#4D5663\"}}, \"paper_bgcolor\": \"#F5F6F9\", \"plot_bgcolor\": \"#F5F6F9\", \"template\": {\"data\": {\"bar\": [{\"error_x\": {\"color\": \"#2a3f5f\"}, \"error_y\": {\"color\": \"#2a3f5f\"}, \"marker\": {\"line\": {\"color\": \"#E5ECF6\", \"width\": 0.5}}, \"type\": \"bar\"}], \"barpolar\": [{\"marker\": {\"line\": {\"color\": \"#E5ECF6\", \"width\": 0.5}}, \"type\": \"barpolar\"}], \"carpet\": [{\"aaxis\": {\"endlinecolor\": \"#2a3f5f\", \"gridcolor\": \"white\", \"linecolor\": \"white\", \"minorgridcolor\": \"white\", \"startlinecolor\": \"#2a3f5f\"}, \"baxis\": {\"endlinecolor\": \"#2a3f5f\", \"gridcolor\": \"white\", \"linecolor\": \"white\", \"minorgridcolor\": \"white\", \"startlinecolor\": \"#2a3f5f\"}, \"type\": \"carpet\"}], \"choropleth\": [{\"colorbar\": {\"outlinewidth\": 0, \"ticks\": \"\"}, \"type\": \"choropleth\"}], \"contour\": [{\"colorbar\": {\"outlinewidth\": 0, \"ticks\": \"\"}, \"colorscale\": [[0.0, \"#0d0887\"], [0.1111111111111111, \"#46039f\"], [0.2222222222222222, \"#7201a8\"], [0.3333333333333333, \"#9c179e\"], [0.4444444444444444, \"#bd3786\"], [0.5555555555555556, \"#d8576b\"], [0.6666666666666666, \"#ed7953\"], [0.7777777777777778, \"#fb9f3a\"], [0.8888888888888888, \"#fdca26\"], [1.0, \"#f0f921\"]], \"type\": \"contour\"}], \"contourcarpet\": [{\"colorbar\": {\"outlinewidth\": 0, \"ticks\": \"\"}, \"type\": \"contourcarpet\"}], \"heatmap\": [{\"colorbar\": {\"outlinewidth\": 0, \"ticks\": \"\"}, \"colorscale\": [[0.0, \"#0d0887\"], [0.1111111111111111, \"#46039f\"], [0.2222222222222222, \"#7201a8\"], [0.3333333333333333, \"#9c179e\"], [0.4444444444444444, \"#bd3786\"], [0.5555555555555556, \"#d8576b\"], [0.6666666666666666, \"#ed7953\"], [0.7777777777777778, \"#fb9f3a\"], [0.8888888888888888, \"#fdca26\"], [1.0, \"#f0f921\"]], \"type\": \"heatmap\"}], \"heatmapgl\": [{\"colorbar\": {\"outlinewidth\": 0, \"ticks\": \"\"}, \"colorscale\": [[0.0, \"#0d0887\"], [0.1111111111111111, \"#46039f\"], [0.2222222222222222, \"#7201a8\"], [0.3333333333333333, \"#9c179e\"], [0.4444444444444444, \"#bd3786\"], [0.5555555555555556, \"#d8576b\"], [0.6666666666666666, \"#ed7953\"], [0.7777777777777778, \"#fb9f3a\"], [0.8888888888888888, \"#fdca26\"], [1.0, \"#f0f921\"]], \"type\": \"heatmapgl\"}], \"histogram\": [{\"marker\": {\"colorbar\": {\"outlinewidth\": 0, \"ticks\": \"\"}}, \"type\": \"histogram\"}], \"histogram2d\": [{\"colorbar\": {\"outlinewidth\": 0, \"ticks\": \"\"}, \"colorscale\": [[0.0, \"#0d0887\"], [0.1111111111111111, \"#46039f\"], [0.2222222222222222, \"#7201a8\"], [0.3333333333333333, \"#9c179e\"], [0.4444444444444444, \"#bd3786\"], [0.5555555555555556, \"#d8576b\"], [0.6666666666666666, \"#ed7953\"], [0.7777777777777778, \"#fb9f3a\"], [0.8888888888888888, \"#fdca26\"], [1.0, \"#f0f921\"]], \"type\": \"histogram2d\"}], \"histogram2dcontour\": [{\"colorbar\": {\"outlinewidth\": 0, \"ticks\": \"\"}, \"colorscale\": [[0.0, \"#0d0887\"], [0.1111111111111111, \"#46039f\"], [0.2222222222222222, \"#7201a8\"], [0.3333333333333333, \"#9c179e\"], [0.4444444444444444, \"#bd3786\"], [0.5555555555555556, \"#d8576b\"], [0.6666666666666666, \"#ed7953\"], [0.7777777777777778, \"#fb9f3a\"], [0.8888888888888888, \"#fdca26\"], [1.0, \"#f0f921\"]], \"type\": \"histogram2dcontour\"}], \"mesh3d\": [{\"colorbar\": {\"outlinewidth\": 0, \"ticks\": \"\"}, \"type\": \"mesh3d\"}], \"parcoords\": [{\"line\": {\"colorbar\": {\"outlinewidth\": 0, \"ticks\": \"\"}}, \"type\": \"parcoords\"}], \"pie\": [{\"automargin\": true, \"type\": \"pie\"}], \"scatter\": [{\"marker\": {\"colorbar\": {\"outlinewidth\": 0, \"ticks\": \"\"}}, \"type\": \"scatter\"}], \"scatter3d\": [{\"line\": {\"colorbar\": {\"outlinewidth\": 0, \"ticks\": \"\"}}, \"marker\": {\"colorbar\": {\"outlinewidth\": 0, \"ticks\": \"\"}}, \"type\": \"scatter3d\"}], \"scattercarpet\": [{\"marker\": {\"colorbar\": {\"outlinewidth\": 0, \"ticks\": \"\"}}, \"type\": \"scattercarpet\"}], \"scattergeo\": [{\"marker\": {\"colorbar\": {\"outlinewidth\": 0, \"ticks\": \"\"}}, \"type\": \"scattergeo\"}], \"scattergl\": [{\"marker\": {\"colorbar\": {\"outlinewidth\": 0, \"ticks\": \"\"}}, \"type\": \"scattergl\"}], \"scattermapbox\": [{\"marker\": {\"colorbar\": {\"outlinewidth\": 0, \"ticks\": \"\"}}, \"type\": \"scattermapbox\"}], \"scatterpolar\": [{\"marker\": {\"colorbar\": {\"outlinewidth\": 0, \"ticks\": \"\"}}, \"type\": \"scatterpolar\"}], \"scatterpolargl\": [{\"marker\": {\"colorbar\": {\"outlinewidth\": 0, \"ticks\": \"\"}}, \"type\": \"scatterpolargl\"}], \"scatterternary\": [{\"marker\": {\"colorbar\": {\"outlinewidth\": 0, \"ticks\": \"\"}}, \"type\": \"scatterternary\"}], \"surface\": [{\"colorbar\": {\"outlinewidth\": 0, \"ticks\": \"\"}, \"colorscale\": [[0.0, \"#0d0887\"], [0.1111111111111111, \"#46039f\"], [0.2222222222222222, \"#7201a8\"], [0.3333333333333333, \"#9c179e\"], [0.4444444444444444, \"#bd3786\"], [0.5555555555555556, \"#d8576b\"], [0.6666666666666666, \"#ed7953\"], [0.7777777777777778, \"#fb9f3a\"], [0.8888888888888888, \"#fdca26\"], [1.0, \"#f0f921\"]], \"type\": \"surface\"}], \"table\": [{\"cells\": {\"fill\": {\"color\": \"#EBF0F8\"}, \"line\": {\"color\": \"white\"}}, \"header\": {\"fill\": {\"color\": \"#C8D4E3\"}, \"line\": {\"color\": \"white\"}}, \"type\": \"table\"}]}, \"layout\": {\"annotationdefaults\": {\"arrowcolor\": \"#2a3f5f\", \"arrowhead\": 0, \"arrowwidth\": 1}, \"coloraxis\": {\"colorbar\": {\"outlinewidth\": 0, \"ticks\": \"\"}}, \"colorscale\": {\"diverging\": [[0, \"#8e0152\"], [0.1, \"#c51b7d\"], [0.2, \"#de77ae\"], [0.3, \"#f1b6da\"], [0.4, \"#fde0ef\"], [0.5, \"#f7f7f7\"], [0.6, \"#e6f5d0\"], [0.7, \"#b8e186\"], [0.8, \"#7fbc41\"], [0.9, \"#4d9221\"], [1, \"#276419\"]], \"sequential\": [[0.0, \"#0d0887\"], [0.1111111111111111, \"#46039f\"], [0.2222222222222222, \"#7201a8\"], [0.3333333333333333, \"#9c179e\"], [0.4444444444444444, \"#bd3786\"], [0.5555555555555556, \"#d8576b\"], [0.6666666666666666, \"#ed7953\"], [0.7777777777777778, \"#fb9f3a\"], [0.8888888888888888, \"#fdca26\"], [1.0, \"#f0f921\"]], \"sequentialminus\": [[0.0, \"#0d0887\"], [0.1111111111111111, \"#46039f\"], [0.2222222222222222, \"#7201a8\"], [0.3333333333333333, \"#9c179e\"], [0.4444444444444444, \"#bd3786\"], [0.5555555555555556, \"#d8576b\"], [0.6666666666666666, \"#ed7953\"], [0.7777777777777778, \"#fb9f3a\"], [0.8888888888888888, \"#fdca26\"], [1.0, \"#f0f921\"]]}, \"colorway\": [\"#636efa\", \"#EF553B\", \"#00cc96\", \"#ab63fa\", \"#FFA15A\", \"#19d3f3\", \"#FF6692\", \"#B6E880\", \"#FF97FF\", \"#FECB52\"], \"font\": {\"color\": \"#2a3f5f\"}, \"geo\": {\"bgcolor\": \"white\", \"lakecolor\": \"white\", \"landcolor\": \"#E5ECF6\", \"showlakes\": true, \"showland\": true, \"subunitcolor\": \"white\"}, \"hoverlabel\": {\"align\": \"left\"}, \"hovermode\": \"closest\", \"mapbox\": {\"style\": \"light\"}, \"paper_bgcolor\": \"white\", \"plot_bgcolor\": \"#E5ECF6\", \"polar\": {\"angularaxis\": {\"gridcolor\": \"white\", \"linecolor\": \"white\", \"ticks\": \"\"}, \"bgcolor\": \"#E5ECF6\", \"radialaxis\": {\"gridcolor\": \"white\", \"linecolor\": \"white\", \"ticks\": \"\"}}, \"scene\": {\"xaxis\": {\"backgroundcolor\": \"#E5ECF6\", \"gridcolor\": \"white\", \"gridwidth\": 2, \"linecolor\": \"white\", \"showbackground\": true, \"ticks\": \"\", \"zerolinecolor\": \"white\"}, \"yaxis\": {\"backgroundcolor\": \"#E5ECF6\", \"gridcolor\": \"white\", \"gridwidth\": 2, \"linecolor\": \"white\", \"showbackground\": true, \"ticks\": \"\", \"zerolinecolor\": \"white\"}, \"zaxis\": {\"backgroundcolor\": \"#E5ECF6\", \"gridcolor\": \"white\", \"gridwidth\": 2, \"linecolor\": \"white\", \"showbackground\": true, \"ticks\": \"\", \"zerolinecolor\": \"white\"}}, \"shapedefaults\": {\"line\": {\"color\": \"#2a3f5f\"}}, \"ternary\": {\"aaxis\": {\"gridcolor\": \"white\", \"linecolor\": \"white\", \"ticks\": \"\"}, \"baxis\": {\"gridcolor\": \"white\", \"linecolor\": \"white\", \"ticks\": \"\"}, \"bgcolor\": \"#E5ECF6\", \"caxis\": {\"gridcolor\": \"white\", \"linecolor\": \"white\", \"ticks\": \"\"}}, \"title\": {\"x\": 0.05}, \"xaxis\": {\"automargin\": true, \"gridcolor\": \"white\", \"linecolor\": \"white\", \"ticks\": \"\", \"title\": {\"standoff\": 15}, \"zerolinecolor\": \"white\", \"zerolinewidth\": 2}, \"yaxis\": {\"automargin\": true, \"gridcolor\": \"white\", \"linecolor\": \"white\", \"ticks\": \"\", \"title\": {\"standoff\": 15}, \"zerolinecolor\": \"white\", \"zerolinewidth\": 2}}}, \"title\": {\"font\": {\"color\": \"#4D5663\"}}, \"xaxis\": {\"gridcolor\": \"#E1E5ED\", \"showgrid\": true, \"tickfont\": {\"color\": \"#4D5663\"}, \"title\": {\"font\": {\"color\": \"#4D5663\"}, \"text\": \"\"}, \"zerolinecolor\": \"#E1E5ED\"}, \"yaxis\": {\"gridcolor\": \"#E1E5ED\", \"showgrid\": true, \"tickfont\": {\"color\": \"#4D5663\"}, \"title\": {\"font\": {\"color\": \"#4D5663\"}, \"text\": \"\"}, \"zerolinecolor\": \"#E1E5ED\"}},                        {\"showLink\": true, \"linkText\": \"Export to plot.ly\", \"plotlyServerURL\": \"https://plot.ly\", \"responsive\": true}                    ).then(function(){\n",
       "                            \n",
       "var gd = document.getElementById('56882394-f214-4b5a-96ff-7db71fe210d9');\n",
       "var x = new MutationObserver(function (mutations, observer) {{\n",
       "        var display = window.getComputedStyle(gd).display;\n",
       "        if (!display || display === 'none') {{\n",
       "            console.log([gd, 'removed!']);\n",
       "            Plotly.purge(gd);\n",
       "            observer.disconnect();\n",
       "        }}\n",
       "}});\n",
       "\n",
       "// Listen for the removal of the full notebook cells\n",
       "var notebookContainer = gd.closest('#notebook-container');\n",
       "if (notebookContainer) {{\n",
       "    x.observe(notebookContainer, {childList: true});\n",
       "}}\n",
       "\n",
       "// Listen for the clearing of the current output cell\n",
       "var outputEl = gd.closest('.output');\n",
       "if (outputEl) {{\n",
       "    x.observe(outputEl, {childList: true});\n",
       "}}\n",
       "\n",
       "                        })                };                });            </script>        </div>"
      ]
     },
     "metadata": {},
     "output_type": "display_data"
    }
   ],
   "source": [
    "fake_df['A'].iplot(kind='hist', bins=35)"
   ]
  },
  {
   "cell_type": "code",
   "execution_count": 17,
   "metadata": {},
   "outputs": [
    {
     "data": {
      "application/vnd.plotly.v1+json": {
       "config": {
        "linkText": "Export to plot.ly",
        "plotlyServerURL": "https://plot.ly",
        "showLink": true
       },
       "data": [
        {
         "marker": {
          "color": [
           "rgb(255, 153, 51)",
           "rgb(55, 128, 191)",
           "rgb(50, 171, 96)",
           "rgb(128, 0, 128)",
           "rgb(219, 64, 82)",
           "rgb(0, 128, 128)",
           "rgb(255, 255, 51)",
           "rgb(128, 128, 0)",
           "rgb(251, 128, 114)",
           "rgb(128, 177, 211)"
          ],
          "line": {
           "width": 1.3
          },
          "size": [
           45,
           80,
           53,
           35,
           89,
           37,
           52,
           71,
           78,
           63,
           43,
           58,
           62,
           69,
           44,
           58,
           71,
           50,
           60,
           85,
           40,
           70,
           23,
           58,
           60,
           25,
           27,
           42,
           47,
           61,
           59,
           85,
           42,
           50,
           62,
           28,
           56,
           36,
           70,
           62,
           84,
           73,
           55,
           59,
           112,
           65,
           77,
           66,
           89,
           27,
           83,
           45,
           47,
           19,
           65,
           41,
           51,
           35,
           46,
           49,
           41,
           12,
           47,
           59,
           59,
           64,
           33,
           58,
           41,
           35,
           34,
           22,
           22,
           51,
           105,
           71,
           64,
           68,
           75,
           14,
           62,
           107,
           34,
           55,
           32,
           69,
           37,
           30,
           60,
           71,
           86,
           48,
           77,
           90,
           76,
           49,
           33,
           73,
           29,
           50
          ],
          "symbol": "circle"
         },
         "mode": "markers",
         "text": "",
         "type": "scatter",
         "x": [
          -0.30202016863775033,
          -0.28564555846571377,
          0.4476704948481836,
          -0.7162322499431878,
          -1.1752084454356209,
          0.037922946952660096,
          -0.4784580310902896,
          -0.8127219470868241,
          -0.2015463810609984,
          -1.2477309120841387,
          0.33416595599237875,
          -0.3925825214642993,
          0.8483162327766754,
          1.4017593159498198,
          -0.24447542578970963,
          0.3268425653949366,
          0.7896328968946461,
          0.05003230055379049,
          0.8713596231470593,
          -0.36768247294659173,
          1.456695935256,
          0.09086717022177927,
          0.8308289690395506,
          0.4570302705052343,
          1.641725152630206,
          -0.34337193630447227,
          -0.6899548045806325,
          -1.4989669498743878,
          -0.4990655862049401,
          -1.2763195565688894,
          -0.5841927721605572,
          -0.6531615312082533,
          -1.544688058823571,
          1.241823683012709,
          0.36670402575200034,
          0.36785862000313696,
          -0.4251916229702931,
          -1.1424611416885133,
          0.11744918233688426,
          -0.2943921274727523,
          -0.2630411797495611,
          1.1189450591825083,
          0.6771083217387999,
          -2.1007251081507516,
          -1.469901874723165,
          0.5804195589513341,
          -0.26050512490234284,
          2.2362929227372725,
          0.5190194687909312,
          -0.008163118768048035,
          -0.6611054621616541,
          1.36957273498277,
          0.57208163756899,
          0.12460374641094915,
          0.8356395402758129,
          -0.8335550054425519,
          -0.8946566144284955,
          -0.10099356338826994,
          0.04425297346768268,
          2.217770067273319,
          0.03522119302500431,
          -1.9869202369288799,
          -1.2508613408788938,
          0.09279898228614562,
          0.38692351076168063,
          -0.026236237411354904,
          -1.491069699311706,
          0.8294659536906288,
          0.6136776593807836,
          -0.8154202979633771,
          0.6293335815887414,
          -1.0923772889015413,
          0.7386223240270853,
          -0.68737966371764,
          -0.6422680828562675,
          0.7998127045023482,
          0.9217752449620659,
          0.04459918763480434,
          -0.445947653484942,
          -0.3773323373724564,
          0.4050137890893175,
          0.19591076972454038,
          -0.3532570369973499,
          -0.19817408743935175,
          -0.311181936508081,
          -0.5692973337611296,
          1.2737066010007103,
          0.33310651006183967,
          2.343367044548086,
          -0.4488947193251729,
          0.16005691450387768,
          -0.5608031062151607,
          -0.2592370006186431,
          -0.7117502976304382,
          -0.5122229220026929,
          0.9231576330805437,
          1.108977825338648,
          0.05946369407947916,
          -0.5664014911796487,
          0.5891591881972967
         ],
         "y": [
          -0.8488668044204304,
          0.0829347754880924,
          0.5024352835101774,
          -1.555223408984092,
          -1.7161100299123155,
          0.13905529392350072,
          0.4697605231701461,
          -0.2067026939520887,
          -1.1575550785607536,
          1.0197452265500921,
          1.1202487101150227,
          1.5954620391368428,
          -0.4375092399621281,
          -0.47581549224960684,
          1.1853669230476602,
          -0.7970090865687269,
          -0.217834734307552,
          -0.9266855311136963,
          0.6925149520732994,
          -0.14063441315709707,
          1.3397844385147475,
          -0.1413885447509737,
          -0.3341614782625514,
          -1.0331617312485522,
          0.24434025389131428,
          1.5085738205782122,
          0.10463564901176917,
          -1.0951203549391761,
          -0.27409678695725026,
          0.420532769222361,
          0.44161004868931125,
          1.243251467420042,
          2.014541632056787,
          0.0005947858539945759,
          1.2239989488374874,
          -0.3249945539545311,
          0.11473621845710603,
          1.1583020744108352,
          0.33306800250962726,
          0.6084733116468805,
          0.2736092321470979,
          -1.5679830656702087,
          -0.06928753093902698,
          0.526425209767373,
          -0.01545031249896855,
          -0.2570800949369005,
          -0.4691911947167141,
          0.3670764942533598,
          0.9329487179609518,
          0.2795889554620296,
          -0.7792859324560443,
          1.320870561157038,
          -0.9628173239459669,
          1.0288747348344904,
          -0.31456248623952465,
          1.179250469511076,
          0.03272168521154292,
          -0.07204583648761341,
          1.1921789942533836,
          1.25019068010553,
          -0.03188346728559232,
          -0.1530268360484573,
          0.9831775188487099,
          -0.5267924542187926,
          -0.4053089572688673,
          -0.051938708052279375,
          0.45703909564713263,
          0.2642433727428654,
          0.5251885395153827,
          -0.0744890981195537,
          0.20179472075573884,
          -0.24260442894883943,
          -0.7655468244843483,
          -0.25466269286703574,
          1.3274099884767236,
          -1.8920515553120267,
          0.10540569529487552,
          1.0160601421792685,
          1.0480390651944593,
          -1.2983474014888645,
          -0.5118493322462478,
          -0.6211629820763115,
          -0.7131189561305936,
          -1.5519881153245678,
          0.3588037520991031,
          -0.7401347991919084,
          0.5898932362401884,
          0.6230541842326577,
          0.1469808884715823,
          -1.4909432837564347,
          0.16216809925339512,
          -0.24679042370819276,
          -0.30396064222875,
          1.064430955755844,
          0.3820227711156056,
          -1.9545417907404197,
          -0.8840834393902629,
          -0.8514764988023206,
          0.4516710603713084,
          -0.9713569710562179
         ]
        }
       ],
       "layout": {
        "legend": {
         "bgcolor": "#F5F6F9",
         "font": {
          "color": "#4D5663"
         }
        },
        "paper_bgcolor": "#F5F6F9",
        "plot_bgcolor": "#F5F6F9",
        "template": {
         "data": {
          "bar": [
           {
            "error_x": {
             "color": "#2a3f5f"
            },
            "error_y": {
             "color": "#2a3f5f"
            },
            "marker": {
             "line": {
              "color": "#E5ECF6",
              "width": 0.5
             }
            },
            "type": "bar"
           }
          ],
          "barpolar": [
           {
            "marker": {
             "line": {
              "color": "#E5ECF6",
              "width": 0.5
             }
            },
            "type": "barpolar"
           }
          ],
          "carpet": [
           {
            "aaxis": {
             "endlinecolor": "#2a3f5f",
             "gridcolor": "white",
             "linecolor": "white",
             "minorgridcolor": "white",
             "startlinecolor": "#2a3f5f"
            },
            "baxis": {
             "endlinecolor": "#2a3f5f",
             "gridcolor": "white",
             "linecolor": "white",
             "minorgridcolor": "white",
             "startlinecolor": "#2a3f5f"
            },
            "type": "carpet"
           }
          ],
          "choropleth": [
           {
            "colorbar": {
             "outlinewidth": 0,
             "ticks": ""
            },
            "type": "choropleth"
           }
          ],
          "contour": [
           {
            "colorbar": {
             "outlinewidth": 0,
             "ticks": ""
            },
            "colorscale": [
             [
              0,
              "#0d0887"
             ],
             [
              0.1111111111111111,
              "#46039f"
             ],
             [
              0.2222222222222222,
              "#7201a8"
             ],
             [
              0.3333333333333333,
              "#9c179e"
             ],
             [
              0.4444444444444444,
              "#bd3786"
             ],
             [
              0.5555555555555556,
              "#d8576b"
             ],
             [
              0.6666666666666666,
              "#ed7953"
             ],
             [
              0.7777777777777778,
              "#fb9f3a"
             ],
             [
              0.8888888888888888,
              "#fdca26"
             ],
             [
              1,
              "#f0f921"
             ]
            ],
            "type": "contour"
           }
          ],
          "contourcarpet": [
           {
            "colorbar": {
             "outlinewidth": 0,
             "ticks": ""
            },
            "type": "contourcarpet"
           }
          ],
          "heatmap": [
           {
            "colorbar": {
             "outlinewidth": 0,
             "ticks": ""
            },
            "colorscale": [
             [
              0,
              "#0d0887"
             ],
             [
              0.1111111111111111,
              "#46039f"
             ],
             [
              0.2222222222222222,
              "#7201a8"
             ],
             [
              0.3333333333333333,
              "#9c179e"
             ],
             [
              0.4444444444444444,
              "#bd3786"
             ],
             [
              0.5555555555555556,
              "#d8576b"
             ],
             [
              0.6666666666666666,
              "#ed7953"
             ],
             [
              0.7777777777777778,
              "#fb9f3a"
             ],
             [
              0.8888888888888888,
              "#fdca26"
             ],
             [
              1,
              "#f0f921"
             ]
            ],
            "type": "heatmap"
           }
          ],
          "heatmapgl": [
           {
            "colorbar": {
             "outlinewidth": 0,
             "ticks": ""
            },
            "colorscale": [
             [
              0,
              "#0d0887"
             ],
             [
              0.1111111111111111,
              "#46039f"
             ],
             [
              0.2222222222222222,
              "#7201a8"
             ],
             [
              0.3333333333333333,
              "#9c179e"
             ],
             [
              0.4444444444444444,
              "#bd3786"
             ],
             [
              0.5555555555555556,
              "#d8576b"
             ],
             [
              0.6666666666666666,
              "#ed7953"
             ],
             [
              0.7777777777777778,
              "#fb9f3a"
             ],
             [
              0.8888888888888888,
              "#fdca26"
             ],
             [
              1,
              "#f0f921"
             ]
            ],
            "type": "heatmapgl"
           }
          ],
          "histogram": [
           {
            "marker": {
             "colorbar": {
              "outlinewidth": 0,
              "ticks": ""
             }
            },
            "type": "histogram"
           }
          ],
          "histogram2d": [
           {
            "colorbar": {
             "outlinewidth": 0,
             "ticks": ""
            },
            "colorscale": [
             [
              0,
              "#0d0887"
             ],
             [
              0.1111111111111111,
              "#46039f"
             ],
             [
              0.2222222222222222,
              "#7201a8"
             ],
             [
              0.3333333333333333,
              "#9c179e"
             ],
             [
              0.4444444444444444,
              "#bd3786"
             ],
             [
              0.5555555555555556,
              "#d8576b"
             ],
             [
              0.6666666666666666,
              "#ed7953"
             ],
             [
              0.7777777777777778,
              "#fb9f3a"
             ],
             [
              0.8888888888888888,
              "#fdca26"
             ],
             [
              1,
              "#f0f921"
             ]
            ],
            "type": "histogram2d"
           }
          ],
          "histogram2dcontour": [
           {
            "colorbar": {
             "outlinewidth": 0,
             "ticks": ""
            },
            "colorscale": [
             [
              0,
              "#0d0887"
             ],
             [
              0.1111111111111111,
              "#46039f"
             ],
             [
              0.2222222222222222,
              "#7201a8"
             ],
             [
              0.3333333333333333,
              "#9c179e"
             ],
             [
              0.4444444444444444,
              "#bd3786"
             ],
             [
              0.5555555555555556,
              "#d8576b"
             ],
             [
              0.6666666666666666,
              "#ed7953"
             ],
             [
              0.7777777777777778,
              "#fb9f3a"
             ],
             [
              0.8888888888888888,
              "#fdca26"
             ],
             [
              1,
              "#f0f921"
             ]
            ],
            "type": "histogram2dcontour"
           }
          ],
          "mesh3d": [
           {
            "colorbar": {
             "outlinewidth": 0,
             "ticks": ""
            },
            "type": "mesh3d"
           }
          ],
          "parcoords": [
           {
            "line": {
             "colorbar": {
              "outlinewidth": 0,
              "ticks": ""
             }
            },
            "type": "parcoords"
           }
          ],
          "pie": [
           {
            "automargin": true,
            "type": "pie"
           }
          ],
          "scatter": [
           {
            "marker": {
             "colorbar": {
              "outlinewidth": 0,
              "ticks": ""
             }
            },
            "type": "scatter"
           }
          ],
          "scatter3d": [
           {
            "line": {
             "colorbar": {
              "outlinewidth": 0,
              "ticks": ""
             }
            },
            "marker": {
             "colorbar": {
              "outlinewidth": 0,
              "ticks": ""
             }
            },
            "type": "scatter3d"
           }
          ],
          "scattercarpet": [
           {
            "marker": {
             "colorbar": {
              "outlinewidth": 0,
              "ticks": ""
             }
            },
            "type": "scattercarpet"
           }
          ],
          "scattergeo": [
           {
            "marker": {
             "colorbar": {
              "outlinewidth": 0,
              "ticks": ""
             }
            },
            "type": "scattergeo"
           }
          ],
          "scattergl": [
           {
            "marker": {
             "colorbar": {
              "outlinewidth": 0,
              "ticks": ""
             }
            },
            "type": "scattergl"
           }
          ],
          "scattermapbox": [
           {
            "marker": {
             "colorbar": {
              "outlinewidth": 0,
              "ticks": ""
             }
            },
            "type": "scattermapbox"
           }
          ],
          "scatterpolar": [
           {
            "marker": {
             "colorbar": {
              "outlinewidth": 0,
              "ticks": ""
             }
            },
            "type": "scatterpolar"
           }
          ],
          "scatterpolargl": [
           {
            "marker": {
             "colorbar": {
              "outlinewidth": 0,
              "ticks": ""
             }
            },
            "type": "scatterpolargl"
           }
          ],
          "scatterternary": [
           {
            "marker": {
             "colorbar": {
              "outlinewidth": 0,
              "ticks": ""
             }
            },
            "type": "scatterternary"
           }
          ],
          "surface": [
           {
            "colorbar": {
             "outlinewidth": 0,
             "ticks": ""
            },
            "colorscale": [
             [
              0,
              "#0d0887"
             ],
             [
              0.1111111111111111,
              "#46039f"
             ],
             [
              0.2222222222222222,
              "#7201a8"
             ],
             [
              0.3333333333333333,
              "#9c179e"
             ],
             [
              0.4444444444444444,
              "#bd3786"
             ],
             [
              0.5555555555555556,
              "#d8576b"
             ],
             [
              0.6666666666666666,
              "#ed7953"
             ],
             [
              0.7777777777777778,
              "#fb9f3a"
             ],
             [
              0.8888888888888888,
              "#fdca26"
             ],
             [
              1,
              "#f0f921"
             ]
            ],
            "type": "surface"
           }
          ],
          "table": [
           {
            "cells": {
             "fill": {
              "color": "#EBF0F8"
             },
             "line": {
              "color": "white"
             }
            },
            "header": {
             "fill": {
              "color": "#C8D4E3"
             },
             "line": {
              "color": "white"
             }
            },
            "type": "table"
           }
          ]
         },
         "layout": {
          "annotationdefaults": {
           "arrowcolor": "#2a3f5f",
           "arrowhead": 0,
           "arrowwidth": 1
          },
          "coloraxis": {
           "colorbar": {
            "outlinewidth": 0,
            "ticks": ""
           }
          },
          "colorscale": {
           "diverging": [
            [
             0,
             "#8e0152"
            ],
            [
             0.1,
             "#c51b7d"
            ],
            [
             0.2,
             "#de77ae"
            ],
            [
             0.3,
             "#f1b6da"
            ],
            [
             0.4,
             "#fde0ef"
            ],
            [
             0.5,
             "#f7f7f7"
            ],
            [
             0.6,
             "#e6f5d0"
            ],
            [
             0.7,
             "#b8e186"
            ],
            [
             0.8,
             "#7fbc41"
            ],
            [
             0.9,
             "#4d9221"
            ],
            [
             1,
             "#276419"
            ]
           ],
           "sequential": [
            [
             0,
             "#0d0887"
            ],
            [
             0.1111111111111111,
             "#46039f"
            ],
            [
             0.2222222222222222,
             "#7201a8"
            ],
            [
             0.3333333333333333,
             "#9c179e"
            ],
            [
             0.4444444444444444,
             "#bd3786"
            ],
            [
             0.5555555555555556,
             "#d8576b"
            ],
            [
             0.6666666666666666,
             "#ed7953"
            ],
            [
             0.7777777777777778,
             "#fb9f3a"
            ],
            [
             0.8888888888888888,
             "#fdca26"
            ],
            [
             1,
             "#f0f921"
            ]
           ],
           "sequentialminus": [
            [
             0,
             "#0d0887"
            ],
            [
             0.1111111111111111,
             "#46039f"
            ],
            [
             0.2222222222222222,
             "#7201a8"
            ],
            [
             0.3333333333333333,
             "#9c179e"
            ],
            [
             0.4444444444444444,
             "#bd3786"
            ],
            [
             0.5555555555555556,
             "#d8576b"
            ],
            [
             0.6666666666666666,
             "#ed7953"
            ],
            [
             0.7777777777777778,
             "#fb9f3a"
            ],
            [
             0.8888888888888888,
             "#fdca26"
            ],
            [
             1,
             "#f0f921"
            ]
           ]
          },
          "colorway": [
           "#636efa",
           "#EF553B",
           "#00cc96",
           "#ab63fa",
           "#FFA15A",
           "#19d3f3",
           "#FF6692",
           "#B6E880",
           "#FF97FF",
           "#FECB52"
          ],
          "font": {
           "color": "#2a3f5f"
          },
          "geo": {
           "bgcolor": "white",
           "lakecolor": "white",
           "landcolor": "#E5ECF6",
           "showlakes": true,
           "showland": true,
           "subunitcolor": "white"
          },
          "hoverlabel": {
           "align": "left"
          },
          "hovermode": "closest",
          "mapbox": {
           "style": "light"
          },
          "paper_bgcolor": "white",
          "plot_bgcolor": "#E5ECF6",
          "polar": {
           "angularaxis": {
            "gridcolor": "white",
            "linecolor": "white",
            "ticks": ""
           },
           "bgcolor": "#E5ECF6",
           "radialaxis": {
            "gridcolor": "white",
            "linecolor": "white",
            "ticks": ""
           }
          },
          "scene": {
           "xaxis": {
            "backgroundcolor": "#E5ECF6",
            "gridcolor": "white",
            "gridwidth": 2,
            "linecolor": "white",
            "showbackground": true,
            "ticks": "",
            "zerolinecolor": "white"
           },
           "yaxis": {
            "backgroundcolor": "#E5ECF6",
            "gridcolor": "white",
            "gridwidth": 2,
            "linecolor": "white",
            "showbackground": true,
            "ticks": "",
            "zerolinecolor": "white"
           },
           "zaxis": {
            "backgroundcolor": "#E5ECF6",
            "gridcolor": "white",
            "gridwidth": 2,
            "linecolor": "white",
            "showbackground": true,
            "ticks": "",
            "zerolinecolor": "white"
           }
          },
          "shapedefaults": {
           "line": {
            "color": "#2a3f5f"
           }
          },
          "ternary": {
           "aaxis": {
            "gridcolor": "white",
            "linecolor": "white",
            "ticks": ""
           },
           "baxis": {
            "gridcolor": "white",
            "linecolor": "white",
            "ticks": ""
           },
           "bgcolor": "#E5ECF6",
           "caxis": {
            "gridcolor": "white",
            "linecolor": "white",
            "ticks": ""
           }
          },
          "title": {
           "x": 0.05
          },
          "xaxis": {
           "automargin": true,
           "gridcolor": "white",
           "linecolor": "white",
           "ticks": "",
           "title": {
            "standoff": 15
           },
           "zerolinecolor": "white",
           "zerolinewidth": 2
          },
          "yaxis": {
           "automargin": true,
           "gridcolor": "white",
           "linecolor": "white",
           "ticks": "",
           "title": {
            "standoff": 15
           },
           "zerolinecolor": "white",
           "zerolinewidth": 2
          }
         }
        },
        "title": {
         "font": {
          "color": "#4D5663"
         }
        },
        "xaxis": {
         "gridcolor": "#E1E5ED",
         "showgrid": true,
         "tickfont": {
          "color": "#4D5663"
         },
         "title": {
          "font": {
           "color": "#4D5663"
          },
          "text": ""
         },
         "zerolinecolor": "#E1E5ED"
        },
        "yaxis": {
         "gridcolor": "#E1E5ED",
         "showgrid": true,
         "tickfont": {
          "color": "#4D5663"
         },
         "title": {
          "font": {
           "color": "#4D5663"
          },
          "text": ""
         },
         "zerolinecolor": "#E1E5ED"
        }
       }
      },
      "text/html": [
       "<div>                            <div id=\"99777328-7e58-4d4a-a75e-6c6aad1e4438\" class=\"plotly-graph-div\" style=\"height:525px; width:100%;\"></div>            <script type=\"text/javascript\">                require([\"plotly\"], function(Plotly) {                    window.PLOTLYENV=window.PLOTLYENV || {};\n",
       "                    window.PLOTLYENV.BASE_URL='https://plot.ly';                                    if (document.getElementById(\"99777328-7e58-4d4a-a75e-6c6aad1e4438\")) {                    Plotly.newPlot(                        \"99777328-7e58-4d4a-a75e-6c6aad1e4438\",                        [{\"marker\": {\"color\": [\"rgb(255, 153, 51)\", \"rgb(55, 128, 191)\", \"rgb(50, 171, 96)\", \"rgb(128, 0, 128)\", \"rgb(219, 64, 82)\", \"rgb(0, 128, 128)\", \"rgb(255, 255, 51)\", \"rgb(128, 128, 0)\", \"rgb(251, 128, 114)\", \"rgb(128, 177, 211)\"], \"line\": {\"width\": 1.3}, \"size\": [45, 80, 53, 35, 89, 37, 52, 71, 78, 63, 43, 58, 62, 69, 44, 58, 71, 50, 60, 85, 40, 70, 23, 58, 60, 25, 27, 42, 47, 61, 59, 85, 42, 50, 62, 28, 56, 36, 70, 62, 84, 73, 55, 59, 112, 65, 77, 66, 89, 27, 83, 45, 47, 19, 65, 41, 51, 35, 46, 49, 41, 12, 47, 59, 59, 64, 33, 58, 41, 35, 34, 22, 22, 51, 105, 71, 64, 68, 75, 14, 62, 107, 34, 55, 32, 69, 37, 30, 60, 71, 86, 48, 77, 90, 76, 49, 33, 73, 29, 50], \"symbol\": \"circle\"}, \"mode\": \"markers\", \"text\": \"\", \"type\": \"scatter\", \"x\": [-0.30202016863775033, -0.28564555846571377, 0.4476704948481836, -0.7162322499431878, -1.1752084454356209, 0.037922946952660096, -0.4784580310902896, -0.8127219470868241, -0.2015463810609984, -1.2477309120841387, 0.33416595599237875, -0.3925825214642993, 0.8483162327766754, 1.4017593159498198, -0.24447542578970963, 0.3268425653949366, 0.7896328968946461, 0.05003230055379049, 0.8713596231470593, -0.36768247294659173, 1.456695935256, 0.09086717022177927, 0.8308289690395506, 0.4570302705052343, 1.641725152630206, -0.34337193630447227, -0.6899548045806325, -1.4989669498743878, -0.4990655862049401, -1.2763195565688894, -0.5841927721605572, -0.6531615312082533, -1.544688058823571, 1.241823683012709, 0.36670402575200034, 0.36785862000313696, -0.4251916229702931, -1.1424611416885133, 0.11744918233688426, -0.2943921274727523, -0.2630411797495611, 1.1189450591825083, 0.6771083217387999, -2.1007251081507516, -1.469901874723165, 0.5804195589513341, -0.26050512490234284, 2.2362929227372725, 0.5190194687909312, -0.008163118768048035, -0.6611054621616541, 1.36957273498277, 0.57208163756899, 0.12460374641094915, 0.8356395402758129, -0.8335550054425519, -0.8946566144284955, -0.10099356338826994, 0.04425297346768268, 2.217770067273319, 0.03522119302500431, -1.9869202369288799, -1.2508613408788938, 0.09279898228614562, 0.38692351076168063, -0.026236237411354904, -1.491069699311706, 0.8294659536906288, 0.6136776593807836, -0.8154202979633771, 0.6293335815887414, -1.0923772889015413, 0.7386223240270853, -0.68737966371764, -0.6422680828562675, 0.7998127045023482, 0.9217752449620659, 0.04459918763480434, -0.445947653484942, -0.3773323373724564, 0.4050137890893175, 0.19591076972454038, -0.3532570369973499, -0.19817408743935175, -0.311181936508081, -0.5692973337611296, 1.2737066010007103, 0.33310651006183967, 2.343367044548086, -0.4488947193251729, 0.16005691450387768, -0.5608031062151607, -0.2592370006186431, -0.7117502976304382, -0.5122229220026929, 0.9231576330805437, 1.108977825338648, 0.05946369407947916, -0.5664014911796487, 0.5891591881972967], \"y\": [-0.8488668044204304, 0.0829347754880924, 0.5024352835101774, -1.555223408984092, -1.7161100299123155, 0.13905529392350072, 0.4697605231701461, -0.2067026939520887, -1.1575550785607536, 1.0197452265500921, 1.1202487101150227, 1.5954620391368428, -0.4375092399621281, -0.47581549224960684, 1.1853669230476602, -0.7970090865687269, -0.217834734307552, -0.9266855311136963, 0.6925149520732994, -0.14063441315709707, 1.3397844385147475, -0.1413885447509737, -0.3341614782625514, -1.0331617312485522, 0.24434025389131428, 1.5085738205782122, 0.10463564901176917, -1.0951203549391761, -0.27409678695725026, 0.420532769222361, 0.44161004868931125, 1.243251467420042, 2.014541632056787, 0.0005947858539945759, 1.2239989488374874, -0.3249945539545311, 0.11473621845710603, 1.1583020744108352, 0.33306800250962726, 0.6084733116468805, 0.2736092321470979, -1.5679830656702087, -0.06928753093902698, 0.526425209767373, -0.01545031249896855, -0.2570800949369005, -0.4691911947167141, 0.3670764942533598, 0.9329487179609518, 0.2795889554620296, -0.7792859324560443, 1.320870561157038, -0.9628173239459669, 1.0288747348344904, -0.31456248623952465, 1.179250469511076, 0.03272168521154292, -0.07204583648761341, 1.1921789942533836, 1.25019068010553, -0.03188346728559232, -0.1530268360484573, 0.9831775188487099, -0.5267924542187926, -0.4053089572688673, -0.051938708052279375, 0.45703909564713263, 0.2642433727428654, 0.5251885395153827, -0.0744890981195537, 0.20179472075573884, -0.24260442894883943, -0.7655468244843483, -0.25466269286703574, 1.3274099884767236, -1.8920515553120267, 0.10540569529487552, 1.0160601421792685, 1.0480390651944593, -1.2983474014888645, -0.5118493322462478, -0.6211629820763115, -0.7131189561305936, -1.5519881153245678, 0.3588037520991031, -0.7401347991919084, 0.5898932362401884, 0.6230541842326577, 0.1469808884715823, -1.4909432837564347, 0.16216809925339512, -0.24679042370819276, -0.30396064222875, 1.064430955755844, 0.3820227711156056, -1.9545417907404197, -0.8840834393902629, -0.8514764988023206, 0.4516710603713084, -0.9713569710562179]}],                        {\"legend\": {\"bgcolor\": \"#F5F6F9\", \"font\": {\"color\": \"#4D5663\"}}, \"paper_bgcolor\": \"#F5F6F9\", \"plot_bgcolor\": \"#F5F6F9\", \"template\": {\"data\": {\"bar\": [{\"error_x\": {\"color\": \"#2a3f5f\"}, \"error_y\": {\"color\": \"#2a3f5f\"}, \"marker\": {\"line\": {\"color\": \"#E5ECF6\", \"width\": 0.5}}, \"type\": \"bar\"}], \"barpolar\": [{\"marker\": {\"line\": {\"color\": \"#E5ECF6\", \"width\": 0.5}}, \"type\": \"barpolar\"}], \"carpet\": [{\"aaxis\": {\"endlinecolor\": \"#2a3f5f\", \"gridcolor\": \"white\", \"linecolor\": \"white\", \"minorgridcolor\": \"white\", \"startlinecolor\": \"#2a3f5f\"}, \"baxis\": {\"endlinecolor\": \"#2a3f5f\", \"gridcolor\": \"white\", \"linecolor\": \"white\", \"minorgridcolor\": \"white\", \"startlinecolor\": \"#2a3f5f\"}, \"type\": \"carpet\"}], \"choropleth\": [{\"colorbar\": {\"outlinewidth\": 0, \"ticks\": \"\"}, \"type\": \"choropleth\"}], \"contour\": [{\"colorbar\": {\"outlinewidth\": 0, \"ticks\": \"\"}, \"colorscale\": [[0.0, \"#0d0887\"], [0.1111111111111111, \"#46039f\"], [0.2222222222222222, \"#7201a8\"], [0.3333333333333333, \"#9c179e\"], [0.4444444444444444, \"#bd3786\"], [0.5555555555555556, \"#d8576b\"], [0.6666666666666666, \"#ed7953\"], [0.7777777777777778, \"#fb9f3a\"], [0.8888888888888888, \"#fdca26\"], [1.0, \"#f0f921\"]], \"type\": \"contour\"}], \"contourcarpet\": [{\"colorbar\": {\"outlinewidth\": 0, \"ticks\": \"\"}, \"type\": \"contourcarpet\"}], \"heatmap\": [{\"colorbar\": {\"outlinewidth\": 0, \"ticks\": \"\"}, \"colorscale\": [[0.0, \"#0d0887\"], [0.1111111111111111, \"#46039f\"], [0.2222222222222222, \"#7201a8\"], [0.3333333333333333, \"#9c179e\"], [0.4444444444444444, \"#bd3786\"], [0.5555555555555556, \"#d8576b\"], [0.6666666666666666, \"#ed7953\"], [0.7777777777777778, \"#fb9f3a\"], [0.8888888888888888, \"#fdca26\"], [1.0, \"#f0f921\"]], \"type\": \"heatmap\"}], \"heatmapgl\": [{\"colorbar\": {\"outlinewidth\": 0, \"ticks\": \"\"}, \"colorscale\": [[0.0, \"#0d0887\"], [0.1111111111111111, \"#46039f\"], [0.2222222222222222, \"#7201a8\"], [0.3333333333333333, \"#9c179e\"], [0.4444444444444444, \"#bd3786\"], [0.5555555555555556, \"#d8576b\"], [0.6666666666666666, \"#ed7953\"], [0.7777777777777778, \"#fb9f3a\"], [0.8888888888888888, \"#fdca26\"], [1.0, \"#f0f921\"]], \"type\": \"heatmapgl\"}], \"histogram\": [{\"marker\": {\"colorbar\": {\"outlinewidth\": 0, \"ticks\": \"\"}}, \"type\": \"histogram\"}], \"histogram2d\": [{\"colorbar\": {\"outlinewidth\": 0, \"ticks\": \"\"}, \"colorscale\": [[0.0, \"#0d0887\"], [0.1111111111111111, \"#46039f\"], [0.2222222222222222, \"#7201a8\"], [0.3333333333333333, \"#9c179e\"], [0.4444444444444444, \"#bd3786\"], [0.5555555555555556, \"#d8576b\"], [0.6666666666666666, \"#ed7953\"], [0.7777777777777778, \"#fb9f3a\"], [0.8888888888888888, \"#fdca26\"], [1.0, \"#f0f921\"]], \"type\": \"histogram2d\"}], \"histogram2dcontour\": [{\"colorbar\": {\"outlinewidth\": 0, \"ticks\": \"\"}, \"colorscale\": [[0.0, \"#0d0887\"], [0.1111111111111111, \"#46039f\"], [0.2222222222222222, \"#7201a8\"], [0.3333333333333333, \"#9c179e\"], [0.4444444444444444, \"#bd3786\"], [0.5555555555555556, \"#d8576b\"], [0.6666666666666666, \"#ed7953\"], [0.7777777777777778, \"#fb9f3a\"], [0.8888888888888888, \"#fdca26\"], [1.0, \"#f0f921\"]], \"type\": \"histogram2dcontour\"}], \"mesh3d\": [{\"colorbar\": {\"outlinewidth\": 0, \"ticks\": \"\"}, \"type\": \"mesh3d\"}], \"parcoords\": [{\"line\": {\"colorbar\": {\"outlinewidth\": 0, \"ticks\": \"\"}}, \"type\": \"parcoords\"}], \"pie\": [{\"automargin\": true, \"type\": \"pie\"}], \"scatter\": [{\"marker\": {\"colorbar\": {\"outlinewidth\": 0, \"ticks\": \"\"}}, \"type\": \"scatter\"}], \"scatter3d\": [{\"line\": {\"colorbar\": {\"outlinewidth\": 0, \"ticks\": \"\"}}, \"marker\": {\"colorbar\": {\"outlinewidth\": 0, \"ticks\": \"\"}}, \"type\": \"scatter3d\"}], \"scattercarpet\": [{\"marker\": {\"colorbar\": {\"outlinewidth\": 0, \"ticks\": \"\"}}, \"type\": \"scattercarpet\"}], \"scattergeo\": [{\"marker\": {\"colorbar\": {\"outlinewidth\": 0, \"ticks\": \"\"}}, \"type\": \"scattergeo\"}], \"scattergl\": [{\"marker\": {\"colorbar\": {\"outlinewidth\": 0, \"ticks\": \"\"}}, \"type\": \"scattergl\"}], \"scattermapbox\": [{\"marker\": {\"colorbar\": {\"outlinewidth\": 0, \"ticks\": \"\"}}, \"type\": \"scattermapbox\"}], \"scatterpolar\": [{\"marker\": {\"colorbar\": {\"outlinewidth\": 0, \"ticks\": \"\"}}, \"type\": \"scatterpolar\"}], \"scatterpolargl\": [{\"marker\": {\"colorbar\": {\"outlinewidth\": 0, \"ticks\": \"\"}}, \"type\": \"scatterpolargl\"}], \"scatterternary\": [{\"marker\": {\"colorbar\": {\"outlinewidth\": 0, \"ticks\": \"\"}}, \"type\": \"scatterternary\"}], \"surface\": [{\"colorbar\": {\"outlinewidth\": 0, \"ticks\": \"\"}, \"colorscale\": [[0.0, \"#0d0887\"], [0.1111111111111111, \"#46039f\"], [0.2222222222222222, \"#7201a8\"], [0.3333333333333333, \"#9c179e\"], [0.4444444444444444, \"#bd3786\"], [0.5555555555555556, \"#d8576b\"], [0.6666666666666666, \"#ed7953\"], [0.7777777777777778, \"#fb9f3a\"], [0.8888888888888888, \"#fdca26\"], [1.0, \"#f0f921\"]], \"type\": \"surface\"}], \"table\": [{\"cells\": {\"fill\": {\"color\": \"#EBF0F8\"}, \"line\": {\"color\": \"white\"}}, \"header\": {\"fill\": {\"color\": \"#C8D4E3\"}, \"line\": {\"color\": \"white\"}}, \"type\": \"table\"}]}, \"layout\": {\"annotationdefaults\": {\"arrowcolor\": \"#2a3f5f\", \"arrowhead\": 0, \"arrowwidth\": 1}, \"coloraxis\": {\"colorbar\": {\"outlinewidth\": 0, \"ticks\": \"\"}}, \"colorscale\": {\"diverging\": [[0, \"#8e0152\"], [0.1, \"#c51b7d\"], [0.2, \"#de77ae\"], [0.3, \"#f1b6da\"], [0.4, \"#fde0ef\"], [0.5, \"#f7f7f7\"], [0.6, \"#e6f5d0\"], [0.7, \"#b8e186\"], [0.8, \"#7fbc41\"], [0.9, \"#4d9221\"], [1, \"#276419\"]], \"sequential\": [[0.0, \"#0d0887\"], [0.1111111111111111, \"#46039f\"], [0.2222222222222222, \"#7201a8\"], [0.3333333333333333, \"#9c179e\"], [0.4444444444444444, \"#bd3786\"], [0.5555555555555556, \"#d8576b\"], [0.6666666666666666, \"#ed7953\"], [0.7777777777777778, \"#fb9f3a\"], [0.8888888888888888, \"#fdca26\"], [1.0, \"#f0f921\"]], \"sequentialminus\": [[0.0, \"#0d0887\"], [0.1111111111111111, \"#46039f\"], [0.2222222222222222, \"#7201a8\"], [0.3333333333333333, \"#9c179e\"], [0.4444444444444444, \"#bd3786\"], [0.5555555555555556, \"#d8576b\"], [0.6666666666666666, \"#ed7953\"], [0.7777777777777778, \"#fb9f3a\"], [0.8888888888888888, \"#fdca26\"], [1.0, \"#f0f921\"]]}, \"colorway\": [\"#636efa\", \"#EF553B\", \"#00cc96\", \"#ab63fa\", \"#FFA15A\", \"#19d3f3\", \"#FF6692\", \"#B6E880\", \"#FF97FF\", \"#FECB52\"], \"font\": {\"color\": \"#2a3f5f\"}, \"geo\": {\"bgcolor\": \"white\", \"lakecolor\": \"white\", \"landcolor\": \"#E5ECF6\", \"showlakes\": true, \"showland\": true, \"subunitcolor\": \"white\"}, \"hoverlabel\": {\"align\": \"left\"}, \"hovermode\": \"closest\", \"mapbox\": {\"style\": \"light\"}, \"paper_bgcolor\": \"white\", \"plot_bgcolor\": \"#E5ECF6\", \"polar\": {\"angularaxis\": {\"gridcolor\": \"white\", \"linecolor\": \"white\", \"ticks\": \"\"}, \"bgcolor\": \"#E5ECF6\", \"radialaxis\": {\"gridcolor\": \"white\", \"linecolor\": \"white\", \"ticks\": \"\"}}, \"scene\": {\"xaxis\": {\"backgroundcolor\": \"#E5ECF6\", \"gridcolor\": \"white\", \"gridwidth\": 2, \"linecolor\": \"white\", \"showbackground\": true, \"ticks\": \"\", \"zerolinecolor\": \"white\"}, \"yaxis\": {\"backgroundcolor\": \"#E5ECF6\", \"gridcolor\": \"white\", \"gridwidth\": 2, \"linecolor\": \"white\", \"showbackground\": true, \"ticks\": \"\", \"zerolinecolor\": \"white\"}, \"zaxis\": {\"backgroundcolor\": \"#E5ECF6\", \"gridcolor\": \"white\", \"gridwidth\": 2, \"linecolor\": \"white\", \"showbackground\": true, \"ticks\": \"\", \"zerolinecolor\": \"white\"}}, \"shapedefaults\": {\"line\": {\"color\": \"#2a3f5f\"}}, \"ternary\": {\"aaxis\": {\"gridcolor\": \"white\", \"linecolor\": \"white\", \"ticks\": \"\"}, \"baxis\": {\"gridcolor\": \"white\", \"linecolor\": \"white\", \"ticks\": \"\"}, \"bgcolor\": \"#E5ECF6\", \"caxis\": {\"gridcolor\": \"white\", \"linecolor\": \"white\", \"ticks\": \"\"}}, \"title\": {\"x\": 0.05}, \"xaxis\": {\"automargin\": true, \"gridcolor\": \"white\", \"linecolor\": \"white\", \"ticks\": \"\", \"title\": {\"standoff\": 15}, \"zerolinecolor\": \"white\", \"zerolinewidth\": 2}, \"yaxis\": {\"automargin\": true, \"gridcolor\": \"white\", \"linecolor\": \"white\", \"ticks\": \"\", \"title\": {\"standoff\": 15}, \"zerolinecolor\": \"white\", \"zerolinewidth\": 2}}}, \"title\": {\"font\": {\"color\": \"#4D5663\"}}, \"xaxis\": {\"gridcolor\": \"#E1E5ED\", \"showgrid\": true, \"tickfont\": {\"color\": \"#4D5663\"}, \"title\": {\"font\": {\"color\": \"#4D5663\"}, \"text\": \"\"}, \"zerolinecolor\": \"#E1E5ED\"}, \"yaxis\": {\"gridcolor\": \"#E1E5ED\", \"showgrid\": true, \"tickfont\": {\"color\": \"#4D5663\"}, \"title\": {\"font\": {\"color\": \"#4D5663\"}, \"text\": \"\"}, \"zerolinecolor\": \"#E1E5ED\"}},                        {\"showLink\": true, \"linkText\": \"Export to plot.ly\", \"plotlyServerURL\": \"https://plot.ly\", \"responsive\": true}                    ).then(function(){\n",
       "                            \n",
       "var gd = document.getElementById('99777328-7e58-4d4a-a75e-6c6aad1e4438');\n",
       "var x = new MutationObserver(function (mutations, observer) {{\n",
       "        var display = window.getComputedStyle(gd).display;\n",
       "        if (!display || display === 'none') {{\n",
       "            console.log([gd, 'removed!']);\n",
       "            Plotly.purge(gd);\n",
       "            observer.disconnect();\n",
       "        }}\n",
       "}});\n",
       "\n",
       "// Listen for the removal of the full notebook cells\n",
       "var notebookContainer = gd.closest('#notebook-container');\n",
       "if (notebookContainer) {{\n",
       "    x.observe(notebookContainer, {childList: true});\n",
       "}}\n",
       "\n",
       "// Listen for the clearing of the current output cell\n",
       "var outputEl = gd.closest('.output');\n",
       "if (outputEl) {{\n",
       "    x.observe(outputEl, {childList: true});\n",
       "}}\n",
       "\n",
       "                        })                };                });            </script>        </div>"
      ]
     },
     "metadata": {},
     "output_type": "display_data"
    }
   ],
   "source": [
    "fake_df.iplot(kind='bubble', x='A', y='B', size='C')"
   ]
  },
  {
   "cell_type": "code",
   "execution_count": 18,
   "metadata": {},
   "outputs": [
    {
     "data": {
      "application/vnd.plotly.v1+json": {
       "config": {
        "linkText": "Export to plot.ly",
        "plotlyServerURL": "https://plot.ly",
        "showLink": true
       },
       "data": [
        {
         "line": {
          "color": "rgba(255, 153, 51, 1.0)",
          "dash": "solid",
          "shape": "linear",
          "width": 1.3
         },
         "mode": "lines",
         "name": "A",
         "text": "",
         "type": "scatter",
         "x": [
          0,
          1,
          2,
          3,
          4,
          5,
          6,
          7,
          8,
          9,
          10,
          11,
          12,
          13,
          14,
          15,
          16,
          17,
          18,
          19,
          20,
          21,
          22,
          23,
          24,
          25,
          26,
          27,
          28,
          29,
          30,
          31,
          32,
          33,
          34,
          35,
          36,
          37,
          38,
          39,
          40,
          41,
          42,
          43,
          44,
          45,
          46,
          47,
          48,
          49,
          50,
          51,
          52,
          53,
          54,
          55,
          56,
          57,
          58,
          59,
          60,
          61,
          62,
          63,
          64,
          65,
          66,
          67,
          68,
          69,
          70,
          71,
          72,
          73,
          74,
          75,
          76,
          77,
          78,
          79,
          80,
          81,
          82,
          83,
          84,
          85,
          86,
          87,
          88,
          89,
          90,
          91,
          92,
          93,
          94,
          95,
          96,
          97,
          98,
          99
         ],
         "y": [
          -0.30202016863775033,
          -0.28564555846571377,
          0.4476704948481836,
          -0.7162322499431878,
          -1.1752084454356209,
          0.037922946952660096,
          -0.4784580310902896,
          -0.8127219470868241,
          -0.2015463810609984,
          -1.2477309120841387,
          0.33416595599237875,
          -0.3925825214642993,
          0.8483162327766754,
          1.4017593159498198,
          -0.24447542578970963,
          0.3268425653949366,
          0.7896328968946461,
          0.05003230055379049,
          0.8713596231470593,
          -0.36768247294659173,
          1.456695935256,
          0.09086717022177927,
          0.8308289690395506,
          0.4570302705052343,
          1.641725152630206,
          -0.34337193630447227,
          -0.6899548045806325,
          -1.4989669498743878,
          -0.4990655862049401,
          -1.2763195565688894,
          -0.5841927721605572,
          -0.6531615312082533,
          -1.544688058823571,
          1.241823683012709,
          0.36670402575200034,
          0.36785862000313696,
          -0.4251916229702931,
          -1.1424611416885133,
          0.11744918233688426,
          -0.2943921274727523,
          -0.2630411797495611,
          1.1189450591825083,
          0.6771083217387999,
          -2.1007251081507516,
          -1.469901874723165,
          0.5804195589513341,
          -0.26050512490234284,
          2.2362929227372725,
          0.5190194687909312,
          -0.008163118768048035,
          -0.6611054621616541,
          1.36957273498277,
          0.57208163756899,
          0.12460374641094915,
          0.8356395402758129,
          -0.8335550054425519,
          -0.8946566144284955,
          -0.10099356338826994,
          0.04425297346768268,
          2.217770067273319,
          0.03522119302500431,
          -1.9869202369288799,
          -1.2508613408788938,
          0.09279898228614562,
          0.38692351076168063,
          -0.026236237411354904,
          -1.491069699311706,
          0.8294659536906288,
          0.6136776593807836,
          -0.8154202979633771,
          0.6293335815887414,
          -1.0923772889015413,
          0.7386223240270853,
          -0.68737966371764,
          -0.6422680828562675,
          0.7998127045023482,
          0.9217752449620659,
          0.04459918763480434,
          -0.445947653484942,
          -0.3773323373724564,
          0.4050137890893175,
          0.19591076972454038,
          -0.3532570369973499,
          -0.19817408743935175,
          -0.311181936508081,
          -0.5692973337611296,
          1.2737066010007103,
          0.33310651006183967,
          2.343367044548086,
          -0.4488947193251729,
          0.16005691450387768,
          -0.5608031062151607,
          -0.2592370006186431,
          -0.7117502976304382,
          -0.5122229220026929,
          0.9231576330805437,
          1.108977825338648,
          0.05946369407947916,
          -0.5664014911796487,
          0.5891591881972967
         ]
        },
        {
         "line": {
          "color": "rgba(55, 128, 191, 1.0)",
          "dash": "solid",
          "shape": "linear",
          "width": 1.3
         },
         "mode": "lines",
         "name": "B",
         "text": "",
         "type": "scatter",
         "x": [
          0,
          1,
          2,
          3,
          4,
          5,
          6,
          7,
          8,
          9,
          10,
          11,
          12,
          13,
          14,
          15,
          16,
          17,
          18,
          19,
          20,
          21,
          22,
          23,
          24,
          25,
          26,
          27,
          28,
          29,
          30,
          31,
          32,
          33,
          34,
          35,
          36,
          37,
          38,
          39,
          40,
          41,
          42,
          43,
          44,
          45,
          46,
          47,
          48,
          49,
          50,
          51,
          52,
          53,
          54,
          55,
          56,
          57,
          58,
          59,
          60,
          61,
          62,
          63,
          64,
          65,
          66,
          67,
          68,
          69,
          70,
          71,
          72,
          73,
          74,
          75,
          76,
          77,
          78,
          79,
          80,
          81,
          82,
          83,
          84,
          85,
          86,
          87,
          88,
          89,
          90,
          91,
          92,
          93,
          94,
          95,
          96,
          97,
          98,
          99
         ],
         "y": [
          -0.8488668044204304,
          0.0829347754880924,
          0.5024352835101774,
          -1.555223408984092,
          -1.7161100299123155,
          0.13905529392350072,
          0.4697605231701461,
          -0.2067026939520887,
          -1.1575550785607536,
          1.0197452265500921,
          1.1202487101150227,
          1.5954620391368428,
          -0.4375092399621281,
          -0.47581549224960684,
          1.1853669230476602,
          -0.7970090865687269,
          -0.217834734307552,
          -0.9266855311136963,
          0.6925149520732994,
          -0.14063441315709707,
          1.3397844385147475,
          -0.1413885447509737,
          -0.3341614782625514,
          -1.0331617312485522,
          0.24434025389131428,
          1.5085738205782122,
          0.10463564901176917,
          -1.0951203549391761,
          -0.27409678695725026,
          0.420532769222361,
          0.44161004868931125,
          1.243251467420042,
          2.014541632056787,
          0.0005947858539945759,
          1.2239989488374874,
          -0.3249945539545311,
          0.11473621845710603,
          1.1583020744108352,
          0.33306800250962726,
          0.6084733116468805,
          0.2736092321470979,
          -1.5679830656702087,
          -0.06928753093902698,
          0.526425209767373,
          -0.01545031249896855,
          -0.2570800949369005,
          -0.4691911947167141,
          0.3670764942533598,
          0.9329487179609518,
          0.2795889554620296,
          -0.7792859324560443,
          1.320870561157038,
          -0.9628173239459669,
          1.0288747348344904,
          -0.31456248623952465,
          1.179250469511076,
          0.03272168521154292,
          -0.07204583648761341,
          1.1921789942533836,
          1.25019068010553,
          -0.03188346728559232,
          -0.1530268360484573,
          0.9831775188487099,
          -0.5267924542187926,
          -0.4053089572688673,
          -0.051938708052279375,
          0.45703909564713263,
          0.2642433727428654,
          0.5251885395153827,
          -0.0744890981195537,
          0.20179472075573884,
          -0.24260442894883943,
          -0.7655468244843483,
          -0.25466269286703574,
          1.3274099884767236,
          -1.8920515553120267,
          0.10540569529487552,
          1.0160601421792685,
          1.0480390651944593,
          -1.2983474014888645,
          -0.5118493322462478,
          -0.6211629820763115,
          -0.7131189561305936,
          -1.5519881153245678,
          0.3588037520991031,
          -0.7401347991919084,
          0.5898932362401884,
          0.6230541842326577,
          0.1469808884715823,
          -1.4909432837564347,
          0.16216809925339512,
          -0.24679042370819276,
          -0.30396064222875,
          1.064430955755844,
          0.3820227711156056,
          -1.9545417907404197,
          -0.8840834393902629,
          -0.8514764988023206,
          0.4516710603713084,
          -0.9713569710562179
         ]
        },
        {
         "line": {
          "color": "rgba(50, 171, 96, 1.0)",
          "dash": "solid",
          "shape": "linear",
          "width": 1.3
         },
         "mode": "lines",
         "name": "C",
         "text": "",
         "type": "scatter",
         "x": [
          0,
          1,
          2,
          3,
          4,
          5,
          6,
          7,
          8,
          9,
          10,
          11,
          12,
          13,
          14,
          15,
          16,
          17,
          18,
          19,
          20,
          21,
          22,
          23,
          24,
          25,
          26,
          27,
          28,
          29,
          30,
          31,
          32,
          33,
          34,
          35,
          36,
          37,
          38,
          39,
          40,
          41,
          42,
          43,
          44,
          45,
          46,
          47,
          48,
          49,
          50,
          51,
          52,
          53,
          54,
          55,
          56,
          57,
          58,
          59,
          60,
          61,
          62,
          63,
          64,
          65,
          66,
          67,
          68,
          69,
          70,
          71,
          72,
          73,
          74,
          75,
          76,
          77,
          78,
          79,
          80,
          81,
          82,
          83,
          84,
          85,
          86,
          87,
          88,
          89,
          90,
          91,
          92,
          93,
          94,
          95,
          96,
          97,
          98,
          99
         ],
         "y": [
          -0.5325002392797077,
          1.2107826144635394,
          -0.12581857596195073,
          -1.065685346460432,
          1.6219974824957573,
          -0.932800678811066,
          -0.21316481203726712,
          0.763681120902737,
          1.098664206498667,
          0.36009215649075343,
          -0.664219816308787,
          0.07577184065638896,
          0.3031687581058567,
          0.6606870603906189,
          -0.5961486242453862,
          0.11231630657312325,
          0.7691043610978897,
          -0.3081123223215197,
          0.19559556136046366,
          1.4374690002280184,
          -0.8153210756978526,
          0.6813563452246516,
          -1.6382804382128886,
          0.08817865962915074,
          0.20261471758722485,
          -1.5184096422482465,
          -1.4305530017112984,
          -0.6953963924991731,
          -0.43994601001709965,
          0.22937454005128888,
          0.1447963167297178,
          1.4358227971455064,
          -0.7190175116891817,
          -0.31304105941454047,
          0.287214494791865,
          -1.3864896792827985,
          0.01238435443261473,
          -0.968968169580906,
          0.6757773935989444,
          0.28438830723664055,
          1.3939662961596828,
          0.848053334072673,
          -0.05146628439166784,
          0.13180154178313105,
          2.756987407554678,
          0.46855564383907744,
          1.0594874292830787,
          0.5036613275770189,
          1.647513334058284,
          -1.443885741626302,
          1.3359587953778,
          -0.5455285003845146,
          -0.461732199765846,
          -1.8435212714640112,
          0.4538100646615445,
          -0.72191357965643,
          -0.24374954965398982,
          -1.0252134615790376,
          -0.5165437210671675,
          -0.33161543392197307,
          -0.7431465286961032,
          -2.210006319910014,
          -0.46724628052367445,
          0.14586509253773433,
          0.14969459570682003,
          0.4191904426785085,
          -1.1344968632281076,
          0.10571054282160242,
          -0.7589371530008178,
          -1.0542016454475767,
          -1.0753202072880828,
          -1.664851074939344,
          -1.6675055030541586,
          -0.2331187171751215,
          2.4126159312201527,
          0.7389659801077011,
          0.3826710404007888,
          0.5817057566608924,
          0.9574718358569249,
          -2.0985324423193594,
          0.31289459728961866,
          2.5381461963041967,
          -1.1164237044150571,
          -0.0457752960357565,
          -1.2102654227507113,
          0.6626735232923587,
          -0.9294259573544665,
          -1.2753086464635068,
          0.19150764250023283,
          0.7682688889700511,
          1.5038416312088143,
          -0.41447058970720374,
          1.0473552330836675,
          1.6884234732045154,
          0.9931508514200323,
          -0.34211968075641724,
          -1.1649591956662277,
          0.8319726133234473,
          -1.343902562095212,
          -0.2943244448144205
         ]
        },
        {
         "line": {
          "color": "rgba(128, 0, 128, 1.0)",
          "dash": "solid",
          "shape": "linear",
          "width": 1.3
         },
         "mode": "lines",
         "name": "D",
         "text": "",
         "type": "scatter",
         "x": [
          0,
          1,
          2,
          3,
          4,
          5,
          6,
          7,
          8,
          9,
          10,
          11,
          12,
          13,
          14,
          15,
          16,
          17,
          18,
          19,
          20,
          21,
          22,
          23,
          24,
          25,
          26,
          27,
          28,
          29,
          30,
          31,
          32,
          33,
          34,
          35,
          36,
          37,
          38,
          39,
          40,
          41,
          42,
          43,
          44,
          45,
          46,
          47,
          48,
          49,
          50,
          51,
          52,
          53,
          54,
          55,
          56,
          57,
          58,
          59,
          60,
          61,
          62,
          63,
          64,
          65,
          66,
          67,
          68,
          69,
          70,
          71,
          72,
          73,
          74,
          75,
          76,
          77,
          78,
          79,
          80,
          81,
          82,
          83,
          84,
          85,
          86,
          87,
          88,
          89,
          90,
          91,
          92,
          93,
          94,
          95,
          96,
          97,
          98,
          99
         ],
         "y": [
          -0.006679552459379296,
          0.07331242355470725,
          1.1083884810155544,
          -1.6565627117319746,
          1.9950862907185352,
          0.6454822575914453,
          -0.5329751906162492,
          0.08565999414797083,
          0.09036665290178467,
          0.7872452416416569,
          -0.11434170196201493,
          -1.121478936932661,
          1.1096696474770031,
          0.6516962960220379,
          0.30660602120926544,
          -0.7168392297450519,
          -0.7439065941431607,
          0.6615739709752352,
          0.6006997037973186,
          -0.6050611084460127,
          -0.5461260559653208,
          0.1424476018858292,
          -1.197176194136547,
          0.7877118711253404,
          -0.9714740266118284,
          0.7826606579329373,
          -1.1031652966404037,
          2.526889128554002,
          0.16190821155043775,
          0.23198501547302153,
          0.5640839786071568,
          -0.05016580642898075,
          -0.839410702329791,
          0.6050009318003485,
          -0.16029812562208612,
          1.406749582890268,
          -1.1054758672020175,
          -1.6119739180168078,
          0.10650295060254338,
          -2.405341139304213,
          -2.0421508646956816,
          -0.17350186796334538,
          0.9550293720956177,
          0.5477902853481688,
          0.5110778167745683,
          0.4722265299045946,
          1.5591630904039082,
          -0.9349337381021855,
          -0.5781747934802014,
          -1.4900496859060852,
          -1.3269327490502971,
          -1.5196913887016652,
          0.7246955385086876,
          0.3215005164422762,
          0.809400883045086,
          0.993649246025548,
          -0.6955478957649657,
          1.0991610580672215,
          0.7345554855186507,
          -0.3571925359950002,
          -1.885546923965419,
          0.36401272919883904,
          -0.16631902212605246,
          0.9779545406612402,
          0.7916705430955936,
          -0.12323039622039979,
          -0.15362030195387819,
          0.44797085347129084,
          0.8600083255740223,
          0.011826753737175896,
          0.809330990870958,
          -0.08388961558555602,
          0.011880834268739489,
          -1.663441440748334,
          -0.7993871903375428,
          1.076778701611559,
          -1.523272232833216,
          -0.10932247028663548,
          -0.5434321979726251,
          1.201096443987189,
          1.3161182808886254,
          0.5866559935034882,
          1.0748730161017475,
          -0.07604231452114252,
          -1.2254109513661653,
          -0.12882814874212412,
          -0.19471729771257273,
          0.6853427202832655,
          0.5741302146848836,
          0.6827993122440889,
          -0.8541546185222085,
          -0.4468302326950383,
          0.08934065712537255,
          1.4300258601533677,
          -0.28710963690331254,
          0.7304348651351046,
          0.9692019063696952,
          -0.6545210429290489,
          -0.5954381851103395,
          -0.3189286182100561
         ]
        }
       ],
       "layout": {
        "legend": {
         "bgcolor": "#F5F6F9",
         "font": {
          "color": "#4D5663"
         }
        },
        "paper_bgcolor": "#F5F6F9",
        "plot_bgcolor": "#F5F6F9",
        "template": {
         "data": {
          "bar": [
           {
            "error_x": {
             "color": "#2a3f5f"
            },
            "error_y": {
             "color": "#2a3f5f"
            },
            "marker": {
             "line": {
              "color": "#E5ECF6",
              "width": 0.5
             }
            },
            "type": "bar"
           }
          ],
          "barpolar": [
           {
            "marker": {
             "line": {
              "color": "#E5ECF6",
              "width": 0.5
             }
            },
            "type": "barpolar"
           }
          ],
          "carpet": [
           {
            "aaxis": {
             "endlinecolor": "#2a3f5f",
             "gridcolor": "white",
             "linecolor": "white",
             "minorgridcolor": "white",
             "startlinecolor": "#2a3f5f"
            },
            "baxis": {
             "endlinecolor": "#2a3f5f",
             "gridcolor": "white",
             "linecolor": "white",
             "minorgridcolor": "white",
             "startlinecolor": "#2a3f5f"
            },
            "type": "carpet"
           }
          ],
          "choropleth": [
           {
            "colorbar": {
             "outlinewidth": 0,
             "ticks": ""
            },
            "type": "choropleth"
           }
          ],
          "contour": [
           {
            "colorbar": {
             "outlinewidth": 0,
             "ticks": ""
            },
            "colorscale": [
             [
              0,
              "#0d0887"
             ],
             [
              0.1111111111111111,
              "#46039f"
             ],
             [
              0.2222222222222222,
              "#7201a8"
             ],
             [
              0.3333333333333333,
              "#9c179e"
             ],
             [
              0.4444444444444444,
              "#bd3786"
             ],
             [
              0.5555555555555556,
              "#d8576b"
             ],
             [
              0.6666666666666666,
              "#ed7953"
             ],
             [
              0.7777777777777778,
              "#fb9f3a"
             ],
             [
              0.8888888888888888,
              "#fdca26"
             ],
             [
              1,
              "#f0f921"
             ]
            ],
            "type": "contour"
           }
          ],
          "contourcarpet": [
           {
            "colorbar": {
             "outlinewidth": 0,
             "ticks": ""
            },
            "type": "contourcarpet"
           }
          ],
          "heatmap": [
           {
            "colorbar": {
             "outlinewidth": 0,
             "ticks": ""
            },
            "colorscale": [
             [
              0,
              "#0d0887"
             ],
             [
              0.1111111111111111,
              "#46039f"
             ],
             [
              0.2222222222222222,
              "#7201a8"
             ],
             [
              0.3333333333333333,
              "#9c179e"
             ],
             [
              0.4444444444444444,
              "#bd3786"
             ],
             [
              0.5555555555555556,
              "#d8576b"
             ],
             [
              0.6666666666666666,
              "#ed7953"
             ],
             [
              0.7777777777777778,
              "#fb9f3a"
             ],
             [
              0.8888888888888888,
              "#fdca26"
             ],
             [
              1,
              "#f0f921"
             ]
            ],
            "type": "heatmap"
           }
          ],
          "heatmapgl": [
           {
            "colorbar": {
             "outlinewidth": 0,
             "ticks": ""
            },
            "colorscale": [
             [
              0,
              "#0d0887"
             ],
             [
              0.1111111111111111,
              "#46039f"
             ],
             [
              0.2222222222222222,
              "#7201a8"
             ],
             [
              0.3333333333333333,
              "#9c179e"
             ],
             [
              0.4444444444444444,
              "#bd3786"
             ],
             [
              0.5555555555555556,
              "#d8576b"
             ],
             [
              0.6666666666666666,
              "#ed7953"
             ],
             [
              0.7777777777777778,
              "#fb9f3a"
             ],
             [
              0.8888888888888888,
              "#fdca26"
             ],
             [
              1,
              "#f0f921"
             ]
            ],
            "type": "heatmapgl"
           }
          ],
          "histogram": [
           {
            "marker": {
             "colorbar": {
              "outlinewidth": 0,
              "ticks": ""
             }
            },
            "type": "histogram"
           }
          ],
          "histogram2d": [
           {
            "colorbar": {
             "outlinewidth": 0,
             "ticks": ""
            },
            "colorscale": [
             [
              0,
              "#0d0887"
             ],
             [
              0.1111111111111111,
              "#46039f"
             ],
             [
              0.2222222222222222,
              "#7201a8"
             ],
             [
              0.3333333333333333,
              "#9c179e"
             ],
             [
              0.4444444444444444,
              "#bd3786"
             ],
             [
              0.5555555555555556,
              "#d8576b"
             ],
             [
              0.6666666666666666,
              "#ed7953"
             ],
             [
              0.7777777777777778,
              "#fb9f3a"
             ],
             [
              0.8888888888888888,
              "#fdca26"
             ],
             [
              1,
              "#f0f921"
             ]
            ],
            "type": "histogram2d"
           }
          ],
          "histogram2dcontour": [
           {
            "colorbar": {
             "outlinewidth": 0,
             "ticks": ""
            },
            "colorscale": [
             [
              0,
              "#0d0887"
             ],
             [
              0.1111111111111111,
              "#46039f"
             ],
             [
              0.2222222222222222,
              "#7201a8"
             ],
             [
              0.3333333333333333,
              "#9c179e"
             ],
             [
              0.4444444444444444,
              "#bd3786"
             ],
             [
              0.5555555555555556,
              "#d8576b"
             ],
             [
              0.6666666666666666,
              "#ed7953"
             ],
             [
              0.7777777777777778,
              "#fb9f3a"
             ],
             [
              0.8888888888888888,
              "#fdca26"
             ],
             [
              1,
              "#f0f921"
             ]
            ],
            "type": "histogram2dcontour"
           }
          ],
          "mesh3d": [
           {
            "colorbar": {
             "outlinewidth": 0,
             "ticks": ""
            },
            "type": "mesh3d"
           }
          ],
          "parcoords": [
           {
            "line": {
             "colorbar": {
              "outlinewidth": 0,
              "ticks": ""
             }
            },
            "type": "parcoords"
           }
          ],
          "pie": [
           {
            "automargin": true,
            "type": "pie"
           }
          ],
          "scatter": [
           {
            "marker": {
             "colorbar": {
              "outlinewidth": 0,
              "ticks": ""
             }
            },
            "type": "scatter"
           }
          ],
          "scatter3d": [
           {
            "line": {
             "colorbar": {
              "outlinewidth": 0,
              "ticks": ""
             }
            },
            "marker": {
             "colorbar": {
              "outlinewidth": 0,
              "ticks": ""
             }
            },
            "type": "scatter3d"
           }
          ],
          "scattercarpet": [
           {
            "marker": {
             "colorbar": {
              "outlinewidth": 0,
              "ticks": ""
             }
            },
            "type": "scattercarpet"
           }
          ],
          "scattergeo": [
           {
            "marker": {
             "colorbar": {
              "outlinewidth": 0,
              "ticks": ""
             }
            },
            "type": "scattergeo"
           }
          ],
          "scattergl": [
           {
            "marker": {
             "colorbar": {
              "outlinewidth": 0,
              "ticks": ""
             }
            },
            "type": "scattergl"
           }
          ],
          "scattermapbox": [
           {
            "marker": {
             "colorbar": {
              "outlinewidth": 0,
              "ticks": ""
             }
            },
            "type": "scattermapbox"
           }
          ],
          "scatterpolar": [
           {
            "marker": {
             "colorbar": {
              "outlinewidth": 0,
              "ticks": ""
             }
            },
            "type": "scatterpolar"
           }
          ],
          "scatterpolargl": [
           {
            "marker": {
             "colorbar": {
              "outlinewidth": 0,
              "ticks": ""
             }
            },
            "type": "scatterpolargl"
           }
          ],
          "scatterternary": [
           {
            "marker": {
             "colorbar": {
              "outlinewidth": 0,
              "ticks": ""
             }
            },
            "type": "scatterternary"
           }
          ],
          "surface": [
           {
            "colorbar": {
             "outlinewidth": 0,
             "ticks": ""
            },
            "colorscale": [
             [
              0,
              "#0d0887"
             ],
             [
              0.1111111111111111,
              "#46039f"
             ],
             [
              0.2222222222222222,
              "#7201a8"
             ],
             [
              0.3333333333333333,
              "#9c179e"
             ],
             [
              0.4444444444444444,
              "#bd3786"
             ],
             [
              0.5555555555555556,
              "#d8576b"
             ],
             [
              0.6666666666666666,
              "#ed7953"
             ],
             [
              0.7777777777777778,
              "#fb9f3a"
             ],
             [
              0.8888888888888888,
              "#fdca26"
             ],
             [
              1,
              "#f0f921"
             ]
            ],
            "type": "surface"
           }
          ],
          "table": [
           {
            "cells": {
             "fill": {
              "color": "#EBF0F8"
             },
             "line": {
              "color": "white"
             }
            },
            "header": {
             "fill": {
              "color": "#C8D4E3"
             },
             "line": {
              "color": "white"
             }
            },
            "type": "table"
           }
          ]
         },
         "layout": {
          "annotationdefaults": {
           "arrowcolor": "#2a3f5f",
           "arrowhead": 0,
           "arrowwidth": 1
          },
          "coloraxis": {
           "colorbar": {
            "outlinewidth": 0,
            "ticks": ""
           }
          },
          "colorscale": {
           "diverging": [
            [
             0,
             "#8e0152"
            ],
            [
             0.1,
             "#c51b7d"
            ],
            [
             0.2,
             "#de77ae"
            ],
            [
             0.3,
             "#f1b6da"
            ],
            [
             0.4,
             "#fde0ef"
            ],
            [
             0.5,
             "#f7f7f7"
            ],
            [
             0.6,
             "#e6f5d0"
            ],
            [
             0.7,
             "#b8e186"
            ],
            [
             0.8,
             "#7fbc41"
            ],
            [
             0.9,
             "#4d9221"
            ],
            [
             1,
             "#276419"
            ]
           ],
           "sequential": [
            [
             0,
             "#0d0887"
            ],
            [
             0.1111111111111111,
             "#46039f"
            ],
            [
             0.2222222222222222,
             "#7201a8"
            ],
            [
             0.3333333333333333,
             "#9c179e"
            ],
            [
             0.4444444444444444,
             "#bd3786"
            ],
            [
             0.5555555555555556,
             "#d8576b"
            ],
            [
             0.6666666666666666,
             "#ed7953"
            ],
            [
             0.7777777777777778,
             "#fb9f3a"
            ],
            [
             0.8888888888888888,
             "#fdca26"
            ],
            [
             1,
             "#f0f921"
            ]
           ],
           "sequentialminus": [
            [
             0,
             "#0d0887"
            ],
            [
             0.1111111111111111,
             "#46039f"
            ],
            [
             0.2222222222222222,
             "#7201a8"
            ],
            [
             0.3333333333333333,
             "#9c179e"
            ],
            [
             0.4444444444444444,
             "#bd3786"
            ],
            [
             0.5555555555555556,
             "#d8576b"
            ],
            [
             0.6666666666666666,
             "#ed7953"
            ],
            [
             0.7777777777777778,
             "#fb9f3a"
            ],
            [
             0.8888888888888888,
             "#fdca26"
            ],
            [
             1,
             "#f0f921"
            ]
           ]
          },
          "colorway": [
           "#636efa",
           "#EF553B",
           "#00cc96",
           "#ab63fa",
           "#FFA15A",
           "#19d3f3",
           "#FF6692",
           "#B6E880",
           "#FF97FF",
           "#FECB52"
          ],
          "font": {
           "color": "#2a3f5f"
          },
          "geo": {
           "bgcolor": "white",
           "lakecolor": "white",
           "landcolor": "#E5ECF6",
           "showlakes": true,
           "showland": true,
           "subunitcolor": "white"
          },
          "hoverlabel": {
           "align": "left"
          },
          "hovermode": "closest",
          "mapbox": {
           "style": "light"
          },
          "paper_bgcolor": "white",
          "plot_bgcolor": "#E5ECF6",
          "polar": {
           "angularaxis": {
            "gridcolor": "white",
            "linecolor": "white",
            "ticks": ""
           },
           "bgcolor": "#E5ECF6",
           "radialaxis": {
            "gridcolor": "white",
            "linecolor": "white",
            "ticks": ""
           }
          },
          "scene": {
           "xaxis": {
            "backgroundcolor": "#E5ECF6",
            "gridcolor": "white",
            "gridwidth": 2,
            "linecolor": "white",
            "showbackground": true,
            "ticks": "",
            "zerolinecolor": "white"
           },
           "yaxis": {
            "backgroundcolor": "#E5ECF6",
            "gridcolor": "white",
            "gridwidth": 2,
            "linecolor": "white",
            "showbackground": true,
            "ticks": "",
            "zerolinecolor": "white"
           },
           "zaxis": {
            "backgroundcolor": "#E5ECF6",
            "gridcolor": "white",
            "gridwidth": 2,
            "linecolor": "white",
            "showbackground": true,
            "ticks": "",
            "zerolinecolor": "white"
           }
          },
          "shapedefaults": {
           "line": {
            "color": "#2a3f5f"
           }
          },
          "ternary": {
           "aaxis": {
            "gridcolor": "white",
            "linecolor": "white",
            "ticks": ""
           },
           "baxis": {
            "gridcolor": "white",
            "linecolor": "white",
            "ticks": ""
           },
           "bgcolor": "#E5ECF6",
           "caxis": {
            "gridcolor": "white",
            "linecolor": "white",
            "ticks": ""
           }
          },
          "title": {
           "x": 0.05
          },
          "xaxis": {
           "automargin": true,
           "gridcolor": "white",
           "linecolor": "white",
           "ticks": "",
           "title": {
            "standoff": 15
           },
           "zerolinecolor": "white",
           "zerolinewidth": 2
          },
          "yaxis": {
           "automargin": true,
           "gridcolor": "white",
           "linecolor": "white",
           "ticks": "",
           "title": {
            "standoff": 15
           },
           "zerolinecolor": "white",
           "zerolinewidth": 2
          }
         }
        },
        "title": {
         "font": {
          "color": "#4D5663"
         }
        },
        "xaxis": {
         "gridcolor": "#E1E5ED",
         "showgrid": true,
         "tickfont": {
          "color": "#4D5663"
         },
         "title": {
          "font": {
           "color": "#4D5663"
          },
          "text": ""
         },
         "zerolinecolor": "#E1E5ED"
        },
        "yaxis": {
         "gridcolor": "#E1E5ED",
         "showgrid": true,
         "tickfont": {
          "color": "#4D5663"
         },
         "title": {
          "font": {
           "color": "#4D5663"
          },
          "text": ""
         },
         "zerolinecolor": "#E1E5ED"
        }
       }
      },
      "text/html": [
       "<div>                            <div id=\"81b4209a-9472-49bc-a39b-5062c9064829\" class=\"plotly-graph-div\" style=\"height:525px; width:100%;\"></div>            <script type=\"text/javascript\">                require([\"plotly\"], function(Plotly) {                    window.PLOTLYENV=window.PLOTLYENV || {};\n",
       "                    window.PLOTLYENV.BASE_URL='https://plot.ly';                                    if (document.getElementById(\"81b4209a-9472-49bc-a39b-5062c9064829\")) {                    Plotly.newPlot(                        \"81b4209a-9472-49bc-a39b-5062c9064829\",                        [{\"line\": {\"color\": \"rgba(255, 153, 51, 1.0)\", \"dash\": \"solid\", \"shape\": \"linear\", \"width\": 1.3}, \"mode\": \"lines\", \"name\": \"A\", \"text\": \"\", \"type\": \"scatter\", \"x\": [0, 1, 2, 3, 4, 5, 6, 7, 8, 9, 10, 11, 12, 13, 14, 15, 16, 17, 18, 19, 20, 21, 22, 23, 24, 25, 26, 27, 28, 29, 30, 31, 32, 33, 34, 35, 36, 37, 38, 39, 40, 41, 42, 43, 44, 45, 46, 47, 48, 49, 50, 51, 52, 53, 54, 55, 56, 57, 58, 59, 60, 61, 62, 63, 64, 65, 66, 67, 68, 69, 70, 71, 72, 73, 74, 75, 76, 77, 78, 79, 80, 81, 82, 83, 84, 85, 86, 87, 88, 89, 90, 91, 92, 93, 94, 95, 96, 97, 98, 99], \"y\": [-0.30202016863775033, -0.28564555846571377, 0.4476704948481836, -0.7162322499431878, -1.1752084454356209, 0.037922946952660096, -0.4784580310902896, -0.8127219470868241, -0.2015463810609984, -1.2477309120841387, 0.33416595599237875, -0.3925825214642993, 0.8483162327766754, 1.4017593159498198, -0.24447542578970963, 0.3268425653949366, 0.7896328968946461, 0.05003230055379049, 0.8713596231470593, -0.36768247294659173, 1.456695935256, 0.09086717022177927, 0.8308289690395506, 0.4570302705052343, 1.641725152630206, -0.34337193630447227, -0.6899548045806325, -1.4989669498743878, -0.4990655862049401, -1.2763195565688894, -0.5841927721605572, -0.6531615312082533, -1.544688058823571, 1.241823683012709, 0.36670402575200034, 0.36785862000313696, -0.4251916229702931, -1.1424611416885133, 0.11744918233688426, -0.2943921274727523, -0.2630411797495611, 1.1189450591825083, 0.6771083217387999, -2.1007251081507516, -1.469901874723165, 0.5804195589513341, -0.26050512490234284, 2.2362929227372725, 0.5190194687909312, -0.008163118768048035, -0.6611054621616541, 1.36957273498277, 0.57208163756899, 0.12460374641094915, 0.8356395402758129, -0.8335550054425519, -0.8946566144284955, -0.10099356338826994, 0.04425297346768268, 2.217770067273319, 0.03522119302500431, -1.9869202369288799, -1.2508613408788938, 0.09279898228614562, 0.38692351076168063, -0.026236237411354904, -1.491069699311706, 0.8294659536906288, 0.6136776593807836, -0.8154202979633771, 0.6293335815887414, -1.0923772889015413, 0.7386223240270853, -0.68737966371764, -0.6422680828562675, 0.7998127045023482, 0.9217752449620659, 0.04459918763480434, -0.445947653484942, -0.3773323373724564, 0.4050137890893175, 0.19591076972454038, -0.3532570369973499, -0.19817408743935175, -0.311181936508081, -0.5692973337611296, 1.2737066010007103, 0.33310651006183967, 2.343367044548086, -0.4488947193251729, 0.16005691450387768, -0.5608031062151607, -0.2592370006186431, -0.7117502976304382, -0.5122229220026929, 0.9231576330805437, 1.108977825338648, 0.05946369407947916, -0.5664014911796487, 0.5891591881972967]}, {\"line\": {\"color\": \"rgba(55, 128, 191, 1.0)\", \"dash\": \"solid\", \"shape\": \"linear\", \"width\": 1.3}, \"mode\": \"lines\", \"name\": \"B\", \"text\": \"\", \"type\": \"scatter\", \"x\": [0, 1, 2, 3, 4, 5, 6, 7, 8, 9, 10, 11, 12, 13, 14, 15, 16, 17, 18, 19, 20, 21, 22, 23, 24, 25, 26, 27, 28, 29, 30, 31, 32, 33, 34, 35, 36, 37, 38, 39, 40, 41, 42, 43, 44, 45, 46, 47, 48, 49, 50, 51, 52, 53, 54, 55, 56, 57, 58, 59, 60, 61, 62, 63, 64, 65, 66, 67, 68, 69, 70, 71, 72, 73, 74, 75, 76, 77, 78, 79, 80, 81, 82, 83, 84, 85, 86, 87, 88, 89, 90, 91, 92, 93, 94, 95, 96, 97, 98, 99], \"y\": [-0.8488668044204304, 0.0829347754880924, 0.5024352835101774, -1.555223408984092, -1.7161100299123155, 0.13905529392350072, 0.4697605231701461, -0.2067026939520887, -1.1575550785607536, 1.0197452265500921, 1.1202487101150227, 1.5954620391368428, -0.4375092399621281, -0.47581549224960684, 1.1853669230476602, -0.7970090865687269, -0.217834734307552, -0.9266855311136963, 0.6925149520732994, -0.14063441315709707, 1.3397844385147475, -0.1413885447509737, -0.3341614782625514, -1.0331617312485522, 0.24434025389131428, 1.5085738205782122, 0.10463564901176917, -1.0951203549391761, -0.27409678695725026, 0.420532769222361, 0.44161004868931125, 1.243251467420042, 2.014541632056787, 0.0005947858539945759, 1.2239989488374874, -0.3249945539545311, 0.11473621845710603, 1.1583020744108352, 0.33306800250962726, 0.6084733116468805, 0.2736092321470979, -1.5679830656702087, -0.06928753093902698, 0.526425209767373, -0.01545031249896855, -0.2570800949369005, -0.4691911947167141, 0.3670764942533598, 0.9329487179609518, 0.2795889554620296, -0.7792859324560443, 1.320870561157038, -0.9628173239459669, 1.0288747348344904, -0.31456248623952465, 1.179250469511076, 0.03272168521154292, -0.07204583648761341, 1.1921789942533836, 1.25019068010553, -0.03188346728559232, -0.1530268360484573, 0.9831775188487099, -0.5267924542187926, -0.4053089572688673, -0.051938708052279375, 0.45703909564713263, 0.2642433727428654, 0.5251885395153827, -0.0744890981195537, 0.20179472075573884, -0.24260442894883943, -0.7655468244843483, -0.25466269286703574, 1.3274099884767236, -1.8920515553120267, 0.10540569529487552, 1.0160601421792685, 1.0480390651944593, -1.2983474014888645, -0.5118493322462478, -0.6211629820763115, -0.7131189561305936, -1.5519881153245678, 0.3588037520991031, -0.7401347991919084, 0.5898932362401884, 0.6230541842326577, 0.1469808884715823, -1.4909432837564347, 0.16216809925339512, -0.24679042370819276, -0.30396064222875, 1.064430955755844, 0.3820227711156056, -1.9545417907404197, -0.8840834393902629, -0.8514764988023206, 0.4516710603713084, -0.9713569710562179]}, {\"line\": {\"color\": \"rgba(50, 171, 96, 1.0)\", \"dash\": \"solid\", \"shape\": \"linear\", \"width\": 1.3}, \"mode\": \"lines\", \"name\": \"C\", \"text\": \"\", \"type\": \"scatter\", \"x\": [0, 1, 2, 3, 4, 5, 6, 7, 8, 9, 10, 11, 12, 13, 14, 15, 16, 17, 18, 19, 20, 21, 22, 23, 24, 25, 26, 27, 28, 29, 30, 31, 32, 33, 34, 35, 36, 37, 38, 39, 40, 41, 42, 43, 44, 45, 46, 47, 48, 49, 50, 51, 52, 53, 54, 55, 56, 57, 58, 59, 60, 61, 62, 63, 64, 65, 66, 67, 68, 69, 70, 71, 72, 73, 74, 75, 76, 77, 78, 79, 80, 81, 82, 83, 84, 85, 86, 87, 88, 89, 90, 91, 92, 93, 94, 95, 96, 97, 98, 99], \"y\": [-0.5325002392797077, 1.2107826144635394, -0.12581857596195073, -1.065685346460432, 1.6219974824957573, -0.932800678811066, -0.21316481203726712, 0.763681120902737, 1.098664206498667, 0.36009215649075343, -0.664219816308787, 0.07577184065638896, 0.3031687581058567, 0.6606870603906189, -0.5961486242453862, 0.11231630657312325, 0.7691043610978897, -0.3081123223215197, 0.19559556136046366, 1.4374690002280184, -0.8153210756978526, 0.6813563452246516, -1.6382804382128886, 0.08817865962915074, 0.20261471758722485, -1.5184096422482465, -1.4305530017112984, -0.6953963924991731, -0.43994601001709965, 0.22937454005128888, 0.1447963167297178, 1.4358227971455064, -0.7190175116891817, -0.31304105941454047, 0.287214494791865, -1.3864896792827985, 0.01238435443261473, -0.968968169580906, 0.6757773935989444, 0.28438830723664055, 1.3939662961596828, 0.848053334072673, -0.05146628439166784, 0.13180154178313105, 2.756987407554678, 0.46855564383907744, 1.0594874292830787, 0.5036613275770189, 1.647513334058284, -1.443885741626302, 1.3359587953778, -0.5455285003845146, -0.461732199765846, -1.8435212714640112, 0.4538100646615445, -0.72191357965643, -0.24374954965398982, -1.0252134615790376, -0.5165437210671675, -0.33161543392197307, -0.7431465286961032, -2.210006319910014, -0.46724628052367445, 0.14586509253773433, 0.14969459570682003, 0.4191904426785085, -1.1344968632281076, 0.10571054282160242, -0.7589371530008178, -1.0542016454475767, -1.0753202072880828, -1.664851074939344, -1.6675055030541586, -0.2331187171751215, 2.4126159312201527, 0.7389659801077011, 0.3826710404007888, 0.5817057566608924, 0.9574718358569249, -2.0985324423193594, 0.31289459728961866, 2.5381461963041967, -1.1164237044150571, -0.0457752960357565, -1.2102654227507113, 0.6626735232923587, -0.9294259573544665, -1.2753086464635068, 0.19150764250023283, 0.7682688889700511, 1.5038416312088143, -0.41447058970720374, 1.0473552330836675, 1.6884234732045154, 0.9931508514200323, -0.34211968075641724, -1.1649591956662277, 0.8319726133234473, -1.343902562095212, -0.2943244448144205]}, {\"line\": {\"color\": \"rgba(128, 0, 128, 1.0)\", \"dash\": \"solid\", \"shape\": \"linear\", \"width\": 1.3}, \"mode\": \"lines\", \"name\": \"D\", \"text\": \"\", \"type\": \"scatter\", \"x\": [0, 1, 2, 3, 4, 5, 6, 7, 8, 9, 10, 11, 12, 13, 14, 15, 16, 17, 18, 19, 20, 21, 22, 23, 24, 25, 26, 27, 28, 29, 30, 31, 32, 33, 34, 35, 36, 37, 38, 39, 40, 41, 42, 43, 44, 45, 46, 47, 48, 49, 50, 51, 52, 53, 54, 55, 56, 57, 58, 59, 60, 61, 62, 63, 64, 65, 66, 67, 68, 69, 70, 71, 72, 73, 74, 75, 76, 77, 78, 79, 80, 81, 82, 83, 84, 85, 86, 87, 88, 89, 90, 91, 92, 93, 94, 95, 96, 97, 98, 99], \"y\": [-0.006679552459379296, 0.07331242355470725, 1.1083884810155544, -1.6565627117319746, 1.9950862907185352, 0.6454822575914453, -0.5329751906162492, 0.08565999414797083, 0.09036665290178467, 0.7872452416416569, -0.11434170196201493, -1.121478936932661, 1.1096696474770031, 0.6516962960220379, 0.30660602120926544, -0.7168392297450519, -0.7439065941431607, 0.6615739709752352, 0.6006997037973186, -0.6050611084460127, -0.5461260559653208, 0.1424476018858292, -1.197176194136547, 0.7877118711253404, -0.9714740266118284, 0.7826606579329373, -1.1031652966404037, 2.526889128554002, 0.16190821155043775, 0.23198501547302153, 0.5640839786071568, -0.05016580642898075, -0.839410702329791, 0.6050009318003485, -0.16029812562208612, 1.406749582890268, -1.1054758672020175, -1.6119739180168078, 0.10650295060254338, -2.405341139304213, -2.0421508646956816, -0.17350186796334538, 0.9550293720956177, 0.5477902853481688, 0.5110778167745683, 0.4722265299045946, 1.5591630904039082, -0.9349337381021855, -0.5781747934802014, -1.4900496859060852, -1.3269327490502971, -1.5196913887016652, 0.7246955385086876, 0.3215005164422762, 0.809400883045086, 0.993649246025548, -0.6955478957649657, 1.0991610580672215, 0.7345554855186507, -0.3571925359950002, -1.885546923965419, 0.36401272919883904, -0.16631902212605246, 0.9779545406612402, 0.7916705430955936, -0.12323039622039979, -0.15362030195387819, 0.44797085347129084, 0.8600083255740223, 0.011826753737175896, 0.809330990870958, -0.08388961558555602, 0.011880834268739489, -1.663441440748334, -0.7993871903375428, 1.076778701611559, -1.523272232833216, -0.10932247028663548, -0.5434321979726251, 1.201096443987189, 1.3161182808886254, 0.5866559935034882, 1.0748730161017475, -0.07604231452114252, -1.2254109513661653, -0.12882814874212412, -0.19471729771257273, 0.6853427202832655, 0.5741302146848836, 0.6827993122440889, -0.8541546185222085, -0.4468302326950383, 0.08934065712537255, 1.4300258601533677, -0.28710963690331254, 0.7304348651351046, 0.9692019063696952, -0.6545210429290489, -0.5954381851103395, -0.3189286182100561]}],                        {\"legend\": {\"bgcolor\": \"#F5F6F9\", \"font\": {\"color\": \"#4D5663\"}}, \"paper_bgcolor\": \"#F5F6F9\", \"plot_bgcolor\": \"#F5F6F9\", \"template\": {\"data\": {\"bar\": [{\"error_x\": {\"color\": \"#2a3f5f\"}, \"error_y\": {\"color\": \"#2a3f5f\"}, \"marker\": {\"line\": {\"color\": \"#E5ECF6\", \"width\": 0.5}}, \"type\": \"bar\"}], \"barpolar\": [{\"marker\": {\"line\": {\"color\": \"#E5ECF6\", \"width\": 0.5}}, \"type\": \"barpolar\"}], \"carpet\": [{\"aaxis\": {\"endlinecolor\": \"#2a3f5f\", \"gridcolor\": \"white\", \"linecolor\": \"white\", \"minorgridcolor\": \"white\", \"startlinecolor\": \"#2a3f5f\"}, \"baxis\": {\"endlinecolor\": \"#2a3f5f\", \"gridcolor\": \"white\", \"linecolor\": \"white\", \"minorgridcolor\": \"white\", \"startlinecolor\": \"#2a3f5f\"}, \"type\": \"carpet\"}], \"choropleth\": [{\"colorbar\": {\"outlinewidth\": 0, \"ticks\": \"\"}, \"type\": \"choropleth\"}], \"contour\": [{\"colorbar\": {\"outlinewidth\": 0, \"ticks\": \"\"}, \"colorscale\": [[0.0, \"#0d0887\"], [0.1111111111111111, \"#46039f\"], [0.2222222222222222, \"#7201a8\"], [0.3333333333333333, \"#9c179e\"], [0.4444444444444444, \"#bd3786\"], [0.5555555555555556, \"#d8576b\"], [0.6666666666666666, \"#ed7953\"], [0.7777777777777778, \"#fb9f3a\"], [0.8888888888888888, \"#fdca26\"], [1.0, \"#f0f921\"]], \"type\": \"contour\"}], \"contourcarpet\": [{\"colorbar\": {\"outlinewidth\": 0, \"ticks\": \"\"}, \"type\": \"contourcarpet\"}], \"heatmap\": [{\"colorbar\": {\"outlinewidth\": 0, \"ticks\": \"\"}, \"colorscale\": [[0.0, \"#0d0887\"], [0.1111111111111111, \"#46039f\"], [0.2222222222222222, \"#7201a8\"], [0.3333333333333333, \"#9c179e\"], [0.4444444444444444, \"#bd3786\"], [0.5555555555555556, \"#d8576b\"], [0.6666666666666666, \"#ed7953\"], [0.7777777777777778, \"#fb9f3a\"], [0.8888888888888888, \"#fdca26\"], [1.0, \"#f0f921\"]], \"type\": \"heatmap\"}], \"heatmapgl\": [{\"colorbar\": {\"outlinewidth\": 0, \"ticks\": \"\"}, \"colorscale\": [[0.0, \"#0d0887\"], [0.1111111111111111, \"#46039f\"], [0.2222222222222222, \"#7201a8\"], [0.3333333333333333, \"#9c179e\"], [0.4444444444444444, \"#bd3786\"], [0.5555555555555556, \"#d8576b\"], [0.6666666666666666, \"#ed7953\"], [0.7777777777777778, \"#fb9f3a\"], [0.8888888888888888, \"#fdca26\"], [1.0, \"#f0f921\"]], \"type\": \"heatmapgl\"}], \"histogram\": [{\"marker\": {\"colorbar\": {\"outlinewidth\": 0, \"ticks\": \"\"}}, \"type\": \"histogram\"}], \"histogram2d\": [{\"colorbar\": {\"outlinewidth\": 0, \"ticks\": \"\"}, \"colorscale\": [[0.0, \"#0d0887\"], [0.1111111111111111, \"#46039f\"], [0.2222222222222222, \"#7201a8\"], [0.3333333333333333, \"#9c179e\"], [0.4444444444444444, \"#bd3786\"], [0.5555555555555556, \"#d8576b\"], [0.6666666666666666, \"#ed7953\"], [0.7777777777777778, \"#fb9f3a\"], [0.8888888888888888, \"#fdca26\"], [1.0, \"#f0f921\"]], \"type\": \"histogram2d\"}], \"histogram2dcontour\": [{\"colorbar\": {\"outlinewidth\": 0, \"ticks\": \"\"}, \"colorscale\": [[0.0, \"#0d0887\"], [0.1111111111111111, \"#46039f\"], [0.2222222222222222, \"#7201a8\"], [0.3333333333333333, \"#9c179e\"], [0.4444444444444444, \"#bd3786\"], [0.5555555555555556, \"#d8576b\"], [0.6666666666666666, \"#ed7953\"], [0.7777777777777778, \"#fb9f3a\"], [0.8888888888888888, \"#fdca26\"], [1.0, \"#f0f921\"]], \"type\": \"histogram2dcontour\"}], \"mesh3d\": [{\"colorbar\": {\"outlinewidth\": 0, \"ticks\": \"\"}, \"type\": \"mesh3d\"}], \"parcoords\": [{\"line\": {\"colorbar\": {\"outlinewidth\": 0, \"ticks\": \"\"}}, \"type\": \"parcoords\"}], \"pie\": [{\"automargin\": true, \"type\": \"pie\"}], \"scatter\": [{\"marker\": {\"colorbar\": {\"outlinewidth\": 0, \"ticks\": \"\"}}, \"type\": \"scatter\"}], \"scatter3d\": [{\"line\": {\"colorbar\": {\"outlinewidth\": 0, \"ticks\": \"\"}}, \"marker\": {\"colorbar\": {\"outlinewidth\": 0, \"ticks\": \"\"}}, \"type\": \"scatter3d\"}], \"scattercarpet\": [{\"marker\": {\"colorbar\": {\"outlinewidth\": 0, \"ticks\": \"\"}}, \"type\": \"scattercarpet\"}], \"scattergeo\": [{\"marker\": {\"colorbar\": {\"outlinewidth\": 0, \"ticks\": \"\"}}, \"type\": \"scattergeo\"}], \"scattergl\": [{\"marker\": {\"colorbar\": {\"outlinewidth\": 0, \"ticks\": \"\"}}, \"type\": \"scattergl\"}], \"scattermapbox\": [{\"marker\": {\"colorbar\": {\"outlinewidth\": 0, \"ticks\": \"\"}}, \"type\": \"scattermapbox\"}], \"scatterpolar\": [{\"marker\": {\"colorbar\": {\"outlinewidth\": 0, \"ticks\": \"\"}}, \"type\": \"scatterpolar\"}], \"scatterpolargl\": [{\"marker\": {\"colorbar\": {\"outlinewidth\": 0, \"ticks\": \"\"}}, \"type\": \"scatterpolargl\"}], \"scatterternary\": [{\"marker\": {\"colorbar\": {\"outlinewidth\": 0, \"ticks\": \"\"}}, \"type\": \"scatterternary\"}], \"surface\": [{\"colorbar\": {\"outlinewidth\": 0, \"ticks\": \"\"}, \"colorscale\": [[0.0, \"#0d0887\"], [0.1111111111111111, \"#46039f\"], [0.2222222222222222, \"#7201a8\"], [0.3333333333333333, \"#9c179e\"], [0.4444444444444444, \"#bd3786\"], [0.5555555555555556, \"#d8576b\"], [0.6666666666666666, \"#ed7953\"], [0.7777777777777778, \"#fb9f3a\"], [0.8888888888888888, \"#fdca26\"], [1.0, \"#f0f921\"]], \"type\": \"surface\"}], \"table\": [{\"cells\": {\"fill\": {\"color\": \"#EBF0F8\"}, \"line\": {\"color\": \"white\"}}, \"header\": {\"fill\": {\"color\": \"#C8D4E3\"}, \"line\": {\"color\": \"white\"}}, \"type\": \"table\"}]}, \"layout\": {\"annotationdefaults\": {\"arrowcolor\": \"#2a3f5f\", \"arrowhead\": 0, \"arrowwidth\": 1}, \"coloraxis\": {\"colorbar\": {\"outlinewidth\": 0, \"ticks\": \"\"}}, \"colorscale\": {\"diverging\": [[0, \"#8e0152\"], [0.1, \"#c51b7d\"], [0.2, \"#de77ae\"], [0.3, \"#f1b6da\"], [0.4, \"#fde0ef\"], [0.5, \"#f7f7f7\"], [0.6, \"#e6f5d0\"], [0.7, \"#b8e186\"], [0.8, \"#7fbc41\"], [0.9, \"#4d9221\"], [1, \"#276419\"]], \"sequential\": [[0.0, \"#0d0887\"], [0.1111111111111111, \"#46039f\"], [0.2222222222222222, \"#7201a8\"], [0.3333333333333333, \"#9c179e\"], [0.4444444444444444, \"#bd3786\"], [0.5555555555555556, \"#d8576b\"], [0.6666666666666666, \"#ed7953\"], [0.7777777777777778, \"#fb9f3a\"], [0.8888888888888888, \"#fdca26\"], [1.0, \"#f0f921\"]], \"sequentialminus\": [[0.0, \"#0d0887\"], [0.1111111111111111, \"#46039f\"], [0.2222222222222222, \"#7201a8\"], [0.3333333333333333, \"#9c179e\"], [0.4444444444444444, \"#bd3786\"], [0.5555555555555556, \"#d8576b\"], [0.6666666666666666, \"#ed7953\"], [0.7777777777777778, \"#fb9f3a\"], [0.8888888888888888, \"#fdca26\"], [1.0, \"#f0f921\"]]}, \"colorway\": [\"#636efa\", \"#EF553B\", \"#00cc96\", \"#ab63fa\", \"#FFA15A\", \"#19d3f3\", \"#FF6692\", \"#B6E880\", \"#FF97FF\", \"#FECB52\"], \"font\": {\"color\": \"#2a3f5f\"}, \"geo\": {\"bgcolor\": \"white\", \"lakecolor\": \"white\", \"landcolor\": \"#E5ECF6\", \"showlakes\": true, \"showland\": true, \"subunitcolor\": \"white\"}, \"hoverlabel\": {\"align\": \"left\"}, \"hovermode\": \"closest\", \"mapbox\": {\"style\": \"light\"}, \"paper_bgcolor\": \"white\", \"plot_bgcolor\": \"#E5ECF6\", \"polar\": {\"angularaxis\": {\"gridcolor\": \"white\", \"linecolor\": \"white\", \"ticks\": \"\"}, \"bgcolor\": \"#E5ECF6\", \"radialaxis\": {\"gridcolor\": \"white\", \"linecolor\": \"white\", \"ticks\": \"\"}}, \"scene\": {\"xaxis\": {\"backgroundcolor\": \"#E5ECF6\", \"gridcolor\": \"white\", \"gridwidth\": 2, \"linecolor\": \"white\", \"showbackground\": true, \"ticks\": \"\", \"zerolinecolor\": \"white\"}, \"yaxis\": {\"backgroundcolor\": \"#E5ECF6\", \"gridcolor\": \"white\", \"gridwidth\": 2, \"linecolor\": \"white\", \"showbackground\": true, \"ticks\": \"\", \"zerolinecolor\": \"white\"}, \"zaxis\": {\"backgroundcolor\": \"#E5ECF6\", \"gridcolor\": \"white\", \"gridwidth\": 2, \"linecolor\": \"white\", \"showbackground\": true, \"ticks\": \"\", \"zerolinecolor\": \"white\"}}, \"shapedefaults\": {\"line\": {\"color\": \"#2a3f5f\"}}, \"ternary\": {\"aaxis\": {\"gridcolor\": \"white\", \"linecolor\": \"white\", \"ticks\": \"\"}, \"baxis\": {\"gridcolor\": \"white\", \"linecolor\": \"white\", \"ticks\": \"\"}, \"bgcolor\": \"#E5ECF6\", \"caxis\": {\"gridcolor\": \"white\", \"linecolor\": \"white\", \"ticks\": \"\"}}, \"title\": {\"x\": 0.05}, \"xaxis\": {\"automargin\": true, \"gridcolor\": \"white\", \"linecolor\": \"white\", \"ticks\": \"\", \"title\": {\"standoff\": 15}, \"zerolinecolor\": \"white\", \"zerolinewidth\": 2}, \"yaxis\": {\"automargin\": true, \"gridcolor\": \"white\", \"linecolor\": \"white\", \"ticks\": \"\", \"title\": {\"standoff\": 15}, \"zerolinecolor\": \"white\", \"zerolinewidth\": 2}}}, \"title\": {\"font\": {\"color\": \"#4D5663\"}}, \"xaxis\": {\"gridcolor\": \"#E1E5ED\", \"showgrid\": true, \"tickfont\": {\"color\": \"#4D5663\"}, \"title\": {\"font\": {\"color\": \"#4D5663\"}, \"text\": \"\"}, \"zerolinecolor\": \"#E1E5ED\"}, \"yaxis\": {\"gridcolor\": \"#E1E5ED\", \"showgrid\": true, \"tickfont\": {\"color\": \"#4D5663\"}, \"title\": {\"font\": {\"color\": \"#4D5663\"}, \"text\": \"\"}, \"zerolinecolor\": \"#E1E5ED\"}},                        {\"showLink\": true, \"linkText\": \"Export to plot.ly\", \"plotlyServerURL\": \"https://plot.ly\", \"responsive\": true}                    ).then(function(){\n",
       "                            \n",
       "var gd = document.getElementById('81b4209a-9472-49bc-a39b-5062c9064829');\n",
       "var x = new MutationObserver(function (mutations, observer) {{\n",
       "        var display = window.getComputedStyle(gd).display;\n",
       "        if (!display || display === 'none') {{\n",
       "            console.log([gd, 'removed!']);\n",
       "            Plotly.purge(gd);\n",
       "            observer.disconnect();\n",
       "        }}\n",
       "}});\n",
       "\n",
       "// Listen for the removal of the full notebook cells\n",
       "var notebookContainer = gd.closest('#notebook-container');\n",
       "if (notebookContainer) {{\n",
       "    x.observe(notebookContainer, {childList: true});\n",
       "}}\n",
       "\n",
       "// Listen for the clearing of the current output cell\n",
       "var outputEl = gd.closest('.output');\n",
       "if (outputEl) {{\n",
       "    x.observe(outputEl, {childList: true});\n",
       "}}\n",
       "\n",
       "                        })                };                });            </script>        </div>"
      ]
     },
     "metadata": {},
     "output_type": "display_data"
    }
   ],
   "source": [
    "fake_df.iplot(kind='scatter')"
   ]
  },
  {
   "cell_type": "markdown",
   "metadata": {},
   "source": [
    "# Scatter_Matrix"
   ]
  },
  {
   "cell_type": "code",
   "execution_count": 19,
   "metadata": {},
   "outputs": [
    {
     "data": {
      "application/vnd.plotly.v1+json": {
       "config": {
        "linkText": "Export to plot.ly",
        "plotlyServerURL": "https://plot.ly",
        "showLink": true
       },
       "data": [
        {
         "histfunc": "count",
         "histnorm": "",
         "marker": {
          "color": "rgba(255, 153, 51, 1.0)",
          "line": {
           "color": "#4D5663",
           "width": 1.3
          }
         },
         "name": "A",
         "nbinsx": 10,
         "opacity": 0.8,
         "orientation": "v",
         "type": "histogram",
         "x": [
          -0.30202016863775033,
          -0.28564555846571377,
          0.4476704948481836,
          -0.7162322499431878,
          -1.1752084454356209,
          0.037922946952660096,
          -0.4784580310902896,
          -0.8127219470868241,
          -0.2015463810609984,
          -1.2477309120841387,
          0.33416595599237875,
          -0.3925825214642993,
          0.8483162327766754,
          1.4017593159498198,
          -0.24447542578970963,
          0.3268425653949366,
          0.7896328968946461,
          0.05003230055379049,
          0.8713596231470593,
          -0.36768247294659173,
          1.456695935256,
          0.09086717022177927,
          0.8308289690395506,
          0.4570302705052343,
          1.641725152630206,
          -0.34337193630447227,
          -0.6899548045806325,
          -1.4989669498743878,
          -0.4990655862049401,
          -1.2763195565688894,
          -0.5841927721605572,
          -0.6531615312082533,
          -1.544688058823571,
          1.241823683012709,
          0.36670402575200034,
          0.36785862000313696,
          -0.4251916229702931,
          -1.1424611416885133,
          0.11744918233688426,
          -0.2943921274727523,
          -0.2630411797495611,
          1.1189450591825083,
          0.6771083217387999,
          -2.1007251081507516,
          -1.469901874723165,
          0.5804195589513341,
          -0.26050512490234284,
          2.2362929227372725,
          0.5190194687909312,
          -0.008163118768048035,
          -0.6611054621616541,
          1.36957273498277,
          0.57208163756899,
          0.12460374641094915,
          0.8356395402758129,
          -0.8335550054425519,
          -0.8946566144284955,
          -0.10099356338826994,
          0.04425297346768268,
          2.217770067273319,
          0.03522119302500431,
          -1.9869202369288799,
          -1.2508613408788938,
          0.09279898228614562,
          0.38692351076168063,
          -0.026236237411354904,
          -1.491069699311706,
          0.8294659536906288,
          0.6136776593807836,
          -0.8154202979633771,
          0.6293335815887414,
          -1.0923772889015413,
          0.7386223240270853,
          -0.68737966371764,
          -0.6422680828562675,
          0.7998127045023482,
          0.9217752449620659,
          0.04459918763480434,
          -0.445947653484942,
          -0.3773323373724564,
          0.4050137890893175,
          0.19591076972454038,
          -0.3532570369973499,
          -0.19817408743935175,
          -0.311181936508081,
          -0.5692973337611296,
          1.2737066010007103,
          0.33310651006183967,
          2.343367044548086,
          -0.4488947193251729,
          0.16005691450387768,
          -0.5608031062151607,
          -0.2592370006186431,
          -0.7117502976304382,
          -0.5122229220026929,
          0.9231576330805437,
          1.108977825338648,
          0.05946369407947916,
          -0.5664014911796487,
          0.5891591881972967
         ],
         "xaxis": "x",
         "yaxis": "y"
        },
        {
         "line": {
          "color": "rgba(128, 128, 128, 1.0)",
          "dash": "solid",
          "shape": "linear",
          "width": 1.3
         },
         "marker": {
          "size": 2,
          "symbol": "circle"
         },
         "mode": "markers",
         "name": "A",
         "text": "",
         "type": "scatter",
         "x": [
          -0.8488668044204304,
          0.0829347754880924,
          0.5024352835101774,
          -1.555223408984092,
          -1.7161100299123155,
          0.13905529392350072,
          0.4697605231701461,
          -0.2067026939520887,
          -1.1575550785607536,
          1.0197452265500921,
          1.1202487101150227,
          1.5954620391368428,
          -0.4375092399621281,
          -0.47581549224960684,
          1.1853669230476602,
          -0.7970090865687269,
          -0.217834734307552,
          -0.9266855311136963,
          0.6925149520732994,
          -0.14063441315709707,
          1.3397844385147475,
          -0.1413885447509737,
          -0.3341614782625514,
          -1.0331617312485522,
          0.24434025389131428,
          1.5085738205782122,
          0.10463564901176917,
          -1.0951203549391761,
          -0.27409678695725026,
          0.420532769222361,
          0.44161004868931125,
          1.243251467420042,
          2.014541632056787,
          0.0005947858539945759,
          1.2239989488374874,
          -0.3249945539545311,
          0.11473621845710603,
          1.1583020744108352,
          0.33306800250962726,
          0.6084733116468805,
          0.2736092321470979,
          -1.5679830656702087,
          -0.06928753093902698,
          0.526425209767373,
          -0.01545031249896855,
          -0.2570800949369005,
          -0.4691911947167141,
          0.3670764942533598,
          0.9329487179609518,
          0.2795889554620296,
          -0.7792859324560443,
          1.320870561157038,
          -0.9628173239459669,
          1.0288747348344904,
          -0.31456248623952465,
          1.179250469511076,
          0.03272168521154292,
          -0.07204583648761341,
          1.1921789942533836,
          1.25019068010553,
          -0.03188346728559232,
          -0.1530268360484573,
          0.9831775188487099,
          -0.5267924542187926,
          -0.4053089572688673,
          -0.051938708052279375,
          0.45703909564713263,
          0.2642433727428654,
          0.5251885395153827,
          -0.0744890981195537,
          0.20179472075573884,
          -0.24260442894883943,
          -0.7655468244843483,
          -0.25466269286703574,
          1.3274099884767236,
          -1.8920515553120267,
          0.10540569529487552,
          1.0160601421792685,
          1.0480390651944593,
          -1.2983474014888645,
          -0.5118493322462478,
          -0.6211629820763115,
          -0.7131189561305936,
          -1.5519881153245678,
          0.3588037520991031,
          -0.7401347991919084,
          0.5898932362401884,
          0.6230541842326577,
          0.1469808884715823,
          -1.4909432837564347,
          0.16216809925339512,
          -0.24679042370819276,
          -0.30396064222875,
          1.064430955755844,
          0.3820227711156056,
          -1.9545417907404197,
          -0.8840834393902629,
          -0.8514764988023206,
          0.4516710603713084,
          -0.9713569710562179
         ],
         "xaxis": "x2",
         "y": [
          -0.30202016863775033,
          -0.28564555846571377,
          0.4476704948481836,
          -0.7162322499431878,
          -1.1752084454356209,
          0.037922946952660096,
          -0.4784580310902896,
          -0.8127219470868241,
          -0.2015463810609984,
          -1.2477309120841387,
          0.33416595599237875,
          -0.3925825214642993,
          0.8483162327766754,
          1.4017593159498198,
          -0.24447542578970963,
          0.3268425653949366,
          0.7896328968946461,
          0.05003230055379049,
          0.8713596231470593,
          -0.36768247294659173,
          1.456695935256,
          0.09086717022177927,
          0.8308289690395506,
          0.4570302705052343,
          1.641725152630206,
          -0.34337193630447227,
          -0.6899548045806325,
          -1.4989669498743878,
          -0.4990655862049401,
          -1.2763195565688894,
          -0.5841927721605572,
          -0.6531615312082533,
          -1.544688058823571,
          1.241823683012709,
          0.36670402575200034,
          0.36785862000313696,
          -0.4251916229702931,
          -1.1424611416885133,
          0.11744918233688426,
          -0.2943921274727523,
          -0.2630411797495611,
          1.1189450591825083,
          0.6771083217387999,
          -2.1007251081507516,
          -1.469901874723165,
          0.5804195589513341,
          -0.26050512490234284,
          2.2362929227372725,
          0.5190194687909312,
          -0.008163118768048035,
          -0.6611054621616541,
          1.36957273498277,
          0.57208163756899,
          0.12460374641094915,
          0.8356395402758129,
          -0.8335550054425519,
          -0.8946566144284955,
          -0.10099356338826994,
          0.04425297346768268,
          2.217770067273319,
          0.03522119302500431,
          -1.9869202369288799,
          -1.2508613408788938,
          0.09279898228614562,
          0.38692351076168063,
          -0.026236237411354904,
          -1.491069699311706,
          0.8294659536906288,
          0.6136776593807836,
          -0.8154202979633771,
          0.6293335815887414,
          -1.0923772889015413,
          0.7386223240270853,
          -0.68737966371764,
          -0.6422680828562675,
          0.7998127045023482,
          0.9217752449620659,
          0.04459918763480434,
          -0.445947653484942,
          -0.3773323373724564,
          0.4050137890893175,
          0.19591076972454038,
          -0.3532570369973499,
          -0.19817408743935175,
          -0.311181936508081,
          -0.5692973337611296,
          1.2737066010007103,
          0.33310651006183967,
          2.343367044548086,
          -0.4488947193251729,
          0.16005691450387768,
          -0.5608031062151607,
          -0.2592370006186431,
          -0.7117502976304382,
          -0.5122229220026929,
          0.9231576330805437,
          1.108977825338648,
          0.05946369407947916,
          -0.5664014911796487,
          0.5891591881972967
         ],
         "yaxis": "y2"
        },
        {
         "line": {
          "color": "rgba(128, 128, 128, 1.0)",
          "dash": "solid",
          "shape": "linear",
          "width": 1.3
         },
         "marker": {
          "size": 2,
          "symbol": "circle"
         },
         "mode": "markers",
         "name": "A",
         "text": "",
         "type": "scatter",
         "x": [
          -0.5325002392797077,
          1.2107826144635394,
          -0.12581857596195073,
          -1.065685346460432,
          1.6219974824957573,
          -0.932800678811066,
          -0.21316481203726712,
          0.763681120902737,
          1.098664206498667,
          0.36009215649075343,
          -0.664219816308787,
          0.07577184065638896,
          0.3031687581058567,
          0.6606870603906189,
          -0.5961486242453862,
          0.11231630657312325,
          0.7691043610978897,
          -0.3081123223215197,
          0.19559556136046366,
          1.4374690002280184,
          -0.8153210756978526,
          0.6813563452246516,
          -1.6382804382128886,
          0.08817865962915074,
          0.20261471758722485,
          -1.5184096422482465,
          -1.4305530017112984,
          -0.6953963924991731,
          -0.43994601001709965,
          0.22937454005128888,
          0.1447963167297178,
          1.4358227971455064,
          -0.7190175116891817,
          -0.31304105941454047,
          0.287214494791865,
          -1.3864896792827985,
          0.01238435443261473,
          -0.968968169580906,
          0.6757773935989444,
          0.28438830723664055,
          1.3939662961596828,
          0.848053334072673,
          -0.05146628439166784,
          0.13180154178313105,
          2.756987407554678,
          0.46855564383907744,
          1.0594874292830787,
          0.5036613275770189,
          1.647513334058284,
          -1.443885741626302,
          1.3359587953778,
          -0.5455285003845146,
          -0.461732199765846,
          -1.8435212714640112,
          0.4538100646615445,
          -0.72191357965643,
          -0.24374954965398982,
          -1.0252134615790376,
          -0.5165437210671675,
          -0.33161543392197307,
          -0.7431465286961032,
          -2.210006319910014,
          -0.46724628052367445,
          0.14586509253773433,
          0.14969459570682003,
          0.4191904426785085,
          -1.1344968632281076,
          0.10571054282160242,
          -0.7589371530008178,
          -1.0542016454475767,
          -1.0753202072880828,
          -1.664851074939344,
          -1.6675055030541586,
          -0.2331187171751215,
          2.4126159312201527,
          0.7389659801077011,
          0.3826710404007888,
          0.5817057566608924,
          0.9574718358569249,
          -2.0985324423193594,
          0.31289459728961866,
          2.5381461963041967,
          -1.1164237044150571,
          -0.0457752960357565,
          -1.2102654227507113,
          0.6626735232923587,
          -0.9294259573544665,
          -1.2753086464635068,
          0.19150764250023283,
          0.7682688889700511,
          1.5038416312088143,
          -0.41447058970720374,
          1.0473552330836675,
          1.6884234732045154,
          0.9931508514200323,
          -0.34211968075641724,
          -1.1649591956662277,
          0.8319726133234473,
          -1.343902562095212,
          -0.2943244448144205
         ],
         "xaxis": "x3",
         "y": [
          -0.30202016863775033,
          -0.28564555846571377,
          0.4476704948481836,
          -0.7162322499431878,
          -1.1752084454356209,
          0.037922946952660096,
          -0.4784580310902896,
          -0.8127219470868241,
          -0.2015463810609984,
          -1.2477309120841387,
          0.33416595599237875,
          -0.3925825214642993,
          0.8483162327766754,
          1.4017593159498198,
          -0.24447542578970963,
          0.3268425653949366,
          0.7896328968946461,
          0.05003230055379049,
          0.8713596231470593,
          -0.36768247294659173,
          1.456695935256,
          0.09086717022177927,
          0.8308289690395506,
          0.4570302705052343,
          1.641725152630206,
          -0.34337193630447227,
          -0.6899548045806325,
          -1.4989669498743878,
          -0.4990655862049401,
          -1.2763195565688894,
          -0.5841927721605572,
          -0.6531615312082533,
          -1.544688058823571,
          1.241823683012709,
          0.36670402575200034,
          0.36785862000313696,
          -0.4251916229702931,
          -1.1424611416885133,
          0.11744918233688426,
          -0.2943921274727523,
          -0.2630411797495611,
          1.1189450591825083,
          0.6771083217387999,
          -2.1007251081507516,
          -1.469901874723165,
          0.5804195589513341,
          -0.26050512490234284,
          2.2362929227372725,
          0.5190194687909312,
          -0.008163118768048035,
          -0.6611054621616541,
          1.36957273498277,
          0.57208163756899,
          0.12460374641094915,
          0.8356395402758129,
          -0.8335550054425519,
          -0.8946566144284955,
          -0.10099356338826994,
          0.04425297346768268,
          2.217770067273319,
          0.03522119302500431,
          -1.9869202369288799,
          -1.2508613408788938,
          0.09279898228614562,
          0.38692351076168063,
          -0.026236237411354904,
          -1.491069699311706,
          0.8294659536906288,
          0.6136776593807836,
          -0.8154202979633771,
          0.6293335815887414,
          -1.0923772889015413,
          0.7386223240270853,
          -0.68737966371764,
          -0.6422680828562675,
          0.7998127045023482,
          0.9217752449620659,
          0.04459918763480434,
          -0.445947653484942,
          -0.3773323373724564,
          0.4050137890893175,
          0.19591076972454038,
          -0.3532570369973499,
          -0.19817408743935175,
          -0.311181936508081,
          -0.5692973337611296,
          1.2737066010007103,
          0.33310651006183967,
          2.343367044548086,
          -0.4488947193251729,
          0.16005691450387768,
          -0.5608031062151607,
          -0.2592370006186431,
          -0.7117502976304382,
          -0.5122229220026929,
          0.9231576330805437,
          1.108977825338648,
          0.05946369407947916,
          -0.5664014911796487,
          0.5891591881972967
         ],
         "yaxis": "y3"
        },
        {
         "line": {
          "color": "rgba(128, 128, 128, 1.0)",
          "dash": "solid",
          "shape": "linear",
          "width": 1.3
         },
         "marker": {
          "size": 2,
          "symbol": "circle"
         },
         "mode": "markers",
         "name": "A",
         "text": "",
         "type": "scatter",
         "x": [
          -0.006679552459379296,
          0.07331242355470725,
          1.1083884810155544,
          -1.6565627117319746,
          1.9950862907185352,
          0.6454822575914453,
          -0.5329751906162492,
          0.08565999414797083,
          0.09036665290178467,
          0.7872452416416569,
          -0.11434170196201493,
          -1.121478936932661,
          1.1096696474770031,
          0.6516962960220379,
          0.30660602120926544,
          -0.7168392297450519,
          -0.7439065941431607,
          0.6615739709752352,
          0.6006997037973186,
          -0.6050611084460127,
          -0.5461260559653208,
          0.1424476018858292,
          -1.197176194136547,
          0.7877118711253404,
          -0.9714740266118284,
          0.7826606579329373,
          -1.1031652966404037,
          2.526889128554002,
          0.16190821155043775,
          0.23198501547302153,
          0.5640839786071568,
          -0.05016580642898075,
          -0.839410702329791,
          0.6050009318003485,
          -0.16029812562208612,
          1.406749582890268,
          -1.1054758672020175,
          -1.6119739180168078,
          0.10650295060254338,
          -2.405341139304213,
          -2.0421508646956816,
          -0.17350186796334538,
          0.9550293720956177,
          0.5477902853481688,
          0.5110778167745683,
          0.4722265299045946,
          1.5591630904039082,
          -0.9349337381021855,
          -0.5781747934802014,
          -1.4900496859060852,
          -1.3269327490502971,
          -1.5196913887016652,
          0.7246955385086876,
          0.3215005164422762,
          0.809400883045086,
          0.993649246025548,
          -0.6955478957649657,
          1.0991610580672215,
          0.7345554855186507,
          -0.3571925359950002,
          -1.885546923965419,
          0.36401272919883904,
          -0.16631902212605246,
          0.9779545406612402,
          0.7916705430955936,
          -0.12323039622039979,
          -0.15362030195387819,
          0.44797085347129084,
          0.8600083255740223,
          0.011826753737175896,
          0.809330990870958,
          -0.08388961558555602,
          0.011880834268739489,
          -1.663441440748334,
          -0.7993871903375428,
          1.076778701611559,
          -1.523272232833216,
          -0.10932247028663548,
          -0.5434321979726251,
          1.201096443987189,
          1.3161182808886254,
          0.5866559935034882,
          1.0748730161017475,
          -0.07604231452114252,
          -1.2254109513661653,
          -0.12882814874212412,
          -0.19471729771257273,
          0.6853427202832655,
          0.5741302146848836,
          0.6827993122440889,
          -0.8541546185222085,
          -0.4468302326950383,
          0.08934065712537255,
          1.4300258601533677,
          -0.28710963690331254,
          0.7304348651351046,
          0.9692019063696952,
          -0.6545210429290489,
          -0.5954381851103395,
          -0.3189286182100561
         ],
         "xaxis": "x4",
         "y": [
          -0.30202016863775033,
          -0.28564555846571377,
          0.4476704948481836,
          -0.7162322499431878,
          -1.1752084454356209,
          0.037922946952660096,
          -0.4784580310902896,
          -0.8127219470868241,
          -0.2015463810609984,
          -1.2477309120841387,
          0.33416595599237875,
          -0.3925825214642993,
          0.8483162327766754,
          1.4017593159498198,
          -0.24447542578970963,
          0.3268425653949366,
          0.7896328968946461,
          0.05003230055379049,
          0.8713596231470593,
          -0.36768247294659173,
          1.456695935256,
          0.09086717022177927,
          0.8308289690395506,
          0.4570302705052343,
          1.641725152630206,
          -0.34337193630447227,
          -0.6899548045806325,
          -1.4989669498743878,
          -0.4990655862049401,
          -1.2763195565688894,
          -0.5841927721605572,
          -0.6531615312082533,
          -1.544688058823571,
          1.241823683012709,
          0.36670402575200034,
          0.36785862000313696,
          -0.4251916229702931,
          -1.1424611416885133,
          0.11744918233688426,
          -0.2943921274727523,
          -0.2630411797495611,
          1.1189450591825083,
          0.6771083217387999,
          -2.1007251081507516,
          -1.469901874723165,
          0.5804195589513341,
          -0.26050512490234284,
          2.2362929227372725,
          0.5190194687909312,
          -0.008163118768048035,
          -0.6611054621616541,
          1.36957273498277,
          0.57208163756899,
          0.12460374641094915,
          0.8356395402758129,
          -0.8335550054425519,
          -0.8946566144284955,
          -0.10099356338826994,
          0.04425297346768268,
          2.217770067273319,
          0.03522119302500431,
          -1.9869202369288799,
          -1.2508613408788938,
          0.09279898228614562,
          0.38692351076168063,
          -0.026236237411354904,
          -1.491069699311706,
          0.8294659536906288,
          0.6136776593807836,
          -0.8154202979633771,
          0.6293335815887414,
          -1.0923772889015413,
          0.7386223240270853,
          -0.68737966371764,
          -0.6422680828562675,
          0.7998127045023482,
          0.9217752449620659,
          0.04459918763480434,
          -0.445947653484942,
          -0.3773323373724564,
          0.4050137890893175,
          0.19591076972454038,
          -0.3532570369973499,
          -0.19817408743935175,
          -0.311181936508081,
          -0.5692973337611296,
          1.2737066010007103,
          0.33310651006183967,
          2.343367044548086,
          -0.4488947193251729,
          0.16005691450387768,
          -0.5608031062151607,
          -0.2592370006186431,
          -0.7117502976304382,
          -0.5122229220026929,
          0.9231576330805437,
          1.108977825338648,
          0.05946369407947916,
          -0.5664014911796487,
          0.5891591881972967
         ],
         "yaxis": "y4"
        },
        {
         "line": {
          "color": "rgba(128, 128, 128, 1.0)",
          "dash": "solid",
          "shape": "linear",
          "width": 1.3
         },
         "marker": {
          "size": 2,
          "symbol": "circle"
         },
         "mode": "markers",
         "name": "B",
         "text": "",
         "type": "scatter",
         "x": [
          -0.30202016863775033,
          -0.28564555846571377,
          0.4476704948481836,
          -0.7162322499431878,
          -1.1752084454356209,
          0.037922946952660096,
          -0.4784580310902896,
          -0.8127219470868241,
          -0.2015463810609984,
          -1.2477309120841387,
          0.33416595599237875,
          -0.3925825214642993,
          0.8483162327766754,
          1.4017593159498198,
          -0.24447542578970963,
          0.3268425653949366,
          0.7896328968946461,
          0.05003230055379049,
          0.8713596231470593,
          -0.36768247294659173,
          1.456695935256,
          0.09086717022177927,
          0.8308289690395506,
          0.4570302705052343,
          1.641725152630206,
          -0.34337193630447227,
          -0.6899548045806325,
          -1.4989669498743878,
          -0.4990655862049401,
          -1.2763195565688894,
          -0.5841927721605572,
          -0.6531615312082533,
          -1.544688058823571,
          1.241823683012709,
          0.36670402575200034,
          0.36785862000313696,
          -0.4251916229702931,
          -1.1424611416885133,
          0.11744918233688426,
          -0.2943921274727523,
          -0.2630411797495611,
          1.1189450591825083,
          0.6771083217387999,
          -2.1007251081507516,
          -1.469901874723165,
          0.5804195589513341,
          -0.26050512490234284,
          2.2362929227372725,
          0.5190194687909312,
          -0.008163118768048035,
          -0.6611054621616541,
          1.36957273498277,
          0.57208163756899,
          0.12460374641094915,
          0.8356395402758129,
          -0.8335550054425519,
          -0.8946566144284955,
          -0.10099356338826994,
          0.04425297346768268,
          2.217770067273319,
          0.03522119302500431,
          -1.9869202369288799,
          -1.2508613408788938,
          0.09279898228614562,
          0.38692351076168063,
          -0.026236237411354904,
          -1.491069699311706,
          0.8294659536906288,
          0.6136776593807836,
          -0.8154202979633771,
          0.6293335815887414,
          -1.0923772889015413,
          0.7386223240270853,
          -0.68737966371764,
          -0.6422680828562675,
          0.7998127045023482,
          0.9217752449620659,
          0.04459918763480434,
          -0.445947653484942,
          -0.3773323373724564,
          0.4050137890893175,
          0.19591076972454038,
          -0.3532570369973499,
          -0.19817408743935175,
          -0.311181936508081,
          -0.5692973337611296,
          1.2737066010007103,
          0.33310651006183967,
          2.343367044548086,
          -0.4488947193251729,
          0.16005691450387768,
          -0.5608031062151607,
          -0.2592370006186431,
          -0.7117502976304382,
          -0.5122229220026929,
          0.9231576330805437,
          1.108977825338648,
          0.05946369407947916,
          -0.5664014911796487,
          0.5891591881972967
         ],
         "xaxis": "x5",
         "y": [
          -0.8488668044204304,
          0.0829347754880924,
          0.5024352835101774,
          -1.555223408984092,
          -1.7161100299123155,
          0.13905529392350072,
          0.4697605231701461,
          -0.2067026939520887,
          -1.1575550785607536,
          1.0197452265500921,
          1.1202487101150227,
          1.5954620391368428,
          -0.4375092399621281,
          -0.47581549224960684,
          1.1853669230476602,
          -0.7970090865687269,
          -0.217834734307552,
          -0.9266855311136963,
          0.6925149520732994,
          -0.14063441315709707,
          1.3397844385147475,
          -0.1413885447509737,
          -0.3341614782625514,
          -1.0331617312485522,
          0.24434025389131428,
          1.5085738205782122,
          0.10463564901176917,
          -1.0951203549391761,
          -0.27409678695725026,
          0.420532769222361,
          0.44161004868931125,
          1.243251467420042,
          2.014541632056787,
          0.0005947858539945759,
          1.2239989488374874,
          -0.3249945539545311,
          0.11473621845710603,
          1.1583020744108352,
          0.33306800250962726,
          0.6084733116468805,
          0.2736092321470979,
          -1.5679830656702087,
          -0.06928753093902698,
          0.526425209767373,
          -0.01545031249896855,
          -0.2570800949369005,
          -0.4691911947167141,
          0.3670764942533598,
          0.9329487179609518,
          0.2795889554620296,
          -0.7792859324560443,
          1.320870561157038,
          -0.9628173239459669,
          1.0288747348344904,
          -0.31456248623952465,
          1.179250469511076,
          0.03272168521154292,
          -0.07204583648761341,
          1.1921789942533836,
          1.25019068010553,
          -0.03188346728559232,
          -0.1530268360484573,
          0.9831775188487099,
          -0.5267924542187926,
          -0.4053089572688673,
          -0.051938708052279375,
          0.45703909564713263,
          0.2642433727428654,
          0.5251885395153827,
          -0.0744890981195537,
          0.20179472075573884,
          -0.24260442894883943,
          -0.7655468244843483,
          -0.25466269286703574,
          1.3274099884767236,
          -1.8920515553120267,
          0.10540569529487552,
          1.0160601421792685,
          1.0480390651944593,
          -1.2983474014888645,
          -0.5118493322462478,
          -0.6211629820763115,
          -0.7131189561305936,
          -1.5519881153245678,
          0.3588037520991031,
          -0.7401347991919084,
          0.5898932362401884,
          0.6230541842326577,
          0.1469808884715823,
          -1.4909432837564347,
          0.16216809925339512,
          -0.24679042370819276,
          -0.30396064222875,
          1.064430955755844,
          0.3820227711156056,
          -1.9545417907404197,
          -0.8840834393902629,
          -0.8514764988023206,
          0.4516710603713084,
          -0.9713569710562179
         ],
         "yaxis": "y5"
        },
        {
         "histfunc": "count",
         "histnorm": "",
         "marker": {
          "color": "rgba(55, 128, 191, 1.0)",
          "line": {
           "color": "#4D5663",
           "width": 1.3
          }
         },
         "name": "B",
         "nbinsx": 10,
         "opacity": 0.8,
         "orientation": "v",
         "type": "histogram",
         "x": [
          -0.8488668044204304,
          0.0829347754880924,
          0.5024352835101774,
          -1.555223408984092,
          -1.7161100299123155,
          0.13905529392350072,
          0.4697605231701461,
          -0.2067026939520887,
          -1.1575550785607536,
          1.0197452265500921,
          1.1202487101150227,
          1.5954620391368428,
          -0.4375092399621281,
          -0.47581549224960684,
          1.1853669230476602,
          -0.7970090865687269,
          -0.217834734307552,
          -0.9266855311136963,
          0.6925149520732994,
          -0.14063441315709707,
          1.3397844385147475,
          -0.1413885447509737,
          -0.3341614782625514,
          -1.0331617312485522,
          0.24434025389131428,
          1.5085738205782122,
          0.10463564901176917,
          -1.0951203549391761,
          -0.27409678695725026,
          0.420532769222361,
          0.44161004868931125,
          1.243251467420042,
          2.014541632056787,
          0.0005947858539945759,
          1.2239989488374874,
          -0.3249945539545311,
          0.11473621845710603,
          1.1583020744108352,
          0.33306800250962726,
          0.6084733116468805,
          0.2736092321470979,
          -1.5679830656702087,
          -0.06928753093902698,
          0.526425209767373,
          -0.01545031249896855,
          -0.2570800949369005,
          -0.4691911947167141,
          0.3670764942533598,
          0.9329487179609518,
          0.2795889554620296,
          -0.7792859324560443,
          1.320870561157038,
          -0.9628173239459669,
          1.0288747348344904,
          -0.31456248623952465,
          1.179250469511076,
          0.03272168521154292,
          -0.07204583648761341,
          1.1921789942533836,
          1.25019068010553,
          -0.03188346728559232,
          -0.1530268360484573,
          0.9831775188487099,
          -0.5267924542187926,
          -0.4053089572688673,
          -0.051938708052279375,
          0.45703909564713263,
          0.2642433727428654,
          0.5251885395153827,
          -0.0744890981195537,
          0.20179472075573884,
          -0.24260442894883943,
          -0.7655468244843483,
          -0.25466269286703574,
          1.3274099884767236,
          -1.8920515553120267,
          0.10540569529487552,
          1.0160601421792685,
          1.0480390651944593,
          -1.2983474014888645,
          -0.5118493322462478,
          -0.6211629820763115,
          -0.7131189561305936,
          -1.5519881153245678,
          0.3588037520991031,
          -0.7401347991919084,
          0.5898932362401884,
          0.6230541842326577,
          0.1469808884715823,
          -1.4909432837564347,
          0.16216809925339512,
          -0.24679042370819276,
          -0.30396064222875,
          1.064430955755844,
          0.3820227711156056,
          -1.9545417907404197,
          -0.8840834393902629,
          -0.8514764988023206,
          0.4516710603713084,
          -0.9713569710562179
         ],
         "xaxis": "x6",
         "yaxis": "y6"
        },
        {
         "line": {
          "color": "rgba(128, 128, 128, 1.0)",
          "dash": "solid",
          "shape": "linear",
          "width": 1.3
         },
         "marker": {
          "size": 2,
          "symbol": "circle"
         },
         "mode": "markers",
         "name": "B",
         "text": "",
         "type": "scatter",
         "x": [
          -0.5325002392797077,
          1.2107826144635394,
          -0.12581857596195073,
          -1.065685346460432,
          1.6219974824957573,
          -0.932800678811066,
          -0.21316481203726712,
          0.763681120902737,
          1.098664206498667,
          0.36009215649075343,
          -0.664219816308787,
          0.07577184065638896,
          0.3031687581058567,
          0.6606870603906189,
          -0.5961486242453862,
          0.11231630657312325,
          0.7691043610978897,
          -0.3081123223215197,
          0.19559556136046366,
          1.4374690002280184,
          -0.8153210756978526,
          0.6813563452246516,
          -1.6382804382128886,
          0.08817865962915074,
          0.20261471758722485,
          -1.5184096422482465,
          -1.4305530017112984,
          -0.6953963924991731,
          -0.43994601001709965,
          0.22937454005128888,
          0.1447963167297178,
          1.4358227971455064,
          -0.7190175116891817,
          -0.31304105941454047,
          0.287214494791865,
          -1.3864896792827985,
          0.01238435443261473,
          -0.968968169580906,
          0.6757773935989444,
          0.28438830723664055,
          1.3939662961596828,
          0.848053334072673,
          -0.05146628439166784,
          0.13180154178313105,
          2.756987407554678,
          0.46855564383907744,
          1.0594874292830787,
          0.5036613275770189,
          1.647513334058284,
          -1.443885741626302,
          1.3359587953778,
          -0.5455285003845146,
          -0.461732199765846,
          -1.8435212714640112,
          0.4538100646615445,
          -0.72191357965643,
          -0.24374954965398982,
          -1.0252134615790376,
          -0.5165437210671675,
          -0.33161543392197307,
          -0.7431465286961032,
          -2.210006319910014,
          -0.46724628052367445,
          0.14586509253773433,
          0.14969459570682003,
          0.4191904426785085,
          -1.1344968632281076,
          0.10571054282160242,
          -0.7589371530008178,
          -1.0542016454475767,
          -1.0753202072880828,
          -1.664851074939344,
          -1.6675055030541586,
          -0.2331187171751215,
          2.4126159312201527,
          0.7389659801077011,
          0.3826710404007888,
          0.5817057566608924,
          0.9574718358569249,
          -2.0985324423193594,
          0.31289459728961866,
          2.5381461963041967,
          -1.1164237044150571,
          -0.0457752960357565,
          -1.2102654227507113,
          0.6626735232923587,
          -0.9294259573544665,
          -1.2753086464635068,
          0.19150764250023283,
          0.7682688889700511,
          1.5038416312088143,
          -0.41447058970720374,
          1.0473552330836675,
          1.6884234732045154,
          0.9931508514200323,
          -0.34211968075641724,
          -1.1649591956662277,
          0.8319726133234473,
          -1.343902562095212,
          -0.2943244448144205
         ],
         "xaxis": "x7",
         "y": [
          -0.8488668044204304,
          0.0829347754880924,
          0.5024352835101774,
          -1.555223408984092,
          -1.7161100299123155,
          0.13905529392350072,
          0.4697605231701461,
          -0.2067026939520887,
          -1.1575550785607536,
          1.0197452265500921,
          1.1202487101150227,
          1.5954620391368428,
          -0.4375092399621281,
          -0.47581549224960684,
          1.1853669230476602,
          -0.7970090865687269,
          -0.217834734307552,
          -0.9266855311136963,
          0.6925149520732994,
          -0.14063441315709707,
          1.3397844385147475,
          -0.1413885447509737,
          -0.3341614782625514,
          -1.0331617312485522,
          0.24434025389131428,
          1.5085738205782122,
          0.10463564901176917,
          -1.0951203549391761,
          -0.27409678695725026,
          0.420532769222361,
          0.44161004868931125,
          1.243251467420042,
          2.014541632056787,
          0.0005947858539945759,
          1.2239989488374874,
          -0.3249945539545311,
          0.11473621845710603,
          1.1583020744108352,
          0.33306800250962726,
          0.6084733116468805,
          0.2736092321470979,
          -1.5679830656702087,
          -0.06928753093902698,
          0.526425209767373,
          -0.01545031249896855,
          -0.2570800949369005,
          -0.4691911947167141,
          0.3670764942533598,
          0.9329487179609518,
          0.2795889554620296,
          -0.7792859324560443,
          1.320870561157038,
          -0.9628173239459669,
          1.0288747348344904,
          -0.31456248623952465,
          1.179250469511076,
          0.03272168521154292,
          -0.07204583648761341,
          1.1921789942533836,
          1.25019068010553,
          -0.03188346728559232,
          -0.1530268360484573,
          0.9831775188487099,
          -0.5267924542187926,
          -0.4053089572688673,
          -0.051938708052279375,
          0.45703909564713263,
          0.2642433727428654,
          0.5251885395153827,
          -0.0744890981195537,
          0.20179472075573884,
          -0.24260442894883943,
          -0.7655468244843483,
          -0.25466269286703574,
          1.3274099884767236,
          -1.8920515553120267,
          0.10540569529487552,
          1.0160601421792685,
          1.0480390651944593,
          -1.2983474014888645,
          -0.5118493322462478,
          -0.6211629820763115,
          -0.7131189561305936,
          -1.5519881153245678,
          0.3588037520991031,
          -0.7401347991919084,
          0.5898932362401884,
          0.6230541842326577,
          0.1469808884715823,
          -1.4909432837564347,
          0.16216809925339512,
          -0.24679042370819276,
          -0.30396064222875,
          1.064430955755844,
          0.3820227711156056,
          -1.9545417907404197,
          -0.8840834393902629,
          -0.8514764988023206,
          0.4516710603713084,
          -0.9713569710562179
         ],
         "yaxis": "y7"
        },
        {
         "line": {
          "color": "rgba(128, 128, 128, 1.0)",
          "dash": "solid",
          "shape": "linear",
          "width": 1.3
         },
         "marker": {
          "size": 2,
          "symbol": "circle"
         },
         "mode": "markers",
         "name": "B",
         "text": "",
         "type": "scatter",
         "x": [
          -0.006679552459379296,
          0.07331242355470725,
          1.1083884810155544,
          -1.6565627117319746,
          1.9950862907185352,
          0.6454822575914453,
          -0.5329751906162492,
          0.08565999414797083,
          0.09036665290178467,
          0.7872452416416569,
          -0.11434170196201493,
          -1.121478936932661,
          1.1096696474770031,
          0.6516962960220379,
          0.30660602120926544,
          -0.7168392297450519,
          -0.7439065941431607,
          0.6615739709752352,
          0.6006997037973186,
          -0.6050611084460127,
          -0.5461260559653208,
          0.1424476018858292,
          -1.197176194136547,
          0.7877118711253404,
          -0.9714740266118284,
          0.7826606579329373,
          -1.1031652966404037,
          2.526889128554002,
          0.16190821155043775,
          0.23198501547302153,
          0.5640839786071568,
          -0.05016580642898075,
          -0.839410702329791,
          0.6050009318003485,
          -0.16029812562208612,
          1.406749582890268,
          -1.1054758672020175,
          -1.6119739180168078,
          0.10650295060254338,
          -2.405341139304213,
          -2.0421508646956816,
          -0.17350186796334538,
          0.9550293720956177,
          0.5477902853481688,
          0.5110778167745683,
          0.4722265299045946,
          1.5591630904039082,
          -0.9349337381021855,
          -0.5781747934802014,
          -1.4900496859060852,
          -1.3269327490502971,
          -1.5196913887016652,
          0.7246955385086876,
          0.3215005164422762,
          0.809400883045086,
          0.993649246025548,
          -0.6955478957649657,
          1.0991610580672215,
          0.7345554855186507,
          -0.3571925359950002,
          -1.885546923965419,
          0.36401272919883904,
          -0.16631902212605246,
          0.9779545406612402,
          0.7916705430955936,
          -0.12323039622039979,
          -0.15362030195387819,
          0.44797085347129084,
          0.8600083255740223,
          0.011826753737175896,
          0.809330990870958,
          -0.08388961558555602,
          0.011880834268739489,
          -1.663441440748334,
          -0.7993871903375428,
          1.076778701611559,
          -1.523272232833216,
          -0.10932247028663548,
          -0.5434321979726251,
          1.201096443987189,
          1.3161182808886254,
          0.5866559935034882,
          1.0748730161017475,
          -0.07604231452114252,
          -1.2254109513661653,
          -0.12882814874212412,
          -0.19471729771257273,
          0.6853427202832655,
          0.5741302146848836,
          0.6827993122440889,
          -0.8541546185222085,
          -0.4468302326950383,
          0.08934065712537255,
          1.4300258601533677,
          -0.28710963690331254,
          0.7304348651351046,
          0.9692019063696952,
          -0.6545210429290489,
          -0.5954381851103395,
          -0.3189286182100561
         ],
         "xaxis": "x8",
         "y": [
          -0.8488668044204304,
          0.0829347754880924,
          0.5024352835101774,
          -1.555223408984092,
          -1.7161100299123155,
          0.13905529392350072,
          0.4697605231701461,
          -0.2067026939520887,
          -1.1575550785607536,
          1.0197452265500921,
          1.1202487101150227,
          1.5954620391368428,
          -0.4375092399621281,
          -0.47581549224960684,
          1.1853669230476602,
          -0.7970090865687269,
          -0.217834734307552,
          -0.9266855311136963,
          0.6925149520732994,
          -0.14063441315709707,
          1.3397844385147475,
          -0.1413885447509737,
          -0.3341614782625514,
          -1.0331617312485522,
          0.24434025389131428,
          1.5085738205782122,
          0.10463564901176917,
          -1.0951203549391761,
          -0.27409678695725026,
          0.420532769222361,
          0.44161004868931125,
          1.243251467420042,
          2.014541632056787,
          0.0005947858539945759,
          1.2239989488374874,
          -0.3249945539545311,
          0.11473621845710603,
          1.1583020744108352,
          0.33306800250962726,
          0.6084733116468805,
          0.2736092321470979,
          -1.5679830656702087,
          -0.06928753093902698,
          0.526425209767373,
          -0.01545031249896855,
          -0.2570800949369005,
          -0.4691911947167141,
          0.3670764942533598,
          0.9329487179609518,
          0.2795889554620296,
          -0.7792859324560443,
          1.320870561157038,
          -0.9628173239459669,
          1.0288747348344904,
          -0.31456248623952465,
          1.179250469511076,
          0.03272168521154292,
          -0.07204583648761341,
          1.1921789942533836,
          1.25019068010553,
          -0.03188346728559232,
          -0.1530268360484573,
          0.9831775188487099,
          -0.5267924542187926,
          -0.4053089572688673,
          -0.051938708052279375,
          0.45703909564713263,
          0.2642433727428654,
          0.5251885395153827,
          -0.0744890981195537,
          0.20179472075573884,
          -0.24260442894883943,
          -0.7655468244843483,
          -0.25466269286703574,
          1.3274099884767236,
          -1.8920515553120267,
          0.10540569529487552,
          1.0160601421792685,
          1.0480390651944593,
          -1.2983474014888645,
          -0.5118493322462478,
          -0.6211629820763115,
          -0.7131189561305936,
          -1.5519881153245678,
          0.3588037520991031,
          -0.7401347991919084,
          0.5898932362401884,
          0.6230541842326577,
          0.1469808884715823,
          -1.4909432837564347,
          0.16216809925339512,
          -0.24679042370819276,
          -0.30396064222875,
          1.064430955755844,
          0.3820227711156056,
          -1.9545417907404197,
          -0.8840834393902629,
          -0.8514764988023206,
          0.4516710603713084,
          -0.9713569710562179
         ],
         "yaxis": "y8"
        },
        {
         "line": {
          "color": "rgba(128, 128, 128, 1.0)",
          "dash": "solid",
          "shape": "linear",
          "width": 1.3
         },
         "marker": {
          "size": 2,
          "symbol": "circle"
         },
         "mode": "markers",
         "name": "C",
         "text": "",
         "type": "scatter",
         "x": [
          -0.30202016863775033,
          -0.28564555846571377,
          0.4476704948481836,
          -0.7162322499431878,
          -1.1752084454356209,
          0.037922946952660096,
          -0.4784580310902896,
          -0.8127219470868241,
          -0.2015463810609984,
          -1.2477309120841387,
          0.33416595599237875,
          -0.3925825214642993,
          0.8483162327766754,
          1.4017593159498198,
          -0.24447542578970963,
          0.3268425653949366,
          0.7896328968946461,
          0.05003230055379049,
          0.8713596231470593,
          -0.36768247294659173,
          1.456695935256,
          0.09086717022177927,
          0.8308289690395506,
          0.4570302705052343,
          1.641725152630206,
          -0.34337193630447227,
          -0.6899548045806325,
          -1.4989669498743878,
          -0.4990655862049401,
          -1.2763195565688894,
          -0.5841927721605572,
          -0.6531615312082533,
          -1.544688058823571,
          1.241823683012709,
          0.36670402575200034,
          0.36785862000313696,
          -0.4251916229702931,
          -1.1424611416885133,
          0.11744918233688426,
          -0.2943921274727523,
          -0.2630411797495611,
          1.1189450591825083,
          0.6771083217387999,
          -2.1007251081507516,
          -1.469901874723165,
          0.5804195589513341,
          -0.26050512490234284,
          2.2362929227372725,
          0.5190194687909312,
          -0.008163118768048035,
          -0.6611054621616541,
          1.36957273498277,
          0.57208163756899,
          0.12460374641094915,
          0.8356395402758129,
          -0.8335550054425519,
          -0.8946566144284955,
          -0.10099356338826994,
          0.04425297346768268,
          2.217770067273319,
          0.03522119302500431,
          -1.9869202369288799,
          -1.2508613408788938,
          0.09279898228614562,
          0.38692351076168063,
          -0.026236237411354904,
          -1.491069699311706,
          0.8294659536906288,
          0.6136776593807836,
          -0.8154202979633771,
          0.6293335815887414,
          -1.0923772889015413,
          0.7386223240270853,
          -0.68737966371764,
          -0.6422680828562675,
          0.7998127045023482,
          0.9217752449620659,
          0.04459918763480434,
          -0.445947653484942,
          -0.3773323373724564,
          0.4050137890893175,
          0.19591076972454038,
          -0.3532570369973499,
          -0.19817408743935175,
          -0.311181936508081,
          -0.5692973337611296,
          1.2737066010007103,
          0.33310651006183967,
          2.343367044548086,
          -0.4488947193251729,
          0.16005691450387768,
          -0.5608031062151607,
          -0.2592370006186431,
          -0.7117502976304382,
          -0.5122229220026929,
          0.9231576330805437,
          1.108977825338648,
          0.05946369407947916,
          -0.5664014911796487,
          0.5891591881972967
         ],
         "xaxis": "x9",
         "y": [
          -0.5325002392797077,
          1.2107826144635394,
          -0.12581857596195073,
          -1.065685346460432,
          1.6219974824957573,
          -0.932800678811066,
          -0.21316481203726712,
          0.763681120902737,
          1.098664206498667,
          0.36009215649075343,
          -0.664219816308787,
          0.07577184065638896,
          0.3031687581058567,
          0.6606870603906189,
          -0.5961486242453862,
          0.11231630657312325,
          0.7691043610978897,
          -0.3081123223215197,
          0.19559556136046366,
          1.4374690002280184,
          -0.8153210756978526,
          0.6813563452246516,
          -1.6382804382128886,
          0.08817865962915074,
          0.20261471758722485,
          -1.5184096422482465,
          -1.4305530017112984,
          -0.6953963924991731,
          -0.43994601001709965,
          0.22937454005128888,
          0.1447963167297178,
          1.4358227971455064,
          -0.7190175116891817,
          -0.31304105941454047,
          0.287214494791865,
          -1.3864896792827985,
          0.01238435443261473,
          -0.968968169580906,
          0.6757773935989444,
          0.28438830723664055,
          1.3939662961596828,
          0.848053334072673,
          -0.05146628439166784,
          0.13180154178313105,
          2.756987407554678,
          0.46855564383907744,
          1.0594874292830787,
          0.5036613275770189,
          1.647513334058284,
          -1.443885741626302,
          1.3359587953778,
          -0.5455285003845146,
          -0.461732199765846,
          -1.8435212714640112,
          0.4538100646615445,
          -0.72191357965643,
          -0.24374954965398982,
          -1.0252134615790376,
          -0.5165437210671675,
          -0.33161543392197307,
          -0.7431465286961032,
          -2.210006319910014,
          -0.46724628052367445,
          0.14586509253773433,
          0.14969459570682003,
          0.4191904426785085,
          -1.1344968632281076,
          0.10571054282160242,
          -0.7589371530008178,
          -1.0542016454475767,
          -1.0753202072880828,
          -1.664851074939344,
          -1.6675055030541586,
          -0.2331187171751215,
          2.4126159312201527,
          0.7389659801077011,
          0.3826710404007888,
          0.5817057566608924,
          0.9574718358569249,
          -2.0985324423193594,
          0.31289459728961866,
          2.5381461963041967,
          -1.1164237044150571,
          -0.0457752960357565,
          -1.2102654227507113,
          0.6626735232923587,
          -0.9294259573544665,
          -1.2753086464635068,
          0.19150764250023283,
          0.7682688889700511,
          1.5038416312088143,
          -0.41447058970720374,
          1.0473552330836675,
          1.6884234732045154,
          0.9931508514200323,
          -0.34211968075641724,
          -1.1649591956662277,
          0.8319726133234473,
          -1.343902562095212,
          -0.2943244448144205
         ],
         "yaxis": "y9"
        },
        {
         "line": {
          "color": "rgba(128, 128, 128, 1.0)",
          "dash": "solid",
          "shape": "linear",
          "width": 1.3
         },
         "marker": {
          "size": 2,
          "symbol": "circle"
         },
         "mode": "markers",
         "name": "C",
         "text": "",
         "type": "scatter",
         "x": [
          -0.8488668044204304,
          0.0829347754880924,
          0.5024352835101774,
          -1.555223408984092,
          -1.7161100299123155,
          0.13905529392350072,
          0.4697605231701461,
          -0.2067026939520887,
          -1.1575550785607536,
          1.0197452265500921,
          1.1202487101150227,
          1.5954620391368428,
          -0.4375092399621281,
          -0.47581549224960684,
          1.1853669230476602,
          -0.7970090865687269,
          -0.217834734307552,
          -0.9266855311136963,
          0.6925149520732994,
          -0.14063441315709707,
          1.3397844385147475,
          -0.1413885447509737,
          -0.3341614782625514,
          -1.0331617312485522,
          0.24434025389131428,
          1.5085738205782122,
          0.10463564901176917,
          -1.0951203549391761,
          -0.27409678695725026,
          0.420532769222361,
          0.44161004868931125,
          1.243251467420042,
          2.014541632056787,
          0.0005947858539945759,
          1.2239989488374874,
          -0.3249945539545311,
          0.11473621845710603,
          1.1583020744108352,
          0.33306800250962726,
          0.6084733116468805,
          0.2736092321470979,
          -1.5679830656702087,
          -0.06928753093902698,
          0.526425209767373,
          -0.01545031249896855,
          -0.2570800949369005,
          -0.4691911947167141,
          0.3670764942533598,
          0.9329487179609518,
          0.2795889554620296,
          -0.7792859324560443,
          1.320870561157038,
          -0.9628173239459669,
          1.0288747348344904,
          -0.31456248623952465,
          1.179250469511076,
          0.03272168521154292,
          -0.07204583648761341,
          1.1921789942533836,
          1.25019068010553,
          -0.03188346728559232,
          -0.1530268360484573,
          0.9831775188487099,
          -0.5267924542187926,
          -0.4053089572688673,
          -0.051938708052279375,
          0.45703909564713263,
          0.2642433727428654,
          0.5251885395153827,
          -0.0744890981195537,
          0.20179472075573884,
          -0.24260442894883943,
          -0.7655468244843483,
          -0.25466269286703574,
          1.3274099884767236,
          -1.8920515553120267,
          0.10540569529487552,
          1.0160601421792685,
          1.0480390651944593,
          -1.2983474014888645,
          -0.5118493322462478,
          -0.6211629820763115,
          -0.7131189561305936,
          -1.5519881153245678,
          0.3588037520991031,
          -0.7401347991919084,
          0.5898932362401884,
          0.6230541842326577,
          0.1469808884715823,
          -1.4909432837564347,
          0.16216809925339512,
          -0.24679042370819276,
          -0.30396064222875,
          1.064430955755844,
          0.3820227711156056,
          -1.9545417907404197,
          -0.8840834393902629,
          -0.8514764988023206,
          0.4516710603713084,
          -0.9713569710562179
         ],
         "xaxis": "x10",
         "y": [
          -0.5325002392797077,
          1.2107826144635394,
          -0.12581857596195073,
          -1.065685346460432,
          1.6219974824957573,
          -0.932800678811066,
          -0.21316481203726712,
          0.763681120902737,
          1.098664206498667,
          0.36009215649075343,
          -0.664219816308787,
          0.07577184065638896,
          0.3031687581058567,
          0.6606870603906189,
          -0.5961486242453862,
          0.11231630657312325,
          0.7691043610978897,
          -0.3081123223215197,
          0.19559556136046366,
          1.4374690002280184,
          -0.8153210756978526,
          0.6813563452246516,
          -1.6382804382128886,
          0.08817865962915074,
          0.20261471758722485,
          -1.5184096422482465,
          -1.4305530017112984,
          -0.6953963924991731,
          -0.43994601001709965,
          0.22937454005128888,
          0.1447963167297178,
          1.4358227971455064,
          -0.7190175116891817,
          -0.31304105941454047,
          0.287214494791865,
          -1.3864896792827985,
          0.01238435443261473,
          -0.968968169580906,
          0.6757773935989444,
          0.28438830723664055,
          1.3939662961596828,
          0.848053334072673,
          -0.05146628439166784,
          0.13180154178313105,
          2.756987407554678,
          0.46855564383907744,
          1.0594874292830787,
          0.5036613275770189,
          1.647513334058284,
          -1.443885741626302,
          1.3359587953778,
          -0.5455285003845146,
          -0.461732199765846,
          -1.8435212714640112,
          0.4538100646615445,
          -0.72191357965643,
          -0.24374954965398982,
          -1.0252134615790376,
          -0.5165437210671675,
          -0.33161543392197307,
          -0.7431465286961032,
          -2.210006319910014,
          -0.46724628052367445,
          0.14586509253773433,
          0.14969459570682003,
          0.4191904426785085,
          -1.1344968632281076,
          0.10571054282160242,
          -0.7589371530008178,
          -1.0542016454475767,
          -1.0753202072880828,
          -1.664851074939344,
          -1.6675055030541586,
          -0.2331187171751215,
          2.4126159312201527,
          0.7389659801077011,
          0.3826710404007888,
          0.5817057566608924,
          0.9574718358569249,
          -2.0985324423193594,
          0.31289459728961866,
          2.5381461963041967,
          -1.1164237044150571,
          -0.0457752960357565,
          -1.2102654227507113,
          0.6626735232923587,
          -0.9294259573544665,
          -1.2753086464635068,
          0.19150764250023283,
          0.7682688889700511,
          1.5038416312088143,
          -0.41447058970720374,
          1.0473552330836675,
          1.6884234732045154,
          0.9931508514200323,
          -0.34211968075641724,
          -1.1649591956662277,
          0.8319726133234473,
          -1.343902562095212,
          -0.2943244448144205
         ],
         "yaxis": "y10"
        },
        {
         "histfunc": "count",
         "histnorm": "",
         "marker": {
          "color": "rgba(50, 171, 96, 1.0)",
          "line": {
           "color": "#4D5663",
           "width": 1.3
          }
         },
         "name": "C",
         "nbinsx": 10,
         "opacity": 0.8,
         "orientation": "v",
         "type": "histogram",
         "x": [
          -0.5325002392797077,
          1.2107826144635394,
          -0.12581857596195073,
          -1.065685346460432,
          1.6219974824957573,
          -0.932800678811066,
          -0.21316481203726712,
          0.763681120902737,
          1.098664206498667,
          0.36009215649075343,
          -0.664219816308787,
          0.07577184065638896,
          0.3031687581058567,
          0.6606870603906189,
          -0.5961486242453862,
          0.11231630657312325,
          0.7691043610978897,
          -0.3081123223215197,
          0.19559556136046366,
          1.4374690002280184,
          -0.8153210756978526,
          0.6813563452246516,
          -1.6382804382128886,
          0.08817865962915074,
          0.20261471758722485,
          -1.5184096422482465,
          -1.4305530017112984,
          -0.6953963924991731,
          -0.43994601001709965,
          0.22937454005128888,
          0.1447963167297178,
          1.4358227971455064,
          -0.7190175116891817,
          -0.31304105941454047,
          0.287214494791865,
          -1.3864896792827985,
          0.01238435443261473,
          -0.968968169580906,
          0.6757773935989444,
          0.28438830723664055,
          1.3939662961596828,
          0.848053334072673,
          -0.05146628439166784,
          0.13180154178313105,
          2.756987407554678,
          0.46855564383907744,
          1.0594874292830787,
          0.5036613275770189,
          1.647513334058284,
          -1.443885741626302,
          1.3359587953778,
          -0.5455285003845146,
          -0.461732199765846,
          -1.8435212714640112,
          0.4538100646615445,
          -0.72191357965643,
          -0.24374954965398982,
          -1.0252134615790376,
          -0.5165437210671675,
          -0.33161543392197307,
          -0.7431465286961032,
          -2.210006319910014,
          -0.46724628052367445,
          0.14586509253773433,
          0.14969459570682003,
          0.4191904426785085,
          -1.1344968632281076,
          0.10571054282160242,
          -0.7589371530008178,
          -1.0542016454475767,
          -1.0753202072880828,
          -1.664851074939344,
          -1.6675055030541586,
          -0.2331187171751215,
          2.4126159312201527,
          0.7389659801077011,
          0.3826710404007888,
          0.5817057566608924,
          0.9574718358569249,
          -2.0985324423193594,
          0.31289459728961866,
          2.5381461963041967,
          -1.1164237044150571,
          -0.0457752960357565,
          -1.2102654227507113,
          0.6626735232923587,
          -0.9294259573544665,
          -1.2753086464635068,
          0.19150764250023283,
          0.7682688889700511,
          1.5038416312088143,
          -0.41447058970720374,
          1.0473552330836675,
          1.6884234732045154,
          0.9931508514200323,
          -0.34211968075641724,
          -1.1649591956662277,
          0.8319726133234473,
          -1.343902562095212,
          -0.2943244448144205
         ],
         "xaxis": "x11",
         "yaxis": "y11"
        },
        {
         "line": {
          "color": "rgba(128, 128, 128, 1.0)",
          "dash": "solid",
          "shape": "linear",
          "width": 1.3
         },
         "marker": {
          "size": 2,
          "symbol": "circle"
         },
         "mode": "markers",
         "name": "C",
         "text": "",
         "type": "scatter",
         "x": [
          -0.006679552459379296,
          0.07331242355470725,
          1.1083884810155544,
          -1.6565627117319746,
          1.9950862907185352,
          0.6454822575914453,
          -0.5329751906162492,
          0.08565999414797083,
          0.09036665290178467,
          0.7872452416416569,
          -0.11434170196201493,
          -1.121478936932661,
          1.1096696474770031,
          0.6516962960220379,
          0.30660602120926544,
          -0.7168392297450519,
          -0.7439065941431607,
          0.6615739709752352,
          0.6006997037973186,
          -0.6050611084460127,
          -0.5461260559653208,
          0.1424476018858292,
          -1.197176194136547,
          0.7877118711253404,
          -0.9714740266118284,
          0.7826606579329373,
          -1.1031652966404037,
          2.526889128554002,
          0.16190821155043775,
          0.23198501547302153,
          0.5640839786071568,
          -0.05016580642898075,
          -0.839410702329791,
          0.6050009318003485,
          -0.16029812562208612,
          1.406749582890268,
          -1.1054758672020175,
          -1.6119739180168078,
          0.10650295060254338,
          -2.405341139304213,
          -2.0421508646956816,
          -0.17350186796334538,
          0.9550293720956177,
          0.5477902853481688,
          0.5110778167745683,
          0.4722265299045946,
          1.5591630904039082,
          -0.9349337381021855,
          -0.5781747934802014,
          -1.4900496859060852,
          -1.3269327490502971,
          -1.5196913887016652,
          0.7246955385086876,
          0.3215005164422762,
          0.809400883045086,
          0.993649246025548,
          -0.6955478957649657,
          1.0991610580672215,
          0.7345554855186507,
          -0.3571925359950002,
          -1.885546923965419,
          0.36401272919883904,
          -0.16631902212605246,
          0.9779545406612402,
          0.7916705430955936,
          -0.12323039622039979,
          -0.15362030195387819,
          0.44797085347129084,
          0.8600083255740223,
          0.011826753737175896,
          0.809330990870958,
          -0.08388961558555602,
          0.011880834268739489,
          -1.663441440748334,
          -0.7993871903375428,
          1.076778701611559,
          -1.523272232833216,
          -0.10932247028663548,
          -0.5434321979726251,
          1.201096443987189,
          1.3161182808886254,
          0.5866559935034882,
          1.0748730161017475,
          -0.07604231452114252,
          -1.2254109513661653,
          -0.12882814874212412,
          -0.19471729771257273,
          0.6853427202832655,
          0.5741302146848836,
          0.6827993122440889,
          -0.8541546185222085,
          -0.4468302326950383,
          0.08934065712537255,
          1.4300258601533677,
          -0.28710963690331254,
          0.7304348651351046,
          0.9692019063696952,
          -0.6545210429290489,
          -0.5954381851103395,
          -0.3189286182100561
         ],
         "xaxis": "x12",
         "y": [
          -0.5325002392797077,
          1.2107826144635394,
          -0.12581857596195073,
          -1.065685346460432,
          1.6219974824957573,
          -0.932800678811066,
          -0.21316481203726712,
          0.763681120902737,
          1.098664206498667,
          0.36009215649075343,
          -0.664219816308787,
          0.07577184065638896,
          0.3031687581058567,
          0.6606870603906189,
          -0.5961486242453862,
          0.11231630657312325,
          0.7691043610978897,
          -0.3081123223215197,
          0.19559556136046366,
          1.4374690002280184,
          -0.8153210756978526,
          0.6813563452246516,
          -1.6382804382128886,
          0.08817865962915074,
          0.20261471758722485,
          -1.5184096422482465,
          -1.4305530017112984,
          -0.6953963924991731,
          -0.43994601001709965,
          0.22937454005128888,
          0.1447963167297178,
          1.4358227971455064,
          -0.7190175116891817,
          -0.31304105941454047,
          0.287214494791865,
          -1.3864896792827985,
          0.01238435443261473,
          -0.968968169580906,
          0.6757773935989444,
          0.28438830723664055,
          1.3939662961596828,
          0.848053334072673,
          -0.05146628439166784,
          0.13180154178313105,
          2.756987407554678,
          0.46855564383907744,
          1.0594874292830787,
          0.5036613275770189,
          1.647513334058284,
          -1.443885741626302,
          1.3359587953778,
          -0.5455285003845146,
          -0.461732199765846,
          -1.8435212714640112,
          0.4538100646615445,
          -0.72191357965643,
          -0.24374954965398982,
          -1.0252134615790376,
          -0.5165437210671675,
          -0.33161543392197307,
          -0.7431465286961032,
          -2.210006319910014,
          -0.46724628052367445,
          0.14586509253773433,
          0.14969459570682003,
          0.4191904426785085,
          -1.1344968632281076,
          0.10571054282160242,
          -0.7589371530008178,
          -1.0542016454475767,
          -1.0753202072880828,
          -1.664851074939344,
          -1.6675055030541586,
          -0.2331187171751215,
          2.4126159312201527,
          0.7389659801077011,
          0.3826710404007888,
          0.5817057566608924,
          0.9574718358569249,
          -2.0985324423193594,
          0.31289459728961866,
          2.5381461963041967,
          -1.1164237044150571,
          -0.0457752960357565,
          -1.2102654227507113,
          0.6626735232923587,
          -0.9294259573544665,
          -1.2753086464635068,
          0.19150764250023283,
          0.7682688889700511,
          1.5038416312088143,
          -0.41447058970720374,
          1.0473552330836675,
          1.6884234732045154,
          0.9931508514200323,
          -0.34211968075641724,
          -1.1649591956662277,
          0.8319726133234473,
          -1.343902562095212,
          -0.2943244448144205
         ],
         "yaxis": "y12"
        },
        {
         "line": {
          "color": "rgba(128, 128, 128, 1.0)",
          "dash": "solid",
          "shape": "linear",
          "width": 1.3
         },
         "marker": {
          "size": 2,
          "symbol": "circle"
         },
         "mode": "markers",
         "name": "D",
         "text": "",
         "type": "scatter",
         "x": [
          -0.30202016863775033,
          -0.28564555846571377,
          0.4476704948481836,
          -0.7162322499431878,
          -1.1752084454356209,
          0.037922946952660096,
          -0.4784580310902896,
          -0.8127219470868241,
          -0.2015463810609984,
          -1.2477309120841387,
          0.33416595599237875,
          -0.3925825214642993,
          0.8483162327766754,
          1.4017593159498198,
          -0.24447542578970963,
          0.3268425653949366,
          0.7896328968946461,
          0.05003230055379049,
          0.8713596231470593,
          -0.36768247294659173,
          1.456695935256,
          0.09086717022177927,
          0.8308289690395506,
          0.4570302705052343,
          1.641725152630206,
          -0.34337193630447227,
          -0.6899548045806325,
          -1.4989669498743878,
          -0.4990655862049401,
          -1.2763195565688894,
          -0.5841927721605572,
          -0.6531615312082533,
          -1.544688058823571,
          1.241823683012709,
          0.36670402575200034,
          0.36785862000313696,
          -0.4251916229702931,
          -1.1424611416885133,
          0.11744918233688426,
          -0.2943921274727523,
          -0.2630411797495611,
          1.1189450591825083,
          0.6771083217387999,
          -2.1007251081507516,
          -1.469901874723165,
          0.5804195589513341,
          -0.26050512490234284,
          2.2362929227372725,
          0.5190194687909312,
          -0.008163118768048035,
          -0.6611054621616541,
          1.36957273498277,
          0.57208163756899,
          0.12460374641094915,
          0.8356395402758129,
          -0.8335550054425519,
          -0.8946566144284955,
          -0.10099356338826994,
          0.04425297346768268,
          2.217770067273319,
          0.03522119302500431,
          -1.9869202369288799,
          -1.2508613408788938,
          0.09279898228614562,
          0.38692351076168063,
          -0.026236237411354904,
          -1.491069699311706,
          0.8294659536906288,
          0.6136776593807836,
          -0.8154202979633771,
          0.6293335815887414,
          -1.0923772889015413,
          0.7386223240270853,
          -0.68737966371764,
          -0.6422680828562675,
          0.7998127045023482,
          0.9217752449620659,
          0.04459918763480434,
          -0.445947653484942,
          -0.3773323373724564,
          0.4050137890893175,
          0.19591076972454038,
          -0.3532570369973499,
          -0.19817408743935175,
          -0.311181936508081,
          -0.5692973337611296,
          1.2737066010007103,
          0.33310651006183967,
          2.343367044548086,
          -0.4488947193251729,
          0.16005691450387768,
          -0.5608031062151607,
          -0.2592370006186431,
          -0.7117502976304382,
          -0.5122229220026929,
          0.9231576330805437,
          1.108977825338648,
          0.05946369407947916,
          -0.5664014911796487,
          0.5891591881972967
         ],
         "xaxis": "x13",
         "y": [
          -0.006679552459379296,
          0.07331242355470725,
          1.1083884810155544,
          -1.6565627117319746,
          1.9950862907185352,
          0.6454822575914453,
          -0.5329751906162492,
          0.08565999414797083,
          0.09036665290178467,
          0.7872452416416569,
          -0.11434170196201493,
          -1.121478936932661,
          1.1096696474770031,
          0.6516962960220379,
          0.30660602120926544,
          -0.7168392297450519,
          -0.7439065941431607,
          0.6615739709752352,
          0.6006997037973186,
          -0.6050611084460127,
          -0.5461260559653208,
          0.1424476018858292,
          -1.197176194136547,
          0.7877118711253404,
          -0.9714740266118284,
          0.7826606579329373,
          -1.1031652966404037,
          2.526889128554002,
          0.16190821155043775,
          0.23198501547302153,
          0.5640839786071568,
          -0.05016580642898075,
          -0.839410702329791,
          0.6050009318003485,
          -0.16029812562208612,
          1.406749582890268,
          -1.1054758672020175,
          -1.6119739180168078,
          0.10650295060254338,
          -2.405341139304213,
          -2.0421508646956816,
          -0.17350186796334538,
          0.9550293720956177,
          0.5477902853481688,
          0.5110778167745683,
          0.4722265299045946,
          1.5591630904039082,
          -0.9349337381021855,
          -0.5781747934802014,
          -1.4900496859060852,
          -1.3269327490502971,
          -1.5196913887016652,
          0.7246955385086876,
          0.3215005164422762,
          0.809400883045086,
          0.993649246025548,
          -0.6955478957649657,
          1.0991610580672215,
          0.7345554855186507,
          -0.3571925359950002,
          -1.885546923965419,
          0.36401272919883904,
          -0.16631902212605246,
          0.9779545406612402,
          0.7916705430955936,
          -0.12323039622039979,
          -0.15362030195387819,
          0.44797085347129084,
          0.8600083255740223,
          0.011826753737175896,
          0.809330990870958,
          -0.08388961558555602,
          0.011880834268739489,
          -1.663441440748334,
          -0.7993871903375428,
          1.076778701611559,
          -1.523272232833216,
          -0.10932247028663548,
          -0.5434321979726251,
          1.201096443987189,
          1.3161182808886254,
          0.5866559935034882,
          1.0748730161017475,
          -0.07604231452114252,
          -1.2254109513661653,
          -0.12882814874212412,
          -0.19471729771257273,
          0.6853427202832655,
          0.5741302146848836,
          0.6827993122440889,
          -0.8541546185222085,
          -0.4468302326950383,
          0.08934065712537255,
          1.4300258601533677,
          -0.28710963690331254,
          0.7304348651351046,
          0.9692019063696952,
          -0.6545210429290489,
          -0.5954381851103395,
          -0.3189286182100561
         ],
         "yaxis": "y13"
        },
        {
         "line": {
          "color": "rgba(128, 128, 128, 1.0)",
          "dash": "solid",
          "shape": "linear",
          "width": 1.3
         },
         "marker": {
          "size": 2,
          "symbol": "circle"
         },
         "mode": "markers",
         "name": "D",
         "text": "",
         "type": "scatter",
         "x": [
          -0.8488668044204304,
          0.0829347754880924,
          0.5024352835101774,
          -1.555223408984092,
          -1.7161100299123155,
          0.13905529392350072,
          0.4697605231701461,
          -0.2067026939520887,
          -1.1575550785607536,
          1.0197452265500921,
          1.1202487101150227,
          1.5954620391368428,
          -0.4375092399621281,
          -0.47581549224960684,
          1.1853669230476602,
          -0.7970090865687269,
          -0.217834734307552,
          -0.9266855311136963,
          0.6925149520732994,
          -0.14063441315709707,
          1.3397844385147475,
          -0.1413885447509737,
          -0.3341614782625514,
          -1.0331617312485522,
          0.24434025389131428,
          1.5085738205782122,
          0.10463564901176917,
          -1.0951203549391761,
          -0.27409678695725026,
          0.420532769222361,
          0.44161004868931125,
          1.243251467420042,
          2.014541632056787,
          0.0005947858539945759,
          1.2239989488374874,
          -0.3249945539545311,
          0.11473621845710603,
          1.1583020744108352,
          0.33306800250962726,
          0.6084733116468805,
          0.2736092321470979,
          -1.5679830656702087,
          -0.06928753093902698,
          0.526425209767373,
          -0.01545031249896855,
          -0.2570800949369005,
          -0.4691911947167141,
          0.3670764942533598,
          0.9329487179609518,
          0.2795889554620296,
          -0.7792859324560443,
          1.320870561157038,
          -0.9628173239459669,
          1.0288747348344904,
          -0.31456248623952465,
          1.179250469511076,
          0.03272168521154292,
          -0.07204583648761341,
          1.1921789942533836,
          1.25019068010553,
          -0.03188346728559232,
          -0.1530268360484573,
          0.9831775188487099,
          -0.5267924542187926,
          -0.4053089572688673,
          -0.051938708052279375,
          0.45703909564713263,
          0.2642433727428654,
          0.5251885395153827,
          -0.0744890981195537,
          0.20179472075573884,
          -0.24260442894883943,
          -0.7655468244843483,
          -0.25466269286703574,
          1.3274099884767236,
          -1.8920515553120267,
          0.10540569529487552,
          1.0160601421792685,
          1.0480390651944593,
          -1.2983474014888645,
          -0.5118493322462478,
          -0.6211629820763115,
          -0.7131189561305936,
          -1.5519881153245678,
          0.3588037520991031,
          -0.7401347991919084,
          0.5898932362401884,
          0.6230541842326577,
          0.1469808884715823,
          -1.4909432837564347,
          0.16216809925339512,
          -0.24679042370819276,
          -0.30396064222875,
          1.064430955755844,
          0.3820227711156056,
          -1.9545417907404197,
          -0.8840834393902629,
          -0.8514764988023206,
          0.4516710603713084,
          -0.9713569710562179
         ],
         "xaxis": "x14",
         "y": [
          -0.006679552459379296,
          0.07331242355470725,
          1.1083884810155544,
          -1.6565627117319746,
          1.9950862907185352,
          0.6454822575914453,
          -0.5329751906162492,
          0.08565999414797083,
          0.09036665290178467,
          0.7872452416416569,
          -0.11434170196201493,
          -1.121478936932661,
          1.1096696474770031,
          0.6516962960220379,
          0.30660602120926544,
          -0.7168392297450519,
          -0.7439065941431607,
          0.6615739709752352,
          0.6006997037973186,
          -0.6050611084460127,
          -0.5461260559653208,
          0.1424476018858292,
          -1.197176194136547,
          0.7877118711253404,
          -0.9714740266118284,
          0.7826606579329373,
          -1.1031652966404037,
          2.526889128554002,
          0.16190821155043775,
          0.23198501547302153,
          0.5640839786071568,
          -0.05016580642898075,
          -0.839410702329791,
          0.6050009318003485,
          -0.16029812562208612,
          1.406749582890268,
          -1.1054758672020175,
          -1.6119739180168078,
          0.10650295060254338,
          -2.405341139304213,
          -2.0421508646956816,
          -0.17350186796334538,
          0.9550293720956177,
          0.5477902853481688,
          0.5110778167745683,
          0.4722265299045946,
          1.5591630904039082,
          -0.9349337381021855,
          -0.5781747934802014,
          -1.4900496859060852,
          -1.3269327490502971,
          -1.5196913887016652,
          0.7246955385086876,
          0.3215005164422762,
          0.809400883045086,
          0.993649246025548,
          -0.6955478957649657,
          1.0991610580672215,
          0.7345554855186507,
          -0.3571925359950002,
          -1.885546923965419,
          0.36401272919883904,
          -0.16631902212605246,
          0.9779545406612402,
          0.7916705430955936,
          -0.12323039622039979,
          -0.15362030195387819,
          0.44797085347129084,
          0.8600083255740223,
          0.011826753737175896,
          0.809330990870958,
          -0.08388961558555602,
          0.011880834268739489,
          -1.663441440748334,
          -0.7993871903375428,
          1.076778701611559,
          -1.523272232833216,
          -0.10932247028663548,
          -0.5434321979726251,
          1.201096443987189,
          1.3161182808886254,
          0.5866559935034882,
          1.0748730161017475,
          -0.07604231452114252,
          -1.2254109513661653,
          -0.12882814874212412,
          -0.19471729771257273,
          0.6853427202832655,
          0.5741302146848836,
          0.6827993122440889,
          -0.8541546185222085,
          -0.4468302326950383,
          0.08934065712537255,
          1.4300258601533677,
          -0.28710963690331254,
          0.7304348651351046,
          0.9692019063696952,
          -0.6545210429290489,
          -0.5954381851103395,
          -0.3189286182100561
         ],
         "yaxis": "y14"
        },
        {
         "line": {
          "color": "rgba(128, 128, 128, 1.0)",
          "dash": "solid",
          "shape": "linear",
          "width": 1.3
         },
         "marker": {
          "size": 2,
          "symbol": "circle"
         },
         "mode": "markers",
         "name": "D",
         "text": "",
         "type": "scatter",
         "x": [
          -0.5325002392797077,
          1.2107826144635394,
          -0.12581857596195073,
          -1.065685346460432,
          1.6219974824957573,
          -0.932800678811066,
          -0.21316481203726712,
          0.763681120902737,
          1.098664206498667,
          0.36009215649075343,
          -0.664219816308787,
          0.07577184065638896,
          0.3031687581058567,
          0.6606870603906189,
          -0.5961486242453862,
          0.11231630657312325,
          0.7691043610978897,
          -0.3081123223215197,
          0.19559556136046366,
          1.4374690002280184,
          -0.8153210756978526,
          0.6813563452246516,
          -1.6382804382128886,
          0.08817865962915074,
          0.20261471758722485,
          -1.5184096422482465,
          -1.4305530017112984,
          -0.6953963924991731,
          -0.43994601001709965,
          0.22937454005128888,
          0.1447963167297178,
          1.4358227971455064,
          -0.7190175116891817,
          -0.31304105941454047,
          0.287214494791865,
          -1.3864896792827985,
          0.01238435443261473,
          -0.968968169580906,
          0.6757773935989444,
          0.28438830723664055,
          1.3939662961596828,
          0.848053334072673,
          -0.05146628439166784,
          0.13180154178313105,
          2.756987407554678,
          0.46855564383907744,
          1.0594874292830787,
          0.5036613275770189,
          1.647513334058284,
          -1.443885741626302,
          1.3359587953778,
          -0.5455285003845146,
          -0.461732199765846,
          -1.8435212714640112,
          0.4538100646615445,
          -0.72191357965643,
          -0.24374954965398982,
          -1.0252134615790376,
          -0.5165437210671675,
          -0.33161543392197307,
          -0.7431465286961032,
          -2.210006319910014,
          -0.46724628052367445,
          0.14586509253773433,
          0.14969459570682003,
          0.4191904426785085,
          -1.1344968632281076,
          0.10571054282160242,
          -0.7589371530008178,
          -1.0542016454475767,
          -1.0753202072880828,
          -1.664851074939344,
          -1.6675055030541586,
          -0.2331187171751215,
          2.4126159312201527,
          0.7389659801077011,
          0.3826710404007888,
          0.5817057566608924,
          0.9574718358569249,
          -2.0985324423193594,
          0.31289459728961866,
          2.5381461963041967,
          -1.1164237044150571,
          -0.0457752960357565,
          -1.2102654227507113,
          0.6626735232923587,
          -0.9294259573544665,
          -1.2753086464635068,
          0.19150764250023283,
          0.7682688889700511,
          1.5038416312088143,
          -0.41447058970720374,
          1.0473552330836675,
          1.6884234732045154,
          0.9931508514200323,
          -0.34211968075641724,
          -1.1649591956662277,
          0.8319726133234473,
          -1.343902562095212,
          -0.2943244448144205
         ],
         "xaxis": "x15",
         "y": [
          -0.006679552459379296,
          0.07331242355470725,
          1.1083884810155544,
          -1.6565627117319746,
          1.9950862907185352,
          0.6454822575914453,
          -0.5329751906162492,
          0.08565999414797083,
          0.09036665290178467,
          0.7872452416416569,
          -0.11434170196201493,
          -1.121478936932661,
          1.1096696474770031,
          0.6516962960220379,
          0.30660602120926544,
          -0.7168392297450519,
          -0.7439065941431607,
          0.6615739709752352,
          0.6006997037973186,
          -0.6050611084460127,
          -0.5461260559653208,
          0.1424476018858292,
          -1.197176194136547,
          0.7877118711253404,
          -0.9714740266118284,
          0.7826606579329373,
          -1.1031652966404037,
          2.526889128554002,
          0.16190821155043775,
          0.23198501547302153,
          0.5640839786071568,
          -0.05016580642898075,
          -0.839410702329791,
          0.6050009318003485,
          -0.16029812562208612,
          1.406749582890268,
          -1.1054758672020175,
          -1.6119739180168078,
          0.10650295060254338,
          -2.405341139304213,
          -2.0421508646956816,
          -0.17350186796334538,
          0.9550293720956177,
          0.5477902853481688,
          0.5110778167745683,
          0.4722265299045946,
          1.5591630904039082,
          -0.9349337381021855,
          -0.5781747934802014,
          -1.4900496859060852,
          -1.3269327490502971,
          -1.5196913887016652,
          0.7246955385086876,
          0.3215005164422762,
          0.809400883045086,
          0.993649246025548,
          -0.6955478957649657,
          1.0991610580672215,
          0.7345554855186507,
          -0.3571925359950002,
          -1.885546923965419,
          0.36401272919883904,
          -0.16631902212605246,
          0.9779545406612402,
          0.7916705430955936,
          -0.12323039622039979,
          -0.15362030195387819,
          0.44797085347129084,
          0.8600083255740223,
          0.011826753737175896,
          0.809330990870958,
          -0.08388961558555602,
          0.011880834268739489,
          -1.663441440748334,
          -0.7993871903375428,
          1.076778701611559,
          -1.523272232833216,
          -0.10932247028663548,
          -0.5434321979726251,
          1.201096443987189,
          1.3161182808886254,
          0.5866559935034882,
          1.0748730161017475,
          -0.07604231452114252,
          -1.2254109513661653,
          -0.12882814874212412,
          -0.19471729771257273,
          0.6853427202832655,
          0.5741302146848836,
          0.6827993122440889,
          -0.8541546185222085,
          -0.4468302326950383,
          0.08934065712537255,
          1.4300258601533677,
          -0.28710963690331254,
          0.7304348651351046,
          0.9692019063696952,
          -0.6545210429290489,
          -0.5954381851103395,
          -0.3189286182100561
         ],
         "yaxis": "y15"
        },
        {
         "histfunc": "count",
         "histnorm": "",
         "marker": {
          "color": "rgba(128, 0, 128, 1.0)",
          "line": {
           "color": "#4D5663",
           "width": 1.3
          }
         },
         "name": "D",
         "nbinsx": 10,
         "opacity": 0.8,
         "orientation": "v",
         "type": "histogram",
         "x": [
          -0.006679552459379296,
          0.07331242355470725,
          1.1083884810155544,
          -1.6565627117319746,
          1.9950862907185352,
          0.6454822575914453,
          -0.5329751906162492,
          0.08565999414797083,
          0.09036665290178467,
          0.7872452416416569,
          -0.11434170196201493,
          -1.121478936932661,
          1.1096696474770031,
          0.6516962960220379,
          0.30660602120926544,
          -0.7168392297450519,
          -0.7439065941431607,
          0.6615739709752352,
          0.6006997037973186,
          -0.6050611084460127,
          -0.5461260559653208,
          0.1424476018858292,
          -1.197176194136547,
          0.7877118711253404,
          -0.9714740266118284,
          0.7826606579329373,
          -1.1031652966404037,
          2.526889128554002,
          0.16190821155043775,
          0.23198501547302153,
          0.5640839786071568,
          -0.05016580642898075,
          -0.839410702329791,
          0.6050009318003485,
          -0.16029812562208612,
          1.406749582890268,
          -1.1054758672020175,
          -1.6119739180168078,
          0.10650295060254338,
          -2.405341139304213,
          -2.0421508646956816,
          -0.17350186796334538,
          0.9550293720956177,
          0.5477902853481688,
          0.5110778167745683,
          0.4722265299045946,
          1.5591630904039082,
          -0.9349337381021855,
          -0.5781747934802014,
          -1.4900496859060852,
          -1.3269327490502971,
          -1.5196913887016652,
          0.7246955385086876,
          0.3215005164422762,
          0.809400883045086,
          0.993649246025548,
          -0.6955478957649657,
          1.0991610580672215,
          0.7345554855186507,
          -0.3571925359950002,
          -1.885546923965419,
          0.36401272919883904,
          -0.16631902212605246,
          0.9779545406612402,
          0.7916705430955936,
          -0.12323039622039979,
          -0.15362030195387819,
          0.44797085347129084,
          0.8600083255740223,
          0.011826753737175896,
          0.809330990870958,
          -0.08388961558555602,
          0.011880834268739489,
          -1.663441440748334,
          -0.7993871903375428,
          1.076778701611559,
          -1.523272232833216,
          -0.10932247028663548,
          -0.5434321979726251,
          1.201096443987189,
          1.3161182808886254,
          0.5866559935034882,
          1.0748730161017475,
          -0.07604231452114252,
          -1.2254109513661653,
          -0.12882814874212412,
          -0.19471729771257273,
          0.6853427202832655,
          0.5741302146848836,
          0.6827993122440889,
          -0.8541546185222085,
          -0.4468302326950383,
          0.08934065712537255,
          1.4300258601533677,
          -0.28710963690331254,
          0.7304348651351046,
          0.9692019063696952,
          -0.6545210429290489,
          -0.5954381851103395,
          -0.3189286182100561
         ],
         "xaxis": "x16",
         "yaxis": "y16"
        }
       ],
       "layout": {
        "bargap": 0.02,
        "legend": {
         "bgcolor": "#F5F6F9",
         "font": {
          "color": "#4D5663"
         }
        },
        "paper_bgcolor": "#F5F6F9",
        "plot_bgcolor": "#F5F6F9",
        "showlegend": false,
        "template": {
         "data": {
          "bar": [
           {
            "error_x": {
             "color": "#2a3f5f"
            },
            "error_y": {
             "color": "#2a3f5f"
            },
            "marker": {
             "line": {
              "color": "#E5ECF6",
              "width": 0.5
             }
            },
            "type": "bar"
           }
          ],
          "barpolar": [
           {
            "marker": {
             "line": {
              "color": "#E5ECF6",
              "width": 0.5
             }
            },
            "type": "barpolar"
           }
          ],
          "carpet": [
           {
            "aaxis": {
             "endlinecolor": "#2a3f5f",
             "gridcolor": "white",
             "linecolor": "white",
             "minorgridcolor": "white",
             "startlinecolor": "#2a3f5f"
            },
            "baxis": {
             "endlinecolor": "#2a3f5f",
             "gridcolor": "white",
             "linecolor": "white",
             "minorgridcolor": "white",
             "startlinecolor": "#2a3f5f"
            },
            "type": "carpet"
           }
          ],
          "choropleth": [
           {
            "colorbar": {
             "outlinewidth": 0,
             "ticks": ""
            },
            "type": "choropleth"
           }
          ],
          "contour": [
           {
            "colorbar": {
             "outlinewidth": 0,
             "ticks": ""
            },
            "colorscale": [
             [
              0,
              "#0d0887"
             ],
             [
              0.1111111111111111,
              "#46039f"
             ],
             [
              0.2222222222222222,
              "#7201a8"
             ],
             [
              0.3333333333333333,
              "#9c179e"
             ],
             [
              0.4444444444444444,
              "#bd3786"
             ],
             [
              0.5555555555555556,
              "#d8576b"
             ],
             [
              0.6666666666666666,
              "#ed7953"
             ],
             [
              0.7777777777777778,
              "#fb9f3a"
             ],
             [
              0.8888888888888888,
              "#fdca26"
             ],
             [
              1,
              "#f0f921"
             ]
            ],
            "type": "contour"
           }
          ],
          "contourcarpet": [
           {
            "colorbar": {
             "outlinewidth": 0,
             "ticks": ""
            },
            "type": "contourcarpet"
           }
          ],
          "heatmap": [
           {
            "colorbar": {
             "outlinewidth": 0,
             "ticks": ""
            },
            "colorscale": [
             [
              0,
              "#0d0887"
             ],
             [
              0.1111111111111111,
              "#46039f"
             ],
             [
              0.2222222222222222,
              "#7201a8"
             ],
             [
              0.3333333333333333,
              "#9c179e"
             ],
             [
              0.4444444444444444,
              "#bd3786"
             ],
             [
              0.5555555555555556,
              "#d8576b"
             ],
             [
              0.6666666666666666,
              "#ed7953"
             ],
             [
              0.7777777777777778,
              "#fb9f3a"
             ],
             [
              0.8888888888888888,
              "#fdca26"
             ],
             [
              1,
              "#f0f921"
             ]
            ],
            "type": "heatmap"
           }
          ],
          "heatmapgl": [
           {
            "colorbar": {
             "outlinewidth": 0,
             "ticks": ""
            },
            "colorscale": [
             [
              0,
              "#0d0887"
             ],
             [
              0.1111111111111111,
              "#46039f"
             ],
             [
              0.2222222222222222,
              "#7201a8"
             ],
             [
              0.3333333333333333,
              "#9c179e"
             ],
             [
              0.4444444444444444,
              "#bd3786"
             ],
             [
              0.5555555555555556,
              "#d8576b"
             ],
             [
              0.6666666666666666,
              "#ed7953"
             ],
             [
              0.7777777777777778,
              "#fb9f3a"
             ],
             [
              0.8888888888888888,
              "#fdca26"
             ],
             [
              1,
              "#f0f921"
             ]
            ],
            "type": "heatmapgl"
           }
          ],
          "histogram": [
           {
            "marker": {
             "colorbar": {
              "outlinewidth": 0,
              "ticks": ""
             }
            },
            "type": "histogram"
           }
          ],
          "histogram2d": [
           {
            "colorbar": {
             "outlinewidth": 0,
             "ticks": ""
            },
            "colorscale": [
             [
              0,
              "#0d0887"
             ],
             [
              0.1111111111111111,
              "#46039f"
             ],
             [
              0.2222222222222222,
              "#7201a8"
             ],
             [
              0.3333333333333333,
              "#9c179e"
             ],
             [
              0.4444444444444444,
              "#bd3786"
             ],
             [
              0.5555555555555556,
              "#d8576b"
             ],
             [
              0.6666666666666666,
              "#ed7953"
             ],
             [
              0.7777777777777778,
              "#fb9f3a"
             ],
             [
              0.8888888888888888,
              "#fdca26"
             ],
             [
              1,
              "#f0f921"
             ]
            ],
            "type": "histogram2d"
           }
          ],
          "histogram2dcontour": [
           {
            "colorbar": {
             "outlinewidth": 0,
             "ticks": ""
            },
            "colorscale": [
             [
              0,
              "#0d0887"
             ],
             [
              0.1111111111111111,
              "#46039f"
             ],
             [
              0.2222222222222222,
              "#7201a8"
             ],
             [
              0.3333333333333333,
              "#9c179e"
             ],
             [
              0.4444444444444444,
              "#bd3786"
             ],
             [
              0.5555555555555556,
              "#d8576b"
             ],
             [
              0.6666666666666666,
              "#ed7953"
             ],
             [
              0.7777777777777778,
              "#fb9f3a"
             ],
             [
              0.8888888888888888,
              "#fdca26"
             ],
             [
              1,
              "#f0f921"
             ]
            ],
            "type": "histogram2dcontour"
           }
          ],
          "mesh3d": [
           {
            "colorbar": {
             "outlinewidth": 0,
             "ticks": ""
            },
            "type": "mesh3d"
           }
          ],
          "parcoords": [
           {
            "line": {
             "colorbar": {
              "outlinewidth": 0,
              "ticks": ""
             }
            },
            "type": "parcoords"
           }
          ],
          "pie": [
           {
            "automargin": true,
            "type": "pie"
           }
          ],
          "scatter": [
           {
            "marker": {
             "colorbar": {
              "outlinewidth": 0,
              "ticks": ""
             }
            },
            "type": "scatter"
           }
          ],
          "scatter3d": [
           {
            "line": {
             "colorbar": {
              "outlinewidth": 0,
              "ticks": ""
             }
            },
            "marker": {
             "colorbar": {
              "outlinewidth": 0,
              "ticks": ""
             }
            },
            "type": "scatter3d"
           }
          ],
          "scattercarpet": [
           {
            "marker": {
             "colorbar": {
              "outlinewidth": 0,
              "ticks": ""
             }
            },
            "type": "scattercarpet"
           }
          ],
          "scattergeo": [
           {
            "marker": {
             "colorbar": {
              "outlinewidth": 0,
              "ticks": ""
             }
            },
            "type": "scattergeo"
           }
          ],
          "scattergl": [
           {
            "marker": {
             "colorbar": {
              "outlinewidth": 0,
              "ticks": ""
             }
            },
            "type": "scattergl"
           }
          ],
          "scattermapbox": [
           {
            "marker": {
             "colorbar": {
              "outlinewidth": 0,
              "ticks": ""
             }
            },
            "type": "scattermapbox"
           }
          ],
          "scatterpolar": [
           {
            "marker": {
             "colorbar": {
              "outlinewidth": 0,
              "ticks": ""
             }
            },
            "type": "scatterpolar"
           }
          ],
          "scatterpolargl": [
           {
            "marker": {
             "colorbar": {
              "outlinewidth": 0,
              "ticks": ""
             }
            },
            "type": "scatterpolargl"
           }
          ],
          "scatterternary": [
           {
            "marker": {
             "colorbar": {
              "outlinewidth": 0,
              "ticks": ""
             }
            },
            "type": "scatterternary"
           }
          ],
          "surface": [
           {
            "colorbar": {
             "outlinewidth": 0,
             "ticks": ""
            },
            "colorscale": [
             [
              0,
              "#0d0887"
             ],
             [
              0.1111111111111111,
              "#46039f"
             ],
             [
              0.2222222222222222,
              "#7201a8"
             ],
             [
              0.3333333333333333,
              "#9c179e"
             ],
             [
              0.4444444444444444,
              "#bd3786"
             ],
             [
              0.5555555555555556,
              "#d8576b"
             ],
             [
              0.6666666666666666,
              "#ed7953"
             ],
             [
              0.7777777777777778,
              "#fb9f3a"
             ],
             [
              0.8888888888888888,
              "#fdca26"
             ],
             [
              1,
              "#f0f921"
             ]
            ],
            "type": "surface"
           }
          ],
          "table": [
           {
            "cells": {
             "fill": {
              "color": "#EBF0F8"
             },
             "line": {
              "color": "white"
             }
            },
            "header": {
             "fill": {
              "color": "#C8D4E3"
             },
             "line": {
              "color": "white"
             }
            },
            "type": "table"
           }
          ]
         },
         "layout": {
          "annotationdefaults": {
           "arrowcolor": "#2a3f5f",
           "arrowhead": 0,
           "arrowwidth": 1
          },
          "coloraxis": {
           "colorbar": {
            "outlinewidth": 0,
            "ticks": ""
           }
          },
          "colorscale": {
           "diverging": [
            [
             0,
             "#8e0152"
            ],
            [
             0.1,
             "#c51b7d"
            ],
            [
             0.2,
             "#de77ae"
            ],
            [
             0.3,
             "#f1b6da"
            ],
            [
             0.4,
             "#fde0ef"
            ],
            [
             0.5,
             "#f7f7f7"
            ],
            [
             0.6,
             "#e6f5d0"
            ],
            [
             0.7,
             "#b8e186"
            ],
            [
             0.8,
             "#7fbc41"
            ],
            [
             0.9,
             "#4d9221"
            ],
            [
             1,
             "#276419"
            ]
           ],
           "sequential": [
            [
             0,
             "#0d0887"
            ],
            [
             0.1111111111111111,
             "#46039f"
            ],
            [
             0.2222222222222222,
             "#7201a8"
            ],
            [
             0.3333333333333333,
             "#9c179e"
            ],
            [
             0.4444444444444444,
             "#bd3786"
            ],
            [
             0.5555555555555556,
             "#d8576b"
            ],
            [
             0.6666666666666666,
             "#ed7953"
            ],
            [
             0.7777777777777778,
             "#fb9f3a"
            ],
            [
             0.8888888888888888,
             "#fdca26"
            ],
            [
             1,
             "#f0f921"
            ]
           ],
           "sequentialminus": [
            [
             0,
             "#0d0887"
            ],
            [
             0.1111111111111111,
             "#46039f"
            ],
            [
             0.2222222222222222,
             "#7201a8"
            ],
            [
             0.3333333333333333,
             "#9c179e"
            ],
            [
             0.4444444444444444,
             "#bd3786"
            ],
            [
             0.5555555555555556,
             "#d8576b"
            ],
            [
             0.6666666666666666,
             "#ed7953"
            ],
            [
             0.7777777777777778,
             "#fb9f3a"
            ],
            [
             0.8888888888888888,
             "#fdca26"
            ],
            [
             1,
             "#f0f921"
            ]
           ]
          },
          "colorway": [
           "#636efa",
           "#EF553B",
           "#00cc96",
           "#ab63fa",
           "#FFA15A",
           "#19d3f3",
           "#FF6692",
           "#B6E880",
           "#FF97FF",
           "#FECB52"
          ],
          "font": {
           "color": "#2a3f5f"
          },
          "geo": {
           "bgcolor": "white",
           "lakecolor": "white",
           "landcolor": "#E5ECF6",
           "showlakes": true,
           "showland": true,
           "subunitcolor": "white"
          },
          "hoverlabel": {
           "align": "left"
          },
          "hovermode": "closest",
          "mapbox": {
           "style": "light"
          },
          "paper_bgcolor": "white",
          "plot_bgcolor": "#E5ECF6",
          "polar": {
           "angularaxis": {
            "gridcolor": "white",
            "linecolor": "white",
            "ticks": ""
           },
           "bgcolor": "#E5ECF6",
           "radialaxis": {
            "gridcolor": "white",
            "linecolor": "white",
            "ticks": ""
           }
          },
          "scene": {
           "xaxis": {
            "backgroundcolor": "#E5ECF6",
            "gridcolor": "white",
            "gridwidth": 2,
            "linecolor": "white",
            "showbackground": true,
            "ticks": "",
            "zerolinecolor": "white"
           },
           "yaxis": {
            "backgroundcolor": "#E5ECF6",
            "gridcolor": "white",
            "gridwidth": 2,
            "linecolor": "white",
            "showbackground": true,
            "ticks": "",
            "zerolinecolor": "white"
           },
           "zaxis": {
            "backgroundcolor": "#E5ECF6",
            "gridcolor": "white",
            "gridwidth": 2,
            "linecolor": "white",
            "showbackground": true,
            "ticks": "",
            "zerolinecolor": "white"
           }
          },
          "shapedefaults": {
           "line": {
            "color": "#2a3f5f"
           }
          },
          "ternary": {
           "aaxis": {
            "gridcolor": "white",
            "linecolor": "white",
            "ticks": ""
           },
           "baxis": {
            "gridcolor": "white",
            "linecolor": "white",
            "ticks": ""
           },
           "bgcolor": "#E5ECF6",
           "caxis": {
            "gridcolor": "white",
            "linecolor": "white",
            "ticks": ""
           }
          },
          "title": {
           "x": 0.05
          },
          "xaxis": {
           "automargin": true,
           "gridcolor": "white",
           "linecolor": "white",
           "ticks": "",
           "title": {
            "standoff": 15
           },
           "zerolinecolor": "white",
           "zerolinewidth": 2
          },
          "yaxis": {
           "automargin": true,
           "gridcolor": "white",
           "linecolor": "white",
           "ticks": "",
           "title": {
            "standoff": 15
           },
           "zerolinecolor": "white",
           "zerolinewidth": 2
          }
         }
        },
        "title": {
         "font": {
          "color": "#4D5663"
         }
        },
        "xaxis": {
         "anchor": "y",
         "domain": [
          0,
          0.2125
         ],
         "gridcolor": "#E1E5ED",
         "showgrid": false,
         "tickfont": {
          "color": "#4D5663"
         },
         "title": {
          "font": {
           "color": "#4D5663"
          },
          "text": ""
         },
         "zerolinecolor": "#E1E5ED"
        },
        "xaxis10": {
         "anchor": "y10",
         "domain": [
          0.2625,
          0.475
         ],
         "gridcolor": "#E1E5ED",
         "showgrid": false,
         "tickfont": {
          "color": "#4D5663"
         },
         "title": {
          "font": {
           "color": "#4D5663"
          },
          "text": ""
         },
         "zerolinecolor": "#E1E5ED"
        },
        "xaxis11": {
         "anchor": "y11",
         "domain": [
          0.525,
          0.7375
         ],
         "gridcolor": "#E1E5ED",
         "showgrid": false,
         "tickfont": {
          "color": "#4D5663"
         },
         "title": {
          "font": {
           "color": "#4D5663"
          },
          "text": ""
         },
         "zerolinecolor": "#E1E5ED"
        },
        "xaxis12": {
         "anchor": "y12",
         "domain": [
          0.7875,
          1
         ],
         "gridcolor": "#E1E5ED",
         "showgrid": false,
         "tickfont": {
          "color": "#4D5663"
         },
         "title": {
          "font": {
           "color": "#4D5663"
          },
          "text": ""
         },
         "zerolinecolor": "#E1E5ED"
        },
        "xaxis13": {
         "anchor": "y13",
         "domain": [
          0,
          0.2125
         ],
         "gridcolor": "#E1E5ED",
         "showgrid": false,
         "tickfont": {
          "color": "#4D5663"
         },
         "title": {
          "font": {
           "color": "#4D5663"
          },
          "text": ""
         },
         "zerolinecolor": "#E1E5ED"
        },
        "xaxis14": {
         "anchor": "y14",
         "domain": [
          0.2625,
          0.475
         ],
         "gridcolor": "#E1E5ED",
         "showgrid": false,
         "tickfont": {
          "color": "#4D5663"
         },
         "title": {
          "font": {
           "color": "#4D5663"
          },
          "text": ""
         },
         "zerolinecolor": "#E1E5ED"
        },
        "xaxis15": {
         "anchor": "y15",
         "domain": [
          0.525,
          0.7375
         ],
         "gridcolor": "#E1E5ED",
         "showgrid": false,
         "tickfont": {
          "color": "#4D5663"
         },
         "title": {
          "font": {
           "color": "#4D5663"
          },
          "text": ""
         },
         "zerolinecolor": "#E1E5ED"
        },
        "xaxis16": {
         "anchor": "y16",
         "domain": [
          0.7875,
          1
         ],
         "gridcolor": "#E1E5ED",
         "showgrid": false,
         "tickfont": {
          "color": "#4D5663"
         },
         "title": {
          "font": {
           "color": "#4D5663"
          },
          "text": ""
         },
         "zerolinecolor": "#E1E5ED"
        },
        "xaxis2": {
         "anchor": "y2",
         "domain": [
          0.2625,
          0.475
         ],
         "gridcolor": "#E1E5ED",
         "showgrid": false,
         "tickfont": {
          "color": "#4D5663"
         },
         "title": {
          "font": {
           "color": "#4D5663"
          },
          "text": ""
         },
         "zerolinecolor": "#E1E5ED"
        },
        "xaxis3": {
         "anchor": "y3",
         "domain": [
          0.525,
          0.7375
         ],
         "gridcolor": "#E1E5ED",
         "showgrid": false,
         "tickfont": {
          "color": "#4D5663"
         },
         "title": {
          "font": {
           "color": "#4D5663"
          },
          "text": ""
         },
         "zerolinecolor": "#E1E5ED"
        },
        "xaxis4": {
         "anchor": "y4",
         "domain": [
          0.7875,
          1
         ],
         "gridcolor": "#E1E5ED",
         "showgrid": false,
         "tickfont": {
          "color": "#4D5663"
         },
         "title": {
          "font": {
           "color": "#4D5663"
          },
          "text": ""
         },
         "zerolinecolor": "#E1E5ED"
        },
        "xaxis5": {
         "anchor": "y5",
         "domain": [
          0,
          0.2125
         ],
         "gridcolor": "#E1E5ED",
         "showgrid": false,
         "tickfont": {
          "color": "#4D5663"
         },
         "title": {
          "font": {
           "color": "#4D5663"
          },
          "text": ""
         },
         "zerolinecolor": "#E1E5ED"
        },
        "xaxis6": {
         "anchor": "y6",
         "domain": [
          0.2625,
          0.475
         ],
         "gridcolor": "#E1E5ED",
         "showgrid": false,
         "tickfont": {
          "color": "#4D5663"
         },
         "title": {
          "font": {
           "color": "#4D5663"
          },
          "text": ""
         },
         "zerolinecolor": "#E1E5ED"
        },
        "xaxis7": {
         "anchor": "y7",
         "domain": [
          0.525,
          0.7375
         ],
         "gridcolor": "#E1E5ED",
         "showgrid": false,
         "tickfont": {
          "color": "#4D5663"
         },
         "title": {
          "font": {
           "color": "#4D5663"
          },
          "text": ""
         },
         "zerolinecolor": "#E1E5ED"
        },
        "xaxis8": {
         "anchor": "y8",
         "domain": [
          0.7875,
          1
         ],
         "gridcolor": "#E1E5ED",
         "showgrid": false,
         "tickfont": {
          "color": "#4D5663"
         },
         "title": {
          "font": {
           "color": "#4D5663"
          },
          "text": ""
         },
         "zerolinecolor": "#E1E5ED"
        },
        "xaxis9": {
         "anchor": "y9",
         "domain": [
          0,
          0.2125
         ],
         "gridcolor": "#E1E5ED",
         "showgrid": false,
         "tickfont": {
          "color": "#4D5663"
         },
         "title": {
          "font": {
           "color": "#4D5663"
          },
          "text": ""
         },
         "zerolinecolor": "#E1E5ED"
        },
        "yaxis": {
         "anchor": "x",
         "domain": [
          0.8025,
          1
         ],
         "gridcolor": "#E1E5ED",
         "showgrid": false,
         "tickfont": {
          "color": "#4D5663"
         },
         "title": {
          "font": {
           "color": "#4D5663"
          },
          "text": ""
         },
         "zerolinecolor": "#E1E5ED"
        },
        "yaxis10": {
         "anchor": "x10",
         "domain": [
          0.2675,
          0.465
         ],
         "gridcolor": "#E1E5ED",
         "showgrid": false,
         "tickfont": {
          "color": "#4D5663"
         },
         "title": {
          "font": {
           "color": "#4D5663"
          },
          "text": ""
         },
         "zerolinecolor": "#E1E5ED"
        },
        "yaxis11": {
         "anchor": "x11",
         "domain": [
          0.2675,
          0.465
         ],
         "gridcolor": "#E1E5ED",
         "showgrid": false,
         "tickfont": {
          "color": "#4D5663"
         },
         "title": {
          "font": {
           "color": "#4D5663"
          },
          "text": ""
         },
         "zerolinecolor": "#E1E5ED"
        },
        "yaxis12": {
         "anchor": "x12",
         "domain": [
          0.2675,
          0.465
         ],
         "gridcolor": "#E1E5ED",
         "showgrid": false,
         "tickfont": {
          "color": "#4D5663"
         },
         "title": {
          "font": {
           "color": "#4D5663"
          },
          "text": ""
         },
         "zerolinecolor": "#E1E5ED"
        },
        "yaxis13": {
         "anchor": "x13",
         "domain": [
          0,
          0.1975
         ],
         "gridcolor": "#E1E5ED",
         "showgrid": false,
         "tickfont": {
          "color": "#4D5663"
         },
         "title": {
          "font": {
           "color": "#4D5663"
          },
          "text": ""
         },
         "zerolinecolor": "#E1E5ED"
        },
        "yaxis14": {
         "anchor": "x14",
         "domain": [
          0,
          0.1975
         ],
         "gridcolor": "#E1E5ED",
         "showgrid": false,
         "tickfont": {
          "color": "#4D5663"
         },
         "title": {
          "font": {
           "color": "#4D5663"
          },
          "text": ""
         },
         "zerolinecolor": "#E1E5ED"
        },
        "yaxis15": {
         "anchor": "x15",
         "domain": [
          0,
          0.1975
         ],
         "gridcolor": "#E1E5ED",
         "showgrid": false,
         "tickfont": {
          "color": "#4D5663"
         },
         "title": {
          "font": {
           "color": "#4D5663"
          },
          "text": ""
         },
         "zerolinecolor": "#E1E5ED"
        },
        "yaxis16": {
         "anchor": "x16",
         "domain": [
          0,
          0.1975
         ],
         "gridcolor": "#E1E5ED",
         "showgrid": false,
         "tickfont": {
          "color": "#4D5663"
         },
         "title": {
          "font": {
           "color": "#4D5663"
          },
          "text": ""
         },
         "zerolinecolor": "#E1E5ED"
        },
        "yaxis2": {
         "anchor": "x2",
         "domain": [
          0.8025,
          1
         ],
         "gridcolor": "#E1E5ED",
         "showgrid": false,
         "tickfont": {
          "color": "#4D5663"
         },
         "title": {
          "font": {
           "color": "#4D5663"
          },
          "text": ""
         },
         "zerolinecolor": "#E1E5ED"
        },
        "yaxis3": {
         "anchor": "x3",
         "domain": [
          0.8025,
          1
         ],
         "gridcolor": "#E1E5ED",
         "showgrid": false,
         "tickfont": {
          "color": "#4D5663"
         },
         "title": {
          "font": {
           "color": "#4D5663"
          },
          "text": ""
         },
         "zerolinecolor": "#E1E5ED"
        },
        "yaxis4": {
         "anchor": "x4",
         "domain": [
          0.8025,
          1
         ],
         "gridcolor": "#E1E5ED",
         "showgrid": false,
         "tickfont": {
          "color": "#4D5663"
         },
         "title": {
          "font": {
           "color": "#4D5663"
          },
          "text": ""
         },
         "zerolinecolor": "#E1E5ED"
        },
        "yaxis5": {
         "anchor": "x5",
         "domain": [
          0.535,
          0.7325
         ],
         "gridcolor": "#E1E5ED",
         "showgrid": false,
         "tickfont": {
          "color": "#4D5663"
         },
         "title": {
          "font": {
           "color": "#4D5663"
          },
          "text": ""
         },
         "zerolinecolor": "#E1E5ED"
        },
        "yaxis6": {
         "anchor": "x6",
         "domain": [
          0.535,
          0.7325
         ],
         "gridcolor": "#E1E5ED",
         "showgrid": false,
         "tickfont": {
          "color": "#4D5663"
         },
         "title": {
          "font": {
           "color": "#4D5663"
          },
          "text": ""
         },
         "zerolinecolor": "#E1E5ED"
        },
        "yaxis7": {
         "anchor": "x7",
         "domain": [
          0.535,
          0.7325
         ],
         "gridcolor": "#E1E5ED",
         "showgrid": false,
         "tickfont": {
          "color": "#4D5663"
         },
         "title": {
          "font": {
           "color": "#4D5663"
          },
          "text": ""
         },
         "zerolinecolor": "#E1E5ED"
        },
        "yaxis8": {
         "anchor": "x8",
         "domain": [
          0.535,
          0.7325
         ],
         "gridcolor": "#E1E5ED",
         "showgrid": false,
         "tickfont": {
          "color": "#4D5663"
         },
         "title": {
          "font": {
           "color": "#4D5663"
          },
          "text": ""
         },
         "zerolinecolor": "#E1E5ED"
        },
        "yaxis9": {
         "anchor": "x9",
         "domain": [
          0.2675,
          0.465
         ],
         "gridcolor": "#E1E5ED",
         "showgrid": false,
         "tickfont": {
          "color": "#4D5663"
         },
         "title": {
          "font": {
           "color": "#4D5663"
          },
          "text": ""
         },
         "zerolinecolor": "#E1E5ED"
        }
       }
      },
      "text/html": [
       "<div>                            <div id=\"5b9a9394-4fb1-47d1-b802-a8a385451747\" class=\"plotly-graph-div\" style=\"height:525px; width:100%;\"></div>            <script type=\"text/javascript\">                require([\"plotly\"], function(Plotly) {                    window.PLOTLYENV=window.PLOTLYENV || {};\n",
       "                    window.PLOTLYENV.BASE_URL='https://plot.ly';                                    if (document.getElementById(\"5b9a9394-4fb1-47d1-b802-a8a385451747\")) {                    Plotly.newPlot(                        \"5b9a9394-4fb1-47d1-b802-a8a385451747\",                        [{\"histfunc\": \"count\", \"histnorm\": \"\", \"marker\": {\"color\": \"rgba(255, 153, 51, 1.0)\", \"line\": {\"color\": \"#4D5663\", \"width\": 1.3}}, \"name\": \"A\", \"nbinsx\": 10, \"opacity\": 0.8, \"orientation\": \"v\", \"type\": \"histogram\", \"x\": [-0.30202016863775033, -0.28564555846571377, 0.4476704948481836, -0.7162322499431878, -1.1752084454356209, 0.037922946952660096, -0.4784580310902896, -0.8127219470868241, -0.2015463810609984, -1.2477309120841387, 0.33416595599237875, -0.3925825214642993, 0.8483162327766754, 1.4017593159498198, -0.24447542578970963, 0.3268425653949366, 0.7896328968946461, 0.05003230055379049, 0.8713596231470593, -0.36768247294659173, 1.456695935256, 0.09086717022177927, 0.8308289690395506, 0.4570302705052343, 1.641725152630206, -0.34337193630447227, -0.6899548045806325, -1.4989669498743878, -0.4990655862049401, -1.2763195565688894, -0.5841927721605572, -0.6531615312082533, -1.544688058823571, 1.241823683012709, 0.36670402575200034, 0.36785862000313696, -0.4251916229702931, -1.1424611416885133, 0.11744918233688426, -0.2943921274727523, -0.2630411797495611, 1.1189450591825083, 0.6771083217387999, -2.1007251081507516, -1.469901874723165, 0.5804195589513341, -0.26050512490234284, 2.2362929227372725, 0.5190194687909312, -0.008163118768048035, -0.6611054621616541, 1.36957273498277, 0.57208163756899, 0.12460374641094915, 0.8356395402758129, -0.8335550054425519, -0.8946566144284955, -0.10099356338826994, 0.04425297346768268, 2.217770067273319, 0.03522119302500431, -1.9869202369288799, -1.2508613408788938, 0.09279898228614562, 0.38692351076168063, -0.026236237411354904, -1.491069699311706, 0.8294659536906288, 0.6136776593807836, -0.8154202979633771, 0.6293335815887414, -1.0923772889015413, 0.7386223240270853, -0.68737966371764, -0.6422680828562675, 0.7998127045023482, 0.9217752449620659, 0.04459918763480434, -0.445947653484942, -0.3773323373724564, 0.4050137890893175, 0.19591076972454038, -0.3532570369973499, -0.19817408743935175, -0.311181936508081, -0.5692973337611296, 1.2737066010007103, 0.33310651006183967, 2.343367044548086, -0.4488947193251729, 0.16005691450387768, -0.5608031062151607, -0.2592370006186431, -0.7117502976304382, -0.5122229220026929, 0.9231576330805437, 1.108977825338648, 0.05946369407947916, -0.5664014911796487, 0.5891591881972967], \"xaxis\": \"x\", \"yaxis\": \"y\"}, {\"line\": {\"color\": \"rgba(128, 128, 128, 1.0)\", \"dash\": \"solid\", \"shape\": \"linear\", \"width\": 1.3}, \"marker\": {\"size\": 2, \"symbol\": \"circle\"}, \"mode\": \"markers\", \"name\": \"A\", \"text\": \"\", \"type\": \"scatter\", \"x\": [-0.8488668044204304, 0.0829347754880924, 0.5024352835101774, -1.555223408984092, -1.7161100299123155, 0.13905529392350072, 0.4697605231701461, -0.2067026939520887, -1.1575550785607536, 1.0197452265500921, 1.1202487101150227, 1.5954620391368428, -0.4375092399621281, -0.47581549224960684, 1.1853669230476602, -0.7970090865687269, -0.217834734307552, -0.9266855311136963, 0.6925149520732994, -0.14063441315709707, 1.3397844385147475, -0.1413885447509737, -0.3341614782625514, -1.0331617312485522, 0.24434025389131428, 1.5085738205782122, 0.10463564901176917, -1.0951203549391761, -0.27409678695725026, 0.420532769222361, 0.44161004868931125, 1.243251467420042, 2.014541632056787, 0.0005947858539945759, 1.2239989488374874, -0.3249945539545311, 0.11473621845710603, 1.1583020744108352, 0.33306800250962726, 0.6084733116468805, 0.2736092321470979, -1.5679830656702087, -0.06928753093902698, 0.526425209767373, -0.01545031249896855, -0.2570800949369005, -0.4691911947167141, 0.3670764942533598, 0.9329487179609518, 0.2795889554620296, -0.7792859324560443, 1.320870561157038, -0.9628173239459669, 1.0288747348344904, -0.31456248623952465, 1.179250469511076, 0.03272168521154292, -0.07204583648761341, 1.1921789942533836, 1.25019068010553, -0.03188346728559232, -0.1530268360484573, 0.9831775188487099, -0.5267924542187926, -0.4053089572688673, -0.051938708052279375, 0.45703909564713263, 0.2642433727428654, 0.5251885395153827, -0.0744890981195537, 0.20179472075573884, -0.24260442894883943, -0.7655468244843483, -0.25466269286703574, 1.3274099884767236, -1.8920515553120267, 0.10540569529487552, 1.0160601421792685, 1.0480390651944593, -1.2983474014888645, -0.5118493322462478, -0.6211629820763115, -0.7131189561305936, -1.5519881153245678, 0.3588037520991031, -0.7401347991919084, 0.5898932362401884, 0.6230541842326577, 0.1469808884715823, -1.4909432837564347, 0.16216809925339512, -0.24679042370819276, -0.30396064222875, 1.064430955755844, 0.3820227711156056, -1.9545417907404197, -0.8840834393902629, -0.8514764988023206, 0.4516710603713084, -0.9713569710562179], \"xaxis\": \"x2\", \"y\": [-0.30202016863775033, -0.28564555846571377, 0.4476704948481836, -0.7162322499431878, -1.1752084454356209, 0.037922946952660096, -0.4784580310902896, -0.8127219470868241, -0.2015463810609984, -1.2477309120841387, 0.33416595599237875, -0.3925825214642993, 0.8483162327766754, 1.4017593159498198, -0.24447542578970963, 0.3268425653949366, 0.7896328968946461, 0.05003230055379049, 0.8713596231470593, -0.36768247294659173, 1.456695935256, 0.09086717022177927, 0.8308289690395506, 0.4570302705052343, 1.641725152630206, -0.34337193630447227, -0.6899548045806325, -1.4989669498743878, -0.4990655862049401, -1.2763195565688894, -0.5841927721605572, -0.6531615312082533, -1.544688058823571, 1.241823683012709, 0.36670402575200034, 0.36785862000313696, -0.4251916229702931, -1.1424611416885133, 0.11744918233688426, -0.2943921274727523, -0.2630411797495611, 1.1189450591825083, 0.6771083217387999, -2.1007251081507516, -1.469901874723165, 0.5804195589513341, -0.26050512490234284, 2.2362929227372725, 0.5190194687909312, -0.008163118768048035, -0.6611054621616541, 1.36957273498277, 0.57208163756899, 0.12460374641094915, 0.8356395402758129, -0.8335550054425519, -0.8946566144284955, -0.10099356338826994, 0.04425297346768268, 2.217770067273319, 0.03522119302500431, -1.9869202369288799, -1.2508613408788938, 0.09279898228614562, 0.38692351076168063, -0.026236237411354904, -1.491069699311706, 0.8294659536906288, 0.6136776593807836, -0.8154202979633771, 0.6293335815887414, -1.0923772889015413, 0.7386223240270853, -0.68737966371764, -0.6422680828562675, 0.7998127045023482, 0.9217752449620659, 0.04459918763480434, -0.445947653484942, -0.3773323373724564, 0.4050137890893175, 0.19591076972454038, -0.3532570369973499, -0.19817408743935175, -0.311181936508081, -0.5692973337611296, 1.2737066010007103, 0.33310651006183967, 2.343367044548086, -0.4488947193251729, 0.16005691450387768, -0.5608031062151607, -0.2592370006186431, -0.7117502976304382, -0.5122229220026929, 0.9231576330805437, 1.108977825338648, 0.05946369407947916, -0.5664014911796487, 0.5891591881972967], \"yaxis\": \"y2\"}, {\"line\": {\"color\": \"rgba(128, 128, 128, 1.0)\", \"dash\": \"solid\", \"shape\": \"linear\", \"width\": 1.3}, \"marker\": {\"size\": 2, \"symbol\": \"circle\"}, \"mode\": \"markers\", \"name\": \"A\", \"text\": \"\", \"type\": \"scatter\", \"x\": [-0.5325002392797077, 1.2107826144635394, -0.12581857596195073, -1.065685346460432, 1.6219974824957573, -0.932800678811066, -0.21316481203726712, 0.763681120902737, 1.098664206498667, 0.36009215649075343, -0.664219816308787, 0.07577184065638896, 0.3031687581058567, 0.6606870603906189, -0.5961486242453862, 0.11231630657312325, 0.7691043610978897, -0.3081123223215197, 0.19559556136046366, 1.4374690002280184, -0.8153210756978526, 0.6813563452246516, -1.6382804382128886, 0.08817865962915074, 0.20261471758722485, -1.5184096422482465, -1.4305530017112984, -0.6953963924991731, -0.43994601001709965, 0.22937454005128888, 0.1447963167297178, 1.4358227971455064, -0.7190175116891817, -0.31304105941454047, 0.287214494791865, -1.3864896792827985, 0.01238435443261473, -0.968968169580906, 0.6757773935989444, 0.28438830723664055, 1.3939662961596828, 0.848053334072673, -0.05146628439166784, 0.13180154178313105, 2.756987407554678, 0.46855564383907744, 1.0594874292830787, 0.5036613275770189, 1.647513334058284, -1.443885741626302, 1.3359587953778, -0.5455285003845146, -0.461732199765846, -1.8435212714640112, 0.4538100646615445, -0.72191357965643, -0.24374954965398982, -1.0252134615790376, -0.5165437210671675, -0.33161543392197307, -0.7431465286961032, -2.210006319910014, -0.46724628052367445, 0.14586509253773433, 0.14969459570682003, 0.4191904426785085, -1.1344968632281076, 0.10571054282160242, -0.7589371530008178, -1.0542016454475767, -1.0753202072880828, -1.664851074939344, -1.6675055030541586, -0.2331187171751215, 2.4126159312201527, 0.7389659801077011, 0.3826710404007888, 0.5817057566608924, 0.9574718358569249, -2.0985324423193594, 0.31289459728961866, 2.5381461963041967, -1.1164237044150571, -0.0457752960357565, -1.2102654227507113, 0.6626735232923587, -0.9294259573544665, -1.2753086464635068, 0.19150764250023283, 0.7682688889700511, 1.5038416312088143, -0.41447058970720374, 1.0473552330836675, 1.6884234732045154, 0.9931508514200323, -0.34211968075641724, -1.1649591956662277, 0.8319726133234473, -1.343902562095212, -0.2943244448144205], \"xaxis\": \"x3\", \"y\": [-0.30202016863775033, -0.28564555846571377, 0.4476704948481836, -0.7162322499431878, -1.1752084454356209, 0.037922946952660096, -0.4784580310902896, -0.8127219470868241, -0.2015463810609984, -1.2477309120841387, 0.33416595599237875, -0.3925825214642993, 0.8483162327766754, 1.4017593159498198, -0.24447542578970963, 0.3268425653949366, 0.7896328968946461, 0.05003230055379049, 0.8713596231470593, -0.36768247294659173, 1.456695935256, 0.09086717022177927, 0.8308289690395506, 0.4570302705052343, 1.641725152630206, -0.34337193630447227, -0.6899548045806325, -1.4989669498743878, -0.4990655862049401, -1.2763195565688894, -0.5841927721605572, -0.6531615312082533, -1.544688058823571, 1.241823683012709, 0.36670402575200034, 0.36785862000313696, -0.4251916229702931, -1.1424611416885133, 0.11744918233688426, -0.2943921274727523, -0.2630411797495611, 1.1189450591825083, 0.6771083217387999, -2.1007251081507516, -1.469901874723165, 0.5804195589513341, -0.26050512490234284, 2.2362929227372725, 0.5190194687909312, -0.008163118768048035, -0.6611054621616541, 1.36957273498277, 0.57208163756899, 0.12460374641094915, 0.8356395402758129, -0.8335550054425519, -0.8946566144284955, -0.10099356338826994, 0.04425297346768268, 2.217770067273319, 0.03522119302500431, -1.9869202369288799, -1.2508613408788938, 0.09279898228614562, 0.38692351076168063, -0.026236237411354904, -1.491069699311706, 0.8294659536906288, 0.6136776593807836, -0.8154202979633771, 0.6293335815887414, -1.0923772889015413, 0.7386223240270853, -0.68737966371764, -0.6422680828562675, 0.7998127045023482, 0.9217752449620659, 0.04459918763480434, -0.445947653484942, -0.3773323373724564, 0.4050137890893175, 0.19591076972454038, -0.3532570369973499, -0.19817408743935175, -0.311181936508081, -0.5692973337611296, 1.2737066010007103, 0.33310651006183967, 2.343367044548086, -0.4488947193251729, 0.16005691450387768, -0.5608031062151607, -0.2592370006186431, -0.7117502976304382, -0.5122229220026929, 0.9231576330805437, 1.108977825338648, 0.05946369407947916, -0.5664014911796487, 0.5891591881972967], \"yaxis\": \"y3\"}, {\"line\": {\"color\": \"rgba(128, 128, 128, 1.0)\", \"dash\": \"solid\", \"shape\": \"linear\", \"width\": 1.3}, \"marker\": {\"size\": 2, \"symbol\": \"circle\"}, \"mode\": \"markers\", \"name\": \"A\", \"text\": \"\", \"type\": \"scatter\", \"x\": [-0.006679552459379296, 0.07331242355470725, 1.1083884810155544, -1.6565627117319746, 1.9950862907185352, 0.6454822575914453, -0.5329751906162492, 0.08565999414797083, 0.09036665290178467, 0.7872452416416569, -0.11434170196201493, -1.121478936932661, 1.1096696474770031, 0.6516962960220379, 0.30660602120926544, -0.7168392297450519, -0.7439065941431607, 0.6615739709752352, 0.6006997037973186, -0.6050611084460127, -0.5461260559653208, 0.1424476018858292, -1.197176194136547, 0.7877118711253404, -0.9714740266118284, 0.7826606579329373, -1.1031652966404037, 2.526889128554002, 0.16190821155043775, 0.23198501547302153, 0.5640839786071568, -0.05016580642898075, -0.839410702329791, 0.6050009318003485, -0.16029812562208612, 1.406749582890268, -1.1054758672020175, -1.6119739180168078, 0.10650295060254338, -2.405341139304213, -2.0421508646956816, -0.17350186796334538, 0.9550293720956177, 0.5477902853481688, 0.5110778167745683, 0.4722265299045946, 1.5591630904039082, -0.9349337381021855, -0.5781747934802014, -1.4900496859060852, -1.3269327490502971, -1.5196913887016652, 0.7246955385086876, 0.3215005164422762, 0.809400883045086, 0.993649246025548, -0.6955478957649657, 1.0991610580672215, 0.7345554855186507, -0.3571925359950002, -1.885546923965419, 0.36401272919883904, -0.16631902212605246, 0.9779545406612402, 0.7916705430955936, -0.12323039622039979, -0.15362030195387819, 0.44797085347129084, 0.8600083255740223, 0.011826753737175896, 0.809330990870958, -0.08388961558555602, 0.011880834268739489, -1.663441440748334, -0.7993871903375428, 1.076778701611559, -1.523272232833216, -0.10932247028663548, -0.5434321979726251, 1.201096443987189, 1.3161182808886254, 0.5866559935034882, 1.0748730161017475, -0.07604231452114252, -1.2254109513661653, -0.12882814874212412, -0.19471729771257273, 0.6853427202832655, 0.5741302146848836, 0.6827993122440889, -0.8541546185222085, -0.4468302326950383, 0.08934065712537255, 1.4300258601533677, -0.28710963690331254, 0.7304348651351046, 0.9692019063696952, -0.6545210429290489, -0.5954381851103395, -0.3189286182100561], \"xaxis\": \"x4\", \"y\": [-0.30202016863775033, -0.28564555846571377, 0.4476704948481836, -0.7162322499431878, -1.1752084454356209, 0.037922946952660096, -0.4784580310902896, -0.8127219470868241, -0.2015463810609984, -1.2477309120841387, 0.33416595599237875, -0.3925825214642993, 0.8483162327766754, 1.4017593159498198, -0.24447542578970963, 0.3268425653949366, 0.7896328968946461, 0.05003230055379049, 0.8713596231470593, -0.36768247294659173, 1.456695935256, 0.09086717022177927, 0.8308289690395506, 0.4570302705052343, 1.641725152630206, -0.34337193630447227, -0.6899548045806325, -1.4989669498743878, -0.4990655862049401, -1.2763195565688894, -0.5841927721605572, -0.6531615312082533, -1.544688058823571, 1.241823683012709, 0.36670402575200034, 0.36785862000313696, -0.4251916229702931, -1.1424611416885133, 0.11744918233688426, -0.2943921274727523, -0.2630411797495611, 1.1189450591825083, 0.6771083217387999, -2.1007251081507516, -1.469901874723165, 0.5804195589513341, -0.26050512490234284, 2.2362929227372725, 0.5190194687909312, -0.008163118768048035, -0.6611054621616541, 1.36957273498277, 0.57208163756899, 0.12460374641094915, 0.8356395402758129, -0.8335550054425519, -0.8946566144284955, -0.10099356338826994, 0.04425297346768268, 2.217770067273319, 0.03522119302500431, -1.9869202369288799, -1.2508613408788938, 0.09279898228614562, 0.38692351076168063, -0.026236237411354904, -1.491069699311706, 0.8294659536906288, 0.6136776593807836, -0.8154202979633771, 0.6293335815887414, -1.0923772889015413, 0.7386223240270853, -0.68737966371764, -0.6422680828562675, 0.7998127045023482, 0.9217752449620659, 0.04459918763480434, -0.445947653484942, -0.3773323373724564, 0.4050137890893175, 0.19591076972454038, -0.3532570369973499, -0.19817408743935175, -0.311181936508081, -0.5692973337611296, 1.2737066010007103, 0.33310651006183967, 2.343367044548086, -0.4488947193251729, 0.16005691450387768, -0.5608031062151607, -0.2592370006186431, -0.7117502976304382, -0.5122229220026929, 0.9231576330805437, 1.108977825338648, 0.05946369407947916, -0.5664014911796487, 0.5891591881972967], \"yaxis\": \"y4\"}, {\"line\": {\"color\": \"rgba(128, 128, 128, 1.0)\", \"dash\": \"solid\", \"shape\": \"linear\", \"width\": 1.3}, \"marker\": {\"size\": 2, \"symbol\": \"circle\"}, \"mode\": \"markers\", \"name\": \"B\", \"text\": \"\", \"type\": \"scatter\", \"x\": [-0.30202016863775033, -0.28564555846571377, 0.4476704948481836, -0.7162322499431878, -1.1752084454356209, 0.037922946952660096, -0.4784580310902896, -0.8127219470868241, -0.2015463810609984, -1.2477309120841387, 0.33416595599237875, -0.3925825214642993, 0.8483162327766754, 1.4017593159498198, -0.24447542578970963, 0.3268425653949366, 0.7896328968946461, 0.05003230055379049, 0.8713596231470593, -0.36768247294659173, 1.456695935256, 0.09086717022177927, 0.8308289690395506, 0.4570302705052343, 1.641725152630206, -0.34337193630447227, -0.6899548045806325, -1.4989669498743878, -0.4990655862049401, -1.2763195565688894, -0.5841927721605572, -0.6531615312082533, -1.544688058823571, 1.241823683012709, 0.36670402575200034, 0.36785862000313696, -0.4251916229702931, -1.1424611416885133, 0.11744918233688426, -0.2943921274727523, -0.2630411797495611, 1.1189450591825083, 0.6771083217387999, -2.1007251081507516, -1.469901874723165, 0.5804195589513341, -0.26050512490234284, 2.2362929227372725, 0.5190194687909312, -0.008163118768048035, -0.6611054621616541, 1.36957273498277, 0.57208163756899, 0.12460374641094915, 0.8356395402758129, -0.8335550054425519, -0.8946566144284955, -0.10099356338826994, 0.04425297346768268, 2.217770067273319, 0.03522119302500431, -1.9869202369288799, -1.2508613408788938, 0.09279898228614562, 0.38692351076168063, -0.026236237411354904, -1.491069699311706, 0.8294659536906288, 0.6136776593807836, -0.8154202979633771, 0.6293335815887414, -1.0923772889015413, 0.7386223240270853, -0.68737966371764, -0.6422680828562675, 0.7998127045023482, 0.9217752449620659, 0.04459918763480434, -0.445947653484942, -0.3773323373724564, 0.4050137890893175, 0.19591076972454038, -0.3532570369973499, -0.19817408743935175, -0.311181936508081, -0.5692973337611296, 1.2737066010007103, 0.33310651006183967, 2.343367044548086, -0.4488947193251729, 0.16005691450387768, -0.5608031062151607, -0.2592370006186431, -0.7117502976304382, -0.5122229220026929, 0.9231576330805437, 1.108977825338648, 0.05946369407947916, -0.5664014911796487, 0.5891591881972967], \"xaxis\": \"x5\", \"y\": [-0.8488668044204304, 0.0829347754880924, 0.5024352835101774, -1.555223408984092, -1.7161100299123155, 0.13905529392350072, 0.4697605231701461, -0.2067026939520887, -1.1575550785607536, 1.0197452265500921, 1.1202487101150227, 1.5954620391368428, -0.4375092399621281, -0.47581549224960684, 1.1853669230476602, -0.7970090865687269, -0.217834734307552, -0.9266855311136963, 0.6925149520732994, -0.14063441315709707, 1.3397844385147475, -0.1413885447509737, -0.3341614782625514, -1.0331617312485522, 0.24434025389131428, 1.5085738205782122, 0.10463564901176917, -1.0951203549391761, -0.27409678695725026, 0.420532769222361, 0.44161004868931125, 1.243251467420042, 2.014541632056787, 0.0005947858539945759, 1.2239989488374874, -0.3249945539545311, 0.11473621845710603, 1.1583020744108352, 0.33306800250962726, 0.6084733116468805, 0.2736092321470979, -1.5679830656702087, -0.06928753093902698, 0.526425209767373, -0.01545031249896855, -0.2570800949369005, -0.4691911947167141, 0.3670764942533598, 0.9329487179609518, 0.2795889554620296, -0.7792859324560443, 1.320870561157038, -0.9628173239459669, 1.0288747348344904, -0.31456248623952465, 1.179250469511076, 0.03272168521154292, -0.07204583648761341, 1.1921789942533836, 1.25019068010553, -0.03188346728559232, -0.1530268360484573, 0.9831775188487099, -0.5267924542187926, -0.4053089572688673, -0.051938708052279375, 0.45703909564713263, 0.2642433727428654, 0.5251885395153827, -0.0744890981195537, 0.20179472075573884, -0.24260442894883943, -0.7655468244843483, -0.25466269286703574, 1.3274099884767236, -1.8920515553120267, 0.10540569529487552, 1.0160601421792685, 1.0480390651944593, -1.2983474014888645, -0.5118493322462478, -0.6211629820763115, -0.7131189561305936, -1.5519881153245678, 0.3588037520991031, -0.7401347991919084, 0.5898932362401884, 0.6230541842326577, 0.1469808884715823, -1.4909432837564347, 0.16216809925339512, -0.24679042370819276, -0.30396064222875, 1.064430955755844, 0.3820227711156056, -1.9545417907404197, -0.8840834393902629, -0.8514764988023206, 0.4516710603713084, -0.9713569710562179], \"yaxis\": \"y5\"}, {\"histfunc\": \"count\", \"histnorm\": \"\", \"marker\": {\"color\": \"rgba(55, 128, 191, 1.0)\", \"line\": {\"color\": \"#4D5663\", \"width\": 1.3}}, \"name\": \"B\", \"nbinsx\": 10, \"opacity\": 0.8, \"orientation\": \"v\", \"type\": \"histogram\", \"x\": [-0.8488668044204304, 0.0829347754880924, 0.5024352835101774, -1.555223408984092, -1.7161100299123155, 0.13905529392350072, 0.4697605231701461, -0.2067026939520887, -1.1575550785607536, 1.0197452265500921, 1.1202487101150227, 1.5954620391368428, -0.4375092399621281, -0.47581549224960684, 1.1853669230476602, -0.7970090865687269, -0.217834734307552, -0.9266855311136963, 0.6925149520732994, -0.14063441315709707, 1.3397844385147475, -0.1413885447509737, -0.3341614782625514, -1.0331617312485522, 0.24434025389131428, 1.5085738205782122, 0.10463564901176917, -1.0951203549391761, -0.27409678695725026, 0.420532769222361, 0.44161004868931125, 1.243251467420042, 2.014541632056787, 0.0005947858539945759, 1.2239989488374874, -0.3249945539545311, 0.11473621845710603, 1.1583020744108352, 0.33306800250962726, 0.6084733116468805, 0.2736092321470979, -1.5679830656702087, -0.06928753093902698, 0.526425209767373, -0.01545031249896855, -0.2570800949369005, -0.4691911947167141, 0.3670764942533598, 0.9329487179609518, 0.2795889554620296, -0.7792859324560443, 1.320870561157038, -0.9628173239459669, 1.0288747348344904, -0.31456248623952465, 1.179250469511076, 0.03272168521154292, -0.07204583648761341, 1.1921789942533836, 1.25019068010553, -0.03188346728559232, -0.1530268360484573, 0.9831775188487099, -0.5267924542187926, -0.4053089572688673, -0.051938708052279375, 0.45703909564713263, 0.2642433727428654, 0.5251885395153827, -0.0744890981195537, 0.20179472075573884, -0.24260442894883943, -0.7655468244843483, -0.25466269286703574, 1.3274099884767236, -1.8920515553120267, 0.10540569529487552, 1.0160601421792685, 1.0480390651944593, -1.2983474014888645, -0.5118493322462478, -0.6211629820763115, -0.7131189561305936, -1.5519881153245678, 0.3588037520991031, -0.7401347991919084, 0.5898932362401884, 0.6230541842326577, 0.1469808884715823, -1.4909432837564347, 0.16216809925339512, -0.24679042370819276, -0.30396064222875, 1.064430955755844, 0.3820227711156056, -1.9545417907404197, -0.8840834393902629, -0.8514764988023206, 0.4516710603713084, -0.9713569710562179], \"xaxis\": \"x6\", \"yaxis\": \"y6\"}, {\"line\": {\"color\": \"rgba(128, 128, 128, 1.0)\", \"dash\": \"solid\", \"shape\": \"linear\", \"width\": 1.3}, \"marker\": {\"size\": 2, \"symbol\": \"circle\"}, \"mode\": \"markers\", \"name\": \"B\", \"text\": \"\", \"type\": \"scatter\", \"x\": [-0.5325002392797077, 1.2107826144635394, -0.12581857596195073, -1.065685346460432, 1.6219974824957573, -0.932800678811066, -0.21316481203726712, 0.763681120902737, 1.098664206498667, 0.36009215649075343, -0.664219816308787, 0.07577184065638896, 0.3031687581058567, 0.6606870603906189, -0.5961486242453862, 0.11231630657312325, 0.7691043610978897, -0.3081123223215197, 0.19559556136046366, 1.4374690002280184, -0.8153210756978526, 0.6813563452246516, -1.6382804382128886, 0.08817865962915074, 0.20261471758722485, -1.5184096422482465, -1.4305530017112984, -0.6953963924991731, -0.43994601001709965, 0.22937454005128888, 0.1447963167297178, 1.4358227971455064, -0.7190175116891817, -0.31304105941454047, 0.287214494791865, -1.3864896792827985, 0.01238435443261473, -0.968968169580906, 0.6757773935989444, 0.28438830723664055, 1.3939662961596828, 0.848053334072673, -0.05146628439166784, 0.13180154178313105, 2.756987407554678, 0.46855564383907744, 1.0594874292830787, 0.5036613275770189, 1.647513334058284, -1.443885741626302, 1.3359587953778, -0.5455285003845146, -0.461732199765846, -1.8435212714640112, 0.4538100646615445, -0.72191357965643, -0.24374954965398982, -1.0252134615790376, -0.5165437210671675, -0.33161543392197307, -0.7431465286961032, -2.210006319910014, -0.46724628052367445, 0.14586509253773433, 0.14969459570682003, 0.4191904426785085, -1.1344968632281076, 0.10571054282160242, -0.7589371530008178, -1.0542016454475767, -1.0753202072880828, -1.664851074939344, -1.6675055030541586, -0.2331187171751215, 2.4126159312201527, 0.7389659801077011, 0.3826710404007888, 0.5817057566608924, 0.9574718358569249, -2.0985324423193594, 0.31289459728961866, 2.5381461963041967, -1.1164237044150571, -0.0457752960357565, -1.2102654227507113, 0.6626735232923587, -0.9294259573544665, -1.2753086464635068, 0.19150764250023283, 0.7682688889700511, 1.5038416312088143, -0.41447058970720374, 1.0473552330836675, 1.6884234732045154, 0.9931508514200323, -0.34211968075641724, -1.1649591956662277, 0.8319726133234473, -1.343902562095212, -0.2943244448144205], \"xaxis\": \"x7\", \"y\": [-0.8488668044204304, 0.0829347754880924, 0.5024352835101774, -1.555223408984092, -1.7161100299123155, 0.13905529392350072, 0.4697605231701461, -0.2067026939520887, -1.1575550785607536, 1.0197452265500921, 1.1202487101150227, 1.5954620391368428, -0.4375092399621281, -0.47581549224960684, 1.1853669230476602, -0.7970090865687269, -0.217834734307552, -0.9266855311136963, 0.6925149520732994, -0.14063441315709707, 1.3397844385147475, -0.1413885447509737, -0.3341614782625514, -1.0331617312485522, 0.24434025389131428, 1.5085738205782122, 0.10463564901176917, -1.0951203549391761, -0.27409678695725026, 0.420532769222361, 0.44161004868931125, 1.243251467420042, 2.014541632056787, 0.0005947858539945759, 1.2239989488374874, -0.3249945539545311, 0.11473621845710603, 1.1583020744108352, 0.33306800250962726, 0.6084733116468805, 0.2736092321470979, -1.5679830656702087, -0.06928753093902698, 0.526425209767373, -0.01545031249896855, -0.2570800949369005, -0.4691911947167141, 0.3670764942533598, 0.9329487179609518, 0.2795889554620296, -0.7792859324560443, 1.320870561157038, -0.9628173239459669, 1.0288747348344904, -0.31456248623952465, 1.179250469511076, 0.03272168521154292, -0.07204583648761341, 1.1921789942533836, 1.25019068010553, -0.03188346728559232, -0.1530268360484573, 0.9831775188487099, -0.5267924542187926, -0.4053089572688673, -0.051938708052279375, 0.45703909564713263, 0.2642433727428654, 0.5251885395153827, -0.0744890981195537, 0.20179472075573884, -0.24260442894883943, -0.7655468244843483, -0.25466269286703574, 1.3274099884767236, -1.8920515553120267, 0.10540569529487552, 1.0160601421792685, 1.0480390651944593, -1.2983474014888645, -0.5118493322462478, -0.6211629820763115, -0.7131189561305936, -1.5519881153245678, 0.3588037520991031, -0.7401347991919084, 0.5898932362401884, 0.6230541842326577, 0.1469808884715823, -1.4909432837564347, 0.16216809925339512, -0.24679042370819276, -0.30396064222875, 1.064430955755844, 0.3820227711156056, -1.9545417907404197, -0.8840834393902629, -0.8514764988023206, 0.4516710603713084, -0.9713569710562179], \"yaxis\": \"y7\"}, {\"line\": {\"color\": \"rgba(128, 128, 128, 1.0)\", \"dash\": \"solid\", \"shape\": \"linear\", \"width\": 1.3}, \"marker\": {\"size\": 2, \"symbol\": \"circle\"}, \"mode\": \"markers\", \"name\": \"B\", \"text\": \"\", \"type\": \"scatter\", \"x\": [-0.006679552459379296, 0.07331242355470725, 1.1083884810155544, -1.6565627117319746, 1.9950862907185352, 0.6454822575914453, -0.5329751906162492, 0.08565999414797083, 0.09036665290178467, 0.7872452416416569, -0.11434170196201493, -1.121478936932661, 1.1096696474770031, 0.6516962960220379, 0.30660602120926544, -0.7168392297450519, -0.7439065941431607, 0.6615739709752352, 0.6006997037973186, -0.6050611084460127, -0.5461260559653208, 0.1424476018858292, -1.197176194136547, 0.7877118711253404, -0.9714740266118284, 0.7826606579329373, -1.1031652966404037, 2.526889128554002, 0.16190821155043775, 0.23198501547302153, 0.5640839786071568, -0.05016580642898075, -0.839410702329791, 0.6050009318003485, -0.16029812562208612, 1.406749582890268, -1.1054758672020175, -1.6119739180168078, 0.10650295060254338, -2.405341139304213, -2.0421508646956816, -0.17350186796334538, 0.9550293720956177, 0.5477902853481688, 0.5110778167745683, 0.4722265299045946, 1.5591630904039082, -0.9349337381021855, -0.5781747934802014, -1.4900496859060852, -1.3269327490502971, -1.5196913887016652, 0.7246955385086876, 0.3215005164422762, 0.809400883045086, 0.993649246025548, -0.6955478957649657, 1.0991610580672215, 0.7345554855186507, -0.3571925359950002, -1.885546923965419, 0.36401272919883904, -0.16631902212605246, 0.9779545406612402, 0.7916705430955936, -0.12323039622039979, -0.15362030195387819, 0.44797085347129084, 0.8600083255740223, 0.011826753737175896, 0.809330990870958, -0.08388961558555602, 0.011880834268739489, -1.663441440748334, -0.7993871903375428, 1.076778701611559, -1.523272232833216, -0.10932247028663548, -0.5434321979726251, 1.201096443987189, 1.3161182808886254, 0.5866559935034882, 1.0748730161017475, -0.07604231452114252, -1.2254109513661653, -0.12882814874212412, -0.19471729771257273, 0.6853427202832655, 0.5741302146848836, 0.6827993122440889, -0.8541546185222085, -0.4468302326950383, 0.08934065712537255, 1.4300258601533677, -0.28710963690331254, 0.7304348651351046, 0.9692019063696952, -0.6545210429290489, -0.5954381851103395, -0.3189286182100561], \"xaxis\": \"x8\", \"y\": [-0.8488668044204304, 0.0829347754880924, 0.5024352835101774, -1.555223408984092, -1.7161100299123155, 0.13905529392350072, 0.4697605231701461, -0.2067026939520887, -1.1575550785607536, 1.0197452265500921, 1.1202487101150227, 1.5954620391368428, -0.4375092399621281, -0.47581549224960684, 1.1853669230476602, -0.7970090865687269, -0.217834734307552, -0.9266855311136963, 0.6925149520732994, -0.14063441315709707, 1.3397844385147475, -0.1413885447509737, -0.3341614782625514, -1.0331617312485522, 0.24434025389131428, 1.5085738205782122, 0.10463564901176917, -1.0951203549391761, -0.27409678695725026, 0.420532769222361, 0.44161004868931125, 1.243251467420042, 2.014541632056787, 0.0005947858539945759, 1.2239989488374874, -0.3249945539545311, 0.11473621845710603, 1.1583020744108352, 0.33306800250962726, 0.6084733116468805, 0.2736092321470979, -1.5679830656702087, -0.06928753093902698, 0.526425209767373, -0.01545031249896855, -0.2570800949369005, -0.4691911947167141, 0.3670764942533598, 0.9329487179609518, 0.2795889554620296, -0.7792859324560443, 1.320870561157038, -0.9628173239459669, 1.0288747348344904, -0.31456248623952465, 1.179250469511076, 0.03272168521154292, -0.07204583648761341, 1.1921789942533836, 1.25019068010553, -0.03188346728559232, -0.1530268360484573, 0.9831775188487099, -0.5267924542187926, -0.4053089572688673, -0.051938708052279375, 0.45703909564713263, 0.2642433727428654, 0.5251885395153827, -0.0744890981195537, 0.20179472075573884, -0.24260442894883943, -0.7655468244843483, -0.25466269286703574, 1.3274099884767236, -1.8920515553120267, 0.10540569529487552, 1.0160601421792685, 1.0480390651944593, -1.2983474014888645, -0.5118493322462478, -0.6211629820763115, -0.7131189561305936, -1.5519881153245678, 0.3588037520991031, -0.7401347991919084, 0.5898932362401884, 0.6230541842326577, 0.1469808884715823, -1.4909432837564347, 0.16216809925339512, -0.24679042370819276, -0.30396064222875, 1.064430955755844, 0.3820227711156056, -1.9545417907404197, -0.8840834393902629, -0.8514764988023206, 0.4516710603713084, -0.9713569710562179], \"yaxis\": \"y8\"}, {\"line\": {\"color\": \"rgba(128, 128, 128, 1.0)\", \"dash\": \"solid\", \"shape\": \"linear\", \"width\": 1.3}, \"marker\": {\"size\": 2, \"symbol\": \"circle\"}, \"mode\": \"markers\", \"name\": \"C\", \"text\": \"\", \"type\": \"scatter\", \"x\": [-0.30202016863775033, -0.28564555846571377, 0.4476704948481836, -0.7162322499431878, -1.1752084454356209, 0.037922946952660096, -0.4784580310902896, -0.8127219470868241, -0.2015463810609984, -1.2477309120841387, 0.33416595599237875, -0.3925825214642993, 0.8483162327766754, 1.4017593159498198, -0.24447542578970963, 0.3268425653949366, 0.7896328968946461, 0.05003230055379049, 0.8713596231470593, -0.36768247294659173, 1.456695935256, 0.09086717022177927, 0.8308289690395506, 0.4570302705052343, 1.641725152630206, -0.34337193630447227, -0.6899548045806325, -1.4989669498743878, -0.4990655862049401, -1.2763195565688894, -0.5841927721605572, -0.6531615312082533, -1.544688058823571, 1.241823683012709, 0.36670402575200034, 0.36785862000313696, -0.4251916229702931, -1.1424611416885133, 0.11744918233688426, -0.2943921274727523, -0.2630411797495611, 1.1189450591825083, 0.6771083217387999, -2.1007251081507516, -1.469901874723165, 0.5804195589513341, -0.26050512490234284, 2.2362929227372725, 0.5190194687909312, -0.008163118768048035, -0.6611054621616541, 1.36957273498277, 0.57208163756899, 0.12460374641094915, 0.8356395402758129, -0.8335550054425519, -0.8946566144284955, -0.10099356338826994, 0.04425297346768268, 2.217770067273319, 0.03522119302500431, -1.9869202369288799, -1.2508613408788938, 0.09279898228614562, 0.38692351076168063, -0.026236237411354904, -1.491069699311706, 0.8294659536906288, 0.6136776593807836, -0.8154202979633771, 0.6293335815887414, -1.0923772889015413, 0.7386223240270853, -0.68737966371764, -0.6422680828562675, 0.7998127045023482, 0.9217752449620659, 0.04459918763480434, -0.445947653484942, -0.3773323373724564, 0.4050137890893175, 0.19591076972454038, -0.3532570369973499, -0.19817408743935175, -0.311181936508081, -0.5692973337611296, 1.2737066010007103, 0.33310651006183967, 2.343367044548086, -0.4488947193251729, 0.16005691450387768, -0.5608031062151607, -0.2592370006186431, -0.7117502976304382, -0.5122229220026929, 0.9231576330805437, 1.108977825338648, 0.05946369407947916, -0.5664014911796487, 0.5891591881972967], \"xaxis\": \"x9\", \"y\": [-0.5325002392797077, 1.2107826144635394, -0.12581857596195073, -1.065685346460432, 1.6219974824957573, -0.932800678811066, -0.21316481203726712, 0.763681120902737, 1.098664206498667, 0.36009215649075343, -0.664219816308787, 0.07577184065638896, 0.3031687581058567, 0.6606870603906189, -0.5961486242453862, 0.11231630657312325, 0.7691043610978897, -0.3081123223215197, 0.19559556136046366, 1.4374690002280184, -0.8153210756978526, 0.6813563452246516, -1.6382804382128886, 0.08817865962915074, 0.20261471758722485, -1.5184096422482465, -1.4305530017112984, -0.6953963924991731, -0.43994601001709965, 0.22937454005128888, 0.1447963167297178, 1.4358227971455064, -0.7190175116891817, -0.31304105941454047, 0.287214494791865, -1.3864896792827985, 0.01238435443261473, -0.968968169580906, 0.6757773935989444, 0.28438830723664055, 1.3939662961596828, 0.848053334072673, -0.05146628439166784, 0.13180154178313105, 2.756987407554678, 0.46855564383907744, 1.0594874292830787, 0.5036613275770189, 1.647513334058284, -1.443885741626302, 1.3359587953778, -0.5455285003845146, -0.461732199765846, -1.8435212714640112, 0.4538100646615445, -0.72191357965643, -0.24374954965398982, -1.0252134615790376, -0.5165437210671675, -0.33161543392197307, -0.7431465286961032, -2.210006319910014, -0.46724628052367445, 0.14586509253773433, 0.14969459570682003, 0.4191904426785085, -1.1344968632281076, 0.10571054282160242, -0.7589371530008178, -1.0542016454475767, -1.0753202072880828, -1.664851074939344, -1.6675055030541586, -0.2331187171751215, 2.4126159312201527, 0.7389659801077011, 0.3826710404007888, 0.5817057566608924, 0.9574718358569249, -2.0985324423193594, 0.31289459728961866, 2.5381461963041967, -1.1164237044150571, -0.0457752960357565, -1.2102654227507113, 0.6626735232923587, -0.9294259573544665, -1.2753086464635068, 0.19150764250023283, 0.7682688889700511, 1.5038416312088143, -0.41447058970720374, 1.0473552330836675, 1.6884234732045154, 0.9931508514200323, -0.34211968075641724, -1.1649591956662277, 0.8319726133234473, -1.343902562095212, -0.2943244448144205], \"yaxis\": \"y9\"}, {\"line\": {\"color\": \"rgba(128, 128, 128, 1.0)\", \"dash\": \"solid\", \"shape\": \"linear\", \"width\": 1.3}, \"marker\": {\"size\": 2, \"symbol\": \"circle\"}, \"mode\": \"markers\", \"name\": \"C\", \"text\": \"\", \"type\": \"scatter\", \"x\": [-0.8488668044204304, 0.0829347754880924, 0.5024352835101774, -1.555223408984092, -1.7161100299123155, 0.13905529392350072, 0.4697605231701461, -0.2067026939520887, -1.1575550785607536, 1.0197452265500921, 1.1202487101150227, 1.5954620391368428, -0.4375092399621281, -0.47581549224960684, 1.1853669230476602, -0.7970090865687269, -0.217834734307552, -0.9266855311136963, 0.6925149520732994, -0.14063441315709707, 1.3397844385147475, -0.1413885447509737, -0.3341614782625514, -1.0331617312485522, 0.24434025389131428, 1.5085738205782122, 0.10463564901176917, -1.0951203549391761, -0.27409678695725026, 0.420532769222361, 0.44161004868931125, 1.243251467420042, 2.014541632056787, 0.0005947858539945759, 1.2239989488374874, -0.3249945539545311, 0.11473621845710603, 1.1583020744108352, 0.33306800250962726, 0.6084733116468805, 0.2736092321470979, -1.5679830656702087, -0.06928753093902698, 0.526425209767373, -0.01545031249896855, -0.2570800949369005, -0.4691911947167141, 0.3670764942533598, 0.9329487179609518, 0.2795889554620296, -0.7792859324560443, 1.320870561157038, -0.9628173239459669, 1.0288747348344904, -0.31456248623952465, 1.179250469511076, 0.03272168521154292, -0.07204583648761341, 1.1921789942533836, 1.25019068010553, -0.03188346728559232, -0.1530268360484573, 0.9831775188487099, -0.5267924542187926, -0.4053089572688673, -0.051938708052279375, 0.45703909564713263, 0.2642433727428654, 0.5251885395153827, -0.0744890981195537, 0.20179472075573884, -0.24260442894883943, -0.7655468244843483, -0.25466269286703574, 1.3274099884767236, -1.8920515553120267, 0.10540569529487552, 1.0160601421792685, 1.0480390651944593, -1.2983474014888645, -0.5118493322462478, -0.6211629820763115, -0.7131189561305936, -1.5519881153245678, 0.3588037520991031, -0.7401347991919084, 0.5898932362401884, 0.6230541842326577, 0.1469808884715823, -1.4909432837564347, 0.16216809925339512, -0.24679042370819276, -0.30396064222875, 1.064430955755844, 0.3820227711156056, -1.9545417907404197, -0.8840834393902629, -0.8514764988023206, 0.4516710603713084, -0.9713569710562179], \"xaxis\": \"x10\", \"y\": [-0.5325002392797077, 1.2107826144635394, -0.12581857596195073, -1.065685346460432, 1.6219974824957573, -0.932800678811066, -0.21316481203726712, 0.763681120902737, 1.098664206498667, 0.36009215649075343, -0.664219816308787, 0.07577184065638896, 0.3031687581058567, 0.6606870603906189, -0.5961486242453862, 0.11231630657312325, 0.7691043610978897, -0.3081123223215197, 0.19559556136046366, 1.4374690002280184, -0.8153210756978526, 0.6813563452246516, -1.6382804382128886, 0.08817865962915074, 0.20261471758722485, -1.5184096422482465, -1.4305530017112984, -0.6953963924991731, -0.43994601001709965, 0.22937454005128888, 0.1447963167297178, 1.4358227971455064, -0.7190175116891817, -0.31304105941454047, 0.287214494791865, -1.3864896792827985, 0.01238435443261473, -0.968968169580906, 0.6757773935989444, 0.28438830723664055, 1.3939662961596828, 0.848053334072673, -0.05146628439166784, 0.13180154178313105, 2.756987407554678, 0.46855564383907744, 1.0594874292830787, 0.5036613275770189, 1.647513334058284, -1.443885741626302, 1.3359587953778, -0.5455285003845146, -0.461732199765846, -1.8435212714640112, 0.4538100646615445, -0.72191357965643, -0.24374954965398982, -1.0252134615790376, -0.5165437210671675, -0.33161543392197307, -0.7431465286961032, -2.210006319910014, -0.46724628052367445, 0.14586509253773433, 0.14969459570682003, 0.4191904426785085, -1.1344968632281076, 0.10571054282160242, -0.7589371530008178, -1.0542016454475767, -1.0753202072880828, -1.664851074939344, -1.6675055030541586, -0.2331187171751215, 2.4126159312201527, 0.7389659801077011, 0.3826710404007888, 0.5817057566608924, 0.9574718358569249, -2.0985324423193594, 0.31289459728961866, 2.5381461963041967, -1.1164237044150571, -0.0457752960357565, -1.2102654227507113, 0.6626735232923587, -0.9294259573544665, -1.2753086464635068, 0.19150764250023283, 0.7682688889700511, 1.5038416312088143, -0.41447058970720374, 1.0473552330836675, 1.6884234732045154, 0.9931508514200323, -0.34211968075641724, -1.1649591956662277, 0.8319726133234473, -1.343902562095212, -0.2943244448144205], \"yaxis\": \"y10\"}, {\"histfunc\": \"count\", \"histnorm\": \"\", \"marker\": {\"color\": \"rgba(50, 171, 96, 1.0)\", \"line\": {\"color\": \"#4D5663\", \"width\": 1.3}}, \"name\": \"C\", \"nbinsx\": 10, \"opacity\": 0.8, \"orientation\": \"v\", \"type\": \"histogram\", \"x\": [-0.5325002392797077, 1.2107826144635394, -0.12581857596195073, -1.065685346460432, 1.6219974824957573, -0.932800678811066, -0.21316481203726712, 0.763681120902737, 1.098664206498667, 0.36009215649075343, -0.664219816308787, 0.07577184065638896, 0.3031687581058567, 0.6606870603906189, -0.5961486242453862, 0.11231630657312325, 0.7691043610978897, -0.3081123223215197, 0.19559556136046366, 1.4374690002280184, -0.8153210756978526, 0.6813563452246516, -1.6382804382128886, 0.08817865962915074, 0.20261471758722485, -1.5184096422482465, -1.4305530017112984, -0.6953963924991731, -0.43994601001709965, 0.22937454005128888, 0.1447963167297178, 1.4358227971455064, -0.7190175116891817, -0.31304105941454047, 0.287214494791865, -1.3864896792827985, 0.01238435443261473, -0.968968169580906, 0.6757773935989444, 0.28438830723664055, 1.3939662961596828, 0.848053334072673, -0.05146628439166784, 0.13180154178313105, 2.756987407554678, 0.46855564383907744, 1.0594874292830787, 0.5036613275770189, 1.647513334058284, -1.443885741626302, 1.3359587953778, -0.5455285003845146, -0.461732199765846, -1.8435212714640112, 0.4538100646615445, -0.72191357965643, -0.24374954965398982, -1.0252134615790376, -0.5165437210671675, -0.33161543392197307, -0.7431465286961032, -2.210006319910014, -0.46724628052367445, 0.14586509253773433, 0.14969459570682003, 0.4191904426785085, -1.1344968632281076, 0.10571054282160242, -0.7589371530008178, -1.0542016454475767, -1.0753202072880828, -1.664851074939344, -1.6675055030541586, -0.2331187171751215, 2.4126159312201527, 0.7389659801077011, 0.3826710404007888, 0.5817057566608924, 0.9574718358569249, -2.0985324423193594, 0.31289459728961866, 2.5381461963041967, -1.1164237044150571, -0.0457752960357565, -1.2102654227507113, 0.6626735232923587, -0.9294259573544665, -1.2753086464635068, 0.19150764250023283, 0.7682688889700511, 1.5038416312088143, -0.41447058970720374, 1.0473552330836675, 1.6884234732045154, 0.9931508514200323, -0.34211968075641724, -1.1649591956662277, 0.8319726133234473, -1.343902562095212, -0.2943244448144205], \"xaxis\": \"x11\", \"yaxis\": \"y11\"}, {\"line\": {\"color\": \"rgba(128, 128, 128, 1.0)\", \"dash\": \"solid\", \"shape\": \"linear\", \"width\": 1.3}, \"marker\": {\"size\": 2, \"symbol\": \"circle\"}, \"mode\": \"markers\", \"name\": \"C\", \"text\": \"\", \"type\": \"scatter\", \"x\": [-0.006679552459379296, 0.07331242355470725, 1.1083884810155544, -1.6565627117319746, 1.9950862907185352, 0.6454822575914453, -0.5329751906162492, 0.08565999414797083, 0.09036665290178467, 0.7872452416416569, -0.11434170196201493, -1.121478936932661, 1.1096696474770031, 0.6516962960220379, 0.30660602120926544, -0.7168392297450519, -0.7439065941431607, 0.6615739709752352, 0.6006997037973186, -0.6050611084460127, -0.5461260559653208, 0.1424476018858292, -1.197176194136547, 0.7877118711253404, -0.9714740266118284, 0.7826606579329373, -1.1031652966404037, 2.526889128554002, 0.16190821155043775, 0.23198501547302153, 0.5640839786071568, -0.05016580642898075, -0.839410702329791, 0.6050009318003485, -0.16029812562208612, 1.406749582890268, -1.1054758672020175, -1.6119739180168078, 0.10650295060254338, -2.405341139304213, -2.0421508646956816, -0.17350186796334538, 0.9550293720956177, 0.5477902853481688, 0.5110778167745683, 0.4722265299045946, 1.5591630904039082, -0.9349337381021855, -0.5781747934802014, -1.4900496859060852, -1.3269327490502971, -1.5196913887016652, 0.7246955385086876, 0.3215005164422762, 0.809400883045086, 0.993649246025548, -0.6955478957649657, 1.0991610580672215, 0.7345554855186507, -0.3571925359950002, -1.885546923965419, 0.36401272919883904, -0.16631902212605246, 0.9779545406612402, 0.7916705430955936, -0.12323039622039979, -0.15362030195387819, 0.44797085347129084, 0.8600083255740223, 0.011826753737175896, 0.809330990870958, -0.08388961558555602, 0.011880834268739489, -1.663441440748334, -0.7993871903375428, 1.076778701611559, -1.523272232833216, -0.10932247028663548, -0.5434321979726251, 1.201096443987189, 1.3161182808886254, 0.5866559935034882, 1.0748730161017475, -0.07604231452114252, -1.2254109513661653, -0.12882814874212412, -0.19471729771257273, 0.6853427202832655, 0.5741302146848836, 0.6827993122440889, -0.8541546185222085, -0.4468302326950383, 0.08934065712537255, 1.4300258601533677, -0.28710963690331254, 0.7304348651351046, 0.9692019063696952, -0.6545210429290489, -0.5954381851103395, -0.3189286182100561], \"xaxis\": \"x12\", \"y\": [-0.5325002392797077, 1.2107826144635394, -0.12581857596195073, -1.065685346460432, 1.6219974824957573, -0.932800678811066, -0.21316481203726712, 0.763681120902737, 1.098664206498667, 0.36009215649075343, -0.664219816308787, 0.07577184065638896, 0.3031687581058567, 0.6606870603906189, -0.5961486242453862, 0.11231630657312325, 0.7691043610978897, -0.3081123223215197, 0.19559556136046366, 1.4374690002280184, -0.8153210756978526, 0.6813563452246516, -1.6382804382128886, 0.08817865962915074, 0.20261471758722485, -1.5184096422482465, -1.4305530017112984, -0.6953963924991731, -0.43994601001709965, 0.22937454005128888, 0.1447963167297178, 1.4358227971455064, -0.7190175116891817, -0.31304105941454047, 0.287214494791865, -1.3864896792827985, 0.01238435443261473, -0.968968169580906, 0.6757773935989444, 0.28438830723664055, 1.3939662961596828, 0.848053334072673, -0.05146628439166784, 0.13180154178313105, 2.756987407554678, 0.46855564383907744, 1.0594874292830787, 0.5036613275770189, 1.647513334058284, -1.443885741626302, 1.3359587953778, -0.5455285003845146, -0.461732199765846, -1.8435212714640112, 0.4538100646615445, -0.72191357965643, -0.24374954965398982, -1.0252134615790376, -0.5165437210671675, -0.33161543392197307, -0.7431465286961032, -2.210006319910014, -0.46724628052367445, 0.14586509253773433, 0.14969459570682003, 0.4191904426785085, -1.1344968632281076, 0.10571054282160242, -0.7589371530008178, -1.0542016454475767, -1.0753202072880828, -1.664851074939344, -1.6675055030541586, -0.2331187171751215, 2.4126159312201527, 0.7389659801077011, 0.3826710404007888, 0.5817057566608924, 0.9574718358569249, -2.0985324423193594, 0.31289459728961866, 2.5381461963041967, -1.1164237044150571, -0.0457752960357565, -1.2102654227507113, 0.6626735232923587, -0.9294259573544665, -1.2753086464635068, 0.19150764250023283, 0.7682688889700511, 1.5038416312088143, -0.41447058970720374, 1.0473552330836675, 1.6884234732045154, 0.9931508514200323, -0.34211968075641724, -1.1649591956662277, 0.8319726133234473, -1.343902562095212, -0.2943244448144205], \"yaxis\": \"y12\"}, {\"line\": {\"color\": \"rgba(128, 128, 128, 1.0)\", \"dash\": \"solid\", \"shape\": \"linear\", \"width\": 1.3}, \"marker\": {\"size\": 2, \"symbol\": \"circle\"}, \"mode\": \"markers\", \"name\": \"D\", \"text\": \"\", \"type\": \"scatter\", \"x\": [-0.30202016863775033, -0.28564555846571377, 0.4476704948481836, -0.7162322499431878, -1.1752084454356209, 0.037922946952660096, -0.4784580310902896, -0.8127219470868241, -0.2015463810609984, -1.2477309120841387, 0.33416595599237875, -0.3925825214642993, 0.8483162327766754, 1.4017593159498198, -0.24447542578970963, 0.3268425653949366, 0.7896328968946461, 0.05003230055379049, 0.8713596231470593, -0.36768247294659173, 1.456695935256, 0.09086717022177927, 0.8308289690395506, 0.4570302705052343, 1.641725152630206, -0.34337193630447227, -0.6899548045806325, -1.4989669498743878, -0.4990655862049401, -1.2763195565688894, -0.5841927721605572, -0.6531615312082533, -1.544688058823571, 1.241823683012709, 0.36670402575200034, 0.36785862000313696, -0.4251916229702931, -1.1424611416885133, 0.11744918233688426, -0.2943921274727523, -0.2630411797495611, 1.1189450591825083, 0.6771083217387999, -2.1007251081507516, -1.469901874723165, 0.5804195589513341, -0.26050512490234284, 2.2362929227372725, 0.5190194687909312, -0.008163118768048035, -0.6611054621616541, 1.36957273498277, 0.57208163756899, 0.12460374641094915, 0.8356395402758129, -0.8335550054425519, -0.8946566144284955, -0.10099356338826994, 0.04425297346768268, 2.217770067273319, 0.03522119302500431, -1.9869202369288799, -1.2508613408788938, 0.09279898228614562, 0.38692351076168063, -0.026236237411354904, -1.491069699311706, 0.8294659536906288, 0.6136776593807836, -0.8154202979633771, 0.6293335815887414, -1.0923772889015413, 0.7386223240270853, -0.68737966371764, -0.6422680828562675, 0.7998127045023482, 0.9217752449620659, 0.04459918763480434, -0.445947653484942, -0.3773323373724564, 0.4050137890893175, 0.19591076972454038, -0.3532570369973499, -0.19817408743935175, -0.311181936508081, -0.5692973337611296, 1.2737066010007103, 0.33310651006183967, 2.343367044548086, -0.4488947193251729, 0.16005691450387768, -0.5608031062151607, -0.2592370006186431, -0.7117502976304382, -0.5122229220026929, 0.9231576330805437, 1.108977825338648, 0.05946369407947916, -0.5664014911796487, 0.5891591881972967], \"xaxis\": \"x13\", \"y\": [-0.006679552459379296, 0.07331242355470725, 1.1083884810155544, -1.6565627117319746, 1.9950862907185352, 0.6454822575914453, -0.5329751906162492, 0.08565999414797083, 0.09036665290178467, 0.7872452416416569, -0.11434170196201493, -1.121478936932661, 1.1096696474770031, 0.6516962960220379, 0.30660602120926544, -0.7168392297450519, -0.7439065941431607, 0.6615739709752352, 0.6006997037973186, -0.6050611084460127, -0.5461260559653208, 0.1424476018858292, -1.197176194136547, 0.7877118711253404, -0.9714740266118284, 0.7826606579329373, -1.1031652966404037, 2.526889128554002, 0.16190821155043775, 0.23198501547302153, 0.5640839786071568, -0.05016580642898075, -0.839410702329791, 0.6050009318003485, -0.16029812562208612, 1.406749582890268, -1.1054758672020175, -1.6119739180168078, 0.10650295060254338, -2.405341139304213, -2.0421508646956816, -0.17350186796334538, 0.9550293720956177, 0.5477902853481688, 0.5110778167745683, 0.4722265299045946, 1.5591630904039082, -0.9349337381021855, -0.5781747934802014, -1.4900496859060852, -1.3269327490502971, -1.5196913887016652, 0.7246955385086876, 0.3215005164422762, 0.809400883045086, 0.993649246025548, -0.6955478957649657, 1.0991610580672215, 0.7345554855186507, -0.3571925359950002, -1.885546923965419, 0.36401272919883904, -0.16631902212605246, 0.9779545406612402, 0.7916705430955936, -0.12323039622039979, -0.15362030195387819, 0.44797085347129084, 0.8600083255740223, 0.011826753737175896, 0.809330990870958, -0.08388961558555602, 0.011880834268739489, -1.663441440748334, -0.7993871903375428, 1.076778701611559, -1.523272232833216, -0.10932247028663548, -0.5434321979726251, 1.201096443987189, 1.3161182808886254, 0.5866559935034882, 1.0748730161017475, -0.07604231452114252, -1.2254109513661653, -0.12882814874212412, -0.19471729771257273, 0.6853427202832655, 0.5741302146848836, 0.6827993122440889, -0.8541546185222085, -0.4468302326950383, 0.08934065712537255, 1.4300258601533677, -0.28710963690331254, 0.7304348651351046, 0.9692019063696952, -0.6545210429290489, -0.5954381851103395, -0.3189286182100561], \"yaxis\": \"y13\"}, {\"line\": {\"color\": \"rgba(128, 128, 128, 1.0)\", \"dash\": \"solid\", \"shape\": \"linear\", \"width\": 1.3}, \"marker\": {\"size\": 2, \"symbol\": \"circle\"}, \"mode\": \"markers\", \"name\": \"D\", \"text\": \"\", \"type\": \"scatter\", \"x\": [-0.8488668044204304, 0.0829347754880924, 0.5024352835101774, -1.555223408984092, -1.7161100299123155, 0.13905529392350072, 0.4697605231701461, -0.2067026939520887, -1.1575550785607536, 1.0197452265500921, 1.1202487101150227, 1.5954620391368428, -0.4375092399621281, -0.47581549224960684, 1.1853669230476602, -0.7970090865687269, -0.217834734307552, -0.9266855311136963, 0.6925149520732994, -0.14063441315709707, 1.3397844385147475, -0.1413885447509737, -0.3341614782625514, -1.0331617312485522, 0.24434025389131428, 1.5085738205782122, 0.10463564901176917, -1.0951203549391761, -0.27409678695725026, 0.420532769222361, 0.44161004868931125, 1.243251467420042, 2.014541632056787, 0.0005947858539945759, 1.2239989488374874, -0.3249945539545311, 0.11473621845710603, 1.1583020744108352, 0.33306800250962726, 0.6084733116468805, 0.2736092321470979, -1.5679830656702087, -0.06928753093902698, 0.526425209767373, -0.01545031249896855, -0.2570800949369005, -0.4691911947167141, 0.3670764942533598, 0.9329487179609518, 0.2795889554620296, -0.7792859324560443, 1.320870561157038, -0.9628173239459669, 1.0288747348344904, -0.31456248623952465, 1.179250469511076, 0.03272168521154292, -0.07204583648761341, 1.1921789942533836, 1.25019068010553, -0.03188346728559232, -0.1530268360484573, 0.9831775188487099, -0.5267924542187926, -0.4053089572688673, -0.051938708052279375, 0.45703909564713263, 0.2642433727428654, 0.5251885395153827, -0.0744890981195537, 0.20179472075573884, -0.24260442894883943, -0.7655468244843483, -0.25466269286703574, 1.3274099884767236, -1.8920515553120267, 0.10540569529487552, 1.0160601421792685, 1.0480390651944593, -1.2983474014888645, -0.5118493322462478, -0.6211629820763115, -0.7131189561305936, -1.5519881153245678, 0.3588037520991031, -0.7401347991919084, 0.5898932362401884, 0.6230541842326577, 0.1469808884715823, -1.4909432837564347, 0.16216809925339512, -0.24679042370819276, -0.30396064222875, 1.064430955755844, 0.3820227711156056, -1.9545417907404197, -0.8840834393902629, -0.8514764988023206, 0.4516710603713084, -0.9713569710562179], \"xaxis\": \"x14\", \"y\": [-0.006679552459379296, 0.07331242355470725, 1.1083884810155544, -1.6565627117319746, 1.9950862907185352, 0.6454822575914453, -0.5329751906162492, 0.08565999414797083, 0.09036665290178467, 0.7872452416416569, -0.11434170196201493, -1.121478936932661, 1.1096696474770031, 0.6516962960220379, 0.30660602120926544, -0.7168392297450519, -0.7439065941431607, 0.6615739709752352, 0.6006997037973186, -0.6050611084460127, -0.5461260559653208, 0.1424476018858292, -1.197176194136547, 0.7877118711253404, -0.9714740266118284, 0.7826606579329373, -1.1031652966404037, 2.526889128554002, 0.16190821155043775, 0.23198501547302153, 0.5640839786071568, -0.05016580642898075, -0.839410702329791, 0.6050009318003485, -0.16029812562208612, 1.406749582890268, -1.1054758672020175, -1.6119739180168078, 0.10650295060254338, -2.405341139304213, -2.0421508646956816, -0.17350186796334538, 0.9550293720956177, 0.5477902853481688, 0.5110778167745683, 0.4722265299045946, 1.5591630904039082, -0.9349337381021855, -0.5781747934802014, -1.4900496859060852, -1.3269327490502971, -1.5196913887016652, 0.7246955385086876, 0.3215005164422762, 0.809400883045086, 0.993649246025548, -0.6955478957649657, 1.0991610580672215, 0.7345554855186507, -0.3571925359950002, -1.885546923965419, 0.36401272919883904, -0.16631902212605246, 0.9779545406612402, 0.7916705430955936, -0.12323039622039979, -0.15362030195387819, 0.44797085347129084, 0.8600083255740223, 0.011826753737175896, 0.809330990870958, -0.08388961558555602, 0.011880834268739489, -1.663441440748334, -0.7993871903375428, 1.076778701611559, -1.523272232833216, -0.10932247028663548, -0.5434321979726251, 1.201096443987189, 1.3161182808886254, 0.5866559935034882, 1.0748730161017475, -0.07604231452114252, -1.2254109513661653, -0.12882814874212412, -0.19471729771257273, 0.6853427202832655, 0.5741302146848836, 0.6827993122440889, -0.8541546185222085, -0.4468302326950383, 0.08934065712537255, 1.4300258601533677, -0.28710963690331254, 0.7304348651351046, 0.9692019063696952, -0.6545210429290489, -0.5954381851103395, -0.3189286182100561], \"yaxis\": \"y14\"}, {\"line\": {\"color\": \"rgba(128, 128, 128, 1.0)\", \"dash\": \"solid\", \"shape\": \"linear\", \"width\": 1.3}, \"marker\": {\"size\": 2, \"symbol\": \"circle\"}, \"mode\": \"markers\", \"name\": \"D\", \"text\": \"\", \"type\": \"scatter\", \"x\": [-0.5325002392797077, 1.2107826144635394, -0.12581857596195073, -1.065685346460432, 1.6219974824957573, -0.932800678811066, -0.21316481203726712, 0.763681120902737, 1.098664206498667, 0.36009215649075343, -0.664219816308787, 0.07577184065638896, 0.3031687581058567, 0.6606870603906189, -0.5961486242453862, 0.11231630657312325, 0.7691043610978897, -0.3081123223215197, 0.19559556136046366, 1.4374690002280184, -0.8153210756978526, 0.6813563452246516, -1.6382804382128886, 0.08817865962915074, 0.20261471758722485, -1.5184096422482465, -1.4305530017112984, -0.6953963924991731, -0.43994601001709965, 0.22937454005128888, 0.1447963167297178, 1.4358227971455064, -0.7190175116891817, -0.31304105941454047, 0.287214494791865, -1.3864896792827985, 0.01238435443261473, -0.968968169580906, 0.6757773935989444, 0.28438830723664055, 1.3939662961596828, 0.848053334072673, -0.05146628439166784, 0.13180154178313105, 2.756987407554678, 0.46855564383907744, 1.0594874292830787, 0.5036613275770189, 1.647513334058284, -1.443885741626302, 1.3359587953778, -0.5455285003845146, -0.461732199765846, -1.8435212714640112, 0.4538100646615445, -0.72191357965643, -0.24374954965398982, -1.0252134615790376, -0.5165437210671675, -0.33161543392197307, -0.7431465286961032, -2.210006319910014, -0.46724628052367445, 0.14586509253773433, 0.14969459570682003, 0.4191904426785085, -1.1344968632281076, 0.10571054282160242, -0.7589371530008178, -1.0542016454475767, -1.0753202072880828, -1.664851074939344, -1.6675055030541586, -0.2331187171751215, 2.4126159312201527, 0.7389659801077011, 0.3826710404007888, 0.5817057566608924, 0.9574718358569249, -2.0985324423193594, 0.31289459728961866, 2.5381461963041967, -1.1164237044150571, -0.0457752960357565, -1.2102654227507113, 0.6626735232923587, -0.9294259573544665, -1.2753086464635068, 0.19150764250023283, 0.7682688889700511, 1.5038416312088143, -0.41447058970720374, 1.0473552330836675, 1.6884234732045154, 0.9931508514200323, -0.34211968075641724, -1.1649591956662277, 0.8319726133234473, -1.343902562095212, -0.2943244448144205], \"xaxis\": \"x15\", \"y\": [-0.006679552459379296, 0.07331242355470725, 1.1083884810155544, -1.6565627117319746, 1.9950862907185352, 0.6454822575914453, -0.5329751906162492, 0.08565999414797083, 0.09036665290178467, 0.7872452416416569, -0.11434170196201493, -1.121478936932661, 1.1096696474770031, 0.6516962960220379, 0.30660602120926544, -0.7168392297450519, -0.7439065941431607, 0.6615739709752352, 0.6006997037973186, -0.6050611084460127, -0.5461260559653208, 0.1424476018858292, -1.197176194136547, 0.7877118711253404, -0.9714740266118284, 0.7826606579329373, -1.1031652966404037, 2.526889128554002, 0.16190821155043775, 0.23198501547302153, 0.5640839786071568, -0.05016580642898075, -0.839410702329791, 0.6050009318003485, -0.16029812562208612, 1.406749582890268, -1.1054758672020175, -1.6119739180168078, 0.10650295060254338, -2.405341139304213, -2.0421508646956816, -0.17350186796334538, 0.9550293720956177, 0.5477902853481688, 0.5110778167745683, 0.4722265299045946, 1.5591630904039082, -0.9349337381021855, -0.5781747934802014, -1.4900496859060852, -1.3269327490502971, -1.5196913887016652, 0.7246955385086876, 0.3215005164422762, 0.809400883045086, 0.993649246025548, -0.6955478957649657, 1.0991610580672215, 0.7345554855186507, -0.3571925359950002, -1.885546923965419, 0.36401272919883904, -0.16631902212605246, 0.9779545406612402, 0.7916705430955936, -0.12323039622039979, -0.15362030195387819, 0.44797085347129084, 0.8600083255740223, 0.011826753737175896, 0.809330990870958, -0.08388961558555602, 0.011880834268739489, -1.663441440748334, -0.7993871903375428, 1.076778701611559, -1.523272232833216, -0.10932247028663548, -0.5434321979726251, 1.201096443987189, 1.3161182808886254, 0.5866559935034882, 1.0748730161017475, -0.07604231452114252, -1.2254109513661653, -0.12882814874212412, -0.19471729771257273, 0.6853427202832655, 0.5741302146848836, 0.6827993122440889, -0.8541546185222085, -0.4468302326950383, 0.08934065712537255, 1.4300258601533677, -0.28710963690331254, 0.7304348651351046, 0.9692019063696952, -0.6545210429290489, -0.5954381851103395, -0.3189286182100561], \"yaxis\": \"y15\"}, {\"histfunc\": \"count\", \"histnorm\": \"\", \"marker\": {\"color\": \"rgba(128, 0, 128, 1.0)\", \"line\": {\"color\": \"#4D5663\", \"width\": 1.3}}, \"name\": \"D\", \"nbinsx\": 10, \"opacity\": 0.8, \"orientation\": \"v\", \"type\": \"histogram\", \"x\": [-0.006679552459379296, 0.07331242355470725, 1.1083884810155544, -1.6565627117319746, 1.9950862907185352, 0.6454822575914453, -0.5329751906162492, 0.08565999414797083, 0.09036665290178467, 0.7872452416416569, -0.11434170196201493, -1.121478936932661, 1.1096696474770031, 0.6516962960220379, 0.30660602120926544, -0.7168392297450519, -0.7439065941431607, 0.6615739709752352, 0.6006997037973186, -0.6050611084460127, -0.5461260559653208, 0.1424476018858292, -1.197176194136547, 0.7877118711253404, -0.9714740266118284, 0.7826606579329373, -1.1031652966404037, 2.526889128554002, 0.16190821155043775, 0.23198501547302153, 0.5640839786071568, -0.05016580642898075, -0.839410702329791, 0.6050009318003485, -0.16029812562208612, 1.406749582890268, -1.1054758672020175, -1.6119739180168078, 0.10650295060254338, -2.405341139304213, -2.0421508646956816, -0.17350186796334538, 0.9550293720956177, 0.5477902853481688, 0.5110778167745683, 0.4722265299045946, 1.5591630904039082, -0.9349337381021855, -0.5781747934802014, -1.4900496859060852, -1.3269327490502971, -1.5196913887016652, 0.7246955385086876, 0.3215005164422762, 0.809400883045086, 0.993649246025548, -0.6955478957649657, 1.0991610580672215, 0.7345554855186507, -0.3571925359950002, -1.885546923965419, 0.36401272919883904, -0.16631902212605246, 0.9779545406612402, 0.7916705430955936, -0.12323039622039979, -0.15362030195387819, 0.44797085347129084, 0.8600083255740223, 0.011826753737175896, 0.809330990870958, -0.08388961558555602, 0.011880834268739489, -1.663441440748334, -0.7993871903375428, 1.076778701611559, -1.523272232833216, -0.10932247028663548, -0.5434321979726251, 1.201096443987189, 1.3161182808886254, 0.5866559935034882, 1.0748730161017475, -0.07604231452114252, -1.2254109513661653, -0.12882814874212412, -0.19471729771257273, 0.6853427202832655, 0.5741302146848836, 0.6827993122440889, -0.8541546185222085, -0.4468302326950383, 0.08934065712537255, 1.4300258601533677, -0.28710963690331254, 0.7304348651351046, 0.9692019063696952, -0.6545210429290489, -0.5954381851103395, -0.3189286182100561], \"xaxis\": \"x16\", \"yaxis\": \"y16\"}],                        {\"bargap\": 0.02, \"legend\": {\"bgcolor\": \"#F5F6F9\", \"font\": {\"color\": \"#4D5663\"}}, \"paper_bgcolor\": \"#F5F6F9\", \"plot_bgcolor\": \"#F5F6F9\", \"showlegend\": false, \"template\": {\"data\": {\"bar\": [{\"error_x\": {\"color\": \"#2a3f5f\"}, \"error_y\": {\"color\": \"#2a3f5f\"}, \"marker\": {\"line\": {\"color\": \"#E5ECF6\", \"width\": 0.5}}, \"type\": \"bar\"}], \"barpolar\": [{\"marker\": {\"line\": {\"color\": \"#E5ECF6\", \"width\": 0.5}}, \"type\": \"barpolar\"}], \"carpet\": [{\"aaxis\": {\"endlinecolor\": \"#2a3f5f\", \"gridcolor\": \"white\", \"linecolor\": \"white\", \"minorgridcolor\": \"white\", \"startlinecolor\": \"#2a3f5f\"}, \"baxis\": {\"endlinecolor\": \"#2a3f5f\", \"gridcolor\": \"white\", \"linecolor\": \"white\", \"minorgridcolor\": \"white\", \"startlinecolor\": \"#2a3f5f\"}, \"type\": \"carpet\"}], \"choropleth\": [{\"colorbar\": {\"outlinewidth\": 0, \"ticks\": \"\"}, \"type\": \"choropleth\"}], \"contour\": [{\"colorbar\": {\"outlinewidth\": 0, \"ticks\": \"\"}, \"colorscale\": [[0.0, \"#0d0887\"], [0.1111111111111111, \"#46039f\"], [0.2222222222222222, \"#7201a8\"], [0.3333333333333333, \"#9c179e\"], [0.4444444444444444, \"#bd3786\"], [0.5555555555555556, \"#d8576b\"], [0.6666666666666666, \"#ed7953\"], [0.7777777777777778, \"#fb9f3a\"], [0.8888888888888888, \"#fdca26\"], [1.0, \"#f0f921\"]], \"type\": \"contour\"}], \"contourcarpet\": [{\"colorbar\": {\"outlinewidth\": 0, \"ticks\": \"\"}, \"type\": \"contourcarpet\"}], \"heatmap\": [{\"colorbar\": {\"outlinewidth\": 0, \"ticks\": \"\"}, \"colorscale\": [[0.0, \"#0d0887\"], [0.1111111111111111, \"#46039f\"], [0.2222222222222222, \"#7201a8\"], [0.3333333333333333, \"#9c179e\"], [0.4444444444444444, \"#bd3786\"], [0.5555555555555556, \"#d8576b\"], [0.6666666666666666, \"#ed7953\"], [0.7777777777777778, \"#fb9f3a\"], [0.8888888888888888, \"#fdca26\"], [1.0, \"#f0f921\"]], \"type\": \"heatmap\"}], \"heatmapgl\": [{\"colorbar\": {\"outlinewidth\": 0, \"ticks\": \"\"}, \"colorscale\": [[0.0, \"#0d0887\"], [0.1111111111111111, \"#46039f\"], [0.2222222222222222, \"#7201a8\"], [0.3333333333333333, \"#9c179e\"], [0.4444444444444444, \"#bd3786\"], [0.5555555555555556, \"#d8576b\"], [0.6666666666666666, \"#ed7953\"], [0.7777777777777778, \"#fb9f3a\"], [0.8888888888888888, \"#fdca26\"], [1.0, \"#f0f921\"]], \"type\": \"heatmapgl\"}], \"histogram\": [{\"marker\": {\"colorbar\": {\"outlinewidth\": 0, \"ticks\": \"\"}}, \"type\": \"histogram\"}], \"histogram2d\": [{\"colorbar\": {\"outlinewidth\": 0, \"ticks\": \"\"}, \"colorscale\": [[0.0, \"#0d0887\"], [0.1111111111111111, \"#46039f\"], [0.2222222222222222, \"#7201a8\"], [0.3333333333333333, \"#9c179e\"], [0.4444444444444444, \"#bd3786\"], [0.5555555555555556, \"#d8576b\"], [0.6666666666666666, \"#ed7953\"], [0.7777777777777778, \"#fb9f3a\"], [0.8888888888888888, \"#fdca26\"], [1.0, \"#f0f921\"]], \"type\": \"histogram2d\"}], \"histogram2dcontour\": [{\"colorbar\": {\"outlinewidth\": 0, \"ticks\": \"\"}, \"colorscale\": [[0.0, \"#0d0887\"], [0.1111111111111111, \"#46039f\"], [0.2222222222222222, \"#7201a8\"], [0.3333333333333333, \"#9c179e\"], [0.4444444444444444, \"#bd3786\"], [0.5555555555555556, \"#d8576b\"], [0.6666666666666666, \"#ed7953\"], [0.7777777777777778, \"#fb9f3a\"], [0.8888888888888888, \"#fdca26\"], [1.0, \"#f0f921\"]], \"type\": \"histogram2dcontour\"}], \"mesh3d\": [{\"colorbar\": {\"outlinewidth\": 0, \"ticks\": \"\"}, \"type\": \"mesh3d\"}], \"parcoords\": [{\"line\": {\"colorbar\": {\"outlinewidth\": 0, \"ticks\": \"\"}}, \"type\": \"parcoords\"}], \"pie\": [{\"automargin\": true, \"type\": \"pie\"}], \"scatter\": [{\"marker\": {\"colorbar\": {\"outlinewidth\": 0, \"ticks\": \"\"}}, \"type\": \"scatter\"}], \"scatter3d\": [{\"line\": {\"colorbar\": {\"outlinewidth\": 0, \"ticks\": \"\"}}, \"marker\": {\"colorbar\": {\"outlinewidth\": 0, \"ticks\": \"\"}}, \"type\": \"scatter3d\"}], \"scattercarpet\": [{\"marker\": {\"colorbar\": {\"outlinewidth\": 0, \"ticks\": \"\"}}, \"type\": \"scattercarpet\"}], \"scattergeo\": [{\"marker\": {\"colorbar\": {\"outlinewidth\": 0, \"ticks\": \"\"}}, \"type\": \"scattergeo\"}], \"scattergl\": [{\"marker\": {\"colorbar\": {\"outlinewidth\": 0, \"ticks\": \"\"}}, \"type\": \"scattergl\"}], \"scattermapbox\": [{\"marker\": {\"colorbar\": {\"outlinewidth\": 0, \"ticks\": \"\"}}, \"type\": \"scattermapbox\"}], \"scatterpolar\": [{\"marker\": {\"colorbar\": {\"outlinewidth\": 0, \"ticks\": \"\"}}, \"type\": \"scatterpolar\"}], \"scatterpolargl\": [{\"marker\": {\"colorbar\": {\"outlinewidth\": 0, \"ticks\": \"\"}}, \"type\": \"scatterpolargl\"}], \"scatterternary\": [{\"marker\": {\"colorbar\": {\"outlinewidth\": 0, \"ticks\": \"\"}}, \"type\": \"scatterternary\"}], \"surface\": [{\"colorbar\": {\"outlinewidth\": 0, \"ticks\": \"\"}, \"colorscale\": [[0.0, \"#0d0887\"], [0.1111111111111111, \"#46039f\"], [0.2222222222222222, \"#7201a8\"], [0.3333333333333333, \"#9c179e\"], [0.4444444444444444, \"#bd3786\"], [0.5555555555555556, \"#d8576b\"], [0.6666666666666666, \"#ed7953\"], [0.7777777777777778, \"#fb9f3a\"], [0.8888888888888888, \"#fdca26\"], [1.0, \"#f0f921\"]], \"type\": \"surface\"}], \"table\": [{\"cells\": {\"fill\": {\"color\": \"#EBF0F8\"}, \"line\": {\"color\": \"white\"}}, \"header\": {\"fill\": {\"color\": \"#C8D4E3\"}, \"line\": {\"color\": \"white\"}}, \"type\": \"table\"}]}, \"layout\": {\"annotationdefaults\": {\"arrowcolor\": \"#2a3f5f\", \"arrowhead\": 0, \"arrowwidth\": 1}, \"coloraxis\": {\"colorbar\": {\"outlinewidth\": 0, \"ticks\": \"\"}}, \"colorscale\": {\"diverging\": [[0, \"#8e0152\"], [0.1, \"#c51b7d\"], [0.2, \"#de77ae\"], [0.3, \"#f1b6da\"], [0.4, \"#fde0ef\"], [0.5, \"#f7f7f7\"], [0.6, \"#e6f5d0\"], [0.7, \"#b8e186\"], [0.8, \"#7fbc41\"], [0.9, \"#4d9221\"], [1, \"#276419\"]], \"sequential\": [[0.0, \"#0d0887\"], [0.1111111111111111, \"#46039f\"], [0.2222222222222222, \"#7201a8\"], [0.3333333333333333, \"#9c179e\"], [0.4444444444444444, \"#bd3786\"], [0.5555555555555556, \"#d8576b\"], [0.6666666666666666, \"#ed7953\"], [0.7777777777777778, \"#fb9f3a\"], [0.8888888888888888, \"#fdca26\"], [1.0, \"#f0f921\"]], \"sequentialminus\": [[0.0, \"#0d0887\"], [0.1111111111111111, \"#46039f\"], [0.2222222222222222, \"#7201a8\"], [0.3333333333333333, \"#9c179e\"], [0.4444444444444444, \"#bd3786\"], [0.5555555555555556, \"#d8576b\"], [0.6666666666666666, \"#ed7953\"], [0.7777777777777778, \"#fb9f3a\"], [0.8888888888888888, \"#fdca26\"], [1.0, \"#f0f921\"]]}, \"colorway\": [\"#636efa\", \"#EF553B\", \"#00cc96\", \"#ab63fa\", \"#FFA15A\", \"#19d3f3\", \"#FF6692\", \"#B6E880\", \"#FF97FF\", \"#FECB52\"], \"font\": {\"color\": \"#2a3f5f\"}, \"geo\": {\"bgcolor\": \"white\", \"lakecolor\": \"white\", \"landcolor\": \"#E5ECF6\", \"showlakes\": true, \"showland\": true, \"subunitcolor\": \"white\"}, \"hoverlabel\": {\"align\": \"left\"}, \"hovermode\": \"closest\", \"mapbox\": {\"style\": \"light\"}, \"paper_bgcolor\": \"white\", \"plot_bgcolor\": \"#E5ECF6\", \"polar\": {\"angularaxis\": {\"gridcolor\": \"white\", \"linecolor\": \"white\", \"ticks\": \"\"}, \"bgcolor\": \"#E5ECF6\", \"radialaxis\": {\"gridcolor\": \"white\", \"linecolor\": \"white\", \"ticks\": \"\"}}, \"scene\": {\"xaxis\": {\"backgroundcolor\": \"#E5ECF6\", \"gridcolor\": \"white\", \"gridwidth\": 2, \"linecolor\": \"white\", \"showbackground\": true, \"ticks\": \"\", \"zerolinecolor\": \"white\"}, \"yaxis\": {\"backgroundcolor\": \"#E5ECF6\", \"gridcolor\": \"white\", \"gridwidth\": 2, \"linecolor\": \"white\", \"showbackground\": true, \"ticks\": \"\", \"zerolinecolor\": \"white\"}, \"zaxis\": {\"backgroundcolor\": \"#E5ECF6\", \"gridcolor\": \"white\", \"gridwidth\": 2, \"linecolor\": \"white\", \"showbackground\": true, \"ticks\": \"\", \"zerolinecolor\": \"white\"}}, \"shapedefaults\": {\"line\": {\"color\": \"#2a3f5f\"}}, \"ternary\": {\"aaxis\": {\"gridcolor\": \"white\", \"linecolor\": \"white\", \"ticks\": \"\"}, \"baxis\": {\"gridcolor\": \"white\", \"linecolor\": \"white\", \"ticks\": \"\"}, \"bgcolor\": \"#E5ECF6\", \"caxis\": {\"gridcolor\": \"white\", \"linecolor\": \"white\", \"ticks\": \"\"}}, \"title\": {\"x\": 0.05}, \"xaxis\": {\"automargin\": true, \"gridcolor\": \"white\", \"linecolor\": \"white\", \"ticks\": \"\", \"title\": {\"standoff\": 15}, \"zerolinecolor\": \"white\", \"zerolinewidth\": 2}, \"yaxis\": {\"automargin\": true, \"gridcolor\": \"white\", \"linecolor\": \"white\", \"ticks\": \"\", \"title\": {\"standoff\": 15}, \"zerolinecolor\": \"white\", \"zerolinewidth\": 2}}}, \"title\": {\"font\": {\"color\": \"#4D5663\"}}, \"xaxis\": {\"anchor\": \"y\", \"domain\": [0.0, 0.2125], \"gridcolor\": \"#E1E5ED\", \"showgrid\": false, \"tickfont\": {\"color\": \"#4D5663\"}, \"title\": {\"font\": {\"color\": \"#4D5663\"}, \"text\": \"\"}, \"zerolinecolor\": \"#E1E5ED\"}, \"xaxis10\": {\"anchor\": \"y10\", \"domain\": [0.2625, 0.475], \"gridcolor\": \"#E1E5ED\", \"showgrid\": false, \"tickfont\": {\"color\": \"#4D5663\"}, \"title\": {\"font\": {\"color\": \"#4D5663\"}, \"text\": \"\"}, \"zerolinecolor\": \"#E1E5ED\"}, \"xaxis11\": {\"anchor\": \"y11\", \"domain\": [0.525, 0.7375], \"gridcolor\": \"#E1E5ED\", \"showgrid\": false, \"tickfont\": {\"color\": \"#4D5663\"}, \"title\": {\"font\": {\"color\": \"#4D5663\"}, \"text\": \"\"}, \"zerolinecolor\": \"#E1E5ED\"}, \"xaxis12\": {\"anchor\": \"y12\", \"domain\": [0.7875, 1.0], \"gridcolor\": \"#E1E5ED\", \"showgrid\": false, \"tickfont\": {\"color\": \"#4D5663\"}, \"title\": {\"font\": {\"color\": \"#4D5663\"}, \"text\": \"\"}, \"zerolinecolor\": \"#E1E5ED\"}, \"xaxis13\": {\"anchor\": \"y13\", \"domain\": [0.0, 0.2125], \"gridcolor\": \"#E1E5ED\", \"showgrid\": false, \"tickfont\": {\"color\": \"#4D5663\"}, \"title\": {\"font\": {\"color\": \"#4D5663\"}, \"text\": \"\"}, \"zerolinecolor\": \"#E1E5ED\"}, \"xaxis14\": {\"anchor\": \"y14\", \"domain\": [0.2625, 0.475], \"gridcolor\": \"#E1E5ED\", \"showgrid\": false, \"tickfont\": {\"color\": \"#4D5663\"}, \"title\": {\"font\": {\"color\": \"#4D5663\"}, \"text\": \"\"}, \"zerolinecolor\": \"#E1E5ED\"}, \"xaxis15\": {\"anchor\": \"y15\", \"domain\": [0.525, 0.7375], \"gridcolor\": \"#E1E5ED\", \"showgrid\": false, \"tickfont\": {\"color\": \"#4D5663\"}, \"title\": {\"font\": {\"color\": \"#4D5663\"}, \"text\": \"\"}, \"zerolinecolor\": \"#E1E5ED\"}, \"xaxis16\": {\"anchor\": \"y16\", \"domain\": [0.7875, 1.0], \"gridcolor\": \"#E1E5ED\", \"showgrid\": false, \"tickfont\": {\"color\": \"#4D5663\"}, \"title\": {\"font\": {\"color\": \"#4D5663\"}, \"text\": \"\"}, \"zerolinecolor\": \"#E1E5ED\"}, \"xaxis2\": {\"anchor\": \"y2\", \"domain\": [0.2625, 0.475], \"gridcolor\": \"#E1E5ED\", \"showgrid\": false, \"tickfont\": {\"color\": \"#4D5663\"}, \"title\": {\"font\": {\"color\": \"#4D5663\"}, \"text\": \"\"}, \"zerolinecolor\": \"#E1E5ED\"}, \"xaxis3\": {\"anchor\": \"y3\", \"domain\": [0.525, 0.7375], \"gridcolor\": \"#E1E5ED\", \"showgrid\": false, \"tickfont\": {\"color\": \"#4D5663\"}, \"title\": {\"font\": {\"color\": \"#4D5663\"}, \"text\": \"\"}, \"zerolinecolor\": \"#E1E5ED\"}, \"xaxis4\": {\"anchor\": \"y4\", \"domain\": [0.7875, 1.0], \"gridcolor\": \"#E1E5ED\", \"showgrid\": false, \"tickfont\": {\"color\": \"#4D5663\"}, \"title\": {\"font\": {\"color\": \"#4D5663\"}, \"text\": \"\"}, \"zerolinecolor\": \"#E1E5ED\"}, \"xaxis5\": {\"anchor\": \"y5\", \"domain\": [0.0, 0.2125], \"gridcolor\": \"#E1E5ED\", \"showgrid\": false, \"tickfont\": {\"color\": \"#4D5663\"}, \"title\": {\"font\": {\"color\": \"#4D5663\"}, \"text\": \"\"}, \"zerolinecolor\": \"#E1E5ED\"}, \"xaxis6\": {\"anchor\": \"y6\", \"domain\": [0.2625, 0.475], \"gridcolor\": \"#E1E5ED\", \"showgrid\": false, \"tickfont\": {\"color\": \"#4D5663\"}, \"title\": {\"font\": {\"color\": \"#4D5663\"}, \"text\": \"\"}, \"zerolinecolor\": \"#E1E5ED\"}, \"xaxis7\": {\"anchor\": \"y7\", \"domain\": [0.525, 0.7375], \"gridcolor\": \"#E1E5ED\", \"showgrid\": false, \"tickfont\": {\"color\": \"#4D5663\"}, \"title\": {\"font\": {\"color\": \"#4D5663\"}, \"text\": \"\"}, \"zerolinecolor\": \"#E1E5ED\"}, \"xaxis8\": {\"anchor\": \"y8\", \"domain\": [0.7875, 1.0], \"gridcolor\": \"#E1E5ED\", \"showgrid\": false, \"tickfont\": {\"color\": \"#4D5663\"}, \"title\": {\"font\": {\"color\": \"#4D5663\"}, \"text\": \"\"}, \"zerolinecolor\": \"#E1E5ED\"}, \"xaxis9\": {\"anchor\": \"y9\", \"domain\": [0.0, 0.2125], \"gridcolor\": \"#E1E5ED\", \"showgrid\": false, \"tickfont\": {\"color\": \"#4D5663\"}, \"title\": {\"font\": {\"color\": \"#4D5663\"}, \"text\": \"\"}, \"zerolinecolor\": \"#E1E5ED\"}, \"yaxis\": {\"anchor\": \"x\", \"domain\": [0.8025, 1.0], \"gridcolor\": \"#E1E5ED\", \"showgrid\": false, \"tickfont\": {\"color\": \"#4D5663\"}, \"title\": {\"font\": {\"color\": \"#4D5663\"}, \"text\": \"\"}, \"zerolinecolor\": \"#E1E5ED\"}, \"yaxis10\": {\"anchor\": \"x10\", \"domain\": [0.2675, 0.465], \"gridcolor\": \"#E1E5ED\", \"showgrid\": false, \"tickfont\": {\"color\": \"#4D5663\"}, \"title\": {\"font\": {\"color\": \"#4D5663\"}, \"text\": \"\"}, \"zerolinecolor\": \"#E1E5ED\"}, \"yaxis11\": {\"anchor\": \"x11\", \"domain\": [0.2675, 0.465], \"gridcolor\": \"#E1E5ED\", \"showgrid\": false, \"tickfont\": {\"color\": \"#4D5663\"}, \"title\": {\"font\": {\"color\": \"#4D5663\"}, \"text\": \"\"}, \"zerolinecolor\": \"#E1E5ED\"}, \"yaxis12\": {\"anchor\": \"x12\", \"domain\": [0.2675, 0.465], \"gridcolor\": \"#E1E5ED\", \"showgrid\": false, \"tickfont\": {\"color\": \"#4D5663\"}, \"title\": {\"font\": {\"color\": \"#4D5663\"}, \"text\": \"\"}, \"zerolinecolor\": \"#E1E5ED\"}, \"yaxis13\": {\"anchor\": \"x13\", \"domain\": [0.0, 0.1975], \"gridcolor\": \"#E1E5ED\", \"showgrid\": false, \"tickfont\": {\"color\": \"#4D5663\"}, \"title\": {\"font\": {\"color\": \"#4D5663\"}, \"text\": \"\"}, \"zerolinecolor\": \"#E1E5ED\"}, \"yaxis14\": {\"anchor\": \"x14\", \"domain\": [0.0, 0.1975], \"gridcolor\": \"#E1E5ED\", \"showgrid\": false, \"tickfont\": {\"color\": \"#4D5663\"}, \"title\": {\"font\": {\"color\": \"#4D5663\"}, \"text\": \"\"}, \"zerolinecolor\": \"#E1E5ED\"}, \"yaxis15\": {\"anchor\": \"x15\", \"domain\": [0.0, 0.1975], \"gridcolor\": \"#E1E5ED\", \"showgrid\": false, \"tickfont\": {\"color\": \"#4D5663\"}, \"title\": {\"font\": {\"color\": \"#4D5663\"}, \"text\": \"\"}, \"zerolinecolor\": \"#E1E5ED\"}, \"yaxis16\": {\"anchor\": \"x16\", \"domain\": [0.0, 0.1975], \"gridcolor\": \"#E1E5ED\", \"showgrid\": false, \"tickfont\": {\"color\": \"#4D5663\"}, \"title\": {\"font\": {\"color\": \"#4D5663\"}, \"text\": \"\"}, \"zerolinecolor\": \"#E1E5ED\"}, \"yaxis2\": {\"anchor\": \"x2\", \"domain\": [0.8025, 1.0], \"gridcolor\": \"#E1E5ED\", \"showgrid\": false, \"tickfont\": {\"color\": \"#4D5663\"}, \"title\": {\"font\": {\"color\": \"#4D5663\"}, \"text\": \"\"}, \"zerolinecolor\": \"#E1E5ED\"}, \"yaxis3\": {\"anchor\": \"x3\", \"domain\": [0.8025, 1.0], \"gridcolor\": \"#E1E5ED\", \"showgrid\": false, \"tickfont\": {\"color\": \"#4D5663\"}, \"title\": {\"font\": {\"color\": \"#4D5663\"}, \"text\": \"\"}, \"zerolinecolor\": \"#E1E5ED\"}, \"yaxis4\": {\"anchor\": \"x4\", \"domain\": [0.8025, 1.0], \"gridcolor\": \"#E1E5ED\", \"showgrid\": false, \"tickfont\": {\"color\": \"#4D5663\"}, \"title\": {\"font\": {\"color\": \"#4D5663\"}, \"text\": \"\"}, \"zerolinecolor\": \"#E1E5ED\"}, \"yaxis5\": {\"anchor\": \"x5\", \"domain\": [0.535, 0.7325], \"gridcolor\": \"#E1E5ED\", \"showgrid\": false, \"tickfont\": {\"color\": \"#4D5663\"}, \"title\": {\"font\": {\"color\": \"#4D5663\"}, \"text\": \"\"}, \"zerolinecolor\": \"#E1E5ED\"}, \"yaxis6\": {\"anchor\": \"x6\", \"domain\": [0.535, 0.7325], \"gridcolor\": \"#E1E5ED\", \"showgrid\": false, \"tickfont\": {\"color\": \"#4D5663\"}, \"title\": {\"font\": {\"color\": \"#4D5663\"}, \"text\": \"\"}, \"zerolinecolor\": \"#E1E5ED\"}, \"yaxis7\": {\"anchor\": \"x7\", \"domain\": [0.535, 0.7325], \"gridcolor\": \"#E1E5ED\", \"showgrid\": false, \"tickfont\": {\"color\": \"#4D5663\"}, \"title\": {\"font\": {\"color\": \"#4D5663\"}, \"text\": \"\"}, \"zerolinecolor\": \"#E1E5ED\"}, \"yaxis8\": {\"anchor\": \"x8\", \"domain\": [0.535, 0.7325], \"gridcolor\": \"#E1E5ED\", \"showgrid\": false, \"tickfont\": {\"color\": \"#4D5663\"}, \"title\": {\"font\": {\"color\": \"#4D5663\"}, \"text\": \"\"}, \"zerolinecolor\": \"#E1E5ED\"}, \"yaxis9\": {\"anchor\": \"x9\", \"domain\": [0.2675, 0.465], \"gridcolor\": \"#E1E5ED\", \"showgrid\": false, \"tickfont\": {\"color\": \"#4D5663\"}, \"title\": {\"font\": {\"color\": \"#4D5663\"}, \"text\": \"\"}, \"zerolinecolor\": \"#E1E5ED\"}},                        {\"showLink\": true, \"linkText\": \"Export to plot.ly\", \"plotlyServerURL\": \"https://plot.ly\", \"responsive\": true}                    ).then(function(){\n",
       "                            \n",
       "var gd = document.getElementById('5b9a9394-4fb1-47d1-b802-a8a385451747');\n",
       "var x = new MutationObserver(function (mutations, observer) {{\n",
       "        var display = window.getComputedStyle(gd).display;\n",
       "        if (!display || display === 'none') {{\n",
       "            console.log([gd, 'removed!']);\n",
       "            Plotly.purge(gd);\n",
       "            observer.disconnect();\n",
       "        }}\n",
       "}});\n",
       "\n",
       "// Listen for the removal of the full notebook cells\n",
       "var notebookContainer = gd.closest('#notebook-container');\n",
       "if (notebookContainer) {{\n",
       "    x.observe(notebookContainer, {childList: true});\n",
       "}}\n",
       "\n",
       "// Listen for the clearing of the current output cell\n",
       "var outputEl = gd.closest('.output');\n",
       "if (outputEl) {{\n",
       "    x.observe(outputEl, {childList: true});\n",
       "}}\n",
       "\n",
       "                        })                };                });            </script>        </div>"
      ]
     },
     "metadata": {},
     "output_type": "display_data"
    }
   ],
   "source": [
    "fake_df.scatter_matrix()"
   ]
  },
  {
   "cell_type": "markdown",
   "metadata": {},
   "source": [
    "# Excellent Job!"
   ]
  },
  {
   "cell_type": "code",
   "execution_count": 20,
   "metadata": {},
   "outputs": [],
   "source": [
    "import plotly.graph_objs as go\n",
    "from plotly.offline import download_plotlyjs, init_notebook_mode, plot, iplot"
   ]
  },
  {
   "cell_type": "markdown",
   "metadata": {},
   "source": [
    "Now set up everything so that the figures show up in the notebok"
   ]
  },
  {
   "cell_type": "code",
   "execution_count": 21,
   "metadata": {},
   "outputs": [
    {
     "data": {
      "text/html": [
       "        <script type=\"text/javascript\">\n",
       "        window.PlotlyConfig = {MathJaxConfig: 'local'};\n",
       "        if (window.MathJax) {MathJax.Hub.Config({SVG: {font: \"STIX-Web\"}});}\n",
       "        if (typeof require !== 'undefined') {\n",
       "        require.undef(\"plotly\");\n",
       "        requirejs.config({\n",
       "            paths: {\n",
       "                'plotly': ['https://cdn.plot.ly/plotly-latest.min']\n",
       "            }\n",
       "        });\n",
       "        require(['plotly'], function(Plotly) {\n",
       "            window._Plotly = Plotly;\n",
       "        });\n",
       "        }\n",
       "        </script>\n",
       "        "
      ]
     },
     "metadata": {},
     "output_type": "display_data"
    }
   ],
   "source": [
    "init_notebook_mode(connected=True)"
   ]
  },
  {
   "cell_type": "code",
   "execution_count": 22,
   "metadata": {},
   "outputs": [],
   "source": [
    "data = dict(type='choropleth',\n",
    "           locations = ['AZ', 'CA', 'NY'],\n",
    "           locationmode = 'USA-states',\n",
    "           colorscale= 'Portland',\n",
    "           text=['text1', 'text2', 'text3'],\n",
    "           z=[1.0, 2.0,3.0],\n",
    "           colorbar = {'title':'Colorbar Title'})"
   ]
  },
  {
   "cell_type": "code",
   "execution_count": 23,
   "metadata": {},
   "outputs": [],
   "source": [
    "layout = dict(geo={'scope':'usa'})"
   ]
  },
  {
   "cell_type": "code",
   "execution_count": 24,
   "metadata": {},
   "outputs": [],
   "source": [
    "choromap = go.Figure(data = data, layout = layout)"
   ]
  },
  {
   "cell_type": "code",
   "execution_count": 25,
   "metadata": {},
   "outputs": [
    {
     "data": {
      "application/vnd.plotly.v1+json": {
       "config": {
        "linkText": "Export to plot.ly",
        "plotlyServerURL": "https://plot.ly",
        "showLink": false
       },
       "data": [
        {
         "colorbar": {
          "title": {
           "text": "Colorbar Title"
          }
         },
         "colorscale": [
          [
           0,
           "rgb(12,51,131)"
          ],
          [
           0.25,
           "rgb(10,136,186)"
          ],
          [
           0.5,
           "rgb(242,211,56)"
          ],
          [
           0.75,
           "rgb(242,143,56)"
          ],
          [
           1,
           "rgb(217,30,30)"
          ]
         ],
         "locationmode": "USA-states",
         "locations": [
          "AZ",
          "CA",
          "NY"
         ],
         "text": [
          "text1",
          "text2",
          "text3"
         ],
         "type": "choropleth",
         "z": [
          1,
          2,
          3
         ]
        }
       ],
       "layout": {
        "geo": {
         "scope": "usa"
        },
        "template": {
         "data": {
          "bar": [
           {
            "error_x": {
             "color": "#2a3f5f"
            },
            "error_y": {
             "color": "#2a3f5f"
            },
            "marker": {
             "line": {
              "color": "#E5ECF6",
              "width": 0.5
             }
            },
            "type": "bar"
           }
          ],
          "barpolar": [
           {
            "marker": {
             "line": {
              "color": "#E5ECF6",
              "width": 0.5
             }
            },
            "type": "barpolar"
           }
          ],
          "carpet": [
           {
            "aaxis": {
             "endlinecolor": "#2a3f5f",
             "gridcolor": "white",
             "linecolor": "white",
             "minorgridcolor": "white",
             "startlinecolor": "#2a3f5f"
            },
            "baxis": {
             "endlinecolor": "#2a3f5f",
             "gridcolor": "white",
             "linecolor": "white",
             "minorgridcolor": "white",
             "startlinecolor": "#2a3f5f"
            },
            "type": "carpet"
           }
          ],
          "choropleth": [
           {
            "colorbar": {
             "outlinewidth": 0,
             "ticks": ""
            },
            "type": "choropleth"
           }
          ],
          "contour": [
           {
            "colorbar": {
             "outlinewidth": 0,
             "ticks": ""
            },
            "colorscale": [
             [
              0,
              "#0d0887"
             ],
             [
              0.1111111111111111,
              "#46039f"
             ],
             [
              0.2222222222222222,
              "#7201a8"
             ],
             [
              0.3333333333333333,
              "#9c179e"
             ],
             [
              0.4444444444444444,
              "#bd3786"
             ],
             [
              0.5555555555555556,
              "#d8576b"
             ],
             [
              0.6666666666666666,
              "#ed7953"
             ],
             [
              0.7777777777777778,
              "#fb9f3a"
             ],
             [
              0.8888888888888888,
              "#fdca26"
             ],
             [
              1,
              "#f0f921"
             ]
            ],
            "type": "contour"
           }
          ],
          "contourcarpet": [
           {
            "colorbar": {
             "outlinewidth": 0,
             "ticks": ""
            },
            "type": "contourcarpet"
           }
          ],
          "heatmap": [
           {
            "colorbar": {
             "outlinewidth": 0,
             "ticks": ""
            },
            "colorscale": [
             [
              0,
              "#0d0887"
             ],
             [
              0.1111111111111111,
              "#46039f"
             ],
             [
              0.2222222222222222,
              "#7201a8"
             ],
             [
              0.3333333333333333,
              "#9c179e"
             ],
             [
              0.4444444444444444,
              "#bd3786"
             ],
             [
              0.5555555555555556,
              "#d8576b"
             ],
             [
              0.6666666666666666,
              "#ed7953"
             ],
             [
              0.7777777777777778,
              "#fb9f3a"
             ],
             [
              0.8888888888888888,
              "#fdca26"
             ],
             [
              1,
              "#f0f921"
             ]
            ],
            "type": "heatmap"
           }
          ],
          "heatmapgl": [
           {
            "colorbar": {
             "outlinewidth": 0,
             "ticks": ""
            },
            "colorscale": [
             [
              0,
              "#0d0887"
             ],
             [
              0.1111111111111111,
              "#46039f"
             ],
             [
              0.2222222222222222,
              "#7201a8"
             ],
             [
              0.3333333333333333,
              "#9c179e"
             ],
             [
              0.4444444444444444,
              "#bd3786"
             ],
             [
              0.5555555555555556,
              "#d8576b"
             ],
             [
              0.6666666666666666,
              "#ed7953"
             ],
             [
              0.7777777777777778,
              "#fb9f3a"
             ],
             [
              0.8888888888888888,
              "#fdca26"
             ],
             [
              1,
              "#f0f921"
             ]
            ],
            "type": "heatmapgl"
           }
          ],
          "histogram": [
           {
            "marker": {
             "colorbar": {
              "outlinewidth": 0,
              "ticks": ""
             }
            },
            "type": "histogram"
           }
          ],
          "histogram2d": [
           {
            "colorbar": {
             "outlinewidth": 0,
             "ticks": ""
            },
            "colorscale": [
             [
              0,
              "#0d0887"
             ],
             [
              0.1111111111111111,
              "#46039f"
             ],
             [
              0.2222222222222222,
              "#7201a8"
             ],
             [
              0.3333333333333333,
              "#9c179e"
             ],
             [
              0.4444444444444444,
              "#bd3786"
             ],
             [
              0.5555555555555556,
              "#d8576b"
             ],
             [
              0.6666666666666666,
              "#ed7953"
             ],
             [
              0.7777777777777778,
              "#fb9f3a"
             ],
             [
              0.8888888888888888,
              "#fdca26"
             ],
             [
              1,
              "#f0f921"
             ]
            ],
            "type": "histogram2d"
           }
          ],
          "histogram2dcontour": [
           {
            "colorbar": {
             "outlinewidth": 0,
             "ticks": ""
            },
            "colorscale": [
             [
              0,
              "#0d0887"
             ],
             [
              0.1111111111111111,
              "#46039f"
             ],
             [
              0.2222222222222222,
              "#7201a8"
             ],
             [
              0.3333333333333333,
              "#9c179e"
             ],
             [
              0.4444444444444444,
              "#bd3786"
             ],
             [
              0.5555555555555556,
              "#d8576b"
             ],
             [
              0.6666666666666666,
              "#ed7953"
             ],
             [
              0.7777777777777778,
              "#fb9f3a"
             ],
             [
              0.8888888888888888,
              "#fdca26"
             ],
             [
              1,
              "#f0f921"
             ]
            ],
            "type": "histogram2dcontour"
           }
          ],
          "mesh3d": [
           {
            "colorbar": {
             "outlinewidth": 0,
             "ticks": ""
            },
            "type": "mesh3d"
           }
          ],
          "parcoords": [
           {
            "line": {
             "colorbar": {
              "outlinewidth": 0,
              "ticks": ""
             }
            },
            "type": "parcoords"
           }
          ],
          "pie": [
           {
            "automargin": true,
            "type": "pie"
           }
          ],
          "scatter": [
           {
            "marker": {
             "colorbar": {
              "outlinewidth": 0,
              "ticks": ""
             }
            },
            "type": "scatter"
           }
          ],
          "scatter3d": [
           {
            "line": {
             "colorbar": {
              "outlinewidth": 0,
              "ticks": ""
             }
            },
            "marker": {
             "colorbar": {
              "outlinewidth": 0,
              "ticks": ""
             }
            },
            "type": "scatter3d"
           }
          ],
          "scattercarpet": [
           {
            "marker": {
             "colorbar": {
              "outlinewidth": 0,
              "ticks": ""
             }
            },
            "type": "scattercarpet"
           }
          ],
          "scattergeo": [
           {
            "marker": {
             "colorbar": {
              "outlinewidth": 0,
              "ticks": ""
             }
            },
            "type": "scattergeo"
           }
          ],
          "scattergl": [
           {
            "marker": {
             "colorbar": {
              "outlinewidth": 0,
              "ticks": ""
             }
            },
            "type": "scattergl"
           }
          ],
          "scattermapbox": [
           {
            "marker": {
             "colorbar": {
              "outlinewidth": 0,
              "ticks": ""
             }
            },
            "type": "scattermapbox"
           }
          ],
          "scatterpolar": [
           {
            "marker": {
             "colorbar": {
              "outlinewidth": 0,
              "ticks": ""
             }
            },
            "type": "scatterpolar"
           }
          ],
          "scatterpolargl": [
           {
            "marker": {
             "colorbar": {
              "outlinewidth": 0,
              "ticks": ""
             }
            },
            "type": "scatterpolargl"
           }
          ],
          "scatterternary": [
           {
            "marker": {
             "colorbar": {
              "outlinewidth": 0,
              "ticks": ""
             }
            },
            "type": "scatterternary"
           }
          ],
          "surface": [
           {
            "colorbar": {
             "outlinewidth": 0,
             "ticks": ""
            },
            "colorscale": [
             [
              0,
              "#0d0887"
             ],
             [
              0.1111111111111111,
              "#46039f"
             ],
             [
              0.2222222222222222,
              "#7201a8"
             ],
             [
              0.3333333333333333,
              "#9c179e"
             ],
             [
              0.4444444444444444,
              "#bd3786"
             ],
             [
              0.5555555555555556,
              "#d8576b"
             ],
             [
              0.6666666666666666,
              "#ed7953"
             ],
             [
              0.7777777777777778,
              "#fb9f3a"
             ],
             [
              0.8888888888888888,
              "#fdca26"
             ],
             [
              1,
              "#f0f921"
             ]
            ],
            "type": "surface"
           }
          ],
          "table": [
           {
            "cells": {
             "fill": {
              "color": "#EBF0F8"
             },
             "line": {
              "color": "white"
             }
            },
            "header": {
             "fill": {
              "color": "#C8D4E3"
             },
             "line": {
              "color": "white"
             }
            },
            "type": "table"
           }
          ]
         },
         "layout": {
          "annotationdefaults": {
           "arrowcolor": "#2a3f5f",
           "arrowhead": 0,
           "arrowwidth": 1
          },
          "coloraxis": {
           "colorbar": {
            "outlinewidth": 0,
            "ticks": ""
           }
          },
          "colorscale": {
           "diverging": [
            [
             0,
             "#8e0152"
            ],
            [
             0.1,
             "#c51b7d"
            ],
            [
             0.2,
             "#de77ae"
            ],
            [
             0.3,
             "#f1b6da"
            ],
            [
             0.4,
             "#fde0ef"
            ],
            [
             0.5,
             "#f7f7f7"
            ],
            [
             0.6,
             "#e6f5d0"
            ],
            [
             0.7,
             "#b8e186"
            ],
            [
             0.8,
             "#7fbc41"
            ],
            [
             0.9,
             "#4d9221"
            ],
            [
             1,
             "#276419"
            ]
           ],
           "sequential": [
            [
             0,
             "#0d0887"
            ],
            [
             0.1111111111111111,
             "#46039f"
            ],
            [
             0.2222222222222222,
             "#7201a8"
            ],
            [
             0.3333333333333333,
             "#9c179e"
            ],
            [
             0.4444444444444444,
             "#bd3786"
            ],
            [
             0.5555555555555556,
             "#d8576b"
            ],
            [
             0.6666666666666666,
             "#ed7953"
            ],
            [
             0.7777777777777778,
             "#fb9f3a"
            ],
            [
             0.8888888888888888,
             "#fdca26"
            ],
            [
             1,
             "#f0f921"
            ]
           ],
           "sequentialminus": [
            [
             0,
             "#0d0887"
            ],
            [
             0.1111111111111111,
             "#46039f"
            ],
            [
             0.2222222222222222,
             "#7201a8"
            ],
            [
             0.3333333333333333,
             "#9c179e"
            ],
            [
             0.4444444444444444,
             "#bd3786"
            ],
            [
             0.5555555555555556,
             "#d8576b"
            ],
            [
             0.6666666666666666,
             "#ed7953"
            ],
            [
             0.7777777777777778,
             "#fb9f3a"
            ],
            [
             0.8888888888888888,
             "#fdca26"
            ],
            [
             1,
             "#f0f921"
            ]
           ]
          },
          "colorway": [
           "#636efa",
           "#EF553B",
           "#00cc96",
           "#ab63fa",
           "#FFA15A",
           "#19d3f3",
           "#FF6692",
           "#B6E880",
           "#FF97FF",
           "#FECB52"
          ],
          "font": {
           "color": "#2a3f5f"
          },
          "geo": {
           "bgcolor": "white",
           "lakecolor": "white",
           "landcolor": "#E5ECF6",
           "showlakes": true,
           "showland": true,
           "subunitcolor": "white"
          },
          "hoverlabel": {
           "align": "left"
          },
          "hovermode": "closest",
          "mapbox": {
           "style": "light"
          },
          "paper_bgcolor": "white",
          "plot_bgcolor": "#E5ECF6",
          "polar": {
           "angularaxis": {
            "gridcolor": "white",
            "linecolor": "white",
            "ticks": ""
           },
           "bgcolor": "#E5ECF6",
           "radialaxis": {
            "gridcolor": "white",
            "linecolor": "white",
            "ticks": ""
           }
          },
          "scene": {
           "xaxis": {
            "backgroundcolor": "#E5ECF6",
            "gridcolor": "white",
            "gridwidth": 2,
            "linecolor": "white",
            "showbackground": true,
            "ticks": "",
            "zerolinecolor": "white"
           },
           "yaxis": {
            "backgroundcolor": "#E5ECF6",
            "gridcolor": "white",
            "gridwidth": 2,
            "linecolor": "white",
            "showbackground": true,
            "ticks": "",
            "zerolinecolor": "white"
           },
           "zaxis": {
            "backgroundcolor": "#E5ECF6",
            "gridcolor": "white",
            "gridwidth": 2,
            "linecolor": "white",
            "showbackground": true,
            "ticks": "",
            "zerolinecolor": "white"
           }
          },
          "shapedefaults": {
           "line": {
            "color": "#2a3f5f"
           }
          },
          "ternary": {
           "aaxis": {
            "gridcolor": "white",
            "linecolor": "white",
            "ticks": ""
           },
           "baxis": {
            "gridcolor": "white",
            "linecolor": "white",
            "ticks": ""
           },
           "bgcolor": "#E5ECF6",
           "caxis": {
            "gridcolor": "white",
            "linecolor": "white",
            "ticks": ""
           }
          },
          "title": {
           "x": 0.05
          },
          "xaxis": {
           "automargin": true,
           "gridcolor": "white",
           "linecolor": "white",
           "ticks": "",
           "title": {
            "standoff": 15
           },
           "zerolinecolor": "white",
           "zerolinewidth": 2
          },
          "yaxis": {
           "automargin": true,
           "gridcolor": "white",
           "linecolor": "white",
           "ticks": "",
           "title": {
            "standoff": 15
           },
           "zerolinecolor": "white",
           "zerolinewidth": 2
          }
         }
        }
       }
      },
      "text/html": [
       "<div>                            <div id=\"e71d3e2e-e6da-4e70-9489-ba3db7fdec50\" class=\"plotly-graph-div\" style=\"height:525px; width:100%;\"></div>            <script type=\"text/javascript\">                require([\"plotly\"], function(Plotly) {                    window.PLOTLYENV=window.PLOTLYENV || {};                                    if (document.getElementById(\"e71d3e2e-e6da-4e70-9489-ba3db7fdec50\")) {                    Plotly.newPlot(                        \"e71d3e2e-e6da-4e70-9489-ba3db7fdec50\",                        [{\"colorbar\": {\"title\": {\"text\": \"Colorbar Title\"}}, \"colorscale\": [[0.0, \"rgb(12,51,131)\"], [0.25, \"rgb(10,136,186)\"], [0.5, \"rgb(242,211,56)\"], [0.75, \"rgb(242,143,56)\"], [1.0, \"rgb(217,30,30)\"]], \"locationmode\": \"USA-states\", \"locations\": [\"AZ\", \"CA\", \"NY\"], \"text\": [\"text1\", \"text2\", \"text3\"], \"type\": \"choropleth\", \"z\": [1.0, 2.0, 3.0]}],                        {\"geo\": {\"scope\": \"usa\"}, \"template\": {\"data\": {\"bar\": [{\"error_x\": {\"color\": \"#2a3f5f\"}, \"error_y\": {\"color\": \"#2a3f5f\"}, \"marker\": {\"line\": {\"color\": \"#E5ECF6\", \"width\": 0.5}}, \"type\": \"bar\"}], \"barpolar\": [{\"marker\": {\"line\": {\"color\": \"#E5ECF6\", \"width\": 0.5}}, \"type\": \"barpolar\"}], \"carpet\": [{\"aaxis\": {\"endlinecolor\": \"#2a3f5f\", \"gridcolor\": \"white\", \"linecolor\": \"white\", \"minorgridcolor\": \"white\", \"startlinecolor\": \"#2a3f5f\"}, \"baxis\": {\"endlinecolor\": \"#2a3f5f\", \"gridcolor\": \"white\", \"linecolor\": \"white\", \"minorgridcolor\": \"white\", \"startlinecolor\": \"#2a3f5f\"}, \"type\": \"carpet\"}], \"choropleth\": [{\"colorbar\": {\"outlinewidth\": 0, \"ticks\": \"\"}, \"type\": \"choropleth\"}], \"contour\": [{\"colorbar\": {\"outlinewidth\": 0, \"ticks\": \"\"}, \"colorscale\": [[0.0, \"#0d0887\"], [0.1111111111111111, \"#46039f\"], [0.2222222222222222, \"#7201a8\"], [0.3333333333333333, \"#9c179e\"], [0.4444444444444444, \"#bd3786\"], [0.5555555555555556, \"#d8576b\"], [0.6666666666666666, \"#ed7953\"], [0.7777777777777778, \"#fb9f3a\"], [0.8888888888888888, \"#fdca26\"], [1.0, \"#f0f921\"]], \"type\": \"contour\"}], \"contourcarpet\": [{\"colorbar\": {\"outlinewidth\": 0, \"ticks\": \"\"}, \"type\": \"contourcarpet\"}], \"heatmap\": [{\"colorbar\": {\"outlinewidth\": 0, \"ticks\": \"\"}, \"colorscale\": [[0.0, \"#0d0887\"], [0.1111111111111111, \"#46039f\"], [0.2222222222222222, \"#7201a8\"], [0.3333333333333333, \"#9c179e\"], [0.4444444444444444, \"#bd3786\"], [0.5555555555555556, \"#d8576b\"], [0.6666666666666666, \"#ed7953\"], [0.7777777777777778, \"#fb9f3a\"], [0.8888888888888888, \"#fdca26\"], [1.0, \"#f0f921\"]], \"type\": \"heatmap\"}], \"heatmapgl\": [{\"colorbar\": {\"outlinewidth\": 0, \"ticks\": \"\"}, \"colorscale\": [[0.0, \"#0d0887\"], [0.1111111111111111, \"#46039f\"], [0.2222222222222222, \"#7201a8\"], [0.3333333333333333, \"#9c179e\"], [0.4444444444444444, \"#bd3786\"], [0.5555555555555556, \"#d8576b\"], [0.6666666666666666, \"#ed7953\"], [0.7777777777777778, \"#fb9f3a\"], [0.8888888888888888, \"#fdca26\"], [1.0, \"#f0f921\"]], \"type\": \"heatmapgl\"}], \"histogram\": [{\"marker\": {\"colorbar\": {\"outlinewidth\": 0, \"ticks\": \"\"}}, \"type\": \"histogram\"}], \"histogram2d\": [{\"colorbar\": {\"outlinewidth\": 0, \"ticks\": \"\"}, \"colorscale\": [[0.0, \"#0d0887\"], [0.1111111111111111, \"#46039f\"], [0.2222222222222222, \"#7201a8\"], [0.3333333333333333, \"#9c179e\"], [0.4444444444444444, \"#bd3786\"], [0.5555555555555556, \"#d8576b\"], [0.6666666666666666, \"#ed7953\"], [0.7777777777777778, \"#fb9f3a\"], [0.8888888888888888, \"#fdca26\"], [1.0, \"#f0f921\"]], \"type\": \"histogram2d\"}], \"histogram2dcontour\": [{\"colorbar\": {\"outlinewidth\": 0, \"ticks\": \"\"}, \"colorscale\": [[0.0, \"#0d0887\"], [0.1111111111111111, \"#46039f\"], [0.2222222222222222, \"#7201a8\"], [0.3333333333333333, \"#9c179e\"], [0.4444444444444444, \"#bd3786\"], [0.5555555555555556, \"#d8576b\"], [0.6666666666666666, \"#ed7953\"], [0.7777777777777778, \"#fb9f3a\"], [0.8888888888888888, \"#fdca26\"], [1.0, \"#f0f921\"]], \"type\": \"histogram2dcontour\"}], \"mesh3d\": [{\"colorbar\": {\"outlinewidth\": 0, \"ticks\": \"\"}, \"type\": \"mesh3d\"}], \"parcoords\": [{\"line\": {\"colorbar\": {\"outlinewidth\": 0, \"ticks\": \"\"}}, \"type\": \"parcoords\"}], \"pie\": [{\"automargin\": true, \"type\": \"pie\"}], \"scatter\": [{\"marker\": {\"colorbar\": {\"outlinewidth\": 0, \"ticks\": \"\"}}, \"type\": \"scatter\"}], \"scatter3d\": [{\"line\": {\"colorbar\": {\"outlinewidth\": 0, \"ticks\": \"\"}}, \"marker\": {\"colorbar\": {\"outlinewidth\": 0, \"ticks\": \"\"}}, \"type\": \"scatter3d\"}], \"scattercarpet\": [{\"marker\": {\"colorbar\": {\"outlinewidth\": 0, \"ticks\": \"\"}}, \"type\": \"scattercarpet\"}], \"scattergeo\": [{\"marker\": {\"colorbar\": {\"outlinewidth\": 0, \"ticks\": \"\"}}, \"type\": \"scattergeo\"}], \"scattergl\": [{\"marker\": {\"colorbar\": {\"outlinewidth\": 0, \"ticks\": \"\"}}, \"type\": \"scattergl\"}], \"scattermapbox\": [{\"marker\": {\"colorbar\": {\"outlinewidth\": 0, \"ticks\": \"\"}}, \"type\": \"scattermapbox\"}], \"scatterpolar\": [{\"marker\": {\"colorbar\": {\"outlinewidth\": 0, \"ticks\": \"\"}}, \"type\": \"scatterpolar\"}], \"scatterpolargl\": [{\"marker\": {\"colorbar\": {\"outlinewidth\": 0, \"ticks\": \"\"}}, \"type\": \"scatterpolargl\"}], \"scatterternary\": [{\"marker\": {\"colorbar\": {\"outlinewidth\": 0, \"ticks\": \"\"}}, \"type\": \"scatterternary\"}], \"surface\": [{\"colorbar\": {\"outlinewidth\": 0, \"ticks\": \"\"}, \"colorscale\": [[0.0, \"#0d0887\"], [0.1111111111111111, \"#46039f\"], [0.2222222222222222, \"#7201a8\"], [0.3333333333333333, \"#9c179e\"], [0.4444444444444444, \"#bd3786\"], [0.5555555555555556, \"#d8576b\"], [0.6666666666666666, \"#ed7953\"], [0.7777777777777778, \"#fb9f3a\"], [0.8888888888888888, \"#fdca26\"], [1.0, \"#f0f921\"]], \"type\": \"surface\"}], \"table\": [{\"cells\": {\"fill\": {\"color\": \"#EBF0F8\"}, \"line\": {\"color\": \"white\"}}, \"header\": {\"fill\": {\"color\": \"#C8D4E3\"}, \"line\": {\"color\": \"white\"}}, \"type\": \"table\"}]}, \"layout\": {\"annotationdefaults\": {\"arrowcolor\": \"#2a3f5f\", \"arrowhead\": 0, \"arrowwidth\": 1}, \"coloraxis\": {\"colorbar\": {\"outlinewidth\": 0, \"ticks\": \"\"}}, \"colorscale\": {\"diverging\": [[0, \"#8e0152\"], [0.1, \"#c51b7d\"], [0.2, \"#de77ae\"], [0.3, \"#f1b6da\"], [0.4, \"#fde0ef\"], [0.5, \"#f7f7f7\"], [0.6, \"#e6f5d0\"], [0.7, \"#b8e186\"], [0.8, \"#7fbc41\"], [0.9, \"#4d9221\"], [1, \"#276419\"]], \"sequential\": [[0.0, \"#0d0887\"], [0.1111111111111111, \"#46039f\"], [0.2222222222222222, \"#7201a8\"], [0.3333333333333333, \"#9c179e\"], [0.4444444444444444, \"#bd3786\"], [0.5555555555555556, \"#d8576b\"], [0.6666666666666666, \"#ed7953\"], [0.7777777777777778, \"#fb9f3a\"], [0.8888888888888888, \"#fdca26\"], [1.0, \"#f0f921\"]], \"sequentialminus\": [[0.0, \"#0d0887\"], [0.1111111111111111, \"#46039f\"], [0.2222222222222222, \"#7201a8\"], [0.3333333333333333, \"#9c179e\"], [0.4444444444444444, \"#bd3786\"], [0.5555555555555556, \"#d8576b\"], [0.6666666666666666, \"#ed7953\"], [0.7777777777777778, \"#fb9f3a\"], [0.8888888888888888, \"#fdca26\"], [1.0, \"#f0f921\"]]}, \"colorway\": [\"#636efa\", \"#EF553B\", \"#00cc96\", \"#ab63fa\", \"#FFA15A\", \"#19d3f3\", \"#FF6692\", \"#B6E880\", \"#FF97FF\", \"#FECB52\"], \"font\": {\"color\": \"#2a3f5f\"}, \"geo\": {\"bgcolor\": \"white\", \"lakecolor\": \"white\", \"landcolor\": \"#E5ECF6\", \"showlakes\": true, \"showland\": true, \"subunitcolor\": \"white\"}, \"hoverlabel\": {\"align\": \"left\"}, \"hovermode\": \"closest\", \"mapbox\": {\"style\": \"light\"}, \"paper_bgcolor\": \"white\", \"plot_bgcolor\": \"#E5ECF6\", \"polar\": {\"angularaxis\": {\"gridcolor\": \"white\", \"linecolor\": \"white\", \"ticks\": \"\"}, \"bgcolor\": \"#E5ECF6\", \"radialaxis\": {\"gridcolor\": \"white\", \"linecolor\": \"white\", \"ticks\": \"\"}}, \"scene\": {\"xaxis\": {\"backgroundcolor\": \"#E5ECF6\", \"gridcolor\": \"white\", \"gridwidth\": 2, \"linecolor\": \"white\", \"showbackground\": true, \"ticks\": \"\", \"zerolinecolor\": \"white\"}, \"yaxis\": {\"backgroundcolor\": \"#E5ECF6\", \"gridcolor\": \"white\", \"gridwidth\": 2, \"linecolor\": \"white\", \"showbackground\": true, \"ticks\": \"\", \"zerolinecolor\": \"white\"}, \"zaxis\": {\"backgroundcolor\": \"#E5ECF6\", \"gridcolor\": \"white\", \"gridwidth\": 2, \"linecolor\": \"white\", \"showbackground\": true, \"ticks\": \"\", \"zerolinecolor\": \"white\"}}, \"shapedefaults\": {\"line\": {\"color\": \"#2a3f5f\"}}, \"ternary\": {\"aaxis\": {\"gridcolor\": \"white\", \"linecolor\": \"white\", \"ticks\": \"\"}, \"baxis\": {\"gridcolor\": \"white\", \"linecolor\": \"white\", \"ticks\": \"\"}, \"bgcolor\": \"#E5ECF6\", \"caxis\": {\"gridcolor\": \"white\", \"linecolor\": \"white\", \"ticks\": \"\"}}, \"title\": {\"x\": 0.05}, \"xaxis\": {\"automargin\": true, \"gridcolor\": \"white\", \"linecolor\": \"white\", \"ticks\": \"\", \"title\": {\"standoff\": 15}, \"zerolinecolor\": \"white\", \"zerolinewidth\": 2}, \"yaxis\": {\"automargin\": true, \"gridcolor\": \"white\", \"linecolor\": \"white\", \"ticks\": \"\", \"title\": {\"standoff\": 15}, \"zerolinecolor\": \"white\", \"zerolinewidth\": 2}}}},                        {\"responsive\": true}                    ).then(function(){\n",
       "                            \n",
       "var gd = document.getElementById('e71d3e2e-e6da-4e70-9489-ba3db7fdec50');\n",
       "var x = new MutationObserver(function (mutations, observer) {{\n",
       "        var display = window.getComputedStyle(gd).display;\n",
       "        if (!display || display === 'none') {{\n",
       "            console.log([gd, 'removed!']);\n",
       "            Plotly.purge(gd);\n",
       "            observer.disconnect();\n",
       "        }}\n",
       "}});\n",
       "\n",
       "// Listen for the removal of the full notebook cells\n",
       "var notebookContainer = gd.closest('#notebook-container');\n",
       "if (notebookContainer) {{\n",
       "    x.observe(notebookContainer, {childList: true});\n",
       "}}\n",
       "\n",
       "// Listen for the clearing of the current output cell\n",
       "var outputEl = gd.closest('.output');\n",
       "if (outputEl) {{\n",
       "    x.observe(outputEl, {childList: true});\n",
       "}}\n",
       "\n",
       "                        })                };                });            </script>        </div>"
      ]
     },
     "metadata": {},
     "output_type": "display_data"
    }
   ],
   "source": [
    "iplot(choromap)"
   ]
  },
  {
   "cell_type": "markdown",
   "metadata": {},
   "source": [
    "# Real Data US Map Choropleth"
   ]
  },
  {
   "cell_type": "markdown",
   "metadata": {},
   "source": [
    "** Import the 2012_Election_Data csv file using pandas"
   ]
  },
  {
   "cell_type": "code",
   "execution_count": 26,
   "metadata": {},
   "outputs": [],
   "source": [
    "usdf = pd.read_csv('2012_Election_Data.csv')"
   ]
  },
  {
   "cell_type": "code",
   "execution_count": 27,
   "metadata": {},
   "outputs": [
    {
     "data": {
      "text/html": [
       "<div>\n",
       "<style scoped>\n",
       "    .dataframe tbody tr th:only-of-type {\n",
       "        vertical-align: middle;\n",
       "    }\n",
       "\n",
       "    .dataframe tbody tr th {\n",
       "        vertical-align: top;\n",
       "    }\n",
       "\n",
       "    .dataframe thead th {\n",
       "        text-align: right;\n",
       "    }\n",
       "</style>\n",
       "<table border=\"1\" class=\"dataframe\">\n",
       "  <thead>\n",
       "    <tr style=\"text-align: right;\">\n",
       "      <th></th>\n",
       "      <th>Year</th>\n",
       "      <th>ICPSR State Code</th>\n",
       "      <th>Alphanumeric State Code</th>\n",
       "      <th>State</th>\n",
       "      <th>VEP Total Ballots Counted</th>\n",
       "      <th>VEP Highest Office</th>\n",
       "      <th>VAP Highest Office</th>\n",
       "      <th>Total Ballots Counted</th>\n",
       "      <th>Highest Office</th>\n",
       "      <th>Voting-Eligible Population (VEP)</th>\n",
       "      <th>Voting-Age Population (VAP)</th>\n",
       "      <th>% Non-citizen</th>\n",
       "      <th>Prison</th>\n",
       "      <th>Probation</th>\n",
       "      <th>Parole</th>\n",
       "      <th>Total Ineligible Felon</th>\n",
       "      <th>State Abv</th>\n",
       "    </tr>\n",
       "  </thead>\n",
       "  <tbody>\n",
       "    <tr>\n",
       "      <th>0</th>\n",
       "      <td>2012</td>\n",
       "      <td>41</td>\n",
       "      <td>1</td>\n",
       "      <td>Alabama</td>\n",
       "      <td>NaN</td>\n",
       "      <td>58.6%</td>\n",
       "      <td>56.0%</td>\n",
       "      <td>NaN</td>\n",
       "      <td>2,074,338</td>\n",
       "      <td>3,539,217</td>\n",
       "      <td>3707440.0</td>\n",
       "      <td>2.6%</td>\n",
       "      <td>32,232</td>\n",
       "      <td>57,993</td>\n",
       "      <td>8,616</td>\n",
       "      <td>71,584</td>\n",
       "      <td>AL</td>\n",
       "    </tr>\n",
       "    <tr>\n",
       "      <th>1</th>\n",
       "      <td>2012</td>\n",
       "      <td>81</td>\n",
       "      <td>2</td>\n",
       "      <td>Alaska</td>\n",
       "      <td>58.9%</td>\n",
       "      <td>58.7%</td>\n",
       "      <td>55.3%</td>\n",
       "      <td>301,694</td>\n",
       "      <td>300,495</td>\n",
       "      <td>511,792</td>\n",
       "      <td>543763.0</td>\n",
       "      <td>3.8%</td>\n",
       "      <td>5,633</td>\n",
       "      <td>7,173</td>\n",
       "      <td>1,882</td>\n",
       "      <td>11,317</td>\n",
       "      <td>AK</td>\n",
       "    </tr>\n",
       "    <tr>\n",
       "      <th>2</th>\n",
       "      <td>2012</td>\n",
       "      <td>61</td>\n",
       "      <td>3</td>\n",
       "      <td>Arizona</td>\n",
       "      <td>53.0%</td>\n",
       "      <td>52.6%</td>\n",
       "      <td>46.5%</td>\n",
       "      <td>2,323,579</td>\n",
       "      <td>2,306,559</td>\n",
       "      <td>4,387,900</td>\n",
       "      <td>4959270.0</td>\n",
       "      <td>9.9%</td>\n",
       "      <td>35,188</td>\n",
       "      <td>72,452</td>\n",
       "      <td>7,460</td>\n",
       "      <td>81,048</td>\n",
       "      <td>AZ</td>\n",
       "    </tr>\n",
       "    <tr>\n",
       "      <th>3</th>\n",
       "      <td>2012</td>\n",
       "      <td>42</td>\n",
       "      <td>4</td>\n",
       "      <td>Arkansas</td>\n",
       "      <td>51.1%</td>\n",
       "      <td>50.7%</td>\n",
       "      <td>47.7%</td>\n",
       "      <td>1,078,548</td>\n",
       "      <td>1,069,468</td>\n",
       "      <td>2,109,847</td>\n",
       "      <td>2242740.0</td>\n",
       "      <td>3.5%</td>\n",
       "      <td>14,471</td>\n",
       "      <td>30,122</td>\n",
       "      <td>23,372</td>\n",
       "      <td>53,808</td>\n",
       "      <td>AR</td>\n",
       "    </tr>\n",
       "    <tr>\n",
       "      <th>4</th>\n",
       "      <td>2012</td>\n",
       "      <td>71</td>\n",
       "      <td>5</td>\n",
       "      <td>California</td>\n",
       "      <td>55.7%</td>\n",
       "      <td>55.1%</td>\n",
       "      <td>45.1%</td>\n",
       "      <td>13,202,158</td>\n",
       "      <td>13,038,547</td>\n",
       "      <td>23,681,837</td>\n",
       "      <td>28913129.0</td>\n",
       "      <td>17.4%</td>\n",
       "      <td>119,455</td>\n",
       "      <td>0</td>\n",
       "      <td>89,287</td>\n",
       "      <td>208,742</td>\n",
       "      <td>CA</td>\n",
       "    </tr>\n",
       "  </tbody>\n",
       "</table>\n",
       "</div>"
      ],
      "text/plain": [
       "   Year  ICPSR State Code  Alphanumeric State Code       State  \\\n",
       "0  2012                41                        1     Alabama   \n",
       "1  2012                81                        2      Alaska   \n",
       "2  2012                61                        3     Arizona   \n",
       "3  2012                42                        4    Arkansas   \n",
       "4  2012                71                        5  California   \n",
       "\n",
       "  VEP Total Ballots Counted VEP Highest Office VAP Highest Office  \\\n",
       "0                       NaN              58.6%              56.0%   \n",
       "1                     58.9%              58.7%              55.3%   \n",
       "2                     53.0%              52.6%              46.5%   \n",
       "3                     51.1%              50.7%              47.7%   \n",
       "4                     55.7%              55.1%              45.1%   \n",
       "\n",
       "  Total Ballots Counted Highest Office Voting-Eligible Population (VEP)  \\\n",
       "0                   NaN      2,074,338                        3,539,217   \n",
       "1               301,694        300,495                          511,792   \n",
       "2             2,323,579      2,306,559                        4,387,900   \n",
       "3             1,078,548      1,069,468                        2,109,847   \n",
       "4            13,202,158     13,038,547                       23,681,837   \n",
       "\n",
       "   Voting-Age Population (VAP) % Non-citizen   Prison Probation  Parole  \\\n",
       "0                    3707440.0          2.6%   32,232    57,993   8,616   \n",
       "1                     543763.0          3.8%    5,633     7,173   1,882   \n",
       "2                    4959270.0          9.9%   35,188    72,452   7,460   \n",
       "3                    2242740.0          3.5%   14,471    30,122  23,372   \n",
       "4                   28913129.0         17.4%  119,455         0  89,287   \n",
       "\n",
       "  Total Ineligible Felon State Abv  \n",
       "0                 71,584        AL  \n",
       "1                 11,317        AK  \n",
       "2                 81,048        AZ  \n",
       "3                 53,808        AR  \n",
       "4                208,742        CA  "
      ]
     },
     "execution_count": 27,
     "metadata": {},
     "output_type": "execute_result"
    }
   ],
   "source": [
    "usdf.head()"
   ]
  },
  {
   "cell_type": "code",
   "execution_count": 28,
   "metadata": {},
   "outputs": [],
   "source": [
    "data = dict(type='choropleth',\n",
    "            colorscale = 'Viridis',\n",
    "            reversescale = True,\n",
    "            locations = usdf['State Abv'],\n",
    "            z = usdf['Voting-Age Population (VAP)'],\n",
    "            locationmode = 'USA-states',\n",
    "            text = usdf['State'],\n",
    "            marker = dict(line = dict(color = 'rgb(255,255,255)',width = 1)),\n",
    "            colorbar = {'title':\"Voting-Age Population (VAP)\"}\n",
    "            ) "
   ]
  },
  {
   "cell_type": "code",
   "execution_count": 29,
   "metadata": {},
   "outputs": [],
   "source": [
    "layout = dict(title = '2012 General Election Voting Data',\n",
    "              geo = dict(scope='usa',\n",
    "                         showlakes = True,\n",
    "                         lakecolor = 'rgb(85,173,240)')\n",
    "             )"
   ]
  },
  {
   "cell_type": "code",
   "execution_count": 30,
   "metadata": {},
   "outputs": [
    {
     "data": {
      "text/plain": [
       "'temp-plot.html'"
      ]
     },
     "execution_count": 30,
     "metadata": {},
     "output_type": "execute_result"
    }
   ],
   "source": [
    "choromap = go.Figure(data = [data],layout = layout)\n",
    "plot(choromap,validate=False)"
   ]
  },
  {
   "cell_type": "code",
   "execution_count": null,
   "metadata": {},
   "outputs": [],
   "source": []
  }
 ],
 "metadata": {
  "kernelspec": {
   "display_name": "Python 3",
   "language": "python",
   "name": "python3"
  },
  "language_info": {
   "codemirror_mode": {
    "name": "ipython",
    "version": 3
   },
   "file_extension": ".py",
   "mimetype": "text/x-python",
   "name": "python",
   "nbconvert_exporter": "python",
   "pygments_lexer": "ipython3",
   "version": "3.7.4"
  }
 },
 "nbformat": 4,
 "nbformat_minor": 2
}
