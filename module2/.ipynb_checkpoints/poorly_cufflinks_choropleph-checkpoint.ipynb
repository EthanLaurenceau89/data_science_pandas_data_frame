{
 "cells": [
  {
   "cell_type": "markdown",
   "metadata": {},
   "source": [
    "# Choropleth Maps Exercise - Solutions\n",
    "\n",
    "Welcome to the Choropleth Maps Exercise! In this exercise we will give you some simple datasets and ask you to create Choropleth Maps from them. Due to the Nature of Plotly we can't show you examples embedded inside the notebook.\n",
    "\n",
    "[Full Documentation Reference](https://plot.ly/python/reference/#choropleth)\n",
    "\n",
    "## Plotly Imports"
   ]
  },
  {
   "cell_type": "code",
   "execution_count": 1,
   "metadata": {},
   "outputs": [],
   "source": [
    "from plotly import __version__"
   ]
  },
  {
   "cell_type": "code",
   "execution_count": 2,
   "metadata": {},
   "outputs": [
    {
     "name": "stdout",
     "output_type": "stream",
     "text": [
      "4.10.0\n"
     ]
    }
   ],
   "source": [
    "print(__version__)"
   ]
  },
  {
   "cell_type": "code",
   "execution_count": 3,
   "metadata": {},
   "outputs": [
    {
     "name": "stdout",
     "output_type": "stream",
     "text": [
      "Requirement already satisfied: cufflinks in /Users/dmoussa/opt/anaconda3/lib/python3.7/site-packages (0.17.3)\n",
      "Requirement already satisfied: numpy>=1.9.2 in /Users/dmoussa/opt/anaconda3/lib/python3.7/site-packages (from cufflinks) (1.17.2)\n",
      "Requirement already satisfied: six>=1.9.0 in /Users/dmoussa/opt/anaconda3/lib/python3.7/site-packages (from cufflinks) (1.12.0)\n",
      "Requirement already satisfied: pandas>=0.19.2 in /Users/dmoussa/opt/anaconda3/lib/python3.7/site-packages (from cufflinks) (1.1.2)\n",
      "Requirement already satisfied: plotly>=4.1.1 in /Users/dmoussa/opt/anaconda3/lib/python3.7/site-packages (from cufflinks) (4.10.0)\n",
      "Requirement already satisfied: colorlover>=0.2.1 in /Users/dmoussa/opt/anaconda3/lib/python3.7/site-packages (from cufflinks) (0.3.0)\n",
      "Requirement already satisfied: ipython>=5.3.0 in /Users/dmoussa/opt/anaconda3/lib/python3.7/site-packages (from cufflinks) (7.8.0)\n",
      "Requirement already satisfied: ipywidgets>=7.0.0 in /Users/dmoussa/opt/anaconda3/lib/python3.7/site-packages (from cufflinks) (7.5.1)\n",
      "Requirement already satisfied: setuptools>=34.4.1 in /Users/dmoussa/opt/anaconda3/lib/python3.7/site-packages (from cufflinks) (41.4.0)\n",
      "Requirement already satisfied: python-dateutil>=2.7.3 in /Users/dmoussa/opt/anaconda3/lib/python3.7/site-packages (from pandas>=0.19.2->cufflinks) (2.8.0)\n",
      "Requirement already satisfied: pytz>=2017.2 in /Users/dmoussa/opt/anaconda3/lib/python3.7/site-packages (from pandas>=0.19.2->cufflinks) (2019.3)\n",
      "Requirement already satisfied: retrying>=1.3.3 in /Users/dmoussa/opt/anaconda3/lib/python3.7/site-packages (from plotly>=4.1.1->cufflinks) (1.3.3)\n",
      "Requirement already satisfied: traitlets>=4.2 in /Users/dmoussa/opt/anaconda3/lib/python3.7/site-packages (from ipython>=5.3.0->cufflinks) (4.3.3)\n",
      "Requirement already satisfied: pickleshare in /Users/dmoussa/opt/anaconda3/lib/python3.7/site-packages (from ipython>=5.3.0->cufflinks) (0.7.5)\n",
      "Requirement already satisfied: prompt-toolkit<2.1.0,>=2.0.0 in /Users/dmoussa/opt/anaconda3/lib/python3.7/site-packages (from ipython>=5.3.0->cufflinks) (2.0.10)\n",
      "Requirement already satisfied: jedi>=0.10 in /Users/dmoussa/opt/anaconda3/lib/python3.7/site-packages (from ipython>=5.3.0->cufflinks) (0.15.1)\n",
      "Requirement already satisfied: decorator in /Users/dmoussa/opt/anaconda3/lib/python3.7/site-packages (from ipython>=5.3.0->cufflinks) (4.4.0)\n",
      "Requirement already satisfied: appnope; sys_platform == \"darwin\" in /Users/dmoussa/opt/anaconda3/lib/python3.7/site-packages (from ipython>=5.3.0->cufflinks) (0.1.0)\n",
      "Requirement already satisfied: pexpect; sys_platform != \"win32\" in /Users/dmoussa/opt/anaconda3/lib/python3.7/site-packages (from ipython>=5.3.0->cufflinks) (4.7.0)\n",
      "Requirement already satisfied: backcall in /Users/dmoussa/opt/anaconda3/lib/python3.7/site-packages (from ipython>=5.3.0->cufflinks) (0.1.0)\n",
      "Requirement already satisfied: pygments in /Users/dmoussa/opt/anaconda3/lib/python3.7/site-packages (from ipython>=5.3.0->cufflinks) (2.4.2)\n",
      "Requirement already satisfied: ipykernel>=4.5.1 in /Users/dmoussa/opt/anaconda3/lib/python3.7/site-packages (from ipywidgets>=7.0.0->cufflinks) (5.1.2)\n",
      "Requirement already satisfied: widgetsnbextension~=3.5.0 in /Users/dmoussa/opt/anaconda3/lib/python3.7/site-packages (from ipywidgets>=7.0.0->cufflinks) (3.5.1)\n",
      "Requirement already satisfied: nbformat>=4.2.0 in /Users/dmoussa/opt/anaconda3/lib/python3.7/site-packages (from ipywidgets>=7.0.0->cufflinks) (4.4.0)\n",
      "Requirement already satisfied: ipython-genutils in /Users/dmoussa/opt/anaconda3/lib/python3.7/site-packages (from traitlets>=4.2->ipython>=5.3.0->cufflinks) (0.2.0)\n",
      "Requirement already satisfied: wcwidth in /Users/dmoussa/opt/anaconda3/lib/python3.7/site-packages (from prompt-toolkit<2.1.0,>=2.0.0->ipython>=5.3.0->cufflinks) (0.1.7)\n",
      "Requirement already satisfied: parso>=0.5.0 in /Users/dmoussa/opt/anaconda3/lib/python3.7/site-packages (from jedi>=0.10->ipython>=5.3.0->cufflinks) (0.5.1)\n",
      "Requirement already satisfied: ptyprocess>=0.5 in /Users/dmoussa/opt/anaconda3/lib/python3.7/site-packages (from pexpect; sys_platform != \"win32\"->ipython>=5.3.0->cufflinks) (0.6.0)\n",
      "Requirement already satisfied: tornado>=4.2 in /Users/dmoussa/opt/anaconda3/lib/python3.7/site-packages (from ipykernel>=4.5.1->ipywidgets>=7.0.0->cufflinks) (6.0.3)\n",
      "Requirement already satisfied: jupyter-client in /Users/dmoussa/opt/anaconda3/lib/python3.7/site-packages (from ipykernel>=4.5.1->ipywidgets>=7.0.0->cufflinks) (5.3.3)\n",
      "Requirement already satisfied: notebook>=4.4.1 in /Users/dmoussa/opt/anaconda3/lib/python3.7/site-packages (from widgetsnbextension~=3.5.0->ipywidgets>=7.0.0->cufflinks) (6.0.1)\n",
      "Requirement already satisfied: jupyter-core in /Users/dmoussa/opt/anaconda3/lib/python3.7/site-packages (from nbformat>=4.2.0->ipywidgets>=7.0.0->cufflinks) (4.5.0)\n",
      "Requirement already satisfied: jsonschema!=2.5.0,>=2.4 in /Users/dmoussa/opt/anaconda3/lib/python3.7/site-packages (from nbformat>=4.2.0->ipywidgets>=7.0.0->cufflinks) (3.0.2)\n",
      "Requirement already satisfied: pyzmq>=13 in /Users/dmoussa/opt/anaconda3/lib/python3.7/site-packages (from jupyter-client->ipykernel>=4.5.1->ipywidgets>=7.0.0->cufflinks) (18.1.0)\n",
      "Requirement already satisfied: jinja2 in /Users/dmoussa/opt/anaconda3/lib/python3.7/site-packages (from notebook>=4.4.1->widgetsnbextension~=3.5.0->ipywidgets>=7.0.0->cufflinks) (2.11.2)\n",
      "Requirement already satisfied: terminado>=0.8.1 in /Users/dmoussa/opt/anaconda3/lib/python3.7/site-packages (from notebook>=4.4.1->widgetsnbextension~=3.5.0->ipywidgets>=7.0.0->cufflinks) (0.8.2)\n",
      "Requirement already satisfied: prometheus-client in /Users/dmoussa/opt/anaconda3/lib/python3.7/site-packages (from notebook>=4.4.1->widgetsnbextension~=3.5.0->ipywidgets>=7.0.0->cufflinks) (0.7.1)\n",
      "Requirement already satisfied: Send2Trash in /Users/dmoussa/opt/anaconda3/lib/python3.7/site-packages (from notebook>=4.4.1->widgetsnbextension~=3.5.0->ipywidgets>=7.0.0->cufflinks) (1.5.0)\n",
      "Requirement already satisfied: nbconvert in /Users/dmoussa/opt/anaconda3/lib/python3.7/site-packages (from notebook>=4.4.1->widgetsnbextension~=3.5.0->ipywidgets>=7.0.0->cufflinks) (5.6.0)\n",
      "Requirement already satisfied: attrs>=17.4.0 in /Users/dmoussa/opt/anaconda3/lib/python3.7/site-packages (from jsonschema!=2.5.0,>=2.4->nbformat>=4.2.0->ipywidgets>=7.0.0->cufflinks) (20.2.0)\n",
      "Requirement already satisfied: pyrsistent>=0.14.0 in /Users/dmoussa/opt/anaconda3/lib/python3.7/site-packages (from jsonschema!=2.5.0,>=2.4->nbformat>=4.2.0->ipywidgets>=7.0.0->cufflinks) (0.15.4)\n",
      "Requirement already satisfied: MarkupSafe>=0.23 in /Users/dmoussa/opt/anaconda3/lib/python3.7/site-packages (from jinja2->notebook>=4.4.1->widgetsnbextension~=3.5.0->ipywidgets>=7.0.0->cufflinks) (1.1.1)\n",
      "Requirement already satisfied: entrypoints>=0.2.2 in /Users/dmoussa/opt/anaconda3/lib/python3.7/site-packages (from nbconvert->notebook>=4.4.1->widgetsnbextension~=3.5.0->ipywidgets>=7.0.0->cufflinks) (0.3)\n",
      "Requirement already satisfied: mistune<2,>=0.8.1 in /Users/dmoussa/opt/anaconda3/lib/python3.7/site-packages (from nbconvert->notebook>=4.4.1->widgetsnbextension~=3.5.0->ipywidgets>=7.0.0->cufflinks) (0.8.4)\n",
      "Requirement already satisfied: testpath in /Users/dmoussa/opt/anaconda3/lib/python3.7/site-packages (from nbconvert->notebook>=4.4.1->widgetsnbextension~=3.5.0->ipywidgets>=7.0.0->cufflinks) (0.4.2)\n",
      "Requirement already satisfied: defusedxml in /Users/dmoussa/opt/anaconda3/lib/python3.7/site-packages (from nbconvert->notebook>=4.4.1->widgetsnbextension~=3.5.0->ipywidgets>=7.0.0->cufflinks) (0.6.0)\n",
      "Requirement already satisfied: bleach in /Users/dmoussa/opt/anaconda3/lib/python3.7/site-packages (from nbconvert->notebook>=4.4.1->widgetsnbextension~=3.5.0->ipywidgets>=7.0.0->cufflinks) (3.1.0)\n",
      "Requirement already satisfied: pandocfilters>=1.4.1 in /Users/dmoussa/opt/anaconda3/lib/python3.7/site-packages (from nbconvert->notebook>=4.4.1->widgetsnbextension~=3.5.0->ipywidgets>=7.0.0->cufflinks) (1.4.2)\n",
      "Requirement already satisfied: webencodings in /Users/dmoussa/opt/anaconda3/lib/python3.7/site-packages (from bleach->nbconvert->notebook>=4.4.1->widgetsnbextension~=3.5.0->ipywidgets>=7.0.0->cufflinks) (0.5.1)\n"
     ]
    }
   ],
   "source": [
    "#!pip install plotly\n",
    "!pip install cufflinks"
   ]
  },
  {
   "cell_type": "code",
   "execution_count": 4,
   "metadata": {},
   "outputs": [],
   "source": [
    "import numpy as np\n",
    "import pandas as pd\n",
    "import matplotlib.pyplot as plt\n",
    "%matplotlib inline"
   ]
  },
  {
   "cell_type": "code",
   "execution_count": 5,
   "metadata": {},
   "outputs": [],
   "source": [
    "import cufflinks as cf\n",
    "from plotly.offline import init_notebook_mode, iplot, plot"
   ]
  },
  {
   "cell_type": "code",
   "execution_count": 6,
   "metadata": {},
   "outputs": [
    {
     "data": {
      "text/html": [
       "        <script type=\"text/javascript\">\n",
       "        window.PlotlyConfig = {MathJaxConfig: 'local'};\n",
       "        if (window.MathJax) {MathJax.Hub.Config({SVG: {font: \"STIX-Web\"}});}\n",
       "        if (typeof require !== 'undefined') {\n",
       "        require.undef(\"plotly\");\n",
       "        requirejs.config({\n",
       "            paths: {\n",
       "                'plotly': ['https://cdn.plot.ly/plotly-latest.min']\n",
       "            }\n",
       "        });\n",
       "        require(['plotly'], function(Plotly) {\n",
       "            window._Plotly = Plotly;\n",
       "        });\n",
       "        }\n",
       "        </script>\n",
       "        "
      ]
     },
     "metadata": {},
     "output_type": "display_data"
    }
   ],
   "source": [
    "#Notebook\n",
    "cf.go_offline()"
   ]
  },
  {
   "cell_type": "code",
   "execution_count": 7,
   "metadata": {},
   "outputs": [],
   "source": [
    "#Fake Data\n",
    "fake_df = pd.DataFrame(np.random.randn(100,4), columns ='A B C D'.split())"
   ]
  },
  {
   "cell_type": "code",
   "execution_count": 8,
   "metadata": {},
   "outputs": [
    {
     "data": {
      "text/html": [
       "<div>\n",
       "<style scoped>\n",
       "    .dataframe tbody tr th:only-of-type {\n",
       "        vertical-align: middle;\n",
       "    }\n",
       "\n",
       "    .dataframe tbody tr th {\n",
       "        vertical-align: top;\n",
       "    }\n",
       "\n",
       "    .dataframe thead th {\n",
       "        text-align: right;\n",
       "    }\n",
       "</style>\n",
       "<table border=\"1\" class=\"dataframe\">\n",
       "  <thead>\n",
       "    <tr style=\"text-align: right;\">\n",
       "      <th></th>\n",
       "      <th>A</th>\n",
       "      <th>B</th>\n",
       "      <th>C</th>\n",
       "      <th>D</th>\n",
       "    </tr>\n",
       "  </thead>\n",
       "  <tbody>\n",
       "    <tr>\n",
       "      <th>0</th>\n",
       "      <td>2.009876</td>\n",
       "      <td>-0.347614</td>\n",
       "      <td>-0.928955</td>\n",
       "      <td>-1.227683</td>\n",
       "    </tr>\n",
       "    <tr>\n",
       "      <th>1</th>\n",
       "      <td>1.585435</td>\n",
       "      <td>0.796711</td>\n",
       "      <td>-3.291856</td>\n",
       "      <td>1.008152</td>\n",
       "    </tr>\n",
       "    <tr>\n",
       "      <th>2</th>\n",
       "      <td>0.951728</td>\n",
       "      <td>-1.021436</td>\n",
       "      <td>0.614131</td>\n",
       "      <td>-0.507426</td>\n",
       "    </tr>\n",
       "    <tr>\n",
       "      <th>3</th>\n",
       "      <td>1.420938</td>\n",
       "      <td>0.803906</td>\n",
       "      <td>-1.327965</td>\n",
       "      <td>-0.196317</td>\n",
       "    </tr>\n",
       "    <tr>\n",
       "      <th>4</th>\n",
       "      <td>0.026688</td>\n",
       "      <td>0.282030</td>\n",
       "      <td>-0.933076</td>\n",
       "      <td>2.141527</td>\n",
       "    </tr>\n",
       "  </tbody>\n",
       "</table>\n",
       "</div>"
      ],
      "text/plain": [
       "          A         B         C         D\n",
       "0  2.009876 -0.347614 -0.928955 -1.227683\n",
       "1  1.585435  0.796711 -3.291856  1.008152\n",
       "2  0.951728 -1.021436  0.614131 -0.507426\n",
       "3  1.420938  0.803906 -1.327965 -0.196317\n",
       "4  0.026688  0.282030 -0.933076  2.141527"
      ]
     },
     "execution_count": 8,
     "metadata": {},
     "output_type": "execute_result"
    }
   ],
   "source": [
    "fake_df.head()"
   ]
  },
  {
   "cell_type": "code",
   "execution_count": 9,
   "metadata": {},
   "outputs": [],
   "source": [
    "df2 = pd.DataFrame({'Category':['A', 'B','C'], 'Values':[32,43,50]})"
   ]
  },
  {
   "cell_type": "markdown",
   "metadata": {},
   "source": [
    "* scatter\n",
    "* bar\n",
    "* box\n",
    "* spread\n",
    "* ratio\n",
    "* heatmap\n",
    "* surface\n",
    "* histogram"
   ]
  },
  {
   "cell_type": "markdown",
   "metadata": {},
   "source": [
    "# Scatter"
   ]
  },
  {
   "cell_type": "code",
   "execution_count": 10,
   "metadata": {},
   "outputs": [
    {
     "data": {
      "application/vnd.plotly.v1+json": {
       "config": {
        "linkText": "Export to plot.ly",
        "plotlyServerURL": "https://plot.ly",
        "showLink": true
       },
       "data": [
        {
         "line": {
          "color": "rgba(255, 153, 51, 1.0)",
          "dash": "solid",
          "shape": "linear",
          "width": 1.3
         },
         "marker": {
          "size": 12,
          "symbol": "circle"
         },
         "mode": "markers",
         "name": "B",
         "text": "",
         "type": "scatter",
         "x": [
          2.0098763595893336,
          1.5854346850248688,
          0.9517284968551595,
          1.4209384421391142,
          0.026688111038718355,
          1.7742246940980553,
          0.16997405066218702,
          -1.1663731149184284,
          -1.687555765778785,
          -0.9638359759236773,
          0.31948585690353737,
          0.45206655019272324,
          -0.5856593578130521,
          -1.3331664488301078,
          -0.18227467538397016,
          1.0331832394221976,
          0.37414095900530886,
          -1.3746069162300292,
          1.8832078334627544,
          -0.16909971811806357,
          -0.32927926569287375,
          0.2627032205145867,
          -0.3598102265304865,
          0.5447321941036315,
          1.6100120651269116,
          -0.3804397268147677,
          0.1473620328561745,
          1.6691747558384904,
          1.8148257699582853,
          1.0180855824554613,
          2.766422169747134,
          0.6612450177603737,
          0.2986153846044228,
          -1.7053592704223286,
          -0.6711464446025099,
          -0.16294248127431257,
          -1.76502064308557,
          0.056206938499821404,
          -0.7066819603495336,
          -0.2541191740775342,
          -1.5744224819850823,
          0.4424197673183819,
          0.9446253816575055,
          0.23631706594971114,
          0.14785287447786766,
          0.22500275896921618,
          -0.013301170787457814,
          0.2315655094459254,
          0.6735331950306841,
          -0.10790761675412006,
          -1.5498459914408311,
          -0.41529924792912287,
          -0.22878419631577793,
          2.3889340441169504,
          -0.5011363683382322,
          -0.18138728609572885,
          0.10481645267669726,
          0.7086729341837882,
          -1.4574933521470606,
          -2.276244891933633,
          -0.928082898567579,
          0.22469067595539435,
          0.5161213606538004,
          0.24896276094352396,
          -0.017016592599865137,
          -0.2353009091061637,
          0.6210256252215713,
          1.0259839308083618,
          -0.05291468044019354,
          -1.2015439091389342,
          0.20200327029328774,
          -0.3229245198595919,
          0.5524528833109041,
          -0.4028777637706296,
          -0.059882638309787274,
          0.12775951718529485,
          -0.17957320771266141,
          1.0269177088172363,
          1.1771880686524667,
          -0.6395966666807401,
          0.3744607968230148,
          0.641740461644252,
          -1.0076463847201,
          0.02226447529627381,
          0.2190566031008649,
          -0.643633189304614,
          1.2638889727273173,
          -0.48892495679508047,
          0.059705931132288816,
          -0.9664065644091091,
          1.095398828129973,
          -0.8408864989043608,
          -0.871759542343419,
          -0.1856655404692126,
          0.18088575006579746,
          1.2747503019467712,
          -0.4396286084094133,
          -1.1740229644234133,
          0.1367868730401681,
          0.5003571614833707
         ],
         "y": [
          -0.34761400696809835,
          0.7967107929307996,
          -1.021435745012177,
          0.8039058679506786,
          0.28202976547017816,
          1.629306414530597,
          -3.4110663508758923,
          -0.9237688579846878,
          1.3449197314869716,
          -1.056451635061406,
          -1.0691292337350398,
          1.3229153833868197,
          0.1944216073353599,
          0.299995236341656,
          0.44109109461435964,
          -0.08136416868042488,
          0.9303198403726493,
          0.05888325507957637,
          0.7395899412452036,
          -0.150937039126787,
          -0.8073667119303348,
          -2.1209755600528832,
          1.3326778932258512,
          0.9912008713869328,
          -1.0508995328015918,
          0.13999533634881983,
          -0.8173571641054362,
          -0.11295496530104156,
          -1.6812301346024714,
          1.0420418838155838,
          0.2250212295749634,
          1.1691927821992336,
          -0.8497153337809334,
          -0.2598100609473683,
          -0.5252259693487649,
          -0.741660775358332,
          1.3379213304389845,
          1.0001179164638403,
          -1.0402508474746148,
          -0.051391256452094,
          0.7572822801140646,
          1.314205938870495,
          -1.415487984063252,
          -0.261307270216244,
          -0.6325936261624826,
          0.1347352764137132,
          1.1117699079741161,
          -0.6365318004652251,
          0.6586264711638239,
          -2.2171795885534,
          0.11320736946178084,
          1.5729034138642517,
          0.1310369529846583,
          -0.9617569362791584,
          -0.8777880682991028,
          0.5899941649731096,
          -0.1412306828688527,
          1.5170554467085127,
          0.53130018523096,
          0.32158882850971465,
          -0.9464306474339612,
          -1.8406876139673087,
          -0.6592197757814411,
          -0.05035363573486317,
          -0.0012558881887979863,
          -2.2476749098487656,
          -0.7598151323708757,
          -1.4218480040643744,
          -0.5040523542296603,
          1.1160587623525131,
          1.3272816572811181,
          0.9641613696033847,
          1.0351188803977998,
          0.7523574359092837,
          -0.08234499129197077,
          -0.43717706866405887,
          1.1601515432985665,
          -0.5526689647969686,
          0.7509740048177651,
          0.27402019924238286,
          0.7684338000320895,
          -1.0774412859096918,
          -2.158782081147689,
          0.6228680278276605,
          -1.4619809072135606,
          -2.351284827931384,
          -0.36035854063131767,
          1.5433883055746351,
          0.611161533590583,
          0.40126658500000917,
          0.432320337391507,
          0.05165221386738992,
          0.7266281491464596,
          -1.5253604789419755,
          -0.8028686711450908,
          1.3187931284966241,
          -0.5975997233571111,
          0.238360495263982,
          -1.0803828111948988,
          1.2501965937113815
         ]
        }
       ],
       "layout": {
        "legend": {
         "bgcolor": "#F5F6F9",
         "font": {
          "color": "#4D5663"
         }
        },
        "paper_bgcolor": "#F5F6F9",
        "plot_bgcolor": "#F5F6F9",
        "template": {
         "data": {
          "bar": [
           {
            "error_x": {
             "color": "#2a3f5f"
            },
            "error_y": {
             "color": "#2a3f5f"
            },
            "marker": {
             "line": {
              "color": "#E5ECF6",
              "width": 0.5
             }
            },
            "type": "bar"
           }
          ],
          "barpolar": [
           {
            "marker": {
             "line": {
              "color": "#E5ECF6",
              "width": 0.5
             }
            },
            "type": "barpolar"
           }
          ],
          "carpet": [
           {
            "aaxis": {
             "endlinecolor": "#2a3f5f",
             "gridcolor": "white",
             "linecolor": "white",
             "minorgridcolor": "white",
             "startlinecolor": "#2a3f5f"
            },
            "baxis": {
             "endlinecolor": "#2a3f5f",
             "gridcolor": "white",
             "linecolor": "white",
             "minorgridcolor": "white",
             "startlinecolor": "#2a3f5f"
            },
            "type": "carpet"
           }
          ],
          "choropleth": [
           {
            "colorbar": {
             "outlinewidth": 0,
             "ticks": ""
            },
            "type": "choropleth"
           }
          ],
          "contour": [
           {
            "colorbar": {
             "outlinewidth": 0,
             "ticks": ""
            },
            "colorscale": [
             [
              0,
              "#0d0887"
             ],
             [
              0.1111111111111111,
              "#46039f"
             ],
             [
              0.2222222222222222,
              "#7201a8"
             ],
             [
              0.3333333333333333,
              "#9c179e"
             ],
             [
              0.4444444444444444,
              "#bd3786"
             ],
             [
              0.5555555555555556,
              "#d8576b"
             ],
             [
              0.6666666666666666,
              "#ed7953"
             ],
             [
              0.7777777777777778,
              "#fb9f3a"
             ],
             [
              0.8888888888888888,
              "#fdca26"
             ],
             [
              1,
              "#f0f921"
             ]
            ],
            "type": "contour"
           }
          ],
          "contourcarpet": [
           {
            "colorbar": {
             "outlinewidth": 0,
             "ticks": ""
            },
            "type": "contourcarpet"
           }
          ],
          "heatmap": [
           {
            "colorbar": {
             "outlinewidth": 0,
             "ticks": ""
            },
            "colorscale": [
             [
              0,
              "#0d0887"
             ],
             [
              0.1111111111111111,
              "#46039f"
             ],
             [
              0.2222222222222222,
              "#7201a8"
             ],
             [
              0.3333333333333333,
              "#9c179e"
             ],
             [
              0.4444444444444444,
              "#bd3786"
             ],
             [
              0.5555555555555556,
              "#d8576b"
             ],
             [
              0.6666666666666666,
              "#ed7953"
             ],
             [
              0.7777777777777778,
              "#fb9f3a"
             ],
             [
              0.8888888888888888,
              "#fdca26"
             ],
             [
              1,
              "#f0f921"
             ]
            ],
            "type": "heatmap"
           }
          ],
          "heatmapgl": [
           {
            "colorbar": {
             "outlinewidth": 0,
             "ticks": ""
            },
            "colorscale": [
             [
              0,
              "#0d0887"
             ],
             [
              0.1111111111111111,
              "#46039f"
             ],
             [
              0.2222222222222222,
              "#7201a8"
             ],
             [
              0.3333333333333333,
              "#9c179e"
             ],
             [
              0.4444444444444444,
              "#bd3786"
             ],
             [
              0.5555555555555556,
              "#d8576b"
             ],
             [
              0.6666666666666666,
              "#ed7953"
             ],
             [
              0.7777777777777778,
              "#fb9f3a"
             ],
             [
              0.8888888888888888,
              "#fdca26"
             ],
             [
              1,
              "#f0f921"
             ]
            ],
            "type": "heatmapgl"
           }
          ],
          "histogram": [
           {
            "marker": {
             "colorbar": {
              "outlinewidth": 0,
              "ticks": ""
             }
            },
            "type": "histogram"
           }
          ],
          "histogram2d": [
           {
            "colorbar": {
             "outlinewidth": 0,
             "ticks": ""
            },
            "colorscale": [
             [
              0,
              "#0d0887"
             ],
             [
              0.1111111111111111,
              "#46039f"
             ],
             [
              0.2222222222222222,
              "#7201a8"
             ],
             [
              0.3333333333333333,
              "#9c179e"
             ],
             [
              0.4444444444444444,
              "#bd3786"
             ],
             [
              0.5555555555555556,
              "#d8576b"
             ],
             [
              0.6666666666666666,
              "#ed7953"
             ],
             [
              0.7777777777777778,
              "#fb9f3a"
             ],
             [
              0.8888888888888888,
              "#fdca26"
             ],
             [
              1,
              "#f0f921"
             ]
            ],
            "type": "histogram2d"
           }
          ],
          "histogram2dcontour": [
           {
            "colorbar": {
             "outlinewidth": 0,
             "ticks": ""
            },
            "colorscale": [
             [
              0,
              "#0d0887"
             ],
             [
              0.1111111111111111,
              "#46039f"
             ],
             [
              0.2222222222222222,
              "#7201a8"
             ],
             [
              0.3333333333333333,
              "#9c179e"
             ],
             [
              0.4444444444444444,
              "#bd3786"
             ],
             [
              0.5555555555555556,
              "#d8576b"
             ],
             [
              0.6666666666666666,
              "#ed7953"
             ],
             [
              0.7777777777777778,
              "#fb9f3a"
             ],
             [
              0.8888888888888888,
              "#fdca26"
             ],
             [
              1,
              "#f0f921"
             ]
            ],
            "type": "histogram2dcontour"
           }
          ],
          "mesh3d": [
           {
            "colorbar": {
             "outlinewidth": 0,
             "ticks": ""
            },
            "type": "mesh3d"
           }
          ],
          "parcoords": [
           {
            "line": {
             "colorbar": {
              "outlinewidth": 0,
              "ticks": ""
             }
            },
            "type": "parcoords"
           }
          ],
          "pie": [
           {
            "automargin": true,
            "type": "pie"
           }
          ],
          "scatter": [
           {
            "marker": {
             "colorbar": {
              "outlinewidth": 0,
              "ticks": ""
             }
            },
            "type": "scatter"
           }
          ],
          "scatter3d": [
           {
            "line": {
             "colorbar": {
              "outlinewidth": 0,
              "ticks": ""
             }
            },
            "marker": {
             "colorbar": {
              "outlinewidth": 0,
              "ticks": ""
             }
            },
            "type": "scatter3d"
           }
          ],
          "scattercarpet": [
           {
            "marker": {
             "colorbar": {
              "outlinewidth": 0,
              "ticks": ""
             }
            },
            "type": "scattercarpet"
           }
          ],
          "scattergeo": [
           {
            "marker": {
             "colorbar": {
              "outlinewidth": 0,
              "ticks": ""
             }
            },
            "type": "scattergeo"
           }
          ],
          "scattergl": [
           {
            "marker": {
             "colorbar": {
              "outlinewidth": 0,
              "ticks": ""
             }
            },
            "type": "scattergl"
           }
          ],
          "scattermapbox": [
           {
            "marker": {
             "colorbar": {
              "outlinewidth": 0,
              "ticks": ""
             }
            },
            "type": "scattermapbox"
           }
          ],
          "scatterpolar": [
           {
            "marker": {
             "colorbar": {
              "outlinewidth": 0,
              "ticks": ""
             }
            },
            "type": "scatterpolar"
           }
          ],
          "scatterpolargl": [
           {
            "marker": {
             "colorbar": {
              "outlinewidth": 0,
              "ticks": ""
             }
            },
            "type": "scatterpolargl"
           }
          ],
          "scatterternary": [
           {
            "marker": {
             "colorbar": {
              "outlinewidth": 0,
              "ticks": ""
             }
            },
            "type": "scatterternary"
           }
          ],
          "surface": [
           {
            "colorbar": {
             "outlinewidth": 0,
             "ticks": ""
            },
            "colorscale": [
             [
              0,
              "#0d0887"
             ],
             [
              0.1111111111111111,
              "#46039f"
             ],
             [
              0.2222222222222222,
              "#7201a8"
             ],
             [
              0.3333333333333333,
              "#9c179e"
             ],
             [
              0.4444444444444444,
              "#bd3786"
             ],
             [
              0.5555555555555556,
              "#d8576b"
             ],
             [
              0.6666666666666666,
              "#ed7953"
             ],
             [
              0.7777777777777778,
              "#fb9f3a"
             ],
             [
              0.8888888888888888,
              "#fdca26"
             ],
             [
              1,
              "#f0f921"
             ]
            ],
            "type": "surface"
           }
          ],
          "table": [
           {
            "cells": {
             "fill": {
              "color": "#EBF0F8"
             },
             "line": {
              "color": "white"
             }
            },
            "header": {
             "fill": {
              "color": "#C8D4E3"
             },
             "line": {
              "color": "white"
             }
            },
            "type": "table"
           }
          ]
         },
         "layout": {
          "annotationdefaults": {
           "arrowcolor": "#2a3f5f",
           "arrowhead": 0,
           "arrowwidth": 1
          },
          "coloraxis": {
           "colorbar": {
            "outlinewidth": 0,
            "ticks": ""
           }
          },
          "colorscale": {
           "diverging": [
            [
             0,
             "#8e0152"
            ],
            [
             0.1,
             "#c51b7d"
            ],
            [
             0.2,
             "#de77ae"
            ],
            [
             0.3,
             "#f1b6da"
            ],
            [
             0.4,
             "#fde0ef"
            ],
            [
             0.5,
             "#f7f7f7"
            ],
            [
             0.6,
             "#e6f5d0"
            ],
            [
             0.7,
             "#b8e186"
            ],
            [
             0.8,
             "#7fbc41"
            ],
            [
             0.9,
             "#4d9221"
            ],
            [
             1,
             "#276419"
            ]
           ],
           "sequential": [
            [
             0,
             "#0d0887"
            ],
            [
             0.1111111111111111,
             "#46039f"
            ],
            [
             0.2222222222222222,
             "#7201a8"
            ],
            [
             0.3333333333333333,
             "#9c179e"
            ],
            [
             0.4444444444444444,
             "#bd3786"
            ],
            [
             0.5555555555555556,
             "#d8576b"
            ],
            [
             0.6666666666666666,
             "#ed7953"
            ],
            [
             0.7777777777777778,
             "#fb9f3a"
            ],
            [
             0.8888888888888888,
             "#fdca26"
            ],
            [
             1,
             "#f0f921"
            ]
           ],
           "sequentialminus": [
            [
             0,
             "#0d0887"
            ],
            [
             0.1111111111111111,
             "#46039f"
            ],
            [
             0.2222222222222222,
             "#7201a8"
            ],
            [
             0.3333333333333333,
             "#9c179e"
            ],
            [
             0.4444444444444444,
             "#bd3786"
            ],
            [
             0.5555555555555556,
             "#d8576b"
            ],
            [
             0.6666666666666666,
             "#ed7953"
            ],
            [
             0.7777777777777778,
             "#fb9f3a"
            ],
            [
             0.8888888888888888,
             "#fdca26"
            ],
            [
             1,
             "#f0f921"
            ]
           ]
          },
          "colorway": [
           "#636efa",
           "#EF553B",
           "#00cc96",
           "#ab63fa",
           "#FFA15A",
           "#19d3f3",
           "#FF6692",
           "#B6E880",
           "#FF97FF",
           "#FECB52"
          ],
          "font": {
           "color": "#2a3f5f"
          },
          "geo": {
           "bgcolor": "white",
           "lakecolor": "white",
           "landcolor": "#E5ECF6",
           "showlakes": true,
           "showland": true,
           "subunitcolor": "white"
          },
          "hoverlabel": {
           "align": "left"
          },
          "hovermode": "closest",
          "mapbox": {
           "style": "light"
          },
          "paper_bgcolor": "white",
          "plot_bgcolor": "#E5ECF6",
          "polar": {
           "angularaxis": {
            "gridcolor": "white",
            "linecolor": "white",
            "ticks": ""
           },
           "bgcolor": "#E5ECF6",
           "radialaxis": {
            "gridcolor": "white",
            "linecolor": "white",
            "ticks": ""
           }
          },
          "scene": {
           "xaxis": {
            "backgroundcolor": "#E5ECF6",
            "gridcolor": "white",
            "gridwidth": 2,
            "linecolor": "white",
            "showbackground": true,
            "ticks": "",
            "zerolinecolor": "white"
           },
           "yaxis": {
            "backgroundcolor": "#E5ECF6",
            "gridcolor": "white",
            "gridwidth": 2,
            "linecolor": "white",
            "showbackground": true,
            "ticks": "",
            "zerolinecolor": "white"
           },
           "zaxis": {
            "backgroundcolor": "#E5ECF6",
            "gridcolor": "white",
            "gridwidth": 2,
            "linecolor": "white",
            "showbackground": true,
            "ticks": "",
            "zerolinecolor": "white"
           }
          },
          "shapedefaults": {
           "line": {
            "color": "#2a3f5f"
           }
          },
          "ternary": {
           "aaxis": {
            "gridcolor": "white",
            "linecolor": "white",
            "ticks": ""
           },
           "baxis": {
            "gridcolor": "white",
            "linecolor": "white",
            "ticks": ""
           },
           "bgcolor": "#E5ECF6",
           "caxis": {
            "gridcolor": "white",
            "linecolor": "white",
            "ticks": ""
           }
          },
          "title": {
           "x": 0.05
          },
          "xaxis": {
           "automargin": true,
           "gridcolor": "white",
           "linecolor": "white",
           "ticks": "",
           "title": {
            "standoff": 15
           },
           "zerolinecolor": "white",
           "zerolinewidth": 2
          },
          "yaxis": {
           "automargin": true,
           "gridcolor": "white",
           "linecolor": "white",
           "ticks": "",
           "title": {
            "standoff": 15
           },
           "zerolinecolor": "white",
           "zerolinewidth": 2
          }
         }
        },
        "title": {
         "font": {
          "color": "#4D5663"
         }
        },
        "xaxis": {
         "gridcolor": "#E1E5ED",
         "showgrid": true,
         "tickfont": {
          "color": "#4D5663"
         },
         "title": {
          "font": {
           "color": "#4D5663"
          },
          "text": ""
         },
         "zerolinecolor": "#E1E5ED"
        },
        "yaxis": {
         "gridcolor": "#E1E5ED",
         "showgrid": true,
         "tickfont": {
          "color": "#4D5663"
         },
         "title": {
          "font": {
           "color": "#4D5663"
          },
          "text": ""
         },
         "zerolinecolor": "#E1E5ED"
        }
       }
      },
      "text/html": [
       "<div>                            <div id=\"575936c3-4731-4354-9d0d-d708032b355e\" class=\"plotly-graph-div\" style=\"height:525px; width:100%;\"></div>            <script type=\"text/javascript\">                require([\"plotly\"], function(Plotly) {                    window.PLOTLYENV=window.PLOTLYENV || {};\n",
       "                    window.PLOTLYENV.BASE_URL='https://plot.ly';                                    if (document.getElementById(\"575936c3-4731-4354-9d0d-d708032b355e\")) {                    Plotly.newPlot(                        \"575936c3-4731-4354-9d0d-d708032b355e\",                        [{\"line\": {\"color\": \"rgba(255, 153, 51, 1.0)\", \"dash\": \"solid\", \"shape\": \"linear\", \"width\": 1.3}, \"marker\": {\"size\": 12, \"symbol\": \"circle\"}, \"mode\": \"markers\", \"name\": \"B\", \"text\": \"\", \"type\": \"scatter\", \"x\": [2.0098763595893336, 1.5854346850248688, 0.9517284968551595, 1.4209384421391142, 0.026688111038718355, 1.7742246940980553, 0.16997405066218702, -1.1663731149184284, -1.687555765778785, -0.9638359759236773, 0.31948585690353737, 0.45206655019272324, -0.5856593578130521, -1.3331664488301078, -0.18227467538397016, 1.0331832394221976, 0.37414095900530886, -1.3746069162300292, 1.8832078334627544, -0.16909971811806357, -0.32927926569287375, 0.2627032205145867, -0.3598102265304865, 0.5447321941036315, 1.6100120651269116, -0.3804397268147677, 0.1473620328561745, 1.6691747558384904, 1.8148257699582853, 1.0180855824554613, 2.766422169747134, 0.6612450177603737, 0.2986153846044228, -1.7053592704223286, -0.6711464446025099, -0.16294248127431257, -1.76502064308557, 0.056206938499821404, -0.7066819603495336, -0.2541191740775342, -1.5744224819850823, 0.4424197673183819, 0.9446253816575055, 0.23631706594971114, 0.14785287447786766, 0.22500275896921618, -0.013301170787457814, 0.2315655094459254, 0.6735331950306841, -0.10790761675412006, -1.5498459914408311, -0.41529924792912287, -0.22878419631577793, 2.3889340441169504, -0.5011363683382322, -0.18138728609572885, 0.10481645267669726, 0.7086729341837882, -1.4574933521470606, -2.276244891933633, -0.928082898567579, 0.22469067595539435, 0.5161213606538004, 0.24896276094352396, -0.017016592599865137, -0.2353009091061637, 0.6210256252215713, 1.0259839308083618, -0.05291468044019354, -1.2015439091389342, 0.20200327029328774, -0.3229245198595919, 0.5524528833109041, -0.4028777637706296, -0.059882638309787274, 0.12775951718529485, -0.17957320771266141, 1.0269177088172363, 1.1771880686524667, -0.6395966666807401, 0.3744607968230148, 0.641740461644252, -1.0076463847201, 0.02226447529627381, 0.2190566031008649, -0.643633189304614, 1.2638889727273173, -0.48892495679508047, 0.059705931132288816, -0.9664065644091091, 1.095398828129973, -0.8408864989043608, -0.871759542343419, -0.1856655404692126, 0.18088575006579746, 1.2747503019467712, -0.4396286084094133, -1.1740229644234133, 0.1367868730401681, 0.5003571614833707], \"y\": [-0.34761400696809835, 0.7967107929307996, -1.021435745012177, 0.8039058679506786, 0.28202976547017816, 1.629306414530597, -3.4110663508758923, -0.9237688579846878, 1.3449197314869716, -1.056451635061406, -1.0691292337350398, 1.3229153833868197, 0.1944216073353599, 0.299995236341656, 0.44109109461435964, -0.08136416868042488, 0.9303198403726493, 0.05888325507957637, 0.7395899412452036, -0.150937039126787, -0.8073667119303348, -2.1209755600528832, 1.3326778932258512, 0.9912008713869328, -1.0508995328015918, 0.13999533634881983, -0.8173571641054362, -0.11295496530104156, -1.6812301346024714, 1.0420418838155838, 0.2250212295749634, 1.1691927821992336, -0.8497153337809334, -0.2598100609473683, -0.5252259693487649, -0.741660775358332, 1.3379213304389845, 1.0001179164638403, -1.0402508474746148, -0.051391256452094, 0.7572822801140646, 1.314205938870495, -1.415487984063252, -0.261307270216244, -0.6325936261624826, 0.1347352764137132, 1.1117699079741161, -0.6365318004652251, 0.6586264711638239, -2.2171795885534, 0.11320736946178084, 1.5729034138642517, 0.1310369529846583, -0.9617569362791584, -0.8777880682991028, 0.5899941649731096, -0.1412306828688527, 1.5170554467085127, 0.53130018523096, 0.32158882850971465, -0.9464306474339612, -1.8406876139673087, -0.6592197757814411, -0.05035363573486317, -0.0012558881887979863, -2.2476749098487656, -0.7598151323708757, -1.4218480040643744, -0.5040523542296603, 1.1160587623525131, 1.3272816572811181, 0.9641613696033847, 1.0351188803977998, 0.7523574359092837, -0.08234499129197077, -0.43717706866405887, 1.1601515432985665, -0.5526689647969686, 0.7509740048177651, 0.27402019924238286, 0.7684338000320895, -1.0774412859096918, -2.158782081147689, 0.6228680278276605, -1.4619809072135606, -2.351284827931384, -0.36035854063131767, 1.5433883055746351, 0.611161533590583, 0.40126658500000917, 0.432320337391507, 0.05165221386738992, 0.7266281491464596, -1.5253604789419755, -0.8028686711450908, 1.3187931284966241, -0.5975997233571111, 0.238360495263982, -1.0803828111948988, 1.2501965937113815]}],                        {\"legend\": {\"bgcolor\": \"#F5F6F9\", \"font\": {\"color\": \"#4D5663\"}}, \"paper_bgcolor\": \"#F5F6F9\", \"plot_bgcolor\": \"#F5F6F9\", \"template\": {\"data\": {\"bar\": [{\"error_x\": {\"color\": \"#2a3f5f\"}, \"error_y\": {\"color\": \"#2a3f5f\"}, \"marker\": {\"line\": {\"color\": \"#E5ECF6\", \"width\": 0.5}}, \"type\": \"bar\"}], \"barpolar\": [{\"marker\": {\"line\": {\"color\": \"#E5ECF6\", \"width\": 0.5}}, \"type\": \"barpolar\"}], \"carpet\": [{\"aaxis\": {\"endlinecolor\": \"#2a3f5f\", \"gridcolor\": \"white\", \"linecolor\": \"white\", \"minorgridcolor\": \"white\", \"startlinecolor\": \"#2a3f5f\"}, \"baxis\": {\"endlinecolor\": \"#2a3f5f\", \"gridcolor\": \"white\", \"linecolor\": \"white\", \"minorgridcolor\": \"white\", \"startlinecolor\": \"#2a3f5f\"}, \"type\": \"carpet\"}], \"choropleth\": [{\"colorbar\": {\"outlinewidth\": 0, \"ticks\": \"\"}, \"type\": \"choropleth\"}], \"contour\": [{\"colorbar\": {\"outlinewidth\": 0, \"ticks\": \"\"}, \"colorscale\": [[0.0, \"#0d0887\"], [0.1111111111111111, \"#46039f\"], [0.2222222222222222, \"#7201a8\"], [0.3333333333333333, \"#9c179e\"], [0.4444444444444444, \"#bd3786\"], [0.5555555555555556, \"#d8576b\"], [0.6666666666666666, \"#ed7953\"], [0.7777777777777778, \"#fb9f3a\"], [0.8888888888888888, \"#fdca26\"], [1.0, \"#f0f921\"]], \"type\": \"contour\"}], \"contourcarpet\": [{\"colorbar\": {\"outlinewidth\": 0, \"ticks\": \"\"}, \"type\": \"contourcarpet\"}], \"heatmap\": [{\"colorbar\": {\"outlinewidth\": 0, \"ticks\": \"\"}, \"colorscale\": [[0.0, \"#0d0887\"], [0.1111111111111111, \"#46039f\"], [0.2222222222222222, \"#7201a8\"], [0.3333333333333333, \"#9c179e\"], [0.4444444444444444, \"#bd3786\"], [0.5555555555555556, \"#d8576b\"], [0.6666666666666666, \"#ed7953\"], [0.7777777777777778, \"#fb9f3a\"], [0.8888888888888888, \"#fdca26\"], [1.0, \"#f0f921\"]], \"type\": \"heatmap\"}], \"heatmapgl\": [{\"colorbar\": {\"outlinewidth\": 0, \"ticks\": \"\"}, \"colorscale\": [[0.0, \"#0d0887\"], [0.1111111111111111, \"#46039f\"], [0.2222222222222222, \"#7201a8\"], [0.3333333333333333, \"#9c179e\"], [0.4444444444444444, \"#bd3786\"], [0.5555555555555556, \"#d8576b\"], [0.6666666666666666, \"#ed7953\"], [0.7777777777777778, \"#fb9f3a\"], [0.8888888888888888, \"#fdca26\"], [1.0, \"#f0f921\"]], \"type\": \"heatmapgl\"}], \"histogram\": [{\"marker\": {\"colorbar\": {\"outlinewidth\": 0, \"ticks\": \"\"}}, \"type\": \"histogram\"}], \"histogram2d\": [{\"colorbar\": {\"outlinewidth\": 0, \"ticks\": \"\"}, \"colorscale\": [[0.0, \"#0d0887\"], [0.1111111111111111, \"#46039f\"], [0.2222222222222222, \"#7201a8\"], [0.3333333333333333, \"#9c179e\"], [0.4444444444444444, \"#bd3786\"], [0.5555555555555556, \"#d8576b\"], [0.6666666666666666, \"#ed7953\"], [0.7777777777777778, \"#fb9f3a\"], [0.8888888888888888, \"#fdca26\"], [1.0, \"#f0f921\"]], \"type\": \"histogram2d\"}], \"histogram2dcontour\": [{\"colorbar\": {\"outlinewidth\": 0, \"ticks\": \"\"}, \"colorscale\": [[0.0, \"#0d0887\"], [0.1111111111111111, \"#46039f\"], [0.2222222222222222, \"#7201a8\"], [0.3333333333333333, \"#9c179e\"], [0.4444444444444444, \"#bd3786\"], [0.5555555555555556, \"#d8576b\"], [0.6666666666666666, \"#ed7953\"], [0.7777777777777778, \"#fb9f3a\"], [0.8888888888888888, \"#fdca26\"], [1.0, \"#f0f921\"]], \"type\": \"histogram2dcontour\"}], \"mesh3d\": [{\"colorbar\": {\"outlinewidth\": 0, \"ticks\": \"\"}, \"type\": \"mesh3d\"}], \"parcoords\": [{\"line\": {\"colorbar\": {\"outlinewidth\": 0, \"ticks\": \"\"}}, \"type\": \"parcoords\"}], \"pie\": [{\"automargin\": true, \"type\": \"pie\"}], \"scatter\": [{\"marker\": {\"colorbar\": {\"outlinewidth\": 0, \"ticks\": \"\"}}, \"type\": \"scatter\"}], \"scatter3d\": [{\"line\": {\"colorbar\": {\"outlinewidth\": 0, \"ticks\": \"\"}}, \"marker\": {\"colorbar\": {\"outlinewidth\": 0, \"ticks\": \"\"}}, \"type\": \"scatter3d\"}], \"scattercarpet\": [{\"marker\": {\"colorbar\": {\"outlinewidth\": 0, \"ticks\": \"\"}}, \"type\": \"scattercarpet\"}], \"scattergeo\": [{\"marker\": {\"colorbar\": {\"outlinewidth\": 0, \"ticks\": \"\"}}, \"type\": \"scattergeo\"}], \"scattergl\": [{\"marker\": {\"colorbar\": {\"outlinewidth\": 0, \"ticks\": \"\"}}, \"type\": \"scattergl\"}], \"scattermapbox\": [{\"marker\": {\"colorbar\": {\"outlinewidth\": 0, \"ticks\": \"\"}}, \"type\": \"scattermapbox\"}], \"scatterpolar\": [{\"marker\": {\"colorbar\": {\"outlinewidth\": 0, \"ticks\": \"\"}}, \"type\": \"scatterpolar\"}], \"scatterpolargl\": [{\"marker\": {\"colorbar\": {\"outlinewidth\": 0, \"ticks\": \"\"}}, \"type\": \"scatterpolargl\"}], \"scatterternary\": [{\"marker\": {\"colorbar\": {\"outlinewidth\": 0, \"ticks\": \"\"}}, \"type\": \"scatterternary\"}], \"surface\": [{\"colorbar\": {\"outlinewidth\": 0, \"ticks\": \"\"}, \"colorscale\": [[0.0, \"#0d0887\"], [0.1111111111111111, \"#46039f\"], [0.2222222222222222, \"#7201a8\"], [0.3333333333333333, \"#9c179e\"], [0.4444444444444444, \"#bd3786\"], [0.5555555555555556, \"#d8576b\"], [0.6666666666666666, \"#ed7953\"], [0.7777777777777778, \"#fb9f3a\"], [0.8888888888888888, \"#fdca26\"], [1.0, \"#f0f921\"]], \"type\": \"surface\"}], \"table\": [{\"cells\": {\"fill\": {\"color\": \"#EBF0F8\"}, \"line\": {\"color\": \"white\"}}, \"header\": {\"fill\": {\"color\": \"#C8D4E3\"}, \"line\": {\"color\": \"white\"}}, \"type\": \"table\"}]}, \"layout\": {\"annotationdefaults\": {\"arrowcolor\": \"#2a3f5f\", \"arrowhead\": 0, \"arrowwidth\": 1}, \"coloraxis\": {\"colorbar\": {\"outlinewidth\": 0, \"ticks\": \"\"}}, \"colorscale\": {\"diverging\": [[0, \"#8e0152\"], [0.1, \"#c51b7d\"], [0.2, \"#de77ae\"], [0.3, \"#f1b6da\"], [0.4, \"#fde0ef\"], [0.5, \"#f7f7f7\"], [0.6, \"#e6f5d0\"], [0.7, \"#b8e186\"], [0.8, \"#7fbc41\"], [0.9, \"#4d9221\"], [1, \"#276419\"]], \"sequential\": [[0.0, \"#0d0887\"], [0.1111111111111111, \"#46039f\"], [0.2222222222222222, \"#7201a8\"], [0.3333333333333333, \"#9c179e\"], [0.4444444444444444, \"#bd3786\"], [0.5555555555555556, \"#d8576b\"], [0.6666666666666666, \"#ed7953\"], [0.7777777777777778, \"#fb9f3a\"], [0.8888888888888888, \"#fdca26\"], [1.0, \"#f0f921\"]], \"sequentialminus\": [[0.0, \"#0d0887\"], [0.1111111111111111, \"#46039f\"], [0.2222222222222222, \"#7201a8\"], [0.3333333333333333, \"#9c179e\"], [0.4444444444444444, \"#bd3786\"], [0.5555555555555556, \"#d8576b\"], [0.6666666666666666, \"#ed7953\"], [0.7777777777777778, \"#fb9f3a\"], [0.8888888888888888, \"#fdca26\"], [1.0, \"#f0f921\"]]}, \"colorway\": [\"#636efa\", \"#EF553B\", \"#00cc96\", \"#ab63fa\", \"#FFA15A\", \"#19d3f3\", \"#FF6692\", \"#B6E880\", \"#FF97FF\", \"#FECB52\"], \"font\": {\"color\": \"#2a3f5f\"}, \"geo\": {\"bgcolor\": \"white\", \"lakecolor\": \"white\", \"landcolor\": \"#E5ECF6\", \"showlakes\": true, \"showland\": true, \"subunitcolor\": \"white\"}, \"hoverlabel\": {\"align\": \"left\"}, \"hovermode\": \"closest\", \"mapbox\": {\"style\": \"light\"}, \"paper_bgcolor\": \"white\", \"plot_bgcolor\": \"#E5ECF6\", \"polar\": {\"angularaxis\": {\"gridcolor\": \"white\", \"linecolor\": \"white\", \"ticks\": \"\"}, \"bgcolor\": \"#E5ECF6\", \"radialaxis\": {\"gridcolor\": \"white\", \"linecolor\": \"white\", \"ticks\": \"\"}}, \"scene\": {\"xaxis\": {\"backgroundcolor\": \"#E5ECF6\", \"gridcolor\": \"white\", \"gridwidth\": 2, \"linecolor\": \"white\", \"showbackground\": true, \"ticks\": \"\", \"zerolinecolor\": \"white\"}, \"yaxis\": {\"backgroundcolor\": \"#E5ECF6\", \"gridcolor\": \"white\", \"gridwidth\": 2, \"linecolor\": \"white\", \"showbackground\": true, \"ticks\": \"\", \"zerolinecolor\": \"white\"}, \"zaxis\": {\"backgroundcolor\": \"#E5ECF6\", \"gridcolor\": \"white\", \"gridwidth\": 2, \"linecolor\": \"white\", \"showbackground\": true, \"ticks\": \"\", \"zerolinecolor\": \"white\"}}, \"shapedefaults\": {\"line\": {\"color\": \"#2a3f5f\"}}, \"ternary\": {\"aaxis\": {\"gridcolor\": \"white\", \"linecolor\": \"white\", \"ticks\": \"\"}, \"baxis\": {\"gridcolor\": \"white\", \"linecolor\": \"white\", \"ticks\": \"\"}, \"bgcolor\": \"#E5ECF6\", \"caxis\": {\"gridcolor\": \"white\", \"linecolor\": \"white\", \"ticks\": \"\"}}, \"title\": {\"x\": 0.05}, \"xaxis\": {\"automargin\": true, \"gridcolor\": \"white\", \"linecolor\": \"white\", \"ticks\": \"\", \"title\": {\"standoff\": 15}, \"zerolinecolor\": \"white\", \"zerolinewidth\": 2}, \"yaxis\": {\"automargin\": true, \"gridcolor\": \"white\", \"linecolor\": \"white\", \"ticks\": \"\", \"title\": {\"standoff\": 15}, \"zerolinecolor\": \"white\", \"zerolinewidth\": 2}}}, \"title\": {\"font\": {\"color\": \"#4D5663\"}}, \"xaxis\": {\"gridcolor\": \"#E1E5ED\", \"showgrid\": true, \"tickfont\": {\"color\": \"#4D5663\"}, \"title\": {\"font\": {\"color\": \"#4D5663\"}, \"text\": \"\"}, \"zerolinecolor\": \"#E1E5ED\"}, \"yaxis\": {\"gridcolor\": \"#E1E5ED\", \"showgrid\": true, \"tickfont\": {\"color\": \"#4D5663\"}, \"title\": {\"font\": {\"color\": \"#4D5663\"}, \"text\": \"\"}, \"zerolinecolor\": \"#E1E5ED\"}},                        {\"showLink\": true, \"linkText\": \"Export to plot.ly\", \"plotlyServerURL\": \"https://plot.ly\", \"responsive\": true}                    ).then(function(){\n",
       "                            \n",
       "var gd = document.getElementById('575936c3-4731-4354-9d0d-d708032b355e');\n",
       "var x = new MutationObserver(function (mutations, observer) {{\n",
       "        var display = window.getComputedStyle(gd).display;\n",
       "        if (!display || display === 'none') {{\n",
       "            console.log([gd, 'removed!']);\n",
       "            Plotly.purge(gd);\n",
       "            observer.disconnect();\n",
       "        }}\n",
       "}});\n",
       "\n",
       "// Listen for the removal of the full notebook cells\n",
       "var notebookContainer = gd.closest('#notebook-container');\n",
       "if (notebookContainer) {{\n",
       "    x.observe(notebookContainer, {childList: true});\n",
       "}}\n",
       "\n",
       "// Listen for the clearing of the current output cell\n",
       "var outputEl = gd.closest('.output');\n",
       "if (outputEl) {{\n",
       "    x.observe(outputEl, {childList: true});\n",
       "}}\n",
       "\n",
       "                        })                };                });            </script>        </div>"
      ]
     },
     "metadata": {},
     "output_type": "display_data"
    }
   ],
   "source": [
    "fake_df.iplot(kind='scatter', x='A', y='B', mode='markers', size=12)"
   ]
  },
  {
   "cell_type": "code",
   "execution_count": 11,
   "metadata": {},
   "outputs": [
    {
     "data": {
      "application/vnd.plotly.v1+json": {
       "config": {
        "linkText": "Export to plot.ly",
        "plotlyServerURL": "https://plot.ly",
        "showLink": true
       },
       "data": [
        {
         "marker": {
          "color": "rgba(255, 153, 51, 0.6)",
          "line": {
           "color": "rgba(255, 153, 51, 1.0)",
           "width": 1
          }
         },
         "name": "Values",
         "orientation": "v",
         "text": "",
         "type": "bar",
         "x": [
          "A",
          "B",
          "C"
         ],
         "y": [
          32,
          43,
          50
         ]
        }
       ],
       "layout": {
        "legend": {
         "bgcolor": "#F5F6F9",
         "font": {
          "color": "#4D5663"
         }
        },
        "paper_bgcolor": "#F5F6F9",
        "plot_bgcolor": "#F5F6F9",
        "template": {
         "data": {
          "bar": [
           {
            "error_x": {
             "color": "#2a3f5f"
            },
            "error_y": {
             "color": "#2a3f5f"
            },
            "marker": {
             "line": {
              "color": "#E5ECF6",
              "width": 0.5
             }
            },
            "type": "bar"
           }
          ],
          "barpolar": [
           {
            "marker": {
             "line": {
              "color": "#E5ECF6",
              "width": 0.5
             }
            },
            "type": "barpolar"
           }
          ],
          "carpet": [
           {
            "aaxis": {
             "endlinecolor": "#2a3f5f",
             "gridcolor": "white",
             "linecolor": "white",
             "minorgridcolor": "white",
             "startlinecolor": "#2a3f5f"
            },
            "baxis": {
             "endlinecolor": "#2a3f5f",
             "gridcolor": "white",
             "linecolor": "white",
             "minorgridcolor": "white",
             "startlinecolor": "#2a3f5f"
            },
            "type": "carpet"
           }
          ],
          "choropleth": [
           {
            "colorbar": {
             "outlinewidth": 0,
             "ticks": ""
            },
            "type": "choropleth"
           }
          ],
          "contour": [
           {
            "colorbar": {
             "outlinewidth": 0,
             "ticks": ""
            },
            "colorscale": [
             [
              0,
              "#0d0887"
             ],
             [
              0.1111111111111111,
              "#46039f"
             ],
             [
              0.2222222222222222,
              "#7201a8"
             ],
             [
              0.3333333333333333,
              "#9c179e"
             ],
             [
              0.4444444444444444,
              "#bd3786"
             ],
             [
              0.5555555555555556,
              "#d8576b"
             ],
             [
              0.6666666666666666,
              "#ed7953"
             ],
             [
              0.7777777777777778,
              "#fb9f3a"
             ],
             [
              0.8888888888888888,
              "#fdca26"
             ],
             [
              1,
              "#f0f921"
             ]
            ],
            "type": "contour"
           }
          ],
          "contourcarpet": [
           {
            "colorbar": {
             "outlinewidth": 0,
             "ticks": ""
            },
            "type": "contourcarpet"
           }
          ],
          "heatmap": [
           {
            "colorbar": {
             "outlinewidth": 0,
             "ticks": ""
            },
            "colorscale": [
             [
              0,
              "#0d0887"
             ],
             [
              0.1111111111111111,
              "#46039f"
             ],
             [
              0.2222222222222222,
              "#7201a8"
             ],
             [
              0.3333333333333333,
              "#9c179e"
             ],
             [
              0.4444444444444444,
              "#bd3786"
             ],
             [
              0.5555555555555556,
              "#d8576b"
             ],
             [
              0.6666666666666666,
              "#ed7953"
             ],
             [
              0.7777777777777778,
              "#fb9f3a"
             ],
             [
              0.8888888888888888,
              "#fdca26"
             ],
             [
              1,
              "#f0f921"
             ]
            ],
            "type": "heatmap"
           }
          ],
          "heatmapgl": [
           {
            "colorbar": {
             "outlinewidth": 0,
             "ticks": ""
            },
            "colorscale": [
             [
              0,
              "#0d0887"
             ],
             [
              0.1111111111111111,
              "#46039f"
             ],
             [
              0.2222222222222222,
              "#7201a8"
             ],
             [
              0.3333333333333333,
              "#9c179e"
             ],
             [
              0.4444444444444444,
              "#bd3786"
             ],
             [
              0.5555555555555556,
              "#d8576b"
             ],
             [
              0.6666666666666666,
              "#ed7953"
             ],
             [
              0.7777777777777778,
              "#fb9f3a"
             ],
             [
              0.8888888888888888,
              "#fdca26"
             ],
             [
              1,
              "#f0f921"
             ]
            ],
            "type": "heatmapgl"
           }
          ],
          "histogram": [
           {
            "marker": {
             "colorbar": {
              "outlinewidth": 0,
              "ticks": ""
             }
            },
            "type": "histogram"
           }
          ],
          "histogram2d": [
           {
            "colorbar": {
             "outlinewidth": 0,
             "ticks": ""
            },
            "colorscale": [
             [
              0,
              "#0d0887"
             ],
             [
              0.1111111111111111,
              "#46039f"
             ],
             [
              0.2222222222222222,
              "#7201a8"
             ],
             [
              0.3333333333333333,
              "#9c179e"
             ],
             [
              0.4444444444444444,
              "#bd3786"
             ],
             [
              0.5555555555555556,
              "#d8576b"
             ],
             [
              0.6666666666666666,
              "#ed7953"
             ],
             [
              0.7777777777777778,
              "#fb9f3a"
             ],
             [
              0.8888888888888888,
              "#fdca26"
             ],
             [
              1,
              "#f0f921"
             ]
            ],
            "type": "histogram2d"
           }
          ],
          "histogram2dcontour": [
           {
            "colorbar": {
             "outlinewidth": 0,
             "ticks": ""
            },
            "colorscale": [
             [
              0,
              "#0d0887"
             ],
             [
              0.1111111111111111,
              "#46039f"
             ],
             [
              0.2222222222222222,
              "#7201a8"
             ],
             [
              0.3333333333333333,
              "#9c179e"
             ],
             [
              0.4444444444444444,
              "#bd3786"
             ],
             [
              0.5555555555555556,
              "#d8576b"
             ],
             [
              0.6666666666666666,
              "#ed7953"
             ],
             [
              0.7777777777777778,
              "#fb9f3a"
             ],
             [
              0.8888888888888888,
              "#fdca26"
             ],
             [
              1,
              "#f0f921"
             ]
            ],
            "type": "histogram2dcontour"
           }
          ],
          "mesh3d": [
           {
            "colorbar": {
             "outlinewidth": 0,
             "ticks": ""
            },
            "type": "mesh3d"
           }
          ],
          "parcoords": [
           {
            "line": {
             "colorbar": {
              "outlinewidth": 0,
              "ticks": ""
             }
            },
            "type": "parcoords"
           }
          ],
          "pie": [
           {
            "automargin": true,
            "type": "pie"
           }
          ],
          "scatter": [
           {
            "marker": {
             "colorbar": {
              "outlinewidth": 0,
              "ticks": ""
             }
            },
            "type": "scatter"
           }
          ],
          "scatter3d": [
           {
            "line": {
             "colorbar": {
              "outlinewidth": 0,
              "ticks": ""
             }
            },
            "marker": {
             "colorbar": {
              "outlinewidth": 0,
              "ticks": ""
             }
            },
            "type": "scatter3d"
           }
          ],
          "scattercarpet": [
           {
            "marker": {
             "colorbar": {
              "outlinewidth": 0,
              "ticks": ""
             }
            },
            "type": "scattercarpet"
           }
          ],
          "scattergeo": [
           {
            "marker": {
             "colorbar": {
              "outlinewidth": 0,
              "ticks": ""
             }
            },
            "type": "scattergeo"
           }
          ],
          "scattergl": [
           {
            "marker": {
             "colorbar": {
              "outlinewidth": 0,
              "ticks": ""
             }
            },
            "type": "scattergl"
           }
          ],
          "scattermapbox": [
           {
            "marker": {
             "colorbar": {
              "outlinewidth": 0,
              "ticks": ""
             }
            },
            "type": "scattermapbox"
           }
          ],
          "scatterpolar": [
           {
            "marker": {
             "colorbar": {
              "outlinewidth": 0,
              "ticks": ""
             }
            },
            "type": "scatterpolar"
           }
          ],
          "scatterpolargl": [
           {
            "marker": {
             "colorbar": {
              "outlinewidth": 0,
              "ticks": ""
             }
            },
            "type": "scatterpolargl"
           }
          ],
          "scatterternary": [
           {
            "marker": {
             "colorbar": {
              "outlinewidth": 0,
              "ticks": ""
             }
            },
            "type": "scatterternary"
           }
          ],
          "surface": [
           {
            "colorbar": {
             "outlinewidth": 0,
             "ticks": ""
            },
            "colorscale": [
             [
              0,
              "#0d0887"
             ],
             [
              0.1111111111111111,
              "#46039f"
             ],
             [
              0.2222222222222222,
              "#7201a8"
             ],
             [
              0.3333333333333333,
              "#9c179e"
             ],
             [
              0.4444444444444444,
              "#bd3786"
             ],
             [
              0.5555555555555556,
              "#d8576b"
             ],
             [
              0.6666666666666666,
              "#ed7953"
             ],
             [
              0.7777777777777778,
              "#fb9f3a"
             ],
             [
              0.8888888888888888,
              "#fdca26"
             ],
             [
              1,
              "#f0f921"
             ]
            ],
            "type": "surface"
           }
          ],
          "table": [
           {
            "cells": {
             "fill": {
              "color": "#EBF0F8"
             },
             "line": {
              "color": "white"
             }
            },
            "header": {
             "fill": {
              "color": "#C8D4E3"
             },
             "line": {
              "color": "white"
             }
            },
            "type": "table"
           }
          ]
         },
         "layout": {
          "annotationdefaults": {
           "arrowcolor": "#2a3f5f",
           "arrowhead": 0,
           "arrowwidth": 1
          },
          "coloraxis": {
           "colorbar": {
            "outlinewidth": 0,
            "ticks": ""
           }
          },
          "colorscale": {
           "diverging": [
            [
             0,
             "#8e0152"
            ],
            [
             0.1,
             "#c51b7d"
            ],
            [
             0.2,
             "#de77ae"
            ],
            [
             0.3,
             "#f1b6da"
            ],
            [
             0.4,
             "#fde0ef"
            ],
            [
             0.5,
             "#f7f7f7"
            ],
            [
             0.6,
             "#e6f5d0"
            ],
            [
             0.7,
             "#b8e186"
            ],
            [
             0.8,
             "#7fbc41"
            ],
            [
             0.9,
             "#4d9221"
            ],
            [
             1,
             "#276419"
            ]
           ],
           "sequential": [
            [
             0,
             "#0d0887"
            ],
            [
             0.1111111111111111,
             "#46039f"
            ],
            [
             0.2222222222222222,
             "#7201a8"
            ],
            [
             0.3333333333333333,
             "#9c179e"
            ],
            [
             0.4444444444444444,
             "#bd3786"
            ],
            [
             0.5555555555555556,
             "#d8576b"
            ],
            [
             0.6666666666666666,
             "#ed7953"
            ],
            [
             0.7777777777777778,
             "#fb9f3a"
            ],
            [
             0.8888888888888888,
             "#fdca26"
            ],
            [
             1,
             "#f0f921"
            ]
           ],
           "sequentialminus": [
            [
             0,
             "#0d0887"
            ],
            [
             0.1111111111111111,
             "#46039f"
            ],
            [
             0.2222222222222222,
             "#7201a8"
            ],
            [
             0.3333333333333333,
             "#9c179e"
            ],
            [
             0.4444444444444444,
             "#bd3786"
            ],
            [
             0.5555555555555556,
             "#d8576b"
            ],
            [
             0.6666666666666666,
             "#ed7953"
            ],
            [
             0.7777777777777778,
             "#fb9f3a"
            ],
            [
             0.8888888888888888,
             "#fdca26"
            ],
            [
             1,
             "#f0f921"
            ]
           ]
          },
          "colorway": [
           "#636efa",
           "#EF553B",
           "#00cc96",
           "#ab63fa",
           "#FFA15A",
           "#19d3f3",
           "#FF6692",
           "#B6E880",
           "#FF97FF",
           "#FECB52"
          ],
          "font": {
           "color": "#2a3f5f"
          },
          "geo": {
           "bgcolor": "white",
           "lakecolor": "white",
           "landcolor": "#E5ECF6",
           "showlakes": true,
           "showland": true,
           "subunitcolor": "white"
          },
          "hoverlabel": {
           "align": "left"
          },
          "hovermode": "closest",
          "mapbox": {
           "style": "light"
          },
          "paper_bgcolor": "white",
          "plot_bgcolor": "#E5ECF6",
          "polar": {
           "angularaxis": {
            "gridcolor": "white",
            "linecolor": "white",
            "ticks": ""
           },
           "bgcolor": "#E5ECF6",
           "radialaxis": {
            "gridcolor": "white",
            "linecolor": "white",
            "ticks": ""
           }
          },
          "scene": {
           "xaxis": {
            "backgroundcolor": "#E5ECF6",
            "gridcolor": "white",
            "gridwidth": 2,
            "linecolor": "white",
            "showbackground": true,
            "ticks": "",
            "zerolinecolor": "white"
           },
           "yaxis": {
            "backgroundcolor": "#E5ECF6",
            "gridcolor": "white",
            "gridwidth": 2,
            "linecolor": "white",
            "showbackground": true,
            "ticks": "",
            "zerolinecolor": "white"
           },
           "zaxis": {
            "backgroundcolor": "#E5ECF6",
            "gridcolor": "white",
            "gridwidth": 2,
            "linecolor": "white",
            "showbackground": true,
            "ticks": "",
            "zerolinecolor": "white"
           }
          },
          "shapedefaults": {
           "line": {
            "color": "#2a3f5f"
           }
          },
          "ternary": {
           "aaxis": {
            "gridcolor": "white",
            "linecolor": "white",
            "ticks": ""
           },
           "baxis": {
            "gridcolor": "white",
            "linecolor": "white",
            "ticks": ""
           },
           "bgcolor": "#E5ECF6",
           "caxis": {
            "gridcolor": "white",
            "linecolor": "white",
            "ticks": ""
           }
          },
          "title": {
           "x": 0.05
          },
          "xaxis": {
           "automargin": true,
           "gridcolor": "white",
           "linecolor": "white",
           "ticks": "",
           "title": {
            "standoff": 15
           },
           "zerolinecolor": "white",
           "zerolinewidth": 2
          },
          "yaxis": {
           "automargin": true,
           "gridcolor": "white",
           "linecolor": "white",
           "ticks": "",
           "title": {
            "standoff": 15
           },
           "zerolinecolor": "white",
           "zerolinewidth": 2
          }
         }
        },
        "title": {
         "font": {
          "color": "#4D5663"
         }
        },
        "xaxis": {
         "gridcolor": "#E1E5ED",
         "showgrid": true,
         "tickfont": {
          "color": "#4D5663"
         },
         "title": {
          "font": {
           "color": "#4D5663"
          },
          "text": ""
         },
         "zerolinecolor": "#E1E5ED"
        },
        "yaxis": {
         "gridcolor": "#E1E5ED",
         "showgrid": true,
         "tickfont": {
          "color": "#4D5663"
         },
         "title": {
          "font": {
           "color": "#4D5663"
          },
          "text": ""
         },
         "zerolinecolor": "#E1E5ED"
        }
       }
      },
      "text/html": [
       "<div>                            <div id=\"ae0a9f1b-e60f-4b23-a99c-c46f552f57ce\" class=\"plotly-graph-div\" style=\"height:525px; width:100%;\"></div>            <script type=\"text/javascript\">                require([\"plotly\"], function(Plotly) {                    window.PLOTLYENV=window.PLOTLYENV || {};\n",
       "                    window.PLOTLYENV.BASE_URL='https://plot.ly';                                    if (document.getElementById(\"ae0a9f1b-e60f-4b23-a99c-c46f552f57ce\")) {                    Plotly.newPlot(                        \"ae0a9f1b-e60f-4b23-a99c-c46f552f57ce\",                        [{\"marker\": {\"color\": \"rgba(255, 153, 51, 0.6)\", \"line\": {\"color\": \"rgba(255, 153, 51, 1.0)\", \"width\": 1}}, \"name\": \"Values\", \"orientation\": \"v\", \"text\": \"\", \"type\": \"bar\", \"x\": [\"A\", \"B\", \"C\"], \"y\": [32, 43, 50]}],                        {\"legend\": {\"bgcolor\": \"#F5F6F9\", \"font\": {\"color\": \"#4D5663\"}}, \"paper_bgcolor\": \"#F5F6F9\", \"plot_bgcolor\": \"#F5F6F9\", \"template\": {\"data\": {\"bar\": [{\"error_x\": {\"color\": \"#2a3f5f\"}, \"error_y\": {\"color\": \"#2a3f5f\"}, \"marker\": {\"line\": {\"color\": \"#E5ECF6\", \"width\": 0.5}}, \"type\": \"bar\"}], \"barpolar\": [{\"marker\": {\"line\": {\"color\": \"#E5ECF6\", \"width\": 0.5}}, \"type\": \"barpolar\"}], \"carpet\": [{\"aaxis\": {\"endlinecolor\": \"#2a3f5f\", \"gridcolor\": \"white\", \"linecolor\": \"white\", \"minorgridcolor\": \"white\", \"startlinecolor\": \"#2a3f5f\"}, \"baxis\": {\"endlinecolor\": \"#2a3f5f\", \"gridcolor\": \"white\", \"linecolor\": \"white\", \"minorgridcolor\": \"white\", \"startlinecolor\": \"#2a3f5f\"}, \"type\": \"carpet\"}], \"choropleth\": [{\"colorbar\": {\"outlinewidth\": 0, \"ticks\": \"\"}, \"type\": \"choropleth\"}], \"contour\": [{\"colorbar\": {\"outlinewidth\": 0, \"ticks\": \"\"}, \"colorscale\": [[0.0, \"#0d0887\"], [0.1111111111111111, \"#46039f\"], [0.2222222222222222, \"#7201a8\"], [0.3333333333333333, \"#9c179e\"], [0.4444444444444444, \"#bd3786\"], [0.5555555555555556, \"#d8576b\"], [0.6666666666666666, \"#ed7953\"], [0.7777777777777778, \"#fb9f3a\"], [0.8888888888888888, \"#fdca26\"], [1.0, \"#f0f921\"]], \"type\": \"contour\"}], \"contourcarpet\": [{\"colorbar\": {\"outlinewidth\": 0, \"ticks\": \"\"}, \"type\": \"contourcarpet\"}], \"heatmap\": [{\"colorbar\": {\"outlinewidth\": 0, \"ticks\": \"\"}, \"colorscale\": [[0.0, \"#0d0887\"], [0.1111111111111111, \"#46039f\"], [0.2222222222222222, \"#7201a8\"], [0.3333333333333333, \"#9c179e\"], [0.4444444444444444, \"#bd3786\"], [0.5555555555555556, \"#d8576b\"], [0.6666666666666666, \"#ed7953\"], [0.7777777777777778, \"#fb9f3a\"], [0.8888888888888888, \"#fdca26\"], [1.0, \"#f0f921\"]], \"type\": \"heatmap\"}], \"heatmapgl\": [{\"colorbar\": {\"outlinewidth\": 0, \"ticks\": \"\"}, \"colorscale\": [[0.0, \"#0d0887\"], [0.1111111111111111, \"#46039f\"], [0.2222222222222222, \"#7201a8\"], [0.3333333333333333, \"#9c179e\"], [0.4444444444444444, \"#bd3786\"], [0.5555555555555556, \"#d8576b\"], [0.6666666666666666, \"#ed7953\"], [0.7777777777777778, \"#fb9f3a\"], [0.8888888888888888, \"#fdca26\"], [1.0, \"#f0f921\"]], \"type\": \"heatmapgl\"}], \"histogram\": [{\"marker\": {\"colorbar\": {\"outlinewidth\": 0, \"ticks\": \"\"}}, \"type\": \"histogram\"}], \"histogram2d\": [{\"colorbar\": {\"outlinewidth\": 0, \"ticks\": \"\"}, \"colorscale\": [[0.0, \"#0d0887\"], [0.1111111111111111, \"#46039f\"], [0.2222222222222222, \"#7201a8\"], [0.3333333333333333, \"#9c179e\"], [0.4444444444444444, \"#bd3786\"], [0.5555555555555556, \"#d8576b\"], [0.6666666666666666, \"#ed7953\"], [0.7777777777777778, \"#fb9f3a\"], [0.8888888888888888, \"#fdca26\"], [1.0, \"#f0f921\"]], \"type\": \"histogram2d\"}], \"histogram2dcontour\": [{\"colorbar\": {\"outlinewidth\": 0, \"ticks\": \"\"}, \"colorscale\": [[0.0, \"#0d0887\"], [0.1111111111111111, \"#46039f\"], [0.2222222222222222, \"#7201a8\"], [0.3333333333333333, \"#9c179e\"], [0.4444444444444444, \"#bd3786\"], [0.5555555555555556, \"#d8576b\"], [0.6666666666666666, \"#ed7953\"], [0.7777777777777778, \"#fb9f3a\"], [0.8888888888888888, \"#fdca26\"], [1.0, \"#f0f921\"]], \"type\": \"histogram2dcontour\"}], \"mesh3d\": [{\"colorbar\": {\"outlinewidth\": 0, \"ticks\": \"\"}, \"type\": \"mesh3d\"}], \"parcoords\": [{\"line\": {\"colorbar\": {\"outlinewidth\": 0, \"ticks\": \"\"}}, \"type\": \"parcoords\"}], \"pie\": [{\"automargin\": true, \"type\": \"pie\"}], \"scatter\": [{\"marker\": {\"colorbar\": {\"outlinewidth\": 0, \"ticks\": \"\"}}, \"type\": \"scatter\"}], \"scatter3d\": [{\"line\": {\"colorbar\": {\"outlinewidth\": 0, \"ticks\": \"\"}}, \"marker\": {\"colorbar\": {\"outlinewidth\": 0, \"ticks\": \"\"}}, \"type\": \"scatter3d\"}], \"scattercarpet\": [{\"marker\": {\"colorbar\": {\"outlinewidth\": 0, \"ticks\": \"\"}}, \"type\": \"scattercarpet\"}], \"scattergeo\": [{\"marker\": {\"colorbar\": {\"outlinewidth\": 0, \"ticks\": \"\"}}, \"type\": \"scattergeo\"}], \"scattergl\": [{\"marker\": {\"colorbar\": {\"outlinewidth\": 0, \"ticks\": \"\"}}, \"type\": \"scattergl\"}], \"scattermapbox\": [{\"marker\": {\"colorbar\": {\"outlinewidth\": 0, \"ticks\": \"\"}}, \"type\": \"scattermapbox\"}], \"scatterpolar\": [{\"marker\": {\"colorbar\": {\"outlinewidth\": 0, \"ticks\": \"\"}}, \"type\": \"scatterpolar\"}], \"scatterpolargl\": [{\"marker\": {\"colorbar\": {\"outlinewidth\": 0, \"ticks\": \"\"}}, \"type\": \"scatterpolargl\"}], \"scatterternary\": [{\"marker\": {\"colorbar\": {\"outlinewidth\": 0, \"ticks\": \"\"}}, \"type\": \"scatterternary\"}], \"surface\": [{\"colorbar\": {\"outlinewidth\": 0, \"ticks\": \"\"}, \"colorscale\": [[0.0, \"#0d0887\"], [0.1111111111111111, \"#46039f\"], [0.2222222222222222, \"#7201a8\"], [0.3333333333333333, \"#9c179e\"], [0.4444444444444444, \"#bd3786\"], [0.5555555555555556, \"#d8576b\"], [0.6666666666666666, \"#ed7953\"], [0.7777777777777778, \"#fb9f3a\"], [0.8888888888888888, \"#fdca26\"], [1.0, \"#f0f921\"]], \"type\": \"surface\"}], \"table\": [{\"cells\": {\"fill\": {\"color\": \"#EBF0F8\"}, \"line\": {\"color\": \"white\"}}, \"header\": {\"fill\": {\"color\": \"#C8D4E3\"}, \"line\": {\"color\": \"white\"}}, \"type\": \"table\"}]}, \"layout\": {\"annotationdefaults\": {\"arrowcolor\": \"#2a3f5f\", \"arrowhead\": 0, \"arrowwidth\": 1}, \"coloraxis\": {\"colorbar\": {\"outlinewidth\": 0, \"ticks\": \"\"}}, \"colorscale\": {\"diverging\": [[0, \"#8e0152\"], [0.1, \"#c51b7d\"], [0.2, \"#de77ae\"], [0.3, \"#f1b6da\"], [0.4, \"#fde0ef\"], [0.5, \"#f7f7f7\"], [0.6, \"#e6f5d0\"], [0.7, \"#b8e186\"], [0.8, \"#7fbc41\"], [0.9, \"#4d9221\"], [1, \"#276419\"]], \"sequential\": [[0.0, \"#0d0887\"], [0.1111111111111111, \"#46039f\"], [0.2222222222222222, \"#7201a8\"], [0.3333333333333333, \"#9c179e\"], [0.4444444444444444, \"#bd3786\"], [0.5555555555555556, \"#d8576b\"], [0.6666666666666666, \"#ed7953\"], [0.7777777777777778, \"#fb9f3a\"], [0.8888888888888888, \"#fdca26\"], [1.0, \"#f0f921\"]], \"sequentialminus\": [[0.0, \"#0d0887\"], [0.1111111111111111, \"#46039f\"], [0.2222222222222222, \"#7201a8\"], [0.3333333333333333, \"#9c179e\"], [0.4444444444444444, \"#bd3786\"], [0.5555555555555556, \"#d8576b\"], [0.6666666666666666, \"#ed7953\"], [0.7777777777777778, \"#fb9f3a\"], [0.8888888888888888, \"#fdca26\"], [1.0, \"#f0f921\"]]}, \"colorway\": [\"#636efa\", \"#EF553B\", \"#00cc96\", \"#ab63fa\", \"#FFA15A\", \"#19d3f3\", \"#FF6692\", \"#B6E880\", \"#FF97FF\", \"#FECB52\"], \"font\": {\"color\": \"#2a3f5f\"}, \"geo\": {\"bgcolor\": \"white\", \"lakecolor\": \"white\", \"landcolor\": \"#E5ECF6\", \"showlakes\": true, \"showland\": true, \"subunitcolor\": \"white\"}, \"hoverlabel\": {\"align\": \"left\"}, \"hovermode\": \"closest\", \"mapbox\": {\"style\": \"light\"}, \"paper_bgcolor\": \"white\", \"plot_bgcolor\": \"#E5ECF6\", \"polar\": {\"angularaxis\": {\"gridcolor\": \"white\", \"linecolor\": \"white\", \"ticks\": \"\"}, \"bgcolor\": \"#E5ECF6\", \"radialaxis\": {\"gridcolor\": \"white\", \"linecolor\": \"white\", \"ticks\": \"\"}}, \"scene\": {\"xaxis\": {\"backgroundcolor\": \"#E5ECF6\", \"gridcolor\": \"white\", \"gridwidth\": 2, \"linecolor\": \"white\", \"showbackground\": true, \"ticks\": \"\", \"zerolinecolor\": \"white\"}, \"yaxis\": {\"backgroundcolor\": \"#E5ECF6\", \"gridcolor\": \"white\", \"gridwidth\": 2, \"linecolor\": \"white\", \"showbackground\": true, \"ticks\": \"\", \"zerolinecolor\": \"white\"}, \"zaxis\": {\"backgroundcolor\": \"#E5ECF6\", \"gridcolor\": \"white\", \"gridwidth\": 2, \"linecolor\": \"white\", \"showbackground\": true, \"ticks\": \"\", \"zerolinecolor\": \"white\"}}, \"shapedefaults\": {\"line\": {\"color\": \"#2a3f5f\"}}, \"ternary\": {\"aaxis\": {\"gridcolor\": \"white\", \"linecolor\": \"white\", \"ticks\": \"\"}, \"baxis\": {\"gridcolor\": \"white\", \"linecolor\": \"white\", \"ticks\": \"\"}, \"bgcolor\": \"#E5ECF6\", \"caxis\": {\"gridcolor\": \"white\", \"linecolor\": \"white\", \"ticks\": \"\"}}, \"title\": {\"x\": 0.05}, \"xaxis\": {\"automargin\": true, \"gridcolor\": \"white\", \"linecolor\": \"white\", \"ticks\": \"\", \"title\": {\"standoff\": 15}, \"zerolinecolor\": \"white\", \"zerolinewidth\": 2}, \"yaxis\": {\"automargin\": true, \"gridcolor\": \"white\", \"linecolor\": \"white\", \"ticks\": \"\", \"title\": {\"standoff\": 15}, \"zerolinecolor\": \"white\", \"zerolinewidth\": 2}}}, \"title\": {\"font\": {\"color\": \"#4D5663\"}}, \"xaxis\": {\"gridcolor\": \"#E1E5ED\", \"showgrid\": true, \"tickfont\": {\"color\": \"#4D5663\"}, \"title\": {\"font\": {\"color\": \"#4D5663\"}, \"text\": \"\"}, \"zerolinecolor\": \"#E1E5ED\"}, \"yaxis\": {\"gridcolor\": \"#E1E5ED\", \"showgrid\": true, \"tickfont\": {\"color\": \"#4D5663\"}, \"title\": {\"font\": {\"color\": \"#4D5663\"}, \"text\": \"\"}, \"zerolinecolor\": \"#E1E5ED\"}},                        {\"showLink\": true, \"linkText\": \"Export to plot.ly\", \"plotlyServerURL\": \"https://plot.ly\", \"responsive\": true}                    ).then(function(){\n",
       "                            \n",
       "var gd = document.getElementById('ae0a9f1b-e60f-4b23-a99c-c46f552f57ce');\n",
       "var x = new MutationObserver(function (mutations, observer) {{\n",
       "        var display = window.getComputedStyle(gd).display;\n",
       "        if (!display || display === 'none') {{\n",
       "            console.log([gd, 'removed!']);\n",
       "            Plotly.purge(gd);\n",
       "            observer.disconnect();\n",
       "        }}\n",
       "}});\n",
       "\n",
       "// Listen for the removal of the full notebook cells\n",
       "var notebookContainer = gd.closest('#notebook-container');\n",
       "if (notebookContainer) {{\n",
       "    x.observe(notebookContainer, {childList: true});\n",
       "}}\n",
       "\n",
       "// Listen for the clearing of the current output cell\n",
       "var outputEl = gd.closest('.output');\n",
       "if (outputEl) {{\n",
       "    x.observe(outputEl, {childList: true});\n",
       "}}\n",
       "\n",
       "                        })                };                });            </script>        </div>"
      ]
     },
     "metadata": {},
     "output_type": "display_data"
    }
   ],
   "source": [
    "df2.iplot(kind='bar', x='Category', y='Values')"
   ]
  },
  {
   "cell_type": "code",
   "execution_count": 12,
   "metadata": {},
   "outputs": [
    {
     "data": {
      "application/vnd.plotly.v1+json": {
       "config": {
        "linkText": "Export to plot.ly",
        "plotlyServerURL": "https://plot.ly",
        "showLink": true
       },
       "data": [
        {
         "marker": {
          "color": "rgba(255, 153, 51, 0.6)",
          "line": {
           "color": "rgba(255, 153, 51, 1.0)",
           "width": 1
          }
         },
         "name": "None",
         "orientation": "v",
         "text": "",
         "type": "bar",
         "x": [
          "A",
          "B",
          "C",
          "D"
         ],
         "y": [
          100,
          100,
          100,
          100
         ]
        }
       ],
       "layout": {
        "legend": {
         "bgcolor": "#F5F6F9",
         "font": {
          "color": "#4D5663"
         }
        },
        "paper_bgcolor": "#F5F6F9",
        "plot_bgcolor": "#F5F6F9",
        "template": {
         "data": {
          "bar": [
           {
            "error_x": {
             "color": "#2a3f5f"
            },
            "error_y": {
             "color": "#2a3f5f"
            },
            "marker": {
             "line": {
              "color": "#E5ECF6",
              "width": 0.5
             }
            },
            "type": "bar"
           }
          ],
          "barpolar": [
           {
            "marker": {
             "line": {
              "color": "#E5ECF6",
              "width": 0.5
             }
            },
            "type": "barpolar"
           }
          ],
          "carpet": [
           {
            "aaxis": {
             "endlinecolor": "#2a3f5f",
             "gridcolor": "white",
             "linecolor": "white",
             "minorgridcolor": "white",
             "startlinecolor": "#2a3f5f"
            },
            "baxis": {
             "endlinecolor": "#2a3f5f",
             "gridcolor": "white",
             "linecolor": "white",
             "minorgridcolor": "white",
             "startlinecolor": "#2a3f5f"
            },
            "type": "carpet"
           }
          ],
          "choropleth": [
           {
            "colorbar": {
             "outlinewidth": 0,
             "ticks": ""
            },
            "type": "choropleth"
           }
          ],
          "contour": [
           {
            "colorbar": {
             "outlinewidth": 0,
             "ticks": ""
            },
            "colorscale": [
             [
              0,
              "#0d0887"
             ],
             [
              0.1111111111111111,
              "#46039f"
             ],
             [
              0.2222222222222222,
              "#7201a8"
             ],
             [
              0.3333333333333333,
              "#9c179e"
             ],
             [
              0.4444444444444444,
              "#bd3786"
             ],
             [
              0.5555555555555556,
              "#d8576b"
             ],
             [
              0.6666666666666666,
              "#ed7953"
             ],
             [
              0.7777777777777778,
              "#fb9f3a"
             ],
             [
              0.8888888888888888,
              "#fdca26"
             ],
             [
              1,
              "#f0f921"
             ]
            ],
            "type": "contour"
           }
          ],
          "contourcarpet": [
           {
            "colorbar": {
             "outlinewidth": 0,
             "ticks": ""
            },
            "type": "contourcarpet"
           }
          ],
          "heatmap": [
           {
            "colorbar": {
             "outlinewidth": 0,
             "ticks": ""
            },
            "colorscale": [
             [
              0,
              "#0d0887"
             ],
             [
              0.1111111111111111,
              "#46039f"
             ],
             [
              0.2222222222222222,
              "#7201a8"
             ],
             [
              0.3333333333333333,
              "#9c179e"
             ],
             [
              0.4444444444444444,
              "#bd3786"
             ],
             [
              0.5555555555555556,
              "#d8576b"
             ],
             [
              0.6666666666666666,
              "#ed7953"
             ],
             [
              0.7777777777777778,
              "#fb9f3a"
             ],
             [
              0.8888888888888888,
              "#fdca26"
             ],
             [
              1,
              "#f0f921"
             ]
            ],
            "type": "heatmap"
           }
          ],
          "heatmapgl": [
           {
            "colorbar": {
             "outlinewidth": 0,
             "ticks": ""
            },
            "colorscale": [
             [
              0,
              "#0d0887"
             ],
             [
              0.1111111111111111,
              "#46039f"
             ],
             [
              0.2222222222222222,
              "#7201a8"
             ],
             [
              0.3333333333333333,
              "#9c179e"
             ],
             [
              0.4444444444444444,
              "#bd3786"
             ],
             [
              0.5555555555555556,
              "#d8576b"
             ],
             [
              0.6666666666666666,
              "#ed7953"
             ],
             [
              0.7777777777777778,
              "#fb9f3a"
             ],
             [
              0.8888888888888888,
              "#fdca26"
             ],
             [
              1,
              "#f0f921"
             ]
            ],
            "type": "heatmapgl"
           }
          ],
          "histogram": [
           {
            "marker": {
             "colorbar": {
              "outlinewidth": 0,
              "ticks": ""
             }
            },
            "type": "histogram"
           }
          ],
          "histogram2d": [
           {
            "colorbar": {
             "outlinewidth": 0,
             "ticks": ""
            },
            "colorscale": [
             [
              0,
              "#0d0887"
             ],
             [
              0.1111111111111111,
              "#46039f"
             ],
             [
              0.2222222222222222,
              "#7201a8"
             ],
             [
              0.3333333333333333,
              "#9c179e"
             ],
             [
              0.4444444444444444,
              "#bd3786"
             ],
             [
              0.5555555555555556,
              "#d8576b"
             ],
             [
              0.6666666666666666,
              "#ed7953"
             ],
             [
              0.7777777777777778,
              "#fb9f3a"
             ],
             [
              0.8888888888888888,
              "#fdca26"
             ],
             [
              1,
              "#f0f921"
             ]
            ],
            "type": "histogram2d"
           }
          ],
          "histogram2dcontour": [
           {
            "colorbar": {
             "outlinewidth": 0,
             "ticks": ""
            },
            "colorscale": [
             [
              0,
              "#0d0887"
             ],
             [
              0.1111111111111111,
              "#46039f"
             ],
             [
              0.2222222222222222,
              "#7201a8"
             ],
             [
              0.3333333333333333,
              "#9c179e"
             ],
             [
              0.4444444444444444,
              "#bd3786"
             ],
             [
              0.5555555555555556,
              "#d8576b"
             ],
             [
              0.6666666666666666,
              "#ed7953"
             ],
             [
              0.7777777777777778,
              "#fb9f3a"
             ],
             [
              0.8888888888888888,
              "#fdca26"
             ],
             [
              1,
              "#f0f921"
             ]
            ],
            "type": "histogram2dcontour"
           }
          ],
          "mesh3d": [
           {
            "colorbar": {
             "outlinewidth": 0,
             "ticks": ""
            },
            "type": "mesh3d"
           }
          ],
          "parcoords": [
           {
            "line": {
             "colorbar": {
              "outlinewidth": 0,
              "ticks": ""
             }
            },
            "type": "parcoords"
           }
          ],
          "pie": [
           {
            "automargin": true,
            "type": "pie"
           }
          ],
          "scatter": [
           {
            "marker": {
             "colorbar": {
              "outlinewidth": 0,
              "ticks": ""
             }
            },
            "type": "scatter"
           }
          ],
          "scatter3d": [
           {
            "line": {
             "colorbar": {
              "outlinewidth": 0,
              "ticks": ""
             }
            },
            "marker": {
             "colorbar": {
              "outlinewidth": 0,
              "ticks": ""
             }
            },
            "type": "scatter3d"
           }
          ],
          "scattercarpet": [
           {
            "marker": {
             "colorbar": {
              "outlinewidth": 0,
              "ticks": ""
             }
            },
            "type": "scattercarpet"
           }
          ],
          "scattergeo": [
           {
            "marker": {
             "colorbar": {
              "outlinewidth": 0,
              "ticks": ""
             }
            },
            "type": "scattergeo"
           }
          ],
          "scattergl": [
           {
            "marker": {
             "colorbar": {
              "outlinewidth": 0,
              "ticks": ""
             }
            },
            "type": "scattergl"
           }
          ],
          "scattermapbox": [
           {
            "marker": {
             "colorbar": {
              "outlinewidth": 0,
              "ticks": ""
             }
            },
            "type": "scattermapbox"
           }
          ],
          "scatterpolar": [
           {
            "marker": {
             "colorbar": {
              "outlinewidth": 0,
              "ticks": ""
             }
            },
            "type": "scatterpolar"
           }
          ],
          "scatterpolargl": [
           {
            "marker": {
             "colorbar": {
              "outlinewidth": 0,
              "ticks": ""
             }
            },
            "type": "scatterpolargl"
           }
          ],
          "scatterternary": [
           {
            "marker": {
             "colorbar": {
              "outlinewidth": 0,
              "ticks": ""
             }
            },
            "type": "scatterternary"
           }
          ],
          "surface": [
           {
            "colorbar": {
             "outlinewidth": 0,
             "ticks": ""
            },
            "colorscale": [
             [
              0,
              "#0d0887"
             ],
             [
              0.1111111111111111,
              "#46039f"
             ],
             [
              0.2222222222222222,
              "#7201a8"
             ],
             [
              0.3333333333333333,
              "#9c179e"
             ],
             [
              0.4444444444444444,
              "#bd3786"
             ],
             [
              0.5555555555555556,
              "#d8576b"
             ],
             [
              0.6666666666666666,
              "#ed7953"
             ],
             [
              0.7777777777777778,
              "#fb9f3a"
             ],
             [
              0.8888888888888888,
              "#fdca26"
             ],
             [
              1,
              "#f0f921"
             ]
            ],
            "type": "surface"
           }
          ],
          "table": [
           {
            "cells": {
             "fill": {
              "color": "#EBF0F8"
             },
             "line": {
              "color": "white"
             }
            },
            "header": {
             "fill": {
              "color": "#C8D4E3"
             },
             "line": {
              "color": "white"
             }
            },
            "type": "table"
           }
          ]
         },
         "layout": {
          "annotationdefaults": {
           "arrowcolor": "#2a3f5f",
           "arrowhead": 0,
           "arrowwidth": 1
          },
          "coloraxis": {
           "colorbar": {
            "outlinewidth": 0,
            "ticks": ""
           }
          },
          "colorscale": {
           "diverging": [
            [
             0,
             "#8e0152"
            ],
            [
             0.1,
             "#c51b7d"
            ],
            [
             0.2,
             "#de77ae"
            ],
            [
             0.3,
             "#f1b6da"
            ],
            [
             0.4,
             "#fde0ef"
            ],
            [
             0.5,
             "#f7f7f7"
            ],
            [
             0.6,
             "#e6f5d0"
            ],
            [
             0.7,
             "#b8e186"
            ],
            [
             0.8,
             "#7fbc41"
            ],
            [
             0.9,
             "#4d9221"
            ],
            [
             1,
             "#276419"
            ]
           ],
           "sequential": [
            [
             0,
             "#0d0887"
            ],
            [
             0.1111111111111111,
             "#46039f"
            ],
            [
             0.2222222222222222,
             "#7201a8"
            ],
            [
             0.3333333333333333,
             "#9c179e"
            ],
            [
             0.4444444444444444,
             "#bd3786"
            ],
            [
             0.5555555555555556,
             "#d8576b"
            ],
            [
             0.6666666666666666,
             "#ed7953"
            ],
            [
             0.7777777777777778,
             "#fb9f3a"
            ],
            [
             0.8888888888888888,
             "#fdca26"
            ],
            [
             1,
             "#f0f921"
            ]
           ],
           "sequentialminus": [
            [
             0,
             "#0d0887"
            ],
            [
             0.1111111111111111,
             "#46039f"
            ],
            [
             0.2222222222222222,
             "#7201a8"
            ],
            [
             0.3333333333333333,
             "#9c179e"
            ],
            [
             0.4444444444444444,
             "#bd3786"
            ],
            [
             0.5555555555555556,
             "#d8576b"
            ],
            [
             0.6666666666666666,
             "#ed7953"
            ],
            [
             0.7777777777777778,
             "#fb9f3a"
            ],
            [
             0.8888888888888888,
             "#fdca26"
            ],
            [
             1,
             "#f0f921"
            ]
           ]
          },
          "colorway": [
           "#636efa",
           "#EF553B",
           "#00cc96",
           "#ab63fa",
           "#FFA15A",
           "#19d3f3",
           "#FF6692",
           "#B6E880",
           "#FF97FF",
           "#FECB52"
          ],
          "font": {
           "color": "#2a3f5f"
          },
          "geo": {
           "bgcolor": "white",
           "lakecolor": "white",
           "landcolor": "#E5ECF6",
           "showlakes": true,
           "showland": true,
           "subunitcolor": "white"
          },
          "hoverlabel": {
           "align": "left"
          },
          "hovermode": "closest",
          "mapbox": {
           "style": "light"
          },
          "paper_bgcolor": "white",
          "plot_bgcolor": "#E5ECF6",
          "polar": {
           "angularaxis": {
            "gridcolor": "white",
            "linecolor": "white",
            "ticks": ""
           },
           "bgcolor": "#E5ECF6",
           "radialaxis": {
            "gridcolor": "white",
            "linecolor": "white",
            "ticks": ""
           }
          },
          "scene": {
           "xaxis": {
            "backgroundcolor": "#E5ECF6",
            "gridcolor": "white",
            "gridwidth": 2,
            "linecolor": "white",
            "showbackground": true,
            "ticks": "",
            "zerolinecolor": "white"
           },
           "yaxis": {
            "backgroundcolor": "#E5ECF6",
            "gridcolor": "white",
            "gridwidth": 2,
            "linecolor": "white",
            "showbackground": true,
            "ticks": "",
            "zerolinecolor": "white"
           },
           "zaxis": {
            "backgroundcolor": "#E5ECF6",
            "gridcolor": "white",
            "gridwidth": 2,
            "linecolor": "white",
            "showbackground": true,
            "ticks": "",
            "zerolinecolor": "white"
           }
          },
          "shapedefaults": {
           "line": {
            "color": "#2a3f5f"
           }
          },
          "ternary": {
           "aaxis": {
            "gridcolor": "white",
            "linecolor": "white",
            "ticks": ""
           },
           "baxis": {
            "gridcolor": "white",
            "linecolor": "white",
            "ticks": ""
           },
           "bgcolor": "#E5ECF6",
           "caxis": {
            "gridcolor": "white",
            "linecolor": "white",
            "ticks": ""
           }
          },
          "title": {
           "x": 0.05
          },
          "xaxis": {
           "automargin": true,
           "gridcolor": "white",
           "linecolor": "white",
           "ticks": "",
           "title": {
            "standoff": 15
           },
           "zerolinecolor": "white",
           "zerolinewidth": 2
          },
          "yaxis": {
           "automargin": true,
           "gridcolor": "white",
           "linecolor": "white",
           "ticks": "",
           "title": {
            "standoff": 15
           },
           "zerolinecolor": "white",
           "zerolinewidth": 2
          }
         }
        },
        "title": {
         "font": {
          "color": "#4D5663"
         }
        },
        "xaxis": {
         "gridcolor": "#E1E5ED",
         "showgrid": true,
         "tickfont": {
          "color": "#4D5663"
         },
         "title": {
          "font": {
           "color": "#4D5663"
          },
          "text": ""
         },
         "zerolinecolor": "#E1E5ED"
        },
        "yaxis": {
         "gridcolor": "#E1E5ED",
         "showgrid": true,
         "tickfont": {
          "color": "#4D5663"
         },
         "title": {
          "font": {
           "color": "#4D5663"
          },
          "text": ""
         },
         "zerolinecolor": "#E1E5ED"
        }
       }
      },
      "text/html": [
       "<div>                            <div id=\"11ffba1b-94b6-4df7-b287-4e68b8ab1aae\" class=\"plotly-graph-div\" style=\"height:525px; width:100%;\"></div>            <script type=\"text/javascript\">                require([\"plotly\"], function(Plotly) {                    window.PLOTLYENV=window.PLOTLYENV || {};\n",
       "                    window.PLOTLYENV.BASE_URL='https://plot.ly';                                    if (document.getElementById(\"11ffba1b-94b6-4df7-b287-4e68b8ab1aae\")) {                    Plotly.newPlot(                        \"11ffba1b-94b6-4df7-b287-4e68b8ab1aae\",                        [{\"marker\": {\"color\": \"rgba(255, 153, 51, 0.6)\", \"line\": {\"color\": \"rgba(255, 153, 51, 1.0)\", \"width\": 1}}, \"name\": \"None\", \"orientation\": \"v\", \"text\": \"\", \"type\": \"bar\", \"x\": [\"A\", \"B\", \"C\", \"D\"], \"y\": [100, 100, 100, 100]}],                        {\"legend\": {\"bgcolor\": \"#F5F6F9\", \"font\": {\"color\": \"#4D5663\"}}, \"paper_bgcolor\": \"#F5F6F9\", \"plot_bgcolor\": \"#F5F6F9\", \"template\": {\"data\": {\"bar\": [{\"error_x\": {\"color\": \"#2a3f5f\"}, \"error_y\": {\"color\": \"#2a3f5f\"}, \"marker\": {\"line\": {\"color\": \"#E5ECF6\", \"width\": 0.5}}, \"type\": \"bar\"}], \"barpolar\": [{\"marker\": {\"line\": {\"color\": \"#E5ECF6\", \"width\": 0.5}}, \"type\": \"barpolar\"}], \"carpet\": [{\"aaxis\": {\"endlinecolor\": \"#2a3f5f\", \"gridcolor\": \"white\", \"linecolor\": \"white\", \"minorgridcolor\": \"white\", \"startlinecolor\": \"#2a3f5f\"}, \"baxis\": {\"endlinecolor\": \"#2a3f5f\", \"gridcolor\": \"white\", \"linecolor\": \"white\", \"minorgridcolor\": \"white\", \"startlinecolor\": \"#2a3f5f\"}, \"type\": \"carpet\"}], \"choropleth\": [{\"colorbar\": {\"outlinewidth\": 0, \"ticks\": \"\"}, \"type\": \"choropleth\"}], \"contour\": [{\"colorbar\": {\"outlinewidth\": 0, \"ticks\": \"\"}, \"colorscale\": [[0.0, \"#0d0887\"], [0.1111111111111111, \"#46039f\"], [0.2222222222222222, \"#7201a8\"], [0.3333333333333333, \"#9c179e\"], [0.4444444444444444, \"#bd3786\"], [0.5555555555555556, \"#d8576b\"], [0.6666666666666666, \"#ed7953\"], [0.7777777777777778, \"#fb9f3a\"], [0.8888888888888888, \"#fdca26\"], [1.0, \"#f0f921\"]], \"type\": \"contour\"}], \"contourcarpet\": [{\"colorbar\": {\"outlinewidth\": 0, \"ticks\": \"\"}, \"type\": \"contourcarpet\"}], \"heatmap\": [{\"colorbar\": {\"outlinewidth\": 0, \"ticks\": \"\"}, \"colorscale\": [[0.0, \"#0d0887\"], [0.1111111111111111, \"#46039f\"], [0.2222222222222222, \"#7201a8\"], [0.3333333333333333, \"#9c179e\"], [0.4444444444444444, \"#bd3786\"], [0.5555555555555556, \"#d8576b\"], [0.6666666666666666, \"#ed7953\"], [0.7777777777777778, \"#fb9f3a\"], [0.8888888888888888, \"#fdca26\"], [1.0, \"#f0f921\"]], \"type\": \"heatmap\"}], \"heatmapgl\": [{\"colorbar\": {\"outlinewidth\": 0, \"ticks\": \"\"}, \"colorscale\": [[0.0, \"#0d0887\"], [0.1111111111111111, \"#46039f\"], [0.2222222222222222, \"#7201a8\"], [0.3333333333333333, \"#9c179e\"], [0.4444444444444444, \"#bd3786\"], [0.5555555555555556, \"#d8576b\"], [0.6666666666666666, \"#ed7953\"], [0.7777777777777778, \"#fb9f3a\"], [0.8888888888888888, \"#fdca26\"], [1.0, \"#f0f921\"]], \"type\": \"heatmapgl\"}], \"histogram\": [{\"marker\": {\"colorbar\": {\"outlinewidth\": 0, \"ticks\": \"\"}}, \"type\": \"histogram\"}], \"histogram2d\": [{\"colorbar\": {\"outlinewidth\": 0, \"ticks\": \"\"}, \"colorscale\": [[0.0, \"#0d0887\"], [0.1111111111111111, \"#46039f\"], [0.2222222222222222, \"#7201a8\"], [0.3333333333333333, \"#9c179e\"], [0.4444444444444444, \"#bd3786\"], [0.5555555555555556, \"#d8576b\"], [0.6666666666666666, \"#ed7953\"], [0.7777777777777778, \"#fb9f3a\"], [0.8888888888888888, \"#fdca26\"], [1.0, \"#f0f921\"]], \"type\": \"histogram2d\"}], \"histogram2dcontour\": [{\"colorbar\": {\"outlinewidth\": 0, \"ticks\": \"\"}, \"colorscale\": [[0.0, \"#0d0887\"], [0.1111111111111111, \"#46039f\"], [0.2222222222222222, \"#7201a8\"], [0.3333333333333333, \"#9c179e\"], [0.4444444444444444, \"#bd3786\"], [0.5555555555555556, \"#d8576b\"], [0.6666666666666666, \"#ed7953\"], [0.7777777777777778, \"#fb9f3a\"], [0.8888888888888888, \"#fdca26\"], [1.0, \"#f0f921\"]], \"type\": \"histogram2dcontour\"}], \"mesh3d\": [{\"colorbar\": {\"outlinewidth\": 0, \"ticks\": \"\"}, \"type\": \"mesh3d\"}], \"parcoords\": [{\"line\": {\"colorbar\": {\"outlinewidth\": 0, \"ticks\": \"\"}}, \"type\": \"parcoords\"}], \"pie\": [{\"automargin\": true, \"type\": \"pie\"}], \"scatter\": [{\"marker\": {\"colorbar\": {\"outlinewidth\": 0, \"ticks\": \"\"}}, \"type\": \"scatter\"}], \"scatter3d\": [{\"line\": {\"colorbar\": {\"outlinewidth\": 0, \"ticks\": \"\"}}, \"marker\": {\"colorbar\": {\"outlinewidth\": 0, \"ticks\": \"\"}}, \"type\": \"scatter3d\"}], \"scattercarpet\": [{\"marker\": {\"colorbar\": {\"outlinewidth\": 0, \"ticks\": \"\"}}, \"type\": \"scattercarpet\"}], \"scattergeo\": [{\"marker\": {\"colorbar\": {\"outlinewidth\": 0, \"ticks\": \"\"}}, \"type\": \"scattergeo\"}], \"scattergl\": [{\"marker\": {\"colorbar\": {\"outlinewidth\": 0, \"ticks\": \"\"}}, \"type\": \"scattergl\"}], \"scattermapbox\": [{\"marker\": {\"colorbar\": {\"outlinewidth\": 0, \"ticks\": \"\"}}, \"type\": \"scattermapbox\"}], \"scatterpolar\": [{\"marker\": {\"colorbar\": {\"outlinewidth\": 0, \"ticks\": \"\"}}, \"type\": \"scatterpolar\"}], \"scatterpolargl\": [{\"marker\": {\"colorbar\": {\"outlinewidth\": 0, \"ticks\": \"\"}}, \"type\": \"scatterpolargl\"}], \"scatterternary\": [{\"marker\": {\"colorbar\": {\"outlinewidth\": 0, \"ticks\": \"\"}}, \"type\": \"scatterternary\"}], \"surface\": [{\"colorbar\": {\"outlinewidth\": 0, \"ticks\": \"\"}, \"colorscale\": [[0.0, \"#0d0887\"], [0.1111111111111111, \"#46039f\"], [0.2222222222222222, \"#7201a8\"], [0.3333333333333333, \"#9c179e\"], [0.4444444444444444, \"#bd3786\"], [0.5555555555555556, \"#d8576b\"], [0.6666666666666666, \"#ed7953\"], [0.7777777777777778, \"#fb9f3a\"], [0.8888888888888888, \"#fdca26\"], [1.0, \"#f0f921\"]], \"type\": \"surface\"}], \"table\": [{\"cells\": {\"fill\": {\"color\": \"#EBF0F8\"}, \"line\": {\"color\": \"white\"}}, \"header\": {\"fill\": {\"color\": \"#C8D4E3\"}, \"line\": {\"color\": \"white\"}}, \"type\": \"table\"}]}, \"layout\": {\"annotationdefaults\": {\"arrowcolor\": \"#2a3f5f\", \"arrowhead\": 0, \"arrowwidth\": 1}, \"coloraxis\": {\"colorbar\": {\"outlinewidth\": 0, \"ticks\": \"\"}}, \"colorscale\": {\"diverging\": [[0, \"#8e0152\"], [0.1, \"#c51b7d\"], [0.2, \"#de77ae\"], [0.3, \"#f1b6da\"], [0.4, \"#fde0ef\"], [0.5, \"#f7f7f7\"], [0.6, \"#e6f5d0\"], [0.7, \"#b8e186\"], [0.8, \"#7fbc41\"], [0.9, \"#4d9221\"], [1, \"#276419\"]], \"sequential\": [[0.0, \"#0d0887\"], [0.1111111111111111, \"#46039f\"], [0.2222222222222222, \"#7201a8\"], [0.3333333333333333, \"#9c179e\"], [0.4444444444444444, \"#bd3786\"], [0.5555555555555556, \"#d8576b\"], [0.6666666666666666, \"#ed7953\"], [0.7777777777777778, \"#fb9f3a\"], [0.8888888888888888, \"#fdca26\"], [1.0, \"#f0f921\"]], \"sequentialminus\": [[0.0, \"#0d0887\"], [0.1111111111111111, \"#46039f\"], [0.2222222222222222, \"#7201a8\"], [0.3333333333333333, \"#9c179e\"], [0.4444444444444444, \"#bd3786\"], [0.5555555555555556, \"#d8576b\"], [0.6666666666666666, \"#ed7953\"], [0.7777777777777778, \"#fb9f3a\"], [0.8888888888888888, \"#fdca26\"], [1.0, \"#f0f921\"]]}, \"colorway\": [\"#636efa\", \"#EF553B\", \"#00cc96\", \"#ab63fa\", \"#FFA15A\", \"#19d3f3\", \"#FF6692\", \"#B6E880\", \"#FF97FF\", \"#FECB52\"], \"font\": {\"color\": \"#2a3f5f\"}, \"geo\": {\"bgcolor\": \"white\", \"lakecolor\": \"white\", \"landcolor\": \"#E5ECF6\", \"showlakes\": true, \"showland\": true, \"subunitcolor\": \"white\"}, \"hoverlabel\": {\"align\": \"left\"}, \"hovermode\": \"closest\", \"mapbox\": {\"style\": \"light\"}, \"paper_bgcolor\": \"white\", \"plot_bgcolor\": \"#E5ECF6\", \"polar\": {\"angularaxis\": {\"gridcolor\": \"white\", \"linecolor\": \"white\", \"ticks\": \"\"}, \"bgcolor\": \"#E5ECF6\", \"radialaxis\": {\"gridcolor\": \"white\", \"linecolor\": \"white\", \"ticks\": \"\"}}, \"scene\": {\"xaxis\": {\"backgroundcolor\": \"#E5ECF6\", \"gridcolor\": \"white\", \"gridwidth\": 2, \"linecolor\": \"white\", \"showbackground\": true, \"ticks\": \"\", \"zerolinecolor\": \"white\"}, \"yaxis\": {\"backgroundcolor\": \"#E5ECF6\", \"gridcolor\": \"white\", \"gridwidth\": 2, \"linecolor\": \"white\", \"showbackground\": true, \"ticks\": \"\", \"zerolinecolor\": \"white\"}, \"zaxis\": {\"backgroundcolor\": \"#E5ECF6\", \"gridcolor\": \"white\", \"gridwidth\": 2, \"linecolor\": \"white\", \"showbackground\": true, \"ticks\": \"\", \"zerolinecolor\": \"white\"}}, \"shapedefaults\": {\"line\": {\"color\": \"#2a3f5f\"}}, \"ternary\": {\"aaxis\": {\"gridcolor\": \"white\", \"linecolor\": \"white\", \"ticks\": \"\"}, \"baxis\": {\"gridcolor\": \"white\", \"linecolor\": \"white\", \"ticks\": \"\"}, \"bgcolor\": \"#E5ECF6\", \"caxis\": {\"gridcolor\": \"white\", \"linecolor\": \"white\", \"ticks\": \"\"}}, \"title\": {\"x\": 0.05}, \"xaxis\": {\"automargin\": true, \"gridcolor\": \"white\", \"linecolor\": \"white\", \"ticks\": \"\", \"title\": {\"standoff\": 15}, \"zerolinecolor\": \"white\", \"zerolinewidth\": 2}, \"yaxis\": {\"automargin\": true, \"gridcolor\": \"white\", \"linecolor\": \"white\", \"ticks\": \"\", \"title\": {\"standoff\": 15}, \"zerolinecolor\": \"white\", \"zerolinewidth\": 2}}}, \"title\": {\"font\": {\"color\": \"#4D5663\"}}, \"xaxis\": {\"gridcolor\": \"#E1E5ED\", \"showgrid\": true, \"tickfont\": {\"color\": \"#4D5663\"}, \"title\": {\"font\": {\"color\": \"#4D5663\"}, \"text\": \"\"}, \"zerolinecolor\": \"#E1E5ED\"}, \"yaxis\": {\"gridcolor\": \"#E1E5ED\", \"showgrid\": true, \"tickfont\": {\"color\": \"#4D5663\"}, \"title\": {\"font\": {\"color\": \"#4D5663\"}, \"text\": \"\"}, \"zerolinecolor\": \"#E1E5ED\"}},                        {\"showLink\": true, \"linkText\": \"Export to plot.ly\", \"plotlyServerURL\": \"https://plot.ly\", \"responsive\": true}                    ).then(function(){\n",
       "                            \n",
       "var gd = document.getElementById('11ffba1b-94b6-4df7-b287-4e68b8ab1aae');\n",
       "var x = new MutationObserver(function (mutations, observer) {{\n",
       "        var display = window.getComputedStyle(gd).display;\n",
       "        if (!display || display === 'none') {{\n",
       "            console.log([gd, 'removed!']);\n",
       "            Plotly.purge(gd);\n",
       "            observer.disconnect();\n",
       "        }}\n",
       "}});\n",
       "\n",
       "// Listen for the removal of the full notebook cells\n",
       "var notebookContainer = gd.closest('#notebook-container');\n",
       "if (notebookContainer) {{\n",
       "    x.observe(notebookContainer, {childList: true});\n",
       "}}\n",
       "\n",
       "// Listen for the clearing of the current output cell\n",
       "var outputEl = gd.closest('.output');\n",
       "if (outputEl) {{\n",
       "    x.observe(outputEl, {childList: true});\n",
       "}}\n",
       "\n",
       "                        })                };                });            </script>        </div>"
      ]
     },
     "metadata": {},
     "output_type": "display_data"
    }
   ],
   "source": [
    "fake_df.count().iplot(kind='bar')"
   ]
  },
  {
   "cell_type": "code",
   "execution_count": 13,
   "metadata": {},
   "outputs": [
    {
     "data": {
      "application/vnd.plotly.v1+json": {
       "config": {
        "linkText": "Export to plot.ly",
        "plotlyServerURL": "https://plot.ly",
        "showLink": true
       },
       "data": [
        {
         "boxpoints": false,
         "line": {
          "width": 1.3
         },
         "marker": {
          "color": "rgba(255, 153, 51, 1.0)"
         },
         "name": "A",
         "orientation": "v",
         "type": "box",
         "y": [
          2.0098763595893336,
          1.5854346850248688,
          0.9517284968551595,
          1.4209384421391142,
          0.026688111038718355,
          1.7742246940980553,
          0.16997405066218702,
          -1.1663731149184284,
          -1.687555765778785,
          -0.9638359759236773,
          0.31948585690353737,
          0.45206655019272324,
          -0.5856593578130521,
          -1.3331664488301078,
          -0.18227467538397016,
          1.0331832394221976,
          0.37414095900530886,
          -1.3746069162300292,
          1.8832078334627544,
          -0.16909971811806357,
          -0.32927926569287375,
          0.2627032205145867,
          -0.3598102265304865,
          0.5447321941036315,
          1.6100120651269116,
          -0.3804397268147677,
          0.1473620328561745,
          1.6691747558384904,
          1.8148257699582853,
          1.0180855824554613,
          2.766422169747134,
          0.6612450177603737,
          0.2986153846044228,
          -1.7053592704223286,
          -0.6711464446025099,
          -0.16294248127431257,
          -1.76502064308557,
          0.056206938499821404,
          -0.7066819603495336,
          -0.2541191740775342,
          -1.5744224819850823,
          0.4424197673183819,
          0.9446253816575055,
          0.23631706594971114,
          0.14785287447786766,
          0.22500275896921618,
          -0.013301170787457814,
          0.2315655094459254,
          0.6735331950306841,
          -0.10790761675412006,
          -1.5498459914408311,
          -0.41529924792912287,
          -0.22878419631577793,
          2.3889340441169504,
          -0.5011363683382322,
          -0.18138728609572885,
          0.10481645267669726,
          0.7086729341837882,
          -1.4574933521470606,
          -2.276244891933633,
          -0.928082898567579,
          0.22469067595539435,
          0.5161213606538004,
          0.24896276094352396,
          -0.017016592599865137,
          -0.2353009091061637,
          0.6210256252215713,
          1.0259839308083618,
          -0.05291468044019354,
          -1.2015439091389342,
          0.20200327029328774,
          -0.3229245198595919,
          0.5524528833109041,
          -0.4028777637706296,
          -0.059882638309787274,
          0.12775951718529485,
          -0.17957320771266141,
          1.0269177088172363,
          1.1771880686524667,
          -0.6395966666807401,
          0.3744607968230148,
          0.641740461644252,
          -1.0076463847201,
          0.02226447529627381,
          0.2190566031008649,
          -0.643633189304614,
          1.2638889727273173,
          -0.48892495679508047,
          0.059705931132288816,
          -0.9664065644091091,
          1.095398828129973,
          -0.8408864989043608,
          -0.871759542343419,
          -0.1856655404692126,
          0.18088575006579746,
          1.2747503019467712,
          -0.4396286084094133,
          -1.1740229644234133,
          0.1367868730401681,
          0.5003571614833707
         ]
        },
        {
         "boxpoints": false,
         "line": {
          "width": 1.3
         },
         "marker": {
          "color": "rgba(55, 128, 191, 1.0)"
         },
         "name": "B",
         "orientation": "v",
         "type": "box",
         "y": [
          -0.34761400696809835,
          0.7967107929307996,
          -1.021435745012177,
          0.8039058679506786,
          0.28202976547017816,
          1.629306414530597,
          -3.4110663508758923,
          -0.9237688579846878,
          1.3449197314869716,
          -1.056451635061406,
          -1.0691292337350398,
          1.3229153833868197,
          0.1944216073353599,
          0.299995236341656,
          0.44109109461435964,
          -0.08136416868042488,
          0.9303198403726493,
          0.05888325507957637,
          0.7395899412452036,
          -0.150937039126787,
          -0.8073667119303348,
          -2.1209755600528832,
          1.3326778932258512,
          0.9912008713869328,
          -1.0508995328015918,
          0.13999533634881983,
          -0.8173571641054362,
          -0.11295496530104156,
          -1.6812301346024714,
          1.0420418838155838,
          0.2250212295749634,
          1.1691927821992336,
          -0.8497153337809334,
          -0.2598100609473683,
          -0.5252259693487649,
          -0.741660775358332,
          1.3379213304389845,
          1.0001179164638403,
          -1.0402508474746148,
          -0.051391256452094,
          0.7572822801140646,
          1.314205938870495,
          -1.415487984063252,
          -0.261307270216244,
          -0.6325936261624826,
          0.1347352764137132,
          1.1117699079741161,
          -0.6365318004652251,
          0.6586264711638239,
          -2.2171795885534,
          0.11320736946178084,
          1.5729034138642517,
          0.1310369529846583,
          -0.9617569362791584,
          -0.8777880682991028,
          0.5899941649731096,
          -0.1412306828688527,
          1.5170554467085127,
          0.53130018523096,
          0.32158882850971465,
          -0.9464306474339612,
          -1.8406876139673087,
          -0.6592197757814411,
          -0.05035363573486317,
          -0.0012558881887979863,
          -2.2476749098487656,
          -0.7598151323708757,
          -1.4218480040643744,
          -0.5040523542296603,
          1.1160587623525131,
          1.3272816572811181,
          0.9641613696033847,
          1.0351188803977998,
          0.7523574359092837,
          -0.08234499129197077,
          -0.43717706866405887,
          1.1601515432985665,
          -0.5526689647969686,
          0.7509740048177651,
          0.27402019924238286,
          0.7684338000320895,
          -1.0774412859096918,
          -2.158782081147689,
          0.6228680278276605,
          -1.4619809072135606,
          -2.351284827931384,
          -0.36035854063131767,
          1.5433883055746351,
          0.611161533590583,
          0.40126658500000917,
          0.432320337391507,
          0.05165221386738992,
          0.7266281491464596,
          -1.5253604789419755,
          -0.8028686711450908,
          1.3187931284966241,
          -0.5975997233571111,
          0.238360495263982,
          -1.0803828111948988,
          1.2501965937113815
         ]
        },
        {
         "boxpoints": false,
         "line": {
          "width": 1.3
         },
         "marker": {
          "color": "rgba(50, 171, 96, 1.0)"
         },
         "name": "C",
         "orientation": "v",
         "type": "box",
         "y": [
          -0.9289553735321145,
          -3.29185578905007,
          0.6141311655471734,
          -1.3279654686462936,
          -0.9330755405301372,
          -0.13572951607500175,
          -0.1558399731911225,
          0.2562172935610255,
          -1.1550179645829468,
          1.133701737589356,
          0.5602961037020913,
          -0.2058384517520784,
          1.5715038418375586,
          -0.7828567782123235,
          0.6850043273904133,
          2.204073042744001,
          2.07975076431608,
          -1.0392898689716727,
          -0.7996953898361792,
          0.07820140689226711,
          1.0753792703079366,
          1.23073652415559,
          0.37576849472620666,
          -1.704312176087002,
          0.46855834965098864,
          -0.038494063834664,
          -1.5206010064061906,
          -0.6443983946167495,
          0.46212281535437416,
          -0.5720314045038454,
          0.628361267113081,
          0.4118433577913778,
          -0.6537933417475408,
          -0.217973511529981,
          1.4250444252250918,
          1.2901404209885001,
          0.12709267205722835,
          1.8153488317774,
          0.6590271323537336,
          1.5878240611462506,
          1.1759772042114245,
          -0.08620840466405229,
          0.3736929842944326,
          -1.1070026588066593,
          -0.9689529361661915,
          -0.1313885271389684,
          2.6162110696415923,
          0.6077468827653002,
          1.5819722537455785,
          0.3168357811771449,
          0.5166233815916088,
          -0.3904970470253944,
          0.8966415053544944,
          2.2548384083273225,
          -0.7361160160418321,
          -0.9929759828317783,
          -1.2733419005820379,
          1.2896761577237899,
          1.0013031805323842,
          -0.3458133403722976,
          0.20285737608510637,
          0.3627025307902813,
          0.32772115687956177,
          0.08071273087746433,
          1.083556238859063,
          0.26233474596948775,
          -0.1468439454866668,
          1.6389197921341037,
          0.7840215019259638,
          -0.10704043977879389,
          -0.03959077604699771,
          -0.8345086098492591,
          -0.2613468571089336,
          1.8869726033489433,
          0.36514136983338324,
          -0.8199316884247727,
          0.3362582147997106,
          0.02104307222962485,
          0.2261683930226166,
          0.8922721913588897,
          -1.0955491455925161,
          0.1777970289425649,
          1.8635009920304269,
          -1.5831282633220047,
          -0.03669126310767968,
          0.5901549161922415,
          -1.1927292624064005,
          -1.3427909329462622,
          0.6797640018201362,
          0.5878759139859725,
          -1.5594604092917315,
          -0.898550013149892,
          2.1149119380876336,
          -1.2258059010951654,
          -1.8047329306685895,
          0.732050971212458,
          0.6599757625488231,
          0.21932400053658035,
          0.2921775958716824,
          -0.9570268392633724
         ]
        },
        {
         "boxpoints": false,
         "line": {
          "width": 1.3
         },
         "marker": {
          "color": "rgba(128, 0, 128, 1.0)"
         },
         "name": "D",
         "orientation": "v",
         "type": "box",
         "y": [
          -1.2276827666294137,
          1.0081521786625394,
          -0.5074264826440039,
          -0.19631739000388773,
          2.1415274347182964,
          0.11904785476621113,
          0.23946707643818188,
          0.37908458450735394,
          0.6725231384612813,
          -0.8211976368443139,
          0.7494841941503361,
          0.034781099386621744,
          -1.3398185164428509,
          -0.069572256892427,
          0.41931356889731375,
          -0.8167788014535204,
          -1.2373976906340687,
          -0.1840954546341901,
          0.0035607323517076648,
          -0.041196684241796795,
          -0.03473722076730505,
          -0.0018397056125259573,
          -0.3708078187451696,
          0.5205572617589022,
          0.0452824329967141,
          1.0102919240344248,
          -1.1258776608819696,
          -0.7168342966408033,
          0.6155164779674744,
          1.6784588555522606,
          1.1753205450072943,
          0.014384224900247785,
          0.6220293945296994,
          -0.2644826309043893,
          -1.966326671231066,
          -0.015666796938935065,
          1.3138939598063901,
          -0.012782967793383507,
          0.0029353541641902407,
          -0.5170773449665355,
          1.0336403836047219,
          1.2007045536411687,
          0.027906920022602453,
          -0.32524379048054103,
          -1.7518527615937811,
          0.5084098807242259,
          0.348801529373511,
          0.1632132673505855,
          -0.5266716391028633,
          0.4672417584138413,
          0.3308712594301862,
          0.43524231033923944,
          0.1722997203653605,
          0.2958770095603323,
          -1.6846434422982581,
          0.7466252788358413,
          -0.7772942870105266,
          0.338214924338623,
          0.9244376844559865,
          -1.0974683044436226,
          -0.9132866699195714,
          -0.21537440461306412,
          -0.5527481296937405,
          -0.5828651087562331,
          -0.06174286500123566,
          -0.686792721448157,
          -0.12886335689312195,
          -0.16420664628629053,
          0.8766901891456867,
          1.7617111357354525,
          0.1827306553874836,
          0.02782293765674249,
          -0.5806501251417746,
          0.6673057789106808,
          -0.40287164126044306,
          0.33709890343606297,
          0.3359252304949588,
          0.08344176618634161,
          -1.5363505337627845,
          -0.9079481054942306,
          0.750905764361586,
          -0.10883531168870954,
          -0.7234321550121003,
          0.752643964995895,
          -1.543376489389946,
          -0.9203526363133234,
          0.42202239030579747,
          2.8139745801628533,
          -0.5441279446897327,
          -1.1620867247042457,
          -0.943020276323677,
          0.9067256718207556,
          -0.6956911248289205,
          0.9083268430325101,
          -0.8093990390983988,
          0.39526663463845807,
          -1.5080605916891274,
          0.5915062777905455,
          0.45459959621494966,
          -1.290777233120657
         ]
        }
       ],
       "layout": {
        "legend": {
         "bgcolor": "#F5F6F9",
         "font": {
          "color": "#4D5663"
         }
        },
        "paper_bgcolor": "#F5F6F9",
        "plot_bgcolor": "#F5F6F9",
        "template": {
         "data": {
          "bar": [
           {
            "error_x": {
             "color": "#2a3f5f"
            },
            "error_y": {
             "color": "#2a3f5f"
            },
            "marker": {
             "line": {
              "color": "#E5ECF6",
              "width": 0.5
             }
            },
            "type": "bar"
           }
          ],
          "barpolar": [
           {
            "marker": {
             "line": {
              "color": "#E5ECF6",
              "width": 0.5
             }
            },
            "type": "barpolar"
           }
          ],
          "carpet": [
           {
            "aaxis": {
             "endlinecolor": "#2a3f5f",
             "gridcolor": "white",
             "linecolor": "white",
             "minorgridcolor": "white",
             "startlinecolor": "#2a3f5f"
            },
            "baxis": {
             "endlinecolor": "#2a3f5f",
             "gridcolor": "white",
             "linecolor": "white",
             "minorgridcolor": "white",
             "startlinecolor": "#2a3f5f"
            },
            "type": "carpet"
           }
          ],
          "choropleth": [
           {
            "colorbar": {
             "outlinewidth": 0,
             "ticks": ""
            },
            "type": "choropleth"
           }
          ],
          "contour": [
           {
            "colorbar": {
             "outlinewidth": 0,
             "ticks": ""
            },
            "colorscale": [
             [
              0,
              "#0d0887"
             ],
             [
              0.1111111111111111,
              "#46039f"
             ],
             [
              0.2222222222222222,
              "#7201a8"
             ],
             [
              0.3333333333333333,
              "#9c179e"
             ],
             [
              0.4444444444444444,
              "#bd3786"
             ],
             [
              0.5555555555555556,
              "#d8576b"
             ],
             [
              0.6666666666666666,
              "#ed7953"
             ],
             [
              0.7777777777777778,
              "#fb9f3a"
             ],
             [
              0.8888888888888888,
              "#fdca26"
             ],
             [
              1,
              "#f0f921"
             ]
            ],
            "type": "contour"
           }
          ],
          "contourcarpet": [
           {
            "colorbar": {
             "outlinewidth": 0,
             "ticks": ""
            },
            "type": "contourcarpet"
           }
          ],
          "heatmap": [
           {
            "colorbar": {
             "outlinewidth": 0,
             "ticks": ""
            },
            "colorscale": [
             [
              0,
              "#0d0887"
             ],
             [
              0.1111111111111111,
              "#46039f"
             ],
             [
              0.2222222222222222,
              "#7201a8"
             ],
             [
              0.3333333333333333,
              "#9c179e"
             ],
             [
              0.4444444444444444,
              "#bd3786"
             ],
             [
              0.5555555555555556,
              "#d8576b"
             ],
             [
              0.6666666666666666,
              "#ed7953"
             ],
             [
              0.7777777777777778,
              "#fb9f3a"
             ],
             [
              0.8888888888888888,
              "#fdca26"
             ],
             [
              1,
              "#f0f921"
             ]
            ],
            "type": "heatmap"
           }
          ],
          "heatmapgl": [
           {
            "colorbar": {
             "outlinewidth": 0,
             "ticks": ""
            },
            "colorscale": [
             [
              0,
              "#0d0887"
             ],
             [
              0.1111111111111111,
              "#46039f"
             ],
             [
              0.2222222222222222,
              "#7201a8"
             ],
             [
              0.3333333333333333,
              "#9c179e"
             ],
             [
              0.4444444444444444,
              "#bd3786"
             ],
             [
              0.5555555555555556,
              "#d8576b"
             ],
             [
              0.6666666666666666,
              "#ed7953"
             ],
             [
              0.7777777777777778,
              "#fb9f3a"
             ],
             [
              0.8888888888888888,
              "#fdca26"
             ],
             [
              1,
              "#f0f921"
             ]
            ],
            "type": "heatmapgl"
           }
          ],
          "histogram": [
           {
            "marker": {
             "colorbar": {
              "outlinewidth": 0,
              "ticks": ""
             }
            },
            "type": "histogram"
           }
          ],
          "histogram2d": [
           {
            "colorbar": {
             "outlinewidth": 0,
             "ticks": ""
            },
            "colorscale": [
             [
              0,
              "#0d0887"
             ],
             [
              0.1111111111111111,
              "#46039f"
             ],
             [
              0.2222222222222222,
              "#7201a8"
             ],
             [
              0.3333333333333333,
              "#9c179e"
             ],
             [
              0.4444444444444444,
              "#bd3786"
             ],
             [
              0.5555555555555556,
              "#d8576b"
             ],
             [
              0.6666666666666666,
              "#ed7953"
             ],
             [
              0.7777777777777778,
              "#fb9f3a"
             ],
             [
              0.8888888888888888,
              "#fdca26"
             ],
             [
              1,
              "#f0f921"
             ]
            ],
            "type": "histogram2d"
           }
          ],
          "histogram2dcontour": [
           {
            "colorbar": {
             "outlinewidth": 0,
             "ticks": ""
            },
            "colorscale": [
             [
              0,
              "#0d0887"
             ],
             [
              0.1111111111111111,
              "#46039f"
             ],
             [
              0.2222222222222222,
              "#7201a8"
             ],
             [
              0.3333333333333333,
              "#9c179e"
             ],
             [
              0.4444444444444444,
              "#bd3786"
             ],
             [
              0.5555555555555556,
              "#d8576b"
             ],
             [
              0.6666666666666666,
              "#ed7953"
             ],
             [
              0.7777777777777778,
              "#fb9f3a"
             ],
             [
              0.8888888888888888,
              "#fdca26"
             ],
             [
              1,
              "#f0f921"
             ]
            ],
            "type": "histogram2dcontour"
           }
          ],
          "mesh3d": [
           {
            "colorbar": {
             "outlinewidth": 0,
             "ticks": ""
            },
            "type": "mesh3d"
           }
          ],
          "parcoords": [
           {
            "line": {
             "colorbar": {
              "outlinewidth": 0,
              "ticks": ""
             }
            },
            "type": "parcoords"
           }
          ],
          "pie": [
           {
            "automargin": true,
            "type": "pie"
           }
          ],
          "scatter": [
           {
            "marker": {
             "colorbar": {
              "outlinewidth": 0,
              "ticks": ""
             }
            },
            "type": "scatter"
           }
          ],
          "scatter3d": [
           {
            "line": {
             "colorbar": {
              "outlinewidth": 0,
              "ticks": ""
             }
            },
            "marker": {
             "colorbar": {
              "outlinewidth": 0,
              "ticks": ""
             }
            },
            "type": "scatter3d"
           }
          ],
          "scattercarpet": [
           {
            "marker": {
             "colorbar": {
              "outlinewidth": 0,
              "ticks": ""
             }
            },
            "type": "scattercarpet"
           }
          ],
          "scattergeo": [
           {
            "marker": {
             "colorbar": {
              "outlinewidth": 0,
              "ticks": ""
             }
            },
            "type": "scattergeo"
           }
          ],
          "scattergl": [
           {
            "marker": {
             "colorbar": {
              "outlinewidth": 0,
              "ticks": ""
             }
            },
            "type": "scattergl"
           }
          ],
          "scattermapbox": [
           {
            "marker": {
             "colorbar": {
              "outlinewidth": 0,
              "ticks": ""
             }
            },
            "type": "scattermapbox"
           }
          ],
          "scatterpolar": [
           {
            "marker": {
             "colorbar": {
              "outlinewidth": 0,
              "ticks": ""
             }
            },
            "type": "scatterpolar"
           }
          ],
          "scatterpolargl": [
           {
            "marker": {
             "colorbar": {
              "outlinewidth": 0,
              "ticks": ""
             }
            },
            "type": "scatterpolargl"
           }
          ],
          "scatterternary": [
           {
            "marker": {
             "colorbar": {
              "outlinewidth": 0,
              "ticks": ""
             }
            },
            "type": "scatterternary"
           }
          ],
          "surface": [
           {
            "colorbar": {
             "outlinewidth": 0,
             "ticks": ""
            },
            "colorscale": [
             [
              0,
              "#0d0887"
             ],
             [
              0.1111111111111111,
              "#46039f"
             ],
             [
              0.2222222222222222,
              "#7201a8"
             ],
             [
              0.3333333333333333,
              "#9c179e"
             ],
             [
              0.4444444444444444,
              "#bd3786"
             ],
             [
              0.5555555555555556,
              "#d8576b"
             ],
             [
              0.6666666666666666,
              "#ed7953"
             ],
             [
              0.7777777777777778,
              "#fb9f3a"
             ],
             [
              0.8888888888888888,
              "#fdca26"
             ],
             [
              1,
              "#f0f921"
             ]
            ],
            "type": "surface"
           }
          ],
          "table": [
           {
            "cells": {
             "fill": {
              "color": "#EBF0F8"
             },
             "line": {
              "color": "white"
             }
            },
            "header": {
             "fill": {
              "color": "#C8D4E3"
             },
             "line": {
              "color": "white"
             }
            },
            "type": "table"
           }
          ]
         },
         "layout": {
          "annotationdefaults": {
           "arrowcolor": "#2a3f5f",
           "arrowhead": 0,
           "arrowwidth": 1
          },
          "coloraxis": {
           "colorbar": {
            "outlinewidth": 0,
            "ticks": ""
           }
          },
          "colorscale": {
           "diverging": [
            [
             0,
             "#8e0152"
            ],
            [
             0.1,
             "#c51b7d"
            ],
            [
             0.2,
             "#de77ae"
            ],
            [
             0.3,
             "#f1b6da"
            ],
            [
             0.4,
             "#fde0ef"
            ],
            [
             0.5,
             "#f7f7f7"
            ],
            [
             0.6,
             "#e6f5d0"
            ],
            [
             0.7,
             "#b8e186"
            ],
            [
             0.8,
             "#7fbc41"
            ],
            [
             0.9,
             "#4d9221"
            ],
            [
             1,
             "#276419"
            ]
           ],
           "sequential": [
            [
             0,
             "#0d0887"
            ],
            [
             0.1111111111111111,
             "#46039f"
            ],
            [
             0.2222222222222222,
             "#7201a8"
            ],
            [
             0.3333333333333333,
             "#9c179e"
            ],
            [
             0.4444444444444444,
             "#bd3786"
            ],
            [
             0.5555555555555556,
             "#d8576b"
            ],
            [
             0.6666666666666666,
             "#ed7953"
            ],
            [
             0.7777777777777778,
             "#fb9f3a"
            ],
            [
             0.8888888888888888,
             "#fdca26"
            ],
            [
             1,
             "#f0f921"
            ]
           ],
           "sequentialminus": [
            [
             0,
             "#0d0887"
            ],
            [
             0.1111111111111111,
             "#46039f"
            ],
            [
             0.2222222222222222,
             "#7201a8"
            ],
            [
             0.3333333333333333,
             "#9c179e"
            ],
            [
             0.4444444444444444,
             "#bd3786"
            ],
            [
             0.5555555555555556,
             "#d8576b"
            ],
            [
             0.6666666666666666,
             "#ed7953"
            ],
            [
             0.7777777777777778,
             "#fb9f3a"
            ],
            [
             0.8888888888888888,
             "#fdca26"
            ],
            [
             1,
             "#f0f921"
            ]
           ]
          },
          "colorway": [
           "#636efa",
           "#EF553B",
           "#00cc96",
           "#ab63fa",
           "#FFA15A",
           "#19d3f3",
           "#FF6692",
           "#B6E880",
           "#FF97FF",
           "#FECB52"
          ],
          "font": {
           "color": "#2a3f5f"
          },
          "geo": {
           "bgcolor": "white",
           "lakecolor": "white",
           "landcolor": "#E5ECF6",
           "showlakes": true,
           "showland": true,
           "subunitcolor": "white"
          },
          "hoverlabel": {
           "align": "left"
          },
          "hovermode": "closest",
          "mapbox": {
           "style": "light"
          },
          "paper_bgcolor": "white",
          "plot_bgcolor": "#E5ECF6",
          "polar": {
           "angularaxis": {
            "gridcolor": "white",
            "linecolor": "white",
            "ticks": ""
           },
           "bgcolor": "#E5ECF6",
           "radialaxis": {
            "gridcolor": "white",
            "linecolor": "white",
            "ticks": ""
           }
          },
          "scene": {
           "xaxis": {
            "backgroundcolor": "#E5ECF6",
            "gridcolor": "white",
            "gridwidth": 2,
            "linecolor": "white",
            "showbackground": true,
            "ticks": "",
            "zerolinecolor": "white"
           },
           "yaxis": {
            "backgroundcolor": "#E5ECF6",
            "gridcolor": "white",
            "gridwidth": 2,
            "linecolor": "white",
            "showbackground": true,
            "ticks": "",
            "zerolinecolor": "white"
           },
           "zaxis": {
            "backgroundcolor": "#E5ECF6",
            "gridcolor": "white",
            "gridwidth": 2,
            "linecolor": "white",
            "showbackground": true,
            "ticks": "",
            "zerolinecolor": "white"
           }
          },
          "shapedefaults": {
           "line": {
            "color": "#2a3f5f"
           }
          },
          "ternary": {
           "aaxis": {
            "gridcolor": "white",
            "linecolor": "white",
            "ticks": ""
           },
           "baxis": {
            "gridcolor": "white",
            "linecolor": "white",
            "ticks": ""
           },
           "bgcolor": "#E5ECF6",
           "caxis": {
            "gridcolor": "white",
            "linecolor": "white",
            "ticks": ""
           }
          },
          "title": {
           "x": 0.05
          },
          "xaxis": {
           "automargin": true,
           "gridcolor": "white",
           "linecolor": "white",
           "ticks": "",
           "title": {
            "standoff": 15
           },
           "zerolinecolor": "white",
           "zerolinewidth": 2
          },
          "yaxis": {
           "automargin": true,
           "gridcolor": "white",
           "linecolor": "white",
           "ticks": "",
           "title": {
            "standoff": 15
           },
           "zerolinecolor": "white",
           "zerolinewidth": 2
          }
         }
        },
        "title": {
         "font": {
          "color": "#4D5663"
         }
        },
        "xaxis": {
         "gridcolor": "#E1E5ED",
         "showgrid": true,
         "tickfont": {
          "color": "#4D5663"
         },
         "title": {
          "font": {
           "color": "#4D5663"
          },
          "text": ""
         },
         "zerolinecolor": "#E1E5ED"
        },
        "yaxis": {
         "gridcolor": "#E1E5ED",
         "showgrid": true,
         "tickfont": {
          "color": "#4D5663"
         },
         "title": {
          "font": {
           "color": "#4D5663"
          },
          "text": ""
         },
         "zerolinecolor": "#E1E5ED"
        }
       }
      },
      "text/html": [
       "<div>                            <div id=\"1227f0c9-2757-43ee-a275-564cc93e99d6\" class=\"plotly-graph-div\" style=\"height:525px; width:100%;\"></div>            <script type=\"text/javascript\">                require([\"plotly\"], function(Plotly) {                    window.PLOTLYENV=window.PLOTLYENV || {};\n",
       "                    window.PLOTLYENV.BASE_URL='https://plot.ly';                                    if (document.getElementById(\"1227f0c9-2757-43ee-a275-564cc93e99d6\")) {                    Plotly.newPlot(                        \"1227f0c9-2757-43ee-a275-564cc93e99d6\",                        [{\"boxpoints\": false, \"line\": {\"width\": 1.3}, \"marker\": {\"color\": \"rgba(255, 153, 51, 1.0)\"}, \"name\": \"A\", \"orientation\": \"v\", \"type\": \"box\", \"y\": [2.0098763595893336, 1.5854346850248688, 0.9517284968551595, 1.4209384421391142, 0.026688111038718355, 1.7742246940980553, 0.16997405066218702, -1.1663731149184284, -1.687555765778785, -0.9638359759236773, 0.31948585690353737, 0.45206655019272324, -0.5856593578130521, -1.3331664488301078, -0.18227467538397016, 1.0331832394221976, 0.37414095900530886, -1.3746069162300292, 1.8832078334627544, -0.16909971811806357, -0.32927926569287375, 0.2627032205145867, -0.3598102265304865, 0.5447321941036315, 1.6100120651269116, -0.3804397268147677, 0.1473620328561745, 1.6691747558384904, 1.8148257699582853, 1.0180855824554613, 2.766422169747134, 0.6612450177603737, 0.2986153846044228, -1.7053592704223286, -0.6711464446025099, -0.16294248127431257, -1.76502064308557, 0.056206938499821404, -0.7066819603495336, -0.2541191740775342, -1.5744224819850823, 0.4424197673183819, 0.9446253816575055, 0.23631706594971114, 0.14785287447786766, 0.22500275896921618, -0.013301170787457814, 0.2315655094459254, 0.6735331950306841, -0.10790761675412006, -1.5498459914408311, -0.41529924792912287, -0.22878419631577793, 2.3889340441169504, -0.5011363683382322, -0.18138728609572885, 0.10481645267669726, 0.7086729341837882, -1.4574933521470606, -2.276244891933633, -0.928082898567579, 0.22469067595539435, 0.5161213606538004, 0.24896276094352396, -0.017016592599865137, -0.2353009091061637, 0.6210256252215713, 1.0259839308083618, -0.05291468044019354, -1.2015439091389342, 0.20200327029328774, -0.3229245198595919, 0.5524528833109041, -0.4028777637706296, -0.059882638309787274, 0.12775951718529485, -0.17957320771266141, 1.0269177088172363, 1.1771880686524667, -0.6395966666807401, 0.3744607968230148, 0.641740461644252, -1.0076463847201, 0.02226447529627381, 0.2190566031008649, -0.643633189304614, 1.2638889727273173, -0.48892495679508047, 0.059705931132288816, -0.9664065644091091, 1.095398828129973, -0.8408864989043608, -0.871759542343419, -0.1856655404692126, 0.18088575006579746, 1.2747503019467712, -0.4396286084094133, -1.1740229644234133, 0.1367868730401681, 0.5003571614833707]}, {\"boxpoints\": false, \"line\": {\"width\": 1.3}, \"marker\": {\"color\": \"rgba(55, 128, 191, 1.0)\"}, \"name\": \"B\", \"orientation\": \"v\", \"type\": \"box\", \"y\": [-0.34761400696809835, 0.7967107929307996, -1.021435745012177, 0.8039058679506786, 0.28202976547017816, 1.629306414530597, -3.4110663508758923, -0.9237688579846878, 1.3449197314869716, -1.056451635061406, -1.0691292337350398, 1.3229153833868197, 0.1944216073353599, 0.299995236341656, 0.44109109461435964, -0.08136416868042488, 0.9303198403726493, 0.05888325507957637, 0.7395899412452036, -0.150937039126787, -0.8073667119303348, -2.1209755600528832, 1.3326778932258512, 0.9912008713869328, -1.0508995328015918, 0.13999533634881983, -0.8173571641054362, -0.11295496530104156, -1.6812301346024714, 1.0420418838155838, 0.2250212295749634, 1.1691927821992336, -0.8497153337809334, -0.2598100609473683, -0.5252259693487649, -0.741660775358332, 1.3379213304389845, 1.0001179164638403, -1.0402508474746148, -0.051391256452094, 0.7572822801140646, 1.314205938870495, -1.415487984063252, -0.261307270216244, -0.6325936261624826, 0.1347352764137132, 1.1117699079741161, -0.6365318004652251, 0.6586264711638239, -2.2171795885534, 0.11320736946178084, 1.5729034138642517, 0.1310369529846583, -0.9617569362791584, -0.8777880682991028, 0.5899941649731096, -0.1412306828688527, 1.5170554467085127, 0.53130018523096, 0.32158882850971465, -0.9464306474339612, -1.8406876139673087, -0.6592197757814411, -0.05035363573486317, -0.0012558881887979863, -2.2476749098487656, -0.7598151323708757, -1.4218480040643744, -0.5040523542296603, 1.1160587623525131, 1.3272816572811181, 0.9641613696033847, 1.0351188803977998, 0.7523574359092837, -0.08234499129197077, -0.43717706866405887, 1.1601515432985665, -0.5526689647969686, 0.7509740048177651, 0.27402019924238286, 0.7684338000320895, -1.0774412859096918, -2.158782081147689, 0.6228680278276605, -1.4619809072135606, -2.351284827931384, -0.36035854063131767, 1.5433883055746351, 0.611161533590583, 0.40126658500000917, 0.432320337391507, 0.05165221386738992, 0.7266281491464596, -1.5253604789419755, -0.8028686711450908, 1.3187931284966241, -0.5975997233571111, 0.238360495263982, -1.0803828111948988, 1.2501965937113815]}, {\"boxpoints\": false, \"line\": {\"width\": 1.3}, \"marker\": {\"color\": \"rgba(50, 171, 96, 1.0)\"}, \"name\": \"C\", \"orientation\": \"v\", \"type\": \"box\", \"y\": [-0.9289553735321145, -3.29185578905007, 0.6141311655471734, -1.3279654686462936, -0.9330755405301372, -0.13572951607500175, -0.1558399731911225, 0.2562172935610255, -1.1550179645829468, 1.133701737589356, 0.5602961037020913, -0.2058384517520784, 1.5715038418375586, -0.7828567782123235, 0.6850043273904133, 2.204073042744001, 2.07975076431608, -1.0392898689716727, -0.7996953898361792, 0.07820140689226711, 1.0753792703079366, 1.23073652415559, 0.37576849472620666, -1.704312176087002, 0.46855834965098864, -0.038494063834664, -1.5206010064061906, -0.6443983946167495, 0.46212281535437416, -0.5720314045038454, 0.628361267113081, 0.4118433577913778, -0.6537933417475408, -0.217973511529981, 1.4250444252250918, 1.2901404209885001, 0.12709267205722835, 1.8153488317774, 0.6590271323537336, 1.5878240611462506, 1.1759772042114245, -0.08620840466405229, 0.3736929842944326, -1.1070026588066593, -0.9689529361661915, -0.1313885271389684, 2.6162110696415923, 0.6077468827653002, 1.5819722537455785, 0.3168357811771449, 0.5166233815916088, -0.3904970470253944, 0.8966415053544944, 2.2548384083273225, -0.7361160160418321, -0.9929759828317783, -1.2733419005820379, 1.2896761577237899, 1.0013031805323842, -0.3458133403722976, 0.20285737608510637, 0.3627025307902813, 0.32772115687956177, 0.08071273087746433, 1.083556238859063, 0.26233474596948775, -0.1468439454866668, 1.6389197921341037, 0.7840215019259638, -0.10704043977879389, -0.03959077604699771, -0.8345086098492591, -0.2613468571089336, 1.8869726033489433, 0.36514136983338324, -0.8199316884247727, 0.3362582147997106, 0.02104307222962485, 0.2261683930226166, 0.8922721913588897, -1.0955491455925161, 0.1777970289425649, 1.8635009920304269, -1.5831282633220047, -0.03669126310767968, 0.5901549161922415, -1.1927292624064005, -1.3427909329462622, 0.6797640018201362, 0.5878759139859725, -1.5594604092917315, -0.898550013149892, 2.1149119380876336, -1.2258059010951654, -1.8047329306685895, 0.732050971212458, 0.6599757625488231, 0.21932400053658035, 0.2921775958716824, -0.9570268392633724]}, {\"boxpoints\": false, \"line\": {\"width\": 1.3}, \"marker\": {\"color\": \"rgba(128, 0, 128, 1.0)\"}, \"name\": \"D\", \"orientation\": \"v\", \"type\": \"box\", \"y\": [-1.2276827666294137, 1.0081521786625394, -0.5074264826440039, -0.19631739000388773, 2.1415274347182964, 0.11904785476621113, 0.23946707643818188, 0.37908458450735394, 0.6725231384612813, -0.8211976368443139, 0.7494841941503361, 0.034781099386621744, -1.3398185164428509, -0.069572256892427, 0.41931356889731375, -0.8167788014535204, -1.2373976906340687, -0.1840954546341901, 0.0035607323517076648, -0.041196684241796795, -0.03473722076730505, -0.0018397056125259573, -0.3708078187451696, 0.5205572617589022, 0.0452824329967141, 1.0102919240344248, -1.1258776608819696, -0.7168342966408033, 0.6155164779674744, 1.6784588555522606, 1.1753205450072943, 0.014384224900247785, 0.6220293945296994, -0.2644826309043893, -1.966326671231066, -0.015666796938935065, 1.3138939598063901, -0.012782967793383507, 0.0029353541641902407, -0.5170773449665355, 1.0336403836047219, 1.2007045536411687, 0.027906920022602453, -0.32524379048054103, -1.7518527615937811, 0.5084098807242259, 0.348801529373511, 0.1632132673505855, -0.5266716391028633, 0.4672417584138413, 0.3308712594301862, 0.43524231033923944, 0.1722997203653605, 0.2958770095603323, -1.6846434422982581, 0.7466252788358413, -0.7772942870105266, 0.338214924338623, 0.9244376844559865, -1.0974683044436226, -0.9132866699195714, -0.21537440461306412, -0.5527481296937405, -0.5828651087562331, -0.06174286500123566, -0.686792721448157, -0.12886335689312195, -0.16420664628629053, 0.8766901891456867, 1.7617111357354525, 0.1827306553874836, 0.02782293765674249, -0.5806501251417746, 0.6673057789106808, -0.40287164126044306, 0.33709890343606297, 0.3359252304949588, 0.08344176618634161, -1.5363505337627845, -0.9079481054942306, 0.750905764361586, -0.10883531168870954, -0.7234321550121003, 0.752643964995895, -1.543376489389946, -0.9203526363133234, 0.42202239030579747, 2.8139745801628533, -0.5441279446897327, -1.1620867247042457, -0.943020276323677, 0.9067256718207556, -0.6956911248289205, 0.9083268430325101, -0.8093990390983988, 0.39526663463845807, -1.5080605916891274, 0.5915062777905455, 0.45459959621494966, -1.290777233120657]}],                        {\"legend\": {\"bgcolor\": \"#F5F6F9\", \"font\": {\"color\": \"#4D5663\"}}, \"paper_bgcolor\": \"#F5F6F9\", \"plot_bgcolor\": \"#F5F6F9\", \"template\": {\"data\": {\"bar\": [{\"error_x\": {\"color\": \"#2a3f5f\"}, \"error_y\": {\"color\": \"#2a3f5f\"}, \"marker\": {\"line\": {\"color\": \"#E5ECF6\", \"width\": 0.5}}, \"type\": \"bar\"}], \"barpolar\": [{\"marker\": {\"line\": {\"color\": \"#E5ECF6\", \"width\": 0.5}}, \"type\": \"barpolar\"}], \"carpet\": [{\"aaxis\": {\"endlinecolor\": \"#2a3f5f\", \"gridcolor\": \"white\", \"linecolor\": \"white\", \"minorgridcolor\": \"white\", \"startlinecolor\": \"#2a3f5f\"}, \"baxis\": {\"endlinecolor\": \"#2a3f5f\", \"gridcolor\": \"white\", \"linecolor\": \"white\", \"minorgridcolor\": \"white\", \"startlinecolor\": \"#2a3f5f\"}, \"type\": \"carpet\"}], \"choropleth\": [{\"colorbar\": {\"outlinewidth\": 0, \"ticks\": \"\"}, \"type\": \"choropleth\"}], \"contour\": [{\"colorbar\": {\"outlinewidth\": 0, \"ticks\": \"\"}, \"colorscale\": [[0.0, \"#0d0887\"], [0.1111111111111111, \"#46039f\"], [0.2222222222222222, \"#7201a8\"], [0.3333333333333333, \"#9c179e\"], [0.4444444444444444, \"#bd3786\"], [0.5555555555555556, \"#d8576b\"], [0.6666666666666666, \"#ed7953\"], [0.7777777777777778, \"#fb9f3a\"], [0.8888888888888888, \"#fdca26\"], [1.0, \"#f0f921\"]], \"type\": \"contour\"}], \"contourcarpet\": [{\"colorbar\": {\"outlinewidth\": 0, \"ticks\": \"\"}, \"type\": \"contourcarpet\"}], \"heatmap\": [{\"colorbar\": {\"outlinewidth\": 0, \"ticks\": \"\"}, \"colorscale\": [[0.0, \"#0d0887\"], [0.1111111111111111, \"#46039f\"], [0.2222222222222222, \"#7201a8\"], [0.3333333333333333, \"#9c179e\"], [0.4444444444444444, \"#bd3786\"], [0.5555555555555556, \"#d8576b\"], [0.6666666666666666, \"#ed7953\"], [0.7777777777777778, \"#fb9f3a\"], [0.8888888888888888, \"#fdca26\"], [1.0, \"#f0f921\"]], \"type\": \"heatmap\"}], \"heatmapgl\": [{\"colorbar\": {\"outlinewidth\": 0, \"ticks\": \"\"}, \"colorscale\": [[0.0, \"#0d0887\"], [0.1111111111111111, \"#46039f\"], [0.2222222222222222, \"#7201a8\"], [0.3333333333333333, \"#9c179e\"], [0.4444444444444444, \"#bd3786\"], [0.5555555555555556, \"#d8576b\"], [0.6666666666666666, \"#ed7953\"], [0.7777777777777778, \"#fb9f3a\"], [0.8888888888888888, \"#fdca26\"], [1.0, \"#f0f921\"]], \"type\": \"heatmapgl\"}], \"histogram\": [{\"marker\": {\"colorbar\": {\"outlinewidth\": 0, \"ticks\": \"\"}}, \"type\": \"histogram\"}], \"histogram2d\": [{\"colorbar\": {\"outlinewidth\": 0, \"ticks\": \"\"}, \"colorscale\": [[0.0, \"#0d0887\"], [0.1111111111111111, \"#46039f\"], [0.2222222222222222, \"#7201a8\"], [0.3333333333333333, \"#9c179e\"], [0.4444444444444444, \"#bd3786\"], [0.5555555555555556, \"#d8576b\"], [0.6666666666666666, \"#ed7953\"], [0.7777777777777778, \"#fb9f3a\"], [0.8888888888888888, \"#fdca26\"], [1.0, \"#f0f921\"]], \"type\": \"histogram2d\"}], \"histogram2dcontour\": [{\"colorbar\": {\"outlinewidth\": 0, \"ticks\": \"\"}, \"colorscale\": [[0.0, \"#0d0887\"], [0.1111111111111111, \"#46039f\"], [0.2222222222222222, \"#7201a8\"], [0.3333333333333333, \"#9c179e\"], [0.4444444444444444, \"#bd3786\"], [0.5555555555555556, \"#d8576b\"], [0.6666666666666666, \"#ed7953\"], [0.7777777777777778, \"#fb9f3a\"], [0.8888888888888888, \"#fdca26\"], [1.0, \"#f0f921\"]], \"type\": \"histogram2dcontour\"}], \"mesh3d\": [{\"colorbar\": {\"outlinewidth\": 0, \"ticks\": \"\"}, \"type\": \"mesh3d\"}], \"parcoords\": [{\"line\": {\"colorbar\": {\"outlinewidth\": 0, \"ticks\": \"\"}}, \"type\": \"parcoords\"}], \"pie\": [{\"automargin\": true, \"type\": \"pie\"}], \"scatter\": [{\"marker\": {\"colorbar\": {\"outlinewidth\": 0, \"ticks\": \"\"}}, \"type\": \"scatter\"}], \"scatter3d\": [{\"line\": {\"colorbar\": {\"outlinewidth\": 0, \"ticks\": \"\"}}, \"marker\": {\"colorbar\": {\"outlinewidth\": 0, \"ticks\": \"\"}}, \"type\": \"scatter3d\"}], \"scattercarpet\": [{\"marker\": {\"colorbar\": {\"outlinewidth\": 0, \"ticks\": \"\"}}, \"type\": \"scattercarpet\"}], \"scattergeo\": [{\"marker\": {\"colorbar\": {\"outlinewidth\": 0, \"ticks\": \"\"}}, \"type\": \"scattergeo\"}], \"scattergl\": [{\"marker\": {\"colorbar\": {\"outlinewidth\": 0, \"ticks\": \"\"}}, \"type\": \"scattergl\"}], \"scattermapbox\": [{\"marker\": {\"colorbar\": {\"outlinewidth\": 0, \"ticks\": \"\"}}, \"type\": \"scattermapbox\"}], \"scatterpolar\": [{\"marker\": {\"colorbar\": {\"outlinewidth\": 0, \"ticks\": \"\"}}, \"type\": \"scatterpolar\"}], \"scatterpolargl\": [{\"marker\": {\"colorbar\": {\"outlinewidth\": 0, \"ticks\": \"\"}}, \"type\": \"scatterpolargl\"}], \"scatterternary\": [{\"marker\": {\"colorbar\": {\"outlinewidth\": 0, \"ticks\": \"\"}}, \"type\": \"scatterternary\"}], \"surface\": [{\"colorbar\": {\"outlinewidth\": 0, \"ticks\": \"\"}, \"colorscale\": [[0.0, \"#0d0887\"], [0.1111111111111111, \"#46039f\"], [0.2222222222222222, \"#7201a8\"], [0.3333333333333333, \"#9c179e\"], [0.4444444444444444, \"#bd3786\"], [0.5555555555555556, \"#d8576b\"], [0.6666666666666666, \"#ed7953\"], [0.7777777777777778, \"#fb9f3a\"], [0.8888888888888888, \"#fdca26\"], [1.0, \"#f0f921\"]], \"type\": \"surface\"}], \"table\": [{\"cells\": {\"fill\": {\"color\": \"#EBF0F8\"}, \"line\": {\"color\": \"white\"}}, \"header\": {\"fill\": {\"color\": \"#C8D4E3\"}, \"line\": {\"color\": \"white\"}}, \"type\": \"table\"}]}, \"layout\": {\"annotationdefaults\": {\"arrowcolor\": \"#2a3f5f\", \"arrowhead\": 0, \"arrowwidth\": 1}, \"coloraxis\": {\"colorbar\": {\"outlinewidth\": 0, \"ticks\": \"\"}}, \"colorscale\": {\"diverging\": [[0, \"#8e0152\"], [0.1, \"#c51b7d\"], [0.2, \"#de77ae\"], [0.3, \"#f1b6da\"], [0.4, \"#fde0ef\"], [0.5, \"#f7f7f7\"], [0.6, \"#e6f5d0\"], [0.7, \"#b8e186\"], [0.8, \"#7fbc41\"], [0.9, \"#4d9221\"], [1, \"#276419\"]], \"sequential\": [[0.0, \"#0d0887\"], [0.1111111111111111, \"#46039f\"], [0.2222222222222222, \"#7201a8\"], [0.3333333333333333, \"#9c179e\"], [0.4444444444444444, \"#bd3786\"], [0.5555555555555556, \"#d8576b\"], [0.6666666666666666, \"#ed7953\"], [0.7777777777777778, \"#fb9f3a\"], [0.8888888888888888, \"#fdca26\"], [1.0, \"#f0f921\"]], \"sequentialminus\": [[0.0, \"#0d0887\"], [0.1111111111111111, \"#46039f\"], [0.2222222222222222, \"#7201a8\"], [0.3333333333333333, \"#9c179e\"], [0.4444444444444444, \"#bd3786\"], [0.5555555555555556, \"#d8576b\"], [0.6666666666666666, \"#ed7953\"], [0.7777777777777778, \"#fb9f3a\"], [0.8888888888888888, \"#fdca26\"], [1.0, \"#f0f921\"]]}, \"colorway\": [\"#636efa\", \"#EF553B\", \"#00cc96\", \"#ab63fa\", \"#FFA15A\", \"#19d3f3\", \"#FF6692\", \"#B6E880\", \"#FF97FF\", \"#FECB52\"], \"font\": {\"color\": \"#2a3f5f\"}, \"geo\": {\"bgcolor\": \"white\", \"lakecolor\": \"white\", \"landcolor\": \"#E5ECF6\", \"showlakes\": true, \"showland\": true, \"subunitcolor\": \"white\"}, \"hoverlabel\": {\"align\": \"left\"}, \"hovermode\": \"closest\", \"mapbox\": {\"style\": \"light\"}, \"paper_bgcolor\": \"white\", \"plot_bgcolor\": \"#E5ECF6\", \"polar\": {\"angularaxis\": {\"gridcolor\": \"white\", \"linecolor\": \"white\", \"ticks\": \"\"}, \"bgcolor\": \"#E5ECF6\", \"radialaxis\": {\"gridcolor\": \"white\", \"linecolor\": \"white\", \"ticks\": \"\"}}, \"scene\": {\"xaxis\": {\"backgroundcolor\": \"#E5ECF6\", \"gridcolor\": \"white\", \"gridwidth\": 2, \"linecolor\": \"white\", \"showbackground\": true, \"ticks\": \"\", \"zerolinecolor\": \"white\"}, \"yaxis\": {\"backgroundcolor\": \"#E5ECF6\", \"gridcolor\": \"white\", \"gridwidth\": 2, \"linecolor\": \"white\", \"showbackground\": true, \"ticks\": \"\", \"zerolinecolor\": \"white\"}, \"zaxis\": {\"backgroundcolor\": \"#E5ECF6\", \"gridcolor\": \"white\", \"gridwidth\": 2, \"linecolor\": \"white\", \"showbackground\": true, \"ticks\": \"\", \"zerolinecolor\": \"white\"}}, \"shapedefaults\": {\"line\": {\"color\": \"#2a3f5f\"}}, \"ternary\": {\"aaxis\": {\"gridcolor\": \"white\", \"linecolor\": \"white\", \"ticks\": \"\"}, \"baxis\": {\"gridcolor\": \"white\", \"linecolor\": \"white\", \"ticks\": \"\"}, \"bgcolor\": \"#E5ECF6\", \"caxis\": {\"gridcolor\": \"white\", \"linecolor\": \"white\", \"ticks\": \"\"}}, \"title\": {\"x\": 0.05}, \"xaxis\": {\"automargin\": true, \"gridcolor\": \"white\", \"linecolor\": \"white\", \"ticks\": \"\", \"title\": {\"standoff\": 15}, \"zerolinecolor\": \"white\", \"zerolinewidth\": 2}, \"yaxis\": {\"automargin\": true, \"gridcolor\": \"white\", \"linecolor\": \"white\", \"ticks\": \"\", \"title\": {\"standoff\": 15}, \"zerolinecolor\": \"white\", \"zerolinewidth\": 2}}}, \"title\": {\"font\": {\"color\": \"#4D5663\"}}, \"xaxis\": {\"gridcolor\": \"#E1E5ED\", \"showgrid\": true, \"tickfont\": {\"color\": \"#4D5663\"}, \"title\": {\"font\": {\"color\": \"#4D5663\"}, \"text\": \"\"}, \"zerolinecolor\": \"#E1E5ED\"}, \"yaxis\": {\"gridcolor\": \"#E1E5ED\", \"showgrid\": true, \"tickfont\": {\"color\": \"#4D5663\"}, \"title\": {\"font\": {\"color\": \"#4D5663\"}, \"text\": \"\"}, \"zerolinecolor\": \"#E1E5ED\"}},                        {\"showLink\": true, \"linkText\": \"Export to plot.ly\", \"plotlyServerURL\": \"https://plot.ly\", \"responsive\": true}                    ).then(function(){\n",
       "                            \n",
       "var gd = document.getElementById('1227f0c9-2757-43ee-a275-564cc93e99d6');\n",
       "var x = new MutationObserver(function (mutations, observer) {{\n",
       "        var display = window.getComputedStyle(gd).display;\n",
       "        if (!display || display === 'none') {{\n",
       "            console.log([gd, 'removed!']);\n",
       "            Plotly.purge(gd);\n",
       "            observer.disconnect();\n",
       "        }}\n",
       "}});\n",
       "\n",
       "// Listen for the removal of the full notebook cells\n",
       "var notebookContainer = gd.closest('#notebook-container');\n",
       "if (notebookContainer) {{\n",
       "    x.observe(notebookContainer, {childList: true});\n",
       "}}\n",
       "\n",
       "// Listen for the clearing of the current output cell\n",
       "var outputEl = gd.closest('.output');\n",
       "if (outputEl) {{\n",
       "    x.observe(outputEl, {childList: true});\n",
       "}}\n",
       "\n",
       "                        })                };                });            </script>        </div>"
      ]
     },
     "metadata": {},
     "output_type": "display_data"
    }
   ],
   "source": [
    "fake_df.iplot(kind='box')"
   ]
  },
  {
   "cell_type": "markdown",
   "metadata": {},
   "source": [
    "# 3D Surface"
   ]
  },
  {
   "cell_type": "code",
   "execution_count": 14,
   "metadata": {
    "scrolled": true
   },
   "outputs": [
    {
     "data": {
      "application/vnd.plotly.v1+json": {
       "config": {
        "linkText": "Export to plot.ly",
        "plotlyServerURL": "https://plot.ly",
        "showLink": true
       },
       "data": [
        {
         "colorscale": [
          [
           0,
           "rgb(165,0,38)"
          ],
          [
           0.1,
           "rgb(215,48,39)"
          ],
          [
           0.2,
           "rgb(244,109,67)"
          ],
          [
           0.3,
           "rgb(253,174,97)"
          ],
          [
           0.4,
           "rgb(254,224,144)"
          ],
          [
           0.5,
           "rgb(255,255,191)"
          ],
          [
           0.6,
           "rgb(224,243,248)"
          ],
          [
           0.7,
           "rgb(171,217,233)"
          ],
          [
           0.8,
           "rgb(116,173,209)"
          ],
          [
           0.9,
           "rgb(69,117,180)"
          ],
          [
           1,
           "rgb(49,54,149)"
          ]
         ],
         "type": "surface",
         "x": [
          0,
          1,
          2,
          3,
          4
         ],
         "y": [
          "x",
          "y",
          "z"
         ],
         "z": [
          [
           1,
           2,
           3,
           4,
           5
          ],
          [
           10,
           20,
           30,
           20,
           10
          ],
          [
           5,
           4,
           3,
           2,
           1
          ]
         ]
        }
       ],
       "layout": {
        "legend": {
         "bgcolor": "#F5F6F9",
         "font": {
          "color": "#4D5663"
         }
        },
        "paper_bgcolor": "#F5F6F9",
        "plot_bgcolor": "#F5F6F9",
        "template": {
         "data": {
          "bar": [
           {
            "error_x": {
             "color": "#2a3f5f"
            },
            "error_y": {
             "color": "#2a3f5f"
            },
            "marker": {
             "line": {
              "color": "#E5ECF6",
              "width": 0.5
             }
            },
            "type": "bar"
           }
          ],
          "barpolar": [
           {
            "marker": {
             "line": {
              "color": "#E5ECF6",
              "width": 0.5
             }
            },
            "type": "barpolar"
           }
          ],
          "carpet": [
           {
            "aaxis": {
             "endlinecolor": "#2a3f5f",
             "gridcolor": "white",
             "linecolor": "white",
             "minorgridcolor": "white",
             "startlinecolor": "#2a3f5f"
            },
            "baxis": {
             "endlinecolor": "#2a3f5f",
             "gridcolor": "white",
             "linecolor": "white",
             "minorgridcolor": "white",
             "startlinecolor": "#2a3f5f"
            },
            "type": "carpet"
           }
          ],
          "choropleth": [
           {
            "colorbar": {
             "outlinewidth": 0,
             "ticks": ""
            },
            "type": "choropleth"
           }
          ],
          "contour": [
           {
            "colorbar": {
             "outlinewidth": 0,
             "ticks": ""
            },
            "colorscale": [
             [
              0,
              "#0d0887"
             ],
             [
              0.1111111111111111,
              "#46039f"
             ],
             [
              0.2222222222222222,
              "#7201a8"
             ],
             [
              0.3333333333333333,
              "#9c179e"
             ],
             [
              0.4444444444444444,
              "#bd3786"
             ],
             [
              0.5555555555555556,
              "#d8576b"
             ],
             [
              0.6666666666666666,
              "#ed7953"
             ],
             [
              0.7777777777777778,
              "#fb9f3a"
             ],
             [
              0.8888888888888888,
              "#fdca26"
             ],
             [
              1,
              "#f0f921"
             ]
            ],
            "type": "contour"
           }
          ],
          "contourcarpet": [
           {
            "colorbar": {
             "outlinewidth": 0,
             "ticks": ""
            },
            "type": "contourcarpet"
           }
          ],
          "heatmap": [
           {
            "colorbar": {
             "outlinewidth": 0,
             "ticks": ""
            },
            "colorscale": [
             [
              0,
              "#0d0887"
             ],
             [
              0.1111111111111111,
              "#46039f"
             ],
             [
              0.2222222222222222,
              "#7201a8"
             ],
             [
              0.3333333333333333,
              "#9c179e"
             ],
             [
              0.4444444444444444,
              "#bd3786"
             ],
             [
              0.5555555555555556,
              "#d8576b"
             ],
             [
              0.6666666666666666,
              "#ed7953"
             ],
             [
              0.7777777777777778,
              "#fb9f3a"
             ],
             [
              0.8888888888888888,
              "#fdca26"
             ],
             [
              1,
              "#f0f921"
             ]
            ],
            "type": "heatmap"
           }
          ],
          "heatmapgl": [
           {
            "colorbar": {
             "outlinewidth": 0,
             "ticks": ""
            },
            "colorscale": [
             [
              0,
              "#0d0887"
             ],
             [
              0.1111111111111111,
              "#46039f"
             ],
             [
              0.2222222222222222,
              "#7201a8"
             ],
             [
              0.3333333333333333,
              "#9c179e"
             ],
             [
              0.4444444444444444,
              "#bd3786"
             ],
             [
              0.5555555555555556,
              "#d8576b"
             ],
             [
              0.6666666666666666,
              "#ed7953"
             ],
             [
              0.7777777777777778,
              "#fb9f3a"
             ],
             [
              0.8888888888888888,
              "#fdca26"
             ],
             [
              1,
              "#f0f921"
             ]
            ],
            "type": "heatmapgl"
           }
          ],
          "histogram": [
           {
            "marker": {
             "colorbar": {
              "outlinewidth": 0,
              "ticks": ""
             }
            },
            "type": "histogram"
           }
          ],
          "histogram2d": [
           {
            "colorbar": {
             "outlinewidth": 0,
             "ticks": ""
            },
            "colorscale": [
             [
              0,
              "#0d0887"
             ],
             [
              0.1111111111111111,
              "#46039f"
             ],
             [
              0.2222222222222222,
              "#7201a8"
             ],
             [
              0.3333333333333333,
              "#9c179e"
             ],
             [
              0.4444444444444444,
              "#bd3786"
             ],
             [
              0.5555555555555556,
              "#d8576b"
             ],
             [
              0.6666666666666666,
              "#ed7953"
             ],
             [
              0.7777777777777778,
              "#fb9f3a"
             ],
             [
              0.8888888888888888,
              "#fdca26"
             ],
             [
              1,
              "#f0f921"
             ]
            ],
            "type": "histogram2d"
           }
          ],
          "histogram2dcontour": [
           {
            "colorbar": {
             "outlinewidth": 0,
             "ticks": ""
            },
            "colorscale": [
             [
              0,
              "#0d0887"
             ],
             [
              0.1111111111111111,
              "#46039f"
             ],
             [
              0.2222222222222222,
              "#7201a8"
             ],
             [
              0.3333333333333333,
              "#9c179e"
             ],
             [
              0.4444444444444444,
              "#bd3786"
             ],
             [
              0.5555555555555556,
              "#d8576b"
             ],
             [
              0.6666666666666666,
              "#ed7953"
             ],
             [
              0.7777777777777778,
              "#fb9f3a"
             ],
             [
              0.8888888888888888,
              "#fdca26"
             ],
             [
              1,
              "#f0f921"
             ]
            ],
            "type": "histogram2dcontour"
           }
          ],
          "mesh3d": [
           {
            "colorbar": {
             "outlinewidth": 0,
             "ticks": ""
            },
            "type": "mesh3d"
           }
          ],
          "parcoords": [
           {
            "line": {
             "colorbar": {
              "outlinewidth": 0,
              "ticks": ""
             }
            },
            "type": "parcoords"
           }
          ],
          "pie": [
           {
            "automargin": true,
            "type": "pie"
           }
          ],
          "scatter": [
           {
            "marker": {
             "colorbar": {
              "outlinewidth": 0,
              "ticks": ""
             }
            },
            "type": "scatter"
           }
          ],
          "scatter3d": [
           {
            "line": {
             "colorbar": {
              "outlinewidth": 0,
              "ticks": ""
             }
            },
            "marker": {
             "colorbar": {
              "outlinewidth": 0,
              "ticks": ""
             }
            },
            "type": "scatter3d"
           }
          ],
          "scattercarpet": [
           {
            "marker": {
             "colorbar": {
              "outlinewidth": 0,
              "ticks": ""
             }
            },
            "type": "scattercarpet"
           }
          ],
          "scattergeo": [
           {
            "marker": {
             "colorbar": {
              "outlinewidth": 0,
              "ticks": ""
             }
            },
            "type": "scattergeo"
           }
          ],
          "scattergl": [
           {
            "marker": {
             "colorbar": {
              "outlinewidth": 0,
              "ticks": ""
             }
            },
            "type": "scattergl"
           }
          ],
          "scattermapbox": [
           {
            "marker": {
             "colorbar": {
              "outlinewidth": 0,
              "ticks": ""
             }
            },
            "type": "scattermapbox"
           }
          ],
          "scatterpolar": [
           {
            "marker": {
             "colorbar": {
              "outlinewidth": 0,
              "ticks": ""
             }
            },
            "type": "scatterpolar"
           }
          ],
          "scatterpolargl": [
           {
            "marker": {
             "colorbar": {
              "outlinewidth": 0,
              "ticks": ""
             }
            },
            "type": "scatterpolargl"
           }
          ],
          "scatterternary": [
           {
            "marker": {
             "colorbar": {
              "outlinewidth": 0,
              "ticks": ""
             }
            },
            "type": "scatterternary"
           }
          ],
          "surface": [
           {
            "colorbar": {
             "outlinewidth": 0,
             "ticks": ""
            },
            "colorscale": [
             [
              0,
              "#0d0887"
             ],
             [
              0.1111111111111111,
              "#46039f"
             ],
             [
              0.2222222222222222,
              "#7201a8"
             ],
             [
              0.3333333333333333,
              "#9c179e"
             ],
             [
              0.4444444444444444,
              "#bd3786"
             ],
             [
              0.5555555555555556,
              "#d8576b"
             ],
             [
              0.6666666666666666,
              "#ed7953"
             ],
             [
              0.7777777777777778,
              "#fb9f3a"
             ],
             [
              0.8888888888888888,
              "#fdca26"
             ],
             [
              1,
              "#f0f921"
             ]
            ],
            "type": "surface"
           }
          ],
          "table": [
           {
            "cells": {
             "fill": {
              "color": "#EBF0F8"
             },
             "line": {
              "color": "white"
             }
            },
            "header": {
             "fill": {
              "color": "#C8D4E3"
             },
             "line": {
              "color": "white"
             }
            },
            "type": "table"
           }
          ]
         },
         "layout": {
          "annotationdefaults": {
           "arrowcolor": "#2a3f5f",
           "arrowhead": 0,
           "arrowwidth": 1
          },
          "coloraxis": {
           "colorbar": {
            "outlinewidth": 0,
            "ticks": ""
           }
          },
          "colorscale": {
           "diverging": [
            [
             0,
             "#8e0152"
            ],
            [
             0.1,
             "#c51b7d"
            ],
            [
             0.2,
             "#de77ae"
            ],
            [
             0.3,
             "#f1b6da"
            ],
            [
             0.4,
             "#fde0ef"
            ],
            [
             0.5,
             "#f7f7f7"
            ],
            [
             0.6,
             "#e6f5d0"
            ],
            [
             0.7,
             "#b8e186"
            ],
            [
             0.8,
             "#7fbc41"
            ],
            [
             0.9,
             "#4d9221"
            ],
            [
             1,
             "#276419"
            ]
           ],
           "sequential": [
            [
             0,
             "#0d0887"
            ],
            [
             0.1111111111111111,
             "#46039f"
            ],
            [
             0.2222222222222222,
             "#7201a8"
            ],
            [
             0.3333333333333333,
             "#9c179e"
            ],
            [
             0.4444444444444444,
             "#bd3786"
            ],
            [
             0.5555555555555556,
             "#d8576b"
            ],
            [
             0.6666666666666666,
             "#ed7953"
            ],
            [
             0.7777777777777778,
             "#fb9f3a"
            ],
            [
             0.8888888888888888,
             "#fdca26"
            ],
            [
             1,
             "#f0f921"
            ]
           ],
           "sequentialminus": [
            [
             0,
             "#0d0887"
            ],
            [
             0.1111111111111111,
             "#46039f"
            ],
            [
             0.2222222222222222,
             "#7201a8"
            ],
            [
             0.3333333333333333,
             "#9c179e"
            ],
            [
             0.4444444444444444,
             "#bd3786"
            ],
            [
             0.5555555555555556,
             "#d8576b"
            ],
            [
             0.6666666666666666,
             "#ed7953"
            ],
            [
             0.7777777777777778,
             "#fb9f3a"
            ],
            [
             0.8888888888888888,
             "#fdca26"
            ],
            [
             1,
             "#f0f921"
            ]
           ]
          },
          "colorway": [
           "#636efa",
           "#EF553B",
           "#00cc96",
           "#ab63fa",
           "#FFA15A",
           "#19d3f3",
           "#FF6692",
           "#B6E880",
           "#FF97FF",
           "#FECB52"
          ],
          "font": {
           "color": "#2a3f5f"
          },
          "geo": {
           "bgcolor": "white",
           "lakecolor": "white",
           "landcolor": "#E5ECF6",
           "showlakes": true,
           "showland": true,
           "subunitcolor": "white"
          },
          "hoverlabel": {
           "align": "left"
          },
          "hovermode": "closest",
          "mapbox": {
           "style": "light"
          },
          "paper_bgcolor": "white",
          "plot_bgcolor": "#E5ECF6",
          "polar": {
           "angularaxis": {
            "gridcolor": "white",
            "linecolor": "white",
            "ticks": ""
           },
           "bgcolor": "#E5ECF6",
           "radialaxis": {
            "gridcolor": "white",
            "linecolor": "white",
            "ticks": ""
           }
          },
          "scene": {
           "xaxis": {
            "backgroundcolor": "#E5ECF6",
            "gridcolor": "white",
            "gridwidth": 2,
            "linecolor": "white",
            "showbackground": true,
            "ticks": "",
            "zerolinecolor": "white"
           },
           "yaxis": {
            "backgroundcolor": "#E5ECF6",
            "gridcolor": "white",
            "gridwidth": 2,
            "linecolor": "white",
            "showbackground": true,
            "ticks": "",
            "zerolinecolor": "white"
           },
           "zaxis": {
            "backgroundcolor": "#E5ECF6",
            "gridcolor": "white",
            "gridwidth": 2,
            "linecolor": "white",
            "showbackground": true,
            "ticks": "",
            "zerolinecolor": "white"
           }
          },
          "shapedefaults": {
           "line": {
            "color": "#2a3f5f"
           }
          },
          "ternary": {
           "aaxis": {
            "gridcolor": "white",
            "linecolor": "white",
            "ticks": ""
           },
           "baxis": {
            "gridcolor": "white",
            "linecolor": "white",
            "ticks": ""
           },
           "bgcolor": "#E5ECF6",
           "caxis": {
            "gridcolor": "white",
            "linecolor": "white",
            "ticks": ""
           }
          },
          "title": {
           "x": 0.05
          },
          "xaxis": {
           "automargin": true,
           "gridcolor": "white",
           "linecolor": "white",
           "ticks": "",
           "title": {
            "standoff": 15
           },
           "zerolinecolor": "white",
           "zerolinewidth": 2
          },
          "yaxis": {
           "automargin": true,
           "gridcolor": "white",
           "linecolor": "white",
           "ticks": "",
           "title": {
            "standoff": 15
           },
           "zerolinecolor": "white",
           "zerolinewidth": 2
          }
         }
        },
        "title": {
         "font": {
          "color": "#4D5663"
         }
        },
        "xaxis": {
         "gridcolor": "#E1E5ED",
         "showgrid": true,
         "tickfont": {
          "color": "#4D5663"
         },
         "title": {
          "font": {
           "color": "#4D5663"
          },
          "text": ""
         },
         "zerolinecolor": "#E1E5ED"
        },
        "yaxis": {
         "gridcolor": "#E1E5ED",
         "showgrid": true,
         "tickfont": {
          "color": "#4D5663"
         },
         "title": {
          "font": {
           "color": "#4D5663"
          },
          "text": ""
         },
         "zerolinecolor": "#E1E5ED"
        }
       }
      },
      "text/html": [
       "<div>                            <div id=\"f9f8ef71-c418-424d-b6b5-53066f5b886f\" class=\"plotly-graph-div\" style=\"height:525px; width:100%;\"></div>            <script type=\"text/javascript\">                require([\"plotly\"], function(Plotly) {                    window.PLOTLYENV=window.PLOTLYENV || {};\n",
       "                    window.PLOTLYENV.BASE_URL='https://plot.ly';                                    if (document.getElementById(\"f9f8ef71-c418-424d-b6b5-53066f5b886f\")) {                    Plotly.newPlot(                        \"f9f8ef71-c418-424d-b6b5-53066f5b886f\",                        [{\"colorscale\": [[0.0, \"rgb(165,0,38)\"], [0.1, \"rgb(215,48,39)\"], [0.2, \"rgb(244,109,67)\"], [0.3, \"rgb(253,174,97)\"], [0.4, \"rgb(254,224,144)\"], [0.5, \"rgb(255,255,191)\"], [0.6, \"rgb(224,243,248)\"], [0.7, \"rgb(171,217,233)\"], [0.8, \"rgb(116,173,209)\"], [0.9, \"rgb(69,117,180)\"], [1.0, \"rgb(49,54,149)\"]], \"type\": \"surface\", \"x\": [0, 1, 2, 3, 4], \"y\": [\"x\", \"y\", \"z\"], \"z\": [[1, 2, 3, 4, 5], [10, 20, 30, 20, 10], [5, 4, 3, 2, 1]]}],                        {\"legend\": {\"bgcolor\": \"#F5F6F9\", \"font\": {\"color\": \"#4D5663\"}}, \"paper_bgcolor\": \"#F5F6F9\", \"plot_bgcolor\": \"#F5F6F9\", \"template\": {\"data\": {\"bar\": [{\"error_x\": {\"color\": \"#2a3f5f\"}, \"error_y\": {\"color\": \"#2a3f5f\"}, \"marker\": {\"line\": {\"color\": \"#E5ECF6\", \"width\": 0.5}}, \"type\": \"bar\"}], \"barpolar\": [{\"marker\": {\"line\": {\"color\": \"#E5ECF6\", \"width\": 0.5}}, \"type\": \"barpolar\"}], \"carpet\": [{\"aaxis\": {\"endlinecolor\": \"#2a3f5f\", \"gridcolor\": \"white\", \"linecolor\": \"white\", \"minorgridcolor\": \"white\", \"startlinecolor\": \"#2a3f5f\"}, \"baxis\": {\"endlinecolor\": \"#2a3f5f\", \"gridcolor\": \"white\", \"linecolor\": \"white\", \"minorgridcolor\": \"white\", \"startlinecolor\": \"#2a3f5f\"}, \"type\": \"carpet\"}], \"choropleth\": [{\"colorbar\": {\"outlinewidth\": 0, \"ticks\": \"\"}, \"type\": \"choropleth\"}], \"contour\": [{\"colorbar\": {\"outlinewidth\": 0, \"ticks\": \"\"}, \"colorscale\": [[0.0, \"#0d0887\"], [0.1111111111111111, \"#46039f\"], [0.2222222222222222, \"#7201a8\"], [0.3333333333333333, \"#9c179e\"], [0.4444444444444444, \"#bd3786\"], [0.5555555555555556, \"#d8576b\"], [0.6666666666666666, \"#ed7953\"], [0.7777777777777778, \"#fb9f3a\"], [0.8888888888888888, \"#fdca26\"], [1.0, \"#f0f921\"]], \"type\": \"contour\"}], \"contourcarpet\": [{\"colorbar\": {\"outlinewidth\": 0, \"ticks\": \"\"}, \"type\": \"contourcarpet\"}], \"heatmap\": [{\"colorbar\": {\"outlinewidth\": 0, \"ticks\": \"\"}, \"colorscale\": [[0.0, \"#0d0887\"], [0.1111111111111111, \"#46039f\"], [0.2222222222222222, \"#7201a8\"], [0.3333333333333333, \"#9c179e\"], [0.4444444444444444, \"#bd3786\"], [0.5555555555555556, \"#d8576b\"], [0.6666666666666666, \"#ed7953\"], [0.7777777777777778, \"#fb9f3a\"], [0.8888888888888888, \"#fdca26\"], [1.0, \"#f0f921\"]], \"type\": \"heatmap\"}], \"heatmapgl\": [{\"colorbar\": {\"outlinewidth\": 0, \"ticks\": \"\"}, \"colorscale\": [[0.0, \"#0d0887\"], [0.1111111111111111, \"#46039f\"], [0.2222222222222222, \"#7201a8\"], [0.3333333333333333, \"#9c179e\"], [0.4444444444444444, \"#bd3786\"], [0.5555555555555556, \"#d8576b\"], [0.6666666666666666, \"#ed7953\"], [0.7777777777777778, \"#fb9f3a\"], [0.8888888888888888, \"#fdca26\"], [1.0, \"#f0f921\"]], \"type\": \"heatmapgl\"}], \"histogram\": [{\"marker\": {\"colorbar\": {\"outlinewidth\": 0, \"ticks\": \"\"}}, \"type\": \"histogram\"}], \"histogram2d\": [{\"colorbar\": {\"outlinewidth\": 0, \"ticks\": \"\"}, \"colorscale\": [[0.0, \"#0d0887\"], [0.1111111111111111, \"#46039f\"], [0.2222222222222222, \"#7201a8\"], [0.3333333333333333, \"#9c179e\"], [0.4444444444444444, \"#bd3786\"], [0.5555555555555556, \"#d8576b\"], [0.6666666666666666, \"#ed7953\"], [0.7777777777777778, \"#fb9f3a\"], [0.8888888888888888, \"#fdca26\"], [1.0, \"#f0f921\"]], \"type\": \"histogram2d\"}], \"histogram2dcontour\": [{\"colorbar\": {\"outlinewidth\": 0, \"ticks\": \"\"}, \"colorscale\": [[0.0, \"#0d0887\"], [0.1111111111111111, \"#46039f\"], [0.2222222222222222, \"#7201a8\"], [0.3333333333333333, \"#9c179e\"], [0.4444444444444444, \"#bd3786\"], [0.5555555555555556, \"#d8576b\"], [0.6666666666666666, \"#ed7953\"], [0.7777777777777778, \"#fb9f3a\"], [0.8888888888888888, \"#fdca26\"], [1.0, \"#f0f921\"]], \"type\": \"histogram2dcontour\"}], \"mesh3d\": [{\"colorbar\": {\"outlinewidth\": 0, \"ticks\": \"\"}, \"type\": \"mesh3d\"}], \"parcoords\": [{\"line\": {\"colorbar\": {\"outlinewidth\": 0, \"ticks\": \"\"}}, \"type\": \"parcoords\"}], \"pie\": [{\"automargin\": true, \"type\": \"pie\"}], \"scatter\": [{\"marker\": {\"colorbar\": {\"outlinewidth\": 0, \"ticks\": \"\"}}, \"type\": \"scatter\"}], \"scatter3d\": [{\"line\": {\"colorbar\": {\"outlinewidth\": 0, \"ticks\": \"\"}}, \"marker\": {\"colorbar\": {\"outlinewidth\": 0, \"ticks\": \"\"}}, \"type\": \"scatter3d\"}], \"scattercarpet\": [{\"marker\": {\"colorbar\": {\"outlinewidth\": 0, \"ticks\": \"\"}}, \"type\": \"scattercarpet\"}], \"scattergeo\": [{\"marker\": {\"colorbar\": {\"outlinewidth\": 0, \"ticks\": \"\"}}, \"type\": \"scattergeo\"}], \"scattergl\": [{\"marker\": {\"colorbar\": {\"outlinewidth\": 0, \"ticks\": \"\"}}, \"type\": \"scattergl\"}], \"scattermapbox\": [{\"marker\": {\"colorbar\": {\"outlinewidth\": 0, \"ticks\": \"\"}}, \"type\": \"scattermapbox\"}], \"scatterpolar\": [{\"marker\": {\"colorbar\": {\"outlinewidth\": 0, \"ticks\": \"\"}}, \"type\": \"scatterpolar\"}], \"scatterpolargl\": [{\"marker\": {\"colorbar\": {\"outlinewidth\": 0, \"ticks\": \"\"}}, \"type\": \"scatterpolargl\"}], \"scatterternary\": [{\"marker\": {\"colorbar\": {\"outlinewidth\": 0, \"ticks\": \"\"}}, \"type\": \"scatterternary\"}], \"surface\": [{\"colorbar\": {\"outlinewidth\": 0, \"ticks\": \"\"}, \"colorscale\": [[0.0, \"#0d0887\"], [0.1111111111111111, \"#46039f\"], [0.2222222222222222, \"#7201a8\"], [0.3333333333333333, \"#9c179e\"], [0.4444444444444444, \"#bd3786\"], [0.5555555555555556, \"#d8576b\"], [0.6666666666666666, \"#ed7953\"], [0.7777777777777778, \"#fb9f3a\"], [0.8888888888888888, \"#fdca26\"], [1.0, \"#f0f921\"]], \"type\": \"surface\"}], \"table\": [{\"cells\": {\"fill\": {\"color\": \"#EBF0F8\"}, \"line\": {\"color\": \"white\"}}, \"header\": {\"fill\": {\"color\": \"#C8D4E3\"}, \"line\": {\"color\": \"white\"}}, \"type\": \"table\"}]}, \"layout\": {\"annotationdefaults\": {\"arrowcolor\": \"#2a3f5f\", \"arrowhead\": 0, \"arrowwidth\": 1}, \"coloraxis\": {\"colorbar\": {\"outlinewidth\": 0, \"ticks\": \"\"}}, \"colorscale\": {\"diverging\": [[0, \"#8e0152\"], [0.1, \"#c51b7d\"], [0.2, \"#de77ae\"], [0.3, \"#f1b6da\"], [0.4, \"#fde0ef\"], [0.5, \"#f7f7f7\"], [0.6, \"#e6f5d0\"], [0.7, \"#b8e186\"], [0.8, \"#7fbc41\"], [0.9, \"#4d9221\"], [1, \"#276419\"]], \"sequential\": [[0.0, \"#0d0887\"], [0.1111111111111111, \"#46039f\"], [0.2222222222222222, \"#7201a8\"], [0.3333333333333333, \"#9c179e\"], [0.4444444444444444, \"#bd3786\"], [0.5555555555555556, \"#d8576b\"], [0.6666666666666666, \"#ed7953\"], [0.7777777777777778, \"#fb9f3a\"], [0.8888888888888888, \"#fdca26\"], [1.0, \"#f0f921\"]], \"sequentialminus\": [[0.0, \"#0d0887\"], [0.1111111111111111, \"#46039f\"], [0.2222222222222222, \"#7201a8\"], [0.3333333333333333, \"#9c179e\"], [0.4444444444444444, \"#bd3786\"], [0.5555555555555556, \"#d8576b\"], [0.6666666666666666, \"#ed7953\"], [0.7777777777777778, \"#fb9f3a\"], [0.8888888888888888, \"#fdca26\"], [1.0, \"#f0f921\"]]}, \"colorway\": [\"#636efa\", \"#EF553B\", \"#00cc96\", \"#ab63fa\", \"#FFA15A\", \"#19d3f3\", \"#FF6692\", \"#B6E880\", \"#FF97FF\", \"#FECB52\"], \"font\": {\"color\": \"#2a3f5f\"}, \"geo\": {\"bgcolor\": \"white\", \"lakecolor\": \"white\", \"landcolor\": \"#E5ECF6\", \"showlakes\": true, \"showland\": true, \"subunitcolor\": \"white\"}, \"hoverlabel\": {\"align\": \"left\"}, \"hovermode\": \"closest\", \"mapbox\": {\"style\": \"light\"}, \"paper_bgcolor\": \"white\", \"plot_bgcolor\": \"#E5ECF6\", \"polar\": {\"angularaxis\": {\"gridcolor\": \"white\", \"linecolor\": \"white\", \"ticks\": \"\"}, \"bgcolor\": \"#E5ECF6\", \"radialaxis\": {\"gridcolor\": \"white\", \"linecolor\": \"white\", \"ticks\": \"\"}}, \"scene\": {\"xaxis\": {\"backgroundcolor\": \"#E5ECF6\", \"gridcolor\": \"white\", \"gridwidth\": 2, \"linecolor\": \"white\", \"showbackground\": true, \"ticks\": \"\", \"zerolinecolor\": \"white\"}, \"yaxis\": {\"backgroundcolor\": \"#E5ECF6\", \"gridcolor\": \"white\", \"gridwidth\": 2, \"linecolor\": \"white\", \"showbackground\": true, \"ticks\": \"\", \"zerolinecolor\": \"white\"}, \"zaxis\": {\"backgroundcolor\": \"#E5ECF6\", \"gridcolor\": \"white\", \"gridwidth\": 2, \"linecolor\": \"white\", \"showbackground\": true, \"ticks\": \"\", \"zerolinecolor\": \"white\"}}, \"shapedefaults\": {\"line\": {\"color\": \"#2a3f5f\"}}, \"ternary\": {\"aaxis\": {\"gridcolor\": \"white\", \"linecolor\": \"white\", \"ticks\": \"\"}, \"baxis\": {\"gridcolor\": \"white\", \"linecolor\": \"white\", \"ticks\": \"\"}, \"bgcolor\": \"#E5ECF6\", \"caxis\": {\"gridcolor\": \"white\", \"linecolor\": \"white\", \"ticks\": \"\"}}, \"title\": {\"x\": 0.05}, \"xaxis\": {\"automargin\": true, \"gridcolor\": \"white\", \"linecolor\": \"white\", \"ticks\": \"\", \"title\": {\"standoff\": 15}, \"zerolinecolor\": \"white\", \"zerolinewidth\": 2}, \"yaxis\": {\"automargin\": true, \"gridcolor\": \"white\", \"linecolor\": \"white\", \"ticks\": \"\", \"title\": {\"standoff\": 15}, \"zerolinecolor\": \"white\", \"zerolinewidth\": 2}}}, \"title\": {\"font\": {\"color\": \"#4D5663\"}}, \"xaxis\": {\"gridcolor\": \"#E1E5ED\", \"showgrid\": true, \"tickfont\": {\"color\": \"#4D5663\"}, \"title\": {\"font\": {\"color\": \"#4D5663\"}, \"text\": \"\"}, \"zerolinecolor\": \"#E1E5ED\"}, \"yaxis\": {\"gridcolor\": \"#E1E5ED\", \"showgrid\": true, \"tickfont\": {\"color\": \"#4D5663\"}, \"title\": {\"font\": {\"color\": \"#4D5663\"}, \"text\": \"\"}, \"zerolinecolor\": \"#E1E5ED\"}},                        {\"showLink\": true, \"linkText\": \"Export to plot.ly\", \"plotlyServerURL\": \"https://plot.ly\", \"responsive\": true}                    ).then(function(){\n",
       "                            \n",
       "var gd = document.getElementById('f9f8ef71-c418-424d-b6b5-53066f5b886f');\n",
       "var x = new MutationObserver(function (mutations, observer) {{\n",
       "        var display = window.getComputedStyle(gd).display;\n",
       "        if (!display || display === 'none') {{\n",
       "            console.log([gd, 'removed!']);\n",
       "            Plotly.purge(gd);\n",
       "            observer.disconnect();\n",
       "        }}\n",
       "}});\n",
       "\n",
       "// Listen for the removal of the full notebook cells\n",
       "var notebookContainer = gd.closest('#notebook-container');\n",
       "if (notebookContainer) {{\n",
       "    x.observe(notebookContainer, {childList: true});\n",
       "}}\n",
       "\n",
       "// Listen for the clearing of the current output cell\n",
       "var outputEl = gd.closest('.output');\n",
       "if (outputEl) {{\n",
       "    x.observe(outputEl, {childList: true});\n",
       "}}\n",
       "\n",
       "                        })                };                });            </script>        </div>"
      ]
     },
     "metadata": {},
     "output_type": "display_data"
    }
   ],
   "source": [
    "df3 = pd.DataFrame({'x':[1,2,3,4,5], 'y':[10,20,30,20,10],'z':[5,4,3,2,1]} )\n",
    "df3.iplot(kind='surface', colorscale='rdylbu')"
   ]
  },
  {
   "cell_type": "code",
   "execution_count": 15,
   "metadata": {
    "scrolled": true
   },
   "outputs": [
    {
     "name": "stderr",
     "output_type": "stream",
     "text": [
      "/Users/dmoussa/opt/anaconda3/lib/python3.7/site-packages/cufflinks/plotlytools.py:849: FutureWarning:\n",
      "\n",
      "The pandas.np module is deprecated and will be removed from pandas in a future version. Import numpy directly instead\n",
      "\n",
      "/Users/dmoussa/opt/anaconda3/lib/python3.7/site-packages/cufflinks/plotlytools.py:850: FutureWarning:\n",
      "\n",
      "The pandas.np module is deprecated and will be removed from pandas in a future version. Import numpy directly instead\n",
      "\n"
     ]
    },
    {
     "data": {
      "application/vnd.plotly.v1+json": {
       "config": {
        "linkText": "Export to plot.ly",
        "plotlyServerURL": "https://plot.ly",
        "showLink": true
       },
       "data": [
        {
         "line": {
          "color": "rgba(255, 153, 51, 1.0)",
          "dash": "solid",
          "shape": "linear",
          "width": 1.3
         },
         "mode": "lines",
         "name": "A",
         "text": "",
         "type": "scatter",
         "x": [
          0,
          1,
          2,
          3,
          4,
          5,
          6,
          7,
          8,
          9,
          10,
          11,
          12,
          13,
          14,
          15,
          16,
          17,
          18,
          19,
          20,
          21,
          22,
          23,
          24,
          25,
          26,
          27,
          28,
          29,
          30,
          31,
          32,
          33,
          34,
          35,
          36,
          37,
          38,
          39,
          40,
          41,
          42,
          43,
          44,
          45,
          46,
          47,
          48,
          49,
          50,
          51,
          52,
          53,
          54,
          55,
          56,
          57,
          58,
          59,
          60,
          61,
          62,
          63,
          64,
          65,
          66,
          67,
          68,
          69,
          70,
          71,
          72,
          73,
          74,
          75,
          76,
          77,
          78,
          79,
          80,
          81,
          82,
          83,
          84,
          85,
          86,
          87,
          88,
          89,
          90,
          91,
          92,
          93,
          94,
          95,
          96,
          97,
          98,
          99
         ],
         "y": [
          2.0098763595893336,
          1.5854346850248688,
          0.9517284968551595,
          1.4209384421391142,
          0.026688111038718355,
          1.7742246940980553,
          0.16997405066218702,
          -1.1663731149184284,
          -1.687555765778785,
          -0.9638359759236773,
          0.31948585690353737,
          0.45206655019272324,
          -0.5856593578130521,
          -1.3331664488301078,
          -0.18227467538397016,
          1.0331832394221976,
          0.37414095900530886,
          -1.3746069162300292,
          1.8832078334627544,
          -0.16909971811806357,
          -0.32927926569287375,
          0.2627032205145867,
          -0.3598102265304865,
          0.5447321941036315,
          1.6100120651269116,
          -0.3804397268147677,
          0.1473620328561745,
          1.6691747558384904,
          1.8148257699582853,
          1.0180855824554613,
          2.766422169747134,
          0.6612450177603737,
          0.2986153846044228,
          -1.7053592704223286,
          -0.6711464446025099,
          -0.16294248127431257,
          -1.76502064308557,
          0.056206938499821404,
          -0.7066819603495336,
          -0.2541191740775342,
          -1.5744224819850823,
          0.4424197673183819,
          0.9446253816575055,
          0.23631706594971114,
          0.14785287447786766,
          0.22500275896921618,
          -0.013301170787457814,
          0.2315655094459254,
          0.6735331950306841,
          -0.10790761675412006,
          -1.5498459914408311,
          -0.41529924792912287,
          -0.22878419631577793,
          2.3889340441169504,
          -0.5011363683382322,
          -0.18138728609572885,
          0.10481645267669726,
          0.7086729341837882,
          -1.4574933521470606,
          -2.276244891933633,
          -0.928082898567579,
          0.22469067595539435,
          0.5161213606538004,
          0.24896276094352396,
          -0.017016592599865137,
          -0.2353009091061637,
          0.6210256252215713,
          1.0259839308083618,
          -0.05291468044019354,
          -1.2015439091389342,
          0.20200327029328774,
          -0.3229245198595919,
          0.5524528833109041,
          -0.4028777637706296,
          -0.059882638309787274,
          0.12775951718529485,
          -0.17957320771266141,
          1.0269177088172363,
          1.1771880686524667,
          -0.6395966666807401,
          0.3744607968230148,
          0.641740461644252,
          -1.0076463847201,
          0.02226447529627381,
          0.2190566031008649,
          -0.643633189304614,
          1.2638889727273173,
          -0.48892495679508047,
          0.059705931132288816,
          -0.9664065644091091,
          1.095398828129973,
          -0.8408864989043608,
          -0.871759542343419,
          -0.1856655404692126,
          0.18088575006579746,
          1.2747503019467712,
          -0.4396286084094133,
          -1.1740229644234133,
          0.1367868730401681,
          0.5003571614833707
         ]
        },
        {
         "line": {
          "color": "rgba(55, 128, 191, 1.0)",
          "dash": "solid",
          "shape": "linear",
          "width": 1.3
         },
         "mode": "lines",
         "name": "B",
         "text": "",
         "type": "scatter",
         "x": [
          0,
          1,
          2,
          3,
          4,
          5,
          6,
          7,
          8,
          9,
          10,
          11,
          12,
          13,
          14,
          15,
          16,
          17,
          18,
          19,
          20,
          21,
          22,
          23,
          24,
          25,
          26,
          27,
          28,
          29,
          30,
          31,
          32,
          33,
          34,
          35,
          36,
          37,
          38,
          39,
          40,
          41,
          42,
          43,
          44,
          45,
          46,
          47,
          48,
          49,
          50,
          51,
          52,
          53,
          54,
          55,
          56,
          57,
          58,
          59,
          60,
          61,
          62,
          63,
          64,
          65,
          66,
          67,
          68,
          69,
          70,
          71,
          72,
          73,
          74,
          75,
          76,
          77,
          78,
          79,
          80,
          81,
          82,
          83,
          84,
          85,
          86,
          87,
          88,
          89,
          90,
          91,
          92,
          93,
          94,
          95,
          96,
          97,
          98,
          99
         ],
         "y": [
          -0.34761400696809835,
          0.7967107929307996,
          -1.021435745012177,
          0.8039058679506786,
          0.28202976547017816,
          1.629306414530597,
          -3.4110663508758923,
          -0.9237688579846878,
          1.3449197314869716,
          -1.056451635061406,
          -1.0691292337350398,
          1.3229153833868197,
          0.1944216073353599,
          0.299995236341656,
          0.44109109461435964,
          -0.08136416868042488,
          0.9303198403726493,
          0.05888325507957637,
          0.7395899412452036,
          -0.150937039126787,
          -0.8073667119303348,
          -2.1209755600528832,
          1.3326778932258512,
          0.9912008713869328,
          -1.0508995328015918,
          0.13999533634881983,
          -0.8173571641054362,
          -0.11295496530104156,
          -1.6812301346024714,
          1.0420418838155838,
          0.2250212295749634,
          1.1691927821992336,
          -0.8497153337809334,
          -0.2598100609473683,
          -0.5252259693487649,
          -0.741660775358332,
          1.3379213304389845,
          1.0001179164638403,
          -1.0402508474746148,
          -0.051391256452094,
          0.7572822801140646,
          1.314205938870495,
          -1.415487984063252,
          -0.261307270216244,
          -0.6325936261624826,
          0.1347352764137132,
          1.1117699079741161,
          -0.6365318004652251,
          0.6586264711638239,
          -2.2171795885534,
          0.11320736946178084,
          1.5729034138642517,
          0.1310369529846583,
          -0.9617569362791584,
          -0.8777880682991028,
          0.5899941649731096,
          -0.1412306828688527,
          1.5170554467085127,
          0.53130018523096,
          0.32158882850971465,
          -0.9464306474339612,
          -1.8406876139673087,
          -0.6592197757814411,
          -0.05035363573486317,
          -0.0012558881887979863,
          -2.2476749098487656,
          -0.7598151323708757,
          -1.4218480040643744,
          -0.5040523542296603,
          1.1160587623525131,
          1.3272816572811181,
          0.9641613696033847,
          1.0351188803977998,
          0.7523574359092837,
          -0.08234499129197077,
          -0.43717706866405887,
          1.1601515432985665,
          -0.5526689647969686,
          0.7509740048177651,
          0.27402019924238286,
          0.7684338000320895,
          -1.0774412859096918,
          -2.158782081147689,
          0.6228680278276605,
          -1.4619809072135606,
          -2.351284827931384,
          -0.36035854063131767,
          1.5433883055746351,
          0.611161533590583,
          0.40126658500000917,
          0.432320337391507,
          0.05165221386738992,
          0.7266281491464596,
          -1.5253604789419755,
          -0.8028686711450908,
          1.3187931284966241,
          -0.5975997233571111,
          0.238360495263982,
          -1.0803828111948988,
          1.2501965937113815
         ]
        },
        {
         "connectgaps": false,
         "fill": "tozeroy",
         "line": {
          "color": "green",
          "dash": "solid",
          "shape": "linear",
          "width": 0.5
         },
         "mode": "lines",
         "name": "Spread",
         "showlegend": false,
         "type": "scatter",
         "x": [
          0,
          1,
          2,
          3,
          4,
          5,
          6,
          7,
          8,
          9,
          10,
          11,
          12,
          13,
          14,
          15,
          16,
          17,
          18,
          19,
          20,
          21,
          22,
          23,
          24,
          25,
          26,
          27,
          28,
          29,
          30,
          31,
          32,
          33,
          34,
          35,
          36,
          37,
          38,
          39,
          40,
          41,
          42,
          43,
          44,
          45,
          46,
          47,
          48,
          49,
          50,
          51,
          52,
          53,
          54,
          55,
          56,
          57,
          58,
          59,
          60,
          61,
          62,
          63,
          64,
          65,
          66,
          67,
          68,
          69,
          70,
          71,
          72,
          73,
          74,
          75,
          76,
          77,
          78,
          79,
          80,
          81,
          82,
          83,
          84,
          85,
          86,
          87,
          88,
          89,
          90,
          91,
          92,
          93,
          94,
          95,
          96,
          97,
          98,
          99
         ],
         "xaxis": "x2",
         "y": [
          2.357490366557432,
          0.7887238920940692,
          1.9731642418673365,
          0.6170325741884356,
          "",
          0.14491827956745817,
          3.5810404015380795,
          "",
          "",
          0.09261565913772862,
          1.3886150906385772,
          "",
          "",
          "",
          "",
          1.1145474081026225,
          "",
          "",
          1.1436178922175508,
          "",
          0.4780874462374611,
          2.38367878056747,
          "",
          "",
          2.6609115979285036,
          "",
          0.9647191969616107,
          1.782129721139532,
          3.4960559045607567,
          "",
          2.5414009401721707,
          "",
          1.1483307183853562,
          "",
          "",
          0.5787182940840194,
          "",
          "",
          0.33356888712508126,
          "",
          "",
          "",
          2.3601133657207574,
          0.49762433616595514,
          0.7804465006403503,
          0.09026748255550299,
          "",
          0.8680973099111504,
          0.014906723866860205,
          2.10927197179928,
          "",
          "",
          "",
          3.350690980396109,
          0.37665169996087067,
          "",
          0.24604713554554997,
          "",
          "",
          "",
          0.01834774886638224,
          2.065378289922703,
          1.1753411364352415,
          0.2993163966783871,
          "",
          2.012374000742602,
          1.380840757592447,
          2.4478319348727364,
          0.4511376737894668,
          "",
          "",
          "",
          "",
          "",
          0.0224623529821835,
          0.5649365858493537,
          "",
          1.5795866736142048,
          0.4262140638347016,
          "",
          "",
          1.719181747553944,
          1.151135696427589,
          "",
          1.6810375103144255,
          1.70765163862677,
          1.624247513358635,
          "",
          "",
          "",
          0.6630784907384659,
          "",
          "",
          1.3396949384727628,
          0.9837544212108882,
          "",
          0.15797111494769778,
          "",
          1.2171696842350668,
          ""
         ],
         "yaxis": "y2"
        },
        {
         "connectgaps": false,
         "fill": "tozeroy",
         "line": {
          "color": "red",
          "dash": "solid",
          "shape": "linear",
          "width": 0.5
         },
         "mode": "lines",
         "name": "Spread",
         "showlegend": false,
         "type": "scatter",
         "x": [
          0,
          1,
          2,
          3,
          4,
          5,
          6,
          7,
          8,
          9,
          10,
          11,
          12,
          13,
          14,
          15,
          16,
          17,
          18,
          19,
          20,
          21,
          22,
          23,
          24,
          25,
          26,
          27,
          28,
          29,
          30,
          31,
          32,
          33,
          34,
          35,
          36,
          37,
          38,
          39,
          40,
          41,
          42,
          43,
          44,
          45,
          46,
          47,
          48,
          49,
          50,
          51,
          52,
          53,
          54,
          55,
          56,
          57,
          58,
          59,
          60,
          61,
          62,
          63,
          64,
          65,
          66,
          67,
          68,
          69,
          70,
          71,
          72,
          73,
          74,
          75,
          76,
          77,
          78,
          79,
          80,
          81,
          82,
          83,
          84,
          85,
          86,
          87,
          88,
          89,
          90,
          91,
          92,
          93,
          94,
          95,
          96,
          97,
          98,
          99
         ],
         "xaxis": "x2",
         "y": [
          "",
          "",
          "",
          "",
          -0.2553416544314598,
          "",
          "",
          -0.24260425693374066,
          -3.0324754972657564,
          "",
          "",
          -0.8708488331940964,
          -0.780080965148412,
          -1.6331616851717639,
          -0.6233657699983298,
          "",
          -0.5561788813673404,
          -1.4334901713096055,
          "",
          -0.018162678991276576,
          "",
          "",
          -1.6924881197563377,
          -0.4464686772833013,
          "",
          -0.5204350631635875,
          "",
          "",
          "",
          -0.0239563013601225,
          "",
          -0.5079477644388599,
          "",
          -1.4455492094749602,
          -0.14592047525374507,
          "",
          -3.1029419735245547,
          -0.9439109779640189,
          "",
          -0.2027279176254402,
          -2.3317047620991467,
          -0.8717861715521131,
          "",
          "",
          "",
          "",
          -1.1250710787615739,
          "",
          "",
          "",
          -1.663053360902612,
          -1.9882026617933746,
          -0.35982114930043624,
          "",
          "",
          -0.7713814510688385,
          "",
          -0.8083825125247245,
          -1.9887935373780206,
          -2.5978337204433477,
          "",
          "",
          "",
          "",
          -0.01576070441106715,
          "",
          "",
          "",
          "",
          -2.3176026714914473,
          -1.1252783869878304,
          -1.2870858894629766,
          -0.4826659970868956,
          -1.1552351996799133,
          "",
          "",
          -1.339724751011228,
          "",
          "",
          -0.913616865923123,
          -0.3939730032090747,
          "",
          "",
          -0.6006035525313866,
          "",
          "",
          "",
          -2.0323132623697155,
          -0.5514556024582942,
          -1.3676731494091183,
          "",
          -0.8925387127717508,
          -1.5983876914898785,
          "",
          "",
          -0.04404282654985292,
          "",
          -1.4123834596873952,
          "",
          -0.7498394322280107
         ],
         "yaxis": "y2"
        }
       ],
       "layout": {
        "hovermode": "x",
        "legend": {
         "bgcolor": "#F5F6F9",
         "font": {
          "color": "#4D5663"
         }
        },
        "paper_bgcolor": "#F5F6F9",
        "plot_bgcolor": "#F5F6F9",
        "template": {
         "data": {
          "bar": [
           {
            "error_x": {
             "color": "#2a3f5f"
            },
            "error_y": {
             "color": "#2a3f5f"
            },
            "marker": {
             "line": {
              "color": "#E5ECF6",
              "width": 0.5
             }
            },
            "type": "bar"
           }
          ],
          "barpolar": [
           {
            "marker": {
             "line": {
              "color": "#E5ECF6",
              "width": 0.5
             }
            },
            "type": "barpolar"
           }
          ],
          "carpet": [
           {
            "aaxis": {
             "endlinecolor": "#2a3f5f",
             "gridcolor": "white",
             "linecolor": "white",
             "minorgridcolor": "white",
             "startlinecolor": "#2a3f5f"
            },
            "baxis": {
             "endlinecolor": "#2a3f5f",
             "gridcolor": "white",
             "linecolor": "white",
             "minorgridcolor": "white",
             "startlinecolor": "#2a3f5f"
            },
            "type": "carpet"
           }
          ],
          "choropleth": [
           {
            "colorbar": {
             "outlinewidth": 0,
             "ticks": ""
            },
            "type": "choropleth"
           }
          ],
          "contour": [
           {
            "colorbar": {
             "outlinewidth": 0,
             "ticks": ""
            },
            "colorscale": [
             [
              0,
              "#0d0887"
             ],
             [
              0.1111111111111111,
              "#46039f"
             ],
             [
              0.2222222222222222,
              "#7201a8"
             ],
             [
              0.3333333333333333,
              "#9c179e"
             ],
             [
              0.4444444444444444,
              "#bd3786"
             ],
             [
              0.5555555555555556,
              "#d8576b"
             ],
             [
              0.6666666666666666,
              "#ed7953"
             ],
             [
              0.7777777777777778,
              "#fb9f3a"
             ],
             [
              0.8888888888888888,
              "#fdca26"
             ],
             [
              1,
              "#f0f921"
             ]
            ],
            "type": "contour"
           }
          ],
          "contourcarpet": [
           {
            "colorbar": {
             "outlinewidth": 0,
             "ticks": ""
            },
            "type": "contourcarpet"
           }
          ],
          "heatmap": [
           {
            "colorbar": {
             "outlinewidth": 0,
             "ticks": ""
            },
            "colorscale": [
             [
              0,
              "#0d0887"
             ],
             [
              0.1111111111111111,
              "#46039f"
             ],
             [
              0.2222222222222222,
              "#7201a8"
             ],
             [
              0.3333333333333333,
              "#9c179e"
             ],
             [
              0.4444444444444444,
              "#bd3786"
             ],
             [
              0.5555555555555556,
              "#d8576b"
             ],
             [
              0.6666666666666666,
              "#ed7953"
             ],
             [
              0.7777777777777778,
              "#fb9f3a"
             ],
             [
              0.8888888888888888,
              "#fdca26"
             ],
             [
              1,
              "#f0f921"
             ]
            ],
            "type": "heatmap"
           }
          ],
          "heatmapgl": [
           {
            "colorbar": {
             "outlinewidth": 0,
             "ticks": ""
            },
            "colorscale": [
             [
              0,
              "#0d0887"
             ],
             [
              0.1111111111111111,
              "#46039f"
             ],
             [
              0.2222222222222222,
              "#7201a8"
             ],
             [
              0.3333333333333333,
              "#9c179e"
             ],
             [
              0.4444444444444444,
              "#bd3786"
             ],
             [
              0.5555555555555556,
              "#d8576b"
             ],
             [
              0.6666666666666666,
              "#ed7953"
             ],
             [
              0.7777777777777778,
              "#fb9f3a"
             ],
             [
              0.8888888888888888,
              "#fdca26"
             ],
             [
              1,
              "#f0f921"
             ]
            ],
            "type": "heatmapgl"
           }
          ],
          "histogram": [
           {
            "marker": {
             "colorbar": {
              "outlinewidth": 0,
              "ticks": ""
             }
            },
            "type": "histogram"
           }
          ],
          "histogram2d": [
           {
            "colorbar": {
             "outlinewidth": 0,
             "ticks": ""
            },
            "colorscale": [
             [
              0,
              "#0d0887"
             ],
             [
              0.1111111111111111,
              "#46039f"
             ],
             [
              0.2222222222222222,
              "#7201a8"
             ],
             [
              0.3333333333333333,
              "#9c179e"
             ],
             [
              0.4444444444444444,
              "#bd3786"
             ],
             [
              0.5555555555555556,
              "#d8576b"
             ],
             [
              0.6666666666666666,
              "#ed7953"
             ],
             [
              0.7777777777777778,
              "#fb9f3a"
             ],
             [
              0.8888888888888888,
              "#fdca26"
             ],
             [
              1,
              "#f0f921"
             ]
            ],
            "type": "histogram2d"
           }
          ],
          "histogram2dcontour": [
           {
            "colorbar": {
             "outlinewidth": 0,
             "ticks": ""
            },
            "colorscale": [
             [
              0,
              "#0d0887"
             ],
             [
              0.1111111111111111,
              "#46039f"
             ],
             [
              0.2222222222222222,
              "#7201a8"
             ],
             [
              0.3333333333333333,
              "#9c179e"
             ],
             [
              0.4444444444444444,
              "#bd3786"
             ],
             [
              0.5555555555555556,
              "#d8576b"
             ],
             [
              0.6666666666666666,
              "#ed7953"
             ],
             [
              0.7777777777777778,
              "#fb9f3a"
             ],
             [
              0.8888888888888888,
              "#fdca26"
             ],
             [
              1,
              "#f0f921"
             ]
            ],
            "type": "histogram2dcontour"
           }
          ],
          "mesh3d": [
           {
            "colorbar": {
             "outlinewidth": 0,
             "ticks": ""
            },
            "type": "mesh3d"
           }
          ],
          "parcoords": [
           {
            "line": {
             "colorbar": {
              "outlinewidth": 0,
              "ticks": ""
             }
            },
            "type": "parcoords"
           }
          ],
          "pie": [
           {
            "automargin": true,
            "type": "pie"
           }
          ],
          "scatter": [
           {
            "marker": {
             "colorbar": {
              "outlinewidth": 0,
              "ticks": ""
             }
            },
            "type": "scatter"
           }
          ],
          "scatter3d": [
           {
            "line": {
             "colorbar": {
              "outlinewidth": 0,
              "ticks": ""
             }
            },
            "marker": {
             "colorbar": {
              "outlinewidth": 0,
              "ticks": ""
             }
            },
            "type": "scatter3d"
           }
          ],
          "scattercarpet": [
           {
            "marker": {
             "colorbar": {
              "outlinewidth": 0,
              "ticks": ""
             }
            },
            "type": "scattercarpet"
           }
          ],
          "scattergeo": [
           {
            "marker": {
             "colorbar": {
              "outlinewidth": 0,
              "ticks": ""
             }
            },
            "type": "scattergeo"
           }
          ],
          "scattergl": [
           {
            "marker": {
             "colorbar": {
              "outlinewidth": 0,
              "ticks": ""
             }
            },
            "type": "scattergl"
           }
          ],
          "scattermapbox": [
           {
            "marker": {
             "colorbar": {
              "outlinewidth": 0,
              "ticks": ""
             }
            },
            "type": "scattermapbox"
           }
          ],
          "scatterpolar": [
           {
            "marker": {
             "colorbar": {
              "outlinewidth": 0,
              "ticks": ""
             }
            },
            "type": "scatterpolar"
           }
          ],
          "scatterpolargl": [
           {
            "marker": {
             "colorbar": {
              "outlinewidth": 0,
              "ticks": ""
             }
            },
            "type": "scatterpolargl"
           }
          ],
          "scatterternary": [
           {
            "marker": {
             "colorbar": {
              "outlinewidth": 0,
              "ticks": ""
             }
            },
            "type": "scatterternary"
           }
          ],
          "surface": [
           {
            "colorbar": {
             "outlinewidth": 0,
             "ticks": ""
            },
            "colorscale": [
             [
              0,
              "#0d0887"
             ],
             [
              0.1111111111111111,
              "#46039f"
             ],
             [
              0.2222222222222222,
              "#7201a8"
             ],
             [
              0.3333333333333333,
              "#9c179e"
             ],
             [
              0.4444444444444444,
              "#bd3786"
             ],
             [
              0.5555555555555556,
              "#d8576b"
             ],
             [
              0.6666666666666666,
              "#ed7953"
             ],
             [
              0.7777777777777778,
              "#fb9f3a"
             ],
             [
              0.8888888888888888,
              "#fdca26"
             ],
             [
              1,
              "#f0f921"
             ]
            ],
            "type": "surface"
           }
          ],
          "table": [
           {
            "cells": {
             "fill": {
              "color": "#EBF0F8"
             },
             "line": {
              "color": "white"
             }
            },
            "header": {
             "fill": {
              "color": "#C8D4E3"
             },
             "line": {
              "color": "white"
             }
            },
            "type": "table"
           }
          ]
         },
         "layout": {
          "annotationdefaults": {
           "arrowcolor": "#2a3f5f",
           "arrowhead": 0,
           "arrowwidth": 1
          },
          "coloraxis": {
           "colorbar": {
            "outlinewidth": 0,
            "ticks": ""
           }
          },
          "colorscale": {
           "diverging": [
            [
             0,
             "#8e0152"
            ],
            [
             0.1,
             "#c51b7d"
            ],
            [
             0.2,
             "#de77ae"
            ],
            [
             0.3,
             "#f1b6da"
            ],
            [
             0.4,
             "#fde0ef"
            ],
            [
             0.5,
             "#f7f7f7"
            ],
            [
             0.6,
             "#e6f5d0"
            ],
            [
             0.7,
             "#b8e186"
            ],
            [
             0.8,
             "#7fbc41"
            ],
            [
             0.9,
             "#4d9221"
            ],
            [
             1,
             "#276419"
            ]
           ],
           "sequential": [
            [
             0,
             "#0d0887"
            ],
            [
             0.1111111111111111,
             "#46039f"
            ],
            [
             0.2222222222222222,
             "#7201a8"
            ],
            [
             0.3333333333333333,
             "#9c179e"
            ],
            [
             0.4444444444444444,
             "#bd3786"
            ],
            [
             0.5555555555555556,
             "#d8576b"
            ],
            [
             0.6666666666666666,
             "#ed7953"
            ],
            [
             0.7777777777777778,
             "#fb9f3a"
            ],
            [
             0.8888888888888888,
             "#fdca26"
            ],
            [
             1,
             "#f0f921"
            ]
           ],
           "sequentialminus": [
            [
             0,
             "#0d0887"
            ],
            [
             0.1111111111111111,
             "#46039f"
            ],
            [
             0.2222222222222222,
             "#7201a8"
            ],
            [
             0.3333333333333333,
             "#9c179e"
            ],
            [
             0.4444444444444444,
             "#bd3786"
            ],
            [
             0.5555555555555556,
             "#d8576b"
            ],
            [
             0.6666666666666666,
             "#ed7953"
            ],
            [
             0.7777777777777778,
             "#fb9f3a"
            ],
            [
             0.8888888888888888,
             "#fdca26"
            ],
            [
             1,
             "#f0f921"
            ]
           ]
          },
          "colorway": [
           "#636efa",
           "#EF553B",
           "#00cc96",
           "#ab63fa",
           "#FFA15A",
           "#19d3f3",
           "#FF6692",
           "#B6E880",
           "#FF97FF",
           "#FECB52"
          ],
          "font": {
           "color": "#2a3f5f"
          },
          "geo": {
           "bgcolor": "white",
           "lakecolor": "white",
           "landcolor": "#E5ECF6",
           "showlakes": true,
           "showland": true,
           "subunitcolor": "white"
          },
          "hoverlabel": {
           "align": "left"
          },
          "hovermode": "closest",
          "mapbox": {
           "style": "light"
          },
          "paper_bgcolor": "white",
          "plot_bgcolor": "#E5ECF6",
          "polar": {
           "angularaxis": {
            "gridcolor": "white",
            "linecolor": "white",
            "ticks": ""
           },
           "bgcolor": "#E5ECF6",
           "radialaxis": {
            "gridcolor": "white",
            "linecolor": "white",
            "ticks": ""
           }
          },
          "scene": {
           "xaxis": {
            "backgroundcolor": "#E5ECF6",
            "gridcolor": "white",
            "gridwidth": 2,
            "linecolor": "white",
            "showbackground": true,
            "ticks": "",
            "zerolinecolor": "white"
           },
           "yaxis": {
            "backgroundcolor": "#E5ECF6",
            "gridcolor": "white",
            "gridwidth": 2,
            "linecolor": "white",
            "showbackground": true,
            "ticks": "",
            "zerolinecolor": "white"
           },
           "zaxis": {
            "backgroundcolor": "#E5ECF6",
            "gridcolor": "white",
            "gridwidth": 2,
            "linecolor": "white",
            "showbackground": true,
            "ticks": "",
            "zerolinecolor": "white"
           }
          },
          "shapedefaults": {
           "line": {
            "color": "#2a3f5f"
           }
          },
          "ternary": {
           "aaxis": {
            "gridcolor": "white",
            "linecolor": "white",
            "ticks": ""
           },
           "baxis": {
            "gridcolor": "white",
            "linecolor": "white",
            "ticks": ""
           },
           "bgcolor": "#E5ECF6",
           "caxis": {
            "gridcolor": "white",
            "linecolor": "white",
            "ticks": ""
           }
          },
          "title": {
           "x": 0.05
          },
          "xaxis": {
           "automargin": true,
           "gridcolor": "white",
           "linecolor": "white",
           "ticks": "",
           "title": {
            "standoff": 15
           },
           "zerolinecolor": "white",
           "zerolinewidth": 2
          },
          "yaxis": {
           "automargin": true,
           "gridcolor": "white",
           "linecolor": "white",
           "ticks": "",
           "title": {
            "standoff": 15
           },
           "zerolinecolor": "white",
           "zerolinewidth": 2
          }
         }
        },
        "title": {
         "font": {
          "color": "#4D5663"
         }
        },
        "xaxis": {
         "gridcolor": "#E1E5ED",
         "showgrid": true,
         "tickfont": {
          "color": "#4D5663"
         },
         "title": {
          "font": {
           "color": "#4D5663"
          },
          "text": ""
         },
         "zerolinecolor": "#E1E5ED"
        },
        "xaxis2": {
         "anchor": "y2",
         "gridcolor": "#E1E5ED",
         "showgrid": true,
         "showticklabels": false,
         "tickfont": {
          "color": "#4D5663"
         },
         "title": {
          "font": {
           "color": "#4D5663"
          },
          "text": ""
         },
         "zerolinecolor": "#E1E5ED"
        },
        "yaxis": {
         "domain": [
          0.3,
          1
         ],
         "gridcolor": "#E1E5ED",
         "showgrid": true,
         "tickfont": {
          "color": "#4D5663"
         },
         "title": {
          "font": {
           "color": "#4D5663"
          },
          "text": ""
         },
         "zerolinecolor": "#E1E5ED"
        },
        "yaxis2": {
         "domain": [
          0,
          0.25
         ],
         "gridcolor": "#E1E5ED",
         "showgrid": true,
         "tickfont": {
          "color": "#4D5663"
         },
         "title": {
          "font": {
           "color": "#4D5663"
          },
          "text": "Spread"
         },
         "zerolinecolor": "#E1E5ED"
        }
       }
      },
      "text/html": [
       "<div>                            <div id=\"41987590-2ab1-4096-ae9e-d6ec25395e8a\" class=\"plotly-graph-div\" style=\"height:525px; width:100%;\"></div>            <script type=\"text/javascript\">                require([\"plotly\"], function(Plotly) {                    window.PLOTLYENV=window.PLOTLYENV || {};\n",
       "                    window.PLOTLYENV.BASE_URL='https://plot.ly';                                    if (document.getElementById(\"41987590-2ab1-4096-ae9e-d6ec25395e8a\")) {                    Plotly.newPlot(                        \"41987590-2ab1-4096-ae9e-d6ec25395e8a\",                        [{\"line\": {\"color\": \"rgba(255, 153, 51, 1.0)\", \"dash\": \"solid\", \"shape\": \"linear\", \"width\": 1.3}, \"mode\": \"lines\", \"name\": \"A\", \"text\": \"\", \"type\": \"scatter\", \"x\": [0, 1, 2, 3, 4, 5, 6, 7, 8, 9, 10, 11, 12, 13, 14, 15, 16, 17, 18, 19, 20, 21, 22, 23, 24, 25, 26, 27, 28, 29, 30, 31, 32, 33, 34, 35, 36, 37, 38, 39, 40, 41, 42, 43, 44, 45, 46, 47, 48, 49, 50, 51, 52, 53, 54, 55, 56, 57, 58, 59, 60, 61, 62, 63, 64, 65, 66, 67, 68, 69, 70, 71, 72, 73, 74, 75, 76, 77, 78, 79, 80, 81, 82, 83, 84, 85, 86, 87, 88, 89, 90, 91, 92, 93, 94, 95, 96, 97, 98, 99], \"y\": [2.0098763595893336, 1.5854346850248688, 0.9517284968551595, 1.4209384421391142, 0.026688111038718355, 1.7742246940980553, 0.16997405066218702, -1.1663731149184284, -1.687555765778785, -0.9638359759236773, 0.31948585690353737, 0.45206655019272324, -0.5856593578130521, -1.3331664488301078, -0.18227467538397016, 1.0331832394221976, 0.37414095900530886, -1.3746069162300292, 1.8832078334627544, -0.16909971811806357, -0.32927926569287375, 0.2627032205145867, -0.3598102265304865, 0.5447321941036315, 1.6100120651269116, -0.3804397268147677, 0.1473620328561745, 1.6691747558384904, 1.8148257699582853, 1.0180855824554613, 2.766422169747134, 0.6612450177603737, 0.2986153846044228, -1.7053592704223286, -0.6711464446025099, -0.16294248127431257, -1.76502064308557, 0.056206938499821404, -0.7066819603495336, -0.2541191740775342, -1.5744224819850823, 0.4424197673183819, 0.9446253816575055, 0.23631706594971114, 0.14785287447786766, 0.22500275896921618, -0.013301170787457814, 0.2315655094459254, 0.6735331950306841, -0.10790761675412006, -1.5498459914408311, -0.41529924792912287, -0.22878419631577793, 2.3889340441169504, -0.5011363683382322, -0.18138728609572885, 0.10481645267669726, 0.7086729341837882, -1.4574933521470606, -2.276244891933633, -0.928082898567579, 0.22469067595539435, 0.5161213606538004, 0.24896276094352396, -0.017016592599865137, -0.2353009091061637, 0.6210256252215713, 1.0259839308083618, -0.05291468044019354, -1.2015439091389342, 0.20200327029328774, -0.3229245198595919, 0.5524528833109041, -0.4028777637706296, -0.059882638309787274, 0.12775951718529485, -0.17957320771266141, 1.0269177088172363, 1.1771880686524667, -0.6395966666807401, 0.3744607968230148, 0.641740461644252, -1.0076463847201, 0.02226447529627381, 0.2190566031008649, -0.643633189304614, 1.2638889727273173, -0.48892495679508047, 0.059705931132288816, -0.9664065644091091, 1.095398828129973, -0.8408864989043608, -0.871759542343419, -0.1856655404692126, 0.18088575006579746, 1.2747503019467712, -0.4396286084094133, -1.1740229644234133, 0.1367868730401681, 0.5003571614833707]}, {\"line\": {\"color\": \"rgba(55, 128, 191, 1.0)\", \"dash\": \"solid\", \"shape\": \"linear\", \"width\": 1.3}, \"mode\": \"lines\", \"name\": \"B\", \"text\": \"\", \"type\": \"scatter\", \"x\": [0, 1, 2, 3, 4, 5, 6, 7, 8, 9, 10, 11, 12, 13, 14, 15, 16, 17, 18, 19, 20, 21, 22, 23, 24, 25, 26, 27, 28, 29, 30, 31, 32, 33, 34, 35, 36, 37, 38, 39, 40, 41, 42, 43, 44, 45, 46, 47, 48, 49, 50, 51, 52, 53, 54, 55, 56, 57, 58, 59, 60, 61, 62, 63, 64, 65, 66, 67, 68, 69, 70, 71, 72, 73, 74, 75, 76, 77, 78, 79, 80, 81, 82, 83, 84, 85, 86, 87, 88, 89, 90, 91, 92, 93, 94, 95, 96, 97, 98, 99], \"y\": [-0.34761400696809835, 0.7967107929307996, -1.021435745012177, 0.8039058679506786, 0.28202976547017816, 1.629306414530597, -3.4110663508758923, -0.9237688579846878, 1.3449197314869716, -1.056451635061406, -1.0691292337350398, 1.3229153833868197, 0.1944216073353599, 0.299995236341656, 0.44109109461435964, -0.08136416868042488, 0.9303198403726493, 0.05888325507957637, 0.7395899412452036, -0.150937039126787, -0.8073667119303348, -2.1209755600528832, 1.3326778932258512, 0.9912008713869328, -1.0508995328015918, 0.13999533634881983, -0.8173571641054362, -0.11295496530104156, -1.6812301346024714, 1.0420418838155838, 0.2250212295749634, 1.1691927821992336, -0.8497153337809334, -0.2598100609473683, -0.5252259693487649, -0.741660775358332, 1.3379213304389845, 1.0001179164638403, -1.0402508474746148, -0.051391256452094, 0.7572822801140646, 1.314205938870495, -1.415487984063252, -0.261307270216244, -0.6325936261624826, 0.1347352764137132, 1.1117699079741161, -0.6365318004652251, 0.6586264711638239, -2.2171795885534, 0.11320736946178084, 1.5729034138642517, 0.1310369529846583, -0.9617569362791584, -0.8777880682991028, 0.5899941649731096, -0.1412306828688527, 1.5170554467085127, 0.53130018523096, 0.32158882850971465, -0.9464306474339612, -1.8406876139673087, -0.6592197757814411, -0.05035363573486317, -0.0012558881887979863, -2.2476749098487656, -0.7598151323708757, -1.4218480040643744, -0.5040523542296603, 1.1160587623525131, 1.3272816572811181, 0.9641613696033847, 1.0351188803977998, 0.7523574359092837, -0.08234499129197077, -0.43717706866405887, 1.1601515432985665, -0.5526689647969686, 0.7509740048177651, 0.27402019924238286, 0.7684338000320895, -1.0774412859096918, -2.158782081147689, 0.6228680278276605, -1.4619809072135606, -2.351284827931384, -0.36035854063131767, 1.5433883055746351, 0.611161533590583, 0.40126658500000917, 0.432320337391507, 0.05165221386738992, 0.7266281491464596, -1.5253604789419755, -0.8028686711450908, 1.3187931284966241, -0.5975997233571111, 0.238360495263982, -1.0803828111948988, 1.2501965937113815]}, {\"connectgaps\": false, \"fill\": \"tozeroy\", \"line\": {\"color\": \"green\", \"dash\": \"solid\", \"shape\": \"linear\", \"width\": 0.5}, \"mode\": \"lines\", \"name\": \"Spread\", \"showlegend\": false, \"type\": \"scatter\", \"x\": [0, 1, 2, 3, 4, 5, 6, 7, 8, 9, 10, 11, 12, 13, 14, 15, 16, 17, 18, 19, 20, 21, 22, 23, 24, 25, 26, 27, 28, 29, 30, 31, 32, 33, 34, 35, 36, 37, 38, 39, 40, 41, 42, 43, 44, 45, 46, 47, 48, 49, 50, 51, 52, 53, 54, 55, 56, 57, 58, 59, 60, 61, 62, 63, 64, 65, 66, 67, 68, 69, 70, 71, 72, 73, 74, 75, 76, 77, 78, 79, 80, 81, 82, 83, 84, 85, 86, 87, 88, 89, 90, 91, 92, 93, 94, 95, 96, 97, 98, 99], \"xaxis\": \"x2\", \"y\": [2.357490366557432, 0.7887238920940692, 1.9731642418673365, 0.6170325741884356, \"\", 0.14491827956745817, 3.5810404015380795, \"\", \"\", 0.09261565913772862, 1.3886150906385772, \"\", \"\", \"\", \"\", 1.1145474081026225, \"\", \"\", 1.1436178922175508, \"\", 0.4780874462374611, 2.38367878056747, \"\", \"\", 2.6609115979285036, \"\", 0.9647191969616107, 1.782129721139532, 3.4960559045607567, \"\", 2.5414009401721707, \"\", 1.1483307183853562, \"\", \"\", 0.5787182940840194, \"\", \"\", 0.33356888712508126, \"\", \"\", \"\", 2.3601133657207574, 0.49762433616595514, 0.7804465006403503, 0.09026748255550299, \"\", 0.8680973099111504, 0.014906723866860205, 2.10927197179928, \"\", \"\", \"\", 3.350690980396109, 0.37665169996087067, \"\", 0.24604713554554997, \"\", \"\", \"\", 0.01834774886638224, 2.065378289922703, 1.1753411364352415, 0.2993163966783871, \"\", 2.012374000742602, 1.380840757592447, 2.4478319348727364, 0.4511376737894668, \"\", \"\", \"\", \"\", \"\", 0.0224623529821835, 0.5649365858493537, \"\", 1.5795866736142048, 0.4262140638347016, \"\", \"\", 1.719181747553944, 1.151135696427589, \"\", 1.6810375103144255, 1.70765163862677, 1.624247513358635, \"\", \"\", \"\", 0.6630784907384659, \"\", \"\", 1.3396949384727628, 0.9837544212108882, \"\", 0.15797111494769778, \"\", 1.2171696842350668, \"\"], \"yaxis\": \"y2\"}, {\"connectgaps\": false, \"fill\": \"tozeroy\", \"line\": {\"color\": \"red\", \"dash\": \"solid\", \"shape\": \"linear\", \"width\": 0.5}, \"mode\": \"lines\", \"name\": \"Spread\", \"showlegend\": false, \"type\": \"scatter\", \"x\": [0, 1, 2, 3, 4, 5, 6, 7, 8, 9, 10, 11, 12, 13, 14, 15, 16, 17, 18, 19, 20, 21, 22, 23, 24, 25, 26, 27, 28, 29, 30, 31, 32, 33, 34, 35, 36, 37, 38, 39, 40, 41, 42, 43, 44, 45, 46, 47, 48, 49, 50, 51, 52, 53, 54, 55, 56, 57, 58, 59, 60, 61, 62, 63, 64, 65, 66, 67, 68, 69, 70, 71, 72, 73, 74, 75, 76, 77, 78, 79, 80, 81, 82, 83, 84, 85, 86, 87, 88, 89, 90, 91, 92, 93, 94, 95, 96, 97, 98, 99], \"xaxis\": \"x2\", \"y\": [\"\", \"\", \"\", \"\", -0.2553416544314598, \"\", \"\", -0.24260425693374066, -3.0324754972657564, \"\", \"\", -0.8708488331940964, -0.780080965148412, -1.6331616851717639, -0.6233657699983298, \"\", -0.5561788813673404, -1.4334901713096055, \"\", -0.018162678991276576, \"\", \"\", -1.6924881197563377, -0.4464686772833013, \"\", -0.5204350631635875, \"\", \"\", \"\", -0.0239563013601225, \"\", -0.5079477644388599, \"\", -1.4455492094749602, -0.14592047525374507, \"\", -3.1029419735245547, -0.9439109779640189, \"\", -0.2027279176254402, -2.3317047620991467, -0.8717861715521131, \"\", \"\", \"\", \"\", -1.1250710787615739, \"\", \"\", \"\", -1.663053360902612, -1.9882026617933746, -0.35982114930043624, \"\", \"\", -0.7713814510688385, \"\", -0.8083825125247245, -1.9887935373780206, -2.5978337204433477, \"\", \"\", \"\", \"\", -0.01576070441106715, \"\", \"\", \"\", \"\", -2.3176026714914473, -1.1252783869878304, -1.2870858894629766, -0.4826659970868956, -1.1552351996799133, \"\", \"\", -1.339724751011228, \"\", \"\", -0.913616865923123, -0.3939730032090747, \"\", \"\", -0.6006035525313866, \"\", \"\", \"\", -2.0323132623697155, -0.5514556024582942, -1.3676731494091183, \"\", -0.8925387127717508, -1.5983876914898785, \"\", \"\", -0.04404282654985292, \"\", -1.4123834596873952, \"\", -0.7498394322280107], \"yaxis\": \"y2\"}],                        {\"hovermode\": \"x\", \"legend\": {\"bgcolor\": \"#F5F6F9\", \"font\": {\"color\": \"#4D5663\"}}, \"paper_bgcolor\": \"#F5F6F9\", \"plot_bgcolor\": \"#F5F6F9\", \"template\": {\"data\": {\"bar\": [{\"error_x\": {\"color\": \"#2a3f5f\"}, \"error_y\": {\"color\": \"#2a3f5f\"}, \"marker\": {\"line\": {\"color\": \"#E5ECF6\", \"width\": 0.5}}, \"type\": \"bar\"}], \"barpolar\": [{\"marker\": {\"line\": {\"color\": \"#E5ECF6\", \"width\": 0.5}}, \"type\": \"barpolar\"}], \"carpet\": [{\"aaxis\": {\"endlinecolor\": \"#2a3f5f\", \"gridcolor\": \"white\", \"linecolor\": \"white\", \"minorgridcolor\": \"white\", \"startlinecolor\": \"#2a3f5f\"}, \"baxis\": {\"endlinecolor\": \"#2a3f5f\", \"gridcolor\": \"white\", \"linecolor\": \"white\", \"minorgridcolor\": \"white\", \"startlinecolor\": \"#2a3f5f\"}, \"type\": \"carpet\"}], \"choropleth\": [{\"colorbar\": {\"outlinewidth\": 0, \"ticks\": \"\"}, \"type\": \"choropleth\"}], \"contour\": [{\"colorbar\": {\"outlinewidth\": 0, \"ticks\": \"\"}, \"colorscale\": [[0.0, \"#0d0887\"], [0.1111111111111111, \"#46039f\"], [0.2222222222222222, \"#7201a8\"], [0.3333333333333333, \"#9c179e\"], [0.4444444444444444, \"#bd3786\"], [0.5555555555555556, \"#d8576b\"], [0.6666666666666666, \"#ed7953\"], [0.7777777777777778, \"#fb9f3a\"], [0.8888888888888888, \"#fdca26\"], [1.0, \"#f0f921\"]], \"type\": \"contour\"}], \"contourcarpet\": [{\"colorbar\": {\"outlinewidth\": 0, \"ticks\": \"\"}, \"type\": \"contourcarpet\"}], \"heatmap\": [{\"colorbar\": {\"outlinewidth\": 0, \"ticks\": \"\"}, \"colorscale\": [[0.0, \"#0d0887\"], [0.1111111111111111, \"#46039f\"], [0.2222222222222222, \"#7201a8\"], [0.3333333333333333, \"#9c179e\"], [0.4444444444444444, \"#bd3786\"], [0.5555555555555556, \"#d8576b\"], [0.6666666666666666, \"#ed7953\"], [0.7777777777777778, \"#fb9f3a\"], [0.8888888888888888, \"#fdca26\"], [1.0, \"#f0f921\"]], \"type\": \"heatmap\"}], \"heatmapgl\": [{\"colorbar\": {\"outlinewidth\": 0, \"ticks\": \"\"}, \"colorscale\": [[0.0, \"#0d0887\"], [0.1111111111111111, \"#46039f\"], [0.2222222222222222, \"#7201a8\"], [0.3333333333333333, \"#9c179e\"], [0.4444444444444444, \"#bd3786\"], [0.5555555555555556, \"#d8576b\"], [0.6666666666666666, \"#ed7953\"], [0.7777777777777778, \"#fb9f3a\"], [0.8888888888888888, \"#fdca26\"], [1.0, \"#f0f921\"]], \"type\": \"heatmapgl\"}], \"histogram\": [{\"marker\": {\"colorbar\": {\"outlinewidth\": 0, \"ticks\": \"\"}}, \"type\": \"histogram\"}], \"histogram2d\": [{\"colorbar\": {\"outlinewidth\": 0, \"ticks\": \"\"}, \"colorscale\": [[0.0, \"#0d0887\"], [0.1111111111111111, \"#46039f\"], [0.2222222222222222, \"#7201a8\"], [0.3333333333333333, \"#9c179e\"], [0.4444444444444444, \"#bd3786\"], [0.5555555555555556, \"#d8576b\"], [0.6666666666666666, \"#ed7953\"], [0.7777777777777778, \"#fb9f3a\"], [0.8888888888888888, \"#fdca26\"], [1.0, \"#f0f921\"]], \"type\": \"histogram2d\"}], \"histogram2dcontour\": [{\"colorbar\": {\"outlinewidth\": 0, \"ticks\": \"\"}, \"colorscale\": [[0.0, \"#0d0887\"], [0.1111111111111111, \"#46039f\"], [0.2222222222222222, \"#7201a8\"], [0.3333333333333333, \"#9c179e\"], [0.4444444444444444, \"#bd3786\"], [0.5555555555555556, \"#d8576b\"], [0.6666666666666666, \"#ed7953\"], [0.7777777777777778, \"#fb9f3a\"], [0.8888888888888888, \"#fdca26\"], [1.0, \"#f0f921\"]], \"type\": \"histogram2dcontour\"}], \"mesh3d\": [{\"colorbar\": {\"outlinewidth\": 0, \"ticks\": \"\"}, \"type\": \"mesh3d\"}], \"parcoords\": [{\"line\": {\"colorbar\": {\"outlinewidth\": 0, \"ticks\": \"\"}}, \"type\": \"parcoords\"}], \"pie\": [{\"automargin\": true, \"type\": \"pie\"}], \"scatter\": [{\"marker\": {\"colorbar\": {\"outlinewidth\": 0, \"ticks\": \"\"}}, \"type\": \"scatter\"}], \"scatter3d\": [{\"line\": {\"colorbar\": {\"outlinewidth\": 0, \"ticks\": \"\"}}, \"marker\": {\"colorbar\": {\"outlinewidth\": 0, \"ticks\": \"\"}}, \"type\": \"scatter3d\"}], \"scattercarpet\": [{\"marker\": {\"colorbar\": {\"outlinewidth\": 0, \"ticks\": \"\"}}, \"type\": \"scattercarpet\"}], \"scattergeo\": [{\"marker\": {\"colorbar\": {\"outlinewidth\": 0, \"ticks\": \"\"}}, \"type\": \"scattergeo\"}], \"scattergl\": [{\"marker\": {\"colorbar\": {\"outlinewidth\": 0, \"ticks\": \"\"}}, \"type\": \"scattergl\"}], \"scattermapbox\": [{\"marker\": {\"colorbar\": {\"outlinewidth\": 0, \"ticks\": \"\"}}, \"type\": \"scattermapbox\"}], \"scatterpolar\": [{\"marker\": {\"colorbar\": {\"outlinewidth\": 0, \"ticks\": \"\"}}, \"type\": \"scatterpolar\"}], \"scatterpolargl\": [{\"marker\": {\"colorbar\": {\"outlinewidth\": 0, \"ticks\": \"\"}}, \"type\": \"scatterpolargl\"}], \"scatterternary\": [{\"marker\": {\"colorbar\": {\"outlinewidth\": 0, \"ticks\": \"\"}}, \"type\": \"scatterternary\"}], \"surface\": [{\"colorbar\": {\"outlinewidth\": 0, \"ticks\": \"\"}, \"colorscale\": [[0.0, \"#0d0887\"], [0.1111111111111111, \"#46039f\"], [0.2222222222222222, \"#7201a8\"], [0.3333333333333333, \"#9c179e\"], [0.4444444444444444, \"#bd3786\"], [0.5555555555555556, \"#d8576b\"], [0.6666666666666666, \"#ed7953\"], [0.7777777777777778, \"#fb9f3a\"], [0.8888888888888888, \"#fdca26\"], [1.0, \"#f0f921\"]], \"type\": \"surface\"}], \"table\": [{\"cells\": {\"fill\": {\"color\": \"#EBF0F8\"}, \"line\": {\"color\": \"white\"}}, \"header\": {\"fill\": {\"color\": \"#C8D4E3\"}, \"line\": {\"color\": \"white\"}}, \"type\": \"table\"}]}, \"layout\": {\"annotationdefaults\": {\"arrowcolor\": \"#2a3f5f\", \"arrowhead\": 0, \"arrowwidth\": 1}, \"coloraxis\": {\"colorbar\": {\"outlinewidth\": 0, \"ticks\": \"\"}}, \"colorscale\": {\"diverging\": [[0, \"#8e0152\"], [0.1, \"#c51b7d\"], [0.2, \"#de77ae\"], [0.3, \"#f1b6da\"], [0.4, \"#fde0ef\"], [0.5, \"#f7f7f7\"], [0.6, \"#e6f5d0\"], [0.7, \"#b8e186\"], [0.8, \"#7fbc41\"], [0.9, \"#4d9221\"], [1, \"#276419\"]], \"sequential\": [[0.0, \"#0d0887\"], [0.1111111111111111, \"#46039f\"], [0.2222222222222222, \"#7201a8\"], [0.3333333333333333, \"#9c179e\"], [0.4444444444444444, \"#bd3786\"], [0.5555555555555556, \"#d8576b\"], [0.6666666666666666, \"#ed7953\"], [0.7777777777777778, \"#fb9f3a\"], [0.8888888888888888, \"#fdca26\"], [1.0, \"#f0f921\"]], \"sequentialminus\": [[0.0, \"#0d0887\"], [0.1111111111111111, \"#46039f\"], [0.2222222222222222, \"#7201a8\"], [0.3333333333333333, \"#9c179e\"], [0.4444444444444444, \"#bd3786\"], [0.5555555555555556, \"#d8576b\"], [0.6666666666666666, \"#ed7953\"], [0.7777777777777778, \"#fb9f3a\"], [0.8888888888888888, \"#fdca26\"], [1.0, \"#f0f921\"]]}, \"colorway\": [\"#636efa\", \"#EF553B\", \"#00cc96\", \"#ab63fa\", \"#FFA15A\", \"#19d3f3\", \"#FF6692\", \"#B6E880\", \"#FF97FF\", \"#FECB52\"], \"font\": {\"color\": \"#2a3f5f\"}, \"geo\": {\"bgcolor\": \"white\", \"lakecolor\": \"white\", \"landcolor\": \"#E5ECF6\", \"showlakes\": true, \"showland\": true, \"subunitcolor\": \"white\"}, \"hoverlabel\": {\"align\": \"left\"}, \"hovermode\": \"closest\", \"mapbox\": {\"style\": \"light\"}, \"paper_bgcolor\": \"white\", \"plot_bgcolor\": \"#E5ECF6\", \"polar\": {\"angularaxis\": {\"gridcolor\": \"white\", \"linecolor\": \"white\", \"ticks\": \"\"}, \"bgcolor\": \"#E5ECF6\", \"radialaxis\": {\"gridcolor\": \"white\", \"linecolor\": \"white\", \"ticks\": \"\"}}, \"scene\": {\"xaxis\": {\"backgroundcolor\": \"#E5ECF6\", \"gridcolor\": \"white\", \"gridwidth\": 2, \"linecolor\": \"white\", \"showbackground\": true, \"ticks\": \"\", \"zerolinecolor\": \"white\"}, \"yaxis\": {\"backgroundcolor\": \"#E5ECF6\", \"gridcolor\": \"white\", \"gridwidth\": 2, \"linecolor\": \"white\", \"showbackground\": true, \"ticks\": \"\", \"zerolinecolor\": \"white\"}, \"zaxis\": {\"backgroundcolor\": \"#E5ECF6\", \"gridcolor\": \"white\", \"gridwidth\": 2, \"linecolor\": \"white\", \"showbackground\": true, \"ticks\": \"\", \"zerolinecolor\": \"white\"}}, \"shapedefaults\": {\"line\": {\"color\": \"#2a3f5f\"}}, \"ternary\": {\"aaxis\": {\"gridcolor\": \"white\", \"linecolor\": \"white\", \"ticks\": \"\"}, \"baxis\": {\"gridcolor\": \"white\", \"linecolor\": \"white\", \"ticks\": \"\"}, \"bgcolor\": \"#E5ECF6\", \"caxis\": {\"gridcolor\": \"white\", \"linecolor\": \"white\", \"ticks\": \"\"}}, \"title\": {\"x\": 0.05}, \"xaxis\": {\"automargin\": true, \"gridcolor\": \"white\", \"linecolor\": \"white\", \"ticks\": \"\", \"title\": {\"standoff\": 15}, \"zerolinecolor\": \"white\", \"zerolinewidth\": 2}, \"yaxis\": {\"automargin\": true, \"gridcolor\": \"white\", \"linecolor\": \"white\", \"ticks\": \"\", \"title\": {\"standoff\": 15}, \"zerolinecolor\": \"white\", \"zerolinewidth\": 2}}}, \"title\": {\"font\": {\"color\": \"#4D5663\"}}, \"xaxis\": {\"gridcolor\": \"#E1E5ED\", \"showgrid\": true, \"tickfont\": {\"color\": \"#4D5663\"}, \"title\": {\"font\": {\"color\": \"#4D5663\"}, \"text\": \"\"}, \"zerolinecolor\": \"#E1E5ED\"}, \"xaxis2\": {\"anchor\": \"y2\", \"gridcolor\": \"#E1E5ED\", \"showgrid\": true, \"showticklabels\": false, \"tickfont\": {\"color\": \"#4D5663\"}, \"title\": {\"font\": {\"color\": \"#4D5663\"}, \"text\": \"\"}, \"zerolinecolor\": \"#E1E5ED\"}, \"yaxis\": {\"domain\": [0.3, 1], \"gridcolor\": \"#E1E5ED\", \"showgrid\": true, \"tickfont\": {\"color\": \"#4D5663\"}, \"title\": {\"font\": {\"color\": \"#4D5663\"}, \"text\": \"\"}, \"zerolinecolor\": \"#E1E5ED\"}, \"yaxis2\": {\"domain\": [0, 0.25], \"gridcolor\": \"#E1E5ED\", \"showgrid\": true, \"tickfont\": {\"color\": \"#4D5663\"}, \"title\": {\"font\": {\"color\": \"#4D5663\"}, \"text\": \"Spread\"}, \"zerolinecolor\": \"#E1E5ED\"}},                        {\"showLink\": true, \"linkText\": \"Export to plot.ly\", \"plotlyServerURL\": \"https://plot.ly\", \"responsive\": true}                    ).then(function(){\n",
       "                            \n",
       "var gd = document.getElementById('41987590-2ab1-4096-ae9e-d6ec25395e8a');\n",
       "var x = new MutationObserver(function (mutations, observer) {{\n",
       "        var display = window.getComputedStyle(gd).display;\n",
       "        if (!display || display === 'none') {{\n",
       "            console.log([gd, 'removed!']);\n",
       "            Plotly.purge(gd);\n",
       "            observer.disconnect();\n",
       "        }}\n",
       "}});\n",
       "\n",
       "// Listen for the removal of the full notebook cells\n",
       "var notebookContainer = gd.closest('#notebook-container');\n",
       "if (notebookContainer) {{\n",
       "    x.observe(notebookContainer, {childList: true});\n",
       "}}\n",
       "\n",
       "// Listen for the clearing of the current output cell\n",
       "var outputEl = gd.closest('.output');\n",
       "if (outputEl) {{\n",
       "    x.observe(outputEl, {childList: true});\n",
       "}}\n",
       "\n",
       "                        })                };                });            </script>        </div>"
      ]
     },
     "metadata": {},
     "output_type": "display_data"
    }
   ],
   "source": [
    "fake_df[['A','B']].iplot(kind='spread')"
   ]
  },
  {
   "cell_type": "markdown",
   "metadata": {},
   "source": [
    "# Histrogram"
   ]
  },
  {
   "cell_type": "code",
   "execution_count": 16,
   "metadata": {},
   "outputs": [
    {
     "data": {
      "application/vnd.plotly.v1+json": {
       "config": {
        "linkText": "Export to plot.ly",
        "plotlyServerURL": "https://plot.ly",
        "showLink": true
       },
       "data": [
        {
         "histfunc": "count",
         "histnorm": "",
         "marker": {
          "color": "rgba(255, 153, 51, 1.0)",
          "line": {
           "color": "#4D5663",
           "width": 1.3
          }
         },
         "name": "A",
         "nbinsx": 35,
         "opacity": 0.8,
         "orientation": "v",
         "type": "histogram",
         "x": [
          2.0098763595893336,
          1.5854346850248688,
          0.9517284968551595,
          1.4209384421391142,
          0.026688111038718355,
          1.7742246940980553,
          0.16997405066218702,
          -1.1663731149184284,
          -1.687555765778785,
          -0.9638359759236773,
          0.31948585690353737,
          0.45206655019272324,
          -0.5856593578130521,
          -1.3331664488301078,
          -0.18227467538397016,
          1.0331832394221976,
          0.37414095900530886,
          -1.3746069162300292,
          1.8832078334627544,
          -0.16909971811806357,
          -0.32927926569287375,
          0.2627032205145867,
          -0.3598102265304865,
          0.5447321941036315,
          1.6100120651269116,
          -0.3804397268147677,
          0.1473620328561745,
          1.6691747558384904,
          1.8148257699582853,
          1.0180855824554613,
          2.766422169747134,
          0.6612450177603737,
          0.2986153846044228,
          -1.7053592704223286,
          -0.6711464446025099,
          -0.16294248127431257,
          -1.76502064308557,
          0.056206938499821404,
          -0.7066819603495336,
          -0.2541191740775342,
          -1.5744224819850823,
          0.4424197673183819,
          0.9446253816575055,
          0.23631706594971114,
          0.14785287447786766,
          0.22500275896921618,
          -0.013301170787457814,
          0.2315655094459254,
          0.6735331950306841,
          -0.10790761675412006,
          -1.5498459914408311,
          -0.41529924792912287,
          -0.22878419631577793,
          2.3889340441169504,
          -0.5011363683382322,
          -0.18138728609572885,
          0.10481645267669726,
          0.7086729341837882,
          -1.4574933521470606,
          -2.276244891933633,
          -0.928082898567579,
          0.22469067595539435,
          0.5161213606538004,
          0.24896276094352396,
          -0.017016592599865137,
          -0.2353009091061637,
          0.6210256252215713,
          1.0259839308083618,
          -0.05291468044019354,
          -1.2015439091389342,
          0.20200327029328774,
          -0.3229245198595919,
          0.5524528833109041,
          -0.4028777637706296,
          -0.059882638309787274,
          0.12775951718529485,
          -0.17957320771266141,
          1.0269177088172363,
          1.1771880686524667,
          -0.6395966666807401,
          0.3744607968230148,
          0.641740461644252,
          -1.0076463847201,
          0.02226447529627381,
          0.2190566031008649,
          -0.643633189304614,
          1.2638889727273173,
          -0.48892495679508047,
          0.059705931132288816,
          -0.9664065644091091,
          1.095398828129973,
          -0.8408864989043608,
          -0.871759542343419,
          -0.1856655404692126,
          0.18088575006579746,
          1.2747503019467712,
          -0.4396286084094133,
          -1.1740229644234133,
          0.1367868730401681,
          0.5003571614833707
         ]
        }
       ],
       "layout": {
        "barmode": "overlay",
        "legend": {
         "bgcolor": "#F5F6F9",
         "font": {
          "color": "#4D5663"
         }
        },
        "paper_bgcolor": "#F5F6F9",
        "plot_bgcolor": "#F5F6F9",
        "template": {
         "data": {
          "bar": [
           {
            "error_x": {
             "color": "#2a3f5f"
            },
            "error_y": {
             "color": "#2a3f5f"
            },
            "marker": {
             "line": {
              "color": "#E5ECF6",
              "width": 0.5
             }
            },
            "type": "bar"
           }
          ],
          "barpolar": [
           {
            "marker": {
             "line": {
              "color": "#E5ECF6",
              "width": 0.5
             }
            },
            "type": "barpolar"
           }
          ],
          "carpet": [
           {
            "aaxis": {
             "endlinecolor": "#2a3f5f",
             "gridcolor": "white",
             "linecolor": "white",
             "minorgridcolor": "white",
             "startlinecolor": "#2a3f5f"
            },
            "baxis": {
             "endlinecolor": "#2a3f5f",
             "gridcolor": "white",
             "linecolor": "white",
             "minorgridcolor": "white",
             "startlinecolor": "#2a3f5f"
            },
            "type": "carpet"
           }
          ],
          "choropleth": [
           {
            "colorbar": {
             "outlinewidth": 0,
             "ticks": ""
            },
            "type": "choropleth"
           }
          ],
          "contour": [
           {
            "colorbar": {
             "outlinewidth": 0,
             "ticks": ""
            },
            "colorscale": [
             [
              0,
              "#0d0887"
             ],
             [
              0.1111111111111111,
              "#46039f"
             ],
             [
              0.2222222222222222,
              "#7201a8"
             ],
             [
              0.3333333333333333,
              "#9c179e"
             ],
             [
              0.4444444444444444,
              "#bd3786"
             ],
             [
              0.5555555555555556,
              "#d8576b"
             ],
             [
              0.6666666666666666,
              "#ed7953"
             ],
             [
              0.7777777777777778,
              "#fb9f3a"
             ],
             [
              0.8888888888888888,
              "#fdca26"
             ],
             [
              1,
              "#f0f921"
             ]
            ],
            "type": "contour"
           }
          ],
          "contourcarpet": [
           {
            "colorbar": {
             "outlinewidth": 0,
             "ticks": ""
            },
            "type": "contourcarpet"
           }
          ],
          "heatmap": [
           {
            "colorbar": {
             "outlinewidth": 0,
             "ticks": ""
            },
            "colorscale": [
             [
              0,
              "#0d0887"
             ],
             [
              0.1111111111111111,
              "#46039f"
             ],
             [
              0.2222222222222222,
              "#7201a8"
             ],
             [
              0.3333333333333333,
              "#9c179e"
             ],
             [
              0.4444444444444444,
              "#bd3786"
             ],
             [
              0.5555555555555556,
              "#d8576b"
             ],
             [
              0.6666666666666666,
              "#ed7953"
             ],
             [
              0.7777777777777778,
              "#fb9f3a"
             ],
             [
              0.8888888888888888,
              "#fdca26"
             ],
             [
              1,
              "#f0f921"
             ]
            ],
            "type": "heatmap"
           }
          ],
          "heatmapgl": [
           {
            "colorbar": {
             "outlinewidth": 0,
             "ticks": ""
            },
            "colorscale": [
             [
              0,
              "#0d0887"
             ],
             [
              0.1111111111111111,
              "#46039f"
             ],
             [
              0.2222222222222222,
              "#7201a8"
             ],
             [
              0.3333333333333333,
              "#9c179e"
             ],
             [
              0.4444444444444444,
              "#bd3786"
             ],
             [
              0.5555555555555556,
              "#d8576b"
             ],
             [
              0.6666666666666666,
              "#ed7953"
             ],
             [
              0.7777777777777778,
              "#fb9f3a"
             ],
             [
              0.8888888888888888,
              "#fdca26"
             ],
             [
              1,
              "#f0f921"
             ]
            ],
            "type": "heatmapgl"
           }
          ],
          "histogram": [
           {
            "marker": {
             "colorbar": {
              "outlinewidth": 0,
              "ticks": ""
             }
            },
            "type": "histogram"
           }
          ],
          "histogram2d": [
           {
            "colorbar": {
             "outlinewidth": 0,
             "ticks": ""
            },
            "colorscale": [
             [
              0,
              "#0d0887"
             ],
             [
              0.1111111111111111,
              "#46039f"
             ],
             [
              0.2222222222222222,
              "#7201a8"
             ],
             [
              0.3333333333333333,
              "#9c179e"
             ],
             [
              0.4444444444444444,
              "#bd3786"
             ],
             [
              0.5555555555555556,
              "#d8576b"
             ],
             [
              0.6666666666666666,
              "#ed7953"
             ],
             [
              0.7777777777777778,
              "#fb9f3a"
             ],
             [
              0.8888888888888888,
              "#fdca26"
             ],
             [
              1,
              "#f0f921"
             ]
            ],
            "type": "histogram2d"
           }
          ],
          "histogram2dcontour": [
           {
            "colorbar": {
             "outlinewidth": 0,
             "ticks": ""
            },
            "colorscale": [
             [
              0,
              "#0d0887"
             ],
             [
              0.1111111111111111,
              "#46039f"
             ],
             [
              0.2222222222222222,
              "#7201a8"
             ],
             [
              0.3333333333333333,
              "#9c179e"
             ],
             [
              0.4444444444444444,
              "#bd3786"
             ],
             [
              0.5555555555555556,
              "#d8576b"
             ],
             [
              0.6666666666666666,
              "#ed7953"
             ],
             [
              0.7777777777777778,
              "#fb9f3a"
             ],
             [
              0.8888888888888888,
              "#fdca26"
             ],
             [
              1,
              "#f0f921"
             ]
            ],
            "type": "histogram2dcontour"
           }
          ],
          "mesh3d": [
           {
            "colorbar": {
             "outlinewidth": 0,
             "ticks": ""
            },
            "type": "mesh3d"
           }
          ],
          "parcoords": [
           {
            "line": {
             "colorbar": {
              "outlinewidth": 0,
              "ticks": ""
             }
            },
            "type": "parcoords"
           }
          ],
          "pie": [
           {
            "automargin": true,
            "type": "pie"
           }
          ],
          "scatter": [
           {
            "marker": {
             "colorbar": {
              "outlinewidth": 0,
              "ticks": ""
             }
            },
            "type": "scatter"
           }
          ],
          "scatter3d": [
           {
            "line": {
             "colorbar": {
              "outlinewidth": 0,
              "ticks": ""
             }
            },
            "marker": {
             "colorbar": {
              "outlinewidth": 0,
              "ticks": ""
             }
            },
            "type": "scatter3d"
           }
          ],
          "scattercarpet": [
           {
            "marker": {
             "colorbar": {
              "outlinewidth": 0,
              "ticks": ""
             }
            },
            "type": "scattercarpet"
           }
          ],
          "scattergeo": [
           {
            "marker": {
             "colorbar": {
              "outlinewidth": 0,
              "ticks": ""
             }
            },
            "type": "scattergeo"
           }
          ],
          "scattergl": [
           {
            "marker": {
             "colorbar": {
              "outlinewidth": 0,
              "ticks": ""
             }
            },
            "type": "scattergl"
           }
          ],
          "scattermapbox": [
           {
            "marker": {
             "colorbar": {
              "outlinewidth": 0,
              "ticks": ""
             }
            },
            "type": "scattermapbox"
           }
          ],
          "scatterpolar": [
           {
            "marker": {
             "colorbar": {
              "outlinewidth": 0,
              "ticks": ""
             }
            },
            "type": "scatterpolar"
           }
          ],
          "scatterpolargl": [
           {
            "marker": {
             "colorbar": {
              "outlinewidth": 0,
              "ticks": ""
             }
            },
            "type": "scatterpolargl"
           }
          ],
          "scatterternary": [
           {
            "marker": {
             "colorbar": {
              "outlinewidth": 0,
              "ticks": ""
             }
            },
            "type": "scatterternary"
           }
          ],
          "surface": [
           {
            "colorbar": {
             "outlinewidth": 0,
             "ticks": ""
            },
            "colorscale": [
             [
              0,
              "#0d0887"
             ],
             [
              0.1111111111111111,
              "#46039f"
             ],
             [
              0.2222222222222222,
              "#7201a8"
             ],
             [
              0.3333333333333333,
              "#9c179e"
             ],
             [
              0.4444444444444444,
              "#bd3786"
             ],
             [
              0.5555555555555556,
              "#d8576b"
             ],
             [
              0.6666666666666666,
              "#ed7953"
             ],
             [
              0.7777777777777778,
              "#fb9f3a"
             ],
             [
              0.8888888888888888,
              "#fdca26"
             ],
             [
              1,
              "#f0f921"
             ]
            ],
            "type": "surface"
           }
          ],
          "table": [
           {
            "cells": {
             "fill": {
              "color": "#EBF0F8"
             },
             "line": {
              "color": "white"
             }
            },
            "header": {
             "fill": {
              "color": "#C8D4E3"
             },
             "line": {
              "color": "white"
             }
            },
            "type": "table"
           }
          ]
         },
         "layout": {
          "annotationdefaults": {
           "arrowcolor": "#2a3f5f",
           "arrowhead": 0,
           "arrowwidth": 1
          },
          "coloraxis": {
           "colorbar": {
            "outlinewidth": 0,
            "ticks": ""
           }
          },
          "colorscale": {
           "diverging": [
            [
             0,
             "#8e0152"
            ],
            [
             0.1,
             "#c51b7d"
            ],
            [
             0.2,
             "#de77ae"
            ],
            [
             0.3,
             "#f1b6da"
            ],
            [
             0.4,
             "#fde0ef"
            ],
            [
             0.5,
             "#f7f7f7"
            ],
            [
             0.6,
             "#e6f5d0"
            ],
            [
             0.7,
             "#b8e186"
            ],
            [
             0.8,
             "#7fbc41"
            ],
            [
             0.9,
             "#4d9221"
            ],
            [
             1,
             "#276419"
            ]
           ],
           "sequential": [
            [
             0,
             "#0d0887"
            ],
            [
             0.1111111111111111,
             "#46039f"
            ],
            [
             0.2222222222222222,
             "#7201a8"
            ],
            [
             0.3333333333333333,
             "#9c179e"
            ],
            [
             0.4444444444444444,
             "#bd3786"
            ],
            [
             0.5555555555555556,
             "#d8576b"
            ],
            [
             0.6666666666666666,
             "#ed7953"
            ],
            [
             0.7777777777777778,
             "#fb9f3a"
            ],
            [
             0.8888888888888888,
             "#fdca26"
            ],
            [
             1,
             "#f0f921"
            ]
           ],
           "sequentialminus": [
            [
             0,
             "#0d0887"
            ],
            [
             0.1111111111111111,
             "#46039f"
            ],
            [
             0.2222222222222222,
             "#7201a8"
            ],
            [
             0.3333333333333333,
             "#9c179e"
            ],
            [
             0.4444444444444444,
             "#bd3786"
            ],
            [
             0.5555555555555556,
             "#d8576b"
            ],
            [
             0.6666666666666666,
             "#ed7953"
            ],
            [
             0.7777777777777778,
             "#fb9f3a"
            ],
            [
             0.8888888888888888,
             "#fdca26"
            ],
            [
             1,
             "#f0f921"
            ]
           ]
          },
          "colorway": [
           "#636efa",
           "#EF553B",
           "#00cc96",
           "#ab63fa",
           "#FFA15A",
           "#19d3f3",
           "#FF6692",
           "#B6E880",
           "#FF97FF",
           "#FECB52"
          ],
          "font": {
           "color": "#2a3f5f"
          },
          "geo": {
           "bgcolor": "white",
           "lakecolor": "white",
           "landcolor": "#E5ECF6",
           "showlakes": true,
           "showland": true,
           "subunitcolor": "white"
          },
          "hoverlabel": {
           "align": "left"
          },
          "hovermode": "closest",
          "mapbox": {
           "style": "light"
          },
          "paper_bgcolor": "white",
          "plot_bgcolor": "#E5ECF6",
          "polar": {
           "angularaxis": {
            "gridcolor": "white",
            "linecolor": "white",
            "ticks": ""
           },
           "bgcolor": "#E5ECF6",
           "radialaxis": {
            "gridcolor": "white",
            "linecolor": "white",
            "ticks": ""
           }
          },
          "scene": {
           "xaxis": {
            "backgroundcolor": "#E5ECF6",
            "gridcolor": "white",
            "gridwidth": 2,
            "linecolor": "white",
            "showbackground": true,
            "ticks": "",
            "zerolinecolor": "white"
           },
           "yaxis": {
            "backgroundcolor": "#E5ECF6",
            "gridcolor": "white",
            "gridwidth": 2,
            "linecolor": "white",
            "showbackground": true,
            "ticks": "",
            "zerolinecolor": "white"
           },
           "zaxis": {
            "backgroundcolor": "#E5ECF6",
            "gridcolor": "white",
            "gridwidth": 2,
            "linecolor": "white",
            "showbackground": true,
            "ticks": "",
            "zerolinecolor": "white"
           }
          },
          "shapedefaults": {
           "line": {
            "color": "#2a3f5f"
           }
          },
          "ternary": {
           "aaxis": {
            "gridcolor": "white",
            "linecolor": "white",
            "ticks": ""
           },
           "baxis": {
            "gridcolor": "white",
            "linecolor": "white",
            "ticks": ""
           },
           "bgcolor": "#E5ECF6",
           "caxis": {
            "gridcolor": "white",
            "linecolor": "white",
            "ticks": ""
           }
          },
          "title": {
           "x": 0.05
          },
          "xaxis": {
           "automargin": true,
           "gridcolor": "white",
           "linecolor": "white",
           "ticks": "",
           "title": {
            "standoff": 15
           },
           "zerolinecolor": "white",
           "zerolinewidth": 2
          },
          "yaxis": {
           "automargin": true,
           "gridcolor": "white",
           "linecolor": "white",
           "ticks": "",
           "title": {
            "standoff": 15
           },
           "zerolinecolor": "white",
           "zerolinewidth": 2
          }
         }
        },
        "title": {
         "font": {
          "color": "#4D5663"
         }
        },
        "xaxis": {
         "gridcolor": "#E1E5ED",
         "showgrid": true,
         "tickfont": {
          "color": "#4D5663"
         },
         "title": {
          "font": {
           "color": "#4D5663"
          },
          "text": ""
         },
         "zerolinecolor": "#E1E5ED"
        },
        "yaxis": {
         "gridcolor": "#E1E5ED",
         "showgrid": true,
         "tickfont": {
          "color": "#4D5663"
         },
         "title": {
          "font": {
           "color": "#4D5663"
          },
          "text": ""
         },
         "zerolinecolor": "#E1E5ED"
        }
       }
      },
      "text/html": [
       "<div>                            <div id=\"f07cdc94-609b-4726-978f-6bd8331f8157\" class=\"plotly-graph-div\" style=\"height:525px; width:100%;\"></div>            <script type=\"text/javascript\">                require([\"plotly\"], function(Plotly) {                    window.PLOTLYENV=window.PLOTLYENV || {};\n",
       "                    window.PLOTLYENV.BASE_URL='https://plot.ly';                                    if (document.getElementById(\"f07cdc94-609b-4726-978f-6bd8331f8157\")) {                    Plotly.newPlot(                        \"f07cdc94-609b-4726-978f-6bd8331f8157\",                        [{\"histfunc\": \"count\", \"histnorm\": \"\", \"marker\": {\"color\": \"rgba(255, 153, 51, 1.0)\", \"line\": {\"color\": \"#4D5663\", \"width\": 1.3}}, \"name\": \"A\", \"nbinsx\": 35, \"opacity\": 0.8, \"orientation\": \"v\", \"type\": \"histogram\", \"x\": [2.0098763595893336, 1.5854346850248688, 0.9517284968551595, 1.4209384421391142, 0.026688111038718355, 1.7742246940980553, 0.16997405066218702, -1.1663731149184284, -1.687555765778785, -0.9638359759236773, 0.31948585690353737, 0.45206655019272324, -0.5856593578130521, -1.3331664488301078, -0.18227467538397016, 1.0331832394221976, 0.37414095900530886, -1.3746069162300292, 1.8832078334627544, -0.16909971811806357, -0.32927926569287375, 0.2627032205145867, -0.3598102265304865, 0.5447321941036315, 1.6100120651269116, -0.3804397268147677, 0.1473620328561745, 1.6691747558384904, 1.8148257699582853, 1.0180855824554613, 2.766422169747134, 0.6612450177603737, 0.2986153846044228, -1.7053592704223286, -0.6711464446025099, -0.16294248127431257, -1.76502064308557, 0.056206938499821404, -0.7066819603495336, -0.2541191740775342, -1.5744224819850823, 0.4424197673183819, 0.9446253816575055, 0.23631706594971114, 0.14785287447786766, 0.22500275896921618, -0.013301170787457814, 0.2315655094459254, 0.6735331950306841, -0.10790761675412006, -1.5498459914408311, -0.41529924792912287, -0.22878419631577793, 2.3889340441169504, -0.5011363683382322, -0.18138728609572885, 0.10481645267669726, 0.7086729341837882, -1.4574933521470606, -2.276244891933633, -0.928082898567579, 0.22469067595539435, 0.5161213606538004, 0.24896276094352396, -0.017016592599865137, -0.2353009091061637, 0.6210256252215713, 1.0259839308083618, -0.05291468044019354, -1.2015439091389342, 0.20200327029328774, -0.3229245198595919, 0.5524528833109041, -0.4028777637706296, -0.059882638309787274, 0.12775951718529485, -0.17957320771266141, 1.0269177088172363, 1.1771880686524667, -0.6395966666807401, 0.3744607968230148, 0.641740461644252, -1.0076463847201, 0.02226447529627381, 0.2190566031008649, -0.643633189304614, 1.2638889727273173, -0.48892495679508047, 0.059705931132288816, -0.9664065644091091, 1.095398828129973, -0.8408864989043608, -0.871759542343419, -0.1856655404692126, 0.18088575006579746, 1.2747503019467712, -0.4396286084094133, -1.1740229644234133, 0.1367868730401681, 0.5003571614833707]}],                        {\"barmode\": \"overlay\", \"legend\": {\"bgcolor\": \"#F5F6F9\", \"font\": {\"color\": \"#4D5663\"}}, \"paper_bgcolor\": \"#F5F6F9\", \"plot_bgcolor\": \"#F5F6F9\", \"template\": {\"data\": {\"bar\": [{\"error_x\": {\"color\": \"#2a3f5f\"}, \"error_y\": {\"color\": \"#2a3f5f\"}, \"marker\": {\"line\": {\"color\": \"#E5ECF6\", \"width\": 0.5}}, \"type\": \"bar\"}], \"barpolar\": [{\"marker\": {\"line\": {\"color\": \"#E5ECF6\", \"width\": 0.5}}, \"type\": \"barpolar\"}], \"carpet\": [{\"aaxis\": {\"endlinecolor\": \"#2a3f5f\", \"gridcolor\": \"white\", \"linecolor\": \"white\", \"minorgridcolor\": \"white\", \"startlinecolor\": \"#2a3f5f\"}, \"baxis\": {\"endlinecolor\": \"#2a3f5f\", \"gridcolor\": \"white\", \"linecolor\": \"white\", \"minorgridcolor\": \"white\", \"startlinecolor\": \"#2a3f5f\"}, \"type\": \"carpet\"}], \"choropleth\": [{\"colorbar\": {\"outlinewidth\": 0, \"ticks\": \"\"}, \"type\": \"choropleth\"}], \"contour\": [{\"colorbar\": {\"outlinewidth\": 0, \"ticks\": \"\"}, \"colorscale\": [[0.0, \"#0d0887\"], [0.1111111111111111, \"#46039f\"], [0.2222222222222222, \"#7201a8\"], [0.3333333333333333, \"#9c179e\"], [0.4444444444444444, \"#bd3786\"], [0.5555555555555556, \"#d8576b\"], [0.6666666666666666, \"#ed7953\"], [0.7777777777777778, \"#fb9f3a\"], [0.8888888888888888, \"#fdca26\"], [1.0, \"#f0f921\"]], \"type\": \"contour\"}], \"contourcarpet\": [{\"colorbar\": {\"outlinewidth\": 0, \"ticks\": \"\"}, \"type\": \"contourcarpet\"}], \"heatmap\": [{\"colorbar\": {\"outlinewidth\": 0, \"ticks\": \"\"}, \"colorscale\": [[0.0, \"#0d0887\"], [0.1111111111111111, \"#46039f\"], [0.2222222222222222, \"#7201a8\"], [0.3333333333333333, \"#9c179e\"], [0.4444444444444444, \"#bd3786\"], [0.5555555555555556, \"#d8576b\"], [0.6666666666666666, \"#ed7953\"], [0.7777777777777778, \"#fb9f3a\"], [0.8888888888888888, \"#fdca26\"], [1.0, \"#f0f921\"]], \"type\": \"heatmap\"}], \"heatmapgl\": [{\"colorbar\": {\"outlinewidth\": 0, \"ticks\": \"\"}, \"colorscale\": [[0.0, \"#0d0887\"], [0.1111111111111111, \"#46039f\"], [0.2222222222222222, \"#7201a8\"], [0.3333333333333333, \"#9c179e\"], [0.4444444444444444, \"#bd3786\"], [0.5555555555555556, \"#d8576b\"], [0.6666666666666666, \"#ed7953\"], [0.7777777777777778, \"#fb9f3a\"], [0.8888888888888888, \"#fdca26\"], [1.0, \"#f0f921\"]], \"type\": \"heatmapgl\"}], \"histogram\": [{\"marker\": {\"colorbar\": {\"outlinewidth\": 0, \"ticks\": \"\"}}, \"type\": \"histogram\"}], \"histogram2d\": [{\"colorbar\": {\"outlinewidth\": 0, \"ticks\": \"\"}, \"colorscale\": [[0.0, \"#0d0887\"], [0.1111111111111111, \"#46039f\"], [0.2222222222222222, \"#7201a8\"], [0.3333333333333333, \"#9c179e\"], [0.4444444444444444, \"#bd3786\"], [0.5555555555555556, \"#d8576b\"], [0.6666666666666666, \"#ed7953\"], [0.7777777777777778, \"#fb9f3a\"], [0.8888888888888888, \"#fdca26\"], [1.0, \"#f0f921\"]], \"type\": \"histogram2d\"}], \"histogram2dcontour\": [{\"colorbar\": {\"outlinewidth\": 0, \"ticks\": \"\"}, \"colorscale\": [[0.0, \"#0d0887\"], [0.1111111111111111, \"#46039f\"], [0.2222222222222222, \"#7201a8\"], [0.3333333333333333, \"#9c179e\"], [0.4444444444444444, \"#bd3786\"], [0.5555555555555556, \"#d8576b\"], [0.6666666666666666, \"#ed7953\"], [0.7777777777777778, \"#fb9f3a\"], [0.8888888888888888, \"#fdca26\"], [1.0, \"#f0f921\"]], \"type\": \"histogram2dcontour\"}], \"mesh3d\": [{\"colorbar\": {\"outlinewidth\": 0, \"ticks\": \"\"}, \"type\": \"mesh3d\"}], \"parcoords\": [{\"line\": {\"colorbar\": {\"outlinewidth\": 0, \"ticks\": \"\"}}, \"type\": \"parcoords\"}], \"pie\": [{\"automargin\": true, \"type\": \"pie\"}], \"scatter\": [{\"marker\": {\"colorbar\": {\"outlinewidth\": 0, \"ticks\": \"\"}}, \"type\": \"scatter\"}], \"scatter3d\": [{\"line\": {\"colorbar\": {\"outlinewidth\": 0, \"ticks\": \"\"}}, \"marker\": {\"colorbar\": {\"outlinewidth\": 0, \"ticks\": \"\"}}, \"type\": \"scatter3d\"}], \"scattercarpet\": [{\"marker\": {\"colorbar\": {\"outlinewidth\": 0, \"ticks\": \"\"}}, \"type\": \"scattercarpet\"}], \"scattergeo\": [{\"marker\": {\"colorbar\": {\"outlinewidth\": 0, \"ticks\": \"\"}}, \"type\": \"scattergeo\"}], \"scattergl\": [{\"marker\": {\"colorbar\": {\"outlinewidth\": 0, \"ticks\": \"\"}}, \"type\": \"scattergl\"}], \"scattermapbox\": [{\"marker\": {\"colorbar\": {\"outlinewidth\": 0, \"ticks\": \"\"}}, \"type\": \"scattermapbox\"}], \"scatterpolar\": [{\"marker\": {\"colorbar\": {\"outlinewidth\": 0, \"ticks\": \"\"}}, \"type\": \"scatterpolar\"}], \"scatterpolargl\": [{\"marker\": {\"colorbar\": {\"outlinewidth\": 0, \"ticks\": \"\"}}, \"type\": \"scatterpolargl\"}], \"scatterternary\": [{\"marker\": {\"colorbar\": {\"outlinewidth\": 0, \"ticks\": \"\"}}, \"type\": \"scatterternary\"}], \"surface\": [{\"colorbar\": {\"outlinewidth\": 0, \"ticks\": \"\"}, \"colorscale\": [[0.0, \"#0d0887\"], [0.1111111111111111, \"#46039f\"], [0.2222222222222222, \"#7201a8\"], [0.3333333333333333, \"#9c179e\"], [0.4444444444444444, \"#bd3786\"], [0.5555555555555556, \"#d8576b\"], [0.6666666666666666, \"#ed7953\"], [0.7777777777777778, \"#fb9f3a\"], [0.8888888888888888, \"#fdca26\"], [1.0, \"#f0f921\"]], \"type\": \"surface\"}], \"table\": [{\"cells\": {\"fill\": {\"color\": \"#EBF0F8\"}, \"line\": {\"color\": \"white\"}}, \"header\": {\"fill\": {\"color\": \"#C8D4E3\"}, \"line\": {\"color\": \"white\"}}, \"type\": \"table\"}]}, \"layout\": {\"annotationdefaults\": {\"arrowcolor\": \"#2a3f5f\", \"arrowhead\": 0, \"arrowwidth\": 1}, \"coloraxis\": {\"colorbar\": {\"outlinewidth\": 0, \"ticks\": \"\"}}, \"colorscale\": {\"diverging\": [[0, \"#8e0152\"], [0.1, \"#c51b7d\"], [0.2, \"#de77ae\"], [0.3, \"#f1b6da\"], [0.4, \"#fde0ef\"], [0.5, \"#f7f7f7\"], [0.6, \"#e6f5d0\"], [0.7, \"#b8e186\"], [0.8, \"#7fbc41\"], [0.9, \"#4d9221\"], [1, \"#276419\"]], \"sequential\": [[0.0, \"#0d0887\"], [0.1111111111111111, \"#46039f\"], [0.2222222222222222, \"#7201a8\"], [0.3333333333333333, \"#9c179e\"], [0.4444444444444444, \"#bd3786\"], [0.5555555555555556, \"#d8576b\"], [0.6666666666666666, \"#ed7953\"], [0.7777777777777778, \"#fb9f3a\"], [0.8888888888888888, \"#fdca26\"], [1.0, \"#f0f921\"]], \"sequentialminus\": [[0.0, \"#0d0887\"], [0.1111111111111111, \"#46039f\"], [0.2222222222222222, \"#7201a8\"], [0.3333333333333333, \"#9c179e\"], [0.4444444444444444, \"#bd3786\"], [0.5555555555555556, \"#d8576b\"], [0.6666666666666666, \"#ed7953\"], [0.7777777777777778, \"#fb9f3a\"], [0.8888888888888888, \"#fdca26\"], [1.0, \"#f0f921\"]]}, \"colorway\": [\"#636efa\", \"#EF553B\", \"#00cc96\", \"#ab63fa\", \"#FFA15A\", \"#19d3f3\", \"#FF6692\", \"#B6E880\", \"#FF97FF\", \"#FECB52\"], \"font\": {\"color\": \"#2a3f5f\"}, \"geo\": {\"bgcolor\": \"white\", \"lakecolor\": \"white\", \"landcolor\": \"#E5ECF6\", \"showlakes\": true, \"showland\": true, \"subunitcolor\": \"white\"}, \"hoverlabel\": {\"align\": \"left\"}, \"hovermode\": \"closest\", \"mapbox\": {\"style\": \"light\"}, \"paper_bgcolor\": \"white\", \"plot_bgcolor\": \"#E5ECF6\", \"polar\": {\"angularaxis\": {\"gridcolor\": \"white\", \"linecolor\": \"white\", \"ticks\": \"\"}, \"bgcolor\": \"#E5ECF6\", \"radialaxis\": {\"gridcolor\": \"white\", \"linecolor\": \"white\", \"ticks\": \"\"}}, \"scene\": {\"xaxis\": {\"backgroundcolor\": \"#E5ECF6\", \"gridcolor\": \"white\", \"gridwidth\": 2, \"linecolor\": \"white\", \"showbackground\": true, \"ticks\": \"\", \"zerolinecolor\": \"white\"}, \"yaxis\": {\"backgroundcolor\": \"#E5ECF6\", \"gridcolor\": \"white\", \"gridwidth\": 2, \"linecolor\": \"white\", \"showbackground\": true, \"ticks\": \"\", \"zerolinecolor\": \"white\"}, \"zaxis\": {\"backgroundcolor\": \"#E5ECF6\", \"gridcolor\": \"white\", \"gridwidth\": 2, \"linecolor\": \"white\", \"showbackground\": true, \"ticks\": \"\", \"zerolinecolor\": \"white\"}}, \"shapedefaults\": {\"line\": {\"color\": \"#2a3f5f\"}}, \"ternary\": {\"aaxis\": {\"gridcolor\": \"white\", \"linecolor\": \"white\", \"ticks\": \"\"}, \"baxis\": {\"gridcolor\": \"white\", \"linecolor\": \"white\", \"ticks\": \"\"}, \"bgcolor\": \"#E5ECF6\", \"caxis\": {\"gridcolor\": \"white\", \"linecolor\": \"white\", \"ticks\": \"\"}}, \"title\": {\"x\": 0.05}, \"xaxis\": {\"automargin\": true, \"gridcolor\": \"white\", \"linecolor\": \"white\", \"ticks\": \"\", \"title\": {\"standoff\": 15}, \"zerolinecolor\": \"white\", \"zerolinewidth\": 2}, \"yaxis\": {\"automargin\": true, \"gridcolor\": \"white\", \"linecolor\": \"white\", \"ticks\": \"\", \"title\": {\"standoff\": 15}, \"zerolinecolor\": \"white\", \"zerolinewidth\": 2}}}, \"title\": {\"font\": {\"color\": \"#4D5663\"}}, \"xaxis\": {\"gridcolor\": \"#E1E5ED\", \"showgrid\": true, \"tickfont\": {\"color\": \"#4D5663\"}, \"title\": {\"font\": {\"color\": \"#4D5663\"}, \"text\": \"\"}, \"zerolinecolor\": \"#E1E5ED\"}, \"yaxis\": {\"gridcolor\": \"#E1E5ED\", \"showgrid\": true, \"tickfont\": {\"color\": \"#4D5663\"}, \"title\": {\"font\": {\"color\": \"#4D5663\"}, \"text\": \"\"}, \"zerolinecolor\": \"#E1E5ED\"}},                        {\"showLink\": true, \"linkText\": \"Export to plot.ly\", \"plotlyServerURL\": \"https://plot.ly\", \"responsive\": true}                    ).then(function(){\n",
       "                            \n",
       "var gd = document.getElementById('f07cdc94-609b-4726-978f-6bd8331f8157');\n",
       "var x = new MutationObserver(function (mutations, observer) {{\n",
       "        var display = window.getComputedStyle(gd).display;\n",
       "        if (!display || display === 'none') {{\n",
       "            console.log([gd, 'removed!']);\n",
       "            Plotly.purge(gd);\n",
       "            observer.disconnect();\n",
       "        }}\n",
       "}});\n",
       "\n",
       "// Listen for the removal of the full notebook cells\n",
       "var notebookContainer = gd.closest('#notebook-container');\n",
       "if (notebookContainer) {{\n",
       "    x.observe(notebookContainer, {childList: true});\n",
       "}}\n",
       "\n",
       "// Listen for the clearing of the current output cell\n",
       "var outputEl = gd.closest('.output');\n",
       "if (outputEl) {{\n",
       "    x.observe(outputEl, {childList: true});\n",
       "}}\n",
       "\n",
       "                        })                };                });            </script>        </div>"
      ]
     },
     "metadata": {},
     "output_type": "display_data"
    }
   ],
   "source": [
    "fake_df['A'].iplot(kind='hist', bins=35)"
   ]
  },
  {
   "cell_type": "code",
   "execution_count": 17,
   "metadata": {},
   "outputs": [
    {
     "data": {
      "application/vnd.plotly.v1+json": {
       "config": {
        "linkText": "Export to plot.ly",
        "plotlyServerURL": "https://plot.ly",
        "showLink": true
       },
       "data": [
        {
         "marker": {
          "color": [
           "rgb(255, 153, 51)",
           "rgb(55, 128, 191)",
           "rgb(50, 171, 96)",
           "rgb(128, 0, 128)",
           "rgb(219, 64, 82)",
           "rgb(0, 128, 128)",
           "rgb(255, 255, 51)",
           "rgb(128, 128, 0)",
           "rgb(251, 128, 114)",
           "rgb(128, 177, 211)"
          ],
          "line": {
           "width": 1.3
          },
          "size": [
           51,
           12,
           78,
           45,
           51,
           65,
           65,
           72,
           48,
           86,
           77,
           64,
           94,
           54,
           79,
           105,
           102,
           50,
           54,
           69,
           85,
           88,
           74,
           38,
           75,
           67,
           41,
           56,
           75,
           58,
           78,
           74,
           56,
           64,
           91,
           89,
           69,
           98,
           78,
           94,
           87,
           66,
           74,
           48,
           51,
           65,
           112,
           78,
           94,
           73,
           76,
           61,
           82,
           105,
           55,
           50,
           46,
           89,
           84,
           61,
           71,
           73,
           73,
           69,
           86,
           72,
           65,
           95,
           80,
           65,
           67,
           53,
           63,
           99,
           73,
           53,
           73,
           68,
           71,
           82,
           49,
           70,
           99,
           40,
           67,
           77,
           47,
           44,
           79,
           77,
           41,
           52,
           103,
           46,
           37,
           80,
           78,
           71,
           72,
           51
          ],
          "symbol": "circle"
         },
         "mode": "markers",
         "text": "",
         "type": "scatter",
         "x": [
          2.0098763595893336,
          1.5854346850248688,
          0.9517284968551595,
          1.4209384421391142,
          0.026688111038718355,
          1.7742246940980553,
          0.16997405066218702,
          -1.1663731149184284,
          -1.687555765778785,
          -0.9638359759236773,
          0.31948585690353737,
          0.45206655019272324,
          -0.5856593578130521,
          -1.3331664488301078,
          -0.18227467538397016,
          1.0331832394221976,
          0.37414095900530886,
          -1.3746069162300292,
          1.8832078334627544,
          -0.16909971811806357,
          -0.32927926569287375,
          0.2627032205145867,
          -0.3598102265304865,
          0.5447321941036315,
          1.6100120651269116,
          -0.3804397268147677,
          0.1473620328561745,
          1.6691747558384904,
          1.8148257699582853,
          1.0180855824554613,
          2.766422169747134,
          0.6612450177603737,
          0.2986153846044228,
          -1.7053592704223286,
          -0.6711464446025099,
          -0.16294248127431257,
          -1.76502064308557,
          0.056206938499821404,
          -0.7066819603495336,
          -0.2541191740775342,
          -1.5744224819850823,
          0.4424197673183819,
          0.9446253816575055,
          0.23631706594971114,
          0.14785287447786766,
          0.22500275896921618,
          -0.013301170787457814,
          0.2315655094459254,
          0.6735331950306841,
          -0.10790761675412006,
          -1.5498459914408311,
          -0.41529924792912287,
          -0.22878419631577793,
          2.3889340441169504,
          -0.5011363683382322,
          -0.18138728609572885,
          0.10481645267669726,
          0.7086729341837882,
          -1.4574933521470606,
          -2.276244891933633,
          -0.928082898567579,
          0.22469067595539435,
          0.5161213606538004,
          0.24896276094352396,
          -0.017016592599865137,
          -0.2353009091061637,
          0.6210256252215713,
          1.0259839308083618,
          -0.05291468044019354,
          -1.2015439091389342,
          0.20200327029328774,
          -0.3229245198595919,
          0.5524528833109041,
          -0.4028777637706296,
          -0.059882638309787274,
          0.12775951718529485,
          -0.17957320771266141,
          1.0269177088172363,
          1.1771880686524667,
          -0.6395966666807401,
          0.3744607968230148,
          0.641740461644252,
          -1.0076463847201,
          0.02226447529627381,
          0.2190566031008649,
          -0.643633189304614,
          1.2638889727273173,
          -0.48892495679508047,
          0.059705931132288816,
          -0.9664065644091091,
          1.095398828129973,
          -0.8408864989043608,
          -0.871759542343419,
          -0.1856655404692126,
          0.18088575006579746,
          1.2747503019467712,
          -0.4396286084094133,
          -1.1740229644234133,
          0.1367868730401681,
          0.5003571614833707
         ],
         "y": [
          -0.34761400696809835,
          0.7967107929307996,
          -1.021435745012177,
          0.8039058679506786,
          0.28202976547017816,
          1.629306414530597,
          -3.4110663508758923,
          -0.9237688579846878,
          1.3449197314869716,
          -1.056451635061406,
          -1.0691292337350398,
          1.3229153833868197,
          0.1944216073353599,
          0.299995236341656,
          0.44109109461435964,
          -0.08136416868042488,
          0.9303198403726493,
          0.05888325507957637,
          0.7395899412452036,
          -0.150937039126787,
          -0.8073667119303348,
          -2.1209755600528832,
          1.3326778932258512,
          0.9912008713869328,
          -1.0508995328015918,
          0.13999533634881983,
          -0.8173571641054362,
          -0.11295496530104156,
          -1.6812301346024714,
          1.0420418838155838,
          0.2250212295749634,
          1.1691927821992336,
          -0.8497153337809334,
          -0.2598100609473683,
          -0.5252259693487649,
          -0.741660775358332,
          1.3379213304389845,
          1.0001179164638403,
          -1.0402508474746148,
          -0.051391256452094,
          0.7572822801140646,
          1.314205938870495,
          -1.415487984063252,
          -0.261307270216244,
          -0.6325936261624826,
          0.1347352764137132,
          1.1117699079741161,
          -0.6365318004652251,
          0.6586264711638239,
          -2.2171795885534,
          0.11320736946178084,
          1.5729034138642517,
          0.1310369529846583,
          -0.9617569362791584,
          -0.8777880682991028,
          0.5899941649731096,
          -0.1412306828688527,
          1.5170554467085127,
          0.53130018523096,
          0.32158882850971465,
          -0.9464306474339612,
          -1.8406876139673087,
          -0.6592197757814411,
          -0.05035363573486317,
          -0.0012558881887979863,
          -2.2476749098487656,
          -0.7598151323708757,
          -1.4218480040643744,
          -0.5040523542296603,
          1.1160587623525131,
          1.3272816572811181,
          0.9641613696033847,
          1.0351188803977998,
          0.7523574359092837,
          -0.08234499129197077,
          -0.43717706866405887,
          1.1601515432985665,
          -0.5526689647969686,
          0.7509740048177651,
          0.27402019924238286,
          0.7684338000320895,
          -1.0774412859096918,
          -2.158782081147689,
          0.6228680278276605,
          -1.4619809072135606,
          -2.351284827931384,
          -0.36035854063131767,
          1.5433883055746351,
          0.611161533590583,
          0.40126658500000917,
          0.432320337391507,
          0.05165221386738992,
          0.7266281491464596,
          -1.5253604789419755,
          -0.8028686711450908,
          1.3187931284966241,
          -0.5975997233571111,
          0.238360495263982,
          -1.0803828111948988,
          1.2501965937113815
         ]
        }
       ],
       "layout": {
        "legend": {
         "bgcolor": "#F5F6F9",
         "font": {
          "color": "#4D5663"
         }
        },
        "paper_bgcolor": "#F5F6F9",
        "plot_bgcolor": "#F5F6F9",
        "template": {
         "data": {
          "bar": [
           {
            "error_x": {
             "color": "#2a3f5f"
            },
            "error_y": {
             "color": "#2a3f5f"
            },
            "marker": {
             "line": {
              "color": "#E5ECF6",
              "width": 0.5
             }
            },
            "type": "bar"
           }
          ],
          "barpolar": [
           {
            "marker": {
             "line": {
              "color": "#E5ECF6",
              "width": 0.5
             }
            },
            "type": "barpolar"
           }
          ],
          "carpet": [
           {
            "aaxis": {
             "endlinecolor": "#2a3f5f",
             "gridcolor": "white",
             "linecolor": "white",
             "minorgridcolor": "white",
             "startlinecolor": "#2a3f5f"
            },
            "baxis": {
             "endlinecolor": "#2a3f5f",
             "gridcolor": "white",
             "linecolor": "white",
             "minorgridcolor": "white",
             "startlinecolor": "#2a3f5f"
            },
            "type": "carpet"
           }
          ],
          "choropleth": [
           {
            "colorbar": {
             "outlinewidth": 0,
             "ticks": ""
            },
            "type": "choropleth"
           }
          ],
          "contour": [
           {
            "colorbar": {
             "outlinewidth": 0,
             "ticks": ""
            },
            "colorscale": [
             [
              0,
              "#0d0887"
             ],
             [
              0.1111111111111111,
              "#46039f"
             ],
             [
              0.2222222222222222,
              "#7201a8"
             ],
             [
              0.3333333333333333,
              "#9c179e"
             ],
             [
              0.4444444444444444,
              "#bd3786"
             ],
             [
              0.5555555555555556,
              "#d8576b"
             ],
             [
              0.6666666666666666,
              "#ed7953"
             ],
             [
              0.7777777777777778,
              "#fb9f3a"
             ],
             [
              0.8888888888888888,
              "#fdca26"
             ],
             [
              1,
              "#f0f921"
             ]
            ],
            "type": "contour"
           }
          ],
          "contourcarpet": [
           {
            "colorbar": {
             "outlinewidth": 0,
             "ticks": ""
            },
            "type": "contourcarpet"
           }
          ],
          "heatmap": [
           {
            "colorbar": {
             "outlinewidth": 0,
             "ticks": ""
            },
            "colorscale": [
             [
              0,
              "#0d0887"
             ],
             [
              0.1111111111111111,
              "#46039f"
             ],
             [
              0.2222222222222222,
              "#7201a8"
             ],
             [
              0.3333333333333333,
              "#9c179e"
             ],
             [
              0.4444444444444444,
              "#bd3786"
             ],
             [
              0.5555555555555556,
              "#d8576b"
             ],
             [
              0.6666666666666666,
              "#ed7953"
             ],
             [
              0.7777777777777778,
              "#fb9f3a"
             ],
             [
              0.8888888888888888,
              "#fdca26"
             ],
             [
              1,
              "#f0f921"
             ]
            ],
            "type": "heatmap"
           }
          ],
          "heatmapgl": [
           {
            "colorbar": {
             "outlinewidth": 0,
             "ticks": ""
            },
            "colorscale": [
             [
              0,
              "#0d0887"
             ],
             [
              0.1111111111111111,
              "#46039f"
             ],
             [
              0.2222222222222222,
              "#7201a8"
             ],
             [
              0.3333333333333333,
              "#9c179e"
             ],
             [
              0.4444444444444444,
              "#bd3786"
             ],
             [
              0.5555555555555556,
              "#d8576b"
             ],
             [
              0.6666666666666666,
              "#ed7953"
             ],
             [
              0.7777777777777778,
              "#fb9f3a"
             ],
             [
              0.8888888888888888,
              "#fdca26"
             ],
             [
              1,
              "#f0f921"
             ]
            ],
            "type": "heatmapgl"
           }
          ],
          "histogram": [
           {
            "marker": {
             "colorbar": {
              "outlinewidth": 0,
              "ticks": ""
             }
            },
            "type": "histogram"
           }
          ],
          "histogram2d": [
           {
            "colorbar": {
             "outlinewidth": 0,
             "ticks": ""
            },
            "colorscale": [
             [
              0,
              "#0d0887"
             ],
             [
              0.1111111111111111,
              "#46039f"
             ],
             [
              0.2222222222222222,
              "#7201a8"
             ],
             [
              0.3333333333333333,
              "#9c179e"
             ],
             [
              0.4444444444444444,
              "#bd3786"
             ],
             [
              0.5555555555555556,
              "#d8576b"
             ],
             [
              0.6666666666666666,
              "#ed7953"
             ],
             [
              0.7777777777777778,
              "#fb9f3a"
             ],
             [
              0.8888888888888888,
              "#fdca26"
             ],
             [
              1,
              "#f0f921"
             ]
            ],
            "type": "histogram2d"
           }
          ],
          "histogram2dcontour": [
           {
            "colorbar": {
             "outlinewidth": 0,
             "ticks": ""
            },
            "colorscale": [
             [
              0,
              "#0d0887"
             ],
             [
              0.1111111111111111,
              "#46039f"
             ],
             [
              0.2222222222222222,
              "#7201a8"
             ],
             [
              0.3333333333333333,
              "#9c179e"
             ],
             [
              0.4444444444444444,
              "#bd3786"
             ],
             [
              0.5555555555555556,
              "#d8576b"
             ],
             [
              0.6666666666666666,
              "#ed7953"
             ],
             [
              0.7777777777777778,
              "#fb9f3a"
             ],
             [
              0.8888888888888888,
              "#fdca26"
             ],
             [
              1,
              "#f0f921"
             ]
            ],
            "type": "histogram2dcontour"
           }
          ],
          "mesh3d": [
           {
            "colorbar": {
             "outlinewidth": 0,
             "ticks": ""
            },
            "type": "mesh3d"
           }
          ],
          "parcoords": [
           {
            "line": {
             "colorbar": {
              "outlinewidth": 0,
              "ticks": ""
             }
            },
            "type": "parcoords"
           }
          ],
          "pie": [
           {
            "automargin": true,
            "type": "pie"
           }
          ],
          "scatter": [
           {
            "marker": {
             "colorbar": {
              "outlinewidth": 0,
              "ticks": ""
             }
            },
            "type": "scatter"
           }
          ],
          "scatter3d": [
           {
            "line": {
             "colorbar": {
              "outlinewidth": 0,
              "ticks": ""
             }
            },
            "marker": {
             "colorbar": {
              "outlinewidth": 0,
              "ticks": ""
             }
            },
            "type": "scatter3d"
           }
          ],
          "scattercarpet": [
           {
            "marker": {
             "colorbar": {
              "outlinewidth": 0,
              "ticks": ""
             }
            },
            "type": "scattercarpet"
           }
          ],
          "scattergeo": [
           {
            "marker": {
             "colorbar": {
              "outlinewidth": 0,
              "ticks": ""
             }
            },
            "type": "scattergeo"
           }
          ],
          "scattergl": [
           {
            "marker": {
             "colorbar": {
              "outlinewidth": 0,
              "ticks": ""
             }
            },
            "type": "scattergl"
           }
          ],
          "scattermapbox": [
           {
            "marker": {
             "colorbar": {
              "outlinewidth": 0,
              "ticks": ""
             }
            },
            "type": "scattermapbox"
           }
          ],
          "scatterpolar": [
           {
            "marker": {
             "colorbar": {
              "outlinewidth": 0,
              "ticks": ""
             }
            },
            "type": "scatterpolar"
           }
          ],
          "scatterpolargl": [
           {
            "marker": {
             "colorbar": {
              "outlinewidth": 0,
              "ticks": ""
             }
            },
            "type": "scatterpolargl"
           }
          ],
          "scatterternary": [
           {
            "marker": {
             "colorbar": {
              "outlinewidth": 0,
              "ticks": ""
             }
            },
            "type": "scatterternary"
           }
          ],
          "surface": [
           {
            "colorbar": {
             "outlinewidth": 0,
             "ticks": ""
            },
            "colorscale": [
             [
              0,
              "#0d0887"
             ],
             [
              0.1111111111111111,
              "#46039f"
             ],
             [
              0.2222222222222222,
              "#7201a8"
             ],
             [
              0.3333333333333333,
              "#9c179e"
             ],
             [
              0.4444444444444444,
              "#bd3786"
             ],
             [
              0.5555555555555556,
              "#d8576b"
             ],
             [
              0.6666666666666666,
              "#ed7953"
             ],
             [
              0.7777777777777778,
              "#fb9f3a"
             ],
             [
              0.8888888888888888,
              "#fdca26"
             ],
             [
              1,
              "#f0f921"
             ]
            ],
            "type": "surface"
           }
          ],
          "table": [
           {
            "cells": {
             "fill": {
              "color": "#EBF0F8"
             },
             "line": {
              "color": "white"
             }
            },
            "header": {
             "fill": {
              "color": "#C8D4E3"
             },
             "line": {
              "color": "white"
             }
            },
            "type": "table"
           }
          ]
         },
         "layout": {
          "annotationdefaults": {
           "arrowcolor": "#2a3f5f",
           "arrowhead": 0,
           "arrowwidth": 1
          },
          "coloraxis": {
           "colorbar": {
            "outlinewidth": 0,
            "ticks": ""
           }
          },
          "colorscale": {
           "diverging": [
            [
             0,
             "#8e0152"
            ],
            [
             0.1,
             "#c51b7d"
            ],
            [
             0.2,
             "#de77ae"
            ],
            [
             0.3,
             "#f1b6da"
            ],
            [
             0.4,
             "#fde0ef"
            ],
            [
             0.5,
             "#f7f7f7"
            ],
            [
             0.6,
             "#e6f5d0"
            ],
            [
             0.7,
             "#b8e186"
            ],
            [
             0.8,
             "#7fbc41"
            ],
            [
             0.9,
             "#4d9221"
            ],
            [
             1,
             "#276419"
            ]
           ],
           "sequential": [
            [
             0,
             "#0d0887"
            ],
            [
             0.1111111111111111,
             "#46039f"
            ],
            [
             0.2222222222222222,
             "#7201a8"
            ],
            [
             0.3333333333333333,
             "#9c179e"
            ],
            [
             0.4444444444444444,
             "#bd3786"
            ],
            [
             0.5555555555555556,
             "#d8576b"
            ],
            [
             0.6666666666666666,
             "#ed7953"
            ],
            [
             0.7777777777777778,
             "#fb9f3a"
            ],
            [
             0.8888888888888888,
             "#fdca26"
            ],
            [
             1,
             "#f0f921"
            ]
           ],
           "sequentialminus": [
            [
             0,
             "#0d0887"
            ],
            [
             0.1111111111111111,
             "#46039f"
            ],
            [
             0.2222222222222222,
             "#7201a8"
            ],
            [
             0.3333333333333333,
             "#9c179e"
            ],
            [
             0.4444444444444444,
             "#bd3786"
            ],
            [
             0.5555555555555556,
             "#d8576b"
            ],
            [
             0.6666666666666666,
             "#ed7953"
            ],
            [
             0.7777777777777778,
             "#fb9f3a"
            ],
            [
             0.8888888888888888,
             "#fdca26"
            ],
            [
             1,
             "#f0f921"
            ]
           ]
          },
          "colorway": [
           "#636efa",
           "#EF553B",
           "#00cc96",
           "#ab63fa",
           "#FFA15A",
           "#19d3f3",
           "#FF6692",
           "#B6E880",
           "#FF97FF",
           "#FECB52"
          ],
          "font": {
           "color": "#2a3f5f"
          },
          "geo": {
           "bgcolor": "white",
           "lakecolor": "white",
           "landcolor": "#E5ECF6",
           "showlakes": true,
           "showland": true,
           "subunitcolor": "white"
          },
          "hoverlabel": {
           "align": "left"
          },
          "hovermode": "closest",
          "mapbox": {
           "style": "light"
          },
          "paper_bgcolor": "white",
          "plot_bgcolor": "#E5ECF6",
          "polar": {
           "angularaxis": {
            "gridcolor": "white",
            "linecolor": "white",
            "ticks": ""
           },
           "bgcolor": "#E5ECF6",
           "radialaxis": {
            "gridcolor": "white",
            "linecolor": "white",
            "ticks": ""
           }
          },
          "scene": {
           "xaxis": {
            "backgroundcolor": "#E5ECF6",
            "gridcolor": "white",
            "gridwidth": 2,
            "linecolor": "white",
            "showbackground": true,
            "ticks": "",
            "zerolinecolor": "white"
           },
           "yaxis": {
            "backgroundcolor": "#E5ECF6",
            "gridcolor": "white",
            "gridwidth": 2,
            "linecolor": "white",
            "showbackground": true,
            "ticks": "",
            "zerolinecolor": "white"
           },
           "zaxis": {
            "backgroundcolor": "#E5ECF6",
            "gridcolor": "white",
            "gridwidth": 2,
            "linecolor": "white",
            "showbackground": true,
            "ticks": "",
            "zerolinecolor": "white"
           }
          },
          "shapedefaults": {
           "line": {
            "color": "#2a3f5f"
           }
          },
          "ternary": {
           "aaxis": {
            "gridcolor": "white",
            "linecolor": "white",
            "ticks": ""
           },
           "baxis": {
            "gridcolor": "white",
            "linecolor": "white",
            "ticks": ""
           },
           "bgcolor": "#E5ECF6",
           "caxis": {
            "gridcolor": "white",
            "linecolor": "white",
            "ticks": ""
           }
          },
          "title": {
           "x": 0.05
          },
          "xaxis": {
           "automargin": true,
           "gridcolor": "white",
           "linecolor": "white",
           "ticks": "",
           "title": {
            "standoff": 15
           },
           "zerolinecolor": "white",
           "zerolinewidth": 2
          },
          "yaxis": {
           "automargin": true,
           "gridcolor": "white",
           "linecolor": "white",
           "ticks": "",
           "title": {
            "standoff": 15
           },
           "zerolinecolor": "white",
           "zerolinewidth": 2
          }
         }
        },
        "title": {
         "font": {
          "color": "#4D5663"
         }
        },
        "xaxis": {
         "gridcolor": "#E1E5ED",
         "showgrid": true,
         "tickfont": {
          "color": "#4D5663"
         },
         "title": {
          "font": {
           "color": "#4D5663"
          },
          "text": ""
         },
         "zerolinecolor": "#E1E5ED"
        },
        "yaxis": {
         "gridcolor": "#E1E5ED",
         "showgrid": true,
         "tickfont": {
          "color": "#4D5663"
         },
         "title": {
          "font": {
           "color": "#4D5663"
          },
          "text": ""
         },
         "zerolinecolor": "#E1E5ED"
        }
       }
      },
      "text/html": [
       "<div>                            <div id=\"728c2222-bea4-43ed-bb8c-4a0a8c3cbfd4\" class=\"plotly-graph-div\" style=\"height:525px; width:100%;\"></div>            <script type=\"text/javascript\">                require([\"plotly\"], function(Plotly) {                    window.PLOTLYENV=window.PLOTLYENV || {};\n",
       "                    window.PLOTLYENV.BASE_URL='https://plot.ly';                                    if (document.getElementById(\"728c2222-bea4-43ed-bb8c-4a0a8c3cbfd4\")) {                    Plotly.newPlot(                        \"728c2222-bea4-43ed-bb8c-4a0a8c3cbfd4\",                        [{\"marker\": {\"color\": [\"rgb(255, 153, 51)\", \"rgb(55, 128, 191)\", \"rgb(50, 171, 96)\", \"rgb(128, 0, 128)\", \"rgb(219, 64, 82)\", \"rgb(0, 128, 128)\", \"rgb(255, 255, 51)\", \"rgb(128, 128, 0)\", \"rgb(251, 128, 114)\", \"rgb(128, 177, 211)\"], \"line\": {\"width\": 1.3}, \"size\": [51, 12, 78, 45, 51, 65, 65, 72, 48, 86, 77, 64, 94, 54, 79, 105, 102, 50, 54, 69, 85, 88, 74, 38, 75, 67, 41, 56, 75, 58, 78, 74, 56, 64, 91, 89, 69, 98, 78, 94, 87, 66, 74, 48, 51, 65, 112, 78, 94, 73, 76, 61, 82, 105, 55, 50, 46, 89, 84, 61, 71, 73, 73, 69, 86, 72, 65, 95, 80, 65, 67, 53, 63, 99, 73, 53, 73, 68, 71, 82, 49, 70, 99, 40, 67, 77, 47, 44, 79, 77, 41, 52, 103, 46, 37, 80, 78, 71, 72, 51], \"symbol\": \"circle\"}, \"mode\": \"markers\", \"text\": \"\", \"type\": \"scatter\", \"x\": [2.0098763595893336, 1.5854346850248688, 0.9517284968551595, 1.4209384421391142, 0.026688111038718355, 1.7742246940980553, 0.16997405066218702, -1.1663731149184284, -1.687555765778785, -0.9638359759236773, 0.31948585690353737, 0.45206655019272324, -0.5856593578130521, -1.3331664488301078, -0.18227467538397016, 1.0331832394221976, 0.37414095900530886, -1.3746069162300292, 1.8832078334627544, -0.16909971811806357, -0.32927926569287375, 0.2627032205145867, -0.3598102265304865, 0.5447321941036315, 1.6100120651269116, -0.3804397268147677, 0.1473620328561745, 1.6691747558384904, 1.8148257699582853, 1.0180855824554613, 2.766422169747134, 0.6612450177603737, 0.2986153846044228, -1.7053592704223286, -0.6711464446025099, -0.16294248127431257, -1.76502064308557, 0.056206938499821404, -0.7066819603495336, -0.2541191740775342, -1.5744224819850823, 0.4424197673183819, 0.9446253816575055, 0.23631706594971114, 0.14785287447786766, 0.22500275896921618, -0.013301170787457814, 0.2315655094459254, 0.6735331950306841, -0.10790761675412006, -1.5498459914408311, -0.41529924792912287, -0.22878419631577793, 2.3889340441169504, -0.5011363683382322, -0.18138728609572885, 0.10481645267669726, 0.7086729341837882, -1.4574933521470606, -2.276244891933633, -0.928082898567579, 0.22469067595539435, 0.5161213606538004, 0.24896276094352396, -0.017016592599865137, -0.2353009091061637, 0.6210256252215713, 1.0259839308083618, -0.05291468044019354, -1.2015439091389342, 0.20200327029328774, -0.3229245198595919, 0.5524528833109041, -0.4028777637706296, -0.059882638309787274, 0.12775951718529485, -0.17957320771266141, 1.0269177088172363, 1.1771880686524667, -0.6395966666807401, 0.3744607968230148, 0.641740461644252, -1.0076463847201, 0.02226447529627381, 0.2190566031008649, -0.643633189304614, 1.2638889727273173, -0.48892495679508047, 0.059705931132288816, -0.9664065644091091, 1.095398828129973, -0.8408864989043608, -0.871759542343419, -0.1856655404692126, 0.18088575006579746, 1.2747503019467712, -0.4396286084094133, -1.1740229644234133, 0.1367868730401681, 0.5003571614833707], \"y\": [-0.34761400696809835, 0.7967107929307996, -1.021435745012177, 0.8039058679506786, 0.28202976547017816, 1.629306414530597, -3.4110663508758923, -0.9237688579846878, 1.3449197314869716, -1.056451635061406, -1.0691292337350398, 1.3229153833868197, 0.1944216073353599, 0.299995236341656, 0.44109109461435964, -0.08136416868042488, 0.9303198403726493, 0.05888325507957637, 0.7395899412452036, -0.150937039126787, -0.8073667119303348, -2.1209755600528832, 1.3326778932258512, 0.9912008713869328, -1.0508995328015918, 0.13999533634881983, -0.8173571641054362, -0.11295496530104156, -1.6812301346024714, 1.0420418838155838, 0.2250212295749634, 1.1691927821992336, -0.8497153337809334, -0.2598100609473683, -0.5252259693487649, -0.741660775358332, 1.3379213304389845, 1.0001179164638403, -1.0402508474746148, -0.051391256452094, 0.7572822801140646, 1.314205938870495, -1.415487984063252, -0.261307270216244, -0.6325936261624826, 0.1347352764137132, 1.1117699079741161, -0.6365318004652251, 0.6586264711638239, -2.2171795885534, 0.11320736946178084, 1.5729034138642517, 0.1310369529846583, -0.9617569362791584, -0.8777880682991028, 0.5899941649731096, -0.1412306828688527, 1.5170554467085127, 0.53130018523096, 0.32158882850971465, -0.9464306474339612, -1.8406876139673087, -0.6592197757814411, -0.05035363573486317, -0.0012558881887979863, -2.2476749098487656, -0.7598151323708757, -1.4218480040643744, -0.5040523542296603, 1.1160587623525131, 1.3272816572811181, 0.9641613696033847, 1.0351188803977998, 0.7523574359092837, -0.08234499129197077, -0.43717706866405887, 1.1601515432985665, -0.5526689647969686, 0.7509740048177651, 0.27402019924238286, 0.7684338000320895, -1.0774412859096918, -2.158782081147689, 0.6228680278276605, -1.4619809072135606, -2.351284827931384, -0.36035854063131767, 1.5433883055746351, 0.611161533590583, 0.40126658500000917, 0.432320337391507, 0.05165221386738992, 0.7266281491464596, -1.5253604789419755, -0.8028686711450908, 1.3187931284966241, -0.5975997233571111, 0.238360495263982, -1.0803828111948988, 1.2501965937113815]}],                        {\"legend\": {\"bgcolor\": \"#F5F6F9\", \"font\": {\"color\": \"#4D5663\"}}, \"paper_bgcolor\": \"#F5F6F9\", \"plot_bgcolor\": \"#F5F6F9\", \"template\": {\"data\": {\"bar\": [{\"error_x\": {\"color\": \"#2a3f5f\"}, \"error_y\": {\"color\": \"#2a3f5f\"}, \"marker\": {\"line\": {\"color\": \"#E5ECF6\", \"width\": 0.5}}, \"type\": \"bar\"}], \"barpolar\": [{\"marker\": {\"line\": {\"color\": \"#E5ECF6\", \"width\": 0.5}}, \"type\": \"barpolar\"}], \"carpet\": [{\"aaxis\": {\"endlinecolor\": \"#2a3f5f\", \"gridcolor\": \"white\", \"linecolor\": \"white\", \"minorgridcolor\": \"white\", \"startlinecolor\": \"#2a3f5f\"}, \"baxis\": {\"endlinecolor\": \"#2a3f5f\", \"gridcolor\": \"white\", \"linecolor\": \"white\", \"minorgridcolor\": \"white\", \"startlinecolor\": \"#2a3f5f\"}, \"type\": \"carpet\"}], \"choropleth\": [{\"colorbar\": {\"outlinewidth\": 0, \"ticks\": \"\"}, \"type\": \"choropleth\"}], \"contour\": [{\"colorbar\": {\"outlinewidth\": 0, \"ticks\": \"\"}, \"colorscale\": [[0.0, \"#0d0887\"], [0.1111111111111111, \"#46039f\"], [0.2222222222222222, \"#7201a8\"], [0.3333333333333333, \"#9c179e\"], [0.4444444444444444, \"#bd3786\"], [0.5555555555555556, \"#d8576b\"], [0.6666666666666666, \"#ed7953\"], [0.7777777777777778, \"#fb9f3a\"], [0.8888888888888888, \"#fdca26\"], [1.0, \"#f0f921\"]], \"type\": \"contour\"}], \"contourcarpet\": [{\"colorbar\": {\"outlinewidth\": 0, \"ticks\": \"\"}, \"type\": \"contourcarpet\"}], \"heatmap\": [{\"colorbar\": {\"outlinewidth\": 0, \"ticks\": \"\"}, \"colorscale\": [[0.0, \"#0d0887\"], [0.1111111111111111, \"#46039f\"], [0.2222222222222222, \"#7201a8\"], [0.3333333333333333, \"#9c179e\"], [0.4444444444444444, \"#bd3786\"], [0.5555555555555556, \"#d8576b\"], [0.6666666666666666, \"#ed7953\"], [0.7777777777777778, \"#fb9f3a\"], [0.8888888888888888, \"#fdca26\"], [1.0, \"#f0f921\"]], \"type\": \"heatmap\"}], \"heatmapgl\": [{\"colorbar\": {\"outlinewidth\": 0, \"ticks\": \"\"}, \"colorscale\": [[0.0, \"#0d0887\"], [0.1111111111111111, \"#46039f\"], [0.2222222222222222, \"#7201a8\"], [0.3333333333333333, \"#9c179e\"], [0.4444444444444444, \"#bd3786\"], [0.5555555555555556, \"#d8576b\"], [0.6666666666666666, \"#ed7953\"], [0.7777777777777778, \"#fb9f3a\"], [0.8888888888888888, \"#fdca26\"], [1.0, \"#f0f921\"]], \"type\": \"heatmapgl\"}], \"histogram\": [{\"marker\": {\"colorbar\": {\"outlinewidth\": 0, \"ticks\": \"\"}}, \"type\": \"histogram\"}], \"histogram2d\": [{\"colorbar\": {\"outlinewidth\": 0, \"ticks\": \"\"}, \"colorscale\": [[0.0, \"#0d0887\"], [0.1111111111111111, \"#46039f\"], [0.2222222222222222, \"#7201a8\"], [0.3333333333333333, \"#9c179e\"], [0.4444444444444444, \"#bd3786\"], [0.5555555555555556, \"#d8576b\"], [0.6666666666666666, \"#ed7953\"], [0.7777777777777778, \"#fb9f3a\"], [0.8888888888888888, \"#fdca26\"], [1.0, \"#f0f921\"]], \"type\": \"histogram2d\"}], \"histogram2dcontour\": [{\"colorbar\": {\"outlinewidth\": 0, \"ticks\": \"\"}, \"colorscale\": [[0.0, \"#0d0887\"], [0.1111111111111111, \"#46039f\"], [0.2222222222222222, \"#7201a8\"], [0.3333333333333333, \"#9c179e\"], [0.4444444444444444, \"#bd3786\"], [0.5555555555555556, \"#d8576b\"], [0.6666666666666666, \"#ed7953\"], [0.7777777777777778, \"#fb9f3a\"], [0.8888888888888888, \"#fdca26\"], [1.0, \"#f0f921\"]], \"type\": \"histogram2dcontour\"}], \"mesh3d\": [{\"colorbar\": {\"outlinewidth\": 0, \"ticks\": \"\"}, \"type\": \"mesh3d\"}], \"parcoords\": [{\"line\": {\"colorbar\": {\"outlinewidth\": 0, \"ticks\": \"\"}}, \"type\": \"parcoords\"}], \"pie\": [{\"automargin\": true, \"type\": \"pie\"}], \"scatter\": [{\"marker\": {\"colorbar\": {\"outlinewidth\": 0, \"ticks\": \"\"}}, \"type\": \"scatter\"}], \"scatter3d\": [{\"line\": {\"colorbar\": {\"outlinewidth\": 0, \"ticks\": \"\"}}, \"marker\": {\"colorbar\": {\"outlinewidth\": 0, \"ticks\": \"\"}}, \"type\": \"scatter3d\"}], \"scattercarpet\": [{\"marker\": {\"colorbar\": {\"outlinewidth\": 0, \"ticks\": \"\"}}, \"type\": \"scattercarpet\"}], \"scattergeo\": [{\"marker\": {\"colorbar\": {\"outlinewidth\": 0, \"ticks\": \"\"}}, \"type\": \"scattergeo\"}], \"scattergl\": [{\"marker\": {\"colorbar\": {\"outlinewidth\": 0, \"ticks\": \"\"}}, \"type\": \"scattergl\"}], \"scattermapbox\": [{\"marker\": {\"colorbar\": {\"outlinewidth\": 0, \"ticks\": \"\"}}, \"type\": \"scattermapbox\"}], \"scatterpolar\": [{\"marker\": {\"colorbar\": {\"outlinewidth\": 0, \"ticks\": \"\"}}, \"type\": \"scatterpolar\"}], \"scatterpolargl\": [{\"marker\": {\"colorbar\": {\"outlinewidth\": 0, \"ticks\": \"\"}}, \"type\": \"scatterpolargl\"}], \"scatterternary\": [{\"marker\": {\"colorbar\": {\"outlinewidth\": 0, \"ticks\": \"\"}}, \"type\": \"scatterternary\"}], \"surface\": [{\"colorbar\": {\"outlinewidth\": 0, \"ticks\": \"\"}, \"colorscale\": [[0.0, \"#0d0887\"], [0.1111111111111111, \"#46039f\"], [0.2222222222222222, \"#7201a8\"], [0.3333333333333333, \"#9c179e\"], [0.4444444444444444, \"#bd3786\"], [0.5555555555555556, \"#d8576b\"], [0.6666666666666666, \"#ed7953\"], [0.7777777777777778, \"#fb9f3a\"], [0.8888888888888888, \"#fdca26\"], [1.0, \"#f0f921\"]], \"type\": \"surface\"}], \"table\": [{\"cells\": {\"fill\": {\"color\": \"#EBF0F8\"}, \"line\": {\"color\": \"white\"}}, \"header\": {\"fill\": {\"color\": \"#C8D4E3\"}, \"line\": {\"color\": \"white\"}}, \"type\": \"table\"}]}, \"layout\": {\"annotationdefaults\": {\"arrowcolor\": \"#2a3f5f\", \"arrowhead\": 0, \"arrowwidth\": 1}, \"coloraxis\": {\"colorbar\": {\"outlinewidth\": 0, \"ticks\": \"\"}}, \"colorscale\": {\"diverging\": [[0, \"#8e0152\"], [0.1, \"#c51b7d\"], [0.2, \"#de77ae\"], [0.3, \"#f1b6da\"], [0.4, \"#fde0ef\"], [0.5, \"#f7f7f7\"], [0.6, \"#e6f5d0\"], [0.7, \"#b8e186\"], [0.8, \"#7fbc41\"], [0.9, \"#4d9221\"], [1, \"#276419\"]], \"sequential\": [[0.0, \"#0d0887\"], [0.1111111111111111, \"#46039f\"], [0.2222222222222222, \"#7201a8\"], [0.3333333333333333, \"#9c179e\"], [0.4444444444444444, \"#bd3786\"], [0.5555555555555556, \"#d8576b\"], [0.6666666666666666, \"#ed7953\"], [0.7777777777777778, \"#fb9f3a\"], [0.8888888888888888, \"#fdca26\"], [1.0, \"#f0f921\"]], \"sequentialminus\": [[0.0, \"#0d0887\"], [0.1111111111111111, \"#46039f\"], [0.2222222222222222, \"#7201a8\"], [0.3333333333333333, \"#9c179e\"], [0.4444444444444444, \"#bd3786\"], [0.5555555555555556, \"#d8576b\"], [0.6666666666666666, \"#ed7953\"], [0.7777777777777778, \"#fb9f3a\"], [0.8888888888888888, \"#fdca26\"], [1.0, \"#f0f921\"]]}, \"colorway\": [\"#636efa\", \"#EF553B\", \"#00cc96\", \"#ab63fa\", \"#FFA15A\", \"#19d3f3\", \"#FF6692\", \"#B6E880\", \"#FF97FF\", \"#FECB52\"], \"font\": {\"color\": \"#2a3f5f\"}, \"geo\": {\"bgcolor\": \"white\", \"lakecolor\": \"white\", \"landcolor\": \"#E5ECF6\", \"showlakes\": true, \"showland\": true, \"subunitcolor\": \"white\"}, \"hoverlabel\": {\"align\": \"left\"}, \"hovermode\": \"closest\", \"mapbox\": {\"style\": \"light\"}, \"paper_bgcolor\": \"white\", \"plot_bgcolor\": \"#E5ECF6\", \"polar\": {\"angularaxis\": {\"gridcolor\": \"white\", \"linecolor\": \"white\", \"ticks\": \"\"}, \"bgcolor\": \"#E5ECF6\", \"radialaxis\": {\"gridcolor\": \"white\", \"linecolor\": \"white\", \"ticks\": \"\"}}, \"scene\": {\"xaxis\": {\"backgroundcolor\": \"#E5ECF6\", \"gridcolor\": \"white\", \"gridwidth\": 2, \"linecolor\": \"white\", \"showbackground\": true, \"ticks\": \"\", \"zerolinecolor\": \"white\"}, \"yaxis\": {\"backgroundcolor\": \"#E5ECF6\", \"gridcolor\": \"white\", \"gridwidth\": 2, \"linecolor\": \"white\", \"showbackground\": true, \"ticks\": \"\", \"zerolinecolor\": \"white\"}, \"zaxis\": {\"backgroundcolor\": \"#E5ECF6\", \"gridcolor\": \"white\", \"gridwidth\": 2, \"linecolor\": \"white\", \"showbackground\": true, \"ticks\": \"\", \"zerolinecolor\": \"white\"}}, \"shapedefaults\": {\"line\": {\"color\": \"#2a3f5f\"}}, \"ternary\": {\"aaxis\": {\"gridcolor\": \"white\", \"linecolor\": \"white\", \"ticks\": \"\"}, \"baxis\": {\"gridcolor\": \"white\", \"linecolor\": \"white\", \"ticks\": \"\"}, \"bgcolor\": \"#E5ECF6\", \"caxis\": {\"gridcolor\": \"white\", \"linecolor\": \"white\", \"ticks\": \"\"}}, \"title\": {\"x\": 0.05}, \"xaxis\": {\"automargin\": true, \"gridcolor\": \"white\", \"linecolor\": \"white\", \"ticks\": \"\", \"title\": {\"standoff\": 15}, \"zerolinecolor\": \"white\", \"zerolinewidth\": 2}, \"yaxis\": {\"automargin\": true, \"gridcolor\": \"white\", \"linecolor\": \"white\", \"ticks\": \"\", \"title\": {\"standoff\": 15}, \"zerolinecolor\": \"white\", \"zerolinewidth\": 2}}}, \"title\": {\"font\": {\"color\": \"#4D5663\"}}, \"xaxis\": {\"gridcolor\": \"#E1E5ED\", \"showgrid\": true, \"tickfont\": {\"color\": \"#4D5663\"}, \"title\": {\"font\": {\"color\": \"#4D5663\"}, \"text\": \"\"}, \"zerolinecolor\": \"#E1E5ED\"}, \"yaxis\": {\"gridcolor\": \"#E1E5ED\", \"showgrid\": true, \"tickfont\": {\"color\": \"#4D5663\"}, \"title\": {\"font\": {\"color\": \"#4D5663\"}, \"text\": \"\"}, \"zerolinecolor\": \"#E1E5ED\"}},                        {\"showLink\": true, \"linkText\": \"Export to plot.ly\", \"plotlyServerURL\": \"https://plot.ly\", \"responsive\": true}                    ).then(function(){\n",
       "                            \n",
       "var gd = document.getElementById('728c2222-bea4-43ed-bb8c-4a0a8c3cbfd4');\n",
       "var x = new MutationObserver(function (mutations, observer) {{\n",
       "        var display = window.getComputedStyle(gd).display;\n",
       "        if (!display || display === 'none') {{\n",
       "            console.log([gd, 'removed!']);\n",
       "            Plotly.purge(gd);\n",
       "            observer.disconnect();\n",
       "        }}\n",
       "}});\n",
       "\n",
       "// Listen for the removal of the full notebook cells\n",
       "var notebookContainer = gd.closest('#notebook-container');\n",
       "if (notebookContainer) {{\n",
       "    x.observe(notebookContainer, {childList: true});\n",
       "}}\n",
       "\n",
       "// Listen for the clearing of the current output cell\n",
       "var outputEl = gd.closest('.output');\n",
       "if (outputEl) {{\n",
       "    x.observe(outputEl, {childList: true});\n",
       "}}\n",
       "\n",
       "                        })                };                });            </script>        </div>"
      ]
     },
     "metadata": {},
     "output_type": "display_data"
    }
   ],
   "source": [
    "fake_df.iplot(kind='bubble', x='A', y='B', size='C')"
   ]
  },
  {
   "cell_type": "code",
   "execution_count": 18,
   "metadata": {},
   "outputs": [
    {
     "data": {
      "application/vnd.plotly.v1+json": {
       "config": {
        "linkText": "Export to plot.ly",
        "plotlyServerURL": "https://plot.ly",
        "showLink": true
       },
       "data": [
        {
         "line": {
          "color": "rgba(255, 153, 51, 1.0)",
          "dash": "solid",
          "shape": "linear",
          "width": 1.3
         },
         "mode": "lines",
         "name": "A",
         "text": "",
         "type": "scatter",
         "x": [
          0,
          1,
          2,
          3,
          4,
          5,
          6,
          7,
          8,
          9,
          10,
          11,
          12,
          13,
          14,
          15,
          16,
          17,
          18,
          19,
          20,
          21,
          22,
          23,
          24,
          25,
          26,
          27,
          28,
          29,
          30,
          31,
          32,
          33,
          34,
          35,
          36,
          37,
          38,
          39,
          40,
          41,
          42,
          43,
          44,
          45,
          46,
          47,
          48,
          49,
          50,
          51,
          52,
          53,
          54,
          55,
          56,
          57,
          58,
          59,
          60,
          61,
          62,
          63,
          64,
          65,
          66,
          67,
          68,
          69,
          70,
          71,
          72,
          73,
          74,
          75,
          76,
          77,
          78,
          79,
          80,
          81,
          82,
          83,
          84,
          85,
          86,
          87,
          88,
          89,
          90,
          91,
          92,
          93,
          94,
          95,
          96,
          97,
          98,
          99
         ],
         "y": [
          2.0098763595893336,
          1.5854346850248688,
          0.9517284968551595,
          1.4209384421391142,
          0.026688111038718355,
          1.7742246940980553,
          0.16997405066218702,
          -1.1663731149184284,
          -1.687555765778785,
          -0.9638359759236773,
          0.31948585690353737,
          0.45206655019272324,
          -0.5856593578130521,
          -1.3331664488301078,
          -0.18227467538397016,
          1.0331832394221976,
          0.37414095900530886,
          -1.3746069162300292,
          1.8832078334627544,
          -0.16909971811806357,
          -0.32927926569287375,
          0.2627032205145867,
          -0.3598102265304865,
          0.5447321941036315,
          1.6100120651269116,
          -0.3804397268147677,
          0.1473620328561745,
          1.6691747558384904,
          1.8148257699582853,
          1.0180855824554613,
          2.766422169747134,
          0.6612450177603737,
          0.2986153846044228,
          -1.7053592704223286,
          -0.6711464446025099,
          -0.16294248127431257,
          -1.76502064308557,
          0.056206938499821404,
          -0.7066819603495336,
          -0.2541191740775342,
          -1.5744224819850823,
          0.4424197673183819,
          0.9446253816575055,
          0.23631706594971114,
          0.14785287447786766,
          0.22500275896921618,
          -0.013301170787457814,
          0.2315655094459254,
          0.6735331950306841,
          -0.10790761675412006,
          -1.5498459914408311,
          -0.41529924792912287,
          -0.22878419631577793,
          2.3889340441169504,
          -0.5011363683382322,
          -0.18138728609572885,
          0.10481645267669726,
          0.7086729341837882,
          -1.4574933521470606,
          -2.276244891933633,
          -0.928082898567579,
          0.22469067595539435,
          0.5161213606538004,
          0.24896276094352396,
          -0.017016592599865137,
          -0.2353009091061637,
          0.6210256252215713,
          1.0259839308083618,
          -0.05291468044019354,
          -1.2015439091389342,
          0.20200327029328774,
          -0.3229245198595919,
          0.5524528833109041,
          -0.4028777637706296,
          -0.059882638309787274,
          0.12775951718529485,
          -0.17957320771266141,
          1.0269177088172363,
          1.1771880686524667,
          -0.6395966666807401,
          0.3744607968230148,
          0.641740461644252,
          -1.0076463847201,
          0.02226447529627381,
          0.2190566031008649,
          -0.643633189304614,
          1.2638889727273173,
          -0.48892495679508047,
          0.059705931132288816,
          -0.9664065644091091,
          1.095398828129973,
          -0.8408864989043608,
          -0.871759542343419,
          -0.1856655404692126,
          0.18088575006579746,
          1.2747503019467712,
          -0.4396286084094133,
          -1.1740229644234133,
          0.1367868730401681,
          0.5003571614833707
         ]
        },
        {
         "line": {
          "color": "rgba(55, 128, 191, 1.0)",
          "dash": "solid",
          "shape": "linear",
          "width": 1.3
         },
         "mode": "lines",
         "name": "B",
         "text": "",
         "type": "scatter",
         "x": [
          0,
          1,
          2,
          3,
          4,
          5,
          6,
          7,
          8,
          9,
          10,
          11,
          12,
          13,
          14,
          15,
          16,
          17,
          18,
          19,
          20,
          21,
          22,
          23,
          24,
          25,
          26,
          27,
          28,
          29,
          30,
          31,
          32,
          33,
          34,
          35,
          36,
          37,
          38,
          39,
          40,
          41,
          42,
          43,
          44,
          45,
          46,
          47,
          48,
          49,
          50,
          51,
          52,
          53,
          54,
          55,
          56,
          57,
          58,
          59,
          60,
          61,
          62,
          63,
          64,
          65,
          66,
          67,
          68,
          69,
          70,
          71,
          72,
          73,
          74,
          75,
          76,
          77,
          78,
          79,
          80,
          81,
          82,
          83,
          84,
          85,
          86,
          87,
          88,
          89,
          90,
          91,
          92,
          93,
          94,
          95,
          96,
          97,
          98,
          99
         ],
         "y": [
          -0.34761400696809835,
          0.7967107929307996,
          -1.021435745012177,
          0.8039058679506786,
          0.28202976547017816,
          1.629306414530597,
          -3.4110663508758923,
          -0.9237688579846878,
          1.3449197314869716,
          -1.056451635061406,
          -1.0691292337350398,
          1.3229153833868197,
          0.1944216073353599,
          0.299995236341656,
          0.44109109461435964,
          -0.08136416868042488,
          0.9303198403726493,
          0.05888325507957637,
          0.7395899412452036,
          -0.150937039126787,
          -0.8073667119303348,
          -2.1209755600528832,
          1.3326778932258512,
          0.9912008713869328,
          -1.0508995328015918,
          0.13999533634881983,
          -0.8173571641054362,
          -0.11295496530104156,
          -1.6812301346024714,
          1.0420418838155838,
          0.2250212295749634,
          1.1691927821992336,
          -0.8497153337809334,
          -0.2598100609473683,
          -0.5252259693487649,
          -0.741660775358332,
          1.3379213304389845,
          1.0001179164638403,
          -1.0402508474746148,
          -0.051391256452094,
          0.7572822801140646,
          1.314205938870495,
          -1.415487984063252,
          -0.261307270216244,
          -0.6325936261624826,
          0.1347352764137132,
          1.1117699079741161,
          -0.6365318004652251,
          0.6586264711638239,
          -2.2171795885534,
          0.11320736946178084,
          1.5729034138642517,
          0.1310369529846583,
          -0.9617569362791584,
          -0.8777880682991028,
          0.5899941649731096,
          -0.1412306828688527,
          1.5170554467085127,
          0.53130018523096,
          0.32158882850971465,
          -0.9464306474339612,
          -1.8406876139673087,
          -0.6592197757814411,
          -0.05035363573486317,
          -0.0012558881887979863,
          -2.2476749098487656,
          -0.7598151323708757,
          -1.4218480040643744,
          -0.5040523542296603,
          1.1160587623525131,
          1.3272816572811181,
          0.9641613696033847,
          1.0351188803977998,
          0.7523574359092837,
          -0.08234499129197077,
          -0.43717706866405887,
          1.1601515432985665,
          -0.5526689647969686,
          0.7509740048177651,
          0.27402019924238286,
          0.7684338000320895,
          -1.0774412859096918,
          -2.158782081147689,
          0.6228680278276605,
          -1.4619809072135606,
          -2.351284827931384,
          -0.36035854063131767,
          1.5433883055746351,
          0.611161533590583,
          0.40126658500000917,
          0.432320337391507,
          0.05165221386738992,
          0.7266281491464596,
          -1.5253604789419755,
          -0.8028686711450908,
          1.3187931284966241,
          -0.5975997233571111,
          0.238360495263982,
          -1.0803828111948988,
          1.2501965937113815
         ]
        },
        {
         "line": {
          "color": "rgba(50, 171, 96, 1.0)",
          "dash": "solid",
          "shape": "linear",
          "width": 1.3
         },
         "mode": "lines",
         "name": "C",
         "text": "",
         "type": "scatter",
         "x": [
          0,
          1,
          2,
          3,
          4,
          5,
          6,
          7,
          8,
          9,
          10,
          11,
          12,
          13,
          14,
          15,
          16,
          17,
          18,
          19,
          20,
          21,
          22,
          23,
          24,
          25,
          26,
          27,
          28,
          29,
          30,
          31,
          32,
          33,
          34,
          35,
          36,
          37,
          38,
          39,
          40,
          41,
          42,
          43,
          44,
          45,
          46,
          47,
          48,
          49,
          50,
          51,
          52,
          53,
          54,
          55,
          56,
          57,
          58,
          59,
          60,
          61,
          62,
          63,
          64,
          65,
          66,
          67,
          68,
          69,
          70,
          71,
          72,
          73,
          74,
          75,
          76,
          77,
          78,
          79,
          80,
          81,
          82,
          83,
          84,
          85,
          86,
          87,
          88,
          89,
          90,
          91,
          92,
          93,
          94,
          95,
          96,
          97,
          98,
          99
         ],
         "y": [
          -0.9289553735321145,
          -3.29185578905007,
          0.6141311655471734,
          -1.3279654686462936,
          -0.9330755405301372,
          -0.13572951607500175,
          -0.1558399731911225,
          0.2562172935610255,
          -1.1550179645829468,
          1.133701737589356,
          0.5602961037020913,
          -0.2058384517520784,
          1.5715038418375586,
          -0.7828567782123235,
          0.6850043273904133,
          2.204073042744001,
          2.07975076431608,
          -1.0392898689716727,
          -0.7996953898361792,
          0.07820140689226711,
          1.0753792703079366,
          1.23073652415559,
          0.37576849472620666,
          -1.704312176087002,
          0.46855834965098864,
          -0.038494063834664,
          -1.5206010064061906,
          -0.6443983946167495,
          0.46212281535437416,
          -0.5720314045038454,
          0.628361267113081,
          0.4118433577913778,
          -0.6537933417475408,
          -0.217973511529981,
          1.4250444252250918,
          1.2901404209885001,
          0.12709267205722835,
          1.8153488317774,
          0.6590271323537336,
          1.5878240611462506,
          1.1759772042114245,
          -0.08620840466405229,
          0.3736929842944326,
          -1.1070026588066593,
          -0.9689529361661915,
          -0.1313885271389684,
          2.6162110696415923,
          0.6077468827653002,
          1.5819722537455785,
          0.3168357811771449,
          0.5166233815916088,
          -0.3904970470253944,
          0.8966415053544944,
          2.2548384083273225,
          -0.7361160160418321,
          -0.9929759828317783,
          -1.2733419005820379,
          1.2896761577237899,
          1.0013031805323842,
          -0.3458133403722976,
          0.20285737608510637,
          0.3627025307902813,
          0.32772115687956177,
          0.08071273087746433,
          1.083556238859063,
          0.26233474596948775,
          -0.1468439454866668,
          1.6389197921341037,
          0.7840215019259638,
          -0.10704043977879389,
          -0.03959077604699771,
          -0.8345086098492591,
          -0.2613468571089336,
          1.8869726033489433,
          0.36514136983338324,
          -0.8199316884247727,
          0.3362582147997106,
          0.02104307222962485,
          0.2261683930226166,
          0.8922721913588897,
          -1.0955491455925161,
          0.1777970289425649,
          1.8635009920304269,
          -1.5831282633220047,
          -0.03669126310767968,
          0.5901549161922415,
          -1.1927292624064005,
          -1.3427909329462622,
          0.6797640018201362,
          0.5878759139859725,
          -1.5594604092917315,
          -0.898550013149892,
          2.1149119380876336,
          -1.2258059010951654,
          -1.8047329306685895,
          0.732050971212458,
          0.6599757625488231,
          0.21932400053658035,
          0.2921775958716824,
          -0.9570268392633724
         ]
        },
        {
         "line": {
          "color": "rgba(128, 0, 128, 1.0)",
          "dash": "solid",
          "shape": "linear",
          "width": 1.3
         },
         "mode": "lines",
         "name": "D",
         "text": "",
         "type": "scatter",
         "x": [
          0,
          1,
          2,
          3,
          4,
          5,
          6,
          7,
          8,
          9,
          10,
          11,
          12,
          13,
          14,
          15,
          16,
          17,
          18,
          19,
          20,
          21,
          22,
          23,
          24,
          25,
          26,
          27,
          28,
          29,
          30,
          31,
          32,
          33,
          34,
          35,
          36,
          37,
          38,
          39,
          40,
          41,
          42,
          43,
          44,
          45,
          46,
          47,
          48,
          49,
          50,
          51,
          52,
          53,
          54,
          55,
          56,
          57,
          58,
          59,
          60,
          61,
          62,
          63,
          64,
          65,
          66,
          67,
          68,
          69,
          70,
          71,
          72,
          73,
          74,
          75,
          76,
          77,
          78,
          79,
          80,
          81,
          82,
          83,
          84,
          85,
          86,
          87,
          88,
          89,
          90,
          91,
          92,
          93,
          94,
          95,
          96,
          97,
          98,
          99
         ],
         "y": [
          -1.2276827666294137,
          1.0081521786625394,
          -0.5074264826440039,
          -0.19631739000388773,
          2.1415274347182964,
          0.11904785476621113,
          0.23946707643818188,
          0.37908458450735394,
          0.6725231384612813,
          -0.8211976368443139,
          0.7494841941503361,
          0.034781099386621744,
          -1.3398185164428509,
          -0.069572256892427,
          0.41931356889731375,
          -0.8167788014535204,
          -1.2373976906340687,
          -0.1840954546341901,
          0.0035607323517076648,
          -0.041196684241796795,
          -0.03473722076730505,
          -0.0018397056125259573,
          -0.3708078187451696,
          0.5205572617589022,
          0.0452824329967141,
          1.0102919240344248,
          -1.1258776608819696,
          -0.7168342966408033,
          0.6155164779674744,
          1.6784588555522606,
          1.1753205450072943,
          0.014384224900247785,
          0.6220293945296994,
          -0.2644826309043893,
          -1.966326671231066,
          -0.015666796938935065,
          1.3138939598063901,
          -0.012782967793383507,
          0.0029353541641902407,
          -0.5170773449665355,
          1.0336403836047219,
          1.2007045536411687,
          0.027906920022602453,
          -0.32524379048054103,
          -1.7518527615937811,
          0.5084098807242259,
          0.348801529373511,
          0.1632132673505855,
          -0.5266716391028633,
          0.4672417584138413,
          0.3308712594301862,
          0.43524231033923944,
          0.1722997203653605,
          0.2958770095603323,
          -1.6846434422982581,
          0.7466252788358413,
          -0.7772942870105266,
          0.338214924338623,
          0.9244376844559865,
          -1.0974683044436226,
          -0.9132866699195714,
          -0.21537440461306412,
          -0.5527481296937405,
          -0.5828651087562331,
          -0.06174286500123566,
          -0.686792721448157,
          -0.12886335689312195,
          -0.16420664628629053,
          0.8766901891456867,
          1.7617111357354525,
          0.1827306553874836,
          0.02782293765674249,
          -0.5806501251417746,
          0.6673057789106808,
          -0.40287164126044306,
          0.33709890343606297,
          0.3359252304949588,
          0.08344176618634161,
          -1.5363505337627845,
          -0.9079481054942306,
          0.750905764361586,
          -0.10883531168870954,
          -0.7234321550121003,
          0.752643964995895,
          -1.543376489389946,
          -0.9203526363133234,
          0.42202239030579747,
          2.8139745801628533,
          -0.5441279446897327,
          -1.1620867247042457,
          -0.943020276323677,
          0.9067256718207556,
          -0.6956911248289205,
          0.9083268430325101,
          -0.8093990390983988,
          0.39526663463845807,
          -1.5080605916891274,
          0.5915062777905455,
          0.45459959621494966,
          -1.290777233120657
         ]
        }
       ],
       "layout": {
        "legend": {
         "bgcolor": "#F5F6F9",
         "font": {
          "color": "#4D5663"
         }
        },
        "paper_bgcolor": "#F5F6F9",
        "plot_bgcolor": "#F5F6F9",
        "template": {
         "data": {
          "bar": [
           {
            "error_x": {
             "color": "#2a3f5f"
            },
            "error_y": {
             "color": "#2a3f5f"
            },
            "marker": {
             "line": {
              "color": "#E5ECF6",
              "width": 0.5
             }
            },
            "type": "bar"
           }
          ],
          "barpolar": [
           {
            "marker": {
             "line": {
              "color": "#E5ECF6",
              "width": 0.5
             }
            },
            "type": "barpolar"
           }
          ],
          "carpet": [
           {
            "aaxis": {
             "endlinecolor": "#2a3f5f",
             "gridcolor": "white",
             "linecolor": "white",
             "minorgridcolor": "white",
             "startlinecolor": "#2a3f5f"
            },
            "baxis": {
             "endlinecolor": "#2a3f5f",
             "gridcolor": "white",
             "linecolor": "white",
             "minorgridcolor": "white",
             "startlinecolor": "#2a3f5f"
            },
            "type": "carpet"
           }
          ],
          "choropleth": [
           {
            "colorbar": {
             "outlinewidth": 0,
             "ticks": ""
            },
            "type": "choropleth"
           }
          ],
          "contour": [
           {
            "colorbar": {
             "outlinewidth": 0,
             "ticks": ""
            },
            "colorscale": [
             [
              0,
              "#0d0887"
             ],
             [
              0.1111111111111111,
              "#46039f"
             ],
             [
              0.2222222222222222,
              "#7201a8"
             ],
             [
              0.3333333333333333,
              "#9c179e"
             ],
             [
              0.4444444444444444,
              "#bd3786"
             ],
             [
              0.5555555555555556,
              "#d8576b"
             ],
             [
              0.6666666666666666,
              "#ed7953"
             ],
             [
              0.7777777777777778,
              "#fb9f3a"
             ],
             [
              0.8888888888888888,
              "#fdca26"
             ],
             [
              1,
              "#f0f921"
             ]
            ],
            "type": "contour"
           }
          ],
          "contourcarpet": [
           {
            "colorbar": {
             "outlinewidth": 0,
             "ticks": ""
            },
            "type": "contourcarpet"
           }
          ],
          "heatmap": [
           {
            "colorbar": {
             "outlinewidth": 0,
             "ticks": ""
            },
            "colorscale": [
             [
              0,
              "#0d0887"
             ],
             [
              0.1111111111111111,
              "#46039f"
             ],
             [
              0.2222222222222222,
              "#7201a8"
             ],
             [
              0.3333333333333333,
              "#9c179e"
             ],
             [
              0.4444444444444444,
              "#bd3786"
             ],
             [
              0.5555555555555556,
              "#d8576b"
             ],
             [
              0.6666666666666666,
              "#ed7953"
             ],
             [
              0.7777777777777778,
              "#fb9f3a"
             ],
             [
              0.8888888888888888,
              "#fdca26"
             ],
             [
              1,
              "#f0f921"
             ]
            ],
            "type": "heatmap"
           }
          ],
          "heatmapgl": [
           {
            "colorbar": {
             "outlinewidth": 0,
             "ticks": ""
            },
            "colorscale": [
             [
              0,
              "#0d0887"
             ],
             [
              0.1111111111111111,
              "#46039f"
             ],
             [
              0.2222222222222222,
              "#7201a8"
             ],
             [
              0.3333333333333333,
              "#9c179e"
             ],
             [
              0.4444444444444444,
              "#bd3786"
             ],
             [
              0.5555555555555556,
              "#d8576b"
             ],
             [
              0.6666666666666666,
              "#ed7953"
             ],
             [
              0.7777777777777778,
              "#fb9f3a"
             ],
             [
              0.8888888888888888,
              "#fdca26"
             ],
             [
              1,
              "#f0f921"
             ]
            ],
            "type": "heatmapgl"
           }
          ],
          "histogram": [
           {
            "marker": {
             "colorbar": {
              "outlinewidth": 0,
              "ticks": ""
             }
            },
            "type": "histogram"
           }
          ],
          "histogram2d": [
           {
            "colorbar": {
             "outlinewidth": 0,
             "ticks": ""
            },
            "colorscale": [
             [
              0,
              "#0d0887"
             ],
             [
              0.1111111111111111,
              "#46039f"
             ],
             [
              0.2222222222222222,
              "#7201a8"
             ],
             [
              0.3333333333333333,
              "#9c179e"
             ],
             [
              0.4444444444444444,
              "#bd3786"
             ],
             [
              0.5555555555555556,
              "#d8576b"
             ],
             [
              0.6666666666666666,
              "#ed7953"
             ],
             [
              0.7777777777777778,
              "#fb9f3a"
             ],
             [
              0.8888888888888888,
              "#fdca26"
             ],
             [
              1,
              "#f0f921"
             ]
            ],
            "type": "histogram2d"
           }
          ],
          "histogram2dcontour": [
           {
            "colorbar": {
             "outlinewidth": 0,
             "ticks": ""
            },
            "colorscale": [
             [
              0,
              "#0d0887"
             ],
             [
              0.1111111111111111,
              "#46039f"
             ],
             [
              0.2222222222222222,
              "#7201a8"
             ],
             [
              0.3333333333333333,
              "#9c179e"
             ],
             [
              0.4444444444444444,
              "#bd3786"
             ],
             [
              0.5555555555555556,
              "#d8576b"
             ],
             [
              0.6666666666666666,
              "#ed7953"
             ],
             [
              0.7777777777777778,
              "#fb9f3a"
             ],
             [
              0.8888888888888888,
              "#fdca26"
             ],
             [
              1,
              "#f0f921"
             ]
            ],
            "type": "histogram2dcontour"
           }
          ],
          "mesh3d": [
           {
            "colorbar": {
             "outlinewidth": 0,
             "ticks": ""
            },
            "type": "mesh3d"
           }
          ],
          "parcoords": [
           {
            "line": {
             "colorbar": {
              "outlinewidth": 0,
              "ticks": ""
             }
            },
            "type": "parcoords"
           }
          ],
          "pie": [
           {
            "automargin": true,
            "type": "pie"
           }
          ],
          "scatter": [
           {
            "marker": {
             "colorbar": {
              "outlinewidth": 0,
              "ticks": ""
             }
            },
            "type": "scatter"
           }
          ],
          "scatter3d": [
           {
            "line": {
             "colorbar": {
              "outlinewidth": 0,
              "ticks": ""
             }
            },
            "marker": {
             "colorbar": {
              "outlinewidth": 0,
              "ticks": ""
             }
            },
            "type": "scatter3d"
           }
          ],
          "scattercarpet": [
           {
            "marker": {
             "colorbar": {
              "outlinewidth": 0,
              "ticks": ""
             }
            },
            "type": "scattercarpet"
           }
          ],
          "scattergeo": [
           {
            "marker": {
             "colorbar": {
              "outlinewidth": 0,
              "ticks": ""
             }
            },
            "type": "scattergeo"
           }
          ],
          "scattergl": [
           {
            "marker": {
             "colorbar": {
              "outlinewidth": 0,
              "ticks": ""
             }
            },
            "type": "scattergl"
           }
          ],
          "scattermapbox": [
           {
            "marker": {
             "colorbar": {
              "outlinewidth": 0,
              "ticks": ""
             }
            },
            "type": "scattermapbox"
           }
          ],
          "scatterpolar": [
           {
            "marker": {
             "colorbar": {
              "outlinewidth": 0,
              "ticks": ""
             }
            },
            "type": "scatterpolar"
           }
          ],
          "scatterpolargl": [
           {
            "marker": {
             "colorbar": {
              "outlinewidth": 0,
              "ticks": ""
             }
            },
            "type": "scatterpolargl"
           }
          ],
          "scatterternary": [
           {
            "marker": {
             "colorbar": {
              "outlinewidth": 0,
              "ticks": ""
             }
            },
            "type": "scatterternary"
           }
          ],
          "surface": [
           {
            "colorbar": {
             "outlinewidth": 0,
             "ticks": ""
            },
            "colorscale": [
             [
              0,
              "#0d0887"
             ],
             [
              0.1111111111111111,
              "#46039f"
             ],
             [
              0.2222222222222222,
              "#7201a8"
             ],
             [
              0.3333333333333333,
              "#9c179e"
             ],
             [
              0.4444444444444444,
              "#bd3786"
             ],
             [
              0.5555555555555556,
              "#d8576b"
             ],
             [
              0.6666666666666666,
              "#ed7953"
             ],
             [
              0.7777777777777778,
              "#fb9f3a"
             ],
             [
              0.8888888888888888,
              "#fdca26"
             ],
             [
              1,
              "#f0f921"
             ]
            ],
            "type": "surface"
           }
          ],
          "table": [
           {
            "cells": {
             "fill": {
              "color": "#EBF0F8"
             },
             "line": {
              "color": "white"
             }
            },
            "header": {
             "fill": {
              "color": "#C8D4E3"
             },
             "line": {
              "color": "white"
             }
            },
            "type": "table"
           }
          ]
         },
         "layout": {
          "annotationdefaults": {
           "arrowcolor": "#2a3f5f",
           "arrowhead": 0,
           "arrowwidth": 1
          },
          "coloraxis": {
           "colorbar": {
            "outlinewidth": 0,
            "ticks": ""
           }
          },
          "colorscale": {
           "diverging": [
            [
             0,
             "#8e0152"
            ],
            [
             0.1,
             "#c51b7d"
            ],
            [
             0.2,
             "#de77ae"
            ],
            [
             0.3,
             "#f1b6da"
            ],
            [
             0.4,
             "#fde0ef"
            ],
            [
             0.5,
             "#f7f7f7"
            ],
            [
             0.6,
             "#e6f5d0"
            ],
            [
             0.7,
             "#b8e186"
            ],
            [
             0.8,
             "#7fbc41"
            ],
            [
             0.9,
             "#4d9221"
            ],
            [
             1,
             "#276419"
            ]
           ],
           "sequential": [
            [
             0,
             "#0d0887"
            ],
            [
             0.1111111111111111,
             "#46039f"
            ],
            [
             0.2222222222222222,
             "#7201a8"
            ],
            [
             0.3333333333333333,
             "#9c179e"
            ],
            [
             0.4444444444444444,
             "#bd3786"
            ],
            [
             0.5555555555555556,
             "#d8576b"
            ],
            [
             0.6666666666666666,
             "#ed7953"
            ],
            [
             0.7777777777777778,
             "#fb9f3a"
            ],
            [
             0.8888888888888888,
             "#fdca26"
            ],
            [
             1,
             "#f0f921"
            ]
           ],
           "sequentialminus": [
            [
             0,
             "#0d0887"
            ],
            [
             0.1111111111111111,
             "#46039f"
            ],
            [
             0.2222222222222222,
             "#7201a8"
            ],
            [
             0.3333333333333333,
             "#9c179e"
            ],
            [
             0.4444444444444444,
             "#bd3786"
            ],
            [
             0.5555555555555556,
             "#d8576b"
            ],
            [
             0.6666666666666666,
             "#ed7953"
            ],
            [
             0.7777777777777778,
             "#fb9f3a"
            ],
            [
             0.8888888888888888,
             "#fdca26"
            ],
            [
             1,
             "#f0f921"
            ]
           ]
          },
          "colorway": [
           "#636efa",
           "#EF553B",
           "#00cc96",
           "#ab63fa",
           "#FFA15A",
           "#19d3f3",
           "#FF6692",
           "#B6E880",
           "#FF97FF",
           "#FECB52"
          ],
          "font": {
           "color": "#2a3f5f"
          },
          "geo": {
           "bgcolor": "white",
           "lakecolor": "white",
           "landcolor": "#E5ECF6",
           "showlakes": true,
           "showland": true,
           "subunitcolor": "white"
          },
          "hoverlabel": {
           "align": "left"
          },
          "hovermode": "closest",
          "mapbox": {
           "style": "light"
          },
          "paper_bgcolor": "white",
          "plot_bgcolor": "#E5ECF6",
          "polar": {
           "angularaxis": {
            "gridcolor": "white",
            "linecolor": "white",
            "ticks": ""
           },
           "bgcolor": "#E5ECF6",
           "radialaxis": {
            "gridcolor": "white",
            "linecolor": "white",
            "ticks": ""
           }
          },
          "scene": {
           "xaxis": {
            "backgroundcolor": "#E5ECF6",
            "gridcolor": "white",
            "gridwidth": 2,
            "linecolor": "white",
            "showbackground": true,
            "ticks": "",
            "zerolinecolor": "white"
           },
           "yaxis": {
            "backgroundcolor": "#E5ECF6",
            "gridcolor": "white",
            "gridwidth": 2,
            "linecolor": "white",
            "showbackground": true,
            "ticks": "",
            "zerolinecolor": "white"
           },
           "zaxis": {
            "backgroundcolor": "#E5ECF6",
            "gridcolor": "white",
            "gridwidth": 2,
            "linecolor": "white",
            "showbackground": true,
            "ticks": "",
            "zerolinecolor": "white"
           }
          },
          "shapedefaults": {
           "line": {
            "color": "#2a3f5f"
           }
          },
          "ternary": {
           "aaxis": {
            "gridcolor": "white",
            "linecolor": "white",
            "ticks": ""
           },
           "baxis": {
            "gridcolor": "white",
            "linecolor": "white",
            "ticks": ""
           },
           "bgcolor": "#E5ECF6",
           "caxis": {
            "gridcolor": "white",
            "linecolor": "white",
            "ticks": ""
           }
          },
          "title": {
           "x": 0.05
          },
          "xaxis": {
           "automargin": true,
           "gridcolor": "white",
           "linecolor": "white",
           "ticks": "",
           "title": {
            "standoff": 15
           },
           "zerolinecolor": "white",
           "zerolinewidth": 2
          },
          "yaxis": {
           "automargin": true,
           "gridcolor": "white",
           "linecolor": "white",
           "ticks": "",
           "title": {
            "standoff": 15
           },
           "zerolinecolor": "white",
           "zerolinewidth": 2
          }
         }
        },
        "title": {
         "font": {
          "color": "#4D5663"
         }
        },
        "xaxis": {
         "gridcolor": "#E1E5ED",
         "showgrid": true,
         "tickfont": {
          "color": "#4D5663"
         },
         "title": {
          "font": {
           "color": "#4D5663"
          },
          "text": ""
         },
         "zerolinecolor": "#E1E5ED"
        },
        "yaxis": {
         "gridcolor": "#E1E5ED",
         "showgrid": true,
         "tickfont": {
          "color": "#4D5663"
         },
         "title": {
          "font": {
           "color": "#4D5663"
          },
          "text": ""
         },
         "zerolinecolor": "#E1E5ED"
        }
       }
      },
      "text/html": [
       "<div>                            <div id=\"6fcd6b8e-54fa-4398-a0c0-0c7e3dfb5c24\" class=\"plotly-graph-div\" style=\"height:525px; width:100%;\"></div>            <script type=\"text/javascript\">                require([\"plotly\"], function(Plotly) {                    window.PLOTLYENV=window.PLOTLYENV || {};\n",
       "                    window.PLOTLYENV.BASE_URL='https://plot.ly';                                    if (document.getElementById(\"6fcd6b8e-54fa-4398-a0c0-0c7e3dfb5c24\")) {                    Plotly.newPlot(                        \"6fcd6b8e-54fa-4398-a0c0-0c7e3dfb5c24\",                        [{\"line\": {\"color\": \"rgba(255, 153, 51, 1.0)\", \"dash\": \"solid\", \"shape\": \"linear\", \"width\": 1.3}, \"mode\": \"lines\", \"name\": \"A\", \"text\": \"\", \"type\": \"scatter\", \"x\": [0, 1, 2, 3, 4, 5, 6, 7, 8, 9, 10, 11, 12, 13, 14, 15, 16, 17, 18, 19, 20, 21, 22, 23, 24, 25, 26, 27, 28, 29, 30, 31, 32, 33, 34, 35, 36, 37, 38, 39, 40, 41, 42, 43, 44, 45, 46, 47, 48, 49, 50, 51, 52, 53, 54, 55, 56, 57, 58, 59, 60, 61, 62, 63, 64, 65, 66, 67, 68, 69, 70, 71, 72, 73, 74, 75, 76, 77, 78, 79, 80, 81, 82, 83, 84, 85, 86, 87, 88, 89, 90, 91, 92, 93, 94, 95, 96, 97, 98, 99], \"y\": [2.0098763595893336, 1.5854346850248688, 0.9517284968551595, 1.4209384421391142, 0.026688111038718355, 1.7742246940980553, 0.16997405066218702, -1.1663731149184284, -1.687555765778785, -0.9638359759236773, 0.31948585690353737, 0.45206655019272324, -0.5856593578130521, -1.3331664488301078, -0.18227467538397016, 1.0331832394221976, 0.37414095900530886, -1.3746069162300292, 1.8832078334627544, -0.16909971811806357, -0.32927926569287375, 0.2627032205145867, -0.3598102265304865, 0.5447321941036315, 1.6100120651269116, -0.3804397268147677, 0.1473620328561745, 1.6691747558384904, 1.8148257699582853, 1.0180855824554613, 2.766422169747134, 0.6612450177603737, 0.2986153846044228, -1.7053592704223286, -0.6711464446025099, -0.16294248127431257, -1.76502064308557, 0.056206938499821404, -0.7066819603495336, -0.2541191740775342, -1.5744224819850823, 0.4424197673183819, 0.9446253816575055, 0.23631706594971114, 0.14785287447786766, 0.22500275896921618, -0.013301170787457814, 0.2315655094459254, 0.6735331950306841, -0.10790761675412006, -1.5498459914408311, -0.41529924792912287, -0.22878419631577793, 2.3889340441169504, -0.5011363683382322, -0.18138728609572885, 0.10481645267669726, 0.7086729341837882, -1.4574933521470606, -2.276244891933633, -0.928082898567579, 0.22469067595539435, 0.5161213606538004, 0.24896276094352396, -0.017016592599865137, -0.2353009091061637, 0.6210256252215713, 1.0259839308083618, -0.05291468044019354, -1.2015439091389342, 0.20200327029328774, -0.3229245198595919, 0.5524528833109041, -0.4028777637706296, -0.059882638309787274, 0.12775951718529485, -0.17957320771266141, 1.0269177088172363, 1.1771880686524667, -0.6395966666807401, 0.3744607968230148, 0.641740461644252, -1.0076463847201, 0.02226447529627381, 0.2190566031008649, -0.643633189304614, 1.2638889727273173, -0.48892495679508047, 0.059705931132288816, -0.9664065644091091, 1.095398828129973, -0.8408864989043608, -0.871759542343419, -0.1856655404692126, 0.18088575006579746, 1.2747503019467712, -0.4396286084094133, -1.1740229644234133, 0.1367868730401681, 0.5003571614833707]}, {\"line\": {\"color\": \"rgba(55, 128, 191, 1.0)\", \"dash\": \"solid\", \"shape\": \"linear\", \"width\": 1.3}, \"mode\": \"lines\", \"name\": \"B\", \"text\": \"\", \"type\": \"scatter\", \"x\": [0, 1, 2, 3, 4, 5, 6, 7, 8, 9, 10, 11, 12, 13, 14, 15, 16, 17, 18, 19, 20, 21, 22, 23, 24, 25, 26, 27, 28, 29, 30, 31, 32, 33, 34, 35, 36, 37, 38, 39, 40, 41, 42, 43, 44, 45, 46, 47, 48, 49, 50, 51, 52, 53, 54, 55, 56, 57, 58, 59, 60, 61, 62, 63, 64, 65, 66, 67, 68, 69, 70, 71, 72, 73, 74, 75, 76, 77, 78, 79, 80, 81, 82, 83, 84, 85, 86, 87, 88, 89, 90, 91, 92, 93, 94, 95, 96, 97, 98, 99], \"y\": [-0.34761400696809835, 0.7967107929307996, -1.021435745012177, 0.8039058679506786, 0.28202976547017816, 1.629306414530597, -3.4110663508758923, -0.9237688579846878, 1.3449197314869716, -1.056451635061406, -1.0691292337350398, 1.3229153833868197, 0.1944216073353599, 0.299995236341656, 0.44109109461435964, -0.08136416868042488, 0.9303198403726493, 0.05888325507957637, 0.7395899412452036, -0.150937039126787, -0.8073667119303348, -2.1209755600528832, 1.3326778932258512, 0.9912008713869328, -1.0508995328015918, 0.13999533634881983, -0.8173571641054362, -0.11295496530104156, -1.6812301346024714, 1.0420418838155838, 0.2250212295749634, 1.1691927821992336, -0.8497153337809334, -0.2598100609473683, -0.5252259693487649, -0.741660775358332, 1.3379213304389845, 1.0001179164638403, -1.0402508474746148, -0.051391256452094, 0.7572822801140646, 1.314205938870495, -1.415487984063252, -0.261307270216244, -0.6325936261624826, 0.1347352764137132, 1.1117699079741161, -0.6365318004652251, 0.6586264711638239, -2.2171795885534, 0.11320736946178084, 1.5729034138642517, 0.1310369529846583, -0.9617569362791584, -0.8777880682991028, 0.5899941649731096, -0.1412306828688527, 1.5170554467085127, 0.53130018523096, 0.32158882850971465, -0.9464306474339612, -1.8406876139673087, -0.6592197757814411, -0.05035363573486317, -0.0012558881887979863, -2.2476749098487656, -0.7598151323708757, -1.4218480040643744, -0.5040523542296603, 1.1160587623525131, 1.3272816572811181, 0.9641613696033847, 1.0351188803977998, 0.7523574359092837, -0.08234499129197077, -0.43717706866405887, 1.1601515432985665, -0.5526689647969686, 0.7509740048177651, 0.27402019924238286, 0.7684338000320895, -1.0774412859096918, -2.158782081147689, 0.6228680278276605, -1.4619809072135606, -2.351284827931384, -0.36035854063131767, 1.5433883055746351, 0.611161533590583, 0.40126658500000917, 0.432320337391507, 0.05165221386738992, 0.7266281491464596, -1.5253604789419755, -0.8028686711450908, 1.3187931284966241, -0.5975997233571111, 0.238360495263982, -1.0803828111948988, 1.2501965937113815]}, {\"line\": {\"color\": \"rgba(50, 171, 96, 1.0)\", \"dash\": \"solid\", \"shape\": \"linear\", \"width\": 1.3}, \"mode\": \"lines\", \"name\": \"C\", \"text\": \"\", \"type\": \"scatter\", \"x\": [0, 1, 2, 3, 4, 5, 6, 7, 8, 9, 10, 11, 12, 13, 14, 15, 16, 17, 18, 19, 20, 21, 22, 23, 24, 25, 26, 27, 28, 29, 30, 31, 32, 33, 34, 35, 36, 37, 38, 39, 40, 41, 42, 43, 44, 45, 46, 47, 48, 49, 50, 51, 52, 53, 54, 55, 56, 57, 58, 59, 60, 61, 62, 63, 64, 65, 66, 67, 68, 69, 70, 71, 72, 73, 74, 75, 76, 77, 78, 79, 80, 81, 82, 83, 84, 85, 86, 87, 88, 89, 90, 91, 92, 93, 94, 95, 96, 97, 98, 99], \"y\": [-0.9289553735321145, -3.29185578905007, 0.6141311655471734, -1.3279654686462936, -0.9330755405301372, -0.13572951607500175, -0.1558399731911225, 0.2562172935610255, -1.1550179645829468, 1.133701737589356, 0.5602961037020913, -0.2058384517520784, 1.5715038418375586, -0.7828567782123235, 0.6850043273904133, 2.204073042744001, 2.07975076431608, -1.0392898689716727, -0.7996953898361792, 0.07820140689226711, 1.0753792703079366, 1.23073652415559, 0.37576849472620666, -1.704312176087002, 0.46855834965098864, -0.038494063834664, -1.5206010064061906, -0.6443983946167495, 0.46212281535437416, -0.5720314045038454, 0.628361267113081, 0.4118433577913778, -0.6537933417475408, -0.217973511529981, 1.4250444252250918, 1.2901404209885001, 0.12709267205722835, 1.8153488317774, 0.6590271323537336, 1.5878240611462506, 1.1759772042114245, -0.08620840466405229, 0.3736929842944326, -1.1070026588066593, -0.9689529361661915, -0.1313885271389684, 2.6162110696415923, 0.6077468827653002, 1.5819722537455785, 0.3168357811771449, 0.5166233815916088, -0.3904970470253944, 0.8966415053544944, 2.2548384083273225, -0.7361160160418321, -0.9929759828317783, -1.2733419005820379, 1.2896761577237899, 1.0013031805323842, -0.3458133403722976, 0.20285737608510637, 0.3627025307902813, 0.32772115687956177, 0.08071273087746433, 1.083556238859063, 0.26233474596948775, -0.1468439454866668, 1.6389197921341037, 0.7840215019259638, -0.10704043977879389, -0.03959077604699771, -0.8345086098492591, -0.2613468571089336, 1.8869726033489433, 0.36514136983338324, -0.8199316884247727, 0.3362582147997106, 0.02104307222962485, 0.2261683930226166, 0.8922721913588897, -1.0955491455925161, 0.1777970289425649, 1.8635009920304269, -1.5831282633220047, -0.03669126310767968, 0.5901549161922415, -1.1927292624064005, -1.3427909329462622, 0.6797640018201362, 0.5878759139859725, -1.5594604092917315, -0.898550013149892, 2.1149119380876336, -1.2258059010951654, -1.8047329306685895, 0.732050971212458, 0.6599757625488231, 0.21932400053658035, 0.2921775958716824, -0.9570268392633724]}, {\"line\": {\"color\": \"rgba(128, 0, 128, 1.0)\", \"dash\": \"solid\", \"shape\": \"linear\", \"width\": 1.3}, \"mode\": \"lines\", \"name\": \"D\", \"text\": \"\", \"type\": \"scatter\", \"x\": [0, 1, 2, 3, 4, 5, 6, 7, 8, 9, 10, 11, 12, 13, 14, 15, 16, 17, 18, 19, 20, 21, 22, 23, 24, 25, 26, 27, 28, 29, 30, 31, 32, 33, 34, 35, 36, 37, 38, 39, 40, 41, 42, 43, 44, 45, 46, 47, 48, 49, 50, 51, 52, 53, 54, 55, 56, 57, 58, 59, 60, 61, 62, 63, 64, 65, 66, 67, 68, 69, 70, 71, 72, 73, 74, 75, 76, 77, 78, 79, 80, 81, 82, 83, 84, 85, 86, 87, 88, 89, 90, 91, 92, 93, 94, 95, 96, 97, 98, 99], \"y\": [-1.2276827666294137, 1.0081521786625394, -0.5074264826440039, -0.19631739000388773, 2.1415274347182964, 0.11904785476621113, 0.23946707643818188, 0.37908458450735394, 0.6725231384612813, -0.8211976368443139, 0.7494841941503361, 0.034781099386621744, -1.3398185164428509, -0.069572256892427, 0.41931356889731375, -0.8167788014535204, -1.2373976906340687, -0.1840954546341901, 0.0035607323517076648, -0.041196684241796795, -0.03473722076730505, -0.0018397056125259573, -0.3708078187451696, 0.5205572617589022, 0.0452824329967141, 1.0102919240344248, -1.1258776608819696, -0.7168342966408033, 0.6155164779674744, 1.6784588555522606, 1.1753205450072943, 0.014384224900247785, 0.6220293945296994, -0.2644826309043893, -1.966326671231066, -0.015666796938935065, 1.3138939598063901, -0.012782967793383507, 0.0029353541641902407, -0.5170773449665355, 1.0336403836047219, 1.2007045536411687, 0.027906920022602453, -0.32524379048054103, -1.7518527615937811, 0.5084098807242259, 0.348801529373511, 0.1632132673505855, -0.5266716391028633, 0.4672417584138413, 0.3308712594301862, 0.43524231033923944, 0.1722997203653605, 0.2958770095603323, -1.6846434422982581, 0.7466252788358413, -0.7772942870105266, 0.338214924338623, 0.9244376844559865, -1.0974683044436226, -0.9132866699195714, -0.21537440461306412, -0.5527481296937405, -0.5828651087562331, -0.06174286500123566, -0.686792721448157, -0.12886335689312195, -0.16420664628629053, 0.8766901891456867, 1.7617111357354525, 0.1827306553874836, 0.02782293765674249, -0.5806501251417746, 0.6673057789106808, -0.40287164126044306, 0.33709890343606297, 0.3359252304949588, 0.08344176618634161, -1.5363505337627845, -0.9079481054942306, 0.750905764361586, -0.10883531168870954, -0.7234321550121003, 0.752643964995895, -1.543376489389946, -0.9203526363133234, 0.42202239030579747, 2.8139745801628533, -0.5441279446897327, -1.1620867247042457, -0.943020276323677, 0.9067256718207556, -0.6956911248289205, 0.9083268430325101, -0.8093990390983988, 0.39526663463845807, -1.5080605916891274, 0.5915062777905455, 0.45459959621494966, -1.290777233120657]}],                        {\"legend\": {\"bgcolor\": \"#F5F6F9\", \"font\": {\"color\": \"#4D5663\"}}, \"paper_bgcolor\": \"#F5F6F9\", \"plot_bgcolor\": \"#F5F6F9\", \"template\": {\"data\": {\"bar\": [{\"error_x\": {\"color\": \"#2a3f5f\"}, \"error_y\": {\"color\": \"#2a3f5f\"}, \"marker\": {\"line\": {\"color\": \"#E5ECF6\", \"width\": 0.5}}, \"type\": \"bar\"}], \"barpolar\": [{\"marker\": {\"line\": {\"color\": \"#E5ECF6\", \"width\": 0.5}}, \"type\": \"barpolar\"}], \"carpet\": [{\"aaxis\": {\"endlinecolor\": \"#2a3f5f\", \"gridcolor\": \"white\", \"linecolor\": \"white\", \"minorgridcolor\": \"white\", \"startlinecolor\": \"#2a3f5f\"}, \"baxis\": {\"endlinecolor\": \"#2a3f5f\", \"gridcolor\": \"white\", \"linecolor\": \"white\", \"minorgridcolor\": \"white\", \"startlinecolor\": \"#2a3f5f\"}, \"type\": \"carpet\"}], \"choropleth\": [{\"colorbar\": {\"outlinewidth\": 0, \"ticks\": \"\"}, \"type\": \"choropleth\"}], \"contour\": [{\"colorbar\": {\"outlinewidth\": 0, \"ticks\": \"\"}, \"colorscale\": [[0.0, \"#0d0887\"], [0.1111111111111111, \"#46039f\"], [0.2222222222222222, \"#7201a8\"], [0.3333333333333333, \"#9c179e\"], [0.4444444444444444, \"#bd3786\"], [0.5555555555555556, \"#d8576b\"], [0.6666666666666666, \"#ed7953\"], [0.7777777777777778, \"#fb9f3a\"], [0.8888888888888888, \"#fdca26\"], [1.0, \"#f0f921\"]], \"type\": \"contour\"}], \"contourcarpet\": [{\"colorbar\": {\"outlinewidth\": 0, \"ticks\": \"\"}, \"type\": \"contourcarpet\"}], \"heatmap\": [{\"colorbar\": {\"outlinewidth\": 0, \"ticks\": \"\"}, \"colorscale\": [[0.0, \"#0d0887\"], [0.1111111111111111, \"#46039f\"], [0.2222222222222222, \"#7201a8\"], [0.3333333333333333, \"#9c179e\"], [0.4444444444444444, \"#bd3786\"], [0.5555555555555556, \"#d8576b\"], [0.6666666666666666, \"#ed7953\"], [0.7777777777777778, \"#fb9f3a\"], [0.8888888888888888, \"#fdca26\"], [1.0, \"#f0f921\"]], \"type\": \"heatmap\"}], \"heatmapgl\": [{\"colorbar\": {\"outlinewidth\": 0, \"ticks\": \"\"}, \"colorscale\": [[0.0, \"#0d0887\"], [0.1111111111111111, \"#46039f\"], [0.2222222222222222, \"#7201a8\"], [0.3333333333333333, \"#9c179e\"], [0.4444444444444444, \"#bd3786\"], [0.5555555555555556, \"#d8576b\"], [0.6666666666666666, \"#ed7953\"], [0.7777777777777778, \"#fb9f3a\"], [0.8888888888888888, \"#fdca26\"], [1.0, \"#f0f921\"]], \"type\": \"heatmapgl\"}], \"histogram\": [{\"marker\": {\"colorbar\": {\"outlinewidth\": 0, \"ticks\": \"\"}}, \"type\": \"histogram\"}], \"histogram2d\": [{\"colorbar\": {\"outlinewidth\": 0, \"ticks\": \"\"}, \"colorscale\": [[0.0, \"#0d0887\"], [0.1111111111111111, \"#46039f\"], [0.2222222222222222, \"#7201a8\"], [0.3333333333333333, \"#9c179e\"], [0.4444444444444444, \"#bd3786\"], [0.5555555555555556, \"#d8576b\"], [0.6666666666666666, \"#ed7953\"], [0.7777777777777778, \"#fb9f3a\"], [0.8888888888888888, \"#fdca26\"], [1.0, \"#f0f921\"]], \"type\": \"histogram2d\"}], \"histogram2dcontour\": [{\"colorbar\": {\"outlinewidth\": 0, \"ticks\": \"\"}, \"colorscale\": [[0.0, \"#0d0887\"], [0.1111111111111111, \"#46039f\"], [0.2222222222222222, \"#7201a8\"], [0.3333333333333333, \"#9c179e\"], [0.4444444444444444, \"#bd3786\"], [0.5555555555555556, \"#d8576b\"], [0.6666666666666666, \"#ed7953\"], [0.7777777777777778, \"#fb9f3a\"], [0.8888888888888888, \"#fdca26\"], [1.0, \"#f0f921\"]], \"type\": \"histogram2dcontour\"}], \"mesh3d\": [{\"colorbar\": {\"outlinewidth\": 0, \"ticks\": \"\"}, \"type\": \"mesh3d\"}], \"parcoords\": [{\"line\": {\"colorbar\": {\"outlinewidth\": 0, \"ticks\": \"\"}}, \"type\": \"parcoords\"}], \"pie\": [{\"automargin\": true, \"type\": \"pie\"}], \"scatter\": [{\"marker\": {\"colorbar\": {\"outlinewidth\": 0, \"ticks\": \"\"}}, \"type\": \"scatter\"}], \"scatter3d\": [{\"line\": {\"colorbar\": {\"outlinewidth\": 0, \"ticks\": \"\"}}, \"marker\": {\"colorbar\": {\"outlinewidth\": 0, \"ticks\": \"\"}}, \"type\": \"scatter3d\"}], \"scattercarpet\": [{\"marker\": {\"colorbar\": {\"outlinewidth\": 0, \"ticks\": \"\"}}, \"type\": \"scattercarpet\"}], \"scattergeo\": [{\"marker\": {\"colorbar\": {\"outlinewidth\": 0, \"ticks\": \"\"}}, \"type\": \"scattergeo\"}], \"scattergl\": [{\"marker\": {\"colorbar\": {\"outlinewidth\": 0, \"ticks\": \"\"}}, \"type\": \"scattergl\"}], \"scattermapbox\": [{\"marker\": {\"colorbar\": {\"outlinewidth\": 0, \"ticks\": \"\"}}, \"type\": \"scattermapbox\"}], \"scatterpolar\": [{\"marker\": {\"colorbar\": {\"outlinewidth\": 0, \"ticks\": \"\"}}, \"type\": \"scatterpolar\"}], \"scatterpolargl\": [{\"marker\": {\"colorbar\": {\"outlinewidth\": 0, \"ticks\": \"\"}}, \"type\": \"scatterpolargl\"}], \"scatterternary\": [{\"marker\": {\"colorbar\": {\"outlinewidth\": 0, \"ticks\": \"\"}}, \"type\": \"scatterternary\"}], \"surface\": [{\"colorbar\": {\"outlinewidth\": 0, \"ticks\": \"\"}, \"colorscale\": [[0.0, \"#0d0887\"], [0.1111111111111111, \"#46039f\"], [0.2222222222222222, \"#7201a8\"], [0.3333333333333333, \"#9c179e\"], [0.4444444444444444, \"#bd3786\"], [0.5555555555555556, \"#d8576b\"], [0.6666666666666666, \"#ed7953\"], [0.7777777777777778, \"#fb9f3a\"], [0.8888888888888888, \"#fdca26\"], [1.0, \"#f0f921\"]], \"type\": \"surface\"}], \"table\": [{\"cells\": {\"fill\": {\"color\": \"#EBF0F8\"}, \"line\": {\"color\": \"white\"}}, \"header\": {\"fill\": {\"color\": \"#C8D4E3\"}, \"line\": {\"color\": \"white\"}}, \"type\": \"table\"}]}, \"layout\": {\"annotationdefaults\": {\"arrowcolor\": \"#2a3f5f\", \"arrowhead\": 0, \"arrowwidth\": 1}, \"coloraxis\": {\"colorbar\": {\"outlinewidth\": 0, \"ticks\": \"\"}}, \"colorscale\": {\"diverging\": [[0, \"#8e0152\"], [0.1, \"#c51b7d\"], [0.2, \"#de77ae\"], [0.3, \"#f1b6da\"], [0.4, \"#fde0ef\"], [0.5, \"#f7f7f7\"], [0.6, \"#e6f5d0\"], [0.7, \"#b8e186\"], [0.8, \"#7fbc41\"], [0.9, \"#4d9221\"], [1, \"#276419\"]], \"sequential\": [[0.0, \"#0d0887\"], [0.1111111111111111, \"#46039f\"], [0.2222222222222222, \"#7201a8\"], [0.3333333333333333, \"#9c179e\"], [0.4444444444444444, \"#bd3786\"], [0.5555555555555556, \"#d8576b\"], [0.6666666666666666, \"#ed7953\"], [0.7777777777777778, \"#fb9f3a\"], [0.8888888888888888, \"#fdca26\"], [1.0, \"#f0f921\"]], \"sequentialminus\": [[0.0, \"#0d0887\"], [0.1111111111111111, \"#46039f\"], [0.2222222222222222, \"#7201a8\"], [0.3333333333333333, \"#9c179e\"], [0.4444444444444444, \"#bd3786\"], [0.5555555555555556, \"#d8576b\"], [0.6666666666666666, \"#ed7953\"], [0.7777777777777778, \"#fb9f3a\"], [0.8888888888888888, \"#fdca26\"], [1.0, \"#f0f921\"]]}, \"colorway\": [\"#636efa\", \"#EF553B\", \"#00cc96\", \"#ab63fa\", \"#FFA15A\", \"#19d3f3\", \"#FF6692\", \"#B6E880\", \"#FF97FF\", \"#FECB52\"], \"font\": {\"color\": \"#2a3f5f\"}, \"geo\": {\"bgcolor\": \"white\", \"lakecolor\": \"white\", \"landcolor\": \"#E5ECF6\", \"showlakes\": true, \"showland\": true, \"subunitcolor\": \"white\"}, \"hoverlabel\": {\"align\": \"left\"}, \"hovermode\": \"closest\", \"mapbox\": {\"style\": \"light\"}, \"paper_bgcolor\": \"white\", \"plot_bgcolor\": \"#E5ECF6\", \"polar\": {\"angularaxis\": {\"gridcolor\": \"white\", \"linecolor\": \"white\", \"ticks\": \"\"}, \"bgcolor\": \"#E5ECF6\", \"radialaxis\": {\"gridcolor\": \"white\", \"linecolor\": \"white\", \"ticks\": \"\"}}, \"scene\": {\"xaxis\": {\"backgroundcolor\": \"#E5ECF6\", \"gridcolor\": \"white\", \"gridwidth\": 2, \"linecolor\": \"white\", \"showbackground\": true, \"ticks\": \"\", \"zerolinecolor\": \"white\"}, \"yaxis\": {\"backgroundcolor\": \"#E5ECF6\", \"gridcolor\": \"white\", \"gridwidth\": 2, \"linecolor\": \"white\", \"showbackground\": true, \"ticks\": \"\", \"zerolinecolor\": \"white\"}, \"zaxis\": {\"backgroundcolor\": \"#E5ECF6\", \"gridcolor\": \"white\", \"gridwidth\": 2, \"linecolor\": \"white\", \"showbackground\": true, \"ticks\": \"\", \"zerolinecolor\": \"white\"}}, \"shapedefaults\": {\"line\": {\"color\": \"#2a3f5f\"}}, \"ternary\": {\"aaxis\": {\"gridcolor\": \"white\", \"linecolor\": \"white\", \"ticks\": \"\"}, \"baxis\": {\"gridcolor\": \"white\", \"linecolor\": \"white\", \"ticks\": \"\"}, \"bgcolor\": \"#E5ECF6\", \"caxis\": {\"gridcolor\": \"white\", \"linecolor\": \"white\", \"ticks\": \"\"}}, \"title\": {\"x\": 0.05}, \"xaxis\": {\"automargin\": true, \"gridcolor\": \"white\", \"linecolor\": \"white\", \"ticks\": \"\", \"title\": {\"standoff\": 15}, \"zerolinecolor\": \"white\", \"zerolinewidth\": 2}, \"yaxis\": {\"automargin\": true, \"gridcolor\": \"white\", \"linecolor\": \"white\", \"ticks\": \"\", \"title\": {\"standoff\": 15}, \"zerolinecolor\": \"white\", \"zerolinewidth\": 2}}}, \"title\": {\"font\": {\"color\": \"#4D5663\"}}, \"xaxis\": {\"gridcolor\": \"#E1E5ED\", \"showgrid\": true, \"tickfont\": {\"color\": \"#4D5663\"}, \"title\": {\"font\": {\"color\": \"#4D5663\"}, \"text\": \"\"}, \"zerolinecolor\": \"#E1E5ED\"}, \"yaxis\": {\"gridcolor\": \"#E1E5ED\", \"showgrid\": true, \"tickfont\": {\"color\": \"#4D5663\"}, \"title\": {\"font\": {\"color\": \"#4D5663\"}, \"text\": \"\"}, \"zerolinecolor\": \"#E1E5ED\"}},                        {\"showLink\": true, \"linkText\": \"Export to plot.ly\", \"plotlyServerURL\": \"https://plot.ly\", \"responsive\": true}                    ).then(function(){\n",
       "                            \n",
       "var gd = document.getElementById('6fcd6b8e-54fa-4398-a0c0-0c7e3dfb5c24');\n",
       "var x = new MutationObserver(function (mutations, observer) {{\n",
       "        var display = window.getComputedStyle(gd).display;\n",
       "        if (!display || display === 'none') {{\n",
       "            console.log([gd, 'removed!']);\n",
       "            Plotly.purge(gd);\n",
       "            observer.disconnect();\n",
       "        }}\n",
       "}});\n",
       "\n",
       "// Listen for the removal of the full notebook cells\n",
       "var notebookContainer = gd.closest('#notebook-container');\n",
       "if (notebookContainer) {{\n",
       "    x.observe(notebookContainer, {childList: true});\n",
       "}}\n",
       "\n",
       "// Listen for the clearing of the current output cell\n",
       "var outputEl = gd.closest('.output');\n",
       "if (outputEl) {{\n",
       "    x.observe(outputEl, {childList: true});\n",
       "}}\n",
       "\n",
       "                        })                };                });            </script>        </div>"
      ]
     },
     "metadata": {},
     "output_type": "display_data"
    }
   ],
   "source": [
    "fake_df.iplot(kind='scatter')"
   ]
  },
  {
   "cell_type": "markdown",
   "metadata": {},
   "source": [
    "# Scatter_Matrix"
   ]
  },
  {
   "cell_type": "code",
   "execution_count": 19,
   "metadata": {},
   "outputs": [
    {
     "data": {
      "application/vnd.plotly.v1+json": {
       "config": {
        "linkText": "Export to plot.ly",
        "plotlyServerURL": "https://plot.ly",
        "showLink": true
       },
       "data": [
        {
         "histfunc": "count",
         "histnorm": "",
         "marker": {
          "color": "rgba(255, 153, 51, 1.0)",
          "line": {
           "color": "#4D5663",
           "width": 1.3
          }
         },
         "name": "A",
         "nbinsx": 10,
         "opacity": 0.8,
         "orientation": "v",
         "type": "histogram",
         "x": [
          2.0098763595893336,
          1.5854346850248688,
          0.9517284968551595,
          1.4209384421391142,
          0.026688111038718355,
          1.7742246940980553,
          0.16997405066218702,
          -1.1663731149184284,
          -1.687555765778785,
          -0.9638359759236773,
          0.31948585690353737,
          0.45206655019272324,
          -0.5856593578130521,
          -1.3331664488301078,
          -0.18227467538397016,
          1.0331832394221976,
          0.37414095900530886,
          -1.3746069162300292,
          1.8832078334627544,
          -0.16909971811806357,
          -0.32927926569287375,
          0.2627032205145867,
          -0.3598102265304865,
          0.5447321941036315,
          1.6100120651269116,
          -0.3804397268147677,
          0.1473620328561745,
          1.6691747558384904,
          1.8148257699582853,
          1.0180855824554613,
          2.766422169747134,
          0.6612450177603737,
          0.2986153846044228,
          -1.7053592704223286,
          -0.6711464446025099,
          -0.16294248127431257,
          -1.76502064308557,
          0.056206938499821404,
          -0.7066819603495336,
          -0.2541191740775342,
          -1.5744224819850823,
          0.4424197673183819,
          0.9446253816575055,
          0.23631706594971114,
          0.14785287447786766,
          0.22500275896921618,
          -0.013301170787457814,
          0.2315655094459254,
          0.6735331950306841,
          -0.10790761675412006,
          -1.5498459914408311,
          -0.41529924792912287,
          -0.22878419631577793,
          2.3889340441169504,
          -0.5011363683382322,
          -0.18138728609572885,
          0.10481645267669726,
          0.7086729341837882,
          -1.4574933521470606,
          -2.276244891933633,
          -0.928082898567579,
          0.22469067595539435,
          0.5161213606538004,
          0.24896276094352396,
          -0.017016592599865137,
          -0.2353009091061637,
          0.6210256252215713,
          1.0259839308083618,
          -0.05291468044019354,
          -1.2015439091389342,
          0.20200327029328774,
          -0.3229245198595919,
          0.5524528833109041,
          -0.4028777637706296,
          -0.059882638309787274,
          0.12775951718529485,
          -0.17957320771266141,
          1.0269177088172363,
          1.1771880686524667,
          -0.6395966666807401,
          0.3744607968230148,
          0.641740461644252,
          -1.0076463847201,
          0.02226447529627381,
          0.2190566031008649,
          -0.643633189304614,
          1.2638889727273173,
          -0.48892495679508047,
          0.059705931132288816,
          -0.9664065644091091,
          1.095398828129973,
          -0.8408864989043608,
          -0.871759542343419,
          -0.1856655404692126,
          0.18088575006579746,
          1.2747503019467712,
          -0.4396286084094133,
          -1.1740229644234133,
          0.1367868730401681,
          0.5003571614833707
         ],
         "xaxis": "x",
         "yaxis": "y"
        },
        {
         "line": {
          "color": "rgba(128, 128, 128, 1.0)",
          "dash": "solid",
          "shape": "linear",
          "width": 1.3
         },
         "marker": {
          "size": 2,
          "symbol": "circle"
         },
         "mode": "markers",
         "name": "A",
         "text": "",
         "type": "scatter",
         "x": [
          -0.34761400696809835,
          0.7967107929307996,
          -1.021435745012177,
          0.8039058679506786,
          0.28202976547017816,
          1.629306414530597,
          -3.4110663508758923,
          -0.9237688579846878,
          1.3449197314869716,
          -1.056451635061406,
          -1.0691292337350398,
          1.3229153833868197,
          0.1944216073353599,
          0.299995236341656,
          0.44109109461435964,
          -0.08136416868042488,
          0.9303198403726493,
          0.05888325507957637,
          0.7395899412452036,
          -0.150937039126787,
          -0.8073667119303348,
          -2.1209755600528832,
          1.3326778932258512,
          0.9912008713869328,
          -1.0508995328015918,
          0.13999533634881983,
          -0.8173571641054362,
          -0.11295496530104156,
          -1.6812301346024714,
          1.0420418838155838,
          0.2250212295749634,
          1.1691927821992336,
          -0.8497153337809334,
          -0.2598100609473683,
          -0.5252259693487649,
          -0.741660775358332,
          1.3379213304389845,
          1.0001179164638403,
          -1.0402508474746148,
          -0.051391256452094,
          0.7572822801140646,
          1.314205938870495,
          -1.415487984063252,
          -0.261307270216244,
          -0.6325936261624826,
          0.1347352764137132,
          1.1117699079741161,
          -0.6365318004652251,
          0.6586264711638239,
          -2.2171795885534,
          0.11320736946178084,
          1.5729034138642517,
          0.1310369529846583,
          -0.9617569362791584,
          -0.8777880682991028,
          0.5899941649731096,
          -0.1412306828688527,
          1.5170554467085127,
          0.53130018523096,
          0.32158882850971465,
          -0.9464306474339612,
          -1.8406876139673087,
          -0.6592197757814411,
          -0.05035363573486317,
          -0.0012558881887979863,
          -2.2476749098487656,
          -0.7598151323708757,
          -1.4218480040643744,
          -0.5040523542296603,
          1.1160587623525131,
          1.3272816572811181,
          0.9641613696033847,
          1.0351188803977998,
          0.7523574359092837,
          -0.08234499129197077,
          -0.43717706866405887,
          1.1601515432985665,
          -0.5526689647969686,
          0.7509740048177651,
          0.27402019924238286,
          0.7684338000320895,
          -1.0774412859096918,
          -2.158782081147689,
          0.6228680278276605,
          -1.4619809072135606,
          -2.351284827931384,
          -0.36035854063131767,
          1.5433883055746351,
          0.611161533590583,
          0.40126658500000917,
          0.432320337391507,
          0.05165221386738992,
          0.7266281491464596,
          -1.5253604789419755,
          -0.8028686711450908,
          1.3187931284966241,
          -0.5975997233571111,
          0.238360495263982,
          -1.0803828111948988,
          1.2501965937113815
         ],
         "xaxis": "x2",
         "y": [
          2.0098763595893336,
          1.5854346850248688,
          0.9517284968551595,
          1.4209384421391142,
          0.026688111038718355,
          1.7742246940980553,
          0.16997405066218702,
          -1.1663731149184284,
          -1.687555765778785,
          -0.9638359759236773,
          0.31948585690353737,
          0.45206655019272324,
          -0.5856593578130521,
          -1.3331664488301078,
          -0.18227467538397016,
          1.0331832394221976,
          0.37414095900530886,
          -1.3746069162300292,
          1.8832078334627544,
          -0.16909971811806357,
          -0.32927926569287375,
          0.2627032205145867,
          -0.3598102265304865,
          0.5447321941036315,
          1.6100120651269116,
          -0.3804397268147677,
          0.1473620328561745,
          1.6691747558384904,
          1.8148257699582853,
          1.0180855824554613,
          2.766422169747134,
          0.6612450177603737,
          0.2986153846044228,
          -1.7053592704223286,
          -0.6711464446025099,
          -0.16294248127431257,
          -1.76502064308557,
          0.056206938499821404,
          -0.7066819603495336,
          -0.2541191740775342,
          -1.5744224819850823,
          0.4424197673183819,
          0.9446253816575055,
          0.23631706594971114,
          0.14785287447786766,
          0.22500275896921618,
          -0.013301170787457814,
          0.2315655094459254,
          0.6735331950306841,
          -0.10790761675412006,
          -1.5498459914408311,
          -0.41529924792912287,
          -0.22878419631577793,
          2.3889340441169504,
          -0.5011363683382322,
          -0.18138728609572885,
          0.10481645267669726,
          0.7086729341837882,
          -1.4574933521470606,
          -2.276244891933633,
          -0.928082898567579,
          0.22469067595539435,
          0.5161213606538004,
          0.24896276094352396,
          -0.017016592599865137,
          -0.2353009091061637,
          0.6210256252215713,
          1.0259839308083618,
          -0.05291468044019354,
          -1.2015439091389342,
          0.20200327029328774,
          -0.3229245198595919,
          0.5524528833109041,
          -0.4028777637706296,
          -0.059882638309787274,
          0.12775951718529485,
          -0.17957320771266141,
          1.0269177088172363,
          1.1771880686524667,
          -0.6395966666807401,
          0.3744607968230148,
          0.641740461644252,
          -1.0076463847201,
          0.02226447529627381,
          0.2190566031008649,
          -0.643633189304614,
          1.2638889727273173,
          -0.48892495679508047,
          0.059705931132288816,
          -0.9664065644091091,
          1.095398828129973,
          -0.8408864989043608,
          -0.871759542343419,
          -0.1856655404692126,
          0.18088575006579746,
          1.2747503019467712,
          -0.4396286084094133,
          -1.1740229644234133,
          0.1367868730401681,
          0.5003571614833707
         ],
         "yaxis": "y2"
        },
        {
         "line": {
          "color": "rgba(128, 128, 128, 1.0)",
          "dash": "solid",
          "shape": "linear",
          "width": 1.3
         },
         "marker": {
          "size": 2,
          "symbol": "circle"
         },
         "mode": "markers",
         "name": "A",
         "text": "",
         "type": "scatter",
         "x": [
          -0.9289553735321145,
          -3.29185578905007,
          0.6141311655471734,
          -1.3279654686462936,
          -0.9330755405301372,
          -0.13572951607500175,
          -0.1558399731911225,
          0.2562172935610255,
          -1.1550179645829468,
          1.133701737589356,
          0.5602961037020913,
          -0.2058384517520784,
          1.5715038418375586,
          -0.7828567782123235,
          0.6850043273904133,
          2.204073042744001,
          2.07975076431608,
          -1.0392898689716727,
          -0.7996953898361792,
          0.07820140689226711,
          1.0753792703079366,
          1.23073652415559,
          0.37576849472620666,
          -1.704312176087002,
          0.46855834965098864,
          -0.038494063834664,
          -1.5206010064061906,
          -0.6443983946167495,
          0.46212281535437416,
          -0.5720314045038454,
          0.628361267113081,
          0.4118433577913778,
          -0.6537933417475408,
          -0.217973511529981,
          1.4250444252250918,
          1.2901404209885001,
          0.12709267205722835,
          1.8153488317774,
          0.6590271323537336,
          1.5878240611462506,
          1.1759772042114245,
          -0.08620840466405229,
          0.3736929842944326,
          -1.1070026588066593,
          -0.9689529361661915,
          -0.1313885271389684,
          2.6162110696415923,
          0.6077468827653002,
          1.5819722537455785,
          0.3168357811771449,
          0.5166233815916088,
          -0.3904970470253944,
          0.8966415053544944,
          2.2548384083273225,
          -0.7361160160418321,
          -0.9929759828317783,
          -1.2733419005820379,
          1.2896761577237899,
          1.0013031805323842,
          -0.3458133403722976,
          0.20285737608510637,
          0.3627025307902813,
          0.32772115687956177,
          0.08071273087746433,
          1.083556238859063,
          0.26233474596948775,
          -0.1468439454866668,
          1.6389197921341037,
          0.7840215019259638,
          -0.10704043977879389,
          -0.03959077604699771,
          -0.8345086098492591,
          -0.2613468571089336,
          1.8869726033489433,
          0.36514136983338324,
          -0.8199316884247727,
          0.3362582147997106,
          0.02104307222962485,
          0.2261683930226166,
          0.8922721913588897,
          -1.0955491455925161,
          0.1777970289425649,
          1.8635009920304269,
          -1.5831282633220047,
          -0.03669126310767968,
          0.5901549161922415,
          -1.1927292624064005,
          -1.3427909329462622,
          0.6797640018201362,
          0.5878759139859725,
          -1.5594604092917315,
          -0.898550013149892,
          2.1149119380876336,
          -1.2258059010951654,
          -1.8047329306685895,
          0.732050971212458,
          0.6599757625488231,
          0.21932400053658035,
          0.2921775958716824,
          -0.9570268392633724
         ],
         "xaxis": "x3",
         "y": [
          2.0098763595893336,
          1.5854346850248688,
          0.9517284968551595,
          1.4209384421391142,
          0.026688111038718355,
          1.7742246940980553,
          0.16997405066218702,
          -1.1663731149184284,
          -1.687555765778785,
          -0.9638359759236773,
          0.31948585690353737,
          0.45206655019272324,
          -0.5856593578130521,
          -1.3331664488301078,
          -0.18227467538397016,
          1.0331832394221976,
          0.37414095900530886,
          -1.3746069162300292,
          1.8832078334627544,
          -0.16909971811806357,
          -0.32927926569287375,
          0.2627032205145867,
          -0.3598102265304865,
          0.5447321941036315,
          1.6100120651269116,
          -0.3804397268147677,
          0.1473620328561745,
          1.6691747558384904,
          1.8148257699582853,
          1.0180855824554613,
          2.766422169747134,
          0.6612450177603737,
          0.2986153846044228,
          -1.7053592704223286,
          -0.6711464446025099,
          -0.16294248127431257,
          -1.76502064308557,
          0.056206938499821404,
          -0.7066819603495336,
          -0.2541191740775342,
          -1.5744224819850823,
          0.4424197673183819,
          0.9446253816575055,
          0.23631706594971114,
          0.14785287447786766,
          0.22500275896921618,
          -0.013301170787457814,
          0.2315655094459254,
          0.6735331950306841,
          -0.10790761675412006,
          -1.5498459914408311,
          -0.41529924792912287,
          -0.22878419631577793,
          2.3889340441169504,
          -0.5011363683382322,
          -0.18138728609572885,
          0.10481645267669726,
          0.7086729341837882,
          -1.4574933521470606,
          -2.276244891933633,
          -0.928082898567579,
          0.22469067595539435,
          0.5161213606538004,
          0.24896276094352396,
          -0.017016592599865137,
          -0.2353009091061637,
          0.6210256252215713,
          1.0259839308083618,
          -0.05291468044019354,
          -1.2015439091389342,
          0.20200327029328774,
          -0.3229245198595919,
          0.5524528833109041,
          -0.4028777637706296,
          -0.059882638309787274,
          0.12775951718529485,
          -0.17957320771266141,
          1.0269177088172363,
          1.1771880686524667,
          -0.6395966666807401,
          0.3744607968230148,
          0.641740461644252,
          -1.0076463847201,
          0.02226447529627381,
          0.2190566031008649,
          -0.643633189304614,
          1.2638889727273173,
          -0.48892495679508047,
          0.059705931132288816,
          -0.9664065644091091,
          1.095398828129973,
          -0.8408864989043608,
          -0.871759542343419,
          -0.1856655404692126,
          0.18088575006579746,
          1.2747503019467712,
          -0.4396286084094133,
          -1.1740229644234133,
          0.1367868730401681,
          0.5003571614833707
         ],
         "yaxis": "y3"
        },
        {
         "line": {
          "color": "rgba(128, 128, 128, 1.0)",
          "dash": "solid",
          "shape": "linear",
          "width": 1.3
         },
         "marker": {
          "size": 2,
          "symbol": "circle"
         },
         "mode": "markers",
         "name": "A",
         "text": "",
         "type": "scatter",
         "x": [
          -1.2276827666294137,
          1.0081521786625394,
          -0.5074264826440039,
          -0.19631739000388773,
          2.1415274347182964,
          0.11904785476621113,
          0.23946707643818188,
          0.37908458450735394,
          0.6725231384612813,
          -0.8211976368443139,
          0.7494841941503361,
          0.034781099386621744,
          -1.3398185164428509,
          -0.069572256892427,
          0.41931356889731375,
          -0.8167788014535204,
          -1.2373976906340687,
          -0.1840954546341901,
          0.0035607323517076648,
          -0.041196684241796795,
          -0.03473722076730505,
          -0.0018397056125259573,
          -0.3708078187451696,
          0.5205572617589022,
          0.0452824329967141,
          1.0102919240344248,
          -1.1258776608819696,
          -0.7168342966408033,
          0.6155164779674744,
          1.6784588555522606,
          1.1753205450072943,
          0.014384224900247785,
          0.6220293945296994,
          -0.2644826309043893,
          -1.966326671231066,
          -0.015666796938935065,
          1.3138939598063901,
          -0.012782967793383507,
          0.0029353541641902407,
          -0.5170773449665355,
          1.0336403836047219,
          1.2007045536411687,
          0.027906920022602453,
          -0.32524379048054103,
          -1.7518527615937811,
          0.5084098807242259,
          0.348801529373511,
          0.1632132673505855,
          -0.5266716391028633,
          0.4672417584138413,
          0.3308712594301862,
          0.43524231033923944,
          0.1722997203653605,
          0.2958770095603323,
          -1.6846434422982581,
          0.7466252788358413,
          -0.7772942870105266,
          0.338214924338623,
          0.9244376844559865,
          -1.0974683044436226,
          -0.9132866699195714,
          -0.21537440461306412,
          -0.5527481296937405,
          -0.5828651087562331,
          -0.06174286500123566,
          -0.686792721448157,
          -0.12886335689312195,
          -0.16420664628629053,
          0.8766901891456867,
          1.7617111357354525,
          0.1827306553874836,
          0.02782293765674249,
          -0.5806501251417746,
          0.6673057789106808,
          -0.40287164126044306,
          0.33709890343606297,
          0.3359252304949588,
          0.08344176618634161,
          -1.5363505337627845,
          -0.9079481054942306,
          0.750905764361586,
          -0.10883531168870954,
          -0.7234321550121003,
          0.752643964995895,
          -1.543376489389946,
          -0.9203526363133234,
          0.42202239030579747,
          2.8139745801628533,
          -0.5441279446897327,
          -1.1620867247042457,
          -0.943020276323677,
          0.9067256718207556,
          -0.6956911248289205,
          0.9083268430325101,
          -0.8093990390983988,
          0.39526663463845807,
          -1.5080605916891274,
          0.5915062777905455,
          0.45459959621494966,
          -1.290777233120657
         ],
         "xaxis": "x4",
         "y": [
          2.0098763595893336,
          1.5854346850248688,
          0.9517284968551595,
          1.4209384421391142,
          0.026688111038718355,
          1.7742246940980553,
          0.16997405066218702,
          -1.1663731149184284,
          -1.687555765778785,
          -0.9638359759236773,
          0.31948585690353737,
          0.45206655019272324,
          -0.5856593578130521,
          -1.3331664488301078,
          -0.18227467538397016,
          1.0331832394221976,
          0.37414095900530886,
          -1.3746069162300292,
          1.8832078334627544,
          -0.16909971811806357,
          -0.32927926569287375,
          0.2627032205145867,
          -0.3598102265304865,
          0.5447321941036315,
          1.6100120651269116,
          -0.3804397268147677,
          0.1473620328561745,
          1.6691747558384904,
          1.8148257699582853,
          1.0180855824554613,
          2.766422169747134,
          0.6612450177603737,
          0.2986153846044228,
          -1.7053592704223286,
          -0.6711464446025099,
          -0.16294248127431257,
          -1.76502064308557,
          0.056206938499821404,
          -0.7066819603495336,
          -0.2541191740775342,
          -1.5744224819850823,
          0.4424197673183819,
          0.9446253816575055,
          0.23631706594971114,
          0.14785287447786766,
          0.22500275896921618,
          -0.013301170787457814,
          0.2315655094459254,
          0.6735331950306841,
          -0.10790761675412006,
          -1.5498459914408311,
          -0.41529924792912287,
          -0.22878419631577793,
          2.3889340441169504,
          -0.5011363683382322,
          -0.18138728609572885,
          0.10481645267669726,
          0.7086729341837882,
          -1.4574933521470606,
          -2.276244891933633,
          -0.928082898567579,
          0.22469067595539435,
          0.5161213606538004,
          0.24896276094352396,
          -0.017016592599865137,
          -0.2353009091061637,
          0.6210256252215713,
          1.0259839308083618,
          -0.05291468044019354,
          -1.2015439091389342,
          0.20200327029328774,
          -0.3229245198595919,
          0.5524528833109041,
          -0.4028777637706296,
          -0.059882638309787274,
          0.12775951718529485,
          -0.17957320771266141,
          1.0269177088172363,
          1.1771880686524667,
          -0.6395966666807401,
          0.3744607968230148,
          0.641740461644252,
          -1.0076463847201,
          0.02226447529627381,
          0.2190566031008649,
          -0.643633189304614,
          1.2638889727273173,
          -0.48892495679508047,
          0.059705931132288816,
          -0.9664065644091091,
          1.095398828129973,
          -0.8408864989043608,
          -0.871759542343419,
          -0.1856655404692126,
          0.18088575006579746,
          1.2747503019467712,
          -0.4396286084094133,
          -1.1740229644234133,
          0.1367868730401681,
          0.5003571614833707
         ],
         "yaxis": "y4"
        },
        {
         "line": {
          "color": "rgba(128, 128, 128, 1.0)",
          "dash": "solid",
          "shape": "linear",
          "width": 1.3
         },
         "marker": {
          "size": 2,
          "symbol": "circle"
         },
         "mode": "markers",
         "name": "B",
         "text": "",
         "type": "scatter",
         "x": [
          2.0098763595893336,
          1.5854346850248688,
          0.9517284968551595,
          1.4209384421391142,
          0.026688111038718355,
          1.7742246940980553,
          0.16997405066218702,
          -1.1663731149184284,
          -1.687555765778785,
          -0.9638359759236773,
          0.31948585690353737,
          0.45206655019272324,
          -0.5856593578130521,
          -1.3331664488301078,
          -0.18227467538397016,
          1.0331832394221976,
          0.37414095900530886,
          -1.3746069162300292,
          1.8832078334627544,
          -0.16909971811806357,
          -0.32927926569287375,
          0.2627032205145867,
          -0.3598102265304865,
          0.5447321941036315,
          1.6100120651269116,
          -0.3804397268147677,
          0.1473620328561745,
          1.6691747558384904,
          1.8148257699582853,
          1.0180855824554613,
          2.766422169747134,
          0.6612450177603737,
          0.2986153846044228,
          -1.7053592704223286,
          -0.6711464446025099,
          -0.16294248127431257,
          -1.76502064308557,
          0.056206938499821404,
          -0.7066819603495336,
          -0.2541191740775342,
          -1.5744224819850823,
          0.4424197673183819,
          0.9446253816575055,
          0.23631706594971114,
          0.14785287447786766,
          0.22500275896921618,
          -0.013301170787457814,
          0.2315655094459254,
          0.6735331950306841,
          -0.10790761675412006,
          -1.5498459914408311,
          -0.41529924792912287,
          -0.22878419631577793,
          2.3889340441169504,
          -0.5011363683382322,
          -0.18138728609572885,
          0.10481645267669726,
          0.7086729341837882,
          -1.4574933521470606,
          -2.276244891933633,
          -0.928082898567579,
          0.22469067595539435,
          0.5161213606538004,
          0.24896276094352396,
          -0.017016592599865137,
          -0.2353009091061637,
          0.6210256252215713,
          1.0259839308083618,
          -0.05291468044019354,
          -1.2015439091389342,
          0.20200327029328774,
          -0.3229245198595919,
          0.5524528833109041,
          -0.4028777637706296,
          -0.059882638309787274,
          0.12775951718529485,
          -0.17957320771266141,
          1.0269177088172363,
          1.1771880686524667,
          -0.6395966666807401,
          0.3744607968230148,
          0.641740461644252,
          -1.0076463847201,
          0.02226447529627381,
          0.2190566031008649,
          -0.643633189304614,
          1.2638889727273173,
          -0.48892495679508047,
          0.059705931132288816,
          -0.9664065644091091,
          1.095398828129973,
          -0.8408864989043608,
          -0.871759542343419,
          -0.1856655404692126,
          0.18088575006579746,
          1.2747503019467712,
          -0.4396286084094133,
          -1.1740229644234133,
          0.1367868730401681,
          0.5003571614833707
         ],
         "xaxis": "x5",
         "y": [
          -0.34761400696809835,
          0.7967107929307996,
          -1.021435745012177,
          0.8039058679506786,
          0.28202976547017816,
          1.629306414530597,
          -3.4110663508758923,
          -0.9237688579846878,
          1.3449197314869716,
          -1.056451635061406,
          -1.0691292337350398,
          1.3229153833868197,
          0.1944216073353599,
          0.299995236341656,
          0.44109109461435964,
          -0.08136416868042488,
          0.9303198403726493,
          0.05888325507957637,
          0.7395899412452036,
          -0.150937039126787,
          -0.8073667119303348,
          -2.1209755600528832,
          1.3326778932258512,
          0.9912008713869328,
          -1.0508995328015918,
          0.13999533634881983,
          -0.8173571641054362,
          -0.11295496530104156,
          -1.6812301346024714,
          1.0420418838155838,
          0.2250212295749634,
          1.1691927821992336,
          -0.8497153337809334,
          -0.2598100609473683,
          -0.5252259693487649,
          -0.741660775358332,
          1.3379213304389845,
          1.0001179164638403,
          -1.0402508474746148,
          -0.051391256452094,
          0.7572822801140646,
          1.314205938870495,
          -1.415487984063252,
          -0.261307270216244,
          -0.6325936261624826,
          0.1347352764137132,
          1.1117699079741161,
          -0.6365318004652251,
          0.6586264711638239,
          -2.2171795885534,
          0.11320736946178084,
          1.5729034138642517,
          0.1310369529846583,
          -0.9617569362791584,
          -0.8777880682991028,
          0.5899941649731096,
          -0.1412306828688527,
          1.5170554467085127,
          0.53130018523096,
          0.32158882850971465,
          -0.9464306474339612,
          -1.8406876139673087,
          -0.6592197757814411,
          -0.05035363573486317,
          -0.0012558881887979863,
          -2.2476749098487656,
          -0.7598151323708757,
          -1.4218480040643744,
          -0.5040523542296603,
          1.1160587623525131,
          1.3272816572811181,
          0.9641613696033847,
          1.0351188803977998,
          0.7523574359092837,
          -0.08234499129197077,
          -0.43717706866405887,
          1.1601515432985665,
          -0.5526689647969686,
          0.7509740048177651,
          0.27402019924238286,
          0.7684338000320895,
          -1.0774412859096918,
          -2.158782081147689,
          0.6228680278276605,
          -1.4619809072135606,
          -2.351284827931384,
          -0.36035854063131767,
          1.5433883055746351,
          0.611161533590583,
          0.40126658500000917,
          0.432320337391507,
          0.05165221386738992,
          0.7266281491464596,
          -1.5253604789419755,
          -0.8028686711450908,
          1.3187931284966241,
          -0.5975997233571111,
          0.238360495263982,
          -1.0803828111948988,
          1.2501965937113815
         ],
         "yaxis": "y5"
        },
        {
         "histfunc": "count",
         "histnorm": "",
         "marker": {
          "color": "rgba(55, 128, 191, 1.0)",
          "line": {
           "color": "#4D5663",
           "width": 1.3
          }
         },
         "name": "B",
         "nbinsx": 10,
         "opacity": 0.8,
         "orientation": "v",
         "type": "histogram",
         "x": [
          -0.34761400696809835,
          0.7967107929307996,
          -1.021435745012177,
          0.8039058679506786,
          0.28202976547017816,
          1.629306414530597,
          -3.4110663508758923,
          -0.9237688579846878,
          1.3449197314869716,
          -1.056451635061406,
          -1.0691292337350398,
          1.3229153833868197,
          0.1944216073353599,
          0.299995236341656,
          0.44109109461435964,
          -0.08136416868042488,
          0.9303198403726493,
          0.05888325507957637,
          0.7395899412452036,
          -0.150937039126787,
          -0.8073667119303348,
          -2.1209755600528832,
          1.3326778932258512,
          0.9912008713869328,
          -1.0508995328015918,
          0.13999533634881983,
          -0.8173571641054362,
          -0.11295496530104156,
          -1.6812301346024714,
          1.0420418838155838,
          0.2250212295749634,
          1.1691927821992336,
          -0.8497153337809334,
          -0.2598100609473683,
          -0.5252259693487649,
          -0.741660775358332,
          1.3379213304389845,
          1.0001179164638403,
          -1.0402508474746148,
          -0.051391256452094,
          0.7572822801140646,
          1.314205938870495,
          -1.415487984063252,
          -0.261307270216244,
          -0.6325936261624826,
          0.1347352764137132,
          1.1117699079741161,
          -0.6365318004652251,
          0.6586264711638239,
          -2.2171795885534,
          0.11320736946178084,
          1.5729034138642517,
          0.1310369529846583,
          -0.9617569362791584,
          -0.8777880682991028,
          0.5899941649731096,
          -0.1412306828688527,
          1.5170554467085127,
          0.53130018523096,
          0.32158882850971465,
          -0.9464306474339612,
          -1.8406876139673087,
          -0.6592197757814411,
          -0.05035363573486317,
          -0.0012558881887979863,
          -2.2476749098487656,
          -0.7598151323708757,
          -1.4218480040643744,
          -0.5040523542296603,
          1.1160587623525131,
          1.3272816572811181,
          0.9641613696033847,
          1.0351188803977998,
          0.7523574359092837,
          -0.08234499129197077,
          -0.43717706866405887,
          1.1601515432985665,
          -0.5526689647969686,
          0.7509740048177651,
          0.27402019924238286,
          0.7684338000320895,
          -1.0774412859096918,
          -2.158782081147689,
          0.6228680278276605,
          -1.4619809072135606,
          -2.351284827931384,
          -0.36035854063131767,
          1.5433883055746351,
          0.611161533590583,
          0.40126658500000917,
          0.432320337391507,
          0.05165221386738992,
          0.7266281491464596,
          -1.5253604789419755,
          -0.8028686711450908,
          1.3187931284966241,
          -0.5975997233571111,
          0.238360495263982,
          -1.0803828111948988,
          1.2501965937113815
         ],
         "xaxis": "x6",
         "yaxis": "y6"
        },
        {
         "line": {
          "color": "rgba(128, 128, 128, 1.0)",
          "dash": "solid",
          "shape": "linear",
          "width": 1.3
         },
         "marker": {
          "size": 2,
          "symbol": "circle"
         },
         "mode": "markers",
         "name": "B",
         "text": "",
         "type": "scatter",
         "x": [
          -0.9289553735321145,
          -3.29185578905007,
          0.6141311655471734,
          -1.3279654686462936,
          -0.9330755405301372,
          -0.13572951607500175,
          -0.1558399731911225,
          0.2562172935610255,
          -1.1550179645829468,
          1.133701737589356,
          0.5602961037020913,
          -0.2058384517520784,
          1.5715038418375586,
          -0.7828567782123235,
          0.6850043273904133,
          2.204073042744001,
          2.07975076431608,
          -1.0392898689716727,
          -0.7996953898361792,
          0.07820140689226711,
          1.0753792703079366,
          1.23073652415559,
          0.37576849472620666,
          -1.704312176087002,
          0.46855834965098864,
          -0.038494063834664,
          -1.5206010064061906,
          -0.6443983946167495,
          0.46212281535437416,
          -0.5720314045038454,
          0.628361267113081,
          0.4118433577913778,
          -0.6537933417475408,
          -0.217973511529981,
          1.4250444252250918,
          1.2901404209885001,
          0.12709267205722835,
          1.8153488317774,
          0.6590271323537336,
          1.5878240611462506,
          1.1759772042114245,
          -0.08620840466405229,
          0.3736929842944326,
          -1.1070026588066593,
          -0.9689529361661915,
          -0.1313885271389684,
          2.6162110696415923,
          0.6077468827653002,
          1.5819722537455785,
          0.3168357811771449,
          0.5166233815916088,
          -0.3904970470253944,
          0.8966415053544944,
          2.2548384083273225,
          -0.7361160160418321,
          -0.9929759828317783,
          -1.2733419005820379,
          1.2896761577237899,
          1.0013031805323842,
          -0.3458133403722976,
          0.20285737608510637,
          0.3627025307902813,
          0.32772115687956177,
          0.08071273087746433,
          1.083556238859063,
          0.26233474596948775,
          -0.1468439454866668,
          1.6389197921341037,
          0.7840215019259638,
          -0.10704043977879389,
          -0.03959077604699771,
          -0.8345086098492591,
          -0.2613468571089336,
          1.8869726033489433,
          0.36514136983338324,
          -0.8199316884247727,
          0.3362582147997106,
          0.02104307222962485,
          0.2261683930226166,
          0.8922721913588897,
          -1.0955491455925161,
          0.1777970289425649,
          1.8635009920304269,
          -1.5831282633220047,
          -0.03669126310767968,
          0.5901549161922415,
          -1.1927292624064005,
          -1.3427909329462622,
          0.6797640018201362,
          0.5878759139859725,
          -1.5594604092917315,
          -0.898550013149892,
          2.1149119380876336,
          -1.2258059010951654,
          -1.8047329306685895,
          0.732050971212458,
          0.6599757625488231,
          0.21932400053658035,
          0.2921775958716824,
          -0.9570268392633724
         ],
         "xaxis": "x7",
         "y": [
          -0.34761400696809835,
          0.7967107929307996,
          -1.021435745012177,
          0.8039058679506786,
          0.28202976547017816,
          1.629306414530597,
          -3.4110663508758923,
          -0.9237688579846878,
          1.3449197314869716,
          -1.056451635061406,
          -1.0691292337350398,
          1.3229153833868197,
          0.1944216073353599,
          0.299995236341656,
          0.44109109461435964,
          -0.08136416868042488,
          0.9303198403726493,
          0.05888325507957637,
          0.7395899412452036,
          -0.150937039126787,
          -0.8073667119303348,
          -2.1209755600528832,
          1.3326778932258512,
          0.9912008713869328,
          -1.0508995328015918,
          0.13999533634881983,
          -0.8173571641054362,
          -0.11295496530104156,
          -1.6812301346024714,
          1.0420418838155838,
          0.2250212295749634,
          1.1691927821992336,
          -0.8497153337809334,
          -0.2598100609473683,
          -0.5252259693487649,
          -0.741660775358332,
          1.3379213304389845,
          1.0001179164638403,
          -1.0402508474746148,
          -0.051391256452094,
          0.7572822801140646,
          1.314205938870495,
          -1.415487984063252,
          -0.261307270216244,
          -0.6325936261624826,
          0.1347352764137132,
          1.1117699079741161,
          -0.6365318004652251,
          0.6586264711638239,
          -2.2171795885534,
          0.11320736946178084,
          1.5729034138642517,
          0.1310369529846583,
          -0.9617569362791584,
          -0.8777880682991028,
          0.5899941649731096,
          -0.1412306828688527,
          1.5170554467085127,
          0.53130018523096,
          0.32158882850971465,
          -0.9464306474339612,
          -1.8406876139673087,
          -0.6592197757814411,
          -0.05035363573486317,
          -0.0012558881887979863,
          -2.2476749098487656,
          -0.7598151323708757,
          -1.4218480040643744,
          -0.5040523542296603,
          1.1160587623525131,
          1.3272816572811181,
          0.9641613696033847,
          1.0351188803977998,
          0.7523574359092837,
          -0.08234499129197077,
          -0.43717706866405887,
          1.1601515432985665,
          -0.5526689647969686,
          0.7509740048177651,
          0.27402019924238286,
          0.7684338000320895,
          -1.0774412859096918,
          -2.158782081147689,
          0.6228680278276605,
          -1.4619809072135606,
          -2.351284827931384,
          -0.36035854063131767,
          1.5433883055746351,
          0.611161533590583,
          0.40126658500000917,
          0.432320337391507,
          0.05165221386738992,
          0.7266281491464596,
          -1.5253604789419755,
          -0.8028686711450908,
          1.3187931284966241,
          -0.5975997233571111,
          0.238360495263982,
          -1.0803828111948988,
          1.2501965937113815
         ],
         "yaxis": "y7"
        },
        {
         "line": {
          "color": "rgba(128, 128, 128, 1.0)",
          "dash": "solid",
          "shape": "linear",
          "width": 1.3
         },
         "marker": {
          "size": 2,
          "symbol": "circle"
         },
         "mode": "markers",
         "name": "B",
         "text": "",
         "type": "scatter",
         "x": [
          -1.2276827666294137,
          1.0081521786625394,
          -0.5074264826440039,
          -0.19631739000388773,
          2.1415274347182964,
          0.11904785476621113,
          0.23946707643818188,
          0.37908458450735394,
          0.6725231384612813,
          -0.8211976368443139,
          0.7494841941503361,
          0.034781099386621744,
          -1.3398185164428509,
          -0.069572256892427,
          0.41931356889731375,
          -0.8167788014535204,
          -1.2373976906340687,
          -0.1840954546341901,
          0.0035607323517076648,
          -0.041196684241796795,
          -0.03473722076730505,
          -0.0018397056125259573,
          -0.3708078187451696,
          0.5205572617589022,
          0.0452824329967141,
          1.0102919240344248,
          -1.1258776608819696,
          -0.7168342966408033,
          0.6155164779674744,
          1.6784588555522606,
          1.1753205450072943,
          0.014384224900247785,
          0.6220293945296994,
          -0.2644826309043893,
          -1.966326671231066,
          -0.015666796938935065,
          1.3138939598063901,
          -0.012782967793383507,
          0.0029353541641902407,
          -0.5170773449665355,
          1.0336403836047219,
          1.2007045536411687,
          0.027906920022602453,
          -0.32524379048054103,
          -1.7518527615937811,
          0.5084098807242259,
          0.348801529373511,
          0.1632132673505855,
          -0.5266716391028633,
          0.4672417584138413,
          0.3308712594301862,
          0.43524231033923944,
          0.1722997203653605,
          0.2958770095603323,
          -1.6846434422982581,
          0.7466252788358413,
          -0.7772942870105266,
          0.338214924338623,
          0.9244376844559865,
          -1.0974683044436226,
          -0.9132866699195714,
          -0.21537440461306412,
          -0.5527481296937405,
          -0.5828651087562331,
          -0.06174286500123566,
          -0.686792721448157,
          -0.12886335689312195,
          -0.16420664628629053,
          0.8766901891456867,
          1.7617111357354525,
          0.1827306553874836,
          0.02782293765674249,
          -0.5806501251417746,
          0.6673057789106808,
          -0.40287164126044306,
          0.33709890343606297,
          0.3359252304949588,
          0.08344176618634161,
          -1.5363505337627845,
          -0.9079481054942306,
          0.750905764361586,
          -0.10883531168870954,
          -0.7234321550121003,
          0.752643964995895,
          -1.543376489389946,
          -0.9203526363133234,
          0.42202239030579747,
          2.8139745801628533,
          -0.5441279446897327,
          -1.1620867247042457,
          -0.943020276323677,
          0.9067256718207556,
          -0.6956911248289205,
          0.9083268430325101,
          -0.8093990390983988,
          0.39526663463845807,
          -1.5080605916891274,
          0.5915062777905455,
          0.45459959621494966,
          -1.290777233120657
         ],
         "xaxis": "x8",
         "y": [
          -0.34761400696809835,
          0.7967107929307996,
          -1.021435745012177,
          0.8039058679506786,
          0.28202976547017816,
          1.629306414530597,
          -3.4110663508758923,
          -0.9237688579846878,
          1.3449197314869716,
          -1.056451635061406,
          -1.0691292337350398,
          1.3229153833868197,
          0.1944216073353599,
          0.299995236341656,
          0.44109109461435964,
          -0.08136416868042488,
          0.9303198403726493,
          0.05888325507957637,
          0.7395899412452036,
          -0.150937039126787,
          -0.8073667119303348,
          -2.1209755600528832,
          1.3326778932258512,
          0.9912008713869328,
          -1.0508995328015918,
          0.13999533634881983,
          -0.8173571641054362,
          -0.11295496530104156,
          -1.6812301346024714,
          1.0420418838155838,
          0.2250212295749634,
          1.1691927821992336,
          -0.8497153337809334,
          -0.2598100609473683,
          -0.5252259693487649,
          -0.741660775358332,
          1.3379213304389845,
          1.0001179164638403,
          -1.0402508474746148,
          -0.051391256452094,
          0.7572822801140646,
          1.314205938870495,
          -1.415487984063252,
          -0.261307270216244,
          -0.6325936261624826,
          0.1347352764137132,
          1.1117699079741161,
          -0.6365318004652251,
          0.6586264711638239,
          -2.2171795885534,
          0.11320736946178084,
          1.5729034138642517,
          0.1310369529846583,
          -0.9617569362791584,
          -0.8777880682991028,
          0.5899941649731096,
          -0.1412306828688527,
          1.5170554467085127,
          0.53130018523096,
          0.32158882850971465,
          -0.9464306474339612,
          -1.8406876139673087,
          -0.6592197757814411,
          -0.05035363573486317,
          -0.0012558881887979863,
          -2.2476749098487656,
          -0.7598151323708757,
          -1.4218480040643744,
          -0.5040523542296603,
          1.1160587623525131,
          1.3272816572811181,
          0.9641613696033847,
          1.0351188803977998,
          0.7523574359092837,
          -0.08234499129197077,
          -0.43717706866405887,
          1.1601515432985665,
          -0.5526689647969686,
          0.7509740048177651,
          0.27402019924238286,
          0.7684338000320895,
          -1.0774412859096918,
          -2.158782081147689,
          0.6228680278276605,
          -1.4619809072135606,
          -2.351284827931384,
          -0.36035854063131767,
          1.5433883055746351,
          0.611161533590583,
          0.40126658500000917,
          0.432320337391507,
          0.05165221386738992,
          0.7266281491464596,
          -1.5253604789419755,
          -0.8028686711450908,
          1.3187931284966241,
          -0.5975997233571111,
          0.238360495263982,
          -1.0803828111948988,
          1.2501965937113815
         ],
         "yaxis": "y8"
        },
        {
         "line": {
          "color": "rgba(128, 128, 128, 1.0)",
          "dash": "solid",
          "shape": "linear",
          "width": 1.3
         },
         "marker": {
          "size": 2,
          "symbol": "circle"
         },
         "mode": "markers",
         "name": "C",
         "text": "",
         "type": "scatter",
         "x": [
          2.0098763595893336,
          1.5854346850248688,
          0.9517284968551595,
          1.4209384421391142,
          0.026688111038718355,
          1.7742246940980553,
          0.16997405066218702,
          -1.1663731149184284,
          -1.687555765778785,
          -0.9638359759236773,
          0.31948585690353737,
          0.45206655019272324,
          -0.5856593578130521,
          -1.3331664488301078,
          -0.18227467538397016,
          1.0331832394221976,
          0.37414095900530886,
          -1.3746069162300292,
          1.8832078334627544,
          -0.16909971811806357,
          -0.32927926569287375,
          0.2627032205145867,
          -0.3598102265304865,
          0.5447321941036315,
          1.6100120651269116,
          -0.3804397268147677,
          0.1473620328561745,
          1.6691747558384904,
          1.8148257699582853,
          1.0180855824554613,
          2.766422169747134,
          0.6612450177603737,
          0.2986153846044228,
          -1.7053592704223286,
          -0.6711464446025099,
          -0.16294248127431257,
          -1.76502064308557,
          0.056206938499821404,
          -0.7066819603495336,
          -0.2541191740775342,
          -1.5744224819850823,
          0.4424197673183819,
          0.9446253816575055,
          0.23631706594971114,
          0.14785287447786766,
          0.22500275896921618,
          -0.013301170787457814,
          0.2315655094459254,
          0.6735331950306841,
          -0.10790761675412006,
          -1.5498459914408311,
          -0.41529924792912287,
          -0.22878419631577793,
          2.3889340441169504,
          -0.5011363683382322,
          -0.18138728609572885,
          0.10481645267669726,
          0.7086729341837882,
          -1.4574933521470606,
          -2.276244891933633,
          -0.928082898567579,
          0.22469067595539435,
          0.5161213606538004,
          0.24896276094352396,
          -0.017016592599865137,
          -0.2353009091061637,
          0.6210256252215713,
          1.0259839308083618,
          -0.05291468044019354,
          -1.2015439091389342,
          0.20200327029328774,
          -0.3229245198595919,
          0.5524528833109041,
          -0.4028777637706296,
          -0.059882638309787274,
          0.12775951718529485,
          -0.17957320771266141,
          1.0269177088172363,
          1.1771880686524667,
          -0.6395966666807401,
          0.3744607968230148,
          0.641740461644252,
          -1.0076463847201,
          0.02226447529627381,
          0.2190566031008649,
          -0.643633189304614,
          1.2638889727273173,
          -0.48892495679508047,
          0.059705931132288816,
          -0.9664065644091091,
          1.095398828129973,
          -0.8408864989043608,
          -0.871759542343419,
          -0.1856655404692126,
          0.18088575006579746,
          1.2747503019467712,
          -0.4396286084094133,
          -1.1740229644234133,
          0.1367868730401681,
          0.5003571614833707
         ],
         "xaxis": "x9",
         "y": [
          -0.9289553735321145,
          -3.29185578905007,
          0.6141311655471734,
          -1.3279654686462936,
          -0.9330755405301372,
          -0.13572951607500175,
          -0.1558399731911225,
          0.2562172935610255,
          -1.1550179645829468,
          1.133701737589356,
          0.5602961037020913,
          -0.2058384517520784,
          1.5715038418375586,
          -0.7828567782123235,
          0.6850043273904133,
          2.204073042744001,
          2.07975076431608,
          -1.0392898689716727,
          -0.7996953898361792,
          0.07820140689226711,
          1.0753792703079366,
          1.23073652415559,
          0.37576849472620666,
          -1.704312176087002,
          0.46855834965098864,
          -0.038494063834664,
          -1.5206010064061906,
          -0.6443983946167495,
          0.46212281535437416,
          -0.5720314045038454,
          0.628361267113081,
          0.4118433577913778,
          -0.6537933417475408,
          -0.217973511529981,
          1.4250444252250918,
          1.2901404209885001,
          0.12709267205722835,
          1.8153488317774,
          0.6590271323537336,
          1.5878240611462506,
          1.1759772042114245,
          -0.08620840466405229,
          0.3736929842944326,
          -1.1070026588066593,
          -0.9689529361661915,
          -0.1313885271389684,
          2.6162110696415923,
          0.6077468827653002,
          1.5819722537455785,
          0.3168357811771449,
          0.5166233815916088,
          -0.3904970470253944,
          0.8966415053544944,
          2.2548384083273225,
          -0.7361160160418321,
          -0.9929759828317783,
          -1.2733419005820379,
          1.2896761577237899,
          1.0013031805323842,
          -0.3458133403722976,
          0.20285737608510637,
          0.3627025307902813,
          0.32772115687956177,
          0.08071273087746433,
          1.083556238859063,
          0.26233474596948775,
          -0.1468439454866668,
          1.6389197921341037,
          0.7840215019259638,
          -0.10704043977879389,
          -0.03959077604699771,
          -0.8345086098492591,
          -0.2613468571089336,
          1.8869726033489433,
          0.36514136983338324,
          -0.8199316884247727,
          0.3362582147997106,
          0.02104307222962485,
          0.2261683930226166,
          0.8922721913588897,
          -1.0955491455925161,
          0.1777970289425649,
          1.8635009920304269,
          -1.5831282633220047,
          -0.03669126310767968,
          0.5901549161922415,
          -1.1927292624064005,
          -1.3427909329462622,
          0.6797640018201362,
          0.5878759139859725,
          -1.5594604092917315,
          -0.898550013149892,
          2.1149119380876336,
          -1.2258059010951654,
          -1.8047329306685895,
          0.732050971212458,
          0.6599757625488231,
          0.21932400053658035,
          0.2921775958716824,
          -0.9570268392633724
         ],
         "yaxis": "y9"
        },
        {
         "line": {
          "color": "rgba(128, 128, 128, 1.0)",
          "dash": "solid",
          "shape": "linear",
          "width": 1.3
         },
         "marker": {
          "size": 2,
          "symbol": "circle"
         },
         "mode": "markers",
         "name": "C",
         "text": "",
         "type": "scatter",
         "x": [
          -0.34761400696809835,
          0.7967107929307996,
          -1.021435745012177,
          0.8039058679506786,
          0.28202976547017816,
          1.629306414530597,
          -3.4110663508758923,
          -0.9237688579846878,
          1.3449197314869716,
          -1.056451635061406,
          -1.0691292337350398,
          1.3229153833868197,
          0.1944216073353599,
          0.299995236341656,
          0.44109109461435964,
          -0.08136416868042488,
          0.9303198403726493,
          0.05888325507957637,
          0.7395899412452036,
          -0.150937039126787,
          -0.8073667119303348,
          -2.1209755600528832,
          1.3326778932258512,
          0.9912008713869328,
          -1.0508995328015918,
          0.13999533634881983,
          -0.8173571641054362,
          -0.11295496530104156,
          -1.6812301346024714,
          1.0420418838155838,
          0.2250212295749634,
          1.1691927821992336,
          -0.8497153337809334,
          -0.2598100609473683,
          -0.5252259693487649,
          -0.741660775358332,
          1.3379213304389845,
          1.0001179164638403,
          -1.0402508474746148,
          -0.051391256452094,
          0.7572822801140646,
          1.314205938870495,
          -1.415487984063252,
          -0.261307270216244,
          -0.6325936261624826,
          0.1347352764137132,
          1.1117699079741161,
          -0.6365318004652251,
          0.6586264711638239,
          -2.2171795885534,
          0.11320736946178084,
          1.5729034138642517,
          0.1310369529846583,
          -0.9617569362791584,
          -0.8777880682991028,
          0.5899941649731096,
          -0.1412306828688527,
          1.5170554467085127,
          0.53130018523096,
          0.32158882850971465,
          -0.9464306474339612,
          -1.8406876139673087,
          -0.6592197757814411,
          -0.05035363573486317,
          -0.0012558881887979863,
          -2.2476749098487656,
          -0.7598151323708757,
          -1.4218480040643744,
          -0.5040523542296603,
          1.1160587623525131,
          1.3272816572811181,
          0.9641613696033847,
          1.0351188803977998,
          0.7523574359092837,
          -0.08234499129197077,
          -0.43717706866405887,
          1.1601515432985665,
          -0.5526689647969686,
          0.7509740048177651,
          0.27402019924238286,
          0.7684338000320895,
          -1.0774412859096918,
          -2.158782081147689,
          0.6228680278276605,
          -1.4619809072135606,
          -2.351284827931384,
          -0.36035854063131767,
          1.5433883055746351,
          0.611161533590583,
          0.40126658500000917,
          0.432320337391507,
          0.05165221386738992,
          0.7266281491464596,
          -1.5253604789419755,
          -0.8028686711450908,
          1.3187931284966241,
          -0.5975997233571111,
          0.238360495263982,
          -1.0803828111948988,
          1.2501965937113815
         ],
         "xaxis": "x10",
         "y": [
          -0.9289553735321145,
          -3.29185578905007,
          0.6141311655471734,
          -1.3279654686462936,
          -0.9330755405301372,
          -0.13572951607500175,
          -0.1558399731911225,
          0.2562172935610255,
          -1.1550179645829468,
          1.133701737589356,
          0.5602961037020913,
          -0.2058384517520784,
          1.5715038418375586,
          -0.7828567782123235,
          0.6850043273904133,
          2.204073042744001,
          2.07975076431608,
          -1.0392898689716727,
          -0.7996953898361792,
          0.07820140689226711,
          1.0753792703079366,
          1.23073652415559,
          0.37576849472620666,
          -1.704312176087002,
          0.46855834965098864,
          -0.038494063834664,
          -1.5206010064061906,
          -0.6443983946167495,
          0.46212281535437416,
          -0.5720314045038454,
          0.628361267113081,
          0.4118433577913778,
          -0.6537933417475408,
          -0.217973511529981,
          1.4250444252250918,
          1.2901404209885001,
          0.12709267205722835,
          1.8153488317774,
          0.6590271323537336,
          1.5878240611462506,
          1.1759772042114245,
          -0.08620840466405229,
          0.3736929842944326,
          -1.1070026588066593,
          -0.9689529361661915,
          -0.1313885271389684,
          2.6162110696415923,
          0.6077468827653002,
          1.5819722537455785,
          0.3168357811771449,
          0.5166233815916088,
          -0.3904970470253944,
          0.8966415053544944,
          2.2548384083273225,
          -0.7361160160418321,
          -0.9929759828317783,
          -1.2733419005820379,
          1.2896761577237899,
          1.0013031805323842,
          -0.3458133403722976,
          0.20285737608510637,
          0.3627025307902813,
          0.32772115687956177,
          0.08071273087746433,
          1.083556238859063,
          0.26233474596948775,
          -0.1468439454866668,
          1.6389197921341037,
          0.7840215019259638,
          -0.10704043977879389,
          -0.03959077604699771,
          -0.8345086098492591,
          -0.2613468571089336,
          1.8869726033489433,
          0.36514136983338324,
          -0.8199316884247727,
          0.3362582147997106,
          0.02104307222962485,
          0.2261683930226166,
          0.8922721913588897,
          -1.0955491455925161,
          0.1777970289425649,
          1.8635009920304269,
          -1.5831282633220047,
          -0.03669126310767968,
          0.5901549161922415,
          -1.1927292624064005,
          -1.3427909329462622,
          0.6797640018201362,
          0.5878759139859725,
          -1.5594604092917315,
          -0.898550013149892,
          2.1149119380876336,
          -1.2258059010951654,
          -1.8047329306685895,
          0.732050971212458,
          0.6599757625488231,
          0.21932400053658035,
          0.2921775958716824,
          -0.9570268392633724
         ],
         "yaxis": "y10"
        },
        {
         "histfunc": "count",
         "histnorm": "",
         "marker": {
          "color": "rgba(50, 171, 96, 1.0)",
          "line": {
           "color": "#4D5663",
           "width": 1.3
          }
         },
         "name": "C",
         "nbinsx": 10,
         "opacity": 0.8,
         "orientation": "v",
         "type": "histogram",
         "x": [
          -0.9289553735321145,
          -3.29185578905007,
          0.6141311655471734,
          -1.3279654686462936,
          -0.9330755405301372,
          -0.13572951607500175,
          -0.1558399731911225,
          0.2562172935610255,
          -1.1550179645829468,
          1.133701737589356,
          0.5602961037020913,
          -0.2058384517520784,
          1.5715038418375586,
          -0.7828567782123235,
          0.6850043273904133,
          2.204073042744001,
          2.07975076431608,
          -1.0392898689716727,
          -0.7996953898361792,
          0.07820140689226711,
          1.0753792703079366,
          1.23073652415559,
          0.37576849472620666,
          -1.704312176087002,
          0.46855834965098864,
          -0.038494063834664,
          -1.5206010064061906,
          -0.6443983946167495,
          0.46212281535437416,
          -0.5720314045038454,
          0.628361267113081,
          0.4118433577913778,
          -0.6537933417475408,
          -0.217973511529981,
          1.4250444252250918,
          1.2901404209885001,
          0.12709267205722835,
          1.8153488317774,
          0.6590271323537336,
          1.5878240611462506,
          1.1759772042114245,
          -0.08620840466405229,
          0.3736929842944326,
          -1.1070026588066593,
          -0.9689529361661915,
          -0.1313885271389684,
          2.6162110696415923,
          0.6077468827653002,
          1.5819722537455785,
          0.3168357811771449,
          0.5166233815916088,
          -0.3904970470253944,
          0.8966415053544944,
          2.2548384083273225,
          -0.7361160160418321,
          -0.9929759828317783,
          -1.2733419005820379,
          1.2896761577237899,
          1.0013031805323842,
          -0.3458133403722976,
          0.20285737608510637,
          0.3627025307902813,
          0.32772115687956177,
          0.08071273087746433,
          1.083556238859063,
          0.26233474596948775,
          -0.1468439454866668,
          1.6389197921341037,
          0.7840215019259638,
          -0.10704043977879389,
          -0.03959077604699771,
          -0.8345086098492591,
          -0.2613468571089336,
          1.8869726033489433,
          0.36514136983338324,
          -0.8199316884247727,
          0.3362582147997106,
          0.02104307222962485,
          0.2261683930226166,
          0.8922721913588897,
          -1.0955491455925161,
          0.1777970289425649,
          1.8635009920304269,
          -1.5831282633220047,
          -0.03669126310767968,
          0.5901549161922415,
          -1.1927292624064005,
          -1.3427909329462622,
          0.6797640018201362,
          0.5878759139859725,
          -1.5594604092917315,
          -0.898550013149892,
          2.1149119380876336,
          -1.2258059010951654,
          -1.8047329306685895,
          0.732050971212458,
          0.6599757625488231,
          0.21932400053658035,
          0.2921775958716824,
          -0.9570268392633724
         ],
         "xaxis": "x11",
         "yaxis": "y11"
        },
        {
         "line": {
          "color": "rgba(128, 128, 128, 1.0)",
          "dash": "solid",
          "shape": "linear",
          "width": 1.3
         },
         "marker": {
          "size": 2,
          "symbol": "circle"
         },
         "mode": "markers",
         "name": "C",
         "text": "",
         "type": "scatter",
         "x": [
          -1.2276827666294137,
          1.0081521786625394,
          -0.5074264826440039,
          -0.19631739000388773,
          2.1415274347182964,
          0.11904785476621113,
          0.23946707643818188,
          0.37908458450735394,
          0.6725231384612813,
          -0.8211976368443139,
          0.7494841941503361,
          0.034781099386621744,
          -1.3398185164428509,
          -0.069572256892427,
          0.41931356889731375,
          -0.8167788014535204,
          -1.2373976906340687,
          -0.1840954546341901,
          0.0035607323517076648,
          -0.041196684241796795,
          -0.03473722076730505,
          -0.0018397056125259573,
          -0.3708078187451696,
          0.5205572617589022,
          0.0452824329967141,
          1.0102919240344248,
          -1.1258776608819696,
          -0.7168342966408033,
          0.6155164779674744,
          1.6784588555522606,
          1.1753205450072943,
          0.014384224900247785,
          0.6220293945296994,
          -0.2644826309043893,
          -1.966326671231066,
          -0.015666796938935065,
          1.3138939598063901,
          -0.012782967793383507,
          0.0029353541641902407,
          -0.5170773449665355,
          1.0336403836047219,
          1.2007045536411687,
          0.027906920022602453,
          -0.32524379048054103,
          -1.7518527615937811,
          0.5084098807242259,
          0.348801529373511,
          0.1632132673505855,
          -0.5266716391028633,
          0.4672417584138413,
          0.3308712594301862,
          0.43524231033923944,
          0.1722997203653605,
          0.2958770095603323,
          -1.6846434422982581,
          0.7466252788358413,
          -0.7772942870105266,
          0.338214924338623,
          0.9244376844559865,
          -1.0974683044436226,
          -0.9132866699195714,
          -0.21537440461306412,
          -0.5527481296937405,
          -0.5828651087562331,
          -0.06174286500123566,
          -0.686792721448157,
          -0.12886335689312195,
          -0.16420664628629053,
          0.8766901891456867,
          1.7617111357354525,
          0.1827306553874836,
          0.02782293765674249,
          -0.5806501251417746,
          0.6673057789106808,
          -0.40287164126044306,
          0.33709890343606297,
          0.3359252304949588,
          0.08344176618634161,
          -1.5363505337627845,
          -0.9079481054942306,
          0.750905764361586,
          -0.10883531168870954,
          -0.7234321550121003,
          0.752643964995895,
          -1.543376489389946,
          -0.9203526363133234,
          0.42202239030579747,
          2.8139745801628533,
          -0.5441279446897327,
          -1.1620867247042457,
          -0.943020276323677,
          0.9067256718207556,
          -0.6956911248289205,
          0.9083268430325101,
          -0.8093990390983988,
          0.39526663463845807,
          -1.5080605916891274,
          0.5915062777905455,
          0.45459959621494966,
          -1.290777233120657
         ],
         "xaxis": "x12",
         "y": [
          -0.9289553735321145,
          -3.29185578905007,
          0.6141311655471734,
          -1.3279654686462936,
          -0.9330755405301372,
          -0.13572951607500175,
          -0.1558399731911225,
          0.2562172935610255,
          -1.1550179645829468,
          1.133701737589356,
          0.5602961037020913,
          -0.2058384517520784,
          1.5715038418375586,
          -0.7828567782123235,
          0.6850043273904133,
          2.204073042744001,
          2.07975076431608,
          -1.0392898689716727,
          -0.7996953898361792,
          0.07820140689226711,
          1.0753792703079366,
          1.23073652415559,
          0.37576849472620666,
          -1.704312176087002,
          0.46855834965098864,
          -0.038494063834664,
          -1.5206010064061906,
          -0.6443983946167495,
          0.46212281535437416,
          -0.5720314045038454,
          0.628361267113081,
          0.4118433577913778,
          -0.6537933417475408,
          -0.217973511529981,
          1.4250444252250918,
          1.2901404209885001,
          0.12709267205722835,
          1.8153488317774,
          0.6590271323537336,
          1.5878240611462506,
          1.1759772042114245,
          -0.08620840466405229,
          0.3736929842944326,
          -1.1070026588066593,
          -0.9689529361661915,
          -0.1313885271389684,
          2.6162110696415923,
          0.6077468827653002,
          1.5819722537455785,
          0.3168357811771449,
          0.5166233815916088,
          -0.3904970470253944,
          0.8966415053544944,
          2.2548384083273225,
          -0.7361160160418321,
          -0.9929759828317783,
          -1.2733419005820379,
          1.2896761577237899,
          1.0013031805323842,
          -0.3458133403722976,
          0.20285737608510637,
          0.3627025307902813,
          0.32772115687956177,
          0.08071273087746433,
          1.083556238859063,
          0.26233474596948775,
          -0.1468439454866668,
          1.6389197921341037,
          0.7840215019259638,
          -0.10704043977879389,
          -0.03959077604699771,
          -0.8345086098492591,
          -0.2613468571089336,
          1.8869726033489433,
          0.36514136983338324,
          -0.8199316884247727,
          0.3362582147997106,
          0.02104307222962485,
          0.2261683930226166,
          0.8922721913588897,
          -1.0955491455925161,
          0.1777970289425649,
          1.8635009920304269,
          -1.5831282633220047,
          -0.03669126310767968,
          0.5901549161922415,
          -1.1927292624064005,
          -1.3427909329462622,
          0.6797640018201362,
          0.5878759139859725,
          -1.5594604092917315,
          -0.898550013149892,
          2.1149119380876336,
          -1.2258059010951654,
          -1.8047329306685895,
          0.732050971212458,
          0.6599757625488231,
          0.21932400053658035,
          0.2921775958716824,
          -0.9570268392633724
         ],
         "yaxis": "y12"
        },
        {
         "line": {
          "color": "rgba(128, 128, 128, 1.0)",
          "dash": "solid",
          "shape": "linear",
          "width": 1.3
         },
         "marker": {
          "size": 2,
          "symbol": "circle"
         },
         "mode": "markers",
         "name": "D",
         "text": "",
         "type": "scatter",
         "x": [
          2.0098763595893336,
          1.5854346850248688,
          0.9517284968551595,
          1.4209384421391142,
          0.026688111038718355,
          1.7742246940980553,
          0.16997405066218702,
          -1.1663731149184284,
          -1.687555765778785,
          -0.9638359759236773,
          0.31948585690353737,
          0.45206655019272324,
          -0.5856593578130521,
          -1.3331664488301078,
          -0.18227467538397016,
          1.0331832394221976,
          0.37414095900530886,
          -1.3746069162300292,
          1.8832078334627544,
          -0.16909971811806357,
          -0.32927926569287375,
          0.2627032205145867,
          -0.3598102265304865,
          0.5447321941036315,
          1.6100120651269116,
          -0.3804397268147677,
          0.1473620328561745,
          1.6691747558384904,
          1.8148257699582853,
          1.0180855824554613,
          2.766422169747134,
          0.6612450177603737,
          0.2986153846044228,
          -1.7053592704223286,
          -0.6711464446025099,
          -0.16294248127431257,
          -1.76502064308557,
          0.056206938499821404,
          -0.7066819603495336,
          -0.2541191740775342,
          -1.5744224819850823,
          0.4424197673183819,
          0.9446253816575055,
          0.23631706594971114,
          0.14785287447786766,
          0.22500275896921618,
          -0.013301170787457814,
          0.2315655094459254,
          0.6735331950306841,
          -0.10790761675412006,
          -1.5498459914408311,
          -0.41529924792912287,
          -0.22878419631577793,
          2.3889340441169504,
          -0.5011363683382322,
          -0.18138728609572885,
          0.10481645267669726,
          0.7086729341837882,
          -1.4574933521470606,
          -2.276244891933633,
          -0.928082898567579,
          0.22469067595539435,
          0.5161213606538004,
          0.24896276094352396,
          -0.017016592599865137,
          -0.2353009091061637,
          0.6210256252215713,
          1.0259839308083618,
          -0.05291468044019354,
          -1.2015439091389342,
          0.20200327029328774,
          -0.3229245198595919,
          0.5524528833109041,
          -0.4028777637706296,
          -0.059882638309787274,
          0.12775951718529485,
          -0.17957320771266141,
          1.0269177088172363,
          1.1771880686524667,
          -0.6395966666807401,
          0.3744607968230148,
          0.641740461644252,
          -1.0076463847201,
          0.02226447529627381,
          0.2190566031008649,
          -0.643633189304614,
          1.2638889727273173,
          -0.48892495679508047,
          0.059705931132288816,
          -0.9664065644091091,
          1.095398828129973,
          -0.8408864989043608,
          -0.871759542343419,
          -0.1856655404692126,
          0.18088575006579746,
          1.2747503019467712,
          -0.4396286084094133,
          -1.1740229644234133,
          0.1367868730401681,
          0.5003571614833707
         ],
         "xaxis": "x13",
         "y": [
          -1.2276827666294137,
          1.0081521786625394,
          -0.5074264826440039,
          -0.19631739000388773,
          2.1415274347182964,
          0.11904785476621113,
          0.23946707643818188,
          0.37908458450735394,
          0.6725231384612813,
          -0.8211976368443139,
          0.7494841941503361,
          0.034781099386621744,
          -1.3398185164428509,
          -0.069572256892427,
          0.41931356889731375,
          -0.8167788014535204,
          -1.2373976906340687,
          -0.1840954546341901,
          0.0035607323517076648,
          -0.041196684241796795,
          -0.03473722076730505,
          -0.0018397056125259573,
          -0.3708078187451696,
          0.5205572617589022,
          0.0452824329967141,
          1.0102919240344248,
          -1.1258776608819696,
          -0.7168342966408033,
          0.6155164779674744,
          1.6784588555522606,
          1.1753205450072943,
          0.014384224900247785,
          0.6220293945296994,
          -0.2644826309043893,
          -1.966326671231066,
          -0.015666796938935065,
          1.3138939598063901,
          -0.012782967793383507,
          0.0029353541641902407,
          -0.5170773449665355,
          1.0336403836047219,
          1.2007045536411687,
          0.027906920022602453,
          -0.32524379048054103,
          -1.7518527615937811,
          0.5084098807242259,
          0.348801529373511,
          0.1632132673505855,
          -0.5266716391028633,
          0.4672417584138413,
          0.3308712594301862,
          0.43524231033923944,
          0.1722997203653605,
          0.2958770095603323,
          -1.6846434422982581,
          0.7466252788358413,
          -0.7772942870105266,
          0.338214924338623,
          0.9244376844559865,
          -1.0974683044436226,
          -0.9132866699195714,
          -0.21537440461306412,
          -0.5527481296937405,
          -0.5828651087562331,
          -0.06174286500123566,
          -0.686792721448157,
          -0.12886335689312195,
          -0.16420664628629053,
          0.8766901891456867,
          1.7617111357354525,
          0.1827306553874836,
          0.02782293765674249,
          -0.5806501251417746,
          0.6673057789106808,
          -0.40287164126044306,
          0.33709890343606297,
          0.3359252304949588,
          0.08344176618634161,
          -1.5363505337627845,
          -0.9079481054942306,
          0.750905764361586,
          -0.10883531168870954,
          -0.7234321550121003,
          0.752643964995895,
          -1.543376489389946,
          -0.9203526363133234,
          0.42202239030579747,
          2.8139745801628533,
          -0.5441279446897327,
          -1.1620867247042457,
          -0.943020276323677,
          0.9067256718207556,
          -0.6956911248289205,
          0.9083268430325101,
          -0.8093990390983988,
          0.39526663463845807,
          -1.5080605916891274,
          0.5915062777905455,
          0.45459959621494966,
          -1.290777233120657
         ],
         "yaxis": "y13"
        },
        {
         "line": {
          "color": "rgba(128, 128, 128, 1.0)",
          "dash": "solid",
          "shape": "linear",
          "width": 1.3
         },
         "marker": {
          "size": 2,
          "symbol": "circle"
         },
         "mode": "markers",
         "name": "D",
         "text": "",
         "type": "scatter",
         "x": [
          -0.34761400696809835,
          0.7967107929307996,
          -1.021435745012177,
          0.8039058679506786,
          0.28202976547017816,
          1.629306414530597,
          -3.4110663508758923,
          -0.9237688579846878,
          1.3449197314869716,
          -1.056451635061406,
          -1.0691292337350398,
          1.3229153833868197,
          0.1944216073353599,
          0.299995236341656,
          0.44109109461435964,
          -0.08136416868042488,
          0.9303198403726493,
          0.05888325507957637,
          0.7395899412452036,
          -0.150937039126787,
          -0.8073667119303348,
          -2.1209755600528832,
          1.3326778932258512,
          0.9912008713869328,
          -1.0508995328015918,
          0.13999533634881983,
          -0.8173571641054362,
          -0.11295496530104156,
          -1.6812301346024714,
          1.0420418838155838,
          0.2250212295749634,
          1.1691927821992336,
          -0.8497153337809334,
          -0.2598100609473683,
          -0.5252259693487649,
          -0.741660775358332,
          1.3379213304389845,
          1.0001179164638403,
          -1.0402508474746148,
          -0.051391256452094,
          0.7572822801140646,
          1.314205938870495,
          -1.415487984063252,
          -0.261307270216244,
          -0.6325936261624826,
          0.1347352764137132,
          1.1117699079741161,
          -0.6365318004652251,
          0.6586264711638239,
          -2.2171795885534,
          0.11320736946178084,
          1.5729034138642517,
          0.1310369529846583,
          -0.9617569362791584,
          -0.8777880682991028,
          0.5899941649731096,
          -0.1412306828688527,
          1.5170554467085127,
          0.53130018523096,
          0.32158882850971465,
          -0.9464306474339612,
          -1.8406876139673087,
          -0.6592197757814411,
          -0.05035363573486317,
          -0.0012558881887979863,
          -2.2476749098487656,
          -0.7598151323708757,
          -1.4218480040643744,
          -0.5040523542296603,
          1.1160587623525131,
          1.3272816572811181,
          0.9641613696033847,
          1.0351188803977998,
          0.7523574359092837,
          -0.08234499129197077,
          -0.43717706866405887,
          1.1601515432985665,
          -0.5526689647969686,
          0.7509740048177651,
          0.27402019924238286,
          0.7684338000320895,
          -1.0774412859096918,
          -2.158782081147689,
          0.6228680278276605,
          -1.4619809072135606,
          -2.351284827931384,
          -0.36035854063131767,
          1.5433883055746351,
          0.611161533590583,
          0.40126658500000917,
          0.432320337391507,
          0.05165221386738992,
          0.7266281491464596,
          -1.5253604789419755,
          -0.8028686711450908,
          1.3187931284966241,
          -0.5975997233571111,
          0.238360495263982,
          -1.0803828111948988,
          1.2501965937113815
         ],
         "xaxis": "x14",
         "y": [
          -1.2276827666294137,
          1.0081521786625394,
          -0.5074264826440039,
          -0.19631739000388773,
          2.1415274347182964,
          0.11904785476621113,
          0.23946707643818188,
          0.37908458450735394,
          0.6725231384612813,
          -0.8211976368443139,
          0.7494841941503361,
          0.034781099386621744,
          -1.3398185164428509,
          -0.069572256892427,
          0.41931356889731375,
          -0.8167788014535204,
          -1.2373976906340687,
          -0.1840954546341901,
          0.0035607323517076648,
          -0.041196684241796795,
          -0.03473722076730505,
          -0.0018397056125259573,
          -0.3708078187451696,
          0.5205572617589022,
          0.0452824329967141,
          1.0102919240344248,
          -1.1258776608819696,
          -0.7168342966408033,
          0.6155164779674744,
          1.6784588555522606,
          1.1753205450072943,
          0.014384224900247785,
          0.6220293945296994,
          -0.2644826309043893,
          -1.966326671231066,
          -0.015666796938935065,
          1.3138939598063901,
          -0.012782967793383507,
          0.0029353541641902407,
          -0.5170773449665355,
          1.0336403836047219,
          1.2007045536411687,
          0.027906920022602453,
          -0.32524379048054103,
          -1.7518527615937811,
          0.5084098807242259,
          0.348801529373511,
          0.1632132673505855,
          -0.5266716391028633,
          0.4672417584138413,
          0.3308712594301862,
          0.43524231033923944,
          0.1722997203653605,
          0.2958770095603323,
          -1.6846434422982581,
          0.7466252788358413,
          -0.7772942870105266,
          0.338214924338623,
          0.9244376844559865,
          -1.0974683044436226,
          -0.9132866699195714,
          -0.21537440461306412,
          -0.5527481296937405,
          -0.5828651087562331,
          -0.06174286500123566,
          -0.686792721448157,
          -0.12886335689312195,
          -0.16420664628629053,
          0.8766901891456867,
          1.7617111357354525,
          0.1827306553874836,
          0.02782293765674249,
          -0.5806501251417746,
          0.6673057789106808,
          -0.40287164126044306,
          0.33709890343606297,
          0.3359252304949588,
          0.08344176618634161,
          -1.5363505337627845,
          -0.9079481054942306,
          0.750905764361586,
          -0.10883531168870954,
          -0.7234321550121003,
          0.752643964995895,
          -1.543376489389946,
          -0.9203526363133234,
          0.42202239030579747,
          2.8139745801628533,
          -0.5441279446897327,
          -1.1620867247042457,
          -0.943020276323677,
          0.9067256718207556,
          -0.6956911248289205,
          0.9083268430325101,
          -0.8093990390983988,
          0.39526663463845807,
          -1.5080605916891274,
          0.5915062777905455,
          0.45459959621494966,
          -1.290777233120657
         ],
         "yaxis": "y14"
        },
        {
         "line": {
          "color": "rgba(128, 128, 128, 1.0)",
          "dash": "solid",
          "shape": "linear",
          "width": 1.3
         },
         "marker": {
          "size": 2,
          "symbol": "circle"
         },
         "mode": "markers",
         "name": "D",
         "text": "",
         "type": "scatter",
         "x": [
          -0.9289553735321145,
          -3.29185578905007,
          0.6141311655471734,
          -1.3279654686462936,
          -0.9330755405301372,
          -0.13572951607500175,
          -0.1558399731911225,
          0.2562172935610255,
          -1.1550179645829468,
          1.133701737589356,
          0.5602961037020913,
          -0.2058384517520784,
          1.5715038418375586,
          -0.7828567782123235,
          0.6850043273904133,
          2.204073042744001,
          2.07975076431608,
          -1.0392898689716727,
          -0.7996953898361792,
          0.07820140689226711,
          1.0753792703079366,
          1.23073652415559,
          0.37576849472620666,
          -1.704312176087002,
          0.46855834965098864,
          -0.038494063834664,
          -1.5206010064061906,
          -0.6443983946167495,
          0.46212281535437416,
          -0.5720314045038454,
          0.628361267113081,
          0.4118433577913778,
          -0.6537933417475408,
          -0.217973511529981,
          1.4250444252250918,
          1.2901404209885001,
          0.12709267205722835,
          1.8153488317774,
          0.6590271323537336,
          1.5878240611462506,
          1.1759772042114245,
          -0.08620840466405229,
          0.3736929842944326,
          -1.1070026588066593,
          -0.9689529361661915,
          -0.1313885271389684,
          2.6162110696415923,
          0.6077468827653002,
          1.5819722537455785,
          0.3168357811771449,
          0.5166233815916088,
          -0.3904970470253944,
          0.8966415053544944,
          2.2548384083273225,
          -0.7361160160418321,
          -0.9929759828317783,
          -1.2733419005820379,
          1.2896761577237899,
          1.0013031805323842,
          -0.3458133403722976,
          0.20285737608510637,
          0.3627025307902813,
          0.32772115687956177,
          0.08071273087746433,
          1.083556238859063,
          0.26233474596948775,
          -0.1468439454866668,
          1.6389197921341037,
          0.7840215019259638,
          -0.10704043977879389,
          -0.03959077604699771,
          -0.8345086098492591,
          -0.2613468571089336,
          1.8869726033489433,
          0.36514136983338324,
          -0.8199316884247727,
          0.3362582147997106,
          0.02104307222962485,
          0.2261683930226166,
          0.8922721913588897,
          -1.0955491455925161,
          0.1777970289425649,
          1.8635009920304269,
          -1.5831282633220047,
          -0.03669126310767968,
          0.5901549161922415,
          -1.1927292624064005,
          -1.3427909329462622,
          0.6797640018201362,
          0.5878759139859725,
          -1.5594604092917315,
          -0.898550013149892,
          2.1149119380876336,
          -1.2258059010951654,
          -1.8047329306685895,
          0.732050971212458,
          0.6599757625488231,
          0.21932400053658035,
          0.2921775958716824,
          -0.9570268392633724
         ],
         "xaxis": "x15",
         "y": [
          -1.2276827666294137,
          1.0081521786625394,
          -0.5074264826440039,
          -0.19631739000388773,
          2.1415274347182964,
          0.11904785476621113,
          0.23946707643818188,
          0.37908458450735394,
          0.6725231384612813,
          -0.8211976368443139,
          0.7494841941503361,
          0.034781099386621744,
          -1.3398185164428509,
          -0.069572256892427,
          0.41931356889731375,
          -0.8167788014535204,
          -1.2373976906340687,
          -0.1840954546341901,
          0.0035607323517076648,
          -0.041196684241796795,
          -0.03473722076730505,
          -0.0018397056125259573,
          -0.3708078187451696,
          0.5205572617589022,
          0.0452824329967141,
          1.0102919240344248,
          -1.1258776608819696,
          -0.7168342966408033,
          0.6155164779674744,
          1.6784588555522606,
          1.1753205450072943,
          0.014384224900247785,
          0.6220293945296994,
          -0.2644826309043893,
          -1.966326671231066,
          -0.015666796938935065,
          1.3138939598063901,
          -0.012782967793383507,
          0.0029353541641902407,
          -0.5170773449665355,
          1.0336403836047219,
          1.2007045536411687,
          0.027906920022602453,
          -0.32524379048054103,
          -1.7518527615937811,
          0.5084098807242259,
          0.348801529373511,
          0.1632132673505855,
          -0.5266716391028633,
          0.4672417584138413,
          0.3308712594301862,
          0.43524231033923944,
          0.1722997203653605,
          0.2958770095603323,
          -1.6846434422982581,
          0.7466252788358413,
          -0.7772942870105266,
          0.338214924338623,
          0.9244376844559865,
          -1.0974683044436226,
          -0.9132866699195714,
          -0.21537440461306412,
          -0.5527481296937405,
          -0.5828651087562331,
          -0.06174286500123566,
          -0.686792721448157,
          -0.12886335689312195,
          -0.16420664628629053,
          0.8766901891456867,
          1.7617111357354525,
          0.1827306553874836,
          0.02782293765674249,
          -0.5806501251417746,
          0.6673057789106808,
          -0.40287164126044306,
          0.33709890343606297,
          0.3359252304949588,
          0.08344176618634161,
          -1.5363505337627845,
          -0.9079481054942306,
          0.750905764361586,
          -0.10883531168870954,
          -0.7234321550121003,
          0.752643964995895,
          -1.543376489389946,
          -0.9203526363133234,
          0.42202239030579747,
          2.8139745801628533,
          -0.5441279446897327,
          -1.1620867247042457,
          -0.943020276323677,
          0.9067256718207556,
          -0.6956911248289205,
          0.9083268430325101,
          -0.8093990390983988,
          0.39526663463845807,
          -1.5080605916891274,
          0.5915062777905455,
          0.45459959621494966,
          -1.290777233120657
         ],
         "yaxis": "y15"
        },
        {
         "histfunc": "count",
         "histnorm": "",
         "marker": {
          "color": "rgba(128, 0, 128, 1.0)",
          "line": {
           "color": "#4D5663",
           "width": 1.3
          }
         },
         "name": "D",
         "nbinsx": 10,
         "opacity": 0.8,
         "orientation": "v",
         "type": "histogram",
         "x": [
          -1.2276827666294137,
          1.0081521786625394,
          -0.5074264826440039,
          -0.19631739000388773,
          2.1415274347182964,
          0.11904785476621113,
          0.23946707643818188,
          0.37908458450735394,
          0.6725231384612813,
          -0.8211976368443139,
          0.7494841941503361,
          0.034781099386621744,
          -1.3398185164428509,
          -0.069572256892427,
          0.41931356889731375,
          -0.8167788014535204,
          -1.2373976906340687,
          -0.1840954546341901,
          0.0035607323517076648,
          -0.041196684241796795,
          -0.03473722076730505,
          -0.0018397056125259573,
          -0.3708078187451696,
          0.5205572617589022,
          0.0452824329967141,
          1.0102919240344248,
          -1.1258776608819696,
          -0.7168342966408033,
          0.6155164779674744,
          1.6784588555522606,
          1.1753205450072943,
          0.014384224900247785,
          0.6220293945296994,
          -0.2644826309043893,
          -1.966326671231066,
          -0.015666796938935065,
          1.3138939598063901,
          -0.012782967793383507,
          0.0029353541641902407,
          -0.5170773449665355,
          1.0336403836047219,
          1.2007045536411687,
          0.027906920022602453,
          -0.32524379048054103,
          -1.7518527615937811,
          0.5084098807242259,
          0.348801529373511,
          0.1632132673505855,
          -0.5266716391028633,
          0.4672417584138413,
          0.3308712594301862,
          0.43524231033923944,
          0.1722997203653605,
          0.2958770095603323,
          -1.6846434422982581,
          0.7466252788358413,
          -0.7772942870105266,
          0.338214924338623,
          0.9244376844559865,
          -1.0974683044436226,
          -0.9132866699195714,
          -0.21537440461306412,
          -0.5527481296937405,
          -0.5828651087562331,
          -0.06174286500123566,
          -0.686792721448157,
          -0.12886335689312195,
          -0.16420664628629053,
          0.8766901891456867,
          1.7617111357354525,
          0.1827306553874836,
          0.02782293765674249,
          -0.5806501251417746,
          0.6673057789106808,
          -0.40287164126044306,
          0.33709890343606297,
          0.3359252304949588,
          0.08344176618634161,
          -1.5363505337627845,
          -0.9079481054942306,
          0.750905764361586,
          -0.10883531168870954,
          -0.7234321550121003,
          0.752643964995895,
          -1.543376489389946,
          -0.9203526363133234,
          0.42202239030579747,
          2.8139745801628533,
          -0.5441279446897327,
          -1.1620867247042457,
          -0.943020276323677,
          0.9067256718207556,
          -0.6956911248289205,
          0.9083268430325101,
          -0.8093990390983988,
          0.39526663463845807,
          -1.5080605916891274,
          0.5915062777905455,
          0.45459959621494966,
          -1.290777233120657
         ],
         "xaxis": "x16",
         "yaxis": "y16"
        }
       ],
       "layout": {
        "bargap": 0.02,
        "legend": {
         "bgcolor": "#F5F6F9",
         "font": {
          "color": "#4D5663"
         }
        },
        "paper_bgcolor": "#F5F6F9",
        "plot_bgcolor": "#F5F6F9",
        "showlegend": false,
        "template": {
         "data": {
          "bar": [
           {
            "error_x": {
             "color": "#2a3f5f"
            },
            "error_y": {
             "color": "#2a3f5f"
            },
            "marker": {
             "line": {
              "color": "#E5ECF6",
              "width": 0.5
             }
            },
            "type": "bar"
           }
          ],
          "barpolar": [
           {
            "marker": {
             "line": {
              "color": "#E5ECF6",
              "width": 0.5
             }
            },
            "type": "barpolar"
           }
          ],
          "carpet": [
           {
            "aaxis": {
             "endlinecolor": "#2a3f5f",
             "gridcolor": "white",
             "linecolor": "white",
             "minorgridcolor": "white",
             "startlinecolor": "#2a3f5f"
            },
            "baxis": {
             "endlinecolor": "#2a3f5f",
             "gridcolor": "white",
             "linecolor": "white",
             "minorgridcolor": "white",
             "startlinecolor": "#2a3f5f"
            },
            "type": "carpet"
           }
          ],
          "choropleth": [
           {
            "colorbar": {
             "outlinewidth": 0,
             "ticks": ""
            },
            "type": "choropleth"
           }
          ],
          "contour": [
           {
            "colorbar": {
             "outlinewidth": 0,
             "ticks": ""
            },
            "colorscale": [
             [
              0,
              "#0d0887"
             ],
             [
              0.1111111111111111,
              "#46039f"
             ],
             [
              0.2222222222222222,
              "#7201a8"
             ],
             [
              0.3333333333333333,
              "#9c179e"
             ],
             [
              0.4444444444444444,
              "#bd3786"
             ],
             [
              0.5555555555555556,
              "#d8576b"
             ],
             [
              0.6666666666666666,
              "#ed7953"
             ],
             [
              0.7777777777777778,
              "#fb9f3a"
             ],
             [
              0.8888888888888888,
              "#fdca26"
             ],
             [
              1,
              "#f0f921"
             ]
            ],
            "type": "contour"
           }
          ],
          "contourcarpet": [
           {
            "colorbar": {
             "outlinewidth": 0,
             "ticks": ""
            },
            "type": "contourcarpet"
           }
          ],
          "heatmap": [
           {
            "colorbar": {
             "outlinewidth": 0,
             "ticks": ""
            },
            "colorscale": [
             [
              0,
              "#0d0887"
             ],
             [
              0.1111111111111111,
              "#46039f"
             ],
             [
              0.2222222222222222,
              "#7201a8"
             ],
             [
              0.3333333333333333,
              "#9c179e"
             ],
             [
              0.4444444444444444,
              "#bd3786"
             ],
             [
              0.5555555555555556,
              "#d8576b"
             ],
             [
              0.6666666666666666,
              "#ed7953"
             ],
             [
              0.7777777777777778,
              "#fb9f3a"
             ],
             [
              0.8888888888888888,
              "#fdca26"
             ],
             [
              1,
              "#f0f921"
             ]
            ],
            "type": "heatmap"
           }
          ],
          "heatmapgl": [
           {
            "colorbar": {
             "outlinewidth": 0,
             "ticks": ""
            },
            "colorscale": [
             [
              0,
              "#0d0887"
             ],
             [
              0.1111111111111111,
              "#46039f"
             ],
             [
              0.2222222222222222,
              "#7201a8"
             ],
             [
              0.3333333333333333,
              "#9c179e"
             ],
             [
              0.4444444444444444,
              "#bd3786"
             ],
             [
              0.5555555555555556,
              "#d8576b"
             ],
             [
              0.6666666666666666,
              "#ed7953"
             ],
             [
              0.7777777777777778,
              "#fb9f3a"
             ],
             [
              0.8888888888888888,
              "#fdca26"
             ],
             [
              1,
              "#f0f921"
             ]
            ],
            "type": "heatmapgl"
           }
          ],
          "histogram": [
           {
            "marker": {
             "colorbar": {
              "outlinewidth": 0,
              "ticks": ""
             }
            },
            "type": "histogram"
           }
          ],
          "histogram2d": [
           {
            "colorbar": {
             "outlinewidth": 0,
             "ticks": ""
            },
            "colorscale": [
             [
              0,
              "#0d0887"
             ],
             [
              0.1111111111111111,
              "#46039f"
             ],
             [
              0.2222222222222222,
              "#7201a8"
             ],
             [
              0.3333333333333333,
              "#9c179e"
             ],
             [
              0.4444444444444444,
              "#bd3786"
             ],
             [
              0.5555555555555556,
              "#d8576b"
             ],
             [
              0.6666666666666666,
              "#ed7953"
             ],
             [
              0.7777777777777778,
              "#fb9f3a"
             ],
             [
              0.8888888888888888,
              "#fdca26"
             ],
             [
              1,
              "#f0f921"
             ]
            ],
            "type": "histogram2d"
           }
          ],
          "histogram2dcontour": [
           {
            "colorbar": {
             "outlinewidth": 0,
             "ticks": ""
            },
            "colorscale": [
             [
              0,
              "#0d0887"
             ],
             [
              0.1111111111111111,
              "#46039f"
             ],
             [
              0.2222222222222222,
              "#7201a8"
             ],
             [
              0.3333333333333333,
              "#9c179e"
             ],
             [
              0.4444444444444444,
              "#bd3786"
             ],
             [
              0.5555555555555556,
              "#d8576b"
             ],
             [
              0.6666666666666666,
              "#ed7953"
             ],
             [
              0.7777777777777778,
              "#fb9f3a"
             ],
             [
              0.8888888888888888,
              "#fdca26"
             ],
             [
              1,
              "#f0f921"
             ]
            ],
            "type": "histogram2dcontour"
           }
          ],
          "mesh3d": [
           {
            "colorbar": {
             "outlinewidth": 0,
             "ticks": ""
            },
            "type": "mesh3d"
           }
          ],
          "parcoords": [
           {
            "line": {
             "colorbar": {
              "outlinewidth": 0,
              "ticks": ""
             }
            },
            "type": "parcoords"
           }
          ],
          "pie": [
           {
            "automargin": true,
            "type": "pie"
           }
          ],
          "scatter": [
           {
            "marker": {
             "colorbar": {
              "outlinewidth": 0,
              "ticks": ""
             }
            },
            "type": "scatter"
           }
          ],
          "scatter3d": [
           {
            "line": {
             "colorbar": {
              "outlinewidth": 0,
              "ticks": ""
             }
            },
            "marker": {
             "colorbar": {
              "outlinewidth": 0,
              "ticks": ""
             }
            },
            "type": "scatter3d"
           }
          ],
          "scattercarpet": [
           {
            "marker": {
             "colorbar": {
              "outlinewidth": 0,
              "ticks": ""
             }
            },
            "type": "scattercarpet"
           }
          ],
          "scattergeo": [
           {
            "marker": {
             "colorbar": {
              "outlinewidth": 0,
              "ticks": ""
             }
            },
            "type": "scattergeo"
           }
          ],
          "scattergl": [
           {
            "marker": {
             "colorbar": {
              "outlinewidth": 0,
              "ticks": ""
             }
            },
            "type": "scattergl"
           }
          ],
          "scattermapbox": [
           {
            "marker": {
             "colorbar": {
              "outlinewidth": 0,
              "ticks": ""
             }
            },
            "type": "scattermapbox"
           }
          ],
          "scatterpolar": [
           {
            "marker": {
             "colorbar": {
              "outlinewidth": 0,
              "ticks": ""
             }
            },
            "type": "scatterpolar"
           }
          ],
          "scatterpolargl": [
           {
            "marker": {
             "colorbar": {
              "outlinewidth": 0,
              "ticks": ""
             }
            },
            "type": "scatterpolargl"
           }
          ],
          "scatterternary": [
           {
            "marker": {
             "colorbar": {
              "outlinewidth": 0,
              "ticks": ""
             }
            },
            "type": "scatterternary"
           }
          ],
          "surface": [
           {
            "colorbar": {
             "outlinewidth": 0,
             "ticks": ""
            },
            "colorscale": [
             [
              0,
              "#0d0887"
             ],
             [
              0.1111111111111111,
              "#46039f"
             ],
             [
              0.2222222222222222,
              "#7201a8"
             ],
             [
              0.3333333333333333,
              "#9c179e"
             ],
             [
              0.4444444444444444,
              "#bd3786"
             ],
             [
              0.5555555555555556,
              "#d8576b"
             ],
             [
              0.6666666666666666,
              "#ed7953"
             ],
             [
              0.7777777777777778,
              "#fb9f3a"
             ],
             [
              0.8888888888888888,
              "#fdca26"
             ],
             [
              1,
              "#f0f921"
             ]
            ],
            "type": "surface"
           }
          ],
          "table": [
           {
            "cells": {
             "fill": {
              "color": "#EBF0F8"
             },
             "line": {
              "color": "white"
             }
            },
            "header": {
             "fill": {
              "color": "#C8D4E3"
             },
             "line": {
              "color": "white"
             }
            },
            "type": "table"
           }
          ]
         },
         "layout": {
          "annotationdefaults": {
           "arrowcolor": "#2a3f5f",
           "arrowhead": 0,
           "arrowwidth": 1
          },
          "coloraxis": {
           "colorbar": {
            "outlinewidth": 0,
            "ticks": ""
           }
          },
          "colorscale": {
           "diverging": [
            [
             0,
             "#8e0152"
            ],
            [
             0.1,
             "#c51b7d"
            ],
            [
             0.2,
             "#de77ae"
            ],
            [
             0.3,
             "#f1b6da"
            ],
            [
             0.4,
             "#fde0ef"
            ],
            [
             0.5,
             "#f7f7f7"
            ],
            [
             0.6,
             "#e6f5d0"
            ],
            [
             0.7,
             "#b8e186"
            ],
            [
             0.8,
             "#7fbc41"
            ],
            [
             0.9,
             "#4d9221"
            ],
            [
             1,
             "#276419"
            ]
           ],
           "sequential": [
            [
             0,
             "#0d0887"
            ],
            [
             0.1111111111111111,
             "#46039f"
            ],
            [
             0.2222222222222222,
             "#7201a8"
            ],
            [
             0.3333333333333333,
             "#9c179e"
            ],
            [
             0.4444444444444444,
             "#bd3786"
            ],
            [
             0.5555555555555556,
             "#d8576b"
            ],
            [
             0.6666666666666666,
             "#ed7953"
            ],
            [
             0.7777777777777778,
             "#fb9f3a"
            ],
            [
             0.8888888888888888,
             "#fdca26"
            ],
            [
             1,
             "#f0f921"
            ]
           ],
           "sequentialminus": [
            [
             0,
             "#0d0887"
            ],
            [
             0.1111111111111111,
             "#46039f"
            ],
            [
             0.2222222222222222,
             "#7201a8"
            ],
            [
             0.3333333333333333,
             "#9c179e"
            ],
            [
             0.4444444444444444,
             "#bd3786"
            ],
            [
             0.5555555555555556,
             "#d8576b"
            ],
            [
             0.6666666666666666,
             "#ed7953"
            ],
            [
             0.7777777777777778,
             "#fb9f3a"
            ],
            [
             0.8888888888888888,
             "#fdca26"
            ],
            [
             1,
             "#f0f921"
            ]
           ]
          },
          "colorway": [
           "#636efa",
           "#EF553B",
           "#00cc96",
           "#ab63fa",
           "#FFA15A",
           "#19d3f3",
           "#FF6692",
           "#B6E880",
           "#FF97FF",
           "#FECB52"
          ],
          "font": {
           "color": "#2a3f5f"
          },
          "geo": {
           "bgcolor": "white",
           "lakecolor": "white",
           "landcolor": "#E5ECF6",
           "showlakes": true,
           "showland": true,
           "subunitcolor": "white"
          },
          "hoverlabel": {
           "align": "left"
          },
          "hovermode": "closest",
          "mapbox": {
           "style": "light"
          },
          "paper_bgcolor": "white",
          "plot_bgcolor": "#E5ECF6",
          "polar": {
           "angularaxis": {
            "gridcolor": "white",
            "linecolor": "white",
            "ticks": ""
           },
           "bgcolor": "#E5ECF6",
           "radialaxis": {
            "gridcolor": "white",
            "linecolor": "white",
            "ticks": ""
           }
          },
          "scene": {
           "xaxis": {
            "backgroundcolor": "#E5ECF6",
            "gridcolor": "white",
            "gridwidth": 2,
            "linecolor": "white",
            "showbackground": true,
            "ticks": "",
            "zerolinecolor": "white"
           },
           "yaxis": {
            "backgroundcolor": "#E5ECF6",
            "gridcolor": "white",
            "gridwidth": 2,
            "linecolor": "white",
            "showbackground": true,
            "ticks": "",
            "zerolinecolor": "white"
           },
           "zaxis": {
            "backgroundcolor": "#E5ECF6",
            "gridcolor": "white",
            "gridwidth": 2,
            "linecolor": "white",
            "showbackground": true,
            "ticks": "",
            "zerolinecolor": "white"
           }
          },
          "shapedefaults": {
           "line": {
            "color": "#2a3f5f"
           }
          },
          "ternary": {
           "aaxis": {
            "gridcolor": "white",
            "linecolor": "white",
            "ticks": ""
           },
           "baxis": {
            "gridcolor": "white",
            "linecolor": "white",
            "ticks": ""
           },
           "bgcolor": "#E5ECF6",
           "caxis": {
            "gridcolor": "white",
            "linecolor": "white",
            "ticks": ""
           }
          },
          "title": {
           "x": 0.05
          },
          "xaxis": {
           "automargin": true,
           "gridcolor": "white",
           "linecolor": "white",
           "ticks": "",
           "title": {
            "standoff": 15
           },
           "zerolinecolor": "white",
           "zerolinewidth": 2
          },
          "yaxis": {
           "automargin": true,
           "gridcolor": "white",
           "linecolor": "white",
           "ticks": "",
           "title": {
            "standoff": 15
           },
           "zerolinecolor": "white",
           "zerolinewidth": 2
          }
         }
        },
        "title": {
         "font": {
          "color": "#4D5663"
         }
        },
        "xaxis": {
         "anchor": "y",
         "domain": [
          0,
          0.2125
         ],
         "gridcolor": "#E1E5ED",
         "showgrid": false,
         "tickfont": {
          "color": "#4D5663"
         },
         "title": {
          "font": {
           "color": "#4D5663"
          },
          "text": ""
         },
         "zerolinecolor": "#E1E5ED"
        },
        "xaxis10": {
         "anchor": "y10",
         "domain": [
          0.2625,
          0.475
         ],
         "gridcolor": "#E1E5ED",
         "showgrid": false,
         "tickfont": {
          "color": "#4D5663"
         },
         "title": {
          "font": {
           "color": "#4D5663"
          },
          "text": ""
         },
         "zerolinecolor": "#E1E5ED"
        },
        "xaxis11": {
         "anchor": "y11",
         "domain": [
          0.525,
          0.7375
         ],
         "gridcolor": "#E1E5ED",
         "showgrid": false,
         "tickfont": {
          "color": "#4D5663"
         },
         "title": {
          "font": {
           "color": "#4D5663"
          },
          "text": ""
         },
         "zerolinecolor": "#E1E5ED"
        },
        "xaxis12": {
         "anchor": "y12",
         "domain": [
          0.7875,
          1
         ],
         "gridcolor": "#E1E5ED",
         "showgrid": false,
         "tickfont": {
          "color": "#4D5663"
         },
         "title": {
          "font": {
           "color": "#4D5663"
          },
          "text": ""
         },
         "zerolinecolor": "#E1E5ED"
        },
        "xaxis13": {
         "anchor": "y13",
         "domain": [
          0,
          0.2125
         ],
         "gridcolor": "#E1E5ED",
         "showgrid": false,
         "tickfont": {
          "color": "#4D5663"
         },
         "title": {
          "font": {
           "color": "#4D5663"
          },
          "text": ""
         },
         "zerolinecolor": "#E1E5ED"
        },
        "xaxis14": {
         "anchor": "y14",
         "domain": [
          0.2625,
          0.475
         ],
         "gridcolor": "#E1E5ED",
         "showgrid": false,
         "tickfont": {
          "color": "#4D5663"
         },
         "title": {
          "font": {
           "color": "#4D5663"
          },
          "text": ""
         },
         "zerolinecolor": "#E1E5ED"
        },
        "xaxis15": {
         "anchor": "y15",
         "domain": [
          0.525,
          0.7375
         ],
         "gridcolor": "#E1E5ED",
         "showgrid": false,
         "tickfont": {
          "color": "#4D5663"
         },
         "title": {
          "font": {
           "color": "#4D5663"
          },
          "text": ""
         },
         "zerolinecolor": "#E1E5ED"
        },
        "xaxis16": {
         "anchor": "y16",
         "domain": [
          0.7875,
          1
         ],
         "gridcolor": "#E1E5ED",
         "showgrid": false,
         "tickfont": {
          "color": "#4D5663"
         },
         "title": {
          "font": {
           "color": "#4D5663"
          },
          "text": ""
         },
         "zerolinecolor": "#E1E5ED"
        },
        "xaxis2": {
         "anchor": "y2",
         "domain": [
          0.2625,
          0.475
         ],
         "gridcolor": "#E1E5ED",
         "showgrid": false,
         "tickfont": {
          "color": "#4D5663"
         },
         "title": {
          "font": {
           "color": "#4D5663"
          },
          "text": ""
         },
         "zerolinecolor": "#E1E5ED"
        },
        "xaxis3": {
         "anchor": "y3",
         "domain": [
          0.525,
          0.7375
         ],
         "gridcolor": "#E1E5ED",
         "showgrid": false,
         "tickfont": {
          "color": "#4D5663"
         },
         "title": {
          "font": {
           "color": "#4D5663"
          },
          "text": ""
         },
         "zerolinecolor": "#E1E5ED"
        },
        "xaxis4": {
         "anchor": "y4",
         "domain": [
          0.7875,
          1
         ],
         "gridcolor": "#E1E5ED",
         "showgrid": false,
         "tickfont": {
          "color": "#4D5663"
         },
         "title": {
          "font": {
           "color": "#4D5663"
          },
          "text": ""
         },
         "zerolinecolor": "#E1E5ED"
        },
        "xaxis5": {
         "anchor": "y5",
         "domain": [
          0,
          0.2125
         ],
         "gridcolor": "#E1E5ED",
         "showgrid": false,
         "tickfont": {
          "color": "#4D5663"
         },
         "title": {
          "font": {
           "color": "#4D5663"
          },
          "text": ""
         },
         "zerolinecolor": "#E1E5ED"
        },
        "xaxis6": {
         "anchor": "y6",
         "domain": [
          0.2625,
          0.475
         ],
         "gridcolor": "#E1E5ED",
         "showgrid": false,
         "tickfont": {
          "color": "#4D5663"
         },
         "title": {
          "font": {
           "color": "#4D5663"
          },
          "text": ""
         },
         "zerolinecolor": "#E1E5ED"
        },
        "xaxis7": {
         "anchor": "y7",
         "domain": [
          0.525,
          0.7375
         ],
         "gridcolor": "#E1E5ED",
         "showgrid": false,
         "tickfont": {
          "color": "#4D5663"
         },
         "title": {
          "font": {
           "color": "#4D5663"
          },
          "text": ""
         },
         "zerolinecolor": "#E1E5ED"
        },
        "xaxis8": {
         "anchor": "y8",
         "domain": [
          0.7875,
          1
         ],
         "gridcolor": "#E1E5ED",
         "showgrid": false,
         "tickfont": {
          "color": "#4D5663"
         },
         "title": {
          "font": {
           "color": "#4D5663"
          },
          "text": ""
         },
         "zerolinecolor": "#E1E5ED"
        },
        "xaxis9": {
         "anchor": "y9",
         "domain": [
          0,
          0.2125
         ],
         "gridcolor": "#E1E5ED",
         "showgrid": false,
         "tickfont": {
          "color": "#4D5663"
         },
         "title": {
          "font": {
           "color": "#4D5663"
          },
          "text": ""
         },
         "zerolinecolor": "#E1E5ED"
        },
        "yaxis": {
         "anchor": "x",
         "domain": [
          0.8025,
          1
         ],
         "gridcolor": "#E1E5ED",
         "showgrid": false,
         "tickfont": {
          "color": "#4D5663"
         },
         "title": {
          "font": {
           "color": "#4D5663"
          },
          "text": ""
         },
         "zerolinecolor": "#E1E5ED"
        },
        "yaxis10": {
         "anchor": "x10",
         "domain": [
          0.2675,
          0.465
         ],
         "gridcolor": "#E1E5ED",
         "showgrid": false,
         "tickfont": {
          "color": "#4D5663"
         },
         "title": {
          "font": {
           "color": "#4D5663"
          },
          "text": ""
         },
         "zerolinecolor": "#E1E5ED"
        },
        "yaxis11": {
         "anchor": "x11",
         "domain": [
          0.2675,
          0.465
         ],
         "gridcolor": "#E1E5ED",
         "showgrid": false,
         "tickfont": {
          "color": "#4D5663"
         },
         "title": {
          "font": {
           "color": "#4D5663"
          },
          "text": ""
         },
         "zerolinecolor": "#E1E5ED"
        },
        "yaxis12": {
         "anchor": "x12",
         "domain": [
          0.2675,
          0.465
         ],
         "gridcolor": "#E1E5ED",
         "showgrid": false,
         "tickfont": {
          "color": "#4D5663"
         },
         "title": {
          "font": {
           "color": "#4D5663"
          },
          "text": ""
         },
         "zerolinecolor": "#E1E5ED"
        },
        "yaxis13": {
         "anchor": "x13",
         "domain": [
          0,
          0.1975
         ],
         "gridcolor": "#E1E5ED",
         "showgrid": false,
         "tickfont": {
          "color": "#4D5663"
         },
         "title": {
          "font": {
           "color": "#4D5663"
          },
          "text": ""
         },
         "zerolinecolor": "#E1E5ED"
        },
        "yaxis14": {
         "anchor": "x14",
         "domain": [
          0,
          0.1975
         ],
         "gridcolor": "#E1E5ED",
         "showgrid": false,
         "tickfont": {
          "color": "#4D5663"
         },
         "title": {
          "font": {
           "color": "#4D5663"
          },
          "text": ""
         },
         "zerolinecolor": "#E1E5ED"
        },
        "yaxis15": {
         "anchor": "x15",
         "domain": [
          0,
          0.1975
         ],
         "gridcolor": "#E1E5ED",
         "showgrid": false,
         "tickfont": {
          "color": "#4D5663"
         },
         "title": {
          "font": {
           "color": "#4D5663"
          },
          "text": ""
         },
         "zerolinecolor": "#E1E5ED"
        },
        "yaxis16": {
         "anchor": "x16",
         "domain": [
          0,
          0.1975
         ],
         "gridcolor": "#E1E5ED",
         "showgrid": false,
         "tickfont": {
          "color": "#4D5663"
         },
         "title": {
          "font": {
           "color": "#4D5663"
          },
          "text": ""
         },
         "zerolinecolor": "#E1E5ED"
        },
        "yaxis2": {
         "anchor": "x2",
         "domain": [
          0.8025,
          1
         ],
         "gridcolor": "#E1E5ED",
         "showgrid": false,
         "tickfont": {
          "color": "#4D5663"
         },
         "title": {
          "font": {
           "color": "#4D5663"
          },
          "text": ""
         },
         "zerolinecolor": "#E1E5ED"
        },
        "yaxis3": {
         "anchor": "x3",
         "domain": [
          0.8025,
          1
         ],
         "gridcolor": "#E1E5ED",
         "showgrid": false,
         "tickfont": {
          "color": "#4D5663"
         },
         "title": {
          "font": {
           "color": "#4D5663"
          },
          "text": ""
         },
         "zerolinecolor": "#E1E5ED"
        },
        "yaxis4": {
         "anchor": "x4",
         "domain": [
          0.8025,
          1
         ],
         "gridcolor": "#E1E5ED",
         "showgrid": false,
         "tickfont": {
          "color": "#4D5663"
         },
         "title": {
          "font": {
           "color": "#4D5663"
          },
          "text": ""
         },
         "zerolinecolor": "#E1E5ED"
        },
        "yaxis5": {
         "anchor": "x5",
         "domain": [
          0.535,
          0.7325
         ],
         "gridcolor": "#E1E5ED",
         "showgrid": false,
         "tickfont": {
          "color": "#4D5663"
         },
         "title": {
          "font": {
           "color": "#4D5663"
          },
          "text": ""
         },
         "zerolinecolor": "#E1E5ED"
        },
        "yaxis6": {
         "anchor": "x6",
         "domain": [
          0.535,
          0.7325
         ],
         "gridcolor": "#E1E5ED",
         "showgrid": false,
         "tickfont": {
          "color": "#4D5663"
         },
         "title": {
          "font": {
           "color": "#4D5663"
          },
          "text": ""
         },
         "zerolinecolor": "#E1E5ED"
        },
        "yaxis7": {
         "anchor": "x7",
         "domain": [
          0.535,
          0.7325
         ],
         "gridcolor": "#E1E5ED",
         "showgrid": false,
         "tickfont": {
          "color": "#4D5663"
         },
         "title": {
          "font": {
           "color": "#4D5663"
          },
          "text": ""
         },
         "zerolinecolor": "#E1E5ED"
        },
        "yaxis8": {
         "anchor": "x8",
         "domain": [
          0.535,
          0.7325
         ],
         "gridcolor": "#E1E5ED",
         "showgrid": false,
         "tickfont": {
          "color": "#4D5663"
         },
         "title": {
          "font": {
           "color": "#4D5663"
          },
          "text": ""
         },
         "zerolinecolor": "#E1E5ED"
        },
        "yaxis9": {
         "anchor": "x9",
         "domain": [
          0.2675,
          0.465
         ],
         "gridcolor": "#E1E5ED",
         "showgrid": false,
         "tickfont": {
          "color": "#4D5663"
         },
         "title": {
          "font": {
           "color": "#4D5663"
          },
          "text": ""
         },
         "zerolinecolor": "#E1E5ED"
        }
       }
      },
      "text/html": [
       "<div>                            <div id=\"dc146947-46c7-4cc7-b0b8-4b72b080be64\" class=\"plotly-graph-div\" style=\"height:525px; width:100%;\"></div>            <script type=\"text/javascript\">                require([\"plotly\"], function(Plotly) {                    window.PLOTLYENV=window.PLOTLYENV || {};\n",
       "                    window.PLOTLYENV.BASE_URL='https://plot.ly';                                    if (document.getElementById(\"dc146947-46c7-4cc7-b0b8-4b72b080be64\")) {                    Plotly.newPlot(                        \"dc146947-46c7-4cc7-b0b8-4b72b080be64\",                        [{\"histfunc\": \"count\", \"histnorm\": \"\", \"marker\": {\"color\": \"rgba(255, 153, 51, 1.0)\", \"line\": {\"color\": \"#4D5663\", \"width\": 1.3}}, \"name\": \"A\", \"nbinsx\": 10, \"opacity\": 0.8, \"orientation\": \"v\", \"type\": \"histogram\", \"x\": [2.0098763595893336, 1.5854346850248688, 0.9517284968551595, 1.4209384421391142, 0.026688111038718355, 1.7742246940980553, 0.16997405066218702, -1.1663731149184284, -1.687555765778785, -0.9638359759236773, 0.31948585690353737, 0.45206655019272324, -0.5856593578130521, -1.3331664488301078, -0.18227467538397016, 1.0331832394221976, 0.37414095900530886, -1.3746069162300292, 1.8832078334627544, -0.16909971811806357, -0.32927926569287375, 0.2627032205145867, -0.3598102265304865, 0.5447321941036315, 1.6100120651269116, -0.3804397268147677, 0.1473620328561745, 1.6691747558384904, 1.8148257699582853, 1.0180855824554613, 2.766422169747134, 0.6612450177603737, 0.2986153846044228, -1.7053592704223286, -0.6711464446025099, -0.16294248127431257, -1.76502064308557, 0.056206938499821404, -0.7066819603495336, -0.2541191740775342, -1.5744224819850823, 0.4424197673183819, 0.9446253816575055, 0.23631706594971114, 0.14785287447786766, 0.22500275896921618, -0.013301170787457814, 0.2315655094459254, 0.6735331950306841, -0.10790761675412006, -1.5498459914408311, -0.41529924792912287, -0.22878419631577793, 2.3889340441169504, -0.5011363683382322, -0.18138728609572885, 0.10481645267669726, 0.7086729341837882, -1.4574933521470606, -2.276244891933633, -0.928082898567579, 0.22469067595539435, 0.5161213606538004, 0.24896276094352396, -0.017016592599865137, -0.2353009091061637, 0.6210256252215713, 1.0259839308083618, -0.05291468044019354, -1.2015439091389342, 0.20200327029328774, -0.3229245198595919, 0.5524528833109041, -0.4028777637706296, -0.059882638309787274, 0.12775951718529485, -0.17957320771266141, 1.0269177088172363, 1.1771880686524667, -0.6395966666807401, 0.3744607968230148, 0.641740461644252, -1.0076463847201, 0.02226447529627381, 0.2190566031008649, -0.643633189304614, 1.2638889727273173, -0.48892495679508047, 0.059705931132288816, -0.9664065644091091, 1.095398828129973, -0.8408864989043608, -0.871759542343419, -0.1856655404692126, 0.18088575006579746, 1.2747503019467712, -0.4396286084094133, -1.1740229644234133, 0.1367868730401681, 0.5003571614833707], \"xaxis\": \"x\", \"yaxis\": \"y\"}, {\"line\": {\"color\": \"rgba(128, 128, 128, 1.0)\", \"dash\": \"solid\", \"shape\": \"linear\", \"width\": 1.3}, \"marker\": {\"size\": 2, \"symbol\": \"circle\"}, \"mode\": \"markers\", \"name\": \"A\", \"text\": \"\", \"type\": \"scatter\", \"x\": [-0.34761400696809835, 0.7967107929307996, -1.021435745012177, 0.8039058679506786, 0.28202976547017816, 1.629306414530597, -3.4110663508758923, -0.9237688579846878, 1.3449197314869716, -1.056451635061406, -1.0691292337350398, 1.3229153833868197, 0.1944216073353599, 0.299995236341656, 0.44109109461435964, -0.08136416868042488, 0.9303198403726493, 0.05888325507957637, 0.7395899412452036, -0.150937039126787, -0.8073667119303348, -2.1209755600528832, 1.3326778932258512, 0.9912008713869328, -1.0508995328015918, 0.13999533634881983, -0.8173571641054362, -0.11295496530104156, -1.6812301346024714, 1.0420418838155838, 0.2250212295749634, 1.1691927821992336, -0.8497153337809334, -0.2598100609473683, -0.5252259693487649, -0.741660775358332, 1.3379213304389845, 1.0001179164638403, -1.0402508474746148, -0.051391256452094, 0.7572822801140646, 1.314205938870495, -1.415487984063252, -0.261307270216244, -0.6325936261624826, 0.1347352764137132, 1.1117699079741161, -0.6365318004652251, 0.6586264711638239, -2.2171795885534, 0.11320736946178084, 1.5729034138642517, 0.1310369529846583, -0.9617569362791584, -0.8777880682991028, 0.5899941649731096, -0.1412306828688527, 1.5170554467085127, 0.53130018523096, 0.32158882850971465, -0.9464306474339612, -1.8406876139673087, -0.6592197757814411, -0.05035363573486317, -0.0012558881887979863, -2.2476749098487656, -0.7598151323708757, -1.4218480040643744, -0.5040523542296603, 1.1160587623525131, 1.3272816572811181, 0.9641613696033847, 1.0351188803977998, 0.7523574359092837, -0.08234499129197077, -0.43717706866405887, 1.1601515432985665, -0.5526689647969686, 0.7509740048177651, 0.27402019924238286, 0.7684338000320895, -1.0774412859096918, -2.158782081147689, 0.6228680278276605, -1.4619809072135606, -2.351284827931384, -0.36035854063131767, 1.5433883055746351, 0.611161533590583, 0.40126658500000917, 0.432320337391507, 0.05165221386738992, 0.7266281491464596, -1.5253604789419755, -0.8028686711450908, 1.3187931284966241, -0.5975997233571111, 0.238360495263982, -1.0803828111948988, 1.2501965937113815], \"xaxis\": \"x2\", \"y\": [2.0098763595893336, 1.5854346850248688, 0.9517284968551595, 1.4209384421391142, 0.026688111038718355, 1.7742246940980553, 0.16997405066218702, -1.1663731149184284, -1.687555765778785, -0.9638359759236773, 0.31948585690353737, 0.45206655019272324, -0.5856593578130521, -1.3331664488301078, -0.18227467538397016, 1.0331832394221976, 0.37414095900530886, -1.3746069162300292, 1.8832078334627544, -0.16909971811806357, -0.32927926569287375, 0.2627032205145867, -0.3598102265304865, 0.5447321941036315, 1.6100120651269116, -0.3804397268147677, 0.1473620328561745, 1.6691747558384904, 1.8148257699582853, 1.0180855824554613, 2.766422169747134, 0.6612450177603737, 0.2986153846044228, -1.7053592704223286, -0.6711464446025099, -0.16294248127431257, -1.76502064308557, 0.056206938499821404, -0.7066819603495336, -0.2541191740775342, -1.5744224819850823, 0.4424197673183819, 0.9446253816575055, 0.23631706594971114, 0.14785287447786766, 0.22500275896921618, -0.013301170787457814, 0.2315655094459254, 0.6735331950306841, -0.10790761675412006, -1.5498459914408311, -0.41529924792912287, -0.22878419631577793, 2.3889340441169504, -0.5011363683382322, -0.18138728609572885, 0.10481645267669726, 0.7086729341837882, -1.4574933521470606, -2.276244891933633, -0.928082898567579, 0.22469067595539435, 0.5161213606538004, 0.24896276094352396, -0.017016592599865137, -0.2353009091061637, 0.6210256252215713, 1.0259839308083618, -0.05291468044019354, -1.2015439091389342, 0.20200327029328774, -0.3229245198595919, 0.5524528833109041, -0.4028777637706296, -0.059882638309787274, 0.12775951718529485, -0.17957320771266141, 1.0269177088172363, 1.1771880686524667, -0.6395966666807401, 0.3744607968230148, 0.641740461644252, -1.0076463847201, 0.02226447529627381, 0.2190566031008649, -0.643633189304614, 1.2638889727273173, -0.48892495679508047, 0.059705931132288816, -0.9664065644091091, 1.095398828129973, -0.8408864989043608, -0.871759542343419, -0.1856655404692126, 0.18088575006579746, 1.2747503019467712, -0.4396286084094133, -1.1740229644234133, 0.1367868730401681, 0.5003571614833707], \"yaxis\": \"y2\"}, {\"line\": {\"color\": \"rgba(128, 128, 128, 1.0)\", \"dash\": \"solid\", \"shape\": \"linear\", \"width\": 1.3}, \"marker\": {\"size\": 2, \"symbol\": \"circle\"}, \"mode\": \"markers\", \"name\": \"A\", \"text\": \"\", \"type\": \"scatter\", \"x\": [-0.9289553735321145, -3.29185578905007, 0.6141311655471734, -1.3279654686462936, -0.9330755405301372, -0.13572951607500175, -0.1558399731911225, 0.2562172935610255, -1.1550179645829468, 1.133701737589356, 0.5602961037020913, -0.2058384517520784, 1.5715038418375586, -0.7828567782123235, 0.6850043273904133, 2.204073042744001, 2.07975076431608, -1.0392898689716727, -0.7996953898361792, 0.07820140689226711, 1.0753792703079366, 1.23073652415559, 0.37576849472620666, -1.704312176087002, 0.46855834965098864, -0.038494063834664, -1.5206010064061906, -0.6443983946167495, 0.46212281535437416, -0.5720314045038454, 0.628361267113081, 0.4118433577913778, -0.6537933417475408, -0.217973511529981, 1.4250444252250918, 1.2901404209885001, 0.12709267205722835, 1.8153488317774, 0.6590271323537336, 1.5878240611462506, 1.1759772042114245, -0.08620840466405229, 0.3736929842944326, -1.1070026588066593, -0.9689529361661915, -0.1313885271389684, 2.6162110696415923, 0.6077468827653002, 1.5819722537455785, 0.3168357811771449, 0.5166233815916088, -0.3904970470253944, 0.8966415053544944, 2.2548384083273225, -0.7361160160418321, -0.9929759828317783, -1.2733419005820379, 1.2896761577237899, 1.0013031805323842, -0.3458133403722976, 0.20285737608510637, 0.3627025307902813, 0.32772115687956177, 0.08071273087746433, 1.083556238859063, 0.26233474596948775, -0.1468439454866668, 1.6389197921341037, 0.7840215019259638, -0.10704043977879389, -0.03959077604699771, -0.8345086098492591, -0.2613468571089336, 1.8869726033489433, 0.36514136983338324, -0.8199316884247727, 0.3362582147997106, 0.02104307222962485, 0.2261683930226166, 0.8922721913588897, -1.0955491455925161, 0.1777970289425649, 1.8635009920304269, -1.5831282633220047, -0.03669126310767968, 0.5901549161922415, -1.1927292624064005, -1.3427909329462622, 0.6797640018201362, 0.5878759139859725, -1.5594604092917315, -0.898550013149892, 2.1149119380876336, -1.2258059010951654, -1.8047329306685895, 0.732050971212458, 0.6599757625488231, 0.21932400053658035, 0.2921775958716824, -0.9570268392633724], \"xaxis\": \"x3\", \"y\": [2.0098763595893336, 1.5854346850248688, 0.9517284968551595, 1.4209384421391142, 0.026688111038718355, 1.7742246940980553, 0.16997405066218702, -1.1663731149184284, -1.687555765778785, -0.9638359759236773, 0.31948585690353737, 0.45206655019272324, -0.5856593578130521, -1.3331664488301078, -0.18227467538397016, 1.0331832394221976, 0.37414095900530886, -1.3746069162300292, 1.8832078334627544, -0.16909971811806357, -0.32927926569287375, 0.2627032205145867, -0.3598102265304865, 0.5447321941036315, 1.6100120651269116, -0.3804397268147677, 0.1473620328561745, 1.6691747558384904, 1.8148257699582853, 1.0180855824554613, 2.766422169747134, 0.6612450177603737, 0.2986153846044228, -1.7053592704223286, -0.6711464446025099, -0.16294248127431257, -1.76502064308557, 0.056206938499821404, -0.7066819603495336, -0.2541191740775342, -1.5744224819850823, 0.4424197673183819, 0.9446253816575055, 0.23631706594971114, 0.14785287447786766, 0.22500275896921618, -0.013301170787457814, 0.2315655094459254, 0.6735331950306841, -0.10790761675412006, -1.5498459914408311, -0.41529924792912287, -0.22878419631577793, 2.3889340441169504, -0.5011363683382322, -0.18138728609572885, 0.10481645267669726, 0.7086729341837882, -1.4574933521470606, -2.276244891933633, -0.928082898567579, 0.22469067595539435, 0.5161213606538004, 0.24896276094352396, -0.017016592599865137, -0.2353009091061637, 0.6210256252215713, 1.0259839308083618, -0.05291468044019354, -1.2015439091389342, 0.20200327029328774, -0.3229245198595919, 0.5524528833109041, -0.4028777637706296, -0.059882638309787274, 0.12775951718529485, -0.17957320771266141, 1.0269177088172363, 1.1771880686524667, -0.6395966666807401, 0.3744607968230148, 0.641740461644252, -1.0076463847201, 0.02226447529627381, 0.2190566031008649, -0.643633189304614, 1.2638889727273173, -0.48892495679508047, 0.059705931132288816, -0.9664065644091091, 1.095398828129973, -0.8408864989043608, -0.871759542343419, -0.1856655404692126, 0.18088575006579746, 1.2747503019467712, -0.4396286084094133, -1.1740229644234133, 0.1367868730401681, 0.5003571614833707], \"yaxis\": \"y3\"}, {\"line\": {\"color\": \"rgba(128, 128, 128, 1.0)\", \"dash\": \"solid\", \"shape\": \"linear\", \"width\": 1.3}, \"marker\": {\"size\": 2, \"symbol\": \"circle\"}, \"mode\": \"markers\", \"name\": \"A\", \"text\": \"\", \"type\": \"scatter\", \"x\": [-1.2276827666294137, 1.0081521786625394, -0.5074264826440039, -0.19631739000388773, 2.1415274347182964, 0.11904785476621113, 0.23946707643818188, 0.37908458450735394, 0.6725231384612813, -0.8211976368443139, 0.7494841941503361, 0.034781099386621744, -1.3398185164428509, -0.069572256892427, 0.41931356889731375, -0.8167788014535204, -1.2373976906340687, -0.1840954546341901, 0.0035607323517076648, -0.041196684241796795, -0.03473722076730505, -0.0018397056125259573, -0.3708078187451696, 0.5205572617589022, 0.0452824329967141, 1.0102919240344248, -1.1258776608819696, -0.7168342966408033, 0.6155164779674744, 1.6784588555522606, 1.1753205450072943, 0.014384224900247785, 0.6220293945296994, -0.2644826309043893, -1.966326671231066, -0.015666796938935065, 1.3138939598063901, -0.012782967793383507, 0.0029353541641902407, -0.5170773449665355, 1.0336403836047219, 1.2007045536411687, 0.027906920022602453, -0.32524379048054103, -1.7518527615937811, 0.5084098807242259, 0.348801529373511, 0.1632132673505855, -0.5266716391028633, 0.4672417584138413, 0.3308712594301862, 0.43524231033923944, 0.1722997203653605, 0.2958770095603323, -1.6846434422982581, 0.7466252788358413, -0.7772942870105266, 0.338214924338623, 0.9244376844559865, -1.0974683044436226, -0.9132866699195714, -0.21537440461306412, -0.5527481296937405, -0.5828651087562331, -0.06174286500123566, -0.686792721448157, -0.12886335689312195, -0.16420664628629053, 0.8766901891456867, 1.7617111357354525, 0.1827306553874836, 0.02782293765674249, -0.5806501251417746, 0.6673057789106808, -0.40287164126044306, 0.33709890343606297, 0.3359252304949588, 0.08344176618634161, -1.5363505337627845, -0.9079481054942306, 0.750905764361586, -0.10883531168870954, -0.7234321550121003, 0.752643964995895, -1.543376489389946, -0.9203526363133234, 0.42202239030579747, 2.8139745801628533, -0.5441279446897327, -1.1620867247042457, -0.943020276323677, 0.9067256718207556, -0.6956911248289205, 0.9083268430325101, -0.8093990390983988, 0.39526663463845807, -1.5080605916891274, 0.5915062777905455, 0.45459959621494966, -1.290777233120657], \"xaxis\": \"x4\", \"y\": [2.0098763595893336, 1.5854346850248688, 0.9517284968551595, 1.4209384421391142, 0.026688111038718355, 1.7742246940980553, 0.16997405066218702, -1.1663731149184284, -1.687555765778785, -0.9638359759236773, 0.31948585690353737, 0.45206655019272324, -0.5856593578130521, -1.3331664488301078, -0.18227467538397016, 1.0331832394221976, 0.37414095900530886, -1.3746069162300292, 1.8832078334627544, -0.16909971811806357, -0.32927926569287375, 0.2627032205145867, -0.3598102265304865, 0.5447321941036315, 1.6100120651269116, -0.3804397268147677, 0.1473620328561745, 1.6691747558384904, 1.8148257699582853, 1.0180855824554613, 2.766422169747134, 0.6612450177603737, 0.2986153846044228, -1.7053592704223286, -0.6711464446025099, -0.16294248127431257, -1.76502064308557, 0.056206938499821404, -0.7066819603495336, -0.2541191740775342, -1.5744224819850823, 0.4424197673183819, 0.9446253816575055, 0.23631706594971114, 0.14785287447786766, 0.22500275896921618, -0.013301170787457814, 0.2315655094459254, 0.6735331950306841, -0.10790761675412006, -1.5498459914408311, -0.41529924792912287, -0.22878419631577793, 2.3889340441169504, -0.5011363683382322, -0.18138728609572885, 0.10481645267669726, 0.7086729341837882, -1.4574933521470606, -2.276244891933633, -0.928082898567579, 0.22469067595539435, 0.5161213606538004, 0.24896276094352396, -0.017016592599865137, -0.2353009091061637, 0.6210256252215713, 1.0259839308083618, -0.05291468044019354, -1.2015439091389342, 0.20200327029328774, -0.3229245198595919, 0.5524528833109041, -0.4028777637706296, -0.059882638309787274, 0.12775951718529485, -0.17957320771266141, 1.0269177088172363, 1.1771880686524667, -0.6395966666807401, 0.3744607968230148, 0.641740461644252, -1.0076463847201, 0.02226447529627381, 0.2190566031008649, -0.643633189304614, 1.2638889727273173, -0.48892495679508047, 0.059705931132288816, -0.9664065644091091, 1.095398828129973, -0.8408864989043608, -0.871759542343419, -0.1856655404692126, 0.18088575006579746, 1.2747503019467712, -0.4396286084094133, -1.1740229644234133, 0.1367868730401681, 0.5003571614833707], \"yaxis\": \"y4\"}, {\"line\": {\"color\": \"rgba(128, 128, 128, 1.0)\", \"dash\": \"solid\", \"shape\": \"linear\", \"width\": 1.3}, \"marker\": {\"size\": 2, \"symbol\": \"circle\"}, \"mode\": \"markers\", \"name\": \"B\", \"text\": \"\", \"type\": \"scatter\", \"x\": [2.0098763595893336, 1.5854346850248688, 0.9517284968551595, 1.4209384421391142, 0.026688111038718355, 1.7742246940980553, 0.16997405066218702, -1.1663731149184284, -1.687555765778785, -0.9638359759236773, 0.31948585690353737, 0.45206655019272324, -0.5856593578130521, -1.3331664488301078, -0.18227467538397016, 1.0331832394221976, 0.37414095900530886, -1.3746069162300292, 1.8832078334627544, -0.16909971811806357, -0.32927926569287375, 0.2627032205145867, -0.3598102265304865, 0.5447321941036315, 1.6100120651269116, -0.3804397268147677, 0.1473620328561745, 1.6691747558384904, 1.8148257699582853, 1.0180855824554613, 2.766422169747134, 0.6612450177603737, 0.2986153846044228, -1.7053592704223286, -0.6711464446025099, -0.16294248127431257, -1.76502064308557, 0.056206938499821404, -0.7066819603495336, -0.2541191740775342, -1.5744224819850823, 0.4424197673183819, 0.9446253816575055, 0.23631706594971114, 0.14785287447786766, 0.22500275896921618, -0.013301170787457814, 0.2315655094459254, 0.6735331950306841, -0.10790761675412006, -1.5498459914408311, -0.41529924792912287, -0.22878419631577793, 2.3889340441169504, -0.5011363683382322, -0.18138728609572885, 0.10481645267669726, 0.7086729341837882, -1.4574933521470606, -2.276244891933633, -0.928082898567579, 0.22469067595539435, 0.5161213606538004, 0.24896276094352396, -0.017016592599865137, -0.2353009091061637, 0.6210256252215713, 1.0259839308083618, -0.05291468044019354, -1.2015439091389342, 0.20200327029328774, -0.3229245198595919, 0.5524528833109041, -0.4028777637706296, -0.059882638309787274, 0.12775951718529485, -0.17957320771266141, 1.0269177088172363, 1.1771880686524667, -0.6395966666807401, 0.3744607968230148, 0.641740461644252, -1.0076463847201, 0.02226447529627381, 0.2190566031008649, -0.643633189304614, 1.2638889727273173, -0.48892495679508047, 0.059705931132288816, -0.9664065644091091, 1.095398828129973, -0.8408864989043608, -0.871759542343419, -0.1856655404692126, 0.18088575006579746, 1.2747503019467712, -0.4396286084094133, -1.1740229644234133, 0.1367868730401681, 0.5003571614833707], \"xaxis\": \"x5\", \"y\": [-0.34761400696809835, 0.7967107929307996, -1.021435745012177, 0.8039058679506786, 0.28202976547017816, 1.629306414530597, -3.4110663508758923, -0.9237688579846878, 1.3449197314869716, -1.056451635061406, -1.0691292337350398, 1.3229153833868197, 0.1944216073353599, 0.299995236341656, 0.44109109461435964, -0.08136416868042488, 0.9303198403726493, 0.05888325507957637, 0.7395899412452036, -0.150937039126787, -0.8073667119303348, -2.1209755600528832, 1.3326778932258512, 0.9912008713869328, -1.0508995328015918, 0.13999533634881983, -0.8173571641054362, -0.11295496530104156, -1.6812301346024714, 1.0420418838155838, 0.2250212295749634, 1.1691927821992336, -0.8497153337809334, -0.2598100609473683, -0.5252259693487649, -0.741660775358332, 1.3379213304389845, 1.0001179164638403, -1.0402508474746148, -0.051391256452094, 0.7572822801140646, 1.314205938870495, -1.415487984063252, -0.261307270216244, -0.6325936261624826, 0.1347352764137132, 1.1117699079741161, -0.6365318004652251, 0.6586264711638239, -2.2171795885534, 0.11320736946178084, 1.5729034138642517, 0.1310369529846583, -0.9617569362791584, -0.8777880682991028, 0.5899941649731096, -0.1412306828688527, 1.5170554467085127, 0.53130018523096, 0.32158882850971465, -0.9464306474339612, -1.8406876139673087, -0.6592197757814411, -0.05035363573486317, -0.0012558881887979863, -2.2476749098487656, -0.7598151323708757, -1.4218480040643744, -0.5040523542296603, 1.1160587623525131, 1.3272816572811181, 0.9641613696033847, 1.0351188803977998, 0.7523574359092837, -0.08234499129197077, -0.43717706866405887, 1.1601515432985665, -0.5526689647969686, 0.7509740048177651, 0.27402019924238286, 0.7684338000320895, -1.0774412859096918, -2.158782081147689, 0.6228680278276605, -1.4619809072135606, -2.351284827931384, -0.36035854063131767, 1.5433883055746351, 0.611161533590583, 0.40126658500000917, 0.432320337391507, 0.05165221386738992, 0.7266281491464596, -1.5253604789419755, -0.8028686711450908, 1.3187931284966241, -0.5975997233571111, 0.238360495263982, -1.0803828111948988, 1.2501965937113815], \"yaxis\": \"y5\"}, {\"histfunc\": \"count\", \"histnorm\": \"\", \"marker\": {\"color\": \"rgba(55, 128, 191, 1.0)\", \"line\": {\"color\": \"#4D5663\", \"width\": 1.3}}, \"name\": \"B\", \"nbinsx\": 10, \"opacity\": 0.8, \"orientation\": \"v\", \"type\": \"histogram\", \"x\": [-0.34761400696809835, 0.7967107929307996, -1.021435745012177, 0.8039058679506786, 0.28202976547017816, 1.629306414530597, -3.4110663508758923, -0.9237688579846878, 1.3449197314869716, -1.056451635061406, -1.0691292337350398, 1.3229153833868197, 0.1944216073353599, 0.299995236341656, 0.44109109461435964, -0.08136416868042488, 0.9303198403726493, 0.05888325507957637, 0.7395899412452036, -0.150937039126787, -0.8073667119303348, -2.1209755600528832, 1.3326778932258512, 0.9912008713869328, -1.0508995328015918, 0.13999533634881983, -0.8173571641054362, -0.11295496530104156, -1.6812301346024714, 1.0420418838155838, 0.2250212295749634, 1.1691927821992336, -0.8497153337809334, -0.2598100609473683, -0.5252259693487649, -0.741660775358332, 1.3379213304389845, 1.0001179164638403, -1.0402508474746148, -0.051391256452094, 0.7572822801140646, 1.314205938870495, -1.415487984063252, -0.261307270216244, -0.6325936261624826, 0.1347352764137132, 1.1117699079741161, -0.6365318004652251, 0.6586264711638239, -2.2171795885534, 0.11320736946178084, 1.5729034138642517, 0.1310369529846583, -0.9617569362791584, -0.8777880682991028, 0.5899941649731096, -0.1412306828688527, 1.5170554467085127, 0.53130018523096, 0.32158882850971465, -0.9464306474339612, -1.8406876139673087, -0.6592197757814411, -0.05035363573486317, -0.0012558881887979863, -2.2476749098487656, -0.7598151323708757, -1.4218480040643744, -0.5040523542296603, 1.1160587623525131, 1.3272816572811181, 0.9641613696033847, 1.0351188803977998, 0.7523574359092837, -0.08234499129197077, -0.43717706866405887, 1.1601515432985665, -0.5526689647969686, 0.7509740048177651, 0.27402019924238286, 0.7684338000320895, -1.0774412859096918, -2.158782081147689, 0.6228680278276605, -1.4619809072135606, -2.351284827931384, -0.36035854063131767, 1.5433883055746351, 0.611161533590583, 0.40126658500000917, 0.432320337391507, 0.05165221386738992, 0.7266281491464596, -1.5253604789419755, -0.8028686711450908, 1.3187931284966241, -0.5975997233571111, 0.238360495263982, -1.0803828111948988, 1.2501965937113815], \"xaxis\": \"x6\", \"yaxis\": \"y6\"}, {\"line\": {\"color\": \"rgba(128, 128, 128, 1.0)\", \"dash\": \"solid\", \"shape\": \"linear\", \"width\": 1.3}, \"marker\": {\"size\": 2, \"symbol\": \"circle\"}, \"mode\": \"markers\", \"name\": \"B\", \"text\": \"\", \"type\": \"scatter\", \"x\": [-0.9289553735321145, -3.29185578905007, 0.6141311655471734, -1.3279654686462936, -0.9330755405301372, -0.13572951607500175, -0.1558399731911225, 0.2562172935610255, -1.1550179645829468, 1.133701737589356, 0.5602961037020913, -0.2058384517520784, 1.5715038418375586, -0.7828567782123235, 0.6850043273904133, 2.204073042744001, 2.07975076431608, -1.0392898689716727, -0.7996953898361792, 0.07820140689226711, 1.0753792703079366, 1.23073652415559, 0.37576849472620666, -1.704312176087002, 0.46855834965098864, -0.038494063834664, -1.5206010064061906, -0.6443983946167495, 0.46212281535437416, -0.5720314045038454, 0.628361267113081, 0.4118433577913778, -0.6537933417475408, -0.217973511529981, 1.4250444252250918, 1.2901404209885001, 0.12709267205722835, 1.8153488317774, 0.6590271323537336, 1.5878240611462506, 1.1759772042114245, -0.08620840466405229, 0.3736929842944326, -1.1070026588066593, -0.9689529361661915, -0.1313885271389684, 2.6162110696415923, 0.6077468827653002, 1.5819722537455785, 0.3168357811771449, 0.5166233815916088, -0.3904970470253944, 0.8966415053544944, 2.2548384083273225, -0.7361160160418321, -0.9929759828317783, -1.2733419005820379, 1.2896761577237899, 1.0013031805323842, -0.3458133403722976, 0.20285737608510637, 0.3627025307902813, 0.32772115687956177, 0.08071273087746433, 1.083556238859063, 0.26233474596948775, -0.1468439454866668, 1.6389197921341037, 0.7840215019259638, -0.10704043977879389, -0.03959077604699771, -0.8345086098492591, -0.2613468571089336, 1.8869726033489433, 0.36514136983338324, -0.8199316884247727, 0.3362582147997106, 0.02104307222962485, 0.2261683930226166, 0.8922721913588897, -1.0955491455925161, 0.1777970289425649, 1.8635009920304269, -1.5831282633220047, -0.03669126310767968, 0.5901549161922415, -1.1927292624064005, -1.3427909329462622, 0.6797640018201362, 0.5878759139859725, -1.5594604092917315, -0.898550013149892, 2.1149119380876336, -1.2258059010951654, -1.8047329306685895, 0.732050971212458, 0.6599757625488231, 0.21932400053658035, 0.2921775958716824, -0.9570268392633724], \"xaxis\": \"x7\", \"y\": [-0.34761400696809835, 0.7967107929307996, -1.021435745012177, 0.8039058679506786, 0.28202976547017816, 1.629306414530597, -3.4110663508758923, -0.9237688579846878, 1.3449197314869716, -1.056451635061406, -1.0691292337350398, 1.3229153833868197, 0.1944216073353599, 0.299995236341656, 0.44109109461435964, -0.08136416868042488, 0.9303198403726493, 0.05888325507957637, 0.7395899412452036, -0.150937039126787, -0.8073667119303348, -2.1209755600528832, 1.3326778932258512, 0.9912008713869328, -1.0508995328015918, 0.13999533634881983, -0.8173571641054362, -0.11295496530104156, -1.6812301346024714, 1.0420418838155838, 0.2250212295749634, 1.1691927821992336, -0.8497153337809334, -0.2598100609473683, -0.5252259693487649, -0.741660775358332, 1.3379213304389845, 1.0001179164638403, -1.0402508474746148, -0.051391256452094, 0.7572822801140646, 1.314205938870495, -1.415487984063252, -0.261307270216244, -0.6325936261624826, 0.1347352764137132, 1.1117699079741161, -0.6365318004652251, 0.6586264711638239, -2.2171795885534, 0.11320736946178084, 1.5729034138642517, 0.1310369529846583, -0.9617569362791584, -0.8777880682991028, 0.5899941649731096, -0.1412306828688527, 1.5170554467085127, 0.53130018523096, 0.32158882850971465, -0.9464306474339612, -1.8406876139673087, -0.6592197757814411, -0.05035363573486317, -0.0012558881887979863, -2.2476749098487656, -0.7598151323708757, -1.4218480040643744, -0.5040523542296603, 1.1160587623525131, 1.3272816572811181, 0.9641613696033847, 1.0351188803977998, 0.7523574359092837, -0.08234499129197077, -0.43717706866405887, 1.1601515432985665, -0.5526689647969686, 0.7509740048177651, 0.27402019924238286, 0.7684338000320895, -1.0774412859096918, -2.158782081147689, 0.6228680278276605, -1.4619809072135606, -2.351284827931384, -0.36035854063131767, 1.5433883055746351, 0.611161533590583, 0.40126658500000917, 0.432320337391507, 0.05165221386738992, 0.7266281491464596, -1.5253604789419755, -0.8028686711450908, 1.3187931284966241, -0.5975997233571111, 0.238360495263982, -1.0803828111948988, 1.2501965937113815], \"yaxis\": \"y7\"}, {\"line\": {\"color\": \"rgba(128, 128, 128, 1.0)\", \"dash\": \"solid\", \"shape\": \"linear\", \"width\": 1.3}, \"marker\": {\"size\": 2, \"symbol\": \"circle\"}, \"mode\": \"markers\", \"name\": \"B\", \"text\": \"\", \"type\": \"scatter\", \"x\": [-1.2276827666294137, 1.0081521786625394, -0.5074264826440039, -0.19631739000388773, 2.1415274347182964, 0.11904785476621113, 0.23946707643818188, 0.37908458450735394, 0.6725231384612813, -0.8211976368443139, 0.7494841941503361, 0.034781099386621744, -1.3398185164428509, -0.069572256892427, 0.41931356889731375, -0.8167788014535204, -1.2373976906340687, -0.1840954546341901, 0.0035607323517076648, -0.041196684241796795, -0.03473722076730505, -0.0018397056125259573, -0.3708078187451696, 0.5205572617589022, 0.0452824329967141, 1.0102919240344248, -1.1258776608819696, -0.7168342966408033, 0.6155164779674744, 1.6784588555522606, 1.1753205450072943, 0.014384224900247785, 0.6220293945296994, -0.2644826309043893, -1.966326671231066, -0.015666796938935065, 1.3138939598063901, -0.012782967793383507, 0.0029353541641902407, -0.5170773449665355, 1.0336403836047219, 1.2007045536411687, 0.027906920022602453, -0.32524379048054103, -1.7518527615937811, 0.5084098807242259, 0.348801529373511, 0.1632132673505855, -0.5266716391028633, 0.4672417584138413, 0.3308712594301862, 0.43524231033923944, 0.1722997203653605, 0.2958770095603323, -1.6846434422982581, 0.7466252788358413, -0.7772942870105266, 0.338214924338623, 0.9244376844559865, -1.0974683044436226, -0.9132866699195714, -0.21537440461306412, -0.5527481296937405, -0.5828651087562331, -0.06174286500123566, -0.686792721448157, -0.12886335689312195, -0.16420664628629053, 0.8766901891456867, 1.7617111357354525, 0.1827306553874836, 0.02782293765674249, -0.5806501251417746, 0.6673057789106808, -0.40287164126044306, 0.33709890343606297, 0.3359252304949588, 0.08344176618634161, -1.5363505337627845, -0.9079481054942306, 0.750905764361586, -0.10883531168870954, -0.7234321550121003, 0.752643964995895, -1.543376489389946, -0.9203526363133234, 0.42202239030579747, 2.8139745801628533, -0.5441279446897327, -1.1620867247042457, -0.943020276323677, 0.9067256718207556, -0.6956911248289205, 0.9083268430325101, -0.8093990390983988, 0.39526663463845807, -1.5080605916891274, 0.5915062777905455, 0.45459959621494966, -1.290777233120657], \"xaxis\": \"x8\", \"y\": [-0.34761400696809835, 0.7967107929307996, -1.021435745012177, 0.8039058679506786, 0.28202976547017816, 1.629306414530597, -3.4110663508758923, -0.9237688579846878, 1.3449197314869716, -1.056451635061406, -1.0691292337350398, 1.3229153833868197, 0.1944216073353599, 0.299995236341656, 0.44109109461435964, -0.08136416868042488, 0.9303198403726493, 0.05888325507957637, 0.7395899412452036, -0.150937039126787, -0.8073667119303348, -2.1209755600528832, 1.3326778932258512, 0.9912008713869328, -1.0508995328015918, 0.13999533634881983, -0.8173571641054362, -0.11295496530104156, -1.6812301346024714, 1.0420418838155838, 0.2250212295749634, 1.1691927821992336, -0.8497153337809334, -0.2598100609473683, -0.5252259693487649, -0.741660775358332, 1.3379213304389845, 1.0001179164638403, -1.0402508474746148, -0.051391256452094, 0.7572822801140646, 1.314205938870495, -1.415487984063252, -0.261307270216244, -0.6325936261624826, 0.1347352764137132, 1.1117699079741161, -0.6365318004652251, 0.6586264711638239, -2.2171795885534, 0.11320736946178084, 1.5729034138642517, 0.1310369529846583, -0.9617569362791584, -0.8777880682991028, 0.5899941649731096, -0.1412306828688527, 1.5170554467085127, 0.53130018523096, 0.32158882850971465, -0.9464306474339612, -1.8406876139673087, -0.6592197757814411, -0.05035363573486317, -0.0012558881887979863, -2.2476749098487656, -0.7598151323708757, -1.4218480040643744, -0.5040523542296603, 1.1160587623525131, 1.3272816572811181, 0.9641613696033847, 1.0351188803977998, 0.7523574359092837, -0.08234499129197077, -0.43717706866405887, 1.1601515432985665, -0.5526689647969686, 0.7509740048177651, 0.27402019924238286, 0.7684338000320895, -1.0774412859096918, -2.158782081147689, 0.6228680278276605, -1.4619809072135606, -2.351284827931384, -0.36035854063131767, 1.5433883055746351, 0.611161533590583, 0.40126658500000917, 0.432320337391507, 0.05165221386738992, 0.7266281491464596, -1.5253604789419755, -0.8028686711450908, 1.3187931284966241, -0.5975997233571111, 0.238360495263982, -1.0803828111948988, 1.2501965937113815], \"yaxis\": \"y8\"}, {\"line\": {\"color\": \"rgba(128, 128, 128, 1.0)\", \"dash\": \"solid\", \"shape\": \"linear\", \"width\": 1.3}, \"marker\": {\"size\": 2, \"symbol\": \"circle\"}, \"mode\": \"markers\", \"name\": \"C\", \"text\": \"\", \"type\": \"scatter\", \"x\": [2.0098763595893336, 1.5854346850248688, 0.9517284968551595, 1.4209384421391142, 0.026688111038718355, 1.7742246940980553, 0.16997405066218702, -1.1663731149184284, -1.687555765778785, -0.9638359759236773, 0.31948585690353737, 0.45206655019272324, -0.5856593578130521, -1.3331664488301078, -0.18227467538397016, 1.0331832394221976, 0.37414095900530886, -1.3746069162300292, 1.8832078334627544, -0.16909971811806357, -0.32927926569287375, 0.2627032205145867, -0.3598102265304865, 0.5447321941036315, 1.6100120651269116, -0.3804397268147677, 0.1473620328561745, 1.6691747558384904, 1.8148257699582853, 1.0180855824554613, 2.766422169747134, 0.6612450177603737, 0.2986153846044228, -1.7053592704223286, -0.6711464446025099, -0.16294248127431257, -1.76502064308557, 0.056206938499821404, -0.7066819603495336, -0.2541191740775342, -1.5744224819850823, 0.4424197673183819, 0.9446253816575055, 0.23631706594971114, 0.14785287447786766, 0.22500275896921618, -0.013301170787457814, 0.2315655094459254, 0.6735331950306841, -0.10790761675412006, -1.5498459914408311, -0.41529924792912287, -0.22878419631577793, 2.3889340441169504, -0.5011363683382322, -0.18138728609572885, 0.10481645267669726, 0.7086729341837882, -1.4574933521470606, -2.276244891933633, -0.928082898567579, 0.22469067595539435, 0.5161213606538004, 0.24896276094352396, -0.017016592599865137, -0.2353009091061637, 0.6210256252215713, 1.0259839308083618, -0.05291468044019354, -1.2015439091389342, 0.20200327029328774, -0.3229245198595919, 0.5524528833109041, -0.4028777637706296, -0.059882638309787274, 0.12775951718529485, -0.17957320771266141, 1.0269177088172363, 1.1771880686524667, -0.6395966666807401, 0.3744607968230148, 0.641740461644252, -1.0076463847201, 0.02226447529627381, 0.2190566031008649, -0.643633189304614, 1.2638889727273173, -0.48892495679508047, 0.059705931132288816, -0.9664065644091091, 1.095398828129973, -0.8408864989043608, -0.871759542343419, -0.1856655404692126, 0.18088575006579746, 1.2747503019467712, -0.4396286084094133, -1.1740229644234133, 0.1367868730401681, 0.5003571614833707], \"xaxis\": \"x9\", \"y\": [-0.9289553735321145, -3.29185578905007, 0.6141311655471734, -1.3279654686462936, -0.9330755405301372, -0.13572951607500175, -0.1558399731911225, 0.2562172935610255, -1.1550179645829468, 1.133701737589356, 0.5602961037020913, -0.2058384517520784, 1.5715038418375586, -0.7828567782123235, 0.6850043273904133, 2.204073042744001, 2.07975076431608, -1.0392898689716727, -0.7996953898361792, 0.07820140689226711, 1.0753792703079366, 1.23073652415559, 0.37576849472620666, -1.704312176087002, 0.46855834965098864, -0.038494063834664, -1.5206010064061906, -0.6443983946167495, 0.46212281535437416, -0.5720314045038454, 0.628361267113081, 0.4118433577913778, -0.6537933417475408, -0.217973511529981, 1.4250444252250918, 1.2901404209885001, 0.12709267205722835, 1.8153488317774, 0.6590271323537336, 1.5878240611462506, 1.1759772042114245, -0.08620840466405229, 0.3736929842944326, -1.1070026588066593, -0.9689529361661915, -0.1313885271389684, 2.6162110696415923, 0.6077468827653002, 1.5819722537455785, 0.3168357811771449, 0.5166233815916088, -0.3904970470253944, 0.8966415053544944, 2.2548384083273225, -0.7361160160418321, -0.9929759828317783, -1.2733419005820379, 1.2896761577237899, 1.0013031805323842, -0.3458133403722976, 0.20285737608510637, 0.3627025307902813, 0.32772115687956177, 0.08071273087746433, 1.083556238859063, 0.26233474596948775, -0.1468439454866668, 1.6389197921341037, 0.7840215019259638, -0.10704043977879389, -0.03959077604699771, -0.8345086098492591, -0.2613468571089336, 1.8869726033489433, 0.36514136983338324, -0.8199316884247727, 0.3362582147997106, 0.02104307222962485, 0.2261683930226166, 0.8922721913588897, -1.0955491455925161, 0.1777970289425649, 1.8635009920304269, -1.5831282633220047, -0.03669126310767968, 0.5901549161922415, -1.1927292624064005, -1.3427909329462622, 0.6797640018201362, 0.5878759139859725, -1.5594604092917315, -0.898550013149892, 2.1149119380876336, -1.2258059010951654, -1.8047329306685895, 0.732050971212458, 0.6599757625488231, 0.21932400053658035, 0.2921775958716824, -0.9570268392633724], \"yaxis\": \"y9\"}, {\"line\": {\"color\": \"rgba(128, 128, 128, 1.0)\", \"dash\": \"solid\", \"shape\": \"linear\", \"width\": 1.3}, \"marker\": {\"size\": 2, \"symbol\": \"circle\"}, \"mode\": \"markers\", \"name\": \"C\", \"text\": \"\", \"type\": \"scatter\", \"x\": [-0.34761400696809835, 0.7967107929307996, -1.021435745012177, 0.8039058679506786, 0.28202976547017816, 1.629306414530597, -3.4110663508758923, -0.9237688579846878, 1.3449197314869716, -1.056451635061406, -1.0691292337350398, 1.3229153833868197, 0.1944216073353599, 0.299995236341656, 0.44109109461435964, -0.08136416868042488, 0.9303198403726493, 0.05888325507957637, 0.7395899412452036, -0.150937039126787, -0.8073667119303348, -2.1209755600528832, 1.3326778932258512, 0.9912008713869328, -1.0508995328015918, 0.13999533634881983, -0.8173571641054362, -0.11295496530104156, -1.6812301346024714, 1.0420418838155838, 0.2250212295749634, 1.1691927821992336, -0.8497153337809334, -0.2598100609473683, -0.5252259693487649, -0.741660775358332, 1.3379213304389845, 1.0001179164638403, -1.0402508474746148, -0.051391256452094, 0.7572822801140646, 1.314205938870495, -1.415487984063252, -0.261307270216244, -0.6325936261624826, 0.1347352764137132, 1.1117699079741161, -0.6365318004652251, 0.6586264711638239, -2.2171795885534, 0.11320736946178084, 1.5729034138642517, 0.1310369529846583, -0.9617569362791584, -0.8777880682991028, 0.5899941649731096, -0.1412306828688527, 1.5170554467085127, 0.53130018523096, 0.32158882850971465, -0.9464306474339612, -1.8406876139673087, -0.6592197757814411, -0.05035363573486317, -0.0012558881887979863, -2.2476749098487656, -0.7598151323708757, -1.4218480040643744, -0.5040523542296603, 1.1160587623525131, 1.3272816572811181, 0.9641613696033847, 1.0351188803977998, 0.7523574359092837, -0.08234499129197077, -0.43717706866405887, 1.1601515432985665, -0.5526689647969686, 0.7509740048177651, 0.27402019924238286, 0.7684338000320895, -1.0774412859096918, -2.158782081147689, 0.6228680278276605, -1.4619809072135606, -2.351284827931384, -0.36035854063131767, 1.5433883055746351, 0.611161533590583, 0.40126658500000917, 0.432320337391507, 0.05165221386738992, 0.7266281491464596, -1.5253604789419755, -0.8028686711450908, 1.3187931284966241, -0.5975997233571111, 0.238360495263982, -1.0803828111948988, 1.2501965937113815], \"xaxis\": \"x10\", \"y\": [-0.9289553735321145, -3.29185578905007, 0.6141311655471734, -1.3279654686462936, -0.9330755405301372, -0.13572951607500175, -0.1558399731911225, 0.2562172935610255, -1.1550179645829468, 1.133701737589356, 0.5602961037020913, -0.2058384517520784, 1.5715038418375586, -0.7828567782123235, 0.6850043273904133, 2.204073042744001, 2.07975076431608, -1.0392898689716727, -0.7996953898361792, 0.07820140689226711, 1.0753792703079366, 1.23073652415559, 0.37576849472620666, -1.704312176087002, 0.46855834965098864, -0.038494063834664, -1.5206010064061906, -0.6443983946167495, 0.46212281535437416, -0.5720314045038454, 0.628361267113081, 0.4118433577913778, -0.6537933417475408, -0.217973511529981, 1.4250444252250918, 1.2901404209885001, 0.12709267205722835, 1.8153488317774, 0.6590271323537336, 1.5878240611462506, 1.1759772042114245, -0.08620840466405229, 0.3736929842944326, -1.1070026588066593, -0.9689529361661915, -0.1313885271389684, 2.6162110696415923, 0.6077468827653002, 1.5819722537455785, 0.3168357811771449, 0.5166233815916088, -0.3904970470253944, 0.8966415053544944, 2.2548384083273225, -0.7361160160418321, -0.9929759828317783, -1.2733419005820379, 1.2896761577237899, 1.0013031805323842, -0.3458133403722976, 0.20285737608510637, 0.3627025307902813, 0.32772115687956177, 0.08071273087746433, 1.083556238859063, 0.26233474596948775, -0.1468439454866668, 1.6389197921341037, 0.7840215019259638, -0.10704043977879389, -0.03959077604699771, -0.8345086098492591, -0.2613468571089336, 1.8869726033489433, 0.36514136983338324, -0.8199316884247727, 0.3362582147997106, 0.02104307222962485, 0.2261683930226166, 0.8922721913588897, -1.0955491455925161, 0.1777970289425649, 1.8635009920304269, -1.5831282633220047, -0.03669126310767968, 0.5901549161922415, -1.1927292624064005, -1.3427909329462622, 0.6797640018201362, 0.5878759139859725, -1.5594604092917315, -0.898550013149892, 2.1149119380876336, -1.2258059010951654, -1.8047329306685895, 0.732050971212458, 0.6599757625488231, 0.21932400053658035, 0.2921775958716824, -0.9570268392633724], \"yaxis\": \"y10\"}, {\"histfunc\": \"count\", \"histnorm\": \"\", \"marker\": {\"color\": \"rgba(50, 171, 96, 1.0)\", \"line\": {\"color\": \"#4D5663\", \"width\": 1.3}}, \"name\": \"C\", \"nbinsx\": 10, \"opacity\": 0.8, \"orientation\": \"v\", \"type\": \"histogram\", \"x\": [-0.9289553735321145, -3.29185578905007, 0.6141311655471734, -1.3279654686462936, -0.9330755405301372, -0.13572951607500175, -0.1558399731911225, 0.2562172935610255, -1.1550179645829468, 1.133701737589356, 0.5602961037020913, -0.2058384517520784, 1.5715038418375586, -0.7828567782123235, 0.6850043273904133, 2.204073042744001, 2.07975076431608, -1.0392898689716727, -0.7996953898361792, 0.07820140689226711, 1.0753792703079366, 1.23073652415559, 0.37576849472620666, -1.704312176087002, 0.46855834965098864, -0.038494063834664, -1.5206010064061906, -0.6443983946167495, 0.46212281535437416, -0.5720314045038454, 0.628361267113081, 0.4118433577913778, -0.6537933417475408, -0.217973511529981, 1.4250444252250918, 1.2901404209885001, 0.12709267205722835, 1.8153488317774, 0.6590271323537336, 1.5878240611462506, 1.1759772042114245, -0.08620840466405229, 0.3736929842944326, -1.1070026588066593, -0.9689529361661915, -0.1313885271389684, 2.6162110696415923, 0.6077468827653002, 1.5819722537455785, 0.3168357811771449, 0.5166233815916088, -0.3904970470253944, 0.8966415053544944, 2.2548384083273225, -0.7361160160418321, -0.9929759828317783, -1.2733419005820379, 1.2896761577237899, 1.0013031805323842, -0.3458133403722976, 0.20285737608510637, 0.3627025307902813, 0.32772115687956177, 0.08071273087746433, 1.083556238859063, 0.26233474596948775, -0.1468439454866668, 1.6389197921341037, 0.7840215019259638, -0.10704043977879389, -0.03959077604699771, -0.8345086098492591, -0.2613468571089336, 1.8869726033489433, 0.36514136983338324, -0.8199316884247727, 0.3362582147997106, 0.02104307222962485, 0.2261683930226166, 0.8922721913588897, -1.0955491455925161, 0.1777970289425649, 1.8635009920304269, -1.5831282633220047, -0.03669126310767968, 0.5901549161922415, -1.1927292624064005, -1.3427909329462622, 0.6797640018201362, 0.5878759139859725, -1.5594604092917315, -0.898550013149892, 2.1149119380876336, -1.2258059010951654, -1.8047329306685895, 0.732050971212458, 0.6599757625488231, 0.21932400053658035, 0.2921775958716824, -0.9570268392633724], \"xaxis\": \"x11\", \"yaxis\": \"y11\"}, {\"line\": {\"color\": \"rgba(128, 128, 128, 1.0)\", \"dash\": \"solid\", \"shape\": \"linear\", \"width\": 1.3}, \"marker\": {\"size\": 2, \"symbol\": \"circle\"}, \"mode\": \"markers\", \"name\": \"C\", \"text\": \"\", \"type\": \"scatter\", \"x\": [-1.2276827666294137, 1.0081521786625394, -0.5074264826440039, -0.19631739000388773, 2.1415274347182964, 0.11904785476621113, 0.23946707643818188, 0.37908458450735394, 0.6725231384612813, -0.8211976368443139, 0.7494841941503361, 0.034781099386621744, -1.3398185164428509, -0.069572256892427, 0.41931356889731375, -0.8167788014535204, -1.2373976906340687, -0.1840954546341901, 0.0035607323517076648, -0.041196684241796795, -0.03473722076730505, -0.0018397056125259573, -0.3708078187451696, 0.5205572617589022, 0.0452824329967141, 1.0102919240344248, -1.1258776608819696, -0.7168342966408033, 0.6155164779674744, 1.6784588555522606, 1.1753205450072943, 0.014384224900247785, 0.6220293945296994, -0.2644826309043893, -1.966326671231066, -0.015666796938935065, 1.3138939598063901, -0.012782967793383507, 0.0029353541641902407, -0.5170773449665355, 1.0336403836047219, 1.2007045536411687, 0.027906920022602453, -0.32524379048054103, -1.7518527615937811, 0.5084098807242259, 0.348801529373511, 0.1632132673505855, -0.5266716391028633, 0.4672417584138413, 0.3308712594301862, 0.43524231033923944, 0.1722997203653605, 0.2958770095603323, -1.6846434422982581, 0.7466252788358413, -0.7772942870105266, 0.338214924338623, 0.9244376844559865, -1.0974683044436226, -0.9132866699195714, -0.21537440461306412, -0.5527481296937405, -0.5828651087562331, -0.06174286500123566, -0.686792721448157, -0.12886335689312195, -0.16420664628629053, 0.8766901891456867, 1.7617111357354525, 0.1827306553874836, 0.02782293765674249, -0.5806501251417746, 0.6673057789106808, -0.40287164126044306, 0.33709890343606297, 0.3359252304949588, 0.08344176618634161, -1.5363505337627845, -0.9079481054942306, 0.750905764361586, -0.10883531168870954, -0.7234321550121003, 0.752643964995895, -1.543376489389946, -0.9203526363133234, 0.42202239030579747, 2.8139745801628533, -0.5441279446897327, -1.1620867247042457, -0.943020276323677, 0.9067256718207556, -0.6956911248289205, 0.9083268430325101, -0.8093990390983988, 0.39526663463845807, -1.5080605916891274, 0.5915062777905455, 0.45459959621494966, -1.290777233120657], \"xaxis\": \"x12\", \"y\": [-0.9289553735321145, -3.29185578905007, 0.6141311655471734, -1.3279654686462936, -0.9330755405301372, -0.13572951607500175, -0.1558399731911225, 0.2562172935610255, -1.1550179645829468, 1.133701737589356, 0.5602961037020913, -0.2058384517520784, 1.5715038418375586, -0.7828567782123235, 0.6850043273904133, 2.204073042744001, 2.07975076431608, -1.0392898689716727, -0.7996953898361792, 0.07820140689226711, 1.0753792703079366, 1.23073652415559, 0.37576849472620666, -1.704312176087002, 0.46855834965098864, -0.038494063834664, -1.5206010064061906, -0.6443983946167495, 0.46212281535437416, -0.5720314045038454, 0.628361267113081, 0.4118433577913778, -0.6537933417475408, -0.217973511529981, 1.4250444252250918, 1.2901404209885001, 0.12709267205722835, 1.8153488317774, 0.6590271323537336, 1.5878240611462506, 1.1759772042114245, -0.08620840466405229, 0.3736929842944326, -1.1070026588066593, -0.9689529361661915, -0.1313885271389684, 2.6162110696415923, 0.6077468827653002, 1.5819722537455785, 0.3168357811771449, 0.5166233815916088, -0.3904970470253944, 0.8966415053544944, 2.2548384083273225, -0.7361160160418321, -0.9929759828317783, -1.2733419005820379, 1.2896761577237899, 1.0013031805323842, -0.3458133403722976, 0.20285737608510637, 0.3627025307902813, 0.32772115687956177, 0.08071273087746433, 1.083556238859063, 0.26233474596948775, -0.1468439454866668, 1.6389197921341037, 0.7840215019259638, -0.10704043977879389, -0.03959077604699771, -0.8345086098492591, -0.2613468571089336, 1.8869726033489433, 0.36514136983338324, -0.8199316884247727, 0.3362582147997106, 0.02104307222962485, 0.2261683930226166, 0.8922721913588897, -1.0955491455925161, 0.1777970289425649, 1.8635009920304269, -1.5831282633220047, -0.03669126310767968, 0.5901549161922415, -1.1927292624064005, -1.3427909329462622, 0.6797640018201362, 0.5878759139859725, -1.5594604092917315, -0.898550013149892, 2.1149119380876336, -1.2258059010951654, -1.8047329306685895, 0.732050971212458, 0.6599757625488231, 0.21932400053658035, 0.2921775958716824, -0.9570268392633724], \"yaxis\": \"y12\"}, {\"line\": {\"color\": \"rgba(128, 128, 128, 1.0)\", \"dash\": \"solid\", \"shape\": \"linear\", \"width\": 1.3}, \"marker\": {\"size\": 2, \"symbol\": \"circle\"}, \"mode\": \"markers\", \"name\": \"D\", \"text\": \"\", \"type\": \"scatter\", \"x\": [2.0098763595893336, 1.5854346850248688, 0.9517284968551595, 1.4209384421391142, 0.026688111038718355, 1.7742246940980553, 0.16997405066218702, -1.1663731149184284, -1.687555765778785, -0.9638359759236773, 0.31948585690353737, 0.45206655019272324, -0.5856593578130521, -1.3331664488301078, -0.18227467538397016, 1.0331832394221976, 0.37414095900530886, -1.3746069162300292, 1.8832078334627544, -0.16909971811806357, -0.32927926569287375, 0.2627032205145867, -0.3598102265304865, 0.5447321941036315, 1.6100120651269116, -0.3804397268147677, 0.1473620328561745, 1.6691747558384904, 1.8148257699582853, 1.0180855824554613, 2.766422169747134, 0.6612450177603737, 0.2986153846044228, -1.7053592704223286, -0.6711464446025099, -0.16294248127431257, -1.76502064308557, 0.056206938499821404, -0.7066819603495336, -0.2541191740775342, -1.5744224819850823, 0.4424197673183819, 0.9446253816575055, 0.23631706594971114, 0.14785287447786766, 0.22500275896921618, -0.013301170787457814, 0.2315655094459254, 0.6735331950306841, -0.10790761675412006, -1.5498459914408311, -0.41529924792912287, -0.22878419631577793, 2.3889340441169504, -0.5011363683382322, -0.18138728609572885, 0.10481645267669726, 0.7086729341837882, -1.4574933521470606, -2.276244891933633, -0.928082898567579, 0.22469067595539435, 0.5161213606538004, 0.24896276094352396, -0.017016592599865137, -0.2353009091061637, 0.6210256252215713, 1.0259839308083618, -0.05291468044019354, -1.2015439091389342, 0.20200327029328774, -0.3229245198595919, 0.5524528833109041, -0.4028777637706296, -0.059882638309787274, 0.12775951718529485, -0.17957320771266141, 1.0269177088172363, 1.1771880686524667, -0.6395966666807401, 0.3744607968230148, 0.641740461644252, -1.0076463847201, 0.02226447529627381, 0.2190566031008649, -0.643633189304614, 1.2638889727273173, -0.48892495679508047, 0.059705931132288816, -0.9664065644091091, 1.095398828129973, -0.8408864989043608, -0.871759542343419, -0.1856655404692126, 0.18088575006579746, 1.2747503019467712, -0.4396286084094133, -1.1740229644234133, 0.1367868730401681, 0.5003571614833707], \"xaxis\": \"x13\", \"y\": [-1.2276827666294137, 1.0081521786625394, -0.5074264826440039, -0.19631739000388773, 2.1415274347182964, 0.11904785476621113, 0.23946707643818188, 0.37908458450735394, 0.6725231384612813, -0.8211976368443139, 0.7494841941503361, 0.034781099386621744, -1.3398185164428509, -0.069572256892427, 0.41931356889731375, -0.8167788014535204, -1.2373976906340687, -0.1840954546341901, 0.0035607323517076648, -0.041196684241796795, -0.03473722076730505, -0.0018397056125259573, -0.3708078187451696, 0.5205572617589022, 0.0452824329967141, 1.0102919240344248, -1.1258776608819696, -0.7168342966408033, 0.6155164779674744, 1.6784588555522606, 1.1753205450072943, 0.014384224900247785, 0.6220293945296994, -0.2644826309043893, -1.966326671231066, -0.015666796938935065, 1.3138939598063901, -0.012782967793383507, 0.0029353541641902407, -0.5170773449665355, 1.0336403836047219, 1.2007045536411687, 0.027906920022602453, -0.32524379048054103, -1.7518527615937811, 0.5084098807242259, 0.348801529373511, 0.1632132673505855, -0.5266716391028633, 0.4672417584138413, 0.3308712594301862, 0.43524231033923944, 0.1722997203653605, 0.2958770095603323, -1.6846434422982581, 0.7466252788358413, -0.7772942870105266, 0.338214924338623, 0.9244376844559865, -1.0974683044436226, -0.9132866699195714, -0.21537440461306412, -0.5527481296937405, -0.5828651087562331, -0.06174286500123566, -0.686792721448157, -0.12886335689312195, -0.16420664628629053, 0.8766901891456867, 1.7617111357354525, 0.1827306553874836, 0.02782293765674249, -0.5806501251417746, 0.6673057789106808, -0.40287164126044306, 0.33709890343606297, 0.3359252304949588, 0.08344176618634161, -1.5363505337627845, -0.9079481054942306, 0.750905764361586, -0.10883531168870954, -0.7234321550121003, 0.752643964995895, -1.543376489389946, -0.9203526363133234, 0.42202239030579747, 2.8139745801628533, -0.5441279446897327, -1.1620867247042457, -0.943020276323677, 0.9067256718207556, -0.6956911248289205, 0.9083268430325101, -0.8093990390983988, 0.39526663463845807, -1.5080605916891274, 0.5915062777905455, 0.45459959621494966, -1.290777233120657], \"yaxis\": \"y13\"}, {\"line\": {\"color\": \"rgba(128, 128, 128, 1.0)\", \"dash\": \"solid\", \"shape\": \"linear\", \"width\": 1.3}, \"marker\": {\"size\": 2, \"symbol\": \"circle\"}, \"mode\": \"markers\", \"name\": \"D\", \"text\": \"\", \"type\": \"scatter\", \"x\": [-0.34761400696809835, 0.7967107929307996, -1.021435745012177, 0.8039058679506786, 0.28202976547017816, 1.629306414530597, -3.4110663508758923, -0.9237688579846878, 1.3449197314869716, -1.056451635061406, -1.0691292337350398, 1.3229153833868197, 0.1944216073353599, 0.299995236341656, 0.44109109461435964, -0.08136416868042488, 0.9303198403726493, 0.05888325507957637, 0.7395899412452036, -0.150937039126787, -0.8073667119303348, -2.1209755600528832, 1.3326778932258512, 0.9912008713869328, -1.0508995328015918, 0.13999533634881983, -0.8173571641054362, -0.11295496530104156, -1.6812301346024714, 1.0420418838155838, 0.2250212295749634, 1.1691927821992336, -0.8497153337809334, -0.2598100609473683, -0.5252259693487649, -0.741660775358332, 1.3379213304389845, 1.0001179164638403, -1.0402508474746148, -0.051391256452094, 0.7572822801140646, 1.314205938870495, -1.415487984063252, -0.261307270216244, -0.6325936261624826, 0.1347352764137132, 1.1117699079741161, -0.6365318004652251, 0.6586264711638239, -2.2171795885534, 0.11320736946178084, 1.5729034138642517, 0.1310369529846583, -0.9617569362791584, -0.8777880682991028, 0.5899941649731096, -0.1412306828688527, 1.5170554467085127, 0.53130018523096, 0.32158882850971465, -0.9464306474339612, -1.8406876139673087, -0.6592197757814411, -0.05035363573486317, -0.0012558881887979863, -2.2476749098487656, -0.7598151323708757, -1.4218480040643744, -0.5040523542296603, 1.1160587623525131, 1.3272816572811181, 0.9641613696033847, 1.0351188803977998, 0.7523574359092837, -0.08234499129197077, -0.43717706866405887, 1.1601515432985665, -0.5526689647969686, 0.7509740048177651, 0.27402019924238286, 0.7684338000320895, -1.0774412859096918, -2.158782081147689, 0.6228680278276605, -1.4619809072135606, -2.351284827931384, -0.36035854063131767, 1.5433883055746351, 0.611161533590583, 0.40126658500000917, 0.432320337391507, 0.05165221386738992, 0.7266281491464596, -1.5253604789419755, -0.8028686711450908, 1.3187931284966241, -0.5975997233571111, 0.238360495263982, -1.0803828111948988, 1.2501965937113815], \"xaxis\": \"x14\", \"y\": [-1.2276827666294137, 1.0081521786625394, -0.5074264826440039, -0.19631739000388773, 2.1415274347182964, 0.11904785476621113, 0.23946707643818188, 0.37908458450735394, 0.6725231384612813, -0.8211976368443139, 0.7494841941503361, 0.034781099386621744, -1.3398185164428509, -0.069572256892427, 0.41931356889731375, -0.8167788014535204, -1.2373976906340687, -0.1840954546341901, 0.0035607323517076648, -0.041196684241796795, -0.03473722076730505, -0.0018397056125259573, -0.3708078187451696, 0.5205572617589022, 0.0452824329967141, 1.0102919240344248, -1.1258776608819696, -0.7168342966408033, 0.6155164779674744, 1.6784588555522606, 1.1753205450072943, 0.014384224900247785, 0.6220293945296994, -0.2644826309043893, -1.966326671231066, -0.015666796938935065, 1.3138939598063901, -0.012782967793383507, 0.0029353541641902407, -0.5170773449665355, 1.0336403836047219, 1.2007045536411687, 0.027906920022602453, -0.32524379048054103, -1.7518527615937811, 0.5084098807242259, 0.348801529373511, 0.1632132673505855, -0.5266716391028633, 0.4672417584138413, 0.3308712594301862, 0.43524231033923944, 0.1722997203653605, 0.2958770095603323, -1.6846434422982581, 0.7466252788358413, -0.7772942870105266, 0.338214924338623, 0.9244376844559865, -1.0974683044436226, -0.9132866699195714, -0.21537440461306412, -0.5527481296937405, -0.5828651087562331, -0.06174286500123566, -0.686792721448157, -0.12886335689312195, -0.16420664628629053, 0.8766901891456867, 1.7617111357354525, 0.1827306553874836, 0.02782293765674249, -0.5806501251417746, 0.6673057789106808, -0.40287164126044306, 0.33709890343606297, 0.3359252304949588, 0.08344176618634161, -1.5363505337627845, -0.9079481054942306, 0.750905764361586, -0.10883531168870954, -0.7234321550121003, 0.752643964995895, -1.543376489389946, -0.9203526363133234, 0.42202239030579747, 2.8139745801628533, -0.5441279446897327, -1.1620867247042457, -0.943020276323677, 0.9067256718207556, -0.6956911248289205, 0.9083268430325101, -0.8093990390983988, 0.39526663463845807, -1.5080605916891274, 0.5915062777905455, 0.45459959621494966, -1.290777233120657], \"yaxis\": \"y14\"}, {\"line\": {\"color\": \"rgba(128, 128, 128, 1.0)\", \"dash\": \"solid\", \"shape\": \"linear\", \"width\": 1.3}, \"marker\": {\"size\": 2, \"symbol\": \"circle\"}, \"mode\": \"markers\", \"name\": \"D\", \"text\": \"\", \"type\": \"scatter\", \"x\": [-0.9289553735321145, -3.29185578905007, 0.6141311655471734, -1.3279654686462936, -0.9330755405301372, -0.13572951607500175, -0.1558399731911225, 0.2562172935610255, -1.1550179645829468, 1.133701737589356, 0.5602961037020913, -0.2058384517520784, 1.5715038418375586, -0.7828567782123235, 0.6850043273904133, 2.204073042744001, 2.07975076431608, -1.0392898689716727, -0.7996953898361792, 0.07820140689226711, 1.0753792703079366, 1.23073652415559, 0.37576849472620666, -1.704312176087002, 0.46855834965098864, -0.038494063834664, -1.5206010064061906, -0.6443983946167495, 0.46212281535437416, -0.5720314045038454, 0.628361267113081, 0.4118433577913778, -0.6537933417475408, -0.217973511529981, 1.4250444252250918, 1.2901404209885001, 0.12709267205722835, 1.8153488317774, 0.6590271323537336, 1.5878240611462506, 1.1759772042114245, -0.08620840466405229, 0.3736929842944326, -1.1070026588066593, -0.9689529361661915, -0.1313885271389684, 2.6162110696415923, 0.6077468827653002, 1.5819722537455785, 0.3168357811771449, 0.5166233815916088, -0.3904970470253944, 0.8966415053544944, 2.2548384083273225, -0.7361160160418321, -0.9929759828317783, -1.2733419005820379, 1.2896761577237899, 1.0013031805323842, -0.3458133403722976, 0.20285737608510637, 0.3627025307902813, 0.32772115687956177, 0.08071273087746433, 1.083556238859063, 0.26233474596948775, -0.1468439454866668, 1.6389197921341037, 0.7840215019259638, -0.10704043977879389, -0.03959077604699771, -0.8345086098492591, -0.2613468571089336, 1.8869726033489433, 0.36514136983338324, -0.8199316884247727, 0.3362582147997106, 0.02104307222962485, 0.2261683930226166, 0.8922721913588897, -1.0955491455925161, 0.1777970289425649, 1.8635009920304269, -1.5831282633220047, -0.03669126310767968, 0.5901549161922415, -1.1927292624064005, -1.3427909329462622, 0.6797640018201362, 0.5878759139859725, -1.5594604092917315, -0.898550013149892, 2.1149119380876336, -1.2258059010951654, -1.8047329306685895, 0.732050971212458, 0.6599757625488231, 0.21932400053658035, 0.2921775958716824, -0.9570268392633724], \"xaxis\": \"x15\", \"y\": [-1.2276827666294137, 1.0081521786625394, -0.5074264826440039, -0.19631739000388773, 2.1415274347182964, 0.11904785476621113, 0.23946707643818188, 0.37908458450735394, 0.6725231384612813, -0.8211976368443139, 0.7494841941503361, 0.034781099386621744, -1.3398185164428509, -0.069572256892427, 0.41931356889731375, -0.8167788014535204, -1.2373976906340687, -0.1840954546341901, 0.0035607323517076648, -0.041196684241796795, -0.03473722076730505, -0.0018397056125259573, -0.3708078187451696, 0.5205572617589022, 0.0452824329967141, 1.0102919240344248, -1.1258776608819696, -0.7168342966408033, 0.6155164779674744, 1.6784588555522606, 1.1753205450072943, 0.014384224900247785, 0.6220293945296994, -0.2644826309043893, -1.966326671231066, -0.015666796938935065, 1.3138939598063901, -0.012782967793383507, 0.0029353541641902407, -0.5170773449665355, 1.0336403836047219, 1.2007045536411687, 0.027906920022602453, -0.32524379048054103, -1.7518527615937811, 0.5084098807242259, 0.348801529373511, 0.1632132673505855, -0.5266716391028633, 0.4672417584138413, 0.3308712594301862, 0.43524231033923944, 0.1722997203653605, 0.2958770095603323, -1.6846434422982581, 0.7466252788358413, -0.7772942870105266, 0.338214924338623, 0.9244376844559865, -1.0974683044436226, -0.9132866699195714, -0.21537440461306412, -0.5527481296937405, -0.5828651087562331, -0.06174286500123566, -0.686792721448157, -0.12886335689312195, -0.16420664628629053, 0.8766901891456867, 1.7617111357354525, 0.1827306553874836, 0.02782293765674249, -0.5806501251417746, 0.6673057789106808, -0.40287164126044306, 0.33709890343606297, 0.3359252304949588, 0.08344176618634161, -1.5363505337627845, -0.9079481054942306, 0.750905764361586, -0.10883531168870954, -0.7234321550121003, 0.752643964995895, -1.543376489389946, -0.9203526363133234, 0.42202239030579747, 2.8139745801628533, -0.5441279446897327, -1.1620867247042457, -0.943020276323677, 0.9067256718207556, -0.6956911248289205, 0.9083268430325101, -0.8093990390983988, 0.39526663463845807, -1.5080605916891274, 0.5915062777905455, 0.45459959621494966, -1.290777233120657], \"yaxis\": \"y15\"}, {\"histfunc\": \"count\", \"histnorm\": \"\", \"marker\": {\"color\": \"rgba(128, 0, 128, 1.0)\", \"line\": {\"color\": \"#4D5663\", \"width\": 1.3}}, \"name\": \"D\", \"nbinsx\": 10, \"opacity\": 0.8, \"orientation\": \"v\", \"type\": \"histogram\", \"x\": [-1.2276827666294137, 1.0081521786625394, -0.5074264826440039, -0.19631739000388773, 2.1415274347182964, 0.11904785476621113, 0.23946707643818188, 0.37908458450735394, 0.6725231384612813, -0.8211976368443139, 0.7494841941503361, 0.034781099386621744, -1.3398185164428509, -0.069572256892427, 0.41931356889731375, -0.8167788014535204, -1.2373976906340687, -0.1840954546341901, 0.0035607323517076648, -0.041196684241796795, -0.03473722076730505, -0.0018397056125259573, -0.3708078187451696, 0.5205572617589022, 0.0452824329967141, 1.0102919240344248, -1.1258776608819696, -0.7168342966408033, 0.6155164779674744, 1.6784588555522606, 1.1753205450072943, 0.014384224900247785, 0.6220293945296994, -0.2644826309043893, -1.966326671231066, -0.015666796938935065, 1.3138939598063901, -0.012782967793383507, 0.0029353541641902407, -0.5170773449665355, 1.0336403836047219, 1.2007045536411687, 0.027906920022602453, -0.32524379048054103, -1.7518527615937811, 0.5084098807242259, 0.348801529373511, 0.1632132673505855, -0.5266716391028633, 0.4672417584138413, 0.3308712594301862, 0.43524231033923944, 0.1722997203653605, 0.2958770095603323, -1.6846434422982581, 0.7466252788358413, -0.7772942870105266, 0.338214924338623, 0.9244376844559865, -1.0974683044436226, -0.9132866699195714, -0.21537440461306412, -0.5527481296937405, -0.5828651087562331, -0.06174286500123566, -0.686792721448157, -0.12886335689312195, -0.16420664628629053, 0.8766901891456867, 1.7617111357354525, 0.1827306553874836, 0.02782293765674249, -0.5806501251417746, 0.6673057789106808, -0.40287164126044306, 0.33709890343606297, 0.3359252304949588, 0.08344176618634161, -1.5363505337627845, -0.9079481054942306, 0.750905764361586, -0.10883531168870954, -0.7234321550121003, 0.752643964995895, -1.543376489389946, -0.9203526363133234, 0.42202239030579747, 2.8139745801628533, -0.5441279446897327, -1.1620867247042457, -0.943020276323677, 0.9067256718207556, -0.6956911248289205, 0.9083268430325101, -0.8093990390983988, 0.39526663463845807, -1.5080605916891274, 0.5915062777905455, 0.45459959621494966, -1.290777233120657], \"xaxis\": \"x16\", \"yaxis\": \"y16\"}],                        {\"bargap\": 0.02, \"legend\": {\"bgcolor\": \"#F5F6F9\", \"font\": {\"color\": \"#4D5663\"}}, \"paper_bgcolor\": \"#F5F6F9\", \"plot_bgcolor\": \"#F5F6F9\", \"showlegend\": false, \"template\": {\"data\": {\"bar\": [{\"error_x\": {\"color\": \"#2a3f5f\"}, \"error_y\": {\"color\": \"#2a3f5f\"}, \"marker\": {\"line\": {\"color\": \"#E5ECF6\", \"width\": 0.5}}, \"type\": \"bar\"}], \"barpolar\": [{\"marker\": {\"line\": {\"color\": \"#E5ECF6\", \"width\": 0.5}}, \"type\": \"barpolar\"}], \"carpet\": [{\"aaxis\": {\"endlinecolor\": \"#2a3f5f\", \"gridcolor\": \"white\", \"linecolor\": \"white\", \"minorgridcolor\": \"white\", \"startlinecolor\": \"#2a3f5f\"}, \"baxis\": {\"endlinecolor\": \"#2a3f5f\", \"gridcolor\": \"white\", \"linecolor\": \"white\", \"minorgridcolor\": \"white\", \"startlinecolor\": \"#2a3f5f\"}, \"type\": \"carpet\"}], \"choropleth\": [{\"colorbar\": {\"outlinewidth\": 0, \"ticks\": \"\"}, \"type\": \"choropleth\"}], \"contour\": [{\"colorbar\": {\"outlinewidth\": 0, \"ticks\": \"\"}, \"colorscale\": [[0.0, \"#0d0887\"], [0.1111111111111111, \"#46039f\"], [0.2222222222222222, \"#7201a8\"], [0.3333333333333333, \"#9c179e\"], [0.4444444444444444, \"#bd3786\"], [0.5555555555555556, \"#d8576b\"], [0.6666666666666666, \"#ed7953\"], [0.7777777777777778, \"#fb9f3a\"], [0.8888888888888888, \"#fdca26\"], [1.0, \"#f0f921\"]], \"type\": \"contour\"}], \"contourcarpet\": [{\"colorbar\": {\"outlinewidth\": 0, \"ticks\": \"\"}, \"type\": \"contourcarpet\"}], \"heatmap\": [{\"colorbar\": {\"outlinewidth\": 0, \"ticks\": \"\"}, \"colorscale\": [[0.0, \"#0d0887\"], [0.1111111111111111, \"#46039f\"], [0.2222222222222222, \"#7201a8\"], [0.3333333333333333, \"#9c179e\"], [0.4444444444444444, \"#bd3786\"], [0.5555555555555556, \"#d8576b\"], [0.6666666666666666, \"#ed7953\"], [0.7777777777777778, \"#fb9f3a\"], [0.8888888888888888, \"#fdca26\"], [1.0, \"#f0f921\"]], \"type\": \"heatmap\"}], \"heatmapgl\": [{\"colorbar\": {\"outlinewidth\": 0, \"ticks\": \"\"}, \"colorscale\": [[0.0, \"#0d0887\"], [0.1111111111111111, \"#46039f\"], [0.2222222222222222, \"#7201a8\"], [0.3333333333333333, \"#9c179e\"], [0.4444444444444444, \"#bd3786\"], [0.5555555555555556, \"#d8576b\"], [0.6666666666666666, \"#ed7953\"], [0.7777777777777778, \"#fb9f3a\"], [0.8888888888888888, \"#fdca26\"], [1.0, \"#f0f921\"]], \"type\": \"heatmapgl\"}], \"histogram\": [{\"marker\": {\"colorbar\": {\"outlinewidth\": 0, \"ticks\": \"\"}}, \"type\": \"histogram\"}], \"histogram2d\": [{\"colorbar\": {\"outlinewidth\": 0, \"ticks\": \"\"}, \"colorscale\": [[0.0, \"#0d0887\"], [0.1111111111111111, \"#46039f\"], [0.2222222222222222, \"#7201a8\"], [0.3333333333333333, \"#9c179e\"], [0.4444444444444444, \"#bd3786\"], [0.5555555555555556, \"#d8576b\"], [0.6666666666666666, \"#ed7953\"], [0.7777777777777778, \"#fb9f3a\"], [0.8888888888888888, \"#fdca26\"], [1.0, \"#f0f921\"]], \"type\": \"histogram2d\"}], \"histogram2dcontour\": [{\"colorbar\": {\"outlinewidth\": 0, \"ticks\": \"\"}, \"colorscale\": [[0.0, \"#0d0887\"], [0.1111111111111111, \"#46039f\"], [0.2222222222222222, \"#7201a8\"], [0.3333333333333333, \"#9c179e\"], [0.4444444444444444, \"#bd3786\"], [0.5555555555555556, \"#d8576b\"], [0.6666666666666666, \"#ed7953\"], [0.7777777777777778, \"#fb9f3a\"], [0.8888888888888888, \"#fdca26\"], [1.0, \"#f0f921\"]], \"type\": \"histogram2dcontour\"}], \"mesh3d\": [{\"colorbar\": {\"outlinewidth\": 0, \"ticks\": \"\"}, \"type\": \"mesh3d\"}], \"parcoords\": [{\"line\": {\"colorbar\": {\"outlinewidth\": 0, \"ticks\": \"\"}}, \"type\": \"parcoords\"}], \"pie\": [{\"automargin\": true, \"type\": \"pie\"}], \"scatter\": [{\"marker\": {\"colorbar\": {\"outlinewidth\": 0, \"ticks\": \"\"}}, \"type\": \"scatter\"}], \"scatter3d\": [{\"line\": {\"colorbar\": {\"outlinewidth\": 0, \"ticks\": \"\"}}, \"marker\": {\"colorbar\": {\"outlinewidth\": 0, \"ticks\": \"\"}}, \"type\": \"scatter3d\"}], \"scattercarpet\": [{\"marker\": {\"colorbar\": {\"outlinewidth\": 0, \"ticks\": \"\"}}, \"type\": \"scattercarpet\"}], \"scattergeo\": [{\"marker\": {\"colorbar\": {\"outlinewidth\": 0, \"ticks\": \"\"}}, \"type\": \"scattergeo\"}], \"scattergl\": [{\"marker\": {\"colorbar\": {\"outlinewidth\": 0, \"ticks\": \"\"}}, \"type\": \"scattergl\"}], \"scattermapbox\": [{\"marker\": {\"colorbar\": {\"outlinewidth\": 0, \"ticks\": \"\"}}, \"type\": \"scattermapbox\"}], \"scatterpolar\": [{\"marker\": {\"colorbar\": {\"outlinewidth\": 0, \"ticks\": \"\"}}, \"type\": \"scatterpolar\"}], \"scatterpolargl\": [{\"marker\": {\"colorbar\": {\"outlinewidth\": 0, \"ticks\": \"\"}}, \"type\": \"scatterpolargl\"}], \"scatterternary\": [{\"marker\": {\"colorbar\": {\"outlinewidth\": 0, \"ticks\": \"\"}}, \"type\": \"scatterternary\"}], \"surface\": [{\"colorbar\": {\"outlinewidth\": 0, \"ticks\": \"\"}, \"colorscale\": [[0.0, \"#0d0887\"], [0.1111111111111111, \"#46039f\"], [0.2222222222222222, \"#7201a8\"], [0.3333333333333333, \"#9c179e\"], [0.4444444444444444, \"#bd3786\"], [0.5555555555555556, \"#d8576b\"], [0.6666666666666666, \"#ed7953\"], [0.7777777777777778, \"#fb9f3a\"], [0.8888888888888888, \"#fdca26\"], [1.0, \"#f0f921\"]], \"type\": \"surface\"}], \"table\": [{\"cells\": {\"fill\": {\"color\": \"#EBF0F8\"}, \"line\": {\"color\": \"white\"}}, \"header\": {\"fill\": {\"color\": \"#C8D4E3\"}, \"line\": {\"color\": \"white\"}}, \"type\": \"table\"}]}, \"layout\": {\"annotationdefaults\": {\"arrowcolor\": \"#2a3f5f\", \"arrowhead\": 0, \"arrowwidth\": 1}, \"coloraxis\": {\"colorbar\": {\"outlinewidth\": 0, \"ticks\": \"\"}}, \"colorscale\": {\"diverging\": [[0, \"#8e0152\"], [0.1, \"#c51b7d\"], [0.2, \"#de77ae\"], [0.3, \"#f1b6da\"], [0.4, \"#fde0ef\"], [0.5, \"#f7f7f7\"], [0.6, \"#e6f5d0\"], [0.7, \"#b8e186\"], [0.8, \"#7fbc41\"], [0.9, \"#4d9221\"], [1, \"#276419\"]], \"sequential\": [[0.0, \"#0d0887\"], [0.1111111111111111, \"#46039f\"], [0.2222222222222222, \"#7201a8\"], [0.3333333333333333, \"#9c179e\"], [0.4444444444444444, \"#bd3786\"], [0.5555555555555556, \"#d8576b\"], [0.6666666666666666, \"#ed7953\"], [0.7777777777777778, \"#fb9f3a\"], [0.8888888888888888, \"#fdca26\"], [1.0, \"#f0f921\"]], \"sequentialminus\": [[0.0, \"#0d0887\"], [0.1111111111111111, \"#46039f\"], [0.2222222222222222, \"#7201a8\"], [0.3333333333333333, \"#9c179e\"], [0.4444444444444444, \"#bd3786\"], [0.5555555555555556, \"#d8576b\"], [0.6666666666666666, \"#ed7953\"], [0.7777777777777778, \"#fb9f3a\"], [0.8888888888888888, \"#fdca26\"], [1.0, \"#f0f921\"]]}, \"colorway\": [\"#636efa\", \"#EF553B\", \"#00cc96\", \"#ab63fa\", \"#FFA15A\", \"#19d3f3\", \"#FF6692\", \"#B6E880\", \"#FF97FF\", \"#FECB52\"], \"font\": {\"color\": \"#2a3f5f\"}, \"geo\": {\"bgcolor\": \"white\", \"lakecolor\": \"white\", \"landcolor\": \"#E5ECF6\", \"showlakes\": true, \"showland\": true, \"subunitcolor\": \"white\"}, \"hoverlabel\": {\"align\": \"left\"}, \"hovermode\": \"closest\", \"mapbox\": {\"style\": \"light\"}, \"paper_bgcolor\": \"white\", \"plot_bgcolor\": \"#E5ECF6\", \"polar\": {\"angularaxis\": {\"gridcolor\": \"white\", \"linecolor\": \"white\", \"ticks\": \"\"}, \"bgcolor\": \"#E5ECF6\", \"radialaxis\": {\"gridcolor\": \"white\", \"linecolor\": \"white\", \"ticks\": \"\"}}, \"scene\": {\"xaxis\": {\"backgroundcolor\": \"#E5ECF6\", \"gridcolor\": \"white\", \"gridwidth\": 2, \"linecolor\": \"white\", \"showbackground\": true, \"ticks\": \"\", \"zerolinecolor\": \"white\"}, \"yaxis\": {\"backgroundcolor\": \"#E5ECF6\", \"gridcolor\": \"white\", \"gridwidth\": 2, \"linecolor\": \"white\", \"showbackground\": true, \"ticks\": \"\", \"zerolinecolor\": \"white\"}, \"zaxis\": {\"backgroundcolor\": \"#E5ECF6\", \"gridcolor\": \"white\", \"gridwidth\": 2, \"linecolor\": \"white\", \"showbackground\": true, \"ticks\": \"\", \"zerolinecolor\": \"white\"}}, \"shapedefaults\": {\"line\": {\"color\": \"#2a3f5f\"}}, \"ternary\": {\"aaxis\": {\"gridcolor\": \"white\", \"linecolor\": \"white\", \"ticks\": \"\"}, \"baxis\": {\"gridcolor\": \"white\", \"linecolor\": \"white\", \"ticks\": \"\"}, \"bgcolor\": \"#E5ECF6\", \"caxis\": {\"gridcolor\": \"white\", \"linecolor\": \"white\", \"ticks\": \"\"}}, \"title\": {\"x\": 0.05}, \"xaxis\": {\"automargin\": true, \"gridcolor\": \"white\", \"linecolor\": \"white\", \"ticks\": \"\", \"title\": {\"standoff\": 15}, \"zerolinecolor\": \"white\", \"zerolinewidth\": 2}, \"yaxis\": {\"automargin\": true, \"gridcolor\": \"white\", \"linecolor\": \"white\", \"ticks\": \"\", \"title\": {\"standoff\": 15}, \"zerolinecolor\": \"white\", \"zerolinewidth\": 2}}}, \"title\": {\"font\": {\"color\": \"#4D5663\"}}, \"xaxis\": {\"anchor\": \"y\", \"domain\": [0.0, 0.2125], \"gridcolor\": \"#E1E5ED\", \"showgrid\": false, \"tickfont\": {\"color\": \"#4D5663\"}, \"title\": {\"font\": {\"color\": \"#4D5663\"}, \"text\": \"\"}, \"zerolinecolor\": \"#E1E5ED\"}, \"xaxis10\": {\"anchor\": \"y10\", \"domain\": [0.2625, 0.475], \"gridcolor\": \"#E1E5ED\", \"showgrid\": false, \"tickfont\": {\"color\": \"#4D5663\"}, \"title\": {\"font\": {\"color\": \"#4D5663\"}, \"text\": \"\"}, \"zerolinecolor\": \"#E1E5ED\"}, \"xaxis11\": {\"anchor\": \"y11\", \"domain\": [0.525, 0.7375], \"gridcolor\": \"#E1E5ED\", \"showgrid\": false, \"tickfont\": {\"color\": \"#4D5663\"}, \"title\": {\"font\": {\"color\": \"#4D5663\"}, \"text\": \"\"}, \"zerolinecolor\": \"#E1E5ED\"}, \"xaxis12\": {\"anchor\": \"y12\", \"domain\": [0.7875, 1.0], \"gridcolor\": \"#E1E5ED\", \"showgrid\": false, \"tickfont\": {\"color\": \"#4D5663\"}, \"title\": {\"font\": {\"color\": \"#4D5663\"}, \"text\": \"\"}, \"zerolinecolor\": \"#E1E5ED\"}, \"xaxis13\": {\"anchor\": \"y13\", \"domain\": [0.0, 0.2125], \"gridcolor\": \"#E1E5ED\", \"showgrid\": false, \"tickfont\": {\"color\": \"#4D5663\"}, \"title\": {\"font\": {\"color\": \"#4D5663\"}, \"text\": \"\"}, \"zerolinecolor\": \"#E1E5ED\"}, \"xaxis14\": {\"anchor\": \"y14\", \"domain\": [0.2625, 0.475], \"gridcolor\": \"#E1E5ED\", \"showgrid\": false, \"tickfont\": {\"color\": \"#4D5663\"}, \"title\": {\"font\": {\"color\": \"#4D5663\"}, \"text\": \"\"}, \"zerolinecolor\": \"#E1E5ED\"}, \"xaxis15\": {\"anchor\": \"y15\", \"domain\": [0.525, 0.7375], \"gridcolor\": \"#E1E5ED\", \"showgrid\": false, \"tickfont\": {\"color\": \"#4D5663\"}, \"title\": {\"font\": {\"color\": \"#4D5663\"}, \"text\": \"\"}, \"zerolinecolor\": \"#E1E5ED\"}, \"xaxis16\": {\"anchor\": \"y16\", \"domain\": [0.7875, 1.0], \"gridcolor\": \"#E1E5ED\", \"showgrid\": false, \"tickfont\": {\"color\": \"#4D5663\"}, \"title\": {\"font\": {\"color\": \"#4D5663\"}, \"text\": \"\"}, \"zerolinecolor\": \"#E1E5ED\"}, \"xaxis2\": {\"anchor\": \"y2\", \"domain\": [0.2625, 0.475], \"gridcolor\": \"#E1E5ED\", \"showgrid\": false, \"tickfont\": {\"color\": \"#4D5663\"}, \"title\": {\"font\": {\"color\": \"#4D5663\"}, \"text\": \"\"}, \"zerolinecolor\": \"#E1E5ED\"}, \"xaxis3\": {\"anchor\": \"y3\", \"domain\": [0.525, 0.7375], \"gridcolor\": \"#E1E5ED\", \"showgrid\": false, \"tickfont\": {\"color\": \"#4D5663\"}, \"title\": {\"font\": {\"color\": \"#4D5663\"}, \"text\": \"\"}, \"zerolinecolor\": \"#E1E5ED\"}, \"xaxis4\": {\"anchor\": \"y4\", \"domain\": [0.7875, 1.0], \"gridcolor\": \"#E1E5ED\", \"showgrid\": false, \"tickfont\": {\"color\": \"#4D5663\"}, \"title\": {\"font\": {\"color\": \"#4D5663\"}, \"text\": \"\"}, \"zerolinecolor\": \"#E1E5ED\"}, \"xaxis5\": {\"anchor\": \"y5\", \"domain\": [0.0, 0.2125], \"gridcolor\": \"#E1E5ED\", \"showgrid\": false, \"tickfont\": {\"color\": \"#4D5663\"}, \"title\": {\"font\": {\"color\": \"#4D5663\"}, \"text\": \"\"}, \"zerolinecolor\": \"#E1E5ED\"}, \"xaxis6\": {\"anchor\": \"y6\", \"domain\": [0.2625, 0.475], \"gridcolor\": \"#E1E5ED\", \"showgrid\": false, \"tickfont\": {\"color\": \"#4D5663\"}, \"title\": {\"font\": {\"color\": \"#4D5663\"}, \"text\": \"\"}, \"zerolinecolor\": \"#E1E5ED\"}, \"xaxis7\": {\"anchor\": \"y7\", \"domain\": [0.525, 0.7375], \"gridcolor\": \"#E1E5ED\", \"showgrid\": false, \"tickfont\": {\"color\": \"#4D5663\"}, \"title\": {\"font\": {\"color\": \"#4D5663\"}, \"text\": \"\"}, \"zerolinecolor\": \"#E1E5ED\"}, \"xaxis8\": {\"anchor\": \"y8\", \"domain\": [0.7875, 1.0], \"gridcolor\": \"#E1E5ED\", \"showgrid\": false, \"tickfont\": {\"color\": \"#4D5663\"}, \"title\": {\"font\": {\"color\": \"#4D5663\"}, \"text\": \"\"}, \"zerolinecolor\": \"#E1E5ED\"}, \"xaxis9\": {\"anchor\": \"y9\", \"domain\": [0.0, 0.2125], \"gridcolor\": \"#E1E5ED\", \"showgrid\": false, \"tickfont\": {\"color\": \"#4D5663\"}, \"title\": {\"font\": {\"color\": \"#4D5663\"}, \"text\": \"\"}, \"zerolinecolor\": \"#E1E5ED\"}, \"yaxis\": {\"anchor\": \"x\", \"domain\": [0.8025, 1.0], \"gridcolor\": \"#E1E5ED\", \"showgrid\": false, \"tickfont\": {\"color\": \"#4D5663\"}, \"title\": {\"font\": {\"color\": \"#4D5663\"}, \"text\": \"\"}, \"zerolinecolor\": \"#E1E5ED\"}, \"yaxis10\": {\"anchor\": \"x10\", \"domain\": [0.2675, 0.465], \"gridcolor\": \"#E1E5ED\", \"showgrid\": false, \"tickfont\": {\"color\": \"#4D5663\"}, \"title\": {\"font\": {\"color\": \"#4D5663\"}, \"text\": \"\"}, \"zerolinecolor\": \"#E1E5ED\"}, \"yaxis11\": {\"anchor\": \"x11\", \"domain\": [0.2675, 0.465], \"gridcolor\": \"#E1E5ED\", \"showgrid\": false, \"tickfont\": {\"color\": \"#4D5663\"}, \"title\": {\"font\": {\"color\": \"#4D5663\"}, \"text\": \"\"}, \"zerolinecolor\": \"#E1E5ED\"}, \"yaxis12\": {\"anchor\": \"x12\", \"domain\": [0.2675, 0.465], \"gridcolor\": \"#E1E5ED\", \"showgrid\": false, \"tickfont\": {\"color\": \"#4D5663\"}, \"title\": {\"font\": {\"color\": \"#4D5663\"}, \"text\": \"\"}, \"zerolinecolor\": \"#E1E5ED\"}, \"yaxis13\": {\"anchor\": \"x13\", \"domain\": [0.0, 0.1975], \"gridcolor\": \"#E1E5ED\", \"showgrid\": false, \"tickfont\": {\"color\": \"#4D5663\"}, \"title\": {\"font\": {\"color\": \"#4D5663\"}, \"text\": \"\"}, \"zerolinecolor\": \"#E1E5ED\"}, \"yaxis14\": {\"anchor\": \"x14\", \"domain\": [0.0, 0.1975], \"gridcolor\": \"#E1E5ED\", \"showgrid\": false, \"tickfont\": {\"color\": \"#4D5663\"}, \"title\": {\"font\": {\"color\": \"#4D5663\"}, \"text\": \"\"}, \"zerolinecolor\": \"#E1E5ED\"}, \"yaxis15\": {\"anchor\": \"x15\", \"domain\": [0.0, 0.1975], \"gridcolor\": \"#E1E5ED\", \"showgrid\": false, \"tickfont\": {\"color\": \"#4D5663\"}, \"title\": {\"font\": {\"color\": \"#4D5663\"}, \"text\": \"\"}, \"zerolinecolor\": \"#E1E5ED\"}, \"yaxis16\": {\"anchor\": \"x16\", \"domain\": [0.0, 0.1975], \"gridcolor\": \"#E1E5ED\", \"showgrid\": false, \"tickfont\": {\"color\": \"#4D5663\"}, \"title\": {\"font\": {\"color\": \"#4D5663\"}, \"text\": \"\"}, \"zerolinecolor\": \"#E1E5ED\"}, \"yaxis2\": {\"anchor\": \"x2\", \"domain\": [0.8025, 1.0], \"gridcolor\": \"#E1E5ED\", \"showgrid\": false, \"tickfont\": {\"color\": \"#4D5663\"}, \"title\": {\"font\": {\"color\": \"#4D5663\"}, \"text\": \"\"}, \"zerolinecolor\": \"#E1E5ED\"}, \"yaxis3\": {\"anchor\": \"x3\", \"domain\": [0.8025, 1.0], \"gridcolor\": \"#E1E5ED\", \"showgrid\": false, \"tickfont\": {\"color\": \"#4D5663\"}, \"title\": {\"font\": {\"color\": \"#4D5663\"}, \"text\": \"\"}, \"zerolinecolor\": \"#E1E5ED\"}, \"yaxis4\": {\"anchor\": \"x4\", \"domain\": [0.8025, 1.0], \"gridcolor\": \"#E1E5ED\", \"showgrid\": false, \"tickfont\": {\"color\": \"#4D5663\"}, \"title\": {\"font\": {\"color\": \"#4D5663\"}, \"text\": \"\"}, \"zerolinecolor\": \"#E1E5ED\"}, \"yaxis5\": {\"anchor\": \"x5\", \"domain\": [0.535, 0.7325], \"gridcolor\": \"#E1E5ED\", \"showgrid\": false, \"tickfont\": {\"color\": \"#4D5663\"}, \"title\": {\"font\": {\"color\": \"#4D5663\"}, \"text\": \"\"}, \"zerolinecolor\": \"#E1E5ED\"}, \"yaxis6\": {\"anchor\": \"x6\", \"domain\": [0.535, 0.7325], \"gridcolor\": \"#E1E5ED\", \"showgrid\": false, \"tickfont\": {\"color\": \"#4D5663\"}, \"title\": {\"font\": {\"color\": \"#4D5663\"}, \"text\": \"\"}, \"zerolinecolor\": \"#E1E5ED\"}, \"yaxis7\": {\"anchor\": \"x7\", \"domain\": [0.535, 0.7325], \"gridcolor\": \"#E1E5ED\", \"showgrid\": false, \"tickfont\": {\"color\": \"#4D5663\"}, \"title\": {\"font\": {\"color\": \"#4D5663\"}, \"text\": \"\"}, \"zerolinecolor\": \"#E1E5ED\"}, \"yaxis8\": {\"anchor\": \"x8\", \"domain\": [0.535, 0.7325], \"gridcolor\": \"#E1E5ED\", \"showgrid\": false, \"tickfont\": {\"color\": \"#4D5663\"}, \"title\": {\"font\": {\"color\": \"#4D5663\"}, \"text\": \"\"}, \"zerolinecolor\": \"#E1E5ED\"}, \"yaxis9\": {\"anchor\": \"x9\", \"domain\": [0.2675, 0.465], \"gridcolor\": \"#E1E5ED\", \"showgrid\": false, \"tickfont\": {\"color\": \"#4D5663\"}, \"title\": {\"font\": {\"color\": \"#4D5663\"}, \"text\": \"\"}, \"zerolinecolor\": \"#E1E5ED\"}},                        {\"showLink\": true, \"linkText\": \"Export to plot.ly\", \"plotlyServerURL\": \"https://plot.ly\", \"responsive\": true}                    ).then(function(){\n",
       "                            \n",
       "var gd = document.getElementById('dc146947-46c7-4cc7-b0b8-4b72b080be64');\n",
       "var x = new MutationObserver(function (mutations, observer) {{\n",
       "        var display = window.getComputedStyle(gd).display;\n",
       "        if (!display || display === 'none') {{\n",
       "            console.log([gd, 'removed!']);\n",
       "            Plotly.purge(gd);\n",
       "            observer.disconnect();\n",
       "        }}\n",
       "}});\n",
       "\n",
       "// Listen for the removal of the full notebook cells\n",
       "var notebookContainer = gd.closest('#notebook-container');\n",
       "if (notebookContainer) {{\n",
       "    x.observe(notebookContainer, {childList: true});\n",
       "}}\n",
       "\n",
       "// Listen for the clearing of the current output cell\n",
       "var outputEl = gd.closest('.output');\n",
       "if (outputEl) {{\n",
       "    x.observe(outputEl, {childList: true});\n",
       "}}\n",
       "\n",
       "                        })                };                });            </script>        </div>"
      ]
     },
     "metadata": {},
     "output_type": "display_data"
    }
   ],
   "source": [
    "fake_df.scatter_matrix()"
   ]
  },
  {
   "cell_type": "markdown",
   "metadata": {},
   "source": [
    "# Excellent Job!"
   ]
  },
  {
   "cell_type": "code",
   "execution_count": 20,
   "metadata": {},
   "outputs": [],
   "source": [
    "import plotly.graph_objs as go\n",
    "from plotly.offline import download_plotlyjs, init_notebook_mode, plot, iplot"
   ]
  },
  {
   "cell_type": "markdown",
   "metadata": {},
   "source": [
    "Now set up everything so that the figures show up in the notebok"
   ]
  },
  {
   "cell_type": "code",
   "execution_count": 21,
   "metadata": {},
   "outputs": [
    {
     "data": {
      "text/html": [
       "        <script type=\"text/javascript\">\n",
       "        window.PlotlyConfig = {MathJaxConfig: 'local'};\n",
       "        if (window.MathJax) {MathJax.Hub.Config({SVG: {font: \"STIX-Web\"}});}\n",
       "        if (typeof require !== 'undefined') {\n",
       "        require.undef(\"plotly\");\n",
       "        requirejs.config({\n",
       "            paths: {\n",
       "                'plotly': ['https://cdn.plot.ly/plotly-latest.min']\n",
       "            }\n",
       "        });\n",
       "        require(['plotly'], function(Plotly) {\n",
       "            window._Plotly = Plotly;\n",
       "        });\n",
       "        }\n",
       "        </script>\n",
       "        "
      ]
     },
     "metadata": {},
     "output_type": "display_data"
    }
   ],
   "source": [
    "init_notebook_mode(connected=True)"
   ]
  },
  {
   "cell_type": "code",
   "execution_count": 22,
   "metadata": {},
   "outputs": [],
   "source": [
    "data = dict(type='choropleth',\n",
    "           locations = ['AZ', 'CA', 'NY'],\n",
    "           locationmode = 'USA-states',\n",
    "           colorscale= 'Portland',\n",
    "           text=['text1', 'text2', 'text3'],\n",
    "           z=[1.0, 2.0,3.0],\n",
    "           colorbar = {'title':'Colorbar Title'})"
   ]
  },
  {
   "cell_type": "code",
   "execution_count": 23,
   "metadata": {},
   "outputs": [],
   "source": [
    "layout = dict(geo={'scope':'usa'})"
   ]
  },
  {
   "cell_type": "code",
   "execution_count": 24,
   "metadata": {},
   "outputs": [],
   "source": [
    "choromap = go.Figure(data = data, layout = layout)"
   ]
  },
  {
   "cell_type": "code",
   "execution_count": 25,
   "metadata": {},
   "outputs": [
    {
     "data": {
      "application/vnd.plotly.v1+json": {
       "config": {
        "linkText": "Export to plot.ly",
        "plotlyServerURL": "https://plot.ly",
        "showLink": false
       },
       "data": [
        {
         "colorbar": {
          "title": {
           "text": "Colorbar Title"
          }
         },
         "colorscale": [
          [
           0,
           "rgb(12,51,131)"
          ],
          [
           0.25,
           "rgb(10,136,186)"
          ],
          [
           0.5,
           "rgb(242,211,56)"
          ],
          [
           0.75,
           "rgb(242,143,56)"
          ],
          [
           1,
           "rgb(217,30,30)"
          ]
         ],
         "locationmode": "USA-states",
         "locations": [
          "AZ",
          "CA",
          "NY"
         ],
         "text": [
          "text1",
          "text2",
          "text3"
         ],
         "type": "choropleth",
         "z": [
          1,
          2,
          3
         ]
        }
       ],
       "layout": {
        "geo": {
         "scope": "usa"
        },
        "template": {
         "data": {
          "bar": [
           {
            "error_x": {
             "color": "#2a3f5f"
            },
            "error_y": {
             "color": "#2a3f5f"
            },
            "marker": {
             "line": {
              "color": "#E5ECF6",
              "width": 0.5
             }
            },
            "type": "bar"
           }
          ],
          "barpolar": [
           {
            "marker": {
             "line": {
              "color": "#E5ECF6",
              "width": 0.5
             }
            },
            "type": "barpolar"
           }
          ],
          "carpet": [
           {
            "aaxis": {
             "endlinecolor": "#2a3f5f",
             "gridcolor": "white",
             "linecolor": "white",
             "minorgridcolor": "white",
             "startlinecolor": "#2a3f5f"
            },
            "baxis": {
             "endlinecolor": "#2a3f5f",
             "gridcolor": "white",
             "linecolor": "white",
             "minorgridcolor": "white",
             "startlinecolor": "#2a3f5f"
            },
            "type": "carpet"
           }
          ],
          "choropleth": [
           {
            "colorbar": {
             "outlinewidth": 0,
             "ticks": ""
            },
            "type": "choropleth"
           }
          ],
          "contour": [
           {
            "colorbar": {
             "outlinewidth": 0,
             "ticks": ""
            },
            "colorscale": [
             [
              0,
              "#0d0887"
             ],
             [
              0.1111111111111111,
              "#46039f"
             ],
             [
              0.2222222222222222,
              "#7201a8"
             ],
             [
              0.3333333333333333,
              "#9c179e"
             ],
             [
              0.4444444444444444,
              "#bd3786"
             ],
             [
              0.5555555555555556,
              "#d8576b"
             ],
             [
              0.6666666666666666,
              "#ed7953"
             ],
             [
              0.7777777777777778,
              "#fb9f3a"
             ],
             [
              0.8888888888888888,
              "#fdca26"
             ],
             [
              1,
              "#f0f921"
             ]
            ],
            "type": "contour"
           }
          ],
          "contourcarpet": [
           {
            "colorbar": {
             "outlinewidth": 0,
             "ticks": ""
            },
            "type": "contourcarpet"
           }
          ],
          "heatmap": [
           {
            "colorbar": {
             "outlinewidth": 0,
             "ticks": ""
            },
            "colorscale": [
             [
              0,
              "#0d0887"
             ],
             [
              0.1111111111111111,
              "#46039f"
             ],
             [
              0.2222222222222222,
              "#7201a8"
             ],
             [
              0.3333333333333333,
              "#9c179e"
             ],
             [
              0.4444444444444444,
              "#bd3786"
             ],
             [
              0.5555555555555556,
              "#d8576b"
             ],
             [
              0.6666666666666666,
              "#ed7953"
             ],
             [
              0.7777777777777778,
              "#fb9f3a"
             ],
             [
              0.8888888888888888,
              "#fdca26"
             ],
             [
              1,
              "#f0f921"
             ]
            ],
            "type": "heatmap"
           }
          ],
          "heatmapgl": [
           {
            "colorbar": {
             "outlinewidth": 0,
             "ticks": ""
            },
            "colorscale": [
             [
              0,
              "#0d0887"
             ],
             [
              0.1111111111111111,
              "#46039f"
             ],
             [
              0.2222222222222222,
              "#7201a8"
             ],
             [
              0.3333333333333333,
              "#9c179e"
             ],
             [
              0.4444444444444444,
              "#bd3786"
             ],
             [
              0.5555555555555556,
              "#d8576b"
             ],
             [
              0.6666666666666666,
              "#ed7953"
             ],
             [
              0.7777777777777778,
              "#fb9f3a"
             ],
             [
              0.8888888888888888,
              "#fdca26"
             ],
             [
              1,
              "#f0f921"
             ]
            ],
            "type": "heatmapgl"
           }
          ],
          "histogram": [
           {
            "marker": {
             "colorbar": {
              "outlinewidth": 0,
              "ticks": ""
             }
            },
            "type": "histogram"
           }
          ],
          "histogram2d": [
           {
            "colorbar": {
             "outlinewidth": 0,
             "ticks": ""
            },
            "colorscale": [
             [
              0,
              "#0d0887"
             ],
             [
              0.1111111111111111,
              "#46039f"
             ],
             [
              0.2222222222222222,
              "#7201a8"
             ],
             [
              0.3333333333333333,
              "#9c179e"
             ],
             [
              0.4444444444444444,
              "#bd3786"
             ],
             [
              0.5555555555555556,
              "#d8576b"
             ],
             [
              0.6666666666666666,
              "#ed7953"
             ],
             [
              0.7777777777777778,
              "#fb9f3a"
             ],
             [
              0.8888888888888888,
              "#fdca26"
             ],
             [
              1,
              "#f0f921"
             ]
            ],
            "type": "histogram2d"
           }
          ],
          "histogram2dcontour": [
           {
            "colorbar": {
             "outlinewidth": 0,
             "ticks": ""
            },
            "colorscale": [
             [
              0,
              "#0d0887"
             ],
             [
              0.1111111111111111,
              "#46039f"
             ],
             [
              0.2222222222222222,
              "#7201a8"
             ],
             [
              0.3333333333333333,
              "#9c179e"
             ],
             [
              0.4444444444444444,
              "#bd3786"
             ],
             [
              0.5555555555555556,
              "#d8576b"
             ],
             [
              0.6666666666666666,
              "#ed7953"
             ],
             [
              0.7777777777777778,
              "#fb9f3a"
             ],
             [
              0.8888888888888888,
              "#fdca26"
             ],
             [
              1,
              "#f0f921"
             ]
            ],
            "type": "histogram2dcontour"
           }
          ],
          "mesh3d": [
           {
            "colorbar": {
             "outlinewidth": 0,
             "ticks": ""
            },
            "type": "mesh3d"
           }
          ],
          "parcoords": [
           {
            "line": {
             "colorbar": {
              "outlinewidth": 0,
              "ticks": ""
             }
            },
            "type": "parcoords"
           }
          ],
          "pie": [
           {
            "automargin": true,
            "type": "pie"
           }
          ],
          "scatter": [
           {
            "marker": {
             "colorbar": {
              "outlinewidth": 0,
              "ticks": ""
             }
            },
            "type": "scatter"
           }
          ],
          "scatter3d": [
           {
            "line": {
             "colorbar": {
              "outlinewidth": 0,
              "ticks": ""
             }
            },
            "marker": {
             "colorbar": {
              "outlinewidth": 0,
              "ticks": ""
             }
            },
            "type": "scatter3d"
           }
          ],
          "scattercarpet": [
           {
            "marker": {
             "colorbar": {
              "outlinewidth": 0,
              "ticks": ""
             }
            },
            "type": "scattercarpet"
           }
          ],
          "scattergeo": [
           {
            "marker": {
             "colorbar": {
              "outlinewidth": 0,
              "ticks": ""
             }
            },
            "type": "scattergeo"
           }
          ],
          "scattergl": [
           {
            "marker": {
             "colorbar": {
              "outlinewidth": 0,
              "ticks": ""
             }
            },
            "type": "scattergl"
           }
          ],
          "scattermapbox": [
           {
            "marker": {
             "colorbar": {
              "outlinewidth": 0,
              "ticks": ""
             }
            },
            "type": "scattermapbox"
           }
          ],
          "scatterpolar": [
           {
            "marker": {
             "colorbar": {
              "outlinewidth": 0,
              "ticks": ""
             }
            },
            "type": "scatterpolar"
           }
          ],
          "scatterpolargl": [
           {
            "marker": {
             "colorbar": {
              "outlinewidth": 0,
              "ticks": ""
             }
            },
            "type": "scatterpolargl"
           }
          ],
          "scatterternary": [
           {
            "marker": {
             "colorbar": {
              "outlinewidth": 0,
              "ticks": ""
             }
            },
            "type": "scatterternary"
           }
          ],
          "surface": [
           {
            "colorbar": {
             "outlinewidth": 0,
             "ticks": ""
            },
            "colorscale": [
             [
              0,
              "#0d0887"
             ],
             [
              0.1111111111111111,
              "#46039f"
             ],
             [
              0.2222222222222222,
              "#7201a8"
             ],
             [
              0.3333333333333333,
              "#9c179e"
             ],
             [
              0.4444444444444444,
              "#bd3786"
             ],
             [
              0.5555555555555556,
              "#d8576b"
             ],
             [
              0.6666666666666666,
              "#ed7953"
             ],
             [
              0.7777777777777778,
              "#fb9f3a"
             ],
             [
              0.8888888888888888,
              "#fdca26"
             ],
             [
              1,
              "#f0f921"
             ]
            ],
            "type": "surface"
           }
          ],
          "table": [
           {
            "cells": {
             "fill": {
              "color": "#EBF0F8"
             },
             "line": {
              "color": "white"
             }
            },
            "header": {
             "fill": {
              "color": "#C8D4E3"
             },
             "line": {
              "color": "white"
             }
            },
            "type": "table"
           }
          ]
         },
         "layout": {
          "annotationdefaults": {
           "arrowcolor": "#2a3f5f",
           "arrowhead": 0,
           "arrowwidth": 1
          },
          "coloraxis": {
           "colorbar": {
            "outlinewidth": 0,
            "ticks": ""
           }
          },
          "colorscale": {
           "diverging": [
            [
             0,
             "#8e0152"
            ],
            [
             0.1,
             "#c51b7d"
            ],
            [
             0.2,
             "#de77ae"
            ],
            [
             0.3,
             "#f1b6da"
            ],
            [
             0.4,
             "#fde0ef"
            ],
            [
             0.5,
             "#f7f7f7"
            ],
            [
             0.6,
             "#e6f5d0"
            ],
            [
             0.7,
             "#b8e186"
            ],
            [
             0.8,
             "#7fbc41"
            ],
            [
             0.9,
             "#4d9221"
            ],
            [
             1,
             "#276419"
            ]
           ],
           "sequential": [
            [
             0,
             "#0d0887"
            ],
            [
             0.1111111111111111,
             "#46039f"
            ],
            [
             0.2222222222222222,
             "#7201a8"
            ],
            [
             0.3333333333333333,
             "#9c179e"
            ],
            [
             0.4444444444444444,
             "#bd3786"
            ],
            [
             0.5555555555555556,
             "#d8576b"
            ],
            [
             0.6666666666666666,
             "#ed7953"
            ],
            [
             0.7777777777777778,
             "#fb9f3a"
            ],
            [
             0.8888888888888888,
             "#fdca26"
            ],
            [
             1,
             "#f0f921"
            ]
           ],
           "sequentialminus": [
            [
             0,
             "#0d0887"
            ],
            [
             0.1111111111111111,
             "#46039f"
            ],
            [
             0.2222222222222222,
             "#7201a8"
            ],
            [
             0.3333333333333333,
             "#9c179e"
            ],
            [
             0.4444444444444444,
             "#bd3786"
            ],
            [
             0.5555555555555556,
             "#d8576b"
            ],
            [
             0.6666666666666666,
             "#ed7953"
            ],
            [
             0.7777777777777778,
             "#fb9f3a"
            ],
            [
             0.8888888888888888,
             "#fdca26"
            ],
            [
             1,
             "#f0f921"
            ]
           ]
          },
          "colorway": [
           "#636efa",
           "#EF553B",
           "#00cc96",
           "#ab63fa",
           "#FFA15A",
           "#19d3f3",
           "#FF6692",
           "#B6E880",
           "#FF97FF",
           "#FECB52"
          ],
          "font": {
           "color": "#2a3f5f"
          },
          "geo": {
           "bgcolor": "white",
           "lakecolor": "white",
           "landcolor": "#E5ECF6",
           "showlakes": true,
           "showland": true,
           "subunitcolor": "white"
          },
          "hoverlabel": {
           "align": "left"
          },
          "hovermode": "closest",
          "mapbox": {
           "style": "light"
          },
          "paper_bgcolor": "white",
          "plot_bgcolor": "#E5ECF6",
          "polar": {
           "angularaxis": {
            "gridcolor": "white",
            "linecolor": "white",
            "ticks": ""
           },
           "bgcolor": "#E5ECF6",
           "radialaxis": {
            "gridcolor": "white",
            "linecolor": "white",
            "ticks": ""
           }
          },
          "scene": {
           "xaxis": {
            "backgroundcolor": "#E5ECF6",
            "gridcolor": "white",
            "gridwidth": 2,
            "linecolor": "white",
            "showbackground": true,
            "ticks": "",
            "zerolinecolor": "white"
           },
           "yaxis": {
            "backgroundcolor": "#E5ECF6",
            "gridcolor": "white",
            "gridwidth": 2,
            "linecolor": "white",
            "showbackground": true,
            "ticks": "",
            "zerolinecolor": "white"
           },
           "zaxis": {
            "backgroundcolor": "#E5ECF6",
            "gridcolor": "white",
            "gridwidth": 2,
            "linecolor": "white",
            "showbackground": true,
            "ticks": "",
            "zerolinecolor": "white"
           }
          },
          "shapedefaults": {
           "line": {
            "color": "#2a3f5f"
           }
          },
          "ternary": {
           "aaxis": {
            "gridcolor": "white",
            "linecolor": "white",
            "ticks": ""
           },
           "baxis": {
            "gridcolor": "white",
            "linecolor": "white",
            "ticks": ""
           },
           "bgcolor": "#E5ECF6",
           "caxis": {
            "gridcolor": "white",
            "linecolor": "white",
            "ticks": ""
           }
          },
          "title": {
           "x": 0.05
          },
          "xaxis": {
           "automargin": true,
           "gridcolor": "white",
           "linecolor": "white",
           "ticks": "",
           "title": {
            "standoff": 15
           },
           "zerolinecolor": "white",
           "zerolinewidth": 2
          },
          "yaxis": {
           "automargin": true,
           "gridcolor": "white",
           "linecolor": "white",
           "ticks": "",
           "title": {
            "standoff": 15
           },
           "zerolinecolor": "white",
           "zerolinewidth": 2
          }
         }
        }
       }
      },
      "text/html": [
       "<div>                            <div id=\"667c6cb6-b9b2-40eb-b28a-c8b92906cc8f\" class=\"plotly-graph-div\" style=\"height:525px; width:100%;\"></div>            <script type=\"text/javascript\">                require([\"plotly\"], function(Plotly) {                    window.PLOTLYENV=window.PLOTLYENV || {};                                    if (document.getElementById(\"667c6cb6-b9b2-40eb-b28a-c8b92906cc8f\")) {                    Plotly.newPlot(                        \"667c6cb6-b9b2-40eb-b28a-c8b92906cc8f\",                        [{\"colorbar\": {\"title\": {\"text\": \"Colorbar Title\"}}, \"colorscale\": [[0.0, \"rgb(12,51,131)\"], [0.25, \"rgb(10,136,186)\"], [0.5, \"rgb(242,211,56)\"], [0.75, \"rgb(242,143,56)\"], [1.0, \"rgb(217,30,30)\"]], \"locationmode\": \"USA-states\", \"locations\": [\"AZ\", \"CA\", \"NY\"], \"text\": [\"text1\", \"text2\", \"text3\"], \"type\": \"choropleth\", \"z\": [1.0, 2.0, 3.0]}],                        {\"geo\": {\"scope\": \"usa\"}, \"template\": {\"data\": {\"bar\": [{\"error_x\": {\"color\": \"#2a3f5f\"}, \"error_y\": {\"color\": \"#2a3f5f\"}, \"marker\": {\"line\": {\"color\": \"#E5ECF6\", \"width\": 0.5}}, \"type\": \"bar\"}], \"barpolar\": [{\"marker\": {\"line\": {\"color\": \"#E5ECF6\", \"width\": 0.5}}, \"type\": \"barpolar\"}], \"carpet\": [{\"aaxis\": {\"endlinecolor\": \"#2a3f5f\", \"gridcolor\": \"white\", \"linecolor\": \"white\", \"minorgridcolor\": \"white\", \"startlinecolor\": \"#2a3f5f\"}, \"baxis\": {\"endlinecolor\": \"#2a3f5f\", \"gridcolor\": \"white\", \"linecolor\": \"white\", \"minorgridcolor\": \"white\", \"startlinecolor\": \"#2a3f5f\"}, \"type\": \"carpet\"}], \"choropleth\": [{\"colorbar\": {\"outlinewidth\": 0, \"ticks\": \"\"}, \"type\": \"choropleth\"}], \"contour\": [{\"colorbar\": {\"outlinewidth\": 0, \"ticks\": \"\"}, \"colorscale\": [[0.0, \"#0d0887\"], [0.1111111111111111, \"#46039f\"], [0.2222222222222222, \"#7201a8\"], [0.3333333333333333, \"#9c179e\"], [0.4444444444444444, \"#bd3786\"], [0.5555555555555556, \"#d8576b\"], [0.6666666666666666, \"#ed7953\"], [0.7777777777777778, \"#fb9f3a\"], [0.8888888888888888, \"#fdca26\"], [1.0, \"#f0f921\"]], \"type\": \"contour\"}], \"contourcarpet\": [{\"colorbar\": {\"outlinewidth\": 0, \"ticks\": \"\"}, \"type\": \"contourcarpet\"}], \"heatmap\": [{\"colorbar\": {\"outlinewidth\": 0, \"ticks\": \"\"}, \"colorscale\": [[0.0, \"#0d0887\"], [0.1111111111111111, \"#46039f\"], [0.2222222222222222, \"#7201a8\"], [0.3333333333333333, \"#9c179e\"], [0.4444444444444444, \"#bd3786\"], [0.5555555555555556, \"#d8576b\"], [0.6666666666666666, \"#ed7953\"], [0.7777777777777778, \"#fb9f3a\"], [0.8888888888888888, \"#fdca26\"], [1.0, \"#f0f921\"]], \"type\": \"heatmap\"}], \"heatmapgl\": [{\"colorbar\": {\"outlinewidth\": 0, \"ticks\": \"\"}, \"colorscale\": [[0.0, \"#0d0887\"], [0.1111111111111111, \"#46039f\"], [0.2222222222222222, \"#7201a8\"], [0.3333333333333333, \"#9c179e\"], [0.4444444444444444, \"#bd3786\"], [0.5555555555555556, \"#d8576b\"], [0.6666666666666666, \"#ed7953\"], [0.7777777777777778, \"#fb9f3a\"], [0.8888888888888888, \"#fdca26\"], [1.0, \"#f0f921\"]], \"type\": \"heatmapgl\"}], \"histogram\": [{\"marker\": {\"colorbar\": {\"outlinewidth\": 0, \"ticks\": \"\"}}, \"type\": \"histogram\"}], \"histogram2d\": [{\"colorbar\": {\"outlinewidth\": 0, \"ticks\": \"\"}, \"colorscale\": [[0.0, \"#0d0887\"], [0.1111111111111111, \"#46039f\"], [0.2222222222222222, \"#7201a8\"], [0.3333333333333333, \"#9c179e\"], [0.4444444444444444, \"#bd3786\"], [0.5555555555555556, \"#d8576b\"], [0.6666666666666666, \"#ed7953\"], [0.7777777777777778, \"#fb9f3a\"], [0.8888888888888888, \"#fdca26\"], [1.0, \"#f0f921\"]], \"type\": \"histogram2d\"}], \"histogram2dcontour\": [{\"colorbar\": {\"outlinewidth\": 0, \"ticks\": \"\"}, \"colorscale\": [[0.0, \"#0d0887\"], [0.1111111111111111, \"#46039f\"], [0.2222222222222222, \"#7201a8\"], [0.3333333333333333, \"#9c179e\"], [0.4444444444444444, \"#bd3786\"], [0.5555555555555556, \"#d8576b\"], [0.6666666666666666, \"#ed7953\"], [0.7777777777777778, \"#fb9f3a\"], [0.8888888888888888, \"#fdca26\"], [1.0, \"#f0f921\"]], \"type\": \"histogram2dcontour\"}], \"mesh3d\": [{\"colorbar\": {\"outlinewidth\": 0, \"ticks\": \"\"}, \"type\": \"mesh3d\"}], \"parcoords\": [{\"line\": {\"colorbar\": {\"outlinewidth\": 0, \"ticks\": \"\"}}, \"type\": \"parcoords\"}], \"pie\": [{\"automargin\": true, \"type\": \"pie\"}], \"scatter\": [{\"marker\": {\"colorbar\": {\"outlinewidth\": 0, \"ticks\": \"\"}}, \"type\": \"scatter\"}], \"scatter3d\": [{\"line\": {\"colorbar\": {\"outlinewidth\": 0, \"ticks\": \"\"}}, \"marker\": {\"colorbar\": {\"outlinewidth\": 0, \"ticks\": \"\"}}, \"type\": \"scatter3d\"}], \"scattercarpet\": [{\"marker\": {\"colorbar\": {\"outlinewidth\": 0, \"ticks\": \"\"}}, \"type\": \"scattercarpet\"}], \"scattergeo\": [{\"marker\": {\"colorbar\": {\"outlinewidth\": 0, \"ticks\": \"\"}}, \"type\": \"scattergeo\"}], \"scattergl\": [{\"marker\": {\"colorbar\": {\"outlinewidth\": 0, \"ticks\": \"\"}}, \"type\": \"scattergl\"}], \"scattermapbox\": [{\"marker\": {\"colorbar\": {\"outlinewidth\": 0, \"ticks\": \"\"}}, \"type\": \"scattermapbox\"}], \"scatterpolar\": [{\"marker\": {\"colorbar\": {\"outlinewidth\": 0, \"ticks\": \"\"}}, \"type\": \"scatterpolar\"}], \"scatterpolargl\": [{\"marker\": {\"colorbar\": {\"outlinewidth\": 0, \"ticks\": \"\"}}, \"type\": \"scatterpolargl\"}], \"scatterternary\": [{\"marker\": {\"colorbar\": {\"outlinewidth\": 0, \"ticks\": \"\"}}, \"type\": \"scatterternary\"}], \"surface\": [{\"colorbar\": {\"outlinewidth\": 0, \"ticks\": \"\"}, \"colorscale\": [[0.0, \"#0d0887\"], [0.1111111111111111, \"#46039f\"], [0.2222222222222222, \"#7201a8\"], [0.3333333333333333, \"#9c179e\"], [0.4444444444444444, \"#bd3786\"], [0.5555555555555556, \"#d8576b\"], [0.6666666666666666, \"#ed7953\"], [0.7777777777777778, \"#fb9f3a\"], [0.8888888888888888, \"#fdca26\"], [1.0, \"#f0f921\"]], \"type\": \"surface\"}], \"table\": [{\"cells\": {\"fill\": {\"color\": \"#EBF0F8\"}, \"line\": {\"color\": \"white\"}}, \"header\": {\"fill\": {\"color\": \"#C8D4E3\"}, \"line\": {\"color\": \"white\"}}, \"type\": \"table\"}]}, \"layout\": {\"annotationdefaults\": {\"arrowcolor\": \"#2a3f5f\", \"arrowhead\": 0, \"arrowwidth\": 1}, \"coloraxis\": {\"colorbar\": {\"outlinewidth\": 0, \"ticks\": \"\"}}, \"colorscale\": {\"diverging\": [[0, \"#8e0152\"], [0.1, \"#c51b7d\"], [0.2, \"#de77ae\"], [0.3, \"#f1b6da\"], [0.4, \"#fde0ef\"], [0.5, \"#f7f7f7\"], [0.6, \"#e6f5d0\"], [0.7, \"#b8e186\"], [0.8, \"#7fbc41\"], [0.9, \"#4d9221\"], [1, \"#276419\"]], \"sequential\": [[0.0, \"#0d0887\"], [0.1111111111111111, \"#46039f\"], [0.2222222222222222, \"#7201a8\"], [0.3333333333333333, \"#9c179e\"], [0.4444444444444444, \"#bd3786\"], [0.5555555555555556, \"#d8576b\"], [0.6666666666666666, \"#ed7953\"], [0.7777777777777778, \"#fb9f3a\"], [0.8888888888888888, \"#fdca26\"], [1.0, \"#f0f921\"]], \"sequentialminus\": [[0.0, \"#0d0887\"], [0.1111111111111111, \"#46039f\"], [0.2222222222222222, \"#7201a8\"], [0.3333333333333333, \"#9c179e\"], [0.4444444444444444, \"#bd3786\"], [0.5555555555555556, \"#d8576b\"], [0.6666666666666666, \"#ed7953\"], [0.7777777777777778, \"#fb9f3a\"], [0.8888888888888888, \"#fdca26\"], [1.0, \"#f0f921\"]]}, \"colorway\": [\"#636efa\", \"#EF553B\", \"#00cc96\", \"#ab63fa\", \"#FFA15A\", \"#19d3f3\", \"#FF6692\", \"#B6E880\", \"#FF97FF\", \"#FECB52\"], \"font\": {\"color\": \"#2a3f5f\"}, \"geo\": {\"bgcolor\": \"white\", \"lakecolor\": \"white\", \"landcolor\": \"#E5ECF6\", \"showlakes\": true, \"showland\": true, \"subunitcolor\": \"white\"}, \"hoverlabel\": {\"align\": \"left\"}, \"hovermode\": \"closest\", \"mapbox\": {\"style\": \"light\"}, \"paper_bgcolor\": \"white\", \"plot_bgcolor\": \"#E5ECF6\", \"polar\": {\"angularaxis\": {\"gridcolor\": \"white\", \"linecolor\": \"white\", \"ticks\": \"\"}, \"bgcolor\": \"#E5ECF6\", \"radialaxis\": {\"gridcolor\": \"white\", \"linecolor\": \"white\", \"ticks\": \"\"}}, \"scene\": {\"xaxis\": {\"backgroundcolor\": \"#E5ECF6\", \"gridcolor\": \"white\", \"gridwidth\": 2, \"linecolor\": \"white\", \"showbackground\": true, \"ticks\": \"\", \"zerolinecolor\": \"white\"}, \"yaxis\": {\"backgroundcolor\": \"#E5ECF6\", \"gridcolor\": \"white\", \"gridwidth\": 2, \"linecolor\": \"white\", \"showbackground\": true, \"ticks\": \"\", \"zerolinecolor\": \"white\"}, \"zaxis\": {\"backgroundcolor\": \"#E5ECF6\", \"gridcolor\": \"white\", \"gridwidth\": 2, \"linecolor\": \"white\", \"showbackground\": true, \"ticks\": \"\", \"zerolinecolor\": \"white\"}}, \"shapedefaults\": {\"line\": {\"color\": \"#2a3f5f\"}}, \"ternary\": {\"aaxis\": {\"gridcolor\": \"white\", \"linecolor\": \"white\", \"ticks\": \"\"}, \"baxis\": {\"gridcolor\": \"white\", \"linecolor\": \"white\", \"ticks\": \"\"}, \"bgcolor\": \"#E5ECF6\", \"caxis\": {\"gridcolor\": \"white\", \"linecolor\": \"white\", \"ticks\": \"\"}}, \"title\": {\"x\": 0.05}, \"xaxis\": {\"automargin\": true, \"gridcolor\": \"white\", \"linecolor\": \"white\", \"ticks\": \"\", \"title\": {\"standoff\": 15}, \"zerolinecolor\": \"white\", \"zerolinewidth\": 2}, \"yaxis\": {\"automargin\": true, \"gridcolor\": \"white\", \"linecolor\": \"white\", \"ticks\": \"\", \"title\": {\"standoff\": 15}, \"zerolinecolor\": \"white\", \"zerolinewidth\": 2}}}},                        {\"responsive\": true}                    ).then(function(){\n",
       "                            \n",
       "var gd = document.getElementById('667c6cb6-b9b2-40eb-b28a-c8b92906cc8f');\n",
       "var x = new MutationObserver(function (mutations, observer) {{\n",
       "        var display = window.getComputedStyle(gd).display;\n",
       "        if (!display || display === 'none') {{\n",
       "            console.log([gd, 'removed!']);\n",
       "            Plotly.purge(gd);\n",
       "            observer.disconnect();\n",
       "        }}\n",
       "}});\n",
       "\n",
       "// Listen for the removal of the full notebook cells\n",
       "var notebookContainer = gd.closest('#notebook-container');\n",
       "if (notebookContainer) {{\n",
       "    x.observe(notebookContainer, {childList: true});\n",
       "}}\n",
       "\n",
       "// Listen for the clearing of the current output cell\n",
       "var outputEl = gd.closest('.output');\n",
       "if (outputEl) {{\n",
       "    x.observe(outputEl, {childList: true});\n",
       "}}\n",
       "\n",
       "                        })                };                });            </script>        </div>"
      ]
     },
     "metadata": {},
     "output_type": "display_data"
    }
   ],
   "source": [
    "iplot(choromap)"
   ]
  },
  {
   "cell_type": "markdown",
   "metadata": {},
   "source": [
    "# Real Data US Map Choropleth"
   ]
  },
  {
   "cell_type": "markdown",
   "metadata": {},
   "source": [
    "** Import the 2012_Election_Data csv file using pandas"
   ]
  },
  {
   "cell_type": "code",
   "execution_count": 39,
   "metadata": {},
   "outputs": [],
   "source": [
    "usdf = pd.read_csv('2012_Election_Data.csv')"
   ]
  },
  {
   "cell_type": "code",
   "execution_count": null,
   "metadata": {},
   "outputs": [],
   "source": []
  }
 ],
 "metadata": {
  "kernelspec": {
   "display_name": "Python 3",
   "language": "python",
   "name": "python3"
  },
  "language_info": {
   "codemirror_mode": {
    "name": "ipython",
    "version": 3
   },
   "file_extension": ".py",
   "mimetype": "text/x-python",
   "name": "python",
   "nbconvert_exporter": "python",
   "pygments_lexer": "ipython3",
   "version": "3.7.4"
  }
 },
 "nbformat": 4,
 "nbformat_minor": 2
}
